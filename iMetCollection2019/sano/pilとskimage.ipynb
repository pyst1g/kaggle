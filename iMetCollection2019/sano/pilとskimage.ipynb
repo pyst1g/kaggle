{
 "cells": [
  {
   "cell_type": "code",
   "execution_count": 701,
   "metadata": {},
   "outputs": [
    {
     "name": "stdout",
     "output_type": "stream",
     "text": [
      "device cuda\n",
      "log_dir =  runs/a\n",
      "weight save path =  ./model_weight/a/a\n"
     ]
    },
    {
     "data": {
      "text/plain": [
       "<torch._C.Generator at 0x7fe1ed889c30>"
      ]
     },
     "execution_count": 701,
     "metadata": {},
     "output_type": "execute_result"
    }
   ],
   "source": [
    "import os\n",
    "# os.environ['CUDA_LAUNCH_BLOCKING'] = '1'\n",
    "from copy import deepcopy\n",
    "import cv2\n",
    "import matplotlib.pyplot as plt\n",
    "import numpy as np\n",
    "import os\n",
    "import pandas as pd\n",
    "from pathlib import Path\n",
    "import PIL\n",
    "from PIL import Image\n",
    "import skimage\n",
    "from skimage import io\n",
    "from sklearn.metrics import confusion_matrix, f1_score, fbeta_score\n",
    "import sys\n",
    "import tensorflow as tf\n",
    "import time\n",
    "import torch\n",
    "import torch.nn as nn\n",
    "import torch.nn.functional as F\n",
    "import torch.nn.init as init\n",
    "import torch.optim as optim\n",
    "import torch.utils.data as data\n",
    "from torchvision import models\n",
    "from torchvision.datasets import MNIST, FashionMNIST, CIFAR10\n",
    "import torchvision.transforms as transforms\n",
    "from tensorboardX import SummaryWriter\n",
    "\n",
    "\n",
    "use_model = ''\n",
    "this_file = ''\n",
    "\n",
    "if use_model == '': use_model = 'a'\n",
    "if this_file == '': this_file = 'a'\n",
    "\n",
    "\n",
    "# data_path = \"~/Datasets/iMet_Colelction_2019\"\n",
    "# load_path = \"../input/\"\n",
    "load_path = \"/home/sano/Datasets/iMet_Colelction_2019/input/\"\n",
    "# load_path = Path(\"~/Datasets/iMet_Colelction_2019/input\")\n",
    "\n",
    "log_dir = 'runs/' + this_file\n",
    "weight_path = './model_weight/' + use_model + '/' + this_file\n",
    "\n",
    "\n",
    "device = torch.device(\"cuda\" if torch.cuda.is_available() else \"cpu\")\n",
    "print(\"device\", device)\n",
    "\n",
    "print('log_dir = ', log_dir)\n",
    "print('weight save path = ', weight_path)\n",
    "# 複数GPU使用宣言\n",
    "# if device == 'cuda:1':\n",
    "#     net = torch.nn.DataParallel(net) # make parallel\n",
    "#     cudnn.benchmark = True\n",
    "\n",
    "\n",
    "torch.manual_seed(823)"
   ]
  },
  {
   "cell_type": "code",
   "execution_count": 2,
   "metadata": {},
   "outputs": [],
   "source": [
    "batch_size = 10\n",
    "num_classes = 1103\n",
    "epochs = 50\n",
    "extract_attribute = 5 # 予測した上位何個を属性として出力するか"
   ]
  },
  {
   "cell_type": "code",
   "execution_count": 3,
   "metadata": {},
   "outputs": [],
   "source": [
    "class FocalLoss(nn.Module):\n",
    "    def __init__(self, alpha=1, gamma=2, logits=False, reduce=True):\n",
    "        super(FocalLoss, self).__init__()\n",
    "        self.alpha = alpha\n",
    "        self.gamma = gamma\n",
    "        self.logits = logits\n",
    "        self.reduce = reduce\n",
    "\n",
    "    def forward(self, inputs, targets):\n",
    "        if self.logits:\n",
    "            BCE_loss = F.binary_cross_entropy_with_logits(inputs, targets, reduce=False)\n",
    "        else:\n",
    "            BCE_loss = F.binary_cross_entropy(inputs, targets, reduce=False)\n",
    "        pt = torch.exp(-BCE_loss)\n",
    "        F_loss = self.alpha * (1-pt)**self.gamma * BCE_loss\n",
    "\n",
    "        if self.reduce:\n",
    "            return torch.mean(F_loss)\n",
    "        else:\n",
    "            return F_loss"
   ]
  },
  {
   "cell_type": "code",
   "execution_count": 40,
   "metadata": {},
   "outputs": [],
   "source": [
    "transform = transforms.Compose([\n",
    "                            transforms.Resize((384,384)),\n",
    "                            transforms.ToTensor(),\n",
    "                            ])\n",
    "a = Image.open(load_path + 'train/1000483014d91860.png')\n",
    "b =  io.imread(load_path + 'train/1000483014d91860.png')\n",
    "c = Image.fromarray(b)"
   ]
  },
  {
   "cell_type": "code",
   "execution_count": 9,
   "metadata": {},
   "outputs": [],
   "source": [
    "class iMetsDataset(data.Dataset):\n",
    " \n",
    "    def __init__(self, df, root_dir, transform=None, mode='train'):\n",
    "        \"\"\"\n",
    "        Args:\n",
    "            df (dataframe): ファイル名がindex、Nhot_LabelsカラムにNhot化したラベルを格納したDataframe\n",
    "            root_dir (string): 対象の画像ファイルが入っているフォルダ\n",
    "            transform (callable, optional): 施す変換\n",
    "        \"\"\"\n",
    "        self.df = df\n",
    "        self.root_dir = root_dir\n",
    "        self.transform = transform\n",
    "        self.mode = mode\n",
    "        print('a')\n",
    "    def __len__(self):\n",
    "        return len(self.df)\n",
    " \n",
    "    def __getitem__(self, idx):\n",
    "#         if type(idx) == torch.Tensor:\n",
    "#             idx = idx.item()\n",
    "        s = time.time()\n",
    "        img_name = os.path.join(self.root_dir, self.df.index[idx])\n",
    "        image = Image.fromarray(io.imread(img_name))\n",
    "        global s1,s2\n",
    "        s1 += time.time()-s\n",
    "        s = time.time()\n",
    "        if self.transform:\n",
    "            image = self.transform(image)\n",
    "        s2 += time.time()-s\n",
    "        if self.mode == 'train':\n",
    "            label = self.df.iloc[idx].Nhot_Labels.astype('float32')\n",
    "            return image, label\n",
    "        else:\n",
    "            return image"
   ]
  },
  {
   "cell_type": "code",
   "execution_count": 50,
   "metadata": {},
   "outputs": [
    {
     "name": "stdout",
     "output_type": "stream",
     "text": [
      "CPU times: user 3min 19s, sys: 288 ms, total: 3min 19s\n",
      "Wall time: 8.86 s\n"
     ]
    }
   ],
   "source": [
    "%%time\n",
    "for i,e in enumerate(submit_df.index[:1000]):\n",
    "    a = Image.open(load_path + 'test/' + e)\n",
    "    aa = transform(a)"
   ]
  },
  {
   "cell_type": "code",
   "execution_count": 672,
   "metadata": {},
   "outputs": [
    {
     "name": "stdout",
     "output_type": "stream",
     "text": [
      "0.06934142112731934\n",
      "0.3165147304534912\n",
      "0.38585615158081055\n",
      "CPU times: user 9.04 s, sys: 12 ms, total: 9.05 s\n",
      "Wall time: 387 ms\n"
     ]
    }
   ],
   "source": [
    "%%time\n",
    "\n",
    "s1 = 0\n",
    "s2 = 0\n",
    "for i,e in enumerate(submit_df.index[:100]):\n",
    "    s = time.time()\n",
    "    a = Image.open(load_path + 'test/' + e)\n",
    "    s1 += time.time()-s \n",
    "    s = time.time()\n",
    "    bb = transform(b)\n",
    "    s2 += time.time()-s\n",
    "print(s1)\n",
    "print(s2)\n",
    "print(s1+s2)"
   ]
  },
  {
   "cell_type": "code",
   "execution_count": 678,
   "metadata": {},
   "outputs": [
    {
     "data": {
      "text/plain": [
       "'/home/sano/Datasets/iMet_Colelction_2019/input/test/10023b2cc4ed5f68.png'"
      ]
     },
     "execution_count": 678,
     "metadata": {},
     "output_type": "execute_result"
    }
   ],
   "source": [
    "'/home/sano/Datasets/iMet_Colelction_2019/input/test/' + e"
   ]
  },
  {
   "cell_type": "code",
   "execution_count": 740,
   "metadata": {},
   "outputs": [
    {
     "data": {
      "image/png": "[encoded data removed]",
      "text/plain": [
       "<PIL.Image.Image image mode=RGB size=200x200 at 0x7FE127E13A58>"
      ]
     },
     "execution_count": 740,
     "metadata": {},
     "output_type": "execute_result"
    }
   ],
   "source": [
    "transforms.Resize((200,200))(a)"
   ]
  },
  {
   "cell_type": "code",
   "execution_count": 735,
   "metadata": {},
   "outputs": [
    {
     "data": {
      "text/plain": [
       "tensor([[[0.6471, 0.6510, 0.6549,  ..., 0.7216, 0.7176, 0.7137],\n",
       "         [0.6471, 0.6510, 0.6549,  ..., 0.7216, 0.7059, 0.7137],\n",
       "         [0.6471, 0.6471, 0.6549,  ..., 0.7176, 0.7176, 0.7176],\n",
       "         ...,\n",
       "         [0.6667, 0.6745, 0.6667,  ..., 0.7490, 0.7412, 0.7412],\n",
       "         [0.6667, 0.6745, 0.6667,  ..., 0.7490, 0.7529, 0.7529],\n",
       "         [0.6706, 0.6667, 0.6706,  ..., 0.7490, 0.7412, 0.7373]],\n",
       "\n",
       "        [[0.6078, 0.6118, 0.6157,  ..., 0.6784, 0.6784, 0.6745],\n",
       "         [0.6078, 0.6118, 0.6157,  ..., 0.6784, 0.6627, 0.6745],\n",
       "         [0.6196, 0.6196, 0.6157,  ..., 0.6745, 0.6745, 0.6745],\n",
       "         ...,\n",
       "         [0.6314, 0.6392, 0.6314,  ..., 0.7098, 0.7020, 0.7020],\n",
       "         [0.6275, 0.6392, 0.6314,  ..., 0.7098, 0.7137, 0.7137],\n",
       "         [0.6314, 0.6314, 0.6353,  ..., 0.7098, 0.7020, 0.6980]],\n",
       "\n",
       "        [[0.5098, 0.5137, 0.5176,  ..., 0.5922, 0.5804, 0.5765],\n",
       "         [0.5098, 0.5137, 0.5176,  ..., 0.5922, 0.5765, 0.5765],\n",
       "         [0.5176, 0.5176, 0.5176,  ..., 0.5882, 0.5882, 0.5882],\n",
       "         ...,\n",
       "         [0.5176, 0.5255, 0.5176,  ..., 0.6039, 0.6039, 0.6039],\n",
       "         [0.5216, 0.5255, 0.5176,  ..., 0.6118, 0.6157, 0.6157],\n",
       "         [0.5255, 0.5176, 0.5216,  ..., 0.6118, 0.6039, 0.6000]]])"
      ]
     },
     "execution_count": 735,
     "metadata": {},
     "output_type": "execute_result"
    }
   ],
   "source": [
    "transforms.ToTensor()(a)"
   ]
  },
  {
   "cell_type": "code",
   "execution_count": 727,
   "metadata": {},
   "outputs": [
    {
     "name": "stdout",
     "output_type": "stream",
     "text": [
      "pil_open  = 0.02021956443786621\n",
      "pil_trans = 0.13776206970214844\n",
      "pil_total = 0.15798163414001465\n",
      "\n",
      "io_open   = 0.11576581001281738\n",
      "io_trans  = 0.046131134033203125\n",
      "io_total  = 0.1618969440460205\n",
      "CPU times: user 284 ms, sys: 16 ms, total: 300 ms\n",
      "Wall time: 321 ms\n"
     ]
    }
   ],
   "source": [
    "%%time\n",
    "\n",
    "transform = transforms.Compose([\n",
    "                            transforms.Resize((384,384)),\n",
    "#                             transforms.ToTensor(),\n",
    "                            ])\n",
    "pil_open = 0\n",
    "pil_trans = 0\n",
    "io_open = 0\n",
    "io_trans = 0\n",
    "for i,file_name in enumerate(submit_df.index[:20]):\n",
    "    s = time.time()\n",
    "    a = PIL.Image.open('/home/sano/Datasets/iMet_Colelction_2019/input/test/' + file_name)\n",
    "#     a = a.convert('RGB')\n",
    "    pil_open += time.time()-s \n",
    "    \n",
    "    s = time.time()\n",
    "    aa = transform(a)\n",
    "    pil_trans += time.time()-s\n",
    "    \n",
    "    s = time.time()\n",
    "    b = PIL.Image.fromarray(skimage.io.imread('/home/sano/Datasets/iMet_Colelction_2019/input/test/' + file_name))\n",
    "    io_open += time.time()-s \n",
    "\n",
    "    s = time.time()\n",
    "    bb = transform(b)\n",
    "    io_trans += time.time()-s\n",
    "    \n",
    "print('pil_open  =', pil_open)\n",
    "print('pil_trans =', pil_trans)\n",
    "print('pil_total =', pil_open + pil_trans)\n",
    "print()\n",
    "print('io_open   =', io_open)\n",
    "print('io_trans  =', io_trans)\n",
    "print('io_total  =', io_open + io_trans)"
   ]
  },
  {
   "cell_type": "code",
   "execution_count": 664,
   "metadata": {},
   "outputs": [
    {
     "name": "stdout",
     "output_type": "stream",
     "text": [
      "0.6230878829956055\n",
      "0.2756497859954834\n",
      "0.8987376689910889\n",
      "CPU times: user 20.1 s, sys: 12 ms, total: 20.1 s\n",
      "Wall time: 900 ms\n"
     ]
    }
   ],
   "source": [
    "%%time\n",
    "s1 = 0\n",
    "s2 = 0\n",
    "for i,e in enumerate(submit_df.index[:100]):\n",
    "    s = time.time()\n",
    "    b = Image.fromarray(io.imread(load_path + 'test/' + e))\n",
    "    s1 += time.time()-s \n",
    "    s = time.time()\n",
    "    bb = transform(b)\n",
    "    s2 += time.time()-s\n",
    "print(s1)\n",
    "print(s2)\n",
    "print(s1+s2)"
   ]
  },
  {
   "cell_type": "code",
   "execution_count": 608,
   "metadata": {},
   "outputs": [
    {
     "data": {
      "text/plain": [
       "0.0035190582275390625"
      ]
     },
     "execution_count": 608,
     "metadata": {},
     "output_type": "execute_result"
    }
   ],
   "source": [
    "s = time.time()\n",
    "bb = transform(b)\n",
    "time.time()-s\n"
   ]
  },
  {
   "cell_type": "code",
   "execution_count": 60,
   "metadata": {},
   "outputs": [],
   "source": [
    "transform = transforms.Compose([\n",
    "                            transforms.Resize((384,384)),\n",
    "                            transforms.ToTensor(),\n",
    "                            ])\n",
    "a = Image.open(load_path + 'train/1000483014d91860.png')\n",
    "b =  io.imread(load_path + 'train/1000483014d91860.png')\n",
    "c = Image.fromarray(b)"
   ]
  },
  {
   "cell_type": "code",
   "execution_count": 82,
   "metadata": {},
   "outputs": [
    {
     "name": "stdout",
     "output_type": "stream",
     "text": [
      "CPU times: user 45 s, sys: 140 ms, total: 45.2 s\n",
      "Wall time: 1.89 s\n"
     ]
    }
   ],
   "source": [
    "%%time\n",
    "for i in range(1000):\n",
    "    transform(c)"
   ]
  },
  {
   "cell_type": "code",
   "execution_count": 83,
   "metadata": {},
   "outputs": [
    {
     "name": "stdout",
     "output_type": "stream",
     "text": [
      "CPU times: user 43.7 s, sys: 4 ms, total: 43.7 s\n",
      "Wall time: 1.82 s\n"
     ]
    }
   ],
   "source": [
    "%%time\n",
    "for i in range(1000):\n",
    "    transform(a)"
   ]
  },
  {
   "cell_type": "code",
   "execution_count": 12,
   "metadata": {
    "scrolled": true
   },
   "outputs": [
    {
     "name": "stdout",
     "output_type": "stream",
     "text": [
      "CPU times: user 2min 26s, sys: 264 ms, total: 2min 27s\n",
      "Wall time: 6.44 s\n"
     ]
    }
   ],
   "source": [
    "%%time \n",
    "s1 = 0\n",
    "s2 = 0\n",
    "for i in range(1000):\n",
    "    a = ds_test[i]"
   ]
  },
  {
   "cell_type": "code",
   "execution_count": 13,
   "metadata": {},
   "outputs": [
    {
     "name": "stdout",
     "output_type": "stream",
     "text": [
      "6.06267237663269\n",
      "0.36781978607177734\n",
      "6.430492162704468\n"
     ]
    }
   ],
   "source": [
    "print(s1)\n",
    "print(s2)\n",
    "print(s1+s2)"
   ]
  },
  {
   "cell_type": "code",
   "execution_count": 35,
   "metadata": {},
   "outputs": [
    {
     "name": "stdout",
     "output_type": "stream",
     "text": [
      "CPU times: user 3min 12s, sys: 244 ms, total: 3min 12s\n",
      "Wall time: 8.74 s\n"
     ]
    }
   ],
   "source": [
    "%%time \n",
    "t1 = 0\n",
    "t2 = 0\n",
    "for i in range(1000):\n",
    "    a = ds_test[i]"
   ]
  },
  {
   "cell_type": "code",
   "execution_count": 36,
   "metadata": {},
   "outputs": [
    {
     "name": "stdout",
     "output_type": "stream",
     "text": [
      "1.2661550045013428\n",
      "7.4652934074401855\n",
      "8.731448411941528\n"
     ]
    }
   ],
   "source": [
    "print(t1)\n",
    "print(t2)\n",
    "print(t1+t2)"
   ]
  },
  {
   "cell_type": "code",
   "execution_count": 742,
   "metadata": {},
   "outputs": [],
   "source": [
    "class iMetsDataset(data.Dataset):\n",
    " \n",
    "    def __init__(self, df, root_dir, transform=None, mode='train'):\n",
    "        \"\"\"\n",
    "        Args:\n",
    "            df (dataframe): ファイル名がindex、Nhot_LabelsカラムにNhot化したラベルを格納したDataframe\n",
    "            root_dir (string): 対象の画像ファイルが入っているフォルダ\n",
    "            transform (callable, optional): 施す変換\n",
    "        \"\"\"\n",
    "        self.df = df\n",
    "        self.root_dir = root_dir\n",
    "        self.transform = transform\n",
    "        self.mode = mode\n",
    " \n",
    "    def __len__(self):\n",
    "        return len(self.df)\n",
    " \n",
    "    def __getitem__(self, idx):\n",
    "#         if type(idx) == torch.Tensor:\n",
    "#             idx = idx.item()\n",
    "        t = time.time()\n",
    "        img_name = os.path.join(self.root_dir, self.df.index[idx])\n",
    "        image = Image.open(img_name)\n",
    "        global t1,t2\n",
    "        t1 += time.time()-t\n",
    "        t = time.time()\n",
    "        if self.transform:\n",
    "            image = self.transform(image)\n",
    "        t2 += time.time()-t\n",
    "        if self.mode == 'train':\n",
    "            label = self.df.iloc[idx].Nhot_Labels.astype('float32')\n",
    "            return image, label\n",
    "        else:\n",
    "            return image\n",
    "    \n",
    "def Nhot_encoding(arr, l):\n",
    "    \"\"\"\n",
    "    Nhotエンコーディングを行う\n",
    "\n",
    "    Parameters\n",
    "    ----------\n",
    "    arr : ndarray\n",
    "        ラベル\n",
    "    l : int\n",
    "        総ラベル数\n",
    "    \"\"\"\n",
    "    if arr.ndim == 1:\n",
    "        ret = np.zeros(l,dtype='int')\n",
    "        ret[arr] = 1\n",
    "        return ret\n",
    "    else:\n",
    "        lst = list()\n",
    "        for i,_ in enumerate(arr):\n",
    "            lst.extend([i] * arr.shape[1])\n",
    "            \n",
    "        ret = np.zeros((arr.shape[0],l),dtype='int')\n",
    "        ret[lst,arr.flatten()] = 1\n",
    "        return ret"
   ]
  },
  {
   "cell_type": "markdown",
   "metadata": {},
   "source": [
    "データ呼び出し"
   ]
  },
  {
   "cell_type": "code",
   "execution_count": 743,
   "metadata": {},
   "outputs": [],
   "source": [
    "label_name = pd.read_csv(load_path + 'labels.csv')\n",
    "label_name = label_name.set_index(\"attribute_id\")\n",
    "submit_df = pd.read_csv(load_path + 'sample_submission.csv')\n",
    "submit_df[\"id\"] = submit_df[\"id\"].apply(lambda x: x + \".png\")\n",
    "submit_df = submit_df.set_index('id')\n",
    "test_size = len(submit_df)\n",
    "\n",
    "train_df = pd.read_csv(load_path + 'train.csv')\n",
    "train_size = len(train_df)\n",
    "train_df[\"attribute_ids\"] = train_df[\"attribute_ids\"].apply(lambda x: np.array([int(s) for s in x.split(\" \")]))\n",
    "train_df[\"Nhot_Labels\"] = train_df[\"attribute_ids\"].apply(lambda x: Nhot_encoding(x,1103))\n",
    "train_df[\"id\"] = train_df[\"id\"].apply(lambda x: x + \".png\")\n",
    "train_df = train_df.set_index('id')"
   ]
  },
  {
   "cell_type": "code",
   "execution_count": 747,
   "metadata": {},
   "outputs": [],
   "source": [
    "torch.manual_seed(823)\n",
    "np.random.seed(823)\n",
    "\n",
    "ds_allTrain = iMetsDataset(train_df,load_path+'train',\n",
    "#                             transform = transforms.Compose([\n",
    "#                             transforms.Resize((384,384)),\n",
    "#                             transforms.ToTensor(),\n",
    "#                             ]),\n",
    "                        )\n",
    "\n",
    "ds_train, ds_valid = data.random_split(ds_allTrain, [90000, 19237])\n",
    "\n",
    "ds_test = iMetsDataset(submit_df,load_path+'test',\n",
    "                            transform = transforms.Compose([\n",
    "                            transforms.Resize((384,384)),\n",
    "                            transforms.ToTensor(),\n",
    "                            ]),\n",
    "                           mode='test'\n",
    "                        )\n",
    "\n",
    "if type(ds_train.indices) == torch.Tensor:\n",
    "    ds_train.indices = ds_train.indices.numpy()\n",
    "    ds_valid.indices = ds_valid.indices.numpy()\n",
    "\n",
    "\n",
    "dataloader_train = data.DataLoader(dataset=ds_train,batch_size=batch_size,shuffle=True)\n",
    "dataloader_valid = data.DataLoader(dataset=ds_valid,batch_size=batch_size,shuffle=False)\n",
    "dataloader_test = data.DataLoader(dataset=ds_test,batch_size=batch_size,shuffle=False)"
   ]
  },
  {
   "cell_type": "markdown",
   "metadata": {},
   "source": [
    "モデルを定義"
   ]
  },
  {
   "cell_type": "code",
   "execution_count": 748,
   "metadata": {
    "scrolled": true
   },
   "outputs": [],
   "source": [
    "\n",
    "torch.manual_seed(823)\n",
    "np.random.seed(823)\n",
    "\n",
    "\n",
    "resnet152 = models.resnet152(pretrained=True)\n",
    "\n",
    "# Newly created modules have require_grad=True by default\n",
    "num_features = resnet152.fc.in_features\n",
    "features = list(resnet152.fc.children())[:-1] # Remove last layer\n",
    "features.extend([nn.Linear(num_features, num_classes)]) # Add our layer\n",
    "resnet152.fc = nn.Sequential(*features) # Replace the model classifier\n",
    "# load weight\n",
    "# resnet152.load_state_dict(torch.load('model_weight/resnet152/resnet152_FocalLoss_epoch7.pkl'))\n",
    "model = resnet152.to(device)"
   ]
  },
  {
   "cell_type": "code",
   "execution_count": 749,
   "metadata": {},
   "outputs": [],
   "source": [
    "# criterion = nn.BCELoss()\n",
    "criterion = FocalLoss(gamma=4, logits=False)\n",
    "optimizer = optim.Adam(model.parameters(), lr=0.0001)"
   ]
  },
  {
   "cell_type": "markdown",
   "metadata": {},
   "source": [
    "train,eval,predictの定義"
   ]
  },
  {
   "cell_type": "code",
   "execution_count": 750,
   "metadata": {},
   "outputs": [],
   "source": [
    "global_step = 0\n",
    "def train(epoch, writer):\n",
    "    start = time.time()\n",
    "    model.train()\n",
    "    steps = len(ds_train)//batch_size\n",
    "    for step, (images, labels) in enumerate(dataloader_train, 1):\n",
    "        global global_step\n",
    "        global_step += 1\n",
    "        images, labels = images.to(device), labels.to(device)\n",
    "        optimizer.zero_grad()\n",
    "        outputs = torch.sigmoid(model(images))\n",
    "        loss = criterion(outputs, labels)\n",
    "        loss.backward()\n",
    "        optimizer.step()\n",
    "\n",
    "        if step % 50 == 0:\n",
    "            elapsed_time = time.time() - start\n",
    "            print ('Epoch [%d/%d], Step [%d/%d], Loss: %.10f, time: %d分%d秒' % (epoch, epochs, step, steps, loss.item(), elapsed_time//60, int(elapsed_time % 60)))\n",
    "            writer.add_scalar('train/train_loss', loss.item() , global_step)\n",
    "\n",
    "            \n",
    "def eval(epoch, writer):\n",
    "    start = time.time()\n",
    "    model.eval()\n",
    "    fbeta_lst = list()\n",
    "    \n",
    "    with torch.no_grad():\n",
    "        for i, (images, labels) in enumerate(dataloader_valid):\n",
    "            images, labels = images.to(device), labels.to(device)\n",
    "            labels = labels.cpu().detach().numpy()\n",
    "            outputs = torch.sigmoid(model(images))\n",
    "            outputs = outputs.cpu().detach().numpy()\n",
    "            outputs_topN = np.argsort(outputs, axis=1)[:,-extract_attribute:]\n",
    "            outputs_topN_Nhots = Nhot_encoding(outputs_topN, num_classes)\n",
    "            fbeta_lst.append(fbeta_score(labels,outputs_topN_Nhots, beta=2 ,average='samples'))\n",
    "            \n",
    "    elapsed_time = time.time() - start\n",
    "    print(\"Val Acc : %.10f, time: %d分%d秒\" % (sum(fbeta_lst)/len(fbeta_lst), elapsed_time//60, int(elapsed_time % 60)))\n",
    "    writer.add_scalar('eval/val_acc', sum(fbeta_lst)*100/len(fbeta_lst), epoch)\n",
    "\n",
    "\n",
    "def predict():\n",
    "    pred_attr = list()\n",
    "    model.eval()\n",
    "    with torch.no_grad():\n",
    "        for i, images in enumerate(dataloader_test,1):\n",
    "            images = images.to(device)\n",
    "            outputs = torch.sigmoid(model(images))\n",
    "            outputs = outputs.cpu().detach().numpy()\n",
    "            outputs_topN = np.argsort(outputs, axis=1)[:,-extract_attribute:]\n",
    "            for attr in outputs_topN:\n",
    "                pred_attr.append(attr)\n",
    "            if i % 10 == 0:\n",
    "                sys.stdout.write('\\r[%d/%d]' % (min((i * batch_size),test_size), test_size))\n",
    "                sys.stdout.flush()\n",
    "    return pred_attr          "
   ]
  },
  {
   "cell_type": "code",
   "execution_count": 11,
   "metadata": {
    "scrolled": true
   },
   "outputs": [
    {
     "name": "stderr",
     "output_type": "stream",
     "text": [
      "/home/sano/.pyenv/versions/anaconda3-5.3.1/envs/pytorch/lib/python3.7/site-packages/torch/nn/_reduction.py:46: UserWarning: size_average and reduce args will be deprecated, please use reduction='none' instead.\n",
      "  warnings.warn(warning.format(ret))\n"
     ]
    },
    {
     "name": "stdout",
     "output_type": "stream",
     "text": [
      "Epoch [1/50], Step [50/4500], Loss: 0.0014912694, time: 0分22秒\n"
     ]
    },
    {
     "ename": "KeyboardInterrupt",
     "evalue": "",
     "output_type": "error",
     "traceback": [
      "\u001b[0;31m---------------------------------------------------------------------------\u001b[0m",
      "\u001b[0;31mKeyboardInterrupt\u001b[0m                         Traceback (most recent call last)",
      "\u001b[0;32m<ipython-input-11-2b4bc684397c>\u001b[0m in \u001b[0;36m<module>\u001b[0;34m\u001b[0m\n\u001b[1;32m      3\u001b[0m \u001b[0;34m\u001b[0m\u001b[0m\n\u001b[1;32m      4\u001b[0m \u001b[0;32mfor\u001b[0m \u001b[0mepoch\u001b[0m \u001b[0;32min\u001b[0m \u001b[0mrange\u001b[0m\u001b[0;34m(\u001b[0m\u001b[0;36m1\u001b[0m\u001b[0;34m,\u001b[0m \u001b[0mepochs\u001b[0m\u001b[0;34m+\u001b[0m\u001b[0;36m1\u001b[0m\u001b[0;34m)\u001b[0m\u001b[0;34m:\u001b[0m\u001b[0;34m\u001b[0m\u001b[0;34m\u001b[0m\u001b[0m\n\u001b[0;32m----> 5\u001b[0;31m     \u001b[0mtrain\u001b[0m\u001b[0;34m(\u001b[0m\u001b[0mepoch\u001b[0m\u001b[0;34m,\u001b[0m \u001b[0mwriter\u001b[0m\u001b[0;34m)\u001b[0m\u001b[0;34m\u001b[0m\u001b[0;34m\u001b[0m\u001b[0m\n\u001b[0m\u001b[1;32m      6\u001b[0m     \u001b[0meval\u001b[0m\u001b[0;34m(\u001b[0m\u001b[0mepoch\u001b[0m\u001b[0;34m,\u001b[0m \u001b[0mwriter\u001b[0m\u001b[0;34m)\u001b[0m\u001b[0;34m\u001b[0m\u001b[0;34m\u001b[0m\u001b[0m\n\u001b[1;32m      7\u001b[0m     \u001b[0mtorch\u001b[0m\u001b[0;34m.\u001b[0m\u001b[0msave\u001b[0m\u001b[0;34m(\u001b[0m\u001b[0mmodel\u001b[0m\u001b[0;34m.\u001b[0m\u001b[0mstate_dict\u001b[0m\u001b[0;34m(\u001b[0m\u001b[0;34m)\u001b[0m\u001b[0;34m,\u001b[0m \u001b[0mweight_path\u001b[0m \u001b[0;34m+\u001b[0m \u001b[0;34m'_epoch'\u001b[0m \u001b[0;34m+\u001b[0m \u001b[0mstr\u001b[0m\u001b[0;34m(\u001b[0m\u001b[0mepoch\u001b[0m\u001b[0;34m)\u001b[0m\u001b[0;34m+\u001b[0m\u001b[0;34m'.pkl'\u001b[0m\u001b[0;34m)\u001b[0m\u001b[0;34m\u001b[0m\u001b[0;34m\u001b[0m\u001b[0m\n",
      "\u001b[0;32m<ipython-input-9-44d659bff023>\u001b[0m in \u001b[0;36mtrain\u001b[0;34m(epoch, writer)\u001b[0m\n\u001b[1;32m     11\u001b[0m         \u001b[0moutputs\u001b[0m \u001b[0;34m=\u001b[0m \u001b[0mtorch\u001b[0m\u001b[0;34m.\u001b[0m\u001b[0msigmoid\u001b[0m\u001b[0;34m(\u001b[0m\u001b[0mmodel\u001b[0m\u001b[0;34m(\u001b[0m\u001b[0mimages\u001b[0m\u001b[0;34m)\u001b[0m\u001b[0;34m)\u001b[0m\u001b[0;34m\u001b[0m\u001b[0;34m\u001b[0m\u001b[0m\n\u001b[1;32m     12\u001b[0m         \u001b[0mloss\u001b[0m \u001b[0;34m=\u001b[0m \u001b[0mcriterion\u001b[0m\u001b[0;34m(\u001b[0m\u001b[0moutputs\u001b[0m\u001b[0;34m,\u001b[0m \u001b[0mlabels\u001b[0m\u001b[0;34m)\u001b[0m\u001b[0;34m\u001b[0m\u001b[0;34m\u001b[0m\u001b[0m\n\u001b[0;32m---> 13\u001b[0;31m         \u001b[0mloss\u001b[0m\u001b[0;34m.\u001b[0m\u001b[0mbackward\u001b[0m\u001b[0;34m(\u001b[0m\u001b[0;34m)\u001b[0m\u001b[0;34m\u001b[0m\u001b[0;34m\u001b[0m\u001b[0m\n\u001b[0m\u001b[1;32m     14\u001b[0m         \u001b[0moptimizer\u001b[0m\u001b[0;34m.\u001b[0m\u001b[0mstep\u001b[0m\u001b[0;34m(\u001b[0m\u001b[0;34m)\u001b[0m\u001b[0;34m\u001b[0m\u001b[0;34m\u001b[0m\u001b[0m\n\u001b[1;32m     15\u001b[0m \u001b[0;34m\u001b[0m\u001b[0m\n",
      "\u001b[0;32m~/.pyenv/versions/anaconda3-5.3.1/envs/pytorch/lib/python3.7/site-packages/torch/tensor.py\u001b[0m in \u001b[0;36mbackward\u001b[0;34m(self, gradient, retain_graph, create_graph)\u001b[0m\n\u001b[1;32m    105\u001b[0m                 \u001b[0mproducts\u001b[0m\u001b[0;34m.\u001b[0m \u001b[0mDefaults\u001b[0m \u001b[0mto\u001b[0m\u001b[0;31m \u001b[0m\u001b[0;31m`\u001b[0m\u001b[0;31m`\u001b[0m\u001b[0;32mFalse\u001b[0m\u001b[0;31m`\u001b[0m\u001b[0;31m`\u001b[0m\u001b[0;34m.\u001b[0m\u001b[0;34m\u001b[0m\u001b[0;34m\u001b[0m\u001b[0m\n\u001b[1;32m    106\u001b[0m         \"\"\"\n\u001b[0;32m--> 107\u001b[0;31m         \u001b[0mtorch\u001b[0m\u001b[0;34m.\u001b[0m\u001b[0mautograd\u001b[0m\u001b[0;34m.\u001b[0m\u001b[0mbackward\u001b[0m\u001b[0;34m(\u001b[0m\u001b[0mself\u001b[0m\u001b[0;34m,\u001b[0m \u001b[0mgradient\u001b[0m\u001b[0;34m,\u001b[0m \u001b[0mretain_graph\u001b[0m\u001b[0;34m,\u001b[0m \u001b[0mcreate_graph\u001b[0m\u001b[0;34m)\u001b[0m\u001b[0;34m\u001b[0m\u001b[0;34m\u001b[0m\u001b[0m\n\u001b[0m\u001b[1;32m    108\u001b[0m \u001b[0;34m\u001b[0m\u001b[0m\n\u001b[1;32m    109\u001b[0m     \u001b[0;32mdef\u001b[0m \u001b[0mregister_hook\u001b[0m\u001b[0;34m(\u001b[0m\u001b[0mself\u001b[0m\u001b[0;34m,\u001b[0m \u001b[0mhook\u001b[0m\u001b[0;34m)\u001b[0m\u001b[0;34m:\u001b[0m\u001b[0;34m\u001b[0m\u001b[0;34m\u001b[0m\u001b[0m\n",
      "\u001b[0;32m~/.pyenv/versions/anaconda3-5.3.1/envs/pytorch/lib/python3.7/site-packages/torch/autograd/__init__.py\u001b[0m in \u001b[0;36mbackward\u001b[0;34m(tensors, grad_tensors, retain_graph, create_graph, grad_variables)\u001b[0m\n\u001b[1;32m     91\u001b[0m     Variable._execution_engine.run_backward(\n\u001b[1;32m     92\u001b[0m         \u001b[0mtensors\u001b[0m\u001b[0;34m,\u001b[0m \u001b[0mgrad_tensors\u001b[0m\u001b[0;34m,\u001b[0m \u001b[0mretain_graph\u001b[0m\u001b[0;34m,\u001b[0m \u001b[0mcreate_graph\u001b[0m\u001b[0;34m,\u001b[0m\u001b[0;34m\u001b[0m\u001b[0;34m\u001b[0m\u001b[0m\n\u001b[0;32m---> 93\u001b[0;31m         allow_unreachable=True)  # allow_unreachable flag\n\u001b[0m\u001b[1;32m     94\u001b[0m \u001b[0;34m\u001b[0m\u001b[0m\n\u001b[1;32m     95\u001b[0m \u001b[0;34m\u001b[0m\u001b[0m\n",
      "\u001b[0;31mKeyboardInterrupt\u001b[0m: "
     ]
    }
   ],
   "source": [
    "torch.manual_seed(1)\n",
    "writer = SummaryWriter(log_dir)\n",
    " \n",
    "for epoch in range(1, epochs+1):\n",
    "    train(epoch, writer)\n",
    "    eval(epoch, writer)\n",
    "    torch.save(model.state_dict(), weight_path + '_epoch' + str(epoch)+'.pkl')\n",
    "\n",
    "\n",
    "writer.close()"
   ]
  },
  {
   "cell_type": "code",
   "execution_count": null,
   "metadata": {},
   "outputs": [],
   "source": [
    "# pred = predict()\n",
    "# pred_str = list()\n",
    "# for lst in pred:\n",
    "#     pred_str.append(\" \".join(list(map(str, lst))))\n",
    "\n",
    "# submit_df.index = submit_df.index.map(lambda x:x.rstrip(\".png\"))\n",
    "# submit_df.attribute_ids = pred_str\n",
    "\n",
    "# submit_df.to_csv(\"submission.csv\", index=True)"
   ]
  },
  {
   "cell_type": "code",
   "execution_count": null,
   "metadata": {},
   "outputs": [],
   "source": []
  },
  {
   "cell_type": "code",
   "execution_count": null,
   "metadata": {},
   "outputs": [],
   "source": []
  },
  {
   "cell_type": "code",
   "execution_count": null,
   "metadata": {},
   "outputs": [],
   "source": []
  },
  {
   "cell_type": "code",
   "execution_count": null,
   "metadata": {},
   "outputs": [],
   "source": []
  },
  {
   "cell_type": "code",
   "execution_count": null,
   "metadata": {},
   "outputs": [],
   "source": []
  },
  {
   "cell_type": "code",
   "execution_count": null,
   "metadata": {},
   "outputs": [],
   "source": []
  }
 ],
 "metadata": {
  "kernelspec": {
   "display_name": "pytorch",
   "language": "python",
   "name": "pytorch"
  },
  "language_info": {
   "codemirror_mode": {
    "name": "ipython",
    "version": 3
   },
   "file_extension": ".py",
   "mimetype": "text/x-python",
   "name": "python",
   "nbconvert_exporter": "python",
   "pygments_lexer": "ipython3",
   "version": "3.7.3"
  }
 },
 "nbformat": 4,
 "nbformat_minor": 1
}
