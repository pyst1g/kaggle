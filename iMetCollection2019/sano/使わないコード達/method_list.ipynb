{
 "cells": [
  {
   "cell_type": "markdown",
   "metadata": {},
   "source": [
    "F2スコアが最も高くなる閾値を決定する"
   ]
  },
  {
   "cell_type": "code",
   "execution_count": 1,
   "metadata": {},
   "outputs": [],
   "source": [
    "def make_only_threthold(sample_num = 100000):\n",
    "    start = time.time()\n",
    "    model.eval()\n",
    "    steps = len(ds_valid)\n",
    "    propotion_arr = list()\n",
    "    labels_arr = list()\n",
    "\n",
    "    # ラベル確率を推論\n",
    "    with torch.no_grad():\n",
    "        for i, (images, labels) in enumerate(dataloader_valid,1):\n",
    "            images = images.to(device)\n",
    "            labels = labels.cpu().detach().numpy()\n",
    "            labels_arr.extend(labels)\n",
    "            outputs = torch.sigmoid(model(images))\n",
    "            outputs = outputs.cpu().detach().numpy()\n",
    "            propotion_arr.extend(outputs)\n",
    "        #         outputs_topN = np.argsort(outputs, axis=1)[:,-extract_attribute:]\n",
    "        #         for attr in outputs_topN:\n",
    "        #             pred_attr.append(attr)\n",
    "            if i % 10 == 0:\n",
    "                elapsed_time = time.time() - start\n",
    "                print('\\r[%d/%d], time: %d分%d秒' % (min((i * batch_size),steps), steps, elapsed_time//60, int(elapsed_time % 60)))\n",
    "                clear_output(wait=True)\n",
    "\n",
    "\n",
    "    propotion_arr = np.asarray(propotion_arr)\n",
    "    labels_arr = np.asarray(labels_arr)\n",
    "\n",
    "    pc = deepcopy(propotion_arr)\n",
    "    lc = deepcopy(labels_arr)\n",
    "    pc = np.reshape(pc,-1)\n",
    "    lc = np.reshape(lc,-1)\n",
    "    idx = np.argsort(pc)\n",
    "    pc = pc[idx]\n",
    "    lc = lc[idx]\n",
    "\n",
    "    TP = np.sum(labels_arr==1, axis=1)\n",
    "    FN = np.zeros_like(TP)\n",
    "    FP = np.sum(labels_arr==0, axis=1)\n",
    "    TN = np.zeros_like(TP)\n",
    "\n",
    "    f2 = np.zeros_like(TP)\n",
    "\n",
    "    tmp_max = 0\n",
    "    max_thr = 0\n",
    "    pos = 0\n",
    "    for i, thr in enumerate(np.logspace(-4,0,sample_num)):\n",
    "        if i % 100 == 0:\n",
    "            elapsed_time = time.time() - start\n",
    "            print('\\r[%d/%d], time: %d分%d秒' % (i, sample_num, elapsed_time//60, int(elapsed_time % 60)))\n",
    "            clear_output(wait=True)\n",
    "        while pos < len(pc) and pc[pos] < thr:\n",
    "            if lc[pos] == 0:\n",
    "                FP[idx[pos] // num_classes] -= 1\n",
    "                TN[idx[pos] // num_classes] += 1\n",
    "            else:\n",
    "                TP[idx[pos] // num_classes] -= 1\n",
    "                FN[idx[pos] // num_classes] += 1\n",
    "#             if pos % 100000 == 0: print(pos)\n",
    "            pos += 1\n",
    "\n",
    "        precision = TP / (TP + FP)\n",
    "        recall = TP / (TP + FN)\n",
    "        f2_arr = 5*(precision * recall) / (4*precision + recall)\n",
    "        f2_arr[np.isnan(f2_arr)] = 0\n",
    "        f2 = np.mean(f2_arr)\n",
    "        if f2 > tmp_max:\n",
    "            tmp_max = f2\n",
    "            max_thr = thr\n",
    "    return max_thr, tmp_max, "
   ]
  },
  {
   "cell_type": "markdown",
   "metadata": {},
   "source": [
    "上から$n$個の属性とその頻度を返す"
   ]
  },
  {
   "cell_type": "markdown",
   "metadata": {},
   "source": [
    "#上位何個取るか\n",
    "take_num = 1103\n",
    "\n",
    "cnt_attribute = Counter()\n",
    "for i in train_df.attribute_ids:\n",
    "    cnt_attribute.update(i)\n",
    "\n",
    "freq_attr = np.asarray(cnt_attribute.most_common(take_num))"
   ]
  }
 ],
 "metadata": {
  "kernelspec": {
   "display_name": "pytorch",
   "language": "python",
   "name": "pytorch"
  },
  "language_info": {
   "codemirror_mode": {
    "name": "ipython",
    "version": 3
   },
   "file_extension": ".py",
   "mimetype": "text/x-python",
   "name": "python",
   "nbconvert_exporter": "python",
   "pygments_lexer": "ipython3",
   "version": "3.7.3"
  }
 },
 "nbformat": 4,
 "nbformat_minor": 2
}
