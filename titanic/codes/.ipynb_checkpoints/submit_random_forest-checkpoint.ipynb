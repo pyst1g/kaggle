{
 "cells": [
  {
   "cell_type": "markdown",
   "metadata": {},
   "source": [
    "# Ageをrandom forestで埋めたやつ "
   ]
  },
  {
   "cell_type": "code",
   "execution_count": 5,
   "metadata": {},
   "outputs": [
    {
     "name": "stderr",
     "output_type": "stream",
     "text": [
      "Using TensorFlow backend.\n"
     ]
    }
   ],
   "source": [
    "import matplotlib.pyplot as plt\n",
    "import numpy as np\n",
    "import optuna\n",
    "import pandas as pd\n",
    "import pydotplus\n",
    "import seaborn as sns\n",
    "\n",
    "from IPython.display import Image\n",
    "from functools import partial\n",
    "from graphviz import Digraph\n",
    "from sklearn import tree\n",
    "from sklearn.ensemble import RandomForestClassifier, RandomForestRegressor\n",
    "from sklearn.externals.six import StringIO\n",
    "from sklearn.linear_model import LogisticRegression\n",
    "from sklearn.metrics import roc_curve, auc, accuracy_score\n",
    "from sklearn.model_selection import cross_val_score, cross_validate, train_test_split, GridSearchCV, StratifiedKFold\n",
    "from sklearn.tree import DecisionTreeClassifier\n",
    "\n",
    "%matplotlib inline"
   ]
  },
  {
   "cell_type": "code",
   "execution_count": 6,
   "metadata": {
    "scrolled": false
   },
   "outputs": [],
   "source": [
    "def preproceed(dataframe):\n",
    "    # 欠損値の処理\n",
    "    dataframe.replace({'Nan':pd.np.nan,'nan':pd.np.nan},inplace=True)\n",
    "#     dataframe.fillna(dataframe.mean(numeric_only=True),inplace=True)\n",
    "    dataframe['Fare'].fillna(dataframe['Fare'].mean(),inplace=True)\n",
    "    dataframe['Embarked'].fillna(dataframe['Embarked'].mode().loc[0],inplace=True)\n",
    "\n",
    "    #いらない列(Cabin,Name,PassengerId,Ticket)の削除\n",
    "    dataframe.drop(['Cabin','Name','Ticket'],axis=1,inplace=True)\n",
    "    \n",
    "    #家族と同乗しているかどうかの属性を追加\n",
    "    dataframe['IsFamily'] = (dataframe['SibSp'] + dataframe['Parch']) != 0\n",
    "    \n",
    "    #質的変数をダミー変数に\n",
    "    dataframe['isPclass1'] = dataframe['Pclass'] == 1\n",
    "    dataframe['isPclass2'] = dataframe['Pclass'] == 2\n",
    "    dataframe['isPclass2'] = dataframe['Pclass'] == 3\n",
    "    dataframe['isEmbarkedS'] = dataframe['Embarked'] == 'S'\n",
    "    dataframe['isEmbarkedC'] = dataframe['Embarked'] == 'C'\n",
    "    dataframe['isEmbarkedQ'] = dataframe['Embarked'] == 'Q'\n",
    "    \n",
    "    \n",
    "    #質的変数を変換'\n",
    "    dataframe['Sex'] = dataframe['Sex'].apply(lambda x: 1 if x == 'male' else 0)\n",
    "    dataframe['Embarked'] = dataframe['Embarked'].map( {'S': 0, 'C': 1, 'Q': 2}).astype('int')"
   ]
  },
  {
   "cell_type": "code",
   "execution_count": 7,
   "metadata": {},
   "outputs": [],
   "source": [
    "#csvデータの呼び出し場所\n",
    "loadpath = \"../input/\"\n",
    "#csvデータの保存場所\n",
    "savepath = \"../output/\""
   ]
  },
  {
   "cell_type": "markdown",
   "metadata": {},
   "source": [
    "* csv呼び出し"
   ]
  },
  {
   "cell_type": "code",
   "execution_count": 9,
   "metadata": {},
   "outputs": [],
   "source": [
    "df = pd.read_csv(loadpath + \"train.csv\")\n",
    "df_test = pd.read_csv(loadpath + \"test.csv\")\n",
    "\n",
    "df.set_index('PassengerId',inplace=True)\n",
    "df_test.set_index('PassengerId',inplace=True)\n",
    "\n",
    "#trainY = df.Survived\n",
    "#df.drop('Survived', axis=1, inplace=True)\n",
    "\n",
    "train_index = df.index\n",
    "test_index = df_test.index\n",
    "\n",
    "preproceed(df)\n",
    "preproceed(df_test)"
   ]
  },
  {
   "cell_type": "code",
   "execution_count": null,
   "metadata": {},
   "outputs": [],
   "source": [
    "trainY = df.Survived\n",
    "df.drop('Survived', axis=1, inplace=True)\n",
    "\n",
    "df_combine = pd.concat([df,df_test],sort=True)\n",
    "\n",
    "df_combine_train = df_combine[~df_combine['Age'].isnull()].copy()\n",
    "df_combine_test = df_combine[df_combine['Age'].isnull()].copy()\n",
    "trainAge = df_combine_train['Age'].copy()\n",
    "df_combine_train.drop('Age', axis=1, inplace=True)\n",
    "df_combine_test.drop('Age', axis=1, inplace=True)\n",
    "\n",
    "rfr = RandomForestRegressor(n_estimators=1000, random_state=2)\n",
    "rfr = rfr.fit(df_combine_train, trainAge)\n",
    "predAge = rfr.predict(df_combine_test)\n",
    "\n",
    "df_combine_train['Age'] = trainAge\n",
    "df_combine_test['Age'] = predAge\n",
    "df_combine = pd.concat([df_combine_train,df_combine_test])\n",
    "\n",
    "df = df_combine.loc[train_index,:]\n",
    "df['Survived'] = trainY\n",
    "df_test = df_combine.loc[test_index,:]"
   ]
  },
  {
   "cell_type": "markdown",
   "metadata": {},
   "source": [
    "* 前処理"
   ]
  },
  {
   "cell_type": "code",
   "execution_count": 41,
   "metadata": {},
   "outputs": [],
   "source": [
    "train_X = df.drop('Survived', axis=1)\n",
    "train_y = df.Survived\n",
    "test_X = df_test\n",
    "#データを分割\n",
    "#(train_X, test_X ,train_y, test_y) = train_test_split(train_X, train_y, test_size = 0.3, random_state = 666)"
   ]
  },
  {
   "cell_type": "code",
   "execution_count": 61,
   "metadata": {},
   "outputs": [],
   "source": [
    "def objective(X, y, trial):\n",
    "    params = {\n",
    "        'n_estimators': int(trial.suggest_int('n_estimators',1e+2,1e+3)),\n",
    "        'max_depth': int(trial.suggest_int('max_depth', 2, 32))\n",
    "    }\n",
    "    model = RandomForestClassifier(random_state=2,**params)\n",
    "    \n",
    "    kf = StratifiedKFold(n_splits=5, shuffle=True, random_state=2)\n",
    "    scores = cross_validate(model, X=X, y=y, cv=kf, scoring='accuracy')\n",
    "    \n",
    "    return 1.0 - scores['test_score'].mean()"
   ]
  },
  {
   "cell_type": "code",
   "execution_count": 62,
   "metadata": {},
   "outputs": [
    {
     "name": "stderr",
     "output_type": "stream",
     "text": [
      "[I 2019-02-05 00:53:26,340] Finished a trial resulted in value: 0.18966436117337937. Current best value is 0.18966436117337937 with parameters: {'n_estimators': 190, 'max_depth': 3}.\n",
      "[I 2019-02-05 00:53:31,365] Finished a trial resulted in value: 0.1638462763322195. Current best value is 0.1638462763322195 with parameters: {'n_estimators': 747, 'max_depth': 9}.\n",
      "[I 2019-02-05 00:53:37,011] Finished a trial resulted in value: 0.17286663850851147. Current best value is 0.1638462763322195 with parameters: {'n_estimators': 747, 'max_depth': 9}.\n",
      "[I 2019-02-05 00:53:39,086] Finished a trial resulted in value: 0.17401548414827084. Current best value is 0.1638462763322195 with parameters: {'n_estimators': 747, 'max_depth': 9}.\n",
      "[I 2019-02-05 00:53:40,783] Finished a trial resulted in value: 0.16951468320124885. Current best value is 0.1638462763322195 with parameters: {'n_estimators': 747, 'max_depth': 9}.\n",
      "[I 2019-02-05 00:53:46,681] Finished a trial resulted in value: 0.16500132811449952. Current best value is 0.1638462763322195 with parameters: {'n_estimators': 747, 'max_depth': 9}.\n",
      "[I 2019-02-05 00:53:49,604] Finished a trial resulted in value: 0.1751265255141613. Current best value is 0.1638462763322195 with parameters: {'n_estimators': 747, 'max_depth': 9}.\n",
      "[I 2019-02-05 00:53:54,548] Finished a trial resulted in value: 0.17287926357558214. Current best value is 0.1638462763322195 with parameters: {'n_estimators': 747, 'max_depth': 9}.\n",
      "[I 2019-02-05 00:53:57,511] Finished a trial resulted in value: 0.1695020581341783. Current best value is 0.1638462763322195 with parameters: {'n_estimators': 747, 'max_depth': 9}.\n",
      "[I 2019-02-05 00:54:04,490] Finished a trial resulted in value: 0.1728540134414409. Current best value is 0.1638462763322195 with parameters: {'n_estimators': 747, 'max_depth': 9}.\n",
      "[I 2019-02-05 00:54:08,395] Finished a trial resulted in value: 0.1750951401648424. Current best value is 0.1638462763322195 with parameters: {'n_estimators': 747, 'max_depth': 9}.\n",
      "[I 2019-02-05 00:54:12,249] Finished a trial resulted in value: 0.171761945139828. Current best value is 0.1638462763322195 with parameters: {'n_estimators': 747, 'max_depth': 9}.\n",
      "[I 2019-02-05 00:54:18,005] Finished a trial resulted in value: 0.17060689335754786. Current best value is 0.1638462763322195 with parameters: {'n_estimators': 747, 'max_depth': 9}.\n",
      "[I 2019-02-05 00:54:18,839] Finished a trial resulted in value: 0.17851000802542882. Current best value is 0.1638462763322195 with parameters: {'n_estimators': 747, 'max_depth': 9}.\n",
      "[I 2019-02-05 00:54:24,421] Finished a trial resulted in value: 0.18741702830745732. Current best value is 0.1638462763322195 with parameters: {'n_estimators': 747, 'max_depth': 9}.\n",
      "[I 2019-02-05 00:54:29,366] Finished a trial resulted in value: 0.16385883047194694. Current best value is 0.1638462763322195 with parameters: {'n_estimators': 747, 'max_depth': 9}.\n",
      "[I 2019-02-05 00:54:32,272] Finished a trial resulted in value: 0.18741702830745732. Current best value is 0.1638462763322195 with parameters: {'n_estimators': 747, 'max_depth': 9}.\n",
      "[I 2019-02-05 00:54:36,683] Finished a trial resulted in value: 0.16385883047194694. Current best value is 0.1638462763322195 with parameters: {'n_estimators': 747, 'max_depth': 9}.\n",
      "[I 2019-02-05 00:54:40,756] Finished a trial resulted in value: 0.17730452690220933. Current best value is 0.1638462763322195 with parameters: {'n_estimators': 747, 'max_depth': 9}.\n",
      "[I 2019-02-05 00:54:46,197] Finished a trial resulted in value: 0.16613127161732422. Current best value is 0.1638462763322195 with parameters: {'n_estimators': 747, 'max_depth': 9}.\n",
      "[I 2019-02-05 00:54:52,731] Finished a trial resulted in value: 0.17174932007275723. Current best value is 0.1638462763322195 with parameters: {'n_estimators': 747, 'max_depth': 9}.\n",
      "[I 2019-02-05 00:54:56,948] Finished a trial resulted in value: 0.1650076761117063. Current best value is 0.1638462763322195 with parameters: {'n_estimators': 747, 'max_depth': 9}.\n",
      "[I 2019-02-05 00:54:59,740] Finished a trial resulted in value: 0.1806753843464064. Current best value is 0.1638462763322195 with parameters: {'n_estimators': 747, 'max_depth': 9}.\n",
      "[I 2019-02-05 00:55:05,196] Finished a trial resulted in value: 0.17174932007275723. Current best value is 0.1638462763322195 with parameters: {'n_estimators': 747, 'max_depth': 9}.\n",
      "[I 2019-02-05 00:55:09,529] Finished a trial resulted in value: 0.1739965820113364. Current best value is 0.1638462763322195 with parameters: {'n_estimators': 747, 'max_depth': 9}.\n",
      "[I 2019-02-05 00:55:14,190] Finished a trial resulted in value: 0.16385883047194694. Current best value is 0.1638462763322195 with parameters: {'n_estimators': 747, 'max_depth': 9}.\n",
      "[I 2019-02-05 00:55:20,591] Finished a trial resulted in value: 0.16837218555869637. Current best value is 0.1638462763322195 with parameters: {'n_estimators': 747, 'max_depth': 9}.\n",
      "[I 2019-02-05 00:55:23,022] Finished a trial resulted in value: 0.16838473969842416. Current best value is 0.1638462763322195 with parameters: {'n_estimators': 747, 'max_depth': 9}.\n",
      "[I 2019-02-05 00:55:28,046] Finished a trial resulted in value: 0.17956441390785893. Current best value is 0.1638462763322195 with parameters: {'n_estimators': 747, 'max_depth': 9}.\n",
      "[I 2019-02-05 00:55:32,823] Finished a trial resulted in value: 0.16273523496632902. Current best value is 0.16273523496632902 with parameters: {'n_estimators': 720, 'max_depth': 8}.\n",
      "[I 2019-02-05 00:55:38,009] Finished a trial resulted in value: 0.1739839569442656. Current best value is 0.16273523496632902 with parameters: {'n_estimators': 720, 'max_depth': 8}.\n",
      "[I 2019-02-05 00:55:44,707] Finished a trial resulted in value: 0.17399658201133616. Current best value is 0.16273523496632902 with parameters: {'n_estimators': 720, 'max_depth': 8}.\n",
      "[I 2019-02-05 00:55:50,596] Finished a trial resulted in value: 0.17286663850851147. Current best value is 0.16273523496632902 with parameters: {'n_estimators': 720, 'max_depth': 8}.\n",
      "[I 2019-02-05 00:55:54,058] Finished a trial resulted in value: 0.16837211463135338. Current best value is 0.16273523496632902 with parameters: {'n_estimators': 720, 'max_depth': 8}.\n",
      "[I 2019-02-05 00:55:57,237] Finished a trial resulted in value: 0.18741702830745732. Current best value is 0.16273523496632902 with parameters: {'n_estimators': 720, 'max_depth': 8}.\n",
      "[I 2019-02-05 00:55:58,447] Finished a trial resulted in value: 0.17732342903914378. Current best value is 0.16273523496632902 with parameters: {'n_estimators': 720, 'max_depth': 8}.\n",
      "[I 2019-02-05 00:56:04,743] Finished a trial resulted in value: 0.17286663850851147. Current best value is 0.16273523496632902 with parameters: {'n_estimators': 720, 'max_depth': 8}.\n",
      "[I 2019-02-05 00:56:07,205] Finished a trial resulted in value: 0.17400920707840706. Current best value is 0.16273523496632902 with parameters: {'n_estimators': 720, 'max_depth': 8}.\n",
      "[I 2019-02-05 00:56:10,237] Finished a trial resulted in value: 0.16725479619559924. Current best value is 0.16273523496632902 with parameters: {'n_estimators': 720, 'max_depth': 8}.\n",
      "[I 2019-02-05 00:56:14,171] Finished a trial resulted in value: 0.16498242597756485. Current best value is 0.16273523496632902 with parameters: {'n_estimators': 720, 'max_depth': 8}.\n",
      "[I 2019-02-05 00:56:18,924] Finished a trial resulted in value: 0.17286663850851147. Current best value is 0.16273523496632902 with parameters: {'n_estimators': 720, 'max_depth': 8}.\n",
      "[I 2019-02-05 00:56:23,702] Finished a trial resulted in value: 0.17956441390785893. Current best value is 0.16273523496632902 with parameters: {'n_estimators': 720, 'max_depth': 8}.\n",
      "[I 2019-02-05 00:56:29,018] Finished a trial resulted in value: 0.17173669500568667. Current best value is 0.16273523496632902 with parameters: {'n_estimators': 720, 'max_depth': 8}.\n",
      "[I 2019-02-05 00:56:35,234] Finished a trial resulted in value: 0.171730559790509. Current best value is 0.16273523496632902 with parameters: {'n_estimators': 720, 'max_depth': 8}.\n",
      "[I 2019-02-05 00:56:41,302] Finished a trial resulted in value: 0.17173669500568667. Current best value is 0.16273523496632902 with parameters: {'n_estimators': 720, 'max_depth': 8}.\n",
      "[I 2019-02-05 00:56:42,528] Finished a trial resulted in value: 0.16951475412859196. Current best value is 0.16273523496632902 with parameters: {'n_estimators': 720, 'max_depth': 8}.\n",
      "[I 2019-02-05 00:56:47,159] Finished a trial resulted in value: 0.17173683686037278. Current best value is 0.16273523496632902 with parameters: {'n_estimators': 720, 'max_depth': 8}.\n",
      "[I 2019-02-05 00:56:49,046] Finished a trial resulted in value: 0.1695084770587283. Current best value is 0.16273523496632902 with parameters: {'n_estimators': 720, 'max_depth': 8}.\n",
      "[I 2019-02-05 00:56:52,173] Finished a trial resulted in value: 0.1840399647207397. Current best value is 0.16273523496632902 with parameters: {'n_estimators': 720, 'max_depth': 8}.\n",
      "[I 2019-02-05 00:56:56,845] Finished a trial resulted in value: 0.17287926357558214. Current best value is 0.16273523496632902 with parameters: {'n_estimators': 720, 'max_depth': 8}.\n",
      "[I 2019-02-05 00:57:03,298] Finished a trial resulted in value: 0.1627415829635359. Current best value is 0.16273523496632902 with parameters: {'n_estimators': 720, 'max_depth': 8}.\n",
      "[I 2019-02-05 00:57:09,744] Finished a trial resulted in value: 0.1627415829635359. Current best value is 0.16273523496632902 with parameters: {'n_estimators': 720, 'max_depth': 8}.\n",
      "[I 2019-02-05 00:57:15,601] Finished a trial resulted in value: 0.17174932007275723. Current best value is 0.16273523496632902 with parameters: {'n_estimators': 720, 'max_depth': 8}.\n",
      "[I 2019-02-05 00:57:21,236] Finished a trial resulted in value: 0.17730452690220933. Current best value is 0.16273523496632902 with parameters: {'n_estimators': 720, 'max_depth': 8}.\n",
      "[I 2019-02-05 00:57:27,330] Finished a trial resulted in value: 0.17060689335754786. Current best value is 0.16273523496632902 with parameters: {'n_estimators': 720, 'max_depth': 8}.\n",
      "[I 2019-02-05 00:57:32,674] Finished a trial resulted in value: 0.17061944749727542. Current best value is 0.16273523496632902 with parameters: {'n_estimators': 720, 'max_depth': 8}.\n",
      "[I 2019-02-05 00:57:39,735] Finished a trial resulted in value: 0.1739839569442656. Current best value is 0.16273523496632902 with parameters: {'n_estimators': 720, 'max_depth': 8}.\n",
      "[I 2019-02-05 00:57:44,749] Finished a trial resulted in value: 0.18514465808942315. Current best value is 0.16273523496632902 with parameters: {'n_estimators': 720, 'max_depth': 8}.\n",
      "[I 2019-02-05 00:57:48,036] Finished a trial resulted in value: 0.17287926357558214. Current best value is 0.16273523496632902 with parameters: {'n_estimators': 720, 'max_depth': 8}.\n",
      "[I 2019-02-05 00:57:50,834] Finished a trial resulted in value: 0.1739965820113364. Current best value is 0.16273523496632902 with parameters: {'n_estimators': 720, 'max_depth': 8}.\n",
      "[I 2019-02-05 00:57:57,774] Finished a trial resulted in value: 0.17173669500568667. Current best value is 0.16273523496632902 with parameters: {'n_estimators': 720, 'max_depth': 8}.\n",
      "[I 2019-02-05 00:58:03,258] Finished a trial resulted in value: 0.16613127161732422. Current best value is 0.16273523496632902 with parameters: {'n_estimators': 720, 'max_depth': 8}.\n",
      "[I 2019-02-05 00:58:07,881] Finished a trial resulted in value: 0.16272895789646535. Current best value is 0.16272895789646535 with parameters: {'n_estimators': 684, 'max_depth': 9}.\n",
      "[I 2019-02-05 00:58:12,015] Finished a trial resulted in value: 0.1695020581341783. Current best value is 0.16272895789646535 with parameters: {'n_estimators': 684, 'max_depth': 9}.\n",
      "[I 2019-02-05 00:58:16,521] Finished a trial resulted in value: 0.1739839569442656. Current best value is 0.16272895789646535 with parameters: {'n_estimators': 684, 'max_depth': 9}.\n",
      "[I 2019-02-05 00:58:21,047] Finished a trial resulted in value: 0.16497614890770118. Current best value is 0.16272895789646535 with parameters: {'n_estimators': 684, 'max_depth': 9}.\n",
      "[I 2019-02-05 00:58:25,542] Finished a trial resulted in value: 0.17842812240782724. Current best value is 0.16272895789646535 with parameters: {'n_estimators': 684, 'max_depth': 9}.\n",
      "[I 2019-02-05 00:58:30,655] Finished a trial resulted in value: 0.1638462763322195. Current best value is 0.16272895789646535 with parameters: {'n_estimators': 684, 'max_depth': 9}.\n",
      "[I 2019-02-05 00:58:34,365] Finished a trial resulted in value: 0.17061309950006842. Current best value is 0.16272895789646535 with parameters: {'n_estimators': 684, 'max_depth': 9}.\n",
      "[I 2019-02-05 00:58:37,725] Finished a trial resulted in value: 0.18741702830745732. Current best value is 0.16272895789646535 with parameters: {'n_estimators': 684, 'max_depth': 9}.\n",
      "[I 2019-02-05 00:58:44,260] Finished a trial resulted in value: 0.17286663850851147. Current best value is 0.16272895789646535 with parameters: {'n_estimators': 684, 'max_depth': 9}.\n",
      "[I 2019-02-05 00:58:47,560] Finished a trial resulted in value: 0.16948964584913673. Current best value is 0.16272895789646535 with parameters: {'n_estimators': 684, 'max_depth': 9}.\n",
      "[I 2019-02-05 00:58:53,736] Finished a trial resulted in value: 0.16500132811449952. Current best value is 0.16272895789646535 with parameters: {'n_estimators': 684, 'max_depth': 9}.\n",
      "[I 2019-02-05 00:58:58,229] Finished a trial resulted in value: 0.1739839569442656. Current best value is 0.16272895789646535 with parameters: {'n_estimators': 684, 'max_depth': 9}.\n",
      "[I 2019-02-05 00:59:02,952] Finished a trial resulted in value: 0.17955171791344537. Current best value is 0.16272895789646535 with parameters: {'n_estimators': 684, 'max_depth': 9}.\n",
      "[I 2019-02-05 00:59:07,256] Finished a trial resulted in value: 0.17284787822626324. Current best value is 0.16272895789646535 with parameters: {'n_estimators': 684, 'max_depth': 9}.\n",
      "[I 2019-02-05 00:59:12,243] Finished a trial resulted in value: 0.17956441390785893. Current best value is 0.16272895789646535 with parameters: {'n_estimators': 684, 'max_depth': 9}.\n",
      "[I 2019-02-05 00:59:15,517] Finished a trial resulted in value: 0.1695021290615213. Current best value is 0.16272895789646535 with parameters: {'n_estimators': 684, 'max_depth': 9}.\n",
      "[I 2019-02-05 00:59:18,116] Finished a trial resulted in value: 0.17287291557837514. Current best value is 0.16272895789646535 with parameters: {'n_estimators': 684, 'max_depth': 9}.\n",
      "[I 2019-02-05 00:59:23,599] Finished a trial resulted in value: 0.1638462763322195. Current best value is 0.16272895789646535 with parameters: {'n_estimators': 684, 'max_depth': 9}.\n",
      "[I 2019-02-05 00:59:28,234] Finished a trial resulted in value: 0.16385883047194694. Current best value is 0.16272895789646535 with parameters: {'n_estimators': 684, 'max_depth': 9}.\n",
      "[I 2019-02-05 00:59:34,255] Finished a trial resulted in value: 0.17061937656993253. Current best value is 0.16272895789646535 with parameters: {'n_estimators': 684, 'max_depth': 9}.\n",
      "[I 2019-02-05 00:59:38,502] Finished a trial resulted in value: 0.1851635602263576. Current best value is 0.16272895789646535 with parameters: {'n_estimators': 684, 'max_depth': 9}.\n",
      "[I 2019-02-05 00:59:42,410] Finished a trial resulted in value: 0.16724851912573546. Current best value is 0.16272895789646535 with parameters: {'n_estimators': 684, 'max_depth': 9}.\n",
      "[I 2019-02-05 00:59:48,783] Finished a trial resulted in value: 0.16273523496632902. Current best value is 0.16272895789646535 with parameters: {'n_estimators': 684, 'max_depth': 9}.\n",
      "[I 2019-02-05 00:59:51,903] Finished a trial resulted in value: 0.1706320016370031. Current best value is 0.16272895789646535 with parameters: {'n_estimators': 684, 'max_depth': 9}.\n",
      "[I 2019-02-05 00:59:57,184] Finished a trial resulted in value: 0.171730559790509. Current best value is 0.16272895789646535 with parameters: {'n_estimators': 684, 'max_depth': 9}.\n",
      "[I 2019-02-05 00:59:58,004] Finished a trial resulted in value: 0.18853441767055457. Current best value is 0.16272895789646535 with parameters: {'n_estimators': 684, 'max_depth': 9}.\n"
     ]
    },
    {
     "name": "stderr",
     "output_type": "stream",
     "text": [
      "[I 2019-02-05 01:00:04,446] Finished a trial resulted in value: 0.1739839569442656. Current best value is 0.16272895789646535 with parameters: {'n_estimators': 684, 'max_depth': 9}.\n",
      "[I 2019-02-05 01:00:06,074] Finished a trial resulted in value: 0.17061324135475486. Current best value is 0.16272895789646535 with parameters: {'n_estimators': 684, 'max_depth': 9}.\n",
      "[I 2019-02-05 01:00:12,266] Finished a trial resulted in value: 0.1706193765699323. Current best value is 0.16272895789646535 with parameters: {'n_estimators': 684, 'max_depth': 9}.\n",
      "[I 2019-02-05 01:00:16,656] Finished a trial resulted in value: 0.17174932007275723. Current best value is 0.16272895789646535 with parameters: {'n_estimators': 684, 'max_depth': 9}.\n",
      "[I 2019-02-05 01:00:22,271] Finished a trial resulted in value: 0.1706320016370031. Current best value is 0.16272895789646535 with parameters: {'n_estimators': 684, 'max_depth': 9}.\n",
      "[I 2019-02-05 01:00:28,191] Finished a trial resulted in value: 0.17956441390785893. Current best value is 0.16272895789646535 with parameters: {'n_estimators': 684, 'max_depth': 9}.\n",
      "[I 2019-02-05 01:00:34,808] Finished a trial resulted in value: 0.16613127161732422. Current best value is 0.16272895789646535 with parameters: {'n_estimators': 684, 'max_depth': 9}.\n",
      "[I 2019-02-05 01:00:39,180] Finished a trial resulted in value: 0.16385883047194694. Current best value is 0.16272895789646535 with parameters: {'n_estimators': 684, 'max_depth': 9}.\n",
      "[I 2019-02-05 01:00:41,090] Finished a trial resulted in value: 0.18179270278216053. Current best value is 0.16272895789646535 with parameters: {'n_estimators': 684, 'max_depth': 9}.\n",
      "[I 2019-02-05 01:00:46,390] Finished a trial resulted in value: 0.17060675150286164. Current best value is 0.16272895789646535 with parameters: {'n_estimators': 684, 'max_depth': 9}.\n",
      "[I 2019-02-05 01:00:50,397] Finished a trial resulted in value: 0.1694895039944505. Current best value is 0.16272895789646535 with parameters: {'n_estimators': 684, 'max_depth': 9}.\n",
      "[I 2019-02-05 01:00:53,880] Finished a trial resulted in value: 0.17513280258402497. Current best value is 0.16272895789646535 with parameters: {'n_estimators': 684, 'max_depth': 9}.\n"
     ]
    }
   ],
   "source": [
    "f = partial(objective, train_X, train_y)\n",
    "study = optuna.create_study()\n",
    "study.optimize(f, n_trials=100)"
   ]
  },
  {
   "cell_type": "markdown",
   "metadata": {},
   "source": [
    "* random forest で学習(Grid Search)"
   ]
  },
  {
   "cell_type": "code",
   "execution_count": 63,
   "metadata": {},
   "outputs": [
    {
     "data": {
      "text/plain": [
       "'\\nparameters = {\\n    \"n_estimators\":[1000],\\n    \"criterion\":[\"gini\"],\\n     \\'min_samples_split\\': [2, 4, 10,12,16],\\n    \"random_state\":[2],\\n}\\n#モデルを作成\\nclf = GridSearchCV(RandomForestClassifier(), parameters,cv=5)\\n\\nclf = clf.fit(train_X, train_y)\\nclf2 = RandomForestClassifier(**clf.best_params_)\\n\\ntest_y = clf.predict_proba(test_X)\\n'"
      ]
     },
     "execution_count": 63,
     "metadata": {},
     "output_type": "execute_result"
    }
   ],
   "source": [
    "\"\"\"\n",
    "parameters = {\n",
    "    \"n_estimators\":[1000],\n",
    "    \"criterion\":[\"gini\"],\n",
    "     'min_samples_split': [2, 4, 10,12,16],\n",
    "    \"random_state\":[2],\n",
    "}\n",
    "#モデルを作成\n",
    "clf = GridSearchCV(RandomForestClassifier(), parameters,cv=5)\n",
    "\n",
    "clf = clf.fit(train_X, train_y)\n",
    "clf2 = RandomForestClassifier(**clf.best_params_)\n",
    "\n",
    "test_y = clf.predict_proba(test_X)\n",
    "\"\"\""
   ]
  },
  {
   "cell_type": "code",
   "execution_count": 69,
   "metadata": {},
   "outputs": [],
   "source": [
    "clf = RandomForestClassifier(random_state=2, **study.best_params).fit(train_X,train_y)\n",
    "test_y = clf.predict(test_X)"
   ]
  },
  {
   "cell_type": "code",
   "execution_count": 73,
   "metadata": {},
   "outputs": [],
   "source": [
    "(x1,x2,y1,y2) = train_test_split(train_X, train_y, test_size = 0.3, random_state=2)"
   ]
  },
  {
   "cell_type": "code",
   "execution_count": 74,
   "metadata": {},
   "outputs": [],
   "source": [
    "df['predict_by_rf'] = pd.np.nan"
   ]
  },
  {
   "cell_type": "code",
   "execution_count": 75,
   "metadata": {
    "scrolled": true
   },
   "outputs": [
    {
     "name": "stderr",
     "output_type": "stream",
     "text": [
      "/home/sano/.pyenv/versions/anaconda3-5.2.0/lib/python3.6/site-packages/ipykernel_launcher.py:1: SettingWithCopyWarning: \n",
      "A value is trying to be set on a copy of a slice from a DataFrame\n",
      "\n",
      "See the caveats in the documentation: http://pandas.pydata.org/pandas-docs/stable/indexing.html#indexing-view-versus-copy\n",
      "  \"\"\"Entry point for launching an IPython kernel.\n",
      "/home/sano/.pyenv/versions/anaconda3-5.2.0/lib/python3.6/site-packages/ipykernel_launcher.py:2: SettingWithCopyWarning: \n",
      "A value is trying to be set on a copy of a slice from a DataFrame\n",
      "\n",
      "See the caveats in the documentation: http://pandas.pydata.org/pandas-docs/stable/indexing.html#indexing-view-versus-copy\n",
      "  \n"
     ]
    }
   ],
   "source": [
    "df['predict_by_rf'][x2.index] = clf2.fit(x1,y1).predict_proba(x2)[:,1]\n",
    "df['predict_by_rf'][x1.index] = clf2.fit(x2,y2).predict_proba(x1)[:,1]\n",
    "df_test['predict_by_rf'] = clf.predict_proba(test_X)[:,1]"
   ]
  },
  {
   "cell_type": "code",
   "execution_count": 76,
   "metadata": {},
   "outputs": [],
   "source": [
    "train_X = df.drop('Survived', axis=1)\n",
    "train_y = df.Survived\n",
    "test_X = df_test\n",
    "test_y = LogisticRegression(random_state=2, solver='lbfgs', multi_class='multinomial').fit(train_X, train_y).predict(test_X)"
   ]
  },
  {
   "cell_type": "code",
   "execution_count": 77,
   "metadata": {},
   "outputs": [],
   "source": [
    "scores = cross_val_score(LogisticRegression(random_state=2, solver='lbfgs', multi_class='multinomial'), train_X, train_y, cv=5)"
   ]
  },
  {
   "cell_type": "code",
   "execution_count": 78,
   "metadata": {},
   "outputs": [
    {
     "data": {
      "text/plain": [
       "array([0.77653631, 0.79888268, 0.81460674, 0.80898876, 0.83615819])"
      ]
     },
     "execution_count": 78,
     "metadata": {},
     "output_type": "execute_result"
    }
   ],
   "source": [
    "scores"
   ]
  },
  {
   "cell_type": "markdown",
   "metadata": {},
   "source": [
    "* DecisionTreeの時の可視化用"
   ]
  },
  {
   "cell_type": "code",
   "execution_count": 79,
   "metadata": {},
   "outputs": [],
   "source": [
    "# dot_data = StringIO()\n",
    "# tree.export_graphviz(clf, out_file=dot_data,feature_names=train_X.columns,max_depth=3)\n",
    "# graph = pydotplus.graph_from_dot_data(dot_data.getvalue())\n",
    "# graph.write_pdf(\"graph.pdf\")\n",
    "# Image(graph.create_png())"
   ]
  },
  {
   "cell_type": "code",
   "execution_count": 84,
   "metadata": {},
   "outputs": [
    {
     "data": {
      "image/png": "[encoded data removed]",
      "text/plain": [
       "<Figure size 432x432 with 1 Axes>"
      ]
     },
     "metadata": {},
     "output_type": "display_data"
    }
   ],
   "source": [
    "features = train_X.columns\n",
    "importances = RandomForestClassifier(**study.best_params).fit(train_X,train_y).feature_importances_\n",
    "indices = np.argsort(importances)\n",
    "\n",
    "plt.figure(figsize=(6,6))\n",
    "plt.barh(range(len(indices)), importances[indices], color='b', align='center')\n",
    "plt.yticks(range(len(indices)), features[indices])\n",
    "plt.show()"
   ]
  },
  {
   "cell_type": "code",
   "execution_count": 85,
   "metadata": {},
   "outputs": [],
   "source": [
    "submission_result = pd.DataFrame({\"Survived\":test_y},index=test_X.index)"
   ]
  },
  {
   "cell_type": "code",
   "execution_count": 86,
   "metadata": {},
   "outputs": [],
   "source": [
    "submission_result.to_csv(savepath + 'submission.csv',index=True)"
   ]
  },
  {
   "cell_type": "code",
   "execution_count": null,
   "metadata": {},
   "outputs": [],
   "source": []
  }
 ],
 "metadata": {
  "kernelspec": {
   "display_name": "Python 3",
   "language": "python",
   "name": "python3"
  },
  "language_info": {
   "codemirror_mode": {
    "name": "ipython",
    "version": 3
   },
   "file_extension": ".py",
   "mimetype": "text/x-python",
   "name": "python",
   "nbconvert_exporter": "python",
   "pygments_lexer": "ipython3",
   "version": "3.6.5"
  }
 },
 "nbformat": 4,
 "nbformat_minor": 2
}
