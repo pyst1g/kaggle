{
 "cells": [
  {
   "cell_type": "markdown",
   "metadata": {},
   "source": [
    "reference https://www.kaggle.com/gaoyuan19930220/xgboost"
   ]
  },
  {
   "cell_type": "code",
   "execution_count": 1,
   "metadata": {},
   "outputs": [
    {
     "name": "stderr",
     "output_type": "stream",
     "text": [
      "/home/sano/.pyenv/versions/anaconda3-5.2.0/lib/python3.6/site-packages/h5py/__init__.py:36: FutureWarning: Conversion of the second argument of issubdtype from `float` to `np.floating` is deprecated. In future, it will be treated as `np.float64 == np.dtype(float).type`.\n",
      "  from ._conv import register_converters as _register_converters\n",
      "Using TensorFlow backend.\n"
     ]
    }
   ],
   "source": [
    "import numpy as np\n",
    "import pandas as pd\n",
    "import os\n",
    "import sklearn\n",
    "import xgboost as xgb\n",
    "import operator\n",
    "import optuna\n",
    "\n",
    "from functools import partial\n",
    "from matplotlib import pylab as plt\n",
    "from sklearn import preprocessing\n",
    "from sklearn.model_selection import cross_validate, StratifiedKFold\n",
    "\n",
    "\n",
    "import warnings\n",
    "warnings.filterwarnings('ignore')\n",
    "def fxn():\n",
    "    warnings.warn(\"deprecated\", DeprecationWarning)\n",
    "\n",
    "with warnings.catch_warnings():\n",
    "    warnings.simplefilter(\"ignore\")\n",
    "    fxn()"
   ]
  },
  {
   "cell_type": "code",
   "execution_count": 2,
   "metadata": {},
   "outputs": [],
   "source": [
    "count_itr = 0"
   ]
  },
  {
   "cell_type": "code",
   "execution_count": 3,
   "metadata": {},
   "outputs": [],
   "source": [
    "def objective_optuna(X, y, trial):\n",
    "    global count_itr\n",
    "    print(count_itr, end=' ')\n",
    "    count_itr += 1\n",
    "    #最適化するパラメータを指定\n",
    "    params = {\n",
    "        'n_estimators': trial.suggest_int('n_estimators',1,1000),\n",
    "        'gamma': trial.suggest_uniform('gamma',0,1),\n",
    "        'reg_lambda': trial.suggest_uniform('lambda',0,2),\n",
    "        'learning_rate': trial.suggest_uniform('learning_rate',0,0.3),\n",
    "        'max_depth': trial.suggest_int('max_depth', 1, 15),\n",
    "        'subsample': trial.suggest_uniform('subsample',0,1),\n",
    "        'colsample_bytree': trial.suggest_uniform('colsample_bytree',0,1),\n",
    "        'min_child_weight': trial.suggest_uniform('min_child_weight',0,10),\n",
    "    }\n",
    "    \n",
    "    #モデルを定義\n",
    "    model = xgb.XGBClassifier(random_state=2,**params)\n",
    "    \n",
    "#     (train_X, test_X ,train_y, test_y) = train_test_split(X, y, test_size = 0.3, random_state = 2)\n",
    "    \n",
    "#     #3-foldクロスバリデーション\n",
    "    kf = StratifiedKFold(n_splits=50, shuffle=True, random_state=2)\n",
    "    scores = cross_validate(model, X=X, y=y, cv=kf, scoring='accuracy')\n",
    "    \n",
    "    return 1.0 - scores['test_score'].mean()"
   ]
  },
  {
   "cell_type": "code",
   "execution_count": 4,
   "metadata": {},
   "outputs": [],
   "source": [
    "import warnings\n",
    "\n",
    "def fxn():\n",
    "    warnings.warn(\"deprecated\", DeprecationWarning)\n",
    "\n",
    "with warnings.catch_warnings():\n",
    "    warnings.simplefilter(\"ignore\")\n",
    "    fxn()"
   ]
  },
  {
   "cell_type": "code",
   "execution_count": 5,
   "metadata": {},
   "outputs": [],
   "source": [
    "def preproceed(dataframe):\n",
    "    # 欠損値の処理\n",
    "    dataframe.replace({'Nan':pd.np.nan,'nan':pd.np.nan},inplace=True)\n",
    "#     dataframe.fillna(dataframe.mean(numeric_only=True),inplace=True)\n",
    "#     dataframe['Fare'].fillna(dataframe['Fare'].mean(),inplace=True)\n",
    "#     dataframe['Embarked'].fillna(dataframe['Embarked'].mode().loc[0],inplace=True)\n",
    "    \n",
    "    #自分以外の家族の人数及び有無を追加\n",
    "    dataframe['NumFamily'] = dataframe['SibSp'] + dataframe['Parch']\n",
    "    dataframe['IsFamily'] = dataframe['NumFamily'] != 0\n",
    "\n",
    "    #質的変数をダミー変数に\n",
    "    dataframe['IsPclass1'] = dataframe['Pclass'] == 1\n",
    "    dataframe['IsPclass2'] = dataframe['Pclass'] == 2\n",
    "    dataframe['IsPclass2'] = dataframe['Pclass'] == 3\n",
    "    dataframe['IsEmbarkedS'] = dataframe['Embarked'] == 'S'\n",
    "    dataframe['IsEmbarkedC'] = dataframe['Embarked'] == 'C'\n",
    "    dataframe['IsEmbarkedQ'] = dataframe['Embarked'] == 'Q'\n",
    "    \n",
    "    \n",
    "    #質的変数を変換'\n",
    "    dataframe['Sex'] = dataframe['Sex'].apply(lambda x: 1 if x == 'male' else 0)\n",
    "#     dataframe['Embarked'] = dataframe['Embarked'].map( {'S': 0, 'C': 1, 'Q': 2}).astype('int')\n",
    "\n",
    "\n",
    "    #いらない列(Cabin,Name,PassengerId,Ticket)の削除\n",
    "    dataframe.drop(['Cabin','Name','Ticket','Embarked','Pclass'],axis=1,inplace=True)"
   ]
  },
  {
   "cell_type": "code",
   "execution_count": 6,
   "metadata": {},
   "outputs": [],
   "source": [
    "#csvデータの呼び出し場所\n",
    "loadpath = \"../input/\"\n",
    "#csvデータの保存場所\n",
    "savepath = \"../output/\""
   ]
  },
  {
   "cell_type": "code",
   "execution_count": 7,
   "metadata": {},
   "outputs": [],
   "source": [
    "df = pd.read_csv(loadpath + \"train.csv\")\n",
    "df_test = pd.read_csv(loadpath + \"test.csv\")\n",
    "\n",
    "df.set_index('PassengerId',inplace=True)\n",
    "df_test.set_index('PassengerId',inplace=True)\n",
    "\n",
    "\n",
    "train_index = df.index\n",
    "test_index = df_test.index\n",
    "\n",
    "preproceed(df)\n",
    "preproceed(df_test)"
   ]
  },
  {
   "cell_type": "code",
   "execution_count": 8,
   "metadata": {},
   "outputs": [],
   "source": [
    "train = df.drop('Survived', axis=1)\n",
    "labels = df.Survived\n",
    "test = df_test\n",
    "#データを分割\n",
    "#(train_X, test_X ,train_y, test_y) = train_test_split(train_X, train_y, test_size = 0.3, random_state = 666)"
   ]
  },
  {
   "cell_type": "code",
   "execution_count": 9,
   "metadata": {},
   "outputs": [],
   "source": [
    "train = train.astype('float')"
   ]
  },
  {
   "cell_type": "code",
   "execution_count": 10,
   "metadata": {},
   "outputs": [
    {
     "ename": "NameError",
     "evalue": "name 'xgboost' is not defined",
     "output_type": "error",
     "traceback": [
      "\u001b[0;31m---------------------------------------------------------------------------\u001b[0m",
      "\u001b[0;31mNameError\u001b[0m                                 Traceback (most recent call last)",
      "\u001b[0;32m<ipython-input-10-c03cc75899eb>\u001b[0m in \u001b[0;36m<module>\u001b[0;34m()\u001b[0m\n\u001b[0;32m----> 1\u001b[0;31m \u001b[0mxgboost\u001b[0m\u001b[0;34m.\u001b[0m\u001b[0mcallback\u001b[0m\u001b[0;34m.\u001b[0m\u001b[0mrecord_evaluation333\u001b[0m\u001b[0;34m\u001b[0m\u001b[0m\n\u001b[0m",
      "\u001b[0;31mNameError\u001b[0m: name 'xgboost' is not defined"
     ]
    }
   ],
   "source": [
    "xgboost.callback.record_evaluation333"
   ]
  },
  {
   "cell_type": "code",
   "execution_count": null,
   "metadata": {
    "scrolled": true
   },
   "outputs": [
    {
     "name": "stdout",
     "output_type": "stream",
     "text": [
      "0 "
     ]
    },
    {
     "name": "stderr",
     "output_type": "stream",
     "text": [
      "[I 2019-02-09 13:35:34,101] Finished a trial resulted in value: 0.18566993464052284. Current best value is 0.18566993464052284 with parameters: {'n_estimators': 591, 'gamma': 0.09538518353312253, 'lambda': 1.4184097994420364, 'learning_rate': 0.26914729061073583, 'max_depth': 6, 'subsample': 0.8657154484770366, 'colsample_bytree': 0.0234210883259397, 'min_child_weight': 4.692467184424133}.\n"
     ]
    },
    {
     "name": "stdout",
     "output_type": "stream",
     "text": [
      "1 "
     ]
    },
    {
     "name": "stderr",
     "output_type": "stream",
     "text": [
      "[I 2019-02-09 13:35:34,642] Finished a trial resulted in value: 0.19656862745098036. Current best value is 0.18566993464052284 with parameters: {'n_estimators': 591, 'gamma': 0.09538518353312253, 'lambda': 1.4184097994420364, 'learning_rate': 0.26914729061073583, 'max_depth': 6, 'subsample': 0.8657154484770366, 'colsample_bytree': 0.0234210883259397, 'min_child_weight': 4.692467184424133}.\n"
     ]
    },
    {
     "name": "stdout",
     "output_type": "stream",
     "text": [
      "2 "
     ]
    },
    {
     "name": "stderr",
     "output_type": "stream",
     "text": [
      "[I 2019-02-09 13:35:36,713] Finished a trial resulted in value: 0.20950163398692812. Current best value is 0.18566993464052284 with parameters: {'n_estimators': 591, 'gamma': 0.09538518353312253, 'lambda': 1.4184097994420364, 'learning_rate': 0.26914729061073583, 'max_depth': 6, 'subsample': 0.8657154484770366, 'colsample_bytree': 0.0234210883259397, 'min_child_weight': 4.692467184424133}.\n"
     ]
    },
    {
     "name": "stdout",
     "output_type": "stream",
     "text": [
      "3 "
     ]
    },
    {
     "name": "stderr",
     "output_type": "stream",
     "text": [
      "[I 2019-02-09 13:35:45,177] Finished a trial resulted in value: 0.17859477124182999. Current best value is 0.17859477124182999 with parameters: {'n_estimators': 590, 'gamma': 0.491879615135448, 'lambda': 1.5544304405243263, 'learning_rate': 0.12400095896062763, 'max_depth': 2, 'subsample': 0.6397941086361032, 'colsample_bytree': 0.43074721038233754, 'min_child_weight': 0.9408871407367358}.\n"
     ]
    },
    {
     "name": "stdout",
     "output_type": "stream",
     "text": [
      "4 "
     ]
    },
    {
     "name": "stderr",
     "output_type": "stream",
     "text": [
      "[I 2019-02-09 13:36:03,678] Finished a trial resulted in value: 0.17722222222222228. Current best value is 0.17722222222222228 with parameters: {'n_estimators': 791, 'gamma': 0.3738983796709616, 'lambda': 0.26010483438792265, 'learning_rate': 0.16713335560173856, 'max_depth': 8, 'subsample': 0.796059221878243, 'colsample_bytree': 0.4806621324089, 'min_child_weight': 5.048012803243724}.\n"
     ]
    },
    {
     "name": "stdout",
     "output_type": "stream",
     "text": [
      "5 "
     ]
    },
    {
     "name": "stderr",
     "output_type": "stream",
     "text": [
      "[I 2019-02-09 13:36:12,106] Finished a trial resulted in value: 0.19441993464052298. Current best value is 0.17722222222222228 with parameters: {'n_estimators': 791, 'gamma': 0.3738983796709616, 'lambda': 0.26010483438792265, 'learning_rate': 0.16713335560173856, 'max_depth': 8, 'subsample': 0.796059221878243, 'colsample_bytree': 0.4806621324089, 'min_child_weight': 5.048012803243724}.\n"
     ]
    },
    {
     "name": "stdout",
     "output_type": "stream",
     "text": [
      "6 "
     ]
    },
    {
     "name": "stderr",
     "output_type": "stream",
     "text": [
      "[I 2019-02-09 13:36:31,686] Finished a trial resulted in value: 0.16950980392156867. Current best value is 0.16950980392156867 with parameters: {'n_estimators': 857, 'gamma': 0.7798319197011242, 'lambda': 1.2994070585739983, 'learning_rate': 0.03548310050836164, 'max_depth': 10, 'subsample': 0.7617807426001107, 'colsample_bytree': 0.38569639251902543, 'min_child_weight': 4.714675635074793}.\n"
     ]
    },
    {
     "name": "stdout",
     "output_type": "stream",
     "text": [
      "7 "
     ]
    },
    {
     "name": "stderr",
     "output_type": "stream",
     "text": [
      "[I 2019-02-09 13:36:33,969] Finished a trial resulted in value: 0.16860294117647068. Current best value is 0.16860294117647068 with parameters: {'n_estimators': 144, 'gamma': 0.6098608040106416, 'lambda': 0.6024740608189911, 'learning_rate': 0.26009046021685767, 'max_depth': 13, 'subsample': 0.6765763750883138, 'colsample_bytree': 0.22727595287168167, 'min_child_weight': 6.5023705935730725}.\n"
     ]
    },
    {
     "name": "stdout",
     "output_type": "stream",
     "text": [
      "8 "
     ]
    },
    {
     "name": "stderr",
     "output_type": "stream",
     "text": [
      "[I 2019-02-09 13:36:37,016] Finished a trial resulted in value: 0.383578431372549. Current best value is 0.16860294117647068 with parameters: {'n_estimators': 144, 'gamma': 0.6098608040106416, 'lambda': 0.6024740608189911, 'learning_rate': 0.26009046021685767, 'max_depth': 13, 'subsample': 0.6765763750883138, 'colsample_bytree': 0.22727595287168167, 'min_child_weight': 6.5023705935730725}.\n"
     ]
    },
    {
     "name": "stdout",
     "output_type": "stream",
     "text": [
      "9 "
     ]
    },
    {
     "name": "stderr",
     "output_type": "stream",
     "text": [
      "[I 2019-02-09 13:36:49,901] Finished a trial resulted in value: 0.1740196078431373. Current best value is 0.16860294117647068 with parameters: {'n_estimators': 144, 'gamma': 0.6098608040106416, 'lambda': 0.6024740608189911, 'learning_rate': 0.26009046021685767, 'max_depth': 13, 'subsample': 0.6765763750883138, 'colsample_bytree': 0.22727595287168167, 'min_child_weight': 6.5023705935730725}.\n"
     ]
    },
    {
     "name": "stdout",
     "output_type": "stream",
     "text": [
      "10 "
     ]
    },
    {
     "name": "stderr",
     "output_type": "stream",
     "text": [
      "[I 2019-02-09 13:36:53,393] Finished a trial resulted in value: 0.17624183006535954. Current best value is 0.16860294117647068 with parameters: {'n_estimators': 144, 'gamma': 0.6098608040106416, 'lambda': 0.6024740608189911, 'learning_rate': 0.26009046021685767, 'max_depth': 13, 'subsample': 0.6765763750883138, 'colsample_bytree': 0.22727595287168167, 'min_child_weight': 6.5023705935730725}.\n"
     ]
    },
    {
     "name": "stdout",
     "output_type": "stream",
     "text": [
      "11 "
     ]
    },
    {
     "name": "stderr",
     "output_type": "stream",
     "text": [
      "[I 2019-02-09 13:36:57,895] Finished a trial resulted in value: 0.18295751633986923. Current best value is 0.16860294117647068 with parameters: {'n_estimators': 144, 'gamma': 0.6098608040106416, 'lambda': 0.6024740608189911, 'learning_rate': 0.26009046021685767, 'max_depth': 13, 'subsample': 0.6765763750883138, 'colsample_bytree': 0.22727595287168167, 'min_child_weight': 6.5023705935730725}.\n"
     ]
    },
    {
     "name": "stdout",
     "output_type": "stream",
     "text": [
      "12 "
     ]
    },
    {
     "name": "stderr",
     "output_type": "stream",
     "text": [
      "[I 2019-02-09 13:37:02,790] Finished a trial resulted in value: 0.1842156862745099. Current best value is 0.16860294117647068 with parameters: {'n_estimators': 144, 'gamma': 0.6098608040106416, 'lambda': 0.6024740608189911, 'learning_rate': 0.26009046021685767, 'max_depth': 13, 'subsample': 0.6765763750883138, 'colsample_bytree': 0.22727595287168167, 'min_child_weight': 6.5023705935730725}.\n"
     ]
    },
    {
     "name": "stdout",
     "output_type": "stream",
     "text": [
      "13 "
     ]
    },
    {
     "name": "stderr",
     "output_type": "stream",
     "text": [
      "[I 2019-02-09 13:37:03,574] Finished a trial resulted in value: 0.2358496732026144. Current best value is 0.16860294117647068 with parameters: {'n_estimators': 144, 'gamma': 0.6098608040106416, 'lambda': 0.6024740608189911, 'learning_rate': 0.26009046021685767, 'max_depth': 13, 'subsample': 0.6765763750883138, 'colsample_bytree': 0.22727595287168167, 'min_child_weight': 6.5023705935730725}.\n"
     ]
    },
    {
     "name": "stdout",
     "output_type": "stream",
     "text": [
      "14 "
     ]
    },
    {
     "name": "stderr",
     "output_type": "stream",
     "text": [
      "[I 2019-02-09 13:37:04,281] Finished a trial resulted in value: 0.1872140522875818. Current best value is 0.16860294117647068 with parameters: {'n_estimators': 144, 'gamma': 0.6098608040106416, 'lambda': 0.6024740608189911, 'learning_rate': 0.26009046021685767, 'max_depth': 13, 'subsample': 0.6765763750883138, 'colsample_bytree': 0.22727595287168167, 'min_child_weight': 6.5023705935730725}.\n"
     ]
    },
    {
     "name": "stdout",
     "output_type": "stream",
     "text": [
      "15 "
     ]
    },
    {
     "name": "stderr",
     "output_type": "stream",
     "text": [
      "[I 2019-02-09 13:37:10,499] Finished a trial resulted in value: 0.1763071895424838. Current best value is 0.16860294117647068 with parameters: {'n_estimators': 144, 'gamma': 0.6098608040106416, 'lambda': 0.6024740608189911, 'learning_rate': 0.26009046021685767, 'max_depth': 13, 'subsample': 0.6765763750883138, 'colsample_bytree': 0.22727595287168167, 'min_child_weight': 6.5023705935730725}.\n"
     ]
    },
    {
     "name": "stdout",
     "output_type": "stream",
     "text": [
      "16 "
     ]
    },
    {
     "name": "stderr",
     "output_type": "stream",
     "text": [
      "[I 2019-02-09 13:37:15,376] Finished a trial resulted in value: 0.1808741830065359. Current best value is 0.16860294117647068 with parameters: {'n_estimators': 144, 'gamma': 0.6098608040106416, 'lambda': 0.6024740608189911, 'learning_rate': 0.26009046021685767, 'max_depth': 13, 'subsample': 0.6765763750883138, 'colsample_bytree': 0.22727595287168167, 'min_child_weight': 6.5023705935730725}.\n"
     ]
    },
    {
     "name": "stdout",
     "output_type": "stream",
     "text": [
      "17 "
     ]
    },
    {
     "name": "stderr",
     "output_type": "stream",
     "text": [
      "[I 2019-02-09 13:37:33,409] Finished a trial resulted in value: 0.17166666666666675. Current best value is 0.16860294117647068 with parameters: {'n_estimators': 144, 'gamma': 0.6098608040106416, 'lambda': 0.6024740608189911, 'learning_rate': 0.26009046021685767, 'max_depth': 13, 'subsample': 0.6765763750883138, 'colsample_bytree': 0.22727595287168167, 'min_child_weight': 6.5023705935730725}.\n"
     ]
    },
    {
     "name": "stdout",
     "output_type": "stream",
     "text": [
      "18 "
     ]
    },
    {
     "name": "stderr",
     "output_type": "stream",
     "text": [
      "[I 2019-02-09 13:37:44,815] Finished a trial resulted in value: 0.17991013071895423. Current best value is 0.16860294117647068 with parameters: {'n_estimators': 144, 'gamma': 0.6098608040106416, 'lambda': 0.6024740608189911, 'learning_rate': 0.26009046021685767, 'max_depth': 13, 'subsample': 0.6765763750883138, 'colsample_bytree': 0.22727595287168167, 'min_child_weight': 6.5023705935730725}.\n"
     ]
    },
    {
     "name": "stdout",
     "output_type": "stream",
     "text": [
      "19 "
     ]
    },
    {
     "name": "stderr",
     "output_type": "stream",
     "text": [
      "[I 2019-02-09 13:37:57,283] Finished a trial resulted in value: 0.20696895424836614. Current best value is 0.16860294117647068 with parameters: {'n_estimators': 144, 'gamma': 0.6098608040106416, 'lambda': 0.6024740608189911, 'learning_rate': 0.26009046021685767, 'max_depth': 13, 'subsample': 0.6765763750883138, 'colsample_bytree': 0.22727595287168167, 'min_child_weight': 6.5023705935730725}.\n"
     ]
    },
    {
     "name": "stdout",
     "output_type": "stream",
     "text": [
      "20 "
     ]
    },
    {
     "name": "stderr",
     "output_type": "stream",
     "text": [
      "[I 2019-02-09 13:38:15,722] Finished a trial resulted in value: 0.16833333333333345. Current best value is 0.16833333333333345 with parameters: {'n_estimators': 666, 'gamma': 0.7181756418083627, 'lambda': 1.2416460909454934, 'learning_rate': 0.08085369671371073, 'max_depth': 9, 'subsample': 0.7154303133903284, 'colsample_bytree': 0.5999259905316523, 'min_child_weight': 5.839032373139325}.\n"
     ]
    },
    {
     "name": "stdout",
     "output_type": "stream",
     "text": [
      "21 "
     ]
    },
    {
     "name": "stderr",
     "output_type": "stream",
     "text": [
      "[I 2019-02-09 13:38:30,193] Finished a trial resulted in value: 0.17500000000000004. Current best value is 0.16833333333333345 with parameters: {'n_estimators': 666, 'gamma': 0.7181756418083627, 'lambda': 1.2416460909454934, 'learning_rate': 0.08085369671371073, 'max_depth': 9, 'subsample': 0.7154303133903284, 'colsample_bytree': 0.5999259905316523, 'min_child_weight': 5.839032373139325}.\n"
     ]
    },
    {
     "name": "stdout",
     "output_type": "stream",
     "text": [
      "22 "
     ]
    },
    {
     "name": "stderr",
     "output_type": "stream",
     "text": [
      "[I 2019-02-09 13:38:46,966] Finished a trial resulted in value: 0.1661111111111111. Current best value is 0.1661111111111111 with parameters: {'n_estimators': 675, 'gamma': 0.6939073842571283, 'lambda': 1.7423213348280693, 'learning_rate': 0.18598334066061883, 'max_depth': 13, 'subsample': 0.6341097021092039, 'colsample_bytree': 0.5899700992841135, 'min_child_weight': 6.172868237747399}.\n"
     ]
    },
    {
     "name": "stdout",
     "output_type": "stream",
     "text": [
      "23 "
     ]
    },
    {
     "name": "stderr",
     "output_type": "stream",
     "text": [
      "[I 2019-02-09 13:39:05,947] Finished a trial resulted in value: 0.17055555555555557. Current best value is 0.1661111111111111 with parameters: {'n_estimators': 675, 'gamma': 0.6939073842571283, 'lambda': 1.7423213348280693, 'learning_rate': 0.18598334066061883, 'max_depth': 13, 'subsample': 0.6341097021092039, 'colsample_bytree': 0.5899700992841135, 'min_child_weight': 6.172868237747399}.\n"
     ]
    },
    {
     "name": "stdout",
     "output_type": "stream",
     "text": [
      "24 "
     ]
    },
    {
     "name": "stderr",
     "output_type": "stream",
     "text": [
      "[I 2019-02-09 13:39:17,410] Finished a trial resulted in value: 0.17179738562091518. Current best value is 0.1661111111111111 with parameters: {'n_estimators': 675, 'gamma': 0.6939073842571283, 'lambda': 1.7423213348280693, 'learning_rate': 0.18598334066061883, 'max_depth': 13, 'subsample': 0.6341097021092039, 'colsample_bytree': 0.5899700992841135, 'min_child_weight': 6.172868237747399}.\n"
     ]
    },
    {
     "name": "stdout",
     "output_type": "stream",
     "text": [
      "25 "
     ]
    },
    {
     "name": "stderr",
     "output_type": "stream",
     "text": [
      "[I 2019-02-09 13:39:41,926] Finished a trial resulted in value: 0.17971405228758175. Current best value is 0.1661111111111111 with parameters: {'n_estimators': 675, 'gamma': 0.6939073842571283, 'lambda': 1.7423213348280693, 'learning_rate': 0.18598334066061883, 'max_depth': 13, 'subsample': 0.6341097021092039, 'colsample_bytree': 0.5899700992841135, 'min_child_weight': 6.172868237747399}.\n"
     ]
    },
    {
     "name": "stdout",
     "output_type": "stream",
     "text": [
      "26 "
     ]
    },
    {
     "name": "stderr",
     "output_type": "stream",
     "text": [
      "[I 2019-02-09 13:40:08,612] Finished a trial resulted in value: 0.1672140522875819. Current best value is 0.1661111111111111 with parameters: {'n_estimators': 675, 'gamma': 0.6939073842571283, 'lambda': 1.7423213348280693, 'learning_rate': 0.18598334066061883, 'max_depth': 13, 'subsample': 0.6341097021092039, 'colsample_bytree': 0.5899700992841135, 'min_child_weight': 6.172868237747399}.\n"
     ]
    },
    {
     "name": "stdout",
     "output_type": "stream",
     "text": [
      "27 "
     ]
    },
    {
     "name": "stderr",
     "output_type": "stream",
     "text": [
      "[I 2019-02-09 13:40:33,693] Finished a trial resulted in value: 0.16388071895424838. Current best value is 0.16388071895424838 with parameters: {'n_estimators': 938, 'gamma': 0.8602048758306816, 'lambda': 1.98461546778039, 'learning_rate': 0.14223956955651862, 'max_depth': 15, 'subsample': 0.589139357370028, 'colsample_bytree': 0.9369778799025769, 'min_child_weight': 9.396029103183855}.\n"
     ]
    },
    {
     "name": "stdout",
     "output_type": "stream",
     "text": [
      "28 "
     ]
    },
    {
     "name": "stderr",
     "output_type": "stream",
     "text": [
      "[I 2019-02-09 13:40:57,683] Finished a trial resulted in value: 0.17062091503267984. Current best value is 0.16388071895424838 with parameters: {'n_estimators': 938, 'gamma': 0.8602048758306816, 'lambda': 1.98461546778039, 'learning_rate': 0.14223956955651862, 'max_depth': 15, 'subsample': 0.589139357370028, 'colsample_bytree': 0.9369778799025769, 'min_child_weight': 9.396029103183855}.\n"
     ]
    },
    {
     "name": "stdout",
     "output_type": "stream",
     "text": [
      "29 "
     ]
    },
    {
     "name": "stderr",
     "output_type": "stream",
     "text": [
      "[I 2019-02-09 13:41:16,884] Finished a trial resulted in value: 0.1728267973856209. Current best value is 0.16388071895424838 with parameters: {'n_estimators': 938, 'gamma': 0.8602048758306816, 'lambda': 1.98461546778039, 'learning_rate': 0.14223956955651862, 'max_depth': 15, 'subsample': 0.589139357370028, 'colsample_bytree': 0.9369778799025769, 'min_child_weight': 9.396029103183855}.\n"
     ]
    },
    {
     "name": "stdout",
     "output_type": "stream",
     "text": [
      "30 "
     ]
    },
    {
     "name": "stderr",
     "output_type": "stream",
     "text": [
      "[I 2019-02-09 13:41:33,492] Finished a trial resulted in value: 0.1717320261437908. Current best value is 0.16388071895424838 with parameters: {'n_estimators': 938, 'gamma': 0.8602048758306816, 'lambda': 1.98461546778039, 'learning_rate': 0.14223956955651862, 'max_depth': 15, 'subsample': 0.589139357370028, 'colsample_bytree': 0.9369778799025769, 'min_child_weight': 9.396029103183855}.\n"
     ]
    },
    {
     "name": "stdout",
     "output_type": "stream",
     "text": [
      "31 "
     ]
    },
    {
     "name": "stderr",
     "output_type": "stream",
     "text": [
      "[I 2019-02-09 13:41:45,112] Finished a trial resulted in value: 0.1842156862745099. Current best value is 0.16388071895424838 with parameters: {'n_estimators': 938, 'gamma': 0.8602048758306816, 'lambda': 1.98461546778039, 'learning_rate': 0.14223956955651862, 'max_depth': 15, 'subsample': 0.589139357370028, 'colsample_bytree': 0.9369778799025769, 'min_child_weight': 9.396029103183855}.\n"
     ]
    },
    {
     "name": "stdout",
     "output_type": "stream",
     "text": [
      "32 "
     ]
    },
    {
     "name": "stderr",
     "output_type": "stream",
     "text": [
      "[I 2019-02-09 13:42:07,126] Finished a trial resulted in value: 0.1729738562091504. Current best value is 0.16388071895424838 with parameters: {'n_estimators': 938, 'gamma': 0.8602048758306816, 'lambda': 1.98461546778039, 'learning_rate': 0.14223956955651862, 'max_depth': 15, 'subsample': 0.589139357370028, 'colsample_bytree': 0.9369778799025769, 'min_child_weight': 9.396029103183855}.\n"
     ]
    },
    {
     "name": "stdout",
     "output_type": "stream",
     "text": [
      "33 "
     ]
    },
    {
     "name": "stderr",
     "output_type": "stream",
     "text": [
      "[I 2019-02-09 13:42:12,244] Finished a trial resulted in value: 0.21545751633986943. Current best value is 0.16388071895424838 with parameters: {'n_estimators': 938, 'gamma': 0.8602048758306816, 'lambda': 1.98461546778039, 'learning_rate': 0.14223956955651862, 'max_depth': 15, 'subsample': 0.589139357370028, 'colsample_bytree': 0.9369778799025769, 'min_child_weight': 9.396029103183855}.\n"
     ]
    },
    {
     "name": "stdout",
     "output_type": "stream",
     "text": [
      "34 "
     ]
    },
    {
     "name": "stderr",
     "output_type": "stream",
     "text": [
      "[I 2019-02-09 13:42:34,122] Finished a trial resulted in value: 0.18409313725490206. Current best value is 0.16388071895424838 with parameters: {'n_estimators': 938, 'gamma': 0.8602048758306816, 'lambda': 1.98461546778039, 'learning_rate': 0.14223956955651862, 'max_depth': 15, 'subsample': 0.589139357370028, 'colsample_bytree': 0.9369778799025769, 'min_child_weight': 9.396029103183855}.\n"
     ]
    },
    {
     "name": "stdout",
     "output_type": "stream",
     "text": [
      "35 "
     ]
    },
    {
     "name": "stderr",
     "output_type": "stream",
     "text": [
      "[I 2019-02-09 13:42:58,367] Finished a trial resulted in value: 0.17624183006535943. Current best value is 0.16388071895424838 with parameters: {'n_estimators': 938, 'gamma': 0.8602048758306816, 'lambda': 1.98461546778039, 'learning_rate': 0.14223956955651862, 'max_depth': 15, 'subsample': 0.589139357370028, 'colsample_bytree': 0.9369778799025769, 'min_child_weight': 9.396029103183855}.\n"
     ]
    },
    {
     "name": "stdout",
     "output_type": "stream",
     "text": [
      "36 "
     ]
    },
    {
     "name": "stderr",
     "output_type": "stream",
     "text": [
      "[I 2019-02-09 13:43:29,099] Finished a trial resulted in value: 0.20428921568627445. Current best value is 0.16388071895424838 with parameters: {'n_estimators': 938, 'gamma': 0.8602048758306816, 'lambda': 1.98461546778039, 'learning_rate': 0.14223956955651862, 'max_depth': 15, 'subsample': 0.589139357370028, 'colsample_bytree': 0.9369778799025769, 'min_child_weight': 9.396029103183855}.\n"
     ]
    },
    {
     "name": "stdout",
     "output_type": "stream",
     "text": [
      "37 "
     ]
    },
    {
     "name": "stderr",
     "output_type": "stream",
     "text": [
      "[I 2019-02-09 13:43:48,327] Finished a trial resulted in value: 0.18291666666666673. Current best value is 0.16388071895424838 with parameters: {'n_estimators': 938, 'gamma': 0.8602048758306816, 'lambda': 1.98461546778039, 'learning_rate': 0.14223956955651862, 'max_depth': 15, 'subsample': 0.589139357370028, 'colsample_bytree': 0.9369778799025769, 'min_child_weight': 9.396029103183855}.\n"
     ]
    },
    {
     "name": "stdout",
     "output_type": "stream",
     "text": [
      "38 "
     ]
    },
    {
     "name": "stderr",
     "output_type": "stream",
     "text": [
      "[I 2019-02-09 13:44:11,875] Finished a trial resulted in value: 0.17048202614379082. Current best value is 0.16388071895424838 with parameters: {'n_estimators': 938, 'gamma': 0.8602048758306816, 'lambda': 1.98461546778039, 'learning_rate': 0.14223956955651862, 'max_depth': 15, 'subsample': 0.589139357370028, 'colsample_bytree': 0.9369778799025769, 'min_child_weight': 9.396029103183855}.\n"
     ]
    },
    {
     "name": "stdout",
     "output_type": "stream",
     "text": [
      "39 "
     ]
    },
    {
     "name": "stderr",
     "output_type": "stream",
     "text": [
      "[I 2019-02-09 13:44:24,452] Finished a trial resulted in value: 0.16500000000000004. Current best value is 0.16388071895424838 with parameters: {'n_estimators': 938, 'gamma': 0.8602048758306816, 'lambda': 1.98461546778039, 'learning_rate': 0.14223956955651862, 'max_depth': 15, 'subsample': 0.589139357370028, 'colsample_bytree': 0.9369778799025769, 'min_child_weight': 9.396029103183855}.\n"
     ]
    },
    {
     "name": "stdout",
     "output_type": "stream",
     "text": [
      "40 "
     ]
    },
    {
     "name": "stderr",
     "output_type": "stream",
     "text": [
      "[I 2019-02-09 13:44:31,203] Finished a trial resulted in value: 0.1719281045751635. Current best value is 0.16388071895424838 with parameters: {'n_estimators': 938, 'gamma': 0.8602048758306816, 'lambda': 1.98461546778039, 'learning_rate': 0.14223956955651862, 'max_depth': 15, 'subsample': 0.589139357370028, 'colsample_bytree': 0.9369778799025769, 'min_child_weight': 9.396029103183855}.\n"
     ]
    },
    {
     "name": "stdout",
     "output_type": "stream",
     "text": [
      "41 "
     ]
    },
    {
     "name": "stderr",
     "output_type": "stream",
     "text": [
      "[I 2019-02-09 13:44:33,617] Finished a trial resulted in value: 0.18171568627450996. Current best value is 0.16388071895424838 with parameters: {'n_estimators': 938, 'gamma': 0.8602048758306816, 'lambda': 1.98461546778039, 'learning_rate': 0.14223956955651862, 'max_depth': 15, 'subsample': 0.589139357370028, 'colsample_bytree': 0.9369778799025769, 'min_child_weight': 9.396029103183855}.\n"
     ]
    },
    {
     "name": "stdout",
     "output_type": "stream",
     "text": [
      "42 "
     ]
    },
    {
     "name": "stderr",
     "output_type": "stream",
     "text": [
      "[I 2019-02-09 13:44:58,578] Finished a trial resulted in value: 0.1817320261437908. Current best value is 0.16388071895424838 with parameters: {'n_estimators': 938, 'gamma': 0.8602048758306816, 'lambda': 1.98461546778039, 'learning_rate': 0.14223956955651862, 'max_depth': 15, 'subsample': 0.589139357370028, 'colsample_bytree': 0.9369778799025769, 'min_child_weight': 9.396029103183855}.\n"
     ]
    },
    {
     "name": "stdout",
     "output_type": "stream",
     "text": [
      "43 "
     ]
    },
    {
     "name": "stderr",
     "output_type": "stream",
     "text": [
      "[I 2019-02-09 13:45:02,304] Finished a trial resulted in value: 0.21115196078431386. Current best value is 0.16388071895424838 with parameters: {'n_estimators': 938, 'gamma': 0.8602048758306816, 'lambda': 1.98461546778039, 'learning_rate': 0.14223956955651862, 'max_depth': 15, 'subsample': 0.589139357370028, 'colsample_bytree': 0.9369778799025769, 'min_child_weight': 9.396029103183855}.\n"
     ]
    },
    {
     "name": "stdout",
     "output_type": "stream",
     "text": [
      "44 "
     ]
    },
    {
     "name": "stderr",
     "output_type": "stream",
     "text": [
      "[I 2019-02-09 13:45:12,063] Finished a trial resulted in value: 0.1887990196078433. Current best value is 0.16388071895424838 with parameters: {'n_estimators': 938, 'gamma': 0.8602048758306816, 'lambda': 1.98461546778039, 'learning_rate': 0.14223956955651862, 'max_depth': 15, 'subsample': 0.589139357370028, 'colsample_bytree': 0.9369778799025769, 'min_child_weight': 9.396029103183855}.\n"
     ]
    },
    {
     "name": "stdout",
     "output_type": "stream",
     "text": [
      "45 "
     ]
    },
    {
     "name": "stderr",
     "output_type": "stream",
     "text": [
      "[I 2019-02-09 13:45:21,667] Finished a trial resulted in value: 0.1878267973856209. Current best value is 0.16388071895424838 with parameters: {'n_estimators': 938, 'gamma': 0.8602048758306816, 'lambda': 1.98461546778039, 'learning_rate': 0.14223956955651862, 'max_depth': 15, 'subsample': 0.589139357370028, 'colsample_bytree': 0.9369778799025769, 'min_child_weight': 9.396029103183855}.\n"
     ]
    },
    {
     "name": "stdout",
     "output_type": "stream",
     "text": [
      "46 "
     ]
    },
    {
     "name": "stderr",
     "output_type": "stream",
     "text": [
      "[I 2019-02-09 13:45:37,036] Finished a trial resulted in value: 0.1842156862745099. Current best value is 0.16388071895424838 with parameters: {'n_estimators': 938, 'gamma': 0.8602048758306816, 'lambda': 1.98461546778039, 'learning_rate': 0.14223956955651862, 'max_depth': 15, 'subsample': 0.589139357370028, 'colsample_bytree': 0.9369778799025769, 'min_child_weight': 9.396029103183855}.\n"
     ]
    },
    {
     "name": "stdout",
     "output_type": "stream",
     "text": [
      "47 "
     ]
    },
    {
     "name": "stderr",
     "output_type": "stream",
     "text": [
      "[I 2019-02-09 13:45:38,484] Finished a trial resulted in value: 0.2312826797385622. Current best value is 0.16388071895424838 with parameters: {'n_estimators': 938, 'gamma': 0.8602048758306816, 'lambda': 1.98461546778039, 'learning_rate': 0.14223956955651862, 'max_depth': 15, 'subsample': 0.589139357370028, 'colsample_bytree': 0.9369778799025769, 'min_child_weight': 9.396029103183855}.\n"
     ]
    },
    {
     "name": "stdout",
     "output_type": "stream",
     "text": [
      "48 "
     ]
    },
    {
     "name": "stderr",
     "output_type": "stream",
     "text": [
      "[I 2019-02-09 13:45:45,003] Finished a trial resulted in value: 0.21199346405228747. Current best value is 0.16388071895424838 with parameters: {'n_estimators': 938, 'gamma': 0.8602048758306816, 'lambda': 1.98461546778039, 'learning_rate': 0.14223956955651862, 'max_depth': 15, 'subsample': 0.589139357370028, 'colsample_bytree': 0.9369778799025769, 'min_child_weight': 9.396029103183855}.\n"
     ]
    },
    {
     "name": "stdout",
     "output_type": "stream",
     "text": [
      "49 "
     ]
    },
    {
     "name": "stderr",
     "output_type": "stream",
     "text": [
      "[I 2019-02-09 13:45:47,073] Finished a trial resulted in value: 0.383578431372549. Current best value is 0.16388071895424838 with parameters: {'n_estimators': 938, 'gamma': 0.8602048758306816, 'lambda': 1.98461546778039, 'learning_rate': 0.14223956955651862, 'max_depth': 15, 'subsample': 0.589139357370028, 'colsample_bytree': 0.9369778799025769, 'min_child_weight': 9.396029103183855}.\n"
     ]
    },
    {
     "name": "stdout",
     "output_type": "stream",
     "text": [
      "50 "
     ]
    },
    {
     "name": "stderr",
     "output_type": "stream",
     "text": [
      "[I 2019-02-09 13:45:50,126] Finished a trial resulted in value: 0.17276960784313733. Current best value is 0.16388071895424838 with parameters: {'n_estimators': 938, 'gamma': 0.8602048758306816, 'lambda': 1.98461546778039, 'learning_rate': 0.14223956955651862, 'max_depth': 15, 'subsample': 0.589139357370028, 'colsample_bytree': 0.9369778799025769, 'min_child_weight': 9.396029103183855}.\n"
     ]
    },
    {
     "name": "stdout",
     "output_type": "stream",
     "text": [
      "51 "
     ]
    },
    {
     "name": "stderr",
     "output_type": "stream",
     "text": [
      "[I 2019-02-09 13:46:03,191] Finished a trial resulted in value: 0.1673529411764706. Current best value is 0.16388071895424838 with parameters: {'n_estimators': 938, 'gamma': 0.8602048758306816, 'lambda': 1.98461546778039, 'learning_rate': 0.14223956955651862, 'max_depth': 15, 'subsample': 0.589139357370028, 'colsample_bytree': 0.9369778799025769, 'min_child_weight': 9.396029103183855}.\n"
     ]
    },
    {
     "name": "stdout",
     "output_type": "stream",
     "text": [
      "52 "
     ]
    },
    {
     "name": "stderr",
     "output_type": "stream",
     "text": [
      "[I 2019-02-09 13:46:09,459] Finished a trial resulted in value: 0.17818627450980384. Current best value is 0.16388071895424838 with parameters: {'n_estimators': 938, 'gamma': 0.8602048758306816, 'lambda': 1.98461546778039, 'learning_rate': 0.14223956955651862, 'max_depth': 15, 'subsample': 0.589139357370028, 'colsample_bytree': 0.9369778799025769, 'min_child_weight': 9.396029103183855}.\n"
     ]
    },
    {
     "name": "stdout",
     "output_type": "stream",
     "text": [
      "53 "
     ]
    },
    {
     "name": "stderr",
     "output_type": "stream",
     "text": [
      "[I 2019-02-09 13:46:23,866] Finished a trial resulted in value: 0.16950980392156867. Current best value is 0.16388071895424838 with parameters: {'n_estimators': 938, 'gamma': 0.8602048758306816, 'lambda': 1.98461546778039, 'learning_rate': 0.14223956955651862, 'max_depth': 15, 'subsample': 0.589139357370028, 'colsample_bytree': 0.9369778799025769, 'min_child_weight': 9.396029103183855}.\n"
     ]
    },
    {
     "name": "stdout",
     "output_type": "stream",
     "text": [
      "54 "
     ]
    },
    {
     "name": "stderr",
     "output_type": "stream",
     "text": [
      "[I 2019-02-09 13:46:54,745] Finished a trial resulted in value: 0.17304738562091515. Current best value is 0.16388071895424838 with parameters: {'n_estimators': 938, 'gamma': 0.8602048758306816, 'lambda': 1.98461546778039, 'learning_rate': 0.14223956955651862, 'max_depth': 15, 'subsample': 0.589139357370028, 'colsample_bytree': 0.9369778799025769, 'min_child_weight': 9.396029103183855}.\n"
     ]
    },
    {
     "name": "stdout",
     "output_type": "stream",
     "text": [
      "55 "
     ]
    },
    {
     "name": "stderr",
     "output_type": "stream",
     "text": [
      "[I 2019-02-09 13:46:57,531] Finished a trial resulted in value: 0.18449346405228761. Current best value is 0.16388071895424838 with parameters: {'n_estimators': 938, 'gamma': 0.8602048758306816, 'lambda': 1.98461546778039, 'learning_rate': 0.14223956955651862, 'max_depth': 15, 'subsample': 0.589139357370028, 'colsample_bytree': 0.9369778799025769, 'min_child_weight': 9.396029103183855}.\n"
     ]
    },
    {
     "name": "stdout",
     "output_type": "stream",
     "text": [
      "56 "
     ]
    },
    {
     "name": "stderr",
     "output_type": "stream",
     "text": [
      "[I 2019-02-09 13:47:08,496] Finished a trial resulted in value: 0.16833333333333345. Current best value is 0.16388071895424838 with parameters: {'n_estimators': 938, 'gamma': 0.8602048758306816, 'lambda': 1.98461546778039, 'learning_rate': 0.14223956955651862, 'max_depth': 15, 'subsample': 0.589139357370028, 'colsample_bytree': 0.9369778799025769, 'min_child_weight': 9.396029103183855}.\n"
     ]
    },
    {
     "name": "stdout",
     "output_type": "stream",
     "text": [
      "57 "
     ]
    },
    {
     "name": "stderr",
     "output_type": "stream",
     "text": [
      "[I 2019-02-09 13:47:31,727] Finished a trial resulted in value: 0.17500000000000004. Current best value is 0.16388071895424838 with parameters: {'n_estimators': 938, 'gamma': 0.8602048758306816, 'lambda': 1.98461546778039, 'learning_rate': 0.14223956955651862, 'max_depth': 15, 'subsample': 0.589139357370028, 'colsample_bytree': 0.9369778799025769, 'min_child_weight': 9.396029103183855}.\n"
     ]
    },
    {
     "name": "stdout",
     "output_type": "stream",
     "text": [
      "58 "
     ]
    },
    {
     "name": "stderr",
     "output_type": "stream",
     "text": [
      "[I 2019-02-09 13:47:52,737] Finished a trial resulted in value: 0.17159313725490188. Current best value is 0.16388071895424838 with parameters: {'n_estimators': 938, 'gamma': 0.8602048758306816, 'lambda': 1.98461546778039, 'learning_rate': 0.14223956955651862, 'max_depth': 15, 'subsample': 0.589139357370028, 'colsample_bytree': 0.9369778799025769, 'min_child_weight': 9.396029103183855}.\n"
     ]
    },
    {
     "name": "stdout",
     "output_type": "stream",
     "text": [
      "59 "
     ]
    },
    {
     "name": "stderr",
     "output_type": "stream",
     "text": [
      "[I 2019-02-09 13:47:55,526] Finished a trial resulted in value: 0.17290849673202613. Current best value is 0.16388071895424838 with parameters: {'n_estimators': 938, 'gamma': 0.8602048758306816, 'lambda': 1.98461546778039, 'learning_rate': 0.14223956955651862, 'max_depth': 15, 'subsample': 0.589139357370028, 'colsample_bytree': 0.9369778799025769, 'min_child_weight': 9.396029103183855}.\n"
     ]
    },
    {
     "name": "stdout",
     "output_type": "stream",
     "text": [
      "60 "
     ]
    },
    {
     "name": "stderr",
     "output_type": "stream",
     "text": [
      "[I 2019-02-09 13:48:01,156] Finished a trial resulted in value: 0.17900326797385613. Current best value is 0.16388071895424838 with parameters: {'n_estimators': 938, 'gamma': 0.8602048758306816, 'lambda': 1.98461546778039, 'learning_rate': 0.14223956955651862, 'max_depth': 15, 'subsample': 0.589139357370028, 'colsample_bytree': 0.9369778799025769, 'min_child_weight': 9.396029103183855}.\n"
     ]
    },
    {
     "name": "stdout",
     "output_type": "stream",
     "text": [
      "61 "
     ]
    },
    {
     "name": "stderr",
     "output_type": "stream",
     "text": [
      "[I 2019-02-09 13:48:05,103] Finished a trial resulted in value: 0.26931372549019617. Current best value is 0.16388071895424838 with parameters: {'n_estimators': 938, 'gamma': 0.8602048758306816, 'lambda': 1.98461546778039, 'learning_rate': 0.14223956955651862, 'max_depth': 15, 'subsample': 0.589139357370028, 'colsample_bytree': 0.9369778799025769, 'min_child_weight': 9.396029103183855}.\n"
     ]
    },
    {
     "name": "stdout",
     "output_type": "stream",
     "text": [
      "62 "
     ]
    },
    {
     "name": "stderr",
     "output_type": "stream",
     "text": [
      "[I 2019-02-09 13:48:14,820] Finished a trial resulted in value: 0.17172385620915032. Current best value is 0.16388071895424838 with parameters: {'n_estimators': 938, 'gamma': 0.8602048758306816, 'lambda': 1.98461546778039, 'learning_rate': 0.14223956955651862, 'max_depth': 15, 'subsample': 0.589139357370028, 'colsample_bytree': 0.9369778799025769, 'min_child_weight': 9.396029103183855}.\n"
     ]
    },
    {
     "name": "stdout",
     "output_type": "stream",
     "text": [
      "63 "
     ]
    },
    {
     "name": "stderr",
     "output_type": "stream",
     "text": [
      "[I 2019-02-09 13:48:22,974] Finished a trial resulted in value: 0.17291666666666672. Current best value is 0.16388071895424838 with parameters: {'n_estimators': 938, 'gamma': 0.8602048758306816, 'lambda': 1.98461546778039, 'learning_rate': 0.14223956955651862, 'max_depth': 15, 'subsample': 0.589139357370028, 'colsample_bytree': 0.9369778799025769, 'min_child_weight': 9.396029103183855}.\n"
     ]
    },
    {
     "name": "stdout",
     "output_type": "stream",
     "text": [
      "64 "
     ]
    },
    {
     "name": "stderr",
     "output_type": "stream",
     "text": [
      "[I 2019-02-09 13:48:33,360] Finished a trial resulted in value: 0.17193627450980398. Current best value is 0.16388071895424838 with parameters: {'n_estimators': 938, 'gamma': 0.8602048758306816, 'lambda': 1.98461546778039, 'learning_rate': 0.14223956955651862, 'max_depth': 15, 'subsample': 0.589139357370028, 'colsample_bytree': 0.9369778799025769, 'min_child_weight': 9.396029103183855}.\n"
     ]
    },
    {
     "name": "stdout",
     "output_type": "stream",
     "text": [
      "65 "
     ]
    },
    {
     "name": "stderr",
     "output_type": "stream",
     "text": [
      "[I 2019-02-09 13:48:48,855] Finished a trial resulted in value: 0.17395424836601303. Current best value is 0.16388071895424838 with parameters: {'n_estimators': 938, 'gamma': 0.8602048758306816, 'lambda': 1.98461546778039, 'learning_rate': 0.14223956955651862, 'max_depth': 15, 'subsample': 0.589139357370028, 'colsample_bytree': 0.9369778799025769, 'min_child_weight': 9.396029103183855}.\n"
     ]
    },
    {
     "name": "stdout",
     "output_type": "stream",
     "text": [
      "66 "
     ]
    },
    {
     "name": "stderr",
     "output_type": "stream",
     "text": [
      "[I 2019-02-09 13:49:10,862] Finished a trial resulted in value: 0.16833333333333345. Current best value is 0.16388071895424838 with parameters: {'n_estimators': 938, 'gamma': 0.8602048758306816, 'lambda': 1.98461546778039, 'learning_rate': 0.14223956955651862, 'max_depth': 15, 'subsample': 0.589139357370028, 'colsample_bytree': 0.9369778799025769, 'min_child_weight': 9.396029103183855}.\n"
     ]
    },
    {
     "name": "stdout",
     "output_type": "stream",
     "text": [
      "67 "
     ]
    },
    {
     "name": "stderr",
     "output_type": "stream",
     "text": [
      "[I 2019-02-09 13:49:18,916] Finished a trial resulted in value: 0.16970588235294115. Current best value is 0.16388071895424838 with parameters: {'n_estimators': 938, 'gamma': 0.8602048758306816, 'lambda': 1.98461546778039, 'learning_rate': 0.14223956955651862, 'max_depth': 15, 'subsample': 0.589139357370028, 'colsample_bytree': 0.9369778799025769, 'min_child_weight': 9.396029103183855}.\n"
     ]
    },
    {
     "name": "stdout",
     "output_type": "stream",
     "text": [
      "68 "
     ]
    },
    {
     "name": "stderr",
     "output_type": "stream",
     "text": [
      "[I 2019-02-09 13:49:41,109] Finished a trial resulted in value: 0.17957516339869284. Current best value is 0.16388071895424838 with parameters: {'n_estimators': 938, 'gamma': 0.8602048758306816, 'lambda': 1.98461546778039, 'learning_rate': 0.14223956955651862, 'max_depth': 15, 'subsample': 0.589139357370028, 'colsample_bytree': 0.9369778799025769, 'min_child_weight': 9.396029103183855}.\n"
     ]
    },
    {
     "name": "stdout",
     "output_type": "stream",
     "text": [
      "69 "
     ]
    },
    {
     "name": "stderr",
     "output_type": "stream",
     "text": [
      "[I 2019-02-09 13:49:53,228] Finished a trial resulted in value: 0.17179738562091496. Current best value is 0.16388071895424838 with parameters: {'n_estimators': 938, 'gamma': 0.8602048758306816, 'lambda': 1.98461546778039, 'learning_rate': 0.14223956955651862, 'max_depth': 15, 'subsample': 0.589139357370028, 'colsample_bytree': 0.9369778799025769, 'min_child_weight': 9.396029103183855}.\n"
     ]
    },
    {
     "name": "stdout",
     "output_type": "stream",
     "text": [
      "70 "
     ]
    },
    {
     "name": "stderr",
     "output_type": "stream",
     "text": [
      "[I 2019-02-09 13:50:13,970] Finished a trial resulted in value: 0.17853758169934653. Current best value is 0.16388071895424838 with parameters: {'n_estimators': 938, 'gamma': 0.8602048758306816, 'lambda': 1.98461546778039, 'learning_rate': 0.14223956955651862, 'max_depth': 15, 'subsample': 0.589139357370028, 'colsample_bytree': 0.9369778799025769, 'min_child_weight': 9.396029103183855}.\n"
     ]
    },
    {
     "name": "stdout",
     "output_type": "stream",
     "text": [
      "71 "
     ]
    },
    {
     "name": "stderr",
     "output_type": "stream",
     "text": [
      "[I 2019-02-09 13:50:23,819] Finished a trial resulted in value: 0.17284313725490197. Current best value is 0.16388071895424838 with parameters: {'n_estimators': 938, 'gamma': 0.8602048758306816, 'lambda': 1.98461546778039, 'learning_rate': 0.14223956955651862, 'max_depth': 15, 'subsample': 0.589139357370028, 'colsample_bytree': 0.9369778799025769, 'min_child_weight': 9.396029103183855}.\n"
     ]
    },
    {
     "name": "stdout",
     "output_type": "stream",
     "text": [
      "72 "
     ]
    },
    {
     "name": "stderr",
     "output_type": "stream",
     "text": [
      "[I 2019-02-09 13:50:36,167] Finished a trial resulted in value: 0.17179738562091496. Current best value is 0.16388071895424838 with parameters: {'n_estimators': 938, 'gamma': 0.8602048758306816, 'lambda': 1.98461546778039, 'learning_rate': 0.14223956955651862, 'max_depth': 15, 'subsample': 0.589139357370028, 'colsample_bytree': 0.9369778799025769, 'min_child_weight': 9.396029103183855}.\n"
     ]
    },
    {
     "name": "stdout",
     "output_type": "stream",
     "text": [
      "73 "
     ]
    },
    {
     "name": "stderr",
     "output_type": "stream",
     "text": [
      "[I 2019-02-09 13:51:00,796] Finished a trial resulted in value: 0.17617647058823527. Current best value is 0.16388071895424838 with parameters: {'n_estimators': 938, 'gamma': 0.8602048758306816, 'lambda': 1.98461546778039, 'learning_rate': 0.14223956955651862, 'max_depth': 15, 'subsample': 0.589139357370028, 'colsample_bytree': 0.9369778799025769, 'min_child_weight': 9.396029103183855}.\n"
     ]
    },
    {
     "name": "stdout",
     "output_type": "stream",
     "text": [
      "74 "
     ]
    },
    {
     "name": "stderr",
     "output_type": "stream",
     "text": [
      "[I 2019-02-09 13:51:15,996] Finished a trial resulted in value: 0.17414215686274515. Current best value is 0.16388071895424838 with parameters: {'n_estimators': 938, 'gamma': 0.8602048758306816, 'lambda': 1.98461546778039, 'learning_rate': 0.14223956955651862, 'max_depth': 15, 'subsample': 0.589139357370028, 'colsample_bytree': 0.9369778799025769, 'min_child_weight': 9.396029103183855}.\n"
     ]
    },
    {
     "name": "stdout",
     "output_type": "stream",
     "text": [
      "75 "
     ]
    },
    {
     "name": "stderr",
     "output_type": "stream",
     "text": [
      "[I 2019-02-09 13:51:28,525] Finished a trial resulted in value: 0.17729575163398692. Current best value is 0.16388071895424838 with parameters: {'n_estimators': 938, 'gamma': 0.8602048758306816, 'lambda': 1.98461546778039, 'learning_rate': 0.14223956955651862, 'max_depth': 15, 'subsample': 0.589139357370028, 'colsample_bytree': 0.9369778799025769, 'min_child_weight': 9.396029103183855}.\n"
     ]
    },
    {
     "name": "stdout",
     "output_type": "stream",
     "text": [
      "76 "
     ]
    },
    {
     "name": "stderr",
     "output_type": "stream",
     "text": [
      "[I 2019-02-09 13:51:43,294] Finished a trial resulted in value: 0.1717320261437908. Current best value is 0.16388071895424838 with parameters: {'n_estimators': 938, 'gamma': 0.8602048758306816, 'lambda': 1.98461546778039, 'learning_rate': 0.14223956955651862, 'max_depth': 15, 'subsample': 0.589139357370028, 'colsample_bytree': 0.9369778799025769, 'min_child_weight': 9.396029103183855}.\n"
     ]
    },
    {
     "name": "stdout",
     "output_type": "stream",
     "text": [
      "77 "
     ]
    },
    {
     "name": "stderr",
     "output_type": "stream",
     "text": [
      "[I 2019-02-09 13:51:53,004] Finished a trial resulted in value: 0.16374183006535958. Current best value is 0.16374183006535958 with parameters: {'n_estimators': 461, 'gamma': 0.9951214363561628, 'lambda': 1.8223899156358192, 'learning_rate': 0.20942811008330278, 'max_depth': 3, 'subsample': 0.8008529464106052, 'colsample_bytree': 0.8516174785667238, 'min_child_weight': 7.15662036126876}.\n"
     ]
    },
    {
     "name": "stdout",
     "output_type": "stream",
     "text": [
      "78 "
     ]
    },
    {
     "name": "stderr",
     "output_type": "stream",
     "text": [
      "[I 2019-02-09 13:52:01,658] Finished a trial resulted in value: 0.16714869281045752. Current best value is 0.16374183006535958 with parameters: {'n_estimators': 461, 'gamma': 0.9951214363561628, 'lambda': 1.8223899156358192, 'learning_rate': 0.20942811008330278, 'max_depth': 3, 'subsample': 0.8008529464106052, 'colsample_bytree': 0.8516174785667238, 'min_child_weight': 7.15662036126876}.\n"
     ]
    },
    {
     "name": "stdout",
     "output_type": "stream",
     "text": [
      "79 "
     ]
    },
    {
     "name": "stderr",
     "output_type": "stream",
     "text": [
      "[I 2019-02-09 13:52:07,359] Finished a trial resulted in value: 0.18004084967320266. Current best value is 0.16374183006535958 with parameters: {'n_estimators': 461, 'gamma': 0.9951214363561628, 'lambda': 1.8223899156358192, 'learning_rate': 0.20942811008330278, 'max_depth': 3, 'subsample': 0.8008529464106052, 'colsample_bytree': 0.8516174785667238, 'min_child_weight': 7.15662036126876}.\n"
     ]
    },
    {
     "name": "stdout",
     "output_type": "stream",
     "text": [
      "80 "
     ]
    },
    {
     "name": "stderr",
     "output_type": "stream",
     "text": [
      "[I 2019-02-09 13:52:18,224] Finished a trial resulted in value: 0.17055555555555557. Current best value is 0.16374183006535958 with parameters: {'n_estimators': 461, 'gamma': 0.9951214363561628, 'lambda': 1.8223899156358192, 'learning_rate': 0.20942811008330278, 'max_depth': 3, 'subsample': 0.8008529464106052, 'colsample_bytree': 0.8516174785667238, 'min_child_weight': 7.15662036126876}.\n"
     ]
    },
    {
     "name": "stdout",
     "output_type": "stream",
     "text": [
      "81 "
     ]
    },
    {
     "name": "stderr",
     "output_type": "stream",
     "text": [
      "[I 2019-02-09 13:52:25,409] Finished a trial resulted in value: 0.1673529411764707. Current best value is 0.16374183006535958 with parameters: {'n_estimators': 461, 'gamma': 0.9951214363561628, 'lambda': 1.8223899156358192, 'learning_rate': 0.20942811008330278, 'max_depth': 3, 'subsample': 0.8008529464106052, 'colsample_bytree': 0.8516174785667238, 'min_child_weight': 7.15662036126876}.\n"
     ]
    },
    {
     "name": "stdout",
     "output_type": "stream",
     "text": [
      "82 "
     ]
    },
    {
     "name": "stderr",
     "output_type": "stream",
     "text": [
      "[I 2019-02-09 13:52:30,171] Finished a trial resulted in value: 0.1696405228758171. Current best value is 0.16374183006535958 with parameters: {'n_estimators': 461, 'gamma': 0.9951214363561628, 'lambda': 1.8223899156358192, 'learning_rate': 0.20942811008330278, 'max_depth': 3, 'subsample': 0.8008529464106052, 'colsample_bytree': 0.8516174785667238, 'min_child_weight': 7.15662036126876}.\n"
     ]
    },
    {
     "name": "stdout",
     "output_type": "stream",
     "text": [
      "83 "
     ]
    },
    {
     "name": "stderr",
     "output_type": "stream",
     "text": [
      "[I 2019-02-09 13:52:44,668] Finished a trial resulted in value: 0.17395424836601303. Current best value is 0.16374183006535958 with parameters: {'n_estimators': 461, 'gamma': 0.9951214363561628, 'lambda': 1.8223899156358192, 'learning_rate': 0.20942811008330278, 'max_depth': 3, 'subsample': 0.8008529464106052, 'colsample_bytree': 0.8516174785667238, 'min_child_weight': 7.15662036126876}.\n"
     ]
    },
    {
     "name": "stdout",
     "output_type": "stream",
     "text": [
      "84 "
     ]
    },
    {
     "name": "stderr",
     "output_type": "stream",
     "text": [
      "[I 2019-02-09 13:52:56,963] Finished a trial resulted in value: 0.1754003267973857. Current best value is 0.16374183006535958 with parameters: {'n_estimators': 461, 'gamma': 0.9951214363561628, 'lambda': 1.8223899156358192, 'learning_rate': 0.20942811008330278, 'max_depth': 3, 'subsample': 0.8008529464106052, 'colsample_bytree': 0.8516174785667238, 'min_child_weight': 7.15662036126876}.\n"
     ]
    },
    {
     "name": "stdout",
     "output_type": "stream",
     "text": [
      "85 "
     ]
    },
    {
     "name": "stderr",
     "output_type": "stream",
     "text": [
      "[I 2019-02-09 13:53:07,300] Finished a trial resulted in value: 0.16727941176470595. Current best value is 0.16374183006535958 with parameters: {'n_estimators': 461, 'gamma': 0.9951214363561628, 'lambda': 1.8223899156358192, 'learning_rate': 0.20942811008330278, 'max_depth': 3, 'subsample': 0.8008529464106052, 'colsample_bytree': 0.8516174785667238, 'min_child_weight': 7.15662036126876}.\n"
     ]
    },
    {
     "name": "stdout",
     "output_type": "stream",
     "text": [
      "86 "
     ]
    },
    {
     "name": "stderr",
     "output_type": "stream",
     "text": [
      "[I 2019-02-09 13:53:07,753] Finished a trial resulted in value: 0.22218954248366007. Current best value is 0.16374183006535958 with parameters: {'n_estimators': 461, 'gamma': 0.9951214363561628, 'lambda': 1.8223899156358192, 'learning_rate': 0.20942811008330278, 'max_depth': 3, 'subsample': 0.8008529464106052, 'colsample_bytree': 0.8516174785667238, 'min_child_weight': 7.15662036126876}.\n"
     ]
    },
    {
     "name": "stdout",
     "output_type": "stream",
     "text": [
      "87 "
     ]
    },
    {
     "name": "stderr",
     "output_type": "stream",
     "text": [
      "[I 2019-02-09 13:53:33,840] Finished a trial resulted in value: 0.17958333333333343. Current best value is 0.16374183006535958 with parameters: {'n_estimators': 461, 'gamma': 0.9951214363561628, 'lambda': 1.8223899156358192, 'learning_rate': 0.20942811008330278, 'max_depth': 3, 'subsample': 0.8008529464106052, 'colsample_bytree': 0.8516174785667238, 'min_child_weight': 7.15662036126876}.\n"
     ]
    },
    {
     "name": "stdout",
     "output_type": "stream",
     "text": [
      "88 "
     ]
    },
    {
     "name": "stderr",
     "output_type": "stream",
     "text": [
      "[I 2019-02-09 13:53:36,953] Finished a trial resulted in value: 0.16852941176470593. Current best value is 0.16374183006535958 with parameters: {'n_estimators': 461, 'gamma': 0.9951214363561628, 'lambda': 1.8223899156358192, 'learning_rate': 0.20942811008330278, 'max_depth': 3, 'subsample': 0.8008529464106052, 'colsample_bytree': 0.8516174785667238, 'min_child_weight': 7.15662036126876}.\n"
     ]
    },
    {
     "name": "stdout",
     "output_type": "stream",
     "text": [
      "89 "
     ]
    },
    {
     "name": "stderr",
     "output_type": "stream",
     "text": [
      "[I 2019-02-09 13:53:43,969] Finished a trial resulted in value: 0.170686274509804. Current best value is 0.16374183006535958 with parameters: {'n_estimators': 461, 'gamma': 0.9951214363561628, 'lambda': 1.8223899156358192, 'learning_rate': 0.20942811008330278, 'max_depth': 3, 'subsample': 0.8008529464106052, 'colsample_bytree': 0.8516174785667238, 'min_child_weight': 7.15662036126876}.\n"
     ]
    },
    {
     "name": "stdout",
     "output_type": "stream",
     "text": [
      "90 "
     ]
    },
    {
     "name": "stderr",
     "output_type": "stream",
     "text": [
      "[I 2019-02-09 13:54:11,464] Finished a trial resulted in value: 0.17625000000000002. Current best value is 0.16374183006535958 with parameters: {'n_estimators': 461, 'gamma': 0.9951214363561628, 'lambda': 1.8223899156358192, 'learning_rate': 0.20942811008330278, 'max_depth': 3, 'subsample': 0.8008529464106052, 'colsample_bytree': 0.8516174785667238, 'min_child_weight': 7.15662036126876}.\n"
     ]
    },
    {
     "name": "stdout",
     "output_type": "stream",
     "text": [
      "91 "
     ]
    },
    {
     "name": "stderr",
     "output_type": "stream",
     "text": [
      "[I 2019-02-09 13:54:17,275] Finished a trial resulted in value: 0.19010620915032672. Current best value is 0.16374183006535958 with parameters: {'n_estimators': 461, 'gamma': 0.9951214363561628, 'lambda': 1.8223899156358192, 'learning_rate': 0.20942811008330278, 'max_depth': 3, 'subsample': 0.8008529464106052, 'colsample_bytree': 0.8516174785667238, 'min_child_weight': 7.15662036126876}.\n"
     ]
    },
    {
     "name": "stdout",
     "output_type": "stream",
     "text": [
      "92 "
     ]
    },
    {
     "name": "stderr",
     "output_type": "stream",
     "text": [
      "[I 2019-02-09 13:54:38,581] Finished a trial resulted in value: 0.16826797385620917. Current best value is 0.16374183006535958 with parameters: {'n_estimators': 461, 'gamma': 0.9951214363561628, 'lambda': 1.8223899156358192, 'learning_rate': 0.20942811008330278, 'max_depth': 3, 'subsample': 0.8008529464106052, 'colsample_bytree': 0.8516174785667238, 'min_child_weight': 7.15662036126876}.\n"
     ]
    },
    {
     "name": "stdout",
     "output_type": "stream",
     "text": [
      "93 "
     ]
    },
    {
     "name": "stderr",
     "output_type": "stream",
     "text": [
      "[I 2019-02-09 13:54:41,410] Finished a trial resulted in value: 0.17942810457516345. Current best value is 0.16374183006535958 with parameters: {'n_estimators': 461, 'gamma': 0.9951214363561628, 'lambda': 1.8223899156358192, 'learning_rate': 0.20942811008330278, 'max_depth': 3, 'subsample': 0.8008529464106052, 'colsample_bytree': 0.8516174785667238, 'min_child_weight': 7.15662036126876}.\n"
     ]
    },
    {
     "name": "stdout",
     "output_type": "stream",
     "text": [
      "94 "
     ]
    },
    {
     "name": "stderr",
     "output_type": "stream",
     "text": [
      "[I 2019-02-09 13:54:42,310] Finished a trial resulted in value: 0.19989379084967307. Current best value is 0.16374183006535958 with parameters: {'n_estimators': 461, 'gamma': 0.9951214363561628, 'lambda': 1.8223899156358192, 'learning_rate': 0.20942811008330278, 'max_depth': 3, 'subsample': 0.8008529464106052, 'colsample_bytree': 0.8516174785667238, 'min_child_weight': 7.15662036126876}.\n"
     ]
    },
    {
     "name": "stdout",
     "output_type": "stream",
     "text": [
      "95 "
     ]
    },
    {
     "name": "stderr",
     "output_type": "stream",
     "text": [
      "[I 2019-02-09 13:55:17,043] Finished a trial resulted in value: 0.1952614379084967. Current best value is 0.16374183006535958 with parameters: {'n_estimators': 461, 'gamma': 0.9951214363561628, 'lambda': 1.8223899156358192, 'learning_rate': 0.20942811008330278, 'max_depth': 3, 'subsample': 0.8008529464106052, 'colsample_bytree': 0.8516174785667238, 'min_child_weight': 7.15662036126876}.\n"
     ]
    },
    {
     "name": "stdout",
     "output_type": "stream",
     "text": [
      "96 "
     ]
    },
    {
     "name": "stderr",
     "output_type": "stream",
     "text": [
      "[I 2019-02-09 13:55:26,090] Finished a trial resulted in value: 0.1754003267973857. Current best value is 0.16374183006535958 with parameters: {'n_estimators': 461, 'gamma': 0.9951214363561628, 'lambda': 1.8223899156358192, 'learning_rate': 0.20942811008330278, 'max_depth': 3, 'subsample': 0.8008529464106052, 'colsample_bytree': 0.8516174785667238, 'min_child_weight': 7.15662036126876}.\n"
     ]
    },
    {
     "name": "stdout",
     "output_type": "stream",
     "text": [
      "97 "
     ]
    },
    {
     "name": "stderr",
     "output_type": "stream",
     "text": [
      "[I 2019-02-09 13:55:51,703] Finished a trial resulted in value: 0.17062091503267984. Current best value is 0.16374183006535958 with parameters: {'n_estimators': 461, 'gamma': 0.9951214363561628, 'lambda': 1.8223899156358192, 'learning_rate': 0.20942811008330278, 'max_depth': 3, 'subsample': 0.8008529464106052, 'colsample_bytree': 0.8516174785667238, 'min_child_weight': 7.15662036126876}.\n"
     ]
    },
    {
     "name": "stdout",
     "output_type": "stream",
     "text": [
      "98 "
     ]
    },
    {
     "name": "stderr",
     "output_type": "stream",
     "text": [
      "[I 2019-02-09 13:56:01,873] Finished a trial resulted in value: 0.16589869281045755. Current best value is 0.16374183006535958 with parameters: {'n_estimators': 461, 'gamma': 0.9951214363561628, 'lambda': 1.8223899156358192, 'learning_rate': 0.20942811008330278, 'max_depth': 3, 'subsample': 0.8008529464106052, 'colsample_bytree': 0.8516174785667238, 'min_child_weight': 7.15662036126876}.\n"
     ]
    },
    {
     "name": "stdout",
     "output_type": "stream",
     "text": [
      "99 "
     ]
    },
    {
     "name": "stderr",
     "output_type": "stream",
     "text": [
      "[I 2019-02-09 13:56:05,115] Finished a trial resulted in value: 0.186642156862745. Current best value is 0.16374183006535958 with parameters: {'n_estimators': 461, 'gamma': 0.9951214363561628, 'lambda': 1.8223899156358192, 'learning_rate': 0.20942811008330278, 'max_depth': 3, 'subsample': 0.8008529464106052, 'colsample_bytree': 0.8516174785667238, 'min_child_weight': 7.15662036126876}.\n"
     ]
    },
    {
     "name": "stdout",
     "output_type": "stream",
     "text": [
      "100 "
     ]
    },
    {
     "name": "stderr",
     "output_type": "stream",
     "text": [
      "[I 2019-02-09 13:56:26,741] Finished a trial resulted in value: 0.18303921568627446. Current best value is 0.16374183006535958 with parameters: {'n_estimators': 461, 'gamma': 0.9951214363561628, 'lambda': 1.8223899156358192, 'learning_rate': 0.20942811008330278, 'max_depth': 3, 'subsample': 0.8008529464106052, 'colsample_bytree': 0.8516174785667238, 'min_child_weight': 7.15662036126876}.\n"
     ]
    },
    {
     "name": "stdout",
     "output_type": "stream",
     "text": [
      "101 "
     ]
    },
    {
     "name": "stderr",
     "output_type": "stream",
     "text": [
      "[I 2019-02-09 13:56:44,894] Finished a trial resulted in value: 0.1715931372549021. Current best value is 0.16374183006535958 with parameters: {'n_estimators': 461, 'gamma': 0.9951214363561628, 'lambda': 1.8223899156358192, 'learning_rate': 0.20942811008330278, 'max_depth': 3, 'subsample': 0.8008529464106052, 'colsample_bytree': 0.8516174785667238, 'min_child_weight': 7.15662036126876}.\n"
     ]
    },
    {
     "name": "stdout",
     "output_type": "stream",
     "text": [
      "102 "
     ]
    },
    {
     "name": "stderr",
     "output_type": "stream",
     "text": [
      "[I 2019-02-09 13:56:52,556] Finished a trial resulted in value: 0.16937091503267976. Current best value is 0.16374183006535958 with parameters: {'n_estimators': 461, 'gamma': 0.9951214363561628, 'lambda': 1.8223899156358192, 'learning_rate': 0.20942811008330278, 'max_depth': 3, 'subsample': 0.8008529464106052, 'colsample_bytree': 0.8516174785667238, 'min_child_weight': 7.15662036126876}.\n"
     ]
    },
    {
     "name": "stdout",
     "output_type": "stream",
     "text": [
      "103 "
     ]
    },
    {
     "name": "stderr",
     "output_type": "stream",
     "text": [
      "[I 2019-02-09 13:56:55,361] Finished a trial resulted in value: 0.17720588235294132. Current best value is 0.16374183006535958 with parameters: {'n_estimators': 461, 'gamma': 0.9951214363561628, 'lambda': 1.8223899156358192, 'learning_rate': 0.20942811008330278, 'max_depth': 3, 'subsample': 0.8008529464106052, 'colsample_bytree': 0.8516174785667238, 'min_child_weight': 7.15662036126876}.\n"
     ]
    },
    {
     "name": "stdout",
     "output_type": "stream",
     "text": [
      "104 "
     ]
    },
    {
     "name": "stderr",
     "output_type": "stream",
     "text": [
      "[I 2019-02-09 13:57:09,659] Finished a trial resulted in value: 0.16500000000000004. Current best value is 0.16374183006535958 with parameters: {'n_estimators': 461, 'gamma': 0.9951214363561628, 'lambda': 1.8223899156358192, 'learning_rate': 0.20942811008330278, 'max_depth': 3, 'subsample': 0.8008529464106052, 'colsample_bytree': 0.8516174785667238, 'min_child_weight': 7.15662036126876}.\n"
     ]
    },
    {
     "name": "stdout",
     "output_type": "stream",
     "text": [
      "105 "
     ]
    },
    {
     "name": "stderr",
     "output_type": "stream",
     "text": [
      "[I 2019-02-09 13:57:25,365] Finished a trial resulted in value: 0.17041666666666655. Current best value is 0.16374183006535958 with parameters: {'n_estimators': 461, 'gamma': 0.9951214363561628, 'lambda': 1.8223899156358192, 'learning_rate': 0.20942811008330278, 'max_depth': 3, 'subsample': 0.8008529464106052, 'colsample_bytree': 0.8516174785667238, 'min_child_weight': 7.15662036126876}.\n"
     ]
    },
    {
     "name": "stdout",
     "output_type": "stream",
     "text": [
      "106 "
     ]
    },
    {
     "name": "stderr",
     "output_type": "stream",
     "text": [
      "[I 2019-02-09 13:57:38,428] Finished a trial resulted in value: 0.17617647058823538. Current best value is 0.16374183006535958 with parameters: {'n_estimators': 461, 'gamma': 0.9951214363561628, 'lambda': 1.8223899156358192, 'learning_rate': 0.20942811008330278, 'max_depth': 3, 'subsample': 0.8008529464106052, 'colsample_bytree': 0.8516174785667238, 'min_child_weight': 7.15662036126876}.\n"
     ]
    },
    {
     "name": "stdout",
     "output_type": "stream",
     "text": [
      "107 "
     ]
    },
    {
     "name": "stderr",
     "output_type": "stream",
     "text": [
      "[I 2019-02-09 13:57:48,603] Finished a trial resulted in value: 0.17062091503267995. Current best value is 0.16374183006535958 with parameters: {'n_estimators': 461, 'gamma': 0.9951214363561628, 'lambda': 1.8223899156358192, 'learning_rate': 0.20942811008330278, 'max_depth': 3, 'subsample': 0.8008529464106052, 'colsample_bytree': 0.8516174785667238, 'min_child_weight': 7.15662036126876}.\n"
     ]
    },
    {
     "name": "stdout",
     "output_type": "stream",
     "text": [
      "108 "
     ]
    },
    {
     "name": "stderr",
     "output_type": "stream",
     "text": [
      "[I 2019-02-09 13:58:10,455] Finished a trial resulted in value: 0.17284313725490197. Current best value is 0.16374183006535958 with parameters: {'n_estimators': 461, 'gamma': 0.9951214363561628, 'lambda': 1.8223899156358192, 'learning_rate': 0.20942811008330278, 'max_depth': 3, 'subsample': 0.8008529464106052, 'colsample_bytree': 0.8516174785667238, 'min_child_weight': 7.15662036126876}.\n"
     ]
    },
    {
     "name": "stdout",
     "output_type": "stream",
     "text": [
      "109 "
     ]
    },
    {
     "name": "stderr",
     "output_type": "stream",
     "text": [
      "[I 2019-02-09 13:58:29,306] Finished a trial resulted in value: 0.17284313725490197. Current best value is 0.16374183006535958 with parameters: {'n_estimators': 461, 'gamma': 0.9951214363561628, 'lambda': 1.8223899156358192, 'learning_rate': 0.20942811008330278, 'max_depth': 3, 'subsample': 0.8008529464106052, 'colsample_bytree': 0.8516174785667238, 'min_child_weight': 7.15662036126876}.\n"
     ]
    },
    {
     "name": "stdout",
     "output_type": "stream",
     "text": [
      "110 "
     ]
    },
    {
     "name": "stderr",
     "output_type": "stream",
     "text": [
      "[I 2019-02-09 13:58:35,120] Finished a trial resulted in value: 0.19767973856209153. Current best value is 0.16374183006535958 with parameters: {'n_estimators': 461, 'gamma': 0.9951214363561628, 'lambda': 1.8223899156358192, 'learning_rate': 0.20942811008330278, 'max_depth': 3, 'subsample': 0.8008529464106052, 'colsample_bytree': 0.8516174785667238, 'min_child_weight': 7.15662036126876}.\n"
     ]
    },
    {
     "name": "stdout",
     "output_type": "stream",
     "text": [
      "111 "
     ]
    },
    {
     "name": "stderr",
     "output_type": "stream",
     "text": [
      "[I 2019-02-09 13:58:41,562] Finished a trial resulted in value: 0.18768790849673211. Current best value is 0.16374183006535958 with parameters: {'n_estimators': 461, 'gamma': 0.9951214363561628, 'lambda': 1.8223899156358192, 'learning_rate': 0.20942811008330278, 'max_depth': 3, 'subsample': 0.8008529464106052, 'colsample_bytree': 0.8516174785667238, 'min_child_weight': 7.15662036126876}.\n"
     ]
    },
    {
     "name": "stdout",
     "output_type": "stream",
     "text": [
      "112 "
     ]
    },
    {
     "name": "stderr",
     "output_type": "stream",
     "text": [
      "[I 2019-02-09 13:59:00,498] Finished a trial resulted in value: 0.19899509803921556. Current best value is 0.16374183006535958 with parameters: {'n_estimators': 461, 'gamma': 0.9951214363561628, 'lambda': 1.8223899156358192, 'learning_rate': 0.20942811008330278, 'max_depth': 3, 'subsample': 0.8008529464106052, 'colsample_bytree': 0.8516174785667238, 'min_child_weight': 7.15662036126876}.\n"
     ]
    },
    {
     "name": "stdout",
     "output_type": "stream",
     "text": [
      "113 "
     ]
    },
    {
     "name": "stderr",
     "output_type": "stream",
     "text": [
      "[I 2019-02-09 13:59:14,698] Finished a trial resulted in value: 0.17081699346405232. Current best value is 0.16374183006535958 with parameters: {'n_estimators': 461, 'gamma': 0.9951214363561628, 'lambda': 1.8223899156358192, 'learning_rate': 0.20942811008330278, 'max_depth': 3, 'subsample': 0.8008529464106052, 'colsample_bytree': 0.8516174785667238, 'min_child_weight': 7.15662036126876}.\n"
     ]
    },
    {
     "name": "stdout",
     "output_type": "stream",
     "text": [
      "114 "
     ]
    },
    {
     "name": "stderr",
     "output_type": "stream",
     "text": [
      "[I 2019-02-09 13:59:19,308] Finished a trial resulted in value: 0.18296568627450993. Current best value is 0.16374183006535958 with parameters: {'n_estimators': 461, 'gamma': 0.9951214363561628, 'lambda': 1.8223899156358192, 'learning_rate': 0.20942811008330278, 'max_depth': 3, 'subsample': 0.8008529464106052, 'colsample_bytree': 0.8516174785667238, 'min_child_weight': 7.15662036126876}.\n"
     ]
    },
    {
     "name": "stdout",
     "output_type": "stream",
     "text": [
      "115 "
     ]
    },
    {
     "name": "stderr",
     "output_type": "stream",
     "text": [
      "[I 2019-02-09 13:59:33,983] Finished a trial resulted in value: 0.1763071895424837. Current best value is 0.16374183006535958 with parameters: {'n_estimators': 461, 'gamma': 0.9951214363561628, 'lambda': 1.8223899156358192, 'learning_rate': 0.20942811008330278, 'max_depth': 3, 'subsample': 0.8008529464106052, 'colsample_bytree': 0.8516174785667238, 'min_child_weight': 7.15662036126876}.\n"
     ]
    },
    {
     "name": "stdout",
     "output_type": "stream",
     "text": [
      "116 "
     ]
    },
    {
     "name": "stderr",
     "output_type": "stream",
     "text": [
      "[I 2019-02-09 13:59:48,893] Finished a trial resulted in value: 0.16944444444444462. Current best value is 0.16374183006535958 with parameters: {'n_estimators': 461, 'gamma': 0.9951214363561628, 'lambda': 1.8223899156358192, 'learning_rate': 0.20942811008330278, 'max_depth': 3, 'subsample': 0.8008529464106052, 'colsample_bytree': 0.8516174785667238, 'min_child_weight': 7.15662036126876}.\n"
     ]
    },
    {
     "name": "stdout",
     "output_type": "stream",
     "text": [
      "117 "
     ]
    },
    {
     "name": "stderr",
     "output_type": "stream",
     "text": [
      "[I 2019-02-09 14:00:04,765] Finished a trial resulted in value: 0.17160130718954258. Current best value is 0.16374183006535958 with parameters: {'n_estimators': 461, 'gamma': 0.9951214363561628, 'lambda': 1.8223899156358192, 'learning_rate': 0.20942811008330278, 'max_depth': 3, 'subsample': 0.8008529464106052, 'colsample_bytree': 0.8516174785667238, 'min_child_weight': 7.15662036126876}.\n"
     ]
    },
    {
     "name": "stdout",
     "output_type": "stream",
     "text": [
      "118 "
     ]
    },
    {
     "name": "stderr",
     "output_type": "stream",
     "text": [
      "[I 2019-02-09 14:00:12,172] Finished a trial resulted in value: 0.170686274509804. Current best value is 0.16374183006535958 with parameters: {'n_estimators': 461, 'gamma': 0.9951214363561628, 'lambda': 1.8223899156358192, 'learning_rate': 0.20942811008330278, 'max_depth': 3, 'subsample': 0.8008529464106052, 'colsample_bytree': 0.8516174785667238, 'min_child_weight': 7.15662036126876}.\n"
     ]
    },
    {
     "name": "stdout",
     "output_type": "stream",
     "text": [
      "119 "
     ]
    },
    {
     "name": "stderr",
     "output_type": "stream",
     "text": [
      "[I 2019-02-09 14:00:35,332] Finished a trial resulted in value: 0.18428921568627443. Current best value is 0.16374183006535958 with parameters: {'n_estimators': 461, 'gamma': 0.9951214363561628, 'lambda': 1.8223899156358192, 'learning_rate': 0.20942811008330278, 'max_depth': 3, 'subsample': 0.8008529464106052, 'colsample_bytree': 0.8516174785667238, 'min_child_weight': 7.15662036126876}.\n"
     ]
    },
    {
     "name": "stdout",
     "output_type": "stream",
     "text": [
      "120 "
     ]
    },
    {
     "name": "stderr",
     "output_type": "stream",
     "text": [
      "[I 2019-02-09 14:00:43,379] Finished a trial resulted in value: 0.1727777777777778. Current best value is 0.16374183006535958 with parameters: {'n_estimators': 461, 'gamma': 0.9951214363561628, 'lambda': 1.8223899156358192, 'learning_rate': 0.20942811008330278, 'max_depth': 3, 'subsample': 0.8008529464106052, 'colsample_bytree': 0.8516174785667238, 'min_child_weight': 7.15662036126876}.\n"
     ]
    },
    {
     "name": "stdout",
     "output_type": "stream",
     "text": [
      "121 "
     ]
    },
    {
     "name": "stderr",
     "output_type": "stream",
     "text": [
      "[I 2019-02-09 14:00:45,778] Finished a trial resulted in value: 0.20010620915032673. Current best value is 0.16374183006535958 with parameters: {'n_estimators': 461, 'gamma': 0.9951214363561628, 'lambda': 1.8223899156358192, 'learning_rate': 0.20942811008330278, 'max_depth': 3, 'subsample': 0.8008529464106052, 'colsample_bytree': 0.8516174785667238, 'min_child_weight': 7.15662036126876}.\n"
     ]
    },
    {
     "name": "stdout",
     "output_type": "stream",
     "text": [
      "122 "
     ]
    },
    {
     "name": "stderr",
     "output_type": "stream",
     "text": [
      "[I 2019-02-09 14:00:59,794] Finished a trial resulted in value: 0.17172385620915032. Current best value is 0.16374183006535958 with parameters: {'n_estimators': 461, 'gamma': 0.9951214363561628, 'lambda': 1.8223899156358192, 'learning_rate': 0.20942811008330278, 'max_depth': 3, 'subsample': 0.8008529464106052, 'colsample_bytree': 0.8516174785667238, 'min_child_weight': 7.15662036126876}.\n"
     ]
    },
    {
     "name": "stdout",
     "output_type": "stream",
     "text": [
      "123 "
     ]
    },
    {
     "name": "stderr",
     "output_type": "stream",
     "text": [
      "[I 2019-02-09 14:01:12,094] Finished a trial resulted in value: 0.1694444444444444. Current best value is 0.16374183006535958 with parameters: {'n_estimators': 461, 'gamma': 0.9951214363561628, 'lambda': 1.8223899156358192, 'learning_rate': 0.20942811008330278, 'max_depth': 3, 'subsample': 0.8008529464106052, 'colsample_bytree': 0.8516174785667238, 'min_child_weight': 7.15662036126876}.\n"
     ]
    },
    {
     "name": "stdout",
     "output_type": "stream",
     "text": [
      "124 "
     ]
    },
    {
     "name": "stderr",
     "output_type": "stream",
     "text": [
      "[I 2019-02-09 14:01:25,075] Finished a trial resulted in value: 0.17395424836601303. Current best value is 0.16374183006535958 with parameters: {'n_estimators': 461, 'gamma': 0.9951214363561628, 'lambda': 1.8223899156358192, 'learning_rate': 0.20942811008330278, 'max_depth': 3, 'subsample': 0.8008529464106052, 'colsample_bytree': 0.8516174785667238, 'min_child_weight': 7.15662036126876}.\n"
     ]
    },
    {
     "name": "stdout",
     "output_type": "stream",
     "text": [
      "125 "
     ]
    },
    {
     "name": "stderr",
     "output_type": "stream",
     "text": [
      "[I 2019-02-09 14:01:41,574] Finished a trial resulted in value: 0.1919281045751633. Current best value is 0.16374183006535958 with parameters: {'n_estimators': 461, 'gamma': 0.9951214363561628, 'lambda': 1.8223899156358192, 'learning_rate': 0.20942811008330278, 'max_depth': 3, 'subsample': 0.8008529464106052, 'colsample_bytree': 0.8516174785667238, 'min_child_weight': 7.15662036126876}.\n"
     ]
    },
    {
     "name": "stdout",
     "output_type": "stream",
     "text": [
      "126 "
     ]
    },
    {
     "name": "stderr",
     "output_type": "stream",
     "text": [
      "[I 2019-02-09 14:01:43,822] Finished a trial resulted in value: 0.18872549019607843. Current best value is 0.16374183006535958 with parameters: {'n_estimators': 461, 'gamma': 0.9951214363561628, 'lambda': 1.8223899156358192, 'learning_rate': 0.20942811008330278, 'max_depth': 3, 'subsample': 0.8008529464106052, 'colsample_bytree': 0.8516174785667238, 'min_child_weight': 7.15662036126876}.\n"
     ]
    },
    {
     "name": "stdout",
     "output_type": "stream",
     "text": [
      "127 "
     ]
    },
    {
     "name": "stderr",
     "output_type": "stream",
     "text": [
      "[I 2019-02-09 14:02:11,462] Finished a trial resulted in value: 0.17722222222222217. Current best value is 0.16374183006535958 with parameters: {'n_estimators': 461, 'gamma': 0.9951214363561628, 'lambda': 1.8223899156358192, 'learning_rate': 0.20942811008330278, 'max_depth': 3, 'subsample': 0.8008529464106052, 'colsample_bytree': 0.8516174785667238, 'min_child_weight': 7.15662036126876}.\n"
     ]
    },
    {
     "name": "stdout",
     "output_type": "stream",
     "text": [
      "128 "
     ]
    },
    {
     "name": "stderr",
     "output_type": "stream",
     "text": [
      "[I 2019-02-09 14:02:33,931] Finished a trial resulted in value: 0.19526960784313718. Current best value is 0.16374183006535958 with parameters: {'n_estimators': 461, 'gamma': 0.9951214363561628, 'lambda': 1.8223899156358192, 'learning_rate': 0.20942811008330278, 'max_depth': 3, 'subsample': 0.8008529464106052, 'colsample_bytree': 0.8516174785667238, 'min_child_weight': 7.15662036126876}.\n"
     ]
    },
    {
     "name": "stdout",
     "output_type": "stream",
     "text": [
      "129 "
     ]
    },
    {
     "name": "stderr",
     "output_type": "stream",
     "text": [
      "[I 2019-02-09 14:02:48,642] Finished a trial resulted in value: 0.1773529411764706. Current best value is 0.16374183006535958 with parameters: {'n_estimators': 461, 'gamma': 0.9951214363561628, 'lambda': 1.8223899156358192, 'learning_rate': 0.20942811008330278, 'max_depth': 3, 'subsample': 0.8008529464106052, 'colsample_bytree': 0.8516174785667238, 'min_child_weight': 7.15662036126876}.\n"
     ]
    },
    {
     "name": "stdout",
     "output_type": "stream",
     "text": [
      "130 "
     ]
    },
    {
     "name": "stderr",
     "output_type": "stream",
     "text": [
      "[I 2019-02-09 14:03:12,845] Finished a trial resulted in value: 0.19519607843137254. Current best value is 0.16374183006535958 with parameters: {'n_estimators': 461, 'gamma': 0.9951214363561628, 'lambda': 1.8223899156358192, 'learning_rate': 0.20942811008330278, 'max_depth': 3, 'subsample': 0.8008529464106052, 'colsample_bytree': 0.8516174785667238, 'min_child_weight': 7.15662036126876}.\n"
     ]
    },
    {
     "name": "stdout",
     "output_type": "stream",
     "text": [
      "131 "
     ]
    },
    {
     "name": "stderr",
     "output_type": "stream",
     "text": [
      "[I 2019-02-09 14:03:27,487] Finished a trial resulted in value: 0.1829738562091502. Current best value is 0.16374183006535958 with parameters: {'n_estimators': 461, 'gamma': 0.9951214363561628, 'lambda': 1.8223899156358192, 'learning_rate': 0.20942811008330278, 'max_depth': 3, 'subsample': 0.8008529464106052, 'colsample_bytree': 0.8516174785667238, 'min_child_weight': 7.15662036126876}.\n"
     ]
    },
    {
     "name": "stdout",
     "output_type": "stream",
     "text": [
      "132 "
     ]
    },
    {
     "name": "stderr",
     "output_type": "stream",
     "text": [
      "[I 2019-02-09 14:03:44,750] Finished a trial resulted in value: 0.17271241830065365. Current best value is 0.16374183006535958 with parameters: {'n_estimators': 461, 'gamma': 0.9951214363561628, 'lambda': 1.8223899156358192, 'learning_rate': 0.20942811008330278, 'max_depth': 3, 'subsample': 0.8008529464106052, 'colsample_bytree': 0.8516174785667238, 'min_child_weight': 7.15662036126876}.\n"
     ]
    },
    {
     "name": "stdout",
     "output_type": "stream",
     "text": [
      "133 "
     ]
    },
    {
     "name": "stderr",
     "output_type": "stream",
     "text": [
      "[I 2019-02-09 14:03:46,430] Finished a trial resulted in value: 0.18199346405228767. Current best value is 0.16374183006535958 with parameters: {'n_estimators': 461, 'gamma': 0.9951214363561628, 'lambda': 1.8223899156358192, 'learning_rate': 0.20942811008330278, 'max_depth': 3, 'subsample': 0.8008529464106052, 'colsample_bytree': 0.8516174785667238, 'min_child_weight': 7.15662036126876}.\n"
     ]
    },
    {
     "name": "stdout",
     "output_type": "stream",
     "text": [
      "134 "
     ]
    },
    {
     "name": "stderr",
     "output_type": "stream",
     "text": [
      "[I 2019-02-09 14:03:57,107] Finished a trial resulted in value: 0.18990196078431365. Current best value is 0.16374183006535958 with parameters: {'n_estimators': 461, 'gamma': 0.9951214363561628, 'lambda': 1.8223899156358192, 'learning_rate': 0.20942811008330278, 'max_depth': 3, 'subsample': 0.8008529464106052, 'colsample_bytree': 0.8516174785667238, 'min_child_weight': 7.15662036126876}.\n"
     ]
    },
    {
     "name": "stdout",
     "output_type": "stream",
     "text": [
      "135 "
     ]
    },
    {
     "name": "stderr",
     "output_type": "stream",
     "text": [
      "[I 2019-02-09 14:04:13,241] Finished a trial resulted in value: 0.16589869281045766. Current best value is 0.16374183006535958 with parameters: {'n_estimators': 461, 'gamma': 0.9951214363561628, 'lambda': 1.8223899156358192, 'learning_rate': 0.20942811008330278, 'max_depth': 3, 'subsample': 0.8008529464106052, 'colsample_bytree': 0.8516174785667238, 'min_child_weight': 7.15662036126876}.\n"
     ]
    },
    {
     "name": "stdout",
     "output_type": "stream",
     "text": [
      "136 "
     ]
    },
    {
     "name": "stderr",
     "output_type": "stream",
     "text": [
      "[I 2019-02-09 14:04:18,177] Finished a trial resulted in value: 0.19232843137254907. Current best value is 0.16374183006535958 with parameters: {'n_estimators': 461, 'gamma': 0.9951214363561628, 'lambda': 1.8223899156358192, 'learning_rate': 0.20942811008330278, 'max_depth': 3, 'subsample': 0.8008529464106052, 'colsample_bytree': 0.8516174785667238, 'min_child_weight': 7.15662036126876}.\n"
     ]
    },
    {
     "name": "stdout",
     "output_type": "stream",
     "text": [
      "137 "
     ]
    },
    {
     "name": "stderr",
     "output_type": "stream",
     "text": [
      "[I 2019-02-09 14:04:29,076] Finished a trial resulted in value: 0.1840767973856211. Current best value is 0.16374183006535958 with parameters: {'n_estimators': 461, 'gamma': 0.9951214363561628, 'lambda': 1.8223899156358192, 'learning_rate': 0.20942811008330278, 'max_depth': 3, 'subsample': 0.8008529464106052, 'colsample_bytree': 0.8516174785667238, 'min_child_weight': 7.15662036126876}.\n"
     ]
    },
    {
     "name": "stdout",
     "output_type": "stream",
     "text": [
      "138 "
     ]
    },
    {
     "name": "stderr",
     "output_type": "stream",
     "text": [
      "[I 2019-02-09 14:04:45,338] Finished a trial resulted in value: 0.16166666666666674. Current best value is 0.16166666666666674 with parameters: {'n_estimators': 540, 'gamma': 0.9604759967491182, 'lambda': 0.581297579157716, 'learning_rate': 0.08341964640461699, 'max_depth': 14, 'subsample': 0.6381673683817124, 'colsample_bytree': 0.7731933842952194, 'min_child_weight': 6.50463579511956}.\n"
     ]
    },
    {
     "name": "stdout",
     "output_type": "stream",
     "text": [
      "139 "
     ]
    },
    {
     "name": "stderr",
     "output_type": "stream",
     "text": [
      "[I 2019-02-09 14:05:18,787] Finished a trial resulted in value: 0.17513888888888884. Current best value is 0.16166666666666674 with parameters: {'n_estimators': 540, 'gamma': 0.9604759967491182, 'lambda': 0.581297579157716, 'learning_rate': 0.08341964640461699, 'max_depth': 14, 'subsample': 0.6381673683817124, 'colsample_bytree': 0.7731933842952194, 'min_child_weight': 6.50463579511956}.\n"
     ]
    },
    {
     "name": "stdout",
     "output_type": "stream",
     "text": [
      "140 "
     ]
    },
    {
     "name": "stderr",
     "output_type": "stream",
     "text": [
      "[I 2019-02-09 14:05:27,895] Finished a trial resulted in value: 0.16472222222222233. Current best value is 0.16166666666666674 with parameters: {'n_estimators': 540, 'gamma': 0.9604759967491182, 'lambda': 0.581297579157716, 'learning_rate': 0.08341964640461699, 'max_depth': 14, 'subsample': 0.6381673683817124, 'colsample_bytree': 0.7731933842952194, 'min_child_weight': 6.50463579511956}.\n"
     ]
    },
    {
     "name": "stdout",
     "output_type": "stream",
     "text": [
      "141 "
     ]
    },
    {
     "name": "stderr",
     "output_type": "stream",
     "text": [
      "[I 2019-02-09 14:05:58,109] Finished a trial resulted in value: 0.16728758169934654. Current best value is 0.16166666666666674 with parameters: {'n_estimators': 540, 'gamma': 0.9604759967491182, 'lambda': 0.581297579157716, 'learning_rate': 0.08341964640461699, 'max_depth': 14, 'subsample': 0.6381673683817124, 'colsample_bytree': 0.7731933842952194, 'min_child_weight': 6.50463579511956}.\n"
     ]
    },
    {
     "name": "stdout",
     "output_type": "stream",
     "text": [
      "142 "
     ]
    },
    {
     "name": "stderr",
     "output_type": "stream",
     "text": [
      "[I 2019-02-09 14:06:03,953] Finished a trial resulted in value: 0.16027777777777774. Current best value is 0.16027777777777774 with parameters: {'n_estimators': 155, 'gamma': 0.8647023395127316, 'lambda': 0.8155890229405995, 'learning_rate': 0.06167350634562869, 'max_depth': 14, 'subsample': 0.7618927459553066, 'colsample_bytree': 0.84343896034231, 'min_child_weight': 6.933571547019118}.\n"
     ]
    },
    {
     "name": "stdout",
     "output_type": "stream",
     "text": [
      "143 "
     ]
    },
    {
     "name": "stderr",
     "output_type": "stream",
     "text": [
      "[I 2019-02-09 14:06:08,693] Finished a trial resulted in value: 0.18296568627450993. Current best value is 0.16027777777777774 with parameters: {'n_estimators': 155, 'gamma': 0.8647023395127316, 'lambda': 0.8155890229405995, 'learning_rate': 0.06167350634562869, 'max_depth': 14, 'subsample': 0.7618927459553066, 'colsample_bytree': 0.84343896034231, 'min_child_weight': 6.933571547019118}.\n"
     ]
    },
    {
     "name": "stdout",
     "output_type": "stream",
     "text": [
      "144 "
     ]
    },
    {
     "name": "stderr",
     "output_type": "stream",
     "text": [
      "[I 2019-02-09 14:06:11,815] Finished a trial resulted in value: 0.18199346405228767. Current best value is 0.16027777777777774 with parameters: {'n_estimators': 155, 'gamma': 0.8647023395127316, 'lambda': 0.8155890229405995, 'learning_rate': 0.06167350634562869, 'max_depth': 14, 'subsample': 0.7618927459553066, 'colsample_bytree': 0.84343896034231, 'min_child_weight': 6.933571547019118}.\n"
     ]
    },
    {
     "name": "stdout",
     "output_type": "stream",
     "text": [
      "145 "
     ]
    },
    {
     "name": "stderr",
     "output_type": "stream",
     "text": [
      "[I 2019-02-09 14:06:13,591] Finished a trial resulted in value: 0.18165032679738569. Current best value is 0.16027777777777774 with parameters: {'n_estimators': 155, 'gamma': 0.8647023395127316, 'lambda': 0.8155890229405995, 'learning_rate': 0.06167350634562869, 'max_depth': 14, 'subsample': 0.7618927459553066, 'colsample_bytree': 0.84343896034231, 'min_child_weight': 6.933571547019118}.\n"
     ]
    },
    {
     "name": "stdout",
     "output_type": "stream",
     "text": [
      "146 "
     ]
    },
    {
     "name": "stderr",
     "output_type": "stream",
     "text": [
      "[I 2019-02-09 14:06:19,416] Finished a trial resulted in value: 0.1649264705882354. Current best value is 0.16027777777777774 with parameters: {'n_estimators': 155, 'gamma': 0.8647023395127316, 'lambda': 0.8155890229405995, 'learning_rate': 0.06167350634562869, 'max_depth': 14, 'subsample': 0.7618927459553066, 'colsample_bytree': 0.84343896034231, 'min_child_weight': 6.933571547019118}.\n"
     ]
    },
    {
     "name": "stdout",
     "output_type": "stream",
     "text": [
      "147 "
     ]
    },
    {
     "name": "stderr",
     "output_type": "stream",
     "text": [
      "[I 2019-02-09 14:06:23,609] Finished a trial resulted in value: 0.18734477124183002. Current best value is 0.16027777777777774 with parameters: {'n_estimators': 155, 'gamma': 0.8647023395127316, 'lambda': 0.8155890229405995, 'learning_rate': 0.06167350634562869, 'max_depth': 14, 'subsample': 0.7618927459553066, 'colsample_bytree': 0.84343896034231, 'min_child_weight': 6.933571547019118}.\n"
     ]
    },
    {
     "name": "stdout",
     "output_type": "stream",
     "text": [
      "148 "
     ]
    },
    {
     "name": "stderr",
     "output_type": "stream",
     "text": [
      "[I 2019-02-09 14:06:32,173] Finished a trial resulted in value: 0.16486111111111112. Current best value is 0.16027777777777774 with parameters: {'n_estimators': 155, 'gamma': 0.8647023395127316, 'lambda': 0.8155890229405995, 'learning_rate': 0.06167350634562869, 'max_depth': 14, 'subsample': 0.7618927459553066, 'colsample_bytree': 0.84343896034231, 'min_child_weight': 6.933571547019118}.\n"
     ]
    },
    {
     "name": "stdout",
     "output_type": "stream",
     "text": [
      "149 "
     ]
    },
    {
     "name": "stderr",
     "output_type": "stream",
     "text": [
      "[I 2019-02-09 14:06:39,056] Finished a trial resulted in value: 0.16486111111111112. Current best value is 0.16027777777777774 with parameters: {'n_estimators': 155, 'gamma': 0.8647023395127316, 'lambda': 0.8155890229405995, 'learning_rate': 0.06167350634562869, 'max_depth': 14, 'subsample': 0.7618927459553066, 'colsample_bytree': 0.84343896034231, 'min_child_weight': 6.933571547019118}.\n"
     ]
    },
    {
     "name": "stdout",
     "output_type": "stream",
     "text": [
      "150 "
     ]
    },
    {
     "name": "stderr",
     "output_type": "stream",
     "text": [
      "[I 2019-02-09 14:06:41,272] Finished a trial resulted in value: 0.19629901960784313. Current best value is 0.16027777777777774 with parameters: {'n_estimators': 155, 'gamma': 0.8647023395127316, 'lambda': 0.8155890229405995, 'learning_rate': 0.06167350634562869, 'max_depth': 14, 'subsample': 0.7618927459553066, 'colsample_bytree': 0.84343896034231, 'min_child_weight': 6.933571547019118}.\n"
     ]
    },
    {
     "name": "stdout",
     "output_type": "stream",
     "text": [
      "151 "
     ]
    },
    {
     "name": "stderr",
     "output_type": "stream",
     "text": [
      "[I 2019-02-09 14:06:48,674] Finished a trial resulted in value: 0.16173202614379079. Current best value is 0.16027777777777774 with parameters: {'n_estimators': 155, 'gamma': 0.8647023395127316, 'lambda': 0.8155890229405995, 'learning_rate': 0.06167350634562869, 'max_depth': 14, 'subsample': 0.7618927459553066, 'colsample_bytree': 0.84343896034231, 'min_child_weight': 6.933571547019118}.\n"
     ]
    },
    {
     "name": "stdout",
     "output_type": "stream",
     "text": [
      "152 "
     ]
    },
    {
     "name": "stderr",
     "output_type": "stream",
     "text": [
      "[I 2019-02-09 14:06:49,764] Finished a trial resulted in value: 0.1808823529411765. Current best value is 0.16027777777777774 with parameters: {'n_estimators': 155, 'gamma': 0.8647023395127316, 'lambda': 0.8155890229405995, 'learning_rate': 0.06167350634562869, 'max_depth': 14, 'subsample': 0.7618927459553066, 'colsample_bytree': 0.84343896034231, 'min_child_weight': 6.933571547019118}.\n"
     ]
    },
    {
     "name": "stdout",
     "output_type": "stream",
     "text": [
      "153 "
     ]
    },
    {
     "name": "stderr",
     "output_type": "stream",
     "text": [
      "[I 2019-02-09 14:06:59,270] Finished a trial resulted in value: 0.16173202614379079. Current best value is 0.16027777777777774 with parameters: {'n_estimators': 155, 'gamma': 0.8647023395127316, 'lambda': 0.8155890229405995, 'learning_rate': 0.06167350634562869, 'max_depth': 14, 'subsample': 0.7618927459553066, 'colsample_bytree': 0.84343896034231, 'min_child_weight': 6.933571547019118}.\n"
     ]
    },
    {
     "name": "stdout",
     "output_type": "stream",
     "text": [
      "154 "
     ]
    },
    {
     "name": "stderr",
     "output_type": "stream",
     "text": [
      "[I 2019-02-09 14:07:08,590] Finished a trial resulted in value: 0.16722222222222227. Current best value is 0.16027777777777774 with parameters: {'n_estimators': 155, 'gamma': 0.8647023395127316, 'lambda': 0.8155890229405995, 'learning_rate': 0.06167350634562869, 'max_depth': 14, 'subsample': 0.7618927459553066, 'colsample_bytree': 0.84343896034231, 'min_child_weight': 6.933571547019118}.\n"
     ]
    },
    {
     "name": "stdout",
     "output_type": "stream",
     "text": [
      "155 "
     ]
    },
    {
     "name": "stderr",
     "output_type": "stream",
     "text": [
      "[I 2019-02-09 14:07:15,851] Finished a trial resulted in value: 0.16832516339869297. Current best value is 0.16027777777777774 with parameters: {'n_estimators': 155, 'gamma': 0.8647023395127316, 'lambda': 0.8155890229405995, 'learning_rate': 0.06167350634562869, 'max_depth': 14, 'subsample': 0.7618927459553066, 'colsample_bytree': 0.84343896034231, 'min_child_weight': 6.933571547019118}.\n"
     ]
    },
    {
     "name": "stdout",
     "output_type": "stream",
     "text": [
      "156 "
     ]
    },
    {
     "name": "stderr",
     "output_type": "stream",
     "text": [
      "[I 2019-02-09 14:07:21,571] Finished a trial resulted in value: 0.16500000000000004. Current best value is 0.16027777777777774 with parameters: {'n_estimators': 155, 'gamma': 0.8647023395127316, 'lambda': 0.8155890229405995, 'learning_rate': 0.06167350634562869, 'max_depth': 14, 'subsample': 0.7618927459553066, 'colsample_bytree': 0.84343896034231, 'min_child_weight': 6.933571547019118}.\n"
     ]
    },
    {
     "name": "stdout",
     "output_type": "stream",
     "text": [
      "157 "
     ]
    },
    {
     "name": "stderr",
     "output_type": "stream",
     "text": [
      "[I 2019-02-09 14:07:30,883] Finished a trial resulted in value: 0.17727941176470596. Current best value is 0.16027777777777774 with parameters: {'n_estimators': 155, 'gamma': 0.8647023395127316, 'lambda': 0.8155890229405995, 'learning_rate': 0.06167350634562869, 'max_depth': 14, 'subsample': 0.7618927459553066, 'colsample_bytree': 0.84343896034231, 'min_child_weight': 6.933571547019118}.\n"
     ]
    },
    {
     "name": "stdout",
     "output_type": "stream",
     "text": [
      "158 "
     ]
    },
    {
     "name": "stderr",
     "output_type": "stream",
     "text": [
      "[I 2019-02-09 14:07:37,066] Finished a trial resulted in value: 0.16728758169934632. Current best value is 0.16027777777777774 with parameters: {'n_estimators': 155, 'gamma': 0.8647023395127316, 'lambda': 0.8155890229405995, 'learning_rate': 0.06167350634562869, 'max_depth': 14, 'subsample': 0.7618927459553066, 'colsample_bytree': 0.84343896034231, 'min_child_weight': 6.933571547019118}.\n"
     ]
    },
    {
     "name": "stdout",
     "output_type": "stream",
     "text": [
      "159 "
     ]
    },
    {
     "name": "stderr",
     "output_type": "stream",
     "text": [
      "[I 2019-02-09 14:07:42,525] Finished a trial resulted in value: 0.1682598039215688. Current best value is 0.16027777777777774 with parameters: {'n_estimators': 155, 'gamma': 0.8647023395127316, 'lambda': 0.8155890229405995, 'learning_rate': 0.06167350634562869, 'max_depth': 14, 'subsample': 0.7618927459553066, 'colsample_bytree': 0.84343896034231, 'min_child_weight': 6.933571547019118}.\n"
     ]
    },
    {
     "name": "stdout",
     "output_type": "stream",
     "text": [
      "160 "
     ]
    },
    {
     "name": "stderr",
     "output_type": "stream",
     "text": [
      "[I 2019-02-09 14:07:52,621] Finished a trial resulted in value: 0.18401143790849683. Current best value is 0.16027777777777774 with parameters: {'n_estimators': 155, 'gamma': 0.8647023395127316, 'lambda': 0.8155890229405995, 'learning_rate': 0.06167350634562869, 'max_depth': 14, 'subsample': 0.7618927459553066, 'colsample_bytree': 0.84343896034231, 'min_child_weight': 6.933571547019118}.\n"
     ]
    },
    {
     "name": "stdout",
     "output_type": "stream",
     "text": [
      "161 "
     ]
    },
    {
     "name": "stderr",
     "output_type": "stream",
     "text": [
      "[I 2019-02-09 14:07:58,876] Finished a trial resulted in value: 0.1673529411764706. Current best value is 0.16027777777777774 with parameters: {'n_estimators': 155, 'gamma': 0.8647023395127316, 'lambda': 0.8155890229405995, 'learning_rate': 0.06167350634562869, 'max_depth': 14, 'subsample': 0.7618927459553066, 'colsample_bytree': 0.84343896034231, 'min_child_weight': 6.933571547019118}.\n"
     ]
    },
    {
     "name": "stdout",
     "output_type": "stream",
     "text": [
      "162 "
     ]
    },
    {
     "name": "stderr",
     "output_type": "stream",
     "text": [
      "[I 2019-02-09 14:08:03,329] Finished a trial resulted in value: 0.16943627450980403. Current best value is 0.16027777777777774 with parameters: {'n_estimators': 155, 'gamma': 0.8647023395127316, 'lambda': 0.8155890229405995, 'learning_rate': 0.06167350634562869, 'max_depth': 14, 'subsample': 0.7618927459553066, 'colsample_bytree': 0.84343896034231, 'min_child_weight': 6.933571547019118}.\n"
     ]
    },
    {
     "name": "stdout",
     "output_type": "stream",
     "text": [
      "163 "
     ]
    },
    {
     "name": "stderr",
     "output_type": "stream",
     "text": [
      "[I 2019-02-09 14:08:12,487] Finished a trial resulted in value: 0.15950980392156866. Current best value is 0.15950980392156866 with parameters: {'n_estimators': 365, 'gamma': 0.9463215925874623, 'lambda': 0.7003493267636609, 'learning_rate': 0.10598151700122684, 'max_depth': 13, 'subsample': 0.8722349655305385, 'colsample_bytree': 0.619292241473029, 'min_child_weight': 9.254307152530908}.\n"
     ]
    },
    {
     "name": "stdout",
     "output_type": "stream",
     "text": [
      "164 "
     ]
    },
    {
     "name": "stderr",
     "output_type": "stream",
     "text": [
      "[I 2019-02-09 14:08:20,918] Finished a trial resulted in value: 0.16714869281045763. Current best value is 0.15950980392156866 with parameters: {'n_estimators': 365, 'gamma': 0.9463215925874623, 'lambda': 0.7003493267636609, 'learning_rate': 0.10598151700122684, 'max_depth': 13, 'subsample': 0.8722349655305385, 'colsample_bytree': 0.619292241473029, 'min_child_weight': 9.254307152530908}.\n"
     ]
    },
    {
     "name": "stdout",
     "output_type": "stream",
     "text": [
      "165 "
     ]
    },
    {
     "name": "stderr",
     "output_type": "stream",
     "text": [
      "[I 2019-02-09 14:08:29,513] Finished a trial resulted in value: 0.16950980392156867. Current best value is 0.15950980392156866 with parameters: {'n_estimators': 365, 'gamma': 0.9463215925874623, 'lambda': 0.7003493267636609, 'learning_rate': 0.10598151700122684, 'max_depth': 13, 'subsample': 0.8722349655305385, 'colsample_bytree': 0.619292241473029, 'min_child_weight': 9.254307152530908}.\n"
     ]
    },
    {
     "name": "stdout",
     "output_type": "stream",
     "text": [
      "166 "
     ]
    },
    {
     "name": "stderr",
     "output_type": "stream",
     "text": [
      "[I 2019-02-09 14:08:38,294] Finished a trial resulted in value: 0.16276960784313732. Current best value is 0.15950980392156866 with parameters: {'n_estimators': 365, 'gamma': 0.9463215925874623, 'lambda': 0.7003493267636609, 'learning_rate': 0.10598151700122684, 'max_depth': 13, 'subsample': 0.8722349655305385, 'colsample_bytree': 0.619292241473029, 'min_child_weight': 9.254307152530908}.\n"
     ]
    },
    {
     "name": "stdout",
     "output_type": "stream",
     "text": [
      "167 "
     ]
    },
    {
     "name": "stderr",
     "output_type": "stream",
     "text": [
      "[I 2019-02-09 14:08:46,108] Finished a trial resulted in value: 0.1703431372549019. Current best value is 0.15950980392156866 with parameters: {'n_estimators': 365, 'gamma': 0.9463215925874623, 'lambda': 0.7003493267636609, 'learning_rate': 0.10598151700122684, 'max_depth': 13, 'subsample': 0.8722349655305385, 'colsample_bytree': 0.619292241473029, 'min_child_weight': 9.254307152530908}.\n"
     ]
    },
    {
     "name": "stdout",
     "output_type": "stream",
     "text": [
      "168 "
     ]
    },
    {
     "name": "stderr",
     "output_type": "stream",
     "text": [
      "[I 2019-02-09 14:08:48,832] Finished a trial resulted in value: 0.17394607843137255. Current best value is 0.15950980392156866 with parameters: {'n_estimators': 365, 'gamma': 0.9463215925874623, 'lambda': 0.7003493267636609, 'learning_rate': 0.10598151700122684, 'max_depth': 13, 'subsample': 0.8722349655305385, 'colsample_bytree': 0.619292241473029, 'min_child_weight': 9.254307152530908}.\n"
     ]
    },
    {
     "name": "stdout",
     "output_type": "stream",
     "text": [
      "169 "
     ]
    },
    {
     "name": "stderr",
     "output_type": "stream",
     "text": [
      "[I 2019-02-09 14:08:52,730] Finished a trial resulted in value: 0.1728349673202615. Current best value is 0.15950980392156866 with parameters: {'n_estimators': 365, 'gamma': 0.9463215925874623, 'lambda': 0.7003493267636609, 'learning_rate': 0.10598151700122684, 'max_depth': 13, 'subsample': 0.8722349655305385, 'colsample_bytree': 0.619292241473029, 'min_child_weight': 9.254307152530908}.\n"
     ]
    },
    {
     "name": "stdout",
     "output_type": "stream",
     "text": [
      "170 "
     ]
    },
    {
     "name": "stderr",
     "output_type": "stream",
     "text": [
      "[I 2019-02-09 14:08:57,542] Finished a trial resulted in value: 0.1751225490196079. Current best value is 0.15950980392156866 with parameters: {'n_estimators': 365, 'gamma': 0.9463215925874623, 'lambda': 0.7003493267636609, 'learning_rate': 0.10598151700122684, 'max_depth': 13, 'subsample': 0.8722349655305385, 'colsample_bytree': 0.619292241473029, 'min_child_weight': 9.254307152530908}.\n"
     ]
    },
    {
     "name": "stdout",
     "output_type": "stream",
     "text": [
      "171 "
     ]
    },
    {
     "name": "stderr",
     "output_type": "stream",
     "text": [
      "[I 2019-02-09 14:09:10,694] Finished a trial resulted in value: 0.1650653594771242. Current best value is 0.15950980392156866 with parameters: {'n_estimators': 365, 'gamma': 0.9463215925874623, 'lambda': 0.7003493267636609, 'learning_rate': 0.10598151700122684, 'max_depth': 13, 'subsample': 0.8722349655305385, 'colsample_bytree': 0.619292241473029, 'min_child_weight': 9.254307152530908}.\n"
     ]
    },
    {
     "name": "stdout",
     "output_type": "stream",
     "text": [
      "172 "
     ]
    },
    {
     "name": "stderr",
     "output_type": "stream",
     "text": [
      "[I 2019-02-09 14:09:20,615] Finished a trial resulted in value: 0.16957516339869283. Current best value is 0.15950980392156866 with parameters: {'n_estimators': 365, 'gamma': 0.9463215925874623, 'lambda': 0.7003493267636609, 'learning_rate': 0.10598151700122684, 'max_depth': 13, 'subsample': 0.8722349655305385, 'colsample_bytree': 0.619292241473029, 'min_child_weight': 9.254307152530908}.\n"
     ]
    },
    {
     "name": "stdout",
     "output_type": "stream",
     "text": [
      "173 "
     ]
    },
    {
     "name": "stderr",
     "output_type": "stream",
     "text": [
      "[I 2019-02-09 14:09:32,906] Finished a trial resulted in value: 0.1673529411764707. Current best value is 0.15950980392156866 with parameters: {'n_estimators': 365, 'gamma': 0.9463215925874623, 'lambda': 0.7003493267636609, 'learning_rate': 0.10598151700122684, 'max_depth': 13, 'subsample': 0.8722349655305385, 'colsample_bytree': 0.619292241473029, 'min_child_weight': 9.254307152530908}.\n"
     ]
    },
    {
     "name": "stdout",
     "output_type": "stream",
     "text": [
      "174 "
     ]
    },
    {
     "name": "stderr",
     "output_type": "stream",
     "text": [
      "[I 2019-02-09 14:09:39,081] Finished a trial resulted in value: 0.16395424836601302. Current best value is 0.15950980392156866 with parameters: {'n_estimators': 365, 'gamma': 0.9463215925874623, 'lambda': 0.7003493267636609, 'learning_rate': 0.10598151700122684, 'max_depth': 13, 'subsample': 0.8722349655305385, 'colsample_bytree': 0.619292241473029, 'min_child_weight': 9.254307152530908}.\n"
     ]
    },
    {
     "name": "stdout",
     "output_type": "stream",
     "text": [
      "175 "
     ]
    },
    {
     "name": "stderr",
     "output_type": "stream",
     "text": [
      "[I 2019-02-09 14:09:43,510] Finished a trial resulted in value: 0.17388071895424828. Current best value is 0.15950980392156866 with parameters: {'n_estimators': 365, 'gamma': 0.9463215925874623, 'lambda': 0.7003493267636609, 'learning_rate': 0.10598151700122684, 'max_depth': 13, 'subsample': 0.8722349655305385, 'colsample_bytree': 0.619292241473029, 'min_child_weight': 9.254307152530908}.\n"
     ]
    },
    {
     "name": "stdout",
     "output_type": "stream",
     "text": [
      "176 "
     ]
    },
    {
     "name": "stderr",
     "output_type": "stream",
     "text": [
      "[I 2019-02-09 14:09:51,492] Finished a trial resulted in value: 0.16722222222222227. Current best value is 0.15950980392156866 with parameters: {'n_estimators': 365, 'gamma': 0.9463215925874623, 'lambda': 0.7003493267636609, 'learning_rate': 0.10598151700122684, 'max_depth': 13, 'subsample': 0.8722349655305385, 'colsample_bytree': 0.619292241473029, 'min_child_weight': 9.254307152530908}.\n"
     ]
    },
    {
     "name": "stdout",
     "output_type": "stream",
     "text": [
      "177 "
     ]
    },
    {
     "name": "stderr",
     "output_type": "stream",
     "text": [
      "[I 2019-02-09 14:09:58,062] Finished a trial resulted in value: 0.1747875816993465. Current best value is 0.15950980392156866 with parameters: {'n_estimators': 365, 'gamma': 0.9463215925874623, 'lambda': 0.7003493267636609, 'learning_rate': 0.10598151700122684, 'max_depth': 13, 'subsample': 0.8722349655305385, 'colsample_bytree': 0.619292241473029, 'min_child_weight': 9.254307152530908}.\n"
     ]
    },
    {
     "name": "stdout",
     "output_type": "stream",
     "text": [
      "178 "
     ]
    },
    {
     "name": "stderr",
     "output_type": "stream",
     "text": [
      "[I 2019-02-09 14:09:59,156] Finished a trial resulted in value: 0.18394607843137267. Current best value is 0.15950980392156866 with parameters: {'n_estimators': 365, 'gamma': 0.9463215925874623, 'lambda': 0.7003493267636609, 'learning_rate': 0.10598151700122684, 'max_depth': 13, 'subsample': 0.8722349655305385, 'colsample_bytree': 0.619292241473029, 'min_child_weight': 9.254307152530908}.\n"
     ]
    },
    {
     "name": "stdout",
     "output_type": "stream",
     "text": [
      "179 "
     ]
    },
    {
     "name": "stderr",
     "output_type": "stream",
     "text": [
      "[I 2019-02-09 14:10:06,944] Finished a trial resulted in value: 0.1604901960784315. Current best value is 0.15950980392156866 with parameters: {'n_estimators': 365, 'gamma': 0.9463215925874623, 'lambda': 0.7003493267636609, 'learning_rate': 0.10598151700122684, 'max_depth': 13, 'subsample': 0.8722349655305385, 'colsample_bytree': 0.619292241473029, 'min_child_weight': 9.254307152530908}.\n"
     ]
    },
    {
     "name": "stdout",
     "output_type": "stream",
     "text": [
      "180 "
     ]
    },
    {
     "name": "stderr",
     "output_type": "stream",
     "text": [
      "[I 2019-02-09 14:10:14,730] Finished a trial resulted in value: 0.22794117647058842. Current best value is 0.15950980392156866 with parameters: {'n_estimators': 365, 'gamma': 0.9463215925874623, 'lambda': 0.7003493267636609, 'learning_rate': 0.10598151700122684, 'max_depth': 13, 'subsample': 0.8722349655305385, 'colsample_bytree': 0.619292241473029, 'min_child_weight': 9.254307152530908}.\n"
     ]
    },
    {
     "name": "stdout",
     "output_type": "stream",
     "text": [
      "181 "
     ]
    },
    {
     "name": "stderr",
     "output_type": "stream",
     "text": [
      "[I 2019-02-09 14:10:24,888] Finished a trial resulted in value: 0.17382352941176482. Current best value is 0.15950980392156866 with parameters: {'n_estimators': 365, 'gamma': 0.9463215925874623, 'lambda': 0.7003493267636609, 'learning_rate': 0.10598151700122684, 'max_depth': 13, 'subsample': 0.8722349655305385, 'colsample_bytree': 0.619292241473029, 'min_child_weight': 9.254307152530908}.\n"
     ]
    },
    {
     "name": "stdout",
     "output_type": "stream",
     "text": [
      "182 "
     ]
    },
    {
     "name": "stderr",
     "output_type": "stream",
     "text": [
      "[I 2019-02-09 14:10:34,877] Finished a trial resulted in value: 0.17187091503267982. Current best value is 0.15950980392156866 with parameters: {'n_estimators': 365, 'gamma': 0.9463215925874623, 'lambda': 0.7003493267636609, 'learning_rate': 0.10598151700122684, 'max_depth': 13, 'subsample': 0.8722349655305385, 'colsample_bytree': 0.619292241473029, 'min_child_weight': 9.254307152530908}.\n"
     ]
    },
    {
     "name": "stdout",
     "output_type": "stream",
     "text": [
      "183 "
     ]
    },
    {
     "name": "stderr",
     "output_type": "stream",
     "text": [
      "[I 2019-02-09 14:10:41,285] Finished a trial resulted in value: 0.21245915032679752. Current best value is 0.15950980392156866 with parameters: {'n_estimators': 365, 'gamma': 0.9463215925874623, 'lambda': 0.7003493267636609, 'learning_rate': 0.10598151700122684, 'max_depth': 13, 'subsample': 0.8722349655305385, 'colsample_bytree': 0.619292241473029, 'min_child_weight': 9.254307152530908}.\n"
     ]
    },
    {
     "name": "stdout",
     "output_type": "stream",
     "text": [
      "184 "
     ]
    },
    {
     "name": "stderr",
     "output_type": "stream",
     "text": [
      "[I 2019-02-09 14:10:55,150] Finished a trial resulted in value: 0.17409313725490205. Current best value is 0.15950980392156866 with parameters: {'n_estimators': 365, 'gamma': 0.9463215925874623, 'lambda': 0.7003493267636609, 'learning_rate': 0.10598151700122684, 'max_depth': 13, 'subsample': 0.8722349655305385, 'colsample_bytree': 0.619292241473029, 'min_child_weight': 9.254307152530908}.\n"
     ]
    },
    {
     "name": "stdout",
     "output_type": "stream",
     "text": [
      "185 "
     ]
    },
    {
     "name": "stderr",
     "output_type": "stream",
     "text": [
      "[I 2019-02-09 14:10:55,586] Finished a trial resulted in value: 0.23848039215686268. Current best value is 0.15950980392156866 with parameters: {'n_estimators': 365, 'gamma': 0.9463215925874623, 'lambda': 0.7003493267636609, 'learning_rate': 0.10598151700122684, 'max_depth': 13, 'subsample': 0.8722349655305385, 'colsample_bytree': 0.619292241473029, 'min_child_weight': 9.254307152530908}.\n"
     ]
    },
    {
     "name": "stdout",
     "output_type": "stream",
     "text": [
      "186 "
     ]
    },
    {
     "name": "stderr",
     "output_type": "stream",
     "text": [
      "[I 2019-02-09 14:11:09,373] Finished a trial resulted in value: 0.1671568627450981. Current best value is 0.15950980392156866 with parameters: {'n_estimators': 365, 'gamma': 0.9463215925874623, 'lambda': 0.7003493267636609, 'learning_rate': 0.10598151700122684, 'max_depth': 13, 'subsample': 0.8722349655305385, 'colsample_bytree': 0.619292241473029, 'min_child_weight': 9.254307152530908}.\n"
     ]
    },
    {
     "name": "stdout",
     "output_type": "stream",
     "text": [
      "187 "
     ]
    },
    {
     "name": "stderr",
     "output_type": "stream",
     "text": [
      "[I 2019-02-09 14:11:14,355] Finished a trial resulted in value: 0.17166666666666675. Current best value is 0.15950980392156866 with parameters: {'n_estimators': 365, 'gamma': 0.9463215925874623, 'lambda': 0.7003493267636609, 'learning_rate': 0.10598151700122684, 'max_depth': 13, 'subsample': 0.8722349655305385, 'colsample_bytree': 0.619292241473029, 'min_child_weight': 9.254307152530908}.\n"
     ]
    },
    {
     "name": "stdout",
     "output_type": "stream",
     "text": [
      "188 "
     ]
    },
    {
     "name": "stderr",
     "output_type": "stream",
     "text": [
      "[I 2019-02-09 14:11:25,565] Finished a trial resulted in value: 0.1706862745098039. Current best value is 0.15950980392156866 with parameters: {'n_estimators': 365, 'gamma': 0.9463215925874623, 'lambda': 0.7003493267636609, 'learning_rate': 0.10598151700122684, 'max_depth': 13, 'subsample': 0.8722349655305385, 'colsample_bytree': 0.619292241473029, 'min_child_weight': 9.254307152530908}.\n"
     ]
    },
    {
     "name": "stdout",
     "output_type": "stream",
     "text": [
      "189 "
     ]
    },
    {
     "name": "stderr",
     "output_type": "stream",
     "text": [
      "[I 2019-02-09 14:11:31,624] Finished a trial resulted in value: 0.17187091503267993. Current best value is 0.15950980392156866 with parameters: {'n_estimators': 365, 'gamma': 0.9463215925874623, 'lambda': 0.7003493267636609, 'learning_rate': 0.10598151700122684, 'max_depth': 13, 'subsample': 0.8722349655305385, 'colsample_bytree': 0.619292241473029, 'min_child_weight': 9.254307152530908}.\n"
     ]
    },
    {
     "name": "stdout",
     "output_type": "stream",
     "text": [
      "190 "
     ]
    },
    {
     "name": "stderr",
     "output_type": "stream",
     "text": [
      "[I 2019-02-09 14:11:37,736] Finished a trial resulted in value: 0.17304738562091504. Current best value is 0.15950980392156866 with parameters: {'n_estimators': 365, 'gamma': 0.9463215925874623, 'lambda': 0.7003493267636609, 'learning_rate': 0.10598151700122684, 'max_depth': 13, 'subsample': 0.8722349655305385, 'colsample_bytree': 0.619292241473029, 'min_child_weight': 9.254307152530908}.\n"
     ]
    },
    {
     "name": "stdout",
     "output_type": "stream",
     "text": [
      "191 "
     ]
    },
    {
     "name": "stderr",
     "output_type": "stream",
     "text": [
      "[I 2019-02-09 14:11:41,816] Finished a trial resulted in value: 0.17499183006535957. Current best value is 0.15950980392156866 with parameters: {'n_estimators': 365, 'gamma': 0.9463215925874623, 'lambda': 0.7003493267636609, 'learning_rate': 0.10598151700122684, 'max_depth': 13, 'subsample': 0.8722349655305385, 'colsample_bytree': 0.619292241473029, 'min_child_weight': 9.254307152530908}.\n"
     ]
    },
    {
     "name": "stdout",
     "output_type": "stream",
     "text": [
      "192 "
     ]
    },
    {
     "name": "stderr",
     "output_type": "stream",
     "text": [
      "[I 2019-02-09 14:11:50,532] Finished a trial resulted in value: 0.18180555555555566. Current best value is 0.15950980392156866 with parameters: {'n_estimators': 365, 'gamma': 0.9463215925874623, 'lambda': 0.7003493267636609, 'learning_rate': 0.10598151700122684, 'max_depth': 13, 'subsample': 0.8722349655305385, 'colsample_bytree': 0.619292241473029, 'min_child_weight': 9.254307152530908}.\n"
     ]
    },
    {
     "name": "stdout",
     "output_type": "stream",
     "text": [
      "193 "
     ]
    },
    {
     "name": "stderr",
     "output_type": "stream",
     "text": [
      "[I 2019-02-09 14:11:55,410] Finished a trial resulted in value: 0.2000326797385621. Current best value is 0.15950980392156866 with parameters: {'n_estimators': 365, 'gamma': 0.9463215925874623, 'lambda': 0.7003493267636609, 'learning_rate': 0.10598151700122684, 'max_depth': 13, 'subsample': 0.8722349655305385, 'colsample_bytree': 0.619292241473029, 'min_child_weight': 9.254307152530908}.\n"
     ]
    },
    {
     "name": "stdout",
     "output_type": "stream",
     "text": [
      "194 "
     ]
    },
    {
     "name": "stderr",
     "output_type": "stream",
     "text": [
      "[I 2019-02-09 14:11:56,381] Finished a trial resulted in value: 0.27369281045751637. Current best value is 0.15950980392156866 with parameters: {'n_estimators': 365, 'gamma': 0.9463215925874623, 'lambda': 0.7003493267636609, 'learning_rate': 0.10598151700122684, 'max_depth': 13, 'subsample': 0.8722349655305385, 'colsample_bytree': 0.619292241473029, 'min_child_weight': 9.254307152530908}.\n"
     ]
    },
    {
     "name": "stdout",
     "output_type": "stream",
     "text": [
      "195 "
     ]
    },
    {
     "name": "stderr",
     "output_type": "stream",
     "text": [
      "[I 2019-02-09 14:11:59,791] Finished a trial resulted in value: 0.17560457516339878. Current best value is 0.15950980392156866 with parameters: {'n_estimators': 365, 'gamma': 0.9463215925874623, 'lambda': 0.7003493267636609, 'learning_rate': 0.10598151700122684, 'max_depth': 13, 'subsample': 0.8722349655305385, 'colsample_bytree': 0.619292241473029, 'min_child_weight': 9.254307152530908}.\n"
     ]
    },
    {
     "name": "stdout",
     "output_type": "stream",
     "text": [
      "196 "
     ]
    },
    {
     "name": "stderr",
     "output_type": "stream",
     "text": [
      "[I 2019-02-09 14:12:04,072] Finished a trial resulted in value: 0.17409313725490194. Current best value is 0.15950980392156866 with parameters: {'n_estimators': 365, 'gamma': 0.9463215925874623, 'lambda': 0.7003493267636609, 'learning_rate': 0.10598151700122684, 'max_depth': 13, 'subsample': 0.8722349655305385, 'colsample_bytree': 0.619292241473029, 'min_child_weight': 9.254307152530908}.\n"
     ]
    },
    {
     "name": "stdout",
     "output_type": "stream",
     "text": [
      "197 "
     ]
    },
    {
     "name": "stderr",
     "output_type": "stream",
     "text": [
      "[I 2019-02-09 14:12:13,162] Finished a trial resulted in value: 0.17179738562091496. Current best value is 0.15950980392156866 with parameters: {'n_estimators': 365, 'gamma': 0.9463215925874623, 'lambda': 0.7003493267636609, 'learning_rate': 0.10598151700122684, 'max_depth': 13, 'subsample': 0.8722349655305385, 'colsample_bytree': 0.619292241473029, 'min_child_weight': 9.254307152530908}.\n"
     ]
    },
    {
     "name": "stdout",
     "output_type": "stream",
     "text": [
      "198 "
     ]
    },
    {
     "name": "stderr",
     "output_type": "stream",
     "text": [
      "[I 2019-02-09 14:12:23,565] Finished a trial resulted in value: 0.1796486928104577. Current best value is 0.15950980392156866 with parameters: {'n_estimators': 365, 'gamma': 0.9463215925874623, 'lambda': 0.7003493267636609, 'learning_rate': 0.10598151700122684, 'max_depth': 13, 'subsample': 0.8722349655305385, 'colsample_bytree': 0.619292241473029, 'min_child_weight': 9.254307152530908}.\n"
     ]
    },
    {
     "name": "stdout",
     "output_type": "stream",
     "text": [
      "199 "
     ]
    },
    {
     "name": "stderr",
     "output_type": "stream",
     "text": [
      "[I 2019-02-09 14:12:32,196] Finished a trial resulted in value: 0.17055555555555568. Current best value is 0.15950980392156866 with parameters: {'n_estimators': 365, 'gamma': 0.9463215925874623, 'lambda': 0.7003493267636609, 'learning_rate': 0.10598151700122684, 'max_depth': 13, 'subsample': 0.8722349655305385, 'colsample_bytree': 0.619292241473029, 'min_child_weight': 9.254307152530908}.\n"
     ]
    },
    {
     "name": "stdout",
     "output_type": "stream",
     "text": [
      "200 "
     ]
    },
    {
     "name": "stderr",
     "output_type": "stream",
     "text": [
      "[I 2019-02-09 14:12:40,182] Finished a trial resulted in value: 0.17832516339869287. Current best value is 0.15950980392156866 with parameters: {'n_estimators': 365, 'gamma': 0.9463215925874623, 'lambda': 0.7003493267636609, 'learning_rate': 0.10598151700122684, 'max_depth': 13, 'subsample': 0.8722349655305385, 'colsample_bytree': 0.619292241473029, 'min_child_weight': 9.254307152530908}.\n"
     ]
    },
    {
     "name": "stdout",
     "output_type": "stream",
     "text": [
      "201 "
     ]
    },
    {
     "name": "stderr",
     "output_type": "stream",
     "text": [
      "[I 2019-02-09 14:12:54,035] Finished a trial resulted in value: 0.17839869281045762. Current best value is 0.15950980392156866 with parameters: {'n_estimators': 365, 'gamma': 0.9463215925874623, 'lambda': 0.7003493267636609, 'learning_rate': 0.10598151700122684, 'max_depth': 13, 'subsample': 0.8722349655305385, 'colsample_bytree': 0.619292241473029, 'min_child_weight': 9.254307152530908}.\n"
     ]
    },
    {
     "name": "stdout",
     "output_type": "stream",
     "text": [
      "202 "
     ]
    },
    {
     "name": "stderr",
     "output_type": "stream",
     "text": [
      "[I 2019-02-09 14:12:59,099] Finished a trial resulted in value: 0.18781862745098044. Current best value is 0.15950980392156866 with parameters: {'n_estimators': 365, 'gamma': 0.9463215925874623, 'lambda': 0.7003493267636609, 'learning_rate': 0.10598151700122684, 'max_depth': 13, 'subsample': 0.8722349655305385, 'colsample_bytree': 0.619292241473029, 'min_child_weight': 9.254307152530908}.\n"
     ]
    },
    {
     "name": "stdout",
     "output_type": "stream",
     "text": [
      "203 "
     ]
    },
    {
     "name": "stderr",
     "output_type": "stream",
     "text": [
      "[I 2019-02-09 14:13:16,735] Finished a trial resulted in value: 0.16722222222222227. Current best value is 0.15950980392156866 with parameters: {'n_estimators': 365, 'gamma': 0.9463215925874623, 'lambda': 0.7003493267636609, 'learning_rate': 0.10598151700122684, 'max_depth': 13, 'subsample': 0.8722349655305385, 'colsample_bytree': 0.619292241473029, 'min_child_weight': 9.254307152530908}.\n"
     ]
    },
    {
     "name": "stdout",
     "output_type": "stream",
     "text": [
      "204 "
     ]
    },
    {
     "name": "stderr",
     "output_type": "stream",
     "text": [
      "[I 2019-02-09 14:13:31,561] Finished a trial resulted in value: 0.17067810457516341. Current best value is 0.15950980392156866 with parameters: {'n_estimators': 365, 'gamma': 0.9463215925874623, 'lambda': 0.7003493267636609, 'learning_rate': 0.10598151700122684, 'max_depth': 13, 'subsample': 0.8722349655305385, 'colsample_bytree': 0.619292241473029, 'min_child_weight': 9.254307152530908}.\n"
     ]
    },
    {
     "name": "stdout",
     "output_type": "stream",
     "text": [
      "205 "
     ]
    },
    {
     "name": "stderr",
     "output_type": "stream",
     "text": [
      "[I 2019-02-09 14:13:34,983] Finished a trial resulted in value: 0.17179738562091496. Current best value is 0.15950980392156866 with parameters: {'n_estimators': 365, 'gamma': 0.9463215925874623, 'lambda': 0.7003493267636609, 'learning_rate': 0.10598151700122684, 'max_depth': 13, 'subsample': 0.8722349655305385, 'colsample_bytree': 0.619292241473029, 'min_child_weight': 9.254307152530908}.\n"
     ]
    },
    {
     "name": "stdout",
     "output_type": "stream",
     "text": [
      "206 "
     ]
    },
    {
     "name": "stderr",
     "output_type": "stream",
     "text": [
      "[I 2019-02-09 14:13:39,165] Finished a trial resulted in value: 0.16728758169934654. Current best value is 0.15950980392156866 with parameters: {'n_estimators': 365, 'gamma': 0.9463215925874623, 'lambda': 0.7003493267636609, 'learning_rate': 0.10598151700122684, 'max_depth': 13, 'subsample': 0.8722349655305385, 'colsample_bytree': 0.619292241473029, 'min_child_weight': 9.254307152530908}.\n"
     ]
    },
    {
     "name": "stdout",
     "output_type": "stream",
     "text": [
      "207 "
     ]
    },
    {
     "name": "stderr",
     "output_type": "stream",
     "text": [
      "[I 2019-02-09 14:13:55,585] Finished a trial resulted in value: 0.1663071895424837. Current best value is 0.15950980392156866 with parameters: {'n_estimators': 365, 'gamma': 0.9463215925874623, 'lambda': 0.7003493267636609, 'learning_rate': 0.10598151700122684, 'max_depth': 13, 'subsample': 0.8722349655305385, 'colsample_bytree': 0.619292241473029, 'min_child_weight': 9.254307152530908}.\n"
     ]
    },
    {
     "name": "stdout",
     "output_type": "stream",
     "text": [
      "208 "
     ]
    },
    {
     "name": "stderr",
     "output_type": "stream",
     "text": [
      "[I 2019-02-09 14:14:06,371] Finished a trial resulted in value: 0.17179738562091496. Current best value is 0.15950980392156866 with parameters: {'n_estimators': 365, 'gamma': 0.9463215925874623, 'lambda': 0.7003493267636609, 'learning_rate': 0.10598151700122684, 'max_depth': 13, 'subsample': 0.8722349655305385, 'colsample_bytree': 0.619292241473029, 'min_child_weight': 9.254307152530908}.\n"
     ]
    },
    {
     "name": "stdout",
     "output_type": "stream",
     "text": [
      "209 "
     ]
    },
    {
     "name": "stderr",
     "output_type": "stream",
     "text": [
      "[I 2019-02-09 14:14:09,555] Finished a trial resulted in value: 0.18095588235294136. Current best value is 0.15950980392156866 with parameters: {'n_estimators': 365, 'gamma': 0.9463215925874623, 'lambda': 0.7003493267636609, 'learning_rate': 0.10598151700122684, 'max_depth': 13, 'subsample': 0.8722349655305385, 'colsample_bytree': 0.619292241473029, 'min_child_weight': 9.254307152530908}.\n"
     ]
    },
    {
     "name": "stdout",
     "output_type": "stream",
     "text": [
      "210 "
     ]
    },
    {
     "name": "stderr",
     "output_type": "stream",
     "text": [
      "[I 2019-02-09 14:14:18,146] Finished a trial resulted in value: 0.17396241830065362. Current best value is 0.15950980392156866 with parameters: {'n_estimators': 365, 'gamma': 0.9463215925874623, 'lambda': 0.7003493267636609, 'learning_rate': 0.10598151700122684, 'max_depth': 13, 'subsample': 0.8722349655305385, 'colsample_bytree': 0.619292241473029, 'min_child_weight': 9.254307152530908}.\n"
     ]
    },
    {
     "name": "stdout",
     "output_type": "stream",
     "text": [
      "211 "
     ]
    },
    {
     "name": "stderr",
     "output_type": "stream",
     "text": [
      "[I 2019-02-09 14:14:23,266] Finished a trial resulted in value: 0.22440359477124172. Current best value is 0.15950980392156866 with parameters: {'n_estimators': 365, 'gamma': 0.9463215925874623, 'lambda': 0.7003493267636609, 'learning_rate': 0.10598151700122684, 'max_depth': 13, 'subsample': 0.8722349655305385, 'colsample_bytree': 0.619292241473029, 'min_child_weight': 9.254307152530908}.\n"
     ]
    },
    {
     "name": "stdout",
     "output_type": "stream",
     "text": [
      "212 "
     ]
    },
    {
     "name": "stderr",
     "output_type": "stream",
     "text": [
      "[I 2019-02-09 14:14:34,942] Finished a trial resulted in value: 0.1806944444444446. Current best value is 0.15950980392156866 with parameters: {'n_estimators': 365, 'gamma': 0.9463215925874623, 'lambda': 0.7003493267636609, 'learning_rate': 0.10598151700122684, 'max_depth': 13, 'subsample': 0.8722349655305385, 'colsample_bytree': 0.619292241473029, 'min_child_weight': 9.254307152530908}.\n"
     ]
    },
    {
     "name": "stdout",
     "output_type": "stream",
     "text": [
      "213 "
     ]
    },
    {
     "name": "stderr",
     "output_type": "stream",
     "text": [
      "[I 2019-02-09 14:14:42,027] Finished a trial resulted in value: 0.17401143790849682. Current best value is 0.15950980392156866 with parameters: {'n_estimators': 365, 'gamma': 0.9463215925874623, 'lambda': 0.7003493267636609, 'learning_rate': 0.10598151700122684, 'max_depth': 13, 'subsample': 0.8722349655305385, 'colsample_bytree': 0.619292241473029, 'min_child_weight': 9.254307152530908}.\n"
     ]
    },
    {
     "name": "stdout",
     "output_type": "stream",
     "text": [
      "214 "
     ]
    },
    {
     "name": "stderr",
     "output_type": "stream",
     "text": [
      "[I 2019-02-09 14:14:43,402] Finished a trial resulted in value: 0.21454248366013073. Current best value is 0.15950980392156866 with parameters: {'n_estimators': 365, 'gamma': 0.9463215925874623, 'lambda': 0.7003493267636609, 'learning_rate': 0.10598151700122684, 'max_depth': 13, 'subsample': 0.8722349655305385, 'colsample_bytree': 0.619292241473029, 'min_child_weight': 9.254307152530908}.\n"
     ]
    },
    {
     "name": "stdout",
     "output_type": "stream",
     "text": [
      "215 "
     ]
    },
    {
     "name": "stderr",
     "output_type": "stream",
     "text": [
      "[I 2019-02-09 14:14:49,771] Finished a trial resulted in value: 0.16944444444444462. Current best value is 0.15950980392156866 with parameters: {'n_estimators': 365, 'gamma': 0.9463215925874623, 'lambda': 0.7003493267636609, 'learning_rate': 0.10598151700122684, 'max_depth': 13, 'subsample': 0.8722349655305385, 'colsample_bytree': 0.619292241473029, 'min_child_weight': 9.254307152530908}.\n"
     ]
    },
    {
     "name": "stdout",
     "output_type": "stream",
     "text": [
      "216 "
     ]
    },
    {
     "name": "stderr",
     "output_type": "stream",
     "text": [
      "[I 2019-02-09 14:14:59,586] Finished a trial resulted in value: 0.17075980392156875. Current best value is 0.15950980392156866 with parameters: {'n_estimators': 365, 'gamma': 0.9463215925874623, 'lambda': 0.7003493267636609, 'learning_rate': 0.10598151700122684, 'max_depth': 13, 'subsample': 0.8722349655305385, 'colsample_bytree': 0.619292241473029, 'min_child_weight': 9.254307152530908}.\n"
     ]
    },
    {
     "name": "stdout",
     "output_type": "stream",
     "text": [
      "217 "
     ]
    },
    {
     "name": "stderr",
     "output_type": "stream",
     "text": [
      "[I 2019-02-09 14:15:29,910] Finished a trial resulted in value: 0.18317810457516326. Current best value is 0.15950980392156866 with parameters: {'n_estimators': 365, 'gamma': 0.9463215925874623, 'lambda': 0.7003493267636609, 'learning_rate': 0.10598151700122684, 'max_depth': 13, 'subsample': 0.8722349655305385, 'colsample_bytree': 0.619292241473029, 'min_child_weight': 9.254307152530908}.\n"
     ]
    },
    {
     "name": "stdout",
     "output_type": "stream",
     "text": [
      "218 "
     ]
    },
    {
     "name": "stderr",
     "output_type": "stream",
     "text": [
      "[I 2019-02-09 14:15:35,770] Finished a trial resulted in value: 0.16819444444444454. Current best value is 0.15950980392156866 with parameters: {'n_estimators': 365, 'gamma': 0.9463215925874623, 'lambda': 0.7003493267636609, 'learning_rate': 0.10598151700122684, 'max_depth': 13, 'subsample': 0.8722349655305385, 'colsample_bytree': 0.619292241473029, 'min_child_weight': 9.254307152530908}.\n"
     ]
    },
    {
     "name": "stdout",
     "output_type": "stream",
     "text": [
      "219 "
     ]
    },
    {
     "name": "stderr",
     "output_type": "stream",
     "text": [
      "[I 2019-02-09 14:15:42,955] Finished a trial resulted in value: 0.1617320261437909. Current best value is 0.15950980392156866 with parameters: {'n_estimators': 365, 'gamma': 0.9463215925874623, 'lambda': 0.7003493267636609, 'learning_rate': 0.10598151700122684, 'max_depth': 13, 'subsample': 0.8722349655305385, 'colsample_bytree': 0.619292241473029, 'min_child_weight': 9.254307152530908}.\n"
     ]
    },
    {
     "name": "stdout",
     "output_type": "stream",
     "text": [
      "220 "
     ]
    },
    {
     "name": "stderr",
     "output_type": "stream",
     "text": [
      "[I 2019-02-09 14:15:58,066] Finished a trial resulted in value: 0.17041666666666666. Current best value is 0.15950980392156866 with parameters: {'n_estimators': 365, 'gamma': 0.9463215925874623, 'lambda': 0.7003493267636609, 'learning_rate': 0.10598151700122684, 'max_depth': 13, 'subsample': 0.8722349655305385, 'colsample_bytree': 0.619292241473029, 'min_child_weight': 9.254307152530908}.\n"
     ]
    },
    {
     "name": "stdout",
     "output_type": "stream",
     "text": [
      "221 "
     ]
    },
    {
     "name": "stderr",
     "output_type": "stream",
     "text": [
      "[I 2019-02-09 14:16:06,843] Finished a trial resulted in value: 0.16950980392156878. Current best value is 0.15950980392156866 with parameters: {'n_estimators': 365, 'gamma': 0.9463215925874623, 'lambda': 0.7003493267636609, 'learning_rate': 0.10598151700122684, 'max_depth': 13, 'subsample': 0.8722349655305385, 'colsample_bytree': 0.619292241473029, 'min_child_weight': 9.254307152530908}.\n"
     ]
    },
    {
     "name": "stdout",
     "output_type": "stream",
     "text": [
      "222 "
     ]
    },
    {
     "name": "stderr",
     "output_type": "stream",
     "text": [
      "[I 2019-02-09 14:16:22,540] Finished a trial resulted in value: 0.16618464052287574. Current best value is 0.15950980392156866 with parameters: {'n_estimators': 365, 'gamma': 0.9463215925874623, 'lambda': 0.7003493267636609, 'learning_rate': 0.10598151700122684, 'max_depth': 13, 'subsample': 0.8722349655305385, 'colsample_bytree': 0.619292241473029, 'min_child_weight': 9.254307152530908}.\n"
     ]
    },
    {
     "name": "stdout",
     "output_type": "stream",
     "text": [
      "223 "
     ]
    },
    {
     "name": "stderr",
     "output_type": "stream",
     "text": [
      "[I 2019-02-09 14:16:31,758] Finished a trial resulted in value: 0.17179738562091496. Current best value is 0.15950980392156866 with parameters: {'n_estimators': 365, 'gamma': 0.9463215925874623, 'lambda': 0.7003493267636609, 'learning_rate': 0.10598151700122684, 'max_depth': 13, 'subsample': 0.8722349655305385, 'colsample_bytree': 0.619292241473029, 'min_child_weight': 9.254307152530908}.\n"
     ]
    },
    {
     "name": "stdout",
     "output_type": "stream",
     "text": [
      "224 "
     ]
    },
    {
     "name": "stderr",
     "output_type": "stream",
     "text": [
      "[I 2019-02-09 14:16:36,120] Finished a trial resulted in value: 0.16284313725490196. Current best value is 0.15950980392156866 with parameters: {'n_estimators': 365, 'gamma': 0.9463215925874623, 'lambda': 0.7003493267636609, 'learning_rate': 0.10598151700122684, 'max_depth': 13, 'subsample': 0.8722349655305385, 'colsample_bytree': 0.619292241473029, 'min_child_weight': 9.254307152530908}.\n"
     ]
    },
    {
     "name": "stdout",
     "output_type": "stream",
     "text": [
      "225 "
     ]
    },
    {
     "name": "stderr",
     "output_type": "stream",
     "text": [
      "[I 2019-02-09 14:16:47,351] Finished a trial resulted in value: 0.1650653594771242. Current best value is 0.15950980392156866 with parameters: {'n_estimators': 365, 'gamma': 0.9463215925874623, 'lambda': 0.7003493267636609, 'learning_rate': 0.10598151700122684, 'max_depth': 13, 'subsample': 0.8722349655305385, 'colsample_bytree': 0.619292241473029, 'min_child_weight': 9.254307152530908}.\n"
     ]
    },
    {
     "name": "stdout",
     "output_type": "stream",
     "text": [
      "226 "
     ]
    },
    {
     "name": "stderr",
     "output_type": "stream",
     "text": [
      "[I 2019-02-09 14:16:56,488] Finished a trial resulted in value: 0.16624183006535953. Current best value is 0.15950980392156866 with parameters: {'n_estimators': 365, 'gamma': 0.9463215925874623, 'lambda': 0.7003493267636609, 'learning_rate': 0.10598151700122684, 'max_depth': 13, 'subsample': 0.8722349655305385, 'colsample_bytree': 0.619292241473029, 'min_child_weight': 9.254307152530908}.\n"
     ]
    },
    {
     "name": "stdout",
     "output_type": "stream",
     "text": [
      "227 "
     ]
    },
    {
     "name": "stderr",
     "output_type": "stream",
     "text": [
      "[I 2019-02-09 14:17:18,837] Finished a trial resulted in value: 0.17395424836601303. Current best value is 0.15950980392156866 with parameters: {'n_estimators': 365, 'gamma': 0.9463215925874623, 'lambda': 0.7003493267636609, 'learning_rate': 0.10598151700122684, 'max_depth': 13, 'subsample': 0.8722349655305385, 'colsample_bytree': 0.619292241473029, 'min_child_weight': 9.254307152530908}.\n"
     ]
    },
    {
     "name": "stdout",
     "output_type": "stream",
     "text": [
      "228 "
     ]
    },
    {
     "name": "stderr",
     "output_type": "stream",
     "text": [
      "[I 2019-02-09 14:17:22,285] Finished a trial resulted in value: 0.2100245098039215. Current best value is 0.15950980392156866 with parameters: {'n_estimators': 365, 'gamma': 0.9463215925874623, 'lambda': 0.7003493267636609, 'learning_rate': 0.10598151700122684, 'max_depth': 13, 'subsample': 0.8722349655305385, 'colsample_bytree': 0.619292241473029, 'min_child_weight': 9.254307152530908}.\n"
     ]
    },
    {
     "name": "stdout",
     "output_type": "stream",
     "text": [
      "229 "
     ]
    },
    {
     "name": "stderr",
     "output_type": "stream",
     "text": [
      "[I 2019-02-09 14:17:22,715] Finished a trial resulted in value: 0.21920751633986924. Current best value is 0.15950980392156866 with parameters: {'n_estimators': 365, 'gamma': 0.9463215925874623, 'lambda': 0.7003493267636609, 'learning_rate': 0.10598151700122684, 'max_depth': 13, 'subsample': 0.8722349655305385, 'colsample_bytree': 0.619292241473029, 'min_child_weight': 9.254307152530908}.\n"
     ]
    },
    {
     "name": "stdout",
     "output_type": "stream",
     "text": [
      "230 "
     ]
    },
    {
     "name": "stderr",
     "output_type": "stream",
     "text": [
      "[I 2019-02-09 14:17:23,976] Finished a trial resulted in value: 0.17866013071895426. Current best value is 0.15950980392156866 with parameters: {'n_estimators': 365, 'gamma': 0.9463215925874623, 'lambda': 0.7003493267636609, 'learning_rate': 0.10598151700122684, 'max_depth': 13, 'subsample': 0.8722349655305385, 'colsample_bytree': 0.619292241473029, 'min_child_weight': 9.254307152530908}.\n"
     ]
    },
    {
     "name": "stdout",
     "output_type": "stream",
     "text": [
      "231 "
     ]
    },
    {
     "name": "stderr",
     "output_type": "stream",
     "text": [
      "[I 2019-02-09 14:17:38,342] Finished a trial resulted in value: 0.16486111111111112. Current best value is 0.15950980392156866 with parameters: {'n_estimators': 365, 'gamma': 0.9463215925874623, 'lambda': 0.7003493267636609, 'learning_rate': 0.10598151700122684, 'max_depth': 13, 'subsample': 0.8722349655305385, 'colsample_bytree': 0.619292241473029, 'min_child_weight': 9.254307152530908}.\n"
     ]
    },
    {
     "name": "stdout",
     "output_type": "stream",
     "text": [
      "232 "
     ]
    },
    {
     "name": "stderr",
     "output_type": "stream",
     "text": [
      "[I 2019-02-09 14:17:47,176] Finished a trial resulted in value: 0.16819444444444442. Current best value is 0.15950980392156866 with parameters: {'n_estimators': 365, 'gamma': 0.9463215925874623, 'lambda': 0.7003493267636609, 'learning_rate': 0.10598151700122684, 'max_depth': 13, 'subsample': 0.8722349655305385, 'colsample_bytree': 0.619292241473029, 'min_child_weight': 9.254307152530908}.\n"
     ]
    },
    {
     "name": "stdout",
     "output_type": "stream",
     "text": [
      "233 "
     ]
    },
    {
     "name": "stderr",
     "output_type": "stream",
     "text": [
      "[I 2019-02-09 14:17:57,311] Finished a trial resulted in value: 0.22578431372549024. Current best value is 0.15950980392156866 with parameters: {'n_estimators': 365, 'gamma': 0.9463215925874623, 'lambda': 0.7003493267636609, 'learning_rate': 0.10598151700122684, 'max_depth': 13, 'subsample': 0.8722349655305385, 'colsample_bytree': 0.619292241473029, 'min_child_weight': 9.254307152530908}.\n"
     ]
    },
    {
     "name": "stdout",
     "output_type": "stream",
     "text": [
      "234 "
     ]
    },
    {
     "name": "stderr",
     "output_type": "stream",
     "text": [
      "[I 2019-02-09 14:18:01,294] Finished a trial resulted in value: 0.1650653594771242. Current best value is 0.15950980392156866 with parameters: {'n_estimators': 365, 'gamma': 0.9463215925874623, 'lambda': 0.7003493267636609, 'learning_rate': 0.10598151700122684, 'max_depth': 13, 'subsample': 0.8722349655305385, 'colsample_bytree': 0.619292241473029, 'min_child_weight': 9.254307152530908}.\n"
     ]
    },
    {
     "name": "stdout",
     "output_type": "stream",
     "text": [
      "235 "
     ]
    },
    {
     "name": "stderr",
     "output_type": "stream",
     "text": [
      "[I 2019-02-09 14:18:13,576] Finished a trial resulted in value: 0.1717320261437909. Current best value is 0.15950980392156866 with parameters: {'n_estimators': 365, 'gamma': 0.9463215925874623, 'lambda': 0.7003493267636609, 'learning_rate': 0.10598151700122684, 'max_depth': 13, 'subsample': 0.8722349655305385, 'colsample_bytree': 0.619292241473029, 'min_child_weight': 9.254307152530908}.\n"
     ]
    },
    {
     "name": "stdout",
     "output_type": "stream",
     "text": [
      "236 "
     ]
    },
    {
     "name": "stderr",
     "output_type": "stream",
     "text": [
      "[I 2019-02-09 14:18:42,997] Finished a trial resulted in value: 0.174158496732026. Current best value is 0.15950980392156866 with parameters: {'n_estimators': 365, 'gamma': 0.9463215925874623, 'lambda': 0.7003493267636609, 'learning_rate': 0.10598151700122684, 'max_depth': 13, 'subsample': 0.8722349655305385, 'colsample_bytree': 0.619292241473029, 'min_child_weight': 9.254307152530908}.\n"
     ]
    },
    {
     "name": "stdout",
     "output_type": "stream",
     "text": [
      "237 "
     ]
    },
    {
     "name": "stderr",
     "output_type": "stream",
     "text": [
      "[I 2019-02-09 14:18:58,321] Finished a trial resulted in value: 0.1706862745098039. Current best value is 0.15950980392156866 with parameters: {'n_estimators': 365, 'gamma': 0.9463215925874623, 'lambda': 0.7003493267636609, 'learning_rate': 0.10598151700122684, 'max_depth': 13, 'subsample': 0.8722349655305385, 'colsample_bytree': 0.619292241473029, 'min_child_weight': 9.254307152530908}.\n"
     ]
    },
    {
     "name": "stdout",
     "output_type": "stream",
     "text": [
      "238 "
     ]
    },
    {
     "name": "stderr",
     "output_type": "stream",
     "text": [
      "[I 2019-02-09 14:19:10,324] Finished a trial resulted in value: 0.16728758169934654. Current best value is 0.15950980392156866 with parameters: {'n_estimators': 365, 'gamma': 0.9463215925874623, 'lambda': 0.7003493267636609, 'learning_rate': 0.10598151700122684, 'max_depth': 13, 'subsample': 0.8722349655305385, 'colsample_bytree': 0.619292241473029, 'min_child_weight': 9.254307152530908}.\n"
     ]
    },
    {
     "name": "stdout",
     "output_type": "stream",
     "text": [
      "239 "
     ]
    },
    {
     "name": "stderr",
     "output_type": "stream",
     "text": [
      "[I 2019-02-09 14:19:16,354] Finished a trial resulted in value: 0.16930555555555538. Current best value is 0.15950980392156866 with parameters: {'n_estimators': 365, 'gamma': 0.9463215925874623, 'lambda': 0.7003493267636609, 'learning_rate': 0.10598151700122684, 'max_depth': 13, 'subsample': 0.8722349655305385, 'colsample_bytree': 0.619292241473029, 'min_child_weight': 9.254307152530908}.\n"
     ]
    },
    {
     "name": "stdout",
     "output_type": "stream",
     "text": [
      "240 "
     ]
    },
    {
     "name": "stderr",
     "output_type": "stream",
     "text": [
      "[I 2019-02-09 14:19:19,004] Finished a trial resulted in value: 0.16708333333333347. Current best value is 0.15950980392156866 with parameters: {'n_estimators': 365, 'gamma': 0.9463215925874623, 'lambda': 0.7003493267636609, 'learning_rate': 0.10598151700122684, 'max_depth': 13, 'subsample': 0.8722349655305385, 'colsample_bytree': 0.619292241473029, 'min_child_weight': 9.254307152530908}.\n"
     ]
    },
    {
     "name": "stdout",
     "output_type": "stream",
     "text": [
      "241 "
     ]
    },
    {
     "name": "stderr",
     "output_type": "stream",
     "text": [
      "[I 2019-02-09 14:19:23,140] Finished a trial resulted in value: 0.20218954248366006. Current best value is 0.15950980392156866 with parameters: {'n_estimators': 365, 'gamma': 0.9463215925874623, 'lambda': 0.7003493267636609, 'learning_rate': 0.10598151700122684, 'max_depth': 13, 'subsample': 0.8722349655305385, 'colsample_bytree': 0.619292241473029, 'min_child_weight': 9.254307152530908}.\n"
     ]
    },
    {
     "name": "stdout",
     "output_type": "stream",
     "text": [
      "242 "
     ]
    },
    {
     "name": "stderr",
     "output_type": "stream",
     "text": [
      "[I 2019-02-09 14:19:37,681] Finished a trial resulted in value: 0.17631535947712407. Current best value is 0.15950980392156866 with parameters: {'n_estimators': 365, 'gamma': 0.9463215925874623, 'lambda': 0.7003493267636609, 'learning_rate': 0.10598151700122684, 'max_depth': 13, 'subsample': 0.8722349655305385, 'colsample_bytree': 0.619292241473029, 'min_child_weight': 9.254307152530908}.\n"
     ]
    },
    {
     "name": "stdout",
     "output_type": "stream",
     "text": [
      "243 "
     ]
    },
    {
     "name": "stderr",
     "output_type": "stream",
     "text": [
      "[I 2019-02-09 14:19:44,209] Finished a trial resulted in value: 0.17047385620915034. Current best value is 0.15950980392156866 with parameters: {'n_estimators': 365, 'gamma': 0.9463215925874623, 'lambda': 0.7003493267636609, 'learning_rate': 0.10598151700122684, 'max_depth': 13, 'subsample': 0.8722349655305385, 'colsample_bytree': 0.619292241473029, 'min_child_weight': 9.254307152530908}.\n"
     ]
    },
    {
     "name": "stdout",
     "output_type": "stream",
     "text": [
      "244 "
     ]
    },
    {
     "name": "stderr",
     "output_type": "stream",
     "text": [
      "[I 2019-02-09 14:19:48,225] Finished a trial resulted in value: 0.17500000000000004. Current best value is 0.15950980392156866 with parameters: {'n_estimators': 365, 'gamma': 0.9463215925874623, 'lambda': 0.7003493267636609, 'learning_rate': 0.10598151700122684, 'max_depth': 13, 'subsample': 0.8722349655305385, 'colsample_bytree': 0.619292241473029, 'min_child_weight': 9.254307152530908}.\n"
     ]
    },
    {
     "name": "stdout",
     "output_type": "stream",
     "text": [
      "245 "
     ]
    },
    {
     "name": "stderr",
     "output_type": "stream",
     "text": [
      "[I 2019-02-09 14:20:04,426] Finished a trial resulted in value: 0.16486111111111112. Current best value is 0.15950980392156866 with parameters: {'n_estimators': 365, 'gamma': 0.9463215925874623, 'lambda': 0.7003493267636609, 'learning_rate': 0.10598151700122684, 'max_depth': 13, 'subsample': 0.8722349655305385, 'colsample_bytree': 0.619292241473029, 'min_child_weight': 9.254307152530908}.\n"
     ]
    },
    {
     "name": "stdout",
     "output_type": "stream",
     "text": [
      "246 "
     ]
    },
    {
     "name": "stderr",
     "output_type": "stream",
     "text": [
      "[I 2019-02-09 14:20:18,744] Finished a trial resulted in value: 0.17270424836601306. Current best value is 0.15950980392156866 with parameters: {'n_estimators': 365, 'gamma': 0.9463215925874623, 'lambda': 0.7003493267636609, 'learning_rate': 0.10598151700122684, 'max_depth': 13, 'subsample': 0.8722349655305385, 'colsample_bytree': 0.619292241473029, 'min_child_weight': 9.254307152530908}.\n"
     ]
    },
    {
     "name": "stdout",
     "output_type": "stream",
     "text": [
      "247 "
     ]
    },
    {
     "name": "stderr",
     "output_type": "stream",
     "text": [
      "[I 2019-02-09 14:20:22,944] Finished a trial resulted in value: 0.18899509803921577. Current best value is 0.15950980392156866 with parameters: {'n_estimators': 365, 'gamma': 0.9463215925874623, 'lambda': 0.7003493267636609, 'learning_rate': 0.10598151700122684, 'max_depth': 13, 'subsample': 0.8722349655305385, 'colsample_bytree': 0.619292241473029, 'min_child_weight': 9.254307152530908}.\n"
     ]
    },
    {
     "name": "stdout",
     "output_type": "stream",
     "text": [
      "248 "
     ]
    },
    {
     "name": "stderr",
     "output_type": "stream",
     "text": [
      "[I 2019-02-09 14:20:36,587] Finished a trial resulted in value: 0.16950980392156867. Current best value is 0.15950980392156866 with parameters: {'n_estimators': 365, 'gamma': 0.9463215925874623, 'lambda': 0.7003493267636609, 'learning_rate': 0.10598151700122684, 'max_depth': 13, 'subsample': 0.8722349655305385, 'colsample_bytree': 0.619292241473029, 'min_child_weight': 9.254307152530908}.\n"
     ]
    },
    {
     "name": "stdout",
     "output_type": "stream",
     "text": [
      "249 "
     ]
    },
    {
     "name": "stderr",
     "output_type": "stream",
     "text": [
      "[I 2019-02-09 14:20:47,452] Finished a trial resulted in value: 0.1594444444444446. Current best value is 0.1594444444444446 with parameters: {'n_estimators': 365, 'gamma': 0.7013814276268473, 'lambda': 0.5495306441214812, 'learning_rate': 0.12399561010971977, 'max_depth': 8, 'subsample': 0.9435922914106966, 'colsample_bytree': 0.7397597413215783, 'min_child_weight': 7.406239986883236}.\n"
     ]
    },
    {
     "name": "stdout",
     "output_type": "stream",
     "text": [
      "250 "
     ]
    },
    {
     "name": "stderr",
     "output_type": "stream",
     "text": [
      "[I 2019-02-09 14:20:56,950] Finished a trial resulted in value: 0.16722222222222227. Current best value is 0.1594444444444446 with parameters: {'n_estimators': 365, 'gamma': 0.7013814276268473, 'lambda': 0.5495306441214812, 'learning_rate': 0.12399561010971977, 'max_depth': 8, 'subsample': 0.9435922914106966, 'colsample_bytree': 0.7397597413215783, 'min_child_weight': 7.406239986883236}.\n"
     ]
    },
    {
     "name": "stdout",
     "output_type": "stream",
     "text": [
      "251 "
     ]
    },
    {
     "name": "stderr",
     "output_type": "stream",
     "text": [
      "[I 2019-02-09 14:21:08,948] Finished a trial resulted in value: 0.16624183006535953. Current best value is 0.1594444444444446 with parameters: {'n_estimators': 365, 'gamma': 0.7013814276268473, 'lambda': 0.5495306441214812, 'learning_rate': 0.12399561010971977, 'max_depth': 8, 'subsample': 0.9435922914106966, 'colsample_bytree': 0.7397597413215783, 'min_child_weight': 7.406239986883236}.\n"
     ]
    },
    {
     "name": "stdout",
     "output_type": "stream",
     "text": [
      "252 "
     ]
    },
    {
     "name": "stderr",
     "output_type": "stream",
     "text": [
      "[I 2019-02-09 14:21:13,382] Finished a trial resulted in value: 0.1617320261437909. Current best value is 0.1594444444444446 with parameters: {'n_estimators': 365, 'gamma': 0.7013814276268473, 'lambda': 0.5495306441214812, 'learning_rate': 0.12399561010971977, 'max_depth': 8, 'subsample': 0.9435922914106966, 'colsample_bytree': 0.7397597413215783, 'min_child_weight': 7.406239986883236}.\n"
     ]
    },
    {
     "name": "stdout",
     "output_type": "stream",
     "text": [
      "253 "
     ]
    },
    {
     "name": "stderr",
     "output_type": "stream",
     "text": [
      "[I 2019-02-09 14:21:21,320] Finished a trial resulted in value: 0.1683986928104575. Current best value is 0.1594444444444446 with parameters: {'n_estimators': 365, 'gamma': 0.7013814276268473, 'lambda': 0.5495306441214812, 'learning_rate': 0.12399561010971977, 'max_depth': 8, 'subsample': 0.9435922914106966, 'colsample_bytree': 0.7397597413215783, 'min_child_weight': 7.406239986883236}.\n"
     ]
    },
    {
     "name": "stdout",
     "output_type": "stream",
     "text": [
      "254 "
     ]
    },
    {
     "name": "stderr",
     "output_type": "stream",
     "text": [
      "[I 2019-02-09 14:21:29,528] Finished a trial resulted in value: 0.16957516339869283. Current best value is 0.1594444444444446 with parameters: {'n_estimators': 365, 'gamma': 0.7013814276268473, 'lambda': 0.5495306441214812, 'learning_rate': 0.12399561010971977, 'max_depth': 8, 'subsample': 0.9435922914106966, 'colsample_bytree': 0.7397597413215783, 'min_child_weight': 7.406239986883236}.\n"
     ]
    },
    {
     "name": "stdout",
     "output_type": "stream",
     "text": [
      "255 "
     ]
    },
    {
     "name": "stderr",
     "output_type": "stream",
     "text": [
      "[I 2019-02-09 14:21:36,938] Finished a trial resulted in value: 0.1683986928104576. Current best value is 0.1594444444444446 with parameters: {'n_estimators': 365, 'gamma': 0.7013814276268473, 'lambda': 0.5495306441214812, 'learning_rate': 0.12399561010971977, 'max_depth': 8, 'subsample': 0.9435922914106966, 'colsample_bytree': 0.7397597413215783, 'min_child_weight': 7.406239986883236}.\n"
     ]
    },
    {
     "name": "stdout",
     "output_type": "stream",
     "text": [
      "256 "
     ]
    },
    {
     "name": "stderr",
     "output_type": "stream",
     "text": [
      "[I 2019-02-09 14:21:44,097] Finished a trial resulted in value: 0.17303921568627456. Current best value is 0.1594444444444446 with parameters: {'n_estimators': 365, 'gamma': 0.7013814276268473, 'lambda': 0.5495306441214812, 'learning_rate': 0.12399561010971977, 'max_depth': 8, 'subsample': 0.9435922914106966, 'colsample_bytree': 0.7397597413215783, 'min_child_weight': 7.406239986883236}.\n"
     ]
    },
    {
     "name": "stdout",
     "output_type": "stream",
     "text": [
      "257 "
     ]
    },
    {
     "name": "stderr",
     "output_type": "stream",
     "text": [
      "[I 2019-02-09 14:21:55,330] Finished a trial resulted in value: 0.1661111111111111. Current best value is 0.1594444444444446 with parameters: {'n_estimators': 365, 'gamma': 0.7013814276268473, 'lambda': 0.5495306441214812, 'learning_rate': 0.12399561010971977, 'max_depth': 8, 'subsample': 0.9435922914106966, 'colsample_bytree': 0.7397597413215783, 'min_child_weight': 7.406239986883236}.\n"
     ]
    },
    {
     "name": "stdout",
     "output_type": "stream",
     "text": [
      "258 "
     ]
    },
    {
     "name": "stderr",
     "output_type": "stream",
     "text": [
      "[I 2019-02-09 14:22:10,548] Finished a trial resulted in value: 0.17062091503267984. Current best value is 0.1594444444444446 with parameters: {'n_estimators': 365, 'gamma': 0.7013814276268473, 'lambda': 0.5495306441214812, 'learning_rate': 0.12399561010971977, 'max_depth': 8, 'subsample': 0.9435922914106966, 'colsample_bytree': 0.7397597413215783, 'min_child_weight': 7.406239986883236}.\n"
     ]
    },
    {
     "name": "stdout",
     "output_type": "stream",
     "text": [
      "259 "
     ]
    },
    {
     "name": "stderr",
     "output_type": "stream",
     "text": [
      "[I 2019-02-09 14:22:20,220] Finished a trial resulted in value: 0.1706862745098039. Current best value is 0.1594444444444446 with parameters: {'n_estimators': 365, 'gamma': 0.7013814276268473, 'lambda': 0.5495306441214812, 'learning_rate': 0.12399561010971977, 'max_depth': 8, 'subsample': 0.9435922914106966, 'colsample_bytree': 0.7397597413215783, 'min_child_weight': 7.406239986883236}.\n"
     ]
    },
    {
     "name": "stdout",
     "output_type": "stream",
     "text": [
      "260 "
     ]
    },
    {
     "name": "stderr",
     "output_type": "stream",
     "text": [
      "[I 2019-02-09 14:22:28,239] Finished a trial resulted in value: 0.1649264705882354. Current best value is 0.1594444444444446 with parameters: {'n_estimators': 365, 'gamma': 0.7013814276268473, 'lambda': 0.5495306441214812, 'learning_rate': 0.12399561010971977, 'max_depth': 8, 'subsample': 0.9435922914106966, 'colsample_bytree': 0.7397597413215783, 'min_child_weight': 7.406239986883236}.\n"
     ]
    },
    {
     "name": "stdout",
     "output_type": "stream",
     "text": [
      "261 "
     ]
    },
    {
     "name": "stderr",
     "output_type": "stream",
     "text": [
      "[I 2019-02-09 14:22:36,456] Finished a trial resulted in value: 0.16513071895424847. Current best value is 0.1594444444444446 with parameters: {'n_estimators': 365, 'gamma': 0.7013814276268473, 'lambda': 0.5495306441214812, 'learning_rate': 0.12399561010971977, 'max_depth': 8, 'subsample': 0.9435922914106966, 'colsample_bytree': 0.7397597413215783, 'min_child_weight': 7.406239986883236}.\n"
     ]
    },
    {
     "name": "stdout",
     "output_type": "stream",
     "text": [
      "262 "
     ]
    },
    {
     "name": "stderr",
     "output_type": "stream",
     "text": [
      "[I 2019-02-09 14:22:51,187] Finished a trial resulted in value: 0.16722222222222227. Current best value is 0.1594444444444446 with parameters: {'n_estimators': 365, 'gamma': 0.7013814276268473, 'lambda': 0.5495306441214812, 'learning_rate': 0.12399561010971977, 'max_depth': 8, 'subsample': 0.9435922914106966, 'colsample_bytree': 0.7397597413215783, 'min_child_weight': 7.406239986883236}.\n"
     ]
    },
    {
     "name": "stdout",
     "output_type": "stream",
     "text": [
      "263 "
     ]
    },
    {
     "name": "stderr",
     "output_type": "stream",
     "text": [
      "[I 2019-02-09 14:23:01,716] Finished a trial resulted in value: 0.16957516339869283. Current best value is 0.1594444444444446 with parameters: {'n_estimators': 365, 'gamma': 0.7013814276268473, 'lambda': 0.5495306441214812, 'learning_rate': 0.12399561010971977, 'max_depth': 8, 'subsample': 0.9435922914106966, 'colsample_bytree': 0.7397597413215783, 'min_child_weight': 7.406239986883236}.\n"
     ]
    },
    {
     "name": "stdout",
     "output_type": "stream",
     "text": [
      "264 "
     ]
    },
    {
     "name": "stderr",
     "output_type": "stream",
     "text": [
      "[I 2019-02-09 14:23:14,713] Finished a trial resulted in value: 0.17062091503267984. Current best value is 0.1594444444444446 with parameters: {'n_estimators': 365, 'gamma': 0.7013814276268473, 'lambda': 0.5495306441214812, 'learning_rate': 0.12399561010971977, 'max_depth': 8, 'subsample': 0.9435922914106966, 'colsample_bytree': 0.7397597413215783, 'min_child_weight': 7.406239986883236}.\n"
     ]
    },
    {
     "name": "stdout",
     "output_type": "stream",
     "text": [
      "265 "
     ]
    },
    {
     "name": "stderr",
     "output_type": "stream",
     "text": [
      "[I 2019-02-09 14:23:27,687] Finished a trial resulted in value: 0.16833333333333345. Current best value is 0.1594444444444446 with parameters: {'n_estimators': 365, 'gamma': 0.7013814276268473, 'lambda': 0.5495306441214812, 'learning_rate': 0.12399561010971977, 'max_depth': 8, 'subsample': 0.9435922914106966, 'colsample_bytree': 0.7397597413215783, 'min_child_weight': 7.406239986883236}.\n"
     ]
    },
    {
     "name": "stdout",
     "output_type": "stream",
     "text": [
      "266 "
     ]
    },
    {
     "name": "stderr",
     "output_type": "stream",
     "text": [
      "[I 2019-02-09 14:23:36,494] Finished a trial resulted in value: 0.16284313725490196. Current best value is 0.1594444444444446 with parameters: {'n_estimators': 365, 'gamma': 0.7013814276268473, 'lambda': 0.5495306441214812, 'learning_rate': 0.12399561010971977, 'max_depth': 8, 'subsample': 0.9435922914106966, 'colsample_bytree': 0.7397597413215783, 'min_child_weight': 7.406239986883236}.\n"
     ]
    },
    {
     "name": "stdout",
     "output_type": "stream",
     "text": [
      "267 "
     ]
    },
    {
     "name": "stderr",
     "output_type": "stream",
     "text": [
      "[I 2019-02-09 14:23:49,564] Finished a trial resulted in value: 0.16604575163398694. Current best value is 0.1594444444444446 with parameters: {'n_estimators': 365, 'gamma': 0.7013814276268473, 'lambda': 0.5495306441214812, 'learning_rate': 0.12399561010971977, 'max_depth': 8, 'subsample': 0.9435922914106966, 'colsample_bytree': 0.7397597413215783, 'min_child_weight': 7.406239986883236}.\n"
     ]
    },
    {
     "name": "stdout",
     "output_type": "stream",
     "text": [
      "268 "
     ]
    },
    {
     "name": "stderr",
     "output_type": "stream",
     "text": [
      "[I 2019-02-09 14:24:08,988] Finished a trial resulted in value: 0.16728758169934654. Current best value is 0.1594444444444446 with parameters: {'n_estimators': 365, 'gamma': 0.7013814276268473, 'lambda': 0.5495306441214812, 'learning_rate': 0.12399561010971977, 'max_depth': 8, 'subsample': 0.9435922914106966, 'colsample_bytree': 0.7397597413215783, 'min_child_weight': 7.406239986883236}.\n"
     ]
    },
    {
     "name": "stdout",
     "output_type": "stream",
     "text": [
      "269 "
     ]
    },
    {
     "name": "stderr",
     "output_type": "stream",
     "text": [
      "[I 2019-02-09 14:24:27,660] Finished a trial resulted in value: 0.16950980392156878. Current best value is 0.1594444444444446 with parameters: {'n_estimators': 365, 'gamma': 0.7013814276268473, 'lambda': 0.5495306441214812, 'learning_rate': 0.12399561010971977, 'max_depth': 8, 'subsample': 0.9435922914106966, 'colsample_bytree': 0.7397597413215783, 'min_child_weight': 7.406239986883236}.\n"
     ]
    },
    {
     "name": "stdout",
     "output_type": "stream",
     "text": [
      "270 "
     ]
    },
    {
     "name": "stderr",
     "output_type": "stream",
     "text": [
      "[I 2019-02-09 14:24:39,197] Finished a trial resulted in value: 0.16624183006535953. Current best value is 0.1594444444444446 with parameters: {'n_estimators': 365, 'gamma': 0.7013814276268473, 'lambda': 0.5495306441214812, 'learning_rate': 0.12399561010971977, 'max_depth': 8, 'subsample': 0.9435922914106966, 'colsample_bytree': 0.7397597413215783, 'min_child_weight': 7.406239986883236}.\n"
     ]
    },
    {
     "name": "stdout",
     "output_type": "stream",
     "text": [
      "271 "
     ]
    },
    {
     "name": "stderr",
     "output_type": "stream",
     "text": [
      "[I 2019-02-09 14:24:43,072] Finished a trial resulted in value: 0.18491830065359482. Current best value is 0.1594444444444446 with parameters: {'n_estimators': 365, 'gamma': 0.7013814276268473, 'lambda': 0.5495306441214812, 'learning_rate': 0.12399561010971977, 'max_depth': 8, 'subsample': 0.9435922914106966, 'colsample_bytree': 0.7397597413215783, 'min_child_weight': 7.406239986883236}.\n"
     ]
    },
    {
     "name": "stdout",
     "output_type": "stream",
     "text": [
      "272 "
     ]
    },
    {
     "name": "stderr",
     "output_type": "stream",
     "text": [
      "[I 2019-02-09 14:24:55,086] Finished a trial resulted in value: 0.1683986928104576. Current best value is 0.1594444444444446 with parameters: {'n_estimators': 365, 'gamma': 0.7013814276268473, 'lambda': 0.5495306441214812, 'learning_rate': 0.12399561010971977, 'max_depth': 8, 'subsample': 0.9435922914106966, 'colsample_bytree': 0.7397597413215783, 'min_child_weight': 7.406239986883236}.\n"
     ]
    },
    {
     "name": "stdout",
     "output_type": "stream",
     "text": [
      "273 "
     ]
    },
    {
     "name": "stderr",
     "output_type": "stream",
     "text": [
      "[I 2019-02-09 14:25:03,804] Finished a trial resulted in value: 0.16742647058823534. Current best value is 0.1594444444444446 with parameters: {'n_estimators': 365, 'gamma': 0.7013814276268473, 'lambda': 0.5495306441214812, 'learning_rate': 0.12399561010971977, 'max_depth': 8, 'subsample': 0.9435922914106966, 'colsample_bytree': 0.7397597413215783, 'min_child_weight': 7.406239986883236}.\n"
     ]
    },
    {
     "name": "stdout",
     "output_type": "stream",
     "text": [
      "274 "
     ]
    },
    {
     "name": "stderr",
     "output_type": "stream",
     "text": [
      "[I 2019-02-09 14:25:16,840] Finished a trial resulted in value: 0.1683986928104575. Current best value is 0.1594444444444446 with parameters: {'n_estimators': 365, 'gamma': 0.7013814276268473, 'lambda': 0.5495306441214812, 'learning_rate': 0.12399561010971977, 'max_depth': 8, 'subsample': 0.9435922914106966, 'colsample_bytree': 0.7397597413215783, 'min_child_weight': 7.406239986883236}.\n"
     ]
    },
    {
     "name": "stdout",
     "output_type": "stream",
     "text": [
      "275 "
     ]
    },
    {
     "name": "stderr",
     "output_type": "stream",
     "text": [
      "[I 2019-02-09 14:25:21,211] Finished a trial resulted in value: 0.17055555555555568. Current best value is 0.1594444444444446 with parameters: {'n_estimators': 365, 'gamma': 0.7013814276268473, 'lambda': 0.5495306441214812, 'learning_rate': 0.12399561010971977, 'max_depth': 8, 'subsample': 0.9435922914106966, 'colsample_bytree': 0.7397597413215783, 'min_child_weight': 7.406239986883236}.\n"
     ]
    },
    {
     "name": "stdout",
     "output_type": "stream",
     "text": [
      "276 "
     ]
    },
    {
     "name": "stderr",
     "output_type": "stream",
     "text": [
      "[I 2019-02-09 14:25:38,408] Finished a trial resulted in value: 0.1694444444444444. Current best value is 0.1594444444444446 with parameters: {'n_estimators': 365, 'gamma': 0.7013814276268473, 'lambda': 0.5495306441214812, 'learning_rate': 0.12399561010971977, 'max_depth': 8, 'subsample': 0.9435922914106966, 'colsample_bytree': 0.7397597413215783, 'min_child_weight': 7.406239986883236}.\n"
     ]
    },
    {
     "name": "stdout",
     "output_type": "stream",
     "text": [
      "277 "
     ]
    },
    {
     "name": "stderr",
     "output_type": "stream",
     "text": [
      "[I 2019-02-09 14:25:51,041] Finished a trial resulted in value: 0.16832516339869286. Current best value is 0.1594444444444446 with parameters: {'n_estimators': 365, 'gamma': 0.7013814276268473, 'lambda': 0.5495306441214812, 'learning_rate': 0.12399561010971977, 'max_depth': 8, 'subsample': 0.9435922914106966, 'colsample_bytree': 0.7397597413215783, 'min_child_weight': 7.406239986883236}.\n"
     ]
    },
    {
     "name": "stdout",
     "output_type": "stream",
     "text": [
      "278 "
     ]
    },
    {
     "name": "stderr",
     "output_type": "stream",
     "text": [
      "[I 2019-02-09 14:25:59,129] Finished a trial resulted in value: 0.16846405228758188. Current best value is 0.1594444444444446 with parameters: {'n_estimators': 365, 'gamma': 0.7013814276268473, 'lambda': 0.5495306441214812, 'learning_rate': 0.12399561010971977, 'max_depth': 8, 'subsample': 0.9435922914106966, 'colsample_bytree': 0.7397597413215783, 'min_child_weight': 7.406239986883236}.\n"
     ]
    },
    {
     "name": "stdout",
     "output_type": "stream",
     "text": [
      "279 "
     ]
    },
    {
     "name": "stderr",
     "output_type": "stream",
     "text": [
      "[I 2019-02-09 14:26:03,444] Finished a trial resulted in value: 0.1772058823529412. Current best value is 0.1594444444444446 with parameters: {'n_estimators': 365, 'gamma': 0.7013814276268473, 'lambda': 0.5495306441214812, 'learning_rate': 0.12399561010971977, 'max_depth': 8, 'subsample': 0.9435922914106966, 'colsample_bytree': 0.7397597413215783, 'min_child_weight': 7.406239986883236}.\n"
     ]
    },
    {
     "name": "stdout",
     "output_type": "stream",
     "text": [
      "280 "
     ]
    },
    {
     "name": "stderr",
     "output_type": "stream",
     "text": [
      "[I 2019-02-09 14:26:12,790] Finished a trial resulted in value: 0.16944444444444462. Current best value is 0.1594444444444446 with parameters: {'n_estimators': 365, 'gamma': 0.7013814276268473, 'lambda': 0.5495306441214812, 'learning_rate': 0.12399561010971977, 'max_depth': 8, 'subsample': 0.9435922914106966, 'colsample_bytree': 0.7397597413215783, 'min_child_weight': 7.406239986883236}.\n"
     ]
    },
    {
     "name": "stdout",
     "output_type": "stream",
     "text": [
      "281 "
     ]
    },
    {
     "name": "stderr",
     "output_type": "stream",
     "text": [
      "[I 2019-02-09 14:26:15,084] Finished a trial resulted in value: 0.16618464052287596. Current best value is 0.1594444444444446 with parameters: {'n_estimators': 365, 'gamma': 0.7013814276268473, 'lambda': 0.5495306441214812, 'learning_rate': 0.12399561010971977, 'max_depth': 8, 'subsample': 0.9435922914106966, 'colsample_bytree': 0.7397597413215783, 'min_child_weight': 7.406239986883236}.\n"
     ]
    },
    {
     "name": "stdout",
     "output_type": "stream",
     "text": [
      "282 "
     ]
    },
    {
     "name": "stderr",
     "output_type": "stream",
     "text": [
      "[I 2019-02-09 14:26:24,142] Finished a trial resulted in value: 0.16714869281045752. Current best value is 0.1594444444444446 with parameters: {'n_estimators': 365, 'gamma': 0.7013814276268473, 'lambda': 0.5495306441214812, 'learning_rate': 0.12399561010971977, 'max_depth': 8, 'subsample': 0.9435922914106966, 'colsample_bytree': 0.7397597413215783, 'min_child_weight': 7.406239986883236}.\n"
     ]
    },
    {
     "name": "stdout",
     "output_type": "stream",
     "text": [
      "283 "
     ]
    },
    {
     "name": "stderr",
     "output_type": "stream",
     "text": [
      "[I 2019-02-09 14:26:39,373] Finished a trial resulted in value: 0.1683986928104576. Current best value is 0.1594444444444446 with parameters: {'n_estimators': 365, 'gamma': 0.7013814276268473, 'lambda': 0.5495306441214812, 'learning_rate': 0.12399561010971977, 'max_depth': 8, 'subsample': 0.9435922914106966, 'colsample_bytree': 0.7397597413215783, 'min_child_weight': 7.406239986883236}.\n"
     ]
    },
    {
     "name": "stdout",
     "output_type": "stream",
     "text": [
      "284 "
     ]
    },
    {
     "name": "stderr",
     "output_type": "stream",
     "text": [
      "[I 2019-02-09 14:26:44,342] Finished a trial resulted in value: 0.1638235294117648. Current best value is 0.1594444444444446 with parameters: {'n_estimators': 365, 'gamma': 0.7013814276268473, 'lambda': 0.5495306441214812, 'learning_rate': 0.12399561010971977, 'max_depth': 8, 'subsample': 0.9435922914106966, 'colsample_bytree': 0.7397597413215783, 'min_child_weight': 7.406239986883236}.\n"
     ]
    },
    {
     "name": "stdout",
     "output_type": "stream",
     "text": [
      "285 "
     ]
    },
    {
     "name": "stderr",
     "output_type": "stream",
     "text": [
      "[I 2019-02-09 14:26:55,000] Finished a trial resulted in value: 0.1659722222222223. Current best value is 0.1594444444444446 with parameters: {'n_estimators': 365, 'gamma': 0.7013814276268473, 'lambda': 0.5495306441214812, 'learning_rate': 0.12399561010971977, 'max_depth': 8, 'subsample': 0.9435922914106966, 'colsample_bytree': 0.7397597413215783, 'min_child_weight': 7.406239986883236}.\n"
     ]
    },
    {
     "name": "stdout",
     "output_type": "stream",
     "text": [
      "286 "
     ]
    },
    {
     "name": "stderr",
     "output_type": "stream",
     "text": [
      "[I 2019-02-09 14:27:10,222] Finished a trial resulted in value: 0.16728758169934632. Current best value is 0.1594444444444446 with parameters: {'n_estimators': 365, 'gamma': 0.7013814276268473, 'lambda': 0.5495306441214812, 'learning_rate': 0.12399561010971977, 'max_depth': 8, 'subsample': 0.9435922914106966, 'colsample_bytree': 0.7397597413215783, 'min_child_weight': 7.406239986883236}.\n"
     ]
    },
    {
     "name": "stdout",
     "output_type": "stream",
     "text": [
      "287 "
     ]
    },
    {
     "name": "stderr",
     "output_type": "stream",
     "text": [
      "[I 2019-02-09 14:27:18,744] Finished a trial resulted in value: 0.17055555555555557. Current best value is 0.1594444444444446 with parameters: {'n_estimators': 365, 'gamma': 0.7013814276268473, 'lambda': 0.5495306441214812, 'learning_rate': 0.12399561010971977, 'max_depth': 8, 'subsample': 0.9435922914106966, 'colsample_bytree': 0.7397597413215783, 'min_child_weight': 7.406239986883236}.\n"
     ]
    },
    {
     "name": "stdout",
     "output_type": "stream",
     "text": [
      "288 "
     ]
    },
    {
     "name": "stderr",
     "output_type": "stream",
     "text": [
      "[I 2019-02-09 14:27:33,377] Finished a trial resulted in value: 0.16166666666666674. Current best value is 0.1594444444444446 with parameters: {'n_estimators': 365, 'gamma': 0.7013814276268473, 'lambda': 0.5495306441214812, 'learning_rate': 0.12399561010971977, 'max_depth': 8, 'subsample': 0.9435922914106966, 'colsample_bytree': 0.7397597413215783, 'min_child_weight': 7.406239986883236}.\n"
     ]
    },
    {
     "name": "stdout",
     "output_type": "stream",
     "text": [
      "289 "
     ]
    },
    {
     "name": "stderr",
     "output_type": "stream",
     "text": [
      "[I 2019-02-09 14:27:48,677] Finished a trial resulted in value: 0.1683986928104576. Current best value is 0.1594444444444446 with parameters: {'n_estimators': 365, 'gamma': 0.7013814276268473, 'lambda': 0.5495306441214812, 'learning_rate': 0.12399561010971977, 'max_depth': 8, 'subsample': 0.9435922914106966, 'colsample_bytree': 0.7397597413215783, 'min_child_weight': 7.406239986883236}.\n"
     ]
    },
    {
     "name": "stdout",
     "output_type": "stream",
     "text": [
      "290 "
     ]
    },
    {
     "name": "stderr",
     "output_type": "stream",
     "text": [
      "[I 2019-02-09 14:28:03,421] Finished a trial resulted in value: 0.17291666666666672. Current best value is 0.1594444444444446 with parameters: {'n_estimators': 365, 'gamma': 0.7013814276268473, 'lambda': 0.5495306441214812, 'learning_rate': 0.12399561010971977, 'max_depth': 8, 'subsample': 0.9435922914106966, 'colsample_bytree': 0.7397597413215783, 'min_child_weight': 7.406239986883236}.\n"
     ]
    },
    {
     "name": "stdout",
     "output_type": "stream",
     "text": [
      "291 "
     ]
    },
    {
     "name": "stderr",
     "output_type": "stream",
     "text": [
      "[I 2019-02-09 14:28:23,320] Finished a trial resulted in value: 0.16826797385620917. Current best value is 0.1594444444444446 with parameters: {'n_estimators': 365, 'gamma': 0.7013814276268473, 'lambda': 0.5495306441214812, 'learning_rate': 0.12399561010971977, 'max_depth': 8, 'subsample': 0.9435922914106966, 'colsample_bytree': 0.7397597413215783, 'min_child_weight': 7.406239986883236}.\n"
     ]
    },
    {
     "name": "stdout",
     "output_type": "stream",
     "text": [
      "292 "
     ]
    },
    {
     "name": "stderr",
     "output_type": "stream",
     "text": [
      "[I 2019-02-09 14:28:36,891] Finished a trial resulted in value: 0.1750653594771242. Current best value is 0.1594444444444446 with parameters: {'n_estimators': 365, 'gamma': 0.7013814276268473, 'lambda': 0.5495306441214812, 'learning_rate': 0.12399561010971977, 'max_depth': 8, 'subsample': 0.9435922914106966, 'colsample_bytree': 0.7397597413215783, 'min_child_weight': 7.406239986883236}.\n"
     ]
    },
    {
     "name": "stdout",
     "output_type": "stream",
     "text": [
      "293 "
     ]
    },
    {
     "name": "stderr",
     "output_type": "stream",
     "text": [
      "[I 2019-02-09 14:28:44,911] Finished a trial resulted in value: 0.17290849673202613. Current best value is 0.1594444444444446 with parameters: {'n_estimators': 365, 'gamma': 0.7013814276268473, 'lambda': 0.5495306441214812, 'learning_rate': 0.12399561010971977, 'max_depth': 8, 'subsample': 0.9435922914106966, 'colsample_bytree': 0.7397597413215783, 'min_child_weight': 7.406239986883236}.\n"
     ]
    },
    {
     "name": "stdout",
     "output_type": "stream",
     "text": [
      "294 "
     ]
    },
    {
     "name": "stderr",
     "output_type": "stream",
     "text": [
      "[I 2019-02-09 14:28:57,103] Finished a trial resulted in value: 0.16722222222222227. Current best value is 0.1594444444444446 with parameters: {'n_estimators': 365, 'gamma': 0.7013814276268473, 'lambda': 0.5495306441214812, 'learning_rate': 0.12399561010971977, 'max_depth': 8, 'subsample': 0.9435922914106966, 'colsample_bytree': 0.7397597413215783, 'min_child_weight': 7.406239986883236}.\n"
     ]
    },
    {
     "name": "stdout",
     "output_type": "stream",
     "text": [
      "295 "
     ]
    },
    {
     "name": "stderr",
     "output_type": "stream",
     "text": [
      "[I 2019-02-09 14:29:03,250] Finished a trial resulted in value: 0.1659722222222223. Current best value is 0.1594444444444446 with parameters: {'n_estimators': 365, 'gamma': 0.7013814276268473, 'lambda': 0.5495306441214812, 'learning_rate': 0.12399561010971977, 'max_depth': 8, 'subsample': 0.9435922914106966, 'colsample_bytree': 0.7397597413215783, 'min_child_weight': 7.406239986883236}.\n"
     ]
    },
    {
     "name": "stdout",
     "output_type": "stream",
     "text": [
      "296 "
     ]
    },
    {
     "name": "stderr",
     "output_type": "stream",
     "text": [
      "[I 2019-02-09 14:29:21,157] Finished a trial resulted in value: 0.170686274509804. Current best value is 0.1594444444444446 with parameters: {'n_estimators': 365, 'gamma': 0.7013814276268473, 'lambda': 0.5495306441214812, 'learning_rate': 0.12399561010971977, 'max_depth': 8, 'subsample': 0.9435922914106966, 'colsample_bytree': 0.7397597413215783, 'min_child_weight': 7.406239986883236}.\n"
     ]
    },
    {
     "name": "stdout",
     "output_type": "stream",
     "text": [
      "297 "
     ]
    },
    {
     "name": "stderr",
     "output_type": "stream",
     "text": [
      "[I 2019-02-09 14:29:36,262] Finished a trial resulted in value: 0.16271241830065375. Current best value is 0.1594444444444446 with parameters: {'n_estimators': 365, 'gamma': 0.7013814276268473, 'lambda': 0.5495306441214812, 'learning_rate': 0.12399561010971977, 'max_depth': 8, 'subsample': 0.9435922914106966, 'colsample_bytree': 0.7397597413215783, 'min_child_weight': 7.406239986883236}.\n"
     ]
    },
    {
     "name": "stdout",
     "output_type": "stream",
     "text": [
      "298 "
     ]
    },
    {
     "name": "stderr",
     "output_type": "stream",
     "text": [
      "[I 2019-02-09 14:29:49,270] Finished a trial resulted in value: 0.1671568627450981. Current best value is 0.1594444444444446 with parameters: {'n_estimators': 365, 'gamma': 0.7013814276268473, 'lambda': 0.5495306441214812, 'learning_rate': 0.12399561010971977, 'max_depth': 8, 'subsample': 0.9435922914106966, 'colsample_bytree': 0.7397597413215783, 'min_child_weight': 7.406239986883236}.\n"
     ]
    },
    {
     "name": "stdout",
     "output_type": "stream",
     "text": [
      "299 "
     ]
    },
    {
     "name": "stderr",
     "output_type": "stream",
     "text": [
      "[I 2019-02-09 14:29:55,786] Finished a trial resulted in value: 0.17276960784313733. Current best value is 0.1594444444444446 with parameters: {'n_estimators': 365, 'gamma': 0.7013814276268473, 'lambda': 0.5495306441214812, 'learning_rate': 0.12399561010971977, 'max_depth': 8, 'subsample': 0.9435922914106966, 'colsample_bytree': 0.7397597413215783, 'min_child_weight': 7.406239986883236}.\n"
     ]
    },
    {
     "name": "stdout",
     "output_type": "stream",
     "text": [
      "300 "
     ]
    },
    {
     "name": "stderr",
     "output_type": "stream",
     "text": [
      "[I 2019-02-09 14:30:05,057] Finished a trial resulted in value: 0.17408496732026146. Current best value is 0.1594444444444446 with parameters: {'n_estimators': 365, 'gamma': 0.7013814276268473, 'lambda': 0.5495306441214812, 'learning_rate': 0.12399561010971977, 'max_depth': 8, 'subsample': 0.9435922914106966, 'colsample_bytree': 0.7397597413215783, 'min_child_weight': 7.406239986883236}.\n"
     ]
    },
    {
     "name": "stdout",
     "output_type": "stream",
     "text": [
      "301 "
     ]
    },
    {
     "name": "stderr",
     "output_type": "stream",
     "text": [
      "[I 2019-02-09 14:30:10,001] Finished a trial resulted in value: 0.19878267973856212. Current best value is 0.1594444444444446 with parameters: {'n_estimators': 365, 'gamma': 0.7013814276268473, 'lambda': 0.5495306441214812, 'learning_rate': 0.12399561010971977, 'max_depth': 8, 'subsample': 0.9435922914106966, 'colsample_bytree': 0.7397597413215783, 'min_child_weight': 7.406239986883236}.\n"
     ]
    },
    {
     "name": "stdout",
     "output_type": "stream",
     "text": [
      "302 "
     ]
    },
    {
     "name": "stderr",
     "output_type": "stream",
     "text": [
      "[I 2019-02-09 14:30:22,006] Finished a trial resulted in value: 0.1661111111111111. Current best value is 0.1594444444444446 with parameters: {'n_estimators': 365, 'gamma': 0.7013814276268473, 'lambda': 0.5495306441214812, 'learning_rate': 0.12399561010971977, 'max_depth': 8, 'subsample': 0.9435922914106966, 'colsample_bytree': 0.7397597413215783, 'min_child_weight': 7.406239986883236}.\n"
     ]
    },
    {
     "name": "stdout",
     "output_type": "stream",
     "text": [
      "303 "
     ]
    },
    {
     "name": "stderr",
     "output_type": "stream",
     "text": [
      "[I 2019-02-09 14:30:25,107] Finished a trial resulted in value: 0.17172385620915032. Current best value is 0.1594444444444446 with parameters: {'n_estimators': 365, 'gamma': 0.7013814276268473, 'lambda': 0.5495306441214812, 'learning_rate': 0.12399561010971977, 'max_depth': 8, 'subsample': 0.9435922914106966, 'colsample_bytree': 0.7397597413215783, 'min_child_weight': 7.406239986883236}.\n"
     ]
    },
    {
     "name": "stdout",
     "output_type": "stream",
     "text": [
      "304 "
     ]
    },
    {
     "name": "stderr",
     "output_type": "stream",
     "text": [
      "[I 2019-02-09 14:30:43,141] Finished a trial resulted in value: 0.16722222222222227. Current best value is 0.1594444444444446 with parameters: {'n_estimators': 365, 'gamma': 0.7013814276268473, 'lambda': 0.5495306441214812, 'learning_rate': 0.12399561010971977, 'max_depth': 8, 'subsample': 0.9435922914106966, 'colsample_bytree': 0.7397597413215783, 'min_child_weight': 7.406239986883236}.\n"
     ]
    },
    {
     "name": "stdout",
     "output_type": "stream",
     "text": [
      "305 "
     ]
    },
    {
     "name": "stderr",
     "output_type": "stream",
     "text": [
      "[I 2019-02-09 14:30:47,131] Finished a trial resulted in value: 0.18276960784313734. Current best value is 0.1594444444444446 with parameters: {'n_estimators': 365, 'gamma': 0.7013814276268473, 'lambda': 0.5495306441214812, 'learning_rate': 0.12399561010971977, 'max_depth': 8, 'subsample': 0.9435922914106966, 'colsample_bytree': 0.7397597413215783, 'min_child_weight': 7.406239986883236}.\n"
     ]
    },
    {
     "name": "stdout",
     "output_type": "stream",
     "text": [
      "306 "
     ]
    },
    {
     "name": "stderr",
     "output_type": "stream",
     "text": [
      "[I 2019-02-09 14:31:05,992] Finished a trial resulted in value: 0.1683986928104575. Current best value is 0.1594444444444446 with parameters: {'n_estimators': 365, 'gamma': 0.7013814276268473, 'lambda': 0.5495306441214812, 'learning_rate': 0.12399561010971977, 'max_depth': 8, 'subsample': 0.9435922914106966, 'colsample_bytree': 0.7397597413215783, 'min_child_weight': 7.406239986883236}.\n"
     ]
    },
    {
     "name": "stdout",
     "output_type": "stream",
     "text": [
      "307 "
     ]
    },
    {
     "name": "stderr",
     "output_type": "stream",
     "text": [
      "[I 2019-02-09 14:31:11,272] Finished a trial resulted in value: 0.1683986928104576. Current best value is 0.1594444444444446 with parameters: {'n_estimators': 365, 'gamma': 0.7013814276268473, 'lambda': 0.5495306441214812, 'learning_rate': 0.12399561010971977, 'max_depth': 8, 'subsample': 0.9435922914106966, 'colsample_bytree': 0.7397597413215783, 'min_child_weight': 7.406239986883236}.\n"
     ]
    },
    {
     "name": "stdout",
     "output_type": "stream",
     "text": [
      "308 "
     ]
    },
    {
     "name": "stderr",
     "output_type": "stream",
     "text": [
      "[I 2019-02-09 14:31:13,580] Finished a trial resulted in value: 0.20100490196078435. Current best value is 0.1594444444444446 with parameters: {'n_estimators': 365, 'gamma': 0.7013814276268473, 'lambda': 0.5495306441214812, 'learning_rate': 0.12399561010971977, 'max_depth': 8, 'subsample': 0.9435922914106966, 'colsample_bytree': 0.7397597413215783, 'min_child_weight': 7.406239986883236}.\n"
     ]
    },
    {
     "name": "stdout",
     "output_type": "stream",
     "text": [
      "309 "
     ]
    },
    {
     "name": "stderr",
     "output_type": "stream",
     "text": [
      "[I 2019-02-09 14:31:19,485] Finished a trial resulted in value: 0.17179738562091518. Current best value is 0.1594444444444446 with parameters: {'n_estimators': 365, 'gamma': 0.7013814276268473, 'lambda': 0.5495306441214812, 'learning_rate': 0.12399561010971977, 'max_depth': 8, 'subsample': 0.9435922914106966, 'colsample_bytree': 0.7397597413215783, 'min_child_weight': 7.406239986883236}.\n"
     ]
    },
    {
     "name": "stdout",
     "output_type": "stream",
     "text": [
      "310 "
     ]
    },
    {
     "name": "stderr",
     "output_type": "stream",
     "text": [
      "[I 2019-02-09 14:31:30,854] Finished a trial resulted in value: 0.1729738562091504. Current best value is 0.1594444444444446 with parameters: {'n_estimators': 365, 'gamma': 0.7013814276268473, 'lambda': 0.5495306441214812, 'learning_rate': 0.12399561010971977, 'max_depth': 8, 'subsample': 0.9435922914106966, 'colsample_bytree': 0.7397597413215783, 'min_child_weight': 7.406239986883236}.\n"
     ]
    },
    {
     "name": "stdout",
     "output_type": "stream",
     "text": [
      "311 "
     ]
    },
    {
     "name": "stderr",
     "output_type": "stream",
     "text": [
      "[I 2019-02-09 14:31:37,407] Finished a trial resulted in value: 0.16943627450980392. Current best value is 0.1594444444444446 with parameters: {'n_estimators': 365, 'gamma': 0.7013814276268473, 'lambda': 0.5495306441214812, 'learning_rate': 0.12399561010971977, 'max_depth': 8, 'subsample': 0.9435922914106966, 'colsample_bytree': 0.7397597413215783, 'min_child_weight': 7.406239986883236}.\n"
     ]
    },
    {
     "name": "stdout",
     "output_type": "stream",
     "text": [
      "312 "
     ]
    },
    {
     "name": "stderr",
     "output_type": "stream",
     "text": [
      "[I 2019-02-09 14:31:38,363] Finished a trial resulted in value: 0.19767156862745094. Current best value is 0.1594444444444446 with parameters: {'n_estimators': 365, 'gamma': 0.7013814276268473, 'lambda': 0.5495306441214812, 'learning_rate': 0.12399561010971977, 'max_depth': 8, 'subsample': 0.9435922914106966, 'colsample_bytree': 0.7397597413215783, 'min_child_weight': 7.406239986883236}.\n"
     ]
    },
    {
     "name": "stdout",
     "output_type": "stream",
     "text": [
      "313 "
     ]
    },
    {
     "name": "stderr",
     "output_type": "stream",
     "text": [
      "[I 2019-02-09 14:31:46,562] Finished a trial resulted in value: 0.17284313725490208. Current best value is 0.1594444444444446 with parameters: {'n_estimators': 365, 'gamma': 0.7013814276268473, 'lambda': 0.5495306441214812, 'learning_rate': 0.12399561010971977, 'max_depth': 8, 'subsample': 0.9435922914106966, 'colsample_bytree': 0.7397597413215783, 'min_child_weight': 7.406239986883236}.\n"
     ]
    },
    {
     "name": "stdout",
     "output_type": "stream",
     "text": [
      "314 "
     ]
    },
    {
     "name": "stderr",
     "output_type": "stream",
     "text": [
      "[I 2019-02-09 14:32:03,922] Finished a trial resulted in value: 0.16833333333333345. Current best value is 0.1594444444444446 with parameters: {'n_estimators': 365, 'gamma': 0.7013814276268473, 'lambda': 0.5495306441214812, 'learning_rate': 0.12399561010971977, 'max_depth': 8, 'subsample': 0.9435922914106966, 'colsample_bytree': 0.7397597413215783, 'min_child_weight': 7.406239986883236}.\n"
     ]
    },
    {
     "name": "stdout",
     "output_type": "stream",
     "text": [
      "315 "
     ]
    },
    {
     "name": "stderr",
     "output_type": "stream",
     "text": [
      "[I 2019-02-09 14:32:24,385] Finished a trial resulted in value: 0.17380718954248375. Current best value is 0.1594444444444446 with parameters: {'n_estimators': 365, 'gamma': 0.7013814276268473, 'lambda': 0.5495306441214812, 'learning_rate': 0.12399561010971977, 'max_depth': 8, 'subsample': 0.9435922914106966, 'colsample_bytree': 0.7397597413215783, 'min_child_weight': 7.406239986883236}.\n"
     ]
    },
    {
     "name": "stdout",
     "output_type": "stream",
     "text": [
      "316 "
     ]
    },
    {
     "name": "stderr",
     "output_type": "stream",
     "text": [
      "[I 2019-02-09 14:32:45,695] Finished a trial resulted in value: 0.17382352941176493. Current best value is 0.1594444444444446 with parameters: {'n_estimators': 365, 'gamma': 0.7013814276268473, 'lambda': 0.5495306441214812, 'learning_rate': 0.12399561010971977, 'max_depth': 8, 'subsample': 0.9435922914106966, 'colsample_bytree': 0.7397597413215783, 'min_child_weight': 7.406239986883236}.\n"
     ]
    },
    {
     "name": "stdout",
     "output_type": "stream",
     "text": [
      "317 "
     ]
    },
    {
     "name": "stderr",
     "output_type": "stream",
     "text": [
      "[I 2019-02-09 14:32:53,047] Finished a trial resulted in value: 0.17408496732026146. Current best value is 0.1594444444444446 with parameters: {'n_estimators': 365, 'gamma': 0.7013814276268473, 'lambda': 0.5495306441214812, 'learning_rate': 0.12399561010971977, 'max_depth': 8, 'subsample': 0.9435922914106966, 'colsample_bytree': 0.7397597413215783, 'min_child_weight': 7.406239986883236}.\n"
     ]
    },
    {
     "name": "stdout",
     "output_type": "stream",
     "text": [
      "318 "
     ]
    },
    {
     "name": "stderr",
     "output_type": "stream",
     "text": [
      "[I 2019-02-09 14:32:57,244] Finished a trial resulted in value: 0.1884558823529412. Current best value is 0.1594444444444446 with parameters: {'n_estimators': 365, 'gamma': 0.7013814276268473, 'lambda': 0.5495306441214812, 'learning_rate': 0.12399561010971977, 'max_depth': 8, 'subsample': 0.9435922914106966, 'colsample_bytree': 0.7397597413215783, 'min_child_weight': 7.406239986883236}.\n"
     ]
    },
    {
     "name": "stdout",
     "output_type": "stream",
     "text": [
      "319 "
     ]
    },
    {
     "name": "stderr",
     "output_type": "stream",
     "text": [
      "[I 2019-02-09 14:33:09,244] Finished a trial resulted in value: 0.1717320261437908. Current best value is 0.1594444444444446 with parameters: {'n_estimators': 365, 'gamma': 0.7013814276268473, 'lambda': 0.5495306441214812, 'learning_rate': 0.12399561010971977, 'max_depth': 8, 'subsample': 0.9435922914106966, 'colsample_bytree': 0.7397597413215783, 'min_child_weight': 7.406239986883236}.\n"
     ]
    },
    {
     "name": "stdout",
     "output_type": "stream",
     "text": [
      "320 "
     ]
    },
    {
     "name": "stderr",
     "output_type": "stream",
     "text": [
      "[I 2019-02-09 14:33:27,003] Finished a trial resulted in value: 0.17617647058823538. Current best value is 0.1594444444444446 with parameters: {'n_estimators': 365, 'gamma': 0.7013814276268473, 'lambda': 0.5495306441214812, 'learning_rate': 0.12399561010971977, 'max_depth': 8, 'subsample': 0.9435922914106966, 'colsample_bytree': 0.7397597413215783, 'min_child_weight': 7.406239986883236}.\n"
     ]
    },
    {
     "name": "stdout",
     "output_type": "stream",
     "text": [
      "321 "
     ]
    },
    {
     "name": "stderr",
     "output_type": "stream",
     "text": [
      "[I 2019-02-09 14:33:34,719] Finished a trial resulted in value: 0.16173202614379079. Current best value is 0.1594444444444446 with parameters: {'n_estimators': 365, 'gamma': 0.7013814276268473, 'lambda': 0.5495306441214812, 'learning_rate': 0.12399561010971977, 'max_depth': 8, 'subsample': 0.9435922914106966, 'colsample_bytree': 0.7397597413215783, 'min_child_weight': 7.406239986883236}.\n"
     ]
    },
    {
     "name": "stdout",
     "output_type": "stream",
     "text": [
      "322 "
     ]
    },
    {
     "name": "stderr",
     "output_type": "stream",
     "text": [
      "[I 2019-02-09 14:33:48,448] Finished a trial resulted in value: 0.1694444444444444. Current best value is 0.1594444444444446 with parameters: {'n_estimators': 365, 'gamma': 0.7013814276268473, 'lambda': 0.5495306441214812, 'learning_rate': 0.12399561010971977, 'max_depth': 8, 'subsample': 0.9435922914106966, 'colsample_bytree': 0.7397597413215783, 'min_child_weight': 7.406239986883236}.\n"
     ]
    },
    {
     "name": "stdout",
     "output_type": "stream",
     "text": [
      "323 "
     ]
    },
    {
     "name": "stderr",
     "output_type": "stream",
     "text": [
      "[I 2019-02-09 14:33:56,150] Finished a trial resulted in value: 0.17610294117647063. Current best value is 0.1594444444444446 with parameters: {'n_estimators': 365, 'gamma': 0.7013814276268473, 'lambda': 0.5495306441214812, 'learning_rate': 0.12399561010971977, 'max_depth': 8, 'subsample': 0.9435922914106966, 'colsample_bytree': 0.7397597413215783, 'min_child_weight': 7.406239986883236}.\n"
     ]
    },
    {
     "name": "stdout",
     "output_type": "stream",
     "text": [
      "324 "
     ]
    },
    {
     "name": "stderr",
     "output_type": "stream",
     "text": [
      "[I 2019-02-09 14:34:11,637] Finished a trial resulted in value: 0.16624183006535953. Current best value is 0.1594444444444446 with parameters: {'n_estimators': 365, 'gamma': 0.7013814276268473, 'lambda': 0.5495306441214812, 'learning_rate': 0.12399561010971977, 'max_depth': 8, 'subsample': 0.9435922914106966, 'colsample_bytree': 0.7397597413215783, 'min_child_weight': 7.406239986883236}.\n"
     ]
    },
    {
     "name": "stdout",
     "output_type": "stream",
     "text": [
      "325 "
     ]
    },
    {
     "name": "stderr",
     "output_type": "stream",
     "text": [
      "[I 2019-02-09 14:34:17,789] Finished a trial resulted in value: 0.18546568627451. Current best value is 0.1594444444444446 with parameters: {'n_estimators': 365, 'gamma': 0.7013814276268473, 'lambda': 0.5495306441214812, 'learning_rate': 0.12399561010971977, 'max_depth': 8, 'subsample': 0.9435922914106966, 'colsample_bytree': 0.7397597413215783, 'min_child_weight': 7.406239986883236}.\n"
     ]
    },
    {
     "name": "stdout",
     "output_type": "stream",
     "text": [
      "326 "
     ]
    },
    {
     "name": "stderr",
     "output_type": "stream",
     "text": [
      "[I 2019-02-09 14:34:21,397] Finished a trial resulted in value: 0.19629901960784324. Current best value is 0.1594444444444446 with parameters: {'n_estimators': 365, 'gamma': 0.7013814276268473, 'lambda': 0.5495306441214812, 'learning_rate': 0.12399561010971977, 'max_depth': 8, 'subsample': 0.9435922914106966, 'colsample_bytree': 0.7397597413215783, 'min_child_weight': 7.406239986883236}.\n"
     ]
    },
    {
     "name": "stdout",
     "output_type": "stream",
     "text": [
      "327 "
     ]
    },
    {
     "name": "stderr",
     "output_type": "stream",
     "text": [
      "[I 2019-02-09 14:34:34,822] Finished a trial resulted in value: 0.16728758169934654. Current best value is 0.1594444444444446 with parameters: {'n_estimators': 365, 'gamma': 0.7013814276268473, 'lambda': 0.5495306441214812, 'learning_rate': 0.12399561010971977, 'max_depth': 8, 'subsample': 0.9435922914106966, 'colsample_bytree': 0.7397597413215783, 'min_child_weight': 7.406239986883236}.\n"
     ]
    },
    {
     "name": "stdout",
     "output_type": "stream",
     "text": [
      "328 "
     ]
    },
    {
     "name": "stderr",
     "output_type": "stream",
     "text": [
      "[I 2019-02-09 14:34:41,935] Finished a trial resulted in value: 0.1683986928104575. Current best value is 0.1594444444444446 with parameters: {'n_estimators': 365, 'gamma': 0.7013814276268473, 'lambda': 0.5495306441214812, 'learning_rate': 0.12399561010971977, 'max_depth': 8, 'subsample': 0.9435922914106966, 'colsample_bytree': 0.7397597413215783, 'min_child_weight': 7.406239986883236}.\n"
     ]
    },
    {
     "name": "stdout",
     "output_type": "stream",
     "text": [
      "329 "
     ]
    },
    {
     "name": "stderr",
     "output_type": "stream",
     "text": [
      "[I 2019-02-09 14:34:45,371] Finished a trial resulted in value: 0.16832516339869286. Current best value is 0.1594444444444446 with parameters: {'n_estimators': 365, 'gamma': 0.7013814276268473, 'lambda': 0.5495306441214812, 'learning_rate': 0.12399561010971977, 'max_depth': 8, 'subsample': 0.9435922914106966, 'colsample_bytree': 0.7397597413215783, 'min_child_weight': 7.406239986883236}.\n"
     ]
    },
    {
     "name": "stdout",
     "output_type": "stream",
     "text": [
      "330 "
     ]
    },
    {
     "name": "stderr",
     "output_type": "stream",
     "text": [
      "[I 2019-02-09 14:34:59,661] Finished a trial resulted in value: 0.16728758169934654. Current best value is 0.1594444444444446 with parameters: {'n_estimators': 365, 'gamma': 0.7013814276268473, 'lambda': 0.5495306441214812, 'learning_rate': 0.12399561010971977, 'max_depth': 8, 'subsample': 0.9435922914106966, 'colsample_bytree': 0.7397597413215783, 'min_child_weight': 7.406239986883236}.\n"
     ]
    },
    {
     "name": "stdout",
     "output_type": "stream",
     "text": [
      "331 "
     ]
    },
    {
     "name": "stderr",
     "output_type": "stream",
     "text": [
      "[I 2019-02-09 14:35:02,470] Finished a trial resulted in value: 0.1878839869281046. Current best value is 0.1594444444444446 with parameters: {'n_estimators': 365, 'gamma': 0.7013814276268473, 'lambda': 0.5495306441214812, 'learning_rate': 0.12399561010971977, 'max_depth': 8, 'subsample': 0.9435922914106966, 'colsample_bytree': 0.7397597413215783, 'min_child_weight': 7.406239986883236}.\n"
     ]
    },
    {
     "name": "stdout",
     "output_type": "stream",
     "text": [
      "332 "
     ]
    },
    {
     "name": "stderr",
     "output_type": "stream",
     "text": [
      "[I 2019-02-09 14:35:17,007] Finished a trial resulted in value: 0.17271241830065376. Current best value is 0.1594444444444446 with parameters: {'n_estimators': 365, 'gamma': 0.7013814276268473, 'lambda': 0.5495306441214812, 'learning_rate': 0.12399561010971977, 'max_depth': 8, 'subsample': 0.9435922914106966, 'colsample_bytree': 0.7397597413215783, 'min_child_weight': 7.406239986883236}.\n"
     ]
    },
    {
     "name": "stdout",
     "output_type": "stream",
     "text": [
      "333 "
     ]
    },
    {
     "name": "stderr",
     "output_type": "stream",
     "text": [
      "[I 2019-02-09 14:35:20,970] Finished a trial resulted in value: 0.17789215686274518. Current best value is 0.1594444444444446 with parameters: {'n_estimators': 365, 'gamma': 0.7013814276268473, 'lambda': 0.5495306441214812, 'learning_rate': 0.12399561010971977, 'max_depth': 8, 'subsample': 0.9435922914106966, 'colsample_bytree': 0.7397597413215783, 'min_child_weight': 7.406239986883236}.\n"
     ]
    },
    {
     "name": "stdout",
     "output_type": "stream",
     "text": [
      "334 "
     ]
    },
    {
     "name": "stderr",
     "output_type": "stream",
     "text": [
      "[I 2019-02-09 14:35:33,799] Finished a trial resulted in value: 0.17610294117647074. Current best value is 0.1594444444444446 with parameters: {'n_estimators': 365, 'gamma': 0.7013814276268473, 'lambda': 0.5495306441214812, 'learning_rate': 0.12399561010971977, 'max_depth': 8, 'subsample': 0.9435922914106966, 'colsample_bytree': 0.7397597413215783, 'min_child_weight': 7.406239986883236}.\n"
     ]
    },
    {
     "name": "stdout",
     "output_type": "stream",
     "text": [
      "335 "
     ]
    },
    {
     "name": "stderr",
     "output_type": "stream",
     "text": [
      "[I 2019-02-09 14:35:38,242] Finished a trial resulted in value: 0.1726960784313727. Current best value is 0.1594444444444446 with parameters: {'n_estimators': 365, 'gamma': 0.7013814276268473, 'lambda': 0.5495306441214812, 'learning_rate': 0.12399561010971977, 'max_depth': 8, 'subsample': 0.9435922914106966, 'colsample_bytree': 0.7397597413215783, 'min_child_weight': 7.406239986883236}.\n"
     ]
    },
    {
     "name": "stdout",
     "output_type": "stream",
     "text": [
      "336 "
     ]
    },
    {
     "name": "stderr",
     "output_type": "stream",
     "text": [
      "[I 2019-02-09 14:35:57,213] Finished a trial resulted in value: 0.17062091503267962. Current best value is 0.1594444444444446 with parameters: {'n_estimators': 365, 'gamma': 0.7013814276268473, 'lambda': 0.5495306441214812, 'learning_rate': 0.12399561010971977, 'max_depth': 8, 'subsample': 0.9435922914106966, 'colsample_bytree': 0.7397597413215783, 'min_child_weight': 7.406239986883236}.\n"
     ]
    },
    {
     "name": "stdout",
     "output_type": "stream",
     "text": [
      "337 "
     ]
    },
    {
     "name": "stderr",
     "output_type": "stream",
     "text": [
      "[I 2019-02-09 14:36:19,020] Finished a trial resulted in value: 0.16290849673202612. Current best value is 0.1594444444444446 with parameters: {'n_estimators': 365, 'gamma': 0.7013814276268473, 'lambda': 0.5495306441214812, 'learning_rate': 0.12399561010971977, 'max_depth': 8, 'subsample': 0.9435922914106966, 'colsample_bytree': 0.7397597413215783, 'min_child_weight': 7.406239986883236}.\n"
     ]
    },
    {
     "name": "stdout",
     "output_type": "stream",
     "text": [
      "338 "
     ]
    },
    {
     "name": "stderr",
     "output_type": "stream",
     "text": [
      "[I 2019-02-09 14:36:24,335] Finished a trial resulted in value: 0.17610294117647074. Current best value is 0.1594444444444446 with parameters: {'n_estimators': 365, 'gamma': 0.7013814276268473, 'lambda': 0.5495306441214812, 'learning_rate': 0.12399561010971977, 'max_depth': 8, 'subsample': 0.9435922914106966, 'colsample_bytree': 0.7397597413215783, 'min_child_weight': 7.406239986883236}.\n"
     ]
    },
    {
     "name": "stdout",
     "output_type": "stream",
     "text": [
      "339 "
     ]
    },
    {
     "name": "stderr",
     "output_type": "stream",
     "text": [
      "[I 2019-02-09 14:36:30,848] Finished a trial resulted in value: 0.16722222222222227. Current best value is 0.1594444444444446 with parameters: {'n_estimators': 365, 'gamma': 0.7013814276268473, 'lambda': 0.5495306441214812, 'learning_rate': 0.12399561010971977, 'max_depth': 8, 'subsample': 0.9435922914106966, 'colsample_bytree': 0.7397597413215783, 'min_child_weight': 7.406239986883236}.\n"
     ]
    },
    {
     "name": "stdout",
     "output_type": "stream",
     "text": [
      "340 "
     ]
    },
    {
     "name": "stderr",
     "output_type": "stream",
     "text": [
      "[I 2019-02-09 14:36:31,639] Finished a trial resulted in value: 0.20147875816993466. Current best value is 0.1594444444444446 with parameters: {'n_estimators': 365, 'gamma': 0.7013814276268473, 'lambda': 0.5495306441214812, 'learning_rate': 0.12399561010971977, 'max_depth': 8, 'subsample': 0.9435922914106966, 'colsample_bytree': 0.7397597413215783, 'min_child_weight': 7.406239986883236}.\n"
     ]
    },
    {
     "name": "stdout",
     "output_type": "stream",
     "text": [
      "341 "
     ]
    },
    {
     "name": "stderr",
     "output_type": "stream",
     "text": [
      "[I 2019-02-09 14:36:51,742] Finished a trial resulted in value: 0.1693055555555556. Current best value is 0.1594444444444446 with parameters: {'n_estimators': 365, 'gamma': 0.7013814276268473, 'lambda': 0.5495306441214812, 'learning_rate': 0.12399561010971977, 'max_depth': 8, 'subsample': 0.9435922914106966, 'colsample_bytree': 0.7397597413215783, 'min_child_weight': 7.406239986883236}.\n"
     ]
    },
    {
     "name": "stdout",
     "output_type": "stream",
     "text": [
      "342 "
     ]
    },
    {
     "name": "stderr",
     "output_type": "stream",
     "text": [
      "[I 2019-02-09 14:37:01,427] Finished a trial resulted in value: 0.16957516339869283. Current best value is 0.1594444444444446 with parameters: {'n_estimators': 365, 'gamma': 0.7013814276268473, 'lambda': 0.5495306441214812, 'learning_rate': 0.12399561010971977, 'max_depth': 8, 'subsample': 0.9435922914106966, 'colsample_bytree': 0.7397597413215783, 'min_child_weight': 7.406239986883236}.\n"
     ]
    },
    {
     "name": "stdout",
     "output_type": "stream",
     "text": [
      "343 "
     ]
    },
    {
     "name": "stderr",
     "output_type": "stream",
     "text": [
      "[I 2019-02-09 14:37:04,691] Finished a trial resulted in value: 0.18290032679738577. Current best value is 0.1594444444444446 with parameters: {'n_estimators': 365, 'gamma': 0.7013814276268473, 'lambda': 0.5495306441214812, 'learning_rate': 0.12399561010971977, 'max_depth': 8, 'subsample': 0.9435922914106966, 'colsample_bytree': 0.7397597413215783, 'min_child_weight': 7.406239986883236}.\n"
     ]
    },
    {
     "name": "stdout",
     "output_type": "stream",
     "text": [
      "344 "
     ]
    },
    {
     "name": "stderr",
     "output_type": "stream",
     "text": [
      "[I 2019-02-09 14:37:23,199] Finished a trial resulted in value: 0.16833333333333345. Current best value is 0.1594444444444446 with parameters: {'n_estimators': 365, 'gamma': 0.7013814276268473, 'lambda': 0.5495306441214812, 'learning_rate': 0.12399561010971977, 'max_depth': 8, 'subsample': 0.9435922914106966, 'colsample_bytree': 0.7397597413215783, 'min_child_weight': 7.406239986883236}.\n"
     ]
    },
    {
     "name": "stdout",
     "output_type": "stream",
     "text": [
      "345 "
     ]
    },
    {
     "name": "stderr",
     "output_type": "stream",
     "text": [
      "[I 2019-02-09 14:37:40,034] Finished a trial resulted in value: 0.17493464052287577. Current best value is 0.1594444444444446 with parameters: {'n_estimators': 365, 'gamma': 0.7013814276268473, 'lambda': 0.5495306441214812, 'learning_rate': 0.12399561010971977, 'max_depth': 8, 'subsample': 0.9435922914106966, 'colsample_bytree': 0.7397597413215783, 'min_child_weight': 7.406239986883236}.\n"
     ]
    },
    {
     "name": "stdout",
     "output_type": "stream",
     "text": [
      "346 "
     ]
    },
    {
     "name": "stderr",
     "output_type": "stream",
     "text": [
      "[I 2019-02-09 14:37:57,841] Finished a trial resulted in value: 0.16722222222222227. Current best value is 0.1594444444444446 with parameters: {'n_estimators': 365, 'gamma': 0.7013814276268473, 'lambda': 0.5495306441214812, 'learning_rate': 0.12399561010971977, 'max_depth': 8, 'subsample': 0.9435922914106966, 'colsample_bytree': 0.7397597413215783, 'min_child_weight': 7.406239986883236}.\n"
     ]
    },
    {
     "name": "stdout",
     "output_type": "stream",
     "text": [
      "347 "
     ]
    },
    {
     "name": "stderr",
     "output_type": "stream",
     "text": [
      "[I 2019-02-09 14:38:08,065] Finished a trial resulted in value: 0.1729738562091504. Current best value is 0.1594444444444446 with parameters: {'n_estimators': 365, 'gamma': 0.7013814276268473, 'lambda': 0.5495306441214812, 'learning_rate': 0.12399561010971977, 'max_depth': 8, 'subsample': 0.9435922914106966, 'colsample_bytree': 0.7397597413215783, 'min_child_weight': 7.406239986883236}.\n"
     ]
    },
    {
     "name": "stdout",
     "output_type": "stream",
     "text": [
      "348 "
     ]
    },
    {
     "name": "stderr",
     "output_type": "stream",
     "text": [
      "[I 2019-02-09 14:38:22,830] Finished a trial resulted in value: 0.18263071895424843. Current best value is 0.1594444444444446 with parameters: {'n_estimators': 365, 'gamma': 0.7013814276268473, 'lambda': 0.5495306441214812, 'learning_rate': 0.12399561010971977, 'max_depth': 8, 'subsample': 0.9435922914106966, 'colsample_bytree': 0.7397597413215783, 'min_child_weight': 7.406239986883236}.\n"
     ]
    },
    {
     "name": "stdout",
     "output_type": "stream",
     "text": [
      "349 "
     ]
    },
    {
     "name": "stderr",
     "output_type": "stream",
     "text": [
      "[I 2019-02-09 14:38:42,851] Finished a trial resulted in value: 0.17847222222222214. Current best value is 0.1594444444444446 with parameters: {'n_estimators': 365, 'gamma': 0.7013814276268473, 'lambda': 0.5495306441214812, 'learning_rate': 0.12399561010971977, 'max_depth': 8, 'subsample': 0.9435922914106966, 'colsample_bytree': 0.7397597413215783, 'min_child_weight': 7.406239986883236}.\n"
     ]
    },
    {
     "name": "stdout",
     "output_type": "stream",
     "text": [
      "350 "
     ]
    },
    {
     "name": "stderr",
     "output_type": "stream",
     "text": [
      "[I 2019-02-09 14:38:49,788] Finished a trial resulted in value: 0.16951797385620926. Current best value is 0.1594444444444446 with parameters: {'n_estimators': 365, 'gamma': 0.7013814276268473, 'lambda': 0.5495306441214812, 'learning_rate': 0.12399561010971977, 'max_depth': 8, 'subsample': 0.9435922914106966, 'colsample_bytree': 0.7397597413215783, 'min_child_weight': 7.406239986883236}.\n"
     ]
    },
    {
     "name": "stdout",
     "output_type": "stream",
     "text": [
      "351 "
     ]
    },
    {
     "name": "stderr",
     "output_type": "stream",
     "text": [
      "[I 2019-02-09 14:39:13,918] Finished a trial resulted in value: 0.16617647058823537. Current best value is 0.1594444444444446 with parameters: {'n_estimators': 365, 'gamma': 0.7013814276268473, 'lambda': 0.5495306441214812, 'learning_rate': 0.12399561010971977, 'max_depth': 8, 'subsample': 0.9435922914106966, 'colsample_bytree': 0.7397597413215783, 'min_child_weight': 7.406239986883236}.\n"
     ]
    },
    {
     "name": "stdout",
     "output_type": "stream",
     "text": [
      "352 "
     ]
    },
    {
     "name": "stderr",
     "output_type": "stream",
     "text": [
      "[I 2019-02-09 14:39:19,614] Finished a trial resulted in value: 0.1796895424836602. Current best value is 0.1594444444444446 with parameters: {'n_estimators': 365, 'gamma': 0.7013814276268473, 'lambda': 0.5495306441214812, 'learning_rate': 0.12399561010971977, 'max_depth': 8, 'subsample': 0.9435922914106966, 'colsample_bytree': 0.7397597413215783, 'min_child_weight': 7.406239986883236}.\n"
     ]
    },
    {
     "name": "stdout",
     "output_type": "stream",
     "text": [
      "353 "
     ]
    },
    {
     "name": "stderr",
     "output_type": "stream",
     "text": [
      "[I 2019-02-09 14:39:24,501] Finished a trial resulted in value: 0.1693055555555556. Current best value is 0.1594444444444446 with parameters: {'n_estimators': 365, 'gamma': 0.7013814276268473, 'lambda': 0.5495306441214812, 'learning_rate': 0.12399561010971977, 'max_depth': 8, 'subsample': 0.9435922914106966, 'colsample_bytree': 0.7397597413215783, 'min_child_weight': 7.406239986883236}.\n"
     ]
    },
    {
     "name": "stdout",
     "output_type": "stream",
     "text": [
      "354 "
     ]
    },
    {
     "name": "stderr",
     "output_type": "stream",
     "text": [
      "[I 2019-02-09 14:39:27,054] Finished a trial resulted in value: 0.1808823529411765. Current best value is 0.1594444444444446 with parameters: {'n_estimators': 365, 'gamma': 0.7013814276268473, 'lambda': 0.5495306441214812, 'learning_rate': 0.12399561010971977, 'max_depth': 8, 'subsample': 0.9435922914106966, 'colsample_bytree': 0.7397597413215783, 'min_child_weight': 7.406239986883236}.\n"
     ]
    },
    {
     "name": "stdout",
     "output_type": "stream",
     "text": [
      "355 "
     ]
    },
    {
     "name": "stderr",
     "output_type": "stream",
     "text": [
      "[I 2019-02-09 14:39:43,901] Finished a trial resulted in value: 0.17860294117647058. Current best value is 0.1594444444444446 with parameters: {'n_estimators': 365, 'gamma': 0.7013814276268473, 'lambda': 0.5495306441214812, 'learning_rate': 0.12399561010971977, 'max_depth': 8, 'subsample': 0.9435922914106966, 'colsample_bytree': 0.7397597413215783, 'min_child_weight': 7.406239986883236}.\n"
     ]
    },
    {
     "name": "stdout",
     "output_type": "stream",
     "text": [
      "356 "
     ]
    },
    {
     "name": "stderr",
     "output_type": "stream",
     "text": [
      "[I 2019-02-09 14:39:50,845] Finished a trial resulted in value: 0.1749264705882354. Current best value is 0.1594444444444446 with parameters: {'n_estimators': 365, 'gamma': 0.7013814276268473, 'lambda': 0.5495306441214812, 'learning_rate': 0.12399561010971977, 'max_depth': 8, 'subsample': 0.9435922914106966, 'colsample_bytree': 0.7397597413215783, 'min_child_weight': 7.406239986883236}.\n"
     ]
    },
    {
     "name": "stdout",
     "output_type": "stream",
     "text": [
      "357 "
     ]
    },
    {
     "name": "stderr",
     "output_type": "stream",
     "text": [
      "[I 2019-02-09 14:40:09,514] Finished a trial resulted in value: 0.17833333333333345. Current best value is 0.1594444444444446 with parameters: {'n_estimators': 365, 'gamma': 0.7013814276268473, 'lambda': 0.5495306441214812, 'learning_rate': 0.12399561010971977, 'max_depth': 8, 'subsample': 0.9435922914106966, 'colsample_bytree': 0.7397597413215783, 'min_child_weight': 7.406239986883236}.\n"
     ]
    },
    {
     "name": "stdout",
     "output_type": "stream",
     "text": [
      "358 "
     ]
    },
    {
     "name": "stderr",
     "output_type": "stream",
     "text": [
      "[I 2019-02-09 14:40:21,999] Finished a trial resulted in value: 0.16944444444444462. Current best value is 0.1594444444444446 with parameters: {'n_estimators': 365, 'gamma': 0.7013814276268473, 'lambda': 0.5495306441214812, 'learning_rate': 0.12399561010971977, 'max_depth': 8, 'subsample': 0.9435922914106966, 'colsample_bytree': 0.7397597413215783, 'min_child_weight': 7.406239986883236}.\n"
     ]
    },
    {
     "name": "stdout",
     "output_type": "stream",
     "text": [
      "359 "
     ]
    },
    {
     "name": "stderr",
     "output_type": "stream",
     "text": [
      "[I 2019-02-09 14:40:23,807] Finished a trial resulted in value: 0.18878267973856222. Current best value is 0.1594444444444446 with parameters: {'n_estimators': 365, 'gamma': 0.7013814276268473, 'lambda': 0.5495306441214812, 'learning_rate': 0.12399561010971977, 'max_depth': 8, 'subsample': 0.9435922914106966, 'colsample_bytree': 0.7397597413215783, 'min_child_weight': 7.406239986883236}.\n"
     ]
    },
    {
     "name": "stdout",
     "output_type": "stream",
     "text": [
      "360 "
     ]
    },
    {
     "name": "stderr",
     "output_type": "stream",
     "text": [
      "[I 2019-02-09 14:40:49,482] Finished a trial resulted in value: 0.18187091503267983. Current best value is 0.1594444444444446 with parameters: {'n_estimators': 365, 'gamma': 0.7013814276268473, 'lambda': 0.5495306441214812, 'learning_rate': 0.12399561010971977, 'max_depth': 8, 'subsample': 0.9435922914106966, 'colsample_bytree': 0.7397597413215783, 'min_child_weight': 7.406239986883236}.\n"
     ]
    },
    {
     "name": "stdout",
     "output_type": "stream",
     "text": [
      "361 "
     ]
    },
    {
     "name": "stderr",
     "output_type": "stream",
     "text": [
      "[I 2019-02-09 14:40:53,240] Finished a trial resulted in value: 0.383578431372549. Current best value is 0.1594444444444446 with parameters: {'n_estimators': 365, 'gamma': 0.7013814276268473, 'lambda': 0.5495306441214812, 'learning_rate': 0.12399561010971977, 'max_depth': 8, 'subsample': 0.9435922914106966, 'colsample_bytree': 0.7397597413215783, 'min_child_weight': 7.406239986883236}.\n"
     ]
    },
    {
     "name": "stdout",
     "output_type": "stream",
     "text": [
      "362 "
     ]
    },
    {
     "name": "stderr",
     "output_type": "stream",
     "text": [
      "[I 2019-02-09 14:40:58,657] Finished a trial resulted in value: 0.17048202614379093. Current best value is 0.1594444444444446 with parameters: {'n_estimators': 365, 'gamma': 0.7013814276268473, 'lambda': 0.5495306441214812, 'learning_rate': 0.12399561010971977, 'max_depth': 8, 'subsample': 0.9435922914106966, 'colsample_bytree': 0.7397597413215783, 'min_child_weight': 7.406239986883236}.\n"
     ]
    },
    {
     "name": "stdout",
     "output_type": "stream",
     "text": [
      "363 "
     ]
    },
    {
     "name": "stderr",
     "output_type": "stream",
     "text": [
      "[I 2019-02-09 14:41:02,370] Finished a trial resulted in value: 0.1772140522875817. Current best value is 0.1594444444444446 with parameters: {'n_estimators': 365, 'gamma': 0.7013814276268473, 'lambda': 0.5495306441214812, 'learning_rate': 0.12399561010971977, 'max_depth': 8, 'subsample': 0.9435922914106966, 'colsample_bytree': 0.7397597413215783, 'min_child_weight': 7.406239986883236}.\n"
     ]
    },
    {
     "name": "stdout",
     "output_type": "stream",
     "text": [
      "364 "
     ]
    },
    {
     "name": "stderr",
     "output_type": "stream",
     "text": [
      "[I 2019-02-09 14:41:18,425] Finished a trial resulted in value: 0.1683986928104576. Current best value is 0.1594444444444446 with parameters: {'n_estimators': 365, 'gamma': 0.7013814276268473, 'lambda': 0.5495306441214812, 'learning_rate': 0.12399561010971977, 'max_depth': 8, 'subsample': 0.9435922914106966, 'colsample_bytree': 0.7397597413215783, 'min_child_weight': 7.406239986883236}.\n"
     ]
    },
    {
     "name": "stdout",
     "output_type": "stream",
     "text": [
      "365 "
     ]
    },
    {
     "name": "stderr",
     "output_type": "stream",
     "text": [
      "[I 2019-02-09 14:41:37,106] Finished a trial resulted in value: 0.17270424836601306. Current best value is 0.1594444444444446 with parameters: {'n_estimators': 365, 'gamma': 0.7013814276268473, 'lambda': 0.5495306441214812, 'learning_rate': 0.12399561010971977, 'max_depth': 8, 'subsample': 0.9435922914106966, 'colsample_bytree': 0.7397597413215783, 'min_child_weight': 7.406239986883236}.\n"
     ]
    },
    {
     "name": "stdout",
     "output_type": "stream",
     "text": [
      "366 "
     ]
    },
    {
     "name": "stderr",
     "output_type": "stream",
     "text": [
      "[I 2019-02-09 14:41:45,256] Finished a trial resulted in value: 0.1617320261437909. Current best value is 0.1594444444444446 with parameters: {'n_estimators': 365, 'gamma': 0.7013814276268473, 'lambda': 0.5495306441214812, 'learning_rate': 0.12399561010971977, 'max_depth': 8, 'subsample': 0.9435922914106966, 'colsample_bytree': 0.7397597413215783, 'min_child_weight': 7.406239986883236}.\n"
     ]
    },
    {
     "name": "stdout",
     "output_type": "stream",
     "text": [
      "367 "
     ]
    },
    {
     "name": "stderr",
     "output_type": "stream",
     "text": [
      "[I 2019-02-09 14:41:51,373] Finished a trial resulted in value: 0.16937091503267976. Current best value is 0.1594444444444446 with parameters: {'n_estimators': 365, 'gamma': 0.7013814276268473, 'lambda': 0.5495306441214812, 'learning_rate': 0.12399561010971977, 'max_depth': 8, 'subsample': 0.9435922914106966, 'colsample_bytree': 0.7397597413215783, 'min_child_weight': 7.406239986883236}.\n"
     ]
    },
    {
     "name": "stdout",
     "output_type": "stream",
     "text": [
      "368 "
     ]
    },
    {
     "name": "stderr",
     "output_type": "stream",
     "text": [
      "[I 2019-02-09 14:42:05,689] Finished a trial resulted in value: 0.18179738562091496. Current best value is 0.1594444444444446 with parameters: {'n_estimators': 365, 'gamma': 0.7013814276268473, 'lambda': 0.5495306441214812, 'learning_rate': 0.12399561010971977, 'max_depth': 8, 'subsample': 0.9435922914106966, 'colsample_bytree': 0.7397597413215783, 'min_child_weight': 7.406239986883236}.\n"
     ]
    },
    {
     "name": "stdout",
     "output_type": "stream",
     "text": [
      "369 "
     ]
    },
    {
     "name": "stderr",
     "output_type": "stream",
     "text": [
      "[I 2019-02-09 14:42:17,465] Finished a trial resulted in value: 0.1729738562091504. Current best value is 0.1594444444444446 with parameters: {'n_estimators': 365, 'gamma': 0.7013814276268473, 'lambda': 0.5495306441214812, 'learning_rate': 0.12399561010971977, 'max_depth': 8, 'subsample': 0.9435922914106966, 'colsample_bytree': 0.7397597413215783, 'min_child_weight': 7.406239986883236}.\n"
     ]
    },
    {
     "name": "stdout",
     "output_type": "stream",
     "text": [
      "370 "
     ]
    },
    {
     "name": "stderr",
     "output_type": "stream",
     "text": [
      "[I 2019-02-09 14:42:34,859] Finished a trial resulted in value: 0.16270424836601305. Current best value is 0.1594444444444446 with parameters: {'n_estimators': 365, 'gamma': 0.7013814276268473, 'lambda': 0.5495306441214812, 'learning_rate': 0.12399561010971977, 'max_depth': 8, 'subsample': 0.9435922914106966, 'colsample_bytree': 0.7397597413215783, 'min_child_weight': 7.406239986883236}.\n"
     ]
    },
    {
     "name": "stdout",
     "output_type": "stream",
     "text": [
      "371 "
     ]
    },
    {
     "name": "stderr",
     "output_type": "stream",
     "text": [
      "[I 2019-02-09 14:42:47,411] Finished a trial resulted in value: 0.1763071895424838. Current best value is 0.1594444444444446 with parameters: {'n_estimators': 365, 'gamma': 0.7013814276268473, 'lambda': 0.5495306441214812, 'learning_rate': 0.12399561010971977, 'max_depth': 8, 'subsample': 0.9435922914106966, 'colsample_bytree': 0.7397597413215783, 'min_child_weight': 7.406239986883236}.\n"
     ]
    },
    {
     "name": "stdout",
     "output_type": "stream",
     "text": [
      "372 "
     ]
    },
    {
     "name": "stderr",
     "output_type": "stream",
     "text": [
      "[I 2019-02-09 14:43:01,113] Finished a trial resulted in value: 0.1761111111111111. Current best value is 0.1594444444444446 with parameters: {'n_estimators': 365, 'gamma': 0.7013814276268473, 'lambda': 0.5495306441214812, 'learning_rate': 0.12399561010971977, 'max_depth': 8, 'subsample': 0.9435922914106966, 'colsample_bytree': 0.7397597413215783, 'min_child_weight': 7.406239986883236}.\n"
     ]
    },
    {
     "name": "stdout",
     "output_type": "stream",
     "text": [
      "373 "
     ]
    },
    {
     "name": "stderr",
     "output_type": "stream",
     "text": [
      "[I 2019-02-09 14:43:13,102] Finished a trial resulted in value: 0.17193627450980398. Current best value is 0.1594444444444446 with parameters: {'n_estimators': 365, 'gamma': 0.7013814276268473, 'lambda': 0.5495306441214812, 'learning_rate': 0.12399561010971977, 'max_depth': 8, 'subsample': 0.9435922914106966, 'colsample_bytree': 0.7397597413215783, 'min_child_weight': 7.406239986883236}.\n"
     ]
    },
    {
     "name": "stdout",
     "output_type": "stream",
     "text": [
      "374 "
     ]
    },
    {
     "name": "stderr",
     "output_type": "stream",
     "text": [
      "[I 2019-02-09 14:43:24,917] Finished a trial resulted in value: 0.17276960784313733. Current best value is 0.1594444444444446 with parameters: {'n_estimators': 365, 'gamma': 0.7013814276268473, 'lambda': 0.5495306441214812, 'learning_rate': 0.12399561010971977, 'max_depth': 8, 'subsample': 0.9435922914106966, 'colsample_bytree': 0.7397597413215783, 'min_child_weight': 7.406239986883236}.\n"
     ]
    },
    {
     "name": "stdout",
     "output_type": "stream",
     "text": [
      "375 "
     ]
    },
    {
     "name": "stderr",
     "output_type": "stream",
     "text": [
      "[I 2019-02-09 14:43:29,252] Finished a trial resulted in value: 0.18309640522875814. Current best value is 0.1594444444444446 with parameters: {'n_estimators': 365, 'gamma': 0.7013814276268473, 'lambda': 0.5495306441214812, 'learning_rate': 0.12399561010971977, 'max_depth': 8, 'subsample': 0.9435922914106966, 'colsample_bytree': 0.7397597413215783, 'min_child_weight': 7.406239986883236}.\n"
     ]
    },
    {
     "name": "stdout",
     "output_type": "stream",
     "text": [
      "376 "
     ]
    },
    {
     "name": "stderr",
     "output_type": "stream",
     "text": [
      "[I 2019-02-09 14:43:36,711] Finished a trial resulted in value: 0.17159313725490188. Current best value is 0.1594444444444446 with parameters: {'n_estimators': 365, 'gamma': 0.7013814276268473, 'lambda': 0.5495306441214812, 'learning_rate': 0.12399561010971977, 'max_depth': 8, 'subsample': 0.9435922914106966, 'colsample_bytree': 0.7397597413215783, 'min_child_weight': 7.406239986883236}.\n"
     ]
    },
    {
     "name": "stdout",
     "output_type": "stream",
     "text": [
      "377 "
     ]
    },
    {
     "name": "stderr",
     "output_type": "stream",
     "text": [
      "[I 2019-02-09 14:43:37,262] Finished a trial resulted in value: 0.21433823529411755. Current best value is 0.1594444444444446 with parameters: {'n_estimators': 365, 'gamma': 0.7013814276268473, 'lambda': 0.5495306441214812, 'learning_rate': 0.12399561010971977, 'max_depth': 8, 'subsample': 0.9435922914106966, 'colsample_bytree': 0.7397597413215783, 'min_child_weight': 7.406239986883236}.\n"
     ]
    },
    {
     "name": "stdout",
     "output_type": "stream",
     "text": [
      "378 "
     ]
    },
    {
     "name": "stderr",
     "output_type": "stream",
     "text": [
      "[I 2019-02-09 14:43:49,572] Finished a trial resulted in value: 0.16957516339869272. Current best value is 0.1594444444444446 with parameters: {'n_estimators': 365, 'gamma': 0.7013814276268473, 'lambda': 0.5495306441214812, 'learning_rate': 0.12399561010971977, 'max_depth': 8, 'subsample': 0.9435922914106966, 'colsample_bytree': 0.7397597413215783, 'min_child_weight': 7.406239986883236}.\n"
     ]
    },
    {
     "name": "stdout",
     "output_type": "stream",
     "text": [
      "379 "
     ]
    },
    {
     "name": "stderr",
     "output_type": "stream",
     "text": [
      "[I 2019-02-09 14:44:13,691] Finished a trial resulted in value: 0.1854493464052288. Current best value is 0.1594444444444446 with parameters: {'n_estimators': 365, 'gamma': 0.7013814276268473, 'lambda': 0.5495306441214812, 'learning_rate': 0.12399561010971977, 'max_depth': 8, 'subsample': 0.9435922914106966, 'colsample_bytree': 0.7397597413215783, 'min_child_weight': 7.406239986883236}.\n"
     ]
    },
    {
     "name": "stdout",
     "output_type": "stream",
     "text": [
      "380 "
     ]
    },
    {
     "name": "stderr",
     "output_type": "stream",
     "text": [
      "[I 2019-02-09 14:44:20,060] Finished a trial resulted in value: 0.16860294117647057. Current best value is 0.1594444444444446 with parameters: {'n_estimators': 365, 'gamma': 0.7013814276268473, 'lambda': 0.5495306441214812, 'learning_rate': 0.12399561010971977, 'max_depth': 8, 'subsample': 0.9435922914106966, 'colsample_bytree': 0.7397597413215783, 'min_child_weight': 7.406239986883236}.\n"
     ]
    },
    {
     "name": "stdout",
     "output_type": "stream",
     "text": [
      "381 "
     ]
    },
    {
     "name": "stderr",
     "output_type": "stream",
     "text": [
      "[I 2019-02-09 14:44:25,238] Finished a trial resulted in value: 0.16950163398692808. Current best value is 0.1594444444444446 with parameters: {'n_estimators': 365, 'gamma': 0.7013814276268473, 'lambda': 0.5495306441214812, 'learning_rate': 0.12399561010971977, 'max_depth': 8, 'subsample': 0.9435922914106966, 'colsample_bytree': 0.7397597413215783, 'min_child_weight': 7.406239986883236}.\n"
     ]
    },
    {
     "name": "stdout",
     "output_type": "stream",
     "text": [
      "382 "
     ]
    },
    {
     "name": "stderr",
     "output_type": "stream",
     "text": [
      "[I 2019-02-09 14:44:38,990] Finished a trial resulted in value: 0.17722222222222228. Current best value is 0.1594444444444446 with parameters: {'n_estimators': 365, 'gamma': 0.7013814276268473, 'lambda': 0.5495306441214812, 'learning_rate': 0.12399561010971977, 'max_depth': 8, 'subsample': 0.9435922914106966, 'colsample_bytree': 0.7397597413215783, 'min_child_weight': 7.406239986883236}.\n"
     ]
    },
    {
     "name": "stdout",
     "output_type": "stream",
     "text": [
      "383 "
     ]
    },
    {
     "name": "stderr",
     "output_type": "stream",
     "text": [
      "[I 2019-02-09 14:44:54,492] Finished a trial resulted in value: 0.17062091503267962. Current best value is 0.1594444444444446 with parameters: {'n_estimators': 365, 'gamma': 0.7013814276268473, 'lambda': 0.5495306441214812, 'learning_rate': 0.12399561010971977, 'max_depth': 8, 'subsample': 0.9435922914106966, 'colsample_bytree': 0.7397597413215783, 'min_child_weight': 7.406239986883236}.\n"
     ]
    },
    {
     "name": "stdout",
     "output_type": "stream",
     "text": [
      "384 "
     ]
    },
    {
     "name": "stderr",
     "output_type": "stream",
     "text": [
      "[I 2019-02-09 14:44:57,210] Finished a trial resulted in value: 0.20433823529411765. Current best value is 0.1594444444444446 with parameters: {'n_estimators': 365, 'gamma': 0.7013814276268473, 'lambda': 0.5495306441214812, 'learning_rate': 0.12399561010971977, 'max_depth': 8, 'subsample': 0.9435922914106966, 'colsample_bytree': 0.7397597413215783, 'min_child_weight': 7.406239986883236}.\n"
     ]
    },
    {
     "name": "stdout",
     "output_type": "stream",
     "text": [
      "385 "
     ]
    },
    {
     "name": "stderr",
     "output_type": "stream",
     "text": [
      "[I 2019-02-09 14:44:58,760] Finished a trial resulted in value: 0.1883169934640524. Current best value is 0.1594444444444446 with parameters: {'n_estimators': 365, 'gamma': 0.7013814276268473, 'lambda': 0.5495306441214812, 'learning_rate': 0.12399561010971977, 'max_depth': 8, 'subsample': 0.9435922914106966, 'colsample_bytree': 0.7397597413215783, 'min_child_weight': 7.406239986883236}.\n"
     ]
    },
    {
     "name": "stdout",
     "output_type": "stream",
     "text": [
      "386 "
     ]
    },
    {
     "name": "stderr",
     "output_type": "stream",
     "text": [
      "[I 2019-02-09 14:45:01,601] Finished a trial resulted in value: 0.18448529411764691. Current best value is 0.1594444444444446 with parameters: {'n_estimators': 365, 'gamma': 0.7013814276268473, 'lambda': 0.5495306441214812, 'learning_rate': 0.12399561010971977, 'max_depth': 8, 'subsample': 0.9435922914106966, 'colsample_bytree': 0.7397597413215783, 'min_child_weight': 7.406239986883236}.\n"
     ]
    },
    {
     "name": "stdout",
     "output_type": "stream",
     "text": [
      "387 "
     ]
    },
    {
     "name": "stderr",
     "output_type": "stream",
     "text": [
      "[I 2019-02-09 14:45:15,929] Finished a trial resulted in value: 0.1761683006535948. Current best value is 0.1594444444444446 with parameters: {'n_estimators': 365, 'gamma': 0.7013814276268473, 'lambda': 0.5495306441214812, 'learning_rate': 0.12399561010971977, 'max_depth': 8, 'subsample': 0.9435922914106966, 'colsample_bytree': 0.7397597413215783, 'min_child_weight': 7.406239986883236}.\n"
     ]
    },
    {
     "name": "stdout",
     "output_type": "stream",
     "text": [
      "388 "
     ]
    },
    {
     "name": "stderr",
     "output_type": "stream",
     "text": [
      "[I 2019-02-09 14:45:18,448] Finished a trial resulted in value: 0.23996732026143808. Current best value is 0.1594444444444446 with parameters: {'n_estimators': 365, 'gamma': 0.7013814276268473, 'lambda': 0.5495306441214812, 'learning_rate': 0.12399561010971977, 'max_depth': 8, 'subsample': 0.9435922914106966, 'colsample_bytree': 0.7397597413215783, 'min_child_weight': 7.406239986883236}.\n"
     ]
    },
    {
     "name": "stdout",
     "output_type": "stream",
     "text": [
      "389 "
     ]
    },
    {
     "name": "stderr",
     "output_type": "stream",
     "text": [
      "[I 2019-02-09 14:45:35,627] Finished a trial resulted in value: 0.16714869281045763. Current best value is 0.1594444444444446 with parameters: {'n_estimators': 365, 'gamma': 0.7013814276268473, 'lambda': 0.5495306441214812, 'learning_rate': 0.12399561010971977, 'max_depth': 8, 'subsample': 0.9435922914106966, 'colsample_bytree': 0.7397597413215783, 'min_child_weight': 7.406239986883236}.\n"
     ]
    },
    {
     "name": "stdout",
     "output_type": "stream",
     "text": [
      "390 "
     ]
    },
    {
     "name": "stderr",
     "output_type": "stream",
     "text": [
      "[I 2019-02-09 14:45:51,033] Finished a trial resulted in value: 0.16493464052287576. Current best value is 0.1594444444444446 with parameters: {'n_estimators': 365, 'gamma': 0.7013814276268473, 'lambda': 0.5495306441214812, 'learning_rate': 0.12399561010971977, 'max_depth': 8, 'subsample': 0.9435922914106966, 'colsample_bytree': 0.7397597413215783, 'min_child_weight': 7.406239986883236}.\n"
     ]
    },
    {
     "name": "stdout",
     "output_type": "stream",
     "text": [
      "391 "
     ]
    },
    {
     "name": "stderr",
     "output_type": "stream",
     "text": [
      "[I 2019-02-09 14:46:00,308] Finished a trial resulted in value: 0.16950980392156867. Current best value is 0.1594444444444446 with parameters: {'n_estimators': 365, 'gamma': 0.7013814276268473, 'lambda': 0.5495306441214812, 'learning_rate': 0.12399561010971977, 'max_depth': 8, 'subsample': 0.9435922914106966, 'colsample_bytree': 0.7397597413215783, 'min_child_weight': 7.406239986883236}.\n"
     ]
    },
    {
     "name": "stdout",
     "output_type": "stream",
     "text": [
      "392 "
     ]
    },
    {
     "name": "stderr",
     "output_type": "stream",
     "text": [
      "[I 2019-02-09 14:46:07,591] Finished a trial resulted in value: 0.1727777777777777. Current best value is 0.1594444444444446 with parameters: {'n_estimators': 365, 'gamma': 0.7013814276268473, 'lambda': 0.5495306441214812, 'learning_rate': 0.12399561010971977, 'max_depth': 8, 'subsample': 0.9435922914106966, 'colsample_bytree': 0.7397597413215783, 'min_child_weight': 7.406239986883236}.\n"
     ]
    },
    {
     "name": "stdout",
     "output_type": "stream",
     "text": [
      "393 "
     ]
    },
    {
     "name": "stderr",
     "output_type": "stream",
     "text": [
      "[I 2019-02-09 14:46:32,920] Finished a trial resulted in value: 0.17638071895424845. Current best value is 0.1594444444444446 with parameters: {'n_estimators': 365, 'gamma': 0.7013814276268473, 'lambda': 0.5495306441214812, 'learning_rate': 0.12399561010971977, 'max_depth': 8, 'subsample': 0.9435922914106966, 'colsample_bytree': 0.7397597413215783, 'min_child_weight': 7.406239986883236}.\n"
     ]
    },
    {
     "name": "stdout",
     "output_type": "stream",
     "text": [
      "394 "
     ]
    },
    {
     "name": "stderr",
     "output_type": "stream",
     "text": [
      "[I 2019-02-09 14:46:42,988] Finished a trial resulted in value: 0.17290849673202613. Current best value is 0.1594444444444446 with parameters: {'n_estimators': 365, 'gamma': 0.7013814276268473, 'lambda': 0.5495306441214812, 'learning_rate': 0.12399561010971977, 'max_depth': 8, 'subsample': 0.9435922914106966, 'colsample_bytree': 0.7397597413215783, 'min_child_weight': 7.406239986883236}.\n"
     ]
    },
    {
     "name": "stdout",
     "output_type": "stream",
     "text": [
      "395 "
     ]
    },
    {
     "name": "stderr",
     "output_type": "stream",
     "text": [
      "[I 2019-02-09 14:46:54,872] Finished a trial resulted in value: 0.1729166666666666. Current best value is 0.1594444444444446 with parameters: {'n_estimators': 365, 'gamma': 0.7013814276268473, 'lambda': 0.5495306441214812, 'learning_rate': 0.12399561010971977, 'max_depth': 8, 'subsample': 0.9435922914106966, 'colsample_bytree': 0.7397597413215783, 'min_child_weight': 7.406239986883236}.\n"
     ]
    },
    {
     "name": "stdout",
     "output_type": "stream",
     "text": [
      "396 "
     ]
    },
    {
     "name": "stderr",
     "output_type": "stream",
     "text": [
      "[I 2019-02-09 14:46:59,135] Finished a trial resulted in value: 0.1740196078431373. Current best value is 0.1594444444444446 with parameters: {'n_estimators': 365, 'gamma': 0.7013814276268473, 'lambda': 0.5495306441214812, 'learning_rate': 0.12399561010971977, 'max_depth': 8, 'subsample': 0.9435922914106966, 'colsample_bytree': 0.7397597413215783, 'min_child_weight': 7.406239986883236}.\n"
     ]
    },
    {
     "name": "stdout",
     "output_type": "stream",
     "text": [
      "397 "
     ]
    },
    {
     "name": "stderr",
     "output_type": "stream",
     "text": [
      "[I 2019-02-09 14:47:08,394] Finished a trial resulted in value: 0.17062091503267984. Current best value is 0.1594444444444446 with parameters: {'n_estimators': 365, 'gamma': 0.7013814276268473, 'lambda': 0.5495306441214812, 'learning_rate': 0.12399561010971977, 'max_depth': 8, 'subsample': 0.9435922914106966, 'colsample_bytree': 0.7397597413215783, 'min_child_weight': 7.406239986883236}.\n"
     ]
    },
    {
     "name": "stdout",
     "output_type": "stream",
     "text": [
      "398 "
     ]
    },
    {
     "name": "stderr",
     "output_type": "stream",
     "text": [
      "[I 2019-02-09 14:47:25,922] Finished a trial resulted in value: 0.17179738562091518. Current best value is 0.1594444444444446 with parameters: {'n_estimators': 365, 'gamma': 0.7013814276268473, 'lambda': 0.5495306441214812, 'learning_rate': 0.12399561010971977, 'max_depth': 8, 'subsample': 0.9435922914106966, 'colsample_bytree': 0.7397597413215783, 'min_child_weight': 7.406239986883236}.\n"
     ]
    },
    {
     "name": "stdout",
     "output_type": "stream",
     "text": [
      "399 "
     ]
    },
    {
     "name": "stderr",
     "output_type": "stream",
     "text": [
      "[I 2019-02-09 14:47:42,058] Finished a trial resulted in value: 0.17604575163398695. Current best value is 0.1594444444444446 with parameters: {'n_estimators': 365, 'gamma': 0.7013814276268473, 'lambda': 0.5495306441214812, 'learning_rate': 0.12399561010971977, 'max_depth': 8, 'subsample': 0.9435922914106966, 'colsample_bytree': 0.7397597413215783, 'min_child_weight': 7.406239986883236}.\n"
     ]
    },
    {
     "name": "stdout",
     "output_type": "stream",
     "text": [
      "400 "
     ]
    },
    {
     "name": "stderr",
     "output_type": "stream",
     "text": [
      "[I 2019-02-09 14:47:56,296] Finished a trial resulted in value: 0.1683986928104576. Current best value is 0.1594444444444446 with parameters: {'n_estimators': 365, 'gamma': 0.7013814276268473, 'lambda': 0.5495306441214812, 'learning_rate': 0.12399561010971977, 'max_depth': 8, 'subsample': 0.9435922914106966, 'colsample_bytree': 0.7397597413215783, 'min_child_weight': 7.406239986883236}.\n"
     ]
    },
    {
     "name": "stdout",
     "output_type": "stream",
     "text": [
      "401 "
     ]
    },
    {
     "name": "stderr",
     "output_type": "stream",
     "text": [
      "[I 2019-02-09 14:48:12,416] Finished a trial resulted in value: 0.16500000000000004. Current best value is 0.1594444444444446 with parameters: {'n_estimators': 365, 'gamma': 0.7013814276268473, 'lambda': 0.5495306441214812, 'learning_rate': 0.12399561010971977, 'max_depth': 8, 'subsample': 0.9435922914106966, 'colsample_bytree': 0.7397597413215783, 'min_child_weight': 7.406239986883236}.\n"
     ]
    },
    {
     "name": "stdout",
     "output_type": "stream",
     "text": [
      "402 "
     ]
    },
    {
     "name": "stderr",
     "output_type": "stream",
     "text": [
      "[I 2019-02-09 14:48:23,628] Finished a trial resulted in value: 0.16846405228758177. Current best value is 0.1594444444444446 with parameters: {'n_estimators': 365, 'gamma': 0.7013814276268473, 'lambda': 0.5495306441214812, 'learning_rate': 0.12399561010971977, 'max_depth': 8, 'subsample': 0.9435922914106966, 'colsample_bytree': 0.7397597413215783, 'min_child_weight': 7.406239986883236}.\n"
     ]
    },
    {
     "name": "stdout",
     "output_type": "stream",
     "text": [
      "403 "
     ]
    },
    {
     "name": "stderr",
     "output_type": "stream",
     "text": [
      "[I 2019-02-09 14:48:38,009] Finished a trial resulted in value: 0.16971405228758185. Current best value is 0.1594444444444446 with parameters: {'n_estimators': 365, 'gamma': 0.7013814276268473, 'lambda': 0.5495306441214812, 'learning_rate': 0.12399561010971977, 'max_depth': 8, 'subsample': 0.9435922914106966, 'colsample_bytree': 0.7397597413215783, 'min_child_weight': 7.406239986883236}.\n"
     ]
    },
    {
     "name": "stdout",
     "output_type": "stream",
     "text": [
      "404 "
     ]
    },
    {
     "name": "stderr",
     "output_type": "stream",
     "text": [
      "[I 2019-02-09 14:48:48,374] Finished a trial resulted in value: 0.16957516339869272. Current best value is 0.1594444444444446 with parameters: {'n_estimators': 365, 'gamma': 0.7013814276268473, 'lambda': 0.5495306441214812, 'learning_rate': 0.12399561010971977, 'max_depth': 8, 'subsample': 0.9435922914106966, 'colsample_bytree': 0.7397597413215783, 'min_child_weight': 7.406239986883236}.\n"
     ]
    },
    {
     "name": "stdout",
     "output_type": "stream",
     "text": [
      "405 "
     ]
    },
    {
     "name": "stderr",
     "output_type": "stream",
     "text": [
      "[I 2019-02-09 14:49:00,931] Finished a trial resulted in value: 0.17395424836601303. Current best value is 0.1594444444444446 with parameters: {'n_estimators': 365, 'gamma': 0.7013814276268473, 'lambda': 0.5495306441214812, 'learning_rate': 0.12399561010971977, 'max_depth': 8, 'subsample': 0.9435922914106966, 'colsample_bytree': 0.7397597413215783, 'min_child_weight': 7.406239986883236}.\n"
     ]
    },
    {
     "name": "stdout",
     "output_type": "stream",
     "text": [
      "406 "
     ]
    },
    {
     "name": "stderr",
     "output_type": "stream",
     "text": [
      "[I 2019-02-09 14:49:14,255] Finished a trial resulted in value: 0.17055555555555557. Current best value is 0.1594444444444446 with parameters: {'n_estimators': 365, 'gamma': 0.7013814276268473, 'lambda': 0.5495306441214812, 'learning_rate': 0.12399561010971977, 'max_depth': 8, 'subsample': 0.9435922914106966, 'colsample_bytree': 0.7397597413215783, 'min_child_weight': 7.406239986883236}.\n"
     ]
    },
    {
     "name": "stdout",
     "output_type": "stream",
     "text": [
      "407 "
     ]
    },
    {
     "name": "stderr",
     "output_type": "stream",
     "text": [
      "[I 2019-02-09 14:49:25,333] Finished a trial resulted in value: 0.1673529411764707. Current best value is 0.1594444444444446 with parameters: {'n_estimators': 365, 'gamma': 0.7013814276268473, 'lambda': 0.5495306441214812, 'learning_rate': 0.12399561010971977, 'max_depth': 8, 'subsample': 0.9435922914106966, 'colsample_bytree': 0.7397597413215783, 'min_child_weight': 7.406239986883236}.\n"
     ]
    },
    {
     "name": "stdout",
     "output_type": "stream",
     "text": [
      "408 "
     ]
    },
    {
     "name": "stderr",
     "output_type": "stream",
     "text": [
      "[I 2019-02-09 14:49:35,141] Finished a trial resulted in value: 0.1640196078431373. Current best value is 0.1594444444444446 with parameters: {'n_estimators': 365, 'gamma': 0.7013814276268473, 'lambda': 0.5495306441214812, 'learning_rate': 0.12399561010971977, 'max_depth': 8, 'subsample': 0.9435922914106966, 'colsample_bytree': 0.7397597413215783, 'min_child_weight': 7.406239986883236}.\n"
     ]
    },
    {
     "name": "stdout",
     "output_type": "stream",
     "text": [
      "409 "
     ]
    },
    {
     "name": "stderr",
     "output_type": "stream",
     "text": [
      "[I 2019-02-09 14:49:52,780] Finished a trial resulted in value: 0.17062091503267984. Current best value is 0.1594444444444446 with parameters: {'n_estimators': 365, 'gamma': 0.7013814276268473, 'lambda': 0.5495306441214812, 'learning_rate': 0.12399561010971977, 'max_depth': 8, 'subsample': 0.9435922914106966, 'colsample_bytree': 0.7397597413215783, 'min_child_weight': 7.406239986883236}.\n"
     ]
    },
    {
     "name": "stdout",
     "output_type": "stream",
     "text": [
      "410 "
     ]
    },
    {
     "name": "stderr",
     "output_type": "stream",
     "text": [
      "[I 2019-02-09 14:50:07,932] Finished a trial resulted in value: 0.16271241830065364. Current best value is 0.1594444444444446 with parameters: {'n_estimators': 365, 'gamma': 0.7013814276268473, 'lambda': 0.5495306441214812, 'learning_rate': 0.12399561010971977, 'max_depth': 8, 'subsample': 0.9435922914106966, 'colsample_bytree': 0.7397597413215783, 'min_child_weight': 7.406239986883236}.\n"
     ]
    },
    {
     "name": "stdout",
     "output_type": "stream",
     "text": [
      "411 "
     ]
    },
    {
     "name": "stderr",
     "output_type": "stream",
     "text": [
      "[I 2019-02-09 14:50:23,692] Finished a trial resulted in value: 0.16395424836601302. Current best value is 0.1594444444444446 with parameters: {'n_estimators': 365, 'gamma': 0.7013814276268473, 'lambda': 0.5495306441214812, 'learning_rate': 0.12399561010971977, 'max_depth': 8, 'subsample': 0.9435922914106966, 'colsample_bytree': 0.7397597413215783, 'min_child_weight': 7.406239986883236}.\n"
     ]
    },
    {
     "name": "stdout",
     "output_type": "stream",
     "text": [
      "412 "
     ]
    },
    {
     "name": "stderr",
     "output_type": "stream",
     "text": [
      "[I 2019-02-09 14:50:36,957] Finished a trial resulted in value: 0.16500000000000004. Current best value is 0.1594444444444446 with parameters: {'n_estimators': 365, 'gamma': 0.7013814276268473, 'lambda': 0.5495306441214812, 'learning_rate': 0.12399561010971977, 'max_depth': 8, 'subsample': 0.9435922914106966, 'colsample_bytree': 0.7397597413215783, 'min_child_weight': 7.406239986883236}.\n"
     ]
    },
    {
     "name": "stdout",
     "output_type": "stream",
     "text": [
      "413 "
     ]
    },
    {
     "name": "stderr",
     "output_type": "stream",
     "text": [
      "[I 2019-02-09 14:50:57,883] Finished a trial resulted in value: 0.1717320261437908. Current best value is 0.1594444444444446 with parameters: {'n_estimators': 365, 'gamma': 0.7013814276268473, 'lambda': 0.5495306441214812, 'learning_rate': 0.12399561010971977, 'max_depth': 8, 'subsample': 0.9435922914106966, 'colsample_bytree': 0.7397597413215783, 'min_child_weight': 7.406239986883236}.\n"
     ]
    },
    {
     "name": "stdout",
     "output_type": "stream",
     "text": [
      "414 "
     ]
    },
    {
     "name": "stderr",
     "output_type": "stream",
     "text": [
      "[I 2019-02-09 14:51:14,306] Finished a trial resulted in value: 0.16833333333333345. Current best value is 0.1594444444444446 with parameters: {'n_estimators': 365, 'gamma': 0.7013814276268473, 'lambda': 0.5495306441214812, 'learning_rate': 0.12399561010971977, 'max_depth': 8, 'subsample': 0.9435922914106966, 'colsample_bytree': 0.7397597413215783, 'min_child_weight': 7.406239986883236}.\n"
     ]
    },
    {
     "name": "stdout",
     "output_type": "stream",
     "text": [
      "415 "
     ]
    },
    {
     "name": "stderr",
     "output_type": "stream",
     "text": [
      "[I 2019-02-09 14:51:22,253] Finished a trial resulted in value: 0.16617647058823537. Current best value is 0.1594444444444446 with parameters: {'n_estimators': 365, 'gamma': 0.7013814276268473, 'lambda': 0.5495306441214812, 'learning_rate': 0.12399561010971977, 'max_depth': 8, 'subsample': 0.9435922914106966, 'colsample_bytree': 0.7397597413215783, 'min_child_weight': 7.406239986883236}.\n"
     ]
    },
    {
     "name": "stdout",
     "output_type": "stream",
     "text": [
      "416 "
     ]
    },
    {
     "name": "stderr",
     "output_type": "stream",
     "text": [
      "[I 2019-02-09 14:51:35,606] Finished a trial resulted in value: 0.16166666666666674. Current best value is 0.1594444444444446 with parameters: {'n_estimators': 365, 'gamma': 0.7013814276268473, 'lambda': 0.5495306441214812, 'learning_rate': 0.12399561010971977, 'max_depth': 8, 'subsample': 0.9435922914106966, 'colsample_bytree': 0.7397597413215783, 'min_child_weight': 7.406239986883236}.\n"
     ]
    },
    {
     "name": "stdout",
     "output_type": "stream",
     "text": [
      "417 "
     ]
    },
    {
     "name": "stderr",
     "output_type": "stream",
     "text": [
      "[I 2019-02-09 14:51:49,039] Finished a trial resulted in value: 0.16957516339869305. Current best value is 0.1594444444444446 with parameters: {'n_estimators': 365, 'gamma': 0.7013814276268473, 'lambda': 0.5495306441214812, 'learning_rate': 0.12399561010971977, 'max_depth': 8, 'subsample': 0.9435922914106966, 'colsample_bytree': 0.7397597413215783, 'min_child_weight': 7.406239986883236}.\n"
     ]
    },
    {
     "name": "stdout",
     "output_type": "stream",
     "text": [
      "418 "
     ]
    },
    {
     "name": "stderr",
     "output_type": "stream",
     "text": [
      "[I 2019-02-09 14:52:03,581] Finished a trial resulted in value: 0.16722222222222227. Current best value is 0.1594444444444446 with parameters: {'n_estimators': 365, 'gamma': 0.7013814276268473, 'lambda': 0.5495306441214812, 'learning_rate': 0.12399561010971977, 'max_depth': 8, 'subsample': 0.9435922914106966, 'colsample_bytree': 0.7397597413215783, 'min_child_weight': 7.406239986883236}.\n"
     ]
    },
    {
     "name": "stdout",
     "output_type": "stream",
     "text": [
      "419 "
     ]
    },
    {
     "name": "stderr",
     "output_type": "stream",
     "text": [
      "[I 2019-02-09 14:52:14,051] Finished a trial resulted in value: 0.16500000000000004. Current best value is 0.1594444444444446 with parameters: {'n_estimators': 365, 'gamma': 0.7013814276268473, 'lambda': 0.5495306441214812, 'learning_rate': 0.12399561010971977, 'max_depth': 8, 'subsample': 0.9435922914106966, 'colsample_bytree': 0.7397597413215783, 'min_child_weight': 7.406239986883236}.\n"
     ]
    },
    {
     "name": "stdout",
     "output_type": "stream",
     "text": [
      "420 "
     ]
    },
    {
     "name": "stderr",
     "output_type": "stream",
     "text": [
      "[I 2019-02-09 14:52:29,457] Finished a trial resulted in value: 0.16513071895424847. Current best value is 0.1594444444444446 with parameters: {'n_estimators': 365, 'gamma': 0.7013814276268473, 'lambda': 0.5495306441214812, 'learning_rate': 0.12399561010971977, 'max_depth': 8, 'subsample': 0.9435922914106966, 'colsample_bytree': 0.7397597413215783, 'min_child_weight': 7.406239986883236}.\n"
     ]
    },
    {
     "name": "stdout",
     "output_type": "stream",
     "text": [
      "421 "
     ]
    },
    {
     "name": "stderr",
     "output_type": "stream",
     "text": [
      "[I 2019-02-09 14:52:55,305] Finished a trial resulted in value: 0.178733660130719. Current best value is 0.1594444444444446 with parameters: {'n_estimators': 365, 'gamma': 0.7013814276268473, 'lambda': 0.5495306441214812, 'learning_rate': 0.12399561010971977, 'max_depth': 8, 'subsample': 0.9435922914106966, 'colsample_bytree': 0.7397597413215783, 'min_child_weight': 7.406239986883236}.\n"
     ]
    },
    {
     "name": "stdout",
     "output_type": "stream",
     "text": [
      "422 "
     ]
    },
    {
     "name": "stderr",
     "output_type": "stream",
     "text": [
      "[I 2019-02-09 14:53:05,381] Finished a trial resulted in value: 0.16513071895424847. Current best value is 0.1594444444444446 with parameters: {'n_estimators': 365, 'gamma': 0.7013814276268473, 'lambda': 0.5495306441214812, 'learning_rate': 0.12399561010971977, 'max_depth': 8, 'subsample': 0.9435922914106966, 'colsample_bytree': 0.7397597413215783, 'min_child_weight': 7.406239986883236}.\n"
     ]
    },
    {
     "name": "stdout",
     "output_type": "stream",
     "text": [
      "423 "
     ]
    },
    {
     "name": "stderr",
     "output_type": "stream",
     "text": [
      "[I 2019-02-09 14:53:16,338] Finished a trial resulted in value: 0.16513071895424847. Current best value is 0.1594444444444446 with parameters: {'n_estimators': 365, 'gamma': 0.7013814276268473, 'lambda': 0.5495306441214812, 'learning_rate': 0.12399561010971977, 'max_depth': 8, 'subsample': 0.9435922914106966, 'colsample_bytree': 0.7397597413215783, 'min_child_weight': 7.406239986883236}.\n"
     ]
    },
    {
     "name": "stdout",
     "output_type": "stream",
     "text": [
      "424 "
     ]
    },
    {
     "name": "stderr",
     "output_type": "stream",
     "text": [
      "[I 2019-02-09 14:53:21,922] Finished a trial resulted in value: 0.16722222222222227. Current best value is 0.1594444444444446 with parameters: {'n_estimators': 365, 'gamma': 0.7013814276268473, 'lambda': 0.5495306441214812, 'learning_rate': 0.12399561010971977, 'max_depth': 8, 'subsample': 0.9435922914106966, 'colsample_bytree': 0.7397597413215783, 'min_child_weight': 7.406239986883236}.\n"
     ]
    },
    {
     "name": "stdout",
     "output_type": "stream",
     "text": [
      "425 "
     ]
    },
    {
     "name": "stderr",
     "output_type": "stream",
     "text": [
      "[I 2019-02-09 14:53:25,465] Finished a trial resulted in value: 0.186642156862745. Current best value is 0.1594444444444446 with parameters: {'n_estimators': 365, 'gamma': 0.7013814276268473, 'lambda': 0.5495306441214812, 'learning_rate': 0.12399561010971977, 'max_depth': 8, 'subsample': 0.9435922914106966, 'colsample_bytree': 0.7397597413215783, 'min_child_weight': 7.406239986883236}.\n"
     ]
    },
    {
     "name": "stdout",
     "output_type": "stream",
     "text": [
      "426 "
     ]
    },
    {
     "name": "stderr",
     "output_type": "stream",
     "text": [
      "[I 2019-02-09 14:53:56,885] Finished a trial resulted in value: 0.1708169934640522. Current best value is 0.1594444444444446 with parameters: {'n_estimators': 365, 'gamma': 0.7013814276268473, 'lambda': 0.5495306441214812, 'learning_rate': 0.12399561010971977, 'max_depth': 8, 'subsample': 0.9435922914106966, 'colsample_bytree': 0.7397597413215783, 'min_child_weight': 7.406239986883236}.\n"
     ]
    },
    {
     "name": "stdout",
     "output_type": "stream",
     "text": [
      "427 "
     ]
    },
    {
     "name": "stderr",
     "output_type": "stream",
     "text": [
      "[I 2019-02-09 14:54:04,256] Finished a trial resulted in value: 0.16722222222222227. Current best value is 0.1594444444444446 with parameters: {'n_estimators': 365, 'gamma': 0.7013814276268473, 'lambda': 0.5495306441214812, 'learning_rate': 0.12399561010971977, 'max_depth': 8, 'subsample': 0.9435922914106966, 'colsample_bytree': 0.7397597413215783, 'min_child_weight': 7.406239986883236}.\n"
     ]
    },
    {
     "name": "stdout",
     "output_type": "stream",
     "text": [
      "428 "
     ]
    },
    {
     "name": "stderr",
     "output_type": "stream",
     "text": [
      "[I 2019-02-09 14:54:19,921] Finished a trial resulted in value: 0.16846405228758177. Current best value is 0.1594444444444446 with parameters: {'n_estimators': 365, 'gamma': 0.7013814276268473, 'lambda': 0.5495306441214812, 'learning_rate': 0.12399561010971977, 'max_depth': 8, 'subsample': 0.9435922914106966, 'colsample_bytree': 0.7397597413215783, 'min_child_weight': 7.406239986883236}.\n"
     ]
    },
    {
     "name": "stdout",
     "output_type": "stream",
     "text": [
      "429 "
     ]
    },
    {
     "name": "stderr",
     "output_type": "stream",
     "text": [
      "[I 2019-02-09 14:54:32,473] Finished a trial resulted in value: 0.1740196078431373. Current best value is 0.1594444444444446 with parameters: {'n_estimators': 365, 'gamma': 0.7013814276268473, 'lambda': 0.5495306441214812, 'learning_rate': 0.12399561010971977, 'max_depth': 8, 'subsample': 0.9435922914106966, 'colsample_bytree': 0.7397597413215783, 'min_child_weight': 7.406239986883236}.\n"
     ]
    },
    {
     "name": "stdout",
     "output_type": "stream",
     "text": [
      "430 "
     ]
    },
    {
     "name": "stderr",
     "output_type": "stream",
     "text": [
      "[I 2019-02-09 14:54:49,840] Finished a trial resulted in value: 0.16728758169934654. Current best value is 0.1594444444444446 with parameters: {'n_estimators': 365, 'gamma': 0.7013814276268473, 'lambda': 0.5495306441214812, 'learning_rate': 0.12399561010971977, 'max_depth': 8, 'subsample': 0.9435922914106966, 'colsample_bytree': 0.7397597413215783, 'min_child_weight': 7.406239986883236}.\n"
     ]
    },
    {
     "name": "stdout",
     "output_type": "stream",
     "text": [
      "431 "
     ]
    },
    {
     "name": "stderr",
     "output_type": "stream",
     "text": [
      "[I 2019-02-09 14:54:59,208] Finished a trial resulted in value: 0.16617647058823537. Current best value is 0.1594444444444446 with parameters: {'n_estimators': 365, 'gamma': 0.7013814276268473, 'lambda': 0.5495306441214812, 'learning_rate': 0.12399561010971977, 'max_depth': 8, 'subsample': 0.9435922914106966, 'colsample_bytree': 0.7397597413215783, 'min_child_weight': 7.406239986883236}.\n"
     ]
    },
    {
     "name": "stdout",
     "output_type": "stream",
     "text": [
      "432 "
     ]
    },
    {
     "name": "stderr",
     "output_type": "stream",
     "text": [
      "[I 2019-02-09 14:55:13,001] Finished a trial resulted in value: 0.1706862745098039. Current best value is 0.1594444444444446 with parameters: {'n_estimators': 365, 'gamma': 0.7013814276268473, 'lambda': 0.5495306441214812, 'learning_rate': 0.12399561010971977, 'max_depth': 8, 'subsample': 0.9435922914106966, 'colsample_bytree': 0.7397597413215783, 'min_child_weight': 7.406239986883236}.\n"
     ]
    },
    {
     "name": "stdout",
     "output_type": "stream",
     "text": [
      "433 "
     ]
    },
    {
     "name": "stderr",
     "output_type": "stream",
     "text": [
      "[I 2019-02-09 14:55:24,354] Finished a trial resulted in value: 0.1661111111111111. Current best value is 0.1594444444444446 with parameters: {'n_estimators': 365, 'gamma': 0.7013814276268473, 'lambda': 0.5495306441214812, 'learning_rate': 0.12399561010971977, 'max_depth': 8, 'subsample': 0.9435922914106966, 'colsample_bytree': 0.7397597413215783, 'min_child_weight': 7.406239986883236}.\n"
     ]
    },
    {
     "name": "stdout",
     "output_type": "stream",
     "text": [
      "434 "
     ]
    },
    {
     "name": "stderr",
     "output_type": "stream",
     "text": [
      "[I 2019-02-09 14:55:30,280] Finished a trial resulted in value: 0.1638235294117646. Current best value is 0.1594444444444446 with parameters: {'n_estimators': 365, 'gamma': 0.7013814276268473, 'lambda': 0.5495306441214812, 'learning_rate': 0.12399561010971977, 'max_depth': 8, 'subsample': 0.9435922914106966, 'colsample_bytree': 0.7397597413215783, 'min_child_weight': 7.406239986883236}.\n"
     ]
    },
    {
     "name": "stdout",
     "output_type": "stream",
     "text": [
      "435 "
     ]
    },
    {
     "name": "stderr",
     "output_type": "stream",
     "text": [
      "[I 2019-02-09 14:55:40,291] Finished a trial resulted in value: 0.16284313725490196. Current best value is 0.1594444444444446 with parameters: {'n_estimators': 365, 'gamma': 0.7013814276268473, 'lambda': 0.5495306441214812, 'learning_rate': 0.12399561010971977, 'max_depth': 8, 'subsample': 0.9435922914106966, 'colsample_bytree': 0.7397597413215783, 'min_child_weight': 7.406239986883236}.\n"
     ]
    },
    {
     "name": "stdout",
     "output_type": "stream",
     "text": [
      "436 "
     ]
    },
    {
     "name": "stderr",
     "output_type": "stream",
     "text": [
      "[I 2019-02-09 14:55:43,589] Finished a trial resulted in value: 0.17054738562091498. Current best value is 0.1594444444444446 with parameters: {'n_estimators': 365, 'gamma': 0.7013814276268473, 'lambda': 0.5495306441214812, 'learning_rate': 0.12399561010971977, 'max_depth': 8, 'subsample': 0.9435922914106966, 'colsample_bytree': 0.7397597413215783, 'min_child_weight': 7.406239986883236}.\n"
     ]
    },
    {
     "name": "stdout",
     "output_type": "stream",
     "text": [
      "437 "
     ]
    },
    {
     "name": "stderr",
     "output_type": "stream",
     "text": [
      "[I 2019-02-09 14:55:51,666] Finished a trial resulted in value: 0.16617647058823537. Current best value is 0.1594444444444446 with parameters: {'n_estimators': 365, 'gamma': 0.7013814276268473, 'lambda': 0.5495306441214812, 'learning_rate': 0.12399561010971977, 'max_depth': 8, 'subsample': 0.9435922914106966, 'colsample_bytree': 0.7397597413215783, 'min_child_weight': 7.406239986883236}.\n"
     ]
    },
    {
     "name": "stdout",
     "output_type": "stream",
     "text": [
      "438 "
     ]
    },
    {
     "name": "stderr",
     "output_type": "stream",
     "text": [
      "[I 2019-02-09 14:56:03,244] Finished a trial resulted in value: 0.1683986928104576. Current best value is 0.1594444444444446 with parameters: {'n_estimators': 365, 'gamma': 0.7013814276268473, 'lambda': 0.5495306441214812, 'learning_rate': 0.12399561010971977, 'max_depth': 8, 'subsample': 0.9435922914106966, 'colsample_bytree': 0.7397597413215783, 'min_child_weight': 7.406239986883236}.\n"
     ]
    },
    {
     "name": "stdout",
     "output_type": "stream",
     "text": [
      "439 "
     ]
    },
    {
     "name": "stderr",
     "output_type": "stream",
     "text": [
      "[I 2019-02-09 14:56:11,367] Finished a trial resulted in value: 0.16617647058823537. Current best value is 0.1594444444444446 with parameters: {'n_estimators': 365, 'gamma': 0.7013814276268473, 'lambda': 0.5495306441214812, 'learning_rate': 0.12399561010971977, 'max_depth': 8, 'subsample': 0.9435922914106966, 'colsample_bytree': 0.7397597413215783, 'min_child_weight': 7.406239986883236}.\n"
     ]
    },
    {
     "name": "stdout",
     "output_type": "stream",
     "text": [
      "440 "
     ]
    },
    {
     "name": "stderr",
     "output_type": "stream",
     "text": [
      "[I 2019-02-09 14:56:20,862] Finished a trial resulted in value: 0.16395424836601302. Current best value is 0.1594444444444446 with parameters: {'n_estimators': 365, 'gamma': 0.7013814276268473, 'lambda': 0.5495306441214812, 'learning_rate': 0.12399561010971977, 'max_depth': 8, 'subsample': 0.9435922914106966, 'colsample_bytree': 0.7397597413215783, 'min_child_weight': 7.406239986883236}.\n"
     ]
    },
    {
     "name": "stdout",
     "output_type": "stream",
     "text": [
      "441 "
     ]
    },
    {
     "name": "stderr",
     "output_type": "stream",
     "text": [
      "[I 2019-02-09 14:56:30,477] Finished a trial resulted in value: 0.16617647058823537. Current best value is 0.1594444444444446 with parameters: {'n_estimators': 365, 'gamma': 0.7013814276268473, 'lambda': 0.5495306441214812, 'learning_rate': 0.12399561010971977, 'max_depth': 8, 'subsample': 0.9435922914106966, 'colsample_bytree': 0.7397597413215783, 'min_child_weight': 7.406239986883236}.\n"
     ]
    },
    {
     "name": "stdout",
     "output_type": "stream",
     "text": [
      "442 "
     ]
    },
    {
     "name": "stderr",
     "output_type": "stream",
     "text": [
      "[I 2019-02-09 14:56:42,809] Finished a trial resulted in value: 0.1706862745098039. Current best value is 0.1594444444444446 with parameters: {'n_estimators': 365, 'gamma': 0.7013814276268473, 'lambda': 0.5495306441214812, 'learning_rate': 0.12399561010971977, 'max_depth': 8, 'subsample': 0.9435922914106966, 'colsample_bytree': 0.7397597413215783, 'min_child_weight': 7.406239986883236}.\n"
     ]
    },
    {
     "name": "stdout",
     "output_type": "stream",
     "text": [
      "443 "
     ]
    },
    {
     "name": "stderr",
     "output_type": "stream",
     "text": [
      "[I 2019-02-09 14:56:58,474] Finished a trial resulted in value: 0.17062091503267984. Current best value is 0.1594444444444446 with parameters: {'n_estimators': 365, 'gamma': 0.7013814276268473, 'lambda': 0.5495306441214812, 'learning_rate': 0.12399561010971977, 'max_depth': 8, 'subsample': 0.9435922914106966, 'colsample_bytree': 0.7397597413215783, 'min_child_weight': 7.406239986883236}.\n"
     ]
    },
    {
     "name": "stdout",
     "output_type": "stream",
     "text": [
      "444 "
     ]
    },
    {
     "name": "stderr",
     "output_type": "stream",
     "text": [
      "[I 2019-02-09 14:57:04,158] Finished a trial resulted in value: 0.16714869281045763. Current best value is 0.1594444444444446 with parameters: {'n_estimators': 365, 'gamma': 0.7013814276268473, 'lambda': 0.5495306441214812, 'learning_rate': 0.12399561010971977, 'max_depth': 8, 'subsample': 0.9435922914106966, 'colsample_bytree': 0.7397597413215783, 'min_child_weight': 7.406239986883236}.\n"
     ]
    },
    {
     "name": "stdout",
     "output_type": "stream",
     "text": [
      "445 "
     ]
    },
    {
     "name": "stderr",
     "output_type": "stream",
     "text": [
      "[I 2019-02-09 14:57:25,321] Finished a trial resulted in value: 0.16631535947712417. Current best value is 0.1594444444444446 with parameters: {'n_estimators': 365, 'gamma': 0.7013814276268473, 'lambda': 0.5495306441214812, 'learning_rate': 0.12399561010971977, 'max_depth': 8, 'subsample': 0.9435922914106966, 'colsample_bytree': 0.7397597413215783, 'min_child_weight': 7.406239986883236}.\n"
     ]
    },
    {
     "name": "stdout",
     "output_type": "stream",
     "text": [
      "446 "
     ]
    },
    {
     "name": "stderr",
     "output_type": "stream",
     "text": [
      "[I 2019-02-09 14:57:42,469] Finished a trial resulted in value: 0.16722222222222216. Current best value is 0.1594444444444446 with parameters: {'n_estimators': 365, 'gamma': 0.7013814276268473, 'lambda': 0.5495306441214812, 'learning_rate': 0.12399561010971977, 'max_depth': 8, 'subsample': 0.9435922914106966, 'colsample_bytree': 0.7397597413215783, 'min_child_weight': 7.406239986883236}.\n"
     ]
    },
    {
     "name": "stdout",
     "output_type": "stream",
     "text": [
      "447 "
     ]
    },
    {
     "name": "stderr",
     "output_type": "stream",
     "text": [
      "[I 2019-02-09 14:57:46,913] Finished a trial resulted in value: 0.16166666666666663. Current best value is 0.1594444444444446 with parameters: {'n_estimators': 365, 'gamma': 0.7013814276268473, 'lambda': 0.5495306441214812, 'learning_rate': 0.12399561010971977, 'max_depth': 8, 'subsample': 0.9435922914106966, 'colsample_bytree': 0.7397597413215783, 'min_child_weight': 7.406239986883236}.\n"
     ]
    },
    {
     "name": "stdout",
     "output_type": "stream",
     "text": [
      "448 "
     ]
    },
    {
     "name": "stderr",
     "output_type": "stream",
     "text": [
      "[I 2019-02-09 14:57:48,193] Finished a trial resulted in value: 0.17296568627450992. Current best value is 0.1594444444444446 with parameters: {'n_estimators': 365, 'gamma': 0.7013814276268473, 'lambda': 0.5495306441214812, 'learning_rate': 0.12399561010971977, 'max_depth': 8, 'subsample': 0.9435922914106966, 'colsample_bytree': 0.7397597413215783, 'min_child_weight': 7.406239986883236}.\n"
     ]
    },
    {
     "name": "stdout",
     "output_type": "stream",
     "text": [
      "449 "
     ]
    },
    {
     "name": "stderr",
     "output_type": "stream",
     "text": [
      "[I 2019-02-09 14:57:51,985] Finished a trial resulted in value: 0.17381535947712434. Current best value is 0.1594444444444446 with parameters: {'n_estimators': 365, 'gamma': 0.7013814276268473, 'lambda': 0.5495306441214812, 'learning_rate': 0.12399561010971977, 'max_depth': 8, 'subsample': 0.9435922914106966, 'colsample_bytree': 0.7397597413215783, 'min_child_weight': 7.406239986883236}.\n"
     ]
    },
    {
     "name": "stdout",
     "output_type": "stream",
     "text": [
      "450 "
     ]
    },
    {
     "name": "stderr",
     "output_type": "stream",
     "text": [
      "[I 2019-02-09 14:57:54,790] Finished a trial resulted in value: 0.16388071895424838. Current best value is 0.1594444444444446 with parameters: {'n_estimators': 365, 'gamma': 0.7013814276268473, 'lambda': 0.5495306441214812, 'learning_rate': 0.12399561010971977, 'max_depth': 8, 'subsample': 0.9435922914106966, 'colsample_bytree': 0.7397597413215783, 'min_child_weight': 7.406239986883236}.\n"
     ]
    },
    {
     "name": "stdout",
     "output_type": "stream",
     "text": [
      "451 "
     ]
    },
    {
     "name": "stderr",
     "output_type": "stream",
     "text": [
      "[I 2019-02-09 14:57:56,906] Finished a trial resulted in value: 0.1942075163398692. Current best value is 0.1594444444444446 with parameters: {'n_estimators': 365, 'gamma': 0.7013814276268473, 'lambda': 0.5495306441214812, 'learning_rate': 0.12399561010971977, 'max_depth': 8, 'subsample': 0.9435922914106966, 'colsample_bytree': 0.7397597413215783, 'min_child_weight': 7.406239986883236}.\n"
     ]
    },
    {
     "name": "stdout",
     "output_type": "stream",
     "text": [
      "452 "
     ]
    },
    {
     "name": "stderr",
     "output_type": "stream",
     "text": [
      "[I 2019-02-09 14:57:57,502] Finished a trial resulted in value: 0.21696078431372556. Current best value is 0.1594444444444446 with parameters: {'n_estimators': 365, 'gamma': 0.7013814276268473, 'lambda': 0.5495306441214812, 'learning_rate': 0.12399561010971977, 'max_depth': 8, 'subsample': 0.9435922914106966, 'colsample_bytree': 0.7397597413215783, 'min_child_weight': 7.406239986883236}.\n"
     ]
    },
    {
     "name": "stdout",
     "output_type": "stream",
     "text": [
      "453 "
     ]
    },
    {
     "name": "stderr",
     "output_type": "stream",
     "text": [
      "[I 2019-02-09 14:58:02,933] Finished a trial resulted in value: 0.1649264705882354. Current best value is 0.1594444444444446 with parameters: {'n_estimators': 365, 'gamma': 0.7013814276268473, 'lambda': 0.5495306441214812, 'learning_rate': 0.12399561010971977, 'max_depth': 8, 'subsample': 0.9435922914106966, 'colsample_bytree': 0.7397597413215783, 'min_child_weight': 7.406239986883236}.\n"
     ]
    },
    {
     "name": "stdout",
     "output_type": "stream",
     "text": [
      "454 "
     ]
    },
    {
     "name": "stderr",
     "output_type": "stream",
     "text": [
      "[I 2019-02-09 14:58:05,501] Finished a trial resulted in value: 0.17172385620915032. Current best value is 0.1594444444444446 with parameters: {'n_estimators': 365, 'gamma': 0.7013814276268473, 'lambda': 0.5495306441214812, 'learning_rate': 0.12399561010971977, 'max_depth': 8, 'subsample': 0.9435922914106966, 'colsample_bytree': 0.7397597413215783, 'min_child_weight': 7.406239986883236}.\n"
     ]
    },
    {
     "name": "stdout",
     "output_type": "stream",
     "text": [
      "455 "
     ]
    },
    {
     "name": "stderr",
     "output_type": "stream",
     "text": [
      "[I 2019-02-09 14:58:09,820] Finished a trial resulted in value: 0.17839052287581714. Current best value is 0.1594444444444446 with parameters: {'n_estimators': 365, 'gamma': 0.7013814276268473, 'lambda': 0.5495306441214812, 'learning_rate': 0.12399561010971977, 'max_depth': 8, 'subsample': 0.9435922914106966, 'colsample_bytree': 0.7397597413215783, 'min_child_weight': 7.406239986883236}.\n"
     ]
    },
    {
     "name": "stdout",
     "output_type": "stream",
     "text": [
      "456 "
     ]
    },
    {
     "name": "stderr",
     "output_type": "stream",
     "text": [
      "[I 2019-02-09 14:58:11,634] Finished a trial resulted in value: 0.21552287581699348. Current best value is 0.1594444444444446 with parameters: {'n_estimators': 365, 'gamma': 0.7013814276268473, 'lambda': 0.5495306441214812, 'learning_rate': 0.12399561010971977, 'max_depth': 8, 'subsample': 0.9435922914106966, 'colsample_bytree': 0.7397597413215783, 'min_child_weight': 7.406239986883236}.\n"
     ]
    },
    {
     "name": "stdout",
     "output_type": "stream",
     "text": [
      "457 "
     ]
    },
    {
     "name": "stderr",
     "output_type": "stream",
     "text": [
      "[I 2019-02-09 14:58:12,798] Finished a trial resulted in value: 0.1887908496732027. Current best value is 0.1594444444444446 with parameters: {'n_estimators': 365, 'gamma': 0.7013814276268473, 'lambda': 0.5495306441214812, 'learning_rate': 0.12399561010971977, 'max_depth': 8, 'subsample': 0.9435922914106966, 'colsample_bytree': 0.7397597413215783, 'min_child_weight': 7.406239986883236}.\n"
     ]
    },
    {
     "name": "stdout",
     "output_type": "stream",
     "text": [
      "458 "
     ]
    },
    {
     "name": "stderr",
     "output_type": "stream",
     "text": [
      "[I 2019-02-09 14:58:20,162] Finished a trial resulted in value: 0.16728758169934654. Current best value is 0.1594444444444446 with parameters: {'n_estimators': 365, 'gamma': 0.7013814276268473, 'lambda': 0.5495306441214812, 'learning_rate': 0.12399561010971977, 'max_depth': 8, 'subsample': 0.9435922914106966, 'colsample_bytree': 0.7397597413215783, 'min_child_weight': 7.406239986883236}.\n"
     ]
    },
    {
     "name": "stdout",
     "output_type": "stream",
     "text": [
      "459 "
     ]
    },
    {
     "name": "stderr",
     "output_type": "stream",
     "text": [
      "[I 2019-02-09 14:58:23,664] Finished a trial resulted in value: 0.1674918300653594. Current best value is 0.1594444444444446 with parameters: {'n_estimators': 365, 'gamma': 0.7013814276268473, 'lambda': 0.5495306441214812, 'learning_rate': 0.12399561010971977, 'max_depth': 8, 'subsample': 0.9435922914106966, 'colsample_bytree': 0.7397597413215783, 'min_child_weight': 7.406239986883236}.\n"
     ]
    },
    {
     "name": "stdout",
     "output_type": "stream",
     "text": [
      "460 "
     ]
    },
    {
     "name": "stderr",
     "output_type": "stream",
     "text": [
      "[I 2019-02-09 14:58:28,069] Finished a trial resulted in value: 0.17062091503267984. Current best value is 0.1594444444444446 with parameters: {'n_estimators': 365, 'gamma': 0.7013814276268473, 'lambda': 0.5495306441214812, 'learning_rate': 0.12399561010971977, 'max_depth': 8, 'subsample': 0.9435922914106966, 'colsample_bytree': 0.7397597413215783, 'min_child_weight': 7.406239986883236}.\n"
     ]
    },
    {
     "name": "stdout",
     "output_type": "stream",
     "text": [
      "461 "
     ]
    },
    {
     "name": "stderr",
     "output_type": "stream",
     "text": [
      "[I 2019-02-09 14:58:31,749] Finished a trial resulted in value: 0.19087418300653614. Current best value is 0.1594444444444446 with parameters: {'n_estimators': 365, 'gamma': 0.7013814276268473, 'lambda': 0.5495306441214812, 'learning_rate': 0.12399561010971977, 'max_depth': 8, 'subsample': 0.9435922914106966, 'colsample_bytree': 0.7397597413215783, 'min_child_weight': 7.406239986883236}.\n"
     ]
    },
    {
     "name": "stdout",
     "output_type": "stream",
     "text": [
      "462 "
     ]
    },
    {
     "name": "stderr",
     "output_type": "stream",
     "text": [
      "[I 2019-02-09 14:58:35,600] Finished a trial resulted in value: 0.16041666666666676. Current best value is 0.1594444444444446 with parameters: {'n_estimators': 365, 'gamma': 0.7013814276268473, 'lambda': 0.5495306441214812, 'learning_rate': 0.12399561010971977, 'max_depth': 8, 'subsample': 0.9435922914106966, 'colsample_bytree': 0.7397597413215783, 'min_child_weight': 7.406239986883236}.\n"
     ]
    },
    {
     "name": "stdout",
     "output_type": "stream",
     "text": [
      "463 "
     ]
    },
    {
     "name": "stderr",
     "output_type": "stream",
     "text": [
      "[I 2019-02-09 14:58:38,459] Finished a trial resulted in value: 0.1649264705882354. Current best value is 0.1594444444444446 with parameters: {'n_estimators': 365, 'gamma': 0.7013814276268473, 'lambda': 0.5495306441214812, 'learning_rate': 0.12399561010971977, 'max_depth': 8, 'subsample': 0.9435922914106966, 'colsample_bytree': 0.7397597413215783, 'min_child_weight': 7.406239986883236}.\n"
     ]
    },
    {
     "name": "stdout",
     "output_type": "stream",
     "text": [
      "464 "
     ]
    },
    {
     "name": "stderr",
     "output_type": "stream",
     "text": [
      "[I 2019-02-09 14:58:41,986] Finished a trial resulted in value: 0.16160130718954246. Current best value is 0.1594444444444446 with parameters: {'n_estimators': 365, 'gamma': 0.7013814276268473, 'lambda': 0.5495306441214812, 'learning_rate': 0.12399561010971977, 'max_depth': 8, 'subsample': 0.9435922914106966, 'colsample_bytree': 0.7397597413215783, 'min_child_weight': 7.406239986883236}.\n"
     ]
    },
    {
     "name": "stdout",
     "output_type": "stream",
     "text": [
      "465 "
     ]
    },
    {
     "name": "stderr",
     "output_type": "stream",
     "text": [
      "[I 2019-02-09 14:58:42,640] Finished a trial resulted in value: 0.200359477124183. Current best value is 0.1594444444444446 with parameters: {'n_estimators': 365, 'gamma': 0.7013814276268473, 'lambda': 0.5495306441214812, 'learning_rate': 0.12399561010971977, 'max_depth': 8, 'subsample': 0.9435922914106966, 'colsample_bytree': 0.7397597413215783, 'min_child_weight': 7.406239986883236}.\n"
     ]
    },
    {
     "name": "stdout",
     "output_type": "stream",
     "text": [
      "466 "
     ]
    },
    {
     "name": "stderr",
     "output_type": "stream",
     "text": [
      "[I 2019-02-09 14:58:44,546] Finished a trial resulted in value: 0.1682598039215687. Current best value is 0.1594444444444446 with parameters: {'n_estimators': 365, 'gamma': 0.7013814276268473, 'lambda': 0.5495306441214812, 'learning_rate': 0.12399561010971977, 'max_depth': 8, 'subsample': 0.9435922914106966, 'colsample_bytree': 0.7397597413215783, 'min_child_weight': 7.406239986883236}.\n"
     ]
    },
    {
     "name": "stdout",
     "output_type": "stream",
     "text": [
      "467 "
     ]
    },
    {
     "name": "stderr",
     "output_type": "stream",
     "text": [
      "[I 2019-02-09 14:58:48,078] Finished a trial resulted in value: 0.1683986928104576. Current best value is 0.1594444444444446 with parameters: {'n_estimators': 365, 'gamma': 0.7013814276268473, 'lambda': 0.5495306441214812, 'learning_rate': 0.12399561010971977, 'max_depth': 8, 'subsample': 0.9435922914106966, 'colsample_bytree': 0.7397597413215783, 'min_child_weight': 7.406239986883236}.\n"
     ]
    },
    {
     "name": "stdout",
     "output_type": "stream",
     "text": [
      "468 "
     ]
    },
    {
     "name": "stderr",
     "output_type": "stream",
     "text": [
      "[I 2019-02-09 14:58:50,398] Finished a trial resulted in value: 0.16714869281045763. Current best value is 0.1594444444444446 with parameters: {'n_estimators': 365, 'gamma': 0.7013814276268473, 'lambda': 0.5495306441214812, 'learning_rate': 0.12399561010971977, 'max_depth': 8, 'subsample': 0.9435922914106966, 'colsample_bytree': 0.7397597413215783, 'min_child_weight': 7.406239986883236}.\n"
     ]
    },
    {
     "name": "stdout",
     "output_type": "stream",
     "text": [
      "469 "
     ]
    },
    {
     "name": "stderr",
     "output_type": "stream",
     "text": [
      "[I 2019-02-09 14:58:53,916] Finished a trial resulted in value: 0.16173202614379079. Current best value is 0.1594444444444446 with parameters: {'n_estimators': 365, 'gamma': 0.7013814276268473, 'lambda': 0.5495306441214812, 'learning_rate': 0.12399561010971977, 'max_depth': 8, 'subsample': 0.9435922914106966, 'colsample_bytree': 0.7397597413215783, 'min_child_weight': 7.406239986883236}.\n"
     ]
    },
    {
     "name": "stdout",
     "output_type": "stream",
     "text": [
      "470 "
     ]
    },
    {
     "name": "stderr",
     "output_type": "stream",
     "text": [
      "[I 2019-02-09 14:58:55,876] Finished a trial resulted in value: 0.16937091503267976. Current best value is 0.1594444444444446 with parameters: {'n_estimators': 365, 'gamma': 0.7013814276268473, 'lambda': 0.5495306441214812, 'learning_rate': 0.12399561010971977, 'max_depth': 8, 'subsample': 0.9435922914106966, 'colsample_bytree': 0.7397597413215783, 'min_child_weight': 7.406239986883236}.\n"
     ]
    },
    {
     "name": "stdout",
     "output_type": "stream",
     "text": [
      "471 "
     ]
    },
    {
     "name": "stderr",
     "output_type": "stream",
     "text": [
      "[I 2019-02-09 14:58:56,980] Finished a trial resulted in value: 0.1908823529411765. Current best value is 0.1594444444444446 with parameters: {'n_estimators': 365, 'gamma': 0.7013814276268473, 'lambda': 0.5495306441214812, 'learning_rate': 0.12399561010971977, 'max_depth': 8, 'subsample': 0.9435922914106966, 'colsample_bytree': 0.7397597413215783, 'min_child_weight': 7.406239986883236}.\n"
     ]
    },
    {
     "name": "stdout",
     "output_type": "stream",
     "text": [
      "472 "
     ]
    },
    {
     "name": "stderr",
     "output_type": "stream",
     "text": [
      "[I 2019-02-09 14:58:57,802] Finished a trial resulted in value: 0.3824673202614379. Current best value is 0.1594444444444446 with parameters: {'n_estimators': 365, 'gamma': 0.7013814276268473, 'lambda': 0.5495306441214812, 'learning_rate': 0.12399561010971977, 'max_depth': 8, 'subsample': 0.9435922914106966, 'colsample_bytree': 0.7397597413215783, 'min_child_weight': 7.406239986883236}.\n"
     ]
    },
    {
     "name": "stdout",
     "output_type": "stream",
     "text": [
      "473 "
     ]
    },
    {
     "name": "stderr",
     "output_type": "stream",
     "text": [
      "[I 2019-02-09 14:59:00,104] Finished a trial resulted in value: 0.16943627450980392. Current best value is 0.1594444444444446 with parameters: {'n_estimators': 365, 'gamma': 0.7013814276268473, 'lambda': 0.5495306441214812, 'learning_rate': 0.12399561010971977, 'max_depth': 8, 'subsample': 0.9435922914106966, 'colsample_bytree': 0.7397597413215783, 'min_child_weight': 7.406239986883236}.\n"
     ]
    },
    {
     "name": "stdout",
     "output_type": "stream",
     "text": [
      "474 "
     ]
    },
    {
     "name": "stderr",
     "output_type": "stream",
     "text": [
      "[I 2019-02-09 14:59:03,644] Finished a trial resulted in value: 0.16728758169934654. Current best value is 0.1594444444444446 with parameters: {'n_estimators': 365, 'gamma': 0.7013814276268473, 'lambda': 0.5495306441214812, 'learning_rate': 0.12399561010971977, 'max_depth': 8, 'subsample': 0.9435922914106966, 'colsample_bytree': 0.7397597413215783, 'min_child_weight': 7.406239986883236}.\n"
     ]
    },
    {
     "name": "stdout",
     "output_type": "stream",
     "text": [
      "475 "
     ]
    },
    {
     "name": "stderr",
     "output_type": "stream",
     "text": [
      "[I 2019-02-09 14:59:07,630] Finished a trial resulted in value: 0.16388888888888897. Current best value is 0.1594444444444446 with parameters: {'n_estimators': 365, 'gamma': 0.7013814276268473, 'lambda': 0.5495306441214812, 'learning_rate': 0.12399561010971977, 'max_depth': 8, 'subsample': 0.9435922914106966, 'colsample_bytree': 0.7397597413215783, 'min_child_weight': 7.406239986883236}.\n"
     ]
    },
    {
     "name": "stdout",
     "output_type": "stream",
     "text": [
      "476 "
     ]
    },
    {
     "name": "stderr",
     "output_type": "stream",
     "text": [
      "[I 2019-02-09 14:59:13,591] Finished a trial resulted in value: 0.16728758169934654. Current best value is 0.1594444444444446 with parameters: {'n_estimators': 365, 'gamma': 0.7013814276268473, 'lambda': 0.5495306441214812, 'learning_rate': 0.12399561010971977, 'max_depth': 8, 'subsample': 0.9435922914106966, 'colsample_bytree': 0.7397597413215783, 'min_child_weight': 7.406239986883236}.\n"
     ]
    },
    {
     "name": "stdout",
     "output_type": "stream",
     "text": [
      "477 "
     ]
    },
    {
     "name": "stderr",
     "output_type": "stream",
     "text": [
      "[I 2019-02-09 14:59:15,589] Finished a trial resulted in value: 0.16937091503267976. Current best value is 0.1594444444444446 with parameters: {'n_estimators': 365, 'gamma': 0.7013814276268473, 'lambda': 0.5495306441214812, 'learning_rate': 0.12399561010971977, 'max_depth': 8, 'subsample': 0.9435922914106966, 'colsample_bytree': 0.7397597413215783, 'min_child_weight': 7.406239986883236}.\n"
     ]
    },
    {
     "name": "stdout",
     "output_type": "stream",
     "text": [
      "478 "
     ]
    },
    {
     "name": "stderr",
     "output_type": "stream",
     "text": [
      "[I 2019-02-09 14:59:16,305] Finished a trial resulted in value: 0.20924836601307173. Current best value is 0.1594444444444446 with parameters: {'n_estimators': 365, 'gamma': 0.7013814276268473, 'lambda': 0.5495306441214812, 'learning_rate': 0.12399561010971977, 'max_depth': 8, 'subsample': 0.9435922914106966, 'colsample_bytree': 0.7397597413215783, 'min_child_weight': 7.406239986883236}.\n"
     ]
    },
    {
     "name": "stdout",
     "output_type": "stream",
     "text": [
      "479 "
     ]
    },
    {
     "name": "stderr",
     "output_type": "stream",
     "text": [
      "[I 2019-02-09 14:59:19,390] Finished a trial resulted in value: 0.16381535947712422. Current best value is 0.1594444444444446 with parameters: {'n_estimators': 365, 'gamma': 0.7013814276268473, 'lambda': 0.5495306441214812, 'learning_rate': 0.12399561010971977, 'max_depth': 8, 'subsample': 0.9435922914106966, 'colsample_bytree': 0.7397597413215783, 'min_child_weight': 7.406239986883236}.\n"
     ]
    },
    {
     "name": "stdout",
     "output_type": "stream",
     "text": [
      "480 "
     ]
    },
    {
     "name": "stderr",
     "output_type": "stream",
     "text": [
      "[I 2019-02-09 14:59:23,803] Finished a trial resulted in value: 0.16290849673202612. Current best value is 0.1594444444444446 with parameters: {'n_estimators': 365, 'gamma': 0.7013814276268473, 'lambda': 0.5495306441214812, 'learning_rate': 0.12399561010971977, 'max_depth': 8, 'subsample': 0.9435922914106966, 'colsample_bytree': 0.7397597413215783, 'min_child_weight': 7.406239986883236}.\n"
     ]
    },
    {
     "name": "stdout",
     "output_type": "stream",
     "text": [
      "481 "
     ]
    },
    {
     "name": "stderr",
     "output_type": "stream",
     "text": [
      "[I 2019-02-09 14:59:27,862] Finished a trial resulted in value: 0.15708333333333346. Current best value is 0.15708333333333346 with parameters: {'n_estimators': 141, 'gamma': 0.7260861678752946, 'lambda': 0.1406020832695276, 'learning_rate': 0.1415068096803329, 'max_depth': 10, 'subsample': 0.8635523908357677, 'colsample_bytree': 0.5904371111274501, 'min_child_weight': 9.918122754242049}.\n"
     ]
    },
    {
     "name": "stdout",
     "output_type": "stream",
     "text": [
      "482 "
     ]
    },
    {
     "name": "stderr",
     "output_type": "stream",
     "text": [
      "[I 2019-02-09 14:59:33,879] Finished a trial resulted in value: 0.17179738562091496. Current best value is 0.15708333333333346 with parameters: {'n_estimators': 141, 'gamma': 0.7260861678752946, 'lambda': 0.1406020832695276, 'learning_rate': 0.1415068096803329, 'max_depth': 10, 'subsample': 0.8635523908357677, 'colsample_bytree': 0.5904371111274501, 'min_child_weight': 9.918122754242049}.\n"
     ]
    },
    {
     "name": "stdout",
     "output_type": "stream",
     "text": [
      "483 "
     ]
    },
    {
     "name": "stderr",
     "output_type": "stream",
     "text": [
      "[I 2019-02-09 14:59:37,954] Finished a trial resulted in value: 0.17041666666666666. Current best value is 0.15708333333333346 with parameters: {'n_estimators': 141, 'gamma': 0.7260861678752946, 'lambda': 0.1406020832695276, 'learning_rate': 0.1415068096803329, 'max_depth': 10, 'subsample': 0.8635523908357677, 'colsample_bytree': 0.5904371111274501, 'min_child_weight': 9.918122754242049}.\n"
     ]
    },
    {
     "name": "stdout",
     "output_type": "stream",
     "text": [
      "484 "
     ]
    },
    {
     "name": "stderr",
     "output_type": "stream",
     "text": [
      "[I 2019-02-09 14:59:43,191] Finished a trial resulted in value: 0.16957516339869283. Current best value is 0.15708333333333346 with parameters: {'n_estimators': 141, 'gamma': 0.7260861678752946, 'lambda': 0.1406020832695276, 'learning_rate': 0.1415068096803329, 'max_depth': 10, 'subsample': 0.8635523908357677, 'colsample_bytree': 0.5904371111274501, 'min_child_weight': 9.918122754242049}.\n"
     ]
    },
    {
     "name": "stdout",
     "output_type": "stream",
     "text": [
      "485 "
     ]
    },
    {
     "name": "stderr",
     "output_type": "stream",
     "text": [
      "[I 2019-02-09 14:59:47,929] Finished a trial resulted in value: 0.1640196078431373. Current best value is 0.15708333333333346 with parameters: {'n_estimators': 141, 'gamma': 0.7260861678752946, 'lambda': 0.1406020832695276, 'learning_rate': 0.1415068096803329, 'max_depth': 10, 'subsample': 0.8635523908357677, 'colsample_bytree': 0.5904371111274501, 'min_child_weight': 9.918122754242049}.\n"
     ]
    },
    {
     "name": "stdout",
     "output_type": "stream",
     "text": [
      "486 "
     ]
    },
    {
     "name": "stderr",
     "output_type": "stream",
     "text": [
      "[I 2019-02-09 14:59:52,632] Finished a trial resulted in value: 0.170686274509804. Current best value is 0.15708333333333346 with parameters: {'n_estimators': 141, 'gamma': 0.7260861678752946, 'lambda': 0.1406020832695276, 'learning_rate': 0.1415068096803329, 'max_depth': 10, 'subsample': 0.8635523908357677, 'colsample_bytree': 0.5904371111274501, 'min_child_weight': 9.918122754242049}.\n"
     ]
    },
    {
     "name": "stdout",
     "output_type": "stream",
     "text": [
      "487 "
     ]
    },
    {
     "name": "stderr",
     "output_type": "stream",
     "text": [
      "[I 2019-02-09 14:59:55,564] Finished a trial resulted in value: 0.1659722222222223. Current best value is 0.15708333333333346 with parameters: {'n_estimators': 141, 'gamma': 0.7260861678752946, 'lambda': 0.1406020832695276, 'learning_rate': 0.1415068096803329, 'max_depth': 10, 'subsample': 0.8635523908357677, 'colsample_bytree': 0.5904371111274501, 'min_child_weight': 9.918122754242049}.\n"
     ]
    },
    {
     "name": "stdout",
     "output_type": "stream",
     "text": [
      "488 "
     ]
    },
    {
     "name": "stderr",
     "output_type": "stream",
     "text": [
      "[I 2019-02-09 14:59:59,298] Finished a trial resulted in value: 0.1636846405228758. Current best value is 0.15708333333333346 with parameters: {'n_estimators': 141, 'gamma': 0.7260861678752946, 'lambda': 0.1406020832695276, 'learning_rate': 0.1415068096803329, 'max_depth': 10, 'subsample': 0.8635523908357677, 'colsample_bytree': 0.5904371111274501, 'min_child_weight': 9.918122754242049}.\n"
     ]
    },
    {
     "name": "stdout",
     "output_type": "stream",
     "text": [
      "489 "
     ]
    },
    {
     "name": "stderr",
     "output_type": "stream",
     "text": [
      "[I 2019-02-09 15:00:01,013] Finished a trial resulted in value: 0.1650653594771242. Current best value is 0.15708333333333346 with parameters: {'n_estimators': 141, 'gamma': 0.7260861678752946, 'lambda': 0.1406020832695276, 'learning_rate': 0.1415068096803329, 'max_depth': 10, 'subsample': 0.8635523908357677, 'colsample_bytree': 0.5904371111274501, 'min_child_weight': 9.918122754242049}.\n"
     ]
    },
    {
     "name": "stdout",
     "output_type": "stream",
     "text": [
      "490 "
     ]
    },
    {
     "name": "stderr",
     "output_type": "stream",
     "text": [
      "[I 2019-02-09 15:00:05,856] Finished a trial resulted in value: 0.16833333333333333. Current best value is 0.15708333333333346 with parameters: {'n_estimators': 141, 'gamma': 0.7260861678752946, 'lambda': 0.1406020832695276, 'learning_rate': 0.1415068096803329, 'max_depth': 10, 'subsample': 0.8635523908357677, 'colsample_bytree': 0.5904371111274501, 'min_child_weight': 9.918122754242049}.\n"
     ]
    },
    {
     "name": "stdout",
     "output_type": "stream",
     "text": [
      "491 "
     ]
    },
    {
     "name": "stderr",
     "output_type": "stream",
     "text": [
      "[I 2019-02-09 15:00:13,211] Finished a trial resulted in value: 0.16290849673202612. Current best value is 0.15708333333333346 with parameters: {'n_estimators': 141, 'gamma': 0.7260861678752946, 'lambda': 0.1406020832695276, 'learning_rate': 0.1415068096803329, 'max_depth': 10, 'subsample': 0.8635523908357677, 'colsample_bytree': 0.5904371111274501, 'min_child_weight': 9.918122754242049}.\n"
     ]
    },
    {
     "name": "stdout",
     "output_type": "stream",
     "text": [
      "492 "
     ]
    },
    {
     "name": "stderr",
     "output_type": "stream",
     "text": [
      "[I 2019-02-09 15:00:17,556] Finished a trial resulted in value: 0.17062091503267984. Current best value is 0.15708333333333346 with parameters: {'n_estimators': 141, 'gamma': 0.7260861678752946, 'lambda': 0.1406020832695276, 'learning_rate': 0.1415068096803329, 'max_depth': 10, 'subsample': 0.8635523908357677, 'colsample_bytree': 0.5904371111274501, 'min_child_weight': 9.918122754242049}.\n"
     ]
    },
    {
     "name": "stdout",
     "output_type": "stream",
     "text": [
      "493 "
     ]
    },
    {
     "name": "stderr",
     "output_type": "stream",
     "text": [
      "[I 2019-02-09 15:00:21,160] Finished a trial resulted in value: 0.17415032679738573. Current best value is 0.15708333333333346 with parameters: {'n_estimators': 141, 'gamma': 0.7260861678752946, 'lambda': 0.1406020832695276, 'learning_rate': 0.1415068096803329, 'max_depth': 10, 'subsample': 0.8635523908357677, 'colsample_bytree': 0.5904371111274501, 'min_child_weight': 9.918122754242049}.\n"
     ]
    },
    {
     "name": "stdout",
     "output_type": "stream",
     "text": [
      "494 "
     ]
    },
    {
     "name": "stderr",
     "output_type": "stream",
     "text": [
      "[I 2019-02-09 15:00:27,504] Finished a trial resulted in value: 0.16624183006535953. Current best value is 0.15708333333333346 with parameters: {'n_estimators': 141, 'gamma': 0.7260861678752946, 'lambda': 0.1406020832695276, 'learning_rate': 0.1415068096803329, 'max_depth': 10, 'subsample': 0.8635523908357677, 'colsample_bytree': 0.5904371111274501, 'min_child_weight': 9.918122754242049}.\n"
     ]
    },
    {
     "name": "stdout",
     "output_type": "stream",
     "text": [
      "495 "
     ]
    },
    {
     "name": "stderr",
     "output_type": "stream",
     "text": [
      "[I 2019-02-09 15:00:30,866] Finished a trial resulted in value: 0.20101307189542483. Current best value is 0.15708333333333346 with parameters: {'n_estimators': 141, 'gamma': 0.7260861678752946, 'lambda': 0.1406020832695276, 'learning_rate': 0.1415068096803329, 'max_depth': 10, 'subsample': 0.8635523908357677, 'colsample_bytree': 0.5904371111274501, 'min_child_weight': 9.918122754242049}.\n"
     ]
    },
    {
     "name": "stdout",
     "output_type": "stream",
     "text": [
      "496 "
     ]
    },
    {
     "name": "stderr",
     "output_type": "stream",
     "text": [
      "[I 2019-02-09 15:00:34,450] Finished a trial resulted in value: 0.17500000000000004. Current best value is 0.15708333333333346 with parameters: {'n_estimators': 141, 'gamma': 0.7260861678752946, 'lambda': 0.1406020832695276, 'learning_rate': 0.1415068096803329, 'max_depth': 10, 'subsample': 0.8635523908357677, 'colsample_bytree': 0.5904371111274501, 'min_child_weight': 9.918122754242049}.\n"
     ]
    },
    {
     "name": "stdout",
     "output_type": "stream",
     "text": [
      "497 "
     ]
    },
    {
     "name": "stderr",
     "output_type": "stream",
     "text": [
      "[I 2019-02-09 15:00:38,622] Finished a trial resulted in value: 0.1673529411764706. Current best value is 0.15708333333333346 with parameters: {'n_estimators': 141, 'gamma': 0.7260861678752946, 'lambda': 0.1406020832695276, 'learning_rate': 0.1415068096803329, 'max_depth': 10, 'subsample': 0.8635523908357677, 'colsample_bytree': 0.5904371111274501, 'min_child_weight': 9.918122754242049}.\n"
     ]
    },
    {
     "name": "stdout",
     "output_type": "stream",
     "text": [
      "498 "
     ]
    },
    {
     "name": "stderr",
     "output_type": "stream",
     "text": [
      "[I 2019-02-09 15:00:39,192] Finished a trial resulted in value: 0.33187091503267974. Current best value is 0.15708333333333346 with parameters: {'n_estimators': 141, 'gamma': 0.7260861678752946, 'lambda': 0.1406020832695276, 'learning_rate': 0.1415068096803329, 'max_depth': 10, 'subsample': 0.8635523908357677, 'colsample_bytree': 0.5904371111274501, 'min_child_weight': 9.918122754242049}.\n"
     ]
    },
    {
     "name": "stdout",
     "output_type": "stream",
     "text": [
      "499 "
     ]
    },
    {
     "name": "stderr",
     "output_type": "stream",
     "text": [
      "[I 2019-02-09 15:00:49,883] Finished a trial resulted in value: 0.1727777777777777. Current best value is 0.15708333333333346 with parameters: {'n_estimators': 141, 'gamma': 0.7260861678752946, 'lambda': 0.1406020832695276, 'learning_rate': 0.1415068096803329, 'max_depth': 10, 'subsample': 0.8635523908357677, 'colsample_bytree': 0.5904371111274501, 'min_child_weight': 9.918122754242049}.\n"
     ]
    },
    {
     "name": "stdout",
     "output_type": "stream",
     "text": [
      "500 "
     ]
    },
    {
     "name": "stderr",
     "output_type": "stream",
     "text": [
      "[I 2019-02-09 15:00:57,960] Finished a trial resulted in value: 0.17291666666666672. Current best value is 0.15708333333333346 with parameters: {'n_estimators': 141, 'gamma': 0.7260861678752946, 'lambda': 0.1406020832695276, 'learning_rate': 0.1415068096803329, 'max_depth': 10, 'subsample': 0.8635523908357677, 'colsample_bytree': 0.5904371111274501, 'min_child_weight': 9.918122754242049}.\n"
     ]
    },
    {
     "name": "stdout",
     "output_type": "stream",
     "text": [
      "501 "
     ]
    },
    {
     "name": "stderr",
     "output_type": "stream",
     "text": [
      "[I 2019-02-09 15:00:59,776] Finished a trial resulted in value: 0.18525326797385633. Current best value is 0.15708333333333346 with parameters: {'n_estimators': 141, 'gamma': 0.7260861678752946, 'lambda': 0.1406020832695276, 'learning_rate': 0.1415068096803329, 'max_depth': 10, 'subsample': 0.8635523908357677, 'colsample_bytree': 0.5904371111274501, 'min_child_weight': 9.918122754242049}.\n"
     ]
    },
    {
     "name": "stdout",
     "output_type": "stream",
     "text": [
      "502 "
     ]
    },
    {
     "name": "stderr",
     "output_type": "stream",
     "text": [
      "[I 2019-02-09 15:01:04,358] Finished a trial resulted in value: 0.1673529411764706. Current best value is 0.15708333333333346 with parameters: {'n_estimators': 141, 'gamma': 0.7260861678752946, 'lambda': 0.1406020832695276, 'learning_rate': 0.1415068096803329, 'max_depth': 10, 'subsample': 0.8635523908357677, 'colsample_bytree': 0.5904371111274501, 'min_child_weight': 9.918122754242049}.\n"
     ]
    },
    {
     "name": "stdout",
     "output_type": "stream",
     "text": [
      "503 "
     ]
    },
    {
     "name": "stderr",
     "output_type": "stream",
     "text": [
      "[I 2019-02-09 15:01:08,098] Finished a trial resulted in value: 0.17852941176470583. Current best value is 0.15708333333333346 with parameters: {'n_estimators': 141, 'gamma': 0.7260861678752946, 'lambda': 0.1406020832695276, 'learning_rate': 0.1415068096803329, 'max_depth': 10, 'subsample': 0.8635523908357677, 'colsample_bytree': 0.5904371111274501, 'min_child_weight': 9.918122754242049}.\n"
     ]
    },
    {
     "name": "stdout",
     "output_type": "stream",
     "text": [
      "504 "
     ]
    },
    {
     "name": "stderr",
     "output_type": "stream",
     "text": [
      "[I 2019-02-09 15:01:13,485] Finished a trial resulted in value: 0.17396241830065362. Current best value is 0.15708333333333346 with parameters: {'n_estimators': 141, 'gamma': 0.7260861678752946, 'lambda': 0.1406020832695276, 'learning_rate': 0.1415068096803329, 'max_depth': 10, 'subsample': 0.8635523908357677, 'colsample_bytree': 0.5904371111274501, 'min_child_weight': 9.918122754242049}.\n"
     ]
    },
    {
     "name": "stdout",
     "output_type": "stream",
     "text": [
      "505 "
     ]
    },
    {
     "name": "stderr",
     "output_type": "stream",
     "text": [
      "[I 2019-02-09 15:01:16,070] Finished a trial resulted in value: 0.18636437908496728. Current best value is 0.15708333333333346 with parameters: {'n_estimators': 141, 'gamma': 0.7260861678752946, 'lambda': 0.1406020832695276, 'learning_rate': 0.1415068096803329, 'max_depth': 10, 'subsample': 0.8635523908357677, 'colsample_bytree': 0.5904371111274501, 'min_child_weight': 9.918122754242049}.\n"
     ]
    },
    {
     "name": "stdout",
     "output_type": "stream",
     "text": [
      "506 "
     ]
    },
    {
     "name": "stderr",
     "output_type": "stream",
     "text": [
      "[I 2019-02-09 15:01:17,115] Finished a trial resulted in value: 0.18643790849673214. Current best value is 0.15708333333333346 with parameters: {'n_estimators': 141, 'gamma': 0.7260861678752946, 'lambda': 0.1406020832695276, 'learning_rate': 0.1415068096803329, 'max_depth': 10, 'subsample': 0.8635523908357677, 'colsample_bytree': 0.5904371111274501, 'min_child_weight': 9.918122754242049}.\n"
     ]
    },
    {
     "name": "stdout",
     "output_type": "stream",
     "text": [
      "507 "
     ]
    },
    {
     "name": "stderr",
     "output_type": "stream",
     "text": [
      "[I 2019-02-09 15:01:23,549] Finished a trial resulted in value: 0.1640196078431373. Current best value is 0.15708333333333346 with parameters: {'n_estimators': 141, 'gamma': 0.7260861678752946, 'lambda': 0.1406020832695276, 'learning_rate': 0.1415068096803329, 'max_depth': 10, 'subsample': 0.8635523908357677, 'colsample_bytree': 0.5904371111274501, 'min_child_weight': 9.918122754242049}.\n"
     ]
    },
    {
     "name": "stdout",
     "output_type": "stream",
     "text": [
      "508 "
     ]
    },
    {
     "name": "stderr",
     "output_type": "stream",
     "text": [
      "[I 2019-02-09 15:01:36,437] Finished a trial resulted in value: 0.17950980392156868. Current best value is 0.15708333333333346 with parameters: {'n_estimators': 141, 'gamma': 0.7260861678752946, 'lambda': 0.1406020832695276, 'learning_rate': 0.1415068096803329, 'max_depth': 10, 'subsample': 0.8635523908357677, 'colsample_bytree': 0.5904371111274501, 'min_child_weight': 9.918122754242049}.\n"
     ]
    },
    {
     "name": "stdout",
     "output_type": "stream",
     "text": [
      "509 "
     ]
    },
    {
     "name": "stderr",
     "output_type": "stream",
     "text": [
      "[I 2019-02-09 15:01:44,041] Finished a trial resulted in value: 0.16500000000000004. Current best value is 0.15708333333333346 with parameters: {'n_estimators': 141, 'gamma': 0.7260861678752946, 'lambda': 0.1406020832695276, 'learning_rate': 0.1415068096803329, 'max_depth': 10, 'subsample': 0.8635523908357677, 'colsample_bytree': 0.5904371111274501, 'min_child_weight': 9.918122754242049}.\n"
     ]
    },
    {
     "name": "stdout",
     "output_type": "stream",
     "text": [
      "510 "
     ]
    },
    {
     "name": "stderr",
     "output_type": "stream",
     "text": [
      "[I 2019-02-09 15:01:46,625] Finished a trial resulted in value: 0.17048202614379082. Current best value is 0.15708333333333346 with parameters: {'n_estimators': 141, 'gamma': 0.7260861678752946, 'lambda': 0.1406020832695276, 'learning_rate': 0.1415068096803329, 'max_depth': 10, 'subsample': 0.8635523908357677, 'colsample_bytree': 0.5904371111274501, 'min_child_weight': 9.918122754242049}.\n"
     ]
    },
    {
     "name": "stdout",
     "output_type": "stream",
     "text": [
      "511 "
     ]
    },
    {
     "name": "stderr",
     "output_type": "stream",
     "text": [
      "[I 2019-02-09 15:01:50,514] Finished a trial resulted in value: 0.1729738562091504. Current best value is 0.15708333333333346 with parameters: {'n_estimators': 141, 'gamma': 0.7260861678752946, 'lambda': 0.1406020832695276, 'learning_rate': 0.1415068096803329, 'max_depth': 10, 'subsample': 0.8635523908357677, 'colsample_bytree': 0.5904371111274501, 'min_child_weight': 9.918122754242049}.\n"
     ]
    },
    {
     "name": "stdout",
     "output_type": "stream",
     "text": [
      "512 "
     ]
    },
    {
     "name": "stderr",
     "output_type": "stream",
     "text": [
      "[I 2019-02-09 15:01:54,383] Finished a trial resulted in value: 0.16374999999999995. Current best value is 0.15708333333333346 with parameters: {'n_estimators': 141, 'gamma': 0.7260861678752946, 'lambda': 0.1406020832695276, 'learning_rate': 0.1415068096803329, 'max_depth': 10, 'subsample': 0.8635523908357677, 'colsample_bytree': 0.5904371111274501, 'min_child_weight': 9.918122754242049}.\n"
     ]
    },
    {
     "name": "stdout",
     "output_type": "stream",
     "text": [
      "513 "
     ]
    },
    {
     "name": "stderr",
     "output_type": "stream",
     "text": [
      "[I 2019-02-09 15:01:58,720] Finished a trial resulted in value: 0.21101307189542495. Current best value is 0.15708333333333346 with parameters: {'n_estimators': 141, 'gamma': 0.7260861678752946, 'lambda': 0.1406020832695276, 'learning_rate': 0.1415068096803329, 'max_depth': 10, 'subsample': 0.8635523908357677, 'colsample_bytree': 0.5904371111274501, 'min_child_weight': 9.918122754242049}.\n"
     ]
    },
    {
     "name": "stdout",
     "output_type": "stream",
     "text": [
      "514 "
     ]
    },
    {
     "name": "stderr",
     "output_type": "stream",
     "text": [
      "[I 2019-02-09 15:02:00,674] Finished a trial resulted in value: 0.16728758169934632. Current best value is 0.15708333333333346 with parameters: {'n_estimators': 141, 'gamma': 0.7260861678752946, 'lambda': 0.1406020832695276, 'learning_rate': 0.1415068096803329, 'max_depth': 10, 'subsample': 0.8635523908357677, 'colsample_bytree': 0.5904371111274501, 'min_child_weight': 9.918122754242049}.\n"
     ]
    },
    {
     "name": "stdout",
     "output_type": "stream",
     "text": [
      "515 "
     ]
    },
    {
     "name": "stderr",
     "output_type": "stream",
     "text": [
      "[I 2019-02-09 15:02:10,355] Finished a trial resulted in value: 0.16944444444444462. Current best value is 0.15708333333333346 with parameters: {'n_estimators': 141, 'gamma': 0.7260861678752946, 'lambda': 0.1406020832695276, 'learning_rate': 0.1415068096803329, 'max_depth': 10, 'subsample': 0.8635523908357677, 'colsample_bytree': 0.5904371111274501, 'min_child_weight': 9.918122754242049}.\n"
     ]
    },
    {
     "name": "stdout",
     "output_type": "stream",
     "text": [
      "516 "
     ]
    },
    {
     "name": "stderr",
     "output_type": "stream",
     "text": [
      "[I 2019-02-09 15:02:11,724] Finished a trial resulted in value: 0.1954575163398694. Current best value is 0.15708333333333346 with parameters: {'n_estimators': 141, 'gamma': 0.7260861678752946, 'lambda': 0.1406020832695276, 'learning_rate': 0.1415068096803329, 'max_depth': 10, 'subsample': 0.8635523908357677, 'colsample_bytree': 0.5904371111274501, 'min_child_weight': 9.918122754242049}.\n"
     ]
    },
    {
     "name": "stdout",
     "output_type": "stream",
     "text": [
      "517 "
     ]
    },
    {
     "name": "stderr",
     "output_type": "stream",
     "text": [
      "[I 2019-02-09 15:02:17,402] Finished a trial resulted in value: 0.16284313725490207. Current best value is 0.15708333333333346 with parameters: {'n_estimators': 141, 'gamma': 0.7260861678752946, 'lambda': 0.1406020832695276, 'learning_rate': 0.1415068096803329, 'max_depth': 10, 'subsample': 0.8635523908357677, 'colsample_bytree': 0.5904371111274501, 'min_child_weight': 9.918122754242049}.\n"
     ]
    },
    {
     "name": "stdout",
     "output_type": "stream",
     "text": [
      "518 "
     ]
    },
    {
     "name": "stderr",
     "output_type": "stream",
     "text": [
      "[I 2019-02-09 15:02:21,046] Finished a trial resulted in value: 0.17624183006535954. Current best value is 0.15708333333333346 with parameters: {'n_estimators': 141, 'gamma': 0.7260861678752946, 'lambda': 0.1406020832695276, 'learning_rate': 0.1415068096803329, 'max_depth': 10, 'subsample': 0.8635523908357677, 'colsample_bytree': 0.5904371111274501, 'min_child_weight': 9.918122754242049}.\n"
     ]
    },
    {
     "name": "stdout",
     "output_type": "stream",
     "text": [
      "519 "
     ]
    },
    {
     "name": "stderr",
     "output_type": "stream",
     "text": [
      "[I 2019-02-09 15:02:30,955] Finished a trial resulted in value: 0.17271241830065365. Current best value is 0.15708333333333346 with parameters: {'n_estimators': 141, 'gamma': 0.7260861678752946, 'lambda': 0.1406020832695276, 'learning_rate': 0.1415068096803329, 'max_depth': 10, 'subsample': 0.8635523908357677, 'colsample_bytree': 0.5904371111274501, 'min_child_weight': 9.918122754242049}.\n"
     ]
    },
    {
     "name": "stdout",
     "output_type": "stream",
     "text": [
      "520 "
     ]
    },
    {
     "name": "stderr",
     "output_type": "stream",
     "text": [
      "[I 2019-02-09 15:02:34,186] Finished a trial resulted in value: 0.19081699346405234. Current best value is 0.15708333333333346 with parameters: {'n_estimators': 141, 'gamma': 0.7260861678752946, 'lambda': 0.1406020832695276, 'learning_rate': 0.1415068096803329, 'max_depth': 10, 'subsample': 0.8635523908357677, 'colsample_bytree': 0.5904371111274501, 'min_child_weight': 9.918122754242049}.\n"
     ]
    },
    {
     "name": "stdout",
     "output_type": "stream",
     "text": [
      "521 "
     ]
    },
    {
     "name": "stderr",
     "output_type": "stream",
     "text": [
      "[I 2019-02-09 15:02:38,152] Finished a trial resulted in value: 0.16160130718954246. Current best value is 0.15708333333333346 with parameters: {'n_estimators': 141, 'gamma': 0.7260861678752946, 'lambda': 0.1406020832695276, 'learning_rate': 0.1415068096803329, 'max_depth': 10, 'subsample': 0.8635523908357677, 'colsample_bytree': 0.5904371111274501, 'min_child_weight': 9.918122754242049}.\n"
     ]
    },
    {
     "name": "stdout",
     "output_type": "stream",
     "text": [
      "522 "
     ]
    },
    {
     "name": "stderr",
     "output_type": "stream",
     "text": [
      "[I 2019-02-09 15:02:41,754] Finished a trial resulted in value: 0.1694444444444444. Current best value is 0.15708333333333346 with parameters: {'n_estimators': 141, 'gamma': 0.7260861678752946, 'lambda': 0.1406020832695276, 'learning_rate': 0.1415068096803329, 'max_depth': 10, 'subsample': 0.8635523908357677, 'colsample_bytree': 0.5904371111274501, 'min_child_weight': 9.918122754242049}.\n"
     ]
    },
    {
     "name": "stdout",
     "output_type": "stream",
     "text": [
      "523 "
     ]
    },
    {
     "name": "stderr",
     "output_type": "stream",
     "text": [
      "[I 2019-02-09 15:02:54,943] Finished a trial resulted in value: 0.1717320261437909. Current best value is 0.15708333333333346 with parameters: {'n_estimators': 141, 'gamma': 0.7260861678752946, 'lambda': 0.1406020832695276, 'learning_rate': 0.1415068096803329, 'max_depth': 10, 'subsample': 0.8635523908357677, 'colsample_bytree': 0.5904371111274501, 'min_child_weight': 9.918122754242049}.\n"
     ]
    },
    {
     "name": "stdout",
     "output_type": "stream",
     "text": [
      "524 "
     ]
    },
    {
     "name": "stderr",
     "output_type": "stream",
     "text": [
      "[I 2019-02-09 15:03:03,362] Finished a trial resulted in value: 0.16728758169934632. Current best value is 0.15708333333333346 with parameters: {'n_estimators': 141, 'gamma': 0.7260861678752946, 'lambda': 0.1406020832695276, 'learning_rate': 0.1415068096803329, 'max_depth': 10, 'subsample': 0.8635523908357677, 'colsample_bytree': 0.5904371111274501, 'min_child_weight': 9.918122754242049}.\n"
     ]
    },
    {
     "name": "stdout",
     "output_type": "stream",
     "text": [
      "525 "
     ]
    },
    {
     "name": "stderr",
     "output_type": "stream",
     "text": [
      "[I 2019-02-09 15:03:12,311] Finished a trial resulted in value: 0.16408496732026157. Current best value is 0.15708333333333346 with parameters: {'n_estimators': 141, 'gamma': 0.7260861678752946, 'lambda': 0.1406020832695276, 'learning_rate': 0.1415068096803329, 'max_depth': 10, 'subsample': 0.8635523908357677, 'colsample_bytree': 0.5904371111274501, 'min_child_weight': 9.918122754242049}.\n"
     ]
    },
    {
     "name": "stdout",
     "output_type": "stream",
     "text": [
      "526 "
     ]
    },
    {
     "name": "stderr",
     "output_type": "stream",
     "text": [
      "[I 2019-02-09 15:03:14,976] Finished a trial resulted in value: 0.17284313725490197. Current best value is 0.15708333333333346 with parameters: {'n_estimators': 141, 'gamma': 0.7260861678752946, 'lambda': 0.1406020832695276, 'learning_rate': 0.1415068096803329, 'max_depth': 10, 'subsample': 0.8635523908357677, 'colsample_bytree': 0.5904371111274501, 'min_child_weight': 9.918122754242049}.\n"
     ]
    },
    {
     "name": "stdout",
     "output_type": "stream",
     "text": [
      "527 "
     ]
    },
    {
     "name": "stderr",
     "output_type": "stream",
     "text": [
      "[I 2019-02-09 15:03:15,575] Finished a trial resulted in value: 0.21677287581699345. Current best value is 0.15708333333333346 with parameters: {'n_estimators': 141, 'gamma': 0.7260861678752946, 'lambda': 0.1406020832695276, 'learning_rate': 0.1415068096803329, 'max_depth': 10, 'subsample': 0.8635523908357677, 'colsample_bytree': 0.5904371111274501, 'min_child_weight': 9.918122754242049}.\n"
     ]
    },
    {
     "name": "stdout",
     "output_type": "stream",
     "text": [
      "528 "
     ]
    },
    {
     "name": "stderr",
     "output_type": "stream",
     "text": [
      "[I 2019-02-09 15:03:21,721] Finished a trial resulted in value: 0.16395424836601302. Current best value is 0.15708333333333346 with parameters: {'n_estimators': 141, 'gamma': 0.7260861678752946, 'lambda': 0.1406020832695276, 'learning_rate': 0.1415068096803329, 'max_depth': 10, 'subsample': 0.8635523908357677, 'colsample_bytree': 0.5904371111274501, 'min_child_weight': 9.918122754242049}.\n"
     ]
    },
    {
     "name": "stdout",
     "output_type": "stream",
     "text": [
      "529 "
     ]
    },
    {
     "name": "stderr",
     "output_type": "stream",
     "text": [
      "[I 2019-02-09 15:03:29,088] Finished a trial resulted in value: 0.17284313725490197. Current best value is 0.15708333333333346 with parameters: {'n_estimators': 141, 'gamma': 0.7260861678752946, 'lambda': 0.1406020832695276, 'learning_rate': 0.1415068096803329, 'max_depth': 10, 'subsample': 0.8635523908357677, 'colsample_bytree': 0.5904371111274501, 'min_child_weight': 9.918122754242049}.\n"
     ]
    },
    {
     "name": "stdout",
     "output_type": "stream",
     "text": [
      "530 "
     ]
    },
    {
     "name": "stderr",
     "output_type": "stream",
     "text": [
      "[I 2019-02-09 15:03:33,478] Finished a trial resulted in value: 0.16624183006535953. Current best value is 0.15708333333333346 with parameters: {'n_estimators': 141, 'gamma': 0.7260861678752946, 'lambda': 0.1406020832695276, 'learning_rate': 0.1415068096803329, 'max_depth': 10, 'subsample': 0.8635523908357677, 'colsample_bytree': 0.5904371111274501, 'min_child_weight': 9.918122754242049}.\n"
     ]
    },
    {
     "name": "stdout",
     "output_type": "stream",
     "text": [
      "531 "
     ]
    },
    {
     "name": "stderr",
     "output_type": "stream",
     "text": [
      "[I 2019-02-09 15:03:35,339] Finished a trial resulted in value: 0.17061274509803925. Current best value is 0.15708333333333346 with parameters: {'n_estimators': 141, 'gamma': 0.7260861678752946, 'lambda': 0.1406020832695276, 'learning_rate': 0.1415068096803329, 'max_depth': 10, 'subsample': 0.8635523908357677, 'colsample_bytree': 0.5904371111274501, 'min_child_weight': 9.918122754242049}.\n"
     ]
    },
    {
     "name": "stdout",
     "output_type": "stream",
     "text": [
      "532 "
     ]
    },
    {
     "name": "stderr",
     "output_type": "stream",
     "text": [
      "[I 2019-02-09 15:03:39,337] Finished a trial resulted in value: 0.16617647058823537. Current best value is 0.15708333333333346 with parameters: {'n_estimators': 141, 'gamma': 0.7260861678752946, 'lambda': 0.1406020832695276, 'learning_rate': 0.1415068096803329, 'max_depth': 10, 'subsample': 0.8635523908357677, 'colsample_bytree': 0.5904371111274501, 'min_child_weight': 9.918122754242049}.\n"
     ]
    },
    {
     "name": "stdout",
     "output_type": "stream",
     "text": [
      "533 "
     ]
    },
    {
     "name": "stderr",
     "output_type": "stream",
     "text": [
      "[I 2019-02-09 15:03:42,572] Finished a trial resulted in value: 0.383578431372549. Current best value is 0.15708333333333346 with parameters: {'n_estimators': 141, 'gamma': 0.7260861678752946, 'lambda': 0.1406020832695276, 'learning_rate': 0.1415068096803329, 'max_depth': 10, 'subsample': 0.8635523908357677, 'colsample_bytree': 0.5904371111274501, 'min_child_weight': 9.918122754242049}.\n"
     ]
    },
    {
     "name": "stdout",
     "output_type": "stream",
     "text": [
      "534 "
     ]
    },
    {
     "name": "stderr",
     "output_type": "stream",
     "text": [
      "[I 2019-02-09 15:03:48,858] Finished a trial resulted in value: 0.1638235294117648. Current best value is 0.15708333333333346 with parameters: {'n_estimators': 141, 'gamma': 0.7260861678752946, 'lambda': 0.1406020832695276, 'learning_rate': 0.1415068096803329, 'max_depth': 10, 'subsample': 0.8635523908357677, 'colsample_bytree': 0.5904371111274501, 'min_child_weight': 9.918122754242049}.\n"
     ]
    },
    {
     "name": "stdout",
     "output_type": "stream",
     "text": [
      "535 "
     ]
    },
    {
     "name": "stderr",
     "output_type": "stream",
     "text": [
      "[I 2019-02-09 15:03:54,075] Finished a trial resulted in value: 0.17396241830065362. Current best value is 0.15708333333333346 with parameters: {'n_estimators': 141, 'gamma': 0.7260861678752946, 'lambda': 0.1406020832695276, 'learning_rate': 0.1415068096803329, 'max_depth': 10, 'subsample': 0.8635523908357677, 'colsample_bytree': 0.5904371111274501, 'min_child_weight': 9.918122754242049}.\n"
     ]
    },
    {
     "name": "stdout",
     "output_type": "stream",
     "text": [
      "536 "
     ]
    },
    {
     "name": "stderr",
     "output_type": "stream",
     "text": [
      "[I 2019-02-09 15:03:58,055] Finished a trial resulted in value: 0.1650653594771242. Current best value is 0.15708333333333346 with parameters: {'n_estimators': 141, 'gamma': 0.7260861678752946, 'lambda': 0.1406020832695276, 'learning_rate': 0.1415068096803329, 'max_depth': 10, 'subsample': 0.8635523908357677, 'colsample_bytree': 0.5904371111274501, 'min_child_weight': 9.918122754242049}.\n"
     ]
    },
    {
     "name": "stdout",
     "output_type": "stream",
     "text": [
      "537 "
     ]
    },
    {
     "name": "stderr",
     "output_type": "stream",
     "text": [
      "[I 2019-02-09 15:04:06,494] Finished a trial resulted in value: 0.16721405228758168. Current best value is 0.15708333333333346 with parameters: {'n_estimators': 141, 'gamma': 0.7260861678752946, 'lambda': 0.1406020832695276, 'learning_rate': 0.1415068096803329, 'max_depth': 10, 'subsample': 0.8635523908357677, 'colsample_bytree': 0.5904371111274501, 'min_child_weight': 9.918122754242049}.\n"
     ]
    },
    {
     "name": "stdout",
     "output_type": "stream",
     "text": [
      "538 "
     ]
    },
    {
     "name": "stderr",
     "output_type": "stream",
     "text": [
      "[I 2019-02-09 15:04:11,743] Finished a trial resulted in value: 0.1683986928104575. Current best value is 0.15708333333333346 with parameters: {'n_estimators': 141, 'gamma': 0.7260861678752946, 'lambda': 0.1406020832695276, 'learning_rate': 0.1415068096803329, 'max_depth': 10, 'subsample': 0.8635523908357677, 'colsample_bytree': 0.5904371111274501, 'min_child_weight': 9.918122754242049}.\n"
     ]
    },
    {
     "name": "stdout",
     "output_type": "stream",
     "text": [
      "539 "
     ]
    },
    {
     "name": "stderr",
     "output_type": "stream",
     "text": [
      "[I 2019-02-09 15:04:19,536] Finished a trial resulted in value: 0.16062091503267983. Current best value is 0.15708333333333346 with parameters: {'n_estimators': 141, 'gamma': 0.7260861678752946, 'lambda': 0.1406020832695276, 'learning_rate': 0.1415068096803329, 'max_depth': 10, 'subsample': 0.8635523908357677, 'colsample_bytree': 0.5904371111274501, 'min_child_weight': 9.918122754242049}.\n"
     ]
    },
    {
     "name": "stdout",
     "output_type": "stream",
     "text": [
      "540 "
     ]
    },
    {
     "name": "stderr",
     "output_type": "stream",
     "text": [
      "[I 2019-02-09 15:04:35,504] Finished a trial resulted in value: 0.17513888888888884. Current best value is 0.15708333333333346 with parameters: {'n_estimators': 141, 'gamma': 0.7260861678752946, 'lambda': 0.1406020832695276, 'learning_rate': 0.1415068096803329, 'max_depth': 10, 'subsample': 0.8635523908357677, 'colsample_bytree': 0.5904371111274501, 'min_child_weight': 9.918122754242049}.\n"
     ]
    },
    {
     "name": "stdout",
     "output_type": "stream",
     "text": [
      "541 "
     ]
    },
    {
     "name": "stderr",
     "output_type": "stream",
     "text": [
      "[I 2019-02-09 15:04:40,728] Finished a trial resulted in value: 0.1717320261437909. Current best value is 0.15708333333333346 with parameters: {'n_estimators': 141, 'gamma': 0.7260861678752946, 'lambda': 0.1406020832695276, 'learning_rate': 0.1415068096803329, 'max_depth': 10, 'subsample': 0.8635523908357677, 'colsample_bytree': 0.5904371111274501, 'min_child_weight': 9.918122754242049}.\n"
     ]
    },
    {
     "name": "stdout",
     "output_type": "stream",
     "text": [
      "542 "
     ]
    },
    {
     "name": "stderr",
     "output_type": "stream",
     "text": [
      "[I 2019-02-09 15:04:42,577] Finished a trial resulted in value: 0.18428921568627454. Current best value is 0.15708333333333346 with parameters: {'n_estimators': 141, 'gamma': 0.7260861678752946, 'lambda': 0.1406020832695276, 'learning_rate': 0.1415068096803329, 'max_depth': 10, 'subsample': 0.8635523908357677, 'colsample_bytree': 0.5904371111274501, 'min_child_weight': 9.918122754242049}.\n"
     ]
    },
    {
     "name": "stdout",
     "output_type": "stream",
     "text": [
      "543 "
     ]
    },
    {
     "name": "stderr",
     "output_type": "stream",
     "text": [
      "[I 2019-02-09 15:05:00,394] Finished a trial resulted in value: 0.18191993464052303. Current best value is 0.15708333333333346 with parameters: {'n_estimators': 141, 'gamma': 0.7260861678752946, 'lambda': 0.1406020832695276, 'learning_rate': 0.1415068096803329, 'max_depth': 10, 'subsample': 0.8635523908357677, 'colsample_bytree': 0.5904371111274501, 'min_child_weight': 9.918122754242049}.\n"
     ]
    },
    {
     "name": "stdout",
     "output_type": "stream",
     "text": [
      "544 "
     ]
    },
    {
     "name": "stderr",
     "output_type": "stream",
     "text": [
      "[I 2019-02-09 15:05:03,091] Finished a trial resulted in value: 0.16298202614379076. Current best value is 0.15708333333333346 with parameters: {'n_estimators': 141, 'gamma': 0.7260861678752946, 'lambda': 0.1406020832695276, 'learning_rate': 0.1415068096803329, 'max_depth': 10, 'subsample': 0.8635523908357677, 'colsample_bytree': 0.5904371111274501, 'min_child_weight': 9.918122754242049}.\n"
     ]
    },
    {
     "name": "stdout",
     "output_type": "stream",
     "text": [
      "545 "
     ]
    },
    {
     "name": "stderr",
     "output_type": "stream",
     "text": [
      "[I 2019-02-09 15:05:10,092] Finished a trial resulted in value: 0.16951797385620926. Current best value is 0.15708333333333346 with parameters: {'n_estimators': 141, 'gamma': 0.7260861678752946, 'lambda': 0.1406020832695276, 'learning_rate': 0.1415068096803329, 'max_depth': 10, 'subsample': 0.8635523908357677, 'colsample_bytree': 0.5904371111274501, 'min_child_weight': 9.918122754242049}.\n"
     ]
    },
    {
     "name": "stdout",
     "output_type": "stream",
     "text": [
      "546 "
     ]
    },
    {
     "name": "stderr",
     "output_type": "stream",
     "text": [
      "[I 2019-02-09 15:05:22,091] Finished a trial resulted in value: 0.17271241830065365. Current best value is 0.15708333333333346 with parameters: {'n_estimators': 141, 'gamma': 0.7260861678752946, 'lambda': 0.1406020832695276, 'learning_rate': 0.1415068096803329, 'max_depth': 10, 'subsample': 0.8635523908357677, 'colsample_bytree': 0.5904371111274501, 'min_child_weight': 9.918122754242049}.\n"
     ]
    },
    {
     "name": "stdout",
     "output_type": "stream",
     "text": [
      "547 "
     ]
    },
    {
     "name": "stderr",
     "output_type": "stream",
     "text": [
      "[I 2019-02-09 15:05:23,278] Finished a trial resulted in value: 0.1738807189542484. Current best value is 0.15708333333333346 with parameters: {'n_estimators': 141, 'gamma': 0.7260861678752946, 'lambda': 0.1406020832695276, 'learning_rate': 0.1415068096803329, 'max_depth': 10, 'subsample': 0.8635523908357677, 'colsample_bytree': 0.5904371111274501, 'min_child_weight': 9.918122754242049}.\n"
     ]
    },
    {
     "name": "stdout",
     "output_type": "stream",
     "text": [
      "548 "
     ]
    },
    {
     "name": "stderr",
     "output_type": "stream",
     "text": [
      "[I 2019-02-09 15:05:32,115] Finished a trial resulted in value: 0.17491830065359493. Current best value is 0.15708333333333346 with parameters: {'n_estimators': 141, 'gamma': 0.7260861678752946, 'lambda': 0.1406020832695276, 'learning_rate': 0.1415068096803329, 'max_depth': 10, 'subsample': 0.8635523908357677, 'colsample_bytree': 0.5904371111274501, 'min_child_weight': 9.918122754242049}.\n"
     ]
    },
    {
     "name": "stdout",
     "output_type": "stream",
     "text": [
      "549 "
     ]
    },
    {
     "name": "stderr",
     "output_type": "stream",
     "text": [
      "[I 2019-02-09 15:05:39,218] Finished a trial resulted in value: 0.16957516339869283. Current best value is 0.15708333333333346 with parameters: {'n_estimators': 141, 'gamma': 0.7260861678752946, 'lambda': 0.1406020832695276, 'learning_rate': 0.1415068096803329, 'max_depth': 10, 'subsample': 0.8635523908357677, 'colsample_bytree': 0.5904371111274501, 'min_child_weight': 9.918122754242049}.\n"
     ]
    },
    {
     "name": "stdout",
     "output_type": "stream",
     "text": [
      "550 "
     ]
    },
    {
     "name": "stderr",
     "output_type": "stream",
     "text": [
      "[I 2019-02-09 15:05:45,452] Finished a trial resulted in value: 0.17186274509803923. Current best value is 0.15708333333333346 with parameters: {'n_estimators': 141, 'gamma': 0.7260861678752946, 'lambda': 0.1406020832695276, 'learning_rate': 0.1415068096803329, 'max_depth': 10, 'subsample': 0.8635523908357677, 'colsample_bytree': 0.5904371111274501, 'min_child_weight': 9.918122754242049}.\n"
     ]
    },
    {
     "name": "stdout",
     "output_type": "stream",
     "text": [
      "551 "
     ]
    },
    {
     "name": "stderr",
     "output_type": "stream",
     "text": [
      "[I 2019-02-09 15:05:55,637] Finished a trial resulted in value: 0.1731127450980392. Current best value is 0.15708333333333346 with parameters: {'n_estimators': 141, 'gamma': 0.7260861678752946, 'lambda': 0.1406020832695276, 'learning_rate': 0.1415068096803329, 'max_depth': 10, 'subsample': 0.8635523908357677, 'colsample_bytree': 0.5904371111274501, 'min_child_weight': 9.918122754242049}.\n"
     ]
    },
    {
     "name": "stdout",
     "output_type": "stream",
     "text": [
      "552 "
     ]
    },
    {
     "name": "stderr",
     "output_type": "stream",
     "text": [
      "[I 2019-02-09 15:06:02,805] Finished a trial resulted in value: 0.16728758169934654. Current best value is 0.15708333333333346 with parameters: {'n_estimators': 141, 'gamma': 0.7260861678752946, 'lambda': 0.1406020832695276, 'learning_rate': 0.1415068096803329, 'max_depth': 10, 'subsample': 0.8635523908357677, 'colsample_bytree': 0.5904371111274501, 'min_child_weight': 9.918122754242049}.\n"
     ]
    },
    {
     "name": "stdout",
     "output_type": "stream",
     "text": [
      "553 "
     ]
    },
    {
     "name": "stderr",
     "output_type": "stream",
     "text": [
      "[I 2019-02-09 15:06:07,728] Finished a trial resulted in value: 0.16284313725490196. Current best value is 0.15708333333333346 with parameters: {'n_estimators': 141, 'gamma': 0.7260861678752946, 'lambda': 0.1406020832695276, 'learning_rate': 0.1415068096803329, 'max_depth': 10, 'subsample': 0.8635523908357677, 'colsample_bytree': 0.5904371111274501, 'min_child_weight': 9.918122754242049}.\n"
     ]
    },
    {
     "name": "stdout",
     "output_type": "stream",
     "text": [
      "554 "
     ]
    },
    {
     "name": "stderr",
     "output_type": "stream",
     "text": [
      "[I 2019-02-09 15:06:15,097] Finished a trial resulted in value: 0.1706862745098039. Current best value is 0.15708333333333346 with parameters: {'n_estimators': 141, 'gamma': 0.7260861678752946, 'lambda': 0.1406020832695276, 'learning_rate': 0.1415068096803329, 'max_depth': 10, 'subsample': 0.8635523908357677, 'colsample_bytree': 0.5904371111274501, 'min_child_weight': 9.918122754242049}.\n"
     ]
    },
    {
     "name": "stdout",
     "output_type": "stream",
     "text": [
      "555 "
     ]
    },
    {
     "name": "stderr",
     "output_type": "stream",
     "text": [
      "[I 2019-02-09 15:06:19,396] Finished a trial resulted in value: 0.16833333333333345. Current best value is 0.15708333333333346 with parameters: {'n_estimators': 141, 'gamma': 0.7260861678752946, 'lambda': 0.1406020832695276, 'learning_rate': 0.1415068096803329, 'max_depth': 10, 'subsample': 0.8635523908357677, 'colsample_bytree': 0.5904371111274501, 'min_child_weight': 9.918122754242049}.\n"
     ]
    },
    {
     "name": "stdout",
     "output_type": "stream",
     "text": [
      "556 "
     ]
    },
    {
     "name": "stderr",
     "output_type": "stream",
     "text": [
      "[I 2019-02-09 15:06:33,147] Finished a trial resulted in value: 0.16624183006535953. Current best value is 0.15708333333333346 with parameters: {'n_estimators': 141, 'gamma': 0.7260861678752946, 'lambda': 0.1406020832695276, 'learning_rate': 0.1415068096803329, 'max_depth': 10, 'subsample': 0.8635523908357677, 'colsample_bytree': 0.5904371111274501, 'min_child_weight': 9.918122754242049}.\n"
     ]
    },
    {
     "name": "stdout",
     "output_type": "stream",
     "text": [
      "557 "
     ]
    },
    {
     "name": "stderr",
     "output_type": "stream",
     "text": [
      "[I 2019-02-09 15:06:34,561] Finished a trial resulted in value: 0.23911764705882343. Current best value is 0.15708333333333346 with parameters: {'n_estimators': 141, 'gamma': 0.7260861678752946, 'lambda': 0.1406020832695276, 'learning_rate': 0.1415068096803329, 'max_depth': 10, 'subsample': 0.8635523908357677, 'colsample_bytree': 0.5904371111274501, 'min_child_weight': 9.918122754242049}.\n"
     ]
    },
    {
     "name": "stdout",
     "output_type": "stream",
     "text": [
      "558 "
     ]
    },
    {
     "name": "stderr",
     "output_type": "stream",
     "text": [
      "[I 2019-02-09 15:06:39,460] Finished a trial resulted in value: 0.1717320261437908. Current best value is 0.15708333333333346 with parameters: {'n_estimators': 141, 'gamma': 0.7260861678752946, 'lambda': 0.1406020832695276, 'learning_rate': 0.1415068096803329, 'max_depth': 10, 'subsample': 0.8635523908357677, 'colsample_bytree': 0.5904371111274501, 'min_child_weight': 9.918122754242049}.\n"
     ]
    },
    {
     "name": "stdout",
     "output_type": "stream",
     "text": [
      "559 "
     ]
    },
    {
     "name": "stderr",
     "output_type": "stream",
     "text": [
      "[I 2019-02-09 15:06:50,764] Finished a trial resulted in value: 0.1717320261437909. Current best value is 0.15708333333333346 with parameters: {'n_estimators': 141, 'gamma': 0.7260861678752946, 'lambda': 0.1406020832695276, 'learning_rate': 0.1415068096803329, 'max_depth': 10, 'subsample': 0.8635523908357677, 'colsample_bytree': 0.5904371111274501, 'min_child_weight': 9.918122754242049}.\n"
     ]
    },
    {
     "name": "stdout",
     "output_type": "stream",
     "text": [
      "560 "
     ]
    },
    {
     "name": "stderr",
     "output_type": "stream",
     "text": [
      "[I 2019-02-09 15:06:57,265] Finished a trial resulted in value: 0.17714869281045764. Current best value is 0.15708333333333346 with parameters: {'n_estimators': 141, 'gamma': 0.7260861678752946, 'lambda': 0.1406020832695276, 'learning_rate': 0.1415068096803329, 'max_depth': 10, 'subsample': 0.8635523908357677, 'colsample_bytree': 0.5904371111274501, 'min_child_weight': 9.918122754242049}.\n"
     ]
    },
    {
     "name": "stdout",
     "output_type": "stream",
     "text": [
      "561 "
     ]
    },
    {
     "name": "stderr",
     "output_type": "stream",
     "text": [
      "[I 2019-02-09 15:07:11,134] Finished a trial resulted in value: 0.17388888888888887. Current best value is 0.15708333333333346 with parameters: {'n_estimators': 141, 'gamma': 0.7260861678752946, 'lambda': 0.1406020832695276, 'learning_rate': 0.1415068096803329, 'max_depth': 10, 'subsample': 0.8635523908357677, 'colsample_bytree': 0.5904371111274501, 'min_child_weight': 9.918122754242049}.\n"
     ]
    },
    {
     "name": "stdout",
     "output_type": "stream",
     "text": [
      "562 "
     ]
    },
    {
     "name": "stderr",
     "output_type": "stream",
     "text": [
      "[I 2019-02-09 15:07:18,719] Finished a trial resulted in value: 0.1594444444444444. Current best value is 0.15708333333333346 with parameters: {'n_estimators': 141, 'gamma': 0.7260861678752946, 'lambda': 0.1406020832695276, 'learning_rate': 0.1415068096803329, 'max_depth': 10, 'subsample': 0.8635523908357677, 'colsample_bytree': 0.5904371111274501, 'min_child_weight': 9.918122754242049}.\n"
     ]
    },
    {
     "name": "stdout",
     "output_type": "stream",
     "text": [
      "563 "
     ]
    },
    {
     "name": "stderr",
     "output_type": "stream",
     "text": [
      "[I 2019-02-09 15:07:23,717] Finished a trial resulted in value: 0.16271241830065353. Current best value is 0.15708333333333346 with parameters: {'n_estimators': 141, 'gamma': 0.7260861678752946, 'lambda': 0.1406020832695276, 'learning_rate': 0.1415068096803329, 'max_depth': 10, 'subsample': 0.8635523908357677, 'colsample_bytree': 0.5904371111274501, 'min_child_weight': 9.918122754242049}.\n"
     ]
    },
    {
     "name": "stdout",
     "output_type": "stream",
     "text": [
      "564 "
     ]
    },
    {
     "name": "stderr",
     "output_type": "stream",
     "text": [
      "[I 2019-02-09 15:07:29,384] Finished a trial resulted in value: 0.17519607843137264. Current best value is 0.15708333333333346 with parameters: {'n_estimators': 141, 'gamma': 0.7260861678752946, 'lambda': 0.1406020832695276, 'learning_rate': 0.1415068096803329, 'max_depth': 10, 'subsample': 0.8635523908357677, 'colsample_bytree': 0.5904371111274501, 'min_child_weight': 9.918122754242049}.\n"
     ]
    },
    {
     "name": "stdout",
     "output_type": "stream",
     "text": [
      "565 "
     ]
    },
    {
     "name": "stderr",
     "output_type": "stream",
     "text": [
      "[I 2019-02-09 15:07:33,362] Finished a trial resulted in value: 0.16381535947712422. Current best value is 0.15708333333333346 with parameters: {'n_estimators': 141, 'gamma': 0.7260861678752946, 'lambda': 0.1406020832695276, 'learning_rate': 0.1415068096803329, 'max_depth': 10, 'subsample': 0.8635523908357677, 'colsample_bytree': 0.5904371111274501, 'min_child_weight': 9.918122754242049}.\n"
     ]
    },
    {
     "name": "stdout",
     "output_type": "stream",
     "text": [
      "566 "
     ]
    },
    {
     "name": "stderr",
     "output_type": "stream",
     "text": [
      "[I 2019-02-09 15:07:39,717] Finished a trial resulted in value: 0.16957516339869305. Current best value is 0.15708333333333346 with parameters: {'n_estimators': 141, 'gamma': 0.7260861678752946, 'lambda': 0.1406020832695276, 'learning_rate': 0.1415068096803329, 'max_depth': 10, 'subsample': 0.8635523908357677, 'colsample_bytree': 0.5904371111274501, 'min_child_weight': 9.918122754242049}.\n"
     ]
    },
    {
     "name": "stdout",
     "output_type": "stream",
     "text": [
      "567 "
     ]
    },
    {
     "name": "stderr",
     "output_type": "stream",
     "text": [
      "[I 2019-02-09 15:07:43,135] Finished a trial resulted in value: 0.17970588235294116. Current best value is 0.15708333333333346 with parameters: {'n_estimators': 141, 'gamma': 0.7260861678752946, 'lambda': 0.1406020832695276, 'learning_rate': 0.1415068096803329, 'max_depth': 10, 'subsample': 0.8635523908357677, 'colsample_bytree': 0.5904371111274501, 'min_child_weight': 9.918122754242049}.\n"
     ]
    },
    {
     "name": "stdout",
     "output_type": "stream",
     "text": [
      "568 "
     ]
    },
    {
     "name": "stderr",
     "output_type": "stream",
     "text": [
      "[I 2019-02-09 15:07:45,938] Finished a trial resulted in value: 0.1604820261437908. Current best value is 0.15708333333333346 with parameters: {'n_estimators': 141, 'gamma': 0.7260861678752946, 'lambda': 0.1406020832695276, 'learning_rate': 0.1415068096803329, 'max_depth': 10, 'subsample': 0.8635523908357677, 'colsample_bytree': 0.5904371111274501, 'min_child_weight': 9.918122754242049}.\n"
     ]
    },
    {
     "name": "stdout",
     "output_type": "stream",
     "text": [
      "569 "
     ]
    },
    {
     "name": "stderr",
     "output_type": "stream",
     "text": [
      "[I 2019-02-09 15:07:50,609] Finished a trial resulted in value: 0.1673529411764707. Current best value is 0.15708333333333346 with parameters: {'n_estimators': 141, 'gamma': 0.7260861678752946, 'lambda': 0.1406020832695276, 'learning_rate': 0.1415068096803329, 'max_depth': 10, 'subsample': 0.8635523908357677, 'colsample_bytree': 0.5904371111274501, 'min_child_weight': 9.918122754242049}.\n"
     ]
    },
    {
     "name": "stdout",
     "output_type": "stream",
     "text": [
      "570 "
     ]
    },
    {
     "name": "stderr",
     "output_type": "stream",
     "text": [
      "[I 2019-02-09 15:07:56,663] Finished a trial resulted in value: 0.16819444444444442. Current best value is 0.15708333333333346 with parameters: {'n_estimators': 141, 'gamma': 0.7260861678752946, 'lambda': 0.1406020832695276, 'learning_rate': 0.1415068096803329, 'max_depth': 10, 'subsample': 0.8635523908357677, 'colsample_bytree': 0.5904371111274501, 'min_child_weight': 9.918122754242049}.\n"
     ]
    },
    {
     "name": "stdout",
     "output_type": "stream",
     "text": [
      "571 "
     ]
    },
    {
     "name": "stderr",
     "output_type": "stream",
     "text": [
      "[I 2019-02-09 15:08:05,126] Finished a trial resulted in value: 0.16617647058823537. Current best value is 0.15708333333333346 with parameters: {'n_estimators': 141, 'gamma': 0.7260861678752946, 'lambda': 0.1406020832695276, 'learning_rate': 0.1415068096803329, 'max_depth': 10, 'subsample': 0.8635523908357677, 'colsample_bytree': 0.5904371111274501, 'min_child_weight': 9.918122754242049}.\n"
     ]
    },
    {
     "name": "stdout",
     "output_type": "stream",
     "text": [
      "572 "
     ]
    },
    {
     "name": "stderr",
     "output_type": "stream",
     "text": [
      "[I 2019-02-09 15:08:09,162] Finished a trial resulted in value: 0.18552287581699345. Current best value is 0.15708333333333346 with parameters: {'n_estimators': 141, 'gamma': 0.7260861678752946, 'lambda': 0.1406020832695276, 'learning_rate': 0.1415068096803329, 'max_depth': 10, 'subsample': 0.8635523908357677, 'colsample_bytree': 0.5904371111274501, 'min_child_weight': 9.918122754242049}.\n"
     ]
    },
    {
     "name": "stdout",
     "output_type": "stream",
     "text": [
      "573 "
     ]
    },
    {
     "name": "stderr",
     "output_type": "stream",
     "text": [
      "[I 2019-02-09 15:08:13,783] Finished a trial resulted in value: 0.1650653594771242. Current best value is 0.15708333333333346 with parameters: {'n_estimators': 141, 'gamma': 0.7260861678752946, 'lambda': 0.1406020832695276, 'learning_rate': 0.1415068096803329, 'max_depth': 10, 'subsample': 0.8635523908357677, 'colsample_bytree': 0.5904371111274501, 'min_child_weight': 9.918122754242049}.\n"
     ]
    },
    {
     "name": "stdout",
     "output_type": "stream",
     "text": [
      "574 "
     ]
    },
    {
     "name": "stderr",
     "output_type": "stream",
     "text": [
      "[I 2019-02-09 15:08:17,296] Finished a trial resulted in value: 0.16276960784313732. Current best value is 0.15708333333333346 with parameters: {'n_estimators': 141, 'gamma': 0.7260861678752946, 'lambda': 0.1406020832695276, 'learning_rate': 0.1415068096803329, 'max_depth': 10, 'subsample': 0.8635523908357677, 'colsample_bytree': 0.5904371111274501, 'min_child_weight': 9.918122754242049}.\n"
     ]
    },
    {
     "name": "stdout",
     "output_type": "stream",
     "text": [
      "575 "
     ]
    },
    {
     "name": "stderr",
     "output_type": "stream",
     "text": [
      "[I 2019-02-09 15:08:24,378] Finished a trial resulted in value: 0.1673529411764706. Current best value is 0.15708333333333346 with parameters: {'n_estimators': 141, 'gamma': 0.7260861678752946, 'lambda': 0.1406020832695276, 'learning_rate': 0.1415068096803329, 'max_depth': 10, 'subsample': 0.8635523908357677, 'colsample_bytree': 0.5904371111274501, 'min_child_weight': 9.918122754242049}.\n"
     ]
    },
    {
     "name": "stdout",
     "output_type": "stream",
     "text": [
      "576 "
     ]
    },
    {
     "name": "stderr",
     "output_type": "stream",
     "text": [
      "[I 2019-02-09 15:08:27,313] Finished a trial resulted in value: 0.20650326797385632. Current best value is 0.15708333333333346 with parameters: {'n_estimators': 141, 'gamma': 0.7260861678752946, 'lambda': 0.1406020832695276, 'learning_rate': 0.1415068096803329, 'max_depth': 10, 'subsample': 0.8635523908357677, 'colsample_bytree': 0.5904371111274501, 'min_child_weight': 9.918122754242049}.\n"
     ]
    },
    {
     "name": "stdout",
     "output_type": "stream",
     "text": [
      "577 "
     ]
    },
    {
     "name": "stderr",
     "output_type": "stream",
     "text": [
      "[I 2019-02-09 15:08:29,779] Finished a trial resulted in value: 0.17504901960784314. Current best value is 0.15708333333333346 with parameters: {'n_estimators': 141, 'gamma': 0.7260861678752946, 'lambda': 0.1406020832695276, 'learning_rate': 0.1415068096803329, 'max_depth': 10, 'subsample': 0.8635523908357677, 'colsample_bytree': 0.5904371111274501, 'min_child_weight': 9.918122754242049}.\n"
     ]
    },
    {
     "name": "stdout",
     "output_type": "stream",
     "text": [
      "578 "
     ]
    },
    {
     "name": "stderr",
     "output_type": "stream",
     "text": [
      "[I 2019-02-09 15:08:31,623] Finished a trial resulted in value: 0.18381535947712424. Current best value is 0.15708333333333346 with parameters: {'n_estimators': 141, 'gamma': 0.7260861678752946, 'lambda': 0.1406020832695276, 'learning_rate': 0.1415068096803329, 'max_depth': 10, 'subsample': 0.8635523908357677, 'colsample_bytree': 0.5904371111274501, 'min_child_weight': 9.918122754242049}.\n"
     ]
    },
    {
     "name": "stdout",
     "output_type": "stream",
     "text": [
      "579 "
     ]
    },
    {
     "name": "stderr",
     "output_type": "stream",
     "text": [
      "[I 2019-02-09 15:08:34,699] Finished a trial resulted in value: 0.16048202614379092. Current best value is 0.15708333333333346 with parameters: {'n_estimators': 141, 'gamma': 0.7260861678752946, 'lambda': 0.1406020832695276, 'learning_rate': 0.1415068096803329, 'max_depth': 10, 'subsample': 0.8635523908357677, 'colsample_bytree': 0.5904371111274501, 'min_child_weight': 9.918122754242049}.\n"
     ]
    },
    {
     "name": "stdout",
     "output_type": "stream",
     "text": [
      "580 "
     ]
    },
    {
     "name": "stderr",
     "output_type": "stream",
     "text": [
      "[I 2019-02-09 15:08:37,405] Finished a trial resulted in value: 0.17380718954248364. Current best value is 0.15708333333333346 with parameters: {'n_estimators': 141, 'gamma': 0.7260861678752946, 'lambda': 0.1406020832695276, 'learning_rate': 0.1415068096803329, 'max_depth': 10, 'subsample': 0.8635523908357677, 'colsample_bytree': 0.5904371111274501, 'min_child_weight': 9.918122754242049}.\n"
     ]
    },
    {
     "name": "stdout",
     "output_type": "stream",
     "text": [
      "581 "
     ]
    },
    {
     "name": "stderr",
     "output_type": "stream",
     "text": [
      "[I 2019-02-09 15:08:38,813] Finished a trial resulted in value: 0.18630718954248382. Current best value is 0.15708333333333346 with parameters: {'n_estimators': 141, 'gamma': 0.7260861678752946, 'lambda': 0.1406020832695276, 'learning_rate': 0.1415068096803329, 'max_depth': 10, 'subsample': 0.8635523908357677, 'colsample_bytree': 0.5904371111274501, 'min_child_weight': 9.918122754242049}.\n"
     ]
    },
    {
     "name": "stdout",
     "output_type": "stream",
     "text": [
      "582 "
     ]
    },
    {
     "name": "stderr",
     "output_type": "stream",
     "text": [
      "[I 2019-02-09 15:08:39,522] Finished a trial resulted in value: 0.199452614379085. Current best value is 0.15708333333333346 with parameters: {'n_estimators': 141, 'gamma': 0.7260861678752946, 'lambda': 0.1406020832695276, 'learning_rate': 0.1415068096803329, 'max_depth': 10, 'subsample': 0.8635523908357677, 'colsample_bytree': 0.5904371111274501, 'min_child_weight': 9.918122754242049}.\n"
     ]
    },
    {
     "name": "stdout",
     "output_type": "stream",
     "text": [
      "583 "
     ]
    },
    {
     "name": "stderr",
     "output_type": "stream",
     "text": [
      "[I 2019-02-09 15:08:42,749] Finished a trial resulted in value: 0.16603758169934646. Current best value is 0.15708333333333346 with parameters: {'n_estimators': 141, 'gamma': 0.7260861678752946, 'lambda': 0.1406020832695276, 'learning_rate': 0.1415068096803329, 'max_depth': 10, 'subsample': 0.8635523908357677, 'colsample_bytree': 0.5904371111274501, 'min_child_weight': 9.918122754242049}.\n"
     ]
    },
    {
     "name": "stdout",
     "output_type": "stream",
     "text": [
      "584 "
     ]
    },
    {
     "name": "stderr",
     "output_type": "stream",
     "text": [
      "[I 2019-02-09 15:08:46,313] Finished a trial resulted in value: 0.17172385620915032. Current best value is 0.15708333333333346 with parameters: {'n_estimators': 141, 'gamma': 0.7260861678752946, 'lambda': 0.1406020832695276, 'learning_rate': 0.1415068096803329, 'max_depth': 10, 'subsample': 0.8635523908357677, 'colsample_bytree': 0.5904371111274501, 'min_child_weight': 9.918122754242049}.\n"
     ]
    },
    {
     "name": "stdout",
     "output_type": "stream",
     "text": [
      "585 "
     ]
    },
    {
     "name": "stderr",
     "output_type": "stream",
     "text": [
      "[I 2019-02-09 15:08:47,477] Finished a trial resulted in value: 0.19205882352941184. Current best value is 0.15708333333333346 with parameters: {'n_estimators': 141, 'gamma': 0.7260861678752946, 'lambda': 0.1406020832695276, 'learning_rate': 0.1415068096803329, 'max_depth': 10, 'subsample': 0.8635523908357677, 'colsample_bytree': 0.5904371111274501, 'min_child_weight': 9.918122754242049}.\n"
     ]
    },
    {
     "name": "stdout",
     "output_type": "stream",
     "text": [
      "586 "
     ]
    },
    {
     "name": "stderr",
     "output_type": "stream",
     "text": [
      "[I 2019-02-09 15:08:50,178] Finished a trial resulted in value: 0.17151960784313725. Current best value is 0.15708333333333346 with parameters: {'n_estimators': 141, 'gamma': 0.7260861678752946, 'lambda': 0.1406020832695276, 'learning_rate': 0.1415068096803329, 'max_depth': 10, 'subsample': 0.8635523908357677, 'colsample_bytree': 0.5904371111274501, 'min_child_weight': 9.918122754242049}.\n"
     ]
    },
    {
     "name": "stdout",
     "output_type": "stream",
     "text": [
      "587 "
     ]
    },
    {
     "name": "stderr",
     "output_type": "stream",
     "text": [
      "[I 2019-02-09 15:08:52,179] Finished a trial resulted in value: 0.17047385620915034. Current best value is 0.15708333333333346 with parameters: {'n_estimators': 141, 'gamma': 0.7260861678752946, 'lambda': 0.1406020832695276, 'learning_rate': 0.1415068096803329, 'max_depth': 10, 'subsample': 0.8635523908357677, 'colsample_bytree': 0.5904371111274501, 'min_child_weight': 9.918122754242049}.\n"
     ]
    },
    {
     "name": "stdout",
     "output_type": "stream",
     "text": [
      "588 "
     ]
    },
    {
     "name": "stderr",
     "output_type": "stream",
     "text": [
      "[I 2019-02-09 15:08:55,830] Finished a trial resulted in value: 0.1627777777777777. Current best value is 0.15708333333333346 with parameters: {'n_estimators': 141, 'gamma': 0.7260861678752946, 'lambda': 0.1406020832695276, 'learning_rate': 0.1415068096803329, 'max_depth': 10, 'subsample': 0.8635523908357677, 'colsample_bytree': 0.5904371111274501, 'min_child_weight': 9.918122754242049}.\n"
     ]
    },
    {
     "name": "stdout",
     "output_type": "stream",
     "text": [
      "589 "
     ]
    },
    {
     "name": "stderr",
     "output_type": "stream",
     "text": [
      "[I 2019-02-09 15:09:00,276] Finished a trial resulted in value: 0.16381535947712422. Current best value is 0.15708333333333346 with parameters: {'n_estimators': 141, 'gamma': 0.7260861678752946, 'lambda': 0.1406020832695276, 'learning_rate': 0.1415068096803329, 'max_depth': 10, 'subsample': 0.8635523908357677, 'colsample_bytree': 0.5904371111274501, 'min_child_weight': 9.918122754242049}.\n"
     ]
    },
    {
     "name": "stdout",
     "output_type": "stream",
     "text": [
      "590 "
     ]
    },
    {
     "name": "stderr",
     "output_type": "stream",
     "text": [
      "[I 2019-02-09 15:09:02,847] Finished a trial resulted in value: 0.17290032679738554. Current best value is 0.15708333333333346 with parameters: {'n_estimators': 141, 'gamma': 0.7260861678752946, 'lambda': 0.1406020832695276, 'learning_rate': 0.1415068096803329, 'max_depth': 10, 'subsample': 0.8635523908357677, 'colsample_bytree': 0.5904371111274501, 'min_child_weight': 9.918122754242049}.\n"
     ]
    },
    {
     "name": "stdout",
     "output_type": "stream",
     "text": [
      "591 "
     ]
    },
    {
     "name": "stderr",
     "output_type": "stream",
     "text": [
      "[I 2019-02-09 15:09:06,431] Finished a trial resulted in value: 0.17159313725490188. Current best value is 0.15708333333333346 with parameters: {'n_estimators': 141, 'gamma': 0.7260861678752946, 'lambda': 0.1406020832695276, 'learning_rate': 0.1415068096803329, 'max_depth': 10, 'subsample': 0.8635523908357677, 'colsample_bytree': 0.5904371111274501, 'min_child_weight': 9.918122754242049}.\n"
     ]
    },
    {
     "name": "stdout",
     "output_type": "stream",
     "text": [
      "592 "
     ]
    },
    {
     "name": "stderr",
     "output_type": "stream",
     "text": [
      "[I 2019-02-09 15:09:11,515] Finished a trial resulted in value: 0.16957516339869283. Current best value is 0.15708333333333346 with parameters: {'n_estimators': 141, 'gamma': 0.7260861678752946, 'lambda': 0.1406020832695276, 'learning_rate': 0.1415068096803329, 'max_depth': 10, 'subsample': 0.8635523908357677, 'colsample_bytree': 0.5904371111274501, 'min_child_weight': 9.918122754242049}.\n"
     ]
    },
    {
     "name": "stdout",
     "output_type": "stream",
     "text": [
      "593 "
     ]
    },
    {
     "name": "stderr",
     "output_type": "stream",
     "text": [
      "[I 2019-02-09 15:09:12,706] Finished a trial resulted in value: 0.1798366013071896. Current best value is 0.15708333333333346 with parameters: {'n_estimators': 141, 'gamma': 0.7260861678752946, 'lambda': 0.1406020832695276, 'learning_rate': 0.1415068096803329, 'max_depth': 10, 'subsample': 0.8635523908357677, 'colsample_bytree': 0.5904371111274501, 'min_child_weight': 9.918122754242049}.\n"
     ]
    },
    {
     "name": "stdout",
     "output_type": "stream",
     "text": [
      "594 "
     ]
    },
    {
     "name": "stderr",
     "output_type": "stream",
     "text": [
      "[I 2019-02-09 15:09:13,403] Finished a trial resulted in value: 0.20265522875816988. Current best value is 0.15708333333333346 with parameters: {'n_estimators': 141, 'gamma': 0.7260861678752946, 'lambda': 0.1406020832695276, 'learning_rate': 0.1415068096803329, 'max_depth': 10, 'subsample': 0.8635523908357677, 'colsample_bytree': 0.5904371111274501, 'min_child_weight': 9.918122754242049}.\n"
     ]
    },
    {
     "name": "stdout",
     "output_type": "stream",
     "text": [
      "595 "
     ]
    },
    {
     "name": "stderr",
     "output_type": "stream",
     "text": [
      "[I 2019-02-09 15:09:18,120] Finished a trial resulted in value: 0.16957516339869283. Current best value is 0.15708333333333346 with parameters: {'n_estimators': 141, 'gamma': 0.7260861678752946, 'lambda': 0.1406020832695276, 'learning_rate': 0.1415068096803329, 'max_depth': 10, 'subsample': 0.8635523908357677, 'colsample_bytree': 0.5904371111274501, 'min_child_weight': 9.918122754242049}.\n"
     ]
    },
    {
     "name": "stdout",
     "output_type": "stream",
     "text": [
      "596 "
     ]
    },
    {
     "name": "stderr",
     "output_type": "stream",
     "text": [
      "[I 2019-02-09 15:09:24,560] Finished a trial resulted in value: 0.17062091503267984. Current best value is 0.15708333333333346 with parameters: {'n_estimators': 141, 'gamma': 0.7260861678752946, 'lambda': 0.1406020832695276, 'learning_rate': 0.1415068096803329, 'max_depth': 10, 'subsample': 0.8635523908357677, 'colsample_bytree': 0.5904371111274501, 'min_child_weight': 9.918122754242049}.\n"
     ]
    },
    {
     "name": "stdout",
     "output_type": "stream",
     "text": [
      "597 "
     ]
    },
    {
     "name": "stderr",
     "output_type": "stream",
     "text": [
      "[I 2019-02-09 15:09:27,794] Finished a trial resulted in value: 0.16610294117647062. Current best value is 0.15708333333333346 with parameters: {'n_estimators': 141, 'gamma': 0.7260861678752946, 'lambda': 0.1406020832695276, 'learning_rate': 0.1415068096803329, 'max_depth': 10, 'subsample': 0.8635523908357677, 'colsample_bytree': 0.5904371111274501, 'min_child_weight': 9.918122754242049}.\n"
     ]
    },
    {
     "name": "stdout",
     "output_type": "stream",
     "text": [
      "598 "
     ]
    },
    {
     "name": "stderr",
     "output_type": "stream",
     "text": [
      "[I 2019-02-09 15:09:31,553] Finished a trial resulted in value: 0.17067810457516341. Current best value is 0.15708333333333346 with parameters: {'n_estimators': 141, 'gamma': 0.7260861678752946, 'lambda': 0.1406020832695276, 'learning_rate': 0.1415068096803329, 'max_depth': 10, 'subsample': 0.8635523908357677, 'colsample_bytree': 0.5904371111274501, 'min_child_weight': 9.918122754242049}.\n"
     ]
    },
    {
     "name": "stdout",
     "output_type": "stream",
     "text": [
      "599 "
     ]
    },
    {
     "name": "stderr",
     "output_type": "stream",
     "text": [
      "[I 2019-02-09 15:09:36,196] Finished a trial resulted in value: 0.16714869281045763. Current best value is 0.15708333333333346 with parameters: {'n_estimators': 141, 'gamma': 0.7260861678752946, 'lambda': 0.1406020832695276, 'learning_rate': 0.1415068096803329, 'max_depth': 10, 'subsample': 0.8635523908357677, 'colsample_bytree': 0.5904371111274501, 'min_child_weight': 9.918122754242049}.\n"
     ]
    },
    {
     "name": "stdout",
     "output_type": "stream",
     "text": [
      "600 "
     ]
    },
    {
     "name": "stderr",
     "output_type": "stream",
     "text": [
      "[I 2019-02-09 15:09:38,241] Finished a trial resulted in value: 0.16721405228758168. Current best value is 0.15708333333333346 with parameters: {'n_estimators': 141, 'gamma': 0.7260861678752946, 'lambda': 0.1406020832695276, 'learning_rate': 0.1415068096803329, 'max_depth': 10, 'subsample': 0.8635523908357677, 'colsample_bytree': 0.5904371111274501, 'min_child_weight': 9.918122754242049}.\n"
     ]
    },
    {
     "name": "stdout",
     "output_type": "stream",
     "text": [
      "601 "
     ]
    },
    {
     "name": "stderr",
     "output_type": "stream",
     "text": [
      "[I 2019-02-09 15:09:46,363] Finished a trial resulted in value: 0.1640196078431373. Current best value is 0.15708333333333346 with parameters: {'n_estimators': 141, 'gamma': 0.7260861678752946, 'lambda': 0.1406020832695276, 'learning_rate': 0.1415068096803329, 'max_depth': 10, 'subsample': 0.8635523908357677, 'colsample_bytree': 0.5904371111274501, 'min_child_weight': 9.918122754242049}.\n"
     ]
    },
    {
     "name": "stdout",
     "output_type": "stream",
     "text": [
      "602 "
     ]
    },
    {
     "name": "stderr",
     "output_type": "stream",
     "text": [
      "[I 2019-02-09 15:09:48,155] Finished a trial resulted in value: 0.17499183006535957. Current best value is 0.15708333333333346 with parameters: {'n_estimators': 141, 'gamma': 0.7260861678752946, 'lambda': 0.1406020832695276, 'learning_rate': 0.1415068096803329, 'max_depth': 10, 'subsample': 0.8635523908357677, 'colsample_bytree': 0.5904371111274501, 'min_child_weight': 9.918122754242049}.\n"
     ]
    },
    {
     "name": "stdout",
     "output_type": "stream",
     "text": [
      "603 "
     ]
    },
    {
     "name": "stderr",
     "output_type": "stream",
     "text": [
      "[I 2019-02-09 15:09:52,174] Finished a trial resulted in value: 0.17734477124183. Current best value is 0.15708333333333346 with parameters: {'n_estimators': 141, 'gamma': 0.7260861678752946, 'lambda': 0.1406020832695276, 'learning_rate': 0.1415068096803329, 'max_depth': 10, 'subsample': 0.8635523908357677, 'colsample_bytree': 0.5904371111274501, 'min_child_weight': 9.918122754242049}.\n"
     ]
    },
    {
     "name": "stdout",
     "output_type": "stream",
     "text": [
      "604 "
     ]
    },
    {
     "name": "stderr",
     "output_type": "stream",
     "text": [
      "[I 2019-02-09 15:09:58,636] Finished a trial resulted in value: 0.17499183006535957. Current best value is 0.15708333333333346 with parameters: {'n_estimators': 141, 'gamma': 0.7260861678752946, 'lambda': 0.1406020832695276, 'learning_rate': 0.1415068096803329, 'max_depth': 10, 'subsample': 0.8635523908357677, 'colsample_bytree': 0.5904371111274501, 'min_child_weight': 9.918122754242049}.\n"
     ]
    },
    {
     "name": "stdout",
     "output_type": "stream",
     "text": [
      "605 "
     ]
    },
    {
     "name": "stderr",
     "output_type": "stream",
     "text": [
      "[I 2019-02-09 15:10:01,458] Finished a trial resulted in value: 0.1682598039215687. Current best value is 0.15708333333333346 with parameters: {'n_estimators': 141, 'gamma': 0.7260861678752946, 'lambda': 0.1406020832695276, 'learning_rate': 0.1415068096803329, 'max_depth': 10, 'subsample': 0.8635523908357677, 'colsample_bytree': 0.5904371111274501, 'min_child_weight': 9.918122754242049}.\n"
     ]
    },
    {
     "name": "stdout",
     "output_type": "stream",
     "text": [
      "606 "
     ]
    },
    {
     "name": "stderr",
     "output_type": "stream",
     "text": [
      "[I 2019-02-09 15:10:05,424] Finished a trial resulted in value: 0.16284313725490196. Current best value is 0.15708333333333346 with parameters: {'n_estimators': 141, 'gamma': 0.7260861678752946, 'lambda': 0.1406020832695276, 'learning_rate': 0.1415068096803329, 'max_depth': 10, 'subsample': 0.8635523908357677, 'colsample_bytree': 0.5904371111274501, 'min_child_weight': 9.918122754242049}.\n"
     ]
    },
    {
     "name": "stdout",
     "output_type": "stream",
     "text": [
      "607 "
     ]
    },
    {
     "name": "stderr",
     "output_type": "stream",
     "text": [
      "[I 2019-02-09 15:10:10,913] Finished a trial resulted in value: 0.16513071895424847. Current best value is 0.15708333333333346 with parameters: {'n_estimators': 141, 'gamma': 0.7260861678752946, 'lambda': 0.1406020832695276, 'learning_rate': 0.1415068096803329, 'max_depth': 10, 'subsample': 0.8635523908357677, 'colsample_bytree': 0.5904371111274501, 'min_child_weight': 9.918122754242049}.\n"
     ]
    },
    {
     "name": "stdout",
     "output_type": "stream",
     "text": [
      "608 "
     ]
    },
    {
     "name": "stderr",
     "output_type": "stream",
     "text": [
      "[I 2019-02-09 15:10:16,497] Finished a trial resulted in value: 0.16284313725490196. Current best value is 0.15708333333333346 with parameters: {'n_estimators': 141, 'gamma': 0.7260861678752946, 'lambda': 0.1406020832695276, 'learning_rate': 0.1415068096803329, 'max_depth': 10, 'subsample': 0.8635523908357677, 'colsample_bytree': 0.5904371111274501, 'min_child_weight': 9.918122754242049}.\n"
     ]
    },
    {
     "name": "stdout",
     "output_type": "stream",
     "text": [
      "609 "
     ]
    },
    {
     "name": "stderr",
     "output_type": "stream",
     "text": [
      "[I 2019-02-09 15:10:20,293] Finished a trial resulted in value: 0.1740114379084967. Current best value is 0.15708333333333346 with parameters: {'n_estimators': 141, 'gamma': 0.7260861678752946, 'lambda': 0.1406020832695276, 'learning_rate': 0.1415068096803329, 'max_depth': 10, 'subsample': 0.8635523908357677, 'colsample_bytree': 0.5904371111274501, 'min_child_weight': 9.918122754242049}.\n"
     ]
    },
    {
     "name": "stdout",
     "output_type": "stream",
     "text": [
      "610 "
     ]
    },
    {
     "name": "stderr",
     "output_type": "stream",
     "text": [
      "[I 2019-02-09 15:10:23,517] Finished a trial resulted in value: 0.1659722222222223. Current best value is 0.15708333333333346 with parameters: {'n_estimators': 141, 'gamma': 0.7260861678752946, 'lambda': 0.1406020832695276, 'learning_rate': 0.1415068096803329, 'max_depth': 10, 'subsample': 0.8635523908357677, 'colsample_bytree': 0.5904371111274501, 'min_child_weight': 9.918122754242049}.\n"
     ]
    },
    {
     "name": "stdout",
     "output_type": "stream",
     "text": [
      "611 "
     ]
    },
    {
     "name": "stderr",
     "output_type": "stream",
     "text": [
      "[I 2019-02-09 15:10:32,622] Finished a trial resulted in value: 0.16271241830065364. Current best value is 0.15708333333333346 with parameters: {'n_estimators': 141, 'gamma': 0.7260861678752946, 'lambda': 0.1406020832695276, 'learning_rate': 0.1415068096803329, 'max_depth': 10, 'subsample': 0.8635523908357677, 'colsample_bytree': 0.5904371111274501, 'min_child_weight': 9.918122754242049}.\n"
     ]
    },
    {
     "name": "stdout",
     "output_type": "stream",
     "text": [
      "612 "
     ]
    },
    {
     "name": "stderr",
     "output_type": "stream",
     "text": [
      "[I 2019-02-09 15:10:38,352] Finished a trial resulted in value: 0.16062091503267983. Current best value is 0.15708333333333346 with parameters: {'n_estimators': 141, 'gamma': 0.7260861678752946, 'lambda': 0.1406020832695276, 'learning_rate': 0.1415068096803329, 'max_depth': 10, 'subsample': 0.8635523908357677, 'colsample_bytree': 0.5904371111274501, 'min_child_weight': 9.918122754242049}.\n"
     ]
    },
    {
     "name": "stdout",
     "output_type": "stream",
     "text": [
      "613 "
     ]
    },
    {
     "name": "stderr",
     "output_type": "stream",
     "text": [
      "[I 2019-02-09 15:10:45,542] Finished a trial resulted in value: 0.1650653594771242. Current best value is 0.15708333333333346 with parameters: {'n_estimators': 141, 'gamma': 0.7260861678752946, 'lambda': 0.1406020832695276, 'learning_rate': 0.1415068096803329, 'max_depth': 10, 'subsample': 0.8635523908357677, 'colsample_bytree': 0.5904371111274501, 'min_child_weight': 9.918122754242049}.\n"
     ]
    },
    {
     "name": "stdout",
     "output_type": "stream",
     "text": [
      "614 "
     ]
    },
    {
     "name": "stderr",
     "output_type": "stream",
     "text": [
      "[I 2019-02-09 15:10:55,111] Finished a trial resulted in value: 0.15728758169934653. Current best value is 0.15708333333333346 with parameters: {'n_estimators': 141, 'gamma': 0.7260861678752946, 'lambda': 0.1406020832695276, 'learning_rate': 0.1415068096803329, 'max_depth': 10, 'subsample': 0.8635523908357677, 'colsample_bytree': 0.5904371111274501, 'min_child_weight': 9.918122754242049}.\n"
     ]
    },
    {
     "name": "stdout",
     "output_type": "stream",
     "text": [
      "615 "
     ]
    },
    {
     "name": "stderr",
     "output_type": "stream",
     "text": [
      "[I 2019-02-09 15:11:06,027] Finished a trial resulted in value: 0.16388888888888886. Current best value is 0.15708333333333346 with parameters: {'n_estimators': 141, 'gamma': 0.7260861678752946, 'lambda': 0.1406020832695276, 'learning_rate': 0.1415068096803329, 'max_depth': 10, 'subsample': 0.8635523908357677, 'colsample_bytree': 0.5904371111274501, 'min_child_weight': 9.918122754242049}.\n"
     ]
    },
    {
     "name": "stdout",
     "output_type": "stream",
     "text": [
      "616 "
     ]
    },
    {
     "name": "stderr",
     "output_type": "stream",
     "text": [
      "[I 2019-02-09 15:11:15,422] Finished a trial resulted in value: 0.16388888888888886. Current best value is 0.15708333333333346 with parameters: {'n_estimators': 141, 'gamma': 0.7260861678752946, 'lambda': 0.1406020832695276, 'learning_rate': 0.1415068096803329, 'max_depth': 10, 'subsample': 0.8635523908357677, 'colsample_bytree': 0.5904371111274501, 'min_child_weight': 9.918122754242049}.\n"
     ]
    },
    {
     "name": "stdout",
     "output_type": "stream",
     "text": [
      "617 "
     ]
    },
    {
     "name": "stderr",
     "output_type": "stream",
     "text": [
      "[I 2019-02-09 15:11:26,201] Finished a trial resulted in value: 0.16617647058823537. Current best value is 0.15708333333333346 with parameters: {'n_estimators': 141, 'gamma': 0.7260861678752946, 'lambda': 0.1406020832695276, 'learning_rate': 0.1415068096803329, 'max_depth': 10, 'subsample': 0.8635523908357677, 'colsample_bytree': 0.5904371111274501, 'min_child_weight': 9.918122754242049}.\n"
     ]
    },
    {
     "name": "stdout",
     "output_type": "stream",
     "text": [
      "618 "
     ]
    },
    {
     "name": "stderr",
     "output_type": "stream",
     "text": [
      "[I 2019-02-09 15:11:37,957] Finished a trial resulted in value: 0.16173202614379079. Current best value is 0.15708333333333346 with parameters: {'n_estimators': 141, 'gamma': 0.7260861678752946, 'lambda': 0.1406020832695276, 'learning_rate': 0.1415068096803329, 'max_depth': 10, 'subsample': 0.8635523908357677, 'colsample_bytree': 0.5904371111274501, 'min_child_weight': 9.918122754242049}.\n"
     ]
    },
    {
     "name": "stdout",
     "output_type": "stream",
     "text": [
      "619 "
     ]
    },
    {
     "name": "stderr",
     "output_type": "stream",
     "text": [
      "[I 2019-02-09 15:11:50,308] Finished a trial resulted in value: 0.1661111111111111. Current best value is 0.15708333333333346 with parameters: {'n_estimators': 141, 'gamma': 0.7260861678752946, 'lambda': 0.1406020832695276, 'learning_rate': 0.1415068096803329, 'max_depth': 10, 'subsample': 0.8635523908357677, 'colsample_bytree': 0.5904371111274501, 'min_child_weight': 9.918122754242049}.\n"
     ]
    },
    {
     "name": "stdout",
     "output_type": "stream",
     "text": [
      "620 "
     ]
    },
    {
     "name": "stderr",
     "output_type": "stream",
     "text": [
      "[I 2019-02-09 15:11:59,543] Finished a trial resulted in value: 0.16617647058823526. Current best value is 0.15708333333333346 with parameters: {'n_estimators': 141, 'gamma': 0.7260861678752946, 'lambda': 0.1406020832695276, 'learning_rate': 0.1415068096803329, 'max_depth': 10, 'subsample': 0.8635523908357677, 'colsample_bytree': 0.5904371111274501, 'min_child_weight': 9.918122754242049}.\n"
     ]
    },
    {
     "name": "stdout",
     "output_type": "stream",
     "text": [
      "621 "
     ]
    },
    {
     "name": "stderr",
     "output_type": "stream",
     "text": [
      "[I 2019-02-09 15:12:09,358] Finished a trial resulted in value: 0.17159313725490188. Current best value is 0.15708333333333346 with parameters: {'n_estimators': 141, 'gamma': 0.7260861678752946, 'lambda': 0.1406020832695276, 'learning_rate': 0.1415068096803329, 'max_depth': 10, 'subsample': 0.8635523908357677, 'colsample_bytree': 0.5904371111274501, 'min_child_weight': 9.918122754242049}.\n"
     ]
    },
    {
     "name": "stdout",
     "output_type": "stream",
     "text": [
      "622 "
     ]
    },
    {
     "name": "stderr",
     "output_type": "stream",
     "text": [
      "[I 2019-02-09 15:12:21,920] Finished a trial resulted in value: 0.16395424836601302. Current best value is 0.15708333333333346 with parameters: {'n_estimators': 141, 'gamma': 0.7260861678752946, 'lambda': 0.1406020832695276, 'learning_rate': 0.1415068096803329, 'max_depth': 10, 'subsample': 0.8635523908357677, 'colsample_bytree': 0.5904371111274501, 'min_child_weight': 9.918122754242049}.\n"
     ]
    },
    {
     "name": "stdout",
     "output_type": "stream",
     "text": [
      "623 "
     ]
    },
    {
     "name": "stderr",
     "output_type": "stream",
     "text": [
      "[I 2019-02-09 15:12:30,948] Finished a trial resulted in value: 0.16950980392156878. Current best value is 0.15708333333333346 with parameters: {'n_estimators': 141, 'gamma': 0.7260861678752946, 'lambda': 0.1406020832695276, 'learning_rate': 0.1415068096803329, 'max_depth': 10, 'subsample': 0.8635523908357677, 'colsample_bytree': 0.5904371111274501, 'min_child_weight': 9.918122754242049}.\n"
     ]
    },
    {
     "name": "stdout",
     "output_type": "stream",
     "text": [
      "624 "
     ]
    },
    {
     "name": "stderr",
     "output_type": "stream",
     "text": [
      "[I 2019-02-09 15:12:42,999] Finished a trial resulted in value: 0.1661111111111111. Current best value is 0.15708333333333346 with parameters: {'n_estimators': 141, 'gamma': 0.7260861678752946, 'lambda': 0.1406020832695276, 'learning_rate': 0.1415068096803329, 'max_depth': 10, 'subsample': 0.8635523908357677, 'colsample_bytree': 0.5904371111274501, 'min_child_weight': 9.918122754242049}.\n"
     ]
    },
    {
     "name": "stdout",
     "output_type": "stream",
     "text": [
      "625 "
     ]
    },
    {
     "name": "stderr",
     "output_type": "stream",
     "text": [
      "[I 2019-02-09 15:12:53,320] Finished a trial resulted in value: 0.16284313725490207. Current best value is 0.15708333333333346 with parameters: {'n_estimators': 141, 'gamma': 0.7260861678752946, 'lambda': 0.1406020832695276, 'learning_rate': 0.1415068096803329, 'max_depth': 10, 'subsample': 0.8635523908357677, 'colsample_bytree': 0.5904371111274501, 'min_child_weight': 9.918122754242049}.\n"
     ]
    },
    {
     "name": "stdout",
     "output_type": "stream",
     "text": [
      "626 "
     ]
    },
    {
     "name": "stderr",
     "output_type": "stream",
     "text": [
      "[I 2019-02-09 15:13:03,252] Finished a trial resulted in value: 0.1650653594771242. Current best value is 0.15708333333333346 with parameters: {'n_estimators': 141, 'gamma': 0.7260861678752946, 'lambda': 0.1406020832695276, 'learning_rate': 0.1415068096803329, 'max_depth': 10, 'subsample': 0.8635523908357677, 'colsample_bytree': 0.5904371111274501, 'min_child_weight': 9.918122754242049}.\n"
     ]
    },
    {
     "name": "stdout",
     "output_type": "stream",
     "text": [
      "627 "
     ]
    },
    {
     "name": "stderr",
     "output_type": "stream",
     "text": [
      "[I 2019-02-09 15:13:12,059] Finished a trial resulted in value: 0.1705473856209152. Current best value is 0.15708333333333346 with parameters: {'n_estimators': 141, 'gamma': 0.7260861678752946, 'lambda': 0.1406020832695276, 'learning_rate': 0.1415068096803329, 'max_depth': 10, 'subsample': 0.8635523908357677, 'colsample_bytree': 0.5904371111274501, 'min_child_weight': 9.918122754242049}.\n"
     ]
    },
    {
     "name": "stdout",
     "output_type": "stream",
     "text": [
      "628 "
     ]
    },
    {
     "name": "stderr",
     "output_type": "stream",
     "text": [
      "[I 2019-02-09 15:13:21,339] Finished a trial resulted in value: 0.16395424836601302. Current best value is 0.15708333333333346 with parameters: {'n_estimators': 141, 'gamma': 0.7260861678752946, 'lambda': 0.1406020832695276, 'learning_rate': 0.1415068096803329, 'max_depth': 10, 'subsample': 0.8635523908357677, 'colsample_bytree': 0.5904371111274501, 'min_child_weight': 9.918122754242049}.\n"
     ]
    },
    {
     "name": "stdout",
     "output_type": "stream",
     "text": [
      "629 "
     ]
    },
    {
     "name": "stderr",
     "output_type": "stream",
     "text": [
      "[I 2019-02-09 15:13:34,861] Finished a trial resulted in value: 0.1650653594771242. Current best value is 0.15708333333333346 with parameters: {'n_estimators': 141, 'gamma': 0.7260861678752946, 'lambda': 0.1406020832695276, 'learning_rate': 0.1415068096803329, 'max_depth': 10, 'subsample': 0.8635523908357677, 'colsample_bytree': 0.5904371111274501, 'min_child_weight': 9.918122754242049}.\n"
     ]
    },
    {
     "name": "stdout",
     "output_type": "stream",
     "text": [
      "630 "
     ]
    },
    {
     "name": "stderr",
     "output_type": "stream",
     "text": [
      "[I 2019-02-09 15:13:44,599] Finished a trial resulted in value: 0.16388888888888886. Current best value is 0.15708333333333346 with parameters: {'n_estimators': 141, 'gamma': 0.7260861678752946, 'lambda': 0.1406020832695276, 'learning_rate': 0.1415068096803329, 'max_depth': 10, 'subsample': 0.8635523908357677, 'colsample_bytree': 0.5904371111274501, 'min_child_weight': 9.918122754242049}.\n"
     ]
    },
    {
     "name": "stdout",
     "output_type": "stream",
     "text": [
      "631 "
     ]
    },
    {
     "name": "stderr",
     "output_type": "stream",
     "text": [
      "[I 2019-02-09 15:13:54,200] Finished a trial resulted in value: 0.16846405228758154. Current best value is 0.15708333333333346 with parameters: {'n_estimators': 141, 'gamma': 0.7260861678752946, 'lambda': 0.1406020832695276, 'learning_rate': 0.1415068096803329, 'max_depth': 10, 'subsample': 0.8635523908357677, 'colsample_bytree': 0.5904371111274501, 'min_child_weight': 9.918122754242049}.\n"
     ]
    },
    {
     "name": "stdout",
     "output_type": "stream",
     "text": [
      "632 "
     ]
    },
    {
     "name": "stderr",
     "output_type": "stream",
     "text": [
      "[I 2019-02-09 15:14:05,642] Finished a trial resulted in value: 0.17290849673202613. Current best value is 0.15708333333333346 with parameters: {'n_estimators': 141, 'gamma': 0.7260861678752946, 'lambda': 0.1406020832695276, 'learning_rate': 0.1415068096803329, 'max_depth': 10, 'subsample': 0.8635523908357677, 'colsample_bytree': 0.5904371111274501, 'min_child_weight': 9.918122754242049}.\n"
     ]
    },
    {
     "name": "stdout",
     "output_type": "stream",
     "text": [
      "633 "
     ]
    },
    {
     "name": "stderr",
     "output_type": "stream",
     "text": [
      "[I 2019-02-09 15:14:19,614] Finished a trial resulted in value: 0.16722222222222227. Current best value is 0.15708333333333346 with parameters: {'n_estimators': 141, 'gamma': 0.7260861678752946, 'lambda': 0.1406020832695276, 'learning_rate': 0.1415068096803329, 'max_depth': 10, 'subsample': 0.8635523908357677, 'colsample_bytree': 0.5904371111274501, 'min_child_weight': 9.918122754242049}.\n"
     ]
    },
    {
     "name": "stdout",
     "output_type": "stream",
     "text": [
      "634 "
     ]
    },
    {
     "name": "stderr",
     "output_type": "stream",
     "text": [
      "[I 2019-02-09 15:14:27,727] Finished a trial resulted in value: 0.16617647058823526. Current best value is 0.15708333333333346 with parameters: {'n_estimators': 141, 'gamma': 0.7260861678752946, 'lambda': 0.1406020832695276, 'learning_rate': 0.1415068096803329, 'max_depth': 10, 'subsample': 0.8635523908357677, 'colsample_bytree': 0.5904371111274501, 'min_child_weight': 9.918122754242049}.\n"
     ]
    },
    {
     "name": "stdout",
     "output_type": "stream",
     "text": [
      "635 "
     ]
    },
    {
     "name": "stderr",
     "output_type": "stream",
     "text": [
      "[I 2019-02-09 15:14:34,016] Finished a trial resulted in value: 0.16388888888888897. Current best value is 0.15708333333333346 with parameters: {'n_estimators': 141, 'gamma': 0.7260861678752946, 'lambda': 0.1406020832695276, 'learning_rate': 0.1415068096803329, 'max_depth': 10, 'subsample': 0.8635523908357677, 'colsample_bytree': 0.5904371111274501, 'min_child_weight': 9.918122754242049}.\n"
     ]
    },
    {
     "name": "stdout",
     "output_type": "stream",
     "text": [
      "636 "
     ]
    },
    {
     "name": "stderr",
     "output_type": "stream",
     "text": [
      "[I 2019-02-09 15:14:42,358] Finished a trial resulted in value: 0.1650653594771242. Current best value is 0.15708333333333346 with parameters: {'n_estimators': 141, 'gamma': 0.7260861678752946, 'lambda': 0.1406020832695276, 'learning_rate': 0.1415068096803329, 'max_depth': 10, 'subsample': 0.8635523908357677, 'colsample_bytree': 0.5904371111274501, 'min_child_weight': 9.918122754242049}.\n"
     ]
    },
    {
     "name": "stdout",
     "output_type": "stream",
     "text": [
      "637 "
     ]
    },
    {
     "name": "stderr",
     "output_type": "stream",
     "text": [
      "[I 2019-02-09 15:14:52,940] Finished a trial resulted in value: 0.1683986928104575. Current best value is 0.15708333333333346 with parameters: {'n_estimators': 141, 'gamma': 0.7260861678752946, 'lambda': 0.1406020832695276, 'learning_rate': 0.1415068096803329, 'max_depth': 10, 'subsample': 0.8635523908357677, 'colsample_bytree': 0.5904371111274501, 'min_child_weight': 9.918122754242049}.\n"
     ]
    },
    {
     "name": "stdout",
     "output_type": "stream",
     "text": [
      "638 "
     ]
    },
    {
     "name": "stderr",
     "output_type": "stream",
     "text": [
      "[I 2019-02-09 15:15:06,811] Finished a trial resulted in value: 0.16846405228758177. Current best value is 0.15708333333333346 with parameters: {'n_estimators': 141, 'gamma': 0.7260861678752946, 'lambda': 0.1406020832695276, 'learning_rate': 0.1415068096803329, 'max_depth': 10, 'subsample': 0.8635523908357677, 'colsample_bytree': 0.5904371111274501, 'min_child_weight': 9.918122754242049}.\n"
     ]
    },
    {
     "name": "stdout",
     "output_type": "stream",
     "text": [
      "639 "
     ]
    },
    {
     "name": "stderr",
     "output_type": "stream",
     "text": [
      "[I 2019-02-09 15:15:16,489] Finished a trial resulted in value: 0.1617320261437909. Current best value is 0.15708333333333346 with parameters: {'n_estimators': 141, 'gamma': 0.7260861678752946, 'lambda': 0.1406020832695276, 'learning_rate': 0.1415068096803329, 'max_depth': 10, 'subsample': 0.8635523908357677, 'colsample_bytree': 0.5904371111274501, 'min_child_weight': 9.918122754242049}.\n"
     ]
    },
    {
     "name": "stdout",
     "output_type": "stream",
     "text": [
      "640 "
     ]
    },
    {
     "name": "stderr",
     "output_type": "stream",
     "text": [
      "[I 2019-02-09 15:15:26,531] Finished a trial resulted in value: 0.16617647058823526. Current best value is 0.15708333333333346 with parameters: {'n_estimators': 141, 'gamma': 0.7260861678752946, 'lambda': 0.1406020832695276, 'learning_rate': 0.1415068096803329, 'max_depth': 10, 'subsample': 0.8635523908357677, 'colsample_bytree': 0.5904371111274501, 'min_child_weight': 9.918122754242049}.\n"
     ]
    },
    {
     "name": "stdout",
     "output_type": "stream",
     "text": [
      "641 "
     ]
    },
    {
     "name": "stderr",
     "output_type": "stream",
     "text": [
      "[I 2019-02-09 15:15:35,022] Finished a trial resulted in value: 0.16062091503267995. Current best value is 0.15708333333333346 with parameters: {'n_estimators': 141, 'gamma': 0.7260861678752946, 'lambda': 0.1406020832695276, 'learning_rate': 0.1415068096803329, 'max_depth': 10, 'subsample': 0.8635523908357677, 'colsample_bytree': 0.5904371111274501, 'min_child_weight': 9.918122754242049}.\n"
     ]
    },
    {
     "name": "stdout",
     "output_type": "stream",
     "text": [
      "642 "
     ]
    },
    {
     "name": "stderr",
     "output_type": "stream",
     "text": [
      "[I 2019-02-09 15:15:42,320] Finished a trial resulted in value: 0.16846405228758188. Current best value is 0.15708333333333346 with parameters: {'n_estimators': 141, 'gamma': 0.7260861678752946, 'lambda': 0.1406020832695276, 'learning_rate': 0.1415068096803329, 'max_depth': 10, 'subsample': 0.8635523908357677, 'colsample_bytree': 0.5904371111274501, 'min_child_weight': 9.918122754242049}.\n"
     ]
    },
    {
     "name": "stdout",
     "output_type": "stream",
     "text": [
      "643 "
     ]
    },
    {
     "name": "stderr",
     "output_type": "stream",
     "text": [
      "[I 2019-02-09 15:15:49,374] Finished a trial resulted in value: 0.16617647058823537. Current best value is 0.15708333333333346 with parameters: {'n_estimators': 141, 'gamma': 0.7260861678752946, 'lambda': 0.1406020832695276, 'learning_rate': 0.1415068096803329, 'max_depth': 10, 'subsample': 0.8635523908357677, 'colsample_bytree': 0.5904371111274501, 'min_child_weight': 9.918122754242049}.\n"
     ]
    },
    {
     "name": "stdout",
     "output_type": "stream",
     "text": [
      "644 "
     ]
    },
    {
     "name": "stderr",
     "output_type": "stream",
     "text": [
      "[I 2019-02-09 15:16:01,222] Finished a trial resulted in value: 0.16395424836601302. Current best value is 0.15708333333333346 with parameters: {'n_estimators': 141, 'gamma': 0.7260861678752946, 'lambda': 0.1406020832695276, 'learning_rate': 0.1415068096803329, 'max_depth': 10, 'subsample': 0.8635523908357677, 'colsample_bytree': 0.5904371111274501, 'min_child_weight': 9.918122754242049}.\n"
     ]
    },
    {
     "name": "stdout",
     "output_type": "stream",
     "text": [
      "645 "
     ]
    },
    {
     "name": "stderr",
     "output_type": "stream",
     "text": [
      "[I 2019-02-09 15:16:12,253] Finished a trial resulted in value: 0.16388888888888886. Current best value is 0.15708333333333346 with parameters: {'n_estimators': 141, 'gamma': 0.7260861678752946, 'lambda': 0.1406020832695276, 'learning_rate': 0.1415068096803329, 'max_depth': 10, 'subsample': 0.8635523908357677, 'colsample_bytree': 0.5904371111274501, 'min_child_weight': 9.918122754242049}.\n"
     ]
    },
    {
     "name": "stdout",
     "output_type": "stream",
     "text": [
      "646 "
     ]
    },
    {
     "name": "stderr",
     "output_type": "stream",
     "text": [
      "[I 2019-02-09 15:16:21,153] Finished a trial resulted in value: 0.16846405228758177. Current best value is 0.15708333333333346 with parameters: {'n_estimators': 141, 'gamma': 0.7260861678752946, 'lambda': 0.1406020832695276, 'learning_rate': 0.1415068096803329, 'max_depth': 10, 'subsample': 0.8635523908357677, 'colsample_bytree': 0.5904371111274501, 'min_child_weight': 9.918122754242049}.\n"
     ]
    },
    {
     "name": "stdout",
     "output_type": "stream",
     "text": [
      "647 "
     ]
    },
    {
     "name": "stderr",
     "output_type": "stream",
     "text": [
      "[I 2019-02-09 15:16:34,274] Finished a trial resulted in value: 0.16957516339869283. Current best value is 0.15708333333333346 with parameters: {'n_estimators': 141, 'gamma': 0.7260861678752946, 'lambda': 0.1406020832695276, 'learning_rate': 0.1415068096803329, 'max_depth': 10, 'subsample': 0.8635523908357677, 'colsample_bytree': 0.5904371111274501, 'min_child_weight': 9.918122754242049}.\n"
     ]
    },
    {
     "name": "stdout",
     "output_type": "stream",
     "text": [
      "648 "
     ]
    },
    {
     "name": "stderr",
     "output_type": "stream",
     "text": [
      "[I 2019-02-09 15:16:40,421] Finished a trial resulted in value: 0.16950980392156878. Current best value is 0.15708333333333346 with parameters: {'n_estimators': 141, 'gamma': 0.7260861678752946, 'lambda': 0.1406020832695276, 'learning_rate': 0.1415068096803329, 'max_depth': 10, 'subsample': 0.8635523908357677, 'colsample_bytree': 0.5904371111274501, 'min_child_weight': 9.918122754242049}.\n"
     ]
    },
    {
     "name": "stdout",
     "output_type": "stream",
     "text": [
      "649 "
     ]
    },
    {
     "name": "stderr",
     "output_type": "stream",
     "text": [
      "[I 2019-02-09 15:16:53,857] Finished a trial resulted in value: 0.1627777777777779. Current best value is 0.15708333333333346 with parameters: {'n_estimators': 141, 'gamma': 0.7260861678752946, 'lambda': 0.1406020832695276, 'learning_rate': 0.1415068096803329, 'max_depth': 10, 'subsample': 0.8635523908357677, 'colsample_bytree': 0.5904371111274501, 'min_child_weight': 9.918122754242049}.\n"
     ]
    },
    {
     "name": "stdout",
     "output_type": "stream",
     "text": [
      "650 "
     ]
    },
    {
     "name": "stderr",
     "output_type": "stream",
     "text": [
      "[I 2019-02-09 15:16:57,062] Finished a trial resulted in value: 0.383578431372549. Current best value is 0.15708333333333346 with parameters: {'n_estimators': 141, 'gamma': 0.7260861678752946, 'lambda': 0.1406020832695276, 'learning_rate': 0.1415068096803329, 'max_depth': 10, 'subsample': 0.8635523908357677, 'colsample_bytree': 0.5904371111274501, 'min_child_weight': 9.918122754242049}.\n"
     ]
    },
    {
     "name": "stdout",
     "output_type": "stream",
     "text": [
      "651 "
     ]
    },
    {
     "name": "stderr",
     "output_type": "stream",
     "text": [
      "[I 2019-02-09 15:17:04,441] Finished a trial resulted in value: 0.1650653594771242. Current best value is 0.15708333333333346 with parameters: {'n_estimators': 141, 'gamma': 0.7260861678752946, 'lambda': 0.1406020832695276, 'learning_rate': 0.1415068096803329, 'max_depth': 10, 'subsample': 0.8635523908357677, 'colsample_bytree': 0.5904371111274501, 'min_child_weight': 9.918122754242049}.\n"
     ]
    },
    {
     "name": "stdout",
     "output_type": "stream",
     "text": [
      "652 "
     ]
    },
    {
     "name": "stderr",
     "output_type": "stream",
     "text": [
      "[I 2019-02-09 15:17:10,490] Finished a trial resulted in value: 0.1717320261437909. Current best value is 0.15708333333333346 with parameters: {'n_estimators': 141, 'gamma': 0.7260861678752946, 'lambda': 0.1406020832695276, 'learning_rate': 0.1415068096803329, 'max_depth': 10, 'subsample': 0.8635523908357677, 'colsample_bytree': 0.5904371111274501, 'min_child_weight': 9.918122754242049}.\n"
     ]
    },
    {
     "name": "stdout",
     "output_type": "stream",
     "text": [
      "653 "
     ]
    },
    {
     "name": "stderr",
     "output_type": "stream",
     "text": [
      "[I 2019-02-09 15:17:16,010] Finished a trial resulted in value: 0.16617647058823537. Current best value is 0.15708333333333346 with parameters: {'n_estimators': 141, 'gamma': 0.7260861678752946, 'lambda': 0.1406020832695276, 'learning_rate': 0.1415068096803329, 'max_depth': 10, 'subsample': 0.8635523908357677, 'colsample_bytree': 0.5904371111274501, 'min_child_weight': 9.918122754242049}.\n"
     ]
    },
    {
     "name": "stdout",
     "output_type": "stream",
     "text": [
      "654 "
     ]
    },
    {
     "name": "stderr",
     "output_type": "stream",
     "text": [
      "[I 2019-02-09 15:17:24,943] Finished a trial resulted in value: 0.16957516339869283. Current best value is 0.15708333333333346 with parameters: {'n_estimators': 141, 'gamma': 0.7260861678752946, 'lambda': 0.1406020832695276, 'learning_rate': 0.1415068096803329, 'max_depth': 10, 'subsample': 0.8635523908357677, 'colsample_bytree': 0.5904371111274501, 'min_child_weight': 9.918122754242049}.\n"
     ]
    },
    {
     "name": "stdout",
     "output_type": "stream",
     "text": [
      "655 "
     ]
    },
    {
     "name": "stderr",
     "output_type": "stream",
     "text": [
      "[I 2019-02-09 15:17:37,903] Finished a trial resulted in value: 0.1673529411764707. Current best value is 0.15708333333333346 with parameters: {'n_estimators': 141, 'gamma': 0.7260861678752946, 'lambda': 0.1406020832695276, 'learning_rate': 0.1415068096803329, 'max_depth': 10, 'subsample': 0.8635523908357677, 'colsample_bytree': 0.5904371111274501, 'min_child_weight': 9.918122754242049}.\n"
     ]
    },
    {
     "name": "stdout",
     "output_type": "stream",
     "text": [
      "656 "
     ]
    },
    {
     "name": "stderr",
     "output_type": "stream",
     "text": [
      "[I 2019-02-09 15:17:49,077] Finished a trial resulted in value: 0.1685947712418302. Current best value is 0.15708333333333346 with parameters: {'n_estimators': 141, 'gamma': 0.7260861678752946, 'lambda': 0.1406020832695276, 'learning_rate': 0.1415068096803329, 'max_depth': 10, 'subsample': 0.8635523908357677, 'colsample_bytree': 0.5904371111274501, 'min_child_weight': 9.918122754242049}.\n"
     ]
    },
    {
     "name": "stdout",
     "output_type": "stream",
     "text": [
      "657 "
     ]
    },
    {
     "name": "stderr",
     "output_type": "stream",
     "text": [
      "[I 2019-02-09 15:17:59,333] Finished a trial resulted in value: 0.17075980392156875. Current best value is 0.15708333333333346 with parameters: {'n_estimators': 141, 'gamma': 0.7260861678752946, 'lambda': 0.1406020832695276, 'learning_rate': 0.1415068096803329, 'max_depth': 10, 'subsample': 0.8635523908357677, 'colsample_bytree': 0.5904371111274501, 'min_child_weight': 9.918122754242049}.\n"
     ]
    },
    {
     "name": "stdout",
     "output_type": "stream",
     "text": [
      "658 "
     ]
    },
    {
     "name": "stderr",
     "output_type": "stream",
     "text": [
      "[I 2019-02-09 15:18:06,295] Finished a trial resulted in value: 0.16930555555555538. Current best value is 0.15708333333333346 with parameters: {'n_estimators': 141, 'gamma': 0.7260861678752946, 'lambda': 0.1406020832695276, 'learning_rate': 0.1415068096803329, 'max_depth': 10, 'subsample': 0.8635523908357677, 'colsample_bytree': 0.5904371111274501, 'min_child_weight': 9.918122754242049}.\n"
     ]
    },
    {
     "name": "stdout",
     "output_type": "stream",
     "text": [
      "659 "
     ]
    },
    {
     "name": "stderr",
     "output_type": "stream",
     "text": [
      "[I 2019-02-09 15:18:17,655] Finished a trial resulted in value: 0.16179738562091506. Current best value is 0.15708333333333346 with parameters: {'n_estimators': 141, 'gamma': 0.7260861678752946, 'lambda': 0.1406020832695276, 'learning_rate': 0.1415068096803329, 'max_depth': 10, 'subsample': 0.8635523908357677, 'colsample_bytree': 0.5904371111274501, 'min_child_weight': 9.918122754242049}.\n"
     ]
    },
    {
     "name": "stdout",
     "output_type": "stream",
     "text": [
      "660 "
     ]
    },
    {
     "name": "stderr",
     "output_type": "stream",
     "text": [
      "[I 2019-02-09 15:18:26,392] Finished a trial resulted in value: 0.15950980392156866. Current best value is 0.15708333333333346 with parameters: {'n_estimators': 141, 'gamma': 0.7260861678752946, 'lambda': 0.1406020832695276, 'learning_rate': 0.1415068096803329, 'max_depth': 10, 'subsample': 0.8635523908357677, 'colsample_bytree': 0.5904371111274501, 'min_child_weight': 9.918122754242049}.\n"
     ]
    },
    {
     "name": "stdout",
     "output_type": "stream",
     "text": [
      "661 "
     ]
    },
    {
     "name": "stderr",
     "output_type": "stream",
     "text": [
      "[I 2019-02-09 15:18:40,415] Finished a trial resulted in value: 0.16957516339869305. Current best value is 0.15708333333333346 with parameters: {'n_estimators': 141, 'gamma': 0.7260861678752946, 'lambda': 0.1406020832695276, 'learning_rate': 0.1415068096803329, 'max_depth': 10, 'subsample': 0.8635523908357677, 'colsample_bytree': 0.5904371111274501, 'min_child_weight': 9.918122754242049}.\n"
     ]
    },
    {
     "name": "stdout",
     "output_type": "stream",
     "text": [
      "662 "
     ]
    },
    {
     "name": "stderr",
     "output_type": "stream",
     "text": [
      "[I 2019-02-09 15:18:51,075] Finished a trial resulted in value: 0.16950980392156867. Current best value is 0.15708333333333346 with parameters: {'n_estimators': 141, 'gamma': 0.7260861678752946, 'lambda': 0.1406020832695276, 'learning_rate': 0.1415068096803329, 'max_depth': 10, 'subsample': 0.8635523908357677, 'colsample_bytree': 0.5904371111274501, 'min_child_weight': 9.918122754242049}.\n"
     ]
    },
    {
     "name": "stdout",
     "output_type": "stream",
     "text": [
      "663 "
     ]
    },
    {
     "name": "stderr",
     "output_type": "stream",
     "text": [
      "[I 2019-02-09 15:18:59,833] Finished a trial resulted in value: 0.17513071895424848. Current best value is 0.15708333333333346 with parameters: {'n_estimators': 141, 'gamma': 0.7260861678752946, 'lambda': 0.1406020832695276, 'learning_rate': 0.1415068096803329, 'max_depth': 10, 'subsample': 0.8635523908357677, 'colsample_bytree': 0.5904371111274501, 'min_child_weight': 9.918122754242049}.\n"
     ]
    },
    {
     "name": "stdout",
     "output_type": "stream",
     "text": [
      "664 "
     ]
    },
    {
     "name": "stderr",
     "output_type": "stream",
     "text": [
      "[I 2019-02-09 15:19:07,451] Finished a trial resulted in value: 0.18191993464052303. Current best value is 0.15708333333333346 with parameters: {'n_estimators': 141, 'gamma': 0.7260861678752946, 'lambda': 0.1406020832695276, 'learning_rate': 0.1415068096803329, 'max_depth': 10, 'subsample': 0.8635523908357677, 'colsample_bytree': 0.5904371111274501, 'min_child_weight': 9.918122754242049}.\n"
     ]
    },
    {
     "name": "stdout",
     "output_type": "stream",
     "text": [
      "665 "
     ]
    },
    {
     "name": "stderr",
     "output_type": "stream",
     "text": [
      "[I 2019-02-09 15:19:19,723] Finished a trial resulted in value: 0.1671568627450981. Current best value is 0.15708333333333346 with parameters: {'n_estimators': 141, 'gamma': 0.7260861678752946, 'lambda': 0.1406020832695276, 'learning_rate': 0.1415068096803329, 'max_depth': 10, 'subsample': 0.8635523908357677, 'colsample_bytree': 0.5904371111274501, 'min_child_weight': 9.918122754242049}.\n"
     ]
    },
    {
     "name": "stdout",
     "output_type": "stream",
     "text": [
      "666 "
     ]
    },
    {
     "name": "stderr",
     "output_type": "stream",
     "text": [
      "[I 2019-02-09 15:19:33,922] Finished a trial resulted in value: 0.16722222222222227. Current best value is 0.15708333333333346 with parameters: {'n_estimators': 141, 'gamma': 0.7260861678752946, 'lambda': 0.1406020832695276, 'learning_rate': 0.1415068096803329, 'max_depth': 10, 'subsample': 0.8635523908357677, 'colsample_bytree': 0.5904371111274501, 'min_child_weight': 9.918122754242049}.\n"
     ]
    },
    {
     "name": "stdout",
     "output_type": "stream",
     "text": [
      "667 "
     ]
    },
    {
     "name": "stderr",
     "output_type": "stream",
     "text": [
      "[I 2019-02-09 15:19:44,505] Finished a trial resulted in value: 0.16957516339869283. Current best value is 0.15708333333333346 with parameters: {'n_estimators': 141, 'gamma': 0.7260861678752946, 'lambda': 0.1406020832695276, 'learning_rate': 0.1415068096803329, 'max_depth': 10, 'subsample': 0.8635523908357677, 'colsample_bytree': 0.5904371111274501, 'min_child_weight': 9.918122754242049}.\n"
     ]
    },
    {
     "name": "stdout",
     "output_type": "stream",
     "text": [
      "668 "
     ]
    },
    {
     "name": "stderr",
     "output_type": "stream",
     "text": [
      "[I 2019-02-09 15:19:56,732] Finished a trial resulted in value: 0.16833333333333345. Current best value is 0.15708333333333346 with parameters: {'n_estimators': 141, 'gamma': 0.7260861678752946, 'lambda': 0.1406020832695276, 'learning_rate': 0.1415068096803329, 'max_depth': 10, 'subsample': 0.8635523908357677, 'colsample_bytree': 0.5904371111274501, 'min_child_weight': 9.918122754242049}.\n"
     ]
    },
    {
     "name": "stdout",
     "output_type": "stream",
     "text": [
      "669 "
     ]
    },
    {
     "name": "stderr",
     "output_type": "stream",
     "text": [
      "[I 2019-02-09 15:20:05,790] Finished a trial resulted in value: 0.18387254901960792. Current best value is 0.15708333333333346 with parameters: {'n_estimators': 141, 'gamma': 0.7260861678752946, 'lambda': 0.1406020832695276, 'learning_rate': 0.1415068096803329, 'max_depth': 10, 'subsample': 0.8635523908357677, 'colsample_bytree': 0.5904371111274501, 'min_child_weight': 9.918122754242049}.\n"
     ]
    },
    {
     "name": "stdout",
     "output_type": "stream",
     "text": [
      "670 "
     ]
    },
    {
     "name": "stderr",
     "output_type": "stream",
     "text": [
      "[I 2019-02-09 15:20:14,209] Finished a trial resulted in value: 0.1683986928104575. Current best value is 0.15708333333333346 with parameters: {'n_estimators': 141, 'gamma': 0.7260861678752946, 'lambda': 0.1406020832695276, 'learning_rate': 0.1415068096803329, 'max_depth': 10, 'subsample': 0.8635523908357677, 'colsample_bytree': 0.5904371111274501, 'min_child_weight': 9.918122754242049}.\n"
     ]
    },
    {
     "name": "stdout",
     "output_type": "stream",
     "text": [
      "671 "
     ]
    },
    {
     "name": "stderr",
     "output_type": "stream",
     "text": [
      "[I 2019-02-09 15:20:26,619] Finished a trial resulted in value: 0.16950980392156867. Current best value is 0.15708333333333346 with parameters: {'n_estimators': 141, 'gamma': 0.7260861678752946, 'lambda': 0.1406020832695276, 'learning_rate': 0.1415068096803329, 'max_depth': 10, 'subsample': 0.8635523908357677, 'colsample_bytree': 0.5904371111274501, 'min_child_weight': 9.918122754242049}.\n"
     ]
    },
    {
     "name": "stdout",
     "output_type": "stream",
     "text": [
      "672 "
     ]
    },
    {
     "name": "stderr",
     "output_type": "stream",
     "text": [
      "[I 2019-02-09 15:20:35,269] Finished a trial resulted in value: 0.16846405228758177. Current best value is 0.15708333333333346 with parameters: {'n_estimators': 141, 'gamma': 0.7260861678752946, 'lambda': 0.1406020832695276, 'learning_rate': 0.1415068096803329, 'max_depth': 10, 'subsample': 0.8635523908357677, 'colsample_bytree': 0.5904371111274501, 'min_child_weight': 9.918122754242049}.\n"
     ]
    },
    {
     "name": "stdout",
     "output_type": "stream",
     "text": [
      "673 "
     ]
    },
    {
     "name": "stderr",
     "output_type": "stream",
     "text": [
      "[I 2019-02-09 15:20:45,467] Finished a trial resulted in value: 0.16617647058823537. Current best value is 0.15708333333333346 with parameters: {'n_estimators': 141, 'gamma': 0.7260861678752946, 'lambda': 0.1406020832695276, 'learning_rate': 0.1415068096803329, 'max_depth': 10, 'subsample': 0.8635523908357677, 'colsample_bytree': 0.5904371111274501, 'min_child_weight': 9.918122754242049}.\n"
     ]
    },
    {
     "name": "stdout",
     "output_type": "stream",
     "text": [
      "674 "
     ]
    },
    {
     "name": "stderr",
     "output_type": "stream",
     "text": [
      "[I 2019-02-09 15:20:55,834] Finished a trial resulted in value: 0.16617647058823537. Current best value is 0.15708333333333346 with parameters: {'n_estimators': 141, 'gamma': 0.7260861678752946, 'lambda': 0.1406020832695276, 'learning_rate': 0.1415068096803329, 'max_depth': 10, 'subsample': 0.8635523908357677, 'colsample_bytree': 0.5904371111274501, 'min_child_weight': 9.918122754242049}.\n"
     ]
    },
    {
     "name": "stdout",
     "output_type": "stream",
     "text": [
      "675 "
     ]
    },
    {
     "name": "stderr",
     "output_type": "stream",
     "text": [
      "[I 2019-02-09 15:21:06,770] Finished a trial resulted in value: 0.16500000000000004. Current best value is 0.15708333333333346 with parameters: {'n_estimators': 141, 'gamma': 0.7260861678752946, 'lambda': 0.1406020832695276, 'learning_rate': 0.1415068096803329, 'max_depth': 10, 'subsample': 0.8635523908357677, 'colsample_bytree': 0.5904371111274501, 'min_child_weight': 9.918122754242049}.\n"
     ]
    },
    {
     "name": "stdout",
     "output_type": "stream",
     "text": [
      "676 "
     ]
    },
    {
     "name": "stderr",
     "output_type": "stream",
     "text": [
      "[I 2019-02-09 15:21:22,418] Finished a trial resulted in value: 0.17062091503267984. Current best value is 0.15708333333333346 with parameters: {'n_estimators': 141, 'gamma': 0.7260861678752946, 'lambda': 0.1406020832695276, 'learning_rate': 0.1415068096803329, 'max_depth': 10, 'subsample': 0.8635523908357677, 'colsample_bytree': 0.5904371111274501, 'min_child_weight': 9.918122754242049}.\n"
     ]
    },
    {
     "name": "stdout",
     "output_type": "stream",
     "text": [
      "677 "
     ]
    },
    {
     "name": "stderr",
     "output_type": "stream",
     "text": [
      "[I 2019-02-09 15:21:33,245] Finished a trial resulted in value: 0.1706862745098039. Current best value is 0.15708333333333346 with parameters: {'n_estimators': 141, 'gamma': 0.7260861678752946, 'lambda': 0.1406020832695276, 'learning_rate': 0.1415068096803329, 'max_depth': 10, 'subsample': 0.8635523908357677, 'colsample_bytree': 0.5904371111274501, 'min_child_weight': 9.918122754242049}.\n"
     ]
    },
    {
     "name": "stdout",
     "output_type": "stream",
     "text": [
      "678 "
     ]
    },
    {
     "name": "stderr",
     "output_type": "stream",
     "text": [
      "[I 2019-02-09 15:21:45,033] Finished a trial resulted in value: 0.1740196078431373. Current best value is 0.15708333333333346 with parameters: {'n_estimators': 141, 'gamma': 0.7260861678752946, 'lambda': 0.1406020832695276, 'learning_rate': 0.1415068096803329, 'max_depth': 10, 'subsample': 0.8635523908357677, 'colsample_bytree': 0.5904371111274501, 'min_child_weight': 9.918122754242049}.\n"
     ]
    },
    {
     "name": "stdout",
     "output_type": "stream",
     "text": [
      "679 "
     ]
    },
    {
     "name": "stderr",
     "output_type": "stream",
     "text": [
      "[I 2019-02-09 15:21:53,544] Finished a trial resulted in value: 0.16513071895424847. Current best value is 0.15708333333333346 with parameters: {'n_estimators': 141, 'gamma': 0.7260861678752946, 'lambda': 0.1406020832695276, 'learning_rate': 0.1415068096803329, 'max_depth': 10, 'subsample': 0.8635523908357677, 'colsample_bytree': 0.5904371111274501, 'min_child_weight': 9.918122754242049}.\n"
     ]
    },
    {
     "name": "stdout",
     "output_type": "stream",
     "text": [
      "680 "
     ]
    },
    {
     "name": "stderr",
     "output_type": "stream",
     "text": [
      "[I 2019-02-09 15:22:06,730] Finished a trial resulted in value: 0.16722222222222227. Current best value is 0.15708333333333346 with parameters: {'n_estimators': 141, 'gamma': 0.7260861678752946, 'lambda': 0.1406020832695276, 'learning_rate': 0.1415068096803329, 'max_depth': 10, 'subsample': 0.8635523908357677, 'colsample_bytree': 0.5904371111274501, 'min_child_weight': 9.918122754242049}.\n"
     ]
    },
    {
     "name": "stdout",
     "output_type": "stream",
     "text": [
      "681 "
     ]
    },
    {
     "name": "stderr",
     "output_type": "stream",
     "text": [
      "[I 2019-02-09 15:22:21,071] Finished a trial resulted in value: 0.17186274509803923. Current best value is 0.15708333333333346 with parameters: {'n_estimators': 141, 'gamma': 0.7260861678752946, 'lambda': 0.1406020832695276, 'learning_rate': 0.1415068096803329, 'max_depth': 10, 'subsample': 0.8635523908357677, 'colsample_bytree': 0.5904371111274501, 'min_child_weight': 9.918122754242049}.\n"
     ]
    },
    {
     "name": "stdout",
     "output_type": "stream",
     "text": [
      "682 "
     ]
    },
    {
     "name": "stderr",
     "output_type": "stream",
     "text": [
      "[I 2019-02-09 15:22:31,653] Finished a trial resulted in value: 0.17290849673202613. Current best value is 0.15708333333333346 with parameters: {'n_estimators': 141, 'gamma': 0.7260861678752946, 'lambda': 0.1406020832695276, 'learning_rate': 0.1415068096803329, 'max_depth': 10, 'subsample': 0.8635523908357677, 'colsample_bytree': 0.5904371111274501, 'min_child_weight': 9.918122754242049}.\n"
     ]
    },
    {
     "name": "stdout",
     "output_type": "stream",
     "text": [
      "683 "
     ]
    },
    {
     "name": "stderr",
     "output_type": "stream",
     "text": [
      "[I 2019-02-09 15:22:39,756] Finished a trial resulted in value: 0.17290849673202613. Current best value is 0.15708333333333346 with parameters: {'n_estimators': 141, 'gamma': 0.7260861678752946, 'lambda': 0.1406020832695276, 'learning_rate': 0.1415068096803329, 'max_depth': 10, 'subsample': 0.8635523908357677, 'colsample_bytree': 0.5904371111274501, 'min_child_weight': 9.918122754242049}.\n"
     ]
    },
    {
     "name": "stdout",
     "output_type": "stream",
     "text": [
      "684 "
     ]
    },
    {
     "name": "stderr",
     "output_type": "stream",
     "text": [
      "[I 2019-02-09 15:22:48,910] Finished a trial resulted in value: 0.15950980392156866. Current best value is 0.15708333333333346 with parameters: {'n_estimators': 141, 'gamma': 0.7260861678752946, 'lambda': 0.1406020832695276, 'learning_rate': 0.1415068096803329, 'max_depth': 10, 'subsample': 0.8635523908357677, 'colsample_bytree': 0.5904371111274501, 'min_child_weight': 9.918122754242049}.\n"
     ]
    },
    {
     "name": "stdout",
     "output_type": "stream",
     "text": [
      "685 "
     ]
    },
    {
     "name": "stderr",
     "output_type": "stream",
     "text": [
      "[I 2019-02-09 15:22:59,026] Finished a trial resulted in value: 0.16290849673202612. Current best value is 0.15708333333333346 with parameters: {'n_estimators': 141, 'gamma': 0.7260861678752946, 'lambda': 0.1406020832695276, 'learning_rate': 0.1415068096803329, 'max_depth': 10, 'subsample': 0.8635523908357677, 'colsample_bytree': 0.5904371111274501, 'min_child_weight': 9.918122754242049}.\n"
     ]
    },
    {
     "name": "stdout",
     "output_type": "stream",
     "text": [
      "686 "
     ]
    },
    {
     "name": "stderr",
     "output_type": "stream",
     "text": [
      "[I 2019-02-09 15:23:08,771] Finished a trial resulted in value: 0.16846405228758177. Current best value is 0.15708333333333346 with parameters: {'n_estimators': 141, 'gamma': 0.7260861678752946, 'lambda': 0.1406020832695276, 'learning_rate': 0.1415068096803329, 'max_depth': 10, 'subsample': 0.8635523908357677, 'colsample_bytree': 0.5904371111274501, 'min_child_weight': 9.918122754242049}.\n"
     ]
    },
    {
     "name": "stdout",
     "output_type": "stream",
     "text": [
      "687 "
     ]
    },
    {
     "name": "stderr",
     "output_type": "stream",
     "text": [
      "[I 2019-02-09 15:23:20,965] Finished a trial resulted in value: 0.1673529411764706. Current best value is 0.15708333333333346 with parameters: {'n_estimators': 141, 'gamma': 0.7260861678752946, 'lambda': 0.1406020832695276, 'learning_rate': 0.1415068096803329, 'max_depth': 10, 'subsample': 0.8635523908357677, 'colsample_bytree': 0.5904371111274501, 'min_child_weight': 9.918122754242049}.\n"
     ]
    },
    {
     "name": "stdout",
     "output_type": "stream",
     "text": [
      "688 "
     ]
    },
    {
     "name": "stderr",
     "output_type": "stream",
     "text": [
      "[I 2019-02-09 15:23:30,265] Finished a trial resulted in value: 0.1683986928104575. Current best value is 0.15708333333333346 with parameters: {'n_estimators': 141, 'gamma': 0.7260861678752946, 'lambda': 0.1406020832695276, 'learning_rate': 0.1415068096803329, 'max_depth': 10, 'subsample': 0.8635523908357677, 'colsample_bytree': 0.5904371111274501, 'min_child_weight': 9.918122754242049}.\n"
     ]
    },
    {
     "name": "stdout",
     "output_type": "stream",
     "text": [
      "689 "
     ]
    },
    {
     "name": "stderr",
     "output_type": "stream",
     "text": [
      "[I 2019-02-09 15:23:41,327] Finished a trial resulted in value: 0.170686274509804. Current best value is 0.15708333333333346 with parameters: {'n_estimators': 141, 'gamma': 0.7260861678752946, 'lambda': 0.1406020832695276, 'learning_rate': 0.1415068096803329, 'max_depth': 10, 'subsample': 0.8635523908357677, 'colsample_bytree': 0.5904371111274501, 'min_child_weight': 9.918122754242049}.\n"
     ]
    },
    {
     "name": "stdout",
     "output_type": "stream",
     "text": [
      "690 "
     ]
    },
    {
     "name": "stderr",
     "output_type": "stream",
     "text": [
      "[I 2019-02-09 15:23:53,106] Finished a trial resulted in value: 0.16617647058823537. Current best value is 0.15708333333333346 with parameters: {'n_estimators': 141, 'gamma': 0.7260861678752946, 'lambda': 0.1406020832695276, 'learning_rate': 0.1415068096803329, 'max_depth': 10, 'subsample': 0.8635523908357677, 'colsample_bytree': 0.5904371111274501, 'min_child_weight': 9.918122754242049}.\n"
     ]
    },
    {
     "name": "stdout",
     "output_type": "stream",
     "text": [
      "691 "
     ]
    },
    {
     "name": "stderr",
     "output_type": "stream",
     "text": [
      "[I 2019-02-09 15:24:02,834] Finished a trial resulted in value: 0.16617647058823537. Current best value is 0.15708333333333346 with parameters: {'n_estimators': 141, 'gamma': 0.7260861678752946, 'lambda': 0.1406020832695276, 'learning_rate': 0.1415068096803329, 'max_depth': 10, 'subsample': 0.8635523908357677, 'colsample_bytree': 0.5904371111274501, 'min_child_weight': 9.918122754242049}.\n"
     ]
    },
    {
     "name": "stdout",
     "output_type": "stream",
     "text": [
      "692 "
     ]
    },
    {
     "name": "stderr",
     "output_type": "stream",
     "text": [
      "[I 2019-02-09 15:24:14,612] Finished a trial resulted in value: 0.17062091503267984. Current best value is 0.15708333333333346 with parameters: {'n_estimators': 141, 'gamma': 0.7260861678752946, 'lambda': 0.1406020832695276, 'learning_rate': 0.1415068096803329, 'max_depth': 10, 'subsample': 0.8635523908357677, 'colsample_bytree': 0.5904371111274501, 'min_child_weight': 9.918122754242049}.\n"
     ]
    },
    {
     "name": "stdout",
     "output_type": "stream",
     "text": [
      "693 "
     ]
    },
    {
     "name": "stderr",
     "output_type": "stream",
     "text": [
      "[I 2019-02-09 15:24:23,959] Finished a trial resulted in value: 0.16617647058823537. Current best value is 0.15708333333333346 with parameters: {'n_estimators': 141, 'gamma': 0.7260861678752946, 'lambda': 0.1406020832695276, 'learning_rate': 0.1415068096803329, 'max_depth': 10, 'subsample': 0.8635523908357677, 'colsample_bytree': 0.5904371111274501, 'min_child_weight': 9.918122754242049}.\n"
     ]
    },
    {
     "name": "stdout",
     "output_type": "stream",
     "text": [
      "694 "
     ]
    },
    {
     "name": "stderr",
     "output_type": "stream",
     "text": [
      "[I 2019-02-09 15:24:34,486] Finished a trial resulted in value: 0.1673529411764706. Current best value is 0.15708333333333346 with parameters: {'n_estimators': 141, 'gamma': 0.7260861678752946, 'lambda': 0.1406020832695276, 'learning_rate': 0.1415068096803329, 'max_depth': 10, 'subsample': 0.8635523908357677, 'colsample_bytree': 0.5904371111274501, 'min_child_weight': 9.918122754242049}.\n"
     ]
    },
    {
     "name": "stdout",
     "output_type": "stream",
     "text": [
      "695 "
     ]
    },
    {
     "name": "stderr",
     "output_type": "stream",
     "text": [
      "[I 2019-02-09 15:24:40,052] Finished a trial resulted in value: 0.18866013071895438. Current best value is 0.15708333333333346 with parameters: {'n_estimators': 141, 'gamma': 0.7260861678752946, 'lambda': 0.1406020832695276, 'learning_rate': 0.1415068096803329, 'max_depth': 10, 'subsample': 0.8635523908357677, 'colsample_bytree': 0.5904371111274501, 'min_child_weight': 9.918122754242049}.\n"
     ]
    },
    {
     "name": "stdout",
     "output_type": "stream",
     "text": [
      "696 "
     ]
    },
    {
     "name": "stderr",
     "output_type": "stream",
     "text": [
      "[I 2019-02-09 15:24:49,836] Finished a trial resulted in value: 0.1683986928104576. Current best value is 0.15708333333333346 with parameters: {'n_estimators': 141, 'gamma': 0.7260861678752946, 'lambda': 0.1406020832695276, 'learning_rate': 0.1415068096803329, 'max_depth': 10, 'subsample': 0.8635523908357677, 'colsample_bytree': 0.5904371111274501, 'min_child_weight': 9.918122754242049}.\n"
     ]
    },
    {
     "name": "stdout",
     "output_type": "stream",
     "text": [
      "697 "
     ]
    },
    {
     "name": "stderr",
     "output_type": "stream",
     "text": [
      "[I 2019-02-09 15:24:58,971] Finished a trial resulted in value: 0.1706862745098039. Current best value is 0.15708333333333346 with parameters: {'n_estimators': 141, 'gamma': 0.7260861678752946, 'lambda': 0.1406020832695276, 'learning_rate': 0.1415068096803329, 'max_depth': 10, 'subsample': 0.8635523908357677, 'colsample_bytree': 0.5904371111274501, 'min_child_weight': 9.918122754242049}.\n"
     ]
    },
    {
     "name": "stdout",
     "output_type": "stream",
     "text": [
      "698 "
     ]
    },
    {
     "name": "stderr",
     "output_type": "stream",
     "text": [
      "[I 2019-02-09 15:25:06,895] Finished a trial resulted in value: 0.17879084967320258. Current best value is 0.15708333333333346 with parameters: {'n_estimators': 141, 'gamma': 0.7260861678752946, 'lambda': 0.1406020832695276, 'learning_rate': 0.1415068096803329, 'max_depth': 10, 'subsample': 0.8635523908357677, 'colsample_bytree': 0.5904371111274501, 'min_child_weight': 9.918122754242049}.\n"
     ]
    },
    {
     "name": "stdout",
     "output_type": "stream",
     "text": [
      "699 "
     ]
    },
    {
     "name": "stderr",
     "output_type": "stream",
     "text": [
      "[I 2019-02-09 15:25:20,133] Finished a trial resulted in value: 0.16950980392156867. Current best value is 0.15708333333333346 with parameters: {'n_estimators': 141, 'gamma': 0.7260861678752946, 'lambda': 0.1406020832695276, 'learning_rate': 0.1415068096803329, 'max_depth': 10, 'subsample': 0.8635523908357677, 'colsample_bytree': 0.5904371111274501, 'min_child_weight': 9.918122754242049}.\n"
     ]
    },
    {
     "name": "stdout",
     "output_type": "stream",
     "text": [
      "700 "
     ]
    },
    {
     "name": "stderr",
     "output_type": "stream",
     "text": [
      "[I 2019-02-09 15:25:33,400] Finished a trial resulted in value: 0.16395424836601302. Current best value is 0.15708333333333346 with parameters: {'n_estimators': 141, 'gamma': 0.7260861678752946, 'lambda': 0.1406020832695276, 'learning_rate': 0.1415068096803329, 'max_depth': 10, 'subsample': 0.8635523908357677, 'colsample_bytree': 0.5904371111274501, 'min_child_weight': 9.918122754242049}.\n"
     ]
    },
    {
     "name": "stdout",
     "output_type": "stream",
     "text": [
      "701 "
     ]
    },
    {
     "name": "stderr",
     "output_type": "stream",
     "text": [
      "[I 2019-02-09 15:25:41,322] Finished a trial resulted in value: 0.16395424836601302. Current best value is 0.15708333333333346 with parameters: {'n_estimators': 141, 'gamma': 0.7260861678752946, 'lambda': 0.1406020832695276, 'learning_rate': 0.1415068096803329, 'max_depth': 10, 'subsample': 0.8635523908357677, 'colsample_bytree': 0.5904371111274501, 'min_child_weight': 9.918122754242049}.\n"
     ]
    },
    {
     "name": "stdout",
     "output_type": "stream",
     "text": [
      "702 "
     ]
    },
    {
     "name": "stderr",
     "output_type": "stream",
     "text": [
      "[I 2019-02-09 15:25:50,727] Finished a trial resulted in value: 0.1673529411764707. Current best value is 0.15708333333333346 with parameters: {'n_estimators': 141, 'gamma': 0.7260861678752946, 'lambda': 0.1406020832695276, 'learning_rate': 0.1415068096803329, 'max_depth': 10, 'subsample': 0.8635523908357677, 'colsample_bytree': 0.5904371111274501, 'min_child_weight': 9.918122754242049}.\n"
     ]
    },
    {
     "name": "stdout",
     "output_type": "stream",
     "text": [
      "703 "
     ]
    },
    {
     "name": "stderr",
     "output_type": "stream",
     "text": [
      "[I 2019-02-09 15:26:02,119] Finished a trial resulted in value: 0.16846405228758188. Current best value is 0.15708333333333346 with parameters: {'n_estimators': 141, 'gamma': 0.7260861678752946, 'lambda': 0.1406020832695276, 'learning_rate': 0.1415068096803329, 'max_depth': 10, 'subsample': 0.8635523908357677, 'colsample_bytree': 0.5904371111274501, 'min_child_weight': 9.918122754242049}.\n"
     ]
    },
    {
     "name": "stdout",
     "output_type": "stream",
     "text": [
      "704 "
     ]
    },
    {
     "name": "stderr",
     "output_type": "stream",
     "text": [
      "[I 2019-02-09 15:26:10,267] Finished a trial resulted in value: 0.1673529411764706. Current best value is 0.15708333333333346 with parameters: {'n_estimators': 141, 'gamma': 0.7260861678752946, 'lambda': 0.1406020832695276, 'learning_rate': 0.1415068096803329, 'max_depth': 10, 'subsample': 0.8635523908357677, 'colsample_bytree': 0.5904371111274501, 'min_child_weight': 9.918122754242049}.\n"
     ]
    },
    {
     "name": "stdout",
     "output_type": "stream",
     "text": [
      "705 "
     ]
    },
    {
     "name": "stderr",
     "output_type": "stream",
     "text": [
      "[I 2019-02-09 15:26:22,120] Finished a trial resulted in value: 0.16950980392156867. Current best value is 0.15708333333333346 with parameters: {'n_estimators': 141, 'gamma': 0.7260861678752946, 'lambda': 0.1406020832695276, 'learning_rate': 0.1415068096803329, 'max_depth': 10, 'subsample': 0.8635523908357677, 'colsample_bytree': 0.5904371111274501, 'min_child_weight': 9.918122754242049}.\n"
     ]
    },
    {
     "name": "stdout",
     "output_type": "stream",
     "text": [
      "706 "
     ]
    },
    {
     "name": "stderr",
     "output_type": "stream",
     "text": [
      "[I 2019-02-09 15:26:29,861] Finished a trial resulted in value: 0.16722222222222227. Current best value is 0.15708333333333346 with parameters: {'n_estimators': 141, 'gamma': 0.7260861678752946, 'lambda': 0.1406020832695276, 'learning_rate': 0.1415068096803329, 'max_depth': 10, 'subsample': 0.8635523908357677, 'colsample_bytree': 0.5904371111274501, 'min_child_weight': 9.918122754242049}.\n"
     ]
    },
    {
     "name": "stdout",
     "output_type": "stream",
     "text": [
      "707 "
     ]
    },
    {
     "name": "stderr",
     "output_type": "stream",
     "text": [
      "[I 2019-02-09 15:26:38,728] Finished a trial resulted in value: 0.1640196078431373. Current best value is 0.15708333333333346 with parameters: {'n_estimators': 141, 'gamma': 0.7260861678752946, 'lambda': 0.1406020832695276, 'learning_rate': 0.1415068096803329, 'max_depth': 10, 'subsample': 0.8635523908357677, 'colsample_bytree': 0.5904371111274501, 'min_child_weight': 9.918122754242049}.\n"
     ]
    },
    {
     "name": "stdout",
     "output_type": "stream",
     "text": [
      "708 "
     ]
    },
    {
     "name": "stderr",
     "output_type": "stream",
     "text": [
      "[I 2019-02-09 15:26:49,718] Finished a trial resulted in value: 0.16284313725490196. Current best value is 0.15708333333333346 with parameters: {'n_estimators': 141, 'gamma': 0.7260861678752946, 'lambda': 0.1406020832695276, 'learning_rate': 0.1415068096803329, 'max_depth': 10, 'subsample': 0.8635523908357677, 'colsample_bytree': 0.5904371111274501, 'min_child_weight': 9.918122754242049}.\n"
     ]
    },
    {
     "name": "stdout",
     "output_type": "stream",
     "text": [
      "709 "
     ]
    },
    {
     "name": "stderr",
     "output_type": "stream",
     "text": [
      "[I 2019-02-09 15:26:58,174] Finished a trial resulted in value: 0.17179738562091496. Current best value is 0.15708333333333346 with parameters: {'n_estimators': 141, 'gamma': 0.7260861678752946, 'lambda': 0.1406020832695276, 'learning_rate': 0.1415068096803329, 'max_depth': 10, 'subsample': 0.8635523908357677, 'colsample_bytree': 0.5904371111274501, 'min_child_weight': 9.918122754242049}.\n"
     ]
    },
    {
     "name": "stdout",
     "output_type": "stream",
     "text": [
      "710 "
     ]
    },
    {
     "name": "stderr",
     "output_type": "stream",
     "text": [
      "[I 2019-02-09 15:27:05,420] Finished a trial resulted in value: 0.1661111111111111. Current best value is 0.15708333333333346 with parameters: {'n_estimators': 141, 'gamma': 0.7260861678752946, 'lambda': 0.1406020832695276, 'learning_rate': 0.1415068096803329, 'max_depth': 10, 'subsample': 0.8635523908357677, 'colsample_bytree': 0.5904371111274501, 'min_child_weight': 9.918122754242049}.\n"
     ]
    },
    {
     "name": "stdout",
     "output_type": "stream",
     "text": [
      "711 "
     ]
    },
    {
     "name": "stderr",
     "output_type": "stream",
     "text": [
      "[I 2019-02-09 15:27:15,929] Finished a trial resulted in value: 0.16617647058823537. Current best value is 0.15708333333333346 with parameters: {'n_estimators': 141, 'gamma': 0.7260861678752946, 'lambda': 0.1406020832695276, 'learning_rate': 0.1415068096803329, 'max_depth': 10, 'subsample': 0.8635523908357677, 'colsample_bytree': 0.5904371111274501, 'min_child_weight': 9.918122754242049}.\n"
     ]
    },
    {
     "name": "stdout",
     "output_type": "stream",
     "text": [
      "712 "
     ]
    },
    {
     "name": "stderr",
     "output_type": "stream",
     "text": [
      "[I 2019-02-09 15:27:25,291] Finished a trial resulted in value: 0.16055555555555556. Current best value is 0.15708333333333346 with parameters: {'n_estimators': 141, 'gamma': 0.7260861678752946, 'lambda': 0.1406020832695276, 'learning_rate': 0.1415068096803329, 'max_depth': 10, 'subsample': 0.8635523908357677, 'colsample_bytree': 0.5904371111274501, 'min_child_weight': 9.918122754242049}.\n"
     ]
    },
    {
     "name": "stdout",
     "output_type": "stream",
     "text": [
      "713 "
     ]
    },
    {
     "name": "stderr",
     "output_type": "stream",
     "text": [
      "[I 2019-02-09 15:27:34,530] Finished a trial resulted in value: 0.16957516339869283. Current best value is 0.15708333333333346 with parameters: {'n_estimators': 141, 'gamma': 0.7260861678752946, 'lambda': 0.1406020832695276, 'learning_rate': 0.1415068096803329, 'max_depth': 10, 'subsample': 0.8635523908357677, 'colsample_bytree': 0.5904371111274501, 'min_child_weight': 9.918122754242049}.\n"
     ]
    },
    {
     "name": "stdout",
     "output_type": "stream",
     "text": [
      "714 "
     ]
    },
    {
     "name": "stderr",
     "output_type": "stream",
     "text": [
      "[I 2019-02-09 15:27:42,094] Finished a trial resulted in value: 0.16388888888888897. Current best value is 0.15708333333333346 with parameters: {'n_estimators': 141, 'gamma': 0.7260861678752946, 'lambda': 0.1406020832695276, 'learning_rate': 0.1415068096803329, 'max_depth': 10, 'subsample': 0.8635523908357677, 'colsample_bytree': 0.5904371111274501, 'min_child_weight': 9.918122754242049}.\n"
     ]
    },
    {
     "name": "stdout",
     "output_type": "stream",
     "text": [
      "715 "
     ]
    },
    {
     "name": "stderr",
     "output_type": "stream",
     "text": [
      "[I 2019-02-09 15:27:53,138] Finished a trial resulted in value: 0.1706862745098039. Current best value is 0.15708333333333346 with parameters: {'n_estimators': 141, 'gamma': 0.7260861678752946, 'lambda': 0.1406020832695276, 'learning_rate': 0.1415068096803329, 'max_depth': 10, 'subsample': 0.8635523908357677, 'colsample_bytree': 0.5904371111274501, 'min_child_weight': 9.918122754242049}.\n"
     ]
    },
    {
     "name": "stdout",
     "output_type": "stream",
     "text": [
      "716 "
     ]
    },
    {
     "name": "stderr",
     "output_type": "stream",
     "text": [
      "[I 2019-02-09 15:28:00,178] Finished a trial resulted in value: 0.16728758169934632. Current best value is 0.15708333333333346 with parameters: {'n_estimators': 141, 'gamma': 0.7260861678752946, 'lambda': 0.1406020832695276, 'learning_rate': 0.1415068096803329, 'max_depth': 10, 'subsample': 0.8635523908357677, 'colsample_bytree': 0.5904371111274501, 'min_child_weight': 9.918122754242049}.\n"
     ]
    },
    {
     "name": "stdout",
     "output_type": "stream",
     "text": [
      "717 "
     ]
    },
    {
     "name": "stderr",
     "output_type": "stream",
     "text": [
      "[I 2019-02-09 15:28:11,099] Finished a trial resulted in value: 0.16950980392156878. Current best value is 0.15708333333333346 with parameters: {'n_estimators': 141, 'gamma': 0.7260861678752946, 'lambda': 0.1406020832695276, 'learning_rate': 0.1415068096803329, 'max_depth': 10, 'subsample': 0.8635523908357677, 'colsample_bytree': 0.5904371111274501, 'min_child_weight': 9.918122754242049}.\n"
     ]
    },
    {
     "name": "stdout",
     "output_type": "stream",
     "text": [
      "718 "
     ]
    },
    {
     "name": "stderr",
     "output_type": "stream",
     "text": [
      "[I 2019-02-09 15:28:20,512] Finished a trial resulted in value: 0.16388888888888886. Current best value is 0.15708333333333346 with parameters: {'n_estimators': 141, 'gamma': 0.7260861678752946, 'lambda': 0.1406020832695276, 'learning_rate': 0.1415068096803329, 'max_depth': 10, 'subsample': 0.8635523908357677, 'colsample_bytree': 0.5904371111274501, 'min_child_weight': 9.918122754242049}.\n"
     ]
    },
    {
     "name": "stdout",
     "output_type": "stream",
     "text": [
      "719 "
     ]
    },
    {
     "name": "stderr",
     "output_type": "stream",
     "text": [
      "[I 2019-02-09 15:28:28,991] Finished a trial resulted in value: 0.17513071895424848. Current best value is 0.15708333333333346 with parameters: {'n_estimators': 141, 'gamma': 0.7260861678752946, 'lambda': 0.1406020832695276, 'learning_rate': 0.1415068096803329, 'max_depth': 10, 'subsample': 0.8635523908357677, 'colsample_bytree': 0.5904371111274501, 'min_child_weight': 9.918122754242049}.\n"
     ]
    },
    {
     "name": "stdout",
     "output_type": "stream",
     "text": [
      "720 "
     ]
    },
    {
     "name": "stderr",
     "output_type": "stream",
     "text": [
      "[I 2019-02-09 15:28:37,643] Finished a trial resulted in value: 0.1683986928104575. Current best value is 0.15708333333333346 with parameters: {'n_estimators': 141, 'gamma': 0.7260861678752946, 'lambda': 0.1406020832695276, 'learning_rate': 0.1415068096803329, 'max_depth': 10, 'subsample': 0.8635523908357677, 'colsample_bytree': 0.5904371111274501, 'min_child_weight': 9.918122754242049}.\n"
     ]
    },
    {
     "name": "stdout",
     "output_type": "stream",
     "text": [
      "721 "
     ]
    },
    {
     "name": "stderr",
     "output_type": "stream",
     "text": [
      "[I 2019-02-09 15:29:00,288] Finished a trial resulted in value: 0.16846405228758188. Current best value is 0.15708333333333346 with parameters: {'n_estimators': 141, 'gamma': 0.7260861678752946, 'lambda': 0.1406020832695276, 'learning_rate': 0.1415068096803329, 'max_depth': 10, 'subsample': 0.8635523908357677, 'colsample_bytree': 0.5904371111274501, 'min_child_weight': 9.918122754242049}.\n"
     ]
    },
    {
     "name": "stdout",
     "output_type": "stream",
     "text": [
      "722 "
     ]
    },
    {
     "name": "stderr",
     "output_type": "stream",
     "text": [
      "[I 2019-02-09 15:29:12,970] Finished a trial resulted in value: 0.170686274509804. Current best value is 0.15708333333333346 with parameters: {'n_estimators': 141, 'gamma': 0.7260861678752946, 'lambda': 0.1406020832695276, 'learning_rate': 0.1415068096803329, 'max_depth': 10, 'subsample': 0.8635523908357677, 'colsample_bytree': 0.5904371111274501, 'min_child_weight': 9.918122754242049}.\n"
     ]
    },
    {
     "name": "stdout",
     "output_type": "stream",
     "text": [
      "723 "
     ]
    },
    {
     "name": "stderr",
     "output_type": "stream",
     "text": [
      "[I 2019-02-09 15:29:21,743] Finished a trial resulted in value: 0.16728758169934654. Current best value is 0.15708333333333346 with parameters: {'n_estimators': 141, 'gamma': 0.7260861678752946, 'lambda': 0.1406020832695276, 'learning_rate': 0.1415068096803329, 'max_depth': 10, 'subsample': 0.8635523908357677, 'colsample_bytree': 0.5904371111274501, 'min_child_weight': 9.918122754242049}.\n"
     ]
    },
    {
     "name": "stdout",
     "output_type": "stream",
     "text": [
      "724 "
     ]
    },
    {
     "name": "stderr",
     "output_type": "stream",
     "text": [
      "[I 2019-02-09 15:29:29,727] Finished a trial resulted in value: 0.16950980392156867. Current best value is 0.15708333333333346 with parameters: {'n_estimators': 141, 'gamma': 0.7260861678752946, 'lambda': 0.1406020832695276, 'learning_rate': 0.1415068096803329, 'max_depth': 10, 'subsample': 0.8635523908357677, 'colsample_bytree': 0.5904371111274501, 'min_child_weight': 9.918122754242049}.\n"
     ]
    },
    {
     "name": "stdout",
     "output_type": "stream",
     "text": [
      "725 "
     ]
    },
    {
     "name": "stderr",
     "output_type": "stream",
     "text": [
      "[I 2019-02-09 15:29:35,181] Finished a trial resulted in value: 0.1706862745098039. Current best value is 0.15708333333333346 with parameters: {'n_estimators': 141, 'gamma': 0.7260861678752946, 'lambda': 0.1406020832695276, 'learning_rate': 0.1415068096803329, 'max_depth': 10, 'subsample': 0.8635523908357677, 'colsample_bytree': 0.5904371111274501, 'min_child_weight': 9.918122754242049}.\n"
     ]
    },
    {
     "name": "stdout",
     "output_type": "stream",
     "text": [
      "726 "
     ]
    },
    {
     "name": "stderr",
     "output_type": "stream",
     "text": [
      "[I 2019-02-09 15:29:43,664] Finished a trial resulted in value: 0.1706862745098039. Current best value is 0.15708333333333346 with parameters: {'n_estimators': 141, 'gamma': 0.7260861678752946, 'lambda': 0.1406020832695276, 'learning_rate': 0.1415068096803329, 'max_depth': 10, 'subsample': 0.8635523908357677, 'colsample_bytree': 0.5904371111274501, 'min_child_weight': 9.918122754242049}.\n"
     ]
    },
    {
     "name": "stdout",
     "output_type": "stream",
     "text": [
      "727 "
     ]
    },
    {
     "name": "stderr",
     "output_type": "stream",
     "text": [
      "[I 2019-02-09 15:29:53,329] Finished a trial resulted in value: 0.1683986928104576. Current best value is 0.15708333333333346 with parameters: {'n_estimators': 141, 'gamma': 0.7260861678752946, 'lambda': 0.1406020832695276, 'learning_rate': 0.1415068096803329, 'max_depth': 10, 'subsample': 0.8635523908357677, 'colsample_bytree': 0.5904371111274501, 'min_child_weight': 9.918122754242049}.\n"
     ]
    },
    {
     "name": "stdout",
     "output_type": "stream",
     "text": [
      "728 "
     ]
    },
    {
     "name": "stderr",
     "output_type": "stream",
     "text": [
      "[I 2019-02-09 15:30:01,902] Finished a trial resulted in value: 0.16852941176470582. Current best value is 0.15708333333333346 with parameters: {'n_estimators': 141, 'gamma': 0.7260861678752946, 'lambda': 0.1406020832695276, 'learning_rate': 0.1415068096803329, 'max_depth': 10, 'subsample': 0.8635523908357677, 'colsample_bytree': 0.5904371111274501, 'min_child_weight': 9.918122754242049}.\n"
     ]
    },
    {
     "name": "stdout",
     "output_type": "stream",
     "text": [
      "729 "
     ]
    },
    {
     "name": "stderr",
     "output_type": "stream",
     "text": [
      "[I 2019-02-09 15:30:13,016] Finished a trial resulted in value: 0.17984477124183018. Current best value is 0.15708333333333346 with parameters: {'n_estimators': 141, 'gamma': 0.7260861678752946, 'lambda': 0.1406020832695276, 'learning_rate': 0.1415068096803329, 'max_depth': 10, 'subsample': 0.8635523908357677, 'colsample_bytree': 0.5904371111274501, 'min_child_weight': 9.918122754242049}.\n"
     ]
    },
    {
     "name": "stdout",
     "output_type": "stream",
     "text": [
      "730 "
     ]
    },
    {
     "name": "stderr",
     "output_type": "stream",
     "text": [
      "[I 2019-02-09 15:30:24,447] Finished a trial resulted in value: 0.1717320261437908. Current best value is 0.15708333333333346 with parameters: {'n_estimators': 141, 'gamma': 0.7260861678752946, 'lambda': 0.1406020832695276, 'learning_rate': 0.1415068096803329, 'max_depth': 10, 'subsample': 0.8635523908357677, 'colsample_bytree': 0.5904371111274501, 'min_child_weight': 9.918122754242049}.\n"
     ]
    },
    {
     "name": "stdout",
     "output_type": "stream",
     "text": [
      "731 "
     ]
    },
    {
     "name": "stderr",
     "output_type": "stream",
     "text": [
      "[I 2019-02-09 15:30:34,384] Finished a trial resulted in value: 0.16388888888888886. Current best value is 0.15708333333333346 with parameters: {'n_estimators': 141, 'gamma': 0.7260861678752946, 'lambda': 0.1406020832695276, 'learning_rate': 0.1415068096803329, 'max_depth': 10, 'subsample': 0.8635523908357677, 'colsample_bytree': 0.5904371111274501, 'min_child_weight': 9.918122754242049}.\n"
     ]
    },
    {
     "name": "stdout",
     "output_type": "stream",
     "text": [
      "732 "
     ]
    },
    {
     "name": "stderr",
     "output_type": "stream",
     "text": [
      "[I 2019-02-09 15:30:45,199] Finished a trial resulted in value: 0.1683986928104575. Current best value is 0.15708333333333346 with parameters: {'n_estimators': 141, 'gamma': 0.7260861678752946, 'lambda': 0.1406020832695276, 'learning_rate': 0.1415068096803329, 'max_depth': 10, 'subsample': 0.8635523908357677, 'colsample_bytree': 0.5904371111274501, 'min_child_weight': 9.918122754242049}.\n"
     ]
    },
    {
     "name": "stdout",
     "output_type": "stream",
     "text": [
      "733 "
     ]
    },
    {
     "name": "stderr",
     "output_type": "stream",
     "text": [
      "[I 2019-02-09 15:30:59,701] Finished a trial resulted in value: 0.1671568627450981. Current best value is 0.15708333333333346 with parameters: {'n_estimators': 141, 'gamma': 0.7260861678752946, 'lambda': 0.1406020832695276, 'learning_rate': 0.1415068096803329, 'max_depth': 10, 'subsample': 0.8635523908357677, 'colsample_bytree': 0.5904371111274501, 'min_child_weight': 9.918122754242049}.\n"
     ]
    },
    {
     "name": "stdout",
     "output_type": "stream",
     "text": [
      "734 "
     ]
    },
    {
     "name": "stderr",
     "output_type": "stream",
     "text": [
      "[I 2019-02-09 15:31:17,772] Finished a trial resulted in value: 0.16846405228758188. Current best value is 0.15708333333333346 with parameters: {'n_estimators': 141, 'gamma': 0.7260861678752946, 'lambda': 0.1406020832695276, 'learning_rate': 0.1415068096803329, 'max_depth': 10, 'subsample': 0.8635523908357677, 'colsample_bytree': 0.5904371111274501, 'min_child_weight': 9.918122754242049}.\n"
     ]
    },
    {
     "name": "stdout",
     "output_type": "stream",
     "text": [
      "735 "
     ]
    },
    {
     "name": "stderr",
     "output_type": "stream",
     "text": [
      "[I 2019-02-09 15:31:30,102] Finished a trial resulted in value: 0.1650653594771242. Current best value is 0.15708333333333346 with parameters: {'n_estimators': 141, 'gamma': 0.7260861678752946, 'lambda': 0.1406020832695276, 'learning_rate': 0.1415068096803329, 'max_depth': 10, 'subsample': 0.8635523908357677, 'colsample_bytree': 0.5904371111274501, 'min_child_weight': 9.918122754242049}.\n"
     ]
    },
    {
     "name": "stdout",
     "output_type": "stream",
     "text": [
      "736 "
     ]
    },
    {
     "name": "stderr",
     "output_type": "stream",
     "text": [
      "[I 2019-02-09 15:31:33,393] Finished a trial resulted in value: 0.383578431372549. Current best value is 0.15708333333333346 with parameters: {'n_estimators': 141, 'gamma': 0.7260861678752946, 'lambda': 0.1406020832695276, 'learning_rate': 0.1415068096803329, 'max_depth': 10, 'subsample': 0.8635523908357677, 'colsample_bytree': 0.5904371111274501, 'min_child_weight': 9.918122754242049}.\n"
     ]
    },
    {
     "name": "stdout",
     "output_type": "stream",
     "text": [
      "737 "
     ]
    },
    {
     "name": "stderr",
     "output_type": "stream",
     "text": [
      "[I 2019-02-09 15:31:42,953] Finished a trial resulted in value: 0.16388888888888886. Current best value is 0.15708333333333346 with parameters: {'n_estimators': 141, 'gamma': 0.7260861678752946, 'lambda': 0.1406020832695276, 'learning_rate': 0.1415068096803329, 'max_depth': 10, 'subsample': 0.8635523908357677, 'colsample_bytree': 0.5904371111274501, 'min_child_weight': 9.918122754242049}.\n"
     ]
    },
    {
     "name": "stdout",
     "output_type": "stream",
     "text": [
      "738 "
     ]
    },
    {
     "name": "stderr",
     "output_type": "stream",
     "text": [
      "[I 2019-02-09 15:31:50,042] Finished a trial resulted in value: 0.16617647058823537. Current best value is 0.15708333333333346 with parameters: {'n_estimators': 141, 'gamma': 0.7260861678752946, 'lambda': 0.1406020832695276, 'learning_rate': 0.1415068096803329, 'max_depth': 10, 'subsample': 0.8635523908357677, 'colsample_bytree': 0.5904371111274501, 'min_child_weight': 9.918122754242049}.\n"
     ]
    },
    {
     "name": "stdout",
     "output_type": "stream",
     "text": [
      "739 "
     ]
    },
    {
     "name": "stderr",
     "output_type": "stream",
     "text": [
      "[I 2019-02-09 15:31:56,254] Finished a trial resulted in value: 0.1683986928104575. Current best value is 0.15708333333333346 with parameters: {'n_estimators': 141, 'gamma': 0.7260861678752946, 'lambda': 0.1406020832695276, 'learning_rate': 0.1415068096803329, 'max_depth': 10, 'subsample': 0.8635523908357677, 'colsample_bytree': 0.5904371111274501, 'min_child_weight': 9.918122754242049}.\n"
     ]
    },
    {
     "name": "stdout",
     "output_type": "stream",
     "text": [
      "740 "
     ]
    },
    {
     "name": "stderr",
     "output_type": "stream",
     "text": [
      "[I 2019-02-09 15:32:08,209] Finished a trial resulted in value: 0.1683986928104576. Current best value is 0.15708333333333346 with parameters: {'n_estimators': 141, 'gamma': 0.7260861678752946, 'lambda': 0.1406020832695276, 'learning_rate': 0.1415068096803329, 'max_depth': 10, 'subsample': 0.8635523908357677, 'colsample_bytree': 0.5904371111274501, 'min_child_weight': 9.918122754242049}.\n"
     ]
    },
    {
     "name": "stdout",
     "output_type": "stream",
     "text": [
      "741 "
     ]
    },
    {
     "name": "stderr",
     "output_type": "stream",
     "text": [
      "[I 2019-02-09 15:32:14,585] Finished a trial resulted in value: 0.1594444444444444. Current best value is 0.15708333333333346 with parameters: {'n_estimators': 141, 'gamma': 0.7260861678752946, 'lambda': 0.1406020832695276, 'learning_rate': 0.1415068096803329, 'max_depth': 10, 'subsample': 0.8635523908357677, 'colsample_bytree': 0.5904371111274501, 'min_child_weight': 9.918122754242049}.\n"
     ]
    },
    {
     "name": "stdout",
     "output_type": "stream",
     "text": [
      "742 "
     ]
    },
    {
     "name": "stderr",
     "output_type": "stream",
     "text": [
      "[I 2019-02-09 15:32:21,621] Finished a trial resulted in value: 0.1683986928104575. Current best value is 0.15708333333333346 with parameters: {'n_estimators': 141, 'gamma': 0.7260861678752946, 'lambda': 0.1406020832695276, 'learning_rate': 0.1415068096803329, 'max_depth': 10, 'subsample': 0.8635523908357677, 'colsample_bytree': 0.5904371111274501, 'min_child_weight': 9.918122754242049}.\n"
     ]
    },
    {
     "name": "stdout",
     "output_type": "stream",
     "text": [
      "743 "
     ]
    },
    {
     "name": "stderr",
     "output_type": "stream",
     "text": [
      "[I 2019-02-09 15:32:28,867] Finished a trial resulted in value: 0.1627777777777777. Current best value is 0.15708333333333346 with parameters: {'n_estimators': 141, 'gamma': 0.7260861678752946, 'lambda': 0.1406020832695276, 'learning_rate': 0.1415068096803329, 'max_depth': 10, 'subsample': 0.8635523908357677, 'colsample_bytree': 0.5904371111274501, 'min_child_weight': 9.918122754242049}.\n"
     ]
    },
    {
     "name": "stdout",
     "output_type": "stream",
     "text": [
      "744 "
     ]
    },
    {
     "name": "stderr",
     "output_type": "stream",
     "text": [
      "[I 2019-02-09 15:32:35,658] Finished a trial resulted in value: 0.16388888888888886. Current best value is 0.15708333333333346 with parameters: {'n_estimators': 141, 'gamma': 0.7260861678752946, 'lambda': 0.1406020832695276, 'learning_rate': 0.1415068096803329, 'max_depth': 10, 'subsample': 0.8635523908357677, 'colsample_bytree': 0.5904371111274501, 'min_child_weight': 9.918122754242049}.\n"
     ]
    },
    {
     "name": "stdout",
     "output_type": "stream",
     "text": [
      "745 "
     ]
    },
    {
     "name": "stderr",
     "output_type": "stream",
     "text": [
      "[I 2019-02-09 15:32:42,250] Finished a trial resulted in value: 0.16617647058823537. Current best value is 0.15708333333333346 with parameters: {'n_estimators': 141, 'gamma': 0.7260861678752946, 'lambda': 0.1406020832695276, 'learning_rate': 0.1415068096803329, 'max_depth': 10, 'subsample': 0.8635523908357677, 'colsample_bytree': 0.5904371111274501, 'min_child_weight': 9.918122754242049}.\n"
     ]
    },
    {
     "name": "stdout",
     "output_type": "stream",
     "text": [
      "746 "
     ]
    },
    {
     "name": "stderr",
     "output_type": "stream",
     "text": [
      "[I 2019-02-09 15:32:50,301] Finished a trial resulted in value: 0.16950980392156867. Current best value is 0.15708333333333346 with parameters: {'n_estimators': 141, 'gamma': 0.7260861678752946, 'lambda': 0.1406020832695276, 'learning_rate': 0.1415068096803329, 'max_depth': 10, 'subsample': 0.8635523908357677, 'colsample_bytree': 0.5904371111274501, 'min_child_weight': 9.918122754242049}.\n"
     ]
    },
    {
     "name": "stdout",
     "output_type": "stream",
     "text": [
      "747 "
     ]
    },
    {
     "name": "stderr",
     "output_type": "stream",
     "text": [
      "[I 2019-02-09 15:32:56,828] Finished a trial resulted in value: 0.1617320261437909. Current best value is 0.15708333333333346 with parameters: {'n_estimators': 141, 'gamma': 0.7260861678752946, 'lambda': 0.1406020832695276, 'learning_rate': 0.1415068096803329, 'max_depth': 10, 'subsample': 0.8635523908357677, 'colsample_bytree': 0.5904371111274501, 'min_child_weight': 9.918122754242049}.\n"
     ]
    },
    {
     "name": "stdout",
     "output_type": "stream",
     "text": [
      "748 "
     ]
    },
    {
     "name": "stderr",
     "output_type": "stream",
     "text": [
      "[I 2019-02-09 15:33:03,193] Finished a trial resulted in value: 0.17062091503267984. Current best value is 0.15708333333333346 with parameters: {'n_estimators': 141, 'gamma': 0.7260861678752946, 'lambda': 0.1406020832695276, 'learning_rate': 0.1415068096803329, 'max_depth': 10, 'subsample': 0.8635523908357677, 'colsample_bytree': 0.5904371111274501, 'min_child_weight': 9.918122754242049}.\n"
     ]
    },
    {
     "name": "stdout",
     "output_type": "stream",
     "text": [
      "749 "
     ]
    },
    {
     "name": "stderr",
     "output_type": "stream",
     "text": [
      "[I 2019-02-09 15:33:12,623] Finished a trial resulted in value: 0.1650653594771242. Current best value is 0.15708333333333346 with parameters: {'n_estimators': 141, 'gamma': 0.7260861678752946, 'lambda': 0.1406020832695276, 'learning_rate': 0.1415068096803329, 'max_depth': 10, 'subsample': 0.8635523908357677, 'colsample_bytree': 0.5904371111274501, 'min_child_weight': 9.918122754242049}.\n"
     ]
    },
    {
     "name": "stdout",
     "output_type": "stream",
     "text": [
      "750 "
     ]
    },
    {
     "name": "stderr",
     "output_type": "stream",
     "text": [
      "[I 2019-02-09 15:33:20,400] Finished a trial resulted in value: 0.1627777777777779. Current best value is 0.15708333333333346 with parameters: {'n_estimators': 141, 'gamma': 0.7260861678752946, 'lambda': 0.1406020832695276, 'learning_rate': 0.1415068096803329, 'max_depth': 10, 'subsample': 0.8635523908357677, 'colsample_bytree': 0.5904371111274501, 'min_child_weight': 9.918122754242049}.\n"
     ]
    },
    {
     "name": "stdout",
     "output_type": "stream",
     "text": [
      "751 "
     ]
    },
    {
     "name": "stderr",
     "output_type": "stream",
     "text": [
      "[I 2019-02-09 15:33:26,332] Finished a trial resulted in value: 0.16513071895424847. Current best value is 0.15708333333333346 with parameters: {'n_estimators': 141, 'gamma': 0.7260861678752946, 'lambda': 0.1406020832695276, 'learning_rate': 0.1415068096803329, 'max_depth': 10, 'subsample': 0.8635523908357677, 'colsample_bytree': 0.5904371111274501, 'min_child_weight': 9.918122754242049}.\n"
     ]
    },
    {
     "name": "stdout",
     "output_type": "stream",
     "text": [
      "752 "
     ]
    },
    {
     "name": "stderr",
     "output_type": "stream",
     "text": [
      "[I 2019-02-09 15:33:33,154] Finished a trial resulted in value: 0.1640196078431373. Current best value is 0.15708333333333346 with parameters: {'n_estimators': 141, 'gamma': 0.7260861678752946, 'lambda': 0.1406020832695276, 'learning_rate': 0.1415068096803329, 'max_depth': 10, 'subsample': 0.8635523908357677, 'colsample_bytree': 0.5904371111274501, 'min_child_weight': 9.918122754242049}.\n"
     ]
    },
    {
     "name": "stdout",
     "output_type": "stream",
     "text": [
      "753 "
     ]
    },
    {
     "name": "stderr",
     "output_type": "stream",
     "text": [
      "[I 2019-02-09 15:33:38,531] Finished a trial resulted in value: 0.16388071895424827. Current best value is 0.15708333333333346 with parameters: {'n_estimators': 141, 'gamma': 0.7260861678752946, 'lambda': 0.1406020832695276, 'learning_rate': 0.1415068096803329, 'max_depth': 10, 'subsample': 0.8635523908357677, 'colsample_bytree': 0.5904371111274501, 'min_child_weight': 9.918122754242049}.\n"
     ]
    },
    {
     "name": "stdout",
     "output_type": "stream",
     "text": [
      "754 "
     ]
    },
    {
     "name": "stderr",
     "output_type": "stream",
     "text": [
      "[I 2019-02-09 15:33:47,264] Finished a trial resulted in value: 0.16270424836601305. Current best value is 0.15708333333333346 with parameters: {'n_estimators': 141, 'gamma': 0.7260861678752946, 'lambda': 0.1406020832695276, 'learning_rate': 0.1415068096803329, 'max_depth': 10, 'subsample': 0.8635523908357677, 'colsample_bytree': 0.5904371111274501, 'min_child_weight': 9.918122754242049}.\n"
     ]
    },
    {
     "name": "stdout",
     "output_type": "stream",
     "text": [
      "755 "
     ]
    },
    {
     "name": "stderr",
     "output_type": "stream",
     "text": [
      "[I 2019-02-09 15:33:54,985] Finished a trial resulted in value: 0.16617647058823537. Current best value is 0.15708333333333346 with parameters: {'n_estimators': 141, 'gamma': 0.7260861678752946, 'lambda': 0.1406020832695276, 'learning_rate': 0.1415068096803329, 'max_depth': 10, 'subsample': 0.8635523908357677, 'colsample_bytree': 0.5904371111274501, 'min_child_weight': 9.918122754242049}.\n"
     ]
    },
    {
     "name": "stdout",
     "output_type": "stream",
     "text": [
      "756 "
     ]
    },
    {
     "name": "stderr",
     "output_type": "stream",
     "text": [
      "[I 2019-02-09 15:34:02,784] Finished a trial resulted in value: 0.16624183006535953. Current best value is 0.15708333333333346 with parameters: {'n_estimators': 141, 'gamma': 0.7260861678752946, 'lambda': 0.1406020832695276, 'learning_rate': 0.1415068096803329, 'max_depth': 10, 'subsample': 0.8635523908357677, 'colsample_bytree': 0.5904371111274501, 'min_child_weight': 9.918122754242049}.\n"
     ]
    },
    {
     "name": "stdout",
     "output_type": "stream",
     "text": [
      "757 "
     ]
    },
    {
     "name": "stderr",
     "output_type": "stream",
     "text": [
      "[I 2019-02-09 15:34:08,193] Finished a trial resulted in value: 0.16500000000000004. Current best value is 0.15708333333333346 with parameters: {'n_estimators': 141, 'gamma': 0.7260861678752946, 'lambda': 0.1406020832695276, 'learning_rate': 0.1415068096803329, 'max_depth': 10, 'subsample': 0.8635523908357677, 'colsample_bytree': 0.5904371111274501, 'min_child_weight': 9.918122754242049}.\n"
     ]
    },
    {
     "name": "stdout",
     "output_type": "stream",
     "text": [
      "758 "
     ]
    },
    {
     "name": "stderr",
     "output_type": "stream",
     "text": [
      "[I 2019-02-09 15:34:16,782] Finished a trial resulted in value: 0.16062091503267983. Current best value is 0.15708333333333346 with parameters: {'n_estimators': 141, 'gamma': 0.7260861678752946, 'lambda': 0.1406020832695276, 'learning_rate': 0.1415068096803329, 'max_depth': 10, 'subsample': 0.8635523908357677, 'colsample_bytree': 0.5904371111274501, 'min_child_weight': 9.918122754242049}.\n"
     ]
    },
    {
     "name": "stdout",
     "output_type": "stream",
     "text": [
      "759 "
     ]
    },
    {
     "name": "stderr",
     "output_type": "stream",
     "text": [
      "[I 2019-02-09 15:34:22,602] Finished a trial resulted in value: 0.1640196078431373. Current best value is 0.15708333333333346 with parameters: {'n_estimators': 141, 'gamma': 0.7260861678752946, 'lambda': 0.1406020832695276, 'learning_rate': 0.1415068096803329, 'max_depth': 10, 'subsample': 0.8635523908357677, 'colsample_bytree': 0.5904371111274501, 'min_child_weight': 9.918122754242049}.\n"
     ]
    },
    {
     "name": "stdout",
     "output_type": "stream",
     "text": [
      "760 "
     ]
    },
    {
     "name": "stderr",
     "output_type": "stream",
     "text": [
      "[I 2019-02-09 15:34:31,279] Finished a trial resulted in value: 0.1640196078431373. Current best value is 0.15708333333333346 with parameters: {'n_estimators': 141, 'gamma': 0.7260861678752946, 'lambda': 0.1406020832695276, 'learning_rate': 0.1415068096803329, 'max_depth': 10, 'subsample': 0.8635523908357677, 'colsample_bytree': 0.5904371111274501, 'min_child_weight': 9.918122754242049}.\n"
     ]
    },
    {
     "name": "stdout",
     "output_type": "stream",
     "text": [
      "761 "
     ]
    },
    {
     "name": "stderr",
     "output_type": "stream",
     "text": [
      "[I 2019-02-09 15:34:35,402] Finished a trial resulted in value: 0.20309640522875827. Current best value is 0.15708333333333346 with parameters: {'n_estimators': 141, 'gamma': 0.7260861678752946, 'lambda': 0.1406020832695276, 'learning_rate': 0.1415068096803329, 'max_depth': 10, 'subsample': 0.8635523908357677, 'colsample_bytree': 0.5904371111274501, 'min_child_weight': 9.918122754242049}.\n"
     ]
    },
    {
     "name": "stdout",
     "output_type": "stream",
     "text": [
      "762 "
     ]
    },
    {
     "name": "stderr",
     "output_type": "stream",
     "text": [
      "[I 2019-02-09 15:34:39,686] Finished a trial resulted in value: 0.224419934640523. Current best value is 0.15708333333333346 with parameters: {'n_estimators': 141, 'gamma': 0.7260861678752946, 'lambda': 0.1406020832695276, 'learning_rate': 0.1415068096803329, 'max_depth': 10, 'subsample': 0.8635523908357677, 'colsample_bytree': 0.5904371111274501, 'min_child_weight': 9.918122754242049}.\n"
     ]
    },
    {
     "name": "stdout",
     "output_type": "stream",
     "text": [
      "763 "
     ]
    },
    {
     "name": "stderr",
     "output_type": "stream",
     "text": [
      "[I 2019-02-09 15:34:47,191] Finished a trial resulted in value: 0.17394607843137266. Current best value is 0.15708333333333346 with parameters: {'n_estimators': 141, 'gamma': 0.7260861678752946, 'lambda': 0.1406020832695276, 'learning_rate': 0.1415068096803329, 'max_depth': 10, 'subsample': 0.8635523908357677, 'colsample_bytree': 0.5904371111274501, 'min_child_weight': 9.918122754242049}.\n"
     ]
    },
    {
     "name": "stdout",
     "output_type": "stream",
     "text": [
      "764 "
     ]
    },
    {
     "name": "stderr",
     "output_type": "stream",
     "text": [
      "[I 2019-02-09 15:34:52,361] Finished a trial resulted in value: 0.1683986928104576. Current best value is 0.15708333333333346 with parameters: {'n_estimators': 141, 'gamma': 0.7260861678752946, 'lambda': 0.1406020832695276, 'learning_rate': 0.1415068096803329, 'max_depth': 10, 'subsample': 0.8635523908357677, 'colsample_bytree': 0.5904371111274501, 'min_child_weight': 9.918122754242049}.\n"
     ]
    },
    {
     "name": "stdout",
     "output_type": "stream",
     "text": [
      "765 "
     ]
    },
    {
     "name": "stderr",
     "output_type": "stream",
     "text": [
      "[I 2019-02-09 15:34:59,599] Finished a trial resulted in value: 0.16617647058823537. Current best value is 0.15708333333333346 with parameters: {'n_estimators': 141, 'gamma': 0.7260861678752946, 'lambda': 0.1406020832695276, 'learning_rate': 0.1415068096803329, 'max_depth': 10, 'subsample': 0.8635523908357677, 'colsample_bytree': 0.5904371111274501, 'min_child_weight': 9.918122754242049}.\n"
     ]
    },
    {
     "name": "stdout",
     "output_type": "stream",
     "text": [
      "766 "
     ]
    },
    {
     "name": "stderr",
     "output_type": "stream",
     "text": [
      "[I 2019-02-09 15:35:08,688] Finished a trial resulted in value: 0.16846405228758177. Current best value is 0.15708333333333346 with parameters: {'n_estimators': 141, 'gamma': 0.7260861678752946, 'lambda': 0.1406020832695276, 'learning_rate': 0.1415068096803329, 'max_depth': 10, 'subsample': 0.8635523908357677, 'colsample_bytree': 0.5904371111274501, 'min_child_weight': 9.918122754242049}.\n"
     ]
    },
    {
     "name": "stdout",
     "output_type": "stream",
     "text": [
      "767 "
     ]
    },
    {
     "name": "stderr",
     "output_type": "stream",
     "text": [
      "[I 2019-02-09 15:35:17,592] Finished a trial resulted in value: 0.16826797385620917. Current best value is 0.15708333333333346 with parameters: {'n_estimators': 141, 'gamma': 0.7260861678752946, 'lambda': 0.1406020832695276, 'learning_rate': 0.1415068096803329, 'max_depth': 10, 'subsample': 0.8635523908357677, 'colsample_bytree': 0.5904371111274501, 'min_child_weight': 9.918122754242049}.\n"
     ]
    },
    {
     "name": "stdout",
     "output_type": "stream",
     "text": [
      "768 "
     ]
    },
    {
     "name": "stderr",
     "output_type": "stream",
     "text": [
      "[I 2019-02-09 15:35:24,841] Finished a trial resulted in value: 0.17741013071895428. Current best value is 0.15708333333333346 with parameters: {'n_estimators': 141, 'gamma': 0.7260861678752946, 'lambda': 0.1406020832695276, 'learning_rate': 0.1415068096803329, 'max_depth': 10, 'subsample': 0.8635523908357677, 'colsample_bytree': 0.5904371111274501, 'min_child_weight': 9.918122754242049}.\n"
     ]
    },
    {
     "name": "stdout",
     "output_type": "stream",
     "text": [
      "769 "
     ]
    },
    {
     "name": "stderr",
     "output_type": "stream",
     "text": [
      "[I 2019-02-09 15:35:33,966] Finished a trial resulted in value: 0.16284313725490196. Current best value is 0.15708333333333346 with parameters: {'n_estimators': 141, 'gamma': 0.7260861678752946, 'lambda': 0.1406020832695276, 'learning_rate': 0.1415068096803329, 'max_depth': 10, 'subsample': 0.8635523908357677, 'colsample_bytree': 0.5904371111274501, 'min_child_weight': 9.918122754242049}.\n"
     ]
    },
    {
     "name": "stdout",
     "output_type": "stream",
     "text": [
      "770 "
     ]
    },
    {
     "name": "stderr",
     "output_type": "stream",
     "text": [
      "[I 2019-02-09 15:35:42,345] Finished a trial resulted in value: 0.16708333333333347. Current best value is 0.15708333333333346 with parameters: {'n_estimators': 141, 'gamma': 0.7260861678752946, 'lambda': 0.1406020832695276, 'learning_rate': 0.1415068096803329, 'max_depth': 10, 'subsample': 0.8635523908357677, 'colsample_bytree': 0.5904371111274501, 'min_child_weight': 9.918122754242049}.\n"
     ]
    },
    {
     "name": "stdout",
     "output_type": "stream",
     "text": [
      "771 "
     ]
    },
    {
     "name": "stderr",
     "output_type": "stream",
     "text": [
      "[I 2019-02-09 15:35:50,664] Finished a trial resulted in value: 0.1661111111111111. Current best value is 0.15708333333333346 with parameters: {'n_estimators': 141, 'gamma': 0.7260861678752946, 'lambda': 0.1406020832695276, 'learning_rate': 0.1415068096803329, 'max_depth': 10, 'subsample': 0.8635523908357677, 'colsample_bytree': 0.5904371111274501, 'min_child_weight': 9.918122754242049}.\n"
     ]
    },
    {
     "name": "stdout",
     "output_type": "stream",
     "text": [
      "772 "
     ]
    },
    {
     "name": "stderr",
     "output_type": "stream",
     "text": [
      "[I 2019-02-09 15:35:58,358] Finished a trial resulted in value: 0.18053921568627462. Current best value is 0.15708333333333346 with parameters: {'n_estimators': 141, 'gamma': 0.7260861678752946, 'lambda': 0.1406020832695276, 'learning_rate': 0.1415068096803329, 'max_depth': 10, 'subsample': 0.8635523908357677, 'colsample_bytree': 0.5904371111274501, 'min_child_weight': 9.918122754242049}.\n"
     ]
    },
    {
     "name": "stdout",
     "output_type": "stream",
     "text": [
      "773 "
     ]
    },
    {
     "name": "stderr",
     "output_type": "stream",
     "text": [
      "[I 2019-02-09 15:36:03,049] Finished a trial resulted in value: 0.19080882352941186. Current best value is 0.15708333333333346 with parameters: {'n_estimators': 141, 'gamma': 0.7260861678752946, 'lambda': 0.1406020832695276, 'learning_rate': 0.1415068096803329, 'max_depth': 10, 'subsample': 0.8635523908357677, 'colsample_bytree': 0.5904371111274501, 'min_child_weight': 9.918122754242049}.\n"
     ]
    },
    {
     "name": "stdout",
     "output_type": "stream",
     "text": [
      "774 "
     ]
    },
    {
     "name": "stderr",
     "output_type": "stream",
     "text": [
      "[I 2019-02-09 15:36:16,785] Finished a trial resulted in value: 0.1706862745098039. Current best value is 0.15708333333333346 with parameters: {'n_estimators': 141, 'gamma': 0.7260861678752946, 'lambda': 0.1406020832695276, 'learning_rate': 0.1415068096803329, 'max_depth': 10, 'subsample': 0.8635523908357677, 'colsample_bytree': 0.5904371111274501, 'min_child_weight': 9.918122754242049}.\n"
     ]
    },
    {
     "name": "stdout",
     "output_type": "stream",
     "text": [
      "775 "
     ]
    },
    {
     "name": "stderr",
     "output_type": "stream",
     "text": [
      "[I 2019-02-09 15:36:26,251] Finished a trial resulted in value: 0.16617647058823537. Current best value is 0.15708333333333346 with parameters: {'n_estimators': 141, 'gamma': 0.7260861678752946, 'lambda': 0.1406020832695276, 'learning_rate': 0.1415068096803329, 'max_depth': 10, 'subsample': 0.8635523908357677, 'colsample_bytree': 0.5904371111274501, 'min_child_weight': 9.918122754242049}.\n"
     ]
    },
    {
     "name": "stdout",
     "output_type": "stream",
     "text": [
      "776 "
     ]
    },
    {
     "name": "stderr",
     "output_type": "stream",
     "text": [
      "[I 2019-02-09 15:36:31,961] Finished a trial resulted in value: 0.17062091503267984. Current best value is 0.15708333333333346 with parameters: {'n_estimators': 141, 'gamma': 0.7260861678752946, 'lambda': 0.1406020832695276, 'learning_rate': 0.1415068096803329, 'max_depth': 10, 'subsample': 0.8635523908357677, 'colsample_bytree': 0.5904371111274501, 'min_child_weight': 9.918122754242049}.\n"
     ]
    },
    {
     "name": "stdout",
     "output_type": "stream",
     "text": [
      "777 "
     ]
    },
    {
     "name": "stderr",
     "output_type": "stream",
     "text": [
      "[I 2019-02-09 15:36:36,470] Finished a trial resulted in value: 0.1682598039215687. Current best value is 0.15708333333333346 with parameters: {'n_estimators': 141, 'gamma': 0.7260861678752946, 'lambda': 0.1406020832695276, 'learning_rate': 0.1415068096803329, 'max_depth': 10, 'subsample': 0.8635523908357677, 'colsample_bytree': 0.5904371111274501, 'min_child_weight': 9.918122754242049}.\n"
     ]
    },
    {
     "name": "stdout",
     "output_type": "stream",
     "text": [
      "778 "
     ]
    },
    {
     "name": "stderr",
     "output_type": "stream",
     "text": [
      "[I 2019-02-09 15:36:45,756] Finished a trial resulted in value: 0.16166666666666663. Current best value is 0.15708333333333346 with parameters: {'n_estimators': 141, 'gamma': 0.7260861678752946, 'lambda': 0.1406020832695276, 'learning_rate': 0.1415068096803329, 'max_depth': 10, 'subsample': 0.8635523908357677, 'colsample_bytree': 0.5904371111274501, 'min_child_weight': 9.918122754242049}.\n"
     ]
    },
    {
     "name": "stdout",
     "output_type": "stream",
     "text": [
      "779 "
     ]
    },
    {
     "name": "stderr",
     "output_type": "stream",
     "text": [
      "[I 2019-02-09 15:36:55,300] Finished a trial resulted in value: 0.16624183006535953. Current best value is 0.15708333333333346 with parameters: {'n_estimators': 141, 'gamma': 0.7260861678752946, 'lambda': 0.1406020832695276, 'learning_rate': 0.1415068096803329, 'max_depth': 10, 'subsample': 0.8635523908357677, 'colsample_bytree': 0.5904371111274501, 'min_child_weight': 9.918122754242049}.\n"
     ]
    },
    {
     "name": "stdout",
     "output_type": "stream",
     "text": [
      "780 "
     ]
    },
    {
     "name": "stderr",
     "output_type": "stream",
     "text": [
      "[I 2019-02-09 15:37:03,204] Finished a trial resulted in value: 0.16493464052287576. Current best value is 0.15708333333333346 with parameters: {'n_estimators': 141, 'gamma': 0.7260861678752946, 'lambda': 0.1406020832695276, 'learning_rate': 0.1415068096803329, 'max_depth': 10, 'subsample': 0.8635523908357677, 'colsample_bytree': 0.5904371111274501, 'min_child_weight': 9.918122754242049}.\n"
     ]
    },
    {
     "name": "stdout",
     "output_type": "stream",
     "text": [
      "781 "
     ]
    },
    {
     "name": "stderr",
     "output_type": "stream",
     "text": [
      "[I 2019-02-09 15:37:10,138] Finished a trial resulted in value: 0.16728758169934654. Current best value is 0.15708333333333346 with parameters: {'n_estimators': 141, 'gamma': 0.7260861678752946, 'lambda': 0.1406020832695276, 'learning_rate': 0.1415068096803329, 'max_depth': 10, 'subsample': 0.8635523908357677, 'colsample_bytree': 0.5904371111274501, 'min_child_weight': 9.918122754242049}.\n"
     ]
    },
    {
     "name": "stdout",
     "output_type": "stream",
     "text": [
      "782 "
     ]
    },
    {
     "name": "stderr",
     "output_type": "stream",
     "text": [
      "[I 2019-02-09 15:37:14,598] Finished a trial resulted in value: 0.19963235294117654. Current best value is 0.15708333333333346 with parameters: {'n_estimators': 141, 'gamma': 0.7260861678752946, 'lambda': 0.1406020832695276, 'learning_rate': 0.1415068096803329, 'max_depth': 10, 'subsample': 0.8635523908357677, 'colsample_bytree': 0.5904371111274501, 'min_child_weight': 9.918122754242049}.\n"
     ]
    },
    {
     "name": "stdout",
     "output_type": "stream",
     "text": [
      "783 "
     ]
    },
    {
     "name": "stderr",
     "output_type": "stream",
     "text": [
      "[I 2019-02-09 15:37:19,154] Finished a trial resulted in value: 0.1606209150326796. Current best value is 0.15708333333333346 with parameters: {'n_estimators': 141, 'gamma': 0.7260861678752946, 'lambda': 0.1406020832695276, 'learning_rate': 0.1415068096803329, 'max_depth': 10, 'subsample': 0.8635523908357677, 'colsample_bytree': 0.5904371111274501, 'min_child_weight': 9.918122754242049}.\n"
     ]
    },
    {
     "name": "stdout",
     "output_type": "stream",
     "text": [
      "784 "
     ]
    },
    {
     "name": "stderr",
     "output_type": "stream",
     "text": [
      "[I 2019-02-09 15:37:30,718] Finished a trial resulted in value: 0.1661111111111111. Current best value is 0.15708333333333346 with parameters: {'n_estimators': 141, 'gamma': 0.7260861678752946, 'lambda': 0.1406020832695276, 'learning_rate': 0.1415068096803329, 'max_depth': 10, 'subsample': 0.8635523908357677, 'colsample_bytree': 0.5904371111274501, 'min_child_weight': 9.918122754242049}.\n"
     ]
    },
    {
     "name": "stdout",
     "output_type": "stream",
     "text": [
      "785 "
     ]
    },
    {
     "name": "stderr",
     "output_type": "stream",
     "text": [
      "[I 2019-02-09 15:37:39,012] Finished a trial resulted in value: 0.1650653594771242. Current best value is 0.15708333333333346 with parameters: {'n_estimators': 141, 'gamma': 0.7260861678752946, 'lambda': 0.1406020832695276, 'learning_rate': 0.1415068096803329, 'max_depth': 10, 'subsample': 0.8635523908357677, 'colsample_bytree': 0.5904371111274501, 'min_child_weight': 9.918122754242049}.\n"
     ]
    },
    {
     "name": "stdout",
     "output_type": "stream",
     "text": [
      "786 "
     ]
    },
    {
     "name": "stderr",
     "output_type": "stream",
     "text": [
      "[I 2019-02-09 15:37:46,950] Finished a trial resulted in value: 0.16513071895424847. Current best value is 0.15708333333333346 with parameters: {'n_estimators': 141, 'gamma': 0.7260861678752946, 'lambda': 0.1406020832695276, 'learning_rate': 0.1415068096803329, 'max_depth': 10, 'subsample': 0.8635523908357677, 'colsample_bytree': 0.5904371111274501, 'min_child_weight': 9.918122754242049}.\n"
     ]
    },
    {
     "name": "stdout",
     "output_type": "stream",
     "text": [
      "787 "
     ]
    },
    {
     "name": "stderr",
     "output_type": "stream",
     "text": [
      "[I 2019-02-09 15:37:54,140] Finished a trial resulted in value: 0.1650653594771242. Current best value is 0.15708333333333346 with parameters: {'n_estimators': 141, 'gamma': 0.7260861678752946, 'lambda': 0.1406020832695276, 'learning_rate': 0.1415068096803329, 'max_depth': 10, 'subsample': 0.8635523908357677, 'colsample_bytree': 0.5904371111274501, 'min_child_weight': 9.918122754242049}.\n"
     ]
    },
    {
     "name": "stdout",
     "output_type": "stream",
     "text": [
      "788 "
     ]
    },
    {
     "name": "stderr",
     "output_type": "stream",
     "text": [
      "[I 2019-02-09 15:38:03,358] Finished a trial resulted in value: 0.16395424836601302. Current best value is 0.15708333333333346 with parameters: {'n_estimators': 141, 'gamma': 0.7260861678752946, 'lambda': 0.1406020832695276, 'learning_rate': 0.1415068096803329, 'max_depth': 10, 'subsample': 0.8635523908357677, 'colsample_bytree': 0.5904371111274501, 'min_child_weight': 9.918122754242049}.\n"
     ]
    },
    {
     "name": "stdout",
     "output_type": "stream",
     "text": [
      "789 "
     ]
    },
    {
     "name": "stderr",
     "output_type": "stream",
     "text": [
      "[I 2019-02-09 15:38:11,754] Finished a trial resulted in value: 0.1717320261437909. Current best value is 0.15708333333333346 with parameters: {'n_estimators': 141, 'gamma': 0.7260861678752946, 'lambda': 0.1406020832695276, 'learning_rate': 0.1415068096803329, 'max_depth': 10, 'subsample': 0.8635523908357677, 'colsample_bytree': 0.5904371111274501, 'min_child_weight': 9.918122754242049}.\n"
     ]
    },
    {
     "name": "stdout",
     "output_type": "stream",
     "text": [
      "790 "
     ]
    },
    {
     "name": "stderr",
     "output_type": "stream",
     "text": [
      "[I 2019-02-09 15:38:19,010] Finished a trial resulted in value: 0.16624183006535953. Current best value is 0.15708333333333346 with parameters: {'n_estimators': 141, 'gamma': 0.7260861678752946, 'lambda': 0.1406020832695276, 'learning_rate': 0.1415068096803329, 'max_depth': 10, 'subsample': 0.8635523908357677, 'colsample_bytree': 0.5904371111274501, 'min_child_weight': 9.918122754242049}.\n"
     ]
    },
    {
     "name": "stdout",
     "output_type": "stream",
     "text": [
      "791 "
     ]
    },
    {
     "name": "stderr",
     "output_type": "stream",
     "text": [
      "[I 2019-02-09 15:38:28,627] Finished a trial resulted in value: 0.16722222222222227. Current best value is 0.15708333333333346 with parameters: {'n_estimators': 141, 'gamma': 0.7260861678752946, 'lambda': 0.1406020832695276, 'learning_rate': 0.1415068096803329, 'max_depth': 10, 'subsample': 0.8635523908357677, 'colsample_bytree': 0.5904371111274501, 'min_child_weight': 9.918122754242049}.\n"
     ]
    },
    {
     "name": "stdout",
     "output_type": "stream",
     "text": [
      "792 "
     ]
    },
    {
     "name": "stderr",
     "output_type": "stream",
     "text": [
      "[I 2019-02-09 15:38:37,543] Finished a trial resulted in value: 0.1617320261437909. Current best value is 0.15708333333333346 with parameters: {'n_estimators': 141, 'gamma': 0.7260861678752946, 'lambda': 0.1406020832695276, 'learning_rate': 0.1415068096803329, 'max_depth': 10, 'subsample': 0.8635523908357677, 'colsample_bytree': 0.5904371111274501, 'min_child_weight': 9.918122754242049}.\n"
     ]
    },
    {
     "name": "stdout",
     "output_type": "stream",
     "text": [
      "793 "
     ]
    },
    {
     "name": "stderr",
     "output_type": "stream",
     "text": [
      "[I 2019-02-09 15:38:44,011] Finished a trial resulted in value: 0.16284313725490207. Current best value is 0.15708333333333346 with parameters: {'n_estimators': 141, 'gamma': 0.7260861678752946, 'lambda': 0.1406020832695276, 'learning_rate': 0.1415068096803329, 'max_depth': 10, 'subsample': 0.8635523908357677, 'colsample_bytree': 0.5904371111274501, 'min_child_weight': 9.918122754242049}.\n"
     ]
    },
    {
     "name": "stdout",
     "output_type": "stream",
     "text": [
      "794 "
     ]
    },
    {
     "name": "stderr",
     "output_type": "stream",
     "text": [
      "[I 2019-02-09 15:38:53,257] Finished a trial resulted in value: 0.17290849673202613. Current best value is 0.15708333333333346 with parameters: {'n_estimators': 141, 'gamma': 0.7260861678752946, 'lambda': 0.1406020832695276, 'learning_rate': 0.1415068096803329, 'max_depth': 10, 'subsample': 0.8635523908357677, 'colsample_bytree': 0.5904371111274501, 'min_child_weight': 9.918122754242049}.\n"
     ]
    },
    {
     "name": "stdout",
     "output_type": "stream",
     "text": [
      "795 "
     ]
    },
    {
     "name": "stderr",
     "output_type": "stream",
     "text": [
      "[I 2019-02-09 15:39:01,137] Finished a trial resulted in value: 0.16068627450980388. Current best value is 0.15708333333333346 with parameters: {'n_estimators': 141, 'gamma': 0.7260861678752946, 'lambda': 0.1406020832695276, 'learning_rate': 0.1415068096803329, 'max_depth': 10, 'subsample': 0.8635523908357677, 'colsample_bytree': 0.5904371111274501, 'min_child_weight': 9.918122754242049}.\n"
     ]
    },
    {
     "name": "stdout",
     "output_type": "stream",
     "text": [
      "796 "
     ]
    },
    {
     "name": "stderr",
     "output_type": "stream",
     "text": [
      "[I 2019-02-09 15:39:12,345] Finished a trial resulted in value: 0.16950980392156856. Current best value is 0.15708333333333346 with parameters: {'n_estimators': 141, 'gamma': 0.7260861678752946, 'lambda': 0.1406020832695276, 'learning_rate': 0.1415068096803329, 'max_depth': 10, 'subsample': 0.8635523908357677, 'colsample_bytree': 0.5904371111274501, 'min_child_weight': 9.918122754242049}.\n"
     ]
    },
    {
     "name": "stdout",
     "output_type": "stream",
     "text": [
      "797 "
     ]
    },
    {
     "name": "stderr",
     "output_type": "stream",
     "text": [
      "[I 2019-02-09 15:39:20,640] Finished a trial resulted in value: 0.1661111111111111. Current best value is 0.15708333333333346 with parameters: {'n_estimators': 141, 'gamma': 0.7260861678752946, 'lambda': 0.1406020832695276, 'learning_rate': 0.1415068096803329, 'max_depth': 10, 'subsample': 0.8635523908357677, 'colsample_bytree': 0.5904371111274501, 'min_child_weight': 9.918122754242049}.\n"
     ]
    },
    {
     "name": "stdout",
     "output_type": "stream",
     "text": [
      "798 "
     ]
    },
    {
     "name": "stderr",
     "output_type": "stream",
     "text": [
      "[I 2019-02-09 15:39:28,032] Finished a trial resulted in value: 0.16395424836601302. Current best value is 0.15708333333333346 with parameters: {'n_estimators': 141, 'gamma': 0.7260861678752946, 'lambda': 0.1406020832695276, 'learning_rate': 0.1415068096803329, 'max_depth': 10, 'subsample': 0.8635523908357677, 'colsample_bytree': 0.5904371111274501, 'min_child_weight': 9.918122754242049}.\n"
     ]
    },
    {
     "name": "stdout",
     "output_type": "stream",
     "text": [
      "799 "
     ]
    },
    {
     "name": "stderr",
     "output_type": "stream",
     "text": [
      "[I 2019-02-09 15:39:37,018] Finished a trial resulted in value: 0.16617647058823537. Current best value is 0.15708333333333346 with parameters: {'n_estimators': 141, 'gamma': 0.7260861678752946, 'lambda': 0.1406020832695276, 'learning_rate': 0.1415068096803329, 'max_depth': 10, 'subsample': 0.8635523908357677, 'colsample_bytree': 0.5904371111274501, 'min_child_weight': 9.918122754242049}.\n"
     ]
    },
    {
     "name": "stdout",
     "output_type": "stream",
     "text": [
      "800 "
     ]
    },
    {
     "name": "stderr",
     "output_type": "stream",
     "text": [
      "[I 2019-02-09 15:39:43,729] Finished a trial resulted in value: 0.16388888888888886. Current best value is 0.15708333333333346 with parameters: {'n_estimators': 141, 'gamma': 0.7260861678752946, 'lambda': 0.1406020832695276, 'learning_rate': 0.1415068096803329, 'max_depth': 10, 'subsample': 0.8635523908357677, 'colsample_bytree': 0.5904371111274501, 'min_child_weight': 9.918122754242049}.\n"
     ]
    },
    {
     "name": "stdout",
     "output_type": "stream",
     "text": [
      "801 "
     ]
    },
    {
     "name": "stderr",
     "output_type": "stream",
     "text": [
      "[I 2019-02-09 15:39:59,874] Finished a trial resulted in value: 0.178733660130719. Current best value is 0.15708333333333346 with parameters: {'n_estimators': 141, 'gamma': 0.7260861678752946, 'lambda': 0.1406020832695276, 'learning_rate': 0.1415068096803329, 'max_depth': 10, 'subsample': 0.8635523908357677, 'colsample_bytree': 0.5904371111274501, 'min_child_weight': 9.918122754242049}.\n"
     ]
    },
    {
     "name": "stdout",
     "output_type": "stream",
     "text": [
      "802 "
     ]
    },
    {
     "name": "stderr",
     "output_type": "stream",
     "text": [
      "[I 2019-02-09 15:40:09,149] Finished a trial resulted in value: 0.1683986928104575. Current best value is 0.15708333333333346 with parameters: {'n_estimators': 141, 'gamma': 0.7260861678752946, 'lambda': 0.1406020832695276, 'learning_rate': 0.1415068096803329, 'max_depth': 10, 'subsample': 0.8635523908357677, 'colsample_bytree': 0.5904371111274501, 'min_child_weight': 9.918122754242049}.\n"
     ]
    },
    {
     "name": "stdout",
     "output_type": "stream",
     "text": [
      "803 "
     ]
    },
    {
     "name": "stderr",
     "output_type": "stream",
     "text": [
      "[I 2019-02-09 15:40:17,455] Finished a trial resulted in value: 0.16722222222222227. Current best value is 0.15708333333333346 with parameters: {'n_estimators': 141, 'gamma': 0.7260861678752946, 'lambda': 0.1406020832695276, 'learning_rate': 0.1415068096803329, 'max_depth': 10, 'subsample': 0.8635523908357677, 'colsample_bytree': 0.5904371111274501, 'min_child_weight': 9.918122754242049}.\n"
     ]
    },
    {
     "name": "stdout",
     "output_type": "stream",
     "text": [
      "804 "
     ]
    },
    {
     "name": "stderr",
     "output_type": "stream",
     "text": [
      "[I 2019-02-09 15:40:23,040] Finished a trial resulted in value: 0.16812091503267979. Current best value is 0.15708333333333346 with parameters: {'n_estimators': 141, 'gamma': 0.7260861678752946, 'lambda': 0.1406020832695276, 'learning_rate': 0.1415068096803329, 'max_depth': 10, 'subsample': 0.8635523908357677, 'colsample_bytree': 0.5904371111274501, 'min_child_weight': 9.918122754242049}.\n"
     ]
    },
    {
     "name": "stdout",
     "output_type": "stream",
     "text": [
      "805 "
     ]
    },
    {
     "name": "stderr",
     "output_type": "stream",
     "text": [
      "[I 2019-02-09 15:40:30,917] Finished a trial resulted in value: 0.1650653594771242. Current best value is 0.15708333333333346 with parameters: {'n_estimators': 141, 'gamma': 0.7260861678752946, 'lambda': 0.1406020832695276, 'learning_rate': 0.1415068096803329, 'max_depth': 10, 'subsample': 0.8635523908357677, 'colsample_bytree': 0.5904371111274501, 'min_child_weight': 9.918122754242049}.\n"
     ]
    },
    {
     "name": "stdout",
     "output_type": "stream",
     "text": [
      "806 "
     ]
    },
    {
     "name": "stderr",
     "output_type": "stream",
     "text": [
      "[I 2019-02-09 15:40:39,472] Finished a trial resulted in value: 0.16388888888888886. Current best value is 0.15708333333333346 with parameters: {'n_estimators': 141, 'gamma': 0.7260861678752946, 'lambda': 0.1406020832695276, 'learning_rate': 0.1415068096803329, 'max_depth': 10, 'subsample': 0.8635523908357677, 'colsample_bytree': 0.5904371111274501, 'min_child_weight': 9.918122754242049}.\n"
     ]
    },
    {
     "name": "stdout",
     "output_type": "stream",
     "text": [
      "807 "
     ]
    },
    {
     "name": "stderr",
     "output_type": "stream",
     "text": [
      "[I 2019-02-09 15:40:46,707] Finished a trial resulted in value: 0.16728758169934632. Current best value is 0.15708333333333346 with parameters: {'n_estimators': 141, 'gamma': 0.7260861678752946, 'lambda': 0.1406020832695276, 'learning_rate': 0.1415068096803329, 'max_depth': 10, 'subsample': 0.8635523908357677, 'colsample_bytree': 0.5904371111274501, 'min_child_weight': 9.918122754242049}.\n"
     ]
    },
    {
     "name": "stdout",
     "output_type": "stream",
     "text": [
      "808 "
     ]
    },
    {
     "name": "stderr",
     "output_type": "stream",
     "text": [
      "[I 2019-02-09 15:40:56,858] Finished a trial resulted in value: 0.169640522875817. Current best value is 0.15708333333333346 with parameters: {'n_estimators': 141, 'gamma': 0.7260861678752946, 'lambda': 0.1406020832695276, 'learning_rate': 0.1415068096803329, 'max_depth': 10, 'subsample': 0.8635523908357677, 'colsample_bytree': 0.5904371111274501, 'min_child_weight': 9.918122754242049}.\n"
     ]
    },
    {
     "name": "stdout",
     "output_type": "stream",
     "text": [
      "809 "
     ]
    },
    {
     "name": "stderr",
     "output_type": "stream",
     "text": [
      "[I 2019-02-09 15:41:02,564] Finished a trial resulted in value: 0.17055555555555557. Current best value is 0.15708333333333346 with parameters: {'n_estimators': 141, 'gamma': 0.7260861678752946, 'lambda': 0.1406020832695276, 'learning_rate': 0.1415068096803329, 'max_depth': 10, 'subsample': 0.8635523908357677, 'colsample_bytree': 0.5904371111274501, 'min_child_weight': 9.918122754242049}.\n"
     ]
    },
    {
     "name": "stdout",
     "output_type": "stream",
     "text": [
      "810 "
     ]
    },
    {
     "name": "stderr",
     "output_type": "stream",
     "text": [
      "[I 2019-02-09 15:41:12,234] Finished a trial resulted in value: 0.1673529411764707. Current best value is 0.15708333333333346 with parameters: {'n_estimators': 141, 'gamma': 0.7260861678752946, 'lambda': 0.1406020832695276, 'learning_rate': 0.1415068096803329, 'max_depth': 10, 'subsample': 0.8635523908357677, 'colsample_bytree': 0.5904371111274501, 'min_child_weight': 9.918122754242049}.\n"
     ]
    },
    {
     "name": "stdout",
     "output_type": "stream",
     "text": [
      "811 "
     ]
    },
    {
     "name": "stderr",
     "output_type": "stream",
     "text": [
      "[I 2019-02-09 15:41:23,083] Finished a trial resulted in value: 0.16846405228758177. Current best value is 0.15708333333333346 with parameters: {'n_estimators': 141, 'gamma': 0.7260861678752946, 'lambda': 0.1406020832695276, 'learning_rate': 0.1415068096803329, 'max_depth': 10, 'subsample': 0.8635523908357677, 'colsample_bytree': 0.5904371111274501, 'min_child_weight': 9.918122754242049}.\n"
     ]
    },
    {
     "name": "stdout",
     "output_type": "stream",
     "text": [
      "812 "
     ]
    },
    {
     "name": "stderr",
     "output_type": "stream",
     "text": [
      "[I 2019-02-09 15:41:32,074] Finished a trial resulted in value: 0.16617647058823537. Current best value is 0.15708333333333346 with parameters: {'n_estimators': 141, 'gamma': 0.7260861678752946, 'lambda': 0.1406020832695276, 'learning_rate': 0.1415068096803329, 'max_depth': 10, 'subsample': 0.8635523908357677, 'colsample_bytree': 0.5904371111274501, 'min_child_weight': 9.918122754242049}.\n"
     ]
    },
    {
     "name": "stdout",
     "output_type": "stream",
     "text": [
      "813 "
     ]
    },
    {
     "name": "stderr",
     "output_type": "stream",
     "text": [
      "[I 2019-02-09 15:41:37,940] Finished a trial resulted in value: 0.17179738562091496. Current best value is 0.15708333333333346 with parameters: {'n_estimators': 141, 'gamma': 0.7260861678752946, 'lambda': 0.1406020832695276, 'learning_rate': 0.1415068096803329, 'max_depth': 10, 'subsample': 0.8635523908357677, 'colsample_bytree': 0.5904371111274501, 'min_child_weight': 9.918122754242049}.\n"
     ]
    },
    {
     "name": "stdout",
     "output_type": "stream",
     "text": [
      "814 "
     ]
    },
    {
     "name": "stderr",
     "output_type": "stream",
     "text": [
      "[I 2019-02-09 15:41:48,853] Finished a trial resulted in value: 0.16179738562091506. Current best value is 0.15708333333333346 with parameters: {'n_estimators': 141, 'gamma': 0.7260861678752946, 'lambda': 0.1406020832695276, 'learning_rate': 0.1415068096803329, 'max_depth': 10, 'subsample': 0.8635523908357677, 'colsample_bytree': 0.5904371111274501, 'min_child_weight': 9.918122754242049}.\n"
     ]
    },
    {
     "name": "stdout",
     "output_type": "stream",
     "text": [
      "815 "
     ]
    },
    {
     "name": "stderr",
     "output_type": "stream",
     "text": [
      "[I 2019-02-09 15:41:54,441] Finished a trial resulted in value: 0.1683986928104576. Current best value is 0.15708333333333346 with parameters: {'n_estimators': 141, 'gamma': 0.7260861678752946, 'lambda': 0.1406020832695276, 'learning_rate': 0.1415068096803329, 'max_depth': 10, 'subsample': 0.8635523908357677, 'colsample_bytree': 0.5904371111274501, 'min_child_weight': 9.918122754242049}.\n"
     ]
    },
    {
     "name": "stdout",
     "output_type": "stream",
     "text": [
      "816 "
     ]
    },
    {
     "name": "stderr",
     "output_type": "stream",
     "text": [
      "[I 2019-02-09 15:42:02,929] Finished a trial resulted in value: 0.16395424836601302. Current best value is 0.15708333333333346 with parameters: {'n_estimators': 141, 'gamma': 0.7260861678752946, 'lambda': 0.1406020832695276, 'learning_rate': 0.1415068096803329, 'max_depth': 10, 'subsample': 0.8635523908357677, 'colsample_bytree': 0.5904371111274501, 'min_child_weight': 9.918122754242049}.\n"
     ]
    },
    {
     "name": "stdout",
     "output_type": "stream",
     "text": [
      "817 "
     ]
    },
    {
     "name": "stderr",
     "output_type": "stream",
     "text": [
      "[I 2019-02-09 15:42:09,415] Finished a trial resulted in value: 0.16617647058823537. Current best value is 0.15708333333333346 with parameters: {'n_estimators': 141, 'gamma': 0.7260861678752946, 'lambda': 0.1406020832695276, 'learning_rate': 0.1415068096803329, 'max_depth': 10, 'subsample': 0.8635523908357677, 'colsample_bytree': 0.5904371111274501, 'min_child_weight': 9.918122754242049}.\n"
     ]
    },
    {
     "name": "stdout",
     "output_type": "stream",
     "text": [
      "818 "
     ]
    },
    {
     "name": "stderr",
     "output_type": "stream",
     "text": [
      "[I 2019-02-09 15:42:20,111] Finished a trial resulted in value: 0.16388888888888886. Current best value is 0.15708333333333346 with parameters: {'n_estimators': 141, 'gamma': 0.7260861678752946, 'lambda': 0.1406020832695276, 'learning_rate': 0.1415068096803329, 'max_depth': 10, 'subsample': 0.8635523908357677, 'colsample_bytree': 0.5904371111274501, 'min_child_weight': 9.918122754242049}.\n"
     ]
    },
    {
     "name": "stdout",
     "output_type": "stream",
     "text": [
      "819 "
     ]
    },
    {
     "name": "stderr",
     "output_type": "stream",
     "text": [
      "[I 2019-02-09 15:42:29,740] Finished a trial resulted in value: 0.1683986928104575. Current best value is 0.15708333333333346 with parameters: {'n_estimators': 141, 'gamma': 0.7260861678752946, 'lambda': 0.1406020832695276, 'learning_rate': 0.1415068096803329, 'max_depth': 10, 'subsample': 0.8635523908357677, 'colsample_bytree': 0.5904371111274501, 'min_child_weight': 9.918122754242049}.\n"
     ]
    },
    {
     "name": "stdout",
     "output_type": "stream",
     "text": [
      "820 "
     ]
    },
    {
     "name": "stderr",
     "output_type": "stream",
     "text": [
      "[I 2019-02-09 15:42:35,215] Finished a trial resulted in value: 0.1661111111111111. Current best value is 0.15708333333333346 with parameters: {'n_estimators': 141, 'gamma': 0.7260861678752946, 'lambda': 0.1406020832695276, 'learning_rate': 0.1415068096803329, 'max_depth': 10, 'subsample': 0.8635523908357677, 'colsample_bytree': 0.5904371111274501, 'min_child_weight': 9.918122754242049}.\n"
     ]
    },
    {
     "name": "stdout",
     "output_type": "stream",
     "text": [
      "821 "
     ]
    },
    {
     "name": "stderr",
     "output_type": "stream",
     "text": [
      "[I 2019-02-09 15:42:43,153] Finished a trial resulted in value: 0.161593137254902. Current best value is 0.15708333333333346 with parameters: {'n_estimators': 141, 'gamma': 0.7260861678752946, 'lambda': 0.1406020832695276, 'learning_rate': 0.1415068096803329, 'max_depth': 10, 'subsample': 0.8635523908357677, 'colsample_bytree': 0.5904371111274501, 'min_child_weight': 9.918122754242049}.\n"
     ]
    },
    {
     "name": "stdout",
     "output_type": "stream",
     "text": [
      "822 "
     ]
    },
    {
     "name": "stderr",
     "output_type": "stream",
     "text": [
      "[I 2019-02-09 15:42:49,775] Finished a trial resulted in value: 0.16395424836601302. Current best value is 0.15708333333333346 with parameters: {'n_estimators': 141, 'gamma': 0.7260861678752946, 'lambda': 0.1406020832695276, 'learning_rate': 0.1415068096803329, 'max_depth': 10, 'subsample': 0.8635523908357677, 'colsample_bytree': 0.5904371111274501, 'min_child_weight': 9.918122754242049}.\n"
     ]
    },
    {
     "name": "stdout",
     "output_type": "stream",
     "text": [
      "823 "
     ]
    },
    {
     "name": "stderr",
     "output_type": "stream",
     "text": [
      "[I 2019-02-09 15:42:58,135] Finished a trial resulted in value: 0.16395424836601302. Current best value is 0.15708333333333346 with parameters: {'n_estimators': 141, 'gamma': 0.7260861678752946, 'lambda': 0.1406020832695276, 'learning_rate': 0.1415068096803329, 'max_depth': 10, 'subsample': 0.8635523908357677, 'colsample_bytree': 0.5904371111274501, 'min_child_weight': 9.918122754242049}.\n"
     ]
    },
    {
     "name": "stdout",
     "output_type": "stream",
     "text": [
      "824 "
     ]
    },
    {
     "name": "stderr",
     "output_type": "stream",
     "text": [
      "[I 2019-02-09 15:43:07,910] Finished a trial resulted in value: 0.16388888888888897. Current best value is 0.15708333333333346 with parameters: {'n_estimators': 141, 'gamma': 0.7260861678752946, 'lambda': 0.1406020832695276, 'learning_rate': 0.1415068096803329, 'max_depth': 10, 'subsample': 0.8635523908357677, 'colsample_bytree': 0.5904371111274501, 'min_child_weight': 9.918122754242049}.\n"
     ]
    },
    {
     "name": "stdout",
     "output_type": "stream",
     "text": [
      "825 "
     ]
    },
    {
     "name": "stderr",
     "output_type": "stream",
     "text": [
      "[I 2019-02-09 15:43:20,329] Finished a trial resulted in value: 0.16395424836601302. Current best value is 0.15708333333333346 with parameters: {'n_estimators': 141, 'gamma': 0.7260861678752946, 'lambda': 0.1406020832695276, 'learning_rate': 0.1415068096803329, 'max_depth': 10, 'subsample': 0.8635523908357677, 'colsample_bytree': 0.5904371111274501, 'min_child_weight': 9.918122754242049}.\n"
     ]
    },
    {
     "name": "stdout",
     "output_type": "stream",
     "text": [
      "826 "
     ]
    },
    {
     "name": "stderr",
     "output_type": "stream",
     "text": [
      "[I 2019-02-09 15:43:29,334] Finished a trial resulted in value: 0.16617647058823537. Current best value is 0.15708333333333346 with parameters: {'n_estimators': 141, 'gamma': 0.7260861678752946, 'lambda': 0.1406020832695276, 'learning_rate': 0.1415068096803329, 'max_depth': 10, 'subsample': 0.8635523908357677, 'colsample_bytree': 0.5904371111274501, 'min_child_weight': 9.918122754242049}.\n"
     ]
    },
    {
     "name": "stdout",
     "output_type": "stream",
     "text": [
      "827 "
     ]
    },
    {
     "name": "stderr",
     "output_type": "stream",
     "text": [
      "[I 2019-02-09 15:43:38,696] Finished a trial resulted in value: 0.17395424836601303. Current best value is 0.15708333333333346 with parameters: {'n_estimators': 141, 'gamma': 0.7260861678752946, 'lambda': 0.1406020832695276, 'learning_rate': 0.1415068096803329, 'max_depth': 10, 'subsample': 0.8635523908357677, 'colsample_bytree': 0.5904371111274501, 'min_child_weight': 9.918122754242049}.\n"
     ]
    },
    {
     "name": "stdout",
     "output_type": "stream",
     "text": [
      "828 "
     ]
    },
    {
     "name": "stderr",
     "output_type": "stream",
     "text": [
      "[I 2019-02-09 15:43:43,305] Finished a trial resulted in value: 0.16624183006535953. Current best value is 0.15708333333333346 with parameters: {'n_estimators': 141, 'gamma': 0.7260861678752946, 'lambda': 0.1406020832695276, 'learning_rate': 0.1415068096803329, 'max_depth': 10, 'subsample': 0.8635523908357677, 'colsample_bytree': 0.5904371111274501, 'min_child_weight': 9.918122754242049}.\n"
     ]
    },
    {
     "name": "stdout",
     "output_type": "stream",
     "text": [
      "829 "
     ]
    },
    {
     "name": "stderr",
     "output_type": "stream",
     "text": [
      "[I 2019-02-09 15:43:53,831] Finished a trial resulted in value: 0.16284313725490196. Current best value is 0.15708333333333346 with parameters: {'n_estimators': 141, 'gamma': 0.7260861678752946, 'lambda': 0.1406020832695276, 'learning_rate': 0.1415068096803329, 'max_depth': 10, 'subsample': 0.8635523908357677, 'colsample_bytree': 0.5904371111274501, 'min_child_weight': 9.918122754242049}.\n"
     ]
    },
    {
     "name": "stdout",
     "output_type": "stream",
     "text": [
      "830 "
     ]
    },
    {
     "name": "stderr",
     "output_type": "stream",
     "text": [
      "[I 2019-02-09 15:44:00,307] Finished a trial resulted in value: 0.16617647058823537. Current best value is 0.15708333333333346 with parameters: {'n_estimators': 141, 'gamma': 0.7260861678752946, 'lambda': 0.1406020832695276, 'learning_rate': 0.1415068096803329, 'max_depth': 10, 'subsample': 0.8635523908357677, 'colsample_bytree': 0.5904371111274501, 'min_child_weight': 9.918122754242049}.\n"
     ]
    },
    {
     "name": "stdout",
     "output_type": "stream",
     "text": [
      "831 "
     ]
    },
    {
     "name": "stderr",
     "output_type": "stream",
     "text": [
      "[I 2019-02-09 15:44:07,827] Finished a trial resulted in value: 0.16395424836601302. Current best value is 0.15708333333333346 with parameters: {'n_estimators': 141, 'gamma': 0.7260861678752946, 'lambda': 0.1406020832695276, 'learning_rate': 0.1415068096803329, 'max_depth': 10, 'subsample': 0.8635523908357677, 'colsample_bytree': 0.5904371111274501, 'min_child_weight': 9.918122754242049}.\n"
     ]
    },
    {
     "name": "stdout",
     "output_type": "stream",
     "text": [
      "832 "
     ]
    },
    {
     "name": "stderr",
     "output_type": "stream",
     "text": [
      "[I 2019-02-09 15:44:17,339] Finished a trial resulted in value: 0.1594444444444446. Current best value is 0.15708333333333346 with parameters: {'n_estimators': 141, 'gamma': 0.7260861678752946, 'lambda': 0.1406020832695276, 'learning_rate': 0.1415068096803329, 'max_depth': 10, 'subsample': 0.8635523908357677, 'colsample_bytree': 0.5904371111274501, 'min_child_weight': 9.918122754242049}.\n"
     ]
    },
    {
     "name": "stdout",
     "output_type": "stream",
     "text": [
      "833 "
     ]
    },
    {
     "name": "stderr",
     "output_type": "stream",
     "text": [
      "[I 2019-02-09 15:44:29,243] Finished a trial resulted in value: 0.16062091503267983. Current best value is 0.15708333333333346 with parameters: {'n_estimators': 141, 'gamma': 0.7260861678752946, 'lambda': 0.1406020832695276, 'learning_rate': 0.1415068096803329, 'max_depth': 10, 'subsample': 0.8635523908357677, 'colsample_bytree': 0.5904371111274501, 'min_child_weight': 9.918122754242049}.\n"
     ]
    },
    {
     "name": "stdout",
     "output_type": "stream",
     "text": [
      "834 "
     ]
    },
    {
     "name": "stderr",
     "output_type": "stream",
     "text": [
      "[I 2019-02-09 15:44:42,753] Finished a trial resulted in value: 0.16624183006535953. Current best value is 0.15708333333333346 with parameters: {'n_estimators': 141, 'gamma': 0.7260861678752946, 'lambda': 0.1406020832695276, 'learning_rate': 0.1415068096803329, 'max_depth': 10, 'subsample': 0.8635523908357677, 'colsample_bytree': 0.5904371111274501, 'min_child_weight': 9.918122754242049}.\n"
     ]
    },
    {
     "name": "stdout",
     "output_type": "stream",
     "text": [
      "835 "
     ]
    },
    {
     "name": "stderr",
     "output_type": "stream",
     "text": [
      "[I 2019-02-09 15:44:53,539] Finished a trial resulted in value: 0.16284313725490196. Current best value is 0.15708333333333346 with parameters: {'n_estimators': 141, 'gamma': 0.7260861678752946, 'lambda': 0.1406020832695276, 'learning_rate': 0.1415068096803329, 'max_depth': 10, 'subsample': 0.8635523908357677, 'colsample_bytree': 0.5904371111274501, 'min_child_weight': 9.918122754242049}.\n"
     ]
    },
    {
     "name": "stdout",
     "output_type": "stream",
     "text": [
      "836 "
     ]
    },
    {
     "name": "stderr",
     "output_type": "stream",
     "text": [
      "[I 2019-02-09 15:44:59,900] Finished a trial resulted in value: 0.1650653594771242. Current best value is 0.15708333333333346 with parameters: {'n_estimators': 141, 'gamma': 0.7260861678752946, 'lambda': 0.1406020832695276, 'learning_rate': 0.1415068096803329, 'max_depth': 10, 'subsample': 0.8635523908357677, 'colsample_bytree': 0.5904371111274501, 'min_child_weight': 9.918122754242049}.\n"
     ]
    },
    {
     "name": "stdout",
     "output_type": "stream",
     "text": [
      "837 "
     ]
    },
    {
     "name": "stderr",
     "output_type": "stream",
     "text": [
      "[I 2019-02-09 15:45:11,165] Finished a trial resulted in value: 0.16728758169934654. Current best value is 0.15708333333333346 with parameters: {'n_estimators': 141, 'gamma': 0.7260861678752946, 'lambda': 0.1406020832695276, 'learning_rate': 0.1415068096803329, 'max_depth': 10, 'subsample': 0.8635523908357677, 'colsample_bytree': 0.5904371111274501, 'min_child_weight': 9.918122754242049}.\n"
     ]
    },
    {
     "name": "stdout",
     "output_type": "stream",
     "text": [
      "838 "
     ]
    },
    {
     "name": "stderr",
     "output_type": "stream",
     "text": [
      "[I 2019-02-09 15:45:21,221] Finished a trial resulted in value: 0.1650653594771242. Current best value is 0.15708333333333346 with parameters: {'n_estimators': 141, 'gamma': 0.7260861678752946, 'lambda': 0.1406020832695276, 'learning_rate': 0.1415068096803329, 'max_depth': 10, 'subsample': 0.8635523908357677, 'colsample_bytree': 0.5904371111274501, 'min_child_weight': 9.918122754242049}.\n"
     ]
    },
    {
     "name": "stdout",
     "output_type": "stream",
     "text": [
      "839 "
     ]
    },
    {
     "name": "stderr",
     "output_type": "stream",
     "text": [
      "[I 2019-02-09 15:45:30,633] Finished a trial resulted in value: 0.170686274509804. Current best value is 0.15708333333333346 with parameters: {'n_estimators': 141, 'gamma': 0.7260861678752946, 'lambda': 0.1406020832695276, 'learning_rate': 0.1415068096803329, 'max_depth': 10, 'subsample': 0.8635523908357677, 'colsample_bytree': 0.5904371111274501, 'min_child_weight': 9.918122754242049}.\n"
     ]
    },
    {
     "name": "stdout",
     "output_type": "stream",
     "text": [
      "840 "
     ]
    },
    {
     "name": "stderr",
     "output_type": "stream",
     "text": [
      "[I 2019-02-09 15:45:41,058] Finished a trial resulted in value: 0.16728758169934654. Current best value is 0.15708333333333346 with parameters: {'n_estimators': 141, 'gamma': 0.7260861678752946, 'lambda': 0.1406020832695276, 'learning_rate': 0.1415068096803329, 'max_depth': 10, 'subsample': 0.8635523908357677, 'colsample_bytree': 0.5904371111274501, 'min_child_weight': 9.918122754242049}.\n"
     ]
    },
    {
     "name": "stdout",
     "output_type": "stream",
     "text": [
      "841 "
     ]
    },
    {
     "name": "stderr",
     "output_type": "stream",
     "text": [
      "[I 2019-02-09 15:45:51,174] Finished a trial resulted in value: 0.16624183006535953. Current best value is 0.15708333333333346 with parameters: {'n_estimators': 141, 'gamma': 0.7260861678752946, 'lambda': 0.1406020832695276, 'learning_rate': 0.1415068096803329, 'max_depth': 10, 'subsample': 0.8635523908357677, 'colsample_bytree': 0.5904371111274501, 'min_child_weight': 9.918122754242049}.\n"
     ]
    },
    {
     "name": "stdout",
     "output_type": "stream",
     "text": [
      "842 "
     ]
    },
    {
     "name": "stderr",
     "output_type": "stream",
     "text": [
      "[I 2019-02-09 15:46:03,316] Finished a trial resulted in value: 0.16728758169934654. Current best value is 0.15708333333333346 with parameters: {'n_estimators': 141, 'gamma': 0.7260861678752946, 'lambda': 0.1406020832695276, 'learning_rate': 0.1415068096803329, 'max_depth': 10, 'subsample': 0.8635523908357677, 'colsample_bytree': 0.5904371111274501, 'min_child_weight': 9.918122754242049}.\n"
     ]
    },
    {
     "name": "stdout",
     "output_type": "stream",
     "text": [
      "843 "
     ]
    },
    {
     "name": "stderr",
     "output_type": "stream",
     "text": [
      "[I 2019-02-09 15:46:13,704] Finished a trial resulted in value: 0.16388888888888897. Current best value is 0.15708333333333346 with parameters: {'n_estimators': 141, 'gamma': 0.7260861678752946, 'lambda': 0.1406020832695276, 'learning_rate': 0.1415068096803329, 'max_depth': 10, 'subsample': 0.8635523908357677, 'colsample_bytree': 0.5904371111274501, 'min_child_weight': 9.918122754242049}.\n"
     ]
    },
    {
     "name": "stdout",
     "output_type": "stream",
     "text": [
      "844 "
     ]
    },
    {
     "name": "stderr",
     "output_type": "stream",
     "text": [
      "[I 2019-02-09 15:46:22,523] Finished a trial resulted in value: 0.16388888888888886. Current best value is 0.15708333333333346 with parameters: {'n_estimators': 141, 'gamma': 0.7260861678752946, 'lambda': 0.1406020832695276, 'learning_rate': 0.1415068096803329, 'max_depth': 10, 'subsample': 0.8635523908357677, 'colsample_bytree': 0.5904371111274501, 'min_child_weight': 9.918122754242049}.\n"
     ]
    },
    {
     "name": "stdout",
     "output_type": "stream",
     "text": [
      "845 "
     ]
    },
    {
     "name": "stderr",
     "output_type": "stream",
     "text": [
      "[I 2019-02-09 15:46:25,784] Finished a trial resulted in value: 0.18657679738562105. Current best value is 0.15708333333333346 with parameters: {'n_estimators': 141, 'gamma': 0.7260861678752946, 'lambda': 0.1406020832695276, 'learning_rate': 0.1415068096803329, 'max_depth': 10, 'subsample': 0.8635523908357677, 'colsample_bytree': 0.5904371111274501, 'min_child_weight': 9.918122754242049}.\n"
     ]
    },
    {
     "name": "stdout",
     "output_type": "stream",
     "text": [
      "846 "
     ]
    },
    {
     "name": "stderr",
     "output_type": "stream",
     "text": [
      "[I 2019-02-09 15:46:38,791] Finished a trial resulted in value: 0.1650653594771242. Current best value is 0.15708333333333346 with parameters: {'n_estimators': 141, 'gamma': 0.7260861678752946, 'lambda': 0.1406020832695276, 'learning_rate': 0.1415068096803329, 'max_depth': 10, 'subsample': 0.8635523908357677, 'colsample_bytree': 0.5904371111274501, 'min_child_weight': 9.918122754242049}.\n"
     ]
    },
    {
     "name": "stdout",
     "output_type": "stream",
     "text": [
      "847 "
     ]
    },
    {
     "name": "stderr",
     "output_type": "stream",
     "text": [
      "[I 2019-02-09 15:46:47,147] Finished a trial resulted in value: 0.1650653594771242. Current best value is 0.15708333333333346 with parameters: {'n_estimators': 141, 'gamma': 0.7260861678752946, 'lambda': 0.1406020832695276, 'learning_rate': 0.1415068096803329, 'max_depth': 10, 'subsample': 0.8635523908357677, 'colsample_bytree': 0.5904371111274501, 'min_child_weight': 9.918122754242049}.\n"
     ]
    },
    {
     "name": "stdout",
     "output_type": "stream",
     "text": [
      "848 "
     ]
    },
    {
     "name": "stderr",
     "output_type": "stream",
     "text": [
      "[I 2019-02-09 15:46:55,889] Finished a trial resulted in value: 0.16624183006535953. Current best value is 0.15708333333333346 with parameters: {'n_estimators': 141, 'gamma': 0.7260861678752946, 'lambda': 0.1406020832695276, 'learning_rate': 0.1415068096803329, 'max_depth': 10, 'subsample': 0.8635523908357677, 'colsample_bytree': 0.5904371111274501, 'min_child_weight': 9.918122754242049}.\n"
     ]
    },
    {
     "name": "stdout",
     "output_type": "stream",
     "text": [
      "849 "
     ]
    },
    {
     "name": "stderr",
     "output_type": "stream",
     "text": [
      "[I 2019-02-09 15:47:00,973] Finished a trial resulted in value: 0.17055555555555557. Current best value is 0.15708333333333346 with parameters: {'n_estimators': 141, 'gamma': 0.7260861678752946, 'lambda': 0.1406020832695276, 'learning_rate': 0.1415068096803329, 'max_depth': 10, 'subsample': 0.8635523908357677, 'colsample_bytree': 0.5904371111274501, 'min_child_weight': 9.918122754242049}.\n"
     ]
    },
    {
     "name": "stdout",
     "output_type": "stream",
     "text": [
      "850 "
     ]
    },
    {
     "name": "stderr",
     "output_type": "stream",
     "text": [
      "[I 2019-02-09 15:47:07,659] Finished a trial resulted in value: 0.1683986928104576. Current best value is 0.15708333333333346 with parameters: {'n_estimators': 141, 'gamma': 0.7260861678752946, 'lambda': 0.1406020832695276, 'learning_rate': 0.1415068096803329, 'max_depth': 10, 'subsample': 0.8635523908357677, 'colsample_bytree': 0.5904371111274501, 'min_child_weight': 9.918122754242049}.\n"
     ]
    },
    {
     "name": "stdout",
     "output_type": "stream",
     "text": [
      "851 "
     ]
    },
    {
     "name": "stderr",
     "output_type": "stream",
     "text": [
      "[I 2019-02-09 15:47:16,090] Finished a trial resulted in value: 0.16166666666666663. Current best value is 0.15708333333333346 with parameters: {'n_estimators': 141, 'gamma': 0.7260861678752946, 'lambda': 0.1406020832695276, 'learning_rate': 0.1415068096803329, 'max_depth': 10, 'subsample': 0.8635523908357677, 'colsample_bytree': 0.5904371111274501, 'min_child_weight': 9.918122754242049}.\n"
     ]
    },
    {
     "name": "stdout",
     "output_type": "stream",
     "text": [
      "852 "
     ]
    },
    {
     "name": "stderr",
     "output_type": "stream",
     "text": [
      "[I 2019-02-09 15:47:22,513] Finished a trial resulted in value: 0.1650653594771242. Current best value is 0.15708333333333346 with parameters: {'n_estimators': 141, 'gamma': 0.7260861678752946, 'lambda': 0.1406020832695276, 'learning_rate': 0.1415068096803329, 'max_depth': 10, 'subsample': 0.8635523908357677, 'colsample_bytree': 0.5904371111274501, 'min_child_weight': 9.918122754242049}.\n"
     ]
    },
    {
     "name": "stdout",
     "output_type": "stream",
     "text": [
      "853 "
     ]
    },
    {
     "name": "stderr",
     "output_type": "stream",
     "text": [
      "[I 2019-02-09 15:47:34,835] Finished a trial resulted in value: 0.16846405228758177. Current best value is 0.15708333333333346 with parameters: {'n_estimators': 141, 'gamma': 0.7260861678752946, 'lambda': 0.1406020832695276, 'learning_rate': 0.1415068096803329, 'max_depth': 10, 'subsample': 0.8635523908357677, 'colsample_bytree': 0.5904371111274501, 'min_child_weight': 9.918122754242049}.\n"
     ]
    },
    {
     "name": "stdout",
     "output_type": "stream",
     "text": [
      "854 "
     ]
    },
    {
     "name": "stderr",
     "output_type": "stream",
     "text": [
      "[I 2019-02-09 15:47:40,991] Finished a trial resulted in value: 0.16179738562091517. Current best value is 0.15708333333333346 with parameters: {'n_estimators': 141, 'gamma': 0.7260861678752946, 'lambda': 0.1406020832695276, 'learning_rate': 0.1415068096803329, 'max_depth': 10, 'subsample': 0.8635523908357677, 'colsample_bytree': 0.5904371111274501, 'min_child_weight': 9.918122754242049}.\n"
     ]
    },
    {
     "name": "stdout",
     "output_type": "stream",
     "text": [
      "855 "
     ]
    },
    {
     "name": "stderr",
     "output_type": "stream",
     "text": [
      "[I 2019-02-09 15:47:52,898] Finished a trial resulted in value: 0.16846405228758177. Current best value is 0.15708333333333346 with parameters: {'n_estimators': 141, 'gamma': 0.7260861678752946, 'lambda': 0.1406020832695276, 'learning_rate': 0.1415068096803329, 'max_depth': 10, 'subsample': 0.8635523908357677, 'colsample_bytree': 0.5904371111274501, 'min_child_weight': 9.918122754242049}.\n"
     ]
    },
    {
     "name": "stdout",
     "output_type": "stream",
     "text": [
      "856 "
     ]
    },
    {
     "name": "stderr",
     "output_type": "stream",
     "text": [
      "[I 2019-02-09 15:48:00,142] Finished a trial resulted in value: 0.16624183006535953. Current best value is 0.15708333333333346 with parameters: {'n_estimators': 141, 'gamma': 0.7260861678752946, 'lambda': 0.1406020832695276, 'learning_rate': 0.1415068096803329, 'max_depth': 10, 'subsample': 0.8635523908357677, 'colsample_bytree': 0.5904371111274501, 'min_child_weight': 9.918122754242049}.\n"
     ]
    },
    {
     "name": "stdout",
     "output_type": "stream",
     "text": [
      "857 "
     ]
    },
    {
     "name": "stderr",
     "output_type": "stream",
     "text": [
      "[I 2019-02-09 15:48:08,213] Finished a trial resulted in value: 0.1661111111111111. Current best value is 0.15708333333333346 with parameters: {'n_estimators': 141, 'gamma': 0.7260861678752946, 'lambda': 0.1406020832695276, 'learning_rate': 0.1415068096803329, 'max_depth': 10, 'subsample': 0.8635523908357677, 'colsample_bytree': 0.5904371111274501, 'min_child_weight': 9.918122754242049}.\n"
     ]
    },
    {
     "name": "stdout",
     "output_type": "stream",
     "text": [
      "858 "
     ]
    },
    {
     "name": "stderr",
     "output_type": "stream",
     "text": [
      "[I 2019-02-09 15:48:22,227] Finished a trial resulted in value: 0.1706862745098039. Current best value is 0.15708333333333346 with parameters: {'n_estimators': 141, 'gamma': 0.7260861678752946, 'lambda': 0.1406020832695276, 'learning_rate': 0.1415068096803329, 'max_depth': 10, 'subsample': 0.8635523908357677, 'colsample_bytree': 0.5904371111274501, 'min_child_weight': 9.918122754242049}.\n"
     ]
    },
    {
     "name": "stdout",
     "output_type": "stream",
     "text": [
      "859 "
     ]
    },
    {
     "name": "stderr",
     "output_type": "stream",
     "text": [
      "[I 2019-02-09 15:48:35,836] Finished a trial resulted in value: 0.1673529411764707. Current best value is 0.15708333333333346 with parameters: {'n_estimators': 141, 'gamma': 0.7260861678752946, 'lambda': 0.1406020832695276, 'learning_rate': 0.1415068096803329, 'max_depth': 10, 'subsample': 0.8635523908357677, 'colsample_bytree': 0.5904371111274501, 'min_child_weight': 9.918122754242049}.\n"
     ]
    },
    {
     "name": "stdout",
     "output_type": "stream",
     "text": [
      "860 "
     ]
    },
    {
     "name": "stderr",
     "output_type": "stream",
     "text": [
      "[I 2019-02-09 15:48:48,578] Finished a trial resulted in value: 0.16284313725490196. Current best value is 0.15708333333333346 with parameters: {'n_estimators': 141, 'gamma': 0.7260861678752946, 'lambda': 0.1406020832695276, 'learning_rate': 0.1415068096803329, 'max_depth': 10, 'subsample': 0.8635523908357677, 'colsample_bytree': 0.5904371111274501, 'min_child_weight': 9.918122754242049}.\n"
     ]
    },
    {
     "name": "stdout",
     "output_type": "stream",
     "text": [
      "861 "
     ]
    },
    {
     "name": "stderr",
     "output_type": "stream",
     "text": [
      "[I 2019-02-09 15:48:55,150] Finished a trial resulted in value: 0.16284313725490196. Current best value is 0.15708333333333346 with parameters: {'n_estimators': 141, 'gamma': 0.7260861678752946, 'lambda': 0.1406020832695276, 'learning_rate': 0.1415068096803329, 'max_depth': 10, 'subsample': 0.8635523908357677, 'colsample_bytree': 0.5904371111274501, 'min_child_weight': 9.918122754242049}.\n"
     ]
    },
    {
     "name": "stdout",
     "output_type": "stream",
     "text": [
      "862 "
     ]
    },
    {
     "name": "stderr",
     "output_type": "stream",
     "text": [
      "[I 2019-02-09 15:49:01,105] Finished a trial resulted in value: 0.1683986928104575. Current best value is 0.15708333333333346 with parameters: {'n_estimators': 141, 'gamma': 0.7260861678752946, 'lambda': 0.1406020832695276, 'learning_rate': 0.1415068096803329, 'max_depth': 10, 'subsample': 0.8635523908357677, 'colsample_bytree': 0.5904371111274501, 'min_child_weight': 9.918122754242049}.\n"
     ]
    },
    {
     "name": "stdout",
     "output_type": "stream",
     "text": [
      "863 "
     ]
    },
    {
     "name": "stderr",
     "output_type": "stream",
     "text": [
      "[I 2019-02-09 15:49:12,547] Finished a trial resulted in value: 0.16284313725490196. Current best value is 0.15708333333333346 with parameters: {'n_estimators': 141, 'gamma': 0.7260861678752946, 'lambda': 0.1406020832695276, 'learning_rate': 0.1415068096803329, 'max_depth': 10, 'subsample': 0.8635523908357677, 'colsample_bytree': 0.5904371111274501, 'min_child_weight': 9.918122754242049}.\n"
     ]
    },
    {
     "name": "stdout",
     "output_type": "stream",
     "text": [
      "864 "
     ]
    },
    {
     "name": "stderr",
     "output_type": "stream",
     "text": [
      "[I 2019-02-09 15:49:22,805] Finished a trial resulted in value: 0.1673529411764707. Current best value is 0.15708333333333346 with parameters: {'n_estimators': 141, 'gamma': 0.7260861678752946, 'lambda': 0.1406020832695276, 'learning_rate': 0.1415068096803329, 'max_depth': 10, 'subsample': 0.8635523908357677, 'colsample_bytree': 0.5904371111274501, 'min_child_weight': 9.918122754242049}.\n"
     ]
    },
    {
     "name": "stdout",
     "output_type": "stream",
     "text": [
      "865 "
     ]
    },
    {
     "name": "stderr",
     "output_type": "stream",
     "text": [
      "[I 2019-02-09 15:49:34,095] Finished a trial resulted in value: 0.17291666666666672. Current best value is 0.15708333333333346 with parameters: {'n_estimators': 141, 'gamma': 0.7260861678752946, 'lambda': 0.1406020832695276, 'learning_rate': 0.1415068096803329, 'max_depth': 10, 'subsample': 0.8635523908357677, 'colsample_bytree': 0.5904371111274501, 'min_child_weight': 9.918122754242049}.\n"
     ]
    },
    {
     "name": "stdout",
     "output_type": "stream",
     "text": [
      "866 "
     ]
    },
    {
     "name": "stderr",
     "output_type": "stream",
     "text": [
      "[I 2019-02-09 15:49:40,973] Finished a trial resulted in value: 0.16741830065359475. Current best value is 0.15708333333333346 with parameters: {'n_estimators': 141, 'gamma': 0.7260861678752946, 'lambda': 0.1406020832695276, 'learning_rate': 0.1415068096803329, 'max_depth': 10, 'subsample': 0.8635523908357677, 'colsample_bytree': 0.5904371111274501, 'min_child_weight': 9.918122754242049}.\n"
     ]
    },
    {
     "name": "stdout",
     "output_type": "stream",
     "text": [
      "867 "
     ]
    },
    {
     "name": "stderr",
     "output_type": "stream",
     "text": [
      "[I 2019-02-09 15:49:44,941] Finished a trial resulted in value: 0.1682598039215687. Current best value is 0.15708333333333346 with parameters: {'n_estimators': 141, 'gamma': 0.7260861678752946, 'lambda': 0.1406020832695276, 'learning_rate': 0.1415068096803329, 'max_depth': 10, 'subsample': 0.8635523908357677, 'colsample_bytree': 0.5904371111274501, 'min_child_weight': 9.918122754242049}.\n"
     ]
    },
    {
     "name": "stdout",
     "output_type": "stream",
     "text": [
      "868 "
     ]
    },
    {
     "name": "stderr",
     "output_type": "stream",
     "text": [
      "[I 2019-02-09 15:49:56,025] Finished a trial resulted in value: 0.1650653594771242. Current best value is 0.15708333333333346 with parameters: {'n_estimators': 141, 'gamma': 0.7260861678752946, 'lambda': 0.1406020832695276, 'learning_rate': 0.1415068096803329, 'max_depth': 10, 'subsample': 0.8635523908357677, 'colsample_bytree': 0.5904371111274501, 'min_child_weight': 9.918122754242049}.\n"
     ]
    },
    {
     "name": "stdout",
     "output_type": "stream",
     "text": [
      "869 "
     ]
    },
    {
     "name": "stderr",
     "output_type": "stream",
     "text": [
      "[I 2019-02-09 15:50:07,674] Finished a trial resulted in value: 0.16395424836601302. Current best value is 0.15708333333333346 with parameters: {'n_estimators': 141, 'gamma': 0.7260861678752946, 'lambda': 0.1406020832695276, 'learning_rate': 0.1415068096803329, 'max_depth': 10, 'subsample': 0.8635523908357677, 'colsample_bytree': 0.5904371111274501, 'min_child_weight': 9.918122754242049}.\n"
     ]
    },
    {
     "name": "stdout",
     "output_type": "stream",
     "text": [
      "870 "
     ]
    },
    {
     "name": "stderr",
     "output_type": "stream",
     "text": [
      "[I 2019-02-09 15:50:17,597] Finished a trial resulted in value: 0.16513071895424847. Current best value is 0.15708333333333346 with parameters: {'n_estimators': 141, 'gamma': 0.7260861678752946, 'lambda': 0.1406020832695276, 'learning_rate': 0.1415068096803329, 'max_depth': 10, 'subsample': 0.8635523908357677, 'colsample_bytree': 0.5904371111274501, 'min_child_weight': 9.918122754242049}.\n"
     ]
    },
    {
     "name": "stdout",
     "output_type": "stream",
     "text": [
      "871 "
     ]
    },
    {
     "name": "stderr",
     "output_type": "stream",
     "text": [
      "[I 2019-02-09 15:50:21,113] Finished a trial resulted in value: 0.19558823529411773. Current best value is 0.15708333333333346 with parameters: {'n_estimators': 141, 'gamma': 0.7260861678752946, 'lambda': 0.1406020832695276, 'learning_rate': 0.1415068096803329, 'max_depth': 10, 'subsample': 0.8635523908357677, 'colsample_bytree': 0.5904371111274501, 'min_child_weight': 9.918122754242049}.\n"
     ]
    },
    {
     "name": "stdout",
     "output_type": "stream",
     "text": [
      "872 "
     ]
    },
    {
     "name": "stderr",
     "output_type": "stream",
     "text": [
      "[I 2019-02-09 15:50:28,310] Finished a trial resulted in value: 0.17179738562091496. Current best value is 0.15708333333333346 with parameters: {'n_estimators': 141, 'gamma': 0.7260861678752946, 'lambda': 0.1406020832695276, 'learning_rate': 0.1415068096803329, 'max_depth': 10, 'subsample': 0.8635523908357677, 'colsample_bytree': 0.5904371111274501, 'min_child_weight': 9.918122754242049}.\n"
     ]
    },
    {
     "name": "stdout",
     "output_type": "stream",
     "text": [
      "873 "
     ]
    },
    {
     "name": "stderr",
     "output_type": "stream",
     "text": [
      "[I 2019-02-09 15:50:34,599] Finished a trial resulted in value: 0.16957516339869272. Current best value is 0.15708333333333346 with parameters: {'n_estimators': 141, 'gamma': 0.7260861678752946, 'lambda': 0.1406020832695276, 'learning_rate': 0.1415068096803329, 'max_depth': 10, 'subsample': 0.8635523908357677, 'colsample_bytree': 0.5904371111274501, 'min_child_weight': 9.918122754242049}.\n"
     ]
    },
    {
     "name": "stdout",
     "output_type": "stream",
     "text": [
      "874 "
     ]
    },
    {
     "name": "stderr",
     "output_type": "stream",
     "text": [
      "[I 2019-02-09 15:50:49,412] Finished a trial resulted in value: 0.1673529411764706. Current best value is 0.15708333333333346 with parameters: {'n_estimators': 141, 'gamma': 0.7260861678752946, 'lambda': 0.1406020832695276, 'learning_rate': 0.1415068096803329, 'max_depth': 10, 'subsample': 0.8635523908357677, 'colsample_bytree': 0.5904371111274501, 'min_child_weight': 9.918122754242049}.\n"
     ]
    },
    {
     "name": "stdout",
     "output_type": "stream",
     "text": [
      "875 "
     ]
    },
    {
     "name": "stderr",
     "output_type": "stream",
     "text": [
      "[I 2019-02-09 15:50:58,606] Finished a trial resulted in value: 0.16728758169934654. Current best value is 0.15708333333333346 with parameters: {'n_estimators': 141, 'gamma': 0.7260861678752946, 'lambda': 0.1406020832695276, 'learning_rate': 0.1415068096803329, 'max_depth': 10, 'subsample': 0.8635523908357677, 'colsample_bytree': 0.5904371111274501, 'min_child_weight': 9.918122754242049}.\n"
     ]
    },
    {
     "name": "stdout",
     "output_type": "stream",
     "text": [
      "876 "
     ]
    },
    {
     "name": "stderr",
     "output_type": "stream",
     "text": [
      "[I 2019-02-09 15:51:07,297] Finished a trial resulted in value: 0.1683986928104575. Current best value is 0.15708333333333346 with parameters: {'n_estimators': 141, 'gamma': 0.7260861678752946, 'lambda': 0.1406020832695276, 'learning_rate': 0.1415068096803329, 'max_depth': 10, 'subsample': 0.8635523908357677, 'colsample_bytree': 0.5904371111274501, 'min_child_weight': 9.918122754242049}.\n"
     ]
    },
    {
     "name": "stdout",
     "output_type": "stream",
     "text": [
      "877 "
     ]
    },
    {
     "name": "stderr",
     "output_type": "stream",
     "text": [
      "[I 2019-02-09 15:51:11,520] Finished a trial resulted in value: 0.2052614379084967. Current best value is 0.15708333333333346 with parameters: {'n_estimators': 141, 'gamma': 0.7260861678752946, 'lambda': 0.1406020832695276, 'learning_rate': 0.1415068096803329, 'max_depth': 10, 'subsample': 0.8635523908357677, 'colsample_bytree': 0.5904371111274501, 'min_child_weight': 9.918122754242049}.\n"
     ]
    },
    {
     "name": "stdout",
     "output_type": "stream",
     "text": [
      "878 "
     ]
    },
    {
     "name": "stderr",
     "output_type": "stream",
     "text": [
      "[I 2019-02-09 15:51:21,985] Finished a trial resulted in value: 0.15937908496732034. Current best value is 0.15708333333333346 with parameters: {'n_estimators': 141, 'gamma': 0.7260861678752946, 'lambda': 0.1406020832695276, 'learning_rate': 0.1415068096803329, 'max_depth': 10, 'subsample': 0.8635523908357677, 'colsample_bytree': 0.5904371111274501, 'min_child_weight': 9.918122754242049}.\n"
     ]
    },
    {
     "name": "stdout",
     "output_type": "stream",
     "text": [
      "879 "
     ]
    },
    {
     "name": "stderr",
     "output_type": "stream",
     "text": [
      "[I 2019-02-09 15:51:33,211] Finished a trial resulted in value: 0.16513071895424847. Current best value is 0.15708333333333346 with parameters: {'n_estimators': 141, 'gamma': 0.7260861678752946, 'lambda': 0.1406020832695276, 'learning_rate': 0.1415068096803329, 'max_depth': 10, 'subsample': 0.8635523908357677, 'colsample_bytree': 0.5904371111274501, 'min_child_weight': 9.918122754242049}.\n"
     ]
    },
    {
     "name": "stdout",
     "output_type": "stream",
     "text": [
      "880 "
     ]
    },
    {
     "name": "stderr",
     "output_type": "stream",
     "text": [
      "[I 2019-02-09 15:51:43,311] Finished a trial resulted in value: 0.17923202614379097. Current best value is 0.15708333333333346 with parameters: {'n_estimators': 141, 'gamma': 0.7260861678752946, 'lambda': 0.1406020832695276, 'learning_rate': 0.1415068096803329, 'max_depth': 10, 'subsample': 0.8635523908357677, 'colsample_bytree': 0.5904371111274501, 'min_child_weight': 9.918122754242049}.\n"
     ]
    },
    {
     "name": "stdout",
     "output_type": "stream",
     "text": [
      "881 "
     ]
    },
    {
     "name": "stderr",
     "output_type": "stream",
     "text": [
      "[I 2019-02-09 15:51:52,964] Finished a trial resulted in value: 0.17388888888888887. Current best value is 0.15708333333333346 with parameters: {'n_estimators': 141, 'gamma': 0.7260861678752946, 'lambda': 0.1406020832695276, 'learning_rate': 0.1415068096803329, 'max_depth': 10, 'subsample': 0.8635523908357677, 'colsample_bytree': 0.5904371111274501, 'min_child_weight': 9.918122754242049}.\n"
     ]
    },
    {
     "name": "stdout",
     "output_type": "stream",
     "text": [
      "882 "
     ]
    },
    {
     "name": "stderr",
     "output_type": "stream",
     "text": [
      "[I 2019-02-09 15:52:02,525] Finished a trial resulted in value: 0.16833333333333345. Current best value is 0.15708333333333346 with parameters: {'n_estimators': 141, 'gamma': 0.7260861678752946, 'lambda': 0.1406020832695276, 'learning_rate': 0.1415068096803329, 'max_depth': 10, 'subsample': 0.8635523908357677, 'colsample_bytree': 0.5904371111274501, 'min_child_weight': 9.918122754242049}.\n"
     ]
    },
    {
     "name": "stdout",
     "output_type": "stream",
     "text": [
      "883 "
     ]
    },
    {
     "name": "stderr",
     "output_type": "stream",
     "text": [
      "[I 2019-02-09 15:52:10,414] Finished a trial resulted in value: 0.1696486928104577. Current best value is 0.15708333333333346 with parameters: {'n_estimators': 141, 'gamma': 0.7260861678752946, 'lambda': 0.1406020832695276, 'learning_rate': 0.1415068096803329, 'max_depth': 10, 'subsample': 0.8635523908357677, 'colsample_bytree': 0.5904371111274501, 'min_child_weight': 9.918122754242049}.\n"
     ]
    },
    {
     "name": "stdout",
     "output_type": "stream",
     "text": [
      "884 "
     ]
    },
    {
     "name": "stderr",
     "output_type": "stream",
     "text": [
      "[I 2019-02-09 15:52:22,708] Finished a trial resulted in value: 0.16493464052287576. Current best value is 0.15708333333333346 with parameters: {'n_estimators': 141, 'gamma': 0.7260861678752946, 'lambda': 0.1406020832695276, 'learning_rate': 0.1415068096803329, 'max_depth': 10, 'subsample': 0.8635523908357677, 'colsample_bytree': 0.5904371111274501, 'min_child_weight': 9.918122754242049}.\n"
     ]
    },
    {
     "name": "stdout",
     "output_type": "stream",
     "text": [
      "885 "
     ]
    },
    {
     "name": "stderr",
     "output_type": "stream",
     "text": [
      "[I 2019-02-09 15:52:31,930] Finished a trial resulted in value: 0.16826797385620917. Current best value is 0.15708333333333346 with parameters: {'n_estimators': 141, 'gamma': 0.7260861678752946, 'lambda': 0.1406020832695276, 'learning_rate': 0.1415068096803329, 'max_depth': 10, 'subsample': 0.8635523908357677, 'colsample_bytree': 0.5904371111274501, 'min_child_weight': 9.918122754242049}.\n"
     ]
    },
    {
     "name": "stdout",
     "output_type": "stream",
     "text": [
      "886 "
     ]
    },
    {
     "name": "stderr",
     "output_type": "stream",
     "text": [
      "[I 2019-02-09 15:52:44,544] Finished a trial resulted in value: 0.16624183006535953. Current best value is 0.15708333333333346 with parameters: {'n_estimators': 141, 'gamma': 0.7260861678752946, 'lambda': 0.1406020832695276, 'learning_rate': 0.1415068096803329, 'max_depth': 10, 'subsample': 0.8635523908357677, 'colsample_bytree': 0.5904371111274501, 'min_child_weight': 9.918122754242049}.\n"
     ]
    },
    {
     "name": "stdout",
     "output_type": "stream",
     "text": [
      "887 "
     ]
    },
    {
     "name": "stderr",
     "output_type": "stream",
     "text": [
      "[I 2019-02-09 15:52:51,253] Finished a trial resulted in value: 0.17062091503267984. Current best value is 0.15708333333333346 with parameters: {'n_estimators': 141, 'gamma': 0.7260861678752946, 'lambda': 0.1406020832695276, 'learning_rate': 0.1415068096803329, 'max_depth': 10, 'subsample': 0.8635523908357677, 'colsample_bytree': 0.5904371111274501, 'min_child_weight': 9.918122754242049}.\n"
     ]
    },
    {
     "name": "stdout",
     "output_type": "stream",
     "text": [
      "888 "
     ]
    },
    {
     "name": "stderr",
     "output_type": "stream",
     "text": [
      "[I 2019-02-09 15:53:00,948] Finished a trial resulted in value: 0.16833333333333345. Current best value is 0.15708333333333346 with parameters: {'n_estimators': 141, 'gamma': 0.7260861678752946, 'lambda': 0.1406020832695276, 'learning_rate': 0.1415068096803329, 'max_depth': 10, 'subsample': 0.8635523908357677, 'colsample_bytree': 0.5904371111274501, 'min_child_weight': 9.918122754242049}.\n"
     ]
    },
    {
     "name": "stdout",
     "output_type": "stream",
     "text": [
      "889 "
     ]
    },
    {
     "name": "stderr",
     "output_type": "stream",
     "text": [
      "[I 2019-02-09 15:53:12,438] Finished a trial resulted in value: 0.16937091503267998. Current best value is 0.15708333333333346 with parameters: {'n_estimators': 141, 'gamma': 0.7260861678752946, 'lambda': 0.1406020832695276, 'learning_rate': 0.1415068096803329, 'max_depth': 10, 'subsample': 0.8635523908357677, 'colsample_bytree': 0.5904371111274501, 'min_child_weight': 9.918122754242049}.\n"
     ]
    },
    {
     "name": "stdout",
     "output_type": "stream",
     "text": [
      "890 "
     ]
    },
    {
     "name": "stderr",
     "output_type": "stream",
     "text": [
      "[I 2019-02-09 15:53:23,097] Finished a trial resulted in value: 0.1750653594771242. Current best value is 0.15708333333333346 with parameters: {'n_estimators': 141, 'gamma': 0.7260861678752946, 'lambda': 0.1406020832695276, 'learning_rate': 0.1415068096803329, 'max_depth': 10, 'subsample': 0.8635523908357677, 'colsample_bytree': 0.5904371111274501, 'min_child_weight': 9.918122754242049}.\n"
     ]
    },
    {
     "name": "stdout",
     "output_type": "stream",
     "text": [
      "891 "
     ]
    },
    {
     "name": "stderr",
     "output_type": "stream",
     "text": [
      "[I 2019-02-09 15:53:29,010] Finished a trial resulted in value: 0.16728758169934654. Current best value is 0.15708333333333346 with parameters: {'n_estimators': 141, 'gamma': 0.7260861678752946, 'lambda': 0.1406020832695276, 'learning_rate': 0.1415068096803329, 'max_depth': 10, 'subsample': 0.8635523908357677, 'colsample_bytree': 0.5904371111274501, 'min_child_weight': 9.918122754242049}.\n"
     ]
    },
    {
     "name": "stdout",
     "output_type": "stream",
     "text": [
      "892 "
     ]
    },
    {
     "name": "stderr",
     "output_type": "stream",
     "text": [
      "[I 2019-02-09 15:53:33,928] Finished a trial resulted in value: 0.17865196078431378. Current best value is 0.15708333333333346 with parameters: {'n_estimators': 141, 'gamma': 0.7260861678752946, 'lambda': 0.1406020832695276, 'learning_rate': 0.1415068096803329, 'max_depth': 10, 'subsample': 0.8635523908357677, 'colsample_bytree': 0.5904371111274501, 'min_child_weight': 9.918122754242049}.\n"
     ]
    },
    {
     "name": "stdout",
     "output_type": "stream",
     "text": [
      "893 "
     ]
    },
    {
     "name": "stderr",
     "output_type": "stream",
     "text": [
      "[I 2019-02-09 15:53:46,034] Finished a trial resulted in value: 0.16513071895424847. Current best value is 0.15708333333333346 with parameters: {'n_estimators': 141, 'gamma': 0.7260861678752946, 'lambda': 0.1406020832695276, 'learning_rate': 0.1415068096803329, 'max_depth': 10, 'subsample': 0.8635523908357677, 'colsample_bytree': 0.5904371111274501, 'min_child_weight': 9.918122754242049}.\n"
     ]
    },
    {
     "name": "stdout",
     "output_type": "stream",
     "text": [
      "894 "
     ]
    },
    {
     "name": "stderr",
     "output_type": "stream",
     "text": [
      "[I 2019-02-09 15:53:51,119] Finished a trial resulted in value: 0.16617647058823537. Current best value is 0.15708333333333346 with parameters: {'n_estimators': 141, 'gamma': 0.7260861678752946, 'lambda': 0.1406020832695276, 'learning_rate': 0.1415068096803329, 'max_depth': 10, 'subsample': 0.8635523908357677, 'colsample_bytree': 0.5904371111274501, 'min_child_weight': 9.918122754242049}.\n"
     ]
    },
    {
     "name": "stdout",
     "output_type": "stream",
     "text": [
      "895 "
     ]
    },
    {
     "name": "stderr",
     "output_type": "stream",
     "text": [
      "[I 2019-02-09 15:53:59,724] Finished a trial resulted in value: 0.17049019607843152. Current best value is 0.15708333333333346 with parameters: {'n_estimators': 141, 'gamma': 0.7260861678752946, 'lambda': 0.1406020832695276, 'learning_rate': 0.1415068096803329, 'max_depth': 10, 'subsample': 0.8635523908357677, 'colsample_bytree': 0.5904371111274501, 'min_child_weight': 9.918122754242049}.\n"
     ]
    },
    {
     "name": "stdout",
     "output_type": "stream",
     "text": [
      "896 "
     ]
    },
    {
     "name": "stderr",
     "output_type": "stream",
     "text": [
      "[I 2019-02-09 15:54:11,478] Finished a trial resulted in value: 0.16728758169934654. Current best value is 0.15708333333333346 with parameters: {'n_estimators': 141, 'gamma': 0.7260861678752946, 'lambda': 0.1406020832695276, 'learning_rate': 0.1415068096803329, 'max_depth': 10, 'subsample': 0.8635523908357677, 'colsample_bytree': 0.5904371111274501, 'min_child_weight': 9.918122754242049}.\n"
     ]
    },
    {
     "name": "stdout",
     "output_type": "stream",
     "text": [
      "897 "
     ]
    },
    {
     "name": "stderr",
     "output_type": "stream",
     "text": [
      "[I 2019-02-09 15:54:21,092] Finished a trial resulted in value: 0.16847222222222225. Current best value is 0.15708333333333346 with parameters: {'n_estimators': 141, 'gamma': 0.7260861678752946, 'lambda': 0.1406020832695276, 'learning_rate': 0.1415068096803329, 'max_depth': 10, 'subsample': 0.8635523908357677, 'colsample_bytree': 0.5904371111274501, 'min_child_weight': 9.918122754242049}.\n"
     ]
    },
    {
     "name": "stdout",
     "output_type": "stream",
     "text": [
      "898 "
     ]
    },
    {
     "name": "stderr",
     "output_type": "stream",
     "text": [
      "[I 2019-02-09 15:54:35,505] Finished a trial resulted in value: 0.16513071895424847. Current best value is 0.15708333333333346 with parameters: {'n_estimators': 141, 'gamma': 0.7260861678752946, 'lambda': 0.1406020832695276, 'learning_rate': 0.1415068096803329, 'max_depth': 10, 'subsample': 0.8635523908357677, 'colsample_bytree': 0.5904371111274501, 'min_child_weight': 9.918122754242049}.\n"
     ]
    },
    {
     "name": "stdout",
     "output_type": "stream",
     "text": [
      "899 "
     ]
    },
    {
     "name": "stderr",
     "output_type": "stream",
     "text": [
      "[I 2019-02-09 15:54:44,280] Finished a trial resulted in value: 0.16728758169934654. Current best value is 0.15708333333333346 with parameters: {'n_estimators': 141, 'gamma': 0.7260861678752946, 'lambda': 0.1406020832695276, 'learning_rate': 0.1415068096803329, 'max_depth': 10, 'subsample': 0.8635523908357677, 'colsample_bytree': 0.5904371111274501, 'min_child_weight': 9.918122754242049}.\n"
     ]
    },
    {
     "name": "stdout",
     "output_type": "stream",
     "text": [
      "900 "
     ]
    },
    {
     "name": "stderr",
     "output_type": "stream",
     "text": [
      "[I 2019-02-09 15:54:51,113] Finished a trial resulted in value: 0.16722222222222227. Current best value is 0.15708333333333346 with parameters: {'n_estimators': 141, 'gamma': 0.7260861678752946, 'lambda': 0.1406020832695276, 'learning_rate': 0.1415068096803329, 'max_depth': 10, 'subsample': 0.8635523908357677, 'colsample_bytree': 0.5904371111274501, 'min_child_weight': 9.918122754242049}.\n"
     ]
    },
    {
     "name": "stdout",
     "output_type": "stream",
     "text": [
      "901 "
     ]
    },
    {
     "name": "stderr",
     "output_type": "stream",
     "text": [
      "[I 2019-02-09 15:55:05,276] Finished a trial resulted in value: 0.17408496732026146. Current best value is 0.15708333333333346 with parameters: {'n_estimators': 141, 'gamma': 0.7260861678752946, 'lambda': 0.1406020832695276, 'learning_rate': 0.1415068096803329, 'max_depth': 10, 'subsample': 0.8635523908357677, 'colsample_bytree': 0.5904371111274501, 'min_child_weight': 9.918122754242049}.\n"
     ]
    },
    {
     "name": "stdout",
     "output_type": "stream",
     "text": [
      "902 "
     ]
    },
    {
     "name": "stderr",
     "output_type": "stream",
     "text": [
      "[I 2019-02-09 15:55:19,277] Finished a trial resulted in value: 0.17055555555555557. Current best value is 0.15708333333333346 with parameters: {'n_estimators': 141, 'gamma': 0.7260861678752946, 'lambda': 0.1406020832695276, 'learning_rate': 0.1415068096803329, 'max_depth': 10, 'subsample': 0.8635523908357677, 'colsample_bytree': 0.5904371111274501, 'min_child_weight': 9.918122754242049}.\n"
     ]
    },
    {
     "name": "stdout",
     "output_type": "stream",
     "text": [
      "903 "
     ]
    },
    {
     "name": "stderr",
     "output_type": "stream",
     "text": [
      "[I 2019-02-09 15:55:26,532] Finished a trial resulted in value: 0.17186274509803923. Current best value is 0.15708333333333346 with parameters: {'n_estimators': 141, 'gamma': 0.7260861678752946, 'lambda': 0.1406020832695276, 'learning_rate': 0.1415068096803329, 'max_depth': 10, 'subsample': 0.8635523908357677, 'colsample_bytree': 0.5904371111274501, 'min_child_weight': 9.918122754242049}.\n"
     ]
    },
    {
     "name": "stdout",
     "output_type": "stream",
     "text": [
      "904 "
     ]
    },
    {
     "name": "stderr",
     "output_type": "stream",
     "text": [
      "[I 2019-02-09 15:55:37,406] Finished a trial resulted in value: 0.16513071895424847. Current best value is 0.15708333333333346 with parameters: {'n_estimators': 141, 'gamma': 0.7260861678752946, 'lambda': 0.1406020832695276, 'learning_rate': 0.1415068096803329, 'max_depth': 10, 'subsample': 0.8635523908357677, 'colsample_bytree': 0.5904371111274501, 'min_child_weight': 9.918122754242049}.\n"
     ]
    },
    {
     "name": "stdout",
     "output_type": "stream",
     "text": [
      "905 "
     ]
    },
    {
     "name": "stderr",
     "output_type": "stream",
     "text": [
      "[I 2019-02-09 15:55:42,360] Finished a trial resulted in value: 0.16957516339869272. Current best value is 0.15708333333333346 with parameters: {'n_estimators': 141, 'gamma': 0.7260861678752946, 'lambda': 0.1406020832695276, 'learning_rate': 0.1415068096803329, 'max_depth': 10, 'subsample': 0.8635523908357677, 'colsample_bytree': 0.5904371111274501, 'min_child_weight': 9.918122754242049}.\n"
     ]
    },
    {
     "name": "stdout",
     "output_type": "stream",
     "text": [
      "906 "
     ]
    },
    {
     "name": "stderr",
     "output_type": "stream",
     "text": [
      "[I 2019-02-09 15:55:53,445] Finished a trial resulted in value: 0.16160130718954246. Current best value is 0.15708333333333346 with parameters: {'n_estimators': 141, 'gamma': 0.7260861678752946, 'lambda': 0.1406020832695276, 'learning_rate': 0.1415068096803329, 'max_depth': 10, 'subsample': 0.8635523908357677, 'colsample_bytree': 0.5904371111274501, 'min_child_weight': 9.918122754242049}.\n"
     ]
    },
    {
     "name": "stdout",
     "output_type": "stream",
     "text": [
      "907 "
     ]
    },
    {
     "name": "stderr",
     "output_type": "stream",
     "text": [
      "[I 2019-02-09 15:55:59,957] Finished a trial resulted in value: 0.1817892156862746. Current best value is 0.15708333333333346 with parameters: {'n_estimators': 141, 'gamma': 0.7260861678752946, 'lambda': 0.1406020832695276, 'learning_rate': 0.1415068096803329, 'max_depth': 10, 'subsample': 0.8635523908357677, 'colsample_bytree': 0.5904371111274501, 'min_child_weight': 9.918122754242049}.\n"
     ]
    },
    {
     "name": "stdout",
     "output_type": "stream",
     "text": [
      "908 "
     ]
    },
    {
     "name": "stderr",
     "output_type": "stream",
     "text": [
      "[I 2019-02-09 15:56:10,370] Finished a trial resulted in value: 0.17284313725490197. Current best value is 0.15708333333333346 with parameters: {'n_estimators': 141, 'gamma': 0.7260861678752946, 'lambda': 0.1406020832695276, 'learning_rate': 0.1415068096803329, 'max_depth': 10, 'subsample': 0.8635523908357677, 'colsample_bytree': 0.5904371111274501, 'min_child_weight': 9.918122754242049}.\n"
     ]
    },
    {
     "name": "stdout",
     "output_type": "stream",
     "text": [
      "909 "
     ]
    },
    {
     "name": "stderr",
     "output_type": "stream",
     "text": [
      "[I 2019-02-09 15:56:17,284] Finished a trial resulted in value: 0.16957516339869283. Current best value is 0.15708333333333346 with parameters: {'n_estimators': 141, 'gamma': 0.7260861678752946, 'lambda': 0.1406020832695276, 'learning_rate': 0.1415068096803329, 'max_depth': 10, 'subsample': 0.8635523908357677, 'colsample_bytree': 0.5904371111274501, 'min_child_weight': 9.918122754242049}.\n"
     ]
    },
    {
     "name": "stdout",
     "output_type": "stream",
     "text": [
      "910 "
     ]
    },
    {
     "name": "stderr",
     "output_type": "stream",
     "text": [
      "[I 2019-02-09 15:56:25,372] Finished a trial resulted in value: 0.1650653594771242. Current best value is 0.15708333333333346 with parameters: {'n_estimators': 141, 'gamma': 0.7260861678752946, 'lambda': 0.1406020832695276, 'learning_rate': 0.1415068096803329, 'max_depth': 10, 'subsample': 0.8635523908357677, 'colsample_bytree': 0.5904371111274501, 'min_child_weight': 9.918122754242049}.\n"
     ]
    },
    {
     "name": "stdout",
     "output_type": "stream",
     "text": [
      "911 "
     ]
    },
    {
     "name": "stderr",
     "output_type": "stream",
     "text": [
      "[I 2019-02-09 15:56:37,061] Finished a trial resulted in value: 0.1661111111111111. Current best value is 0.15708333333333346 with parameters: {'n_estimators': 141, 'gamma': 0.7260861678752946, 'lambda': 0.1406020832695276, 'learning_rate': 0.1415068096803329, 'max_depth': 10, 'subsample': 0.8635523908357677, 'colsample_bytree': 0.5904371111274501, 'min_child_weight': 9.918122754242049}.\n"
     ]
    },
    {
     "name": "stdout",
     "output_type": "stream",
     "text": [
      "912 "
     ]
    },
    {
     "name": "stderr",
     "output_type": "stream",
     "text": [
      "[I 2019-02-09 15:56:48,678] Finished a trial resulted in value: 0.16833333333333345. Current best value is 0.15708333333333346 with parameters: {'n_estimators': 141, 'gamma': 0.7260861678752946, 'lambda': 0.1406020832695276, 'learning_rate': 0.1415068096803329, 'max_depth': 10, 'subsample': 0.8635523908357677, 'colsample_bytree': 0.5904371111274501, 'min_child_weight': 9.918122754242049}.\n"
     ]
    },
    {
     "name": "stdout",
     "output_type": "stream",
     "text": [
      "913 "
     ]
    },
    {
     "name": "stderr",
     "output_type": "stream",
     "text": [
      "[I 2019-02-09 15:57:00,165] Finished a trial resulted in value: 0.1661111111111111. Current best value is 0.15708333333333346 with parameters: {'n_estimators': 141, 'gamma': 0.7260861678752946, 'lambda': 0.1406020832695276, 'learning_rate': 0.1415068096803329, 'max_depth': 10, 'subsample': 0.8635523908357677, 'colsample_bytree': 0.5904371111274501, 'min_child_weight': 9.918122754242049}.\n"
     ]
    },
    {
     "name": "stdout",
     "output_type": "stream",
     "text": [
      "914 "
     ]
    },
    {
     "name": "stderr",
     "output_type": "stream",
     "text": [
      "[I 2019-02-09 15:57:08,212] Finished a trial resulted in value: 0.1673529411764707. Current best value is 0.15708333333333346 with parameters: {'n_estimators': 141, 'gamma': 0.7260861678752946, 'lambda': 0.1406020832695276, 'learning_rate': 0.1415068096803329, 'max_depth': 10, 'subsample': 0.8635523908357677, 'colsample_bytree': 0.5904371111274501, 'min_child_weight': 9.918122754242049}.\n"
     ]
    },
    {
     "name": "stdout",
     "output_type": "stream",
     "text": [
      "915 "
     ]
    },
    {
     "name": "stderr",
     "output_type": "stream",
     "text": [
      "[I 2019-02-09 15:57:17,459] Finished a trial resulted in value: 0.16500000000000004. Current best value is 0.15708333333333346 with parameters: {'n_estimators': 141, 'gamma': 0.7260861678752946, 'lambda': 0.1406020832695276, 'learning_rate': 0.1415068096803329, 'max_depth': 10, 'subsample': 0.8635523908357677, 'colsample_bytree': 0.5904371111274501, 'min_child_weight': 9.918122754242049}.\n"
     ]
    },
    {
     "name": "stdout",
     "output_type": "stream",
     "text": [
      "916 "
     ]
    },
    {
     "name": "stderr",
     "output_type": "stream",
     "text": [
      "[I 2019-02-09 15:57:22,248] Finished a trial resulted in value: 0.16846405228758188. Current best value is 0.15708333333333346 with parameters: {'n_estimators': 141, 'gamma': 0.7260861678752946, 'lambda': 0.1406020832695276, 'learning_rate': 0.1415068096803329, 'max_depth': 10, 'subsample': 0.8635523908357677, 'colsample_bytree': 0.5904371111274501, 'min_child_weight': 9.918122754242049}.\n"
     ]
    },
    {
     "name": "stdout",
     "output_type": "stream",
     "text": [
      "917 "
     ]
    },
    {
     "name": "stderr",
     "output_type": "stream",
     "text": [
      "[I 2019-02-09 15:57:34,041] Finished a trial resulted in value: 0.16388888888888897. Current best value is 0.15708333333333346 with parameters: {'n_estimators': 141, 'gamma': 0.7260861678752946, 'lambda': 0.1406020832695276, 'learning_rate': 0.1415068096803329, 'max_depth': 10, 'subsample': 0.8635523908357677, 'colsample_bytree': 0.5904371111274501, 'min_child_weight': 9.918122754242049}.\n"
     ]
    },
    {
     "name": "stdout",
     "output_type": "stream",
     "text": [
      "918 "
     ]
    },
    {
     "name": "stderr",
     "output_type": "stream",
     "text": [
      "[I 2019-02-09 15:57:43,995] Finished a trial resulted in value: 0.1652042483660131. Current best value is 0.15708333333333346 with parameters: {'n_estimators': 141, 'gamma': 0.7260861678752946, 'lambda': 0.1406020832695276, 'learning_rate': 0.1415068096803329, 'max_depth': 10, 'subsample': 0.8635523908357677, 'colsample_bytree': 0.5904371111274501, 'min_child_weight': 9.918122754242049}.\n"
     ]
    },
    {
     "name": "stdout",
     "output_type": "stream",
     "text": [
      "919 "
     ]
    },
    {
     "name": "stderr",
     "output_type": "stream",
     "text": [
      "[I 2019-02-09 15:57:52,489] Finished a trial resulted in value: 0.1683986928104575. Current best value is 0.15708333333333346 with parameters: {'n_estimators': 141, 'gamma': 0.7260861678752946, 'lambda': 0.1406020832695276, 'learning_rate': 0.1415068096803329, 'max_depth': 10, 'subsample': 0.8635523908357677, 'colsample_bytree': 0.5904371111274501, 'min_child_weight': 9.918122754242049}.\n"
     ]
    },
    {
     "name": "stdout",
     "output_type": "stream",
     "text": [
      "920 "
     ]
    },
    {
     "name": "stderr",
     "output_type": "stream",
     "text": [
      "[I 2019-02-09 15:58:00,209] Finished a trial resulted in value: 0.16714869281045763. Current best value is 0.15708333333333346 with parameters: {'n_estimators': 141, 'gamma': 0.7260861678752946, 'lambda': 0.1406020832695276, 'learning_rate': 0.1415068096803329, 'max_depth': 10, 'subsample': 0.8635523908357677, 'colsample_bytree': 0.5904371111274501, 'min_child_weight': 9.918122754242049}.\n"
     ]
    },
    {
     "name": "stdout",
     "output_type": "stream",
     "text": [
      "921 "
     ]
    },
    {
     "name": "stderr",
     "output_type": "stream",
     "text": [
      "[I 2019-02-09 15:58:10,832] Finished a trial resulted in value: 0.16513071895424847. Current best value is 0.15708333333333346 with parameters: {'n_estimators': 141, 'gamma': 0.7260861678752946, 'lambda': 0.1406020832695276, 'learning_rate': 0.1415068096803329, 'max_depth': 10, 'subsample': 0.8635523908357677, 'colsample_bytree': 0.5904371111274501, 'min_child_weight': 9.918122754242049}.\n"
     ]
    },
    {
     "name": "stdout",
     "output_type": "stream",
     "text": [
      "922 "
     ]
    },
    {
     "name": "stderr",
     "output_type": "stream",
     "text": [
      "[I 2019-02-09 15:58:20,268] Finished a trial resulted in value: 0.1683986928104575. Current best value is 0.15708333333333346 with parameters: {'n_estimators': 141, 'gamma': 0.7260861678752946, 'lambda': 0.1406020832695276, 'learning_rate': 0.1415068096803329, 'max_depth': 10, 'subsample': 0.8635523908357677, 'colsample_bytree': 0.5904371111274501, 'min_child_weight': 9.918122754242049}.\n"
     ]
    },
    {
     "name": "stdout",
     "output_type": "stream",
     "text": [
      "923 "
     ]
    },
    {
     "name": "stderr",
     "output_type": "stream",
     "text": [
      "[I 2019-02-09 15:58:27,811] Finished a trial resulted in value: 0.16500000000000004. Current best value is 0.15708333333333346 with parameters: {'n_estimators': 141, 'gamma': 0.7260861678752946, 'lambda': 0.1406020832695276, 'learning_rate': 0.1415068096803329, 'max_depth': 10, 'subsample': 0.8635523908357677, 'colsample_bytree': 0.5904371111274501, 'min_child_weight': 9.918122754242049}.\n"
     ]
    },
    {
     "name": "stdout",
     "output_type": "stream",
     "text": [
      "924 "
     ]
    },
    {
     "name": "stderr",
     "output_type": "stream",
     "text": [
      "[I 2019-02-09 15:58:39,943] Finished a trial resulted in value: 0.16395424836601302. Current best value is 0.15708333333333346 with parameters: {'n_estimators': 141, 'gamma': 0.7260861678752946, 'lambda': 0.1406020832695276, 'learning_rate': 0.1415068096803329, 'max_depth': 10, 'subsample': 0.8635523908357677, 'colsample_bytree': 0.5904371111274501, 'min_child_weight': 9.918122754242049}.\n"
     ]
    },
    {
     "name": "stdout",
     "output_type": "stream",
     "text": [
      "925 "
     ]
    },
    {
     "name": "stderr",
     "output_type": "stream",
     "text": [
      "[I 2019-02-09 15:58:45,269] Finished a trial resulted in value: 0.1866421568627452. Current best value is 0.15708333333333346 with parameters: {'n_estimators': 141, 'gamma': 0.7260861678752946, 'lambda': 0.1406020832695276, 'learning_rate': 0.1415068096803329, 'max_depth': 10, 'subsample': 0.8635523908357677, 'colsample_bytree': 0.5904371111274501, 'min_child_weight': 9.918122754242049}.\n"
     ]
    },
    {
     "name": "stdout",
     "output_type": "stream",
     "text": [
      "926 "
     ]
    },
    {
     "name": "stderr",
     "output_type": "stream",
     "text": [
      "[I 2019-02-09 15:58:53,244] Finished a trial resulted in value: 0.16833333333333345. Current best value is 0.15708333333333346 with parameters: {'n_estimators': 141, 'gamma': 0.7260861678752946, 'lambda': 0.1406020832695276, 'learning_rate': 0.1415068096803329, 'max_depth': 10, 'subsample': 0.8635523908357677, 'colsample_bytree': 0.5904371111274501, 'min_child_weight': 9.918122754242049}.\n"
     ]
    },
    {
     "name": "stdout",
     "output_type": "stream",
     "text": [
      "927 "
     ]
    },
    {
     "name": "stderr",
     "output_type": "stream",
     "text": [
      "[I 2019-02-09 15:59:00,241] Finished a trial resulted in value: 0.1649264705882354. Current best value is 0.15708333333333346 with parameters: {'n_estimators': 141, 'gamma': 0.7260861678752946, 'lambda': 0.1406020832695276, 'learning_rate': 0.1415068096803329, 'max_depth': 10, 'subsample': 0.8635523908357677, 'colsample_bytree': 0.5904371111274501, 'min_child_weight': 9.918122754242049}.\n"
     ]
    },
    {
     "name": "stdout",
     "output_type": "stream",
     "text": [
      "928 "
     ]
    },
    {
     "name": "stderr",
     "output_type": "stream",
     "text": [
      "[I 2019-02-09 15:59:06,595] Finished a trial resulted in value: 0.1661111111111111. Current best value is 0.15708333333333346 with parameters: {'n_estimators': 141, 'gamma': 0.7260861678752946, 'lambda': 0.1406020832695276, 'learning_rate': 0.1415068096803329, 'max_depth': 10, 'subsample': 0.8635523908357677, 'colsample_bytree': 0.5904371111274501, 'min_child_weight': 9.918122754242049}.\n"
     ]
    },
    {
     "name": "stdout",
     "output_type": "stream",
     "text": [
      "929 "
     ]
    },
    {
     "name": "stderr",
     "output_type": "stream",
     "text": [
      "[I 2019-02-09 15:59:22,651] Finished a trial resulted in value: 0.16944444444444462. Current best value is 0.15708333333333346 with parameters: {'n_estimators': 141, 'gamma': 0.7260861678752946, 'lambda': 0.1406020832695276, 'learning_rate': 0.1415068096803329, 'max_depth': 10, 'subsample': 0.8635523908357677, 'colsample_bytree': 0.5904371111274501, 'min_child_weight': 9.918122754242049}.\n"
     ]
    },
    {
     "name": "stdout",
     "output_type": "stream",
     "text": [
      "930 "
     ]
    },
    {
     "name": "stderr",
     "output_type": "stream",
     "text": [
      "[I 2019-02-09 15:59:34,519] Finished a trial resulted in value: 0.16284313725490207. Current best value is 0.15708333333333346 with parameters: {'n_estimators': 141, 'gamma': 0.7260861678752946, 'lambda': 0.1406020832695276, 'learning_rate': 0.1415068096803329, 'max_depth': 10, 'subsample': 0.8635523908357677, 'colsample_bytree': 0.5904371111274501, 'min_child_weight': 9.918122754242049}.\n"
     ]
    },
    {
     "name": "stdout",
     "output_type": "stream",
     "text": [
      "931 "
     ]
    },
    {
     "name": "stderr",
     "output_type": "stream",
     "text": [
      "[I 2019-02-09 15:59:38,921] Finished a trial resulted in value: 0.17284313725490208. Current best value is 0.15708333333333346 with parameters: {'n_estimators': 141, 'gamma': 0.7260861678752946, 'lambda': 0.1406020832695276, 'learning_rate': 0.1415068096803329, 'max_depth': 10, 'subsample': 0.8635523908357677, 'colsample_bytree': 0.5904371111274501, 'min_child_weight': 9.918122754242049}.\n"
     ]
    },
    {
     "name": "stdout",
     "output_type": "stream",
     "text": [
      "932 "
     ]
    },
    {
     "name": "stderr",
     "output_type": "stream",
     "text": [
      "[I 2019-02-09 15:59:45,103] Finished a trial resulted in value: 0.16624183006535942. Current best value is 0.15708333333333346 with parameters: {'n_estimators': 141, 'gamma': 0.7260861678752946, 'lambda': 0.1406020832695276, 'learning_rate': 0.1415068096803329, 'max_depth': 10, 'subsample': 0.8635523908357677, 'colsample_bytree': 0.5904371111274501, 'min_child_weight': 9.918122754242049}.\n"
     ]
    },
    {
     "name": "stdout",
     "output_type": "stream",
     "text": [
      "933 "
     ]
    },
    {
     "name": "stderr",
     "output_type": "stream",
     "text": [
      "[I 2019-02-09 15:59:53,550] Finished a trial resulted in value: 0.1661111111111111. Current best value is 0.15708333333333346 with parameters: {'n_estimators': 141, 'gamma': 0.7260861678752946, 'lambda': 0.1406020832695276, 'learning_rate': 0.1415068096803329, 'max_depth': 10, 'subsample': 0.8635523908357677, 'colsample_bytree': 0.5904371111274501, 'min_child_weight': 9.918122754242049}.\n"
     ]
    },
    {
     "name": "stdout",
     "output_type": "stream",
     "text": [
      "934 "
     ]
    },
    {
     "name": "stderr",
     "output_type": "stream",
     "text": [
      "[I 2019-02-09 16:00:00,386] Finished a trial resulted in value: 0.1773529411764707. Current best value is 0.15708333333333346 with parameters: {'n_estimators': 141, 'gamma': 0.7260861678752946, 'lambda': 0.1406020832695276, 'learning_rate': 0.1415068096803329, 'max_depth': 10, 'subsample': 0.8635523908357677, 'colsample_bytree': 0.5904371111274501, 'min_child_weight': 9.918122754242049}.\n"
     ]
    },
    {
     "name": "stdout",
     "output_type": "stream",
     "text": [
      "935 "
     ]
    },
    {
     "name": "stderr",
     "output_type": "stream",
     "text": [
      "[I 2019-02-09 16:00:09,303] Finished a trial resulted in value: 0.16944444444444462. Current best value is 0.15708333333333346 with parameters: {'n_estimators': 141, 'gamma': 0.7260861678752946, 'lambda': 0.1406020832695276, 'learning_rate': 0.1415068096803329, 'max_depth': 10, 'subsample': 0.8635523908357677, 'colsample_bytree': 0.5904371111274501, 'min_child_weight': 9.918122754242049}.\n"
     ]
    },
    {
     "name": "stdout",
     "output_type": "stream",
     "text": [
      "936 "
     ]
    },
    {
     "name": "stderr",
     "output_type": "stream",
     "text": [
      "[I 2019-02-09 16:00:17,467] Finished a trial resulted in value: 0.17624183006535943. Current best value is 0.15708333333333346 with parameters: {'n_estimators': 141, 'gamma': 0.7260861678752946, 'lambda': 0.1406020832695276, 'learning_rate': 0.1415068096803329, 'max_depth': 10, 'subsample': 0.8635523908357677, 'colsample_bytree': 0.5904371111274501, 'min_child_weight': 9.918122754242049}.\n"
     ]
    },
    {
     "name": "stdout",
     "output_type": "stream",
     "text": [
      "937 "
     ]
    },
    {
     "name": "stderr",
     "output_type": "stream",
     "text": [
      "[I 2019-02-09 16:00:26,403] Finished a trial resulted in value: 0.1639624183006536. Current best value is 0.15708333333333346 with parameters: {'n_estimators': 141, 'gamma': 0.7260861678752946, 'lambda': 0.1406020832695276, 'learning_rate': 0.1415068096803329, 'max_depth': 10, 'subsample': 0.8635523908357677, 'colsample_bytree': 0.5904371111274501, 'min_child_weight': 9.918122754242049}.\n"
     ]
    },
    {
     "name": "stdout",
     "output_type": "stream",
     "text": [
      "938 "
     ]
    },
    {
     "name": "stderr",
     "output_type": "stream",
     "text": [
      "[I 2019-02-09 16:00:36,086] Finished a trial resulted in value: 0.17637254901960797. Current best value is 0.15708333333333346 with parameters: {'n_estimators': 141, 'gamma': 0.7260861678752946, 'lambda': 0.1406020832695276, 'learning_rate': 0.1415068096803329, 'max_depth': 10, 'subsample': 0.8635523908357677, 'colsample_bytree': 0.5904371111274501, 'min_child_weight': 9.918122754242049}.\n"
     ]
    },
    {
     "name": "stdout",
     "output_type": "stream",
     "text": [
      "939 "
     ]
    },
    {
     "name": "stderr",
     "output_type": "stream",
     "text": [
      "[I 2019-02-09 16:00:42,206] Finished a trial resulted in value: 0.16950980392156867. Current best value is 0.15708333333333346 with parameters: {'n_estimators': 141, 'gamma': 0.7260861678752946, 'lambda': 0.1406020832695276, 'learning_rate': 0.1415068096803329, 'max_depth': 10, 'subsample': 0.8635523908357677, 'colsample_bytree': 0.5904371111274501, 'min_child_weight': 9.918122754242049}.\n"
     ]
    },
    {
     "name": "stdout",
     "output_type": "stream",
     "text": [
      "940 "
     ]
    },
    {
     "name": "stderr",
     "output_type": "stream",
     "text": [
      "[I 2019-02-09 16:00:50,484] Finished a trial resulted in value: 0.16513071895424847. Current best value is 0.15708333333333346 with parameters: {'n_estimators': 141, 'gamma': 0.7260861678752946, 'lambda': 0.1406020832695276, 'learning_rate': 0.1415068096803329, 'max_depth': 10, 'subsample': 0.8635523908357677, 'colsample_bytree': 0.5904371111274501, 'min_child_weight': 9.918122754242049}.\n"
     ]
    },
    {
     "name": "stdout",
     "output_type": "stream",
     "text": [
      "941 "
     ]
    },
    {
     "name": "stderr",
     "output_type": "stream",
     "text": [
      "[I 2019-02-09 16:01:03,918] Finished a trial resulted in value: 0.16284313725490196. Current best value is 0.15708333333333346 with parameters: {'n_estimators': 141, 'gamma': 0.7260861678752946, 'lambda': 0.1406020832695276, 'learning_rate': 0.1415068096803329, 'max_depth': 10, 'subsample': 0.8635523908357677, 'colsample_bytree': 0.5904371111274501, 'min_child_weight': 9.918122754242049}.\n"
     ]
    },
    {
     "name": "stdout",
     "output_type": "stream",
     "text": [
      "942 "
     ]
    },
    {
     "name": "stderr",
     "output_type": "stream",
     "text": [
      "[I 2019-02-09 16:01:11,411] Finished a trial resulted in value: 0.16617647058823537. Current best value is 0.15708333333333346 with parameters: {'n_estimators': 141, 'gamma': 0.7260861678752946, 'lambda': 0.1406020832695276, 'learning_rate': 0.1415068096803329, 'max_depth': 10, 'subsample': 0.8635523908357677, 'colsample_bytree': 0.5904371111274501, 'min_child_weight': 9.918122754242049}.\n"
     ]
    },
    {
     "name": "stdout",
     "output_type": "stream",
     "text": [
      "943 "
     ]
    },
    {
     "name": "stderr",
     "output_type": "stream",
     "text": [
      "[I 2019-02-09 16:01:14,746] Finished a trial resulted in value: 0.383578431372549. Current best value is 0.15708333333333346 with parameters: {'n_estimators': 141, 'gamma': 0.7260861678752946, 'lambda': 0.1406020832695276, 'learning_rate': 0.1415068096803329, 'max_depth': 10, 'subsample': 0.8635523908357677, 'colsample_bytree': 0.5904371111274501, 'min_child_weight': 9.918122754242049}.\n"
     ]
    },
    {
     "name": "stdout",
     "output_type": "stream",
     "text": [
      "944 "
     ]
    },
    {
     "name": "stderr",
     "output_type": "stream",
     "text": [
      "[I 2019-02-09 16:01:26,812] Finished a trial resulted in value: 0.16624183006535953. Current best value is 0.15708333333333346 with parameters: {'n_estimators': 141, 'gamma': 0.7260861678752946, 'lambda': 0.1406020832695276, 'learning_rate': 0.1415068096803329, 'max_depth': 10, 'subsample': 0.8635523908357677, 'colsample_bytree': 0.5904371111274501, 'min_child_weight': 9.918122754242049}.\n"
     ]
    },
    {
     "name": "stdout",
     "output_type": "stream",
     "text": [
      "945 "
     ]
    },
    {
     "name": "stderr",
     "output_type": "stream",
     "text": [
      "[I 2019-02-09 16:01:38,813] Finished a trial resulted in value: 0.18296568627450982. Current best value is 0.15708333333333346 with parameters: {'n_estimators': 141, 'gamma': 0.7260861678752946, 'lambda': 0.1406020832695276, 'learning_rate': 0.1415068096803329, 'max_depth': 10, 'subsample': 0.8635523908357677, 'colsample_bytree': 0.5904371111274501, 'min_child_weight': 9.918122754242049}.\n"
     ]
    },
    {
     "name": "stdout",
     "output_type": "stream",
     "text": [
      "946 "
     ]
    },
    {
     "name": "stderr",
     "output_type": "stream",
     "text": [
      "[I 2019-02-09 16:01:48,027] Finished a trial resulted in value: 0.1640196078431373. Current best value is 0.15708333333333346 with parameters: {'n_estimators': 141, 'gamma': 0.7260861678752946, 'lambda': 0.1406020832695276, 'learning_rate': 0.1415068096803329, 'max_depth': 10, 'subsample': 0.8635523908357677, 'colsample_bytree': 0.5904371111274501, 'min_child_weight': 9.918122754242049}.\n"
     ]
    },
    {
     "name": "stdout",
     "output_type": "stream",
     "text": [
      "947 "
     ]
    },
    {
     "name": "stderr",
     "output_type": "stream",
     "text": [
      "[I 2019-02-09 16:01:57,069] Finished a trial resulted in value: 0.16604575163398694. Current best value is 0.15708333333333346 with parameters: {'n_estimators': 141, 'gamma': 0.7260861678752946, 'lambda': 0.1406020832695276, 'learning_rate': 0.1415068096803329, 'max_depth': 10, 'subsample': 0.8635523908357677, 'colsample_bytree': 0.5904371111274501, 'min_child_weight': 9.918122754242049}.\n"
     ]
    },
    {
     "name": "stdout",
     "output_type": "stream",
     "text": [
      "948 "
     ]
    },
    {
     "name": "stderr",
     "output_type": "stream",
     "text": [
      "[I 2019-02-09 16:02:05,085] Finished a trial resulted in value: 0.1683986928104576. Current best value is 0.15708333333333346 with parameters: {'n_estimators': 141, 'gamma': 0.7260861678752946, 'lambda': 0.1406020832695276, 'learning_rate': 0.1415068096803329, 'max_depth': 10, 'subsample': 0.8635523908357677, 'colsample_bytree': 0.5904371111274501, 'min_child_weight': 9.918122754242049}.\n"
     ]
    },
    {
     "name": "stdout",
     "output_type": "stream",
     "text": [
      "949 "
     ]
    },
    {
     "name": "stderr",
     "output_type": "stream",
     "text": [
      "[I 2019-02-09 16:02:10,876] Finished a trial resulted in value: 0.18546568627450977. Current best value is 0.15708333333333346 with parameters: {'n_estimators': 141, 'gamma': 0.7260861678752946, 'lambda': 0.1406020832695276, 'learning_rate': 0.1415068096803329, 'max_depth': 10, 'subsample': 0.8635523908357677, 'colsample_bytree': 0.5904371111274501, 'min_child_weight': 9.918122754242049}.\n"
     ]
    },
    {
     "name": "stdout",
     "output_type": "stream",
     "text": [
      "950 "
     ]
    },
    {
     "name": "stderr",
     "output_type": "stream",
     "text": [
      "[I 2019-02-09 16:02:24,423] Finished a trial resulted in value: 0.16617647058823537. Current best value is 0.15708333333333346 with parameters: {'n_estimators': 141, 'gamma': 0.7260861678752946, 'lambda': 0.1406020832695276, 'learning_rate': 0.1415068096803329, 'max_depth': 10, 'subsample': 0.8635523908357677, 'colsample_bytree': 0.5904371111274501, 'min_child_weight': 9.918122754242049}.\n"
     ]
    },
    {
     "name": "stdout",
     "output_type": "stream",
     "text": [
      "951 "
     ]
    },
    {
     "name": "stderr",
     "output_type": "stream",
     "text": [
      "[I 2019-02-09 16:02:34,654] Finished a trial resulted in value: 0.17049019607843152. Current best value is 0.15708333333333346 with parameters: {'n_estimators': 141, 'gamma': 0.7260861678752946, 'lambda': 0.1406020832695276, 'learning_rate': 0.1415068096803329, 'max_depth': 10, 'subsample': 0.8635523908357677, 'colsample_bytree': 0.5904371111274501, 'min_child_weight': 9.918122754242049}.\n"
     ]
    },
    {
     "name": "stdout",
     "output_type": "stream",
     "text": [
      "952 "
     ]
    },
    {
     "name": "stderr",
     "output_type": "stream",
     "text": [
      "[I 2019-02-09 16:02:43,544] Finished a trial resulted in value: 0.1640196078431373. Current best value is 0.15708333333333346 with parameters: {'n_estimators': 141, 'gamma': 0.7260861678752946, 'lambda': 0.1406020832695276, 'learning_rate': 0.1415068096803329, 'max_depth': 10, 'subsample': 0.8635523908357677, 'colsample_bytree': 0.5904371111274501, 'min_child_weight': 9.918122754242049}.\n"
     ]
    },
    {
     "name": "stdout",
     "output_type": "stream",
     "text": [
      "953 "
     ]
    },
    {
     "name": "stderr",
     "output_type": "stream",
     "text": [
      "[I 2019-02-09 16:02:48,615] Finished a trial resulted in value: 0.17284313725490197. Current best value is 0.15708333333333346 with parameters: {'n_estimators': 141, 'gamma': 0.7260861678752946, 'lambda': 0.1406020832695276, 'learning_rate': 0.1415068096803329, 'max_depth': 10, 'subsample': 0.8635523908357677, 'colsample_bytree': 0.5904371111274501, 'min_child_weight': 9.918122754242049}.\n"
     ]
    },
    {
     "name": "stdout",
     "output_type": "stream",
     "text": [
      "954 "
     ]
    },
    {
     "name": "stderr",
     "output_type": "stream",
     "text": [
      "[I 2019-02-09 16:02:56,878] Finished a trial resulted in value: 0.17271241830065365. Current best value is 0.15708333333333346 with parameters: {'n_estimators': 141, 'gamma': 0.7260861678752946, 'lambda': 0.1406020832695276, 'learning_rate': 0.1415068096803329, 'max_depth': 10, 'subsample': 0.8635523908357677, 'colsample_bytree': 0.5904371111274501, 'min_child_weight': 9.918122754242049}.\n"
     ]
    },
    {
     "name": "stdout",
     "output_type": "stream",
     "text": [
      "955 "
     ]
    },
    {
     "name": "stderr",
     "output_type": "stream",
     "text": [
      "[I 2019-02-09 16:03:03,053] Finished a trial resulted in value: 0.18415032679738563. Current best value is 0.15708333333333346 with parameters: {'n_estimators': 141, 'gamma': 0.7260861678752946, 'lambda': 0.1406020832695276, 'learning_rate': 0.1415068096803329, 'max_depth': 10, 'subsample': 0.8635523908357677, 'colsample_bytree': 0.5904371111274501, 'min_child_weight': 9.918122754242049}.\n"
     ]
    },
    {
     "name": "stdout",
     "output_type": "stream",
     "text": [
      "956 "
     ]
    },
    {
     "name": "stderr",
     "output_type": "stream",
     "text": [
      "[I 2019-02-09 16:03:15,056] Finished a trial resulted in value: 0.16617647058823537. Current best value is 0.15708333333333346 with parameters: {'n_estimators': 141, 'gamma': 0.7260861678752946, 'lambda': 0.1406020832695276, 'learning_rate': 0.1415068096803329, 'max_depth': 10, 'subsample': 0.8635523908357677, 'colsample_bytree': 0.5904371111274501, 'min_child_weight': 9.918122754242049}.\n"
     ]
    },
    {
     "name": "stdout",
     "output_type": "stream",
     "text": [
      "957 "
     ]
    },
    {
     "name": "stderr",
     "output_type": "stream",
     "text": [
      "[I 2019-02-09 16:03:25,366] Finished a trial resulted in value: 0.16173202614379079. Current best value is 0.15708333333333346 with parameters: {'n_estimators': 141, 'gamma': 0.7260861678752946, 'lambda': 0.1406020832695276, 'learning_rate': 0.1415068096803329, 'max_depth': 10, 'subsample': 0.8635523908357677, 'colsample_bytree': 0.5904371111274501, 'min_child_weight': 9.918122754242049}.\n"
     ]
    },
    {
     "name": "stdout",
     "output_type": "stream",
     "text": [
      "958 "
     ]
    },
    {
     "name": "stderr",
     "output_type": "stream",
     "text": [
      "[I 2019-02-09 16:03:34,198] Finished a trial resulted in value: 0.1661111111111111. Current best value is 0.15708333333333346 with parameters: {'n_estimators': 141, 'gamma': 0.7260861678752946, 'lambda': 0.1406020832695276, 'learning_rate': 0.1415068096803329, 'max_depth': 10, 'subsample': 0.8635523908357677, 'colsample_bytree': 0.5904371111274501, 'min_child_weight': 9.918122754242049}.\n"
     ]
    },
    {
     "name": "stdout",
     "output_type": "stream",
     "text": [
      "959 "
     ]
    },
    {
     "name": "stderr",
     "output_type": "stream",
     "text": [
      "[I 2019-02-09 16:03:39,250] Finished a trial resulted in value: 0.1727777777777777. Current best value is 0.15708333333333346 with parameters: {'n_estimators': 141, 'gamma': 0.7260861678752946, 'lambda': 0.1406020832695276, 'learning_rate': 0.1415068096803329, 'max_depth': 10, 'subsample': 0.8635523908357677, 'colsample_bytree': 0.5904371111274501, 'min_child_weight': 9.918122754242049}.\n"
     ]
    },
    {
     "name": "stdout",
     "output_type": "stream",
     "text": [
      "960 "
     ]
    }
   ],
   "source": [
    "f = partial(objective_optuna, train, labels)\n",
    "study = optuna.create_study()\n",
    "study.optimize(f, n_trials=10000)"
   ]
  },
  {
   "cell_type": "code",
   "execution_count": null,
   "metadata": {},
   "outputs": [],
   "source": [
    "# train a xgboost classifier\n",
    "# params = {\"num_class\": 2}\n",
    "# train_xgb = xgb.DMatrix(train, labels)\n",
    "# test_xgb  = xgb.DMatrix(test)\n",
    "# trainRound = 100\n",
    "# gbm = xgb.train(params, train_xgb, trainRound)\n",
    "# pred = gbm.predict(test_xgb)\n",
    "# pred = pred.astype('int')"
   ]
  },
  {
   "cell_type": "code",
   "execution_count": null,
   "metadata": {},
   "outputs": [],
   "source": [
    "study.best_params"
   ]
  },
  {
   "cell_type": "code",
   "execution_count": null,
   "metadata": {},
   "outputs": [],
   "source": [
    "#最適化するパラメータを設定\n",
    "    \n",
    "#モデルの定義\n",
    "model = xgb.XGBClassifier(random_state=2,**study)\n",
    "model.fit(df.drop('Survived', axis=1), df.Survived,eval_metric='error')\n",
    "    \n",
    "kf = StratifiedKFold(n_splits=10, shuffle=True,)\n",
    "scores = cross_validate(model, X=train, y=labels, cv=kf, scoring='accuracy')\n",
    "# return 1.0 - scores['test_score'].mean()"
   ]
  },
  {
   "cell_type": "code",
   "execution_count": null,
   "metadata": {},
   "outputs": [],
   "source": [
    "scores['test_score'].mean()"
   ]
  },
  {
   "cell_type": "code",
   "execution_count": null,
   "metadata": {},
   "outputs": [],
   "source": [
    "model.save_model('xgbmodel')"
   ]
  },
  {
   "cell_type": "code",
   "execution_count": null,
   "metadata": {},
   "outputs": [],
   "source": [
    "pred = model.predict(df_test)"
   ]
  },
  {
   "cell_type": "code",
   "execution_count": null,
   "metadata": {},
   "outputs": [],
   "source": [
    "train.shape"
   ]
  },
  {
   "cell_type": "code",
   "execution_count": null,
   "metadata": {},
   "outputs": [],
   "source": [
    "# create submission file\n",
    "submission_result = pd.DataFrame({\"Survived\":pred},index=test.index)\n",
    "submission_result.to_csv(savepath + 'submission_xgb.csv',index='False')"
   ]
  },
  {
   "cell_type": "markdown",
   "metadata": {},
   "source": [
    "# 以下適当なコード"
   ]
  },
  {
   "cell_type": "code",
   "execution_count": null,
   "metadata": {},
   "outputs": [],
   "source": [
    "#重要度のやつ\n",
    "\n",
    "\n",
    "features = train.columns\n",
    "# create a feature map\n",
    "outfile = open('xgb.fmap', 'w')\n",
    "i = 0\n",
    "for feat in features:\n",
    "    outfile.write('{0}\\t{1}\\tq\\n'.format(i, feat))\n",
    "    i = i + 1\n",
    "outfile.close()\n",
    "\n",
    "# plot feature importance\n",
    "importance = gbm.get_fscore(fmap='xgb.fmap')\n",
    "importance = sorted(importance.items(), key=operator.itemgetter(1))\n",
    "df = pd.DataFrame(importance, columns=['feature', 'fscore'])\n",
    "df['fscore'] = df['fscore'] / df['fscore'].sum()\n",
    "plt.figure()\n",
    "df.plot()\n",
    "df.plot(kind='barh', x='feature', y='fscore', legend=False, figsize=(6, 20))\n",
    "plt.title('XGBoost Feature Importance')\n",
    "plt.xlabel('relative importance')\n",
    "plt.gcf().savefig('feature_importance_xgb.png')\n",
    "\n"
   ]
  },
  {
   "cell_type": "code",
   "execution_count": null,
   "metadata": {},
   "outputs": [],
   "source": []
  },
  {
   "cell_type": "code",
   "execution_count": 31,
   "metadata": {},
   "outputs": [
    {
     "data": {
      "text/plain": [
       "XGBClassifier(base_score=0.5, booster='gbtree', colsample_bylevel=1,\n",
       "       colsample_bytree=1, gamma=0, learning_rate=0.1, max_delta_step=0,\n",
       "       max_depth=3, min_child_weight=1, missing=None, n_estimators=100,\n",
       "       n_jobs=1, nthread=None, objective='binary:logistic', random_state=2,\n",
       "       reg_alpha=0, reg_lambda=1, scale_pos_weight=1, seed=None,\n",
       "       silent=True, subsample=1)"
      ]
     },
     "execution_count": 31,
     "metadata": {},
     "output_type": "execute_result"
    }
   ],
   "source": [
    "\n",
    "#使うデータの前処理\n",
    "train_xgb = xgb.DMatrix(df.drop('Survived', axis=1), df.Survived)\n",
    "test_xgb  = xgb.DMatrix(df_test)\n",
    "    \n",
    "#最適化するパラメータを設定\n",
    "params = {\n",
    "     'n_estimators': 100,\n",
    "     'gamma': 0,\n",
    "     'reg_lambda': 1,\n",
    "      #'max_depth': trial.suggest_int('max_depth', 2, 32)\n",
    "}\n",
    "    \n",
    "#モデルの定義\n",
    "model = xgb.XGBClassifier(random_state=2,**params)\n",
    "model.fit(df.drop('Survived', axis=1), df.Survived)\n",
    "    \n",
    "# kf = StratifiedKFold(n_splits=5, shuffle=True, random_state=2)\n",
    "# scores = cross_validate(model, X=X, y=y, cv=kf, scoring='accuracy')\n",
    "    \n",
    "# return 1.0 - scores['test_score'].mean()"
   ]
  },
  {
   "cell_type": "code",
   "execution_count": 27,
   "metadata": {},
   "outputs": [
    {
     "ename": "AttributeError",
     "evalue": "'XGBClassifier' object has no attribute 'get_fscore'",
     "output_type": "error",
     "traceback": [
      "\u001b[0;31m---------------------------------------------------------------------------\u001b[0m",
      "\u001b[0;31mAttributeError\u001b[0m                            Traceback (most recent call last)",
      "\u001b[0;32m<ipython-input-27-08c1ffacd750>\u001b[0m in \u001b[0;36m<module>\u001b[0;34m()\u001b[0m\n\u001b[1;32m      9\u001b[0m \u001b[0;34m\u001b[0m\u001b[0m\n\u001b[1;32m     10\u001b[0m \u001b[0;31m# plot feature importance\u001b[0m\u001b[0;34m\u001b[0m\u001b[0;34m\u001b[0m\u001b[0m\n\u001b[0;32m---> 11\u001b[0;31m \u001b[0mimportance\u001b[0m \u001b[0;34m=\u001b[0m \u001b[0mmodel\u001b[0m\u001b[0;34m.\u001b[0m\u001b[0mget_fscore\u001b[0m\u001b[0;34m(\u001b[0m\u001b[0mfmap\u001b[0m\u001b[0;34m=\u001b[0m\u001b[0;34m'xgb.fmap'\u001b[0m\u001b[0;34m)\u001b[0m\u001b[0;34m\u001b[0m\u001b[0m\n\u001b[0m\u001b[1;32m     12\u001b[0m \u001b[0mimportance\u001b[0m \u001b[0;34m=\u001b[0m \u001b[0msorted\u001b[0m\u001b[0;34m(\u001b[0m\u001b[0mimportance\u001b[0m\u001b[0;34m.\u001b[0m\u001b[0mitems\u001b[0m\u001b[0;34m(\u001b[0m\u001b[0;34m)\u001b[0m\u001b[0;34m,\u001b[0m \u001b[0mkey\u001b[0m\u001b[0;34m=\u001b[0m\u001b[0moperator\u001b[0m\u001b[0;34m.\u001b[0m\u001b[0mitemgetter\u001b[0m\u001b[0;34m(\u001b[0m\u001b[0;36m1\u001b[0m\u001b[0;34m)\u001b[0m\u001b[0;34m)\u001b[0m\u001b[0;34m\u001b[0m\u001b[0m\n\u001b[1;32m     13\u001b[0m \u001b[0mdf\u001b[0m \u001b[0;34m=\u001b[0m \u001b[0mpd\u001b[0m\u001b[0;34m.\u001b[0m\u001b[0mDataFrame\u001b[0m\u001b[0;34m(\u001b[0m\u001b[0mimportance\u001b[0m\u001b[0;34m,\u001b[0m \u001b[0mcolumns\u001b[0m\u001b[0;34m=\u001b[0m\u001b[0;34m[\u001b[0m\u001b[0;34m'feature'\u001b[0m\u001b[0;34m,\u001b[0m \u001b[0;34m'fscore'\u001b[0m\u001b[0;34m]\u001b[0m\u001b[0;34m)\u001b[0m\u001b[0;34m\u001b[0m\u001b[0m\n",
      "\u001b[0;31mAttributeError\u001b[0m: 'XGBClassifier' object has no attribute 'get_fscore'"
     ]
    }
   ],
   "source": []
  }
 ],
 "metadata": {
  "kernelspec": {
   "display_name": "Python 3",
   "language": "python",
   "name": "python3"
  },
  "language_info": {
   "codemirror_mode": {
    "name": "ipython",
    "version": 3
   },
   "file_extension": ".py",
   "mimetype": "text/x-python",
   "name": "python",
   "nbconvert_exporter": "python",
   "pygments_lexer": "ipython3",
   "version": "3.6.5"
  }
 },
 "nbformat": 4,
 "nbformat_minor": 2
}
