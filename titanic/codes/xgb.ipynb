{
 "cells": [
  {
   "cell_type": "markdown",
   "metadata": {},
   "source": [
    "reference https://www.kaggle.com/gaoyuan19930220/xgboost"
   ]
  },
  {
   "cell_type": "code",
   "execution_count": 2,
   "metadata": {},
   "outputs": [],
   "source": [
    "import numpy as np\n",
    "import pandas as pd\n",
    "import os\n",
    "import sklearn\n",
    "import xgboost as xgb\n",
    "import operator\n",
    "import optuna\n",
    "\n",
    "from functools import partial\n",
    "from matplotlib import pylab as plt\n",
    "from sklearn import preprocessing\n",
    "from sklearn.metrics import accuracy_score\n",
    "from sklearn.model_selection import cross_validate, train_test_split, StratifiedKFold\n",
    "\n",
    "\n",
    "import warnings\n",
    "warnings.filterwarnings('ignore')\n",
    "def fxn():\n",
    "    warnings.warn(\"deprecated\", DeprecationWarning)\n",
    "\n",
    "with warnings.catch_warnings():\n",
    "    warnings.simplefilter(\"ignore\")\n",
    "    fxn()"
   ]
  },
  {
   "cell_type": "code",
   "execution_count": 3,
   "metadata": {},
   "outputs": [],
   "source": [
    "count_itr = 0"
   ]
  },
  {
   "cell_type": "code",
   "execution_count": 4,
   "metadata": {},
   "outputs": [],
   "source": [
    "def objective_optuna(X, y, trial):\n",
    "    global count_itr\n",
    "    print(count_itr, end=' ')\n",
    "    count_itr += 1\n",
    "    #最適化するパラメータを指定\n",
    "    params = {\n",
    "        'n_estimators': trial.suggest_int('n_estimators',1,1000),\n",
    "        'gamma': trial.suggest_uniform('gamma',0,1),\n",
    "        'reg_lambda': trial.suggest_uniform('lambda',0,2),\n",
    "        'learning_rate': trial.suggest_uniform('learning_rate',0,0.3),\n",
    "        'max_depth': trial.suggest_int('max_depth', 1, 15),\n",
    "        'subsample': trial.suggest_uniform('subsample',0,1),\n",
    "        'colsample_bytree': trial.suggest_uniform('colsample_bytree',0,1),\n",
    "        'min_child_weight': trial.suggest_uniform('min_child_weight',0,10),\n",
    "    }\n",
    "    \n",
    "    #モデルを定義\n",
    "    model = xgb.XGBClassifier(random_state=2,**params)\n",
    "    \n",
    "#     (train_X, test_X ,train_y, test_y) = train_test_split(X, y, test_size = 0.3, random_state = 2)\n",
    "    \n",
    "#     #3-foldクロスバリデーション\n",
    "    kf = StratifiedKFold(n_splits=3, shuffle=True, random_state=2)\n",
    "    scores = cross_validate(model, X=X, y=y, cv=kf, scoring='accuracy')\n",
    "    \n",
    "    return 1.0 - scores['test_score'].mean()"
   ]
  },
  {
   "cell_type": "code",
   "execution_count": 5,
   "metadata": {},
   "outputs": [],
   "source": [
    "import warnings\n",
    "\n",
    "def fxn():\n",
    "    warnings.warn(\"deprecated\", DeprecationWarning)\n",
    "\n",
    "with warnings.catch_warnings():\n",
    "    warnings.simplefilter(\"ignore\")\n",
    "    fxn()"
   ]
  },
  {
   "cell_type": "code",
   "execution_count": 6,
   "metadata": {},
   "outputs": [],
   "source": [
    "def preproceed(dataframe):\n",
    "    # 欠損値の処理\n",
    "    dataframe.replace({'Nan':pd.np.nan,'nan':pd.np.nan},inplace=True)\n",
    "#     dataframe.fillna(dataframe.mean(numeric_only=True),inplace=True)\n",
    "#     dataframe['Fare'].fillna(dataframe['Fare'].mean(),inplace=True)\n",
    "#     dataframe['Embarked'].fillna(dataframe['Embarked'].mode().loc[0],inplace=True)\n",
    "    \n",
    "    #自分以外の家族の人数及び有無を追加\n",
    "    dataframe['NumFamily'] = dataframe['SibSp'] + dataframe['Parch']\n",
    "    dataframe['IsFamily'] = dataframe['NumFamily'] != 0\n",
    "\n",
    "    #質的変数をダミー変数に\n",
    "    dataframe['IsPclass1'] = dataframe['Pclass'] == 1\n",
    "    dataframe['IsPclass2'] = dataframe['Pclass'] == 2\n",
    "    dataframe['IsPclass2'] = dataframe['Pclass'] == 3\n",
    "    dataframe['IsEmbarkedS'] = dataframe['Embarked'] == 'S'\n",
    "    dataframe['IsEmbarkedC'] = dataframe['Embarked'] == 'C'\n",
    "    dataframe['IsEmbarkedQ'] = dataframe['Embarked'] == 'Q'\n",
    "    \n",
    "    \n",
    "    #質的変数を変換'\n",
    "    dataframe['Sex'] = dataframe['Sex'].apply(lambda x: 1 if x == 'male' else 0)\n",
    "#     dataframe['Embarked'] = dataframe['Embarked'].map( {'S': 0, 'C': 1, 'Q': 2}).astype('int')\n",
    "\n",
    "\n",
    "    #いらない列(Cabin,Name,PassengerId,Ticket)の削除\n",
    "    dataframe.drop(['Cabin','Name','Ticket','Embarked','Pclass'],axis=1,inplace=True)"
   ]
  },
  {
   "cell_type": "code",
   "execution_count": 7,
   "metadata": {},
   "outputs": [],
   "source": [
    "#csvデータの呼び出し場所\n",
    "loadpath = \"../input/\"\n",
    "#csvデータの保存場所\n",
    "savepath = \"../output/\""
   ]
  },
  {
   "cell_type": "code",
   "execution_count": 8,
   "metadata": {},
   "outputs": [],
   "source": [
    "df = pd.read_csv(loadpath + \"train.csv\")\n",
    "df_test = pd.read_csv(loadpath + \"test.csv\")\n",
    "\n",
    "df.set_index('PassengerId',inplace=True)\n",
    "df_test.set_index('PassengerId',inplace=True)\n",
    "\n",
    "\n",
    "train_index = df.index\n",
    "test_index = df_test.index\n",
    "\n",
    "preproceed(df)\n",
    "preproceed(df_test)"
   ]
  },
  {
   "cell_type": "code",
   "execution_count": 14,
   "metadata": {},
   "outputs": [
    {
     "data": {
      "text/plain": [
       "PassengerId\n",
       "1      1\n",
       "2      0\n",
       "3      0\n",
       "4      0\n",
       "5      1\n",
       "6      1\n",
       "7      1\n",
       "8      1\n",
       "9      0\n",
       "10     0\n",
       "11     0\n",
       "12     0\n",
       "13     1\n",
       "14     1\n",
       "15     0\n",
       "16     0\n",
       "17     1\n",
       "18     1\n",
       "19     0\n",
       "20     0\n",
       "21     1\n",
       "22     1\n",
       "23     0\n",
       "24     1\n",
       "25     0\n",
       "26     0\n",
       "27     1\n",
       "28     1\n",
       "29     0\n",
       "30     1\n",
       "      ..\n",
       "862    1\n",
       "863    0\n",
       "864    0\n",
       "865    1\n",
       "866    0\n",
       "867    0\n",
       "868    1\n",
       "869    1\n",
       "870    1\n",
       "871    1\n",
       "872    0\n",
       "873    1\n",
       "874    1\n",
       "875    0\n",
       "876    0\n",
       "877    1\n",
       "878    1\n",
       "879    1\n",
       "880    0\n",
       "881    0\n",
       "882    1\n",
       "883    0\n",
       "884    1\n",
       "885    1\n",
       "886    0\n",
       "887    1\n",
       "888    0\n",
       "889    0\n",
       "890    1\n",
       "891    1\n",
       "Name: Sex, Length: 891, dtype: int64"
      ]
     },
     "execution_count": 14,
     "metadata": {},
     "output_type": "execute_result"
    }
   ],
   "source": [
    "df.Sex"
   ]
  },
  {
   "cell_type": "code",
   "execution_count": null,
   "metadata": {},
   "outputs": [],
   "source": [
    "train = df.drop('Survived', axis=1)\n",
    "labels = df.Survived\n",
    "test = df_test\n",
    "#データを分割\n",
    "#(train_X, test_X ,train_y, test_y) = train_test_split(train_X, train_y, test_size = 0.3, random_state = 666)"
   ]
  },
  {
   "cell_type": "code",
   "execution_count": 58,
   "metadata": {},
   "outputs": [],
   "source": [
    "train = train.astype('float')"
   ]
  },
  {
   "cell_type": "code",
   "execution_count": 10,
   "metadata": {},
   "outputs": [
    {
     "ename": "NameError",
     "evalue": "name 'xgboost' is not defined",
     "output_type": "error",
     "traceback": [
      "\u001b[0;31m---------------------------------------------------------------------------\u001b[0m",
      "\u001b[0;31mNameError\u001b[0m                                 Traceback (most recent call last)",
      "\u001b[0;32m<ipython-input-10-c03cc75899eb>\u001b[0m in \u001b[0;36m<module>\u001b[0;34m()\u001b[0m\n\u001b[0;32m----> 1\u001b[0;31m \u001b[0mxgboost\u001b[0m\u001b[0;34m.\u001b[0m\u001b[0mcallback\u001b[0m\u001b[0;34m.\u001b[0m\u001b[0mrecord_evaluation333\u001b[0m\u001b[0;34m\u001b[0m\u001b[0m\n\u001b[0m",
      "\u001b[0;31mNameError\u001b[0m: name 'xgboost' is not defined"
     ]
    }
   ],
   "source": [
    "xgboost.callback.record_evaluation333"
   ]
  },
  {
   "cell_type": "markdown",
   "metadata": {},
   "source": [
    "optunaでハイパーパラメーター決定"
   ]
  },
  {
   "cell_type": "code",
   "execution_count": 13,
   "metadata": {
    "scrolled": true
   },
   "outputs": [
    {
     "name": "stdout",
     "output_type": "stream",
     "text": [
      "0 "
     ]
    },
    {
     "name": "stderr",
     "output_type": "stream",
     "text": [
      "[I 2019-02-10 03:45:13,388] Finished a trial resulted in value: 0.20864300755605092. Current best value is 0.20864300755605092 with parameters: {'n_estimators': 489, 'gamma': 0.012190267344302064, 'lambda': 1.3810873697095867, 'learning_rate': 0.21265148591217936, 'max_depth': 12, 'subsample': 0.6857036969434205, 'colsample_bytree': 0.7691871226120469, 'min_child_weight': 8.119943708041982}.\n"
     ]
    },
    {
     "name": "stdout",
     "output_type": "stream",
     "text": [
      "1 "
     ]
    },
    {
     "name": "stderr",
     "output_type": "stream",
     "text": [
      "[I 2019-02-10 03:45:13,484] Finished a trial resulted in value: 0.19740183327139837. Current best value is 0.19740183327139837 with parameters: {'n_estimators': 66, 'gamma': 0.800882651880607, 'lambda': 0.6443323829305605, 'learning_rate': 0.2765288102769204, 'max_depth': 3, 'subsample': 0.9003060457019632, 'colsample_bytree': 0.5150371827292576, 'min_child_weight': 0.888889196878494}.\n"
     ]
    },
    {
     "name": "stdout",
     "output_type": "stream",
     "text": [
      "2 "
     ]
    },
    {
     "name": "stderr",
     "output_type": "stream",
     "text": [
      "[I 2019-02-10 03:45:13,959] Finished a trial resulted in value: 0.24710454601758958. Current best value is 0.19740183327139837 with parameters: {'n_estimators': 66, 'gamma': 0.800882651880607, 'lambda': 0.6443323829305605, 'learning_rate': 0.2765288102769204, 'max_depth': 3, 'subsample': 0.9003060457019632, 'colsample_bytree': 0.5150371827292576, 'min_child_weight': 0.888889196878494}.\n"
     ]
    },
    {
     "name": "stdout",
     "output_type": "stream",
     "text": [
      "3 "
     ]
    },
    {
     "name": "stderr",
     "output_type": "stream",
     "text": [
      "[I 2019-02-10 03:45:15,205] Finished a trial resulted in value: 0.2246686485816921. Current best value is 0.19740183327139837 with parameters: {'n_estimators': 66, 'gamma': 0.800882651880607, 'lambda': 0.6443323829305605, 'learning_rate': 0.2765288102769204, 'max_depth': 3, 'subsample': 0.9003060457019632, 'colsample_bytree': 0.5150371827292576, 'min_child_weight': 0.888889196878494}.\n"
     ]
    },
    {
     "name": "stdout",
     "output_type": "stream",
     "text": [
      "4 "
     ]
    },
    {
     "name": "stderr",
     "output_type": "stream",
     "text": [
      "[I 2019-02-10 03:45:15,822] Finished a trial resulted in value: 0.20862752384491523. Current best value is 0.19740183327139837 with parameters: {'n_estimators': 66, 'gamma': 0.800882651880607, 'lambda': 0.6443323829305605, 'learning_rate': 0.2765288102769204, 'max_depth': 3, 'subsample': 0.9003060457019632, 'colsample_bytree': 0.5150371827292576, 'min_child_weight': 0.888889196878494}.\n"
     ]
    },
    {
     "name": "stdout",
     "output_type": "stream",
     "text": [
      "5 "
     ]
    },
    {
     "name": "stderr",
     "output_type": "stream",
     "text": [
      "[I 2019-02-10 03:45:16,585] Finished a trial resulted in value: 0.19420444692183825. Current best value is 0.19420444692183825 with parameters: {'n_estimators': 733, 'gamma': 0.8369563112807009, 'lambda': 1.1941177887171612, 'learning_rate': 0.1385258046783562, 'max_depth': 5, 'subsample': 0.6078140725674696, 'colsample_bytree': 0.5365315215290359, 'min_child_weight': 5.066127989139972}.\n"
     ]
    },
    {
     "name": "stdout",
     "output_type": "stream",
     "text": [
      "6 "
     ]
    },
    {
     "name": "stderr",
     "output_type": "stream",
     "text": [
      "[I 2019-02-10 03:45:16,971] Finished a trial resulted in value: 0.2134352161526074. Current best value is 0.19420444692183825 with parameters: {'n_estimators': 733, 'gamma': 0.8369563112807009, 'lambda': 1.1941177887171612, 'learning_rate': 0.1385258046783562, 'max_depth': 5, 'subsample': 0.6078140725674696, 'colsample_bytree': 0.5365315215290359, 'min_child_weight': 5.066127989139972}.\n"
     ]
    },
    {
     "name": "stdout",
     "output_type": "stream",
     "text": [
      "7 "
     ]
    },
    {
     "name": "stderr",
     "output_type": "stream",
     "text": [
      "[I 2019-02-10 03:45:17,257] Finished a trial resulted in value: 0.20863526570048307. Current best value is 0.19420444692183825 with parameters: {'n_estimators': 733, 'gamma': 0.8369563112807009, 'lambda': 1.1941177887171612, 'learning_rate': 0.1385258046783562, 'max_depth': 5, 'subsample': 0.6078140725674696, 'colsample_bytree': 0.5365315215290359, 'min_child_weight': 5.066127989139972}.\n"
     ]
    },
    {
     "name": "stdout",
     "output_type": "stream",
     "text": [
      "8 "
     ]
    },
    {
     "name": "stderr",
     "output_type": "stream",
     "text": [
      "[I 2019-02-10 03:45:17,880] Finished a trial resulted in value: 0.1974328006936702. Current best value is 0.19420444692183825 with parameters: {'n_estimators': 733, 'gamma': 0.8369563112807009, 'lambda': 1.1941177887171612, 'learning_rate': 0.1385258046783562, 'max_depth': 5, 'subsample': 0.6078140725674696, 'colsample_bytree': 0.5365315215290359, 'min_child_weight': 5.066127989139972}.\n"
     ]
    },
    {
     "name": "stdout",
     "output_type": "stream",
     "text": [
      "9 "
     ]
    },
    {
     "name": "stderr",
     "output_type": "stream",
     "text": [
      "[I 2019-02-10 03:45:18,172] Finished a trial resulted in value: 0.22468413229282802. Current best value is 0.19420444692183825 with parameters: {'n_estimators': 733, 'gamma': 0.8369563112807009, 'lambda': 1.1941177887171612, 'learning_rate': 0.1385258046783562, 'max_depth': 5, 'subsample': 0.6078140725674696, 'colsample_bytree': 0.5365315215290359, 'min_child_weight': 5.066127989139972}.\n"
     ]
    },
    {
     "name": "stdout",
     "output_type": "stream",
     "text": [
      "10 "
     ]
    },
    {
     "name": "stderr",
     "output_type": "stream",
     "text": [
      "[I 2019-02-10 03:45:18,751] Finished a trial resulted in value: 0.37399355877616747. Current best value is 0.19420444692183825 with parameters: {'n_estimators': 733, 'gamma': 0.8369563112807009, 'lambda': 1.1941177887171612, 'learning_rate': 0.1385258046783562, 'max_depth': 5, 'subsample': 0.6078140725674696, 'colsample_bytree': 0.5365315215290359, 'min_child_weight': 5.066127989139972}.\n"
     ]
    },
    {
     "name": "stdout",
     "output_type": "stream",
     "text": [
      "11 "
     ]
    },
    {
     "name": "stderr",
     "output_type": "stream",
     "text": [
      "[I 2019-02-10 03:45:18,922] Finished a trial resulted in value: 0.20540691192865113. Current best value is 0.19420444692183825 with parameters: {'n_estimators': 733, 'gamma': 0.8369563112807009, 'lambda': 1.1941177887171612, 'learning_rate': 0.1385258046783562, 'max_depth': 5, 'subsample': 0.6078140725674696, 'colsample_bytree': 0.5365315215290359, 'min_child_weight': 5.066127989139972}.\n"
     ]
    },
    {
     "name": "stdout",
     "output_type": "stream",
     "text": [
      "12 "
     ]
    },
    {
     "name": "stderr",
     "output_type": "stream",
     "text": [
      "[I 2019-02-10 03:45:19,660] Finished a trial resulted in value: 0.1990198810850985. Current best value is 0.19420444692183825 with parameters: {'n_estimators': 733, 'gamma': 0.8369563112807009, 'lambda': 1.1941177887171612, 'learning_rate': 0.1385258046783562, 'max_depth': 5, 'subsample': 0.6078140725674696, 'colsample_bytree': 0.5365315215290359, 'min_child_weight': 5.066127989139972}.\n"
     ]
    },
    {
     "name": "stdout",
     "output_type": "stream",
     "text": [
      "13 "
     ]
    },
    {
     "name": "stderr",
     "output_type": "stream",
     "text": [
      "[I 2019-02-10 03:45:20,228] Finished a trial resulted in value: 0.20863526570048307. Current best value is 0.19420444692183825 with parameters: {'n_estimators': 733, 'gamma': 0.8369563112807009, 'lambda': 1.1941177887171612, 'learning_rate': 0.1385258046783562, 'max_depth': 5, 'subsample': 0.6078140725674696, 'colsample_bytree': 0.5365315215290359, 'min_child_weight': 5.066127989139972}.\n"
     ]
    },
    {
     "name": "stdout",
     "output_type": "stream",
     "text": [
      "14 "
     ]
    },
    {
     "name": "stderr",
     "output_type": "stream",
     "text": [
      "[I 2019-02-10 03:45:20,414] Finished a trial resulted in value: 0.21823516660473175. Current best value is 0.19420444692183825 with parameters: {'n_estimators': 733, 'gamma': 0.8369563112807009, 'lambda': 1.1941177887171612, 'learning_rate': 0.1385258046783562, 'max_depth': 5, 'subsample': 0.6078140725674696, 'colsample_bytree': 0.5365315215290359, 'min_child_weight': 5.066127989139972}.\n"
     ]
    },
    {
     "name": "stdout",
     "output_type": "stream",
     "text": [
      "15 "
     ]
    },
    {
     "name": "stderr",
     "output_type": "stream",
     "text": [
      "[I 2019-02-10 03:45:21,057] Finished a trial resulted in value: 0.19899665551839452. Current best value is 0.19420444692183825 with parameters: {'n_estimators': 733, 'gamma': 0.8369563112807009, 'lambda': 1.1941177887171612, 'learning_rate': 0.1385258046783562, 'max_depth': 5, 'subsample': 0.6078140725674696, 'colsample_bytree': 0.5365315215290359, 'min_child_weight': 5.066127989139972}.\n"
     ]
    },
    {
     "name": "stdout",
     "output_type": "stream",
     "text": [
      "16 "
     ]
    },
    {
     "name": "stderr",
     "output_type": "stream",
     "text": [
      "[I 2019-02-10 03:45:21,464] Finished a trial resulted in value: 0.21183265205004342. Current best value is 0.19420444692183825 with parameters: {'n_estimators': 733, 'gamma': 0.8369563112807009, 'lambda': 1.1941177887171612, 'learning_rate': 0.1385258046783562, 'max_depth': 5, 'subsample': 0.6078140725674696, 'colsample_bytree': 0.5365315215290359, 'min_child_weight': 5.066127989139972}.\n"
     ]
    },
    {
     "name": "stdout",
     "output_type": "stream",
     "text": [
      "17 "
     ]
    },
    {
     "name": "stderr",
     "output_type": "stream",
     "text": [
      "[I 2019-02-10 03:45:21,564] Finished a trial resulted in value: 0.20543013749535488. Current best value is 0.19420444692183825 with parameters: {'n_estimators': 733, 'gamma': 0.8369563112807009, 'lambda': 1.1941177887171612, 'learning_rate': 0.1385258046783562, 'max_depth': 5, 'subsample': 0.6078140725674696, 'colsample_bytree': 0.5365315215290359, 'min_child_weight': 5.066127989139972}.\n"
     ]
    },
    {
     "name": "stdout",
     "output_type": "stream",
     "text": [
      "18 "
     ]
    },
    {
     "name": "stderr",
     "output_type": "stream",
     "text": [
      "[I 2019-02-10 03:45:21,765] Finished a trial resulted in value: 0.1942121887774061. Current best value is 0.19420444692183825 with parameters: {'n_estimators': 733, 'gamma': 0.8369563112807009, 'lambda': 1.1941177887171612, 'learning_rate': 0.1385258046783562, 'max_depth': 5, 'subsample': 0.6078140725674696, 'colsample_bytree': 0.5365315215290359, 'min_child_weight': 5.066127989139972}.\n"
     ]
    },
    {
     "name": "stdout",
     "output_type": "stream",
     "text": [
      "19 "
     ]
    },
    {
     "name": "stderr",
     "output_type": "stream",
     "text": [
      "[I 2019-02-10 03:45:22,085] Finished a trial resulted in value: 0.2022404930013626. Current best value is 0.19420444692183825 with parameters: {'n_estimators': 733, 'gamma': 0.8369563112807009, 'lambda': 1.1941177887171612, 'learning_rate': 0.1385258046783562, 'max_depth': 5, 'subsample': 0.6078140725674696, 'colsample_bytree': 0.5365315215290359, 'min_child_weight': 5.066127989139972}.\n"
     ]
    },
    {
     "name": "stdout",
     "output_type": "stream",
     "text": [
      "20 "
     ]
    },
    {
     "name": "stderr",
     "output_type": "stream",
     "text": [
      "[I 2019-02-10 03:45:22,202] Finished a trial resulted in value: 0.2134352161526074. Current best value is 0.19420444692183825 with parameters: {'n_estimators': 733, 'gamma': 0.8369563112807009, 'lambda': 1.1941177887171612, 'learning_rate': 0.1385258046783562, 'max_depth': 5, 'subsample': 0.6078140725674696, 'colsample_bytree': 0.5365315215290359, 'min_child_weight': 5.066127989139972}.\n"
     ]
    },
    {
     "name": "stdout",
     "output_type": "stream",
     "text": [
      "21 "
     ]
    },
    {
     "name": "stderr",
     "output_type": "stream",
     "text": [
      "[I 2019-02-10 03:45:22,461] Finished a trial resulted in value: 0.21025331351418297. Current best value is 0.19420444692183825 with parameters: {'n_estimators': 733, 'gamma': 0.8369563112807009, 'lambda': 1.1941177887171612, 'learning_rate': 0.1385258046783562, 'max_depth': 5, 'subsample': 0.6078140725674696, 'colsample_bytree': 0.5365315215290359, 'min_child_weight': 5.066127989139972}.\n"
     ]
    },
    {
     "name": "stdout",
     "output_type": "stream",
     "text": [
      "22 "
     ]
    },
    {
     "name": "stderr",
     "output_type": "stream",
     "text": [
      "[I 2019-02-10 03:45:23,176] Finished a trial resulted in value: 0.21185587761674718. Current best value is 0.19420444692183825 with parameters: {'n_estimators': 733, 'gamma': 0.8369563112807009, 'lambda': 1.1941177887171612, 'learning_rate': 0.1385258046783562, 'max_depth': 5, 'subsample': 0.6078140725674696, 'colsample_bytree': 0.5365315215290359, 'min_child_weight': 5.066127989139972}.\n"
     ]
    },
    {
     "name": "stdout",
     "output_type": "stream",
     "text": [
      "23 "
     ]
    },
    {
     "name": "stderr",
     "output_type": "stream",
     "text": [
      "[I 2019-02-10 03:45:23,449] Finished a trial resulted in value: 0.20219404186795487. Current best value is 0.19420444692183825 with parameters: {'n_estimators': 733, 'gamma': 0.8369563112807009, 'lambda': 1.1941177887171612, 'learning_rate': 0.1385258046783562, 'max_depth': 5, 'subsample': 0.6078140725674696, 'colsample_bytree': 0.5365315215290359, 'min_child_weight': 5.066127989139972}.\n"
     ]
    },
    {
     "name": "stdout",
     "output_type": "stream",
     "text": [
      "24 "
     ]
    },
    {
     "name": "stderr",
     "output_type": "stream",
     "text": [
      "[I 2019-02-10 03:45:24,231] Finished a trial resulted in value: 0.20384305710392658. Current best value is 0.19420444692183825 with parameters: {'n_estimators': 733, 'gamma': 0.8369563112807009, 'lambda': 1.1941177887171612, 'learning_rate': 0.1385258046783562, 'max_depth': 5, 'subsample': 0.6078140725674696, 'colsample_bytree': 0.5365315215290359, 'min_child_weight': 5.066127989139972}.\n"
     ]
    },
    {
     "name": "stdout",
     "output_type": "stream",
     "text": [
      "25 "
     ]
    },
    {
     "name": "stderr",
     "output_type": "stream",
     "text": [
      "[I 2019-02-10 03:45:24,964] Finished a trial resulted in value: 0.20061470333209463. Current best value is 0.19420444692183825 with parameters: {'n_estimators': 733, 'gamma': 0.8369563112807009, 'lambda': 1.1941177887171612, 'learning_rate': 0.1385258046783562, 'max_depth': 5, 'subsample': 0.6078140725674696, 'colsample_bytree': 0.5365315215290359, 'min_child_weight': 5.066127989139972}.\n"
     ]
    },
    {
     "name": "stdout",
     "output_type": "stream",
     "text": [
      "26 "
     ]
    },
    {
     "name": "stderr",
     "output_type": "stream",
     "text": [
      "[I 2019-02-10 03:45:25,149] Finished a trial resulted in value: 0.1958302365911061. Current best value is 0.19420444692183825 with parameters: {'n_estimators': 733, 'gamma': 0.8369563112807009, 'lambda': 1.1941177887171612, 'learning_rate': 0.1385258046783562, 'max_depth': 5, 'subsample': 0.6078140725674696, 'colsample_bytree': 0.5365315215290359, 'min_child_weight': 5.066127989139972}.\n"
     ]
    },
    {
     "name": "stdout",
     "output_type": "stream",
     "text": [
      "27 "
     ]
    },
    {
     "name": "stderr",
     "output_type": "stream",
     "text": [
      "[I 2019-02-10 03:45:25,422] Finished a trial resulted in value: 0.20539917007308306. Current best value is 0.19420444692183825 with parameters: {'n_estimators': 733, 'gamma': 0.8369563112807009, 'lambda': 1.1941177887171612, 'learning_rate': 0.1385258046783562, 'max_depth': 5, 'subsample': 0.6078140725674696, 'colsample_bytree': 0.5365315215290359, 'min_child_weight': 5.066127989139972}.\n"
     ]
    },
    {
     "name": "stdout",
     "output_type": "stream",
     "text": [
      "28 "
     ]
    },
    {
     "name": "stderr",
     "output_type": "stream",
     "text": [
      "[I 2019-02-10 03:45:25,874] Finished a trial resulted in value: 0.21184813576117933. Current best value is 0.19420444692183825 with parameters: {'n_estimators': 733, 'gamma': 0.8369563112807009, 'lambda': 1.1941177887171612, 'learning_rate': 0.1385258046783562, 'max_depth': 5, 'subsample': 0.6078140725674696, 'colsample_bytree': 0.5365315215290359, 'min_child_weight': 5.066127989139972}.\n"
     ]
    },
    {
     "name": "stdout",
     "output_type": "stream",
     "text": [
      "29 "
     ]
    },
    {
     "name": "stderr",
     "output_type": "stream",
     "text": [
      "[I 2019-02-10 03:45:26,300] Finished a trial resulted in value: 0.20703270159791887. Current best value is 0.19420444692183825 with parameters: {'n_estimators': 733, 'gamma': 0.8369563112807009, 'lambda': 1.1941177887171612, 'learning_rate': 0.1385258046783562, 'max_depth': 5, 'subsample': 0.6078140725674696, 'colsample_bytree': 0.5365315215290359, 'min_child_weight': 5.066127989139972}.\n"
     ]
    },
    {
     "name": "stdout",
     "output_type": "stream",
     "text": [
      "30 "
     ]
    },
    {
     "name": "stderr",
     "output_type": "stream",
     "text": [
      "[I 2019-02-10 03:45:27,108] Finished a trial resulted in value: 0.19739409141583053. Current best value is 0.19420444692183825 with parameters: {'n_estimators': 733, 'gamma': 0.8369563112807009, 'lambda': 1.1941177887171612, 'learning_rate': 0.1385258046783562, 'max_depth': 5, 'subsample': 0.6078140725674696, 'colsample_bytree': 0.5365315215290359, 'min_child_weight': 5.066127989139972}.\n"
     ]
    },
    {
     "name": "stdout",
     "output_type": "stream",
     "text": [
      "31 "
     ]
    },
    {
     "name": "stderr",
     "output_type": "stream",
     "text": [
      "[I 2019-02-10 03:45:27,189] Finished a trial resulted in value: 0.2294918246005203. Current best value is 0.19420444692183825 with parameters: {'n_estimators': 733, 'gamma': 0.8369563112807009, 'lambda': 1.1941177887171612, 'learning_rate': 0.1385258046783562, 'max_depth': 5, 'subsample': 0.6078140725674696, 'colsample_bytree': 0.5365315215290359, 'min_child_weight': 5.066127989139972}.\n"
     ]
    },
    {
     "name": "stdout",
     "output_type": "stream",
     "text": [
      "32 "
     ]
    },
    {
     "name": "stderr",
     "output_type": "stream",
     "text": [
      "[I 2019-02-10 03:45:27,418] Finished a trial resulted in value: 0.20543787935092273. Current best value is 0.19420444692183825 with parameters: {'n_estimators': 733, 'gamma': 0.8369563112807009, 'lambda': 1.1941177887171612, 'learning_rate': 0.1385258046783562, 'max_depth': 5, 'subsample': 0.6078140725674696, 'colsample_bytree': 0.5365315215290359, 'min_child_weight': 5.066127989139972}.\n"
     ]
    },
    {
     "name": "stdout",
     "output_type": "stream",
     "text": [
      "33 "
     ]
    },
    {
     "name": "stderr",
     "output_type": "stream",
     "text": [
      "[I 2019-02-10 03:45:28,753] Finished a trial resulted in value: 0.21667131178000743. Current best value is 0.19420444692183825 with parameters: {'n_estimators': 733, 'gamma': 0.8369563112807009, 'lambda': 1.1941177887171612, 'learning_rate': 0.1385258046783562, 'max_depth': 5, 'subsample': 0.6078140725674696, 'colsample_bytree': 0.5365315215290359, 'min_child_weight': 5.066127989139972}.\n"
     ]
    },
    {
     "name": "stdout",
     "output_type": "stream",
     "text": [
      "34 "
     ]
    },
    {
     "name": "stderr",
     "output_type": "stream",
     "text": [
      "[I 2019-02-10 03:45:29,209] Finished a trial resulted in value: 0.21503778025517162. Current best value is 0.19420444692183825 with parameters: {'n_estimators': 733, 'gamma': 0.8369563112807009, 'lambda': 1.1941177887171612, 'learning_rate': 0.1385258046783562, 'max_depth': 5, 'subsample': 0.6078140725674696, 'colsample_bytree': 0.5365315215290359, 'min_child_weight': 5.066127989139972}.\n"
     ]
    },
    {
     "name": "stdout",
     "output_type": "stream",
     "text": [
      "35 "
     ]
    },
    {
     "name": "stderr",
     "output_type": "stream",
     "text": [
      "[I 2019-02-10 03:45:29,876] Finished a trial resulted in value: 0.20542239563978704. Current best value is 0.19420444692183825 with parameters: {'n_estimators': 733, 'gamma': 0.8369563112807009, 'lambda': 1.1941177887171612, 'learning_rate': 0.1385258046783562, 'max_depth': 5, 'subsample': 0.6078140725674696, 'colsample_bytree': 0.5365315215290359, 'min_child_weight': 5.066127989139972}.\n"
     ]
    },
    {
     "name": "stdout",
     "output_type": "stream",
     "text": [
      "36 "
     ]
    },
    {
     "name": "stderr",
     "output_type": "stream",
     "text": [
      "[I 2019-02-10 03:45:30,207] Finished a trial resulted in value: 0.19420444692183825. Current best value is 0.19420444692183825 with parameters: {'n_estimators': 733, 'gamma': 0.8369563112807009, 'lambda': 1.1941177887171612, 'learning_rate': 0.1385258046783562, 'max_depth': 5, 'subsample': 0.6078140725674696, 'colsample_bytree': 0.5365315215290359, 'min_child_weight': 5.066127989139972}.\n"
     ]
    },
    {
     "name": "stdout",
     "output_type": "stream",
     "text": [
      "37 "
     ]
    },
    {
     "name": "stderr",
     "output_type": "stream",
     "text": [
      "[I 2019-02-10 03:45:30,529] Finished a trial resulted in value: 0.20542239563978681. Current best value is 0.19420444692183825 with parameters: {'n_estimators': 733, 'gamma': 0.8369563112807009, 'lambda': 1.1941177887171612, 'learning_rate': 0.1385258046783562, 'max_depth': 5, 'subsample': 0.6078140725674696, 'colsample_bytree': 0.5365315215290359, 'min_child_weight': 5.066127989139972}.\n"
     ]
    },
    {
     "name": "stdout",
     "output_type": "stream",
     "text": [
      "38 "
     ]
    },
    {
     "name": "stderr",
     "output_type": "stream",
     "text": [
      "[I 2019-02-10 03:45:31,094] Finished a trial resulted in value: 0.2358865972996408. Current best value is 0.19420444692183825 with parameters: {'n_estimators': 733, 'gamma': 0.8369563112807009, 'lambda': 1.1941177887171612, 'learning_rate': 0.1385258046783562, 'max_depth': 5, 'subsample': 0.6078140725674696, 'colsample_bytree': 0.5365315215290359, 'min_child_weight': 5.066127989139972}.\n"
     ]
    },
    {
     "name": "stdout",
     "output_type": "stream",
     "text": [
      "39 "
     ]
    },
    {
     "name": "stderr",
     "output_type": "stream",
     "text": [
      "[I 2019-02-10 03:45:31,573] Finished a trial resulted in value: 0.20540691192865113. Current best value is 0.19420444692183825 with parameters: {'n_estimators': 733, 'gamma': 0.8369563112807009, 'lambda': 1.1941177887171612, 'learning_rate': 0.1385258046783562, 'max_depth': 5, 'subsample': 0.6078140725674696, 'colsample_bytree': 0.5365315215290359, 'min_child_weight': 5.066127989139972}.\n"
     ]
    },
    {
     "name": "stdout",
     "output_type": "stream",
     "text": [
      "40 "
     ]
    },
    {
     "name": "stderr",
     "output_type": "stream",
     "text": [
      "[I 2019-02-10 03:45:32,369] Finished a trial resulted in value: 0.20059921962095872. Current best value is 0.19420444692183825 with parameters: {'n_estimators': 733, 'gamma': 0.8369563112807009, 'lambda': 1.1941177887171612, 'learning_rate': 0.1385258046783562, 'max_depth': 5, 'subsample': 0.6078140725674696, 'colsample_bytree': 0.5365315215290359, 'min_child_weight': 5.066127989139972}.\n"
     ]
    },
    {
     "name": "stdout",
     "output_type": "stream",
     "text": [
      "41 "
     ]
    },
    {
     "name": "stderr",
     "output_type": "stream",
     "text": [
      "[I 2019-02-10 03:45:32,633] Finished a trial resulted in value: 0.25517155951938564. Current best value is 0.19420444692183825 with parameters: {'n_estimators': 733, 'gamma': 0.8369563112807009, 'lambda': 1.1941177887171612, 'learning_rate': 0.1385258046783562, 'max_depth': 5, 'subsample': 0.6078140725674696, 'colsample_bytree': 0.5365315215290359, 'min_child_weight': 5.066127989139972}.\n"
     ]
    },
    {
     "name": "stdout",
     "output_type": "stream",
     "text": [
      "42 "
     ]
    },
    {
     "name": "stderr",
     "output_type": "stream",
     "text": [
      "[I 2019-02-10 03:45:33,454] Finished a trial resulted in value: 0.20062244518766248. Current best value is 0.19420444692183825 with parameters: {'n_estimators': 733, 'gamma': 0.8369563112807009, 'lambda': 1.1941177887171612, 'learning_rate': 0.1385258046783562, 'max_depth': 5, 'subsample': 0.6078140725674696, 'colsample_bytree': 0.5365315215290359, 'min_child_weight': 5.066127989139972}.\n"
     ]
    },
    {
     "name": "stdout",
     "output_type": "stream",
     "text": [
      "43 "
     ]
    },
    {
     "name": "stderr",
     "output_type": "stream",
     "text": [
      "[I 2019-02-10 03:45:33,785] Finished a trial resulted in value: 0.21823516660473175. Current best value is 0.19420444692183825 with parameters: {'n_estimators': 733, 'gamma': 0.8369563112807009, 'lambda': 1.1941177887171612, 'learning_rate': 0.1385258046783562, 'max_depth': 5, 'subsample': 0.6078140725674696, 'colsample_bytree': 0.5365315215290359, 'min_child_weight': 5.066127989139972}.\n"
     ]
    },
    {
     "name": "stdout",
     "output_type": "stream",
     "text": [
      "44 "
     ]
    },
    {
     "name": "stderr",
     "output_type": "stream",
     "text": [
      "[I 2019-02-10 03:45:34,542] Finished a trial resulted in value: 0.21022234609191137. Current best value is 0.19420444692183825 with parameters: {'n_estimators': 733, 'gamma': 0.8369563112807009, 'lambda': 1.1941177887171612, 'learning_rate': 0.1385258046783562, 'max_depth': 5, 'subsample': 0.6078140725674696, 'colsample_bytree': 0.5365315215290359, 'min_child_weight': 5.066127989139972}.\n"
     ]
    },
    {
     "name": "stdout",
     "output_type": "stream",
     "text": [
      "45 "
     ]
    },
    {
     "name": "stderr",
     "output_type": "stream",
     "text": [
      "[I 2019-02-10 03:45:34,784] Finished a trial resulted in value: 0.19256317354143437. Current best value is 0.19256317354143437 with parameters: {'n_estimators': 242, 'gamma': 0.6648832907555267, 'lambda': 1.7955675305382397, 'learning_rate': 0.10746916433305213, 'max_depth': 12, 'subsample': 0.4112298303936467, 'colsample_bytree': 0.15199930187588606, 'min_child_weight': 3.404061168435601}.\n"
     ]
    },
    {
     "name": "stdout",
     "output_type": "stream",
     "text": [
      "46 "
     ]
    },
    {
     "name": "stderr",
     "output_type": "stream",
     "text": [
      "[I 2019-02-10 03:45:35,016] Finished a trial resulted in value: 0.2037733804038151. Current best value is 0.19256317354143437 with parameters: {'n_estimators': 242, 'gamma': 0.6648832907555267, 'lambda': 1.7955675305382397, 'learning_rate': 0.10746916433305213, 'max_depth': 12, 'subsample': 0.4112298303936467, 'colsample_bytree': 0.15199930187588606, 'min_child_weight': 3.404061168435601}.\n"
     ]
    },
    {
     "name": "stdout",
     "output_type": "stream",
     "text": [
      "47 "
     ]
    },
    {
     "name": "stderr",
     "output_type": "stream",
     "text": [
      "[I 2019-02-10 03:45:35,329] Finished a trial resulted in value: 0.20861978198934716. Current best value is 0.19256317354143437 with parameters: {'n_estimators': 242, 'gamma': 0.6648832907555267, 'lambda': 1.7955675305382397, 'learning_rate': 0.10746916433305213, 'max_depth': 12, 'subsample': 0.4112298303936467, 'colsample_bytree': 0.15199930187588606, 'min_child_weight': 3.404061168435601}.\n"
     ]
    },
    {
     "name": "stdout",
     "output_type": "stream",
     "text": [
      "48 "
     ]
    },
    {
     "name": "stderr",
     "output_type": "stream",
     "text": [
      "[I 2019-02-10 03:45:36,474] Finished a trial resulted in value: 0.21185587761674718. Current best value is 0.19256317354143437 with parameters: {'n_estimators': 242, 'gamma': 0.6648832907555267, 'lambda': 1.7955675305382397, 'learning_rate': 0.10746916433305213, 'max_depth': 12, 'subsample': 0.4112298303936467, 'colsample_bytree': 0.15199930187588606, 'min_child_weight': 3.404061168435601}.\n"
     ]
    },
    {
     "name": "stdout",
     "output_type": "stream",
     "text": [
      "49 "
     ]
    },
    {
     "name": "stderr",
     "output_type": "stream",
     "text": [
      "[I 2019-02-10 03:45:36,931] Finished a trial resulted in value: 0.2134352161526074. Current best value is 0.19256317354143437 with parameters: {'n_estimators': 242, 'gamma': 0.6648832907555267, 'lambda': 1.7955675305382397, 'learning_rate': 0.10746916433305213, 'max_depth': 12, 'subsample': 0.4112298303936467, 'colsample_bytree': 0.15199930187588606, 'min_child_weight': 3.404061168435601}.\n"
     ]
    },
    {
     "name": "stdout",
     "output_type": "stream",
     "text": [
      "50 "
     ]
    },
    {
     "name": "stderr",
     "output_type": "stream",
     "text": [
      "[I 2019-02-10 03:45:37,171] Finished a trial resulted in value: 0.2101836368140716. Current best value is 0.19256317354143437 with parameters: {'n_estimators': 242, 'gamma': 0.6648832907555267, 'lambda': 1.7955675305382397, 'learning_rate': 0.10746916433305213, 'max_depth': 12, 'subsample': 0.4112298303936467, 'colsample_bytree': 0.15199930187588606, 'min_child_weight': 3.404061168435601}.\n"
     ]
    },
    {
     "name": "stdout",
     "output_type": "stream",
     "text": [
      "51 "
     ]
    },
    {
     "name": "stderr",
     "output_type": "stream",
     "text": [
      "[I 2019-02-10 03:45:37,416] Finished a trial resulted in value: 0.21825839217143572. Current best value is 0.19256317354143437 with parameters: {'n_estimators': 242, 'gamma': 0.6648832907555267, 'lambda': 1.7955675305382397, 'learning_rate': 0.10746916433305213, 'max_depth': 12, 'subsample': 0.4112298303936467, 'colsample_bytree': 0.15199930187588606, 'min_child_weight': 3.404061168435601}.\n"
     ]
    },
    {
     "name": "stdout",
     "output_type": "stream",
     "text": [
      "52 "
     ]
    },
    {
     "name": "stderr",
     "output_type": "stream",
     "text": [
      "[I 2019-02-10 03:45:37,607] Finished a trial resulted in value: 0.23590982286634465. Current best value is 0.19256317354143437 with parameters: {'n_estimators': 242, 'gamma': 0.6648832907555267, 'lambda': 1.7955675305382397, 'learning_rate': 0.10746916433305213, 'max_depth': 12, 'subsample': 0.4112298303936467, 'colsample_bytree': 0.15199930187588606, 'min_child_weight': 3.404061168435601}.\n"
     ]
    },
    {
     "name": "stdout",
     "output_type": "stream",
     "text": [
      "53 "
     ]
    },
    {
     "name": "stderr",
     "output_type": "stream",
     "text": [
      "[I 2019-02-10 03:45:37,848] Finished a trial resulted in value: 0.3017543044716957. Current best value is 0.19256317354143437 with parameters: {'n_estimators': 242, 'gamma': 0.6648832907555267, 'lambda': 1.7955675305382397, 'learning_rate': 0.10746916433305213, 'max_depth': 12, 'subsample': 0.4112298303936467, 'colsample_bytree': 0.15199930187588606, 'min_child_weight': 3.404061168435601}.\n"
     ]
    },
    {
     "name": "stdout",
     "output_type": "stream",
     "text": [
      "54 "
     ]
    },
    {
     "name": "stderr",
     "output_type": "stream",
     "text": [
      "[I 2019-02-10 03:45:38,024] Finished a trial resulted in value: 0.1990198810850985. Current best value is 0.19256317354143437 with parameters: {'n_estimators': 242, 'gamma': 0.6648832907555267, 'lambda': 1.7955675305382397, 'learning_rate': 0.10746916433305213, 'max_depth': 12, 'subsample': 0.4112298303936467, 'colsample_bytree': 0.15199930187588606, 'min_child_weight': 3.404061168435601}.\n"
     ]
    },
    {
     "name": "stdout",
     "output_type": "stream",
     "text": [
      "55 "
     ]
    },
    {
     "name": "stderr",
     "output_type": "stream",
     "text": [
      "[I 2019-02-10 03:45:38,893] Finished a trial resulted in value: 0.21666356992443958. Current best value is 0.19256317354143437 with parameters: {'n_estimators': 242, 'gamma': 0.6648832907555267, 'lambda': 1.7955675305382397, 'learning_rate': 0.10746916433305213, 'max_depth': 12, 'subsample': 0.4112298303936467, 'colsample_bytree': 0.15199930187588606, 'min_child_weight': 3.404061168435601}.\n"
     ]
    },
    {
     "name": "stdout",
     "output_type": "stream",
     "text": [
      "56 "
     ]
    },
    {
     "name": "stderr",
     "output_type": "stream",
     "text": [
      "[I 2019-02-10 03:45:39,185] Finished a trial resulted in value: 0.20860429827821125. Current best value is 0.19256317354143437 with parameters: {'n_estimators': 242, 'gamma': 0.6648832907555267, 'lambda': 1.7955675305382397, 'learning_rate': 0.10746916433305213, 'max_depth': 12, 'subsample': 0.4112298303936467, 'colsample_bytree': 0.15199930187588606, 'min_child_weight': 3.404061168435601}.\n"
     ]
    },
    {
     "name": "stdout",
     "output_type": "stream",
     "text": [
      "57 "
     ]
    },
    {
     "name": "stderr",
     "output_type": "stream",
     "text": [
      "[I 2019-02-10 03:45:39,744] Finished a trial resulted in value: 0.20543787935092295. Current best value is 0.19256317354143437 with parameters: {'n_estimators': 242, 'gamma': 0.6648832907555267, 'lambda': 1.7955675305382397, 'learning_rate': 0.10746916433305213, 'max_depth': 12, 'subsample': 0.4112298303936467, 'colsample_bytree': 0.15199930187588606, 'min_child_weight': 3.404061168435601}.\n"
     ]
    },
    {
     "name": "stdout",
     "output_type": "stream",
     "text": [
      "58 "
     ]
    },
    {
     "name": "stderr",
     "output_type": "stream",
     "text": [
      "[I 2019-02-10 03:45:39,880] Finished a trial resulted in value: 0.19897342995169076. Current best value is 0.19256317354143437 with parameters: {'n_estimators': 242, 'gamma': 0.6648832907555267, 'lambda': 1.7955675305382397, 'learning_rate': 0.10746916433305213, 'max_depth': 12, 'subsample': 0.4112298303936467, 'colsample_bytree': 0.15199930187588606, 'min_child_weight': 3.404061168435601}.\n"
     ]
    },
    {
     "name": "stdout",
     "output_type": "stream",
     "text": [
      "59 "
     ]
    },
    {
     "name": "stderr",
     "output_type": "stream",
     "text": [
      "[I 2019-02-10 03:45:40,090] Finished a trial resulted in value: 0.20057599405425497. Current best value is 0.19256317354143437 with parameters: {'n_estimators': 242, 'gamma': 0.6648832907555267, 'lambda': 1.7955675305382397, 'learning_rate': 0.10746916433305213, 'max_depth': 12, 'subsample': 0.4112298303936467, 'colsample_bytree': 0.15199930187588606, 'min_child_weight': 3.404061168435601}.\n"
     ]
    },
    {
     "name": "stdout",
     "output_type": "stream",
     "text": [
      "60 "
     ]
    },
    {
     "name": "stderr",
     "output_type": "stream",
     "text": [
      "[I 2019-02-10 03:45:40,672] Finished a trial resulted in value: 0.19901213922953065. Current best value is 0.19256317354143437 with parameters: {'n_estimators': 242, 'gamma': 0.6648832907555267, 'lambda': 1.7955675305382397, 'learning_rate': 0.10746916433305213, 'max_depth': 12, 'subsample': 0.4112298303936467, 'colsample_bytree': 0.15199930187588606, 'min_child_weight': 3.404061168435601}.\n"
     ]
    },
    {
     "name": "stdout",
     "output_type": "stream",
     "text": [
      "61 "
     ]
    },
    {
     "name": "stderr",
     "output_type": "stream",
     "text": [
      "[I 2019-02-10 03:45:41,048] Finished a trial resulted in value: 0.19418896321070234. Current best value is 0.19256317354143437 with parameters: {'n_estimators': 242, 'gamma': 0.6648832907555267, 'lambda': 1.7955675305382397, 'learning_rate': 0.10746916433305213, 'max_depth': 12, 'subsample': 0.4112298303936467, 'colsample_bytree': 0.15199930187588606, 'min_child_weight': 3.404061168435601}.\n"
     ]
    },
    {
     "name": "stdout",
     "output_type": "stream",
     "text": [
      "62 "
     ]
    },
    {
     "name": "stderr",
     "output_type": "stream",
     "text": [
      "[I 2019-02-10 03:45:41,438] Finished a trial resulted in value: 0.1989811718072586. Current best value is 0.19256317354143437 with parameters: {'n_estimators': 242, 'gamma': 0.6648832907555267, 'lambda': 1.7955675305382397, 'learning_rate': 0.10746916433305213, 'max_depth': 12, 'subsample': 0.4112298303936467, 'colsample_bytree': 0.15199930187588606, 'min_child_weight': 3.404061168435601}.\n"
     ]
    },
    {
     "name": "stdout",
     "output_type": "stream",
     "text": [
      "63 "
     ]
    },
    {
     "name": "stderr",
     "output_type": "stream",
     "text": [
      "[I 2019-02-10 03:45:42,095] Finished a trial resulted in value: 0.20545336306205864. Current best value is 0.19256317354143437 with parameters: {'n_estimators': 242, 'gamma': 0.6648832907555267, 'lambda': 1.7955675305382397, 'learning_rate': 0.10746916433305213, 'max_depth': 12, 'subsample': 0.4112298303936467, 'colsample_bytree': 0.15199930187588606, 'min_child_weight': 3.404061168435601}.\n"
     ]
    },
    {
     "name": "stdout",
     "output_type": "stream",
     "text": [
      "64 "
     ]
    },
    {
     "name": "stderr",
     "output_type": "stream",
     "text": [
      "[I 2019-02-10 03:45:42,718] Finished a trial resulted in value: 0.19418896321070234. Current best value is 0.19256317354143437 with parameters: {'n_estimators': 242, 'gamma': 0.6648832907555267, 'lambda': 1.7955675305382397, 'learning_rate': 0.10746916433305213, 'max_depth': 12, 'subsample': 0.4112298303936467, 'colsample_bytree': 0.15199930187588606, 'min_child_weight': 3.404061168435601}.\n"
     ]
    },
    {
     "name": "stdout",
     "output_type": "stream",
     "text": [
      "65 "
     ]
    },
    {
     "name": "stderr",
     "output_type": "stream",
     "text": [
      "[I 2019-02-10 03:45:43,091] Finished a trial resulted in value: 0.1990198810850985. Current best value is 0.19256317354143437 with parameters: {'n_estimators': 242, 'gamma': 0.6648832907555267, 'lambda': 1.7955675305382397, 'learning_rate': 0.10746916433305213, 'max_depth': 12, 'subsample': 0.4112298303936467, 'colsample_bytree': 0.15199930187588606, 'min_child_weight': 3.404061168435601}.\n"
     ]
    },
    {
     "name": "stdout",
     "output_type": "stream",
     "text": [
      "66 "
     ]
    },
    {
     "name": "stderr",
     "output_type": "stream",
     "text": [
      "[I 2019-02-10 03:45:43,861] Finished a trial resulted in value: 0.21029202279202286. Current best value is 0.19256317354143437 with parameters: {'n_estimators': 242, 'gamma': 0.6648832907555267, 'lambda': 1.7955675305382397, 'learning_rate': 0.10746916433305213, 'max_depth': 12, 'subsample': 0.4112298303936467, 'colsample_bytree': 0.15199930187588606, 'min_child_weight': 3.404061168435601}.\n"
     ]
    },
    {
     "name": "stdout",
     "output_type": "stream",
     "text": [
      "67 "
     ]
    },
    {
     "name": "stderr",
     "output_type": "stream",
     "text": [
      "[I 2019-02-10 03:45:44,370] Finished a trial resulted in value: 0.19419670506627018. Current best value is 0.19256317354143437 with parameters: {'n_estimators': 242, 'gamma': 0.6648832907555267, 'lambda': 1.7955675305382397, 'learning_rate': 0.10746916433305213, 'max_depth': 12, 'subsample': 0.4112298303936467, 'colsample_bytree': 0.15199930187588606, 'min_child_weight': 3.404061168435601}.\n"
     ]
    },
    {
     "name": "stdout",
     "output_type": "stream",
     "text": [
      "68 "
     ]
    },
    {
     "name": "stderr",
     "output_type": "stream",
     "text": [
      "[I 2019-02-10 03:45:44,945] Finished a trial resulted in value: 0.20063018704323055. Current best value is 0.19256317354143437 with parameters: {'n_estimators': 242, 'gamma': 0.6648832907555267, 'lambda': 1.7955675305382397, 'learning_rate': 0.10746916433305213, 'max_depth': 12, 'subsample': 0.4112298303936467, 'colsample_bytree': 0.15199930187588606, 'min_child_weight': 3.404061168435601}.\n"
     ]
    },
    {
     "name": "stdout",
     "output_type": "stream",
     "text": [
      "69 "
     ]
    },
    {
     "name": "stderr",
     "output_type": "stream",
     "text": [
      "[I 2019-02-10 03:45:45,893] Finished a trial resulted in value: 0.20705592716462284. Current best value is 0.19256317354143437 with parameters: {'n_estimators': 242, 'gamma': 0.6648832907555267, 'lambda': 1.7955675305382397, 'learning_rate': 0.10746916433305213, 'max_depth': 12, 'subsample': 0.4112298303936467, 'colsample_bytree': 0.15199930187588606, 'min_child_weight': 3.404061168435601}.\n"
     ]
    },
    {
     "name": "stdout",
     "output_type": "stream",
     "text": [
      "70 "
     ]
    },
    {
     "name": "stderr",
     "output_type": "stream",
     "text": [
      "[I 2019-02-10 03:45:46,136] Finished a trial resulted in value: 0.21182491019447536. Current best value is 0.19256317354143437 with parameters: {'n_estimators': 242, 'gamma': 0.6648832907555267, 'lambda': 1.7955675305382397, 'learning_rate': 0.10746916433305213, 'max_depth': 12, 'subsample': 0.4112298303936467, 'colsample_bytree': 0.15199930187588606, 'min_child_weight': 3.404061168435601}.\n"
     ]
    },
    {
     "name": "stdout",
     "output_type": "stream",
     "text": [
      "71 "
     ]
    },
    {
     "name": "stderr",
     "output_type": "stream",
     "text": [
      "[I 2019-02-10 03:45:46,806] Finished a trial resulted in value: 0.21026105536975104. Current best value is 0.19256317354143437 with parameters: {'n_estimators': 242, 'gamma': 0.6648832907555267, 'lambda': 1.7955675305382397, 'learning_rate': 0.10746916433305213, 'max_depth': 12, 'subsample': 0.4112298303936467, 'colsample_bytree': 0.15199930187588606, 'min_child_weight': 3.404061168435601}.\n"
     ]
    },
    {
     "name": "stdout",
     "output_type": "stream",
     "text": [
      "72 "
     ]
    },
    {
     "name": "stderr",
     "output_type": "stream",
     "text": [
      "[I 2019-02-10 03:45:47,367] Finished a trial resulted in value: 0.21026105536975104. Current best value is 0.19256317354143437 with parameters: {'n_estimators': 242, 'gamma': 0.6648832907555267, 'lambda': 1.7955675305382397, 'learning_rate': 0.10746916433305213, 'max_depth': 12, 'subsample': 0.4112298303936467, 'colsample_bytree': 0.15199930187588606, 'min_child_weight': 3.404061168435601}.\n"
     ]
    },
    {
     "name": "stdout",
     "output_type": "stream",
     "text": [
      "73 "
     ]
    },
    {
     "name": "stderr",
     "output_type": "stream",
     "text": [
      "[I 2019-02-10 03:45:47,791] Finished a trial resulted in value: 0.2038275733927909. Current best value is 0.19256317354143437 with parameters: {'n_estimators': 242, 'gamma': 0.6648832907555267, 'lambda': 1.7955675305382397, 'learning_rate': 0.10746916433305213, 'max_depth': 12, 'subsample': 0.4112298303936467, 'colsample_bytree': 0.15199930187588606, 'min_child_weight': 3.404061168435601}.\n"
     ]
    },
    {
     "name": "stdout",
     "output_type": "stream",
     "text": [
      "74 "
     ]
    },
    {
     "name": "stderr",
     "output_type": "stream",
     "text": [
      "[I 2019-02-10 03:45:48,565] Finished a trial resulted in value: 0.19420444692183825. Current best value is 0.19256317354143437 with parameters: {'n_estimators': 242, 'gamma': 0.6648832907555267, 'lambda': 1.7955675305382397, 'learning_rate': 0.10746916433305213, 'max_depth': 12, 'subsample': 0.4112298303936467, 'colsample_bytree': 0.15199930187588606, 'min_child_weight': 3.404061168435601}.\n"
     ]
    },
    {
     "name": "stdout",
     "output_type": "stream",
     "text": [
      "75 "
     ]
    },
    {
     "name": "stderr",
     "output_type": "stream",
     "text": [
      "[I 2019-02-10 03:45:48,982] Finished a trial resulted in value: 0.20220178372352293. Current best value is 0.19256317354143437 with parameters: {'n_estimators': 242, 'gamma': 0.6648832907555267, 'lambda': 1.7955675305382397, 'learning_rate': 0.10746916433305213, 'max_depth': 12, 'subsample': 0.4112298303936467, 'colsample_bytree': 0.15199930187588606, 'min_child_weight': 3.404061168435601}.\n"
     ]
    },
    {
     "name": "stdout",
     "output_type": "stream",
     "text": [
      "76 "
     ]
    },
    {
     "name": "stderr",
     "output_type": "stream",
     "text": [
      "[I 2019-02-10 03:45:49,353] Finished a trial resulted in value: 0.21825839217143572. Current best value is 0.19256317354143437 with parameters: {'n_estimators': 242, 'gamma': 0.6648832907555267, 'lambda': 1.7955675305382397, 'learning_rate': 0.10746916433305213, 'max_depth': 12, 'subsample': 0.4112298303936467, 'colsample_bytree': 0.15199930187588606, 'min_child_weight': 3.404061168435601}.\n"
     ]
    },
    {
     "name": "stdout",
     "output_type": "stream",
     "text": [
      "77 "
     ]
    },
    {
     "name": "stderr",
     "output_type": "stream",
     "text": [
      "[I 2019-02-10 03:45:49,657] Finished a trial resulted in value: 0.20539917007308306. Current best value is 0.19256317354143437 with parameters: {'n_estimators': 242, 'gamma': 0.6648832907555267, 'lambda': 1.7955675305382397, 'learning_rate': 0.10746916433305213, 'max_depth': 12, 'subsample': 0.4112298303936467, 'colsample_bytree': 0.15199930187588606, 'min_child_weight': 3.404061168435601}.\n"
     ]
    },
    {
     "name": "stdout",
     "output_type": "stream",
     "text": [
      "78 "
     ]
    },
    {
     "name": "stderr",
     "output_type": "stream",
     "text": [
      "[I 2019-02-10 03:45:49,828] Finished a trial resulted in value: 0.200552768487551. Current best value is 0.19256317354143437 with parameters: {'n_estimators': 242, 'gamma': 0.6648832907555267, 'lambda': 1.7955675305382397, 'learning_rate': 0.10746916433305213, 'max_depth': 12, 'subsample': 0.4112298303936467, 'colsample_bytree': 0.15199930187588606, 'min_child_weight': 3.404061168435601}.\n"
     ]
    },
    {
     "name": "stdout",
     "output_type": "stream",
     "text": [
      "79 "
     ]
    },
    {
     "name": "stderr",
     "output_type": "stream",
     "text": [
      "[I 2019-02-10 03:45:50,212] Finished a trial resulted in value: 0.20543787935092295. Current best value is 0.19256317354143437 with parameters: {'n_estimators': 242, 'gamma': 0.6648832907555267, 'lambda': 1.7955675305382397, 'learning_rate': 0.10746916433305213, 'max_depth': 12, 'subsample': 0.4112298303936467, 'colsample_bytree': 0.15199930187588606, 'min_child_weight': 3.404061168435601}.\n"
     ]
    },
    {
     "name": "stdout",
     "output_type": "stream",
     "text": [
      "80 "
     ]
    },
    {
     "name": "stderr",
     "output_type": "stream",
     "text": [
      "[I 2019-02-10 03:45:50,668] Finished a trial resulted in value: 0.19096835129443823. Current best value is 0.19096835129443823 with parameters: {'n_estimators': 416, 'gamma': 0.9045490085134903, 'lambda': 1.7742092609008675, 'learning_rate': 0.04915956757747412, 'max_depth': 3, 'subsample': 0.9707605838583694, 'colsample_bytree': 0.2547337323059743, 'min_child_weight': 3.872577900237379}.\n"
     ]
    },
    {
     "name": "stdout",
     "output_type": "stream",
     "text": [
      "81 "
     ]
    },
    {
     "name": "stderr",
     "output_type": "stream",
     "text": [
      "[I 2019-02-10 03:45:51,406] Finished a trial resulted in value: 0.2038275733927909. Current best value is 0.19096835129443823 with parameters: {'n_estimators': 416, 'gamma': 0.9045490085134903, 'lambda': 1.7742092609008675, 'learning_rate': 0.04915956757747412, 'max_depth': 3, 'subsample': 0.9707605838583694, 'colsample_bytree': 0.2547337323059743, 'min_child_weight': 3.872577900237379}.\n"
     ]
    },
    {
     "name": "stdout",
     "output_type": "stream",
     "text": [
      "82 "
     ]
    },
    {
     "name": "stderr",
     "output_type": "stream",
     "text": [
      "[I 2019-02-10 03:45:51,966] Finished a trial resulted in value: 0.20861204013377932. Current best value is 0.19096835129443823 with parameters: {'n_estimators': 416, 'gamma': 0.9045490085134903, 'lambda': 1.7742092609008675, 'learning_rate': 0.04915956757747412, 'max_depth': 3, 'subsample': 0.9707605838583694, 'colsample_bytree': 0.2547337323059743, 'min_child_weight': 3.872577900237379}.\n"
     ]
    },
    {
     "name": "stdout",
     "output_type": "stream",
     "text": [
      "83 "
     ]
    },
    {
     "name": "stderr",
     "output_type": "stream",
     "text": [
      "[I 2019-02-10 03:45:52,187] Finished a trial resulted in value: 0.27124365167843434. Current best value is 0.19096835129443823 with parameters: {'n_estimators': 416, 'gamma': 0.9045490085134903, 'lambda': 1.7742092609008675, 'learning_rate': 0.04915956757747412, 'max_depth': 3, 'subsample': 0.9707605838583694, 'colsample_bytree': 0.2547337323059743, 'min_child_weight': 3.872577900237379}.\n"
     ]
    },
    {
     "name": "stdout",
     "output_type": "stream",
     "text": [
      "84 "
     ]
    },
    {
     "name": "stderr",
     "output_type": "stream",
     "text": [
      "[I 2019-02-10 03:45:52,534] Finished a trial resulted in value: 0.2166248606465997. Current best value is 0.19096835129443823 with parameters: {'n_estimators': 416, 'gamma': 0.9045490085134903, 'lambda': 1.7742092609008675, 'learning_rate': 0.04915956757747412, 'max_depth': 3, 'subsample': 0.9707605838583694, 'colsample_bytree': 0.2547337323059743, 'min_child_weight': 3.872577900237379}.\n"
     ]
    },
    {
     "name": "stdout",
     "output_type": "stream",
     "text": [
      "85 "
     ]
    },
    {
     "name": "stderr",
     "output_type": "stream",
     "text": [
      "[I 2019-02-10 03:45:52,922] Finished a trial resulted in value: 0.21023782980304728. Current best value is 0.19096835129443823 with parameters: {'n_estimators': 416, 'gamma': 0.9045490085134903, 'lambda': 1.7742092609008675, 'learning_rate': 0.04915956757747412, 'max_depth': 3, 'subsample': 0.9707605838583694, 'colsample_bytree': 0.2547337323059743, 'min_child_weight': 3.872577900237379}.\n"
     ]
    },
    {
     "name": "stdout",
     "output_type": "stream",
     "text": [
      "86 "
     ]
    },
    {
     "name": "stderr",
     "output_type": "stream",
     "text": [
      "[I 2019-02-10 03:45:53,340] Finished a trial resulted in value: 0.21180942648333945. Current best value is 0.19096835129443823 with parameters: {'n_estimators': 416, 'gamma': 0.9045490085134903, 'lambda': 1.7742092609008675, 'learning_rate': 0.04915956757747412, 'max_depth': 3, 'subsample': 0.9707605838583694, 'colsample_bytree': 0.2547337323059743, 'min_child_weight': 3.872577900237379}.\n"
     ]
    },
    {
     "name": "stdout",
     "output_type": "stream",
     "text": [
      "87 "
     ]
    },
    {
     "name": "stderr",
     "output_type": "stream",
     "text": [
      "[I 2019-02-10 03:45:53,811] Finished a trial resulted in value: 0.24232007927660104. Current best value is 0.19096835129443823 with parameters: {'n_estimators': 416, 'gamma': 0.9045490085134903, 'lambda': 1.7742092609008675, 'learning_rate': 0.04915956757747412, 'max_depth': 3, 'subsample': 0.9707605838583694, 'colsample_bytree': 0.2547337323059743, 'min_child_weight': 3.872577900237379}.\n"
     ]
    },
    {
     "name": "stdout",
     "output_type": "stream",
     "text": [
      "88 "
     ]
    },
    {
     "name": "stderr",
     "output_type": "stream",
     "text": [
      "[I 2019-02-10 03:45:54,162] Finished a trial resulted in value: 0.20381983153722283. Current best value is 0.19096835129443823 with parameters: {'n_estimators': 416, 'gamma': 0.9045490085134903, 'lambda': 1.7742092609008675, 'learning_rate': 0.04915956757747412, 'max_depth': 3, 'subsample': 0.9707605838583694, 'colsample_bytree': 0.2547337323059743, 'min_child_weight': 3.872577900237379}.\n"
     ]
    },
    {
     "name": "stdout",
     "output_type": "stream",
     "text": [
      "89 "
     ]
    },
    {
     "name": "stderr",
     "output_type": "stream",
     "text": [
      "[I 2019-02-10 03:45:54,692] Finished a trial resulted in value: 0.20221726743465884. Current best value is 0.19096835129443823 with parameters: {'n_estimators': 416, 'gamma': 0.9045490085134903, 'lambda': 1.7742092609008675, 'learning_rate': 0.04915956757747412, 'max_depth': 3, 'subsample': 0.9707605838583694, 'colsample_bytree': 0.2547337323059743, 'min_child_weight': 3.872577900237379}.\n"
     ]
    },
    {
     "name": "stdout",
     "output_type": "stream",
     "text": [
      "90 "
     ]
    },
    {
     "name": "stderr",
     "output_type": "stream",
     "text": [
      "[I 2019-02-10 03:45:55,353] Finished a trial resulted in value: 0.19901213922953043. Current best value is 0.19096835129443823 with parameters: {'n_estimators': 416, 'gamma': 0.9045490085134903, 'lambda': 1.7742092609008675, 'learning_rate': 0.04915956757747412, 'max_depth': 3, 'subsample': 0.9707605838583694, 'colsample_bytree': 0.2547337323059743, 'min_child_weight': 3.872577900237379}.\n"
     ]
    },
    {
     "name": "stdout",
     "output_type": "stream",
     "text": [
      "91 "
     ]
    },
    {
     "name": "stderr",
     "output_type": "stream",
     "text": [
      "[I 2019-02-10 03:45:56,109] Finished a trial resulted in value: 0.21184039390561127. Current best value is 0.19096835129443823 with parameters: {'n_estimators': 416, 'gamma': 0.9045490085134903, 'lambda': 1.7742092609008675, 'learning_rate': 0.04915956757747412, 'max_depth': 3, 'subsample': 0.9707605838583694, 'colsample_bytree': 0.2547337323059743, 'min_child_weight': 3.872577900237379}.\n"
     ]
    },
    {
     "name": "stdout",
     "output_type": "stream",
     "text": [
      "92 "
     ]
    },
    {
     "name": "stderr",
     "output_type": "stream",
     "text": [
      "[I 2019-02-10 03:45:56,324] Finished a trial resulted in value: 0.20698625046451136. Current best value is 0.19096835129443823 with parameters: {'n_estimators': 416, 'gamma': 0.9045490085134903, 'lambda': 1.7742092609008675, 'learning_rate': 0.04915956757747412, 'max_depth': 3, 'subsample': 0.9707605838583694, 'colsample_bytree': 0.2547337323059743, 'min_child_weight': 3.872577900237379}.\n"
     ]
    },
    {
     "name": "stdout",
     "output_type": "stream",
     "text": [
      "93 "
     ]
    },
    {
     "name": "stderr",
     "output_type": "stream",
     "text": [
      "[I 2019-02-10 03:45:56,756] Finished a trial resulted in value: 0.21182491019447536. Current best value is 0.19096835129443823 with parameters: {'n_estimators': 416, 'gamma': 0.9045490085134903, 'lambda': 1.7742092609008675, 'learning_rate': 0.04915956757747412, 'max_depth': 3, 'subsample': 0.9707605838583694, 'colsample_bytree': 0.2547337323059743, 'min_child_weight': 3.872577900237379}.\n"
     ]
    },
    {
     "name": "stdout",
     "output_type": "stream",
     "text": [
      "94 "
     ]
    },
    {
     "name": "stderr",
     "output_type": "stream",
     "text": [
      "[I 2019-02-10 03:45:57,236] Finished a trial resulted in value: 0.20223275114579453. Current best value is 0.19096835129443823 with parameters: {'n_estimators': 416, 'gamma': 0.9045490085134903, 'lambda': 1.7742092609008675, 'learning_rate': 0.04915956757747412, 'max_depth': 3, 'subsample': 0.9707605838583694, 'colsample_bytree': 0.2547337323059743, 'min_child_weight': 3.872577900237379}.\n"
     ]
    },
    {
     "name": "stdout",
     "output_type": "stream",
     "text": [
      "95 "
     ]
    },
    {
     "name": "stderr",
     "output_type": "stream",
     "text": [
      "[I 2019-02-10 03:45:57,889] Finished a trial resulted in value: 0.1990198810850985. Current best value is 0.19096835129443823 with parameters: {'n_estimators': 416, 'gamma': 0.9045490085134903, 'lambda': 1.7742092609008675, 'learning_rate': 0.04915956757747412, 'max_depth': 3, 'subsample': 0.9707605838583694, 'colsample_bytree': 0.2547337323059743, 'min_child_weight': 3.872577900237379}.\n"
     ]
    },
    {
     "name": "stdout",
     "output_type": "stream",
     "text": [
      "96 "
     ]
    },
    {
     "name": "stderr",
     "output_type": "stream",
     "text": [
      "[I 2019-02-10 03:45:58,064] Finished a trial resulted in value: 0.19260188281927404. Current best value is 0.19096835129443823 with parameters: {'n_estimators': 416, 'gamma': 0.9045490085134903, 'lambda': 1.7742092609008675, 'learning_rate': 0.04915956757747412, 'max_depth': 3, 'subsample': 0.9707605838583694, 'colsample_bytree': 0.2547337323059743, 'min_child_weight': 3.872577900237379}.\n"
     ]
    },
    {
     "name": "stdout",
     "output_type": "stream",
     "text": [
      "97 "
     ]
    },
    {
     "name": "stderr",
     "output_type": "stream",
     "text": [
      "[I 2019-02-10 03:45:58,223] Finished a trial resulted in value: 0.37399355877616747. Current best value is 0.19096835129443823 with parameters: {'n_estimators': 416, 'gamma': 0.9045490085134903, 'lambda': 1.7742092609008675, 'learning_rate': 0.04915956757747412, 'max_depth': 3, 'subsample': 0.9707605838583694, 'colsample_bytree': 0.2547337323059743, 'min_child_weight': 3.872577900237379}.\n"
     ]
    },
    {
     "name": "stdout",
     "output_type": "stream",
     "text": [
      "98 "
     ]
    },
    {
     "name": "stderr",
     "output_type": "stream",
     "text": [
      "[I 2019-02-10 03:45:58,499] Finished a trial resulted in value: 0.19899665551839474. Current best value is 0.19096835129443823 with parameters: {'n_estimators': 416, 'gamma': 0.9045490085134903, 'lambda': 1.7742092609008675, 'learning_rate': 0.04915956757747412, 'max_depth': 3, 'subsample': 0.9707605838583694, 'colsample_bytree': 0.2547337323059743, 'min_child_weight': 3.872577900237379}.\n"
     ]
    },
    {
     "name": "stdout",
     "output_type": "stream",
     "text": [
      "99 "
     ]
    },
    {
     "name": "stderr",
     "output_type": "stream",
     "text": [
      "[I 2019-02-10 03:45:58,809] Finished a trial resulted in value: 0.20863526570048307. Current best value is 0.19096835129443823 with parameters: {'n_estimators': 416, 'gamma': 0.9045490085134903, 'lambda': 1.7742092609008675, 'learning_rate': 0.04915956757747412, 'max_depth': 3, 'subsample': 0.9707605838583694, 'colsample_bytree': 0.2547337323059743, 'min_child_weight': 3.872577900237379}.\n"
     ]
    },
    {
     "name": "stdout",
     "output_type": "stream",
     "text": [
      "100 "
     ]
    },
    {
     "name": "stderr",
     "output_type": "stream",
     "text": [
      "[I 2019-02-10 03:45:58,996] Finished a trial resulted in value: 0.20380434782608692. Current best value is 0.19096835129443823 with parameters: {'n_estimators': 416, 'gamma': 0.9045490085134903, 'lambda': 1.7742092609008675, 'learning_rate': 0.04915956757747412, 'max_depth': 3, 'subsample': 0.9707605838583694, 'colsample_bytree': 0.2547337323059743, 'min_child_weight': 3.872577900237379}.\n"
     ]
    },
    {
     "name": "stdout",
     "output_type": "stream",
     "text": [
      "101 "
     ]
    },
    {
     "name": "stderr",
     "output_type": "stream",
     "text": [
      "[I 2019-02-10 03:45:59,455] Finished a trial resulted in value: 0.20703270159791887. Current best value is 0.19096835129443823 with parameters: {'n_estimators': 416, 'gamma': 0.9045490085134903, 'lambda': 1.7742092609008675, 'learning_rate': 0.04915956757747412, 'max_depth': 3, 'subsample': 0.9707605838583694, 'colsample_bytree': 0.2547337323059743, 'min_child_weight': 3.872577900237379}.\n"
     ]
    },
    {
     "name": "stdout",
     "output_type": "stream",
     "text": [
      "102 "
     ]
    },
    {
     "name": "stderr",
     "output_type": "stream",
     "text": [
      "[I 2019-02-10 03:46:00,001] Finished a trial resulted in value: 0.22626347082868825. Current best value is 0.19096835129443823 with parameters: {'n_estimators': 416, 'gamma': 0.9045490085134903, 'lambda': 1.7742092609008675, 'learning_rate': 0.04915956757747412, 'max_depth': 3, 'subsample': 0.9707605838583694, 'colsample_bytree': 0.2547337323059743, 'min_child_weight': 3.872577900237379}.\n"
     ]
    },
    {
     "name": "stdout",
     "output_type": "stream",
     "text": [
      "103 "
     ]
    },
    {
     "name": "stderr",
     "output_type": "stream",
     "text": [
      "[I 2019-02-10 03:46:00,251] Finished a trial resulted in value: 0.37399355877616747. Current best value is 0.19096835129443823 with parameters: {'n_estimators': 416, 'gamma': 0.9045490085134903, 'lambda': 1.7742092609008675, 'learning_rate': 0.04915956757747412, 'max_depth': 3, 'subsample': 0.9707605838583694, 'colsample_bytree': 0.2547337323059743, 'min_child_weight': 3.872577900237379}.\n"
     ]
    },
    {
     "name": "stdout",
     "output_type": "stream",
     "text": [
      "104 "
     ]
    },
    {
     "name": "stderr",
     "output_type": "stream",
     "text": [
      "[I 2019-02-10 03:46:00,420] Finished a trial resulted in value: 0.20862752384491523. Current best value is 0.19096835129443823 with parameters: {'n_estimators': 416, 'gamma': 0.9045490085134903, 'lambda': 1.7742092609008675, 'learning_rate': 0.04915956757747412, 'max_depth': 3, 'subsample': 0.9707605838583694, 'colsample_bytree': 0.2547337323059743, 'min_child_weight': 3.872577900237379}.\n"
     ]
    },
    {
     "name": "stdout",
     "output_type": "stream",
     "text": [
      "105 "
     ]
    },
    {
     "name": "stderr",
     "output_type": "stream",
     "text": [
      "[I 2019-02-10 03:46:00,580] Finished a trial resulted in value: 0.3240508485073702. Current best value is 0.19096835129443823 with parameters: {'n_estimators': 416, 'gamma': 0.9045490085134903, 'lambda': 1.7742092609008675, 'learning_rate': 0.04915956757747412, 'max_depth': 3, 'subsample': 0.9707605838583694, 'colsample_bytree': 0.2547337323059743, 'min_child_weight': 3.872577900237379}.\n"
     ]
    },
    {
     "name": "stdout",
     "output_type": "stream",
     "text": [
      "106 "
     ]
    },
    {
     "name": "stderr",
     "output_type": "stream",
     "text": [
      "[I 2019-02-10 03:46:00,789] Finished a trial resulted in value: 0.1925941409637062. Current best value is 0.19096835129443823 with parameters: {'n_estimators': 416, 'gamma': 0.9045490085134903, 'lambda': 1.7742092609008675, 'learning_rate': 0.04915956757747412, 'max_depth': 3, 'subsample': 0.9707605838583694, 'colsample_bytree': 0.2547337323059743, 'min_child_weight': 3.872577900237379}.\n"
     ]
    },
    {
     "name": "stdout",
     "output_type": "stream",
     "text": [
      "107 "
     ]
    },
    {
     "name": "stderr",
     "output_type": "stream",
     "text": [
      "[I 2019-02-10 03:46:01,109] Finished a trial resulted in value: 0.19742505883810235. Current best value is 0.19096835129443823 with parameters: {'n_estimators': 416, 'gamma': 0.9045490085134903, 'lambda': 1.7742092609008675, 'learning_rate': 0.04915956757747412, 'max_depth': 3, 'subsample': 0.9707605838583694, 'colsample_bytree': 0.2547337323059743, 'min_child_weight': 3.872577900237379}.\n"
     ]
    },
    {
     "name": "stdout",
     "output_type": "stream",
     "text": [
      "108 "
     ]
    },
    {
     "name": "stderr",
     "output_type": "stream",
     "text": [
      "[I 2019-02-10 03:46:01,398] Finished a trial resulted in value: 0.19742505883810235. Current best value is 0.19096835129443823 with parameters: {'n_estimators': 416, 'gamma': 0.9045490085134903, 'lambda': 1.7742092609008675, 'learning_rate': 0.04915956757747412, 'max_depth': 3, 'subsample': 0.9707605838583694, 'colsample_bytree': 0.2547337323059743, 'min_child_weight': 3.872577900237379}.\n"
     ]
    },
    {
     "name": "stdout",
     "output_type": "stream",
     "text": [
      "109 "
     ]
    },
    {
     "name": "stderr",
     "output_type": "stream",
     "text": [
      "[I 2019-02-10 03:46:01,697] Finished a trial resulted in value: 0.19418122135513427. Current best value is 0.19096835129443823 with parameters: {'n_estimators': 416, 'gamma': 0.9045490085134903, 'lambda': 1.7742092609008675, 'learning_rate': 0.04915956757747412, 'max_depth': 3, 'subsample': 0.9707605838583694, 'colsample_bytree': 0.2547337323059743, 'min_child_weight': 3.872577900237379}.\n"
     ]
    },
    {
     "name": "stdout",
     "output_type": "stream",
     "text": [
      "110 "
     ]
    },
    {
     "name": "stderr",
     "output_type": "stream",
     "text": [
      "[I 2019-02-10 03:46:01,922] Finished a trial resulted in value: 0.19582249473553814. Current best value is 0.19096835129443823 with parameters: {'n_estimators': 416, 'gamma': 0.9045490085134903, 'lambda': 1.7742092609008675, 'learning_rate': 0.04915956757747412, 'max_depth': 3, 'subsample': 0.9707605838583694, 'colsample_bytree': 0.2547337323059743, 'min_child_weight': 3.872577900237379}.\n"
     ]
    },
    {
     "name": "stdout",
     "output_type": "stream",
     "text": [
      "111 "
     ]
    },
    {
     "name": "stderr",
     "output_type": "stream",
     "text": [
      "[I 2019-02-10 03:46:02,156] Finished a trial resulted in value: 0.3210315248358726. Current best value is 0.19096835129443823 with parameters: {'n_estimators': 416, 'gamma': 0.9045490085134903, 'lambda': 1.7742092609008675, 'learning_rate': 0.04915956757747412, 'max_depth': 3, 'subsample': 0.9707605838583694, 'colsample_bytree': 0.2547337323059743, 'min_child_weight': 3.872577900237379}.\n"
     ]
    },
    {
     "name": "stdout",
     "output_type": "stream",
     "text": [
      "112 "
     ]
    },
    {
     "name": "stderr",
     "output_type": "stream",
     "text": [
      "[I 2019-02-10 03:46:02,586] Finished a trial resulted in value: 0.20061470333209463. Current best value is 0.19096835129443823 with parameters: {'n_estimators': 416, 'gamma': 0.9045490085134903, 'lambda': 1.7742092609008675, 'learning_rate': 0.04915956757747412, 'max_depth': 3, 'subsample': 0.9707605838583694, 'colsample_bytree': 0.2547337323059743, 'min_child_weight': 3.872577900237379}.\n"
     ]
    },
    {
     "name": "stdout",
     "output_type": "stream",
     "text": [
      "113 "
     ]
    },
    {
     "name": "stderr",
     "output_type": "stream",
     "text": [
      "[I 2019-02-10 03:46:03,052] Finished a trial resulted in value: 0.21986869812956777. Current best value is 0.19096835129443823 with parameters: {'n_estimators': 416, 'gamma': 0.9045490085134903, 'lambda': 1.7742092609008675, 'learning_rate': 0.04915956757747412, 'max_depth': 3, 'subsample': 0.9707605838583694, 'colsample_bytree': 0.2547337323059743, 'min_child_weight': 3.872577900237379}.\n"
     ]
    },
    {
     "name": "stdout",
     "output_type": "stream",
     "text": [
      "114 "
     ]
    },
    {
     "name": "stderr",
     "output_type": "stream",
     "text": [
      "[I 2019-02-10 03:46:03,359] Finished a trial resulted in value: 0.2022250092902267. Current best value is 0.19096835129443823 with parameters: {'n_estimators': 416, 'gamma': 0.9045490085134903, 'lambda': 1.7742092609008675, 'learning_rate': 0.04915956757747412, 'max_depth': 3, 'subsample': 0.9707605838583694, 'colsample_bytree': 0.2547337323059743, 'min_child_weight': 3.872577900237379}.\n"
     ]
    },
    {
     "name": "stdout",
     "output_type": "stream",
     "text": [
      "115 "
     ]
    },
    {
     "name": "stderr",
     "output_type": "stream",
     "text": [
      "[I 2019-02-10 03:46:03,717] Finished a trial resulted in value: 0.19900439737396258. Current best value is 0.19096835129443823 with parameters: {'n_estimators': 416, 'gamma': 0.9045490085134903, 'lambda': 1.7742092609008675, 'learning_rate': 0.04915956757747412, 'max_depth': 3, 'subsample': 0.9707605838583694, 'colsample_bytree': 0.2547337323059743, 'min_child_weight': 3.872577900237379}.\n"
     ]
    },
    {
     "name": "stdout",
     "output_type": "stream",
     "text": [
      "116 "
     ]
    },
    {
     "name": "stderr",
     "output_type": "stream",
     "text": [
      "[I 2019-02-10 03:46:04,074] Finished a trial resulted in value: 0.21828161773813948. Current best value is 0.19096835129443823 with parameters: {'n_estimators': 416, 'gamma': 0.9045490085134903, 'lambda': 1.7742092609008675, 'learning_rate': 0.04915956757747412, 'max_depth': 3, 'subsample': 0.9707605838583694, 'colsample_bytree': 0.2547337323059743, 'min_child_weight': 3.872577900237379}.\n"
     ]
    },
    {
     "name": "stdout",
     "output_type": "stream",
     "text": [
      "117 "
     ]
    },
    {
     "name": "stderr",
     "output_type": "stream",
     "text": [
      "[I 2019-02-10 03:46:04,824] Finished a trial resulted in value: 0.1957992691688344. Current best value is 0.19096835129443823 with parameters: {'n_estimators': 416, 'gamma': 0.9045490085134903, 'lambda': 1.7742092609008675, 'learning_rate': 0.04915956757747412, 'max_depth': 3, 'subsample': 0.9707605838583694, 'colsample_bytree': 0.2547337323059743, 'min_child_weight': 3.872577900237379}.\n"
     ]
    },
    {
     "name": "stdout",
     "output_type": "stream",
     "text": [
      "118 "
     ]
    },
    {
     "name": "stderr",
     "output_type": "stream",
     "text": [
      "[I 2019-02-10 03:46:05,242] Finished a trial resulted in value: 0.1990353647962344. Current best value is 0.19096835129443823 with parameters: {'n_estimators': 416, 'gamma': 0.9045490085134903, 'lambda': 1.7742092609008675, 'learning_rate': 0.04915956757747412, 'max_depth': 3, 'subsample': 0.9707605838583694, 'colsample_bytree': 0.2547337323059743, 'min_child_weight': 3.872577900237379}.\n"
     ]
    },
    {
     "name": "stdout",
     "output_type": "stream",
     "text": [
      "119 "
     ]
    },
    {
     "name": "stderr",
     "output_type": "stream",
     "text": [
      "[I 2019-02-10 03:46:05,711] Finished a trial resulted in value: 0.20221726743465862. Current best value is 0.19096835129443823 with parameters: {'n_estimators': 416, 'gamma': 0.9045490085134903, 'lambda': 1.7742092609008675, 'learning_rate': 0.04915956757747412, 'max_depth': 3, 'subsample': 0.9707605838583694, 'colsample_bytree': 0.2547337323059743, 'min_child_weight': 3.872577900237379}.\n"
     ]
    },
    {
     "name": "stdout",
     "output_type": "stream",
     "text": [
      "120 "
     ]
    },
    {
     "name": "stderr",
     "output_type": "stream",
     "text": [
      "[I 2019-02-10 03:46:05,957] Finished a trial resulted in value: 0.2118713613278831. Current best value is 0.19096835129443823 with parameters: {'n_estimators': 416, 'gamma': 0.9045490085134903, 'lambda': 1.7742092609008675, 'learning_rate': 0.04915956757747412, 'max_depth': 3, 'subsample': 0.9707605838583694, 'colsample_bytree': 0.2547337323059743, 'min_child_weight': 3.872577900237379}.\n"
     ]
    },
    {
     "name": "stdout",
     "output_type": "stream",
     "text": [
      "121 "
     ]
    },
    {
     "name": "stderr",
     "output_type": "stream",
     "text": [
      "[I 2019-02-10 03:46:06,544] Finished a trial resulted in value: 0.20539917007308306. Current best value is 0.19096835129443823 with parameters: {'n_estimators': 416, 'gamma': 0.9045490085134903, 'lambda': 1.7742092609008675, 'learning_rate': 0.04915956757747412, 'max_depth': 3, 'subsample': 0.9707605838583694, 'colsample_bytree': 0.2547337323059743, 'min_child_weight': 3.872577900237379}.\n"
     ]
    },
    {
     "name": "stdout",
     "output_type": "stream",
     "text": [
      "122 "
     ]
    },
    {
     "name": "stderr",
     "output_type": "stream",
     "text": [
      "[I 2019-02-10 03:46:06,818] Finished a trial resulted in value: 0.21339650687476774. Current best value is 0.19096835129443823 with parameters: {'n_estimators': 416, 'gamma': 0.9045490085134903, 'lambda': 1.7742092609008675, 'learning_rate': 0.04915956757747412, 'max_depth': 3, 'subsample': 0.9707605838583694, 'colsample_bytree': 0.2547337323059743, 'min_child_weight': 3.872577900237379}.\n"
     ]
    },
    {
     "name": "stdout",
     "output_type": "stream",
     "text": [
      "123 "
     ]
    },
    {
     "name": "stderr",
     "output_type": "stream",
     "text": [
      "[I 2019-02-10 03:46:07,144] Finished a trial resulted in value: 0.2680385234733059. Current best value is 0.19096835129443823 with parameters: {'n_estimators': 416, 'gamma': 0.9045490085134903, 'lambda': 1.7742092609008675, 'learning_rate': 0.04915956757747412, 'max_depth': 3, 'subsample': 0.9707605838583694, 'colsample_bytree': 0.2547337323059743, 'min_child_weight': 3.872577900237379}.\n"
     ]
    },
    {
     "name": "stdout",
     "output_type": "stream",
     "text": [
      "124 "
     ]
    },
    {
     "name": "stderr",
     "output_type": "stream",
     "text": [
      "[I 2019-02-10 03:46:08,091] Finished a trial resulted in value: 0.1990198810850985. Current best value is 0.19096835129443823 with parameters: {'n_estimators': 416, 'gamma': 0.9045490085134903, 'lambda': 1.7742092609008675, 'learning_rate': 0.04915956757747412, 'max_depth': 3, 'subsample': 0.9707605838583694, 'colsample_bytree': 0.2547337323059743, 'min_child_weight': 3.872577900237379}.\n"
     ]
    },
    {
     "name": "stdout",
     "output_type": "stream",
     "text": [
      "125 "
     ]
    },
    {
     "name": "stderr",
     "output_type": "stream",
     "text": [
      "[I 2019-02-10 03:46:09,038] Finished a trial resulted in value: 0.19899665551839474. Current best value is 0.19096835129443823 with parameters: {'n_estimators': 416, 'gamma': 0.9045490085134903, 'lambda': 1.7742092609008675, 'learning_rate': 0.04915956757747412, 'max_depth': 3, 'subsample': 0.9707605838583694, 'colsample_bytree': 0.2547337323059743, 'min_child_weight': 3.872577900237379}.\n"
     ]
    },
    {
     "name": "stdout",
     "output_type": "stream",
     "text": [
      "126 "
     ]
    },
    {
     "name": "stderr",
     "output_type": "stream",
     "text": [
      "[I 2019-02-10 03:46:09,634] Finished a trial resulted in value: 0.20061470333209463. Current best value is 0.19096835129443823 with parameters: {'n_estimators': 416, 'gamma': 0.9045490085134903, 'lambda': 1.7742092609008675, 'learning_rate': 0.04915956757747412, 'max_depth': 3, 'subsample': 0.9707605838583694, 'colsample_bytree': 0.2547337323059743, 'min_child_weight': 3.872577900237379}.\n"
     ]
    },
    {
     "name": "stdout",
     "output_type": "stream",
     "text": [
      "127 "
     ]
    },
    {
     "name": "stderr",
     "output_type": "stream",
     "text": [
      "[I 2019-02-10 03:46:10,175] Finished a trial resulted in value: 0.20383531524835874. Current best value is 0.19096835129443823 with parameters: {'n_estimators': 416, 'gamma': 0.9045490085134903, 'lambda': 1.7742092609008675, 'learning_rate': 0.04915956757747412, 'max_depth': 3, 'subsample': 0.9707605838583694, 'colsample_bytree': 0.2547337323059743, 'min_child_weight': 3.872577900237379}.\n"
     ]
    },
    {
     "name": "stdout",
     "output_type": "stream",
     "text": [
      "128 "
     ]
    },
    {
     "name": "stderr",
     "output_type": "stream",
     "text": [
      "[I 2019-02-10 03:46:10,556] Finished a trial resulted in value: 0.2182274247491639. Current best value is 0.19096835129443823 with parameters: {'n_estimators': 416, 'gamma': 0.9045490085134903, 'lambda': 1.7742092609008675, 'learning_rate': 0.04915956757747412, 'max_depth': 3, 'subsample': 0.9707605838583694, 'colsample_bytree': 0.2547337323059743, 'min_child_weight': 3.872577900237379}.\n"
     ]
    },
    {
     "name": "stdout",
     "output_type": "stream",
     "text": [
      "129 "
     ]
    },
    {
     "name": "stderr",
     "output_type": "stream",
     "text": [
      "[I 2019-02-10 03:46:10,817] Finished a trial resulted in value: 0.21184039390561127. Current best value is 0.19096835129443823 with parameters: {'n_estimators': 416, 'gamma': 0.9045490085134903, 'lambda': 1.7742092609008675, 'learning_rate': 0.04915956757747412, 'max_depth': 3, 'subsample': 0.9707605838583694, 'colsample_bytree': 0.2547337323059743, 'min_child_weight': 3.872577900237379}.\n"
     ]
    },
    {
     "name": "stdout",
     "output_type": "stream",
     "text": [
      "130 "
     ]
    },
    {
     "name": "stderr",
     "output_type": "stream",
     "text": [
      "[I 2019-02-10 03:46:11,235] Finished a trial resulted in value: 0.20702495974235102. Current best value is 0.19096835129443823 with parameters: {'n_estimators': 416, 'gamma': 0.9045490085134903, 'lambda': 1.7742092609008675, 'learning_rate': 0.04915956757747412, 'max_depth': 3, 'subsample': 0.9707605838583694, 'colsample_bytree': 0.2547337323059743, 'min_child_weight': 3.872577900237379}.\n"
     ]
    },
    {
     "name": "stdout",
     "output_type": "stream",
     "text": [
      "131 "
     ]
    },
    {
     "name": "stderr",
     "output_type": "stream",
     "text": [
      "[I 2019-02-10 03:46:11,564] Finished a trial resulted in value: 0.25036386721169335. Current best value is 0.19096835129443823 with parameters: {'n_estimators': 416, 'gamma': 0.9045490085134903, 'lambda': 1.7742092609008675, 'learning_rate': 0.04915956757747412, 'max_depth': 3, 'subsample': 0.9707605838583694, 'colsample_bytree': 0.2547337323059743, 'min_child_weight': 3.872577900237379}.\n"
     ]
    },
    {
     "name": "stdout",
     "output_type": "stream",
     "text": [
      "132 "
     ]
    },
    {
     "name": "stderr",
     "output_type": "stream",
     "text": [
      "[I 2019-02-10 03:46:12,164] Finished a trial resulted in value: 0.21025331351418297. Current best value is 0.19096835129443823 with parameters: {'n_estimators': 416, 'gamma': 0.9045490085134903, 'lambda': 1.7742092609008675, 'learning_rate': 0.04915956757747412, 'max_depth': 3, 'subsample': 0.9707605838583694, 'colsample_bytree': 0.2547337323059743, 'min_child_weight': 3.872577900237379}.\n"
     ]
    },
    {
     "name": "stdout",
     "output_type": "stream",
     "text": [
      "133 "
     ]
    },
    {
     "name": "stderr",
     "output_type": "stream",
     "text": [
      "[I 2019-02-10 03:46:12,727] Finished a trial resulted in value: 0.19258639910813813. Current best value is 0.19096835129443823 with parameters: {'n_estimators': 416, 'gamma': 0.9045490085134903, 'lambda': 1.7742092609008675, 'learning_rate': 0.04915956757747412, 'max_depth': 3, 'subsample': 0.9707605838583694, 'colsample_bytree': 0.2547337323059743, 'min_child_weight': 3.872577900237379}.\n"
     ]
    },
    {
     "name": "stdout",
     "output_type": "stream",
     "text": [
      "134 "
     ]
    },
    {
     "name": "stderr",
     "output_type": "stream",
     "text": [
      "[I 2019-02-10 03:46:13,250] Finished a trial resulted in value: 0.20863526570048307. Current best value is 0.19096835129443823 with parameters: {'n_estimators': 416, 'gamma': 0.9045490085134903, 'lambda': 1.7742092609008675, 'learning_rate': 0.04915956757747412, 'max_depth': 3, 'subsample': 0.9707605838583694, 'colsample_bytree': 0.2547337323059743, 'min_child_weight': 3.872577900237379}.\n"
     ]
    },
    {
     "name": "stdout",
     "output_type": "stream",
     "text": [
      "135 "
     ]
    },
    {
     "name": "stderr",
     "output_type": "stream",
     "text": [
      "[I 2019-02-10 03:46:13,737] Finished a trial resulted in value: 0.20539142821751522. Current best value is 0.19096835129443823 with parameters: {'n_estimators': 416, 'gamma': 0.9045490085134903, 'lambda': 1.7742092609008675, 'learning_rate': 0.04915956757747412, 'max_depth': 3, 'subsample': 0.9707605838583694, 'colsample_bytree': 0.2547337323059743, 'min_child_weight': 3.872577900237379}.\n"
     ]
    },
    {
     "name": "stdout",
     "output_type": "stream",
     "text": [
      "136 "
     ]
    },
    {
     "name": "stderr",
     "output_type": "stream",
     "text": [
      "[I 2019-02-10 03:46:14,241] Finished a trial resulted in value: 0.20057599405425497. Current best value is 0.19096835129443823 with parameters: {'n_estimators': 416, 'gamma': 0.9045490085134903, 'lambda': 1.7742092609008675, 'learning_rate': 0.04915956757747412, 'max_depth': 3, 'subsample': 0.9707605838583694, 'colsample_bytree': 0.2547337323059743, 'min_child_weight': 3.872577900237379}.\n"
     ]
    },
    {
     "name": "stdout",
     "output_type": "stream",
     "text": [
      "137 "
     ]
    },
    {
     "name": "stderr",
     "output_type": "stream",
     "text": [
      "[I 2019-02-10 03:46:14,789] Finished a trial resulted in value: 0.203788864114951. Current best value is 0.19096835129443823 with parameters: {'n_estimators': 416, 'gamma': 0.9045490085134903, 'lambda': 1.7742092609008675, 'learning_rate': 0.04915956757747412, 'max_depth': 3, 'subsample': 0.9707605838583694, 'colsample_bytree': 0.2547337323059743, 'min_child_weight': 3.872577900237379}.\n"
     ]
    },
    {
     "name": "stdout",
     "output_type": "stream",
     "text": [
      "138 "
     ]
    },
    {
     "name": "stderr",
     "output_type": "stream",
     "text": [
      "[I 2019-02-10 03:46:15,237] Finished a trial resulted in value: 0.21342747429703957. Current best value is 0.19096835129443823 with parameters: {'n_estimators': 416, 'gamma': 0.9045490085134903, 'lambda': 1.7742092609008675, 'learning_rate': 0.04915956757747412, 'max_depth': 3, 'subsample': 0.9707605838583694, 'colsample_bytree': 0.2547337323059743, 'min_child_weight': 3.872577900237379}.\n"
     ]
    },
    {
     "name": "stdout",
     "output_type": "stream",
     "text": [
      "139 "
     ]
    },
    {
     "name": "stderr",
     "output_type": "stream",
     "text": [
      "[I 2019-02-10 03:46:16,173] Finished a trial resulted in value: 0.19420444692183825. Current best value is 0.19096835129443823 with parameters: {'n_estimators': 416, 'gamma': 0.9045490085134903, 'lambda': 1.7742092609008675, 'learning_rate': 0.04915956757747412, 'max_depth': 3, 'subsample': 0.9707605838583694, 'colsample_bytree': 0.2547337323059743, 'min_child_weight': 3.872577900237379}.\n"
     ]
    },
    {
     "name": "stdout",
     "output_type": "stream",
     "text": [
      "140 "
     ]
    },
    {
     "name": "stderr",
     "output_type": "stream",
     "text": [
      "[I 2019-02-10 03:46:16,566] Finished a trial resulted in value: 0.19257091539700244. Current best value is 0.19096835129443823 with parameters: {'n_estimators': 416, 'gamma': 0.9045490085134903, 'lambda': 1.7742092609008675, 'learning_rate': 0.04915956757747412, 'max_depth': 3, 'subsample': 0.9707605838583694, 'colsample_bytree': 0.2547337323059743, 'min_child_weight': 3.872577900237379}.\n"
     ]
    },
    {
     "name": "stdout",
     "output_type": "stream",
     "text": [
      "141 "
     ]
    },
    {
     "name": "stderr",
     "output_type": "stream",
     "text": [
      "[I 2019-02-10 03:46:17,079] Finished a trial resulted in value: 0.20220952557909078. Current best value is 0.19096835129443823 with parameters: {'n_estimators': 416, 'gamma': 0.9045490085134903, 'lambda': 1.7742092609008675, 'learning_rate': 0.04915956757747412, 'max_depth': 3, 'subsample': 0.9707605838583694, 'colsample_bytree': 0.2547337323059743, 'min_child_weight': 3.872577900237379}.\n"
     ]
    },
    {
     "name": "stdout",
     "output_type": "stream",
     "text": [
      "142 "
     ]
    },
    {
     "name": "stderr",
     "output_type": "stream",
     "text": [
      "[I 2019-02-10 03:46:18,099] Finished a trial resulted in value: 0.20705592716462284. Current best value is 0.19096835129443823 with parameters: {'n_estimators': 416, 'gamma': 0.9045490085134903, 'lambda': 1.7742092609008675, 'learning_rate': 0.04915956757747412, 'max_depth': 3, 'subsample': 0.9707605838583694, 'colsample_bytree': 0.2547337323059743, 'min_child_weight': 3.872577900237379}.\n"
     ]
    },
    {
     "name": "stdout",
     "output_type": "stream",
     "text": [
      "143 "
     ]
    },
    {
     "name": "stderr",
     "output_type": "stream",
     "text": [
      "[I 2019-02-10 03:46:18,468] Finished a trial resulted in value: 0.33228818283166106. Current best value is 0.19096835129443823 with parameters: {'n_estimators': 416, 'gamma': 0.9045490085134903, 'lambda': 1.7742092609008675, 'learning_rate': 0.04915956757747412, 'max_depth': 3, 'subsample': 0.9707605838583694, 'colsample_bytree': 0.2547337323059743, 'min_child_weight': 3.872577900237379}.\n"
     ]
    },
    {
     "name": "stdout",
     "output_type": "stream",
     "text": [
      "144 "
     ]
    },
    {
     "name": "stderr",
     "output_type": "stream",
     "text": [
      "[I 2019-02-10 03:46:18,843] Finished a trial resulted in value: 0.2198145051405921. Current best value is 0.19096835129443823 with parameters: {'n_estimators': 416, 'gamma': 0.9045490085134903, 'lambda': 1.7742092609008675, 'learning_rate': 0.04915956757747412, 'max_depth': 3, 'subsample': 0.9707605838583694, 'colsample_bytree': 0.2547337323059743, 'min_child_weight': 3.872577900237379}.\n"
     ]
    },
    {
     "name": "stdout",
     "output_type": "stream",
     "text": [
      "145 "
     ]
    },
    {
     "name": "stderr",
     "output_type": "stream",
     "text": [
      "[I 2019-02-10 03:46:19,342] Finished a trial resulted in value: 0.19899665551839474. Current best value is 0.19096835129443823 with parameters: {'n_estimators': 416, 'gamma': 0.9045490085134903, 'lambda': 1.7742092609008675, 'learning_rate': 0.04915956757747412, 'max_depth': 3, 'subsample': 0.9707605838583694, 'colsample_bytree': 0.2547337323059743, 'min_child_weight': 3.872577900237379}.\n"
     ]
    },
    {
     "name": "stdout",
     "output_type": "stream",
     "text": [
      "146 "
     ]
    },
    {
     "name": "stderr",
     "output_type": "stream",
     "text": [
      "[I 2019-02-10 03:46:19,701] Finished a trial resulted in value: 0.20378112225938327. Current best value is 0.19096835129443823 with parameters: {'n_estimators': 416, 'gamma': 0.9045490085134903, 'lambda': 1.7742092609008675, 'learning_rate': 0.04915956757747412, 'max_depth': 3, 'subsample': 0.9707605838583694, 'colsample_bytree': 0.2547337323059743, 'min_child_weight': 3.872577900237379}.\n"
     ]
    },
    {
     "name": "stdout",
     "output_type": "stream",
     "text": [
      "147 "
     ]
    },
    {
     "name": "stderr",
     "output_type": "stream",
     "text": [
      "[I 2019-02-10 03:46:20,361] Finished a trial resulted in value: 0.20384305710392658. Current best value is 0.19096835129443823 with parameters: {'n_estimators': 416, 'gamma': 0.9045490085134903, 'lambda': 1.7742092609008675, 'learning_rate': 0.04915956757747412, 'max_depth': 3, 'subsample': 0.9707605838583694, 'colsample_bytree': 0.2547337323059743, 'min_child_weight': 3.872577900237379}.\n"
     ]
    },
    {
     "name": "stdout",
     "output_type": "stream",
     "text": [
      "148 "
     ]
    },
    {
     "name": "stderr",
     "output_type": "stream",
     "text": [
      "[I 2019-02-10 03:46:20,972] Finished a trial resulted in value: 0.18457357859531776. Current best value is 0.18457357859531776 with parameters: {'n_estimators': 399, 'gamma': 0.8943521746894877, 'lambda': 0.6101970248867601, 'learning_rate': 0.1192141873022246, 'max_depth': 12, 'subsample': 0.9217200574951616, 'colsample_bytree': 0.22507627225236979, 'min_child_weight': 0.029946137134566383}.\n"
     ]
    },
    {
     "name": "stdout",
     "output_type": "stream",
     "text": [
      "149 "
     ]
    },
    {
     "name": "stderr",
     "output_type": "stream",
     "text": [
      "[I 2019-02-10 03:46:21,342] Finished a trial resulted in value: 0.19739409141583053. Current best value is 0.18457357859531776 with parameters: {'n_estimators': 399, 'gamma': 0.8943521746894877, 'lambda': 0.6101970248867601, 'learning_rate': 0.1192141873022246, 'max_depth': 12, 'subsample': 0.9217200574951616, 'colsample_bytree': 0.22507627225236979, 'min_child_weight': 0.029946137134566383}.\n"
     ]
    },
    {
     "name": "stdout",
     "output_type": "stream",
     "text": [
      "150 "
     ]
    },
    {
     "name": "stderr",
     "output_type": "stream",
     "text": [
      "[I 2019-02-10 03:46:21,830] Finished a trial resulted in value: 0.1957760436021304. Current best value is 0.18457357859531776 with parameters: {'n_estimators': 399, 'gamma': 0.8943521746894877, 'lambda': 0.6101970248867601, 'learning_rate': 0.1192141873022246, 'max_depth': 12, 'subsample': 0.9217200574951616, 'colsample_bytree': 0.22507627225236979, 'min_child_weight': 0.029946137134566383}.\n"
     ]
    },
    {
     "name": "stdout",
     "output_type": "stream",
     "text": [
      "151 "
     ]
    },
    {
     "name": "stderr",
     "output_type": "stream",
     "text": [
      "[I 2019-02-10 03:46:22,387] Finished a trial resulted in value: 0.20543787935092295. Current best value is 0.18457357859531776 with parameters: {'n_estimators': 399, 'gamma': 0.8943521746894877, 'lambda': 0.6101970248867601, 'learning_rate': 0.1192141873022246, 'max_depth': 12, 'subsample': 0.9217200574951616, 'colsample_bytree': 0.22507627225236979, 'min_child_weight': 0.029946137134566383}.\n"
     ]
    },
    {
     "name": "stdout",
     "output_type": "stream",
     "text": [
      "152 "
     ]
    },
    {
     "name": "stderr",
     "output_type": "stream",
     "text": [
      "[I 2019-02-10 03:46:22,934] Finished a trial resulted in value: 0.21182491019447536. Current best value is 0.18457357859531776 with parameters: {'n_estimators': 399, 'gamma': 0.8943521746894877, 'lambda': 0.6101970248867601, 'learning_rate': 0.1192141873022246, 'max_depth': 12, 'subsample': 0.9217200574951616, 'colsample_bytree': 0.22507627225236979, 'min_child_weight': 0.029946137134566383}.\n"
     ]
    },
    {
     "name": "stdout",
     "output_type": "stream",
     "text": [
      "153 "
     ]
    },
    {
     "name": "stderr",
     "output_type": "stream",
     "text": [
      "[I 2019-02-10 03:46:23,411] Finished a trial resulted in value: 0.2006069614765268. Current best value is 0.18457357859531776 with parameters: {'n_estimators': 399, 'gamma': 0.8943521746894877, 'lambda': 0.6101970248867601, 'learning_rate': 0.1192141873022246, 'max_depth': 12, 'subsample': 0.9217200574951616, 'colsample_bytree': 0.22507627225236979, 'min_child_weight': 0.029946137134566383}.\n"
     ]
    },
    {
     "name": "stdout",
     "output_type": "stream",
     "text": [
      "154 "
     ]
    },
    {
     "name": "stderr",
     "output_type": "stream",
     "text": [
      "[I 2019-02-10 03:46:23,846] Finished a trial resulted in value: 0.19258639910813813. Current best value is 0.18457357859531776 with parameters: {'n_estimators': 399, 'gamma': 0.8943521746894877, 'lambda': 0.6101970248867601, 'learning_rate': 0.1192141873022246, 'max_depth': 12, 'subsample': 0.9217200574951616, 'colsample_bytree': 0.22507627225236979, 'min_child_weight': 0.029946137134566383}.\n"
     ]
    },
    {
     "name": "stdout",
     "output_type": "stream",
     "text": [
      "155 "
     ]
    },
    {
     "name": "stderr",
     "output_type": "stream",
     "text": [
      "[I 2019-02-10 03:46:24,155] Finished a trial resulted in value: 0.20061470333209463. Current best value is 0.18457357859531776 with parameters: {'n_estimators': 399, 'gamma': 0.8943521746894877, 'lambda': 0.6101970248867601, 'learning_rate': 0.1192141873022246, 'max_depth': 12, 'subsample': 0.9217200574951616, 'colsample_bytree': 0.22507627225236979, 'min_child_weight': 0.029946137134566383}.\n"
     ]
    },
    {
     "name": "stdout",
     "output_type": "stream",
     "text": [
      "156 "
     ]
    },
    {
     "name": "stderr",
     "output_type": "stream",
     "text": [
      "[I 2019-02-10 03:46:24,587] Finished a trial resulted in value: 0.19578378545769848. Current best value is 0.18457357859531776 with parameters: {'n_estimators': 399, 'gamma': 0.8943521746894877, 'lambda': 0.6101970248867601, 'learning_rate': 0.1192141873022246, 'max_depth': 12, 'subsample': 0.9217200574951616, 'colsample_bytree': 0.22507627225236979, 'min_child_weight': 0.029946137134566383}.\n"
     ]
    },
    {
     "name": "stdout",
     "output_type": "stream",
     "text": [
      "157 "
     ]
    },
    {
     "name": "stderr",
     "output_type": "stream",
     "text": [
      "[I 2019-02-10 03:46:25,143] Finished a trial resulted in value: 0.21182491019447536. Current best value is 0.18457357859531776 with parameters: {'n_estimators': 399, 'gamma': 0.8943521746894877, 'lambda': 0.6101970248867601, 'learning_rate': 0.1192141873022246, 'max_depth': 12, 'subsample': 0.9217200574951616, 'colsample_bytree': 0.22507627225236979, 'min_child_weight': 0.029946137134566383}.\n"
     ]
    },
    {
     "name": "stdout",
     "output_type": "stream",
     "text": [
      "158 "
     ]
    },
    {
     "name": "stderr",
     "output_type": "stream",
     "text": [
      "[I 2019-02-10 03:46:25,610] Finished a trial resulted in value: 0.2182274247491639. Current best value is 0.18457357859531776 with parameters: {'n_estimators': 399, 'gamma': 0.8943521746894877, 'lambda': 0.6101970248867601, 'learning_rate': 0.1192141873022246, 'max_depth': 12, 'subsample': 0.9217200574951616, 'colsample_bytree': 0.22507627225236979, 'min_child_weight': 0.029946137134566383}.\n"
     ]
    },
    {
     "name": "stdout",
     "output_type": "stream",
     "text": [
      "159 "
     ]
    },
    {
     "name": "stderr",
     "output_type": "stream",
     "text": [
      "[I 2019-02-10 03:46:25,951] Finished a trial resulted in value: 0.25193546389198573. Current best value is 0.18457357859531776 with parameters: {'n_estimators': 399, 'gamma': 0.8943521746894877, 'lambda': 0.6101970248867601, 'learning_rate': 0.1192141873022246, 'max_depth': 12, 'subsample': 0.9217200574951616, 'colsample_bytree': 0.22507627225236979, 'min_child_weight': 0.029946137134566383}.\n"
     ]
    },
    {
     "name": "stdout",
     "output_type": "stream",
     "text": [
      "160 "
     ]
    },
    {
     "name": "stderr",
     "output_type": "stream",
     "text": [
      "[I 2019-02-10 03:46:26,404] Finished a trial resulted in value: 0.20860429827821125. Current best value is 0.18457357859531776 with parameters: {'n_estimators': 399, 'gamma': 0.8943521746894877, 'lambda': 0.6101970248867601, 'learning_rate': 0.1192141873022246, 'max_depth': 12, 'subsample': 0.9217200574951616, 'colsample_bytree': 0.22507627225236979, 'min_child_weight': 0.029946137134566383}.\n"
     ]
    },
    {
     "name": "stdout",
     "output_type": "stream",
     "text": [
      "161 "
     ]
    },
    {
     "name": "stderr",
     "output_type": "stream",
     "text": [
      "[I 2019-02-10 03:46:27,441] Finished a trial resulted in value: 0.19098383500557414. Current best value is 0.18457357859531776 with parameters: {'n_estimators': 399, 'gamma': 0.8943521746894877, 'lambda': 0.6101970248867601, 'learning_rate': 0.1192141873022246, 'max_depth': 12, 'subsample': 0.9217200574951616, 'colsample_bytree': 0.22507627225236979, 'min_child_weight': 0.029946137134566383}.\n"
     ]
    },
    {
     "name": "stdout",
     "output_type": "stream",
     "text": [
      "162 "
     ]
    },
    {
     "name": "stderr",
     "output_type": "stream",
     "text": [
      "[I 2019-02-10 03:46:28,142] Finished a trial resulted in value: 0.22784280936454848. Current best value is 0.18457357859531776 with parameters: {'n_estimators': 399, 'gamma': 0.8943521746894877, 'lambda': 0.6101970248867601, 'learning_rate': 0.1192141873022246, 'max_depth': 12, 'subsample': 0.9217200574951616, 'colsample_bytree': 0.22507627225236979, 'min_child_weight': 0.029946137134566383}.\n"
     ]
    },
    {
     "name": "stdout",
     "output_type": "stream",
     "text": [
      "163 "
     ]
    },
    {
     "name": "stderr",
     "output_type": "stream",
     "text": [
      "[I 2019-02-10 03:46:28,969] Finished a trial resulted in value: 0.20221726743465884. Current best value is 0.18457357859531776 with parameters: {'n_estimators': 399, 'gamma': 0.8943521746894877, 'lambda': 0.6101970248867601, 'learning_rate': 0.1192141873022246, 'max_depth': 12, 'subsample': 0.9217200574951616, 'colsample_bytree': 0.22507627225236979, 'min_child_weight': 0.029946137134566383}.\n"
     ]
    },
    {
     "name": "stdout",
     "output_type": "stream",
     "text": [
      "164 "
     ]
    },
    {
     "name": "stderr",
     "output_type": "stream",
     "text": [
      "[I 2019-02-10 03:46:29,785] Finished a trial resulted in value: 0.1973631239935587. Current best value is 0.18457357859531776 with parameters: {'n_estimators': 399, 'gamma': 0.8943521746894877, 'lambda': 0.6101970248867601, 'learning_rate': 0.1192141873022246, 'max_depth': 12, 'subsample': 0.9217200574951616, 'colsample_bytree': 0.22507627225236979, 'min_child_weight': 0.029946137134566383}.\n"
     ]
    },
    {
     "name": "stdout",
     "output_type": "stream",
     "text": [
      "165 "
     ]
    },
    {
     "name": "stderr",
     "output_type": "stream",
     "text": [
      "[I 2019-02-10 03:46:30,432] Finished a trial resulted in value: 0.200568252198687. Current best value is 0.18457357859531776 with parameters: {'n_estimators': 399, 'gamma': 0.8943521746894877, 'lambda': 0.6101970248867601, 'learning_rate': 0.1192141873022246, 'max_depth': 12, 'subsample': 0.9217200574951616, 'colsample_bytree': 0.22507627225236979, 'min_child_weight': 0.029946137134566383}.\n"
     ]
    },
    {
     "name": "stdout",
     "output_type": "stream",
     "text": [
      "166 "
     ]
    },
    {
     "name": "stderr",
     "output_type": "stream",
     "text": [
      "[I 2019-02-10 03:46:31,305] Finished a trial resulted in value: 0.1990353647962344. Current best value is 0.18457357859531776 with parameters: {'n_estimators': 399, 'gamma': 0.8943521746894877, 'lambda': 0.6101970248867601, 'learning_rate': 0.1192141873022246, 'max_depth': 12, 'subsample': 0.9217200574951616, 'colsample_bytree': 0.22507627225236979, 'min_child_weight': 0.029946137134566383}.\n"
     ]
    },
    {
     "name": "stdout",
     "output_type": "stream",
     "text": [
      "167 "
     ]
    },
    {
     "name": "stderr",
     "output_type": "stream",
     "text": [
      "[I 2019-02-10 03:46:32,640] Finished a trial resulted in value: 0.19256317354143437. Current best value is 0.18457357859531776 with parameters: {'n_estimators': 399, 'gamma': 0.8943521746894877, 'lambda': 0.6101970248867601, 'learning_rate': 0.1192141873022246, 'max_depth': 12, 'subsample': 0.9217200574951616, 'colsample_bytree': 0.22507627225236979, 'min_child_weight': 0.029946137134566383}.\n"
     ]
    },
    {
     "name": "stdout",
     "output_type": "stream",
     "text": [
      "168 "
     ]
    },
    {
     "name": "stderr",
     "output_type": "stream",
     "text": [
      "[I 2019-02-10 03:46:34,563] Finished a trial resulted in value: 0.20865074941161899. Current best value is 0.18457357859531776 with parameters: {'n_estimators': 399, 'gamma': 0.8943521746894877, 'lambda': 0.6101970248867601, 'learning_rate': 0.1192141873022246, 'max_depth': 12, 'subsample': 0.9217200574951616, 'colsample_bytree': 0.22507627225236979, 'min_child_weight': 0.029946137134566383}.\n"
     ]
    },
    {
     "name": "stdout",
     "output_type": "stream",
     "text": [
      "169 "
     ]
    },
    {
     "name": "stderr",
     "output_type": "stream",
     "text": [
      "[I 2019-02-10 03:46:35,052] Finished a trial resulted in value: 0.2134352161526074. Current best value is 0.18457357859531776 with parameters: {'n_estimators': 399, 'gamma': 0.8943521746894877, 'lambda': 0.6101970248867601, 'learning_rate': 0.1192141873022246, 'max_depth': 12, 'subsample': 0.9217200574951616, 'colsample_bytree': 0.22507627225236979, 'min_child_weight': 0.029946137134566383}.\n"
     ]
    },
    {
     "name": "stdout",
     "output_type": "stream",
     "text": [
      "170 "
     ]
    },
    {
     "name": "stderr",
     "output_type": "stream",
     "text": [
      "[I 2019-02-10 03:46:36,345] Finished a trial resulted in value: 0.19096060943887017. Current best value is 0.18457357859531776 with parameters: {'n_estimators': 399, 'gamma': 0.8943521746894877, 'lambda': 0.6101970248867601, 'learning_rate': 0.1192141873022246, 'max_depth': 12, 'subsample': 0.9217200574951616, 'colsample_bytree': 0.22507627225236979, 'min_child_weight': 0.029946137134566383}.\n"
     ]
    },
    {
     "name": "stdout",
     "output_type": "stream",
     "text": [
      "171 "
     ]
    },
    {
     "name": "stderr",
     "output_type": "stream",
     "text": [
      "[I 2019-02-10 03:46:37,942] Finished a trial resulted in value: 0.2054456212064908. Current best value is 0.18457357859531776 with parameters: {'n_estimators': 399, 'gamma': 0.8943521746894877, 'lambda': 0.6101970248867601, 'learning_rate': 0.1192141873022246, 'max_depth': 12, 'subsample': 0.9217200574951616, 'colsample_bytree': 0.22507627225236979, 'min_child_weight': 0.029946137134566383}.\n"
     ]
    },
    {
     "name": "stdout",
     "output_type": "stream",
     "text": [
      "172 "
     ]
    },
    {
     "name": "stderr",
     "output_type": "stream",
     "text": [
      "[I 2019-02-10 03:46:39,432] Finished a trial resulted in value: 0.2022404930013626. Current best value is 0.18457357859531776 with parameters: {'n_estimators': 399, 'gamma': 0.8943521746894877, 'lambda': 0.6101970248867601, 'learning_rate': 0.1192141873022246, 'max_depth': 12, 'subsample': 0.9217200574951616, 'colsample_bytree': 0.22507627225236979, 'min_child_weight': 0.029946137134566383}.\n"
     ]
    },
    {
     "name": "stdout",
     "output_type": "stream",
     "text": [
      "173 "
     ]
    },
    {
     "name": "stderr",
     "output_type": "stream",
     "text": [
      "[I 2019-02-10 03:46:40,893] Finished a trial resulted in value: 0.20543787935092273. Current best value is 0.18457357859531776 with parameters: {'n_estimators': 399, 'gamma': 0.8943521746894877, 'lambda': 0.6101970248867601, 'learning_rate': 0.1192141873022246, 'max_depth': 12, 'subsample': 0.9217200574951616, 'colsample_bytree': 0.22507627225236979, 'min_child_weight': 0.029946137134566383}.\n"
     ]
    },
    {
     "name": "stdout",
     "output_type": "stream",
     "text": [
      "174 "
     ]
    },
    {
     "name": "stderr",
     "output_type": "stream",
     "text": [
      "[I 2019-02-10 03:46:42,630] Finished a trial resulted in value: 0.1957760436021304. Current best value is 0.18457357859531776 with parameters: {'n_estimators': 399, 'gamma': 0.8943521746894877, 'lambda': 0.6101970248867601, 'learning_rate': 0.1192141873022246, 'max_depth': 12, 'subsample': 0.9217200574951616, 'colsample_bytree': 0.22507627225236979, 'min_child_weight': 0.029946137134566383}.\n"
     ]
    },
    {
     "name": "stdout",
     "output_type": "stream",
     "text": [
      "175 "
     ]
    },
    {
     "name": "stderr",
     "output_type": "stream",
     "text": [
      "[I 2019-02-10 03:46:44,150] Finished a trial resulted in value: 0.21025331351418297. Current best value is 0.18457357859531776 with parameters: {'n_estimators': 399, 'gamma': 0.8943521746894877, 'lambda': 0.6101970248867601, 'learning_rate': 0.1192141873022246, 'max_depth': 12, 'subsample': 0.9217200574951616, 'colsample_bytree': 0.22507627225236979, 'min_child_weight': 0.029946137134566383}.\n"
     ]
    },
    {
     "name": "stdout",
     "output_type": "stream",
     "text": [
      "176 "
     ]
    },
    {
     "name": "stderr",
     "output_type": "stream",
     "text": [
      "[I 2019-02-10 03:46:45,191] Finished a trial resulted in value: 0.21506100582187537. Current best value is 0.18457357859531776 with parameters: {'n_estimators': 399, 'gamma': 0.8943521746894877, 'lambda': 0.6101970248867601, 'learning_rate': 0.1192141873022246, 'max_depth': 12, 'subsample': 0.9217200574951616, 'colsample_bytree': 0.22507627225236979, 'min_child_weight': 0.029946137134566383}.\n"
     ]
    },
    {
     "name": "stdout",
     "output_type": "stream",
     "text": [
      "177 "
     ]
    },
    {
     "name": "stderr",
     "output_type": "stream",
     "text": [
      "[I 2019-02-10 03:46:46,632] Finished a trial resulted in value: 0.19740183327139837. Current best value is 0.18457357859531776 with parameters: {'n_estimators': 399, 'gamma': 0.8943521746894877, 'lambda': 0.6101970248867601, 'learning_rate': 0.1192141873022246, 'max_depth': 12, 'subsample': 0.9217200574951616, 'colsample_bytree': 0.22507627225236979, 'min_child_weight': 0.029946137134566383}.\n"
     ]
    },
    {
     "name": "stdout",
     "output_type": "stream",
     "text": [
      "178 "
     ]
    },
    {
     "name": "stderr",
     "output_type": "stream",
     "text": [
      "[I 2019-02-10 03:46:48,005] Finished a trial resulted in value: 0.2006069614765268. Current best value is 0.18457357859531776 with parameters: {'n_estimators': 399, 'gamma': 0.8943521746894877, 'lambda': 0.6101970248867601, 'learning_rate': 0.1192141873022246, 'max_depth': 12, 'subsample': 0.9217200574951616, 'colsample_bytree': 0.22507627225236979, 'min_child_weight': 0.029946137134566383}.\n"
     ]
    },
    {
     "name": "stdout",
     "output_type": "stream",
     "text": [
      "179 "
     ]
    },
    {
     "name": "stderr",
     "output_type": "stream",
     "text": [
      "[I 2019-02-10 03:46:49,045] Finished a trial resulted in value: 0.19096060943887017. Current best value is 0.18457357859531776 with parameters: {'n_estimators': 399, 'gamma': 0.8943521746894877, 'lambda': 0.6101970248867601, 'learning_rate': 0.1192141873022246, 'max_depth': 12, 'subsample': 0.9217200574951616, 'colsample_bytree': 0.22507627225236979, 'min_child_weight': 0.029946137134566383}.\n"
     ]
    },
    {
     "name": "stdout",
     "output_type": "stream",
     "text": [
      "180 "
     ]
    },
    {
     "name": "stderr",
     "output_type": "stream",
     "text": [
      "[I 2019-02-10 03:46:50,380] Finished a trial resulted in value: 0.20378112225938316. Current best value is 0.18457357859531776 with parameters: {'n_estimators': 399, 'gamma': 0.8943521746894877, 'lambda': 0.6101970248867601, 'learning_rate': 0.1192141873022246, 'max_depth': 12, 'subsample': 0.9217200574951616, 'colsample_bytree': 0.22507627225236979, 'min_child_weight': 0.029946137134566383}.\n"
     ]
    },
    {
     "name": "stdout",
     "output_type": "stream",
     "text": [
      "181 "
     ]
    },
    {
     "name": "stderr",
     "output_type": "stream",
     "text": [
      "[I 2019-02-10 03:46:51,323] Finished a trial resulted in value: 0.19579152731326632. Current best value is 0.18457357859531776 with parameters: {'n_estimators': 399, 'gamma': 0.8943521746894877, 'lambda': 0.6101970248867601, 'learning_rate': 0.1192141873022246, 'max_depth': 12, 'subsample': 0.9217200574951616, 'colsample_bytree': 0.22507627225236979, 'min_child_weight': 0.029946137134566383}.\n"
     ]
    },
    {
     "name": "stdout",
     "output_type": "stream",
     "text": [
      "182 "
     ]
    },
    {
     "name": "stderr",
     "output_type": "stream",
     "text": [
      "[I 2019-02-10 03:46:52,377] Finished a trial resulted in value: 0.19901213922953043. Current best value is 0.18457357859531776 with parameters: {'n_estimators': 399, 'gamma': 0.8943521746894877, 'lambda': 0.6101970248867601, 'learning_rate': 0.1192141873022246, 'max_depth': 12, 'subsample': 0.9217200574951616, 'colsample_bytree': 0.22507627225236979, 'min_child_weight': 0.029946137134566383}.\n"
     ]
    },
    {
     "name": "stdout",
     "output_type": "stream",
     "text": [
      "183 "
     ]
    },
    {
     "name": "stderr",
     "output_type": "stream",
     "text": [
      "[I 2019-02-10 03:46:53,775] Finished a trial resulted in value: 0.21507648953301128. Current best value is 0.18457357859531776 with parameters: {'n_estimators': 399, 'gamma': 0.8943521746894877, 'lambda': 0.6101970248867601, 'learning_rate': 0.1192141873022246, 'max_depth': 12, 'subsample': 0.9217200574951616, 'colsample_bytree': 0.22507627225236979, 'min_child_weight': 0.029946137134566383}.\n"
     ]
    },
    {
     "name": "stdout",
     "output_type": "stream",
     "text": [
      "184 "
     ]
    },
    {
     "name": "stderr",
     "output_type": "stream",
     "text": [
      "[I 2019-02-10 03:46:55,022] Finished a trial resulted in value: 0.20218630001238702. Current best value is 0.18457357859531776 with parameters: {'n_estimators': 399, 'gamma': 0.8943521746894877, 'lambda': 0.6101970248867601, 'learning_rate': 0.1192141873022246, 'max_depth': 12, 'subsample': 0.9217200574951616, 'colsample_bytree': 0.22507627225236979, 'min_child_weight': 0.029946137134566383}.\n"
     ]
    },
    {
     "name": "stdout",
     "output_type": "stream",
     "text": [
      "185 "
     ]
    },
    {
     "name": "stderr",
     "output_type": "stream",
     "text": [
      "[I 2019-02-10 03:46:56,147] Finished a trial resulted in value: 0.20063018704323055. Current best value is 0.18457357859531776 with parameters: {'n_estimators': 399, 'gamma': 0.8943521746894877, 'lambda': 0.6101970248867601, 'learning_rate': 0.1192141873022246, 'max_depth': 12, 'subsample': 0.9217200574951616, 'colsample_bytree': 0.22507627225236979, 'min_child_weight': 0.029946137134566383}.\n"
     ]
    },
    {
     "name": "stdout",
     "output_type": "stream",
     "text": [
      "186 "
     ]
    },
    {
     "name": "stderr",
     "output_type": "stream",
     "text": [
      "[I 2019-02-10 03:46:57,576] Finished a trial resulted in value: 0.2070636690201907. Current best value is 0.18457357859531776 with parameters: {'n_estimators': 399, 'gamma': 0.8943521746894877, 'lambda': 0.6101970248867601, 'learning_rate': 0.1192141873022246, 'max_depth': 12, 'subsample': 0.9217200574951616, 'colsample_bytree': 0.22507627225236979, 'min_child_weight': 0.029946137134566383}.\n"
     ]
    },
    {
     "name": "stdout",
     "output_type": "stream",
     "text": [
      "187 "
     ]
    },
    {
     "name": "stderr",
     "output_type": "stream",
     "text": [
      "[I 2019-02-10 03:46:58,630] Finished a trial resulted in value: 0.22632540567323167. Current best value is 0.18457357859531776 with parameters: {'n_estimators': 399, 'gamma': 0.8943521746894877, 'lambda': 0.6101970248867601, 'learning_rate': 0.1192141873022246, 'max_depth': 12, 'subsample': 0.9217200574951616, 'colsample_bytree': 0.22507627225236979, 'min_child_weight': 0.029946137134566383}.\n"
     ]
    },
    {
     "name": "stdout",
     "output_type": "stream",
     "text": [
      "188 "
     ]
    },
    {
     "name": "stderr",
     "output_type": "stream",
     "text": [
      "[I 2019-02-10 03:46:59,369] Finished a trial resulted in value: 0.21023782980304728. Current best value is 0.18457357859531776 with parameters: {'n_estimators': 399, 'gamma': 0.8943521746894877, 'lambda': 0.6101970248867601, 'learning_rate': 0.1192141873022246, 'max_depth': 12, 'subsample': 0.9217200574951616, 'colsample_bytree': 0.22507627225236979, 'min_child_weight': 0.029946137134566383}.\n"
     ]
    },
    {
     "name": "stdout",
     "output_type": "stream",
     "text": [
      "189 "
     ]
    },
    {
     "name": "stderr",
     "output_type": "stream",
     "text": [
      "[I 2019-02-10 03:47:00,783] Finished a trial resulted in value: 0.20061470333209463. Current best value is 0.18457357859531776 with parameters: {'n_estimators': 399, 'gamma': 0.8943521746894877, 'lambda': 0.6101970248867601, 'learning_rate': 0.1192141873022246, 'max_depth': 12, 'subsample': 0.9217200574951616, 'colsample_bytree': 0.22507627225236979, 'min_child_weight': 0.029946137134566383}.\n"
     ]
    },
    {
     "name": "stdout",
     "output_type": "stream",
     "text": [
      "190 "
     ]
    },
    {
     "name": "stderr",
     "output_type": "stream",
     "text": [
      "[I 2019-02-10 03:47:02,334] Finished a trial resulted in value: 0.21508423138857913. Current best value is 0.18457357859531776 with parameters: {'n_estimators': 399, 'gamma': 0.8943521746894877, 'lambda': 0.6101970248867601, 'learning_rate': 0.1192141873022246, 'max_depth': 12, 'subsample': 0.9217200574951616, 'colsample_bytree': 0.22507627225236979, 'min_child_weight': 0.029946137134566383}.\n"
     ]
    },
    {
     "name": "stdout",
     "output_type": "stream",
     "text": [
      "191 "
     ]
    },
    {
     "name": "stderr",
     "output_type": "stream",
     "text": [
      "[I 2019-02-10 03:47:03,095] Finished a trial resulted in value: 0.20223275114579453. Current best value is 0.18457357859531776 with parameters: {'n_estimators': 399, 'gamma': 0.8943521746894877, 'lambda': 0.6101970248867601, 'learning_rate': 0.1192141873022246, 'max_depth': 12, 'subsample': 0.9217200574951616, 'colsample_bytree': 0.22507627225236979, 'min_child_weight': 0.029946137134566383}.\n"
     ]
    },
    {
     "name": "stdout",
     "output_type": "stream",
     "text": [
      "192 "
     ]
    },
    {
     "name": "stderr",
     "output_type": "stream",
     "text": [
      "[I 2019-02-10 03:47:04,269] Finished a trial resulted in value: 0.2054456212064908. Current best value is 0.18457357859531776 with parameters: {'n_estimators': 399, 'gamma': 0.8943521746894877, 'lambda': 0.6101970248867601, 'learning_rate': 0.1192141873022246, 'max_depth': 12, 'subsample': 0.9217200574951616, 'colsample_bytree': 0.22507627225236979, 'min_child_weight': 0.029946137134566383}.\n"
     ]
    },
    {
     "name": "stdout",
     "output_type": "stream",
     "text": [
      "193 "
     ]
    },
    {
     "name": "stderr",
     "output_type": "stream",
     "text": [
      "[I 2019-02-10 03:47:04,984] Finished a trial resulted in value: 0.19898117180725883. Current best value is 0.18457357859531776 with parameters: {'n_estimators': 399, 'gamma': 0.8943521746894877, 'lambda': 0.6101970248867601, 'learning_rate': 0.1192141873022246, 'max_depth': 12, 'subsample': 0.9217200574951616, 'colsample_bytree': 0.22507627225236979, 'min_child_weight': 0.029946137134566383}.\n"
     ]
    },
    {
     "name": "stdout",
     "output_type": "stream",
     "text": [
      "194 "
     ]
    },
    {
     "name": "stderr",
     "output_type": "stream",
     "text": [
      "[I 2019-02-10 03:47:05,964] Finished a trial resulted in value: 0.20543787935092273. Current best value is 0.18457357859531776 with parameters: {'n_estimators': 399, 'gamma': 0.8943521746894877, 'lambda': 0.6101970248867601, 'learning_rate': 0.1192141873022246, 'max_depth': 12, 'subsample': 0.9217200574951616, 'colsample_bytree': 0.22507627225236979, 'min_child_weight': 0.029946137134566383}.\n"
     ]
    },
    {
     "name": "stdout",
     "output_type": "stream",
     "text": [
      "195 "
     ]
    },
    {
     "name": "stderr",
     "output_type": "stream",
     "text": [
      "[I 2019-02-10 03:47:07,301] Finished a trial resulted in value: 0.20704044345348693. Current best value is 0.18457357859531776 with parameters: {'n_estimators': 399, 'gamma': 0.8943521746894877, 'lambda': 0.6101970248867601, 'learning_rate': 0.1192141873022246, 'max_depth': 12, 'subsample': 0.9217200574951616, 'colsample_bytree': 0.22507627225236979, 'min_child_weight': 0.029946137134566383}.\n"
     ]
    },
    {
     "name": "stdout",
     "output_type": "stream",
     "text": [
      "196 "
     ]
    },
    {
     "name": "stderr",
     "output_type": "stream",
     "text": [
      "[I 2019-02-10 03:47:08,105] Finished a trial resulted in value: 0.21185587761674718. Current best value is 0.18457357859531776 with parameters: {'n_estimators': 399, 'gamma': 0.8943521746894877, 'lambda': 0.6101970248867601, 'learning_rate': 0.1192141873022246, 'max_depth': 12, 'subsample': 0.9217200574951616, 'colsample_bytree': 0.22507627225236979, 'min_child_weight': 0.029946137134566383}.\n"
     ]
    },
    {
     "name": "stdout",
     "output_type": "stream",
     "text": [
      "197 "
     ]
    },
    {
     "name": "stderr",
     "output_type": "stream",
     "text": [
      "[I 2019-02-10 03:47:09,764] Finished a trial resulted in value: 0.21506874767744344. Current best value is 0.18457357859531776 with parameters: {'n_estimators': 399, 'gamma': 0.8943521746894877, 'lambda': 0.6101970248867601, 'learning_rate': 0.1192141873022246, 'max_depth': 12, 'subsample': 0.9217200574951616, 'colsample_bytree': 0.22507627225236979, 'min_child_weight': 0.029946137134566383}.\n"
     ]
    },
    {
     "name": "stdout",
     "output_type": "stream",
     "text": [
      "198 "
     ]
    },
    {
     "name": "stderr",
     "output_type": "stream",
     "text": [
      "[I 2019-02-10 03:47:10,902] Finished a trial resulted in value: 0.20385079895949465. Current best value is 0.18457357859531776 with parameters: {'n_estimators': 399, 'gamma': 0.8943521746894877, 'lambda': 0.6101970248867601, 'learning_rate': 0.1192141873022246, 'max_depth': 12, 'subsample': 0.9217200574951616, 'colsample_bytree': 0.22507627225236979, 'min_child_weight': 0.029946137134566383}.\n"
     ]
    },
    {
     "name": "stdout",
     "output_type": "stream",
     "text": [
      "199 "
     ]
    },
    {
     "name": "stderr",
     "output_type": "stream",
     "text": [
      "[I 2019-02-10 03:47:11,523] Finished a trial resulted in value: 0.20865074941161899. Current best value is 0.18457357859531776 with parameters: {'n_estimators': 399, 'gamma': 0.8943521746894877, 'lambda': 0.6101970248867601, 'learning_rate': 0.1192141873022246, 'max_depth': 12, 'subsample': 0.9217200574951616, 'colsample_bytree': 0.22507627225236979, 'min_child_weight': 0.029946137134566383}.\n"
     ]
    },
    {
     "name": "stdout",
     "output_type": "stream",
     "text": [
      "200 "
     ]
    },
    {
     "name": "stderr",
     "output_type": "stream",
     "text": [
      "[I 2019-02-10 03:47:12,244] Finished a trial resulted in value: 0.21182491019447536. Current best value is 0.18457357859531776 with parameters: {'n_estimators': 399, 'gamma': 0.8943521746894877, 'lambda': 0.6101970248867601, 'learning_rate': 0.1192141873022246, 'max_depth': 12, 'subsample': 0.9217200574951616, 'colsample_bytree': 0.22507627225236979, 'min_child_weight': 0.029946137134566383}.\n"
     ]
    },
    {
     "name": "stdout",
     "output_type": "stream",
     "text": [
      "201 "
     ]
    },
    {
     "name": "stderr",
     "output_type": "stream",
     "text": [
      "[I 2019-02-10 03:47:13,230] Finished a trial resulted in value: 0.2022250092902267. Current best value is 0.18457357859531776 with parameters: {'n_estimators': 399, 'gamma': 0.8943521746894877, 'lambda': 0.6101970248867601, 'learning_rate': 0.1192141873022246, 'max_depth': 12, 'subsample': 0.9217200574951616, 'colsample_bytree': 0.22507627225236979, 'min_child_weight': 0.029946137134566383}.\n"
     ]
    },
    {
     "name": "stdout",
     "output_type": "stream",
     "text": [
      "202 "
     ]
    },
    {
     "name": "stderr",
     "output_type": "stream",
     "text": [
      "[I 2019-02-10 03:47:14,590] Finished a trial resulted in value: 0.22469187414839586. Current best value is 0.18457357859531776 with parameters: {'n_estimators': 399, 'gamma': 0.8943521746894877, 'lambda': 0.6101970248867601, 'learning_rate': 0.1192141873022246, 'max_depth': 12, 'subsample': 0.9217200574951616, 'colsample_bytree': 0.22507627225236979, 'min_child_weight': 0.029946137134566383}.\n"
     ]
    },
    {
     "name": "stdout",
     "output_type": "stream",
     "text": [
      "203 "
     ]
    },
    {
     "name": "stderr",
     "output_type": "stream",
     "text": [
      "[I 2019-02-10 03:47:15,568] Finished a trial resulted in value: 0.21347392543044708. Current best value is 0.18457357859531776 with parameters: {'n_estimators': 399, 'gamma': 0.8943521746894877, 'lambda': 0.6101970248867601, 'learning_rate': 0.1192141873022246, 'max_depth': 12, 'subsample': 0.9217200574951616, 'colsample_bytree': 0.22507627225236979, 'min_child_weight': 0.029946137134566383}.\n"
     ]
    },
    {
     "name": "stdout",
     "output_type": "stream",
     "text": [
      "204 "
     ]
    },
    {
     "name": "stderr",
     "output_type": "stream",
     "text": [
      "[I 2019-02-10 03:47:16,362] Finished a trial resulted in value: 0.25195094760312153. Current best value is 0.18457357859531776 with parameters: {'n_estimators': 399, 'gamma': 0.8943521746894877, 'lambda': 0.6101970248867601, 'learning_rate': 0.1192141873022246, 'max_depth': 12, 'subsample': 0.9217200574951616, 'colsample_bytree': 0.22507627225236979, 'min_child_weight': 0.029946137134566383}.\n"
     ]
    },
    {
     "name": "stdout",
     "output_type": "stream",
     "text": [
      "205 "
     ]
    },
    {
     "name": "stderr",
     "output_type": "stream",
     "text": [
      "[I 2019-02-10 03:47:17,208] Finished a trial resulted in value: 0.194227672488542. Current best value is 0.18457357859531776 with parameters: {'n_estimators': 399, 'gamma': 0.8943521746894877, 'lambda': 0.6101970248867601, 'learning_rate': 0.1192141873022246, 'max_depth': 12, 'subsample': 0.9217200574951616, 'colsample_bytree': 0.22507627225236979, 'min_child_weight': 0.029946137134566383}.\n"
     ]
    },
    {
     "name": "stdout",
     "output_type": "stream",
     "text": [
      "206 "
     ]
    },
    {
     "name": "stderr",
     "output_type": "stream",
     "text": [
      "[I 2019-02-10 03:47:18,439] Finished a trial resulted in value: 0.2102842809364548. Current best value is 0.18457357859531776 with parameters: {'n_estimators': 399, 'gamma': 0.8943521746894877, 'lambda': 0.6101970248867601, 'learning_rate': 0.1192141873022246, 'max_depth': 12, 'subsample': 0.9217200574951616, 'colsample_bytree': 0.22507627225236979, 'min_child_weight': 0.029946137134566383}.\n"
     ]
    },
    {
     "name": "stdout",
     "output_type": "stream",
     "text": [
      "207 "
     ]
    },
    {
     "name": "stderr",
     "output_type": "stream",
     "text": [
      "[I 2019-02-10 03:47:19,290] Finished a trial resulted in value: 0.2118016846277716. Current best value is 0.18457357859531776 with parameters: {'n_estimators': 399, 'gamma': 0.8943521746894877, 'lambda': 0.6101970248867601, 'learning_rate': 0.1192141873022246, 'max_depth': 12, 'subsample': 0.9217200574951616, 'colsample_bytree': 0.22507627225236979, 'min_child_weight': 0.029946137134566383}.\n"
     ]
    },
    {
     "name": "stdout",
     "output_type": "stream",
     "text": [
      "208 "
     ]
    },
    {
     "name": "stderr",
     "output_type": "stream",
     "text": [
      "[I 2019-02-10 03:47:20,437] Finished a trial resulted in value: 0.20865074941161899. Current best value is 0.18457357859531776 with parameters: {'n_estimators': 399, 'gamma': 0.8943521746894877, 'lambda': 0.6101970248867601, 'learning_rate': 0.1192141873022246, 'max_depth': 12, 'subsample': 0.9217200574951616, 'colsample_bytree': 0.22507627225236979, 'min_child_weight': 0.029946137134566383}.\n"
     ]
    },
    {
     "name": "stdout",
     "output_type": "stream",
     "text": [
      "209 "
     ]
    },
    {
     "name": "stderr",
     "output_type": "stream",
     "text": [
      "[I 2019-02-10 03:47:21,561] Finished a trial resulted in value: 0.19740957512696644. Current best value is 0.18457357859531776 with parameters: {'n_estimators': 399, 'gamma': 0.8943521746894877, 'lambda': 0.6101970248867601, 'learning_rate': 0.1192141873022246, 'max_depth': 12, 'subsample': 0.9217200574951616, 'colsample_bytree': 0.22507627225236979, 'min_child_weight': 0.029946137134566383}.\n"
     ]
    },
    {
     "name": "stdout",
     "output_type": "stream",
     "text": [
      "210 "
     ]
    },
    {
     "name": "stderr",
     "output_type": "stream",
     "text": [
      "[I 2019-02-10 03:47:22,245] Finished a trial resulted in value: 0.20703270159791887. Current best value is 0.18457357859531776 with parameters: {'n_estimators': 399, 'gamma': 0.8943521746894877, 'lambda': 0.6101970248867601, 'learning_rate': 0.1192141873022246, 'max_depth': 12, 'subsample': 0.9217200574951616, 'colsample_bytree': 0.22507627225236979, 'min_child_weight': 0.029946137134566383}.\n"
     ]
    },
    {
     "name": "stdout",
     "output_type": "stream",
     "text": [
      "211 "
     ]
    },
    {
     "name": "stderr",
     "output_type": "stream",
     "text": [
      "[I 2019-02-10 03:47:23,142] Finished a trial resulted in value: 0.20545336306205864. Current best value is 0.18457357859531776 with parameters: {'n_estimators': 399, 'gamma': 0.8943521746894877, 'lambda': 0.6101970248867601, 'learning_rate': 0.1192141873022246, 'max_depth': 12, 'subsample': 0.9217200574951616, 'colsample_bytree': 0.22507627225236979, 'min_child_weight': 0.029946137134566383}.\n"
     ]
    },
    {
     "name": "stdout",
     "output_type": "stream",
     "text": [
      "212 "
     ]
    },
    {
     "name": "stderr",
     "output_type": "stream",
     "text": [
      "[I 2019-02-10 03:47:23,811] Finished a trial resulted in value: 0.21339650687476774. Current best value is 0.18457357859531776 with parameters: {'n_estimators': 399, 'gamma': 0.8943521746894877, 'lambda': 0.6101970248867601, 'learning_rate': 0.1192141873022246, 'max_depth': 12, 'subsample': 0.9217200574951616, 'colsample_bytree': 0.22507627225236979, 'min_child_weight': 0.029946137134566383}.\n"
     ]
    },
    {
     "name": "stdout",
     "output_type": "stream",
     "text": [
      "213 "
     ]
    },
    {
     "name": "stderr",
     "output_type": "stream",
     "text": [
      "[I 2019-02-10 03:47:24,643] Finished a trial resulted in value: 0.21184039390561127. Current best value is 0.18457357859531776 with parameters: {'n_estimators': 399, 'gamma': 0.8943521746894877, 'lambda': 0.6101970248867601, 'learning_rate': 0.1192141873022246, 'max_depth': 12, 'subsample': 0.9217200574951616, 'colsample_bytree': 0.22507627225236979, 'min_child_weight': 0.029946137134566383}.\n"
     ]
    },
    {
     "name": "stdout",
     "output_type": "stream",
     "text": [
      "214 "
     ]
    },
    {
     "ename": "KeyboardInterrupt",
     "evalue": "",
     "output_type": "error",
     "traceback": [
      "\u001b[0;31m---------------------------------------------------------------------------\u001b[0m",
      "\u001b[0;31mKeyboardInterrupt\u001b[0m                         Traceback (most recent call last)",
      "\u001b[0;32m<ipython-input-13-31fd0bfbd419>\u001b[0m in \u001b[0;36m<module>\u001b[0;34m()\u001b[0m\n\u001b[1;32m      1\u001b[0m \u001b[0mf\u001b[0m \u001b[0;34m=\u001b[0m \u001b[0mpartial\u001b[0m\u001b[0;34m(\u001b[0m\u001b[0mobjective_optuna\u001b[0m\u001b[0;34m,\u001b[0m \u001b[0mtrain\u001b[0m\u001b[0;34m,\u001b[0m \u001b[0mlabels\u001b[0m\u001b[0;34m)\u001b[0m\u001b[0;34m\u001b[0m\u001b[0m\n\u001b[1;32m      2\u001b[0m \u001b[0mstudy\u001b[0m \u001b[0;34m=\u001b[0m \u001b[0moptuna\u001b[0m\u001b[0;34m.\u001b[0m\u001b[0mcreate_study\u001b[0m\u001b[0;34m(\u001b[0m\u001b[0;34m)\u001b[0m\u001b[0;34m\u001b[0m\u001b[0m\n\u001b[0;32m----> 3\u001b[0;31m \u001b[0mstudy\u001b[0m\u001b[0;34m.\u001b[0m\u001b[0moptimize\u001b[0m\u001b[0;34m(\u001b[0m\u001b[0mf\u001b[0m\u001b[0;34m,\u001b[0m \u001b[0mn_trials\u001b[0m\u001b[0;34m=\u001b[0m\u001b[0;36m10000\u001b[0m\u001b[0;34m)\u001b[0m\u001b[0;34m\u001b[0m\u001b[0m\n\u001b[0m",
      "\u001b[0;32m~/.pyenv/versions/anaconda3-5.2.0/lib/python3.6/site-packages/optuna/study.py\u001b[0m in \u001b[0;36moptimize\u001b[0;34m(self, func, n_trials, timeout, n_jobs, catch)\u001b[0m\n\u001b[1;32m    220\u001b[0m \u001b[0;34m\u001b[0m\u001b[0m\n\u001b[1;32m    221\u001b[0m         \u001b[0;32mif\u001b[0m \u001b[0mn_jobs\u001b[0m \u001b[0;34m==\u001b[0m \u001b[0;36m1\u001b[0m\u001b[0;34m:\u001b[0m\u001b[0;34m\u001b[0m\u001b[0m\n\u001b[0;32m--> 222\u001b[0;31m             \u001b[0mself\u001b[0m\u001b[0;34m.\u001b[0m\u001b[0m_optimize_sequential\u001b[0m\u001b[0;34m(\u001b[0m\u001b[0mfunc\u001b[0m\u001b[0;34m,\u001b[0m \u001b[0mn_trials\u001b[0m\u001b[0;34m,\u001b[0m \u001b[0mtimeout\u001b[0m\u001b[0;34m,\u001b[0m \u001b[0mcatch\u001b[0m\u001b[0;34m)\u001b[0m\u001b[0;34m\u001b[0m\u001b[0m\n\u001b[0m\u001b[1;32m    223\u001b[0m         \u001b[0;32melse\u001b[0m\u001b[0;34m:\u001b[0m\u001b[0;34m\u001b[0m\u001b[0m\n\u001b[1;32m    224\u001b[0m             \u001b[0mself\u001b[0m\u001b[0;34m.\u001b[0m\u001b[0m_optimize_parallel\u001b[0m\u001b[0;34m(\u001b[0m\u001b[0mfunc\u001b[0m\u001b[0;34m,\u001b[0m \u001b[0mn_trials\u001b[0m\u001b[0;34m,\u001b[0m \u001b[0mtimeout\u001b[0m\u001b[0;34m,\u001b[0m \u001b[0mn_jobs\u001b[0m\u001b[0;34m,\u001b[0m \u001b[0mcatch\u001b[0m\u001b[0;34m)\u001b[0m\u001b[0;34m\u001b[0m\u001b[0m\n",
      "\u001b[0;32m~/.pyenv/versions/anaconda3-5.2.0/lib/python3.6/site-packages/optuna/study.py\u001b[0m in \u001b[0;36m_optimize_sequential\u001b[0;34m(self, func, n_trials, timeout, catch)\u001b[0m\n\u001b[1;32m    334\u001b[0m                     \u001b[0;32mbreak\u001b[0m\u001b[0;34m\u001b[0m\u001b[0m\n\u001b[1;32m    335\u001b[0m \u001b[0;34m\u001b[0m\u001b[0m\n\u001b[0;32m--> 336\u001b[0;31m             \u001b[0mself\u001b[0m\u001b[0;34m.\u001b[0m\u001b[0m_run_trial\u001b[0m\u001b[0;34m(\u001b[0m\u001b[0mfunc\u001b[0m\u001b[0;34m,\u001b[0m \u001b[0mcatch\u001b[0m\u001b[0;34m)\u001b[0m\u001b[0;34m\u001b[0m\u001b[0m\n\u001b[0m\u001b[1;32m    337\u001b[0m \u001b[0;34m\u001b[0m\u001b[0m\n\u001b[1;32m    338\u001b[0m     def _optimize_parallel(\n",
      "\u001b[0;32m~/.pyenv/versions/anaconda3-5.2.0/lib/python3.6/site-packages/optuna/study.py\u001b[0m in \u001b[0;36m_run_trial\u001b[0;34m(self, func, catch)\u001b[0m\n\u001b[1;32m    407\u001b[0m \u001b[0;34m\u001b[0m\u001b[0m\n\u001b[1;32m    408\u001b[0m         \u001b[0;32mtry\u001b[0m\u001b[0;34m:\u001b[0m\u001b[0;34m\u001b[0m\u001b[0m\n\u001b[0;32m--> 409\u001b[0;31m             \u001b[0mresult\u001b[0m \u001b[0;34m=\u001b[0m \u001b[0mfunc\u001b[0m\u001b[0;34m(\u001b[0m\u001b[0mtrial\u001b[0m\u001b[0;34m)\u001b[0m\u001b[0;34m\u001b[0m\u001b[0m\n\u001b[0m\u001b[1;32m    410\u001b[0m         \u001b[0;32mexcept\u001b[0m \u001b[0mstructs\u001b[0m\u001b[0;34m.\u001b[0m\u001b[0mTrialPruned\u001b[0m \u001b[0;32mas\u001b[0m \u001b[0me\u001b[0m\u001b[0;34m:\u001b[0m\u001b[0;34m\u001b[0m\u001b[0m\n\u001b[1;32m    411\u001b[0m             message = 'Setting trial status as {}. {}'.format(\n",
      "\u001b[0;32m<ipython-input-3-b9c2e952508e>\u001b[0m in \u001b[0;36mobjective_optuna\u001b[0;34m(X, y, trial)\u001b[0m\n\u001b[1;32m     22\u001b[0m \u001b[0;31m#     #3-foldクロスバリデーション\u001b[0m\u001b[0;34m\u001b[0m\u001b[0;34m\u001b[0m\u001b[0m\n\u001b[1;32m     23\u001b[0m     \u001b[0mkf\u001b[0m \u001b[0;34m=\u001b[0m \u001b[0mStratifiedKFold\u001b[0m\u001b[0;34m(\u001b[0m\u001b[0mn_splits\u001b[0m\u001b[0;34m=\u001b[0m\u001b[0;36m3\u001b[0m\u001b[0;34m,\u001b[0m \u001b[0mshuffle\u001b[0m\u001b[0;34m=\u001b[0m\u001b[0;32mTrue\u001b[0m\u001b[0;34m,\u001b[0m \u001b[0mrandom_state\u001b[0m\u001b[0;34m=\u001b[0m\u001b[0;36m2\u001b[0m\u001b[0;34m)\u001b[0m\u001b[0;34m\u001b[0m\u001b[0m\n\u001b[0;32m---> 24\u001b[0;31m     \u001b[0mscores\u001b[0m \u001b[0;34m=\u001b[0m \u001b[0mcross_validate\u001b[0m\u001b[0;34m(\u001b[0m\u001b[0mmodel\u001b[0m\u001b[0;34m,\u001b[0m \u001b[0mX\u001b[0m\u001b[0;34m=\u001b[0m\u001b[0mX\u001b[0m\u001b[0;34m,\u001b[0m \u001b[0my\u001b[0m\u001b[0;34m=\u001b[0m\u001b[0my\u001b[0m\u001b[0;34m,\u001b[0m \u001b[0mcv\u001b[0m\u001b[0;34m=\u001b[0m\u001b[0mkf\u001b[0m\u001b[0;34m,\u001b[0m \u001b[0mscoring\u001b[0m\u001b[0;34m=\u001b[0m\u001b[0;34m'accuracy'\u001b[0m\u001b[0;34m)\u001b[0m\u001b[0;34m\u001b[0m\u001b[0m\n\u001b[0m\u001b[1;32m     25\u001b[0m \u001b[0;34m\u001b[0m\u001b[0m\n\u001b[1;32m     26\u001b[0m     \u001b[0;32mreturn\u001b[0m \u001b[0;36m1.0\u001b[0m \u001b[0;34m-\u001b[0m \u001b[0mscores\u001b[0m\u001b[0;34m[\u001b[0m\u001b[0;34m'test_score'\u001b[0m\u001b[0;34m]\u001b[0m\u001b[0;34m.\u001b[0m\u001b[0mmean\u001b[0m\u001b[0;34m(\u001b[0m\u001b[0;34m)\u001b[0m\u001b[0;34m\u001b[0m\u001b[0m\n",
      "\u001b[0;32m~/.pyenv/versions/anaconda3-5.2.0/lib/python3.6/site-packages/sklearn/model_selection/_validation.py\u001b[0m in \u001b[0;36mcross_validate\u001b[0;34m(estimator, X, y, groups, scoring, cv, n_jobs, verbose, fit_params, pre_dispatch, return_train_score)\u001b[0m\n\u001b[1;32m    204\u001b[0m             \u001b[0mfit_params\u001b[0m\u001b[0;34m,\u001b[0m \u001b[0mreturn_train_score\u001b[0m\u001b[0;34m=\u001b[0m\u001b[0mreturn_train_score\u001b[0m\u001b[0;34m,\u001b[0m\u001b[0;34m\u001b[0m\u001b[0m\n\u001b[1;32m    205\u001b[0m             return_times=True)\n\u001b[0;32m--> 206\u001b[0;31m         for train, test in cv.split(X, y, groups))\n\u001b[0m\u001b[1;32m    207\u001b[0m \u001b[0;34m\u001b[0m\u001b[0m\n\u001b[1;32m    208\u001b[0m     \u001b[0;32mif\u001b[0m \u001b[0mreturn_train_score\u001b[0m\u001b[0;34m:\u001b[0m\u001b[0;34m\u001b[0m\u001b[0m\n",
      "\u001b[0;32m~/.pyenv/versions/anaconda3-5.2.0/lib/python3.6/site-packages/sklearn/externals/joblib/parallel.py\u001b[0m in \u001b[0;36m__call__\u001b[0;34m(self, iterable)\u001b[0m\n\u001b[1;32m    777\u001b[0m             \u001b[0;31m# was dispatched. In particular this covers the edge\u001b[0m\u001b[0;34m\u001b[0m\u001b[0;34m\u001b[0m\u001b[0m\n\u001b[1;32m    778\u001b[0m             \u001b[0;31m# case of Parallel used with an exhausted iterator.\u001b[0m\u001b[0;34m\u001b[0m\u001b[0;34m\u001b[0m\u001b[0m\n\u001b[0;32m--> 779\u001b[0;31m             \u001b[0;32mwhile\u001b[0m \u001b[0mself\u001b[0m\u001b[0;34m.\u001b[0m\u001b[0mdispatch_one_batch\u001b[0m\u001b[0;34m(\u001b[0m\u001b[0miterator\u001b[0m\u001b[0;34m)\u001b[0m\u001b[0;34m:\u001b[0m\u001b[0;34m\u001b[0m\u001b[0m\n\u001b[0m\u001b[1;32m    780\u001b[0m                 \u001b[0mself\u001b[0m\u001b[0;34m.\u001b[0m\u001b[0m_iterating\u001b[0m \u001b[0;34m=\u001b[0m \u001b[0;32mTrue\u001b[0m\u001b[0;34m\u001b[0m\u001b[0m\n\u001b[1;32m    781\u001b[0m             \u001b[0;32melse\u001b[0m\u001b[0;34m:\u001b[0m\u001b[0;34m\u001b[0m\u001b[0m\n",
      "\u001b[0;32m~/.pyenv/versions/anaconda3-5.2.0/lib/python3.6/site-packages/sklearn/externals/joblib/parallel.py\u001b[0m in \u001b[0;36mdispatch_one_batch\u001b[0;34m(self, iterator)\u001b[0m\n\u001b[1;32m    623\u001b[0m                 \u001b[0;32mreturn\u001b[0m \u001b[0;32mFalse\u001b[0m\u001b[0;34m\u001b[0m\u001b[0m\n\u001b[1;32m    624\u001b[0m             \u001b[0;32melse\u001b[0m\u001b[0;34m:\u001b[0m\u001b[0;34m\u001b[0m\u001b[0m\n\u001b[0;32m--> 625\u001b[0;31m                 \u001b[0mself\u001b[0m\u001b[0;34m.\u001b[0m\u001b[0m_dispatch\u001b[0m\u001b[0;34m(\u001b[0m\u001b[0mtasks\u001b[0m\u001b[0;34m)\u001b[0m\u001b[0;34m\u001b[0m\u001b[0m\n\u001b[0m\u001b[1;32m    626\u001b[0m                 \u001b[0;32mreturn\u001b[0m \u001b[0;32mTrue\u001b[0m\u001b[0;34m\u001b[0m\u001b[0m\n\u001b[1;32m    627\u001b[0m \u001b[0;34m\u001b[0m\u001b[0m\n",
      "\u001b[0;32m~/.pyenv/versions/anaconda3-5.2.0/lib/python3.6/site-packages/sklearn/externals/joblib/parallel.py\u001b[0m in \u001b[0;36m_dispatch\u001b[0;34m(self, batch)\u001b[0m\n\u001b[1;32m    586\u001b[0m         \u001b[0mdispatch_timestamp\u001b[0m \u001b[0;34m=\u001b[0m \u001b[0mtime\u001b[0m\u001b[0;34m.\u001b[0m\u001b[0mtime\u001b[0m\u001b[0;34m(\u001b[0m\u001b[0;34m)\u001b[0m\u001b[0;34m\u001b[0m\u001b[0m\n\u001b[1;32m    587\u001b[0m         \u001b[0mcb\u001b[0m \u001b[0;34m=\u001b[0m \u001b[0mBatchCompletionCallBack\u001b[0m\u001b[0;34m(\u001b[0m\u001b[0mdispatch_timestamp\u001b[0m\u001b[0;34m,\u001b[0m \u001b[0mlen\u001b[0m\u001b[0;34m(\u001b[0m\u001b[0mbatch\u001b[0m\u001b[0;34m)\u001b[0m\u001b[0;34m,\u001b[0m \u001b[0mself\u001b[0m\u001b[0;34m)\u001b[0m\u001b[0;34m\u001b[0m\u001b[0m\n\u001b[0;32m--> 588\u001b[0;31m         \u001b[0mjob\u001b[0m \u001b[0;34m=\u001b[0m \u001b[0mself\u001b[0m\u001b[0;34m.\u001b[0m\u001b[0m_backend\u001b[0m\u001b[0;34m.\u001b[0m\u001b[0mapply_async\u001b[0m\u001b[0;34m(\u001b[0m\u001b[0mbatch\u001b[0m\u001b[0;34m,\u001b[0m \u001b[0mcallback\u001b[0m\u001b[0;34m=\u001b[0m\u001b[0mcb\u001b[0m\u001b[0;34m)\u001b[0m\u001b[0;34m\u001b[0m\u001b[0m\n\u001b[0m\u001b[1;32m    589\u001b[0m         \u001b[0mself\u001b[0m\u001b[0;34m.\u001b[0m\u001b[0m_jobs\u001b[0m\u001b[0;34m.\u001b[0m\u001b[0mappend\u001b[0m\u001b[0;34m(\u001b[0m\u001b[0mjob\u001b[0m\u001b[0;34m)\u001b[0m\u001b[0;34m\u001b[0m\u001b[0m\n\u001b[1;32m    590\u001b[0m \u001b[0;34m\u001b[0m\u001b[0m\n",
      "\u001b[0;32m~/.pyenv/versions/anaconda3-5.2.0/lib/python3.6/site-packages/sklearn/externals/joblib/_parallel_backends.py\u001b[0m in \u001b[0;36mapply_async\u001b[0;34m(self, func, callback)\u001b[0m\n\u001b[1;32m    109\u001b[0m     \u001b[0;32mdef\u001b[0m \u001b[0mapply_async\u001b[0m\u001b[0;34m(\u001b[0m\u001b[0mself\u001b[0m\u001b[0;34m,\u001b[0m \u001b[0mfunc\u001b[0m\u001b[0;34m,\u001b[0m \u001b[0mcallback\u001b[0m\u001b[0;34m=\u001b[0m\u001b[0;32mNone\u001b[0m\u001b[0;34m)\u001b[0m\u001b[0;34m:\u001b[0m\u001b[0;34m\u001b[0m\u001b[0m\n\u001b[1;32m    110\u001b[0m         \u001b[0;34m\"\"\"Schedule a func to be run\"\"\"\u001b[0m\u001b[0;34m\u001b[0m\u001b[0m\n\u001b[0;32m--> 111\u001b[0;31m         \u001b[0mresult\u001b[0m \u001b[0;34m=\u001b[0m \u001b[0mImmediateResult\u001b[0m\u001b[0;34m(\u001b[0m\u001b[0mfunc\u001b[0m\u001b[0;34m)\u001b[0m\u001b[0;34m\u001b[0m\u001b[0m\n\u001b[0m\u001b[1;32m    112\u001b[0m         \u001b[0;32mif\u001b[0m \u001b[0mcallback\u001b[0m\u001b[0;34m:\u001b[0m\u001b[0;34m\u001b[0m\u001b[0m\n\u001b[1;32m    113\u001b[0m             \u001b[0mcallback\u001b[0m\u001b[0;34m(\u001b[0m\u001b[0mresult\u001b[0m\u001b[0;34m)\u001b[0m\u001b[0;34m\u001b[0m\u001b[0m\n",
      "\u001b[0;32m~/.pyenv/versions/anaconda3-5.2.0/lib/python3.6/site-packages/sklearn/externals/joblib/_parallel_backends.py\u001b[0m in \u001b[0;36m__init__\u001b[0;34m(self, batch)\u001b[0m\n\u001b[1;32m    330\u001b[0m         \u001b[0;31m# Don't delay the application, to avoid keeping the input\u001b[0m\u001b[0;34m\u001b[0m\u001b[0;34m\u001b[0m\u001b[0m\n\u001b[1;32m    331\u001b[0m         \u001b[0;31m# arguments in memory\u001b[0m\u001b[0;34m\u001b[0m\u001b[0;34m\u001b[0m\u001b[0m\n\u001b[0;32m--> 332\u001b[0;31m         \u001b[0mself\u001b[0m\u001b[0;34m.\u001b[0m\u001b[0mresults\u001b[0m \u001b[0;34m=\u001b[0m \u001b[0mbatch\u001b[0m\u001b[0;34m(\u001b[0m\u001b[0;34m)\u001b[0m\u001b[0;34m\u001b[0m\u001b[0m\n\u001b[0m\u001b[1;32m    333\u001b[0m \u001b[0;34m\u001b[0m\u001b[0m\n\u001b[1;32m    334\u001b[0m     \u001b[0;32mdef\u001b[0m \u001b[0mget\u001b[0m\u001b[0;34m(\u001b[0m\u001b[0mself\u001b[0m\u001b[0;34m)\u001b[0m\u001b[0;34m:\u001b[0m\u001b[0;34m\u001b[0m\u001b[0m\n",
      "\u001b[0;32m~/.pyenv/versions/anaconda3-5.2.0/lib/python3.6/site-packages/sklearn/externals/joblib/parallel.py\u001b[0m in \u001b[0;36m__call__\u001b[0;34m(self)\u001b[0m\n\u001b[1;32m    129\u001b[0m \u001b[0;34m\u001b[0m\u001b[0m\n\u001b[1;32m    130\u001b[0m     \u001b[0;32mdef\u001b[0m \u001b[0m__call__\u001b[0m\u001b[0;34m(\u001b[0m\u001b[0mself\u001b[0m\u001b[0;34m)\u001b[0m\u001b[0;34m:\u001b[0m\u001b[0;34m\u001b[0m\u001b[0m\n\u001b[0;32m--> 131\u001b[0;31m         \u001b[0;32mreturn\u001b[0m \u001b[0;34m[\u001b[0m\u001b[0mfunc\u001b[0m\u001b[0;34m(\u001b[0m\u001b[0;34m*\u001b[0m\u001b[0margs\u001b[0m\u001b[0;34m,\u001b[0m \u001b[0;34m**\u001b[0m\u001b[0mkwargs\u001b[0m\u001b[0;34m)\u001b[0m \u001b[0;32mfor\u001b[0m \u001b[0mfunc\u001b[0m\u001b[0;34m,\u001b[0m \u001b[0margs\u001b[0m\u001b[0;34m,\u001b[0m \u001b[0mkwargs\u001b[0m \u001b[0;32min\u001b[0m \u001b[0mself\u001b[0m\u001b[0;34m.\u001b[0m\u001b[0mitems\u001b[0m\u001b[0;34m]\u001b[0m\u001b[0;34m\u001b[0m\u001b[0m\n\u001b[0m\u001b[1;32m    132\u001b[0m \u001b[0;34m\u001b[0m\u001b[0m\n\u001b[1;32m    133\u001b[0m     \u001b[0;32mdef\u001b[0m \u001b[0m__len__\u001b[0m\u001b[0;34m(\u001b[0m\u001b[0mself\u001b[0m\u001b[0;34m)\u001b[0m\u001b[0;34m:\u001b[0m\u001b[0;34m\u001b[0m\u001b[0m\n",
      "\u001b[0;32m~/.pyenv/versions/anaconda3-5.2.0/lib/python3.6/site-packages/sklearn/externals/joblib/parallel.py\u001b[0m in \u001b[0;36m<listcomp>\u001b[0;34m(.0)\u001b[0m\n\u001b[1;32m    129\u001b[0m \u001b[0;34m\u001b[0m\u001b[0m\n\u001b[1;32m    130\u001b[0m     \u001b[0;32mdef\u001b[0m \u001b[0m__call__\u001b[0m\u001b[0;34m(\u001b[0m\u001b[0mself\u001b[0m\u001b[0;34m)\u001b[0m\u001b[0;34m:\u001b[0m\u001b[0;34m\u001b[0m\u001b[0m\n\u001b[0;32m--> 131\u001b[0;31m         \u001b[0;32mreturn\u001b[0m \u001b[0;34m[\u001b[0m\u001b[0mfunc\u001b[0m\u001b[0;34m(\u001b[0m\u001b[0;34m*\u001b[0m\u001b[0margs\u001b[0m\u001b[0;34m,\u001b[0m \u001b[0;34m**\u001b[0m\u001b[0mkwargs\u001b[0m\u001b[0;34m)\u001b[0m \u001b[0;32mfor\u001b[0m \u001b[0mfunc\u001b[0m\u001b[0;34m,\u001b[0m \u001b[0margs\u001b[0m\u001b[0;34m,\u001b[0m \u001b[0mkwargs\u001b[0m \u001b[0;32min\u001b[0m \u001b[0mself\u001b[0m\u001b[0;34m.\u001b[0m\u001b[0mitems\u001b[0m\u001b[0;34m]\u001b[0m\u001b[0;34m\u001b[0m\u001b[0m\n\u001b[0m\u001b[1;32m    132\u001b[0m \u001b[0;34m\u001b[0m\u001b[0m\n\u001b[1;32m    133\u001b[0m     \u001b[0;32mdef\u001b[0m \u001b[0m__len__\u001b[0m\u001b[0;34m(\u001b[0m\u001b[0mself\u001b[0m\u001b[0;34m)\u001b[0m\u001b[0;34m:\u001b[0m\u001b[0;34m\u001b[0m\u001b[0m\n",
      "\u001b[0;32m~/.pyenv/versions/anaconda3-5.2.0/lib/python3.6/site-packages/sklearn/model_selection/_validation.py\u001b[0m in \u001b[0;36m_fit_and_score\u001b[0;34m(estimator, X, y, scorer, train, test, verbose, parameters, fit_params, return_train_score, return_parameters, return_n_test_samples, return_times, error_score)\u001b[0m\n\u001b[1;32m    456\u001b[0m             \u001b[0mestimator\u001b[0m\u001b[0;34m.\u001b[0m\u001b[0mfit\u001b[0m\u001b[0;34m(\u001b[0m\u001b[0mX_train\u001b[0m\u001b[0;34m,\u001b[0m \u001b[0;34m**\u001b[0m\u001b[0mfit_params\u001b[0m\u001b[0;34m)\u001b[0m\u001b[0;34m\u001b[0m\u001b[0m\n\u001b[1;32m    457\u001b[0m         \u001b[0;32melse\u001b[0m\u001b[0;34m:\u001b[0m\u001b[0;34m\u001b[0m\u001b[0m\n\u001b[0;32m--> 458\u001b[0;31m             \u001b[0mestimator\u001b[0m\u001b[0;34m.\u001b[0m\u001b[0mfit\u001b[0m\u001b[0;34m(\u001b[0m\u001b[0mX_train\u001b[0m\u001b[0;34m,\u001b[0m \u001b[0my_train\u001b[0m\u001b[0;34m,\u001b[0m \u001b[0;34m**\u001b[0m\u001b[0mfit_params\u001b[0m\u001b[0;34m)\u001b[0m\u001b[0;34m\u001b[0m\u001b[0m\n\u001b[0m\u001b[1;32m    459\u001b[0m \u001b[0;34m\u001b[0m\u001b[0m\n\u001b[1;32m    460\u001b[0m     \u001b[0;32mexcept\u001b[0m \u001b[0mException\u001b[0m \u001b[0;32mas\u001b[0m \u001b[0me\u001b[0m\u001b[0;34m:\u001b[0m\u001b[0;34m\u001b[0m\u001b[0m\n",
      "\u001b[0;32m~/.pyenv/versions/anaconda3-5.2.0/lib/python3.6/site-packages/xgboost/sklearn.py\u001b[0m in \u001b[0;36mfit\u001b[0;34m(self, X, y, sample_weight, eval_set, eval_metric, early_stopping_rounds, verbose, xgb_model, sample_weight_eval_set, callbacks)\u001b[0m\n\u001b[1;32m    698\u001b[0m                               \u001b[0mevals_result\u001b[0m\u001b[0;34m=\u001b[0m\u001b[0mevals_result\u001b[0m\u001b[0;34m,\u001b[0m \u001b[0mobj\u001b[0m\u001b[0;34m=\u001b[0m\u001b[0mobj\u001b[0m\u001b[0;34m,\u001b[0m \u001b[0mfeval\u001b[0m\u001b[0;34m=\u001b[0m\u001b[0mfeval\u001b[0m\u001b[0;34m,\u001b[0m\u001b[0;34m\u001b[0m\u001b[0m\n\u001b[1;32m    699\u001b[0m                               \u001b[0mverbose_eval\u001b[0m\u001b[0;34m=\u001b[0m\u001b[0mverbose\u001b[0m\u001b[0;34m,\u001b[0m \u001b[0mxgb_model\u001b[0m\u001b[0;34m=\u001b[0m\u001b[0;32mNone\u001b[0m\u001b[0;34m,\u001b[0m\u001b[0;34m\u001b[0m\u001b[0m\n\u001b[0;32m--> 700\u001b[0;31m                               callbacks=callbacks)\n\u001b[0m\u001b[1;32m    701\u001b[0m \u001b[0;34m\u001b[0m\u001b[0m\n\u001b[1;32m    702\u001b[0m         \u001b[0mself\u001b[0m\u001b[0;34m.\u001b[0m\u001b[0mobjective\u001b[0m \u001b[0;34m=\u001b[0m \u001b[0mxgb_options\u001b[0m\u001b[0;34m[\u001b[0m\u001b[0;34m\"objective\"\u001b[0m\u001b[0;34m]\u001b[0m\u001b[0;34m\u001b[0m\u001b[0m\n",
      "\u001b[0;32m~/.pyenv/versions/anaconda3-5.2.0/lib/python3.6/site-packages/xgboost/training.py\u001b[0m in \u001b[0;36mtrain\u001b[0;34m(params, dtrain, num_boost_round, evals, obj, feval, maximize, early_stopping_rounds, evals_result, verbose_eval, xgb_model, callbacks, learning_rates)\u001b[0m\n\u001b[1;32m    214\u001b[0m                            \u001b[0mevals\u001b[0m\u001b[0;34m=\u001b[0m\u001b[0mevals\u001b[0m\u001b[0;34m,\u001b[0m\u001b[0;34m\u001b[0m\u001b[0m\n\u001b[1;32m    215\u001b[0m                            \u001b[0mobj\u001b[0m\u001b[0;34m=\u001b[0m\u001b[0mobj\u001b[0m\u001b[0;34m,\u001b[0m \u001b[0mfeval\u001b[0m\u001b[0;34m=\u001b[0m\u001b[0mfeval\u001b[0m\u001b[0;34m,\u001b[0m\u001b[0;34m\u001b[0m\u001b[0m\n\u001b[0;32m--> 216\u001b[0;31m                            xgb_model=xgb_model, callbacks=callbacks)\n\u001b[0m\u001b[1;32m    217\u001b[0m \u001b[0;34m\u001b[0m\u001b[0m\n\u001b[1;32m    218\u001b[0m \u001b[0;34m\u001b[0m\u001b[0m\n",
      "\u001b[0;32m~/.pyenv/versions/anaconda3-5.2.0/lib/python3.6/site-packages/xgboost/training.py\u001b[0m in \u001b[0;36m_train_internal\u001b[0;34m(params, dtrain, num_boost_round, evals, obj, feval, xgb_model, callbacks)\u001b[0m\n\u001b[1;32m     72\u001b[0m         \u001b[0;31m# Skip the first update if it is a recovery step.\u001b[0m\u001b[0;34m\u001b[0m\u001b[0;34m\u001b[0m\u001b[0m\n\u001b[1;32m     73\u001b[0m         \u001b[0;32mif\u001b[0m \u001b[0mversion\u001b[0m \u001b[0;34m%\u001b[0m \u001b[0;36m2\u001b[0m \u001b[0;34m==\u001b[0m \u001b[0;36m0\u001b[0m\u001b[0;34m:\u001b[0m\u001b[0;34m\u001b[0m\u001b[0m\n\u001b[0;32m---> 74\u001b[0;31m             \u001b[0mbst\u001b[0m\u001b[0;34m.\u001b[0m\u001b[0mupdate\u001b[0m\u001b[0;34m(\u001b[0m\u001b[0mdtrain\u001b[0m\u001b[0;34m,\u001b[0m \u001b[0mi\u001b[0m\u001b[0;34m,\u001b[0m \u001b[0mobj\u001b[0m\u001b[0;34m)\u001b[0m\u001b[0;34m\u001b[0m\u001b[0m\n\u001b[0m\u001b[1;32m     75\u001b[0m             \u001b[0mbst\u001b[0m\u001b[0;34m.\u001b[0m\u001b[0msave_rabit_checkpoint\u001b[0m\u001b[0;34m(\u001b[0m\u001b[0;34m)\u001b[0m\u001b[0;34m\u001b[0m\u001b[0m\n\u001b[1;32m     76\u001b[0m             \u001b[0mversion\u001b[0m \u001b[0;34m+=\u001b[0m \u001b[0;36m1\u001b[0m\u001b[0;34m\u001b[0m\u001b[0m\n",
      "\u001b[0;32m~/.pyenv/versions/anaconda3-5.2.0/lib/python3.6/site-packages/xgboost/core.py\u001b[0m in \u001b[0;36mupdate\u001b[0;34m(self, dtrain, iteration, fobj)\u001b[0m\n\u001b[1;32m   1043\u001b[0m         \u001b[0;32mif\u001b[0m \u001b[0mfobj\u001b[0m \u001b[0;32mis\u001b[0m \u001b[0;32mNone\u001b[0m\u001b[0;34m:\u001b[0m\u001b[0;34m\u001b[0m\u001b[0m\n\u001b[1;32m   1044\u001b[0m             _check_call(_LIB.XGBoosterUpdateOneIter(self.handle, ctypes.c_int(iteration),\n\u001b[0;32m-> 1045\u001b[0;31m                                                     dtrain.handle))\n\u001b[0m\u001b[1;32m   1046\u001b[0m         \u001b[0;32melse\u001b[0m\u001b[0;34m:\u001b[0m\u001b[0;34m\u001b[0m\u001b[0m\n\u001b[1;32m   1047\u001b[0m             \u001b[0mpred\u001b[0m \u001b[0;34m=\u001b[0m \u001b[0mself\u001b[0m\u001b[0;34m.\u001b[0m\u001b[0mpredict\u001b[0m\u001b[0;34m(\u001b[0m\u001b[0mdtrain\u001b[0m\u001b[0;34m)\u001b[0m\u001b[0;34m\u001b[0m\u001b[0m\n",
      "\u001b[0;31mKeyboardInterrupt\u001b[0m: "
     ]
    }
   ],
   "source": [
    "f = partial(objective_optuna, train, labels)\n",
    "study = optuna.create_study()\n",
    "study.optimize(f, n_trials=10000)"
   ]
  },
  {
   "cell_type": "code",
   "execution_count": 14,
   "metadata": {},
   "outputs": [],
   "source": [
    "# train a xgboost classifier\n",
    "# params = {\"num_class\": 2}\n",
    "# train_xgb = xgb.DMatrix(train, labels)\n",
    "# test_xgb  = xgb.DMatrix(test)\n",
    "# trainRound = 100\n",
    "# gbm = xgb.train(params, train_xgb, trainRound)\n",
    "# pred = gbm.predict(test_xgb)\n",
    "# pred = pred.astype('int')"
   ]
  },
  {
   "cell_type": "code",
   "execution_count": 36,
   "metadata": {},
   "outputs": [
    {
     "data": {
      "text/plain": [
       "{'n_estimators': 399,\n",
       " 'gamma': 0.8943521746894877,\n",
       " 'lambda': 0.6101970248867601,\n",
       " 'learning_rate': 0.1192141873022246,\n",
       " 'max_depth': 12,\n",
       " 'subsample': 0.9217200574951616,\n",
       " 'colsample_bytree': 0.22507627225236979,\n",
       " 'min_child_weight': 0.029946137134566383}"
      ]
     },
     "execution_count": 36,
     "metadata": {},
     "output_type": "execute_result"
    }
   ],
   "source": [
    "study.best_params"
   ]
  },
  {
   "cell_type": "code",
   "execution_count": 60,
   "metadata": {},
   "outputs": [
    {
     "data": {
      "text/plain": [
       "0.817162637612076"
      ]
     },
     "execution_count": 60,
     "metadata": {},
     "output_type": "execute_result"
    }
   ],
   "source": [
    "kf = StratifiedKFold(n_splits=10, shuffle=True,)\n",
    "scores = cross_validate(model, X=train, y=labels, cv=kf, scoring='accuracy')\n",
    "scores['test_score'].mean()"
   ]
  },
  {
   "cell_type": "code",
   "execution_count": 46,
   "metadata": {},
   "outputs": [],
   "source": [
    "#最適化するパラメータを設定\n",
    "    \n",
    "#モデルの定義\n",
    "model = xgb.XGBClassifier(random_state=2,**study.best_params)\n",
    "model.fit(train, labels,eval_metric='error')"
   ]
  },
  {
   "cell_type": "code",
   "execution_count": 61,
   "metadata": {},
   "outputs": [],
   "source": [
    "pred = model.predict(test)"
   ]
  },
  {
   "cell_type": "code",
   "execution_count": 62,
   "metadata": {},
   "outputs": [],
   "source": [
    "# create submission file\n",
    "submission_result = pd.DataFrame({\"Survived\":pred},index=test.index)\n",
    "submission_result.to_csv(savepath + 'submission_xgb.csv',index='False')"
   ]
  },
  {
   "cell_type": "markdown",
   "metadata": {},
   "source": [
    "# 以下適当なコード"
   ]
  },
  {
   "cell_type": "code",
   "execution_count": null,
   "metadata": {},
   "outputs": [],
   "source": [
    "#重要度のやつ\n",
    "\n",
    "\n",
    "features = train.columns\n",
    "# create a feature map\n",
    "outfile = open('xgb.fmap', 'w')\n",
    "i = 0\n",
    "for feat in features:\n",
    "    outfile.write('{0}\\t{1}\\tq\\n'.format(i, feat))\n",
    "    i = i + 1\n",
    "outfile.close()\n",
    "\n",
    "# plot feature importance\n",
    "importance = gbm.get_fscore(fmap='xgb.fmap')\n",
    "importance = sorted(importance.items(), key=operator.itemgetter(1))\n",
    "df = pd.DataFrame(importance, columns=['feature', 'fscore'])\n",
    "df['fscore'] = df['fscore'] / df['fscore'].sum()\n",
    "plt.figure()\n",
    "df.plot()\n",
    "df.plot(kind='barh', x='feature', y='fscore', legend=False, figsize=(6, 20))\n",
    "plt.title('XGBoost Feature Importance')\n",
    "plt.xlabel('relative importance')\n",
    "plt.gcf().savefig('feature_importance_xgb.png')\n",
    "\n"
   ]
  },
  {
   "cell_type": "code",
   "execution_count": null,
   "metadata": {},
   "outputs": [],
   "source": []
  },
  {
   "cell_type": "code",
   "execution_count": 31,
   "metadata": {},
   "outputs": [
    {
     "data": {
      "text/plain": [
       "XGBClassifier(base_score=0.5, booster='gbtree', colsample_bylevel=1,\n",
       "       colsample_bytree=1, gamma=0, learning_rate=0.1, max_delta_step=0,\n",
       "       max_depth=3, min_child_weight=1, missing=None, n_estimators=100,\n",
       "       n_jobs=1, nthread=None, objective='binary:logistic', random_state=2,\n",
       "       reg_alpha=0, reg_lambda=1, scale_pos_weight=1, seed=None,\n",
       "       silent=True, subsample=1)"
      ]
     },
     "execution_count": 31,
     "metadata": {},
     "output_type": "execute_result"
    }
   ],
   "source": [
    "\n",
    "#使うデータの前処理\n",
    "train_xgb = xgb.DMatrix(df.drop('Survived', axis=1), df.Survived)\n",
    "test_xgb  = xgb.DMatrix(df_test)\n",
    "    \n",
    "#最適化するパラメータを設定\n",
    "params = {\n",
    "     'n_estimators': 100,\n",
    "     'gamma': 0,\n",
    "     'reg_lambda': 1,\n",
    "      #'max_depth': trial.suggest_int('max_depth', 2, 32)\n",
    "}\n",
    "    \n",
    "#モデルの定義\n",
    "model = xgb.XGBClassifier(random_state=2,**params)\n",
    "model.fit(df.drop('Survived', axis=1), df.Survived)\n",
    "    \n",
    "# kf = StratifiedKFold(n_splits=5, shuffle=True, random_state=2)\n",
    "# scores = cross_validate(model, X=X, y=y, cv=kf, scoring='accuracy')\n",
    "    \n",
    "# return 1.0 - scores['test_score'].mean()"
   ]
  }
 ],
 "metadata": {
  "kernelspec": {
   "display_name": "Python 3",
   "language": "python",
   "name": "python3"
  },
  "language_info": {
   "codemirror_mode": {
    "name": "ipython",
    "version": 3
   },
   "file_extension": ".py",
   "mimetype": "text/x-python",
   "name": "python",
   "nbconvert_exporter": "python",
   "pygments_lexer": "ipython3",
   "version": "3.7.2"
  }
 },
 "nbformat": 4,
 "nbformat_minor": 2
}
