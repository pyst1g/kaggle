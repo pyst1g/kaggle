{
 "cells": [
  {
   "cell_type": "markdown",
   "metadata": {},
   "source": [
    "reference https://www.kaggle.com/gaoyuan19930220/xgboost"
   ]
  },
  {
   "cell_type": "code",
   "execution_count": 1,
   "metadata": {},
   "outputs": [
    {
     "name": "stderr",
     "output_type": "stream",
     "text": [
      "/home/sano/.pyenv/versions/anaconda3-5.2.0/lib/python3.6/site-packages/h5py/__init__.py:36: FutureWarning: Conversion of the second argument of issubdtype from `float` to `np.floating` is deprecated. In future, it will be treated as `np.float64 == np.dtype(float).type`.\n",
      "  from ._conv import register_converters as _register_converters\n",
      "Using TensorFlow backend.\n"
     ]
    }
   ],
   "source": [
    "import numpy as np\n",
    "import pandas as pd\n",
    "import os\n",
    "import sklearn\n",
    "import xgboost as xgb\n",
    "import operator\n",
    "import optuna\n",
    "\n",
    "from functools import partial\n",
    "from matplotlib import pylab as plt\n",
    "from sklearn import preprocessing\n",
    "from sklearn.metrics import log_loss\n",
    "from sklearn.model_selection import cross_validate, train_test_split, StratifiedKFold"
   ]
  },
  {
   "cell_type": "code",
   "execution_count": 2,
   "metadata": {},
   "outputs": [],
   "source": [
    "count_itr = 0"
   ]
  },
  {
   "cell_type": "code",
   "execution_count": 3,
   "metadata": {},
   "outputs": [],
   "source": [
    "def objective_optuna(X, y, test_X, test_y, trial):\n",
    "    global count_itr\n",
    "    print(count_itr, end=' ')\n",
    "    count_itr += 1\n",
    "    #最適化するパラメータを指定\n",
    "    params = {\n",
    "        'n_estimators': trial.suggest_int('n_estimators',1,1000),\n",
    "        'gamma': trial.suggest_uniform('gamma',0,1),\n",
    "        'reg_lambda': trial.suggest_uniform('lambda',0,2),\n",
    "        'learning_rate': trial.suggest_uniform('learning_rate',0,0.3),\n",
    "        'max_depth': trial.suggest_int('max_depth', 1, 15),\n",
    "        'subsample': trial.suggest_uniform('subsample',0,1),\n",
    "        'colsample_bytree': trial.suggest_uniform('colsample_bytree',0,1),\n",
    "        'min_child_weight': trial.suggest_uniform('min_child_weight',0,10),\n",
    "    }\n",
    "    \n",
    "    #モデルを定義\n",
    "    model = xgb.XGBClassifier(random_state=2,**params)\n",
    "    \n",
    "#     (train_X, test_X ,train_y, test_y) = train_test_split(X, y, test_size = 0.3, random_state = 2)\n",
    "    \n",
    "#     #3-foldクロスバリデーション\n",
    "#     kf = StratifiedKFold(n_splits=3, shuffle=True, random_state=2)\n",
    "#     scores = cross_validate(model, X=X, y=y, cv=kf, scoring='neg_log_loss')\n",
    "    model.fit(train,labels,eval_metric='logloss')\n",
    "    pred = model.predict_proba(test_X)\n",
    "    \n",
    "    return log_loss(test_y,pred)"
   ]
  },
  {
   "cell_type": "code",
   "execution_count": 4,
   "metadata": {},
   "outputs": [],
   "source": [
    "#csvデータの呼び出し場所\n",
    "loadpath = \"../input/\"\n",
    "#csvデータの保存場所\n",
    "savepath = \"../output/\""
   ]
  },
  {
   "cell_type": "code",
   "execution_count": 5,
   "metadata": {},
   "outputs": [],
   "source": [
    "# import input\n",
    "train = pd.read_csv(loadpath + \"train.csv\")\n",
    "test = pd.read_csv(loadpath + \"test.csv\")\n",
    "sample = pd.read_csv(loadpath + 'sampleSubmission.csv')\n",
    "train.set_index('id',inplace=True)\n",
    "test.set_index('id',inplace=True)\n",
    "\n",
    "labels = train.target.values\n",
    "labels = preprocessing.LabelEncoder().fit_transform(labels)\n",
    "\n",
    "# labels = pd.get_dummies(labels,prefix='Survived')\n",
    "\n",
    "train.drop('target', axis=1, inplace=True)"
   ]
  },
  {
   "cell_type": "code",
   "execution_count": 15,
   "metadata": {},
   "outputs": [],
   "source": [
    "(train, test_X ,labels, test_y) = train_test_split(train, labels, test_size = 0.3, random_state = 2)"
   ]
  },
  {
   "cell_type": "code",
   "execution_count": null,
   "metadata": {},
   "outputs": [
    {
     "name": "stdout",
     "output_type": "stream",
     "text": [
      "0 "
     ]
    },
    {
     "name": "stderr",
     "output_type": "stream",
     "text": [
      "[I 2019-02-10 22:48:35,273] Finished a trial resulted in value: 0.5154622208526419. Current best value is 0.5154622208526419 with parameters: {'n_estimators': 733, 'gamma': 0.7371078201478332, 'lambda': 0.06037397096165109, 'learning_rate': 0.22355432442809556, 'max_depth': 15, 'subsample': 0.6533314645086415, 'colsample_bytree': 0.9220693229990583, 'min_child_weight': 2.605968960893051}.\n"
     ]
    },
    {
     "name": "stdout",
     "output_type": "stream",
     "text": [
      "1 "
     ]
    },
    {
     "name": "stderr",
     "output_type": "stream",
     "text": [
      "[I 2019-02-10 22:50:40,180] Finished a trial resulted in value: 0.5980367141835637. Current best value is 0.5154622208526419 with parameters: {'n_estimators': 733, 'gamma': 0.7371078201478332, 'lambda': 0.06037397096165109, 'learning_rate': 0.22355432442809556, 'max_depth': 15, 'subsample': 0.6533314645086415, 'colsample_bytree': 0.9220693229990583, 'min_child_weight': 2.605968960893051}.\n"
     ]
    },
    {
     "name": "stdout",
     "output_type": "stream",
     "text": [
      "2 "
     ]
    },
    {
     "name": "stderr",
     "output_type": "stream",
     "text": [
      "[I 2019-02-10 22:53:56,275] Finished a trial resulted in value: 0.5336283223145003. Current best value is 0.5154622208526419 with parameters: {'n_estimators': 733, 'gamma': 0.7371078201478332, 'lambda': 0.06037397096165109, 'learning_rate': 0.22355432442809556, 'max_depth': 15, 'subsample': 0.6533314645086415, 'colsample_bytree': 0.9220693229990583, 'min_child_weight': 2.605968960893051}.\n"
     ]
    },
    {
     "name": "stdout",
     "output_type": "stream",
     "text": [
      "3 "
     ]
    },
    {
     "name": "stderr",
     "output_type": "stream",
     "text": [
      "[I 2019-02-10 22:56:59,635] Finished a trial resulted in value: 0.554663155926668. Current best value is 0.5154622208526419 with parameters: {'n_estimators': 733, 'gamma': 0.7371078201478332, 'lambda': 0.06037397096165109, 'learning_rate': 0.22355432442809556, 'max_depth': 15, 'subsample': 0.6533314645086415, 'colsample_bytree': 0.9220693229990583, 'min_child_weight': 2.605968960893051}.\n"
     ]
    },
    {
     "name": "stdout",
     "output_type": "stream",
     "text": [
      "4 "
     ]
    },
    {
     "name": "stderr",
     "output_type": "stream",
     "text": [
      "[I 2019-02-10 23:09:07,912] Finished a trial resulted in value: 0.653710064250842. Current best value is 0.5154622208526419 with parameters: {'n_estimators': 733, 'gamma': 0.7371078201478332, 'lambda': 0.06037397096165109, 'learning_rate': 0.22355432442809556, 'max_depth': 15, 'subsample': 0.6533314645086415, 'colsample_bytree': 0.9220693229990583, 'min_child_weight': 2.605968960893051}.\n"
     ]
    },
    {
     "name": "stdout",
     "output_type": "stream",
     "text": [
      "5 "
     ]
    },
    {
     "name": "stderr",
     "output_type": "stream",
     "text": [
      "[I 2019-02-10 23:20:29,607] Finished a trial resulted in value: 0.6524232408739242. Current best value is 0.5154622208526419 with parameters: {'n_estimators': 733, 'gamma': 0.7371078201478332, 'lambda': 0.06037397096165109, 'learning_rate': 0.22355432442809556, 'max_depth': 15, 'subsample': 0.6533314645086415, 'colsample_bytree': 0.9220693229990583, 'min_child_weight': 2.605968960893051}.\n"
     ]
    },
    {
     "name": "stdout",
     "output_type": "stream",
     "text": [
      "6 "
     ]
    },
    {
     "name": "stderr",
     "output_type": "stream",
     "text": [
      "[I 2019-02-10 23:21:00,524] Finished a trial resulted in value: 0.927366798975182. Current best value is 0.5154622208526419 with parameters: {'n_estimators': 733, 'gamma': 0.7371078201478332, 'lambda': 0.06037397096165109, 'learning_rate': 0.22355432442809556, 'max_depth': 15, 'subsample': 0.6533314645086415, 'colsample_bytree': 0.9220693229990583, 'min_child_weight': 2.605968960893051}.\n"
     ]
    },
    {
     "name": "stdout",
     "output_type": "stream",
     "text": [
      "7 "
     ]
    },
    {
     "name": "stderr",
     "output_type": "stream",
     "text": [
      "[I 2019-02-10 23:23:43,479] Finished a trial resulted in value: 0.5127564484100184. Current best value is 0.5127564484100184 with parameters: {'n_estimators': 188, 'gamma': 0.7796163446250554, 'lambda': 0.2263429844660374, 'learning_rate': 0.21214300104124587, 'max_depth': 4, 'subsample': 0.47188069698037727, 'colsample_bytree': 0.7684788517785277, 'min_child_weight': 5.631199086377377}.\n"
     ]
    },
    {
     "name": "stdout",
     "output_type": "stream",
     "text": [
      "8 "
     ]
    },
    {
     "name": "stderr",
     "output_type": "stream",
     "text": [
      "[I 2019-02-10 23:25:42,904] Finished a trial resulted in value: 0.6303448791439814. Current best value is 0.5127564484100184 with parameters: {'n_estimators': 188, 'gamma': 0.7796163446250554, 'lambda': 0.2263429844660374, 'learning_rate': 0.21214300104124587, 'max_depth': 4, 'subsample': 0.47188069698037727, 'colsample_bytree': 0.7684788517785277, 'min_child_weight': 5.631199086377377}.\n"
     ]
    },
    {
     "name": "stdout",
     "output_type": "stream",
     "text": [
      "9 "
     ]
    },
    {
     "name": "stderr",
     "output_type": "stream",
     "text": [
      "[I 2019-02-10 23:36:51,391] Finished a trial resulted in value: 0.467685649096718. Current best value is 0.467685649096718 with parameters: {'n_estimators': 284, 'gamma': 0.3483393018821924, 'lambda': 0.4788851787857924, 'learning_rate': 0.08201110614407263, 'max_depth': 11, 'subsample': 0.849229898981217, 'colsample_bytree': 0.9276393083186313, 'min_child_weight': 6.426294755953792}.\n"
     ]
    },
    {
     "name": "stdout",
     "output_type": "stream",
     "text": [
      "10 "
     ]
    },
    {
     "name": "stderr",
     "output_type": "stream",
     "text": [
      "[I 2019-02-10 23:44:19,690] Finished a trial resulted in value: 1.5520152724385132. Current best value is 0.467685649096718 with parameters: {'n_estimators': 284, 'gamma': 0.3483393018821924, 'lambda': 0.4788851787857924, 'learning_rate': 0.08201110614407263, 'max_depth': 11, 'subsample': 0.849229898981217, 'colsample_bytree': 0.9276393083186313, 'min_child_weight': 6.426294755953792}.\n"
     ]
    },
    {
     "name": "stdout",
     "output_type": "stream",
     "text": [
      "11 "
     ]
    },
    {
     "name": "stderr",
     "output_type": "stream",
     "text": [
      "[I 2019-02-10 23:48:46,867] Finished a trial resulted in value: 0.491457471555817. Current best value is 0.467685649096718 with parameters: {'n_estimators': 284, 'gamma': 0.3483393018821924, 'lambda': 0.4788851787857924, 'learning_rate': 0.08201110614407263, 'max_depth': 11, 'subsample': 0.849229898981217, 'colsample_bytree': 0.9276393083186313, 'min_child_weight': 6.426294755953792}.\n"
     ]
    },
    {
     "name": "stdout",
     "output_type": "stream",
     "text": [
      "12 "
     ]
    },
    {
     "name": "stderr",
     "output_type": "stream",
     "text": [
      "[I 2019-02-10 23:58:32,342] Finished a trial resulted in value: 0.47500938725816316. Current best value is 0.467685649096718 with parameters: {'n_estimators': 284, 'gamma': 0.3483393018821924, 'lambda': 0.4788851787857924, 'learning_rate': 0.08201110614407263, 'max_depth': 11, 'subsample': 0.849229898981217, 'colsample_bytree': 0.9276393083186313, 'min_child_weight': 6.426294755953792}.\n"
     ]
    },
    {
     "name": "stdout",
     "output_type": "stream",
     "text": [
      "13 "
     ]
    },
    {
     "name": "stderr",
     "output_type": "stream",
     "text": [
      "[I 2019-02-11 00:04:10,168] Finished a trial resulted in value: 0.49879285575026355. Current best value is 0.467685649096718 with parameters: {'n_estimators': 284, 'gamma': 0.3483393018821924, 'lambda': 0.4788851787857924, 'learning_rate': 0.08201110614407263, 'max_depth': 11, 'subsample': 0.849229898981217, 'colsample_bytree': 0.9276393083186313, 'min_child_weight': 6.426294755953792}.\n"
     ]
    },
    {
     "name": "stdout",
     "output_type": "stream",
     "text": [
      "14 "
     ]
    },
    {
     "name": "stderr",
     "output_type": "stream",
     "text": [
      "[I 2019-02-11 00:08:14,885] Finished a trial resulted in value: 0.5885317200511165. Current best value is 0.467685649096718 with parameters: {'n_estimators': 284, 'gamma': 0.3483393018821924, 'lambda': 0.4788851787857924, 'learning_rate': 0.08201110614407263, 'max_depth': 11, 'subsample': 0.849229898981217, 'colsample_bytree': 0.9276393083186313, 'min_child_weight': 6.426294755953792}.\n"
     ]
    },
    {
     "name": "stdout",
     "output_type": "stream",
     "text": [
      "15 "
     ]
    },
    {
     "name": "stderr",
     "output_type": "stream",
     "text": [
      "[I 2019-02-11 00:37:12,779] Finished a trial resulted in value: 0.5281566324789109. Current best value is 0.467685649096718 with parameters: {'n_estimators': 284, 'gamma': 0.3483393018821924, 'lambda': 0.4788851787857924, 'learning_rate': 0.08201110614407263, 'max_depth': 11, 'subsample': 0.849229898981217, 'colsample_bytree': 0.9276393083186313, 'min_child_weight': 6.426294755953792}.\n"
     ]
    },
    {
     "name": "stdout",
     "output_type": "stream",
     "text": [
      "16 "
     ]
    },
    {
     "name": "stderr",
     "output_type": "stream",
     "text": [
      "[I 2019-02-11 00:41:04,719] Finished a trial resulted in value: 0.48941034087890917. Current best value is 0.467685649096718 with parameters: {'n_estimators': 284, 'gamma': 0.3483393018821924, 'lambda': 0.4788851787857924, 'learning_rate': 0.08201110614407263, 'max_depth': 11, 'subsample': 0.849229898981217, 'colsample_bytree': 0.9276393083186313, 'min_child_weight': 6.426294755953792}.\n"
     ]
    },
    {
     "name": "stdout",
     "output_type": "stream",
     "text": [
      "17 "
     ]
    },
    {
     "name": "stderr",
     "output_type": "stream",
     "text": [
      "[I 2019-02-11 00:42:23,339] Finished a trial resulted in value: 0.8140581452858042. Current best value is 0.467685649096718 with parameters: {'n_estimators': 284, 'gamma': 0.3483393018821924, 'lambda': 0.4788851787857924, 'learning_rate': 0.08201110614407263, 'max_depth': 11, 'subsample': 0.849229898981217, 'colsample_bytree': 0.9276393083186313, 'min_child_weight': 6.426294755953792}.\n"
     ]
    },
    {
     "name": "stdout",
     "output_type": "stream",
     "text": [
      "18 "
     ]
    },
    {
     "name": "stderr",
     "output_type": "stream",
     "text": [
      "[I 2019-02-11 00:49:34,072] Finished a trial resulted in value: 0.47680510124127434. Current best value is 0.467685649096718 with parameters: {'n_estimators': 284, 'gamma': 0.3483393018821924, 'lambda': 0.4788851787857924, 'learning_rate': 0.08201110614407263, 'max_depth': 11, 'subsample': 0.849229898981217, 'colsample_bytree': 0.9276393083186313, 'min_child_weight': 6.426294755953792}.\n"
     ]
    },
    {
     "name": "stdout",
     "output_type": "stream",
     "text": [
      "19 "
     ]
    },
    {
     "name": "stderr",
     "output_type": "stream",
     "text": [
      "[I 2019-02-11 00:56:15,045] Finished a trial resulted in value: 0.495994920248173. Current best value is 0.467685649096718 with parameters: {'n_estimators': 284, 'gamma': 0.3483393018821924, 'lambda': 0.4788851787857924, 'learning_rate': 0.08201110614407263, 'max_depth': 11, 'subsample': 0.849229898981217, 'colsample_bytree': 0.9276393083186313, 'min_child_weight': 6.426294755953792}.\n"
     ]
    },
    {
     "name": "stdout",
     "output_type": "stream",
     "text": [
      "20 "
     ]
    },
    {
     "name": "stderr",
     "output_type": "stream",
     "text": [
      "[I 2019-02-11 00:58:56,195] Finished a trial resulted in value: 0.6322332435608662. Current best value is 0.467685649096718 with parameters: {'n_estimators': 284, 'gamma': 0.3483393018821924, 'lambda': 0.4788851787857924, 'learning_rate': 0.08201110614407263, 'max_depth': 11, 'subsample': 0.849229898981217, 'colsample_bytree': 0.9276393083186313, 'min_child_weight': 6.426294755953792}.\n"
     ]
    },
    {
     "name": "stdout",
     "output_type": "stream",
     "text": [
      "21 "
     ]
    },
    {
     "name": "stderr",
     "output_type": "stream",
     "text": [
      "[I 2019-02-11 01:15:17,416] Finished a trial resulted in value: 0.48692332122343107. Current best value is 0.467685649096718 with parameters: {'n_estimators': 284, 'gamma': 0.3483393018821924, 'lambda': 0.4788851787857924, 'learning_rate': 0.08201110614407263, 'max_depth': 11, 'subsample': 0.849229898981217, 'colsample_bytree': 0.9276393083186313, 'min_child_weight': 6.426294755953792}.\n"
     ]
    },
    {
     "name": "stdout",
     "output_type": "stream",
     "text": [
      "22 "
     ]
    },
    {
     "name": "stderr",
     "output_type": "stream",
     "text": [
      "[I 2019-02-11 01:23:55,192] Finished a trial resulted in value: 0.4803787393337395. Current best value is 0.467685649096718 with parameters: {'n_estimators': 284, 'gamma': 0.3483393018821924, 'lambda': 0.4788851787857924, 'learning_rate': 0.08201110614407263, 'max_depth': 11, 'subsample': 0.849229898981217, 'colsample_bytree': 0.9276393083186313, 'min_child_weight': 6.426294755953792}.\n"
     ]
    },
    {
     "name": "stdout",
     "output_type": "stream",
     "text": [
      "23 "
     ]
    },
    {
     "name": "stderr",
     "output_type": "stream",
     "text": [
      "[I 2019-02-11 01:24:19,796] Finished a trial resulted in value: 1.5519088022868404. Current best value is 0.467685649096718 with parameters: {'n_estimators': 284, 'gamma': 0.3483393018821924, 'lambda': 0.4788851787857924, 'learning_rate': 0.08201110614407263, 'max_depth': 11, 'subsample': 0.849229898981217, 'colsample_bytree': 0.9276393083186313, 'min_child_weight': 6.426294755953792}.\n"
     ]
    },
    {
     "name": "stdout",
     "output_type": "stream",
     "text": [
      "24 "
     ]
    },
    {
     "name": "stderr",
     "output_type": "stream",
     "text": [
      "[I 2019-02-11 01:28:14,529] Finished a trial resulted in value: 0.475741728118077. Current best value is 0.467685649096718 with parameters: {'n_estimators': 284, 'gamma': 0.3483393018821924, 'lambda': 0.4788851787857924, 'learning_rate': 0.08201110614407263, 'max_depth': 11, 'subsample': 0.849229898981217, 'colsample_bytree': 0.9276393083186313, 'min_child_weight': 6.426294755953792}.\n"
     ]
    },
    {
     "name": "stdout",
     "output_type": "stream",
     "text": [
      "25 "
     ]
    },
    {
     "name": "stderr",
     "output_type": "stream",
     "text": [
      "[I 2019-02-11 01:51:52,891] Finished a trial resulted in value: 0.48348579973983746. Current best value is 0.467685649096718 with parameters: {'n_estimators': 284, 'gamma': 0.3483393018821924, 'lambda': 0.4788851787857924, 'learning_rate': 0.08201110614407263, 'max_depth': 11, 'subsample': 0.849229898981217, 'colsample_bytree': 0.9276393083186313, 'min_child_weight': 6.426294755953792}.\n"
     ]
    },
    {
     "name": "stdout",
     "output_type": "stream",
     "text": [
      "26 "
     ]
    },
    {
     "name": "stderr",
     "output_type": "stream",
     "text": [
      "[I 2019-02-11 02:05:35,088] Finished a trial resulted in value: 0.48619249781717594. Current best value is 0.467685649096718 with parameters: {'n_estimators': 284, 'gamma': 0.3483393018821924, 'lambda': 0.4788851787857924, 'learning_rate': 0.08201110614407263, 'max_depth': 11, 'subsample': 0.849229898981217, 'colsample_bytree': 0.9276393083186313, 'min_child_weight': 6.426294755953792}.\n"
     ]
    },
    {
     "name": "stdout",
     "output_type": "stream",
     "text": [
      "27 "
     ]
    },
    {
     "name": "stderr",
     "output_type": "stream",
     "text": [
      "[I 2019-02-11 02:08:11,985] Finished a trial resulted in value: 0.4812877353128157. Current best value is 0.467685649096718 with parameters: {'n_estimators': 284, 'gamma': 0.3483393018821924, 'lambda': 0.4788851787857924, 'learning_rate': 0.08201110614407263, 'max_depth': 11, 'subsample': 0.849229898981217, 'colsample_bytree': 0.9276393083186313, 'min_child_weight': 6.426294755953792}.\n"
     ]
    },
    {
     "name": "stdout",
     "output_type": "stream",
     "text": [
      "28 "
     ]
    },
    {
     "name": "stderr",
     "output_type": "stream",
     "text": [
      "[I 2019-02-11 02:23:21,939] Finished a trial resulted in value: 0.4785349984080041. Current best value is 0.467685649096718 with parameters: {'n_estimators': 284, 'gamma': 0.3483393018821924, 'lambda': 0.4788851787857924, 'learning_rate': 0.08201110614407263, 'max_depth': 11, 'subsample': 0.849229898981217, 'colsample_bytree': 0.9276393083186313, 'min_child_weight': 6.426294755953792}.\n"
     ]
    },
    {
     "name": "stdout",
     "output_type": "stream",
     "text": [
      "29 "
     ]
    },
    {
     "name": "stderr",
     "output_type": "stream",
     "text": [
      "[I 2019-02-11 02:58:11,905] Finished a trial resulted in value: 0.5048613422839503. Current best value is 0.467685649096718 with parameters: {'n_estimators': 284, 'gamma': 0.3483393018821924, 'lambda': 0.4788851787857924, 'learning_rate': 0.08201110614407263, 'max_depth': 11, 'subsample': 0.849229898981217, 'colsample_bytree': 0.9276393083186313, 'min_child_weight': 6.426294755953792}.\n"
     ]
    },
    {
     "name": "stdout",
     "output_type": "stream",
     "text": [
      "30 "
     ]
    }
   ],
   "source": [
    "f = partial(objective_optuna, train, labels, test_X, test_y)\n",
    "study = optuna.create_study()\n",
    "study.optimize(f, n_trials=10000)"
   ]
  },
  {
   "cell_type": "code",
   "execution_count": null,
   "metadata": {},
   "outputs": [],
   "source": [
    "study.best_params"
   ]
  },
  {
   "cell_type": "code",
   "execution_count": 6,
   "metadata": {},
   "outputs": [
    {
     "name": "stdout",
     "output_type": "stream",
     "text": [
      "CPU times: user 11min 51s, sys: 146 ms, total: 11min 51s\n",
      "Wall time: 11min 51s\n"
     ]
    }
   ],
   "source": [
    "%%time\n",
    "#モデルの定義\n",
    "model = xgb.XGBClassifier(random_state=5,objective='multi:softprob', n_estimators=100, **{'gamma': 0.7316786466845265, 'lambda': 0.7724689911408438, 'learning_rate': 0.19442721229682425, 'max_depth': 15, 'subsample': 0.8558718005836242, 'colsample_bytree': 0.6162377481374999, 'min_child_weight': 9.980544186309475})\n",
    "model.fit(train,labels,eval_metric='logloss')\n",
    "pred = model.predict_proba(test)"
   ]
  },
  {
   "cell_type": "code",
   "execution_count": 8,
   "metadata": {},
   "outputs": [
    {
     "ename": "NameError",
     "evalue": "name 'pred' is not defined",
     "output_type": "error",
     "traceback": [
      "\u001b[0;31m---------------------------------------------------------------------------\u001b[0m",
      "\u001b[0;31mNameError\u001b[0m                                 Traceback (most recent call last)",
      "\u001b[0;32m<ipython-input-8-88ee8cd1645b>\u001b[0m in \u001b[0;36m<module>\u001b[0;34m()\u001b[0m\n\u001b[0;32m----> 1\u001b[0;31m \u001b[0mlog_loss\u001b[0m\u001b[0;34m(\u001b[0m\u001b[0mtest_y\u001b[0m\u001b[0;34m,\u001b[0m\u001b[0mpred\u001b[0m\u001b[0;34m)\u001b[0m\u001b[0;34m\u001b[0m\u001b[0m\n\u001b[0m",
      "\u001b[0;31mNameError\u001b[0m: name 'pred' is not defined"
     ]
    }
   ],
   "source": [
    "log_loss(test_y,pred)"
   ]
  },
  {
   "cell_type": "code",
   "execution_count": 10,
   "metadata": {},
   "outputs": [
    {
     "data": {
      "text/plain": [
       "0.46968860358427933"
      ]
     },
     "execution_count": 10,
     "metadata": {},
     "output_type": "execute_result"
    }
   ],
   "source": [
    "log_loss(test_y,pred)"
   ]
  },
  {
   "cell_type": "markdown",
   "metadata": {},
   "source": [
    "交差検証"
   ]
  },
  {
   "cell_type": "code",
   "execution_count": 82,
   "metadata": {},
   "outputs": [
    {
     "data": {
      "text/plain": [
       "-1.3073622376403484"
      ]
     },
     "execution_count": 82,
     "metadata": {},
     "output_type": "execute_result"
    }
   ],
   "source": [
    "kf = StratifiedKFold(n_splits=3, shuffle=True)\n",
    "scores = cross_validate(model, X=train, y=labels, cv=kf, scoring='neg_log_loss')\n",
    "scores['test_score'].mean()"
   ]
  },
  {
   "cell_type": "code",
   "execution_count": 7,
   "metadata": {},
   "outputs": [],
   "source": [
    "# create submission file\n",
    "submission_result = pd.DataFrame(pred, index=test.index, columns=['Class_1','Class_2','Class_3','Class_4','Class_5','Class_6','Class_7','Class_8','Class_9'])\n",
    "submission_result.to_csv(savepath + 'submission_xgb.csv',index='False')"
   ]
  },
  {
   "cell_type": "code",
   "execution_count": 8,
   "metadata": {},
   "outputs": [
    {
     "data": {
      "text/html": [
       "<div>\n",
       "<style scoped>\n",
       "    .dataframe tbody tr th:only-of-type {\n",
       "        vertical-align: middle;\n",
       "    }\n",
       "\n",
       "    .dataframe tbody tr th {\n",
       "        vertical-align: top;\n",
       "    }\n",
       "\n",
       "    .dataframe thead th {\n",
       "        text-align: right;\n",
       "    }\n",
       "</style>\n",
       "<table border=\"1\" class=\"dataframe\">\n",
       "  <thead>\n",
       "    <tr style=\"text-align: right;\">\n",
       "      <th></th>\n",
       "      <th>Class_1</th>\n",
       "      <th>Class_2</th>\n",
       "      <th>Class_3</th>\n",
       "      <th>Class_4</th>\n",
       "      <th>Class_5</th>\n",
       "      <th>Class_6</th>\n",
       "      <th>Class_7</th>\n",
       "      <th>Class_8</th>\n",
       "      <th>Class_9</th>\n",
       "    </tr>\n",
       "    <tr>\n",
       "      <th>id</th>\n",
       "      <th></th>\n",
       "      <th></th>\n",
       "      <th></th>\n",
       "      <th></th>\n",
       "      <th></th>\n",
       "      <th></th>\n",
       "      <th></th>\n",
       "      <th></th>\n",
       "      <th></th>\n",
       "    </tr>\n",
       "  </thead>\n",
       "  <tbody>\n",
       "    <tr>\n",
       "      <th>1</th>\n",
       "      <td>0.000613</td>\n",
       "      <td>0.093754</td>\n",
       "      <td>0.135399</td>\n",
       "      <td>0.762095</td>\n",
       "      <td>0.000166</td>\n",
       "      <td>0.000206</td>\n",
       "      <td>0.007408</td>\n",
       "      <td>0.000281</td>\n",
       "      <td>0.000078</td>\n",
       "    </tr>\n",
       "    <tr>\n",
       "      <th>2</th>\n",
       "      <td>0.004474</td>\n",
       "      <td>0.015783</td>\n",
       "      <td>0.003136</td>\n",
       "      <td>0.001929</td>\n",
       "      <td>0.001160</td>\n",
       "      <td>0.639704</td>\n",
       "      <td>0.004764</td>\n",
       "      <td>0.327112</td>\n",
       "      <td>0.001938</td>\n",
       "    </tr>\n",
       "    <tr>\n",
       "      <th>3</th>\n",
       "      <td>0.000024</td>\n",
       "      <td>0.000020</td>\n",
       "      <td>0.000041</td>\n",
       "      <td>0.000014</td>\n",
       "      <td>0.000003</td>\n",
       "      <td>0.998649</td>\n",
       "      <td>0.000039</td>\n",
       "      <td>0.001158</td>\n",
       "      <td>0.000052</td>\n",
       "    </tr>\n",
       "    <tr>\n",
       "      <th>4</th>\n",
       "      <td>0.000391</td>\n",
       "      <td>0.718611</td>\n",
       "      <td>0.272982</td>\n",
       "      <td>0.005721</td>\n",
       "      <td>0.000130</td>\n",
       "      <td>0.000150</td>\n",
       "      <td>0.000266</td>\n",
       "      <td>0.000338</td>\n",
       "      <td>0.001412</td>\n",
       "    </tr>\n",
       "    <tr>\n",
       "      <th>5</th>\n",
       "      <td>0.106963</td>\n",
       "      <td>0.000688</td>\n",
       "      <td>0.000476</td>\n",
       "      <td>0.000354</td>\n",
       "      <td>0.000849</td>\n",
       "      <td>0.003329</td>\n",
       "      <td>0.001811</td>\n",
       "      <td>0.132189</td>\n",
       "      <td>0.753341</td>\n",
       "    </tr>\n",
       "    <tr>\n",
       "      <th>6</th>\n",
       "      <td>0.000131</td>\n",
       "      <td>0.190721</td>\n",
       "      <td>0.804252</td>\n",
       "      <td>0.000295</td>\n",
       "      <td>0.001456</td>\n",
       "      <td>0.000952</td>\n",
       "      <td>0.000673</td>\n",
       "      <td>0.001403</td>\n",
       "      <td>0.000118</td>\n",
       "    </tr>\n",
       "    <tr>\n",
       "      <th>7</th>\n",
       "      <td>0.000419</td>\n",
       "      <td>0.001039</td>\n",
       "      <td>0.000912</td>\n",
       "      <td>0.000360</td>\n",
       "      <td>0.000010</td>\n",
       "      <td>0.001364</td>\n",
       "      <td>0.003518</td>\n",
       "      <td>0.991980</td>\n",
       "      <td>0.000399</td>\n",
       "    </tr>\n",
       "    <tr>\n",
       "      <th>8</th>\n",
       "      <td>0.000181</td>\n",
       "      <td>0.974305</td>\n",
       "      <td>0.011935</td>\n",
       "      <td>0.009361</td>\n",
       "      <td>0.000086</td>\n",
       "      <td>0.000285</td>\n",
       "      <td>0.003690</td>\n",
       "      <td>0.000068</td>\n",
       "      <td>0.000089</td>\n",
       "    </tr>\n",
       "    <tr>\n",
       "      <th>9</th>\n",
       "      <td>0.001705</td>\n",
       "      <td>0.351371</td>\n",
       "      <td>0.556009</td>\n",
       "      <td>0.081958</td>\n",
       "      <td>0.000173</td>\n",
       "      <td>0.000526</td>\n",
       "      <td>0.007685</td>\n",
       "      <td>0.000263</td>\n",
       "      <td>0.000309</td>\n",
       "    </tr>\n",
       "    <tr>\n",
       "      <th>10</th>\n",
       "      <td>0.012192</td>\n",
       "      <td>0.740764</td>\n",
       "      <td>0.047490</td>\n",
       "      <td>0.000640</td>\n",
       "      <td>0.003279</td>\n",
       "      <td>0.019824</td>\n",
       "      <td>0.006252</td>\n",
       "      <td>0.166819</td>\n",
       "      <td>0.002739</td>\n",
       "    </tr>\n",
       "    <tr>\n",
       "      <th>11</th>\n",
       "      <td>0.018264</td>\n",
       "      <td>0.389169</td>\n",
       "      <td>0.360515</td>\n",
       "      <td>0.057740</td>\n",
       "      <td>0.002083</td>\n",
       "      <td>0.008022</td>\n",
       "      <td>0.160118</td>\n",
       "      <td>0.001830</td>\n",
       "      <td>0.002260</td>\n",
       "    </tr>\n",
       "    <tr>\n",
       "      <th>12</th>\n",
       "      <td>0.054754</td>\n",
       "      <td>0.000802</td>\n",
       "      <td>0.000395</td>\n",
       "      <td>0.000178</td>\n",
       "      <td>0.000973</td>\n",
       "      <td>0.056100</td>\n",
       "      <td>0.000302</td>\n",
       "      <td>0.005335</td>\n",
       "      <td>0.881161</td>\n",
       "    </tr>\n",
       "    <tr>\n",
       "      <th>13</th>\n",
       "      <td>0.000166</td>\n",
       "      <td>0.000229</td>\n",
       "      <td>0.000036</td>\n",
       "      <td>0.000908</td>\n",
       "      <td>0.998400</td>\n",
       "      <td>0.000035</td>\n",
       "      <td>0.000057</td>\n",
       "      <td>0.000062</td>\n",
       "      <td>0.000108</td>\n",
       "    </tr>\n",
       "    <tr>\n",
       "      <th>14</th>\n",
       "      <td>0.001021</td>\n",
       "      <td>0.943815</td>\n",
       "      <td>0.024578</td>\n",
       "      <td>0.010594</td>\n",
       "      <td>0.000298</td>\n",
       "      <td>0.004691</td>\n",
       "      <td>0.003077</td>\n",
       "      <td>0.006170</td>\n",
       "      <td>0.005756</td>\n",
       "    </tr>\n",
       "    <tr>\n",
       "      <th>15</th>\n",
       "      <td>0.012841</td>\n",
       "      <td>0.782566</td>\n",
       "      <td>0.122101</td>\n",
       "      <td>0.017522</td>\n",
       "      <td>0.001248</td>\n",
       "      <td>0.006767</td>\n",
       "      <td>0.011156</td>\n",
       "      <td>0.004313</td>\n",
       "      <td>0.041486</td>\n",
       "    </tr>\n",
       "    <tr>\n",
       "      <th>16</th>\n",
       "      <td>0.379549</td>\n",
       "      <td>0.003401</td>\n",
       "      <td>0.003695</td>\n",
       "      <td>0.000743</td>\n",
       "      <td>0.000171</td>\n",
       "      <td>0.033798</td>\n",
       "      <td>0.225322</td>\n",
       "      <td>0.345567</td>\n",
       "      <td>0.007753</td>\n",
       "    </tr>\n",
       "    <tr>\n",
       "      <th>17</th>\n",
       "      <td>0.001574</td>\n",
       "      <td>0.000039</td>\n",
       "      <td>0.000011</td>\n",
       "      <td>0.000071</td>\n",
       "      <td>0.000018</td>\n",
       "      <td>0.997510</td>\n",
       "      <td>0.000141</td>\n",
       "      <td>0.000307</td>\n",
       "      <td>0.000328</td>\n",
       "    </tr>\n",
       "    <tr>\n",
       "      <th>18</th>\n",
       "      <td>0.000009</td>\n",
       "      <td>0.000026</td>\n",
       "      <td>0.000071</td>\n",
       "      <td>0.000016</td>\n",
       "      <td>0.000003</td>\n",
       "      <td>0.999760</td>\n",
       "      <td>0.000013</td>\n",
       "      <td>0.000075</td>\n",
       "      <td>0.000028</td>\n",
       "    </tr>\n",
       "    <tr>\n",
       "      <th>19</th>\n",
       "      <td>0.000376</td>\n",
       "      <td>0.000441</td>\n",
       "      <td>0.000148</td>\n",
       "      <td>0.003717</td>\n",
       "      <td>0.993556</td>\n",
       "      <td>0.000792</td>\n",
       "      <td>0.000604</td>\n",
       "      <td>0.000259</td>\n",
       "      <td>0.000107</td>\n",
       "    </tr>\n",
       "    <tr>\n",
       "      <th>20</th>\n",
       "      <td>0.000567</td>\n",
       "      <td>0.884886</td>\n",
       "      <td>0.037298</td>\n",
       "      <td>0.070761</td>\n",
       "      <td>0.000222</td>\n",
       "      <td>0.001867</td>\n",
       "      <td>0.002255</td>\n",
       "      <td>0.000689</td>\n",
       "      <td>0.001455</td>\n",
       "    </tr>\n",
       "    <tr>\n",
       "      <th>21</th>\n",
       "      <td>0.000685</td>\n",
       "      <td>0.000041</td>\n",
       "      <td>0.000028</td>\n",
       "      <td>0.000241</td>\n",
       "      <td>0.000040</td>\n",
       "      <td>0.997811</td>\n",
       "      <td>0.000096</td>\n",
       "      <td>0.000383</td>\n",
       "      <td>0.000675</td>\n",
       "    </tr>\n",
       "    <tr>\n",
       "      <th>22</th>\n",
       "      <td>0.010361</td>\n",
       "      <td>0.000127</td>\n",
       "      <td>0.000052</td>\n",
       "      <td>0.000033</td>\n",
       "      <td>0.000015</td>\n",
       "      <td>0.000705</td>\n",
       "      <td>0.002700</td>\n",
       "      <td>0.985750</td>\n",
       "      <td>0.000255</td>\n",
       "    </tr>\n",
       "    <tr>\n",
       "      <th>23</th>\n",
       "      <td>0.002664</td>\n",
       "      <td>0.770890</td>\n",
       "      <td>0.084069</td>\n",
       "      <td>0.119108</td>\n",
       "      <td>0.000576</td>\n",
       "      <td>0.001902</td>\n",
       "      <td>0.006388</td>\n",
       "      <td>0.001684</td>\n",
       "      <td>0.012718</td>\n",
       "    </tr>\n",
       "    <tr>\n",
       "      <th>24</th>\n",
       "      <td>0.023227</td>\n",
       "      <td>0.003344</td>\n",
       "      <td>0.001320</td>\n",
       "      <td>0.000700</td>\n",
       "      <td>0.000600</td>\n",
       "      <td>0.022173</td>\n",
       "      <td>0.001924</td>\n",
       "      <td>0.801139</td>\n",
       "      <td>0.145573</td>\n",
       "    </tr>\n",
       "    <tr>\n",
       "      <th>25</th>\n",
       "      <td>0.066595</td>\n",
       "      <td>0.000829</td>\n",
       "      <td>0.000418</td>\n",
       "      <td>0.000233</td>\n",
       "      <td>0.000222</td>\n",
       "      <td>0.021175</td>\n",
       "      <td>0.000756</td>\n",
       "      <td>0.019425</td>\n",
       "      <td>0.890348</td>\n",
       "    </tr>\n",
       "    <tr>\n",
       "      <th>26</th>\n",
       "      <td>0.005521</td>\n",
       "      <td>0.000066</td>\n",
       "      <td>0.000062</td>\n",
       "      <td>0.000034</td>\n",
       "      <td>0.000010</td>\n",
       "      <td>0.000193</td>\n",
       "      <td>0.000251</td>\n",
       "      <td>0.993590</td>\n",
       "      <td>0.000273</td>\n",
       "    </tr>\n",
       "    <tr>\n",
       "      <th>27</th>\n",
       "      <td>0.000132</td>\n",
       "      <td>0.046839</td>\n",
       "      <td>0.930684</td>\n",
       "      <td>0.021453</td>\n",
       "      <td>0.000063</td>\n",
       "      <td>0.000249</td>\n",
       "      <td>0.000120</td>\n",
       "      <td>0.000205</td>\n",
       "      <td>0.000255</td>\n",
       "    </tr>\n",
       "    <tr>\n",
       "      <th>28</th>\n",
       "      <td>0.000445</td>\n",
       "      <td>0.880633</td>\n",
       "      <td>0.104492</td>\n",
       "      <td>0.011600</td>\n",
       "      <td>0.000114</td>\n",
       "      <td>0.000599</td>\n",
       "      <td>0.000866</td>\n",
       "      <td>0.000483</td>\n",
       "      <td>0.000767</td>\n",
       "    </tr>\n",
       "    <tr>\n",
       "      <th>29</th>\n",
       "      <td>0.000228</td>\n",
       "      <td>0.319460</td>\n",
       "      <td>0.651765</td>\n",
       "      <td>0.022099</td>\n",
       "      <td>0.000142</td>\n",
       "      <td>0.002963</td>\n",
       "      <td>0.002120</td>\n",
       "      <td>0.000506</td>\n",
       "      <td>0.000718</td>\n",
       "    </tr>\n",
       "    <tr>\n",
       "      <th>30</th>\n",
       "      <td>0.000486</td>\n",
       "      <td>0.358713</td>\n",
       "      <td>0.637803</td>\n",
       "      <td>0.001106</td>\n",
       "      <td>0.000320</td>\n",
       "      <td>0.000329</td>\n",
       "      <td>0.000456</td>\n",
       "      <td>0.000283</td>\n",
       "      <td>0.000503</td>\n",
       "    </tr>\n",
       "    <tr>\n",
       "      <th>...</th>\n",
       "      <td>...</td>\n",
       "      <td>...</td>\n",
       "      <td>...</td>\n",
       "      <td>...</td>\n",
       "      <td>...</td>\n",
       "      <td>...</td>\n",
       "      <td>...</td>\n",
       "      <td>...</td>\n",
       "      <td>...</td>\n",
       "    </tr>\n",
       "    <tr>\n",
       "      <th>144339</th>\n",
       "      <td>0.001373</td>\n",
       "      <td>0.389258</td>\n",
       "      <td>0.350540</td>\n",
       "      <td>0.063283</td>\n",
       "      <td>0.000384</td>\n",
       "      <td>0.002395</td>\n",
       "      <td>0.189534</td>\n",
       "      <td>0.001899</td>\n",
       "      <td>0.001334</td>\n",
       "    </tr>\n",
       "    <tr>\n",
       "      <th>144340</th>\n",
       "      <td>0.000085</td>\n",
       "      <td>0.000204</td>\n",
       "      <td>0.000119</td>\n",
       "      <td>0.000055</td>\n",
       "      <td>0.000020</td>\n",
       "      <td>0.998895</td>\n",
       "      <td>0.000408</td>\n",
       "      <td>0.000118</td>\n",
       "      <td>0.000097</td>\n",
       "    </tr>\n",
       "    <tr>\n",
       "      <th>144341</th>\n",
       "      <td>0.011605</td>\n",
       "      <td>0.145946</td>\n",
       "      <td>0.100092</td>\n",
       "      <td>0.490528</td>\n",
       "      <td>0.000521</td>\n",
       "      <td>0.040412</td>\n",
       "      <td>0.116511</td>\n",
       "      <td>0.085690</td>\n",
       "      <td>0.008694</td>\n",
       "    </tr>\n",
       "    <tr>\n",
       "      <th>144342</th>\n",
       "      <td>0.000560</td>\n",
       "      <td>0.733623</td>\n",
       "      <td>0.222338</td>\n",
       "      <td>0.042326</td>\n",
       "      <td>0.000101</td>\n",
       "      <td>0.000300</td>\n",
       "      <td>0.000403</td>\n",
       "      <td>0.000209</td>\n",
       "      <td>0.000140</td>\n",
       "    </tr>\n",
       "    <tr>\n",
       "      <th>144343</th>\n",
       "      <td>0.000021</td>\n",
       "      <td>0.000040</td>\n",
       "      <td>0.000035</td>\n",
       "      <td>0.000054</td>\n",
       "      <td>0.000009</td>\n",
       "      <td>0.999575</td>\n",
       "      <td>0.000086</td>\n",
       "      <td>0.000118</td>\n",
       "      <td>0.000063</td>\n",
       "    </tr>\n",
       "    <tr>\n",
       "      <th>144344</th>\n",
       "      <td>0.000594</td>\n",
       "      <td>0.000038</td>\n",
       "      <td>0.000034</td>\n",
       "      <td>0.000032</td>\n",
       "      <td>0.000014</td>\n",
       "      <td>0.000375</td>\n",
       "      <td>0.000352</td>\n",
       "      <td>0.997403</td>\n",
       "      <td>0.001160</td>\n",
       "    </tr>\n",
       "    <tr>\n",
       "      <th>144345</th>\n",
       "      <td>0.000673</td>\n",
       "      <td>0.909054</td>\n",
       "      <td>0.081389</td>\n",
       "      <td>0.006732</td>\n",
       "      <td>0.000168</td>\n",
       "      <td>0.000238</td>\n",
       "      <td>0.000670</td>\n",
       "      <td>0.000911</td>\n",
       "      <td>0.000164</td>\n",
       "    </tr>\n",
       "    <tr>\n",
       "      <th>144346</th>\n",
       "      <td>0.006567</td>\n",
       "      <td>0.000386</td>\n",
       "      <td>0.000116</td>\n",
       "      <td>0.002276</td>\n",
       "      <td>0.000114</td>\n",
       "      <td>0.984991</td>\n",
       "      <td>0.001269</td>\n",
       "      <td>0.003237</td>\n",
       "      <td>0.001044</td>\n",
       "    </tr>\n",
       "    <tr>\n",
       "      <th>144347</th>\n",
       "      <td>0.000563</td>\n",
       "      <td>0.000484</td>\n",
       "      <td>0.000238</td>\n",
       "      <td>0.000428</td>\n",
       "      <td>0.989910</td>\n",
       "      <td>0.000372</td>\n",
       "      <td>0.000284</td>\n",
       "      <td>0.007198</td>\n",
       "      <td>0.000523</td>\n",
       "    </tr>\n",
       "    <tr>\n",
       "      <th>144348</th>\n",
       "      <td>0.000857</td>\n",
       "      <td>0.218292</td>\n",
       "      <td>0.401112</td>\n",
       "      <td>0.368455</td>\n",
       "      <td>0.000278</td>\n",
       "      <td>0.002726</td>\n",
       "      <td>0.005852</td>\n",
       "      <td>0.000736</td>\n",
       "      <td>0.001693</td>\n",
       "    </tr>\n",
       "    <tr>\n",
       "      <th>144349</th>\n",
       "      <td>0.000635</td>\n",
       "      <td>0.842311</td>\n",
       "      <td>0.112413</td>\n",
       "      <td>0.032290</td>\n",
       "      <td>0.000180</td>\n",
       "      <td>0.002270</td>\n",
       "      <td>0.001488</td>\n",
       "      <td>0.000902</td>\n",
       "      <td>0.007512</td>\n",
       "    </tr>\n",
       "    <tr>\n",
       "      <th>144350</th>\n",
       "      <td>0.000684</td>\n",
       "      <td>0.481571</td>\n",
       "      <td>0.464503</td>\n",
       "      <td>0.046204</td>\n",
       "      <td>0.000864</td>\n",
       "      <td>0.000710</td>\n",
       "      <td>0.004478</td>\n",
       "      <td>0.000740</td>\n",
       "      <td>0.000246</td>\n",
       "    </tr>\n",
       "    <tr>\n",
       "      <th>144351</th>\n",
       "      <td>0.001362</td>\n",
       "      <td>0.000180</td>\n",
       "      <td>0.000168</td>\n",
       "      <td>0.001451</td>\n",
       "      <td>0.000074</td>\n",
       "      <td>0.990970</td>\n",
       "      <td>0.002107</td>\n",
       "      <td>0.003351</td>\n",
       "      <td>0.000336</td>\n",
       "    </tr>\n",
       "    <tr>\n",
       "      <th>144352</th>\n",
       "      <td>0.000773</td>\n",
       "      <td>0.874095</td>\n",
       "      <td>0.103786</td>\n",
       "      <td>0.013248</td>\n",
       "      <td>0.000156</td>\n",
       "      <td>0.001003</td>\n",
       "      <td>0.003968</td>\n",
       "      <td>0.002425</td>\n",
       "      <td>0.000546</td>\n",
       "    </tr>\n",
       "    <tr>\n",
       "      <th>144353</th>\n",
       "      <td>0.004995</td>\n",
       "      <td>0.975608</td>\n",
       "      <td>0.006607</td>\n",
       "      <td>0.001093</td>\n",
       "      <td>0.000111</td>\n",
       "      <td>0.000813</td>\n",
       "      <td>0.002634</td>\n",
       "      <td>0.006202</td>\n",
       "      <td>0.001937</td>\n",
       "    </tr>\n",
       "    <tr>\n",
       "      <th>144354</th>\n",
       "      <td>0.003587</td>\n",
       "      <td>0.001260</td>\n",
       "      <td>0.000249</td>\n",
       "      <td>0.000614</td>\n",
       "      <td>0.000156</td>\n",
       "      <td>0.121663</td>\n",
       "      <td>0.000187</td>\n",
       "      <td>0.005478</td>\n",
       "      <td>0.866806</td>\n",
       "    </tr>\n",
       "    <tr>\n",
       "      <th>144355</th>\n",
       "      <td>0.006134</td>\n",
       "      <td>0.017422</td>\n",
       "      <td>0.006730</td>\n",
       "      <td>0.001445</td>\n",
       "      <td>0.000402</td>\n",
       "      <td>0.781572</td>\n",
       "      <td>0.123994</td>\n",
       "      <td>0.023805</td>\n",
       "      <td>0.038498</td>\n",
       "    </tr>\n",
       "    <tr>\n",
       "      <th>144356</th>\n",
       "      <td>0.006062</td>\n",
       "      <td>0.000303</td>\n",
       "      <td>0.000258</td>\n",
       "      <td>0.000811</td>\n",
       "      <td>0.000093</td>\n",
       "      <td>0.692807</td>\n",
       "      <td>0.001195</td>\n",
       "      <td>0.297174</td>\n",
       "      <td>0.001298</td>\n",
       "    </tr>\n",
       "    <tr>\n",
       "      <th>144357</th>\n",
       "      <td>0.250238</td>\n",
       "      <td>0.000068</td>\n",
       "      <td>0.000060</td>\n",
       "      <td>0.000105</td>\n",
       "      <td>0.000053</td>\n",
       "      <td>0.000478</td>\n",
       "      <td>0.000350</td>\n",
       "      <td>0.746025</td>\n",
       "      <td>0.002623</td>\n",
       "    </tr>\n",
       "    <tr>\n",
       "      <th>144358</th>\n",
       "      <td>0.000087</td>\n",
       "      <td>0.001956</td>\n",
       "      <td>0.000264</td>\n",
       "      <td>0.000516</td>\n",
       "      <td>0.996691</td>\n",
       "      <td>0.000074</td>\n",
       "      <td>0.000055</td>\n",
       "      <td>0.000117</td>\n",
       "      <td>0.000241</td>\n",
       "    </tr>\n",
       "    <tr>\n",
       "      <th>144359</th>\n",
       "      <td>0.000323</td>\n",
       "      <td>0.000060</td>\n",
       "      <td>0.000046</td>\n",
       "      <td>0.001204</td>\n",
       "      <td>0.000121</td>\n",
       "      <td>0.993282</td>\n",
       "      <td>0.000225</td>\n",
       "      <td>0.000774</td>\n",
       "      <td>0.003966</td>\n",
       "    </tr>\n",
       "    <tr>\n",
       "      <th>144360</th>\n",
       "      <td>0.003137</td>\n",
       "      <td>0.688294</td>\n",
       "      <td>0.249969</td>\n",
       "      <td>0.028109</td>\n",
       "      <td>0.000693</td>\n",
       "      <td>0.003639</td>\n",
       "      <td>0.013361</td>\n",
       "      <td>0.003286</td>\n",
       "      <td>0.009511</td>\n",
       "    </tr>\n",
       "    <tr>\n",
       "      <th>144361</th>\n",
       "      <td>0.004339</td>\n",
       "      <td>0.000115</td>\n",
       "      <td>0.000179</td>\n",
       "      <td>0.000065</td>\n",
       "      <td>0.000014</td>\n",
       "      <td>0.027557</td>\n",
       "      <td>0.966709</td>\n",
       "      <td>0.000889</td>\n",
       "      <td>0.000133</td>\n",
       "    </tr>\n",
       "    <tr>\n",
       "      <th>144362</th>\n",
       "      <td>0.000627</td>\n",
       "      <td>0.388562</td>\n",
       "      <td>0.548832</td>\n",
       "      <td>0.056302</td>\n",
       "      <td>0.000330</td>\n",
       "      <td>0.000893</td>\n",
       "      <td>0.002808</td>\n",
       "      <td>0.000578</td>\n",
       "      <td>0.001069</td>\n",
       "    </tr>\n",
       "    <tr>\n",
       "      <th>144363</th>\n",
       "      <td>0.003576</td>\n",
       "      <td>0.023741</td>\n",
       "      <td>0.653985</td>\n",
       "      <td>0.210428</td>\n",
       "      <td>0.000187</td>\n",
       "      <td>0.000870</td>\n",
       "      <td>0.103784</td>\n",
       "      <td>0.002377</td>\n",
       "      <td>0.001052</td>\n",
       "    </tr>\n",
       "    <tr>\n",
       "      <th>144364</th>\n",
       "      <td>0.626202</td>\n",
       "      <td>0.005965</td>\n",
       "      <td>0.002893</td>\n",
       "      <td>0.006160</td>\n",
       "      <td>0.000347</td>\n",
       "      <td>0.206759</td>\n",
       "      <td>0.048769</td>\n",
       "      <td>0.017582</td>\n",
       "      <td>0.085322</td>\n",
       "    </tr>\n",
       "    <tr>\n",
       "      <th>144365</th>\n",
       "      <td>0.001573</td>\n",
       "      <td>0.245846</td>\n",
       "      <td>0.597147</td>\n",
       "      <td>0.100259</td>\n",
       "      <td>0.000295</td>\n",
       "      <td>0.000813</td>\n",
       "      <td>0.053531</td>\n",
       "      <td>0.000298</td>\n",
       "      <td>0.000237</td>\n",
       "    </tr>\n",
       "    <tr>\n",
       "      <th>144366</th>\n",
       "      <td>0.000476</td>\n",
       "      <td>0.610957</td>\n",
       "      <td>0.247670</td>\n",
       "      <td>0.129381</td>\n",
       "      <td>0.000181</td>\n",
       "      <td>0.000558</td>\n",
       "      <td>0.009938</td>\n",
       "      <td>0.000577</td>\n",
       "      <td>0.000262</td>\n",
       "    </tr>\n",
       "    <tr>\n",
       "      <th>144367</th>\n",
       "      <td>0.000542</td>\n",
       "      <td>0.328119</td>\n",
       "      <td>0.019089</td>\n",
       "      <td>0.650848</td>\n",
       "      <td>0.000214</td>\n",
       "      <td>0.000086</td>\n",
       "      <td>0.000956</td>\n",
       "      <td>0.000069</td>\n",
       "      <td>0.000076</td>\n",
       "    </tr>\n",
       "    <tr>\n",
       "      <th>144368</th>\n",
       "      <td>0.000620</td>\n",
       "      <td>0.514412</td>\n",
       "      <td>0.426092</td>\n",
       "      <td>0.031157</td>\n",
       "      <td>0.000420</td>\n",
       "      <td>0.001722</td>\n",
       "      <td>0.025109</td>\n",
       "      <td>0.000234</td>\n",
       "      <td>0.000235</td>\n",
       "    </tr>\n",
       "  </tbody>\n",
       "</table>\n",
       "<p>144368 rows × 9 columns</p>\n",
       "</div>"
      ],
      "text/plain": [
       "         Class_1   Class_2   Class_3   Class_4   Class_5   Class_6   Class_7  \\\n",
       "id                                                                             \n",
       "1       0.000613  0.093754  0.135399  0.762095  0.000166  0.000206  0.007408   \n",
       "2       0.004474  0.015783  0.003136  0.001929  0.001160  0.639704  0.004764   \n",
       "3       0.000024  0.000020  0.000041  0.000014  0.000003  0.998649  0.000039   \n",
       "4       0.000391  0.718611  0.272982  0.005721  0.000130  0.000150  0.000266   \n",
       "5       0.106963  0.000688  0.000476  0.000354  0.000849  0.003329  0.001811   \n",
       "6       0.000131  0.190721  0.804252  0.000295  0.001456  0.000952  0.000673   \n",
       "7       0.000419  0.001039  0.000912  0.000360  0.000010  0.001364  0.003518   \n",
       "8       0.000181  0.974305  0.011935  0.009361  0.000086  0.000285  0.003690   \n",
       "9       0.001705  0.351371  0.556009  0.081958  0.000173  0.000526  0.007685   \n",
       "10      0.012192  0.740764  0.047490  0.000640  0.003279  0.019824  0.006252   \n",
       "11      0.018264  0.389169  0.360515  0.057740  0.002083  0.008022  0.160118   \n",
       "12      0.054754  0.000802  0.000395  0.000178  0.000973  0.056100  0.000302   \n",
       "13      0.000166  0.000229  0.000036  0.000908  0.998400  0.000035  0.000057   \n",
       "14      0.001021  0.943815  0.024578  0.010594  0.000298  0.004691  0.003077   \n",
       "15      0.012841  0.782566  0.122101  0.017522  0.001248  0.006767  0.011156   \n",
       "16      0.379549  0.003401  0.003695  0.000743  0.000171  0.033798  0.225322   \n",
       "17      0.001574  0.000039  0.000011  0.000071  0.000018  0.997510  0.000141   \n",
       "18      0.000009  0.000026  0.000071  0.000016  0.000003  0.999760  0.000013   \n",
       "19      0.000376  0.000441  0.000148  0.003717  0.993556  0.000792  0.000604   \n",
       "20      0.000567  0.884886  0.037298  0.070761  0.000222  0.001867  0.002255   \n",
       "21      0.000685  0.000041  0.000028  0.000241  0.000040  0.997811  0.000096   \n",
       "22      0.010361  0.000127  0.000052  0.000033  0.000015  0.000705  0.002700   \n",
       "23      0.002664  0.770890  0.084069  0.119108  0.000576  0.001902  0.006388   \n",
       "24      0.023227  0.003344  0.001320  0.000700  0.000600  0.022173  0.001924   \n",
       "25      0.066595  0.000829  0.000418  0.000233  0.000222  0.021175  0.000756   \n",
       "26      0.005521  0.000066  0.000062  0.000034  0.000010  0.000193  0.000251   \n",
       "27      0.000132  0.046839  0.930684  0.021453  0.000063  0.000249  0.000120   \n",
       "28      0.000445  0.880633  0.104492  0.011600  0.000114  0.000599  0.000866   \n",
       "29      0.000228  0.319460  0.651765  0.022099  0.000142  0.002963  0.002120   \n",
       "30      0.000486  0.358713  0.637803  0.001106  0.000320  0.000329  0.000456   \n",
       "...          ...       ...       ...       ...       ...       ...       ...   \n",
       "144339  0.001373  0.389258  0.350540  0.063283  0.000384  0.002395  0.189534   \n",
       "144340  0.000085  0.000204  0.000119  0.000055  0.000020  0.998895  0.000408   \n",
       "144341  0.011605  0.145946  0.100092  0.490528  0.000521  0.040412  0.116511   \n",
       "144342  0.000560  0.733623  0.222338  0.042326  0.000101  0.000300  0.000403   \n",
       "144343  0.000021  0.000040  0.000035  0.000054  0.000009  0.999575  0.000086   \n",
       "144344  0.000594  0.000038  0.000034  0.000032  0.000014  0.000375  0.000352   \n",
       "144345  0.000673  0.909054  0.081389  0.006732  0.000168  0.000238  0.000670   \n",
       "144346  0.006567  0.000386  0.000116  0.002276  0.000114  0.984991  0.001269   \n",
       "144347  0.000563  0.000484  0.000238  0.000428  0.989910  0.000372  0.000284   \n",
       "144348  0.000857  0.218292  0.401112  0.368455  0.000278  0.002726  0.005852   \n",
       "144349  0.000635  0.842311  0.112413  0.032290  0.000180  0.002270  0.001488   \n",
       "144350  0.000684  0.481571  0.464503  0.046204  0.000864  0.000710  0.004478   \n",
       "144351  0.001362  0.000180  0.000168  0.001451  0.000074  0.990970  0.002107   \n",
       "144352  0.000773  0.874095  0.103786  0.013248  0.000156  0.001003  0.003968   \n",
       "144353  0.004995  0.975608  0.006607  0.001093  0.000111  0.000813  0.002634   \n",
       "144354  0.003587  0.001260  0.000249  0.000614  0.000156  0.121663  0.000187   \n",
       "144355  0.006134  0.017422  0.006730  0.001445  0.000402  0.781572  0.123994   \n",
       "144356  0.006062  0.000303  0.000258  0.000811  0.000093  0.692807  0.001195   \n",
       "144357  0.250238  0.000068  0.000060  0.000105  0.000053  0.000478  0.000350   \n",
       "144358  0.000087  0.001956  0.000264  0.000516  0.996691  0.000074  0.000055   \n",
       "144359  0.000323  0.000060  0.000046  0.001204  0.000121  0.993282  0.000225   \n",
       "144360  0.003137  0.688294  0.249969  0.028109  0.000693  0.003639  0.013361   \n",
       "144361  0.004339  0.000115  0.000179  0.000065  0.000014  0.027557  0.966709   \n",
       "144362  0.000627  0.388562  0.548832  0.056302  0.000330  0.000893  0.002808   \n",
       "144363  0.003576  0.023741  0.653985  0.210428  0.000187  0.000870  0.103784   \n",
       "144364  0.626202  0.005965  0.002893  0.006160  0.000347  0.206759  0.048769   \n",
       "144365  0.001573  0.245846  0.597147  0.100259  0.000295  0.000813  0.053531   \n",
       "144366  0.000476  0.610957  0.247670  0.129381  0.000181  0.000558  0.009938   \n",
       "144367  0.000542  0.328119  0.019089  0.650848  0.000214  0.000086  0.000956   \n",
       "144368  0.000620  0.514412  0.426092  0.031157  0.000420  0.001722  0.025109   \n",
       "\n",
       "         Class_8   Class_9  \n",
       "id                          \n",
       "1       0.000281  0.000078  \n",
       "2       0.327112  0.001938  \n",
       "3       0.001158  0.000052  \n",
       "4       0.000338  0.001412  \n",
       "5       0.132189  0.753341  \n",
       "6       0.001403  0.000118  \n",
       "7       0.991980  0.000399  \n",
       "8       0.000068  0.000089  \n",
       "9       0.000263  0.000309  \n",
       "10      0.166819  0.002739  \n",
       "11      0.001830  0.002260  \n",
       "12      0.005335  0.881161  \n",
       "13      0.000062  0.000108  \n",
       "14      0.006170  0.005756  \n",
       "15      0.004313  0.041486  \n",
       "16      0.345567  0.007753  \n",
       "17      0.000307  0.000328  \n",
       "18      0.000075  0.000028  \n",
       "19      0.000259  0.000107  \n",
       "20      0.000689  0.001455  \n",
       "21      0.000383  0.000675  \n",
       "22      0.985750  0.000255  \n",
       "23      0.001684  0.012718  \n",
       "24      0.801139  0.145573  \n",
       "25      0.019425  0.890348  \n",
       "26      0.993590  0.000273  \n",
       "27      0.000205  0.000255  \n",
       "28      0.000483  0.000767  \n",
       "29      0.000506  0.000718  \n",
       "30      0.000283  0.000503  \n",
       "...          ...       ...  \n",
       "144339  0.001899  0.001334  \n",
       "144340  0.000118  0.000097  \n",
       "144341  0.085690  0.008694  \n",
       "144342  0.000209  0.000140  \n",
       "144343  0.000118  0.000063  \n",
       "144344  0.997403  0.001160  \n",
       "144345  0.000911  0.000164  \n",
       "144346  0.003237  0.001044  \n",
       "144347  0.007198  0.000523  \n",
       "144348  0.000736  0.001693  \n",
       "144349  0.000902  0.007512  \n",
       "144350  0.000740  0.000246  \n",
       "144351  0.003351  0.000336  \n",
       "144352  0.002425  0.000546  \n",
       "144353  0.006202  0.001937  \n",
       "144354  0.005478  0.866806  \n",
       "144355  0.023805  0.038498  \n",
       "144356  0.297174  0.001298  \n",
       "144357  0.746025  0.002623  \n",
       "144358  0.000117  0.000241  \n",
       "144359  0.000774  0.003966  \n",
       "144360  0.003286  0.009511  \n",
       "144361  0.000889  0.000133  \n",
       "144362  0.000578  0.001069  \n",
       "144363  0.002377  0.001052  \n",
       "144364  0.017582  0.085322  \n",
       "144365  0.000298  0.000237  \n",
       "144366  0.000577  0.000262  \n",
       "144367  0.000069  0.000076  \n",
       "144368  0.000234  0.000235  \n",
       "\n",
       "[144368 rows x 9 columns]"
      ]
     },
     "execution_count": 8,
     "metadata": {},
     "output_type": "execute_result"
    }
   ],
   "source": [
    "submission_result"
   ]
  },
  {
   "cell_type": "code",
   "execution_count": 9,
   "metadata": {
    "scrolled": true
   },
   "outputs": [
    {
     "data": {
      "text/plain": [
       "<Figure size 432x288 with 0 Axes>"
      ]
     },
     "metadata": {},
     "output_type": "display_data"
    },
    {
     "data": {
      "image/png": "[encoded data removed]",
      "text/plain": [
       "<Figure size 432x288 with 1 Axes>"
      ]
     },
     "metadata": {},
     "output_type": "display_data"
    },
    {
     "data": {
      "image/png": "[encoded data removed]",
      "text/plain": [
       "<Figure size 432x1440 with 1 Axes>"
      ]
     },
     "metadata": {},
     "output_type": "display_data"
    }
   ],
   "source": [
    "# # create a feature map\n",
    "# outfile = open('xgb.fmap', 'w')\n",
    "# i = 0\n",
    "# for feat in features:\n",
    "#     outfile.write('{0}\\t{1}\\tq\\n'.format(i, feat))\n",
    "#     i = i + 1\n",
    "# outfile.close()\n",
    "\n",
    "# # plot feature importance\n",
    "# importance = gbm.get_fscore(fmap='xgb.fmap')\n",
    "# importance = sorted(importance.items(), key=operator.itemgetter(1))\n",
    "# df = pd.DataFrame(importance, columns=['feature', 'fscore'])\n",
    "# df['fscore'] = df['fscore'] / df['fscore'].sum()\n",
    "# plt.figure()\n",
    "# df.plot()\n",
    "# df.plot(kind='barh', x='feature', y='fscore', legend=False, figsize=(6, 20))\n",
    "# plt.title('XGBoost Feature Importance')\n",
    "# plt.xlabel('relative importance')\n",
    "# plt.gcf().savefig('feature_importance_xgb.png')\n",
    "\n"
   ]
  },
  {
   "cell_type": "code",
   "execution_count": 10,
   "metadata": {},
   "outputs": [],
   "source": [
    "# create submission file\n",
    "pred = pd.DataFrame(pred, index=sample.id.values, columns=sample.columns[1:])\n",
    "pred.to_csv(savepath + 'submission.csv', index_label='id')"
   ]
  },
  {
   "cell_type": "markdown",
   "metadata": {},
   "source": [
    "# 以下適当なコード"
   ]
  },
  {
   "cell_type": "code",
   "execution_count": 12,
   "metadata": {
    "collapsed": true
   },
   "outputs": [
    {
     "ename": "KeyError",
     "evalue": "\"labels ['target'] not contained in axis\"",
     "output_type": "error",
     "traceback": [
      "\u001b[0;31m---------------------------------------------------------------------------\u001b[0m",
      "\u001b[0;31mKeyError\u001b[0m                                  Traceback (most recent call last)",
      "\u001b[0;32m<ipython-input-12-efd49ea557a5>\u001b[0m in \u001b[0;36m<module>\u001b[0;34m()\u001b[0m\n\u001b[0;32m----> 1\u001b[0;31m \u001b[0mtrain\u001b[0m \u001b[0;34m=\u001b[0m \u001b[0mdf\u001b[0m\u001b[0;34m.\u001b[0m\u001b[0mdrop\u001b[0m\u001b[0;34m(\u001b[0m\u001b[0;34m'target'\u001b[0m\u001b[0;34m,\u001b[0m \u001b[0maxis\u001b[0m\u001b[0;34m=\u001b[0m\u001b[0;36m1\u001b[0m\u001b[0;34m)\u001b[0m\u001b[0;34m\u001b[0m\u001b[0m\n\u001b[0m\u001b[1;32m      2\u001b[0m \u001b[0mtrain\u001b[0m \u001b[0;34m*=\u001b[0m \u001b[0;36m1\u001b[0m\u001b[0;34m\u001b[0m\u001b[0m\n\u001b[1;32m      3\u001b[0m \u001b[0mlabels\u001b[0m \u001b[0;34m=\u001b[0m \u001b[0mdf\u001b[0m\u001b[0;34m.\u001b[0m\u001b[0mtarget\u001b[0m\u001b[0;34m\u001b[0m\u001b[0m\n\u001b[1;32m      4\u001b[0m \u001b[0mtest\u001b[0m \u001b[0;34m=\u001b[0m \u001b[0mdf_test\u001b[0m\u001b[0;34m\u001b[0m\u001b[0m\n",
      "\u001b[0;32m~/.pyenv/versions/anaconda3-5.2.0/lib/python3.6/site-packages/pandas/core/frame.py\u001b[0m in \u001b[0;36mdrop\u001b[0;34m(self, labels, axis, index, columns, level, inplace, errors)\u001b[0m\n\u001b[1;32m   3692\u001b[0m                                            \u001b[0mindex\u001b[0m\u001b[0;34m=\u001b[0m\u001b[0mindex\u001b[0m\u001b[0;34m,\u001b[0m \u001b[0mcolumns\u001b[0m\u001b[0;34m=\u001b[0m\u001b[0mcolumns\u001b[0m\u001b[0;34m,\u001b[0m\u001b[0;34m\u001b[0m\u001b[0m\n\u001b[1;32m   3693\u001b[0m                                            \u001b[0mlevel\u001b[0m\u001b[0;34m=\u001b[0m\u001b[0mlevel\u001b[0m\u001b[0;34m,\u001b[0m \u001b[0minplace\u001b[0m\u001b[0;34m=\u001b[0m\u001b[0minplace\u001b[0m\u001b[0;34m,\u001b[0m\u001b[0;34m\u001b[0m\u001b[0m\n\u001b[0;32m-> 3694\u001b[0;31m                                            errors=errors)\n\u001b[0m\u001b[1;32m   3695\u001b[0m \u001b[0;34m\u001b[0m\u001b[0m\n\u001b[1;32m   3696\u001b[0m     @rewrite_axis_style_signature('mapper', [('copy', True),\n",
      "\u001b[0;32m~/.pyenv/versions/anaconda3-5.2.0/lib/python3.6/site-packages/pandas/core/generic.py\u001b[0m in \u001b[0;36mdrop\u001b[0;34m(self, labels, axis, index, columns, level, inplace, errors)\u001b[0m\n\u001b[1;32m   3106\u001b[0m         \u001b[0;32mfor\u001b[0m \u001b[0maxis\u001b[0m\u001b[0;34m,\u001b[0m \u001b[0mlabels\u001b[0m \u001b[0;32min\u001b[0m \u001b[0maxes\u001b[0m\u001b[0;34m.\u001b[0m\u001b[0mitems\u001b[0m\u001b[0;34m(\u001b[0m\u001b[0;34m)\u001b[0m\u001b[0;34m:\u001b[0m\u001b[0;34m\u001b[0m\u001b[0m\n\u001b[1;32m   3107\u001b[0m             \u001b[0;32mif\u001b[0m \u001b[0mlabels\u001b[0m \u001b[0;32mis\u001b[0m \u001b[0;32mnot\u001b[0m \u001b[0;32mNone\u001b[0m\u001b[0;34m:\u001b[0m\u001b[0;34m\u001b[0m\u001b[0m\n\u001b[0;32m-> 3108\u001b[0;31m                 \u001b[0mobj\u001b[0m \u001b[0;34m=\u001b[0m \u001b[0mobj\u001b[0m\u001b[0;34m.\u001b[0m\u001b[0m_drop_axis\u001b[0m\u001b[0;34m(\u001b[0m\u001b[0mlabels\u001b[0m\u001b[0;34m,\u001b[0m \u001b[0maxis\u001b[0m\u001b[0;34m,\u001b[0m \u001b[0mlevel\u001b[0m\u001b[0;34m=\u001b[0m\u001b[0mlevel\u001b[0m\u001b[0;34m,\u001b[0m \u001b[0merrors\u001b[0m\u001b[0;34m=\u001b[0m\u001b[0merrors\u001b[0m\u001b[0;34m)\u001b[0m\u001b[0;34m\u001b[0m\u001b[0m\n\u001b[0m\u001b[1;32m   3109\u001b[0m \u001b[0;34m\u001b[0m\u001b[0m\n\u001b[1;32m   3110\u001b[0m         \u001b[0;32mif\u001b[0m \u001b[0minplace\u001b[0m\u001b[0;34m:\u001b[0m\u001b[0;34m\u001b[0m\u001b[0m\n",
      "\u001b[0;32m~/.pyenv/versions/anaconda3-5.2.0/lib/python3.6/site-packages/pandas/core/generic.py\u001b[0m in \u001b[0;36m_drop_axis\u001b[0;34m(self, labels, axis, level, errors)\u001b[0m\n\u001b[1;32m   3138\u001b[0m                 \u001b[0mnew_axis\u001b[0m \u001b[0;34m=\u001b[0m \u001b[0maxis\u001b[0m\u001b[0;34m.\u001b[0m\u001b[0mdrop\u001b[0m\u001b[0;34m(\u001b[0m\u001b[0mlabels\u001b[0m\u001b[0;34m,\u001b[0m \u001b[0mlevel\u001b[0m\u001b[0;34m=\u001b[0m\u001b[0mlevel\u001b[0m\u001b[0;34m,\u001b[0m \u001b[0merrors\u001b[0m\u001b[0;34m=\u001b[0m\u001b[0merrors\u001b[0m\u001b[0;34m)\u001b[0m\u001b[0;34m\u001b[0m\u001b[0m\n\u001b[1;32m   3139\u001b[0m             \u001b[0;32melse\u001b[0m\u001b[0;34m:\u001b[0m\u001b[0;34m\u001b[0m\u001b[0m\n\u001b[0;32m-> 3140\u001b[0;31m                 \u001b[0mnew_axis\u001b[0m \u001b[0;34m=\u001b[0m \u001b[0maxis\u001b[0m\u001b[0;34m.\u001b[0m\u001b[0mdrop\u001b[0m\u001b[0;34m(\u001b[0m\u001b[0mlabels\u001b[0m\u001b[0;34m,\u001b[0m \u001b[0merrors\u001b[0m\u001b[0;34m=\u001b[0m\u001b[0merrors\u001b[0m\u001b[0;34m)\u001b[0m\u001b[0;34m\u001b[0m\u001b[0m\n\u001b[0m\u001b[1;32m   3141\u001b[0m             \u001b[0mdropped\u001b[0m \u001b[0;34m=\u001b[0m \u001b[0mself\u001b[0m\u001b[0;34m.\u001b[0m\u001b[0mreindex\u001b[0m\u001b[0;34m(\u001b[0m\u001b[0;34m**\u001b[0m\u001b[0;34m{\u001b[0m\u001b[0maxis_name\u001b[0m\u001b[0;34m:\u001b[0m \u001b[0mnew_axis\u001b[0m\u001b[0;34m}\u001b[0m\u001b[0;34m)\u001b[0m\u001b[0;34m\u001b[0m\u001b[0m\n\u001b[1;32m   3142\u001b[0m             \u001b[0;32mtry\u001b[0m\u001b[0;34m:\u001b[0m\u001b[0;34m\u001b[0m\u001b[0m\n",
      "\u001b[0;32m~/.pyenv/versions/anaconda3-5.2.0/lib/python3.6/site-packages/pandas/core/indexes/base.py\u001b[0m in \u001b[0;36mdrop\u001b[0;34m(self, labels, errors)\u001b[0m\n\u001b[1;32m   4385\u001b[0m             \u001b[0;32mif\u001b[0m \u001b[0merrors\u001b[0m \u001b[0;34m!=\u001b[0m \u001b[0;34m'ignore'\u001b[0m\u001b[0;34m:\u001b[0m\u001b[0;34m\u001b[0m\u001b[0m\n\u001b[1;32m   4386\u001b[0m                 raise KeyError(\n\u001b[0;32m-> 4387\u001b[0;31m                     'labels %s not contained in axis' % labels[mask])\n\u001b[0m\u001b[1;32m   4388\u001b[0m             \u001b[0mindexer\u001b[0m \u001b[0;34m=\u001b[0m \u001b[0mindexer\u001b[0m\u001b[0;34m[\u001b[0m\u001b[0;34m~\u001b[0m\u001b[0mmask\u001b[0m\u001b[0;34m]\u001b[0m\u001b[0;34m\u001b[0m\u001b[0m\n\u001b[1;32m   4389\u001b[0m         \u001b[0;32mreturn\u001b[0m \u001b[0mself\u001b[0m\u001b[0;34m.\u001b[0m\u001b[0mdelete\u001b[0m\u001b[0;34m(\u001b[0m\u001b[0mindexer\u001b[0m\u001b[0;34m)\u001b[0m\u001b[0;34m\u001b[0m\u001b[0m\n",
      "\u001b[0;31mKeyError\u001b[0m: \"labels ['target'] not contained in axis\""
     ]
    }
   ],
   "source": [
    "train = df.drop('target', axis=1)\n",
    "# train *= 1\n",
    "labels = df.target\n",
    "# test = df_test"
   ]
  },
  {
   "cell_type": "code",
   "execution_count": 1,
   "metadata": {},
   "outputs": [
    {
     "ename": "NameError",
     "evalue": "name 'partial' is not defined",
     "output_type": "error",
     "traceback": [
      "\u001b[0;31m---------------------------------------------------------------------------\u001b[0m",
      "\u001b[0;31mNameError\u001b[0m                                 Traceback (most recent call last)",
      "\u001b[0;32m<ipython-input-1-4543c47f1a42>\u001b[0m in \u001b[0;36m<module>\u001b[0;34m()\u001b[0m\n\u001b[0;32m----> 1\u001b[0;31m \u001b[0mf\u001b[0m \u001b[0;34m=\u001b[0m \u001b[0mpartial\u001b[0m\u001b[0;34m(\u001b[0m\u001b[0mobjective_optuna\u001b[0m\u001b[0;34m,\u001b[0m \u001b[0mtrain\u001b[0m\u001b[0;34m,\u001b[0m \u001b[0mlabels\u001b[0m\u001b[0;34m)\u001b[0m\u001b[0;34m\u001b[0m\u001b[0m\n\u001b[0m\u001b[1;32m      2\u001b[0m \u001b[0mstudy\u001b[0m \u001b[0;34m=\u001b[0m \u001b[0moptuna\u001b[0m\u001b[0;34m.\u001b[0m\u001b[0mcreate_study\u001b[0m\u001b[0;34m(\u001b[0m\u001b[0;34m)\u001b[0m\u001b[0;34m\u001b[0m\u001b[0m\n\u001b[1;32m      3\u001b[0m \u001b[0mstudy\u001b[0m\u001b[0;34m.\u001b[0m\u001b[0moptimize\u001b[0m\u001b[0;34m(\u001b[0m\u001b[0mf\u001b[0m\u001b[0;34m,\u001b[0m \u001b[0mn_trials\u001b[0m\u001b[0;34m=\u001b[0m\u001b[0;36m1\u001b[0m\u001b[0;34m)\u001b[0m\u001b[0;34m\u001b[0m\u001b[0m\n",
      "\u001b[0;31mNameError\u001b[0m: name 'partial' is not defined"
     ]
    }
   ],
   "source": [
    "f = partial(objective_optuna, train, labels)\n",
    "study = optuna.create_study()\n",
    "study.optimize(f, n_trials=1)"
   ]
  },
  {
   "cell_type": "code",
   "execution_count": null,
   "metadata": {},
   "outputs": [],
   "source": []
  }
 ],
 "metadata": {
  "kernelspec": {
   "display_name": "Python 3",
   "language": "python",
   "name": "python3"
  },
  "language_info": {
   "codemirror_mode": {
    "name": "ipython",
    "version": 3
   },
   "file_extension": ".py",
   "mimetype": "text/x-python",
   "name": "python",
   "nbconvert_exporter": "python",
   "pygments_lexer": "ipython3",
   "version": "3.6.5"
  }
 },
 "nbformat": 4,
 "nbformat_minor": 2
}
