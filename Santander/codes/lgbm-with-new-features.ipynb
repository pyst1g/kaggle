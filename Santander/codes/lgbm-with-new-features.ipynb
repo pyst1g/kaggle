{
 "cells": [
  {
   "cell_type": "markdown",
   "metadata": {},
   "source": [
    "from https://www.kaggle.com/ruby33421/lgbm-with-new-features"
   ]
  },
  {
   "cell_type": "markdown",
   "metadata": {
    "_uuid": "93d7b4b8f5f6e5289cfc0312d650744e64905bc7"
   },
   "source": []
  },
  {
   "cell_type": "markdown",
   "metadata": {
    "_cell_guid": "b1076dfc-b9ad-4769-8c92-a6c4dae69d19",
    "_uuid": "8f2839f25d086af736a60e9eeb907d3b93b6e0e5"
   },
   "source": [
    "## Intro\n",
    "Please see Alexey Pronin's kernel (https://www.kaggle.com/graf10a/logistic-regression-with-new-features-feather) to read more on feature engineering and the performance benefit of using feather files.\n",
    "Alexey Pronin's kernel also references Youri Matiounine's work here: (https://www.kaggle.com/ymatioun/santander-linear-model-with-additional-features) \n",
    "\n",
    "The featuring engineering process adds 1000 new features, which means a total of 1200 features for the Santander dataset. The original kernel uses a simple logistic regression for training, which achieves a very good score of 0.896 (AUC). This kernel will use Light GBM model, but instead of using incorporating all the 1K additional features in our model, we will use feature importance to select some of the top engineered features only."
   ]
  },
  {
   "cell_type": "code",
   "execution_count": 39,
   "metadata": {
    "_uuid": "319c9748ad2d9b82cc875000f58afa2129aeb9c3"
   },
   "outputs": [],
   "source": [
    "import feather\n",
    "import gc\n",
    "import keras\n",
    "import lightgbm as lgb\n",
    "import matplotlib.pyplot as plt\n",
    "import numpy as np\n",
    "import optuna\n",
    "import os\n",
    "import time\n",
    "# import shutil\n",
    "import sklearn\n",
    "import pandas as pd\n",
    "import xgboost as xgb\n",
    "\n",
    "from functools import partial\n",
    "from keras.callbacks import EarlyStopping\n",
    "from keras.models import Sequential\n",
    "from keras.layers import Dense, Dropout, Activation\n",
    "from numpy import sort\n",
    "from pprint import pprint\n",
    "from scipy.stats import norm, rankdata\n",
    "from sklearn.pipeline import Pipeline\n",
    "from sklearn.linear_model import LogisticRegression\n",
    "from sklearn.model_selection import cross_validate, StratifiedKFold\n",
    "from sklearn.metrics import roc_curve, auc, roc_auc_score\n",
    "from sklearn.decomposition import PCA\n",
    "\n",
    "\n",
    "#csvデータの呼び出し場所\n",
    "loadpath = \"../input/\"\n",
    "#csvデータの保存場所\n",
    "savepath = \"../output/\""
   ]
  },
  {
   "cell_type": "markdown",
   "metadata": {
    "_uuid": "31a0c430046df842333652c410b3181d800f0551"
   },
   "source": [
    "Now, let's read the CSV files containing the training and testing data and measure how long it takes.\n",
    "\n",
    "Train:"
   ]
  },
  {
   "cell_type": "code",
   "execution_count": null,
   "metadata": {
    "_uuid": "0d080b4a0bf27808a316196c71948a96280ef177"
   },
   "outputs": [],
   "source": [
    "path_train = '../input/train.feather'\n",
    "path_test = '../input/test.feather'\n",
    "\n",
    "print(\"Reading train data...\")\n",
    "start = time.time()\n",
    "train = pd.read_csv('../input/train.csv')\n",
    "end = time.time()\n",
    "\n",
    "print(\"It takes {0:.2f} seconds to read 'train.csv'.\".format(end - start))"
   ]
  },
  {
   "cell_type": "markdown",
   "metadata": {
    "_uuid": "1e6904f34859901e764adde45ed0bb3bc13e4f58"
   },
   "source": [
    "Test:"
   ]
  },
  {
   "cell_type": "code",
   "execution_count": 42,
   "metadata": {
    "_uuid": "0fca1a0b7f595147cc5c3641b1a45c9d7f8e2340"
   },
   "outputs": [
    {
     "name": "stdout",
     "output_type": "stream",
     "text": [
      "Reading test data...\n",
      "It takes 7.54 seconds to read 'test.csv'.\n"
     ]
    }
   ],
   "source": [
    "start = time.time()\n",
    "print(\"Reading test data...\")\n",
    "test = pd.read_csv('../input/test.csv')\n",
    "end = time.time()\n",
    "\n",
    "print(\"It takes {0:.2f} seconds to read 'test.csv'.\".format(end - start))"
   ]
  },
  {
   "cell_type": "code",
   "execution_count": 43,
   "metadata": {
    "_uuid": "733bef277c96bbdec20afcbd9c2009865ea863f8"
   },
   "outputs": [
    {
     "name": "stdout",
     "output_type": "stream",
     "text": [
      "Train:  (200000, 202)\n",
      "Test:  (200000, 201)\n"
     ]
    }
   ],
   "source": [
    "print(\"Train: \",train.shape)\n",
    "print(\"Test: \", test.shape)"
   ]
  },
  {
   "cell_type": "markdown",
   "metadata": {
    "_uuid": "9c74d587203855a0a8eb7da6b2f6abb3090bb60d"
   },
   "source": [
    "Saving the 'target' and 'ID_code' data."
   ]
  },
  {
   "cell_type": "code",
   "execution_count": 44,
   "metadata": {
    "_uuid": "74a87959eb66d371c314180f4877d1afdde136b7"
   },
   "outputs": [],
   "source": [
    "target = train.pop('target')\n",
    "train_ids = train.pop('ID_code')\n",
    "test_ids = test.pop('ID_code')"
   ]
  },
  {
   "cell_type": "markdown",
   "metadata": {
    "_uuid": "8c2c537288b4915a1f860065a2046e47cae19459"
   },
   "source": [
    "Saving the number of rows in 'train' for future use."
   ]
  },
  {
   "cell_type": "code",
   "execution_count": 45,
   "metadata": {
    "_uuid": "b1026519541d70d9206f9941fc29d19005fa1dcd"
   },
   "outputs": [],
   "source": [
    "len_train = len(train)"
   ]
  },
  {
   "cell_type": "markdown",
   "metadata": {
    "_uuid": "af2947142503c41f3c26e9c805e14e033fceb955"
   },
   "source": [
    "Merging test and train."
   ]
  },
  {
   "cell_type": "code",
   "execution_count": 46,
   "metadata": {
    "_uuid": "fc7bb057b85c4a8b12b102e7432e261ff6a92954"
   },
   "outputs": [
    {
     "data": {
      "text/plain": [
       "(400000, 200)"
      ]
     },
     "execution_count": 46,
     "metadata": {},
     "output_type": "execute_result"
    }
   ],
   "source": [
    "merged = pd.concat([train, test])\n",
    "merged.shape"
   ]
  },
  {
   "cell_type": "markdown",
   "metadata": {
    "_uuid": "5b29b8bd47b43d76ee650e12e063c34c3c1ad189"
   },
   "source": [
    "Removing data we no longer need."
   ]
  },
  {
   "cell_type": "code",
   "execution_count": 123,
   "metadata": {
    "_uuid": "bca8a00d9d62f3a4479c524b66d6e906ac155b7e"
   },
   "outputs": [
    {
     "data": {
      "text/plain": [
       "55788"
      ]
     },
     "execution_count": 123,
     "metadata": {},
     "output_type": "execute_result"
    }
   ],
   "source": [
    "del test, train\n",
    "gc.collect()"
   ]
  },
  {
   "cell_type": "markdown",
   "metadata": {
    "_uuid": "ef8301089d9bfd8880ad0165e3d1c248a5fb1fde"
   },
   "source": [
    "Saving the list of original features in a new list `original_features`."
   ]
  },
  {
   "cell_type": "code",
   "execution_count": 124,
   "metadata": {
    "_uuid": "134f8d281a4fafdbbbd51fb3429015d271d895ac"
   },
   "outputs": [],
   "source": [
    "original_features = merged.columns"
   ]
  },
  {
   "cell_type": "markdown",
   "metadata": {
    "_uuid": "c759bfea1d90b899118ed5a153a0189ea10d7a6c"
   },
   "source": [
    "## Computing new features"
   ]
  },
  {
   "cell_type": "code",
   "execution_count": 10,
   "metadata": {
    "_uuid": "06df646dee338e944955dd6059df57cd6c73afa0"
   },
   "outputs": [],
   "source": [
    "for col in merged.columns:\n",
    "    # Normalize the data, so that it can be used in norm.cdf(), \n",
    "    # as though it is a standard normal variable\n",
    "    merged[col] = ((merged[col] - merged[col].mean()) \n",
    "    / merged[col].std()).astype('float32')\n",
    "\n",
    "    # Square\n",
    "    merged[col+'^2'] = merged[col] * merged[col]\n",
    "\n",
    "    # Cube\n",
    "    merged[col+'^3'] = merged[col] * merged[col] * merged[col]\n",
    "\n",
    "    # 4th power\n",
    "    merged[col+'^4'] = merged[col] * merged[col] * merged[col] * merged[col]\n",
    "\n",
    "    # Cumulative percentile (not normalized)\n",
    "    merged[col+'_cp'] = rankdata(merged[col]).astype('float32')\n",
    "\n",
    "    # Cumulative normal percentile\n",
    "    merged[col+'_cnp'] = norm.cdf(merged[col]).astype('float32')"
   ]
  },
  {
   "cell_type": "markdown",
   "metadata": {
    "_uuid": "d5fd487e4440606deb9e936346e982513f0718c9"
   },
   "source": [
    "Getting the list of names of the added features."
   ]
  },
  {
   "cell_type": "code",
   "execution_count": 11,
   "metadata": {
    "_uuid": "456a64b4d2c1ada1b6db546a1d004537df4bd238"
   },
   "outputs": [],
   "source": [
    "new_features = set(merged.columns) - set(original_features)"
   ]
  },
  {
   "cell_type": "markdown",
   "metadata": {
    "_uuid": "8188eb856e421905972cc6f34ab4b43e87dd41f8"
   },
   "source": [
    "Normalize the data. Again."
   ]
  },
  {
   "cell_type": "code",
   "execution_count": 12,
   "metadata": {
    "_uuid": "7180731459fe9ce60f95b94b77f3d7f9a565823d"
   },
   "outputs": [],
   "source": [
    "for col in new_features:\n",
    "    merged[col] = ((merged[col] - merged[col].mean()) \n",
    "    / merged[col].std()).astype('float32')"
   ]
  },
  {
   "cell_type": "markdown",
   "metadata": {
    "_uuid": "3f1039a0b002c1db092a9b3d590759531facc3e6"
   },
   "source": [
    "Saving the data to feather files."
   ]
  },
  {
   "cell_type": "code",
   "execution_count": 22,
   "metadata": {
    "_uuid": "9f04f23ad704daa0207a03c9c6e5d680ac0caed8",
    "scrolled": false
   },
   "outputs": [
    {
     "name": "stdout",
     "output_type": "stream",
     "text": [
      "Writing target to a feather files...\n",
      "Writing train_ids to a feather files...\n",
      "Writing test_ids to a feather files...\n",
      "Writing train to a feather files...\n",
      "Writing test to a feather files...\n"
     ]
    }
   ],
   "source": [
    "path_target = loadpath + 'target.feather'\n",
    "\n",
    "path_train_ids =loadpath + 'train_ids_extra_features.feather'\n",
    "path_test_ids = loadpath + 'test_ids_extra_features.feather'\n",
    "\n",
    "path_train = loadpath + 'train_extra_features.feather'\n",
    "path_test = loadpath + 'test_extra_features.feather'\n",
    "\n",
    "print(\"Writing target to a feather files...\")\n",
    "pd.DataFrame({'target' : target.values}).to_feather(path_target)\n",
    "\n",
    "print(\"Writing train_ids to a feather files...\")\n",
    "pd.DataFrame({'ID_code' : train_ids.values}).to_feather(path_train_ids)\n",
    "\n",
    "print(\"Writing test_ids to a feather files...\")\n",
    "pd.DataFrame({'ID_code' : test_ids.values}).to_feather(path_test_ids)\n",
    "\n",
    "print(\"Writing train to a feather files...\")\n",
    "feather.write_dataframe(merged.iloc[:len_train], path_train)\n",
    "\n",
    "print(\"Writing test to a feather files...\")\n",
    "feather.write_dataframe(merged.iloc[len_train:], path_test)"
   ]
  },
  {
   "cell_type": "markdown",
   "metadata": {
    "_uuid": "640948a1a36e2d3d73f18ceb9cfb816be6d11d7b"
   },
   "source": [
    "Removing data we no longer need."
   ]
  },
  {
   "cell_type": "code",
   "execution_count": 23,
   "metadata": {
    "_cell_guid": "79c7e3d0-c299-4dcb-8224-4455121ee9b0",
    "_uuid": "d629ff2d2480ee46fbb7e2d37f6b5fab8052498a"
   },
   "outputs": [
    {
     "data": {
      "text/plain": [
       "27"
      ]
     },
     "execution_count": 23,
     "metadata": {},
     "output_type": "execute_result"
    }
   ],
   "source": [
    "del target, train_ids, test_ids, merged\n",
    "gc.collect()"
   ]
  },
  {
   "cell_type": "markdown",
   "metadata": {
    "_uuid": "837f988316528d5c3d4530043448fe5849be3fa5"
   },
   "source": [
    "## Loading the data from feather files\n",
    "\n",
    "Now let's load of these data back into memory. This will help us to illustrate the advantage of using the feather file format."
   ]
  },
  {
   "cell_type": "code",
   "execution_count": 5,
   "metadata": {
    "_uuid": "60b26db1cf85167b14f9223af995a8656bdaa316"
   },
   "outputs": [
    {
     "name": "stdout",
     "output_type": "stream",
     "text": [
      "Reading target\n",
      "0.123430 sec\n"
     ]
    }
   ],
   "source": [
    "path_target = loadpath + 'target.feather'\n",
    "\n",
    "path_train_ids = loadpath + 'train_ids_extra_features.feather'\n",
    "path_test_ids = loadpath + 'test_ids_extra_features.feather'\n",
    "\n",
    "path_train = loadpath + 'train_extra_features.feather'\n",
    "path_test = loadpath + 'test_extra_features.feather'\n",
    "\n",
    "print(\"Reading target\")\n",
    "start = time.time()\n",
    "y = feather.read_dataframe(path_target).values.ravel()\n",
    "end = time.time()\n",
    "\n",
    "print(\"{0:5f} sec\".format(end - start))"
   ]
  },
  {
   "cell_type": "code",
   "execution_count": 6,
   "metadata": {
    "_uuid": "2f60516cb907e9e62f97eb99ebb00db079edc6e3"
   },
   "outputs": [
    {
     "name": "stdout",
     "output_type": "stream",
     "text": [
      "Reading train_ids\n",
      "0.094936 sec\n"
     ]
    }
   ],
   "source": [
    "print(\"Reading train_ids\")\n",
    "start = time.time()\n",
    "train_ids = feather.read_dataframe(path_train_ids).values.ravel()\n",
    "end = time.time()\n",
    "\n",
    "print(\"{0:5f} sec\".format(end - start))"
   ]
  },
  {
   "cell_type": "code",
   "execution_count": 7,
   "metadata": {
    "_uuid": "4c8ad8191f0a4cd976645e7d7b59f7c16c48311f"
   },
   "outputs": [
    {
     "name": "stdout",
     "output_type": "stream",
     "text": [
      "Reading test_ids\n",
      "0.124350 sec\n"
     ]
    }
   ],
   "source": [
    "print(\"Reading test_ids\")\n",
    "start = time.time()\n",
    "test_ids = feather.read_dataframe(path_test_ids).values.ravel()\n",
    "end = time.time()\n",
    "\n",
    "print(\"{0:5f} sec\".format(end - start))"
   ]
  },
  {
   "cell_type": "code",
   "execution_count": 8,
   "metadata": {
    "_uuid": "afe5ba0c48d46a05e09c2de00b094a5a479fded6"
   },
   "outputs": [
    {
     "name": "stdout",
     "output_type": "stream",
     "text": [
      "Reading training data\n",
      "9.412650 sec\n"
     ]
    }
   ],
   "source": [
    "print(\"Reading training data\")\n",
    "\n",
    "start = time.time()\n",
    "train_logistic = feather.read_dataframe(path_train)\n",
    "train = train_logistic.iloc[:,:200]\n",
    "end = time.time()\n",
    "\n",
    "print(\"{0:5f} sec\".format(end - start))"
   ]
  },
  {
   "cell_type": "code",
   "execution_count": 9,
   "metadata": {
    "_uuid": "4764997b330eb79e2962c6ea207b2bf43d75b7a0"
   },
   "outputs": [
    {
     "name": "stdout",
     "output_type": "stream",
     "text": [
      "Reading testing data\n",
      "9.521126 sec\n"
     ]
    }
   ],
   "source": [
    "print(\"Reading testing data\")\n",
    "\n",
    "start = time.time()\n",
    "test_logistic = feather.read_dataframe(path_test)\n",
    "test = test_logistic.iloc[:,:200]\n",
    "end = time.time()\n",
    "\n",
    "print(\"{0:5f} sec\".format(end - start))"
   ]
  },
  {
   "cell_type": "code",
   "execution_count": 10,
   "metadata": {
    "_uuid": "8c278ce260046cb0adfa633f557cf97fa63f2e58"
   },
   "outputs": [
    {
     "name": "stdout",
     "output_type": "stream",
     "text": [
      "Total number of features:  200\n"
     ]
    }
   ],
   "source": [
    "print(\"Total number of features: \",train.shape[1])"
   ]
  },
  {
   "cell_type": "code",
   "execution_count": 11,
   "metadata": {},
   "outputs": [],
   "source": [
    "original_features = train.columns"
   ]
  },
  {
   "cell_type": "markdown",
   "metadata": {
    "_uuid": "d3d1c00f01bdcc40525a6d59cf3bc463bdbcef11"
   },
   "source": [
    "Hopefully now you can see the great advantage of using the feather files: it is blazing fast. Just compare the timings shown above with those measured for the original CSV files: the processed data sets (stored in the feather file format) that we have just loaded are much bigger in size that the original ones (stored in the CSV files) but we can load them in almost no time!\n",
    "\n",
    "# Logistic regession with the added features.\n",
    "\n",
    "Now let's finally do some modeling! More specifically, we will build a straighforward logistic regression model to see whether or not we can improve on linear regression result (LB 0.894). "
   ]
  },
  {
   "cell_type": "code",
   "execution_count": 13,
   "metadata": {
    "_uuid": "72ddd6eee811099caba7f2cc610e7f099d8fa84f"
   },
   "outputs": [],
   "source": [
    "NFOLDS = 20\n",
    "RANDOM_STATE = 871972\n",
    "\n",
    "feature_list = train_logistic.columns\n",
    "\n",
    "# test = test[feature_list]\n",
    "\n",
    "# X = train.values.astype(float)\n",
    "# X_test = test.values.astype(float)\n",
    "\n",
    "folds = StratifiedKFold(n_splits=NFOLDS, shuffle=True, \n",
    "                        random_state=RANDOM_STATE)\n"
   ]
  },
  {
   "cell_type": "code",
   "execution_count": 14,
   "metadata": {},
   "outputs": [
    {
     "name": "stdout",
     "output_type": "stream",
     "text": [
      "Current Fold: 0\n",
      "AUC = 0.8867748850235262\n",
      "Current Fold: 1\n",
      "AUC = 0.9077794663852814\n",
      "Current Fold: 2\n",
      "AUC = 0.905253941520856\n",
      "Current Fold: 3\n",
      "AUC = 0.8912520222677607\n",
      "Current Fold: 4\n",
      "AUC = 0.89269715900763\n",
      "Current Fold: 5\n",
      "AUC = 0.8970970605560303\n",
      "Current Fold: 6\n",
      "AUC = 0.9029870104729272\n",
      "Current Fold: 7\n",
      "AUC = 0.8989451851360208\n",
      "Current Fold: 8\n",
      "AUC = 0.899775607786526\n",
      "Current Fold: 9\n",
      "AUC = 0.9002646578115537\n",
      "Current Fold: 10\n",
      "AUC = 0.9005251673815469\n",
      "Current Fold: 11\n",
      "AUC = 0.9004905433919894\n",
      "Current Fold: 12\n",
      "AUC = 0.8970716180077932\n",
      "Current Fold: 13\n",
      "AUC = 0.8953268122976004\n",
      "Current Fold: 14\n",
      "AUC = 0.8999129975470066\n",
      "Current Fold: 15\n",
      "AUC = 0.8937476043904989\n",
      "Current Fold: 16\n",
      "AUC = 0.8953758168579007\n",
      "Current Fold: 17\n",
      "AUC = 0.8945592216792636\n",
      "Current Fold: 18\n",
      "AUC = 0.9018440966539624\n",
      "Current Fold: 19\n",
      "AUC = 0.8896115371753676\n"
     ]
    }
   ],
   "source": [
    "oof_preds = np.zeros((len(train_logistic), 1))\n",
    "test_preds = np.zeros((len(test_logistic), 1))\n",
    "roc_cv =[]\n",
    "\n",
    "for fold_, (trn_, val_) in enumerate(folds.split(y, y)):\n",
    "    print(\"Current Fold: {}\".format(fold_))\n",
    "    trn_x, trn_y = train_logistic.iloc[trn_, :], y[trn_]\n",
    "    val_x, val_y = train_logistic.iloc[val_, :], y[val_]\n",
    "    \n",
    "    clf =  LogisticRegression(solver='lbfgs', max_iter=1500, C=10)\n",
    "\n",
    "    clf.fit(trn_x, trn_y)\n",
    "\n",
    "    val_pred = clf.predict_proba(val_x)[:,1]\n",
    "    test_fold_pred = clf.predict_proba(test_logistic)[:,1]\n",
    "    \n",
    "    roc_cv.append(roc_auc_score(val_y, val_pred))\n",
    "    \n",
    "    print(\"AUC = {}\".format(roc_auc_score(val_y, val_pred)))\n",
    "    oof_preds[val_, :] = val_pred.reshape((-1, 1))\n",
    "    test_preds += test_fold_pred.reshape((-1, 1))\n",
    "test_preds/=NFOLDS\n",
    "test_preds = test_preds.reshape(-1)"
   ]
  },
  {
   "cell_type": "markdown",
   "metadata": {
    "_uuid": "de1e4b00f84f8299f1eeff9f09e63e6299add289"
   },
   "source": [
    "### Feature Importance & Feature Selection"
   ]
  },
  {
   "cell_type": "code",
   "execution_count": 15,
   "metadata": {
    "_uuid": "6df10f59e9448863064fddd4312961ddbe243f20"
   },
   "outputs": [],
   "source": [
    "feature_importance = abs(clf.coef_[0])\n",
    "sorted_idx = np.argsort(feature_importance)[::-1]"
   ]
  },
  {
   "cell_type": "code",
   "execution_count": 16,
   "metadata": {
    "_uuid": "bca957e6843f437ec776670c613e0da3280f28ed"
   },
   "outputs": [],
   "source": [
    "top_new_features = feature_list[sorted_idx[0:500]]"
   ]
  },
  {
   "cell_type": "code",
   "execution_count": 17,
   "metadata": {
    "_uuid": "ec76bf256250c72a45ad81a6c28134e47088ed2f"
   },
   "outputs": [],
   "source": [
    "train_newf = train_logistic[top_new_features]\n",
    "Orig_feature_list = list(original_features)"
   ]
  },
  {
   "cell_type": "code",
   "execution_count": 18,
   "metadata": {
    "_uuid": "229583d56728e9a1a98ce539f4ff9bcc6b549f72"
   },
   "outputs": [
    {
     "data": {
      "text/plain": [
       "348"
      ]
     },
     "execution_count": 18,
     "metadata": {},
     "output_type": "execute_result"
    }
   ],
   "source": [
    "cols = [col for col in train_newf.columns if col not in Orig_feature_list]\n",
    "len(cols)"
   ]
  },
  {
   "cell_type": "code",
   "execution_count": 19,
   "metadata": {
    "_uuid": "132fd0efaf0adf943b038720f8f1062c319aafd3"
   },
   "outputs": [],
   "source": [
    "# train2 = pd.concat([train[original_features], train[cols]], axis=1)\n",
    "# test2 = test[train2.columns]"
   ]
  },
  {
   "cell_type": "markdown",
   "metadata": {
    "_uuid": "bb198e54be7b7da392a35c0db059741e0db49149"
   },
   "source": [
    "## LGBM model with additional features"
   ]
  },
  {
   "cell_type": "code",
   "execution_count": 20,
   "metadata": {
    "_uuid": "d176ad7c3da9dc712e3abf6f57ce7271ea7e7a94"
   },
   "outputs": [],
   "source": [
    "params_tuned ={\n",
    "    'max_leaves': 100,\n",
    "    'min_data_in_leaf': 89,\n",
    "    'max_depth': 11,\n",
    "    'learning_rate': 0.01519964329847745,\n",
    "    'bagging_fraction': 0.8310261424943991,\n",
    "    'feature_fraction': 0.035769744520573576,\n",
    "    'reg_alpha': 3.739283733911206,\n",
    "    'reg_lambda': 1.97124727896967, \n",
    "    'colsample_bytree': 0.15174322059088163,\n",
    "    'min_gain_to_split': 0.004132432935314933,\n",
    "    'min_child_weight': 2.534409393882509,\n",
    "    'boosting': 'gbdt',\n",
    "    'bagging_freq': 5, \n",
    "    'num_threads': 4,\n",
    "    'objective': 'binary',\n",
    "    'random_state': 823,\n",
    "    'metric': 'auc',\n",
    "    'verbosity': -1,\n",
    "} \n",
    "\n",
    "\n",
    "\n",
    "# {'num_leaves': 9,\n",
    "#          'min_data_in_leaf': 42,\n",
    "#          'objective': 'binary',\n",
    "#          'max_depth': 11,\n",
    "#          'learning_rate': 0.03,\n",
    "#          'boosting': 'gbdt',\n",
    "# #          'bagging_freq': 5,\n",
    "#          'bagging_fraction': 0.8,\n",
    "#          'feature_fraction': 0.8201,\n",
    "#          'bagging_seed': 11,\n",
    "#          'reg_alpha': 3,\n",
    "#          'reg_lambda': 5,\n",
    "#          'random_state': 42,\n",
    "#          'metric': 'auc',\n",
    "#          'verbosity': -1,\n",
    "#          'colsample_bytree': 0.7,\n",
    "# #         'subsample': 0.81,\n",
    "#          'min_gain_to_split': 0.02,\n",
    "# #         'min_child_weight': 19.428902804238373,\n",
    "#          'num_threads': 4,\n",
    "# #          'tree_learner': 'data'\n",
    "#         }\n"
   ]
  },
  {
   "cell_type": "code",
   "execution_count": 21,
   "metadata": {
    "scrolled": true
   },
   "outputs": [
    {
     "name": "stdout",
     "output_type": "stream",
     "text": [
      "Fold 0 started at Fri Mar 15 21:12:44 2019\n",
      "Training until validation scores don't improve for 200 rounds.\n",
      "[300]\ttraining's auc: 0.915478\tvalid_1's auc: 0.875105\n",
      "[600]\ttraining's auc: 0.924373\tvalid_1's auc: 0.880753\n",
      "[900]\ttraining's auc: 0.929587\tvalid_1's auc: 0.88353\n",
      "[1200]\ttraining's auc: 0.933211\tvalid_1's auc: 0.88448\n",
      "[1500]\ttraining's auc: 0.936738\tvalid_1's auc: 0.885449\n",
      "[1800]\ttraining's auc: 0.939684\tvalid_1's auc: 0.886369\n",
      "[2100]\ttraining's auc: 0.942546\tvalid_1's auc: 0.887541\n",
      "[2400]\ttraining's auc: 0.945293\tvalid_1's auc: 0.888059\n",
      "[2700]\ttraining's auc: 0.947978\tvalid_1's auc: 0.88841\n",
      "[3000]\ttraining's auc: 0.950503\tvalid_1's auc: 0.888534\n",
      "[3300]\ttraining's auc: 0.952971\tvalid_1's auc: 0.888871\n",
      "[3600]\ttraining's auc: 0.955354\tvalid_1's auc: 0.889461\n",
      "Early stopping, best iteration is:\n",
      "[3595]\ttraining's auc: 0.955319\tvalid_1's auc: 0.889481\n",
      "AUC = 0.8894811181973635\n",
      "Fold 1 started at Fri Mar 15 21:13:58 2019\n",
      "Training until validation scores don't improve for 200 rounds.\n",
      "[300]\ttraining's auc: 0.914685\tvalid_1's auc: 0.894018\n",
      "[600]\ttraining's auc: 0.923352\tvalid_1's auc: 0.900348\n",
      "[900]\ttraining's auc: 0.928584\tvalid_1's auc: 0.904178\n",
      "[1200]\ttraining's auc: 0.932268\tvalid_1's auc: 0.905464\n",
      "[1500]\ttraining's auc: 0.935929\tvalid_1's auc: 0.906576\n",
      "[1800]\ttraining's auc: 0.938897\tvalid_1's auc: 0.907529\n",
      "[2100]\ttraining's auc: 0.941867\tvalid_1's auc: 0.908206\n",
      "[2400]\ttraining's auc: 0.944644\tvalid_1's auc: 0.908999\n",
      "[2700]\ttraining's auc: 0.947307\tvalid_1's auc: 0.909549\n",
      "[3000]\ttraining's auc: 0.949833\tvalid_1's auc: 0.909838\n",
      "[3300]\ttraining's auc: 0.952346\tvalid_1's auc: 0.910201\n",
      "[3600]\ttraining's auc: 0.954711\tvalid_1's auc: 0.910444\n",
      "Early stopping, best iteration is:\n",
      "[3676]\ttraining's auc: 0.955326\tvalid_1's auc: 0.910508\n",
      "AUC = 0.9105075998398404\n",
      "Fold 2 started at Fri Mar 15 21:15:13 2019\n",
      "Training until validation scores don't improve for 200 rounds.\n",
      "[300]\ttraining's auc: 0.914826\tvalid_1's auc: 0.892119\n",
      "[600]\ttraining's auc: 0.923701\tvalid_1's auc: 0.898425\n",
      "[900]\ttraining's auc: 0.928881\tvalid_1's auc: 0.901202\n",
      "[1200]\ttraining's auc: 0.932519\tvalid_1's auc: 0.903297\n",
      "[1500]\ttraining's auc: 0.93609\tvalid_1's auc: 0.904439\n",
      "[1800]\ttraining's auc: 0.939061\tvalid_1's auc: 0.905259\n",
      "[2100]\ttraining's auc: 0.941982\tvalid_1's auc: 0.905748\n",
      "[2400]\ttraining's auc: 0.944748\tvalid_1's auc: 0.905738\n",
      "[2700]\ttraining's auc: 0.947422\tvalid_1's auc: 0.906278\n",
      "[3000]\ttraining's auc: 0.949932\tvalid_1's auc: 0.906496\n",
      "[3300]\ttraining's auc: 0.95243\tvalid_1's auc: 0.906517\n",
      "Early stopping, best iteration is:\n",
      "[3197]\ttraining's auc: 0.951606\tvalid_1's auc: 0.906691\n",
      "AUC = 0.9066911136369292\n",
      "Fold 3 started at Fri Mar 15 21:16:18 2019\n",
      "Training until validation scores don't improve for 200 rounds.\n",
      "[300]\ttraining's auc: 0.915147\tvalid_1's auc: 0.88082\n",
      "[600]\ttraining's auc: 0.924254\tvalid_1's auc: 0.886853\n",
      "[900]\ttraining's auc: 0.929422\tvalid_1's auc: 0.889796\n",
      "[1200]\ttraining's auc: 0.93308\tvalid_1's auc: 0.891086\n",
      "[1500]\ttraining's auc: 0.936603\tvalid_1's auc: 0.891935\n",
      "[1800]\ttraining's auc: 0.939596\tvalid_1's auc: 0.892737\n",
      "[2100]\ttraining's auc: 0.942542\tvalid_1's auc: 0.893395\n",
      "[2400]\ttraining's auc: 0.945282\tvalid_1's auc: 0.893892\n",
      "[2700]\ttraining's auc: 0.947927\tvalid_1's auc: 0.894194\n",
      "[3000]\ttraining's auc: 0.950439\tvalid_1's auc: 0.894449\n",
      "[3300]\ttraining's auc: 0.952929\tvalid_1's auc: 0.894456\n",
      "Early stopping, best iteration is:\n",
      "[3143]\ttraining's auc: 0.951643\tvalid_1's auc: 0.894611\n",
      "AUC = 0.8946114342130371\n",
      "Fold 4 started at Fri Mar 15 21:17:23 2019\n",
      "Training until validation scores don't improve for 200 rounds.\n",
      "[300]\ttraining's auc: 0.915645\tvalid_1's auc: 0.878445\n",
      "[600]\ttraining's auc: 0.924408\tvalid_1's auc: 0.884528\n",
      "[900]\ttraining's auc: 0.929478\tvalid_1's auc: 0.887814\n",
      "[1200]\ttraining's auc: 0.933048\tvalid_1's auc: 0.889914\n",
      "[1500]\ttraining's auc: 0.936548\tvalid_1's auc: 0.891291\n",
      "[1800]\ttraining's auc: 0.939535\tvalid_1's auc: 0.891646\n",
      "[2100]\ttraining's auc: 0.942426\tvalid_1's auc: 0.892185\n",
      "[2400]\ttraining's auc: 0.945183\tvalid_1's auc: 0.89243\n",
      "[2700]\ttraining's auc: 0.947815\tvalid_1's auc: 0.892966\n",
      "[3000]\ttraining's auc: 0.950271\tvalid_1's auc: 0.893109\n",
      "Early stopping, best iteration is:\n",
      "[2816]\ttraining's auc: 0.948782\tvalid_1's auc: 0.893186\n",
      "AUC = 0.8931860984128829\n",
      "Fold 5 started at Fri Mar 15 21:18:22 2019\n",
      "Training until validation scores don't improve for 200 rounds.\n",
      "[300]\ttraining's auc: 0.914978\tvalid_1's auc: 0.886472\n",
      "[600]\ttraining's auc: 0.92391\tvalid_1's auc: 0.892752\n",
      "[900]\ttraining's auc: 0.929208\tvalid_1's auc: 0.895166\n",
      "[1200]\ttraining's auc: 0.932855\tvalid_1's auc: 0.896439\n",
      "[1500]\ttraining's auc: 0.936464\tvalid_1's auc: 0.897574\n",
      "[1800]\ttraining's auc: 0.93942\tvalid_1's auc: 0.897834\n",
      "[2100]\ttraining's auc: 0.942339\tvalid_1's auc: 0.898848\n",
      "[2400]\ttraining's auc: 0.945037\tvalid_1's auc: 0.899172\n",
      "[2700]\ttraining's auc: 0.947641\tvalid_1's auc: 0.899333\n",
      "[3000]\ttraining's auc: 0.950203\tvalid_1's auc: 0.899745\n",
      "[3300]\ttraining's auc: 0.952686\tvalid_1's auc: 0.899931\n",
      "[3600]\ttraining's auc: 0.955073\tvalid_1's auc: 0.900205\n",
      "[3900]\ttraining's auc: 0.957388\tvalid_1's auc: 0.900303\n",
      "Early stopping, best iteration is:\n",
      "[3811]\ttraining's auc: 0.956737\tvalid_1's auc: 0.900396\n",
      "AUC = 0.9003955210053126\n",
      "Fold 6 started at Fri Mar 15 21:19:40 2019\n",
      "Training until validation scores don't improve for 200 rounds.\n",
      "[300]\ttraining's auc: 0.914937\tvalid_1's auc: 0.884778\n",
      "[600]\ttraining's auc: 0.92383\tvalid_1's auc: 0.893935\n",
      "[900]\ttraining's auc: 0.929051\tvalid_1's auc: 0.897551\n",
      "[1200]\ttraining's auc: 0.932623\tvalid_1's auc: 0.899744\n",
      "[1500]\ttraining's auc: 0.936198\tvalid_1's auc: 0.900691\n",
      "[1800]\ttraining's auc: 0.939172\tvalid_1's auc: 0.901624\n",
      "[2100]\ttraining's auc: 0.94209\tvalid_1's auc: 0.902456\n",
      "[2400]\ttraining's auc: 0.944879\tvalid_1's auc: 0.903214\n",
      "[2700]\ttraining's auc: 0.947528\tvalid_1's auc: 0.903534\n",
      "[3000]\ttraining's auc: 0.950077\tvalid_1's auc: 0.903855\n",
      "[3300]\ttraining's auc: 0.95254\tvalid_1's auc: 0.903986\n",
      "Early stopping, best iteration is:\n",
      "[3165]\ttraining's auc: 0.951421\tvalid_1's auc: 0.904089\n",
      "AUC = 0.9040892259104699\n",
      "Fold 7 started at Fri Mar 15 21:20:46 2019\n",
      "Training until validation scores don't improve for 200 rounds.\n",
      "[300]\ttraining's auc: 0.915163\tvalid_1's auc: 0.881392\n",
      "[600]\ttraining's auc: 0.924183\tvalid_1's auc: 0.889833\n",
      "[900]\ttraining's auc: 0.929323\tvalid_1's auc: 0.893703\n",
      "[1200]\ttraining's auc: 0.932898\tvalid_1's auc: 0.895655\n",
      "[1500]\ttraining's auc: 0.936443\tvalid_1's auc: 0.897035\n",
      "[1800]\ttraining's auc: 0.939383\tvalid_1's auc: 0.89807\n",
      "[2100]\ttraining's auc: 0.942318\tvalid_1's auc: 0.89833\n",
      "Early stopping, best iteration is:\n",
      "[1912]\ttraining's auc: 0.940558\tvalid_1's auc: 0.898425\n",
      "AUC = 0.8984249403344589\n",
      "Fold 8 started at Fri Mar 15 21:21:28 2019\n",
      "Training until validation scores don't improve for 200 rounds.\n",
      "[300]\ttraining's auc: 0.91522\tvalid_1's auc: 0.891894\n",
      "[600]\ttraining's auc: 0.924008\tvalid_1's auc: 0.899724\n",
      "[900]\ttraining's auc: 0.929178\tvalid_1's auc: 0.90164\n",
      "[1200]\ttraining's auc: 0.932809\tvalid_1's auc: 0.902598\n",
      "[1500]\ttraining's auc: 0.936318\tvalid_1's auc: 0.902887\n",
      "[1800]\ttraining's auc: 0.939256\tvalid_1's auc: 0.903403\n",
      "[2100]\ttraining's auc: 0.942169\tvalid_1's auc: 0.903896\n",
      "[2400]\ttraining's auc: 0.944963\tvalid_1's auc: 0.904021\n",
      "Early stopping, best iteration is:\n",
      "[2316]\ttraining's auc: 0.944207\tvalid_1's auc: 0.90408\n",
      "AUC = 0.9040803763284742\n",
      "Fold 9 started at Fri Mar 15 21:22:18 2019\n",
      "Training until validation scores don't improve for 200 rounds.\n",
      "[300]\ttraining's auc: 0.914956\tvalid_1's auc: 0.884936\n",
      "[600]\ttraining's auc: 0.924009\tvalid_1's auc: 0.894133\n",
      "[900]\ttraining's auc: 0.929234\tvalid_1's auc: 0.897228\n",
      "[1200]\ttraining's auc: 0.932832\tvalid_1's auc: 0.899017\n",
      "[1500]\ttraining's auc: 0.936431\tvalid_1's auc: 0.900178\n",
      "[1800]\ttraining's auc: 0.939345\tvalid_1's auc: 0.900989\n",
      "[2100]\ttraining's auc: 0.942302\tvalid_1's auc: 0.90184\n",
      "[2400]\ttraining's auc: 0.945053\tvalid_1's auc: 0.901975\n",
      "[2700]\ttraining's auc: 0.947748\tvalid_1's auc: 0.902244\n",
      "[3000]\ttraining's auc: 0.950273\tvalid_1's auc: 0.902314\n",
      "Early stopping, best iteration is:\n",
      "[2872]\ttraining's auc: 0.949221\tvalid_1's auc: 0.902412\n",
      "AUC = 0.9024122301223179\n",
      "Fold 10 started at Fri Mar 15 21:23:18 2019\n",
      "Training until validation scores don't improve for 200 rounds.\n"
     ]
    },
    {
     "name": "stdout",
     "output_type": "stream",
     "text": [
      "[300]\ttraining's auc: 0.914824\tvalid_1's auc: 0.891181\n",
      "[600]\ttraining's auc: 0.9237\tvalid_1's auc: 0.898042\n",
      "[900]\ttraining's auc: 0.928985\tvalid_1's auc: 0.900088\n",
      "[1200]\ttraining's auc: 0.932594\tvalid_1's auc: 0.902228\n",
      "[1500]\ttraining's auc: 0.936224\tvalid_1's auc: 0.903062\n",
      "[1800]\ttraining's auc: 0.93929\tvalid_1's auc: 0.902946\n",
      "Early stopping, best iteration is:\n",
      "[1684]\ttraining's auc: 0.938155\tvalid_1's auc: 0.903264\n",
      "AUC = 0.9032640023893872\n",
      "Fold 11 started at Fri Mar 15 21:23:57 2019\n",
      "Training until validation scores don't improve for 200 rounds.\n",
      "[300]\ttraining's auc: 0.915153\tvalid_1's auc: 0.885247\n",
      "[600]\ttraining's auc: 0.924003\tvalid_1's auc: 0.8945\n",
      "[900]\ttraining's auc: 0.929116\tvalid_1's auc: 0.898456\n",
      "[1200]\ttraining's auc: 0.932727\tvalid_1's auc: 0.900273\n",
      "[1500]\ttraining's auc: 0.936201\tvalid_1's auc: 0.901192\n",
      "[1800]\ttraining's auc: 0.939198\tvalid_1's auc: 0.90196\n",
      "[2100]\ttraining's auc: 0.942133\tvalid_1's auc: 0.902538\n",
      "[2400]\ttraining's auc: 0.944858\tvalid_1's auc: 0.902991\n",
      "[2700]\ttraining's auc: 0.947551\tvalid_1's auc: 0.903247\n",
      "[3000]\ttraining's auc: 0.950032\tvalid_1's auc: 0.90339\n",
      "[3300]\ttraining's auc: 0.952573\tvalid_1's auc: 0.903663\n",
      "[3600]\ttraining's auc: 0.95493\tvalid_1's auc: 0.903596\n",
      "Early stopping, best iteration is:\n",
      "[3417]\ttraining's auc: 0.953497\tvalid_1's auc: 0.903704\n",
      "AUC = 0.9037044903332145\n",
      "Fold 12 started at Fri Mar 15 21:25:07 2019\n",
      "Training until validation scores don't improve for 200 rounds.\n",
      "[300]\ttraining's auc: 0.914982\tvalid_1's auc: 0.885879\n",
      "[600]\ttraining's auc: 0.924042\tvalid_1's auc: 0.891937\n",
      "[900]\ttraining's auc: 0.929367\tvalid_1's auc: 0.895761\n",
      "[1200]\ttraining's auc: 0.932961\tvalid_1's auc: 0.896054\n",
      "Early stopping, best iteration is:\n",
      "[1003]\ttraining's auc: 0.93052\tvalid_1's auc: 0.896422\n",
      "AUC = 0.896421505590447\n",
      "Fold 13 started at Fri Mar 15 21:25:33 2019\n",
      "Training until validation scores don't improve for 200 rounds.\n",
      "[300]\ttraining's auc: 0.915538\tvalid_1's auc: 0.883023\n",
      "[600]\ttraining's auc: 0.924284\tvalid_1's auc: 0.888968\n",
      "[900]\ttraining's auc: 0.929413\tvalid_1's auc: 0.891979\n",
      "[1200]\ttraining's auc: 0.933031\tvalid_1's auc: 0.892595\n",
      "[1500]\ttraining's auc: 0.936543\tvalid_1's auc: 0.894278\n",
      "[1800]\ttraining's auc: 0.93952\tvalid_1's auc: 0.894744\n",
      "[2100]\ttraining's auc: 0.942493\tvalid_1's auc: 0.895489\n",
      "[2400]\ttraining's auc: 0.945233\tvalid_1's auc: 0.89613\n",
      "[2700]\ttraining's auc: 0.947822\tvalid_1's auc: 0.896509\n",
      "[3000]\ttraining's auc: 0.950288\tvalid_1's auc: 0.896802\n",
      "[3300]\ttraining's auc: 0.952786\tvalid_1's auc: 0.896976\n",
      "[3600]\ttraining's auc: 0.955157\tvalid_1's auc: 0.897203\n",
      "[3900]\ttraining's auc: 0.957412\tvalid_1's auc: 0.897593\n",
      "[4200]\ttraining's auc: 0.959575\tvalid_1's auc: 0.897574\n",
      "Early stopping, best iteration is:\n",
      "[4062]\ttraining's auc: 0.958584\tvalid_1's auc: 0.897684\n",
      "AUC = 0.8976838984621087\n",
      "Fold 14 started at Fri Mar 15 21:26:55 2019\n",
      "Training until validation scores don't improve for 200 rounds.\n",
      "[300]\ttraining's auc: 0.915297\tvalid_1's auc: 0.893011\n",
      "[600]\ttraining's auc: 0.924106\tvalid_1's auc: 0.896732\n",
      "[900]\ttraining's auc: 0.929132\tvalid_1's auc: 0.900014\n",
      "[1200]\ttraining's auc: 0.9328\tvalid_1's auc: 0.90102\n",
      "[1500]\ttraining's auc: 0.936333\tvalid_1's auc: 0.901782\n",
      "[1800]\ttraining's auc: 0.939292\tvalid_1's auc: 0.902811\n",
      "[2100]\ttraining's auc: 0.94222\tvalid_1's auc: 0.903124\n",
      "[2400]\ttraining's auc: 0.944993\tvalid_1's auc: 0.903446\n",
      "Early stopping, best iteration is:\n",
      "[2445]\ttraining's auc: 0.945416\tvalid_1's auc: 0.903613\n",
      "AUC = 0.9036134502584355\n",
      "Fold 15 started at Fri Mar 15 21:27:47 2019\n",
      "Training until validation scores don't improve for 200 rounds.\n",
      "[300]\ttraining's auc: 0.915649\tvalid_1's auc: 0.88129\n",
      "[600]\ttraining's auc: 0.924359\tvalid_1's auc: 0.88742\n",
      "[900]\ttraining's auc: 0.929547\tvalid_1's auc: 0.890553\n",
      "[1200]\ttraining's auc: 0.933143\tvalid_1's auc: 0.89249\n",
      "[1500]\ttraining's auc: 0.936603\tvalid_1's auc: 0.894002\n",
      "[1800]\ttraining's auc: 0.939545\tvalid_1's auc: 0.894773\n",
      "[2100]\ttraining's auc: 0.942427\tvalid_1's auc: 0.895102\n",
      "[2400]\ttraining's auc: 0.945192\tvalid_1's auc: 0.895855\n",
      "[2700]\ttraining's auc: 0.947833\tvalid_1's auc: 0.895886\n",
      "[3000]\ttraining's auc: 0.950319\tvalid_1's auc: 0.896024\n",
      "Early stopping, best iteration is:\n",
      "[3052]\ttraining's auc: 0.950753\tvalid_1's auc: 0.896156\n",
      "AUC = 0.8961557968910312\n",
      "Fold 16 started at Fri Mar 15 21:28:51 2019\n",
      "Training until validation scores don't improve for 200 rounds.\n",
      "[300]\ttraining's auc: 0.91522\tvalid_1's auc: 0.882147\n",
      "[600]\ttraining's auc: 0.924133\tvalid_1's auc: 0.888618\n",
      "[900]\ttraining's auc: 0.929302\tvalid_1's auc: 0.891213\n",
      "[1200]\ttraining's auc: 0.932897\tvalid_1's auc: 0.892141\n",
      "[1500]\ttraining's auc: 0.936337\tvalid_1's auc: 0.893534\n",
      "[1800]\ttraining's auc: 0.939275\tvalid_1's auc: 0.893807\n",
      "[2100]\ttraining's auc: 0.942113\tvalid_1's auc: 0.894658\n",
      "[2400]\ttraining's auc: 0.944883\tvalid_1's auc: 0.895372\n",
      "[2700]\ttraining's auc: 0.947561\tvalid_1's auc: 0.89591\n",
      "Early stopping, best iteration is:\n",
      "[2793]\ttraining's auc: 0.948371\tvalid_1's auc: 0.89608\n",
      "AUC = 0.8960801329649695\n",
      "Fold 17 started at Fri Mar 15 21:29:49 2019\n",
      "Training until validation scores don't improve for 200 rounds.\n",
      "[300]\ttraining's auc: 0.915592\tvalid_1's auc: 0.878484\n",
      "[600]\ttraining's auc: 0.92418\tvalid_1's auc: 0.886917\n",
      "[900]\ttraining's auc: 0.929415\tvalid_1's auc: 0.890139\n",
      "[1200]\ttraining's auc: 0.933025\tvalid_1's auc: 0.892243\n",
      "[1500]\ttraining's auc: 0.936507\tvalid_1's auc: 0.893795\n",
      "[1800]\ttraining's auc: 0.939508\tvalid_1's auc: 0.895357\n",
      "[2100]\ttraining's auc: 0.942435\tvalid_1's auc: 0.896105\n",
      "[2400]\ttraining's auc: 0.945209\tvalid_1's auc: 0.896937\n",
      "[2700]\ttraining's auc: 0.947806\tvalid_1's auc: 0.897088\n",
      "[3000]\ttraining's auc: 0.950353\tvalid_1's auc: 0.897594\n",
      "[3300]\ttraining's auc: 0.952818\tvalid_1's auc: 0.897746\n",
      "[3600]\ttraining's auc: 0.955232\tvalid_1's auc: 0.897868\n",
      "Early stopping, best iteration is:\n",
      "[3528]\ttraining's auc: 0.954681\tvalid_1's auc: 0.898026\n",
      "AUC = 0.8980258241864606\n",
      "Fold 18 started at Fri Mar 15 21:31:02 2019\n",
      "Training until validation scores don't improve for 200 rounds.\n",
      "[300]\ttraining's auc: 0.91524\tvalid_1's auc: 0.888968\n",
      "[600]\ttraining's auc: 0.924049\tvalid_1's auc: 0.896123\n",
      "[900]\ttraining's auc: 0.929221\tvalid_1's auc: 0.899549\n",
      "[1200]\ttraining's auc: 0.932743\tvalid_1's auc: 0.901357\n",
      "[1500]\ttraining's auc: 0.93632\tvalid_1's auc: 0.90231\n",
      "[1800]\ttraining's auc: 0.939337\tvalid_1's auc: 0.90246\n",
      "[2100]\ttraining's auc: 0.942204\tvalid_1's auc: 0.903425\n",
      "[2400]\ttraining's auc: 0.94494\tvalid_1's auc: 0.903917\n",
      "[2700]\ttraining's auc: 0.947602\tvalid_1's auc: 0.904191\n",
      "Early stopping, best iteration is:\n",
      "[2580]\ttraining's auc: 0.946545\tvalid_1's auc: 0.904368\n",
      "AUC = 0.9043675215757316\n",
      "Fold 19 started at Fri Mar 15 21:31:57 2019\n",
      "Training until validation scores don't improve for 200 rounds.\n",
      "[300]\ttraining's auc: 0.915438\tvalid_1's auc: 0.878819\n",
      "[600]\ttraining's auc: 0.924319\tvalid_1's auc: 0.884908\n",
      "[900]\ttraining's auc: 0.929587\tvalid_1's auc: 0.887738\n",
      "[1200]\ttraining's auc: 0.933099\tvalid_1's auc: 0.88883\n",
      "[1500]\ttraining's auc: 0.936573\tvalid_1's auc: 0.889818\n",
      "[1800]\ttraining's auc: 0.939596\tvalid_1's auc: 0.890692\n",
      "[2100]\ttraining's auc: 0.942481\tvalid_1's auc: 0.891102\n",
      "[2400]\ttraining's auc: 0.945227\tvalid_1's auc: 0.891597\n",
      "Early stopping, best iteration is:\n",
      "[2381]\ttraining's auc: 0.945071\tvalid_1's auc: 0.89166\n",
      "AUC = 0.8916597091345568\n",
      "CPU times: user 1h 18min 31s, sys: 15 s, total: 1h 18min 46s\n",
      "Wall time: 20min 4s\n"
     ]
    }
   ],
   "source": [
    "%%time\n",
    "\n",
    "oof_preds_lgb = np.zeros((len(train), 1))\n",
    "y_pred_lgb = np.zeros(len(test))\n",
    "roc_cv_lgb =[]\n",
    "for fold_n, (train_index, valid_index) in enumerate(folds.split(train,y)):\n",
    "    print('Fold', fold_n, 'started at', time.ctime())\n",
    "    X_train, X_valid = train[original_features].iloc[train_index, :], train[original_features].iloc[valid_index, :]\n",
    "    y_train, y_valid = y[train_index], y[valid_index]\n",
    "    \n",
    "    lgb_model = lgb.LGBMClassifier(n_estimators=5000,**params_tuned)\n",
    "    lgb_model.fit(X_train,y_train,\n",
    "                    eval_set = [(X_train,y_train), (X_valid,y_valid)],verbose=300,early_stopping_rounds = 200)\n",
    "\n",
    "    val_pred = lgb_model.predict_proba(X_valid)[:,1]\n",
    "    print(\"AUC = {}\".format(roc_auc_score(y_valid, val_pred)))\n",
    "    oof_preds_lgb[valid_index] = val_pred.reshape((-1, 1))\n",
    "    \n",
    "    roc_cv_lgb.append(roc_auc_score(y_valid, val_pred))\n",
    "    \n",
    "    y_pred_lgb += lgb_model.predict_proba(test[original_features])[:,1]/NFOLDS #, num_iteration=lgb_model.best_iteration)/5\n",
    "y_pred_lgb = y_pred_lgb.reshape(-1)"
   ]
  },
  {
   "cell_type": "markdown",
   "metadata": {},
   "source": [
    "### 自分の考えるスタッキング(うまく行ってない)"
   ]
  },
  {
   "cell_type": "code",
   "execution_count": 22,
   "metadata": {
    "scrolled": true
   },
   "outputs": [
    {
     "name": "stdout",
     "output_type": "stream",
     "text": [
      "Current Fold: 0\n",
      "0.5572748947620956\n",
      "AUC = 0.8950171466311798\n",
      "rev= 0.8974241341239989\n",
      "ave= 0.8989273784454206\n",
      "log= 0.897495248691385\n",
      "lgb= 0.8960491099022705\n",
      "max= 0.9340548734973438\n",
      "min= 0.8448987007742826\n",
      "Current Fold: 1\n",
      "0.5472144196245284\n",
      "AUC = 0.9026414519950692\n",
      "rev= 0.9044106294805135\n",
      "ave= 0.9058489231959866\n",
      "log= 0.9039580188086572\n",
      "lgb= 0.9043702353118201\n",
      "max= 0.9391073694424535\n",
      "min= 0.8565930795969816\n",
      "Current Fold: 2\n",
      "0.5601017788509441\n",
      "AUC = 0.8914782433279254\n",
      "rev= 0.8953573390675834\n",
      "ave= 0.8962100727082314\n",
      "log= 0.8924111319993476\n",
      "lgb= 0.895980230571794\n",
      "max= 0.9335953662451821\n",
      "min= 0.8380586172559723\n",
      "Current Fold: 3\n",
      "0.5583245178701275\n",
      "AUC = 0.894916060452756\n",
      "rev= 0.8986766219493049\n",
      "ave= 0.8995895771912379\n",
      "log= 0.8967359233350197\n",
      "lgb= 0.8980766300903069\n",
      "max= 0.9357177165651949\n",
      "min= 0.8418489378899685\n",
      "Current Fold: 4\n",
      "0.5518683835443744\n",
      "AUC = 0.8969727038213299\n",
      "rev= 0.9001740394361888\n",
      "ave= 0.9014584662254367\n",
      "log= 0.8992596292633755\n",
      "lgb= 0.8991212527239366\n",
      "max= 0.936406642523898\n",
      "min= 0.8459420236050126\n",
      "Current Fold: 5\n",
      "0.5551442732701729\n",
      "AUC = 0.8929485500090688\n",
      "rev= 0.8979485851065684\n",
      "ave= 0.8982139674915637\n",
      "log= 0.8948259265909753\n",
      "lgb= 0.8970655999442063\n",
      "max= 0.934811489064638\n",
      "min= 0.841044895589467\n",
      "Current Fold: 6\n",
      "0.5544522987560961\n",
      "AUC = 0.897223\n",
      "rev= 0.8995933333333334\n",
      "ave= 0.9011343333333333\n",
      "log= 0.8996445555555556\n",
      "lgb= 0.8985047777777777\n",
      "max= 0.9359132222222223\n",
      "min= 0.8480233333333332\n",
      "Current Fold: 7\n",
      "0.5558826908765659\n",
      "AUC = 0.901856012041794\n",
      "rev= 0.9056294906725437\n",
      "ave= 0.9068155359568059\n",
      "log= 0.903740976868568\n",
      "lgb= 0.9054933702243789\n",
      "max= 0.9409299075857785\n",
      "min= 0.8536459043486533\n",
      "Current Fold: 8\n",
      "0.5516369434295118\n",
      "AUC = 0.891442047535815\n",
      "rev= 0.8987878001320954\n",
      "ave= 0.8980500331461336\n",
      "log= 0.8933992319171744\n",
      "lgb= 0.8980344637493843\n",
      "max= 0.9349848682145094\n",
      "min= 0.8408935543698348\n",
      "Current Fold: 9\n",
      "0.5497114291724337\n",
      "AUC = 0.8955164580573339\n",
      "rev= 0.8989189637772672\n",
      "ave= 0.8997942070974901\n",
      "log= 0.8977270333013851\n",
      "lgb= 0.8982171136620946\n",
      "max= 0.9351688933665114\n",
      "min= 0.8456538181549242\n",
      "Current Fold: 10\n",
      "0.5603303053282638\n",
      "AUC = 0.87775049889169\n",
      "rev= 0.8826196388166201\n",
      "ave= 0.883314906259448\n",
      "log= 0.880183397825108\n",
      "lgb= 0.8817477197316661\n",
      "max= 0.9250228364023174\n",
      "min= 0.8200841219894175\n",
      "Current Fold: 11\n",
      "0.5535400083787181\n",
      "AUC = 0.8982133234828501\n",
      "rev= 0.9011569146112092\n",
      "ave= 0.9022799489297777\n",
      "log= 0.9001150873597678\n",
      "lgb= 0.9006728632720572\n",
      "max= 0.936891215210942\n",
      "min= 0.8489858854854911\n",
      "Current Fold: 12\n",
      "0.5633217197937492\n",
      "AUC = 0.8981573799292824\n",
      "rev= 0.9015404475828156\n",
      "ave= 0.902648804364873\n",
      "log= 0.9007025276833963\n",
      "lgb= 0.8999018607360835\n",
      "max= 0.9371199492925413\n",
      "min= 0.8497005210200055\n",
      "Current Fold: 13\n",
      "0.5501855161307999\n",
      "AUC = 0.9002907849745199\n",
      "rev= 0.9045877280283992\n",
      "ave= 0.9050039693787385\n",
      "log= 0.9025893586044137\n",
      "lgb= 0.9036174714954701\n",
      "max= 0.9383583220531461\n",
      "min= 0.8527375087311733\n",
      "Current Fold: 14\n",
      "0.5659380663830051\n",
      "AUC = 0.8968053264316267\n",
      "rev= 0.896687663748149\n",
      "ave= 0.8992398024759655\n",
      "log= 0.8986402935420529\n",
      "lgb= 0.8962460994052107\n",
      "max= 0.9352645599338805\n",
      "min= 0.8461516509545275\n",
      "Current Fold: 15\n",
      "0.5495484493259799\n",
      "AUC = 0.8967042844677737\n",
      "rev= 0.9007972624610393\n",
      "ave= 0.9017638857171659\n",
      "log= 0.8990822108381625\n",
      "lgb= 0.8994116033256703\n",
      "max= 0.9366728573295023\n",
      "min= 0.8458419946240493\n",
      "Current Fold: 16\n",
      "0.5590205123019362\n",
      "AUC = 0.8934024352505175\n",
      "rev= 0.8957331613048632\n",
      "ave= 0.8970797198770797\n",
      "log= 0.8944108134948148\n",
      "lgb= 0.8960881791173813\n",
      "max= 0.9337660676924107\n",
      "min= 0.8398659472108542\n",
      "Current Fold: 17\n",
      "0.5558794931431195\n",
      "AUC = 0.8921996659243486\n",
      "rev= 0.8931042640592342\n",
      "ave= 0.8950532559341443\n",
      "log= 0.8935518924110429\n",
      "lgb= 0.8929287320484304\n",
      "max= 0.9325870181477939\n",
      "min= 0.8385356415792754\n",
      "Current Fold: 18\n",
      "0.5481587933757011\n",
      "AUC = 0.9014874014874014\n",
      "rev= 0.9043008618766195\n",
      "ave= 0.905322287140469\n",
      "log= 0.9030649485194938\n",
      "lgb= 0.9041158616916192\n",
      "max= 0.938652705319372\n",
      "min= 0.8554308766429979\n",
      "Current Fold: 19\n",
      "0.5530185054100517\n",
      "AUC = 0.8966689716401955\n",
      "rev= 0.8994544656255089\n",
      "ave= 0.9004940770091296\n",
      "log= 0.8985534762848428\n",
      "lgb= 0.8986698756500942\n",
      "max= 0.9362402249884302\n",
      "min= 0.8452611218568665\n"
     ]
    }
   ],
   "source": [
    "target2 = np.argmin(np.vstack((np.abs(oof_preds.reshape(-1)-y),np.abs(oof_preds_lgb.reshape(-1)-y))),axis=0)\n",
    "oof_preds2 = np.zeros((len(train_logistic), 1))\n",
    "test_preds2 = np.zeros((len(test_logistic), 1))\n",
    "roc_cv2 =[]\n",
    "for fold_, (trn_, val_) in enumerate(folds.split(train_logistic, target2)):\n",
    "    print(\"Current Fold: {}\".format(fold_))\n",
    "    trn_x, trn_y = train_logistic.iloc[trn_, :], target2[trn_]\n",
    "    val_x, val_y, target_val, pred1_val, pred2_val = train_logistic.iloc[val_], target2[val_], y[val_], oof_preds[val_], oof_preds_lgb[val_]\n",
    "    target_val = target_val.reshape(-1)\n",
    "    pred1_val = pred1_val.reshape(-1)\n",
    "    pred2_val = pred2_val.reshape(-1)\n",
    "    \n",
    "    clf =  LogisticRegression(solver='lbfgs', max_iter=1500, C=10)\n",
    "\n",
    "    clf.fit(trn_x, trn_y)\n",
    "\n",
    "    val_pred = clf.predict(val_x).reshape(-1)\n",
    "    test_fold_pred = clf.predict_proba(test_logistic)[:,1].reshape(-1)\n",
    "    \n",
    "    val_pred_class = (1-val_pred)*pred1_val + val_pred*pred2_val\n",
    "    test_fold_pred_class = (1-test_fold_pred)*test_preds + test_fold_pred*y_pred_lgb\n",
    "    \n",
    "    fold_score = roc_auc_score(target_val, val_pred_class)\n",
    "    roc_cv2.append(fold_score)\n",
    "    \n",
    "    print(roc_auc_score(val_y,val_pred))\n",
    "    print(\"AUC = {}\".format(fold_score))\n",
    "    print(\"rev=\",roc_auc_score(target_val,(1-val_pred)*pred2_val + val_pred*pred1_val))\n",
    "    print(\"ave=\",roc_auc_score(target_val,(pred1_val+pred2_val)/2))\n",
    "    print(\"log=\",roc_auc_score(target_val,pred1_val))\n",
    "    print(\"lgb=\",roc_auc_score(target_val,pred2_val))\n",
    "    print(\"max=\",roc_auc_score(target_val,(1-val_y)*pred1_val + val_y*pred2_val))\n",
    "    print(\"min=\",roc_auc_score(target_val,(1-val_y)*pred2_val + val_y*pred1_val))\n",
    "    oof_preds2[val_] = val_pred_class.reshape((-1, 1))\n",
    "    test_preds2 += test_fold_pred_class.reshape((-1, 1))\n",
    "\n",
    "test_preds2/=5\n"
   ]
  },
  {
   "cell_type": "markdown",
   "metadata": {},
   "source": [
    "##### 確認用"
   ]
  },
  {
   "cell_type": "code",
   "execution_count": 23,
   "metadata": {},
   "outputs": [
    {
     "name": "stdout",
     "output_type": "stream",
     "text": [
      "rev= 0.8979429999104619\n",
      "rev= 0.8991064541775937\n",
      "rev= 0.8985534762848428\n",
      "rev= 0.8986698756500942\n",
      "ave= 0.9004940770091296\n"
     ]
    }
   ],
   "source": [
    "a  = np.random.rand(val_pred.shape[0])\n",
    "print(\"rev=\",roc_auc_score(target_val,(1-a)*pred1_val + a*pred2_val))\n",
    "print(\"rev=\",roc_auc_score(target_val,(1-a)*pred2_val + a*pred1_val))\n",
    "print(\"rev=\",roc_auc_score(target_val,(1-a)*pred1_val + a*pred1_val))\n",
    "print(\"rev=\",roc_auc_score(target_val,(1-a)*pred2_val + a*pred2_val))\n",
    "print(\"ave=\",roc_auc_score(target_val,(pred1_val+pred2_val)/2))"
   ]
  },
  {
   "cell_type": "code",
   "execution_count": 24,
   "metadata": {},
   "outputs": [
    {
     "name": "stdout",
     "output_type": "stream",
     "text": [
      "rev= 0.9004940770091296\n",
      "rev= 0.9004940770091296\n",
      "rev= 0.8985534762848428\n",
      "rev= 0.8986698756500942\n",
      "ave= 0.9004940770091296\n"
     ]
    }
   ],
   "source": [
    "a  = np.ones(val_pred.shape[0])/2\n",
    "print(\"rev=\",roc_auc_score(target_val,(1-a)*pred1_val + a*pred2_val))\n",
    "print(\"rev=\",roc_auc_score(target_val,(1-a)*pred2_val + a*pred1_val))\n",
    "print(\"rev=\",roc_auc_score(target_val,(1-a)*pred1_val + a*pred1_val))\n",
    "print(\"rev=\",roc_auc_score(target_val,(1-a)*pred2_val + a*pred2_val))\n",
    "print(\"ave=\",roc_auc_score(target_val,(pred1_val+pred2_val)/2))"
   ]
  },
  {
   "cell_type": "code",
   "execution_count": 25,
   "metadata": {},
   "outputs": [
    {
     "name": "stdout",
     "output_type": "stream",
     "text": [
      "0.8975665283512196\n",
      "0.8982480202268966\n",
      "0.8956609102374608\n"
     ]
    }
   ],
   "source": [
    "print(roc_auc_score(y,oof_preds))\n",
    "print(roc_auc_score(y,oof_preds_lgb))\n",
    "print(roc_auc_score(y,oof_preds2))"
   ]
  },
  {
   "cell_type": "markdown",
   "metadata": {
    "_uuid": "f33577270febfac2d7c58b2fffef3eded8219629"
   },
   "source": [
    "## Submission File"
   ]
  },
  {
   "cell_type": "code",
   "execution_count": 40,
   "metadata": {
    "_uuid": "7ff36e1f3762c21af0ea048aea944a9e5e5b76d6"
   },
   "outputs": [],
   "source": [
    "submission_lgb = pd.DataFrame({\n",
    "        \"ID_code\": test_ids,\n",
    "        \"target\": y_pred_lgb\n",
    "    })\n",
    "submission_lgb.to_csv(savepath+'submission_lgb.csv', index=False)"
   ]
  },
  {
   "cell_type": "code",
   "execution_count": 27,
   "metadata": {
    "scrolled": true
   },
   "outputs": [
    {
     "ename": "NameError",
     "evalue": "name 'target' is not defined",
     "output_type": "error",
     "traceback": [
      "\u001b[0;31m---------------------------------------------------------------------------\u001b[0m",
      "\u001b[0;31mNameError\u001b[0m                                 Traceback (most recent call last)",
      "\u001b[0;32m<ipython-input-27-f56b57e800c6>\u001b[0m in \u001b[0;36m<module>\u001b[0;34m\u001b[0m\n\u001b[0;32m----> 1\u001b[0;31m \u001b[0mtarget2\u001b[0m \u001b[0;34m=\u001b[0m \u001b[0mnp\u001b[0m\u001b[0;34m.\u001b[0m\u001b[0margmin\u001b[0m\u001b[0;34m(\u001b[0m\u001b[0mnp\u001b[0m\u001b[0;34m.\u001b[0m\u001b[0mvstack\u001b[0m\u001b[0;34m(\u001b[0m\u001b[0;34m(\u001b[0m\u001b[0mnp\u001b[0m\u001b[0;34m.\u001b[0m\u001b[0mabs\u001b[0m\u001b[0;34m(\u001b[0m\u001b[0moof_preds\u001b[0m\u001b[0;34m.\u001b[0m\u001b[0mreshape\u001b[0m\u001b[0;34m(\u001b[0m\u001b[0;34m-\u001b[0m\u001b[0;36m1\u001b[0m\u001b[0;34m)\u001b[0m\u001b[0;34m-\u001b[0m\u001b[0mtarget\u001b[0m\u001b[0;34m)\u001b[0m\u001b[0;34m,\u001b[0m\u001b[0mnp\u001b[0m\u001b[0;34m.\u001b[0m\u001b[0mabs\u001b[0m\u001b[0;34m(\u001b[0m\u001b[0moof_preds_lgb\u001b[0m\u001b[0;34m.\u001b[0m\u001b[0mreshape\u001b[0m\u001b[0;34m(\u001b[0m\u001b[0;34m-\u001b[0m\u001b[0;36m1\u001b[0m\u001b[0;34m)\u001b[0m\u001b[0;34m-\u001b[0m\u001b[0mtarget\u001b[0m\u001b[0;34m)\u001b[0m\u001b[0;34m)\u001b[0m\u001b[0;34m)\u001b[0m\u001b[0;34m,\u001b[0m\u001b[0maxis\u001b[0m\u001b[0;34m=\u001b[0m\u001b[0;36m0\u001b[0m\u001b[0;34m)\u001b[0m\u001b[0;34m\u001b[0m\u001b[0m\n\u001b[0m",
      "\u001b[0;31mNameError\u001b[0m: name 'target' is not defined"
     ]
    }
   ],
   "source": [
    "target2 = np.argmin(np.vstack((np.abs(oof_preds.reshape(-1)-target),np.abs(oof_preds_lgb.reshape(-1)-target))),axis=0)"
   ]
  },
  {
   "cell_type": "markdown",
   "metadata": {},
   "source": [
    "## lightgbmのハイパーパラメーター調整 "
   ]
  },
  {
   "cell_type": "code",
   "execution_count": 23,
   "metadata": {},
   "outputs": [],
   "source": [
    "count_itr=0\n",
    "def objective_optuna(X, y, trial):\n",
    "    NFOLDS = 3\n",
    "    RANDOM_STATE = 823\n",
    "    folds = StratifiedKFold(n_splits=NFOLDS, shuffle=True, \n",
    "                        random_state=RANDOM_STATE)\n",
    "\n",
    "    global count_itr\n",
    "    print(count_itr, end=' ')\n",
    "    count_itr += 1\n",
    "    #最適化するパラメータを指定\n",
    "    params = {\n",
    "        'max_leaves': trial.suggest_int('max_leaves', 5, 100),\n",
    "        'min_data_in_leaf':  trial.suggest_int('min_data_in_leaf', 10, 1000),\n",
    "        'max_depth': trial.suggest_int('max_depth', 5, 30),\n",
    "        'learning_rate': trial.suggest_uniform('learning_rate',0,1),\n",
    "        'bagging_fraction': trial.suggest_uniform('bagging_fraction',0,1),\n",
    "        'feature_fraction': trial.suggest_uniform('feature_fraction',0,1),\n",
    "        'reg_alpha': trial.suggest_uniform('reg_alpha',0,5),\n",
    "        'reg_lambda': trial.suggest_uniform('reg_lambda',0,5),\n",
    "        'colsample_bytree': trial.suggest_uniform('colsample_bytree',0,1),\n",
    "        'min_gain_to_split': trial.suggest_loguniform('min_gain_to_split',1e-4,1),\n",
    "        'min_child_weight': trial.suggest_loguniform('min_child_weight',1e-3,1000),\n",
    "        'boosting': 'gbdt',\n",
    "        'bagging_freq': 5, \n",
    "        'num_threads': 4,\n",
    "        'objective': 'binary',\n",
    "        'random_state': 823,\n",
    "        'metric': 'auc',\n",
    "        'verbosity': -1,\n",
    "#         'tree_learner': 'data'\n",
    "    }\n",
    "    \n",
    "    \n",
    "    oof_preds_lgb = np.zeros(len(X))\n",
    "    for fold_n, (train_index, valid_index) in enumerate(folds.split(X,y)):\n",
    "#         print('Fold', fold_n, 'started at', time.ctime())\n",
    "        X_train, X_valid = X.iloc[train_index, :], X.iloc[valid_index, :]\n",
    "        y_train, y_valid = y[train_index], y[valid_index]\n",
    "\n",
    "        lgb_model = lgb.LGBMClassifier(n_estimators=5000,**params)\n",
    "        lgb_model.fit(X_train,y_train,\n",
    "                        eval_set = [(X_train,y_train), (X_valid,y_valid)],verbose=False,early_stopping_rounds = 200)\n",
    "\n",
    "        val_pred = lgb_model.predict_proba(X_valid)[:,1]\n",
    "#         print(\"AUC = {}\".format(roc_auc_score(y_valid, val_pred)))\n",
    "        oof_preds_lgb[valid_index] = val_pred.reshape(-1)\n",
    "      \n",
    "    return -roc_auc_score(y,oof_preds_lgb)"
   ]
  },
  {
   "cell_type": "code",
   "execution_count": null,
   "metadata": {
    "scrolled": true
   },
   "outputs": [
    {
     "name": "stdout",
     "output_type": "stream",
     "text": [
      "0 "
     ]
    },
    {
     "name": "stderr",
     "output_type": "stream",
     "text": [
      "[I 2019-03-12 21:46:15,152] Finished a trial resulted in value: -0.8403169006669601. Current best value is -0.8403169006669601 with parameters: {'max_leaves': 24, 'min_data_in_leaf': 958, 'max_depth': 24, 'learning_rate': 0.9159096037707614, 'bagging_fraction': 0.7920388150835375, 'feature_fraction': 0.6362273025026528, 'reg_alpha': 0.2954290733282755, 'reg_lambda': 2.79597916460139, 'colsample_bytree': 0.20957435206318775, 'min_gain_to_split': 0.16589699046865755, 'min_child_weight': 0.0020336211333090914}.\n"
     ]
    },
    {
     "name": "stdout",
     "output_type": "stream",
     "text": [
      "1 "
     ]
    },
    {
     "name": "stderr",
     "output_type": "stream",
     "text": [
      "[I 2019-03-12 21:47:02,361] Finished a trial resulted in value: -0.8661061457549959. Current best value is -0.8661061457549959 with parameters: {'max_leaves': 38, 'min_data_in_leaf': 187, 'max_depth': 14, 'learning_rate': 0.36773437085944094, 'bagging_fraction': 0.7582012354981635, 'feature_fraction': 0.9695350116935983, 'reg_alpha': 0.233885339507503, 'reg_lambda': 1.9631399719007758, 'colsample_bytree': 0.6310299058304073, 'min_gain_to_split': 0.02127193750954522, 'min_child_weight': 6.24489175814846}.\n"
     ]
    },
    {
     "name": "stdout",
     "output_type": "stream",
     "text": [
      "2 "
     ]
    },
    {
     "name": "stderr",
     "output_type": "stream",
     "text": [
      "[I 2019-03-12 21:47:33,071] Finished a trial resulted in value: -0.8606751767093318. Current best value is -0.8661061457549959 with parameters: {'max_leaves': 38, 'min_data_in_leaf': 187, 'max_depth': 14, 'learning_rate': 0.36773437085944094, 'bagging_fraction': 0.7582012354981635, 'feature_fraction': 0.9695350116935983, 'reg_alpha': 0.233885339507503, 'reg_lambda': 1.9631399719007758, 'colsample_bytree': 0.6310299058304073, 'min_gain_to_split': 0.02127193750954522, 'min_child_weight': 6.24489175814846}.\n"
     ]
    },
    {
     "name": "stdout",
     "output_type": "stream",
     "text": [
      "3 "
     ]
    },
    {
     "name": "stderr",
     "output_type": "stream",
     "text": [
      "[I 2019-03-12 21:48:13,617] Finished a trial resulted in value: -0.8689544308230689. Current best value is -0.8689544308230689 with parameters: {'max_leaves': 29, 'min_data_in_leaf': 548, 'max_depth': 21, 'learning_rate': 0.48528600756293305, 'bagging_fraction': 0.9971078588417314, 'feature_fraction': 0.5495243367784067, 'reg_alpha': 4.57980173969376, 'reg_lambda': 3.1112676389916967, 'colsample_bytree': 0.5716926709936491, 'min_gain_to_split': 0.059448295521034714, 'min_child_weight': 0.002010973968436613}.\n"
     ]
    },
    {
     "name": "stdout",
     "output_type": "stream",
     "text": [
      "4 "
     ]
    },
    {
     "name": "stderr",
     "output_type": "stream",
     "text": [
      "[I 2019-03-12 21:48:50,268] Finished a trial resulted in value: -0.8688947561358411. Current best value is -0.8689544308230689 with parameters: {'max_leaves': 29, 'min_data_in_leaf': 548, 'max_depth': 21, 'learning_rate': 0.48528600756293305, 'bagging_fraction': 0.9971078588417314, 'feature_fraction': 0.5495243367784067, 'reg_alpha': 4.57980173969376, 'reg_lambda': 3.1112676389916967, 'colsample_bytree': 0.5716926709936491, 'min_gain_to_split': 0.059448295521034714, 'min_child_weight': 0.002010973968436613}.\n"
     ]
    },
    {
     "name": "stdout",
     "output_type": "stream",
     "text": [
      "5 "
     ]
    },
    {
     "name": "stderr",
     "output_type": "stream",
     "text": [
      "[I 2019-03-12 21:49:15,896] Finished a trial resulted in value: -0.8647330327617618. Current best value is -0.8689544308230689 with parameters: {'max_leaves': 29, 'min_data_in_leaf': 548, 'max_depth': 21, 'learning_rate': 0.48528600756293305, 'bagging_fraction': 0.9971078588417314, 'feature_fraction': 0.5495243367784067, 'reg_alpha': 4.57980173969376, 'reg_lambda': 3.1112676389916967, 'colsample_bytree': 0.5716926709936491, 'min_gain_to_split': 0.059448295521034714, 'min_child_weight': 0.002010973968436613}.\n"
     ]
    },
    {
     "name": "stdout",
     "output_type": "stream",
     "text": [
      "6 "
     ]
    },
    {
     "name": "stderr",
     "output_type": "stream",
     "text": [
      "[I 2019-03-12 21:49:41,647] Finished a trial resulted in value: -0.8422412544486813. Current best value is -0.8689544308230689 with parameters: {'max_leaves': 29, 'min_data_in_leaf': 548, 'max_depth': 21, 'learning_rate': 0.48528600756293305, 'bagging_fraction': 0.9971078588417314, 'feature_fraction': 0.5495243367784067, 'reg_alpha': 4.57980173969376, 'reg_lambda': 3.1112676389916967, 'colsample_bytree': 0.5716926709936491, 'min_gain_to_split': 0.059448295521034714, 'min_child_weight': 0.002010973968436613}.\n"
     ]
    },
    {
     "name": "stdout",
     "output_type": "stream",
     "text": [
      "7 "
     ]
    },
    {
     "name": "stderr",
     "output_type": "stream",
     "text": [
      "[I 2019-03-12 21:50:04,744] Finished a trial resulted in value: -0.8733152406517091. Current best value is -0.8733152406517091 with parameters: {'max_leaves': 53, 'min_data_in_leaf': 361, 'max_depth': 12, 'learning_rate': 0.8559006990672186, 'bagging_fraction': 0.8613157180348509, 'feature_fraction': 0.035497127717320165, 'reg_alpha': 4.756806029269575, 'reg_lambda': 4.367706558499371, 'colsample_bytree': 0.8351995908898601, 'min_gain_to_split': 0.0312768870616935, 'min_child_weight': 377.61039735686626}.\n"
     ]
    },
    {
     "name": "stdout",
     "output_type": "stream",
     "text": [
      "8 "
     ]
    },
    {
     "name": "stderr",
     "output_type": "stream",
     "text": [
      "[I 2019-03-12 21:50:50,697] Finished a trial resulted in value: -0.8611198137541738. Current best value is -0.8733152406517091 with parameters: {'max_leaves': 53, 'min_data_in_leaf': 361, 'max_depth': 12, 'learning_rate': 0.8559006990672186, 'bagging_fraction': 0.8613157180348509, 'feature_fraction': 0.035497127717320165, 'reg_alpha': 4.756806029269575, 'reg_lambda': 4.367706558499371, 'colsample_bytree': 0.8351995908898601, 'min_gain_to_split': 0.0312768870616935, 'min_child_weight': 377.61039735686626}.\n"
     ]
    },
    {
     "name": "stdout",
     "output_type": "stream",
     "text": [
      "9 "
     ]
    },
    {
     "name": "stderr",
     "output_type": "stream",
     "text": [
      "[I 2019-03-12 21:51:08,562] Finished a trial resulted in value: -0.7773682750810121. Current best value is -0.8733152406517091 with parameters: {'max_leaves': 53, 'min_data_in_leaf': 361, 'max_depth': 12, 'learning_rate': 0.8559006990672186, 'bagging_fraction': 0.8613157180348509, 'feature_fraction': 0.035497127717320165, 'reg_alpha': 4.756806029269575, 'reg_lambda': 4.367706558499371, 'colsample_bytree': 0.8351995908898601, 'min_gain_to_split': 0.0312768870616935, 'min_child_weight': 377.61039735686626}.\n"
     ]
    },
    {
     "name": "stdout",
     "output_type": "stream",
     "text": [
      "10 "
     ]
    },
    {
     "name": "stderr",
     "output_type": "stream",
     "text": [
      "[I 2019-03-12 21:54:26,871] Finished a trial resulted in value: -0.8777766885253442. Current best value is -0.8777766885253442 with parameters: {'max_leaves': 12, 'min_data_in_leaf': 22, 'max_depth': 12, 'learning_rate': 0.01683595485365319, 'bagging_fraction': 0.6508888414828394, 'feature_fraction': 0.05260348398998428, 'reg_alpha': 1.946263757093314, 'reg_lambda': 0.09885382303577472, 'colsample_bytree': 0.7394558354565097, 'min_gain_to_split': 0.0001075873640521707, 'min_child_weight': 796.9235897136232}.\n"
     ]
    },
    {
     "name": "stdout",
     "output_type": "stream",
     "text": [
      "11 "
     ]
    },
    {
     "name": "stderr",
     "output_type": "stream",
     "text": [
      "[I 2019-03-12 21:56:54,397] Finished a trial resulted in value: -0.8950144165740488. Current best value is -0.8950144165740488 with parameters: {'max_leaves': 6, 'min_data_in_leaf': 40, 'max_depth': 5, 'learning_rate': 0.02949930266728279, 'bagging_fraction': 0.6385420832308595, 'feature_fraction': 0.2562503314890476, 'reg_alpha': 1.5386578790648362, 'reg_lambda': 0.046805202866860185, 'colsample_bytree': 0.3716699096964603, 'min_gain_to_split': 0.00011828035950101762, 'min_child_weight': 0.6358493695369405}.\n"
     ]
    },
    {
     "name": "stdout",
     "output_type": "stream",
     "text": [
      "12 "
     ]
    },
    {
     "name": "stderr",
     "output_type": "stream",
     "text": [
      "[I 2019-03-12 21:57:20,486] Finished a trial resulted in value: -0.8623814801950769. Current best value is -0.8950144165740488 with parameters: {'max_leaves': 6, 'min_data_in_leaf': 40, 'max_depth': 5, 'learning_rate': 0.02949930266728279, 'bagging_fraction': 0.6385420832308595, 'feature_fraction': 0.2562503314890476, 'reg_alpha': 1.5386578790648362, 'reg_lambda': 0.046805202866860185, 'colsample_bytree': 0.3716699096964603, 'min_gain_to_split': 0.00011828035950101762, 'min_child_weight': 0.6358493695369405}.\n"
     ]
    },
    {
     "name": "stdout",
     "output_type": "stream",
     "text": [
      "13 "
     ]
    },
    {
     "name": "stderr",
     "output_type": "stream",
     "text": [
      "[I 2019-03-12 21:58:00,402] Finished a trial resulted in value: -0.8777675660123971. Current best value is -0.8950144165740488 with parameters: {'max_leaves': 6, 'min_data_in_leaf': 40, 'max_depth': 5, 'learning_rate': 0.02949930266728279, 'bagging_fraction': 0.6385420832308595, 'feature_fraction': 0.2562503314890476, 'reg_alpha': 1.5386578790648362, 'reg_lambda': 0.046805202866860185, 'colsample_bytree': 0.3716699096964603, 'min_gain_to_split': 0.00011828035950101762, 'min_child_weight': 0.6358493695369405}.\n"
     ]
    },
    {
     "name": "stdout",
     "output_type": "stream",
     "text": [
      "14 "
     ]
    },
    {
     "name": "stderr",
     "output_type": "stream",
     "text": [
      "[I 2019-03-12 21:58:40,751] Finished a trial resulted in value: -0.8874074731893787. Current best value is -0.8950144165740488 with parameters: {'max_leaves': 6, 'min_data_in_leaf': 40, 'max_depth': 5, 'learning_rate': 0.02949930266728279, 'bagging_fraction': 0.6385420832308595, 'feature_fraction': 0.2562503314890476, 'reg_alpha': 1.5386578790648362, 'reg_lambda': 0.046805202866860185, 'colsample_bytree': 0.3716699096964603, 'min_gain_to_split': 0.00011828035950101762, 'min_child_weight': 0.6358493695369405}.\n"
     ]
    },
    {
     "name": "stdout",
     "output_type": "stream",
     "text": [
      "15 "
     ]
    },
    {
     "name": "stderr",
     "output_type": "stream",
     "text": [
      "[I 2019-03-12 22:00:57,758] Finished a trial resulted in value: -0.8756371685600957. Current best value is -0.8950144165740488 with parameters: {'max_leaves': 6, 'min_data_in_leaf': 40, 'max_depth': 5, 'learning_rate': 0.02949930266728279, 'bagging_fraction': 0.6385420832308595, 'feature_fraction': 0.2562503314890476, 'reg_alpha': 1.5386578790648362, 'reg_lambda': 0.046805202866860185, 'colsample_bytree': 0.3716699096964603, 'min_gain_to_split': 0.00011828035950101762, 'min_child_weight': 0.6358493695369405}.\n"
     ]
    },
    {
     "name": "stdout",
     "output_type": "stream",
     "text": [
      "16 "
     ]
    },
    {
     "name": "stderr",
     "output_type": "stream",
     "text": [
      "[I 2019-03-12 22:01:22,832] Finished a trial resulted in value: -0.8728207774390286. Current best value is -0.8950144165740488 with parameters: {'max_leaves': 6, 'min_data_in_leaf': 40, 'max_depth': 5, 'learning_rate': 0.02949930266728279, 'bagging_fraction': 0.6385420832308595, 'feature_fraction': 0.2562503314890476, 'reg_alpha': 1.5386578790648362, 'reg_lambda': 0.046805202866860185, 'colsample_bytree': 0.3716699096964603, 'min_gain_to_split': 0.00011828035950101762, 'min_child_weight': 0.6358493695369405}.\n"
     ]
    },
    {
     "name": "stdout",
     "output_type": "stream",
     "text": [
      "17 "
     ]
    },
    {
     "name": "stderr",
     "output_type": "stream",
     "text": [
      "[I 2019-03-12 22:03:52,189] Finished a trial resulted in value: -0.8958969942568847. Current best value is -0.8958969942568847 with parameters: {'max_leaves': 24, 'min_data_in_leaf': 785, 'max_depth': 9, 'learning_rate': 0.018312017998077943, 'bagging_fraction': 0.28264364173360707, 'feature_fraction': 0.313561202745261, 'reg_alpha': 2.3891631786406666, 'reg_lambda': 0.9071142377481276, 'colsample_bytree': 0.19182092055148398, 'min_gain_to_split': 0.007557463984950124, 'min_child_weight': 0.38536885596825654}.\n"
     ]
    },
    {
     "name": "stdout",
     "output_type": "stream",
     "text": [
      "18 "
     ]
    },
    {
     "name": "stderr",
     "output_type": "stream",
     "text": [
      "[I 2019-03-12 22:08:23,004] Finished a trial resulted in value: -0.8843854687466927. Current best value is -0.8958969942568847 with parameters: {'max_leaves': 24, 'min_data_in_leaf': 785, 'max_depth': 9, 'learning_rate': 0.018312017998077943, 'bagging_fraction': 0.28264364173360707, 'feature_fraction': 0.313561202745261, 'reg_alpha': 2.3891631786406666, 'reg_lambda': 0.9071142377481276, 'colsample_bytree': 0.19182092055148398, 'min_gain_to_split': 0.007557463984950124, 'min_child_weight': 0.38536885596825654}.\n"
     ]
    },
    {
     "name": "stdout",
     "output_type": "stream",
     "text": [
      "19 "
     ]
    },
    {
     "name": "stderr",
     "output_type": "stream",
     "text": [
      "[I 2019-03-12 22:08:51,683] Finished a trial resulted in value: -0.8724357409596137. Current best value is -0.8958969942568847 with parameters: {'max_leaves': 24, 'min_data_in_leaf': 785, 'max_depth': 9, 'learning_rate': 0.018312017998077943, 'bagging_fraction': 0.28264364173360707, 'feature_fraction': 0.313561202745261, 'reg_alpha': 2.3891631786406666, 'reg_lambda': 0.9071142377481276, 'colsample_bytree': 0.19182092055148398, 'min_gain_to_split': 0.007557463984950124, 'min_child_weight': 0.38536885596825654}.\n"
     ]
    },
    {
     "name": "stdout",
     "output_type": "stream",
     "text": [
      "20 "
     ]
    },
    {
     "name": "stderr",
     "output_type": "stream",
     "text": [
      "[I 2019-03-12 22:09:12,908] Finished a trial resulted in value: -0.8569116079904979. Current best value is -0.8958969942568847 with parameters: {'max_leaves': 24, 'min_data_in_leaf': 785, 'max_depth': 9, 'learning_rate': 0.018312017998077943, 'bagging_fraction': 0.28264364173360707, 'feature_fraction': 0.313561202745261, 'reg_alpha': 2.3891631786406666, 'reg_lambda': 0.9071142377481276, 'colsample_bytree': 0.19182092055148398, 'min_gain_to_split': 0.007557463984950124, 'min_child_weight': 0.38536885596825654}.\n"
     ]
    },
    {
     "name": "stdout",
     "output_type": "stream",
     "text": [
      "21 "
     ]
    },
    {
     "name": "stderr",
     "output_type": "stream",
     "text": [
      "[I 2019-03-12 22:10:13,715] Finished a trial resulted in value: -0.8904347798299699. Current best value is -0.8958969942568847 with parameters: {'max_leaves': 24, 'min_data_in_leaf': 785, 'max_depth': 9, 'learning_rate': 0.018312017998077943, 'bagging_fraction': 0.28264364173360707, 'feature_fraction': 0.313561202745261, 'reg_alpha': 2.3891631786406666, 'reg_lambda': 0.9071142377481276, 'colsample_bytree': 0.19182092055148398, 'min_gain_to_split': 0.007557463984950124, 'min_child_weight': 0.38536885596825654}.\n"
     ]
    },
    {
     "name": "stdout",
     "output_type": "stream",
     "text": [
      "22 "
     ]
    },
    {
     "name": "stderr",
     "output_type": "stream",
     "text": [
      "[I 2019-03-12 22:10:35,592] Finished a trial resulted in value: -0.8314003359724385. Current best value is -0.8958969942568847 with parameters: {'max_leaves': 24, 'min_data_in_leaf': 785, 'max_depth': 9, 'learning_rate': 0.018312017998077943, 'bagging_fraction': 0.28264364173360707, 'feature_fraction': 0.313561202745261, 'reg_alpha': 2.3891631786406666, 'reg_lambda': 0.9071142377481276, 'colsample_bytree': 0.19182092055148398, 'min_gain_to_split': 0.007557463984950124, 'min_child_weight': 0.38536885596825654}.\n"
     ]
    },
    {
     "name": "stdout",
     "output_type": "stream",
     "text": [
      "23 "
     ]
    },
    {
     "name": "stderr",
     "output_type": "stream",
     "text": [
      "[I 2019-03-12 22:11:02,104] Finished a trial resulted in value: -0.86572501200964. Current best value is -0.8958969942568847 with parameters: {'max_leaves': 24, 'min_data_in_leaf': 785, 'max_depth': 9, 'learning_rate': 0.018312017998077943, 'bagging_fraction': 0.28264364173360707, 'feature_fraction': 0.313561202745261, 'reg_alpha': 2.3891631786406666, 'reg_lambda': 0.9071142377481276, 'colsample_bytree': 0.19182092055148398, 'min_gain_to_split': 0.007557463984950124, 'min_child_weight': 0.38536885596825654}.\n"
     ]
    },
    {
     "name": "stdout",
     "output_type": "stream",
     "text": [
      "24 "
     ]
    },
    {
     "name": "stderr",
     "output_type": "stream",
     "text": [
      "[I 2019-03-12 22:11:26,580] Finished a trial resulted in value: -0.8631888134639583. Current best value is -0.8958969942568847 with parameters: {'max_leaves': 24, 'min_data_in_leaf': 785, 'max_depth': 9, 'learning_rate': 0.018312017998077943, 'bagging_fraction': 0.28264364173360707, 'feature_fraction': 0.313561202745261, 'reg_alpha': 2.3891631786406666, 'reg_lambda': 0.9071142377481276, 'colsample_bytree': 0.19182092055148398, 'min_gain_to_split': 0.007557463984950124, 'min_child_weight': 0.38536885596825654}.\n"
     ]
    },
    {
     "name": "stdout",
     "output_type": "stream",
     "text": [
      "25 "
     ]
    },
    {
     "name": "stderr",
     "output_type": "stream",
     "text": [
      "[I 2019-03-12 22:11:56,053] Finished a trial resulted in value: -0.8698105716381788. Current best value is -0.8958969942568847 with parameters: {'max_leaves': 24, 'min_data_in_leaf': 785, 'max_depth': 9, 'learning_rate': 0.018312017998077943, 'bagging_fraction': 0.28264364173360707, 'feature_fraction': 0.313561202745261, 'reg_alpha': 2.3891631786406666, 'reg_lambda': 0.9071142377481276, 'colsample_bytree': 0.19182092055148398, 'min_gain_to_split': 0.007557463984950124, 'min_child_weight': 0.38536885596825654}.\n"
     ]
    },
    {
     "name": "stdout",
     "output_type": "stream",
     "text": [
      "26 "
     ]
    },
    {
     "name": "stderr",
     "output_type": "stream",
     "text": [
      "[I 2019-03-12 22:12:31,328] Finished a trial resulted in value: -0.8509469915741733. Current best value is -0.8958969942568847 with parameters: {'max_leaves': 24, 'min_data_in_leaf': 785, 'max_depth': 9, 'learning_rate': 0.018312017998077943, 'bagging_fraction': 0.28264364173360707, 'feature_fraction': 0.313561202745261, 'reg_alpha': 2.3891631786406666, 'reg_lambda': 0.9071142377481276, 'colsample_bytree': 0.19182092055148398, 'min_gain_to_split': 0.007557463984950124, 'min_child_weight': 0.38536885596825654}.\n"
     ]
    },
    {
     "name": "stdout",
     "output_type": "stream",
     "text": [
      "27 "
     ]
    },
    {
     "name": "stderr",
     "output_type": "stream",
     "text": [
      "[I 2019-03-12 22:13:03,524] Finished a trial resulted in value: -0.8714857660935972. Current best value is -0.8958969942568847 with parameters: {'max_leaves': 24, 'min_data_in_leaf': 785, 'max_depth': 9, 'learning_rate': 0.018312017998077943, 'bagging_fraction': 0.28264364173360707, 'feature_fraction': 0.313561202745261, 'reg_alpha': 2.3891631786406666, 'reg_lambda': 0.9071142377481276, 'colsample_bytree': 0.19182092055148398, 'min_gain_to_split': 0.007557463984950124, 'min_child_weight': 0.38536885596825654}.\n"
     ]
    },
    {
     "name": "stdout",
     "output_type": "stream",
     "text": [
      "28 "
     ]
    },
    {
     "name": "stderr",
     "output_type": "stream",
     "text": [
      "[I 2019-03-12 22:13:59,924] Finished a trial resulted in value: -0.8856849782388183. Current best value is -0.8958969942568847 with parameters: {'max_leaves': 24, 'min_data_in_leaf': 785, 'max_depth': 9, 'learning_rate': 0.018312017998077943, 'bagging_fraction': 0.28264364173360707, 'feature_fraction': 0.313561202745261, 'reg_alpha': 2.3891631786406666, 'reg_lambda': 0.9071142377481276, 'colsample_bytree': 0.19182092055148398, 'min_gain_to_split': 0.007557463984950124, 'min_child_weight': 0.38536885596825654}.\n"
     ]
    },
    {
     "name": "stdout",
     "output_type": "stream",
     "text": [
      "29 "
     ]
    },
    {
     "name": "stderr",
     "output_type": "stream",
     "text": [
      "[I 2019-03-12 22:14:11,102] Finished a trial resulted in value: -0.5. Current best value is -0.8958969942568847 with parameters: {'max_leaves': 24, 'min_data_in_leaf': 785, 'max_depth': 9, 'learning_rate': 0.018312017998077943, 'bagging_fraction': 0.28264364173360707, 'feature_fraction': 0.313561202745261, 'reg_alpha': 2.3891631786406666, 'reg_lambda': 0.9071142377481276, 'colsample_bytree': 0.19182092055148398, 'min_gain_to_split': 0.007557463984950124, 'min_child_weight': 0.38536885596825654}.\n"
     ]
    },
    {
     "name": "stdout",
     "output_type": "stream",
     "text": [
      "30 "
     ]
    },
    {
     "name": "stderr",
     "output_type": "stream",
     "text": [
      "[I 2019-03-12 22:14:52,645] Finished a trial resulted in value: -0.8799844049722944. Current best value is -0.8958969942568847 with parameters: {'max_leaves': 24, 'min_data_in_leaf': 785, 'max_depth': 9, 'learning_rate': 0.018312017998077943, 'bagging_fraction': 0.28264364173360707, 'feature_fraction': 0.313561202745261, 'reg_alpha': 2.3891631786406666, 'reg_lambda': 0.9071142377481276, 'colsample_bytree': 0.19182092055148398, 'min_gain_to_split': 0.007557463984950124, 'min_child_weight': 0.38536885596825654}.\n"
     ]
    },
    {
     "name": "stdout",
     "output_type": "stream",
     "text": [
      "31 "
     ]
    },
    {
     "name": "stderr",
     "output_type": "stream",
     "text": [
      "[I 2019-03-12 22:15:16,450] Finished a trial resulted in value: -0.8471923664249841. Current best value is -0.8958969942568847 with parameters: {'max_leaves': 24, 'min_data_in_leaf': 785, 'max_depth': 9, 'learning_rate': 0.018312017998077943, 'bagging_fraction': 0.28264364173360707, 'feature_fraction': 0.313561202745261, 'reg_alpha': 2.3891631786406666, 'reg_lambda': 0.9071142377481276, 'colsample_bytree': 0.19182092055148398, 'min_gain_to_split': 0.007557463984950124, 'min_child_weight': 0.38536885596825654}.\n"
     ]
    },
    {
     "name": "stdout",
     "output_type": "stream",
     "text": [
      "32 "
     ]
    },
    {
     "name": "stderr",
     "output_type": "stream",
     "text": [
      "[I 2019-03-12 22:15:44,205] Finished a trial resulted in value: -0.8416958065001676. Current best value is -0.8958969942568847 with parameters: {'max_leaves': 24, 'min_data_in_leaf': 785, 'max_depth': 9, 'learning_rate': 0.018312017998077943, 'bagging_fraction': 0.28264364173360707, 'feature_fraction': 0.313561202745261, 'reg_alpha': 2.3891631786406666, 'reg_lambda': 0.9071142377481276, 'colsample_bytree': 0.19182092055148398, 'min_gain_to_split': 0.007557463984950124, 'min_child_weight': 0.38536885596825654}.\n"
     ]
    },
    {
     "name": "stdout",
     "output_type": "stream",
     "text": [
      "33 "
     ]
    },
    {
     "name": "stderr",
     "output_type": "stream",
     "text": [
      "[I 2019-03-12 22:16:09,537] Finished a trial resulted in value: -0.8716556087320964. Current best value is -0.8958969942568847 with parameters: {'max_leaves': 24, 'min_data_in_leaf': 785, 'max_depth': 9, 'learning_rate': 0.018312017998077943, 'bagging_fraction': 0.28264364173360707, 'feature_fraction': 0.313561202745261, 'reg_alpha': 2.3891631786406666, 'reg_lambda': 0.9071142377481276, 'colsample_bytree': 0.19182092055148398, 'min_gain_to_split': 0.007557463984950124, 'min_child_weight': 0.38536885596825654}.\n"
     ]
    },
    {
     "name": "stdout",
     "output_type": "stream",
     "text": [
      "34 "
     ]
    },
    {
     "name": "stderr",
     "output_type": "stream",
     "text": [
      "[I 2019-03-12 22:16:30,705] Finished a trial resulted in value: -0.8391248528506635. Current best value is -0.8958969942568847 with parameters: {'max_leaves': 24, 'min_data_in_leaf': 785, 'max_depth': 9, 'learning_rate': 0.018312017998077943, 'bagging_fraction': 0.28264364173360707, 'feature_fraction': 0.313561202745261, 'reg_alpha': 2.3891631786406666, 'reg_lambda': 0.9071142377481276, 'colsample_bytree': 0.19182092055148398, 'min_gain_to_split': 0.007557463984950124, 'min_child_weight': 0.38536885596825654}.\n"
     ]
    },
    {
     "name": "stdout",
     "output_type": "stream",
     "text": [
      "35 "
     ]
    },
    {
     "name": "stderr",
     "output_type": "stream",
     "text": [
      "[I 2019-03-12 22:17:31,092] Finished a trial resulted in value: -0.8849171433158477. Current best value is -0.8958969942568847 with parameters: {'max_leaves': 24, 'min_data_in_leaf': 785, 'max_depth': 9, 'learning_rate': 0.018312017998077943, 'bagging_fraction': 0.28264364173360707, 'feature_fraction': 0.313561202745261, 'reg_alpha': 2.3891631786406666, 'reg_lambda': 0.9071142377481276, 'colsample_bytree': 0.19182092055148398, 'min_gain_to_split': 0.007557463984950124, 'min_child_weight': 0.38536885596825654}.\n"
     ]
    },
    {
     "name": "stdout",
     "output_type": "stream",
     "text": [
      "36 "
     ]
    },
    {
     "name": "stderr",
     "output_type": "stream",
     "text": [
      "[I 2019-03-12 22:18:42,668] Finished a trial resulted in value: -0.8918427654709266. Current best value is -0.8958969942568847 with parameters: {'max_leaves': 24, 'min_data_in_leaf': 785, 'max_depth': 9, 'learning_rate': 0.018312017998077943, 'bagging_fraction': 0.28264364173360707, 'feature_fraction': 0.313561202745261, 'reg_alpha': 2.3891631786406666, 'reg_lambda': 0.9071142377481276, 'colsample_bytree': 0.19182092055148398, 'min_gain_to_split': 0.007557463984950124, 'min_child_weight': 0.38536885596825654}.\n"
     ]
    },
    {
     "name": "stdout",
     "output_type": "stream",
     "text": [
      "37 "
     ]
    },
    {
     "name": "stderr",
     "output_type": "stream",
     "text": [
      "[I 2019-03-12 22:19:11,172] Finished a trial resulted in value: -0.834181489921406. Current best value is -0.8958969942568847 with parameters: {'max_leaves': 24, 'min_data_in_leaf': 785, 'max_depth': 9, 'learning_rate': 0.018312017998077943, 'bagging_fraction': 0.28264364173360707, 'feature_fraction': 0.313561202745261, 'reg_alpha': 2.3891631786406666, 'reg_lambda': 0.9071142377481276, 'colsample_bytree': 0.19182092055148398, 'min_gain_to_split': 0.007557463984950124, 'min_child_weight': 0.38536885596825654}.\n"
     ]
    },
    {
     "name": "stdout",
     "output_type": "stream",
     "text": [
      "38 "
     ]
    },
    {
     "name": "stderr",
     "output_type": "stream",
     "text": [
      "[I 2019-03-12 22:19:33,801] Finished a trial resulted in value: -0.8541533200638567. Current best value is -0.8958969942568847 with parameters: {'max_leaves': 24, 'min_data_in_leaf': 785, 'max_depth': 9, 'learning_rate': 0.018312017998077943, 'bagging_fraction': 0.28264364173360707, 'feature_fraction': 0.313561202745261, 'reg_alpha': 2.3891631786406666, 'reg_lambda': 0.9071142377481276, 'colsample_bytree': 0.19182092055148398, 'min_gain_to_split': 0.007557463984950124, 'min_child_weight': 0.38536885596825654}.\n"
     ]
    },
    {
     "name": "stdout",
     "output_type": "stream",
     "text": [
      "39 "
     ]
    },
    {
     "name": "stderr",
     "output_type": "stream",
     "text": [
      "[I 2019-03-12 22:20:10,770] Finished a trial resulted in value: -0.8702207428754798. Current best value is -0.8958969942568847 with parameters: {'max_leaves': 24, 'min_data_in_leaf': 785, 'max_depth': 9, 'learning_rate': 0.018312017998077943, 'bagging_fraction': 0.28264364173360707, 'feature_fraction': 0.313561202745261, 'reg_alpha': 2.3891631786406666, 'reg_lambda': 0.9071142377481276, 'colsample_bytree': 0.19182092055148398, 'min_gain_to_split': 0.007557463984950124, 'min_child_weight': 0.38536885596825654}.\n"
     ]
    },
    {
     "name": "stdout",
     "output_type": "stream",
     "text": [
      "40 "
     ]
    },
    {
     "name": "stderr",
     "output_type": "stream",
     "text": [
      "[I 2019-03-12 22:20:42,456] Finished a trial resulted in value: -0.884881005342612. Current best value is -0.8958969942568847 with parameters: {'max_leaves': 24, 'min_data_in_leaf': 785, 'max_depth': 9, 'learning_rate': 0.018312017998077943, 'bagging_fraction': 0.28264364173360707, 'feature_fraction': 0.313561202745261, 'reg_alpha': 2.3891631786406666, 'reg_lambda': 0.9071142377481276, 'colsample_bytree': 0.19182092055148398, 'min_gain_to_split': 0.007557463984950124, 'min_child_weight': 0.38536885596825654}.\n"
     ]
    },
    {
     "name": "stdout",
     "output_type": "stream",
     "text": [
      "41 "
     ]
    },
    {
     "name": "stderr",
     "output_type": "stream",
     "text": [
      "[I 2019-03-12 22:21:09,032] Finished a trial resulted in value: -0.84078555068602. Current best value is -0.8958969942568847 with parameters: {'max_leaves': 24, 'min_data_in_leaf': 785, 'max_depth': 9, 'learning_rate': 0.018312017998077943, 'bagging_fraction': 0.28264364173360707, 'feature_fraction': 0.313561202745261, 'reg_alpha': 2.3891631786406666, 'reg_lambda': 0.9071142377481276, 'colsample_bytree': 0.19182092055148398, 'min_gain_to_split': 0.007557463984950124, 'min_child_weight': 0.38536885596825654}.\n"
     ]
    },
    {
     "name": "stdout",
     "output_type": "stream",
     "text": [
      "42 "
     ]
    },
    {
     "name": "stderr",
     "output_type": "stream",
     "text": [
      "[I 2019-03-12 22:21:37,093] Finished a trial resulted in value: -0.8611202205943553. Current best value is -0.8958969942568847 with parameters: {'max_leaves': 24, 'min_data_in_leaf': 785, 'max_depth': 9, 'learning_rate': 0.018312017998077943, 'bagging_fraction': 0.28264364173360707, 'feature_fraction': 0.313561202745261, 'reg_alpha': 2.3891631786406666, 'reg_lambda': 0.9071142377481276, 'colsample_bytree': 0.19182092055148398, 'min_gain_to_split': 0.007557463984950124, 'min_child_weight': 0.38536885596825654}.\n"
     ]
    },
    {
     "name": "stdout",
     "output_type": "stream",
     "text": [
      "43 "
     ]
    },
    {
     "name": "stderr",
     "output_type": "stream",
     "text": [
      "[I 2019-03-12 22:21:55,557] Finished a trial resulted in value: -0.804267181604017. Current best value is -0.8958969942568847 with parameters: {'max_leaves': 24, 'min_data_in_leaf': 785, 'max_depth': 9, 'learning_rate': 0.018312017998077943, 'bagging_fraction': 0.28264364173360707, 'feature_fraction': 0.313561202745261, 'reg_alpha': 2.3891631786406666, 'reg_lambda': 0.9071142377481276, 'colsample_bytree': 0.19182092055148398, 'min_gain_to_split': 0.007557463984950124, 'min_child_weight': 0.38536885596825654}.\n"
     ]
    },
    {
     "name": "stdout",
     "output_type": "stream",
     "text": [
      "44 "
     ]
    },
    {
     "name": "stderr",
     "output_type": "stream",
     "text": [
      "[I 2019-03-12 22:22:30,730] Finished a trial resulted in value: -0.8747464983254518. Current best value is -0.8958969942568847 with parameters: {'max_leaves': 24, 'min_data_in_leaf': 785, 'max_depth': 9, 'learning_rate': 0.018312017998077943, 'bagging_fraction': 0.28264364173360707, 'feature_fraction': 0.313561202745261, 'reg_alpha': 2.3891631786406666, 'reg_lambda': 0.9071142377481276, 'colsample_bytree': 0.19182092055148398, 'min_gain_to_split': 0.007557463984950124, 'min_child_weight': 0.38536885596825654}.\n"
     ]
    },
    {
     "name": "stdout",
     "output_type": "stream",
     "text": [
      "45 "
     ]
    },
    {
     "name": "stderr",
     "output_type": "stream",
     "text": [
      "[I 2019-03-12 22:23:01,961] Finished a trial resulted in value: -0.8557302657960529. Current best value is -0.8958969942568847 with parameters: {'max_leaves': 24, 'min_data_in_leaf': 785, 'max_depth': 9, 'learning_rate': 0.018312017998077943, 'bagging_fraction': 0.28264364173360707, 'feature_fraction': 0.313561202745261, 'reg_alpha': 2.3891631786406666, 'reg_lambda': 0.9071142377481276, 'colsample_bytree': 0.19182092055148398, 'min_gain_to_split': 0.007557463984950124, 'min_child_weight': 0.38536885596825654}.\n"
     ]
    },
    {
     "name": "stdout",
     "output_type": "stream",
     "text": [
      "46 "
     ]
    },
    {
     "name": "stderr",
     "output_type": "stream",
     "text": [
      "[I 2019-03-12 22:23:27,392] Finished a trial resulted in value: -0.7907145643482487. Current best value is -0.8958969942568847 with parameters: {'max_leaves': 24, 'min_data_in_leaf': 785, 'max_depth': 9, 'learning_rate': 0.018312017998077943, 'bagging_fraction': 0.28264364173360707, 'feature_fraction': 0.313561202745261, 'reg_alpha': 2.3891631786406666, 'reg_lambda': 0.9071142377481276, 'colsample_bytree': 0.19182092055148398, 'min_gain_to_split': 0.007557463984950124, 'min_child_weight': 0.38536885596825654}.\n"
     ]
    },
    {
     "name": "stdout",
     "output_type": "stream",
     "text": [
      "47 "
     ]
    },
    {
     "name": "stderr",
     "output_type": "stream",
     "text": [
      "[I 2019-03-12 22:27:39,944] Finished a trial resulted in value: -0.8781176850391205. Current best value is -0.8958969942568847 with parameters: {'max_leaves': 24, 'min_data_in_leaf': 785, 'max_depth': 9, 'learning_rate': 0.018312017998077943, 'bagging_fraction': 0.28264364173360707, 'feature_fraction': 0.313561202745261, 'reg_alpha': 2.3891631786406666, 'reg_lambda': 0.9071142377481276, 'colsample_bytree': 0.19182092055148398, 'min_gain_to_split': 0.007557463984950124, 'min_child_weight': 0.38536885596825654}.\n"
     ]
    },
    {
     "name": "stdout",
     "output_type": "stream",
     "text": [
      "48 "
     ]
    },
    {
     "name": "stderr",
     "output_type": "stream",
     "text": [
      "[I 2019-03-12 22:28:16,631] Finished a trial resulted in value: -0.8800467574478545. Current best value is -0.8958969942568847 with parameters: {'max_leaves': 24, 'min_data_in_leaf': 785, 'max_depth': 9, 'learning_rate': 0.018312017998077943, 'bagging_fraction': 0.28264364173360707, 'feature_fraction': 0.313561202745261, 'reg_alpha': 2.3891631786406666, 'reg_lambda': 0.9071142377481276, 'colsample_bytree': 0.19182092055148398, 'min_gain_to_split': 0.007557463984950124, 'min_child_weight': 0.38536885596825654}.\n"
     ]
    },
    {
     "name": "stdout",
     "output_type": "stream",
     "text": [
      "49 "
     ]
    },
    {
     "name": "stderr",
     "output_type": "stream",
     "text": [
      "[I 2019-03-12 22:29:01,149] Finished a trial resulted in value: -0.8890544828301323. Current best value is -0.8958969942568847 with parameters: {'max_leaves': 24, 'min_data_in_leaf': 785, 'max_depth': 9, 'learning_rate': 0.018312017998077943, 'bagging_fraction': 0.28264364173360707, 'feature_fraction': 0.313561202745261, 'reg_alpha': 2.3891631786406666, 'reg_lambda': 0.9071142377481276, 'colsample_bytree': 0.19182092055148398, 'min_gain_to_split': 0.007557463984950124, 'min_child_weight': 0.38536885596825654}.\n"
     ]
    },
    {
     "name": "stdout",
     "output_type": "stream",
     "text": [
      "50 "
     ]
    },
    {
     "name": "stderr",
     "output_type": "stream",
     "text": [
      "[I 2019-03-12 22:29:35,294] Finished a trial resulted in value: -0.8730188516331786. Current best value is -0.8958969942568847 with parameters: {'max_leaves': 24, 'min_data_in_leaf': 785, 'max_depth': 9, 'learning_rate': 0.018312017998077943, 'bagging_fraction': 0.28264364173360707, 'feature_fraction': 0.313561202745261, 'reg_alpha': 2.3891631786406666, 'reg_lambda': 0.9071142377481276, 'colsample_bytree': 0.19182092055148398, 'min_gain_to_split': 0.007557463984950124, 'min_child_weight': 0.38536885596825654}.\n"
     ]
    },
    {
     "name": "stdout",
     "output_type": "stream",
     "text": [
      "51 "
     ]
    },
    {
     "name": "stderr",
     "output_type": "stream",
     "text": [
      "[I 2019-03-12 22:30:04,357] Finished a trial resulted in value: -0.874233064633583. Current best value is -0.8958969942568847 with parameters: {'max_leaves': 24, 'min_data_in_leaf': 785, 'max_depth': 9, 'learning_rate': 0.018312017998077943, 'bagging_fraction': 0.28264364173360707, 'feature_fraction': 0.313561202745261, 'reg_alpha': 2.3891631786406666, 'reg_lambda': 0.9071142377481276, 'colsample_bytree': 0.19182092055148398, 'min_gain_to_split': 0.007557463984950124, 'min_child_weight': 0.38536885596825654}.\n"
     ]
    },
    {
     "name": "stdout",
     "output_type": "stream",
     "text": [
      "52 "
     ]
    },
    {
     "name": "stderr",
     "output_type": "stream",
     "text": [
      "[I 2019-03-12 22:30:41,721] Finished a trial resulted in value: -0.839686669824425. Current best value is -0.8958969942568847 with parameters: {'max_leaves': 24, 'min_data_in_leaf': 785, 'max_depth': 9, 'learning_rate': 0.018312017998077943, 'bagging_fraction': 0.28264364173360707, 'feature_fraction': 0.313561202745261, 'reg_alpha': 2.3891631786406666, 'reg_lambda': 0.9071142377481276, 'colsample_bytree': 0.19182092055148398, 'min_gain_to_split': 0.007557463984950124, 'min_child_weight': 0.38536885596825654}.\n"
     ]
    },
    {
     "name": "stdout",
     "output_type": "stream",
     "text": [
      "53 "
     ]
    },
    {
     "name": "stderr",
     "output_type": "stream",
     "text": [
      "[I 2019-03-12 22:31:08,456] Finished a trial resulted in value: -0.8696429144865008. Current best value is -0.8958969942568847 with parameters: {'max_leaves': 24, 'min_data_in_leaf': 785, 'max_depth': 9, 'learning_rate': 0.018312017998077943, 'bagging_fraction': 0.28264364173360707, 'feature_fraction': 0.313561202745261, 'reg_alpha': 2.3891631786406666, 'reg_lambda': 0.9071142377481276, 'colsample_bytree': 0.19182092055148398, 'min_gain_to_split': 0.007557463984950124, 'min_child_weight': 0.38536885596825654}.\n"
     ]
    },
    {
     "name": "stdout",
     "output_type": "stream",
     "text": [
      "54 "
     ]
    },
    {
     "name": "stderr",
     "output_type": "stream",
     "text": [
      "[I 2019-03-12 22:33:08,984] Finished a trial resulted in value: -0.896537755096856. Current best value is -0.896537755096856 with parameters: {'max_leaves': 32, 'min_data_in_leaf': 752, 'max_depth': 6, 'learning_rate': 0.030498797201878567, 'bagging_fraction': 0.5040253331715506, 'feature_fraction': 0.13907225249322006, 'reg_alpha': 4.499067245351004, 'reg_lambda': 1.928235674744472, 'colsample_bytree': 0.4770522449667078, 'min_gain_to_split': 0.00014308999107144268, 'min_child_weight': 0.01287884264021643}.\n"
     ]
    },
    {
     "name": "stdout",
     "output_type": "stream",
     "text": [
      "55 "
     ]
    },
    {
     "name": "stderr",
     "output_type": "stream",
     "text": [
      "[I 2019-03-12 22:33:30,248] Finished a trial resulted in value: -0.8366066280118969. Current best value is -0.896537755096856 with parameters: {'max_leaves': 32, 'min_data_in_leaf': 752, 'max_depth': 6, 'learning_rate': 0.030498797201878567, 'bagging_fraction': 0.5040253331715506, 'feature_fraction': 0.13907225249322006, 'reg_alpha': 4.499067245351004, 'reg_lambda': 1.928235674744472, 'colsample_bytree': 0.4770522449667078, 'min_gain_to_split': 0.00014308999107144268, 'min_child_weight': 0.01287884264021643}.\n"
     ]
    },
    {
     "name": "stdout",
     "output_type": "stream",
     "text": [
      "56 "
     ]
    },
    {
     "name": "stderr",
     "output_type": "stream",
     "text": [
      "[I 2019-03-12 22:34:19,056] Finished a trial resulted in value: -0.8418968137603436. Current best value is -0.896537755096856 with parameters: {'max_leaves': 32, 'min_data_in_leaf': 752, 'max_depth': 6, 'learning_rate': 0.030498797201878567, 'bagging_fraction': 0.5040253331715506, 'feature_fraction': 0.13907225249322006, 'reg_alpha': 4.499067245351004, 'reg_lambda': 1.928235674744472, 'colsample_bytree': 0.4770522449667078, 'min_gain_to_split': 0.00014308999107144268, 'min_child_weight': 0.01287884264021643}.\n"
     ]
    },
    {
     "name": "stdout",
     "output_type": "stream",
     "text": [
      "57 "
     ]
    },
    {
     "name": "stderr",
     "output_type": "stream",
     "text": [
      "[I 2019-03-12 22:34:38,092] Finished a trial resulted in value: -0.7768646603151268. Current best value is -0.896537755096856 with parameters: {'max_leaves': 32, 'min_data_in_leaf': 752, 'max_depth': 6, 'learning_rate': 0.030498797201878567, 'bagging_fraction': 0.5040253331715506, 'feature_fraction': 0.13907225249322006, 'reg_alpha': 4.499067245351004, 'reg_lambda': 1.928235674744472, 'colsample_bytree': 0.4770522449667078, 'min_gain_to_split': 0.00014308999107144268, 'min_child_weight': 0.01287884264021643}.\n"
     ]
    },
    {
     "name": "stdout",
     "output_type": "stream",
     "text": [
      "58 "
     ]
    },
    {
     "name": "stderr",
     "output_type": "stream",
     "text": [
      "[I 2019-03-12 22:35:12,708] Finished a trial resulted in value: -0.8515122305965857. Current best value is -0.896537755096856 with parameters: {'max_leaves': 32, 'min_data_in_leaf': 752, 'max_depth': 6, 'learning_rate': 0.030498797201878567, 'bagging_fraction': 0.5040253331715506, 'feature_fraction': 0.13907225249322006, 'reg_alpha': 4.499067245351004, 'reg_lambda': 1.928235674744472, 'colsample_bytree': 0.4770522449667078, 'min_gain_to_split': 0.00014308999107144268, 'min_child_weight': 0.01287884264021643}.\n"
     ]
    },
    {
     "name": "stdout",
     "output_type": "stream",
     "text": [
      "59 "
     ]
    },
    {
     "name": "stderr",
     "output_type": "stream",
     "text": [
      "[I 2019-03-12 22:36:12,583] Finished a trial resulted in value: -0.8896707563716768. Current best value is -0.896537755096856 with parameters: {'max_leaves': 32, 'min_data_in_leaf': 752, 'max_depth': 6, 'learning_rate': 0.030498797201878567, 'bagging_fraction': 0.5040253331715506, 'feature_fraction': 0.13907225249322006, 'reg_alpha': 4.499067245351004, 'reg_lambda': 1.928235674744472, 'colsample_bytree': 0.4770522449667078, 'min_gain_to_split': 0.00014308999107144268, 'min_child_weight': 0.01287884264021643}.\n"
     ]
    },
    {
     "name": "stdout",
     "output_type": "stream",
     "text": [
      "60 "
     ]
    },
    {
     "name": "stderr",
     "output_type": "stream",
     "text": [
      "[I 2019-03-12 22:36:36,785] Finished a trial resulted in value: -0.8584420544620903. Current best value is -0.896537755096856 with parameters: {'max_leaves': 32, 'min_data_in_leaf': 752, 'max_depth': 6, 'learning_rate': 0.030498797201878567, 'bagging_fraction': 0.5040253331715506, 'feature_fraction': 0.13907225249322006, 'reg_alpha': 4.499067245351004, 'reg_lambda': 1.928235674744472, 'colsample_bytree': 0.4770522449667078, 'min_gain_to_split': 0.00014308999107144268, 'min_child_weight': 0.01287884264021643}.\n"
     ]
    },
    {
     "name": "stdout",
     "output_type": "stream",
     "text": [
      "61 "
     ]
    },
    {
     "name": "stderr",
     "output_type": "stream",
     "text": [
      "[I 2019-03-12 22:37:04,685] Finished a trial resulted in value: -0.8471442646953043. Current best value is -0.896537755096856 with parameters: {'max_leaves': 32, 'min_data_in_leaf': 752, 'max_depth': 6, 'learning_rate': 0.030498797201878567, 'bagging_fraction': 0.5040253331715506, 'feature_fraction': 0.13907225249322006, 'reg_alpha': 4.499067245351004, 'reg_lambda': 1.928235674744472, 'colsample_bytree': 0.4770522449667078, 'min_gain_to_split': 0.00014308999107144268, 'min_child_weight': 0.01287884264021643}.\n"
     ]
    },
    {
     "name": "stdout",
     "output_type": "stream",
     "text": [
      "62 "
     ]
    },
    {
     "name": "stderr",
     "output_type": "stream",
     "text": [
      "[I 2019-03-12 22:37:36,365] Finished a trial resulted in value: -0.8550215449450498. Current best value is -0.896537755096856 with parameters: {'max_leaves': 32, 'min_data_in_leaf': 752, 'max_depth': 6, 'learning_rate': 0.030498797201878567, 'bagging_fraction': 0.5040253331715506, 'feature_fraction': 0.13907225249322006, 'reg_alpha': 4.499067245351004, 'reg_lambda': 1.928235674744472, 'colsample_bytree': 0.4770522449667078, 'min_gain_to_split': 0.00014308999107144268, 'min_child_weight': 0.01287884264021643}.\n"
     ]
    },
    {
     "name": "stdout",
     "output_type": "stream",
     "text": [
      "63 "
     ]
    },
    {
     "name": "stderr",
     "output_type": "stream",
     "text": [
      "[I 2019-03-12 22:38:08,139] Finished a trial resulted in value: -0.8844180101531578. Current best value is -0.896537755096856 with parameters: {'max_leaves': 32, 'min_data_in_leaf': 752, 'max_depth': 6, 'learning_rate': 0.030498797201878567, 'bagging_fraction': 0.5040253331715506, 'feature_fraction': 0.13907225249322006, 'reg_alpha': 4.499067245351004, 'reg_lambda': 1.928235674744472, 'colsample_bytree': 0.4770522449667078, 'min_gain_to_split': 0.00014308999107144268, 'min_child_weight': 0.01287884264021643}.\n"
     ]
    },
    {
     "name": "stdout",
     "output_type": "stream",
     "text": [
      "64 "
     ]
    },
    {
     "name": "stderr",
     "output_type": "stream",
     "text": [
      "[I 2019-03-12 22:38:37,830] Finished a trial resulted in value: -0.8768285669809156. Current best value is -0.896537755096856 with parameters: {'max_leaves': 32, 'min_data_in_leaf': 752, 'max_depth': 6, 'learning_rate': 0.030498797201878567, 'bagging_fraction': 0.5040253331715506, 'feature_fraction': 0.13907225249322006, 'reg_alpha': 4.499067245351004, 'reg_lambda': 1.928235674744472, 'colsample_bytree': 0.4770522449667078, 'min_gain_to_split': 0.00014308999107144268, 'min_child_weight': 0.01287884264021643}.\n"
     ]
    },
    {
     "name": "stdout",
     "output_type": "stream",
     "text": [
      "65 "
     ]
    },
    {
     "name": "stderr",
     "output_type": "stream",
     "text": [
      "[I 2019-03-12 22:42:41,918] Finished a trial resulted in value: -0.8970392950054733. Current best value is -0.8970392950054733 with parameters: {'max_leaves': 25, 'min_data_in_leaf': 162, 'max_depth': 5, 'learning_rate': 0.014074781700822006, 'bagging_fraction': 0.5094655005412614, 'feature_fraction': 0.2333883895266612, 'reg_alpha': 2.154163362226363, 'reg_lambda': 0.897595488268903, 'colsample_bytree': 0.2873090718405964, 'min_gain_to_split': 0.07086939291409662, 'min_child_weight': 0.08916715516018144}.\n"
     ]
    },
    {
     "name": "stdout",
     "output_type": "stream",
     "text": [
      "66 "
     ]
    },
    {
     "name": "stderr",
     "output_type": "stream",
     "text": [
      "[I 2019-03-12 22:46:05,586] Finished a trial resulted in value: -0.8951000255942578. Current best value is -0.8970392950054733 with parameters: {'max_leaves': 25, 'min_data_in_leaf': 162, 'max_depth': 5, 'learning_rate': 0.014074781700822006, 'bagging_fraction': 0.5094655005412614, 'feature_fraction': 0.2333883895266612, 'reg_alpha': 2.154163362226363, 'reg_lambda': 0.897595488268903, 'colsample_bytree': 0.2873090718405964, 'min_gain_to_split': 0.07086939291409662, 'min_child_weight': 0.08916715516018144}.\n"
     ]
    },
    {
     "name": "stdout",
     "output_type": "stream",
     "text": [
      "67 "
     ]
    },
    {
     "name": "stderr",
     "output_type": "stream",
     "text": [
      "[I 2019-03-12 22:46:51,416] Finished a trial resulted in value: -0.8918666824740074. Current best value is -0.8970392950054733 with parameters: {'max_leaves': 25, 'min_data_in_leaf': 162, 'max_depth': 5, 'learning_rate': 0.014074781700822006, 'bagging_fraction': 0.5094655005412614, 'feature_fraction': 0.2333883895266612, 'reg_alpha': 2.154163362226363, 'reg_lambda': 0.897595488268903, 'colsample_bytree': 0.2873090718405964, 'min_gain_to_split': 0.07086939291409662, 'min_child_weight': 0.08916715516018144}.\n"
     ]
    },
    {
     "name": "stdout",
     "output_type": "stream",
     "text": [
      "68 "
     ]
    },
    {
     "name": "stderr",
     "output_type": "stream",
     "text": [
      "[I 2019-03-12 22:49:08,075] Finished a trial resulted in value: -0.8951236209419129. Current best value is -0.8970392950054733 with parameters: {'max_leaves': 25, 'min_data_in_leaf': 162, 'max_depth': 5, 'learning_rate': 0.014074781700822006, 'bagging_fraction': 0.5094655005412614, 'feature_fraction': 0.2333883895266612, 'reg_alpha': 2.154163362226363, 'reg_lambda': 0.897595488268903, 'colsample_bytree': 0.2873090718405964, 'min_gain_to_split': 0.07086939291409662, 'min_child_weight': 0.08916715516018144}.\n"
     ]
    },
    {
     "name": "stdout",
     "output_type": "stream",
     "text": [
      "69 "
     ]
    },
    {
     "name": "stderr",
     "output_type": "stream",
     "text": [
      "[I 2019-03-12 22:49:47,085] Finished a trial resulted in value: -0.885613477805514. Current best value is -0.8970392950054733 with parameters: {'max_leaves': 25, 'min_data_in_leaf': 162, 'max_depth': 5, 'learning_rate': 0.014074781700822006, 'bagging_fraction': 0.5094655005412614, 'feature_fraction': 0.2333883895266612, 'reg_alpha': 2.154163362226363, 'reg_lambda': 0.897595488268903, 'colsample_bytree': 0.2873090718405964, 'min_gain_to_split': 0.07086939291409662, 'min_child_weight': 0.08916715516018144}.\n"
     ]
    },
    {
     "name": "stdout",
     "output_type": "stream",
     "text": [
      "70 "
     ]
    },
    {
     "name": "stderr",
     "output_type": "stream",
     "text": [
      "[I 2019-03-12 22:50:48,447] Finished a trial resulted in value: -0.8907079294514323. Current best value is -0.8970392950054733 with parameters: {'max_leaves': 25, 'min_data_in_leaf': 162, 'max_depth': 5, 'learning_rate': 0.014074781700822006, 'bagging_fraction': 0.5094655005412614, 'feature_fraction': 0.2333883895266612, 'reg_alpha': 2.154163362226363, 'reg_lambda': 0.897595488268903, 'colsample_bytree': 0.2873090718405964, 'min_gain_to_split': 0.07086939291409662, 'min_child_weight': 0.08916715516018144}.\n"
     ]
    },
    {
     "name": "stdout",
     "output_type": "stream",
     "text": [
      "71 "
     ]
    },
    {
     "name": "stderr",
     "output_type": "stream",
     "text": [
      "[I 2019-03-12 22:51:17,636] Finished a trial resulted in value: -0.8719364296833433. Current best value is -0.8970392950054733 with parameters: {'max_leaves': 25, 'min_data_in_leaf': 162, 'max_depth': 5, 'learning_rate': 0.014074781700822006, 'bagging_fraction': 0.5094655005412614, 'feature_fraction': 0.2333883895266612, 'reg_alpha': 2.154163362226363, 'reg_lambda': 0.897595488268903, 'colsample_bytree': 0.2873090718405964, 'min_gain_to_split': 0.07086939291409662, 'min_child_weight': 0.08916715516018144}.\n"
     ]
    },
    {
     "name": "stdout",
     "output_type": "stream",
     "text": [
      "72 "
     ]
    },
    {
     "name": "stderr",
     "output_type": "stream",
     "text": [
      "[I 2019-03-12 22:52:25,936] Finished a trial resulted in value: -0.8943215218337617. Current best value is -0.8970392950054733 with parameters: {'max_leaves': 25, 'min_data_in_leaf': 162, 'max_depth': 5, 'learning_rate': 0.014074781700822006, 'bagging_fraction': 0.5094655005412614, 'feature_fraction': 0.2333883895266612, 'reg_alpha': 2.154163362226363, 'reg_lambda': 0.897595488268903, 'colsample_bytree': 0.2873090718405964, 'min_gain_to_split': 0.07086939291409662, 'min_child_weight': 0.08916715516018144}.\n"
     ]
    },
    {
     "name": "stdout",
     "output_type": "stream",
     "text": [
      "73 "
     ]
    },
    {
     "name": "stderr",
     "output_type": "stream",
     "text": [
      "[I 2019-03-12 22:54:14,771] Finished a trial resulted in value: -0.897511793273537. Current best value is -0.897511793273537 with parameters: {'max_leaves': 29, 'min_data_in_leaf': 156, 'max_depth': 10, 'learning_rate': 0.021741165011171952, 'bagging_fraction': 0.475197458467168, 'feature_fraction': 0.045436792303383405, 'reg_alpha': 1.3574297339060766, 'reg_lambda': 0.4535899098914759, 'colsample_bytree': 0.171478972371309, 'min_gain_to_split': 0.02140209896872818, 'min_child_weight': 2.6063332047988617}.\n"
     ]
    },
    {
     "name": "stdout",
     "output_type": "stream",
     "text": [
      "74 "
     ]
    },
    {
     "name": "stderr",
     "output_type": "stream",
     "text": [
      "[I 2019-03-12 22:54:43,844] Finished a trial resulted in value: -0.882994832861972. Current best value is -0.897511793273537 with parameters: {'max_leaves': 29, 'min_data_in_leaf': 156, 'max_depth': 10, 'learning_rate': 0.021741165011171952, 'bagging_fraction': 0.475197458467168, 'feature_fraction': 0.045436792303383405, 'reg_alpha': 1.3574297339060766, 'reg_lambda': 0.4535899098914759, 'colsample_bytree': 0.171478972371309, 'min_gain_to_split': 0.02140209896872818, 'min_child_weight': 2.6063332047988617}.\n"
     ]
    },
    {
     "name": "stdout",
     "output_type": "stream",
     "text": [
      "75 "
     ]
    },
    {
     "name": "stderr",
     "output_type": "stream",
     "text": [
      "[I 2019-03-12 22:58:41,323] Finished a trial resulted in value: -0.8949892135024136. Current best value is -0.897511793273537 with parameters: {'max_leaves': 29, 'min_data_in_leaf': 156, 'max_depth': 10, 'learning_rate': 0.021741165011171952, 'bagging_fraction': 0.475197458467168, 'feature_fraction': 0.045436792303383405, 'reg_alpha': 1.3574297339060766, 'reg_lambda': 0.4535899098914759, 'colsample_bytree': 0.171478972371309, 'min_gain_to_split': 0.02140209896872818, 'min_child_weight': 2.6063332047988617}.\n"
     ]
    },
    {
     "name": "stdout",
     "output_type": "stream",
     "text": [
      "76 "
     ]
    },
    {
     "name": "stderr",
     "output_type": "stream",
     "text": [
      "[I 2019-03-12 22:59:06,751] Finished a trial resulted in value: -0.8717272941933284. Current best value is -0.897511793273537 with parameters: {'max_leaves': 29, 'min_data_in_leaf': 156, 'max_depth': 10, 'learning_rate': 0.021741165011171952, 'bagging_fraction': 0.475197458467168, 'feature_fraction': 0.045436792303383405, 'reg_alpha': 1.3574297339060766, 'reg_lambda': 0.4535899098914759, 'colsample_bytree': 0.171478972371309, 'min_gain_to_split': 0.02140209896872818, 'min_child_weight': 2.6063332047988617}.\n"
     ]
    },
    {
     "name": "stdout",
     "output_type": "stream",
     "text": [
      "77 "
     ]
    },
    {
     "name": "stderr",
     "output_type": "stream",
     "text": [
      "[I 2019-03-12 22:59:50,320] Finished a trial resulted in value: -0.8863637973044931. Current best value is -0.897511793273537 with parameters: {'max_leaves': 29, 'min_data_in_leaf': 156, 'max_depth': 10, 'learning_rate': 0.021741165011171952, 'bagging_fraction': 0.475197458467168, 'feature_fraction': 0.045436792303383405, 'reg_alpha': 1.3574297339060766, 'reg_lambda': 0.4535899098914759, 'colsample_bytree': 0.171478972371309, 'min_gain_to_split': 0.02140209896872818, 'min_child_weight': 2.6063332047988617}.\n"
     ]
    },
    {
     "name": "stdout",
     "output_type": "stream",
     "text": [
      "78 "
     ]
    },
    {
     "name": "stderr",
     "output_type": "stream",
     "text": [
      "[I 2019-03-12 23:00:25,787] Finished a trial resulted in value: -0.8865152596724692. Current best value is -0.897511793273537 with parameters: {'max_leaves': 29, 'min_data_in_leaf': 156, 'max_depth': 10, 'learning_rate': 0.021741165011171952, 'bagging_fraction': 0.475197458467168, 'feature_fraction': 0.045436792303383405, 'reg_alpha': 1.3574297339060766, 'reg_lambda': 0.4535899098914759, 'colsample_bytree': 0.171478972371309, 'min_gain_to_split': 0.02140209896872818, 'min_child_weight': 2.6063332047988617}.\n"
     ]
    },
    {
     "name": "stdout",
     "output_type": "stream",
     "text": [
      "79 "
     ]
    },
    {
     "name": "stderr",
     "output_type": "stream",
     "text": [
      "[I 2019-03-12 23:01:12,243] Finished a trial resulted in value: -0.8832995094168976. Current best value is -0.897511793273537 with parameters: {'max_leaves': 29, 'min_data_in_leaf': 156, 'max_depth': 10, 'learning_rate': 0.021741165011171952, 'bagging_fraction': 0.475197458467168, 'feature_fraction': 0.045436792303383405, 'reg_alpha': 1.3574297339060766, 'reg_lambda': 0.4535899098914759, 'colsample_bytree': 0.171478972371309, 'min_gain_to_split': 0.02140209896872818, 'min_child_weight': 2.6063332047988617}.\n"
     ]
    },
    {
     "name": "stdout",
     "output_type": "stream",
     "text": [
      "80 "
     ]
    },
    {
     "name": "stderr",
     "output_type": "stream",
     "text": [
      "[I 2019-03-12 23:01:39,863] Finished a trial resulted in value: -0.8801593758437267. Current best value is -0.897511793273537 with parameters: {'max_leaves': 29, 'min_data_in_leaf': 156, 'max_depth': 10, 'learning_rate': 0.021741165011171952, 'bagging_fraction': 0.475197458467168, 'feature_fraction': 0.045436792303383405, 'reg_alpha': 1.3574297339060766, 'reg_lambda': 0.4535899098914759, 'colsample_bytree': 0.171478972371309, 'min_gain_to_split': 0.02140209896872818, 'min_child_weight': 2.6063332047988617}.\n"
     ]
    },
    {
     "name": "stdout",
     "output_type": "stream",
     "text": [
      "81 "
     ]
    },
    {
     "name": "stderr",
     "output_type": "stream",
     "text": [
      "[I 2019-03-12 23:03:56,512] Finished a trial resulted in value: -0.8962765211079822. Current best value is -0.897511793273537 with parameters: {'max_leaves': 29, 'min_data_in_leaf': 156, 'max_depth': 10, 'learning_rate': 0.021741165011171952, 'bagging_fraction': 0.475197458467168, 'feature_fraction': 0.045436792303383405, 'reg_alpha': 1.3574297339060766, 'reg_lambda': 0.4535899098914759, 'colsample_bytree': 0.171478972371309, 'min_gain_to_split': 0.02140209896872818, 'min_child_weight': 2.6063332047988617}.\n"
     ]
    },
    {
     "name": "stdout",
     "output_type": "stream",
     "text": [
      "82 "
     ]
    },
    {
     "name": "stderr",
     "output_type": "stream",
     "text": [
      "[I 2019-03-12 23:04:56,256] Finished a trial resulted in value: -0.8882974124392503. Current best value is -0.897511793273537 with parameters: {'max_leaves': 29, 'min_data_in_leaf': 156, 'max_depth': 10, 'learning_rate': 0.021741165011171952, 'bagging_fraction': 0.475197458467168, 'feature_fraction': 0.045436792303383405, 'reg_alpha': 1.3574297339060766, 'reg_lambda': 0.4535899098914759, 'colsample_bytree': 0.171478972371309, 'min_gain_to_split': 0.02140209896872818, 'min_child_weight': 2.6063332047988617}.\n"
     ]
    },
    {
     "name": "stdout",
     "output_type": "stream",
     "text": [
      "83 "
     ]
    },
    {
     "name": "stderr",
     "output_type": "stream",
     "text": [
      "[I 2019-03-12 23:05:39,416] Finished a trial resulted in value: -0.8777674382352633. Current best value is -0.897511793273537 with parameters: {'max_leaves': 29, 'min_data_in_leaf': 156, 'max_depth': 10, 'learning_rate': 0.021741165011171952, 'bagging_fraction': 0.475197458467168, 'feature_fraction': 0.045436792303383405, 'reg_alpha': 1.3574297339060766, 'reg_lambda': 0.4535899098914759, 'colsample_bytree': 0.171478972371309, 'min_gain_to_split': 0.02140209896872818, 'min_child_weight': 2.6063332047988617}.\n"
     ]
    },
    {
     "name": "stdout",
     "output_type": "stream",
     "text": [
      "84 "
     ]
    },
    {
     "name": "stderr",
     "output_type": "stream",
     "text": [
      "[I 2019-03-12 23:06:07,940] Finished a trial resulted in value: -0.86867339746308. Current best value is -0.897511793273537 with parameters: {'max_leaves': 29, 'min_data_in_leaf': 156, 'max_depth': 10, 'learning_rate': 0.021741165011171952, 'bagging_fraction': 0.475197458467168, 'feature_fraction': 0.045436792303383405, 'reg_alpha': 1.3574297339060766, 'reg_lambda': 0.4535899098914759, 'colsample_bytree': 0.171478972371309, 'min_gain_to_split': 0.02140209896872818, 'min_child_weight': 2.6063332047988617}.\n"
     ]
    },
    {
     "name": "stdout",
     "output_type": "stream",
     "text": [
      "85 "
     ]
    },
    {
     "name": "stderr",
     "output_type": "stream",
     "text": [
      "[I 2019-03-12 23:07:14,989] Finished a trial resulted in value: -0.8906216981399872. Current best value is -0.897511793273537 with parameters: {'max_leaves': 29, 'min_data_in_leaf': 156, 'max_depth': 10, 'learning_rate': 0.021741165011171952, 'bagging_fraction': 0.475197458467168, 'feature_fraction': 0.045436792303383405, 'reg_alpha': 1.3574297339060766, 'reg_lambda': 0.4535899098914759, 'colsample_bytree': 0.171478972371309, 'min_gain_to_split': 0.02140209896872818, 'min_child_weight': 2.6063332047988617}.\n"
     ]
    },
    {
     "name": "stdout",
     "output_type": "stream",
     "text": [
      "86 "
     ]
    },
    {
     "name": "stderr",
     "output_type": "stream",
     "text": [
      "[I 2019-03-12 23:07:46,987] Finished a trial resulted in value: -0.8833293984798275. Current best value is -0.897511793273537 with parameters: {'max_leaves': 29, 'min_data_in_leaf': 156, 'max_depth': 10, 'learning_rate': 0.021741165011171952, 'bagging_fraction': 0.475197458467168, 'feature_fraction': 0.045436792303383405, 'reg_alpha': 1.3574297339060766, 'reg_lambda': 0.4535899098914759, 'colsample_bytree': 0.171478972371309, 'min_gain_to_split': 0.02140209896872818, 'min_child_weight': 2.6063332047988617}.\n"
     ]
    },
    {
     "name": "stdout",
     "output_type": "stream",
     "text": [
      "87 "
     ]
    },
    {
     "name": "stderr",
     "output_type": "stream",
     "text": [
      "[I 2019-03-12 23:08:40,183] Finished a trial resulted in value: -0.8891062306333081. Current best value is -0.897511793273537 with parameters: {'max_leaves': 29, 'min_data_in_leaf': 156, 'max_depth': 10, 'learning_rate': 0.021741165011171952, 'bagging_fraction': 0.475197458467168, 'feature_fraction': 0.045436792303383405, 'reg_alpha': 1.3574297339060766, 'reg_lambda': 0.4535899098914759, 'colsample_bytree': 0.171478972371309, 'min_gain_to_split': 0.02140209896872818, 'min_child_weight': 2.6063332047988617}.\n"
     ]
    },
    {
     "name": "stdout",
     "output_type": "stream",
     "text": [
      "88 "
     ]
    },
    {
     "name": "stderr",
     "output_type": "stream",
     "text": [
      "[I 2019-03-12 23:10:09,670] Finished a trial resulted in value: -0.8936036314522513. Current best value is -0.897511793273537 with parameters: {'max_leaves': 29, 'min_data_in_leaf': 156, 'max_depth': 10, 'learning_rate': 0.021741165011171952, 'bagging_fraction': 0.475197458467168, 'feature_fraction': 0.045436792303383405, 'reg_alpha': 1.3574297339060766, 'reg_lambda': 0.4535899098914759, 'colsample_bytree': 0.171478972371309, 'min_gain_to_split': 0.02140209896872818, 'min_child_weight': 2.6063332047988617}.\n"
     ]
    },
    {
     "name": "stdout",
     "output_type": "stream",
     "text": [
      "89 "
     ]
    },
    {
     "name": "stderr",
     "output_type": "stream",
     "text": [
      "[I 2019-03-12 23:11:16,157] Finished a trial resulted in value: -0.8464715880589908. Current best value is -0.897511793273537 with parameters: {'max_leaves': 29, 'min_data_in_leaf': 156, 'max_depth': 10, 'learning_rate': 0.021741165011171952, 'bagging_fraction': 0.475197458467168, 'feature_fraction': 0.045436792303383405, 'reg_alpha': 1.3574297339060766, 'reg_lambda': 0.4535899098914759, 'colsample_bytree': 0.171478972371309, 'min_gain_to_split': 0.02140209896872818, 'min_child_weight': 2.6063332047988617}.\n"
     ]
    },
    {
     "name": "stdout",
     "output_type": "stream",
     "text": [
      "90 "
     ]
    },
    {
     "name": "stderr",
     "output_type": "stream",
     "text": [
      "[I 2019-03-12 23:16:15,227] Finished a trial resulted in value: -0.8970479155368232. Current best value is -0.897511793273537 with parameters: {'max_leaves': 29, 'min_data_in_leaf': 156, 'max_depth': 10, 'learning_rate': 0.021741165011171952, 'bagging_fraction': 0.475197458467168, 'feature_fraction': 0.045436792303383405, 'reg_alpha': 1.3574297339060766, 'reg_lambda': 0.4535899098914759, 'colsample_bytree': 0.171478972371309, 'min_gain_to_split': 0.02140209896872818, 'min_child_weight': 2.6063332047988617}.\n"
     ]
    },
    {
     "name": "stdout",
     "output_type": "stream",
     "text": [
      "91 "
     ]
    },
    {
     "name": "stderr",
     "output_type": "stream",
     "text": [
      "[I 2019-03-12 23:17:07,410] Finished a trial resulted in value: -0.8769470504025445. Current best value is -0.897511793273537 with parameters: {'max_leaves': 29, 'min_data_in_leaf': 156, 'max_depth': 10, 'learning_rate': 0.021741165011171952, 'bagging_fraction': 0.475197458467168, 'feature_fraction': 0.045436792303383405, 'reg_alpha': 1.3574297339060766, 'reg_lambda': 0.4535899098914759, 'colsample_bytree': 0.171478972371309, 'min_gain_to_split': 0.02140209896872818, 'min_child_weight': 2.6063332047988617}.\n"
     ]
    },
    {
     "name": "stdout",
     "output_type": "stream",
     "text": [
      "92 "
     ]
    },
    {
     "name": "stderr",
     "output_type": "stream",
     "text": [
      "[I 2019-03-12 23:22:10,202] Finished a trial resulted in value: -0.8957866631270226. Current best value is -0.897511793273537 with parameters: {'max_leaves': 29, 'min_data_in_leaf': 156, 'max_depth': 10, 'learning_rate': 0.021741165011171952, 'bagging_fraction': 0.475197458467168, 'feature_fraction': 0.045436792303383405, 'reg_alpha': 1.3574297339060766, 'reg_lambda': 0.4535899098914759, 'colsample_bytree': 0.171478972371309, 'min_gain_to_split': 0.02140209896872818, 'min_child_weight': 2.6063332047988617}.\n"
     ]
    },
    {
     "name": "stdout",
     "output_type": "stream",
     "text": [
      "93 "
     ]
    },
    {
     "name": "stderr",
     "output_type": "stream",
     "text": [
      "[I 2019-03-12 23:22:57,190] Finished a trial resulted in value: -0.8816219657429194. Current best value is -0.897511793273537 with parameters: {'max_leaves': 29, 'min_data_in_leaf': 156, 'max_depth': 10, 'learning_rate': 0.021741165011171952, 'bagging_fraction': 0.475197458467168, 'feature_fraction': 0.045436792303383405, 'reg_alpha': 1.3574297339060766, 'reg_lambda': 0.4535899098914759, 'colsample_bytree': 0.171478972371309, 'min_gain_to_split': 0.02140209896872818, 'min_child_weight': 2.6063332047988617}.\n"
     ]
    },
    {
     "name": "stdout",
     "output_type": "stream",
     "text": [
      "94 "
     ]
    },
    {
     "name": "stderr",
     "output_type": "stream",
     "text": [
      "[I 2019-03-12 23:23:22,965] Finished a trial resulted in value: -0.8047952258643876. Current best value is -0.897511793273537 with parameters: {'max_leaves': 29, 'min_data_in_leaf': 156, 'max_depth': 10, 'learning_rate': 0.021741165011171952, 'bagging_fraction': 0.475197458467168, 'feature_fraction': 0.045436792303383405, 'reg_alpha': 1.3574297339060766, 'reg_lambda': 0.4535899098914759, 'colsample_bytree': 0.171478972371309, 'min_gain_to_split': 0.02140209896872818, 'min_child_weight': 2.6063332047988617}.\n"
     ]
    },
    {
     "name": "stdout",
     "output_type": "stream",
     "text": [
      "95 "
     ]
    },
    {
     "name": "stderr",
     "output_type": "stream",
     "text": [
      "[I 2019-03-12 23:24:15,885] Finished a trial resulted in value: -0.8824401169226488. Current best value is -0.897511793273537 with parameters: {'max_leaves': 29, 'min_data_in_leaf': 156, 'max_depth': 10, 'learning_rate': 0.021741165011171952, 'bagging_fraction': 0.475197458467168, 'feature_fraction': 0.045436792303383405, 'reg_alpha': 1.3574297339060766, 'reg_lambda': 0.4535899098914759, 'colsample_bytree': 0.171478972371309, 'min_gain_to_split': 0.02140209896872818, 'min_child_weight': 2.6063332047988617}.\n"
     ]
    },
    {
     "name": "stdout",
     "output_type": "stream",
     "text": [
      "96 "
     ]
    },
    {
     "name": "stderr",
     "output_type": "stream",
     "text": [
      "[I 2019-03-12 23:24:46,355] Finished a trial resulted in value: -0.8328515855127189. Current best value is -0.897511793273537 with parameters: {'max_leaves': 29, 'min_data_in_leaf': 156, 'max_depth': 10, 'learning_rate': 0.021741165011171952, 'bagging_fraction': 0.475197458467168, 'feature_fraction': 0.045436792303383405, 'reg_alpha': 1.3574297339060766, 'reg_lambda': 0.4535899098914759, 'colsample_bytree': 0.171478972371309, 'min_gain_to_split': 0.02140209896872818, 'min_child_weight': 2.6063332047988617}.\n"
     ]
    },
    {
     "name": "stdout",
     "output_type": "stream",
     "text": [
      "97 "
     ]
    },
    {
     "name": "stderr",
     "output_type": "stream",
     "text": [
      "[I 2019-03-12 23:25:28,264] Finished a trial resulted in value: -0.8685430766792714. Current best value is -0.897511793273537 with parameters: {'max_leaves': 29, 'min_data_in_leaf': 156, 'max_depth': 10, 'learning_rate': 0.021741165011171952, 'bagging_fraction': 0.475197458467168, 'feature_fraction': 0.045436792303383405, 'reg_alpha': 1.3574297339060766, 'reg_lambda': 0.4535899098914759, 'colsample_bytree': 0.171478972371309, 'min_gain_to_split': 0.02140209896872818, 'min_child_weight': 2.6063332047988617}.\n"
     ]
    },
    {
     "name": "stdout",
     "output_type": "stream",
     "text": [
      "98 "
     ]
    },
    {
     "name": "stderr",
     "output_type": "stream",
     "text": [
      "[I 2019-03-12 23:25:52,597] Finished a trial resulted in value: -0.8073237749296216. Current best value is -0.897511793273537 with parameters: {'max_leaves': 29, 'min_data_in_leaf': 156, 'max_depth': 10, 'learning_rate': 0.021741165011171952, 'bagging_fraction': 0.475197458467168, 'feature_fraction': 0.045436792303383405, 'reg_alpha': 1.3574297339060766, 'reg_lambda': 0.4535899098914759, 'colsample_bytree': 0.171478972371309, 'min_gain_to_split': 0.02140209896872818, 'min_child_weight': 2.6063332047988617}.\n"
     ]
    },
    {
     "name": "stdout",
     "output_type": "stream",
     "text": [
      "99 "
     ]
    },
    {
     "name": "stderr",
     "output_type": "stream",
     "text": [
      "[I 2019-03-12 23:26:32,058] Finished a trial resulted in value: -0.8413131438543879. Current best value is -0.897511793273537 with parameters: {'max_leaves': 29, 'min_data_in_leaf': 156, 'max_depth': 10, 'learning_rate': 0.021741165011171952, 'bagging_fraction': 0.475197458467168, 'feature_fraction': 0.045436792303383405, 'reg_alpha': 1.3574297339060766, 'reg_lambda': 0.4535899098914759, 'colsample_bytree': 0.171478972371309, 'min_gain_to_split': 0.02140209896872818, 'min_child_weight': 2.6063332047988617}.\n"
     ]
    },
    {
     "name": "stdout",
     "output_type": "stream",
     "text": [
      "100 "
     ]
    },
    {
     "name": "stderr",
     "output_type": "stream",
     "text": [
      "[I 2019-03-12 23:27:05,447] Finished a trial resulted in value: -0.8491854797928322. Current best value is -0.897511793273537 with parameters: {'max_leaves': 29, 'min_data_in_leaf': 156, 'max_depth': 10, 'learning_rate': 0.021741165011171952, 'bagging_fraction': 0.475197458467168, 'feature_fraction': 0.045436792303383405, 'reg_alpha': 1.3574297339060766, 'reg_lambda': 0.4535899098914759, 'colsample_bytree': 0.171478972371309, 'min_gain_to_split': 0.02140209896872818, 'min_child_weight': 2.6063332047988617}.\n"
     ]
    },
    {
     "name": "stdout",
     "output_type": "stream",
     "text": [
      "101 "
     ]
    },
    {
     "name": "stderr",
     "output_type": "stream",
     "text": [
      "[I 2019-03-12 23:27:49,049] Finished a trial resulted in value: -0.8693016776300204. Current best value is -0.897511793273537 with parameters: {'max_leaves': 29, 'min_data_in_leaf': 156, 'max_depth': 10, 'learning_rate': 0.021741165011171952, 'bagging_fraction': 0.475197458467168, 'feature_fraction': 0.045436792303383405, 'reg_alpha': 1.3574297339060766, 'reg_lambda': 0.4535899098914759, 'colsample_bytree': 0.171478972371309, 'min_gain_to_split': 0.02140209896872818, 'min_child_weight': 2.6063332047988617}.\n"
     ]
    },
    {
     "name": "stdout",
     "output_type": "stream",
     "text": [
      "102 "
     ]
    },
    {
     "name": "stderr",
     "output_type": "stream",
     "text": [
      "[I 2019-03-12 23:28:13,825] Finished a trial resulted in value: -0.8600350727323322. Current best value is -0.897511793273537 with parameters: {'max_leaves': 29, 'min_data_in_leaf': 156, 'max_depth': 10, 'learning_rate': 0.021741165011171952, 'bagging_fraction': 0.475197458467168, 'feature_fraction': 0.045436792303383405, 'reg_alpha': 1.3574297339060766, 'reg_lambda': 0.4535899098914759, 'colsample_bytree': 0.171478972371309, 'min_gain_to_split': 0.02140209896872818, 'min_child_weight': 2.6063332047988617}.\n"
     ]
    },
    {
     "name": "stdout",
     "output_type": "stream",
     "text": [
      "103 "
     ]
    },
    {
     "name": "stderr",
     "output_type": "stream",
     "text": [
      "[I 2019-03-12 23:29:08,098] Finished a trial resulted in value: -0.8881416756219171. Current best value is -0.897511793273537 with parameters: {'max_leaves': 29, 'min_data_in_leaf': 156, 'max_depth': 10, 'learning_rate': 0.021741165011171952, 'bagging_fraction': 0.475197458467168, 'feature_fraction': 0.045436792303383405, 'reg_alpha': 1.3574297339060766, 'reg_lambda': 0.4535899098914759, 'colsample_bytree': 0.171478972371309, 'min_gain_to_split': 0.02140209896872818, 'min_child_weight': 2.6063332047988617}.\n"
     ]
    },
    {
     "name": "stdout",
     "output_type": "stream",
     "text": [
      "104 "
     ]
    },
    {
     "name": "stderr",
     "output_type": "stream",
     "text": [
      "[I 2019-03-12 23:29:48,317] Finished a trial resulted in value: -0.8797689088361251. Current best value is -0.897511793273537 with parameters: {'max_leaves': 29, 'min_data_in_leaf': 156, 'max_depth': 10, 'learning_rate': 0.021741165011171952, 'bagging_fraction': 0.475197458467168, 'feature_fraction': 0.045436792303383405, 'reg_alpha': 1.3574297339060766, 'reg_lambda': 0.4535899098914759, 'colsample_bytree': 0.171478972371309, 'min_gain_to_split': 0.02140209896872818, 'min_child_weight': 2.6063332047988617}.\n"
     ]
    },
    {
     "name": "stdout",
     "output_type": "stream",
     "text": [
      "105 "
     ]
    },
    {
     "name": "stderr",
     "output_type": "stream",
     "text": [
      "[I 2019-03-12 23:30:12,069] Finished a trial resulted in value: -0.839842688193971. Current best value is -0.897511793273537 with parameters: {'max_leaves': 29, 'min_data_in_leaf': 156, 'max_depth': 10, 'learning_rate': 0.021741165011171952, 'bagging_fraction': 0.475197458467168, 'feature_fraction': 0.045436792303383405, 'reg_alpha': 1.3574297339060766, 'reg_lambda': 0.4535899098914759, 'colsample_bytree': 0.171478972371309, 'min_gain_to_split': 0.02140209896872818, 'min_child_weight': 2.6063332047988617}.\n"
     ]
    },
    {
     "name": "stdout",
     "output_type": "stream",
     "text": [
      "106 "
     ]
    },
    {
     "name": "stderr",
     "output_type": "stream",
     "text": [
      "[I 2019-03-12 23:36:57,739] Finished a trial resulted in value: -0.8514086227012381. Current best value is -0.897511793273537 with parameters: {'max_leaves': 29, 'min_data_in_leaf': 156, 'max_depth': 10, 'learning_rate': 0.021741165011171952, 'bagging_fraction': 0.475197458467168, 'feature_fraction': 0.045436792303383405, 'reg_alpha': 1.3574297339060766, 'reg_lambda': 0.4535899098914759, 'colsample_bytree': 0.171478972371309, 'min_gain_to_split': 0.02140209896872818, 'min_child_weight': 2.6063332047988617}.\n"
     ]
    },
    {
     "name": "stdout",
     "output_type": "stream",
     "text": [
      "107 "
     ]
    },
    {
     "name": "stderr",
     "output_type": "stream",
     "text": [
      "[I 2019-03-12 23:37:24,963] Finished a trial resulted in value: -0.8541133520954934. Current best value is -0.897511793273537 with parameters: {'max_leaves': 29, 'min_data_in_leaf': 156, 'max_depth': 10, 'learning_rate': 0.021741165011171952, 'bagging_fraction': 0.475197458467168, 'feature_fraction': 0.045436792303383405, 'reg_alpha': 1.3574297339060766, 'reg_lambda': 0.4535899098914759, 'colsample_bytree': 0.171478972371309, 'min_gain_to_split': 0.02140209896872818, 'min_child_weight': 2.6063332047988617}.\n"
     ]
    },
    {
     "name": "stdout",
     "output_type": "stream",
     "text": [
      "108 "
     ]
    },
    {
     "name": "stderr",
     "output_type": "stream",
     "text": [
      "[I 2019-03-12 23:38:05,984] Finished a trial resulted in value: -0.8767331019738227. Current best value is -0.897511793273537 with parameters: {'max_leaves': 29, 'min_data_in_leaf': 156, 'max_depth': 10, 'learning_rate': 0.021741165011171952, 'bagging_fraction': 0.475197458467168, 'feature_fraction': 0.045436792303383405, 'reg_alpha': 1.3574297339060766, 'reg_lambda': 0.4535899098914759, 'colsample_bytree': 0.171478972371309, 'min_gain_to_split': 0.02140209896872818, 'min_child_weight': 2.6063332047988617}.\n"
     ]
    },
    {
     "name": "stdout",
     "output_type": "stream",
     "text": [
      "109 "
     ]
    },
    {
     "name": "stderr",
     "output_type": "stream",
     "text": [
      "[I 2019-03-12 23:40:37,032] Finished a trial resulted in value: -0.8934290281475091. Current best value is -0.897511793273537 with parameters: {'max_leaves': 29, 'min_data_in_leaf': 156, 'max_depth': 10, 'learning_rate': 0.021741165011171952, 'bagging_fraction': 0.475197458467168, 'feature_fraction': 0.045436792303383405, 'reg_alpha': 1.3574297339060766, 'reg_lambda': 0.4535899098914759, 'colsample_bytree': 0.171478972371309, 'min_gain_to_split': 0.02140209896872818, 'min_child_weight': 2.6063332047988617}.\n"
     ]
    },
    {
     "name": "stdout",
     "output_type": "stream",
     "text": [
      "110 "
     ]
    },
    {
     "name": "stderr",
     "output_type": "stream",
     "text": [
      "[I 2019-03-12 23:41:12,220] Finished a trial resulted in value: -0.8834552315758153. Current best value is -0.897511793273537 with parameters: {'max_leaves': 29, 'min_data_in_leaf': 156, 'max_depth': 10, 'learning_rate': 0.021741165011171952, 'bagging_fraction': 0.475197458467168, 'feature_fraction': 0.045436792303383405, 'reg_alpha': 1.3574297339060766, 'reg_lambda': 0.4535899098914759, 'colsample_bytree': 0.171478972371309, 'min_gain_to_split': 0.02140209896872818, 'min_child_weight': 2.6063332047988617}.\n"
     ]
    },
    {
     "name": "stdout",
     "output_type": "stream",
     "text": [
      "111 "
     ]
    },
    {
     "name": "stderr",
     "output_type": "stream",
     "text": [
      "[I 2019-03-12 23:42:09,952] Finished a trial resulted in value: -0.8896665582567113. Current best value is -0.897511793273537 with parameters: {'max_leaves': 29, 'min_data_in_leaf': 156, 'max_depth': 10, 'learning_rate': 0.021741165011171952, 'bagging_fraction': 0.475197458467168, 'feature_fraction': 0.045436792303383405, 'reg_alpha': 1.3574297339060766, 'reg_lambda': 0.4535899098914759, 'colsample_bytree': 0.171478972371309, 'min_gain_to_split': 0.02140209896872818, 'min_child_weight': 2.6063332047988617}.\n"
     ]
    },
    {
     "name": "stdout",
     "output_type": "stream",
     "text": [
      "112 "
     ]
    },
    {
     "name": "stderr",
     "output_type": "stream",
     "text": [
      "[I 2019-03-12 23:42:35,671] Finished a trial resulted in value: -0.8669759230453926. Current best value is -0.897511793273537 with parameters: {'max_leaves': 29, 'min_data_in_leaf': 156, 'max_depth': 10, 'learning_rate': 0.021741165011171952, 'bagging_fraction': 0.475197458467168, 'feature_fraction': 0.045436792303383405, 'reg_alpha': 1.3574297339060766, 'reg_lambda': 0.4535899098914759, 'colsample_bytree': 0.171478972371309, 'min_gain_to_split': 0.02140209896872818, 'min_child_weight': 2.6063332047988617}.\n"
     ]
    },
    {
     "name": "stdout",
     "output_type": "stream",
     "text": [
      "113 "
     ]
    },
    {
     "name": "stderr",
     "output_type": "stream",
     "text": [
      "[I 2019-03-12 23:43:09,090] Finished a trial resulted in value: -0.8594175034421474. Current best value is -0.897511793273537 with parameters: {'max_leaves': 29, 'min_data_in_leaf': 156, 'max_depth': 10, 'learning_rate': 0.021741165011171952, 'bagging_fraction': 0.475197458467168, 'feature_fraction': 0.045436792303383405, 'reg_alpha': 1.3574297339060766, 'reg_lambda': 0.4535899098914759, 'colsample_bytree': 0.171478972371309, 'min_gain_to_split': 0.02140209896872818, 'min_child_weight': 2.6063332047988617}.\n"
     ]
    },
    {
     "name": "stdout",
     "output_type": "stream",
     "text": [
      "114 "
     ]
    },
    {
     "name": "stderr",
     "output_type": "stream",
     "text": [
      "[I 2019-03-12 23:43:51,798] Finished a trial resulted in value: -0.881790347794744. Current best value is -0.897511793273537 with parameters: {'max_leaves': 29, 'min_data_in_leaf': 156, 'max_depth': 10, 'learning_rate': 0.021741165011171952, 'bagging_fraction': 0.475197458467168, 'feature_fraction': 0.045436792303383405, 'reg_alpha': 1.3574297339060766, 'reg_lambda': 0.4535899098914759, 'colsample_bytree': 0.171478972371309, 'min_gain_to_split': 0.02140209896872818, 'min_child_weight': 2.6063332047988617}.\n"
     ]
    },
    {
     "name": "stdout",
     "output_type": "stream",
     "text": [
      "115 "
     ]
    },
    {
     "name": "stderr",
     "output_type": "stream",
     "text": [
      "[I 2019-03-12 23:44:21,133] Finished a trial resulted in value: -0.8687197833283917. Current best value is -0.897511793273537 with parameters: {'max_leaves': 29, 'min_data_in_leaf': 156, 'max_depth': 10, 'learning_rate': 0.021741165011171952, 'bagging_fraction': 0.475197458467168, 'feature_fraction': 0.045436792303383405, 'reg_alpha': 1.3574297339060766, 'reg_lambda': 0.4535899098914759, 'colsample_bytree': 0.171478972371309, 'min_gain_to_split': 0.02140209896872818, 'min_child_weight': 2.6063332047988617}.\n"
     ]
    },
    {
     "name": "stdout",
     "output_type": "stream",
     "text": [
      "116 "
     ]
    },
    {
     "name": "stderr",
     "output_type": "stream",
     "text": [
      "[I 2019-03-12 23:44:41,364] Finished a trial resulted in value: -0.8255890402240083. Current best value is -0.897511793273537 with parameters: {'max_leaves': 29, 'min_data_in_leaf': 156, 'max_depth': 10, 'learning_rate': 0.021741165011171952, 'bagging_fraction': 0.475197458467168, 'feature_fraction': 0.045436792303383405, 'reg_alpha': 1.3574297339060766, 'reg_lambda': 0.4535899098914759, 'colsample_bytree': 0.171478972371309, 'min_gain_to_split': 0.02140209896872818, 'min_child_weight': 2.6063332047988617}.\n"
     ]
    },
    {
     "name": "stdout",
     "output_type": "stream",
     "text": [
      "117 "
     ]
    },
    {
     "name": "stderr",
     "output_type": "stream",
     "text": [
      "[I 2019-03-12 23:47:01,670] Finished a trial resulted in value: -0.898146992489301. Current best value is -0.898146992489301 with parameters: {'max_leaves': 30, 'min_data_in_leaf': 24, 'max_depth': 23, 'learning_rate': 0.021753622697716312, 'bagging_fraction': 0.6302343947757979, 'feature_fraction': 0.06991204490408084, 'reg_alpha': 1.8996255069419958, 'reg_lambda': 0.8648228563435989, 'colsample_bytree': 0.10116868959754927, 'min_gain_to_split': 0.02341929110948727, 'min_child_weight': 0.07726865228352352}.\n"
     ]
    },
    {
     "name": "stdout",
     "output_type": "stream",
     "text": [
      "118 "
     ]
    },
    {
     "name": "stderr",
     "output_type": "stream",
     "text": [
      "[I 2019-03-12 23:47:51,878] Finished a trial resulted in value: -0.872627884856571. Current best value is -0.898146992489301 with parameters: {'max_leaves': 30, 'min_data_in_leaf': 24, 'max_depth': 23, 'learning_rate': 0.021753622697716312, 'bagging_fraction': 0.6302343947757979, 'feature_fraction': 0.06991204490408084, 'reg_alpha': 1.8996255069419958, 'reg_lambda': 0.8648228563435989, 'colsample_bytree': 0.10116868959754927, 'min_gain_to_split': 0.02341929110948727, 'min_child_weight': 0.07726865228352352}.\n"
     ]
    },
    {
     "name": "stdout",
     "output_type": "stream",
     "text": [
      "119 "
     ]
    },
    {
     "name": "stderr",
     "output_type": "stream",
     "text": [
      "[I 2019-03-12 23:48:43,558] Finished a trial resulted in value: -0.8807031212034184. Current best value is -0.898146992489301 with parameters: {'max_leaves': 30, 'min_data_in_leaf': 24, 'max_depth': 23, 'learning_rate': 0.021753622697716312, 'bagging_fraction': 0.6302343947757979, 'feature_fraction': 0.06991204490408084, 'reg_alpha': 1.8996255069419958, 'reg_lambda': 0.8648228563435989, 'colsample_bytree': 0.10116868959754927, 'min_gain_to_split': 0.02341929110948727, 'min_child_weight': 0.07726865228352352}.\n"
     ]
    },
    {
     "name": "stdout",
     "output_type": "stream",
     "text": [
      "120 "
     ]
    },
    {
     "name": "stderr",
     "output_type": "stream",
     "text": [
      "[I 2019-03-12 23:53:16,328] Finished a trial resulted in value: -0.8943387794908949. Current best value is -0.898146992489301 with parameters: {'max_leaves': 30, 'min_data_in_leaf': 24, 'max_depth': 23, 'learning_rate': 0.021753622697716312, 'bagging_fraction': 0.6302343947757979, 'feature_fraction': 0.06991204490408084, 'reg_alpha': 1.8996255069419958, 'reg_lambda': 0.8648228563435989, 'colsample_bytree': 0.10116868959754927, 'min_gain_to_split': 0.02341929110948727, 'min_child_weight': 0.07726865228352352}.\n"
     ]
    },
    {
     "name": "stdout",
     "output_type": "stream",
     "text": [
      "121 "
     ]
    },
    {
     "name": "stderr",
     "output_type": "stream",
     "text": [
      "[I 2019-03-12 23:53:50,919] Finished a trial resulted in value: -0.8862312039130903. Current best value is -0.898146992489301 with parameters: {'max_leaves': 30, 'min_data_in_leaf': 24, 'max_depth': 23, 'learning_rate': 0.021753622697716312, 'bagging_fraction': 0.6302343947757979, 'feature_fraction': 0.06991204490408084, 'reg_alpha': 1.8996255069419958, 'reg_lambda': 0.8648228563435989, 'colsample_bytree': 0.10116868959754927, 'min_gain_to_split': 0.02341929110948727, 'min_child_weight': 0.07726865228352352}.\n"
     ]
    },
    {
     "name": "stdout",
     "output_type": "stream",
     "text": [
      "122 "
     ]
    },
    {
     "name": "stderr",
     "output_type": "stream",
     "text": [
      "[I 2019-03-12 23:54:57,139] Finished a trial resulted in value: -0.8873682622037321. Current best value is -0.898146992489301 with parameters: {'max_leaves': 30, 'min_data_in_leaf': 24, 'max_depth': 23, 'learning_rate': 0.021753622697716312, 'bagging_fraction': 0.6302343947757979, 'feature_fraction': 0.06991204490408084, 'reg_alpha': 1.8996255069419958, 'reg_lambda': 0.8648228563435989, 'colsample_bytree': 0.10116868959754927, 'min_gain_to_split': 0.02341929110948727, 'min_child_weight': 0.07726865228352352}.\n"
     ]
    },
    {
     "name": "stdout",
     "output_type": "stream",
     "text": [
      "123 "
     ]
    },
    {
     "name": "stderr",
     "output_type": "stream",
     "text": [
      "[I 2019-03-13 00:03:09,672] Finished a trial resulted in value: -0.8072901048251411. Current best value is -0.898146992489301 with parameters: {'max_leaves': 30, 'min_data_in_leaf': 24, 'max_depth': 23, 'learning_rate': 0.021753622697716312, 'bagging_fraction': 0.6302343947757979, 'feature_fraction': 0.06991204490408084, 'reg_alpha': 1.8996255069419958, 'reg_lambda': 0.8648228563435989, 'colsample_bytree': 0.10116868959754927, 'min_gain_to_split': 0.02341929110948727, 'min_child_weight': 0.07726865228352352}.\n"
     ]
    },
    {
     "name": "stdout",
     "output_type": "stream",
     "text": [
      "124 "
     ]
    },
    {
     "name": "stderr",
     "output_type": "stream",
     "text": [
      "[I 2019-03-13 00:05:21,841] Finished a trial resulted in value: -0.8925392340989259. Current best value is -0.898146992489301 with parameters: {'max_leaves': 30, 'min_data_in_leaf': 24, 'max_depth': 23, 'learning_rate': 0.021753622697716312, 'bagging_fraction': 0.6302343947757979, 'feature_fraction': 0.06991204490408084, 'reg_alpha': 1.8996255069419958, 'reg_lambda': 0.8648228563435989, 'colsample_bytree': 0.10116868959754927, 'min_gain_to_split': 0.02341929110948727, 'min_child_weight': 0.07726865228352352}.\n"
     ]
    },
    {
     "name": "stdout",
     "output_type": "stream",
     "text": [
      "125 "
     ]
    },
    {
     "name": "stderr",
     "output_type": "stream",
     "text": [
      "[I 2019-03-13 00:06:00,604] Finished a trial resulted in value: -0.8732554406765124. Current best value is -0.898146992489301 with parameters: {'max_leaves': 30, 'min_data_in_leaf': 24, 'max_depth': 23, 'learning_rate': 0.021753622697716312, 'bagging_fraction': 0.6302343947757979, 'feature_fraction': 0.06991204490408084, 'reg_alpha': 1.8996255069419958, 'reg_lambda': 0.8648228563435989, 'colsample_bytree': 0.10116868959754927, 'min_gain_to_split': 0.02341929110948727, 'min_child_weight': 0.07726865228352352}.\n"
     ]
    },
    {
     "name": "stdout",
     "output_type": "stream",
     "text": [
      "126 "
     ]
    },
    {
     "name": "stderr",
     "output_type": "stream",
     "text": [
      "[I 2019-03-13 00:06:24,169] Finished a trial resulted in value: -0.8435065113717296. Current best value is -0.898146992489301 with parameters: {'max_leaves': 30, 'min_data_in_leaf': 24, 'max_depth': 23, 'learning_rate': 0.021753622697716312, 'bagging_fraction': 0.6302343947757979, 'feature_fraction': 0.06991204490408084, 'reg_alpha': 1.8996255069419958, 'reg_lambda': 0.8648228563435989, 'colsample_bytree': 0.10116868959754927, 'min_gain_to_split': 0.02341929110948727, 'min_child_weight': 0.07726865228352352}.\n"
     ]
    },
    {
     "name": "stdout",
     "output_type": "stream",
     "text": [
      "127 "
     ]
    },
    {
     "name": "stderr",
     "output_type": "stream",
     "text": [
      "[I 2019-03-13 00:06:50,872] Finished a trial resulted in value: -0.8183197390650649. Current best value is -0.898146992489301 with parameters: {'max_leaves': 30, 'min_data_in_leaf': 24, 'max_depth': 23, 'learning_rate': 0.021753622697716312, 'bagging_fraction': 0.6302343947757979, 'feature_fraction': 0.06991204490408084, 'reg_alpha': 1.8996255069419958, 'reg_lambda': 0.8648228563435989, 'colsample_bytree': 0.10116868959754927, 'min_gain_to_split': 0.02341929110948727, 'min_child_weight': 0.07726865228352352}.\n"
     ]
    },
    {
     "name": "stdout",
     "output_type": "stream",
     "text": [
      "128 "
     ]
    },
    {
     "name": "stderr",
     "output_type": "stream",
     "text": [
      "[I 2019-03-13 00:07:23,797] Finished a trial resulted in value: -0.8726220964417797. Current best value is -0.898146992489301 with parameters: {'max_leaves': 30, 'min_data_in_leaf': 24, 'max_depth': 23, 'learning_rate': 0.021753622697716312, 'bagging_fraction': 0.6302343947757979, 'feature_fraction': 0.06991204490408084, 'reg_alpha': 1.8996255069419958, 'reg_lambda': 0.8648228563435989, 'colsample_bytree': 0.10116868959754927, 'min_gain_to_split': 0.02341929110948727, 'min_child_weight': 0.07726865228352352}.\n"
     ]
    },
    {
     "name": "stdout",
     "output_type": "stream",
     "text": [
      "129 "
     ]
    },
    {
     "name": "stderr",
     "output_type": "stream",
     "text": [
      "[I 2019-03-13 00:09:00,022] Finished a trial resulted in value: -0.8921440844189161. Current best value is -0.898146992489301 with parameters: {'max_leaves': 30, 'min_data_in_leaf': 24, 'max_depth': 23, 'learning_rate': 0.021753622697716312, 'bagging_fraction': 0.6302343947757979, 'feature_fraction': 0.06991204490408084, 'reg_alpha': 1.8996255069419958, 'reg_lambda': 0.8648228563435989, 'colsample_bytree': 0.10116868959754927, 'min_gain_to_split': 0.02341929110948727, 'min_child_weight': 0.07726865228352352}.\n"
     ]
    },
    {
     "name": "stdout",
     "output_type": "stream",
     "text": [
      "130 "
     ]
    },
    {
     "name": "stderr",
     "output_type": "stream",
     "text": [
      "[I 2019-03-13 00:09:30,009] Finished a trial resulted in value: -0.8429152503424153. Current best value is -0.898146992489301 with parameters: {'max_leaves': 30, 'min_data_in_leaf': 24, 'max_depth': 23, 'learning_rate': 0.021753622697716312, 'bagging_fraction': 0.6302343947757979, 'feature_fraction': 0.06991204490408084, 'reg_alpha': 1.8996255069419958, 'reg_lambda': 0.8648228563435989, 'colsample_bytree': 0.10116868959754927, 'min_gain_to_split': 0.02341929110948727, 'min_child_weight': 0.07726865228352352}.\n"
     ]
    },
    {
     "name": "stdout",
     "output_type": "stream",
     "text": [
      "131 "
     ]
    },
    {
     "name": "stderr",
     "output_type": "stream",
     "text": [
      "[I 2019-03-13 00:11:30,949] Finished a trial resulted in value: -0.8940704674232147. Current best value is -0.898146992489301 with parameters: {'max_leaves': 30, 'min_data_in_leaf': 24, 'max_depth': 23, 'learning_rate': 0.021753622697716312, 'bagging_fraction': 0.6302343947757979, 'feature_fraction': 0.06991204490408084, 'reg_alpha': 1.8996255069419958, 'reg_lambda': 0.8648228563435989, 'colsample_bytree': 0.10116868959754927, 'min_gain_to_split': 0.02341929110948727, 'min_child_weight': 0.07726865228352352}.\n"
     ]
    },
    {
     "name": "stdout",
     "output_type": "stream",
     "text": [
      "132 "
     ]
    },
    {
     "name": "stderr",
     "output_type": "stream",
     "text": [
      "[I 2019-03-13 00:11:57,104] Finished a trial resulted in value: -0.8377746534504634. Current best value is -0.898146992489301 with parameters: {'max_leaves': 30, 'min_data_in_leaf': 24, 'max_depth': 23, 'learning_rate': 0.021753622697716312, 'bagging_fraction': 0.6302343947757979, 'feature_fraction': 0.06991204490408084, 'reg_alpha': 1.8996255069419958, 'reg_lambda': 0.8648228563435989, 'colsample_bytree': 0.10116868959754927, 'min_gain_to_split': 0.02341929110948727, 'min_child_weight': 0.07726865228352352}.\n"
     ]
    },
    {
     "name": "stdout",
     "output_type": "stream",
     "text": [
      "133 "
     ]
    },
    {
     "name": "stderr",
     "output_type": "stream",
     "text": [
      "[I 2019-03-13 00:12:57,127] Finished a trial resulted in value: -0.8879092172095214. Current best value is -0.898146992489301 with parameters: {'max_leaves': 30, 'min_data_in_leaf': 24, 'max_depth': 23, 'learning_rate': 0.021753622697716312, 'bagging_fraction': 0.6302343947757979, 'feature_fraction': 0.06991204490408084, 'reg_alpha': 1.8996255069419958, 'reg_lambda': 0.8648228563435989, 'colsample_bytree': 0.10116868959754927, 'min_gain_to_split': 0.02341929110948727, 'min_child_weight': 0.07726865228352352}.\n"
     ]
    },
    {
     "name": "stdout",
     "output_type": "stream",
     "text": [
      "134 "
     ]
    },
    {
     "name": "stderr",
     "output_type": "stream",
     "text": [
      "[I 2019-03-13 00:13:50,640] Finished a trial resulted in value: -0.8870265759146924. Current best value is -0.898146992489301 with parameters: {'max_leaves': 30, 'min_data_in_leaf': 24, 'max_depth': 23, 'learning_rate': 0.021753622697716312, 'bagging_fraction': 0.6302343947757979, 'feature_fraction': 0.06991204490408084, 'reg_alpha': 1.8996255069419958, 'reg_lambda': 0.8648228563435989, 'colsample_bytree': 0.10116868959754927, 'min_gain_to_split': 0.02341929110948727, 'min_child_weight': 0.07726865228352352}.\n"
     ]
    },
    {
     "name": "stdout",
     "output_type": "stream",
     "text": [
      "135 "
     ]
    },
    {
     "name": "stderr",
     "output_type": "stream",
     "text": [
      "[I 2019-03-13 00:14:13,360] Finished a trial resulted in value: -0.8342021425229491. Current best value is -0.898146992489301 with parameters: {'max_leaves': 30, 'min_data_in_leaf': 24, 'max_depth': 23, 'learning_rate': 0.021753622697716312, 'bagging_fraction': 0.6302343947757979, 'feature_fraction': 0.06991204490408084, 'reg_alpha': 1.8996255069419958, 'reg_lambda': 0.8648228563435989, 'colsample_bytree': 0.10116868959754927, 'min_gain_to_split': 0.02341929110948727, 'min_child_weight': 0.07726865228352352}.\n"
     ]
    },
    {
     "name": "stdout",
     "output_type": "stream",
     "text": [
      "136 "
     ]
    },
    {
     "name": "stderr",
     "output_type": "stream",
     "text": [
      "[I 2019-03-13 00:14:41,615] Finished a trial resulted in value: -0.8729718097346172. Current best value is -0.898146992489301 with parameters: {'max_leaves': 30, 'min_data_in_leaf': 24, 'max_depth': 23, 'learning_rate': 0.021753622697716312, 'bagging_fraction': 0.6302343947757979, 'feature_fraction': 0.06991204490408084, 'reg_alpha': 1.8996255069419958, 'reg_lambda': 0.8648228563435989, 'colsample_bytree': 0.10116868959754927, 'min_gain_to_split': 0.02341929110948727, 'min_child_weight': 0.07726865228352352}.\n"
     ]
    },
    {
     "name": "stdout",
     "output_type": "stream",
     "text": [
      "137 "
     ]
    },
    {
     "name": "stderr",
     "output_type": "stream",
     "text": [
      "[I 2019-03-13 00:17:42,466] Finished a trial resulted in value: -0.8947149304811799. Current best value is -0.898146992489301 with parameters: {'max_leaves': 30, 'min_data_in_leaf': 24, 'max_depth': 23, 'learning_rate': 0.021753622697716312, 'bagging_fraction': 0.6302343947757979, 'feature_fraction': 0.06991204490408084, 'reg_alpha': 1.8996255069419958, 'reg_lambda': 0.8648228563435989, 'colsample_bytree': 0.10116868959754927, 'min_gain_to_split': 0.02341929110948727, 'min_child_weight': 0.07726865228352352}.\n"
     ]
    },
    {
     "name": "stdout",
     "output_type": "stream",
     "text": [
      "138 "
     ]
    },
    {
     "name": "stderr",
     "output_type": "stream",
     "text": [
      "[I 2019-03-13 00:18:20,869] Finished a trial resulted in value: -0.8799042051840833. Current best value is -0.898146992489301 with parameters: {'max_leaves': 30, 'min_data_in_leaf': 24, 'max_depth': 23, 'learning_rate': 0.021753622697716312, 'bagging_fraction': 0.6302343947757979, 'feature_fraction': 0.06991204490408084, 'reg_alpha': 1.8996255069419958, 'reg_lambda': 0.8648228563435989, 'colsample_bytree': 0.10116868959754927, 'min_gain_to_split': 0.02341929110948727, 'min_child_weight': 0.07726865228352352}.\n"
     ]
    },
    {
     "name": "stdout",
     "output_type": "stream",
     "text": [
      "139 "
     ]
    },
    {
     "name": "stderr",
     "output_type": "stream",
     "text": [
      "[I 2019-03-13 00:18:51,363] Finished a trial resulted in value: -0.8314925802766674. Current best value is -0.898146992489301 with parameters: {'max_leaves': 30, 'min_data_in_leaf': 24, 'max_depth': 23, 'learning_rate': 0.021753622697716312, 'bagging_fraction': 0.6302343947757979, 'feature_fraction': 0.06991204490408084, 'reg_alpha': 1.8996255069419958, 'reg_lambda': 0.8648228563435989, 'colsample_bytree': 0.10116868959754927, 'min_gain_to_split': 0.02341929110948727, 'min_child_weight': 0.07726865228352352}.\n"
     ]
    },
    {
     "name": "stdout",
     "output_type": "stream",
     "text": [
      "140 "
     ]
    },
    {
     "name": "stderr",
     "output_type": "stream",
     "text": [
      "[I 2019-03-13 00:19:12,033] Finished a trial resulted in value: -0.8531286680369191. Current best value is -0.898146992489301 with parameters: {'max_leaves': 30, 'min_data_in_leaf': 24, 'max_depth': 23, 'learning_rate': 0.021753622697716312, 'bagging_fraction': 0.6302343947757979, 'feature_fraction': 0.06991204490408084, 'reg_alpha': 1.8996255069419958, 'reg_lambda': 0.8648228563435989, 'colsample_bytree': 0.10116868959754927, 'min_gain_to_split': 0.02341929110948727, 'min_child_weight': 0.07726865228352352}.\n"
     ]
    },
    {
     "name": "stdout",
     "output_type": "stream",
     "text": [
      "141 "
     ]
    },
    {
     "name": "stderr",
     "output_type": "stream",
     "text": [
      "[I 2019-03-13 00:19:46,451] Finished a trial resulted in value: -0.8859727481088684. Current best value is -0.898146992489301 with parameters: {'max_leaves': 30, 'min_data_in_leaf': 24, 'max_depth': 23, 'learning_rate': 0.021753622697716312, 'bagging_fraction': 0.6302343947757979, 'feature_fraction': 0.06991204490408084, 'reg_alpha': 1.8996255069419958, 'reg_lambda': 0.8648228563435989, 'colsample_bytree': 0.10116868959754927, 'min_gain_to_split': 0.02341929110948727, 'min_child_weight': 0.07726865228352352}.\n"
     ]
    },
    {
     "name": "stdout",
     "output_type": "stream",
     "text": [
      "142 "
     ]
    },
    {
     "name": "stderr",
     "output_type": "stream",
     "text": [
      "[I 2019-03-13 00:20:15,691] Finished a trial resulted in value: -0.8468323485424252. Current best value is -0.898146992489301 with parameters: {'max_leaves': 30, 'min_data_in_leaf': 24, 'max_depth': 23, 'learning_rate': 0.021753622697716312, 'bagging_fraction': 0.6302343947757979, 'feature_fraction': 0.06991204490408084, 'reg_alpha': 1.8996255069419958, 'reg_lambda': 0.8648228563435989, 'colsample_bytree': 0.10116868959754927, 'min_gain_to_split': 0.02341929110948727, 'min_child_weight': 0.07726865228352352}.\n"
     ]
    },
    {
     "name": "stdout",
     "output_type": "stream",
     "text": [
      "143 "
     ]
    },
    {
     "name": "stderr",
     "output_type": "stream",
     "text": [
      "[I 2019-03-13 00:20:40,759] Finished a trial resulted in value: -0.8642524422184639. Current best value is -0.898146992489301 with parameters: {'max_leaves': 30, 'min_data_in_leaf': 24, 'max_depth': 23, 'learning_rate': 0.021753622697716312, 'bagging_fraction': 0.6302343947757979, 'feature_fraction': 0.06991204490408084, 'reg_alpha': 1.8996255069419958, 'reg_lambda': 0.8648228563435989, 'colsample_bytree': 0.10116868959754927, 'min_gain_to_split': 0.02341929110948727, 'min_child_weight': 0.07726865228352352}.\n"
     ]
    },
    {
     "name": "stdout",
     "output_type": "stream",
     "text": [
      "144 "
     ]
    },
    {
     "name": "stderr",
     "output_type": "stream",
     "text": [
      "[I 2019-03-13 00:21:32,602] Finished a trial resulted in value: -0.8888824668740628. Current best value is -0.898146992489301 with parameters: {'max_leaves': 30, 'min_data_in_leaf': 24, 'max_depth': 23, 'learning_rate': 0.021753622697716312, 'bagging_fraction': 0.6302343947757979, 'feature_fraction': 0.06991204490408084, 'reg_alpha': 1.8996255069419958, 'reg_lambda': 0.8648228563435989, 'colsample_bytree': 0.10116868959754927, 'min_gain_to_split': 0.02341929110948727, 'min_child_weight': 0.07726865228352352}.\n"
     ]
    },
    {
     "name": "stdout",
     "output_type": "stream",
     "text": [
      "145 "
     ]
    },
    {
     "name": "stderr",
     "output_type": "stream",
     "text": [
      "[I 2019-03-13 00:25:57,336] Finished a trial resulted in value: -0.8946265969316525. Current best value is -0.898146992489301 with parameters: {'max_leaves': 30, 'min_data_in_leaf': 24, 'max_depth': 23, 'learning_rate': 0.021753622697716312, 'bagging_fraction': 0.6302343947757979, 'feature_fraction': 0.06991204490408084, 'reg_alpha': 1.8996255069419958, 'reg_lambda': 0.8648228563435989, 'colsample_bytree': 0.10116868959754927, 'min_gain_to_split': 0.02341929110948727, 'min_child_weight': 0.07726865228352352}.\n"
     ]
    },
    {
     "name": "stdout",
     "output_type": "stream",
     "text": [
      "146 "
     ]
    },
    {
     "name": "stderr",
     "output_type": "stream",
     "text": [
      "[I 2019-03-13 00:27:17,128] Finished a trial resulted in value: -0.893014849078074. Current best value is -0.898146992489301 with parameters: {'max_leaves': 30, 'min_data_in_leaf': 24, 'max_depth': 23, 'learning_rate': 0.021753622697716312, 'bagging_fraction': 0.6302343947757979, 'feature_fraction': 0.06991204490408084, 'reg_alpha': 1.8996255069419958, 'reg_lambda': 0.8648228563435989, 'colsample_bytree': 0.10116868959754927, 'min_gain_to_split': 0.02341929110948727, 'min_child_weight': 0.07726865228352352}.\n"
     ]
    },
    {
     "name": "stdout",
     "output_type": "stream",
     "text": [
      "147 "
     ]
    },
    {
     "name": "stderr",
     "output_type": "stream",
     "text": [
      "[I 2019-03-13 00:29:01,654] Finished a trial resulted in value: -0.8966756495798683. Current best value is -0.898146992489301 with parameters: {'max_leaves': 30, 'min_data_in_leaf': 24, 'max_depth': 23, 'learning_rate': 0.021753622697716312, 'bagging_fraction': 0.6302343947757979, 'feature_fraction': 0.06991204490408084, 'reg_alpha': 1.8996255069419958, 'reg_lambda': 0.8648228563435989, 'colsample_bytree': 0.10116868959754927, 'min_gain_to_split': 0.02341929110948727, 'min_child_weight': 0.07726865228352352}.\n"
     ]
    },
    {
     "name": "stdout",
     "output_type": "stream",
     "text": [
      "148 "
     ]
    },
    {
     "name": "stderr",
     "output_type": "stream",
     "text": [
      "[I 2019-03-13 00:29:49,063] Finished a trial resulted in value: -0.8892150876243754. Current best value is -0.898146992489301 with parameters: {'max_leaves': 30, 'min_data_in_leaf': 24, 'max_depth': 23, 'learning_rate': 0.021753622697716312, 'bagging_fraction': 0.6302343947757979, 'feature_fraction': 0.06991204490408084, 'reg_alpha': 1.8996255069419958, 'reg_lambda': 0.8648228563435989, 'colsample_bytree': 0.10116868959754927, 'min_gain_to_split': 0.02341929110948727, 'min_child_weight': 0.07726865228352352}.\n"
     ]
    },
    {
     "name": "stdout",
     "output_type": "stream",
     "text": [
      "149 "
     ]
    },
    {
     "name": "stderr",
     "output_type": "stream",
     "text": [
      "[I 2019-03-13 00:30:44,160] Finished a trial resulted in value: -0.8934672586787417. Current best value is -0.898146992489301 with parameters: {'max_leaves': 30, 'min_data_in_leaf': 24, 'max_depth': 23, 'learning_rate': 0.021753622697716312, 'bagging_fraction': 0.6302343947757979, 'feature_fraction': 0.06991204490408084, 'reg_alpha': 1.8996255069419958, 'reg_lambda': 0.8648228563435989, 'colsample_bytree': 0.10116868959754927, 'min_gain_to_split': 0.02341929110948727, 'min_child_weight': 0.07726865228352352}.\n"
     ]
    },
    {
     "name": "stdout",
     "output_type": "stream",
     "text": [
      "150 "
     ]
    },
    {
     "name": "stderr",
     "output_type": "stream",
     "text": [
      "[I 2019-03-13 00:31:49,163] Finished a trial resulted in value: -0.8585728777806438. Current best value is -0.898146992489301 with parameters: {'max_leaves': 30, 'min_data_in_leaf': 24, 'max_depth': 23, 'learning_rate': 0.021753622697716312, 'bagging_fraction': 0.6302343947757979, 'feature_fraction': 0.06991204490408084, 'reg_alpha': 1.8996255069419958, 'reg_lambda': 0.8648228563435989, 'colsample_bytree': 0.10116868959754927, 'min_gain_to_split': 0.02341929110948727, 'min_child_weight': 0.07726865228352352}.\n"
     ]
    },
    {
     "name": "stdout",
     "output_type": "stream",
     "text": [
      "151 "
     ]
    },
    {
     "name": "stderr",
     "output_type": "stream",
     "text": [
      "[I 2019-03-13 00:32:28,187] Finished a trial resulted in value: -0.8844585381836336. Current best value is -0.898146992489301 with parameters: {'max_leaves': 30, 'min_data_in_leaf': 24, 'max_depth': 23, 'learning_rate': 0.021753622697716312, 'bagging_fraction': 0.6302343947757979, 'feature_fraction': 0.06991204490408084, 'reg_alpha': 1.8996255069419958, 'reg_lambda': 0.8648228563435989, 'colsample_bytree': 0.10116868959754927, 'min_gain_to_split': 0.02341929110948727, 'min_child_weight': 0.07726865228352352}.\n"
     ]
    },
    {
     "name": "stdout",
     "output_type": "stream",
     "text": [
      "152 "
     ]
    },
    {
     "name": "stderr",
     "output_type": "stream",
     "text": [
      "[I 2019-03-13 00:33:56,022] Finished a trial resulted in value: -0.8953673331455957. Current best value is -0.898146992489301 with parameters: {'max_leaves': 30, 'min_data_in_leaf': 24, 'max_depth': 23, 'learning_rate': 0.021753622697716312, 'bagging_fraction': 0.6302343947757979, 'feature_fraction': 0.06991204490408084, 'reg_alpha': 1.8996255069419958, 'reg_lambda': 0.8648228563435989, 'colsample_bytree': 0.10116868959754927, 'min_gain_to_split': 0.02341929110948727, 'min_child_weight': 0.07726865228352352}.\n"
     ]
    },
    {
     "name": "stdout",
     "output_type": "stream",
     "text": [
      "153 "
     ]
    },
    {
     "name": "stderr",
     "output_type": "stream",
     "text": [
      "[I 2019-03-13 00:36:21,164] Finished a trial resulted in value: -0.8742974327796. Current best value is -0.898146992489301 with parameters: {'max_leaves': 30, 'min_data_in_leaf': 24, 'max_depth': 23, 'learning_rate': 0.021753622697716312, 'bagging_fraction': 0.6302343947757979, 'feature_fraction': 0.06991204490408084, 'reg_alpha': 1.8996255069419958, 'reg_lambda': 0.8648228563435989, 'colsample_bytree': 0.10116868959754927, 'min_gain_to_split': 0.02341929110948727, 'min_child_weight': 0.07726865228352352}.\n"
     ]
    },
    {
     "name": "stdout",
     "output_type": "stream",
     "text": [
      "154 "
     ]
    },
    {
     "name": "stderr",
     "output_type": "stream",
     "text": [
      "[I 2019-03-13 00:37:05,124] Finished a trial resulted in value: -0.8905935769373154. Current best value is -0.898146992489301 with parameters: {'max_leaves': 30, 'min_data_in_leaf': 24, 'max_depth': 23, 'learning_rate': 0.021753622697716312, 'bagging_fraction': 0.6302343947757979, 'feature_fraction': 0.06991204490408084, 'reg_alpha': 1.8996255069419958, 'reg_lambda': 0.8648228563435989, 'colsample_bytree': 0.10116868959754927, 'min_gain_to_split': 0.02341929110948727, 'min_child_weight': 0.07726865228352352}.\n"
     ]
    },
    {
     "name": "stdout",
     "output_type": "stream",
     "text": [
      "155 "
     ]
    },
    {
     "name": "stderr",
     "output_type": "stream",
     "text": [
      "[I 2019-03-13 00:42:46,256] Finished a trial resulted in value: -0.8961016177205771. Current best value is -0.898146992489301 with parameters: {'max_leaves': 30, 'min_data_in_leaf': 24, 'max_depth': 23, 'learning_rate': 0.021753622697716312, 'bagging_fraction': 0.6302343947757979, 'feature_fraction': 0.06991204490408084, 'reg_alpha': 1.8996255069419958, 'reg_lambda': 0.8648228563435989, 'colsample_bytree': 0.10116868959754927, 'min_gain_to_split': 0.02341929110948727, 'min_child_weight': 0.07726865228352352}.\n"
     ]
    },
    {
     "name": "stdout",
     "output_type": "stream",
     "text": [
      "156 "
     ]
    },
    {
     "name": "stderr",
     "output_type": "stream",
     "text": [
      "[I 2019-03-13 00:43:17,492] Finished a trial resulted in value: -0.882496369284652. Current best value is -0.898146992489301 with parameters: {'max_leaves': 30, 'min_data_in_leaf': 24, 'max_depth': 23, 'learning_rate': 0.021753622697716312, 'bagging_fraction': 0.6302343947757979, 'feature_fraction': 0.06991204490408084, 'reg_alpha': 1.8996255069419958, 'reg_lambda': 0.8648228563435989, 'colsample_bytree': 0.10116868959754927, 'min_gain_to_split': 0.02341929110948727, 'min_child_weight': 0.07726865228352352}.\n"
     ]
    },
    {
     "name": "stdout",
     "output_type": "stream",
     "text": [
      "157 "
     ]
    },
    {
     "name": "stderr",
     "output_type": "stream",
     "text": [
      "[I 2019-03-13 00:44:23,112] Finished a trial resulted in value: -0.8945615296068596. Current best value is -0.898146992489301 with parameters: {'max_leaves': 30, 'min_data_in_leaf': 24, 'max_depth': 23, 'learning_rate': 0.021753622697716312, 'bagging_fraction': 0.6302343947757979, 'feature_fraction': 0.06991204490408084, 'reg_alpha': 1.8996255069419958, 'reg_lambda': 0.8648228563435989, 'colsample_bytree': 0.10116868959754927, 'min_gain_to_split': 0.02341929110948727, 'min_child_weight': 0.07726865228352352}.\n"
     ]
    },
    {
     "name": "stdout",
     "output_type": "stream",
     "text": [
      "158 "
     ]
    },
    {
     "name": "stderr",
     "output_type": "stream",
     "text": [
      "[I 2019-03-13 00:44:51,409] Finished a trial resulted in value: -0.8627043179740104. Current best value is -0.898146992489301 with parameters: {'max_leaves': 30, 'min_data_in_leaf': 24, 'max_depth': 23, 'learning_rate': 0.021753622697716312, 'bagging_fraction': 0.6302343947757979, 'feature_fraction': 0.06991204490408084, 'reg_alpha': 1.8996255069419958, 'reg_lambda': 0.8648228563435989, 'colsample_bytree': 0.10116868959754927, 'min_gain_to_split': 0.02341929110948727, 'min_child_weight': 0.07726865228352352}.\n"
     ]
    },
    {
     "name": "stdout",
     "output_type": "stream",
     "text": [
      "159 "
     ]
    },
    {
     "name": "stderr",
     "output_type": "stream",
     "text": [
      "[I 2019-03-13 00:46:41,116] Finished a trial resulted in value: -0.8498904602586457. Current best value is -0.898146992489301 with parameters: {'max_leaves': 30, 'min_data_in_leaf': 24, 'max_depth': 23, 'learning_rate': 0.021753622697716312, 'bagging_fraction': 0.6302343947757979, 'feature_fraction': 0.06991204490408084, 'reg_alpha': 1.8996255069419958, 'reg_lambda': 0.8648228563435989, 'colsample_bytree': 0.10116868959754927, 'min_gain_to_split': 0.02341929110948727, 'min_child_weight': 0.07726865228352352}.\n"
     ]
    },
    {
     "name": "stdout",
     "output_type": "stream",
     "text": [
      "160 "
     ]
    },
    {
     "name": "stderr",
     "output_type": "stream",
     "text": [
      "[I 2019-03-13 00:47:27,904] Finished a trial resulted in value: -0.8855804200356099. Current best value is -0.898146992489301 with parameters: {'max_leaves': 30, 'min_data_in_leaf': 24, 'max_depth': 23, 'learning_rate': 0.021753622697716312, 'bagging_fraction': 0.6302343947757979, 'feature_fraction': 0.06991204490408084, 'reg_alpha': 1.8996255069419958, 'reg_lambda': 0.8648228563435989, 'colsample_bytree': 0.10116868959754927, 'min_gain_to_split': 0.02341929110948727, 'min_child_weight': 0.07726865228352352}.\n"
     ]
    },
    {
     "name": "stdout",
     "output_type": "stream",
     "text": [
      "161 "
     ]
    },
    {
     "name": "stderr",
     "output_type": "stream",
     "text": [
      "[I 2019-03-13 00:48:11,655] Finished a trial resulted in value: -0.8873214128005931. Current best value is -0.898146992489301 with parameters: {'max_leaves': 30, 'min_data_in_leaf': 24, 'max_depth': 23, 'learning_rate': 0.021753622697716312, 'bagging_fraction': 0.6302343947757979, 'feature_fraction': 0.06991204490408084, 'reg_alpha': 1.8996255069419958, 'reg_lambda': 0.8648228563435989, 'colsample_bytree': 0.10116868959754927, 'min_gain_to_split': 0.02341929110948727, 'min_child_weight': 0.07726865228352352}.\n"
     ]
    },
    {
     "name": "stdout",
     "output_type": "stream",
     "text": [
      "162 "
     ]
    },
    {
     "name": "stderr",
     "output_type": "stream",
     "text": [
      "[I 2019-03-13 00:48:39,247] Finished a trial resulted in value: -0.8791943675277419. Current best value is -0.898146992489301 with parameters: {'max_leaves': 30, 'min_data_in_leaf': 24, 'max_depth': 23, 'learning_rate': 0.021753622697716312, 'bagging_fraction': 0.6302343947757979, 'feature_fraction': 0.06991204490408084, 'reg_alpha': 1.8996255069419958, 'reg_lambda': 0.8648228563435989, 'colsample_bytree': 0.10116868959754927, 'min_gain_to_split': 0.02341929110948727, 'min_child_weight': 0.07726865228352352}.\n"
     ]
    },
    {
     "name": "stdout",
     "output_type": "stream",
     "text": [
      "163 "
     ]
    },
    {
     "name": "stderr",
     "output_type": "stream",
     "text": [
      "[I 2019-03-13 00:50:13,238] Finished a trial resulted in value: -0.8955671876458288. Current best value is -0.898146992489301 with parameters: {'max_leaves': 30, 'min_data_in_leaf': 24, 'max_depth': 23, 'learning_rate': 0.021753622697716312, 'bagging_fraction': 0.6302343947757979, 'feature_fraction': 0.06991204490408084, 'reg_alpha': 1.8996255069419958, 'reg_lambda': 0.8648228563435989, 'colsample_bytree': 0.10116868959754927, 'min_gain_to_split': 0.02341929110948727, 'min_child_weight': 0.07726865228352352}.\n"
     ]
    },
    {
     "name": "stdout",
     "output_type": "stream",
     "text": [
      "164 "
     ]
    },
    {
     "name": "stderr",
     "output_type": "stream",
     "text": [
      "[I 2019-03-13 00:50:42,934] Finished a trial resulted in value: -0.856907471828082. Current best value is -0.898146992489301 with parameters: {'max_leaves': 30, 'min_data_in_leaf': 24, 'max_depth': 23, 'learning_rate': 0.021753622697716312, 'bagging_fraction': 0.6302343947757979, 'feature_fraction': 0.06991204490408084, 'reg_alpha': 1.8996255069419958, 'reg_lambda': 0.8648228563435989, 'colsample_bytree': 0.10116868959754927, 'min_gain_to_split': 0.02341929110948727, 'min_child_weight': 0.07726865228352352}.\n"
     ]
    },
    {
     "name": "stdout",
     "output_type": "stream",
     "text": [
      "165 "
     ]
    },
    {
     "name": "stderr",
     "output_type": "stream",
     "text": [
      "[I 2019-03-13 00:51:40,894] Finished a trial resulted in value: -0.8889698166502896. Current best value is -0.898146992489301 with parameters: {'max_leaves': 30, 'min_data_in_leaf': 24, 'max_depth': 23, 'learning_rate': 0.021753622697716312, 'bagging_fraction': 0.6302343947757979, 'feature_fraction': 0.06991204490408084, 'reg_alpha': 1.8996255069419958, 'reg_lambda': 0.8648228563435989, 'colsample_bytree': 0.10116868959754927, 'min_gain_to_split': 0.02341929110948727, 'min_child_weight': 0.07726865228352352}.\n"
     ]
    },
    {
     "name": "stdout",
     "output_type": "stream",
     "text": [
      "166 "
     ]
    },
    {
     "name": "stderr",
     "output_type": "stream",
     "text": [
      "[I 2019-03-13 00:52:02,087] Finished a trial resulted in value: -0.8381679426179641. Current best value is -0.898146992489301 with parameters: {'max_leaves': 30, 'min_data_in_leaf': 24, 'max_depth': 23, 'learning_rate': 0.021753622697716312, 'bagging_fraction': 0.6302343947757979, 'feature_fraction': 0.06991204490408084, 'reg_alpha': 1.8996255069419958, 'reg_lambda': 0.8648228563435989, 'colsample_bytree': 0.10116868959754927, 'min_gain_to_split': 0.02341929110948727, 'min_child_weight': 0.07726865228352352}.\n"
     ]
    },
    {
     "name": "stdout",
     "output_type": "stream",
     "text": [
      "167 "
     ]
    },
    {
     "name": "stderr",
     "output_type": "stream",
     "text": [
      "[I 2019-03-13 00:54:47,752] Finished a trial resulted in value: -0.8956050583544396. Current best value is -0.898146992489301 with parameters: {'max_leaves': 30, 'min_data_in_leaf': 24, 'max_depth': 23, 'learning_rate': 0.021753622697716312, 'bagging_fraction': 0.6302343947757979, 'feature_fraction': 0.06991204490408084, 'reg_alpha': 1.8996255069419958, 'reg_lambda': 0.8648228563435989, 'colsample_bytree': 0.10116868959754927, 'min_gain_to_split': 0.02341929110948727, 'min_child_weight': 0.07726865228352352}.\n"
     ]
    },
    {
     "name": "stdout",
     "output_type": "stream",
     "text": [
      "168 "
     ]
    },
    {
     "name": "stderr",
     "output_type": "stream",
     "text": [
      "[I 2019-03-13 00:55:53,616] Finished a trial resulted in value: -0.8910709628190346. Current best value is -0.898146992489301 with parameters: {'max_leaves': 30, 'min_data_in_leaf': 24, 'max_depth': 23, 'learning_rate': 0.021753622697716312, 'bagging_fraction': 0.6302343947757979, 'feature_fraction': 0.06991204490408084, 'reg_alpha': 1.8996255069419958, 'reg_lambda': 0.8648228563435989, 'colsample_bytree': 0.10116868959754927, 'min_gain_to_split': 0.02341929110948727, 'min_child_weight': 0.07726865228352352}.\n"
     ]
    },
    {
     "name": "stdout",
     "output_type": "stream",
     "text": [
      "169 "
     ]
    },
    {
     "name": "stderr",
     "output_type": "stream",
     "text": [
      "[I 2019-03-13 00:56:32,089] Finished a trial resulted in value: -0.8857912307336324. Current best value is -0.898146992489301 with parameters: {'max_leaves': 30, 'min_data_in_leaf': 24, 'max_depth': 23, 'learning_rate': 0.021753622697716312, 'bagging_fraction': 0.6302343947757979, 'feature_fraction': 0.06991204490408084, 'reg_alpha': 1.8996255069419958, 'reg_lambda': 0.8648228563435989, 'colsample_bytree': 0.10116868959754927, 'min_gain_to_split': 0.02341929110948727, 'min_child_weight': 0.07726865228352352}.\n"
     ]
    },
    {
     "name": "stdout",
     "output_type": "stream",
     "text": [
      "170 "
     ]
    },
    {
     "name": "stderr",
     "output_type": "stream",
     "text": [
      "[I 2019-03-13 00:57:10,814] Finished a trial resulted in value: -0.8843685114487962. Current best value is -0.898146992489301 with parameters: {'max_leaves': 30, 'min_data_in_leaf': 24, 'max_depth': 23, 'learning_rate': 0.021753622697716312, 'bagging_fraction': 0.6302343947757979, 'feature_fraction': 0.06991204490408084, 'reg_alpha': 1.8996255069419958, 'reg_lambda': 0.8648228563435989, 'colsample_bytree': 0.10116868959754927, 'min_gain_to_split': 0.02341929110948727, 'min_child_weight': 0.07726865228352352}.\n"
     ]
    },
    {
     "name": "stdout",
     "output_type": "stream",
     "text": [
      "171 "
     ]
    },
    {
     "name": "stderr",
     "output_type": "stream",
     "text": [
      "[I 2019-03-13 00:57:38,950] Finished a trial resulted in value: -0.8792862055449371. Current best value is -0.898146992489301 with parameters: {'max_leaves': 30, 'min_data_in_leaf': 24, 'max_depth': 23, 'learning_rate': 0.021753622697716312, 'bagging_fraction': 0.6302343947757979, 'feature_fraction': 0.06991204490408084, 'reg_alpha': 1.8996255069419958, 'reg_lambda': 0.8648228563435989, 'colsample_bytree': 0.10116868959754927, 'min_gain_to_split': 0.02341929110948727, 'min_child_weight': 0.07726865228352352}.\n"
     ]
    },
    {
     "name": "stdout",
     "output_type": "stream",
     "text": [
      "172 "
     ]
    },
    {
     "name": "stderr",
     "output_type": "stream",
     "text": [
      "[I 2019-03-13 00:58:15,160] Finished a trial resulted in value: -0.8850891471026663. Current best value is -0.898146992489301 with parameters: {'max_leaves': 30, 'min_data_in_leaf': 24, 'max_depth': 23, 'learning_rate': 0.021753622697716312, 'bagging_fraction': 0.6302343947757979, 'feature_fraction': 0.06991204490408084, 'reg_alpha': 1.8996255069419958, 'reg_lambda': 0.8648228563435989, 'colsample_bytree': 0.10116868959754927, 'min_gain_to_split': 0.02341929110948727, 'min_child_weight': 0.07726865228352352}.\n"
     ]
    },
    {
     "name": "stdout",
     "output_type": "stream",
     "text": [
      "173 "
     ]
    },
    {
     "name": "stderr",
     "output_type": "stream",
     "text": [
      "[I 2019-03-13 00:58:53,890] Finished a trial resulted in value: -0.8850002208553083. Current best value is -0.898146992489301 with parameters: {'max_leaves': 30, 'min_data_in_leaf': 24, 'max_depth': 23, 'learning_rate': 0.021753622697716312, 'bagging_fraction': 0.6302343947757979, 'feature_fraction': 0.06991204490408084, 'reg_alpha': 1.8996255069419958, 'reg_lambda': 0.8648228563435989, 'colsample_bytree': 0.10116868959754927, 'min_gain_to_split': 0.02341929110948727, 'min_child_weight': 0.07726865228352352}.\n"
     ]
    },
    {
     "name": "stdout",
     "output_type": "stream",
     "text": [
      "174 "
     ]
    },
    {
     "name": "stderr",
     "output_type": "stream",
     "text": [
      "[I 2019-03-13 01:00:04,780] Finished a trial resulted in value: -0.8898899812769328. Current best value is -0.898146992489301 with parameters: {'max_leaves': 30, 'min_data_in_leaf': 24, 'max_depth': 23, 'learning_rate': 0.021753622697716312, 'bagging_fraction': 0.6302343947757979, 'feature_fraction': 0.06991204490408084, 'reg_alpha': 1.8996255069419958, 'reg_lambda': 0.8648228563435989, 'colsample_bytree': 0.10116868959754927, 'min_gain_to_split': 0.02341929110948727, 'min_child_weight': 0.07726865228352352}.\n"
     ]
    },
    {
     "name": "stdout",
     "output_type": "stream",
     "text": [
      "175 "
     ]
    },
    {
     "name": "stderr",
     "output_type": "stream",
     "text": [
      "[I 2019-03-13 01:00:32,728] Finished a trial resulted in value: -0.8807308239498056. Current best value is -0.898146992489301 with parameters: {'max_leaves': 30, 'min_data_in_leaf': 24, 'max_depth': 23, 'learning_rate': 0.021753622697716312, 'bagging_fraction': 0.6302343947757979, 'feature_fraction': 0.06991204490408084, 'reg_alpha': 1.8996255069419958, 'reg_lambda': 0.8648228563435989, 'colsample_bytree': 0.10116868959754927, 'min_gain_to_split': 0.02341929110948727, 'min_child_weight': 0.07726865228352352}.\n"
     ]
    },
    {
     "name": "stdout",
     "output_type": "stream",
     "text": [
      "176 "
     ]
    },
    {
     "name": "stderr",
     "output_type": "stream",
     "text": [
      "[I 2019-03-13 01:02:50,088] Finished a trial resulted in value: -0.872772087713274. Current best value is -0.898146992489301 with parameters: {'max_leaves': 30, 'min_data_in_leaf': 24, 'max_depth': 23, 'learning_rate': 0.021753622697716312, 'bagging_fraction': 0.6302343947757979, 'feature_fraction': 0.06991204490408084, 'reg_alpha': 1.8996255069419958, 'reg_lambda': 0.8648228563435989, 'colsample_bytree': 0.10116868959754927, 'min_gain_to_split': 0.02341929110948727, 'min_child_weight': 0.07726865228352352}.\n"
     ]
    },
    {
     "name": "stdout",
     "output_type": "stream",
     "text": [
      "177 "
     ]
    },
    {
     "name": "stderr",
     "output_type": "stream",
     "text": [
      "[I 2019-03-13 01:03:13,822] Finished a trial resulted in value: -0.8725492250317388. Current best value is -0.898146992489301 with parameters: {'max_leaves': 30, 'min_data_in_leaf': 24, 'max_depth': 23, 'learning_rate': 0.021753622697716312, 'bagging_fraction': 0.6302343947757979, 'feature_fraction': 0.06991204490408084, 'reg_alpha': 1.8996255069419958, 'reg_lambda': 0.8648228563435989, 'colsample_bytree': 0.10116868959754927, 'min_gain_to_split': 0.02341929110948727, 'min_child_weight': 0.07726865228352352}.\n"
     ]
    },
    {
     "name": "stdout",
     "output_type": "stream",
     "text": [
      "178 "
     ]
    },
    {
     "name": "stderr",
     "output_type": "stream",
     "text": [
      "[I 2019-03-13 01:03:38,806] Finished a trial resulted in value: -0.8478258082902974. Current best value is -0.898146992489301 with parameters: {'max_leaves': 30, 'min_data_in_leaf': 24, 'max_depth': 23, 'learning_rate': 0.021753622697716312, 'bagging_fraction': 0.6302343947757979, 'feature_fraction': 0.06991204490408084, 'reg_alpha': 1.8996255069419958, 'reg_lambda': 0.8648228563435989, 'colsample_bytree': 0.10116868959754927, 'min_gain_to_split': 0.02341929110948727, 'min_child_weight': 0.07726865228352352}.\n"
     ]
    },
    {
     "name": "stdout",
     "output_type": "stream",
     "text": [
      "179 "
     ]
    },
    {
     "name": "stderr",
     "output_type": "stream",
     "text": [
      "[I 2019-03-13 01:04:05,194] Finished a trial resulted in value: -0.8543970427773473. Current best value is -0.898146992489301 with parameters: {'max_leaves': 30, 'min_data_in_leaf': 24, 'max_depth': 23, 'learning_rate': 0.021753622697716312, 'bagging_fraction': 0.6302343947757979, 'feature_fraction': 0.06991204490408084, 'reg_alpha': 1.8996255069419958, 'reg_lambda': 0.8648228563435989, 'colsample_bytree': 0.10116868959754927, 'min_gain_to_split': 0.02341929110948727, 'min_child_weight': 0.07726865228352352}.\n"
     ]
    },
    {
     "name": "stdout",
     "output_type": "stream",
     "text": [
      "180 "
     ]
    },
    {
     "name": "stderr",
     "output_type": "stream",
     "text": [
      "[I 2019-03-13 01:04:53,582] Finished a trial resulted in value: -0.8863756111578927. Current best value is -0.898146992489301 with parameters: {'max_leaves': 30, 'min_data_in_leaf': 24, 'max_depth': 23, 'learning_rate': 0.021753622697716312, 'bagging_fraction': 0.6302343947757979, 'feature_fraction': 0.06991204490408084, 'reg_alpha': 1.8996255069419958, 'reg_lambda': 0.8648228563435989, 'colsample_bytree': 0.10116868959754927, 'min_gain_to_split': 0.02341929110948727, 'min_child_weight': 0.07726865228352352}.\n"
     ]
    },
    {
     "name": "stdout",
     "output_type": "stream",
     "text": [
      "181 "
     ]
    },
    {
     "name": "stderr",
     "output_type": "stream",
     "text": [
      "[I 2019-03-13 01:05:15,016] Finished a trial resulted in value: -0.8440546548093042. Current best value is -0.898146992489301 with parameters: {'max_leaves': 30, 'min_data_in_leaf': 24, 'max_depth': 23, 'learning_rate': 0.021753622697716312, 'bagging_fraction': 0.6302343947757979, 'feature_fraction': 0.06991204490408084, 'reg_alpha': 1.8996255069419958, 'reg_lambda': 0.8648228563435989, 'colsample_bytree': 0.10116868959754927, 'min_gain_to_split': 0.02341929110948727, 'min_child_weight': 0.07726865228352352}.\n"
     ]
    },
    {
     "name": "stdout",
     "output_type": "stream",
     "text": [
      "182 "
     ]
    },
    {
     "name": "stderr",
     "output_type": "stream",
     "text": [
      "[I 2019-03-13 01:06:07,918] Finished a trial resulted in value: -0.8935275575932228. Current best value is -0.898146992489301 with parameters: {'max_leaves': 30, 'min_data_in_leaf': 24, 'max_depth': 23, 'learning_rate': 0.021753622697716312, 'bagging_fraction': 0.6302343947757979, 'feature_fraction': 0.06991204490408084, 'reg_alpha': 1.8996255069419958, 'reg_lambda': 0.8648228563435989, 'colsample_bytree': 0.10116868959754927, 'min_gain_to_split': 0.02341929110948727, 'min_child_weight': 0.07726865228352352}.\n"
     ]
    },
    {
     "name": "stdout",
     "output_type": "stream",
     "text": [
      "183 "
     ]
    },
    {
     "name": "stderr",
     "output_type": "stream",
     "text": [
      "[I 2019-03-13 01:09:50,280] Finished a trial resulted in value: -0.8938989614693851. Current best value is -0.898146992489301 with parameters: {'max_leaves': 30, 'min_data_in_leaf': 24, 'max_depth': 23, 'learning_rate': 0.021753622697716312, 'bagging_fraction': 0.6302343947757979, 'feature_fraction': 0.06991204490408084, 'reg_alpha': 1.8996255069419958, 'reg_lambda': 0.8648228563435989, 'colsample_bytree': 0.10116868959754927, 'min_gain_to_split': 0.02341929110948727, 'min_child_weight': 0.07726865228352352}.\n"
     ]
    },
    {
     "name": "stdout",
     "output_type": "stream",
     "text": [
      "184 "
     ]
    },
    {
     "name": "stderr",
     "output_type": "stream",
     "text": [
      "[I 2019-03-13 01:10:16,195] Finished a trial resulted in value: -0.8712829121496062. Current best value is -0.898146992489301 with parameters: {'max_leaves': 30, 'min_data_in_leaf': 24, 'max_depth': 23, 'learning_rate': 0.021753622697716312, 'bagging_fraction': 0.6302343947757979, 'feature_fraction': 0.06991204490408084, 'reg_alpha': 1.8996255069419958, 'reg_lambda': 0.8648228563435989, 'colsample_bytree': 0.10116868959754927, 'min_gain_to_split': 0.02341929110948727, 'min_child_weight': 0.07726865228352352}.\n"
     ]
    },
    {
     "name": "stdout",
     "output_type": "stream",
     "text": [
      "185 "
     ]
    },
    {
     "name": "stderr",
     "output_type": "stream",
     "text": [
      "[I 2019-03-13 01:10:52,669] Finished a trial resulted in value: -0.880670957873451. Current best value is -0.898146992489301 with parameters: {'max_leaves': 30, 'min_data_in_leaf': 24, 'max_depth': 23, 'learning_rate': 0.021753622697716312, 'bagging_fraction': 0.6302343947757979, 'feature_fraction': 0.06991204490408084, 'reg_alpha': 1.8996255069419958, 'reg_lambda': 0.8648228563435989, 'colsample_bytree': 0.10116868959754927, 'min_gain_to_split': 0.02341929110948727, 'min_child_weight': 0.07726865228352352}.\n"
     ]
    },
    {
     "name": "stdout",
     "output_type": "stream",
     "text": [
      "186 "
     ]
    },
    {
     "name": "stderr",
     "output_type": "stream",
     "text": [
      "[I 2019-03-13 01:11:41,108] Finished a trial resulted in value: -0.8882456001943602. Current best value is -0.898146992489301 with parameters: {'max_leaves': 30, 'min_data_in_leaf': 24, 'max_depth': 23, 'learning_rate': 0.021753622697716312, 'bagging_fraction': 0.6302343947757979, 'feature_fraction': 0.06991204490408084, 'reg_alpha': 1.8996255069419958, 'reg_lambda': 0.8648228563435989, 'colsample_bytree': 0.10116868959754927, 'min_gain_to_split': 0.02341929110948727, 'min_child_weight': 0.07726865228352352}.\n"
     ]
    },
    {
     "name": "stdout",
     "output_type": "stream",
     "text": [
      "187 "
     ]
    },
    {
     "name": "stderr",
     "output_type": "stream",
     "text": [
      "[I 2019-03-13 01:12:53,234] Finished a trial resulted in value: -0.8908335979859598. Current best value is -0.898146992489301 with parameters: {'max_leaves': 30, 'min_data_in_leaf': 24, 'max_depth': 23, 'learning_rate': 0.021753622697716312, 'bagging_fraction': 0.6302343947757979, 'feature_fraction': 0.06991204490408084, 'reg_alpha': 1.8996255069419958, 'reg_lambda': 0.8648228563435989, 'colsample_bytree': 0.10116868959754927, 'min_gain_to_split': 0.02341929110948727, 'min_child_weight': 0.07726865228352352}.\n"
     ]
    },
    {
     "name": "stdout",
     "output_type": "stream",
     "text": [
      "188 "
     ]
    },
    {
     "name": "stderr",
     "output_type": "stream",
     "text": [
      "[I 2019-03-13 01:13:39,995] Finished a trial resulted in value: -0.8810481686948547. Current best value is -0.898146992489301 with parameters: {'max_leaves': 30, 'min_data_in_leaf': 24, 'max_depth': 23, 'learning_rate': 0.021753622697716312, 'bagging_fraction': 0.6302343947757979, 'feature_fraction': 0.06991204490408084, 'reg_alpha': 1.8996255069419958, 'reg_lambda': 0.8648228563435989, 'colsample_bytree': 0.10116868959754927, 'min_gain_to_split': 0.02341929110948727, 'min_child_weight': 0.07726865228352352}.\n"
     ]
    },
    {
     "name": "stdout",
     "output_type": "stream",
     "text": [
      "189 "
     ]
    },
    {
     "name": "stderr",
     "output_type": "stream",
     "text": [
      "[I 2019-03-13 01:14:20,196] Finished a trial resulted in value: -0.8683038377815675. Current best value is -0.898146992489301 with parameters: {'max_leaves': 30, 'min_data_in_leaf': 24, 'max_depth': 23, 'learning_rate': 0.021753622697716312, 'bagging_fraction': 0.6302343947757979, 'feature_fraction': 0.06991204490408084, 'reg_alpha': 1.8996255069419958, 'reg_lambda': 0.8648228563435989, 'colsample_bytree': 0.10116868959754927, 'min_gain_to_split': 0.02341929110948727, 'min_child_weight': 0.07726865228352352}.\n"
     ]
    },
    {
     "name": "stdout",
     "output_type": "stream",
     "text": [
      "190 "
     ]
    },
    {
     "name": "stderr",
     "output_type": "stream",
     "text": [
      "[I 2019-03-13 01:14:55,750] Finished a trial resulted in value: -0.8866567651040943. Current best value is -0.898146992489301 with parameters: {'max_leaves': 30, 'min_data_in_leaf': 24, 'max_depth': 23, 'learning_rate': 0.021753622697716312, 'bagging_fraction': 0.6302343947757979, 'feature_fraction': 0.06991204490408084, 'reg_alpha': 1.8996255069419958, 'reg_lambda': 0.8648228563435989, 'colsample_bytree': 0.10116868959754927, 'min_gain_to_split': 0.02341929110948727, 'min_child_weight': 0.07726865228352352}.\n"
     ]
    },
    {
     "name": "stdout",
     "output_type": "stream",
     "text": [
      "191 "
     ]
    },
    {
     "name": "stderr",
     "output_type": "stream",
     "text": [
      "[I 2019-03-13 01:23:17,395] Finished a trial resulted in value: -0.8928133647279501. Current best value is -0.898146992489301 with parameters: {'max_leaves': 30, 'min_data_in_leaf': 24, 'max_depth': 23, 'learning_rate': 0.021753622697716312, 'bagging_fraction': 0.6302343947757979, 'feature_fraction': 0.06991204490408084, 'reg_alpha': 1.8996255069419958, 'reg_lambda': 0.8648228563435989, 'colsample_bytree': 0.10116868959754927, 'min_gain_to_split': 0.02341929110948727, 'min_child_weight': 0.07726865228352352}.\n"
     ]
    },
    {
     "name": "stdout",
     "output_type": "stream",
     "text": [
      "192 "
     ]
    },
    {
     "name": "stderr",
     "output_type": "stream",
     "text": [
      "[I 2019-03-13 01:23:49,762] Finished a trial resulted in value: -0.8803414825979066. Current best value is -0.898146992489301 with parameters: {'max_leaves': 30, 'min_data_in_leaf': 24, 'max_depth': 23, 'learning_rate': 0.021753622697716312, 'bagging_fraction': 0.6302343947757979, 'feature_fraction': 0.06991204490408084, 'reg_alpha': 1.8996255069419958, 'reg_lambda': 0.8648228563435989, 'colsample_bytree': 0.10116868959754927, 'min_gain_to_split': 0.02341929110948727, 'min_child_weight': 0.07726865228352352}.\n"
     ]
    },
    {
     "name": "stdout",
     "output_type": "stream",
     "text": [
      "193 "
     ]
    },
    {
     "name": "stderr",
     "output_type": "stream",
     "text": [
      "[I 2019-03-13 01:26:29,339] Finished a trial resulted in value: -0.8956059193289366. Current best value is -0.898146992489301 with parameters: {'max_leaves': 30, 'min_data_in_leaf': 24, 'max_depth': 23, 'learning_rate': 0.021753622697716312, 'bagging_fraction': 0.6302343947757979, 'feature_fraction': 0.06991204490408084, 'reg_alpha': 1.8996255069419958, 'reg_lambda': 0.8648228563435989, 'colsample_bytree': 0.10116868959754927, 'min_gain_to_split': 0.02341929110948727, 'min_child_weight': 0.07726865228352352}.\n"
     ]
    },
    {
     "name": "stdout",
     "output_type": "stream",
     "text": [
      "194 "
     ]
    },
    {
     "name": "stderr",
     "output_type": "stream",
     "text": [
      "[I 2019-03-13 01:26:49,765] Finished a trial resulted in value: -0.8120097133986657. Current best value is -0.898146992489301 with parameters: {'max_leaves': 30, 'min_data_in_leaf': 24, 'max_depth': 23, 'learning_rate': 0.021753622697716312, 'bagging_fraction': 0.6302343947757979, 'feature_fraction': 0.06991204490408084, 'reg_alpha': 1.8996255069419958, 'reg_lambda': 0.8648228563435989, 'colsample_bytree': 0.10116868959754927, 'min_gain_to_split': 0.02341929110948727, 'min_child_weight': 0.07726865228352352}.\n"
     ]
    },
    {
     "name": "stdout",
     "output_type": "stream",
     "text": [
      "195 "
     ]
    },
    {
     "name": "stderr",
     "output_type": "stream",
     "text": [
      "[I 2019-03-13 01:28:14,704] Finished a trial resulted in value: -0.8917171793554161. Current best value is -0.898146992489301 with parameters: {'max_leaves': 30, 'min_data_in_leaf': 24, 'max_depth': 23, 'learning_rate': 0.021753622697716312, 'bagging_fraction': 0.6302343947757979, 'feature_fraction': 0.06991204490408084, 'reg_alpha': 1.8996255069419958, 'reg_lambda': 0.8648228563435989, 'colsample_bytree': 0.10116868959754927, 'min_gain_to_split': 0.02341929110948727, 'min_child_weight': 0.07726865228352352}.\n"
     ]
    },
    {
     "name": "stdout",
     "output_type": "stream",
     "text": [
      "196 "
     ]
    },
    {
     "name": "stderr",
     "output_type": "stream",
     "text": [
      "[I 2019-03-13 01:28:55,533] Finished a trial resulted in value: -0.8776085213714264. Current best value is -0.898146992489301 with parameters: {'max_leaves': 30, 'min_data_in_leaf': 24, 'max_depth': 23, 'learning_rate': 0.021753622697716312, 'bagging_fraction': 0.6302343947757979, 'feature_fraction': 0.06991204490408084, 'reg_alpha': 1.8996255069419958, 'reg_lambda': 0.8648228563435989, 'colsample_bytree': 0.10116868959754927, 'min_gain_to_split': 0.02341929110948727, 'min_child_weight': 0.07726865228352352}.\n"
     ]
    },
    {
     "name": "stdout",
     "output_type": "stream",
     "text": [
      "197 "
     ]
    },
    {
     "name": "stderr",
     "output_type": "stream",
     "text": [
      "[I 2019-03-13 01:29:38,509] Finished a trial resulted in value: -0.8827613384038118. Current best value is -0.898146992489301 with parameters: {'max_leaves': 30, 'min_data_in_leaf': 24, 'max_depth': 23, 'learning_rate': 0.021753622697716312, 'bagging_fraction': 0.6302343947757979, 'feature_fraction': 0.06991204490408084, 'reg_alpha': 1.8996255069419958, 'reg_lambda': 0.8648228563435989, 'colsample_bytree': 0.10116868959754927, 'min_gain_to_split': 0.02341929110948727, 'min_child_weight': 0.07726865228352352}.\n"
     ]
    },
    {
     "name": "stdout",
     "output_type": "stream",
     "text": [
      "198 "
     ]
    },
    {
     "name": "stderr",
     "output_type": "stream",
     "text": [
      "[I 2019-03-13 01:30:15,596] Finished a trial resulted in value: -0.8836140474901849. Current best value is -0.898146992489301 with parameters: {'max_leaves': 30, 'min_data_in_leaf': 24, 'max_depth': 23, 'learning_rate': 0.021753622697716312, 'bagging_fraction': 0.6302343947757979, 'feature_fraction': 0.06991204490408084, 'reg_alpha': 1.8996255069419958, 'reg_lambda': 0.8648228563435989, 'colsample_bytree': 0.10116868959754927, 'min_gain_to_split': 0.02341929110948727, 'min_child_weight': 0.07726865228352352}.\n"
     ]
    },
    {
     "name": "stdout",
     "output_type": "stream",
     "text": [
      "199 "
     ]
    },
    {
     "name": "stderr",
     "output_type": "stream",
     "text": [
      "[I 2019-03-13 01:30:37,398] Finished a trial resulted in value: -0.8423740334211591. Current best value is -0.898146992489301 with parameters: {'max_leaves': 30, 'min_data_in_leaf': 24, 'max_depth': 23, 'learning_rate': 0.021753622697716312, 'bagging_fraction': 0.6302343947757979, 'feature_fraction': 0.06991204490408084, 'reg_alpha': 1.8996255069419958, 'reg_lambda': 0.8648228563435989, 'colsample_bytree': 0.10116868959754927, 'min_gain_to_split': 0.02341929110948727, 'min_child_weight': 0.07726865228352352}.\n"
     ]
    },
    {
     "name": "stdout",
     "output_type": "stream",
     "text": [
      "200 "
     ]
    },
    {
     "name": "stderr",
     "output_type": "stream",
     "text": [
      "[I 2019-03-13 01:32:07,985] Finished a trial resulted in value: -0.8968485289995997. Current best value is -0.898146992489301 with parameters: {'max_leaves': 30, 'min_data_in_leaf': 24, 'max_depth': 23, 'learning_rate': 0.021753622697716312, 'bagging_fraction': 0.6302343947757979, 'feature_fraction': 0.06991204490408084, 'reg_alpha': 1.8996255069419958, 'reg_lambda': 0.8648228563435989, 'colsample_bytree': 0.10116868959754927, 'min_gain_to_split': 0.02341929110948727, 'min_child_weight': 0.07726865228352352}.\n"
     ]
    },
    {
     "name": "stdout",
     "output_type": "stream",
     "text": [
      "201 "
     ]
    },
    {
     "name": "stderr",
     "output_type": "stream",
     "text": [
      "[I 2019-03-13 01:32:42,213] Finished a trial resulted in value: -0.8821309676148921. Current best value is -0.898146992489301 with parameters: {'max_leaves': 30, 'min_data_in_leaf': 24, 'max_depth': 23, 'learning_rate': 0.021753622697716312, 'bagging_fraction': 0.6302343947757979, 'feature_fraction': 0.06991204490408084, 'reg_alpha': 1.8996255069419958, 'reg_lambda': 0.8648228563435989, 'colsample_bytree': 0.10116868959754927, 'min_gain_to_split': 0.02341929110948727, 'min_child_weight': 0.07726865228352352}.\n"
     ]
    },
    {
     "name": "stdout",
     "output_type": "stream",
     "text": [
      "202 "
     ]
    },
    {
     "name": "stderr",
     "output_type": "stream",
     "text": [
      "[I 2019-03-13 01:33:07,228] Finished a trial resulted in value: -0.8740562293776072. Current best value is -0.898146992489301 with parameters: {'max_leaves': 30, 'min_data_in_leaf': 24, 'max_depth': 23, 'learning_rate': 0.021753622697716312, 'bagging_fraction': 0.6302343947757979, 'feature_fraction': 0.06991204490408084, 'reg_alpha': 1.8996255069419958, 'reg_lambda': 0.8648228563435989, 'colsample_bytree': 0.10116868959754927, 'min_gain_to_split': 0.02341929110948727, 'min_child_weight': 0.07726865228352352}.\n"
     ]
    },
    {
     "name": "stdout",
     "output_type": "stream",
     "text": [
      "203 "
     ]
    },
    {
     "name": "stderr",
     "output_type": "stream",
     "text": [
      "[I 2019-03-13 01:33:32,265] Finished a trial resulted in value: -0.8617797508443024. Current best value is -0.898146992489301 with parameters: {'max_leaves': 30, 'min_data_in_leaf': 24, 'max_depth': 23, 'learning_rate': 0.021753622697716312, 'bagging_fraction': 0.6302343947757979, 'feature_fraction': 0.06991204490408084, 'reg_alpha': 1.8996255069419958, 'reg_lambda': 0.8648228563435989, 'colsample_bytree': 0.10116868959754927, 'min_gain_to_split': 0.02341929110948727, 'min_child_weight': 0.07726865228352352}.\n"
     ]
    },
    {
     "name": "stdout",
     "output_type": "stream",
     "text": [
      "204 "
     ]
    },
    {
     "name": "stderr",
     "output_type": "stream",
     "text": [
      "[I 2019-03-13 01:33:54,452] Finished a trial resulted in value: -0.8595178532971566. Current best value is -0.898146992489301 with parameters: {'max_leaves': 30, 'min_data_in_leaf': 24, 'max_depth': 23, 'learning_rate': 0.021753622697716312, 'bagging_fraction': 0.6302343947757979, 'feature_fraction': 0.06991204490408084, 'reg_alpha': 1.8996255069419958, 'reg_lambda': 0.8648228563435989, 'colsample_bytree': 0.10116868959754927, 'min_gain_to_split': 0.02341929110948727, 'min_child_weight': 0.07726865228352352}.\n"
     ]
    },
    {
     "name": "stdout",
     "output_type": "stream",
     "text": [
      "205 "
     ]
    },
    {
     "name": "stderr",
     "output_type": "stream",
     "text": [
      "[I 2019-03-13 01:34:35,084] Finished a trial resulted in value: -0.8851714281093448. Current best value is -0.898146992489301 with parameters: {'max_leaves': 30, 'min_data_in_leaf': 24, 'max_depth': 23, 'learning_rate': 0.021753622697716312, 'bagging_fraction': 0.6302343947757979, 'feature_fraction': 0.06991204490408084, 'reg_alpha': 1.8996255069419958, 'reg_lambda': 0.8648228563435989, 'colsample_bytree': 0.10116868959754927, 'min_gain_to_split': 0.02341929110948727, 'min_child_weight': 0.07726865228352352}.\n"
     ]
    },
    {
     "name": "stdout",
     "output_type": "stream",
     "text": [
      "206 "
     ]
    },
    {
     "name": "stderr",
     "output_type": "stream",
     "text": [
      "[I 2019-03-13 01:35:25,255] Finished a trial resulted in value: -0.891809343176645. Current best value is -0.898146992489301 with parameters: {'max_leaves': 30, 'min_data_in_leaf': 24, 'max_depth': 23, 'learning_rate': 0.021753622697716312, 'bagging_fraction': 0.6302343947757979, 'feature_fraction': 0.06991204490408084, 'reg_alpha': 1.8996255069419958, 'reg_lambda': 0.8648228563435989, 'colsample_bytree': 0.10116868959754927, 'min_gain_to_split': 0.02341929110948727, 'min_child_weight': 0.07726865228352352}.\n"
     ]
    },
    {
     "name": "stdout",
     "output_type": "stream",
     "text": [
      "207 "
     ]
    },
    {
     "name": "stderr",
     "output_type": "stream",
     "text": [
      "[I 2019-03-13 01:35:50,178] Finished a trial resulted in value: -0.8286414022457814. Current best value is -0.898146992489301 with parameters: {'max_leaves': 30, 'min_data_in_leaf': 24, 'max_depth': 23, 'learning_rate': 0.021753622697716312, 'bagging_fraction': 0.6302343947757979, 'feature_fraction': 0.06991204490408084, 'reg_alpha': 1.8996255069419958, 'reg_lambda': 0.8648228563435989, 'colsample_bytree': 0.10116868959754927, 'min_gain_to_split': 0.02341929110948727, 'min_child_weight': 0.07726865228352352}.\n"
     ]
    },
    {
     "name": "stdout",
     "output_type": "stream",
     "text": [
      "208 "
     ]
    },
    {
     "name": "stderr",
     "output_type": "stream",
     "text": [
      "[I 2019-03-13 01:36:16,762] Finished a trial resulted in value: -0.8666738426895038. Current best value is -0.898146992489301 with parameters: {'max_leaves': 30, 'min_data_in_leaf': 24, 'max_depth': 23, 'learning_rate': 0.021753622697716312, 'bagging_fraction': 0.6302343947757979, 'feature_fraction': 0.06991204490408084, 'reg_alpha': 1.8996255069419958, 'reg_lambda': 0.8648228563435989, 'colsample_bytree': 0.10116868959754927, 'min_gain_to_split': 0.02341929110948727, 'min_child_weight': 0.07726865228352352}.\n"
     ]
    },
    {
     "name": "stdout",
     "output_type": "stream",
     "text": [
      "209 "
     ]
    },
    {
     "name": "stderr",
     "output_type": "stream",
     "text": [
      "[I 2019-03-13 01:38:36,488] Finished a trial resulted in value: -0.8951488895615585. Current best value is -0.898146992489301 with parameters: {'max_leaves': 30, 'min_data_in_leaf': 24, 'max_depth': 23, 'learning_rate': 0.021753622697716312, 'bagging_fraction': 0.6302343947757979, 'feature_fraction': 0.06991204490408084, 'reg_alpha': 1.8996255069419958, 'reg_lambda': 0.8648228563435989, 'colsample_bytree': 0.10116868959754927, 'min_gain_to_split': 0.02341929110948727, 'min_child_weight': 0.07726865228352352}.\n"
     ]
    },
    {
     "name": "stdout",
     "output_type": "stream",
     "text": [
      "210 "
     ]
    },
    {
     "name": "stderr",
     "output_type": "stream",
     "text": [
      "[I 2019-03-13 01:39:00,561] Finished a trial resulted in value: -0.8604782162782074. Current best value is -0.898146992489301 with parameters: {'max_leaves': 30, 'min_data_in_leaf': 24, 'max_depth': 23, 'learning_rate': 0.021753622697716312, 'bagging_fraction': 0.6302343947757979, 'feature_fraction': 0.06991204490408084, 'reg_alpha': 1.8996255069419958, 'reg_lambda': 0.8648228563435989, 'colsample_bytree': 0.10116868959754927, 'min_gain_to_split': 0.02341929110948727, 'min_child_weight': 0.07726865228352352}.\n"
     ]
    },
    {
     "name": "stdout",
     "output_type": "stream",
     "text": [
      "211 "
     ]
    },
    {
     "name": "stderr",
     "output_type": "stream",
     "text": [
      "[I 2019-03-13 01:40:00,153] Finished a trial resulted in value: -0.8655066746299735. Current best value is -0.898146992489301 with parameters: {'max_leaves': 30, 'min_data_in_leaf': 24, 'max_depth': 23, 'learning_rate': 0.021753622697716312, 'bagging_fraction': 0.6302343947757979, 'feature_fraction': 0.06991204490408084, 'reg_alpha': 1.8996255069419958, 'reg_lambda': 0.8648228563435989, 'colsample_bytree': 0.10116868959754927, 'min_gain_to_split': 0.02341929110948727, 'min_child_weight': 0.07726865228352352}.\n"
     ]
    },
    {
     "name": "stdout",
     "output_type": "stream",
     "text": [
      "212 "
     ]
    },
    {
     "name": "stderr",
     "output_type": "stream",
     "text": [
      "[I 2019-03-13 01:40:32,751] Finished a trial resulted in value: -0.8461890905168669. Current best value is -0.898146992489301 with parameters: {'max_leaves': 30, 'min_data_in_leaf': 24, 'max_depth': 23, 'learning_rate': 0.021753622697716312, 'bagging_fraction': 0.6302343947757979, 'feature_fraction': 0.06991204490408084, 'reg_alpha': 1.8996255069419958, 'reg_lambda': 0.8648228563435989, 'colsample_bytree': 0.10116868959754927, 'min_gain_to_split': 0.02341929110948727, 'min_child_weight': 0.07726865228352352}.\n"
     ]
    },
    {
     "name": "stdout",
     "output_type": "stream",
     "text": [
      "213 "
     ]
    },
    {
     "name": "stderr",
     "output_type": "stream",
     "text": [
      "[I 2019-03-13 01:45:51,058] Finished a trial resulted in value: -0.8974733837990028. Current best value is -0.898146992489301 with parameters: {'max_leaves': 30, 'min_data_in_leaf': 24, 'max_depth': 23, 'learning_rate': 0.021753622697716312, 'bagging_fraction': 0.6302343947757979, 'feature_fraction': 0.06991204490408084, 'reg_alpha': 1.8996255069419958, 'reg_lambda': 0.8648228563435989, 'colsample_bytree': 0.10116868959754927, 'min_gain_to_split': 0.02341929110948727, 'min_child_weight': 0.07726865228352352}.\n"
     ]
    },
    {
     "name": "stdout",
     "output_type": "stream",
     "text": [
      "214 "
     ]
    },
    {
     "name": "stderr",
     "output_type": "stream",
     "text": [
      "[I 2019-03-13 01:46:25,366] Finished a trial resulted in value: -0.8484077742245617. Current best value is -0.898146992489301 with parameters: {'max_leaves': 30, 'min_data_in_leaf': 24, 'max_depth': 23, 'learning_rate': 0.021753622697716312, 'bagging_fraction': 0.6302343947757979, 'feature_fraction': 0.06991204490408084, 'reg_alpha': 1.8996255069419958, 'reg_lambda': 0.8648228563435989, 'colsample_bytree': 0.10116868959754927, 'min_gain_to_split': 0.02341929110948727, 'min_child_weight': 0.07726865228352352}.\n"
     ]
    },
    {
     "name": "stdout",
     "output_type": "stream",
     "text": [
      "215 "
     ]
    },
    {
     "name": "stderr",
     "output_type": "stream",
     "text": [
      "[I 2019-03-13 01:46:55,133] Finished a trial resulted in value: -0.8648729055777573. Current best value is -0.898146992489301 with parameters: {'max_leaves': 30, 'min_data_in_leaf': 24, 'max_depth': 23, 'learning_rate': 0.021753622697716312, 'bagging_fraction': 0.6302343947757979, 'feature_fraction': 0.06991204490408084, 'reg_alpha': 1.8996255069419958, 'reg_lambda': 0.8648228563435989, 'colsample_bytree': 0.10116868959754927, 'min_gain_to_split': 0.02341929110948727, 'min_child_weight': 0.07726865228352352}.\n"
     ]
    },
    {
     "name": "stdout",
     "output_type": "stream",
     "text": [
      "216 "
     ]
    },
    {
     "name": "stderr",
     "output_type": "stream",
     "text": [
      "[I 2019-03-13 01:49:34,873] Finished a trial resulted in value: -0.8949564594106326. Current best value is -0.898146992489301 with parameters: {'max_leaves': 30, 'min_data_in_leaf': 24, 'max_depth': 23, 'learning_rate': 0.021753622697716312, 'bagging_fraction': 0.6302343947757979, 'feature_fraction': 0.06991204490408084, 'reg_alpha': 1.8996255069419958, 'reg_lambda': 0.8648228563435989, 'colsample_bytree': 0.10116868959754927, 'min_gain_to_split': 0.02341929110948727, 'min_child_weight': 0.07726865228352352}.\n"
     ]
    },
    {
     "name": "stdout",
     "output_type": "stream",
     "text": [
      "217 "
     ]
    },
    {
     "name": "stderr",
     "output_type": "stream",
     "text": [
      "[I 2019-03-13 01:50:10,468] Finished a trial resulted in value: -0.8071903659218389. Current best value is -0.898146992489301 with parameters: {'max_leaves': 30, 'min_data_in_leaf': 24, 'max_depth': 23, 'learning_rate': 0.021753622697716312, 'bagging_fraction': 0.6302343947757979, 'feature_fraction': 0.06991204490408084, 'reg_alpha': 1.8996255069419958, 'reg_lambda': 0.8648228563435989, 'colsample_bytree': 0.10116868959754927, 'min_gain_to_split': 0.02341929110948727, 'min_child_weight': 0.07726865228352352}.\n"
     ]
    },
    {
     "name": "stdout",
     "output_type": "stream",
     "text": [
      "218 "
     ]
    },
    {
     "name": "stderr",
     "output_type": "stream",
     "text": [
      "[I 2019-03-13 01:51:06,852] Finished a trial resulted in value: -0.8260555744528656. Current best value is -0.898146992489301 with parameters: {'max_leaves': 30, 'min_data_in_leaf': 24, 'max_depth': 23, 'learning_rate': 0.021753622697716312, 'bagging_fraction': 0.6302343947757979, 'feature_fraction': 0.06991204490408084, 'reg_alpha': 1.8996255069419958, 'reg_lambda': 0.8648228563435989, 'colsample_bytree': 0.10116868959754927, 'min_gain_to_split': 0.02341929110948727, 'min_child_weight': 0.07726865228352352}.\n"
     ]
    },
    {
     "name": "stdout",
     "output_type": "stream",
     "text": [
      "219 "
     ]
    },
    {
     "name": "stderr",
     "output_type": "stream",
     "text": [
      "[I 2019-03-13 01:51:48,445] Finished a trial resulted in value: -0.8877514359580468. Current best value is -0.898146992489301 with parameters: {'max_leaves': 30, 'min_data_in_leaf': 24, 'max_depth': 23, 'learning_rate': 0.021753622697716312, 'bagging_fraction': 0.6302343947757979, 'feature_fraction': 0.06991204490408084, 'reg_alpha': 1.8996255069419958, 'reg_lambda': 0.8648228563435989, 'colsample_bytree': 0.10116868959754927, 'min_gain_to_split': 0.02341929110948727, 'min_child_weight': 0.07726865228352352}.\n"
     ]
    },
    {
     "name": "stdout",
     "output_type": "stream",
     "text": [
      "220 "
     ]
    },
    {
     "name": "stderr",
     "output_type": "stream",
     "text": [
      "[I 2019-03-13 01:52:00,159] Finished a trial resulted in value: -0.5. Current best value is -0.898146992489301 with parameters: {'max_leaves': 30, 'min_data_in_leaf': 24, 'max_depth': 23, 'learning_rate': 0.021753622697716312, 'bagging_fraction': 0.6302343947757979, 'feature_fraction': 0.06991204490408084, 'reg_alpha': 1.8996255069419958, 'reg_lambda': 0.8648228563435989, 'colsample_bytree': 0.10116868959754927, 'min_gain_to_split': 0.02341929110948727, 'min_child_weight': 0.07726865228352352}.\n"
     ]
    },
    {
     "name": "stdout",
     "output_type": "stream",
     "text": [
      "221 "
     ]
    },
    {
     "name": "stderr",
     "output_type": "stream",
     "text": [
      "[I 2019-03-13 01:52:24,399] Finished a trial resulted in value: -0.8454954711530073. Current best value is -0.898146992489301 with parameters: {'max_leaves': 30, 'min_data_in_leaf': 24, 'max_depth': 23, 'learning_rate': 0.021753622697716312, 'bagging_fraction': 0.6302343947757979, 'feature_fraction': 0.06991204490408084, 'reg_alpha': 1.8996255069419958, 'reg_lambda': 0.8648228563435989, 'colsample_bytree': 0.10116868959754927, 'min_gain_to_split': 0.02341929110948727, 'min_child_weight': 0.07726865228352352}.\n"
     ]
    },
    {
     "name": "stdout",
     "output_type": "stream",
     "text": [
      "222 "
     ]
    },
    {
     "name": "stderr",
     "output_type": "stream",
     "text": [
      "[I 2019-03-13 01:52:45,295] Finished a trial resulted in value: -0.846875416074292. Current best value is -0.898146992489301 with parameters: {'max_leaves': 30, 'min_data_in_leaf': 24, 'max_depth': 23, 'learning_rate': 0.021753622697716312, 'bagging_fraction': 0.6302343947757979, 'feature_fraction': 0.06991204490408084, 'reg_alpha': 1.8996255069419958, 'reg_lambda': 0.8648228563435989, 'colsample_bytree': 0.10116868959754927, 'min_gain_to_split': 0.02341929110948727, 'min_child_weight': 0.07726865228352352}.\n"
     ]
    },
    {
     "name": "stdout",
     "output_type": "stream",
     "text": [
      "223 "
     ]
    },
    {
     "name": "stderr",
     "output_type": "stream",
     "text": [
      "[I 2019-03-13 01:53:10,638] Finished a trial resulted in value: -0.8518426583925821. Current best value is -0.898146992489301 with parameters: {'max_leaves': 30, 'min_data_in_leaf': 24, 'max_depth': 23, 'learning_rate': 0.021753622697716312, 'bagging_fraction': 0.6302343947757979, 'feature_fraction': 0.06991204490408084, 'reg_alpha': 1.8996255069419958, 'reg_lambda': 0.8648228563435989, 'colsample_bytree': 0.10116868959754927, 'min_gain_to_split': 0.02341929110948727, 'min_child_weight': 0.07726865228352352}.\n"
     ]
    },
    {
     "name": "stdout",
     "output_type": "stream",
     "text": [
      "224 "
     ]
    },
    {
     "name": "stderr",
     "output_type": "stream",
     "text": [
      "[I 2019-03-13 01:54:53,725] Finished a trial resulted in value: -0.8923765483627895. Current best value is -0.898146992489301 with parameters: {'max_leaves': 30, 'min_data_in_leaf': 24, 'max_depth': 23, 'learning_rate': 0.021753622697716312, 'bagging_fraction': 0.6302343947757979, 'feature_fraction': 0.06991204490408084, 'reg_alpha': 1.8996255069419958, 'reg_lambda': 0.8648228563435989, 'colsample_bytree': 0.10116868959754927, 'min_gain_to_split': 0.02341929110948727, 'min_child_weight': 0.07726865228352352}.\n"
     ]
    },
    {
     "name": "stdout",
     "output_type": "stream",
     "text": [
      "225 "
     ]
    },
    {
     "name": "stderr",
     "output_type": "stream",
     "text": [
      "[I 2019-03-13 01:55:56,019] Finished a trial resulted in value: -0.8891817524508668. Current best value is -0.898146992489301 with parameters: {'max_leaves': 30, 'min_data_in_leaf': 24, 'max_depth': 23, 'learning_rate': 0.021753622697716312, 'bagging_fraction': 0.6302343947757979, 'feature_fraction': 0.06991204490408084, 'reg_alpha': 1.8996255069419958, 'reg_lambda': 0.8648228563435989, 'colsample_bytree': 0.10116868959754927, 'min_gain_to_split': 0.02341929110948727, 'min_child_weight': 0.07726865228352352}.\n"
     ]
    },
    {
     "name": "stdout",
     "output_type": "stream",
     "text": [
      "226 "
     ]
    },
    {
     "name": "stderr",
     "output_type": "stream",
     "text": [
      "[I 2019-03-13 01:56:21,549] Finished a trial resulted in value: -0.8201673964199474. Current best value is -0.898146992489301 with parameters: {'max_leaves': 30, 'min_data_in_leaf': 24, 'max_depth': 23, 'learning_rate': 0.021753622697716312, 'bagging_fraction': 0.6302343947757979, 'feature_fraction': 0.06991204490408084, 'reg_alpha': 1.8996255069419958, 'reg_lambda': 0.8648228563435989, 'colsample_bytree': 0.10116868959754927, 'min_gain_to_split': 0.02341929110948727, 'min_child_weight': 0.07726865228352352}.\n"
     ]
    },
    {
     "name": "stdout",
     "output_type": "stream",
     "text": [
      "227 "
     ]
    },
    {
     "name": "stderr",
     "output_type": "stream",
     "text": [
      "[I 2019-03-13 01:56:41,958] Finished a trial resulted in value: -0.800174339231999. Current best value is -0.898146992489301 with parameters: {'max_leaves': 30, 'min_data_in_leaf': 24, 'max_depth': 23, 'learning_rate': 0.021753622697716312, 'bagging_fraction': 0.6302343947757979, 'feature_fraction': 0.06991204490408084, 'reg_alpha': 1.8996255069419958, 'reg_lambda': 0.8648228563435989, 'colsample_bytree': 0.10116868959754927, 'min_gain_to_split': 0.02341929110948727, 'min_child_weight': 0.07726865228352352}.\n"
     ]
    },
    {
     "name": "stdout",
     "output_type": "stream",
     "text": [
      "228 "
     ]
    },
    {
     "name": "stderr",
     "output_type": "stream",
     "text": [
      "[I 2019-03-13 01:57:27,168] Finished a trial resulted in value: -0.885631400622835. Current best value is -0.898146992489301 with parameters: {'max_leaves': 30, 'min_data_in_leaf': 24, 'max_depth': 23, 'learning_rate': 0.021753622697716312, 'bagging_fraction': 0.6302343947757979, 'feature_fraction': 0.06991204490408084, 'reg_alpha': 1.8996255069419958, 'reg_lambda': 0.8648228563435989, 'colsample_bytree': 0.10116868959754927, 'min_gain_to_split': 0.02341929110948727, 'min_child_weight': 0.07726865228352352}.\n"
     ]
    },
    {
     "name": "stdout",
     "output_type": "stream",
     "text": [
      "229 "
     ]
    },
    {
     "name": "stderr",
     "output_type": "stream",
     "text": [
      "[I 2019-03-13 01:58:27,946] Finished a trial resulted in value: -0.8944091813727371. Current best value is -0.898146992489301 with parameters: {'max_leaves': 30, 'min_data_in_leaf': 24, 'max_depth': 23, 'learning_rate': 0.021753622697716312, 'bagging_fraction': 0.6302343947757979, 'feature_fraction': 0.06991204490408084, 'reg_alpha': 1.8996255069419958, 'reg_lambda': 0.8648228563435989, 'colsample_bytree': 0.10116868959754927, 'min_gain_to_split': 0.02341929110948727, 'min_child_weight': 0.07726865228352352}.\n"
     ]
    },
    {
     "name": "stdout",
     "output_type": "stream",
     "text": [
      "230 "
     ]
    },
    {
     "name": "stderr",
     "output_type": "stream",
     "text": [
      "[I 2019-03-13 01:58:54,105] Finished a trial resulted in value: -0.8729070875740301. Current best value is -0.898146992489301 with parameters: {'max_leaves': 30, 'min_data_in_leaf': 24, 'max_depth': 23, 'learning_rate': 0.021753622697716312, 'bagging_fraction': 0.6302343947757979, 'feature_fraction': 0.06991204490408084, 'reg_alpha': 1.8996255069419958, 'reg_lambda': 0.8648228563435989, 'colsample_bytree': 0.10116868959754927, 'min_gain_to_split': 0.02341929110948727, 'min_child_weight': 0.07726865228352352}.\n"
     ]
    },
    {
     "name": "stdout",
     "output_type": "stream",
     "text": [
      "231 "
     ]
    },
    {
     "name": "stderr",
     "output_type": "stream",
     "text": [
      "[I 2019-03-13 01:59:22,932] Finished a trial resulted in value: -0.8007955919331536. Current best value is -0.898146992489301 with parameters: {'max_leaves': 30, 'min_data_in_leaf': 24, 'max_depth': 23, 'learning_rate': 0.021753622697716312, 'bagging_fraction': 0.6302343947757979, 'feature_fraction': 0.06991204490408084, 'reg_alpha': 1.8996255069419958, 'reg_lambda': 0.8648228563435989, 'colsample_bytree': 0.10116868959754927, 'min_gain_to_split': 0.02341929110948727, 'min_child_weight': 0.07726865228352352}.\n"
     ]
    },
    {
     "name": "stdout",
     "output_type": "stream",
     "text": [
      "232 "
     ]
    },
    {
     "name": "stderr",
     "output_type": "stream",
     "text": [
      "[I 2019-03-13 01:59:52,957] Finished a trial resulted in value: -0.8754485144723906. Current best value is -0.898146992489301 with parameters: {'max_leaves': 30, 'min_data_in_leaf': 24, 'max_depth': 23, 'learning_rate': 0.021753622697716312, 'bagging_fraction': 0.6302343947757979, 'feature_fraction': 0.06991204490408084, 'reg_alpha': 1.8996255069419958, 'reg_lambda': 0.8648228563435989, 'colsample_bytree': 0.10116868959754927, 'min_gain_to_split': 0.02341929110948727, 'min_child_weight': 0.07726865228352352}.\n"
     ]
    },
    {
     "name": "stdout",
     "output_type": "stream",
     "text": [
      "233 "
     ]
    },
    {
     "name": "stderr",
     "output_type": "stream",
     "text": [
      "[I 2019-03-13 02:01:24,689] Finished a trial resulted in value: -0.8910614641656069. Current best value is -0.898146992489301 with parameters: {'max_leaves': 30, 'min_data_in_leaf': 24, 'max_depth': 23, 'learning_rate': 0.021753622697716312, 'bagging_fraction': 0.6302343947757979, 'feature_fraction': 0.06991204490408084, 'reg_alpha': 1.8996255069419958, 'reg_lambda': 0.8648228563435989, 'colsample_bytree': 0.10116868959754927, 'min_gain_to_split': 0.02341929110948727, 'min_child_weight': 0.07726865228352352}.\n"
     ]
    },
    {
     "name": "stdout",
     "output_type": "stream",
     "text": [
      "234 "
     ]
    },
    {
     "name": "stderr",
     "output_type": "stream",
     "text": [
      "[I 2019-03-13 02:02:01,774] Finished a trial resulted in value: -0.8827340770693415. Current best value is -0.898146992489301 with parameters: {'max_leaves': 30, 'min_data_in_leaf': 24, 'max_depth': 23, 'learning_rate': 0.021753622697716312, 'bagging_fraction': 0.6302343947757979, 'feature_fraction': 0.06991204490408084, 'reg_alpha': 1.8996255069419958, 'reg_lambda': 0.8648228563435989, 'colsample_bytree': 0.10116868959754927, 'min_gain_to_split': 0.02341929110948727, 'min_child_weight': 0.07726865228352352}.\n"
     ]
    },
    {
     "name": "stdout",
     "output_type": "stream",
     "text": [
      "235 "
     ]
    },
    {
     "name": "stderr",
     "output_type": "stream",
     "text": [
      "[I 2019-03-13 02:02:43,879] Finished a trial resulted in value: -0.8862117192830536. Current best value is -0.898146992489301 with parameters: {'max_leaves': 30, 'min_data_in_leaf': 24, 'max_depth': 23, 'learning_rate': 0.021753622697716312, 'bagging_fraction': 0.6302343947757979, 'feature_fraction': 0.06991204490408084, 'reg_alpha': 1.8996255069419958, 'reg_lambda': 0.8648228563435989, 'colsample_bytree': 0.10116868959754927, 'min_gain_to_split': 0.02341929110948727, 'min_child_weight': 0.07726865228352352}.\n"
     ]
    },
    {
     "name": "stdout",
     "output_type": "stream",
     "text": [
      "236 "
     ]
    },
    {
     "name": "stderr",
     "output_type": "stream",
     "text": [
      "[I 2019-03-13 02:03:25,126] Finished a trial resulted in value: -0.8887919140957006. Current best value is -0.898146992489301 with parameters: {'max_leaves': 30, 'min_data_in_leaf': 24, 'max_depth': 23, 'learning_rate': 0.021753622697716312, 'bagging_fraction': 0.6302343947757979, 'feature_fraction': 0.06991204490408084, 'reg_alpha': 1.8996255069419958, 'reg_lambda': 0.8648228563435989, 'colsample_bytree': 0.10116868959754927, 'min_gain_to_split': 0.02341929110948727, 'min_child_weight': 0.07726865228352352}.\n"
     ]
    },
    {
     "name": "stdout",
     "output_type": "stream",
     "text": [
      "237 "
     ]
    },
    {
     "name": "stderr",
     "output_type": "stream",
     "text": [
      "[I 2019-03-13 02:03:54,216] Finished a trial resulted in value: -0.8731481269677105. Current best value is -0.898146992489301 with parameters: {'max_leaves': 30, 'min_data_in_leaf': 24, 'max_depth': 23, 'learning_rate': 0.021753622697716312, 'bagging_fraction': 0.6302343947757979, 'feature_fraction': 0.06991204490408084, 'reg_alpha': 1.8996255069419958, 'reg_lambda': 0.8648228563435989, 'colsample_bytree': 0.10116868959754927, 'min_gain_to_split': 0.02341929110948727, 'min_child_weight': 0.07726865228352352}.\n"
     ]
    },
    {
     "name": "stdout",
     "output_type": "stream",
     "text": [
      "238 "
     ]
    },
    {
     "name": "stderr",
     "output_type": "stream",
     "text": [
      "[I 2019-03-13 02:04:23,701] Finished a trial resulted in value: -0.8836089422128841. Current best value is -0.898146992489301 with parameters: {'max_leaves': 30, 'min_data_in_leaf': 24, 'max_depth': 23, 'learning_rate': 0.021753622697716312, 'bagging_fraction': 0.6302343947757979, 'feature_fraction': 0.06991204490408084, 'reg_alpha': 1.8996255069419958, 'reg_lambda': 0.8648228563435989, 'colsample_bytree': 0.10116868959754927, 'min_gain_to_split': 0.02341929110948727, 'min_child_weight': 0.07726865228352352}.\n"
     ]
    },
    {
     "name": "stdout",
     "output_type": "stream",
     "text": [
      "239 "
     ]
    },
    {
     "name": "stderr",
     "output_type": "stream",
     "text": [
      "[I 2019-03-13 02:05:28,474] Finished a trial resulted in value: -0.8939655930960584. Current best value is -0.898146992489301 with parameters: {'max_leaves': 30, 'min_data_in_leaf': 24, 'max_depth': 23, 'learning_rate': 0.021753622697716312, 'bagging_fraction': 0.6302343947757979, 'feature_fraction': 0.06991204490408084, 'reg_alpha': 1.8996255069419958, 'reg_lambda': 0.8648228563435989, 'colsample_bytree': 0.10116868959754927, 'min_gain_to_split': 0.02341929110948727, 'min_child_weight': 0.07726865228352352}.\n"
     ]
    },
    {
     "name": "stdout",
     "output_type": "stream",
     "text": [
      "240 "
     ]
    },
    {
     "name": "stderr",
     "output_type": "stream",
     "text": [
      "[I 2019-03-13 02:06:15,658] Finished a trial resulted in value: -0.8764818523021145. Current best value is -0.898146992489301 with parameters: {'max_leaves': 30, 'min_data_in_leaf': 24, 'max_depth': 23, 'learning_rate': 0.021753622697716312, 'bagging_fraction': 0.6302343947757979, 'feature_fraction': 0.06991204490408084, 'reg_alpha': 1.8996255069419958, 'reg_lambda': 0.8648228563435989, 'colsample_bytree': 0.10116868959754927, 'min_gain_to_split': 0.02341929110948727, 'min_child_weight': 0.07726865228352352}.\n"
     ]
    },
    {
     "name": "stdout",
     "output_type": "stream",
     "text": [
      "241 "
     ]
    },
    {
     "name": "stderr",
     "output_type": "stream",
     "text": [
      "[I 2019-03-13 02:06:43,439] Finished a trial resulted in value: -0.8670303303830242. Current best value is -0.898146992489301 with parameters: {'max_leaves': 30, 'min_data_in_leaf': 24, 'max_depth': 23, 'learning_rate': 0.021753622697716312, 'bagging_fraction': 0.6302343947757979, 'feature_fraction': 0.06991204490408084, 'reg_alpha': 1.8996255069419958, 'reg_lambda': 0.8648228563435989, 'colsample_bytree': 0.10116868959754927, 'min_gain_to_split': 0.02341929110948727, 'min_child_weight': 0.07726865228352352}.\n"
     ]
    },
    {
     "name": "stdout",
     "output_type": "stream",
     "text": [
      "242 "
     ]
    },
    {
     "name": "stderr",
     "output_type": "stream",
     "text": [
      "[I 2019-03-13 02:07:03,036] Finished a trial resulted in value: -0.7863935980297247. Current best value is -0.898146992489301 with parameters: {'max_leaves': 30, 'min_data_in_leaf': 24, 'max_depth': 23, 'learning_rate': 0.021753622697716312, 'bagging_fraction': 0.6302343947757979, 'feature_fraction': 0.06991204490408084, 'reg_alpha': 1.8996255069419958, 'reg_lambda': 0.8648228563435989, 'colsample_bytree': 0.10116868959754927, 'min_gain_to_split': 0.02341929110948727, 'min_child_weight': 0.07726865228352352}.\n"
     ]
    },
    {
     "name": "stdout",
     "output_type": "stream",
     "text": [
      "243 "
     ]
    },
    {
     "name": "stderr",
     "output_type": "stream",
     "text": [
      "[I 2019-03-13 02:11:12,415] Finished a trial resulted in value: -0.8950143676204716. Current best value is -0.898146992489301 with parameters: {'max_leaves': 30, 'min_data_in_leaf': 24, 'max_depth': 23, 'learning_rate': 0.021753622697716312, 'bagging_fraction': 0.6302343947757979, 'feature_fraction': 0.06991204490408084, 'reg_alpha': 1.8996255069419958, 'reg_lambda': 0.8648228563435989, 'colsample_bytree': 0.10116868959754927, 'min_gain_to_split': 0.02341929110948727, 'min_child_weight': 0.07726865228352352}.\n"
     ]
    },
    {
     "name": "stdout",
     "output_type": "stream",
     "text": [
      "244 "
     ]
    },
    {
     "name": "stderr",
     "output_type": "stream",
     "text": [
      "[I 2019-03-13 02:12:47,527] Finished a trial resulted in value: -0.8662012376639212. Current best value is -0.898146992489301 with parameters: {'max_leaves': 30, 'min_data_in_leaf': 24, 'max_depth': 23, 'learning_rate': 0.021753622697716312, 'bagging_fraction': 0.6302343947757979, 'feature_fraction': 0.06991204490408084, 'reg_alpha': 1.8996255069419958, 'reg_lambda': 0.8648228563435989, 'colsample_bytree': 0.10116868959754927, 'min_gain_to_split': 0.02341929110948727, 'min_child_weight': 0.07726865228352352}.\n"
     ]
    },
    {
     "name": "stdout",
     "output_type": "stream",
     "text": [
      "245 "
     ]
    },
    {
     "name": "stderr",
     "output_type": "stream",
     "text": [
      "[I 2019-03-13 02:13:28,195] Finished a trial resulted in value: -0.8876961540937982. Current best value is -0.898146992489301 with parameters: {'max_leaves': 30, 'min_data_in_leaf': 24, 'max_depth': 23, 'learning_rate': 0.021753622697716312, 'bagging_fraction': 0.6302343947757979, 'feature_fraction': 0.06991204490408084, 'reg_alpha': 1.8996255069419958, 'reg_lambda': 0.8648228563435989, 'colsample_bytree': 0.10116868959754927, 'min_gain_to_split': 0.02341929110948727, 'min_child_weight': 0.07726865228352352}.\n"
     ]
    },
    {
     "name": "stdout",
     "output_type": "stream",
     "text": [
      "246 "
     ]
    },
    {
     "name": "stderr",
     "output_type": "stream",
     "text": [
      "[I 2019-03-13 02:14:09,285] Finished a trial resulted in value: -0.883838735559346. Current best value is -0.898146992489301 with parameters: {'max_leaves': 30, 'min_data_in_leaf': 24, 'max_depth': 23, 'learning_rate': 0.021753622697716312, 'bagging_fraction': 0.6302343947757979, 'feature_fraction': 0.06991204490408084, 'reg_alpha': 1.8996255069419958, 'reg_lambda': 0.8648228563435989, 'colsample_bytree': 0.10116868959754927, 'min_gain_to_split': 0.02341929110948727, 'min_child_weight': 0.07726865228352352}.\n"
     ]
    },
    {
     "name": "stdout",
     "output_type": "stream",
     "text": [
      "247 "
     ]
    },
    {
     "name": "stderr",
     "output_type": "stream",
     "text": [
      "[I 2019-03-13 02:14:43,445] Finished a trial resulted in value: -0.8811462287946891. Current best value is -0.898146992489301 with parameters: {'max_leaves': 30, 'min_data_in_leaf': 24, 'max_depth': 23, 'learning_rate': 0.021753622697716312, 'bagging_fraction': 0.6302343947757979, 'feature_fraction': 0.06991204490408084, 'reg_alpha': 1.8996255069419958, 'reg_lambda': 0.8648228563435989, 'colsample_bytree': 0.10116868959754927, 'min_gain_to_split': 0.02341929110948727, 'min_child_weight': 0.07726865228352352}.\n"
     ]
    },
    {
     "name": "stdout",
     "output_type": "stream",
     "text": [
      "248 "
     ]
    },
    {
     "name": "stderr",
     "output_type": "stream",
     "text": [
      "[I 2019-03-13 02:17:33,312] Finished a trial resulted in value: -0.8945341814281901. Current best value is -0.898146992489301 with parameters: {'max_leaves': 30, 'min_data_in_leaf': 24, 'max_depth': 23, 'learning_rate': 0.021753622697716312, 'bagging_fraction': 0.6302343947757979, 'feature_fraction': 0.06991204490408084, 'reg_alpha': 1.8996255069419958, 'reg_lambda': 0.8648228563435989, 'colsample_bytree': 0.10116868959754927, 'min_gain_to_split': 0.02341929110948727, 'min_child_weight': 0.07726865228352352}.\n"
     ]
    },
    {
     "name": "stdout",
     "output_type": "stream",
     "text": [
      "249 "
     ]
    },
    {
     "name": "stderr",
     "output_type": "stream",
     "text": [
      "[I 2019-03-13 02:17:56,861] Finished a trial resulted in value: -0.8641732685193577. Current best value is -0.898146992489301 with parameters: {'max_leaves': 30, 'min_data_in_leaf': 24, 'max_depth': 23, 'learning_rate': 0.021753622697716312, 'bagging_fraction': 0.6302343947757979, 'feature_fraction': 0.06991204490408084, 'reg_alpha': 1.8996255069419958, 'reg_lambda': 0.8648228563435989, 'colsample_bytree': 0.10116868959754927, 'min_gain_to_split': 0.02341929110948727, 'min_child_weight': 0.07726865228352352}.\n"
     ]
    },
    {
     "name": "stdout",
     "output_type": "stream",
     "text": [
      "250 "
     ]
    },
    {
     "name": "stderr",
     "output_type": "stream",
     "text": [
      "[I 2019-03-13 02:19:10,131] Finished a trial resulted in value: -0.8891246891742396. Current best value is -0.898146992489301 with parameters: {'max_leaves': 30, 'min_data_in_leaf': 24, 'max_depth': 23, 'learning_rate': 0.021753622697716312, 'bagging_fraction': 0.6302343947757979, 'feature_fraction': 0.06991204490408084, 'reg_alpha': 1.8996255069419958, 'reg_lambda': 0.8648228563435989, 'colsample_bytree': 0.10116868959754927, 'min_gain_to_split': 0.02341929110948727, 'min_child_weight': 0.07726865228352352}.\n"
     ]
    },
    {
     "name": "stdout",
     "output_type": "stream",
     "text": [
      "251 "
     ]
    },
    {
     "name": "stderr",
     "output_type": "stream",
     "text": [
      "[I 2019-03-13 02:19:40,725] Finished a trial resulted in value: -0.8798520392011973. Current best value is -0.898146992489301 with parameters: {'max_leaves': 30, 'min_data_in_leaf': 24, 'max_depth': 23, 'learning_rate': 0.021753622697716312, 'bagging_fraction': 0.6302343947757979, 'feature_fraction': 0.06991204490408084, 'reg_alpha': 1.8996255069419958, 'reg_lambda': 0.8648228563435989, 'colsample_bytree': 0.10116868959754927, 'min_gain_to_split': 0.02341929110948727, 'min_child_weight': 0.07726865228352352}.\n"
     ]
    },
    {
     "name": "stdout",
     "output_type": "stream",
     "text": [
      "252 "
     ]
    },
    {
     "name": "stderr",
     "output_type": "stream",
     "text": [
      "[I 2019-03-13 02:20:25,003] Finished a trial resulted in value: -0.8808367166219981. Current best value is -0.898146992489301 with parameters: {'max_leaves': 30, 'min_data_in_leaf': 24, 'max_depth': 23, 'learning_rate': 0.021753622697716312, 'bagging_fraction': 0.6302343947757979, 'feature_fraction': 0.06991204490408084, 'reg_alpha': 1.8996255069419958, 'reg_lambda': 0.8648228563435989, 'colsample_bytree': 0.10116868959754927, 'min_gain_to_split': 0.02341929110948727, 'min_child_weight': 0.07726865228352352}.\n"
     ]
    },
    {
     "name": "stdout",
     "output_type": "stream",
     "text": [
      "253 "
     ]
    },
    {
     "name": "stderr",
     "output_type": "stream",
     "text": [
      "[I 2019-03-13 02:20:50,284] Finished a trial resulted in value: -0.8417888296364501. Current best value is -0.898146992489301 with parameters: {'max_leaves': 30, 'min_data_in_leaf': 24, 'max_depth': 23, 'learning_rate': 0.021753622697716312, 'bagging_fraction': 0.6302343947757979, 'feature_fraction': 0.06991204490408084, 'reg_alpha': 1.8996255069419958, 'reg_lambda': 0.8648228563435989, 'colsample_bytree': 0.10116868959754927, 'min_gain_to_split': 0.02341929110948727, 'min_child_weight': 0.07726865228352352}.\n"
     ]
    },
    {
     "name": "stdout",
     "output_type": "stream",
     "text": [
      "254 "
     ]
    },
    {
     "name": "stderr",
     "output_type": "stream",
     "text": [
      "[I 2019-03-13 02:21:12,133] Finished a trial resulted in value: -0.815548116681817. Current best value is -0.898146992489301 with parameters: {'max_leaves': 30, 'min_data_in_leaf': 24, 'max_depth': 23, 'learning_rate': 0.021753622697716312, 'bagging_fraction': 0.6302343947757979, 'feature_fraction': 0.06991204490408084, 'reg_alpha': 1.8996255069419958, 'reg_lambda': 0.8648228563435989, 'colsample_bytree': 0.10116868959754927, 'min_gain_to_split': 0.02341929110948727, 'min_child_weight': 0.07726865228352352}.\n"
     ]
    },
    {
     "name": "stdout",
     "output_type": "stream",
     "text": [
      "255 "
     ]
    },
    {
     "name": "stderr",
     "output_type": "stream",
     "text": [
      "[I 2019-03-13 02:21:32,349] Finished a trial resulted in value: -0.7830235126332572. Current best value is -0.898146992489301 with parameters: {'max_leaves': 30, 'min_data_in_leaf': 24, 'max_depth': 23, 'learning_rate': 0.021753622697716312, 'bagging_fraction': 0.6302343947757979, 'feature_fraction': 0.06991204490408084, 'reg_alpha': 1.8996255069419958, 'reg_lambda': 0.8648228563435989, 'colsample_bytree': 0.10116868959754927, 'min_gain_to_split': 0.02341929110948727, 'min_child_weight': 0.07726865228352352}.\n"
     ]
    },
    {
     "name": "stdout",
     "output_type": "stream",
     "text": [
      "256 "
     ]
    },
    {
     "name": "stderr",
     "output_type": "stream",
     "text": [
      "[I 2019-03-13 02:21:59,882] Finished a trial resulted in value: -0.8494816854428785. Current best value is -0.898146992489301 with parameters: {'max_leaves': 30, 'min_data_in_leaf': 24, 'max_depth': 23, 'learning_rate': 0.021753622697716312, 'bagging_fraction': 0.6302343947757979, 'feature_fraction': 0.06991204490408084, 'reg_alpha': 1.8996255069419958, 'reg_lambda': 0.8648228563435989, 'colsample_bytree': 0.10116868959754927, 'min_gain_to_split': 0.02341929110948727, 'min_child_weight': 0.07726865228352352}.\n"
     ]
    },
    {
     "name": "stdout",
     "output_type": "stream",
     "text": [
      "257 "
     ]
    },
    {
     "name": "stderr",
     "output_type": "stream",
     "text": [
      "[I 2019-03-13 02:24:25,147] Finished a trial resulted in value: -0.8964683629862594. Current best value is -0.898146992489301 with parameters: {'max_leaves': 30, 'min_data_in_leaf': 24, 'max_depth': 23, 'learning_rate': 0.021753622697716312, 'bagging_fraction': 0.6302343947757979, 'feature_fraction': 0.06991204490408084, 'reg_alpha': 1.8996255069419958, 'reg_lambda': 0.8648228563435989, 'colsample_bytree': 0.10116868959754927, 'min_gain_to_split': 0.02341929110948727, 'min_child_weight': 0.07726865228352352}.\n"
     ]
    },
    {
     "name": "stdout",
     "output_type": "stream",
     "text": [
      "258 "
     ]
    },
    {
     "name": "stderr",
     "output_type": "stream",
     "text": [
      "[I 2019-03-13 02:25:27,808] Finished a trial resulted in value: -0.8901577816829298. Current best value is -0.898146992489301 with parameters: {'max_leaves': 30, 'min_data_in_leaf': 24, 'max_depth': 23, 'learning_rate': 0.021753622697716312, 'bagging_fraction': 0.6302343947757979, 'feature_fraction': 0.06991204490408084, 'reg_alpha': 1.8996255069419958, 'reg_lambda': 0.8648228563435989, 'colsample_bytree': 0.10116868959754927, 'min_gain_to_split': 0.02341929110948727, 'min_child_weight': 0.07726865228352352}.\n"
     ]
    },
    {
     "name": "stdout",
     "output_type": "stream",
     "text": [
      "259 "
     ]
    },
    {
     "name": "stderr",
     "output_type": "stream",
     "text": [
      "[I 2019-03-13 02:30:35,806] Finished a trial resulted in value: -0.8846700364443286. Current best value is -0.898146992489301 with parameters: {'max_leaves': 30, 'min_data_in_leaf': 24, 'max_depth': 23, 'learning_rate': 0.021753622697716312, 'bagging_fraction': 0.6302343947757979, 'feature_fraction': 0.06991204490408084, 'reg_alpha': 1.8996255069419958, 'reg_lambda': 0.8648228563435989, 'colsample_bytree': 0.10116868959754927, 'min_gain_to_split': 0.02341929110948727, 'min_child_weight': 0.07726865228352352}.\n"
     ]
    },
    {
     "name": "stdout",
     "output_type": "stream",
     "text": [
      "260 "
     ]
    },
    {
     "name": "stderr",
     "output_type": "stream",
     "text": [
      "[I 2019-03-13 02:32:17,889] Finished a trial resulted in value: -0.8943864450635617. Current best value is -0.898146992489301 with parameters: {'max_leaves': 30, 'min_data_in_leaf': 24, 'max_depth': 23, 'learning_rate': 0.021753622697716312, 'bagging_fraction': 0.6302343947757979, 'feature_fraction': 0.06991204490408084, 'reg_alpha': 1.8996255069419958, 'reg_lambda': 0.8648228563435989, 'colsample_bytree': 0.10116868959754927, 'min_gain_to_split': 0.02341929110948727, 'min_child_weight': 0.07726865228352352}.\n"
     ]
    },
    {
     "name": "stdout",
     "output_type": "stream",
     "text": [
      "261 "
     ]
    },
    {
     "name": "stderr",
     "output_type": "stream",
     "text": [
      "[I 2019-03-13 02:34:36,530] Finished a trial resulted in value: -0.8959410898138735. Current best value is -0.898146992489301 with parameters: {'max_leaves': 30, 'min_data_in_leaf': 24, 'max_depth': 23, 'learning_rate': 0.021753622697716312, 'bagging_fraction': 0.6302343947757979, 'feature_fraction': 0.06991204490408084, 'reg_alpha': 1.8996255069419958, 'reg_lambda': 0.8648228563435989, 'colsample_bytree': 0.10116868959754927, 'min_gain_to_split': 0.02341929110948727, 'min_child_weight': 0.07726865228352352}.\n"
     ]
    },
    {
     "name": "stdout",
     "output_type": "stream",
     "text": [
      "262 "
     ]
    },
    {
     "name": "stderr",
     "output_type": "stream",
     "text": [
      "[I 2019-03-13 02:35:41,320] Finished a trial resulted in value: -0.8907815376542967. Current best value is -0.898146992489301 with parameters: {'max_leaves': 30, 'min_data_in_leaf': 24, 'max_depth': 23, 'learning_rate': 0.021753622697716312, 'bagging_fraction': 0.6302343947757979, 'feature_fraction': 0.06991204490408084, 'reg_alpha': 1.8996255069419958, 'reg_lambda': 0.8648228563435989, 'colsample_bytree': 0.10116868959754927, 'min_gain_to_split': 0.02341929110948727, 'min_child_weight': 0.07726865228352352}.\n"
     ]
    },
    {
     "name": "stdout",
     "output_type": "stream",
     "text": [
      "263 "
     ]
    },
    {
     "name": "stderr",
     "output_type": "stream",
     "text": [
      "[I 2019-03-13 02:36:24,129] Finished a trial resulted in value: -0.8074472571476065. Current best value is -0.898146992489301 with parameters: {'max_leaves': 30, 'min_data_in_leaf': 24, 'max_depth': 23, 'learning_rate': 0.021753622697716312, 'bagging_fraction': 0.6302343947757979, 'feature_fraction': 0.06991204490408084, 'reg_alpha': 1.8996255069419958, 'reg_lambda': 0.8648228563435989, 'colsample_bytree': 0.10116868959754927, 'min_gain_to_split': 0.02341929110948727, 'min_child_weight': 0.07726865228352352}.\n"
     ]
    },
    {
     "name": "stdout",
     "output_type": "stream",
     "text": [
      "264 "
     ]
    },
    {
     "name": "stderr",
     "output_type": "stream",
     "text": [
      "[I 2019-03-13 02:37:13,321] Finished a trial resulted in value: -0.8870461681319693. Current best value is -0.898146992489301 with parameters: {'max_leaves': 30, 'min_data_in_leaf': 24, 'max_depth': 23, 'learning_rate': 0.021753622697716312, 'bagging_fraction': 0.6302343947757979, 'feature_fraction': 0.06991204490408084, 'reg_alpha': 1.8996255069419958, 'reg_lambda': 0.8648228563435989, 'colsample_bytree': 0.10116868959754927, 'min_gain_to_split': 0.02341929110948727, 'min_child_weight': 0.07726865228352352}.\n"
     ]
    },
    {
     "name": "stdout",
     "output_type": "stream",
     "text": [
      "265 "
     ]
    },
    {
     "name": "stderr",
     "output_type": "stream",
     "text": [
      "[I 2019-03-13 02:38:23,866] Finished a trial resulted in value: -0.8907017115174014. Current best value is -0.898146992489301 with parameters: {'max_leaves': 30, 'min_data_in_leaf': 24, 'max_depth': 23, 'learning_rate': 0.021753622697716312, 'bagging_fraction': 0.6302343947757979, 'feature_fraction': 0.06991204490408084, 'reg_alpha': 1.8996255069419958, 'reg_lambda': 0.8648228563435989, 'colsample_bytree': 0.10116868959754927, 'min_gain_to_split': 0.02341929110948727, 'min_child_weight': 0.07726865228352352}.\n"
     ]
    },
    {
     "name": "stdout",
     "output_type": "stream",
     "text": [
      "266 "
     ]
    },
    {
     "name": "stderr",
     "output_type": "stream",
     "text": [
      "[I 2019-03-13 02:41:02,033] Finished a trial resulted in value: -0.8970804768566079. Current best value is -0.898146992489301 with parameters: {'max_leaves': 30, 'min_data_in_leaf': 24, 'max_depth': 23, 'learning_rate': 0.021753622697716312, 'bagging_fraction': 0.6302343947757979, 'feature_fraction': 0.06991204490408084, 'reg_alpha': 1.8996255069419958, 'reg_lambda': 0.8648228563435989, 'colsample_bytree': 0.10116868959754927, 'min_gain_to_split': 0.02341929110948727, 'min_child_weight': 0.07726865228352352}.\n"
     ]
    },
    {
     "name": "stdout",
     "output_type": "stream",
     "text": [
      "267 "
     ]
    },
    {
     "name": "stderr",
     "output_type": "stream",
     "text": [
      "[I 2019-03-13 02:43:20,764] Finished a trial resulted in value: -0.8736377733696498. Current best value is -0.898146992489301 with parameters: {'max_leaves': 30, 'min_data_in_leaf': 24, 'max_depth': 23, 'learning_rate': 0.021753622697716312, 'bagging_fraction': 0.6302343947757979, 'feature_fraction': 0.06991204490408084, 'reg_alpha': 1.8996255069419958, 'reg_lambda': 0.8648228563435989, 'colsample_bytree': 0.10116868959754927, 'min_gain_to_split': 0.02341929110948727, 'min_child_weight': 0.07726865228352352}.\n"
     ]
    },
    {
     "name": "stdout",
     "output_type": "stream",
     "text": [
      "268 "
     ]
    },
    {
     "name": "stderr",
     "output_type": "stream",
     "text": [
      "[I 2019-03-13 02:44:00,354] Finished a trial resulted in value: -0.8877845667434561. Current best value is -0.898146992489301 with parameters: {'max_leaves': 30, 'min_data_in_leaf': 24, 'max_depth': 23, 'learning_rate': 0.021753622697716312, 'bagging_fraction': 0.6302343947757979, 'feature_fraction': 0.06991204490408084, 'reg_alpha': 1.8996255069419958, 'reg_lambda': 0.8648228563435989, 'colsample_bytree': 0.10116868959754927, 'min_gain_to_split': 0.02341929110948727, 'min_child_weight': 0.07726865228352352}.\n"
     ]
    },
    {
     "name": "stdout",
     "output_type": "stream",
     "text": [
      "269 "
     ]
    },
    {
     "name": "stderr",
     "output_type": "stream",
     "text": [
      "[I 2019-03-13 02:45:16,755] Finished a trial resulted in value: -0.8948831554390392. Current best value is -0.898146992489301 with parameters: {'max_leaves': 30, 'min_data_in_leaf': 24, 'max_depth': 23, 'learning_rate': 0.021753622697716312, 'bagging_fraction': 0.6302343947757979, 'feature_fraction': 0.06991204490408084, 'reg_alpha': 1.8996255069419958, 'reg_lambda': 0.8648228563435989, 'colsample_bytree': 0.10116868959754927, 'min_gain_to_split': 0.02341929110948727, 'min_child_weight': 0.07726865228352352}.\n"
     ]
    },
    {
     "name": "stdout",
     "output_type": "stream",
     "text": [
      "270 "
     ]
    },
    {
     "name": "stderr",
     "output_type": "stream",
     "text": [
      "[I 2019-03-13 02:45:51,700] Finished a trial resulted in value: -0.8853814782291897. Current best value is -0.898146992489301 with parameters: {'max_leaves': 30, 'min_data_in_leaf': 24, 'max_depth': 23, 'learning_rate': 0.021753622697716312, 'bagging_fraction': 0.6302343947757979, 'feature_fraction': 0.06991204490408084, 'reg_alpha': 1.8996255069419958, 'reg_lambda': 0.8648228563435989, 'colsample_bytree': 0.10116868959754927, 'min_gain_to_split': 0.02341929110948727, 'min_child_weight': 0.07726865228352352}.\n"
     ]
    },
    {
     "name": "stdout",
     "output_type": "stream",
     "text": [
      "271 "
     ]
    },
    {
     "name": "stderr",
     "output_type": "stream",
     "text": [
      "[I 2019-03-13 02:46:36,815] Finished a trial resulted in value: -0.8909256650063297. Current best value is -0.898146992489301 with parameters: {'max_leaves': 30, 'min_data_in_leaf': 24, 'max_depth': 23, 'learning_rate': 0.021753622697716312, 'bagging_fraction': 0.6302343947757979, 'feature_fraction': 0.06991204490408084, 'reg_alpha': 1.8996255069419958, 'reg_lambda': 0.8648228563435989, 'colsample_bytree': 0.10116868959754927, 'min_gain_to_split': 0.02341929110948727, 'min_child_weight': 0.07726865228352352}.\n"
     ]
    },
    {
     "name": "stdout",
     "output_type": "stream",
     "text": [
      "272 "
     ]
    },
    {
     "name": "stderr",
     "output_type": "stream",
     "text": [
      "[I 2019-03-13 02:48:39,942] Finished a trial resulted in value: -0.8971453702164285. Current best value is -0.898146992489301 with parameters: {'max_leaves': 30, 'min_data_in_leaf': 24, 'max_depth': 23, 'learning_rate': 0.021753622697716312, 'bagging_fraction': 0.6302343947757979, 'feature_fraction': 0.06991204490408084, 'reg_alpha': 1.8996255069419958, 'reg_lambda': 0.8648228563435989, 'colsample_bytree': 0.10116868959754927, 'min_gain_to_split': 0.02341929110948727, 'min_child_weight': 0.07726865228352352}.\n"
     ]
    },
    {
     "name": "stdout",
     "output_type": "stream",
     "text": [
      "273 "
     ]
    },
    {
     "name": "stderr",
     "output_type": "stream",
     "text": [
      "[I 2019-03-13 02:49:45,741] Finished a trial resulted in value: -0.8948304946654767. Current best value is -0.898146992489301 with parameters: {'max_leaves': 30, 'min_data_in_leaf': 24, 'max_depth': 23, 'learning_rate': 0.021753622697716312, 'bagging_fraction': 0.6302343947757979, 'feature_fraction': 0.06991204490408084, 'reg_alpha': 1.8996255069419958, 'reg_lambda': 0.8648228563435989, 'colsample_bytree': 0.10116868959754927, 'min_gain_to_split': 0.02341929110948727, 'min_child_weight': 0.07726865228352352}.\n"
     ]
    },
    {
     "name": "stdout",
     "output_type": "stream",
     "text": [
      "274 "
     ]
    },
    {
     "name": "stderr",
     "output_type": "stream",
     "text": [
      "[I 2019-03-13 02:51:35,149] Finished a trial resulted in value: -0.8963618554903255. Current best value is -0.898146992489301 with parameters: {'max_leaves': 30, 'min_data_in_leaf': 24, 'max_depth': 23, 'learning_rate': 0.021753622697716312, 'bagging_fraction': 0.6302343947757979, 'feature_fraction': 0.06991204490408084, 'reg_alpha': 1.8996255069419958, 'reg_lambda': 0.8648228563435989, 'colsample_bytree': 0.10116868959754927, 'min_gain_to_split': 0.02341929110948727, 'min_child_weight': 0.07726865228352352}.\n"
     ]
    },
    {
     "name": "stdout",
     "output_type": "stream",
     "text": [
      "275 "
     ]
    },
    {
     "name": "stderr",
     "output_type": "stream",
     "text": [
      "[I 2019-03-13 02:52:08,608] Finished a trial resulted in value: -0.8892724385378407. Current best value is -0.898146992489301 with parameters: {'max_leaves': 30, 'min_data_in_leaf': 24, 'max_depth': 23, 'learning_rate': 0.021753622697716312, 'bagging_fraction': 0.6302343947757979, 'feature_fraction': 0.06991204490408084, 'reg_alpha': 1.8996255069419958, 'reg_lambda': 0.8648228563435989, 'colsample_bytree': 0.10116868959754927, 'min_gain_to_split': 0.02341929110948727, 'min_child_weight': 0.07726865228352352}.\n"
     ]
    },
    {
     "name": "stdout",
     "output_type": "stream",
     "text": [
      "276 "
     ]
    },
    {
     "name": "stderr",
     "output_type": "stream",
     "text": [
      "[I 2019-03-13 02:53:30,322] Finished a trial resulted in value: -0.8651911583148632. Current best value is -0.898146992489301 with parameters: {'max_leaves': 30, 'min_data_in_leaf': 24, 'max_depth': 23, 'learning_rate': 0.021753622697716312, 'bagging_fraction': 0.6302343947757979, 'feature_fraction': 0.06991204490408084, 'reg_alpha': 1.8996255069419958, 'reg_lambda': 0.8648228563435989, 'colsample_bytree': 0.10116868959754927, 'min_gain_to_split': 0.02341929110948727, 'min_child_weight': 0.07726865228352352}.\n"
     ]
    },
    {
     "name": "stdout",
     "output_type": "stream",
     "text": [
      "277 "
     ]
    },
    {
     "name": "stderr",
     "output_type": "stream",
     "text": [
      "[I 2019-03-13 02:54:31,579] Finished a trial resulted in value: -0.8927937589585531. Current best value is -0.898146992489301 with parameters: {'max_leaves': 30, 'min_data_in_leaf': 24, 'max_depth': 23, 'learning_rate': 0.021753622697716312, 'bagging_fraction': 0.6302343947757979, 'feature_fraction': 0.06991204490408084, 'reg_alpha': 1.8996255069419958, 'reg_lambda': 0.8648228563435989, 'colsample_bytree': 0.10116868959754927, 'min_gain_to_split': 0.02341929110948727, 'min_child_weight': 0.07726865228352352}.\n"
     ]
    },
    {
     "name": "stdout",
     "output_type": "stream",
     "text": [
      "278 "
     ]
    },
    {
     "name": "stderr",
     "output_type": "stream",
     "text": [
      "[I 2019-03-13 02:56:40,222] Finished a trial resulted in value: -0.8981643654777429. Current best value is -0.8981643654777429 with parameters: {'max_leaves': 21, 'min_data_in_leaf': 94, 'max_depth': 15, 'learning_rate': 0.024408532198114515, 'bagging_fraction': 0.833797181980702, 'feature_fraction': 0.02508564395144163, 'reg_alpha': 3.51908682867158, 'reg_lambda': 0.4462792664506686, 'colsample_bytree': 0.00033215976455701346, 'min_gain_to_split': 0.004128551748501138, 'min_child_weight': 0.019606606522120096}.\n"
     ]
    },
    {
     "name": "stdout",
     "output_type": "stream",
     "text": [
      "279 "
     ]
    },
    {
     "name": "stderr",
     "output_type": "stream",
     "text": [
      "[I 2019-03-13 02:57:36,586] Finished a trial resulted in value: -0.8920842034075719. Current best value is -0.8981643654777429 with parameters: {'max_leaves': 21, 'min_data_in_leaf': 94, 'max_depth': 15, 'learning_rate': 0.024408532198114515, 'bagging_fraction': 0.833797181980702, 'feature_fraction': 0.02508564395144163, 'reg_alpha': 3.51908682867158, 'reg_lambda': 0.4462792664506686, 'colsample_bytree': 0.00033215976455701346, 'min_gain_to_split': 0.004128551748501138, 'min_child_weight': 0.019606606522120096}.\n"
     ]
    },
    {
     "name": "stdout",
     "output_type": "stream",
     "text": [
      "280 "
     ]
    },
    {
     "name": "stderr",
     "output_type": "stream",
     "text": [
      "[I 2019-03-13 03:02:14,769] Finished a trial resulted in value: -0.8836574261676698. Current best value is -0.8981643654777429 with parameters: {'max_leaves': 21, 'min_data_in_leaf': 94, 'max_depth': 15, 'learning_rate': 0.024408532198114515, 'bagging_fraction': 0.833797181980702, 'feature_fraction': 0.02508564395144163, 'reg_alpha': 3.51908682867158, 'reg_lambda': 0.4462792664506686, 'colsample_bytree': 0.00033215976455701346, 'min_gain_to_split': 0.004128551748501138, 'min_child_weight': 0.019606606522120096}.\n"
     ]
    },
    {
     "name": "stdout",
     "output_type": "stream",
     "text": [
      "281 "
     ]
    },
    {
     "name": "stderr",
     "output_type": "stream",
     "text": [
      "[I 2019-03-13 03:04:17,136] Finished a trial resulted in value: -0.8805306765578309. Current best value is -0.8981643654777429 with parameters: {'max_leaves': 21, 'min_data_in_leaf': 94, 'max_depth': 15, 'learning_rate': 0.024408532198114515, 'bagging_fraction': 0.833797181980702, 'feature_fraction': 0.02508564395144163, 'reg_alpha': 3.51908682867158, 'reg_lambda': 0.4462792664506686, 'colsample_bytree': 0.00033215976455701346, 'min_gain_to_split': 0.004128551748501138, 'min_child_weight': 0.019606606522120096}.\n"
     ]
    },
    {
     "name": "stdout",
     "output_type": "stream",
     "text": [
      "282 "
     ]
    },
    {
     "name": "stderr",
     "output_type": "stream",
     "text": [
      "[I 2019-03-13 03:04:49,772] Finished a trial resulted in value: -0.8836784715041266. Current best value is -0.8981643654777429 with parameters: {'max_leaves': 21, 'min_data_in_leaf': 94, 'max_depth': 15, 'learning_rate': 0.024408532198114515, 'bagging_fraction': 0.833797181980702, 'feature_fraction': 0.02508564395144163, 'reg_alpha': 3.51908682867158, 'reg_lambda': 0.4462792664506686, 'colsample_bytree': 0.00033215976455701346, 'min_gain_to_split': 0.004128551748501138, 'min_child_weight': 0.019606606522120096}.\n"
     ]
    },
    {
     "name": "stdout",
     "output_type": "stream",
     "text": [
      "283 "
     ]
    },
    {
     "name": "stderr",
     "output_type": "stream",
     "text": [
      "[I 2019-03-13 03:05:24,952] Finished a trial resulted in value: -0.8858638219743302. Current best value is -0.8981643654777429 with parameters: {'max_leaves': 21, 'min_data_in_leaf': 94, 'max_depth': 15, 'learning_rate': 0.024408532198114515, 'bagging_fraction': 0.833797181980702, 'feature_fraction': 0.02508564395144163, 'reg_alpha': 3.51908682867158, 'reg_lambda': 0.4462792664506686, 'colsample_bytree': 0.00033215976455701346, 'min_gain_to_split': 0.004128551748501138, 'min_child_weight': 0.019606606522120096}.\n"
     ]
    },
    {
     "name": "stdout",
     "output_type": "stream",
     "text": [
      "284 "
     ]
    },
    {
     "name": "stderr",
     "output_type": "stream",
     "text": [
      "[I 2019-03-13 03:06:14,786] Finished a trial resulted in value: -0.8908546864679421. Current best value is -0.8981643654777429 with parameters: {'max_leaves': 21, 'min_data_in_leaf': 94, 'max_depth': 15, 'learning_rate': 0.024408532198114515, 'bagging_fraction': 0.833797181980702, 'feature_fraction': 0.02508564395144163, 'reg_alpha': 3.51908682867158, 'reg_lambda': 0.4462792664506686, 'colsample_bytree': 0.00033215976455701346, 'min_gain_to_split': 0.004128551748501138, 'min_child_weight': 0.019606606522120096}.\n"
     ]
    },
    {
     "name": "stdout",
     "output_type": "stream",
     "text": [
      "285 "
     ]
    },
    {
     "name": "stderr",
     "output_type": "stream",
     "text": [
      "[I 2019-03-13 03:07:26,287] Finished a trial resulted in value: -0.8966496508051727. Current best value is -0.8981643654777429 with parameters: {'max_leaves': 21, 'min_data_in_leaf': 94, 'max_depth': 15, 'learning_rate': 0.024408532198114515, 'bagging_fraction': 0.833797181980702, 'feature_fraction': 0.02508564395144163, 'reg_alpha': 3.51908682867158, 'reg_lambda': 0.4462792664506686, 'colsample_bytree': 0.00033215976455701346, 'min_gain_to_split': 0.004128551748501138, 'min_child_weight': 0.019606606522120096}.\n"
     ]
    },
    {
     "name": "stdout",
     "output_type": "stream",
     "text": [
      "286 "
     ]
    },
    {
     "name": "stderr",
     "output_type": "stream",
     "text": [
      "[I 2019-03-13 03:08:32,843] Finished a trial resulted in value: -0.8932190789771315. Current best value is -0.8981643654777429 with parameters: {'max_leaves': 21, 'min_data_in_leaf': 94, 'max_depth': 15, 'learning_rate': 0.024408532198114515, 'bagging_fraction': 0.833797181980702, 'feature_fraction': 0.02508564395144163, 'reg_alpha': 3.51908682867158, 'reg_lambda': 0.4462792664506686, 'colsample_bytree': 0.00033215976455701346, 'min_gain_to_split': 0.004128551748501138, 'min_child_weight': 0.019606606522120096}.\n"
     ]
    },
    {
     "name": "stdout",
     "output_type": "stream",
     "text": [
      "287 "
     ]
    },
    {
     "name": "stderr",
     "output_type": "stream",
     "text": [
      "[I 2019-03-13 03:09:55,108] Finished a trial resulted in value: -0.866017645984565. Current best value is -0.8981643654777429 with parameters: {'max_leaves': 21, 'min_data_in_leaf': 94, 'max_depth': 15, 'learning_rate': 0.024408532198114515, 'bagging_fraction': 0.833797181980702, 'feature_fraction': 0.02508564395144163, 'reg_alpha': 3.51908682867158, 'reg_lambda': 0.4462792664506686, 'colsample_bytree': 0.00033215976455701346, 'min_gain_to_split': 0.004128551748501138, 'min_child_weight': 0.019606606522120096}.\n"
     ]
    },
    {
     "name": "stdout",
     "output_type": "stream",
     "text": [
      "288 "
     ]
    },
    {
     "name": "stderr",
     "output_type": "stream",
     "text": [
      "[I 2019-03-13 03:11:28,542] Finished a trial resulted in value: -0.8970964249364061. Current best value is -0.8981643654777429 with parameters: {'max_leaves': 21, 'min_data_in_leaf': 94, 'max_depth': 15, 'learning_rate': 0.024408532198114515, 'bagging_fraction': 0.833797181980702, 'feature_fraction': 0.02508564395144163, 'reg_alpha': 3.51908682867158, 'reg_lambda': 0.4462792664506686, 'colsample_bytree': 0.00033215976455701346, 'min_gain_to_split': 0.004128551748501138, 'min_child_weight': 0.019606606522120096}.\n"
     ]
    },
    {
     "name": "stdout",
     "output_type": "stream",
     "text": [
      "289 "
     ]
    },
    {
     "name": "stderr",
     "output_type": "stream",
     "text": [
      "[I 2019-03-13 03:12:07,870] Finished a trial resulted in value: -0.8869777379453369. Current best value is -0.8981643654777429 with parameters: {'max_leaves': 21, 'min_data_in_leaf': 94, 'max_depth': 15, 'learning_rate': 0.024408532198114515, 'bagging_fraction': 0.833797181980702, 'feature_fraction': 0.02508564395144163, 'reg_alpha': 3.51908682867158, 'reg_lambda': 0.4462792664506686, 'colsample_bytree': 0.00033215976455701346, 'min_gain_to_split': 0.004128551748501138, 'min_child_weight': 0.019606606522120096}.\n"
     ]
    },
    {
     "name": "stdout",
     "output_type": "stream",
     "text": [
      "290 "
     ]
    },
    {
     "name": "stderr",
     "output_type": "stream",
     "text": [
      "[I 2019-03-13 03:15:02,281] Finished a trial resulted in value: -0.8977087080699708. Current best value is -0.8981643654777429 with parameters: {'max_leaves': 21, 'min_data_in_leaf': 94, 'max_depth': 15, 'learning_rate': 0.024408532198114515, 'bagging_fraction': 0.833797181980702, 'feature_fraction': 0.02508564395144163, 'reg_alpha': 3.51908682867158, 'reg_lambda': 0.4462792664506686, 'colsample_bytree': 0.00033215976455701346, 'min_gain_to_split': 0.004128551748501138, 'min_child_weight': 0.019606606522120096}.\n"
     ]
    },
    {
     "name": "stdout",
     "output_type": "stream",
     "text": [
      "291 "
     ]
    },
    {
     "name": "stderr",
     "output_type": "stream",
     "text": [
      "[I 2019-03-13 03:15:50,949] Finished a trial resulted in value: -0.8919306791813001. Current best value is -0.8981643654777429 with parameters: {'max_leaves': 21, 'min_data_in_leaf': 94, 'max_depth': 15, 'learning_rate': 0.024408532198114515, 'bagging_fraction': 0.833797181980702, 'feature_fraction': 0.02508564395144163, 'reg_alpha': 3.51908682867158, 'reg_lambda': 0.4462792664506686, 'colsample_bytree': 0.00033215976455701346, 'min_gain_to_split': 0.004128551748501138, 'min_child_weight': 0.019606606522120096}.\n"
     ]
    },
    {
     "name": "stdout",
     "output_type": "stream",
     "text": [
      "292 "
     ]
    },
    {
     "name": "stderr",
     "output_type": "stream",
     "text": [
      "[I 2019-03-13 03:16:35,180] Finished a trial resulted in value: -0.8921442401300121. Current best value is -0.8981643654777429 with parameters: {'max_leaves': 21, 'min_data_in_leaf': 94, 'max_depth': 15, 'learning_rate': 0.024408532198114515, 'bagging_fraction': 0.833797181980702, 'feature_fraction': 0.02508564395144163, 'reg_alpha': 3.51908682867158, 'reg_lambda': 0.4462792664506686, 'colsample_bytree': 0.00033215976455701346, 'min_gain_to_split': 0.004128551748501138, 'min_child_weight': 0.019606606522120096}.\n"
     ]
    },
    {
     "name": "stdout",
     "output_type": "stream",
     "text": [
      "293 "
     ]
    },
    {
     "name": "stderr",
     "output_type": "stream",
     "text": [
      "[I 2019-03-13 03:17:04,955] Finished a trial resulted in value: -0.8447633275364517. Current best value is -0.8981643654777429 with parameters: {'max_leaves': 21, 'min_data_in_leaf': 94, 'max_depth': 15, 'learning_rate': 0.024408532198114515, 'bagging_fraction': 0.833797181980702, 'feature_fraction': 0.02508564395144163, 'reg_alpha': 3.51908682867158, 'reg_lambda': 0.4462792664506686, 'colsample_bytree': 0.00033215976455701346, 'min_gain_to_split': 0.004128551748501138, 'min_child_weight': 0.019606606522120096}.\n"
     ]
    },
    {
     "name": "stdout",
     "output_type": "stream",
     "text": [
      "294 "
     ]
    },
    {
     "name": "stderr",
     "output_type": "stream",
     "text": [
      "[I 2019-03-13 03:18:53,894] Finished a trial resulted in value: -0.8714397458589586. Current best value is -0.8981643654777429 with parameters: {'max_leaves': 21, 'min_data_in_leaf': 94, 'max_depth': 15, 'learning_rate': 0.024408532198114515, 'bagging_fraction': 0.833797181980702, 'feature_fraction': 0.02508564395144163, 'reg_alpha': 3.51908682867158, 'reg_lambda': 0.4462792664506686, 'colsample_bytree': 0.00033215976455701346, 'min_gain_to_split': 0.004128551748501138, 'min_child_weight': 0.019606606522120096}.\n"
     ]
    },
    {
     "name": "stdout",
     "output_type": "stream",
     "text": [
      "295 "
     ]
    },
    {
     "name": "stderr",
     "output_type": "stream",
     "text": [
      "[I 2019-03-13 03:19:25,174] Finished a trial resulted in value: -0.8760802377075966. Current best value is -0.8981643654777429 with parameters: {'max_leaves': 21, 'min_data_in_leaf': 94, 'max_depth': 15, 'learning_rate': 0.024408532198114515, 'bagging_fraction': 0.833797181980702, 'feature_fraction': 0.02508564395144163, 'reg_alpha': 3.51908682867158, 'reg_lambda': 0.4462792664506686, 'colsample_bytree': 0.00033215976455701346, 'min_gain_to_split': 0.004128551748501138, 'min_child_weight': 0.019606606522120096}.\n"
     ]
    },
    {
     "name": "stdout",
     "output_type": "stream",
     "text": [
      "296 "
     ]
    },
    {
     "name": "stderr",
     "output_type": "stream",
     "text": [
      "[I 2019-03-13 03:20:17,876] Finished a trial resulted in value: -0.8928914697455735. Current best value is -0.8981643654777429 with parameters: {'max_leaves': 21, 'min_data_in_leaf': 94, 'max_depth': 15, 'learning_rate': 0.024408532198114515, 'bagging_fraction': 0.833797181980702, 'feature_fraction': 0.02508564395144163, 'reg_alpha': 3.51908682867158, 'reg_lambda': 0.4462792664506686, 'colsample_bytree': 0.00033215976455701346, 'min_gain_to_split': 0.004128551748501138, 'min_child_weight': 0.019606606522120096}.\n"
     ]
    },
    {
     "name": "stdout",
     "output_type": "stream",
     "text": [
      "297 "
     ]
    },
    {
     "name": "stderr",
     "output_type": "stream",
     "text": [
      "[I 2019-03-13 03:21:36,962] Finished a trial resulted in value: -0.89621599844523. Current best value is -0.8981643654777429 with parameters: {'max_leaves': 21, 'min_data_in_leaf': 94, 'max_depth': 15, 'learning_rate': 0.024408532198114515, 'bagging_fraction': 0.833797181980702, 'feature_fraction': 0.02508564395144163, 'reg_alpha': 3.51908682867158, 'reg_lambda': 0.4462792664506686, 'colsample_bytree': 0.00033215976455701346, 'min_gain_to_split': 0.004128551748501138, 'min_child_weight': 0.019606606522120096}.\n"
     ]
    },
    {
     "name": "stdout",
     "output_type": "stream",
     "text": [
      "298 "
     ]
    },
    {
     "name": "stderr",
     "output_type": "stream",
     "text": [
      "[I 2019-03-13 03:22:11,335] Finished a trial resulted in value: -0.8823632747413739. Current best value is -0.8981643654777429 with parameters: {'max_leaves': 21, 'min_data_in_leaf': 94, 'max_depth': 15, 'learning_rate': 0.024408532198114515, 'bagging_fraction': 0.833797181980702, 'feature_fraction': 0.02508564395144163, 'reg_alpha': 3.51908682867158, 'reg_lambda': 0.4462792664506686, 'colsample_bytree': 0.00033215976455701346, 'min_gain_to_split': 0.004128551748501138, 'min_child_weight': 0.019606606522120096}.\n"
     ]
    },
    {
     "name": "stdout",
     "output_type": "stream",
     "text": [
      "299 "
     ]
    },
    {
     "name": "stderr",
     "output_type": "stream",
     "text": [
      "[I 2019-03-13 03:26:59,050] Finished a trial resulted in value: -0.896936983411914. Current best value is -0.8981643654777429 with parameters: {'max_leaves': 21, 'min_data_in_leaf': 94, 'max_depth': 15, 'learning_rate': 0.024408532198114515, 'bagging_fraction': 0.833797181980702, 'feature_fraction': 0.02508564395144163, 'reg_alpha': 3.51908682867158, 'reg_lambda': 0.4462792664506686, 'colsample_bytree': 0.00033215976455701346, 'min_gain_to_split': 0.004128551748501138, 'min_child_weight': 0.019606606522120096}.\n"
     ]
    },
    {
     "name": "stdout",
     "output_type": "stream",
     "text": [
      "300 "
     ]
    },
    {
     "name": "stderr",
     "output_type": "stream",
     "text": [
      "[I 2019-03-13 03:27:36,744] Finished a trial resulted in value: -0.889642373806686. Current best value is -0.8981643654777429 with parameters: {'max_leaves': 21, 'min_data_in_leaf': 94, 'max_depth': 15, 'learning_rate': 0.024408532198114515, 'bagging_fraction': 0.833797181980702, 'feature_fraction': 0.02508564395144163, 'reg_alpha': 3.51908682867158, 'reg_lambda': 0.4462792664506686, 'colsample_bytree': 0.00033215976455701346, 'min_gain_to_split': 0.004128551748501138, 'min_child_weight': 0.019606606522120096}.\n"
     ]
    },
    {
     "name": "stdout",
     "output_type": "stream",
     "text": [
      "301 "
     ]
    },
    {
     "name": "stderr",
     "output_type": "stream",
     "text": [
      "[I 2019-03-13 03:28:11,249] Finished a trial resulted in value: -0.8867486296723824. Current best value is -0.8981643654777429 with parameters: {'max_leaves': 21, 'min_data_in_leaf': 94, 'max_depth': 15, 'learning_rate': 0.024408532198114515, 'bagging_fraction': 0.833797181980702, 'feature_fraction': 0.02508564395144163, 'reg_alpha': 3.51908682867158, 'reg_lambda': 0.4462792664506686, 'colsample_bytree': 0.00033215976455701346, 'min_gain_to_split': 0.004128551748501138, 'min_child_weight': 0.019606606522120096}.\n"
     ]
    },
    {
     "name": "stdout",
     "output_type": "stream",
     "text": [
      "302 "
     ]
    },
    {
     "name": "stderr",
     "output_type": "stream",
     "text": [
      "[I 2019-03-13 03:32:51,148] Finished a trial resulted in value: -0.8567821011636261. Current best value is -0.8981643654777429 with parameters: {'max_leaves': 21, 'min_data_in_leaf': 94, 'max_depth': 15, 'learning_rate': 0.024408532198114515, 'bagging_fraction': 0.833797181980702, 'feature_fraction': 0.02508564395144163, 'reg_alpha': 3.51908682867158, 'reg_lambda': 0.4462792664506686, 'colsample_bytree': 0.00033215976455701346, 'min_gain_to_split': 0.004128551748501138, 'min_child_weight': 0.019606606522120096}.\n"
     ]
    },
    {
     "name": "stdout",
     "output_type": "stream",
     "text": [
      "303 "
     ]
    },
    {
     "name": "stderr",
     "output_type": "stream",
     "text": [
      "[I 2019-03-13 03:33:39,507] Finished a trial resulted in value: -0.8912126975304084. Current best value is -0.8981643654777429 with parameters: {'max_leaves': 21, 'min_data_in_leaf': 94, 'max_depth': 15, 'learning_rate': 0.024408532198114515, 'bagging_fraction': 0.833797181980702, 'feature_fraction': 0.02508564395144163, 'reg_alpha': 3.51908682867158, 'reg_lambda': 0.4462792664506686, 'colsample_bytree': 0.00033215976455701346, 'min_gain_to_split': 0.004128551748501138, 'min_child_weight': 0.019606606522120096}.\n"
     ]
    },
    {
     "name": "stdout",
     "output_type": "stream",
     "text": [
      "304 "
     ]
    },
    {
     "name": "stderr",
     "output_type": "stream",
     "text": [
      "[I 2019-03-13 03:34:01,919] Finished a trial resulted in value: -0.8649841546563362. Current best value is -0.8981643654777429 with parameters: {'max_leaves': 21, 'min_data_in_leaf': 94, 'max_depth': 15, 'learning_rate': 0.024408532198114515, 'bagging_fraction': 0.833797181980702, 'feature_fraction': 0.02508564395144163, 'reg_alpha': 3.51908682867158, 'reg_lambda': 0.4462792664506686, 'colsample_bytree': 0.00033215976455701346, 'min_gain_to_split': 0.004128551748501138, 'min_child_weight': 0.019606606522120096}.\n"
     ]
    },
    {
     "name": "stdout",
     "output_type": "stream",
     "text": [
      "305 "
     ]
    },
    {
     "name": "stderr",
     "output_type": "stream",
     "text": [
      "[I 2019-03-13 03:34:35,753] Finished a trial resulted in value: -0.8810203663818696. Current best value is -0.8981643654777429 with parameters: {'max_leaves': 21, 'min_data_in_leaf': 94, 'max_depth': 15, 'learning_rate': 0.024408532198114515, 'bagging_fraction': 0.833797181980702, 'feature_fraction': 0.02508564395144163, 'reg_alpha': 3.51908682867158, 'reg_lambda': 0.4462792664506686, 'colsample_bytree': 0.00033215976455701346, 'min_gain_to_split': 0.004128551748501138, 'min_child_weight': 0.019606606522120096}.\n"
     ]
    },
    {
     "name": "stdout",
     "output_type": "stream",
     "text": [
      "306 "
     ]
    },
    {
     "name": "stderr",
     "output_type": "stream",
     "text": [
      "[I 2019-03-13 03:36:00,085] Finished a trial resulted in value: -0.8940168956152827. Current best value is -0.8981643654777429 with parameters: {'max_leaves': 21, 'min_data_in_leaf': 94, 'max_depth': 15, 'learning_rate': 0.024408532198114515, 'bagging_fraction': 0.833797181980702, 'feature_fraction': 0.02508564395144163, 'reg_alpha': 3.51908682867158, 'reg_lambda': 0.4462792664506686, 'colsample_bytree': 0.00033215976455701346, 'min_gain_to_split': 0.004128551748501138, 'min_child_weight': 0.019606606522120096}.\n"
     ]
    },
    {
     "name": "stdout",
     "output_type": "stream",
     "text": [
      "307 "
     ]
    },
    {
     "name": "stderr",
     "output_type": "stream",
     "text": [
      "[I 2019-03-13 03:36:54,268] Finished a trial resulted in value: -0.8921757842110563. Current best value is -0.8981643654777429 with parameters: {'max_leaves': 21, 'min_data_in_leaf': 94, 'max_depth': 15, 'learning_rate': 0.024408532198114515, 'bagging_fraction': 0.833797181980702, 'feature_fraction': 0.02508564395144163, 'reg_alpha': 3.51908682867158, 'reg_lambda': 0.4462792664506686, 'colsample_bytree': 0.00033215976455701346, 'min_gain_to_split': 0.004128551748501138, 'min_child_weight': 0.019606606522120096}.\n"
     ]
    },
    {
     "name": "stdout",
     "output_type": "stream",
     "text": [
      "308 "
     ]
    },
    {
     "name": "stderr",
     "output_type": "stream",
     "text": [
      "[I 2019-03-13 03:37:47,459] Finished a trial resulted in value: -0.8507363371403945. Current best value is -0.8981643654777429 with parameters: {'max_leaves': 21, 'min_data_in_leaf': 94, 'max_depth': 15, 'learning_rate': 0.024408532198114515, 'bagging_fraction': 0.833797181980702, 'feature_fraction': 0.02508564395144163, 'reg_alpha': 3.51908682867158, 'reg_lambda': 0.4462792664506686, 'colsample_bytree': 0.00033215976455701346, 'min_gain_to_split': 0.004128551748501138, 'min_child_weight': 0.019606606522120096}.\n"
     ]
    },
    {
     "name": "stdout",
     "output_type": "stream",
     "text": [
      "309 "
     ]
    },
    {
     "name": "stderr",
     "output_type": "stream",
     "text": [
      "[I 2019-03-13 03:40:21,758] Finished a trial resulted in value: -0.8971672129153887. Current best value is -0.8981643654777429 with parameters: {'max_leaves': 21, 'min_data_in_leaf': 94, 'max_depth': 15, 'learning_rate': 0.024408532198114515, 'bagging_fraction': 0.833797181980702, 'feature_fraction': 0.02508564395144163, 'reg_alpha': 3.51908682867158, 'reg_lambda': 0.4462792664506686, 'colsample_bytree': 0.00033215976455701346, 'min_gain_to_split': 0.004128551748501138, 'min_child_weight': 0.019606606522120096}.\n"
     ]
    },
    {
     "name": "stdout",
     "output_type": "stream",
     "text": [
      "310 "
     ]
    },
    {
     "name": "stderr",
     "output_type": "stream",
     "text": [
      "[I 2019-03-13 03:41:37,840] Finished a trial resulted in value: -0.8936578374440965. Current best value is -0.8981643654777429 with parameters: {'max_leaves': 21, 'min_data_in_leaf': 94, 'max_depth': 15, 'learning_rate': 0.024408532198114515, 'bagging_fraction': 0.833797181980702, 'feature_fraction': 0.02508564395144163, 'reg_alpha': 3.51908682867158, 'reg_lambda': 0.4462792664506686, 'colsample_bytree': 0.00033215976455701346, 'min_gain_to_split': 0.004128551748501138, 'min_child_weight': 0.019606606522120096}.\n"
     ]
    },
    {
     "name": "stdout",
     "output_type": "stream",
     "text": [
      "311 "
     ]
    },
    {
     "name": "stderr",
     "output_type": "stream",
     "text": [
      "[I 2019-03-13 03:42:16,449] Finished a trial resulted in value: -0.8896918680858653. Current best value is -0.8981643654777429 with parameters: {'max_leaves': 21, 'min_data_in_leaf': 94, 'max_depth': 15, 'learning_rate': 0.024408532198114515, 'bagging_fraction': 0.833797181980702, 'feature_fraction': 0.02508564395144163, 'reg_alpha': 3.51908682867158, 'reg_lambda': 0.4462792664506686, 'colsample_bytree': 0.00033215976455701346, 'min_gain_to_split': 0.004128551748501138, 'min_child_weight': 0.019606606522120096}.\n"
     ]
    },
    {
     "name": "stdout",
     "output_type": "stream",
     "text": [
      "312 "
     ]
    },
    {
     "name": "stderr",
     "output_type": "stream",
     "text": [
      "[I 2019-03-13 03:43:53,974] Finished a trial resulted in value: -0.8963415228847645. Current best value is -0.8981643654777429 with parameters: {'max_leaves': 21, 'min_data_in_leaf': 94, 'max_depth': 15, 'learning_rate': 0.024408532198114515, 'bagging_fraction': 0.833797181980702, 'feature_fraction': 0.02508564395144163, 'reg_alpha': 3.51908682867158, 'reg_lambda': 0.4462792664506686, 'colsample_bytree': 0.00033215976455701346, 'min_gain_to_split': 0.004128551748501138, 'min_child_weight': 0.019606606522120096}.\n"
     ]
    },
    {
     "name": "stdout",
     "output_type": "stream",
     "text": [
      "313 "
     ]
    },
    {
     "name": "stderr",
     "output_type": "stream",
     "text": [
      "[I 2019-03-13 03:44:30,453] Finished a trial resulted in value: -0.8842202451686085. Current best value is -0.8981643654777429 with parameters: {'max_leaves': 21, 'min_data_in_leaf': 94, 'max_depth': 15, 'learning_rate': 0.024408532198114515, 'bagging_fraction': 0.833797181980702, 'feature_fraction': 0.02508564395144163, 'reg_alpha': 3.51908682867158, 'reg_lambda': 0.4462792664506686, 'colsample_bytree': 0.00033215976455701346, 'min_gain_to_split': 0.004128551748501138, 'min_child_weight': 0.019606606522120096}.\n"
     ]
    },
    {
     "name": "stdout",
     "output_type": "stream",
     "text": [
      "314 "
     ]
    },
    {
     "name": "stderr",
     "output_type": "stream",
     "text": [
      "[I 2019-03-13 03:44:55,613] Finished a trial resulted in value: -0.8734177165301547. Current best value is -0.8981643654777429 with parameters: {'max_leaves': 21, 'min_data_in_leaf': 94, 'max_depth': 15, 'learning_rate': 0.024408532198114515, 'bagging_fraction': 0.833797181980702, 'feature_fraction': 0.02508564395144163, 'reg_alpha': 3.51908682867158, 'reg_lambda': 0.4462792664506686, 'colsample_bytree': 0.00033215976455701346, 'min_gain_to_split': 0.004128551748501138, 'min_child_weight': 0.019606606522120096}.\n"
     ]
    },
    {
     "name": "stdout",
     "output_type": "stream",
     "text": [
      "315 "
     ]
    },
    {
     "name": "stderr",
     "output_type": "stream",
     "text": [
      "[I 2019-03-13 03:45:18,214] Finished a trial resulted in value: -0.8552476977494936. Current best value is -0.8981643654777429 with parameters: {'max_leaves': 21, 'min_data_in_leaf': 94, 'max_depth': 15, 'learning_rate': 0.024408532198114515, 'bagging_fraction': 0.833797181980702, 'feature_fraction': 0.02508564395144163, 'reg_alpha': 3.51908682867158, 'reg_lambda': 0.4462792664506686, 'colsample_bytree': 0.00033215976455701346, 'min_gain_to_split': 0.004128551748501138, 'min_child_weight': 0.019606606522120096}.\n"
     ]
    },
    {
     "name": "stdout",
     "output_type": "stream",
     "text": [
      "316 "
     ]
    },
    {
     "name": "stderr",
     "output_type": "stream",
     "text": [
      "[I 2019-03-13 03:46:01,455] Finished a trial resulted in value: -0.886182148003515. Current best value is -0.8981643654777429 with parameters: {'max_leaves': 21, 'min_data_in_leaf': 94, 'max_depth': 15, 'learning_rate': 0.024408532198114515, 'bagging_fraction': 0.833797181980702, 'feature_fraction': 0.02508564395144163, 'reg_alpha': 3.51908682867158, 'reg_lambda': 0.4462792664506686, 'colsample_bytree': 0.00033215976455701346, 'min_gain_to_split': 0.004128551748501138, 'min_child_weight': 0.019606606522120096}.\n"
     ]
    },
    {
     "name": "stdout",
     "output_type": "stream",
     "text": [
      "317 "
     ]
    },
    {
     "name": "stderr",
     "output_type": "stream",
     "text": [
      "[I 2019-03-13 03:48:01,796] Finished a trial resulted in value: -0.8885891339969363. Current best value is -0.8981643654777429 with parameters: {'max_leaves': 21, 'min_data_in_leaf': 94, 'max_depth': 15, 'learning_rate': 0.024408532198114515, 'bagging_fraction': 0.833797181980702, 'feature_fraction': 0.02508564395144163, 'reg_alpha': 3.51908682867158, 'reg_lambda': 0.4462792664506686, 'colsample_bytree': 0.00033215976455701346, 'min_gain_to_split': 0.004128551748501138, 'min_child_weight': 0.019606606522120096}.\n"
     ]
    },
    {
     "name": "stdout",
     "output_type": "stream",
     "text": [
      "318 "
     ]
    },
    {
     "name": "stderr",
     "output_type": "stream",
     "text": [
      "[I 2019-03-13 03:48:49,829] Finished a trial resulted in value: -0.8910471758056788. Current best value is -0.8981643654777429 with parameters: {'max_leaves': 21, 'min_data_in_leaf': 94, 'max_depth': 15, 'learning_rate': 0.024408532198114515, 'bagging_fraction': 0.833797181980702, 'feature_fraction': 0.02508564395144163, 'reg_alpha': 3.51908682867158, 'reg_lambda': 0.4462792664506686, 'colsample_bytree': 0.00033215976455701346, 'min_gain_to_split': 0.004128551748501138, 'min_child_weight': 0.019606606522120096}.\n"
     ]
    },
    {
     "name": "stdout",
     "output_type": "stream",
     "text": [
      "319 "
     ]
    },
    {
     "name": "stderr",
     "output_type": "stream",
     "text": [
      "[I 2019-03-13 03:50:51,200] Finished a trial resulted in value: -0.8523991532551187. Current best value is -0.8981643654777429 with parameters: {'max_leaves': 21, 'min_data_in_leaf': 94, 'max_depth': 15, 'learning_rate': 0.024408532198114515, 'bagging_fraction': 0.833797181980702, 'feature_fraction': 0.02508564395144163, 'reg_alpha': 3.51908682867158, 'reg_lambda': 0.4462792664506686, 'colsample_bytree': 0.00033215976455701346, 'min_gain_to_split': 0.004128551748501138, 'min_child_weight': 0.019606606522120096}.\n"
     ]
    },
    {
     "name": "stdout",
     "output_type": "stream",
     "text": [
      "320 "
     ]
    },
    {
     "name": "stderr",
     "output_type": "stream",
     "text": [
      "[I 2019-03-13 03:51:30,955] Finished a trial resulted in value: -0.8853907202220541. Current best value is -0.8981643654777429 with parameters: {'max_leaves': 21, 'min_data_in_leaf': 94, 'max_depth': 15, 'learning_rate': 0.024408532198114515, 'bagging_fraction': 0.833797181980702, 'feature_fraction': 0.02508564395144163, 'reg_alpha': 3.51908682867158, 'reg_lambda': 0.4462792664506686, 'colsample_bytree': 0.00033215976455701346, 'min_gain_to_split': 0.004128551748501138, 'min_child_weight': 0.019606606522120096}.\n"
     ]
    },
    {
     "name": "stdout",
     "output_type": "stream",
     "text": [
      "321 "
     ]
    },
    {
     "name": "stderr",
     "output_type": "stream",
     "text": [
      "[I 2019-03-13 03:52:33,167] Finished a trial resulted in value: -0.8916578570233148. Current best value is -0.8981643654777429 with parameters: {'max_leaves': 21, 'min_data_in_leaf': 94, 'max_depth': 15, 'learning_rate': 0.024408532198114515, 'bagging_fraction': 0.833797181980702, 'feature_fraction': 0.02508564395144163, 'reg_alpha': 3.51908682867158, 'reg_lambda': 0.4462792664506686, 'colsample_bytree': 0.00033215976455701346, 'min_gain_to_split': 0.004128551748501138, 'min_child_weight': 0.019606606522120096}.\n"
     ]
    },
    {
     "name": "stdout",
     "output_type": "stream",
     "text": [
      "322 "
     ]
    },
    {
     "name": "stderr",
     "output_type": "stream",
     "text": [
      "[I 2019-03-13 03:53:28,044] Finished a trial resulted in value: -0.8587327737160253. Current best value is -0.8981643654777429 with parameters: {'max_leaves': 21, 'min_data_in_leaf': 94, 'max_depth': 15, 'learning_rate': 0.024408532198114515, 'bagging_fraction': 0.833797181980702, 'feature_fraction': 0.02508564395144163, 'reg_alpha': 3.51908682867158, 'reg_lambda': 0.4462792664506686, 'colsample_bytree': 0.00033215976455701346, 'min_gain_to_split': 0.004128551748501138, 'min_child_weight': 0.019606606522120096}.\n"
     ]
    },
    {
     "name": "stdout",
     "output_type": "stream",
     "text": [
      "323 "
     ]
    },
    {
     "name": "stderr",
     "output_type": "stream",
     "text": [
      "[I 2019-03-13 03:56:22,613] Finished a trial resulted in value: -0.8967575060456369. Current best value is -0.8981643654777429 with parameters: {'max_leaves': 21, 'min_data_in_leaf': 94, 'max_depth': 15, 'learning_rate': 0.024408532198114515, 'bagging_fraction': 0.833797181980702, 'feature_fraction': 0.02508564395144163, 'reg_alpha': 3.51908682867158, 'reg_lambda': 0.4462792664506686, 'colsample_bytree': 0.00033215976455701346, 'min_gain_to_split': 0.004128551748501138, 'min_child_weight': 0.019606606522120096}.\n"
     ]
    },
    {
     "name": "stdout",
     "output_type": "stream",
     "text": [
      "324 "
     ]
    },
    {
     "name": "stderr",
     "output_type": "stream",
     "text": [
      "[I 2019-03-13 03:58:09,527] Finished a trial resulted in value: -0.861005699646744. Current best value is -0.8981643654777429 with parameters: {'max_leaves': 21, 'min_data_in_leaf': 94, 'max_depth': 15, 'learning_rate': 0.024408532198114515, 'bagging_fraction': 0.833797181980702, 'feature_fraction': 0.02508564395144163, 'reg_alpha': 3.51908682867158, 'reg_lambda': 0.4462792664506686, 'colsample_bytree': 0.00033215976455701346, 'min_gain_to_split': 0.004128551748501138, 'min_child_weight': 0.019606606522120096}.\n"
     ]
    },
    {
     "name": "stdout",
     "output_type": "stream",
     "text": [
      "325 "
     ]
    },
    {
     "name": "stderr",
     "output_type": "stream",
     "text": [
      "[I 2019-03-13 03:58:38,160] Finished a trial resulted in value: -0.8775042156801729. Current best value is -0.8981643654777429 with parameters: {'max_leaves': 21, 'min_data_in_leaf': 94, 'max_depth': 15, 'learning_rate': 0.024408532198114515, 'bagging_fraction': 0.833797181980702, 'feature_fraction': 0.02508564395144163, 'reg_alpha': 3.51908682867158, 'reg_lambda': 0.4462792664506686, 'colsample_bytree': 0.00033215976455701346, 'min_gain_to_split': 0.004128551748501138, 'min_child_weight': 0.019606606522120096}.\n"
     ]
    },
    {
     "name": "stdout",
     "output_type": "stream",
     "text": [
      "326 "
     ]
    },
    {
     "name": "stderr",
     "output_type": "stream",
     "text": [
      "[I 2019-03-13 03:59:01,983] Finished a trial resulted in value: -0.8636442637178923. Current best value is -0.8981643654777429 with parameters: {'max_leaves': 21, 'min_data_in_leaf': 94, 'max_depth': 15, 'learning_rate': 0.024408532198114515, 'bagging_fraction': 0.833797181980702, 'feature_fraction': 0.02508564395144163, 'reg_alpha': 3.51908682867158, 'reg_lambda': 0.4462792664506686, 'colsample_bytree': 0.00033215976455701346, 'min_gain_to_split': 0.004128551748501138, 'min_child_weight': 0.019606606522120096}.\n"
     ]
    },
    {
     "name": "stdout",
     "output_type": "stream",
     "text": [
      "327 "
     ]
    },
    {
     "name": "stderr",
     "output_type": "stream",
     "text": [
      "[I 2019-03-13 03:59:52,072] Finished a trial resulted in value: -0.8904136894119705. Current best value is -0.8981643654777429 with parameters: {'max_leaves': 21, 'min_data_in_leaf': 94, 'max_depth': 15, 'learning_rate': 0.024408532198114515, 'bagging_fraction': 0.833797181980702, 'feature_fraction': 0.02508564395144163, 'reg_alpha': 3.51908682867158, 'reg_lambda': 0.4462792664506686, 'colsample_bytree': 0.00033215976455701346, 'min_gain_to_split': 0.004128551748501138, 'min_child_weight': 0.019606606522120096}.\n"
     ]
    },
    {
     "name": "stdout",
     "output_type": "stream",
     "text": [
      "328 "
     ]
    },
    {
     "name": "stderr",
     "output_type": "stream",
     "text": [
      "[I 2019-03-13 04:01:23,041] Finished a trial resulted in value: -0.894842229418746. Current best value is -0.8981643654777429 with parameters: {'max_leaves': 21, 'min_data_in_leaf': 94, 'max_depth': 15, 'learning_rate': 0.024408532198114515, 'bagging_fraction': 0.833797181980702, 'feature_fraction': 0.02508564395144163, 'reg_alpha': 3.51908682867158, 'reg_lambda': 0.4462792664506686, 'colsample_bytree': 0.00033215976455701346, 'min_gain_to_split': 0.004128551748501138, 'min_child_weight': 0.019606606522120096}.\n"
     ]
    },
    {
     "name": "stdout",
     "output_type": "stream",
     "text": [
      "329 "
     ]
    },
    {
     "name": "stderr",
     "output_type": "stream",
     "text": [
      "[I 2019-03-13 04:01:51,701] Finished a trial resulted in value: -0.881023258791535. Current best value is -0.8981643654777429 with parameters: {'max_leaves': 21, 'min_data_in_leaf': 94, 'max_depth': 15, 'learning_rate': 0.024408532198114515, 'bagging_fraction': 0.833797181980702, 'feature_fraction': 0.02508564395144163, 'reg_alpha': 3.51908682867158, 'reg_lambda': 0.4462792664506686, 'colsample_bytree': 0.00033215976455701346, 'min_gain_to_split': 0.004128551748501138, 'min_child_weight': 0.019606606522120096}.\n"
     ]
    },
    {
     "name": "stdout",
     "output_type": "stream",
     "text": [
      "330 "
     ]
    },
    {
     "name": "stderr",
     "output_type": "stream",
     "text": [
      "[I 2019-03-13 04:02:52,557] Finished a trial resulted in value: -0.8936973357900071. Current best value is -0.8981643654777429 with parameters: {'max_leaves': 21, 'min_data_in_leaf': 94, 'max_depth': 15, 'learning_rate': 0.024408532198114515, 'bagging_fraction': 0.833797181980702, 'feature_fraction': 0.02508564395144163, 'reg_alpha': 3.51908682867158, 'reg_lambda': 0.4462792664506686, 'colsample_bytree': 0.00033215976455701346, 'min_gain_to_split': 0.004128551748501138, 'min_child_weight': 0.019606606522120096}.\n"
     ]
    },
    {
     "name": "stdout",
     "output_type": "stream",
     "text": [
      "331 "
     ]
    },
    {
     "name": "stderr",
     "output_type": "stream",
     "text": [
      "[I 2019-03-13 04:03:32,208] Finished a trial resulted in value: -0.8876936024231563. Current best value is -0.8981643654777429 with parameters: {'max_leaves': 21, 'min_data_in_leaf': 94, 'max_depth': 15, 'learning_rate': 0.024408532198114515, 'bagging_fraction': 0.833797181980702, 'feature_fraction': 0.02508564395144163, 'reg_alpha': 3.51908682867158, 'reg_lambda': 0.4462792664506686, 'colsample_bytree': 0.00033215976455701346, 'min_gain_to_split': 0.004128551748501138, 'min_child_weight': 0.019606606522120096}.\n"
     ]
    },
    {
     "name": "stdout",
     "output_type": "stream",
     "text": [
      "332 "
     ]
    },
    {
     "name": "stderr",
     "output_type": "stream",
     "text": [
      "[I 2019-03-13 04:04:08,027] Finished a trial resulted in value: -0.8858491245616295. Current best value is -0.8981643654777429 with parameters: {'max_leaves': 21, 'min_data_in_leaf': 94, 'max_depth': 15, 'learning_rate': 0.024408532198114515, 'bagging_fraction': 0.833797181980702, 'feature_fraction': 0.02508564395144163, 'reg_alpha': 3.51908682867158, 'reg_lambda': 0.4462792664506686, 'colsample_bytree': 0.00033215976455701346, 'min_gain_to_split': 0.004128551748501138, 'min_child_weight': 0.019606606522120096}.\n"
     ]
    },
    {
     "name": "stdout",
     "output_type": "stream",
     "text": [
      "333 "
     ]
    },
    {
     "name": "stderr",
     "output_type": "stream",
     "text": [
      "[I 2019-03-13 04:06:13,788] Finished a trial resulted in value: -0.896771214430133. Current best value is -0.8981643654777429 with parameters: {'max_leaves': 21, 'min_data_in_leaf': 94, 'max_depth': 15, 'learning_rate': 0.024408532198114515, 'bagging_fraction': 0.833797181980702, 'feature_fraction': 0.02508564395144163, 'reg_alpha': 3.51908682867158, 'reg_lambda': 0.4462792664506686, 'colsample_bytree': 0.00033215976455701346, 'min_gain_to_split': 0.004128551748501138, 'min_child_weight': 0.019606606522120096}.\n"
     ]
    },
    {
     "name": "stdout",
     "output_type": "stream",
     "text": [
      "334 "
     ]
    },
    {
     "name": "stderr",
     "output_type": "stream",
     "text": [
      "[I 2019-03-13 04:06:41,712] Finished a trial resulted in value: -0.8424573568348015. Current best value is -0.8981643654777429 with parameters: {'max_leaves': 21, 'min_data_in_leaf': 94, 'max_depth': 15, 'learning_rate': 0.024408532198114515, 'bagging_fraction': 0.833797181980702, 'feature_fraction': 0.02508564395144163, 'reg_alpha': 3.51908682867158, 'reg_lambda': 0.4462792664506686, 'colsample_bytree': 0.00033215976455701346, 'min_gain_to_split': 0.004128551748501138, 'min_child_weight': 0.019606606522120096}.\n"
     ]
    },
    {
     "name": "stdout",
     "output_type": "stream",
     "text": [
      "335 "
     ]
    },
    {
     "name": "stderr",
     "output_type": "stream",
     "text": [
      "[I 2019-03-13 04:08:13,739] Finished a trial resulted in value: -0.8676206452530857. Current best value is -0.8981643654777429 with parameters: {'max_leaves': 21, 'min_data_in_leaf': 94, 'max_depth': 15, 'learning_rate': 0.024408532198114515, 'bagging_fraction': 0.833797181980702, 'feature_fraction': 0.02508564395144163, 'reg_alpha': 3.51908682867158, 'reg_lambda': 0.4462792664506686, 'colsample_bytree': 0.00033215976455701346, 'min_gain_to_split': 0.004128551748501138, 'min_child_weight': 0.019606606522120096}.\n"
     ]
    },
    {
     "name": "stdout",
     "output_type": "stream",
     "text": [
      "336 "
     ]
    },
    {
     "name": "stderr",
     "output_type": "stream",
     "text": [
      "[I 2019-03-13 04:08:51,939] Finished a trial resulted in value: -0.8849201256120249. Current best value is -0.8981643654777429 with parameters: {'max_leaves': 21, 'min_data_in_leaf': 94, 'max_depth': 15, 'learning_rate': 0.024408532198114515, 'bagging_fraction': 0.833797181980702, 'feature_fraction': 0.02508564395144163, 'reg_alpha': 3.51908682867158, 'reg_lambda': 0.4462792664506686, 'colsample_bytree': 0.00033215976455701346, 'min_gain_to_split': 0.004128551748501138, 'min_child_weight': 0.019606606522120096}.\n"
     ]
    },
    {
     "name": "stdout",
     "output_type": "stream",
     "text": [
      "337 "
     ]
    },
    {
     "name": "stderr",
     "output_type": "stream",
     "text": [
      "[I 2019-03-13 04:09:36,464] Finished a trial resulted in value: -0.8901808158621769. Current best value is -0.8981643654777429 with parameters: {'max_leaves': 21, 'min_data_in_leaf': 94, 'max_depth': 15, 'learning_rate': 0.024408532198114515, 'bagging_fraction': 0.833797181980702, 'feature_fraction': 0.02508564395144163, 'reg_alpha': 3.51908682867158, 'reg_lambda': 0.4462792664506686, 'colsample_bytree': 0.00033215976455701346, 'min_gain_to_split': 0.004128551748501138, 'min_child_weight': 0.019606606522120096}.\n"
     ]
    },
    {
     "name": "stdout",
     "output_type": "stream",
     "text": [
      "338 "
     ]
    },
    {
     "name": "stderr",
     "output_type": "stream",
     "text": [
      "[I 2019-03-13 04:11:18,786] Finished a trial resulted in value: -0.896123744737489. Current best value is -0.8981643654777429 with parameters: {'max_leaves': 21, 'min_data_in_leaf': 94, 'max_depth': 15, 'learning_rate': 0.024408532198114515, 'bagging_fraction': 0.833797181980702, 'feature_fraction': 0.02508564395144163, 'reg_alpha': 3.51908682867158, 'reg_lambda': 0.4462792664506686, 'colsample_bytree': 0.00033215976455701346, 'min_gain_to_split': 0.004128551748501138, 'min_child_weight': 0.019606606522120096}.\n"
     ]
    },
    {
     "name": "stdout",
     "output_type": "stream",
     "text": [
      "339 "
     ]
    },
    {
     "name": "stderr",
     "output_type": "stream",
     "text": [
      "[I 2019-03-13 04:15:19,203] Finished a trial resulted in value: -0.8732258295703346. Current best value is -0.8981643654777429 with parameters: {'max_leaves': 21, 'min_data_in_leaf': 94, 'max_depth': 15, 'learning_rate': 0.024408532198114515, 'bagging_fraction': 0.833797181980702, 'feature_fraction': 0.02508564395144163, 'reg_alpha': 3.51908682867158, 'reg_lambda': 0.4462792664506686, 'colsample_bytree': 0.00033215976455701346, 'min_gain_to_split': 0.004128551748501138, 'min_child_weight': 0.019606606522120096}.\n"
     ]
    },
    {
     "name": "stdout",
     "output_type": "stream",
     "text": [
      "340 "
     ]
    },
    {
     "name": "stderr",
     "output_type": "stream",
     "text": [
      "[I 2019-03-13 04:15:49,527] Finished a trial resulted in value: -0.8734845851806454. Current best value is -0.8981643654777429 with parameters: {'max_leaves': 21, 'min_data_in_leaf': 94, 'max_depth': 15, 'learning_rate': 0.024408532198114515, 'bagging_fraction': 0.833797181980702, 'feature_fraction': 0.02508564395144163, 'reg_alpha': 3.51908682867158, 'reg_lambda': 0.4462792664506686, 'colsample_bytree': 0.00033215976455701346, 'min_gain_to_split': 0.004128551748501138, 'min_child_weight': 0.019606606522120096}.\n"
     ]
    },
    {
     "name": "stdout",
     "output_type": "stream",
     "text": [
      "341 "
     ]
    },
    {
     "name": "stderr",
     "output_type": "stream",
     "text": [
      "[I 2019-03-13 04:16:11,670] Finished a trial resulted in value: -0.8594561128795989. Current best value is -0.8981643654777429 with parameters: {'max_leaves': 21, 'min_data_in_leaf': 94, 'max_depth': 15, 'learning_rate': 0.024408532198114515, 'bagging_fraction': 0.833797181980702, 'feature_fraction': 0.02508564395144163, 'reg_alpha': 3.51908682867158, 'reg_lambda': 0.4462792664506686, 'colsample_bytree': 0.00033215976455701346, 'min_gain_to_split': 0.004128551748501138, 'min_child_weight': 0.019606606522120096}.\n"
     ]
    },
    {
     "name": "stdout",
     "output_type": "stream",
     "text": [
      "342 "
     ]
    },
    {
     "name": "stderr",
     "output_type": "stream",
     "text": [
      "[I 2019-03-13 04:17:15,536] Finished a trial resulted in value: -0.8920975461613952. Current best value is -0.8981643654777429 with parameters: {'max_leaves': 21, 'min_data_in_leaf': 94, 'max_depth': 15, 'learning_rate': 0.024408532198114515, 'bagging_fraction': 0.833797181980702, 'feature_fraction': 0.02508564395144163, 'reg_alpha': 3.51908682867158, 'reg_lambda': 0.4462792664506686, 'colsample_bytree': 0.00033215976455701346, 'min_gain_to_split': 0.004128551748501138, 'min_child_weight': 0.019606606522120096}.\n"
     ]
    },
    {
     "name": "stdout",
     "output_type": "stream",
     "text": [
      "343 "
     ]
    },
    {
     "name": "stderr",
     "output_type": "stream",
     "text": [
      "[I 2019-03-13 04:17:39,148] Finished a trial resulted in value: -0.8598867049495293. Current best value is -0.8981643654777429 with parameters: {'max_leaves': 21, 'min_data_in_leaf': 94, 'max_depth': 15, 'learning_rate': 0.024408532198114515, 'bagging_fraction': 0.833797181980702, 'feature_fraction': 0.02508564395144163, 'reg_alpha': 3.51908682867158, 'reg_lambda': 0.4462792664506686, 'colsample_bytree': 0.00033215976455701346, 'min_gain_to_split': 0.004128551748501138, 'min_child_weight': 0.019606606522120096}.\n"
     ]
    },
    {
     "name": "stdout",
     "output_type": "stream",
     "text": [
      "344 "
     ]
    },
    {
     "name": "stderr",
     "output_type": "stream",
     "text": [
      "[I 2019-03-13 04:18:25,120] Finished a trial resulted in value: -0.8930222941704224. Current best value is -0.8981643654777429 with parameters: {'max_leaves': 21, 'min_data_in_leaf': 94, 'max_depth': 15, 'learning_rate': 0.024408532198114515, 'bagging_fraction': 0.833797181980702, 'feature_fraction': 0.02508564395144163, 'reg_alpha': 3.51908682867158, 'reg_lambda': 0.4462792664506686, 'colsample_bytree': 0.00033215976455701346, 'min_gain_to_split': 0.004128551748501138, 'min_child_weight': 0.019606606522120096}.\n"
     ]
    },
    {
     "name": "stdout",
     "output_type": "stream",
     "text": [
      "345 "
     ]
    },
    {
     "name": "stderr",
     "output_type": "stream",
     "text": [
      "[I 2019-03-13 04:18:47,978] Finished a trial resulted in value: -0.8269117869006111. Current best value is -0.8981643654777429 with parameters: {'max_leaves': 21, 'min_data_in_leaf': 94, 'max_depth': 15, 'learning_rate': 0.024408532198114515, 'bagging_fraction': 0.833797181980702, 'feature_fraction': 0.02508564395144163, 'reg_alpha': 3.51908682867158, 'reg_lambda': 0.4462792664506686, 'colsample_bytree': 0.00033215976455701346, 'min_gain_to_split': 0.004128551748501138, 'min_child_weight': 0.019606606522120096}.\n"
     ]
    },
    {
     "name": "stdout",
     "output_type": "stream",
     "text": [
      "346 "
     ]
    },
    {
     "name": "stderr",
     "output_type": "stream",
     "text": [
      "[I 2019-03-13 04:19:14,451] Finished a trial resulted in value: -0.8645268173388004. Current best value is -0.8981643654777429 with parameters: {'max_leaves': 21, 'min_data_in_leaf': 94, 'max_depth': 15, 'learning_rate': 0.024408532198114515, 'bagging_fraction': 0.833797181980702, 'feature_fraction': 0.02508564395144163, 'reg_alpha': 3.51908682867158, 'reg_lambda': 0.4462792664506686, 'colsample_bytree': 0.00033215976455701346, 'min_gain_to_split': 0.004128551748501138, 'min_child_weight': 0.019606606522120096}.\n"
     ]
    },
    {
     "name": "stdout",
     "output_type": "stream",
     "text": [
      "347 "
     ]
    },
    {
     "name": "stderr",
     "output_type": "stream",
     "text": [
      "[I 2019-03-13 04:19:54,702] Finished a trial resulted in value: -0.887092172048749. Current best value is -0.8981643654777429 with parameters: {'max_leaves': 21, 'min_data_in_leaf': 94, 'max_depth': 15, 'learning_rate': 0.024408532198114515, 'bagging_fraction': 0.833797181980702, 'feature_fraction': 0.02508564395144163, 'reg_alpha': 3.51908682867158, 'reg_lambda': 0.4462792664506686, 'colsample_bytree': 0.00033215976455701346, 'min_gain_to_split': 0.004128551748501138, 'min_child_weight': 0.019606606522120096}.\n"
     ]
    },
    {
     "name": "stdout",
     "output_type": "stream",
     "text": [
      "348 "
     ]
    },
    {
     "name": "stderr",
     "output_type": "stream",
     "text": [
      "[I 2019-03-13 04:22:59,379] Finished a trial resulted in value: -0.8973551321462875. Current best value is -0.8981643654777429 with parameters: {'max_leaves': 21, 'min_data_in_leaf': 94, 'max_depth': 15, 'learning_rate': 0.024408532198114515, 'bagging_fraction': 0.833797181980702, 'feature_fraction': 0.02508564395144163, 'reg_alpha': 3.51908682867158, 'reg_lambda': 0.4462792664506686, 'colsample_bytree': 0.00033215976455701346, 'min_gain_to_split': 0.004128551748501138, 'min_child_weight': 0.019606606522120096}.\n"
     ]
    },
    {
     "name": "stdout",
     "output_type": "stream",
     "text": [
      "349 "
     ]
    },
    {
     "name": "stderr",
     "output_type": "stream",
     "text": [
      "[I 2019-03-13 04:23:28,699] Finished a trial resulted in value: -0.8796014876019689. Current best value is -0.8981643654777429 with parameters: {'max_leaves': 21, 'min_data_in_leaf': 94, 'max_depth': 15, 'learning_rate': 0.024408532198114515, 'bagging_fraction': 0.833797181980702, 'feature_fraction': 0.02508564395144163, 'reg_alpha': 3.51908682867158, 'reg_lambda': 0.4462792664506686, 'colsample_bytree': 0.00033215976455701346, 'min_gain_to_split': 0.004128551748501138, 'min_child_weight': 0.019606606522120096}.\n"
     ]
    },
    {
     "name": "stdout",
     "output_type": "stream",
     "text": [
      "350 "
     ]
    },
    {
     "name": "stderr",
     "output_type": "stream",
     "text": [
      "[I 2019-03-13 04:25:34,366] Finished a trial resulted in value: -0.8729358175158176. Current best value is -0.8981643654777429 with parameters: {'max_leaves': 21, 'min_data_in_leaf': 94, 'max_depth': 15, 'learning_rate': 0.024408532198114515, 'bagging_fraction': 0.833797181980702, 'feature_fraction': 0.02508564395144163, 'reg_alpha': 3.51908682867158, 'reg_lambda': 0.4462792664506686, 'colsample_bytree': 0.00033215976455701346, 'min_gain_to_split': 0.004128551748501138, 'min_child_weight': 0.019606606522120096}.\n"
     ]
    },
    {
     "name": "stdout",
     "output_type": "stream",
     "text": [
      "351 "
     ]
    },
    {
     "name": "stderr",
     "output_type": "stream",
     "text": [
      "[I 2019-03-13 04:26:29,940] Finished a trial resulted in value: -0.8907618760169753. Current best value is -0.8981643654777429 with parameters: {'max_leaves': 21, 'min_data_in_leaf': 94, 'max_depth': 15, 'learning_rate': 0.024408532198114515, 'bagging_fraction': 0.833797181980702, 'feature_fraction': 0.02508564395144163, 'reg_alpha': 3.51908682867158, 'reg_lambda': 0.4462792664506686, 'colsample_bytree': 0.00033215976455701346, 'min_gain_to_split': 0.004128551748501138, 'min_child_weight': 0.019606606522120096}.\n"
     ]
    },
    {
     "name": "stdout",
     "output_type": "stream",
     "text": [
      "352 "
     ]
    },
    {
     "name": "stderr",
     "output_type": "stream",
     "text": [
      "[I 2019-03-13 04:26:51,040] Finished a trial resulted in value: -0.8154586674332468. Current best value is -0.8981643654777429 with parameters: {'max_leaves': 21, 'min_data_in_leaf': 94, 'max_depth': 15, 'learning_rate': 0.024408532198114515, 'bagging_fraction': 0.833797181980702, 'feature_fraction': 0.02508564395144163, 'reg_alpha': 3.51908682867158, 'reg_lambda': 0.4462792664506686, 'colsample_bytree': 0.00033215976455701346, 'min_gain_to_split': 0.004128551748501138, 'min_child_weight': 0.019606606522120096}.\n"
     ]
    },
    {
     "name": "stdout",
     "output_type": "stream",
     "text": [
      "353 "
     ]
    },
    {
     "name": "stderr",
     "output_type": "stream",
     "text": [
      "[I 2019-03-13 04:32:33,255] Finished a trial resulted in value: -0.8645497829277247. Current best value is -0.8981643654777429 with parameters: {'max_leaves': 21, 'min_data_in_leaf': 94, 'max_depth': 15, 'learning_rate': 0.024408532198114515, 'bagging_fraction': 0.833797181980702, 'feature_fraction': 0.02508564395144163, 'reg_alpha': 3.51908682867158, 'reg_lambda': 0.4462792664506686, 'colsample_bytree': 0.00033215976455701346, 'min_gain_to_split': 0.004128551748501138, 'min_child_weight': 0.019606606522120096}.\n"
     ]
    },
    {
     "name": "stdout",
     "output_type": "stream",
     "text": [
      "354 "
     ]
    },
    {
     "name": "stderr",
     "output_type": "stream",
     "text": [
      "[I 2019-03-13 04:32:59,616] Finished a trial resulted in value: -0.8624269588980533. Current best value is -0.8981643654777429 with parameters: {'max_leaves': 21, 'min_data_in_leaf': 94, 'max_depth': 15, 'learning_rate': 0.024408532198114515, 'bagging_fraction': 0.833797181980702, 'feature_fraction': 0.02508564395144163, 'reg_alpha': 3.51908682867158, 'reg_lambda': 0.4462792664506686, 'colsample_bytree': 0.00033215976455701346, 'min_gain_to_split': 0.004128551748501138, 'min_child_weight': 0.019606606522120096}.\n"
     ]
    },
    {
     "name": "stdout",
     "output_type": "stream",
     "text": [
      "355 "
     ]
    },
    {
     "name": "stderr",
     "output_type": "stream",
     "text": [
      "[I 2019-03-13 04:35:05,395] Finished a trial resulted in value: -0.8952159592812619. Current best value is -0.8981643654777429 with parameters: {'max_leaves': 21, 'min_data_in_leaf': 94, 'max_depth': 15, 'learning_rate': 0.024408532198114515, 'bagging_fraction': 0.833797181980702, 'feature_fraction': 0.02508564395144163, 'reg_alpha': 3.51908682867158, 'reg_lambda': 0.4462792664506686, 'colsample_bytree': 0.00033215976455701346, 'min_gain_to_split': 0.004128551748501138, 'min_child_weight': 0.019606606522120096}.\n"
     ]
    },
    {
     "name": "stdout",
     "output_type": "stream",
     "text": [
      "356 "
     ]
    },
    {
     "name": "stderr",
     "output_type": "stream",
     "text": [
      "[I 2019-03-13 04:36:25,690] Finished a trial resulted in value: -0.8878027470510617. Current best value is -0.8981643654777429 with parameters: {'max_leaves': 21, 'min_data_in_leaf': 94, 'max_depth': 15, 'learning_rate': 0.024408532198114515, 'bagging_fraction': 0.833797181980702, 'feature_fraction': 0.02508564395144163, 'reg_alpha': 3.51908682867158, 'reg_lambda': 0.4462792664506686, 'colsample_bytree': 0.00033215976455701346, 'min_gain_to_split': 0.004128551748501138, 'min_child_weight': 0.019606606522120096}.\n"
     ]
    },
    {
     "name": "stdout",
     "output_type": "stream",
     "text": [
      "357 "
     ]
    },
    {
     "name": "stderr",
     "output_type": "stream",
     "text": [
      "[I 2019-03-13 04:37:01,005] Finished a trial resulted in value: -0.881319663298203. Current best value is -0.8981643654777429 with parameters: {'max_leaves': 21, 'min_data_in_leaf': 94, 'max_depth': 15, 'learning_rate': 0.024408532198114515, 'bagging_fraction': 0.833797181980702, 'feature_fraction': 0.02508564395144163, 'reg_alpha': 3.51908682867158, 'reg_lambda': 0.4462792664506686, 'colsample_bytree': 0.00033215976455701346, 'min_gain_to_split': 0.004128551748501138, 'min_child_weight': 0.019606606522120096}.\n"
     ]
    },
    {
     "name": "stdout",
     "output_type": "stream",
     "text": [
      "358 "
     ]
    },
    {
     "name": "stderr",
     "output_type": "stream",
     "text": [
      "[I 2019-03-13 04:37:34,070] Finished a trial resulted in value: -0.8811802775288149. Current best value is -0.8981643654777429 with parameters: {'max_leaves': 21, 'min_data_in_leaf': 94, 'max_depth': 15, 'learning_rate': 0.024408532198114515, 'bagging_fraction': 0.833797181980702, 'feature_fraction': 0.02508564395144163, 'reg_alpha': 3.51908682867158, 'reg_lambda': 0.4462792664506686, 'colsample_bytree': 0.00033215976455701346, 'min_gain_to_split': 0.004128551748501138, 'min_child_weight': 0.019606606522120096}.\n"
     ]
    },
    {
     "name": "stdout",
     "output_type": "stream",
     "text": [
      "359 "
     ]
    },
    {
     "name": "stderr",
     "output_type": "stream",
     "text": [
      "[I 2019-03-13 04:38:21,028] Finished a trial resulted in value: -0.8834345928029664. Current best value is -0.8981643654777429 with parameters: {'max_leaves': 21, 'min_data_in_leaf': 94, 'max_depth': 15, 'learning_rate': 0.024408532198114515, 'bagging_fraction': 0.833797181980702, 'feature_fraction': 0.02508564395144163, 'reg_alpha': 3.51908682867158, 'reg_lambda': 0.4462792664506686, 'colsample_bytree': 0.00033215976455701346, 'min_gain_to_split': 0.004128551748501138, 'min_child_weight': 0.019606606522120096}.\n"
     ]
    },
    {
     "name": "stdout",
     "output_type": "stream",
     "text": [
      "360 "
     ]
    },
    {
     "name": "stderr",
     "output_type": "stream",
     "text": [
      "[I 2019-03-13 04:43:47,453] Finished a trial resulted in value: -0.8852564070942489. Current best value is -0.8981643654777429 with parameters: {'max_leaves': 21, 'min_data_in_leaf': 94, 'max_depth': 15, 'learning_rate': 0.024408532198114515, 'bagging_fraction': 0.833797181980702, 'feature_fraction': 0.02508564395144163, 'reg_alpha': 3.51908682867158, 'reg_lambda': 0.4462792664506686, 'colsample_bytree': 0.00033215976455701346, 'min_gain_to_split': 0.004128551748501138, 'min_child_weight': 0.019606606522120096}.\n"
     ]
    },
    {
     "name": "stdout",
     "output_type": "stream",
     "text": [
      "361 "
     ]
    },
    {
     "name": "stderr",
     "output_type": "stream",
     "text": [
      "[I 2019-03-13 04:44:13,388] Finished a trial resulted in value: -0.8730446794852149. Current best value is -0.8981643654777429 with parameters: {'max_leaves': 21, 'min_data_in_leaf': 94, 'max_depth': 15, 'learning_rate': 0.024408532198114515, 'bagging_fraction': 0.833797181980702, 'feature_fraction': 0.02508564395144163, 'reg_alpha': 3.51908682867158, 'reg_lambda': 0.4462792664506686, 'colsample_bytree': 0.00033215976455701346, 'min_gain_to_split': 0.004128551748501138, 'min_child_weight': 0.019606606522120096}.\n"
     ]
    },
    {
     "name": "stdout",
     "output_type": "stream",
     "text": [
      "362 "
     ]
    },
    {
     "name": "stderr",
     "output_type": "stream",
     "text": [
      "[I 2019-03-13 04:44:43,188] Finished a trial resulted in value: -0.876162369917526. Current best value is -0.8981643654777429 with parameters: {'max_leaves': 21, 'min_data_in_leaf': 94, 'max_depth': 15, 'learning_rate': 0.024408532198114515, 'bagging_fraction': 0.833797181980702, 'feature_fraction': 0.02508564395144163, 'reg_alpha': 3.51908682867158, 'reg_lambda': 0.4462792664506686, 'colsample_bytree': 0.00033215976455701346, 'min_gain_to_split': 0.004128551748501138, 'min_child_weight': 0.019606606522120096}.\n"
     ]
    },
    {
     "name": "stdout",
     "output_type": "stream",
     "text": [
      "363 "
     ]
    },
    {
     "name": "stderr",
     "output_type": "stream",
     "text": [
      "[I 2019-03-13 04:46:05,944] Finished a trial resulted in value: -0.8926872735885297. Current best value is -0.8981643654777429 with parameters: {'max_leaves': 21, 'min_data_in_leaf': 94, 'max_depth': 15, 'learning_rate': 0.024408532198114515, 'bagging_fraction': 0.833797181980702, 'feature_fraction': 0.02508564395144163, 'reg_alpha': 3.51908682867158, 'reg_lambda': 0.4462792664506686, 'colsample_bytree': 0.00033215976455701346, 'min_gain_to_split': 0.004128551748501138, 'min_child_weight': 0.019606606522120096}.\n"
     ]
    },
    {
     "name": "stdout",
     "output_type": "stream",
     "text": [
      "364 "
     ]
    },
    {
     "name": "stderr",
     "output_type": "stream",
     "text": [
      "[I 2019-03-13 04:46:46,750] Finished a trial resulted in value: -0.889353352439817. Current best value is -0.8981643654777429 with parameters: {'max_leaves': 21, 'min_data_in_leaf': 94, 'max_depth': 15, 'learning_rate': 0.024408532198114515, 'bagging_fraction': 0.833797181980702, 'feature_fraction': 0.02508564395144163, 'reg_alpha': 3.51908682867158, 'reg_lambda': 0.4462792664506686, 'colsample_bytree': 0.00033215976455701346, 'min_gain_to_split': 0.004128551748501138, 'min_child_weight': 0.019606606522120096}.\n"
     ]
    },
    {
     "name": "stdout",
     "output_type": "stream",
     "text": [
      "365 "
     ]
    },
    {
     "name": "stderr",
     "output_type": "stream",
     "text": [
      "[I 2019-03-13 04:48:40,128] Finished a trial resulted in value: -0.8959106918549996. Current best value is -0.8981643654777429 with parameters: {'max_leaves': 21, 'min_data_in_leaf': 94, 'max_depth': 15, 'learning_rate': 0.024408532198114515, 'bagging_fraction': 0.833797181980702, 'feature_fraction': 0.02508564395144163, 'reg_alpha': 3.51908682867158, 'reg_lambda': 0.4462792664506686, 'colsample_bytree': 0.00033215976455701346, 'min_gain_to_split': 0.004128551748501138, 'min_child_weight': 0.019606606522120096}.\n"
     ]
    },
    {
     "name": "stdout",
     "output_type": "stream",
     "text": [
      "366 "
     ]
    },
    {
     "name": "stderr",
     "output_type": "stream",
     "text": [
      "[I 2019-03-13 04:49:07,052] Finished a trial resulted in value: -0.8765129737782659. Current best value is -0.8981643654777429 with parameters: {'max_leaves': 21, 'min_data_in_leaf': 94, 'max_depth': 15, 'learning_rate': 0.024408532198114515, 'bagging_fraction': 0.833797181980702, 'feature_fraction': 0.02508564395144163, 'reg_alpha': 3.51908682867158, 'reg_lambda': 0.4462792664506686, 'colsample_bytree': 0.00033215976455701346, 'min_gain_to_split': 0.004128551748501138, 'min_child_weight': 0.019606606522120096}.\n"
     ]
    },
    {
     "name": "stdout",
     "output_type": "stream",
     "text": [
      "367 "
     ]
    },
    {
     "name": "stderr",
     "output_type": "stream",
     "text": [
      "[I 2019-03-13 04:49:43,980] Finished a trial resulted in value: -0.888397242888508. Current best value is -0.8981643654777429 with parameters: {'max_leaves': 21, 'min_data_in_leaf': 94, 'max_depth': 15, 'learning_rate': 0.024408532198114515, 'bagging_fraction': 0.833797181980702, 'feature_fraction': 0.02508564395144163, 'reg_alpha': 3.51908682867158, 'reg_lambda': 0.4462792664506686, 'colsample_bytree': 0.00033215976455701346, 'min_gain_to_split': 0.004128551748501138, 'min_child_weight': 0.019606606522120096}.\n"
     ]
    },
    {
     "name": "stdout",
     "output_type": "stream",
     "text": [
      "368 "
     ]
    },
    {
     "name": "stderr",
     "output_type": "stream",
     "text": [
      "[I 2019-03-13 04:51:33,040] Finished a trial resulted in value: -0.8873578646851857. Current best value is -0.8981643654777429 with parameters: {'max_leaves': 21, 'min_data_in_leaf': 94, 'max_depth': 15, 'learning_rate': 0.024408532198114515, 'bagging_fraction': 0.833797181980702, 'feature_fraction': 0.02508564395144163, 'reg_alpha': 3.51908682867158, 'reg_lambda': 0.4462792664506686, 'colsample_bytree': 0.00033215976455701346, 'min_gain_to_split': 0.004128551748501138, 'min_child_weight': 0.019606606522120096}.\n"
     ]
    },
    {
     "name": "stdout",
     "output_type": "stream",
     "text": [
      "369 "
     ]
    },
    {
     "name": "stderr",
     "output_type": "stream",
     "text": [
      "[I 2019-03-13 04:52:15,527] Finished a trial resulted in value: -0.8878027760913194. Current best value is -0.8981643654777429 with parameters: {'max_leaves': 21, 'min_data_in_leaf': 94, 'max_depth': 15, 'learning_rate': 0.024408532198114515, 'bagging_fraction': 0.833797181980702, 'feature_fraction': 0.02508564395144163, 'reg_alpha': 3.51908682867158, 'reg_lambda': 0.4462792664506686, 'colsample_bytree': 0.00033215976455701346, 'min_gain_to_split': 0.004128551748501138, 'min_child_weight': 0.019606606522120096}.\n"
     ]
    },
    {
     "name": "stdout",
     "output_type": "stream",
     "text": [
      "370 "
     ]
    },
    {
     "name": "stderr",
     "output_type": "stream",
     "text": [
      "[I 2019-03-13 04:53:04,496] Finished a trial resulted in value: -0.8908512563986488. Current best value is -0.8981643654777429 with parameters: {'max_leaves': 21, 'min_data_in_leaf': 94, 'max_depth': 15, 'learning_rate': 0.024408532198114515, 'bagging_fraction': 0.833797181980702, 'feature_fraction': 0.02508564395144163, 'reg_alpha': 3.51908682867158, 'reg_lambda': 0.4462792664506686, 'colsample_bytree': 0.00033215976455701346, 'min_gain_to_split': 0.004128551748501138, 'min_child_weight': 0.019606606522120096}.\n"
     ]
    },
    {
     "name": "stdout",
     "output_type": "stream",
     "text": [
      "371 "
     ]
    },
    {
     "name": "stderr",
     "output_type": "stream",
     "text": [
      "[I 2019-03-13 04:53:51,178] Finished a trial resulted in value: -0.8418072699235055. Current best value is -0.8981643654777429 with parameters: {'max_leaves': 21, 'min_data_in_leaf': 94, 'max_depth': 15, 'learning_rate': 0.024408532198114515, 'bagging_fraction': 0.833797181980702, 'feature_fraction': 0.02508564395144163, 'reg_alpha': 3.51908682867158, 'reg_lambda': 0.4462792664506686, 'colsample_bytree': 0.00033215976455701346, 'min_gain_to_split': 0.004128551748501138, 'min_child_weight': 0.019606606522120096}.\n"
     ]
    },
    {
     "name": "stdout",
     "output_type": "stream",
     "text": [
      "372 "
     ]
    },
    {
     "name": "stderr",
     "output_type": "stream",
     "text": [
      "[I 2019-03-13 04:54:17,740] Finished a trial resulted in value: -0.8826605380099475. Current best value is -0.8981643654777429 with parameters: {'max_leaves': 21, 'min_data_in_leaf': 94, 'max_depth': 15, 'learning_rate': 0.024408532198114515, 'bagging_fraction': 0.833797181980702, 'feature_fraction': 0.02508564395144163, 'reg_alpha': 3.51908682867158, 'reg_lambda': 0.4462792664506686, 'colsample_bytree': 0.00033215976455701346, 'min_gain_to_split': 0.004128551748501138, 'min_child_weight': 0.019606606522120096}.\n"
     ]
    },
    {
     "name": "stdout",
     "output_type": "stream",
     "text": [
      "373 "
     ]
    },
    {
     "name": "stderr",
     "output_type": "stream",
     "text": [
      "[I 2019-03-13 04:54:54,665] Finished a trial resulted in value: -0.8820604357433248. Current best value is -0.8981643654777429 with parameters: {'max_leaves': 21, 'min_data_in_leaf': 94, 'max_depth': 15, 'learning_rate': 0.024408532198114515, 'bagging_fraction': 0.833797181980702, 'feature_fraction': 0.02508564395144163, 'reg_alpha': 3.51908682867158, 'reg_lambda': 0.4462792664506686, 'colsample_bytree': 0.00033215976455701346, 'min_gain_to_split': 0.004128551748501138, 'min_child_weight': 0.019606606522120096}.\n"
     ]
    },
    {
     "name": "stdout",
     "output_type": "stream",
     "text": [
      "374 "
     ]
    },
    {
     "name": "stderr",
     "output_type": "stream",
     "text": [
      "[I 2019-03-13 04:55:53,886] Finished a trial resulted in value: -0.8890111525530768. Current best value is -0.8981643654777429 with parameters: {'max_leaves': 21, 'min_data_in_leaf': 94, 'max_depth': 15, 'learning_rate': 0.024408532198114515, 'bagging_fraction': 0.833797181980702, 'feature_fraction': 0.02508564395144163, 'reg_alpha': 3.51908682867158, 'reg_lambda': 0.4462792664506686, 'colsample_bytree': 0.00033215976455701346, 'min_gain_to_split': 0.004128551748501138, 'min_child_weight': 0.019606606522120096}.\n"
     ]
    },
    {
     "name": "stdout",
     "output_type": "stream",
     "text": [
      "375 "
     ]
    },
    {
     "name": "stderr",
     "output_type": "stream",
     "text": [
      "[I 2019-03-13 04:56:49,976] Finished a trial resulted in value: -0.8906222584786735. Current best value is -0.8981643654777429 with parameters: {'max_leaves': 21, 'min_data_in_leaf': 94, 'max_depth': 15, 'learning_rate': 0.024408532198114515, 'bagging_fraction': 0.833797181980702, 'feature_fraction': 0.02508564395144163, 'reg_alpha': 3.51908682867158, 'reg_lambda': 0.4462792664506686, 'colsample_bytree': 0.00033215976455701346, 'min_gain_to_split': 0.004128551748501138, 'min_child_weight': 0.019606606522120096}.\n"
     ]
    },
    {
     "name": "stdout",
     "output_type": "stream",
     "text": [
      "376 "
     ]
    },
    {
     "name": "stderr",
     "output_type": "stream",
     "text": [
      "[I 2019-03-13 04:59:35,534] Finished a trial resulted in value: -0.896695614895313. Current best value is -0.8981643654777429 with parameters: {'max_leaves': 21, 'min_data_in_leaf': 94, 'max_depth': 15, 'learning_rate': 0.024408532198114515, 'bagging_fraction': 0.833797181980702, 'feature_fraction': 0.02508564395144163, 'reg_alpha': 3.51908682867158, 'reg_lambda': 0.4462792664506686, 'colsample_bytree': 0.00033215976455701346, 'min_gain_to_split': 0.004128551748501138, 'min_child_weight': 0.019606606522120096}.\n"
     ]
    },
    {
     "name": "stdout",
     "output_type": "stream",
     "text": [
      "377 "
     ]
    },
    {
     "name": "stderr",
     "output_type": "stream",
     "text": [
      "[I 2019-03-13 05:00:31,548] Finished a trial resulted in value: -0.8918521877899623. Current best value is -0.8981643654777429 with parameters: {'max_leaves': 21, 'min_data_in_leaf': 94, 'max_depth': 15, 'learning_rate': 0.024408532198114515, 'bagging_fraction': 0.833797181980702, 'feature_fraction': 0.02508564395144163, 'reg_alpha': 3.51908682867158, 'reg_lambda': 0.4462792664506686, 'colsample_bytree': 0.00033215976455701346, 'min_gain_to_split': 0.004128551748501138, 'min_child_weight': 0.019606606522120096}.\n"
     ]
    },
    {
     "name": "stdout",
     "output_type": "stream",
     "text": [
      "378 "
     ]
    },
    {
     "name": "stderr",
     "output_type": "stream",
     "text": [
      "[I 2019-03-13 05:00:58,808] Finished a trial resulted in value: -0.8709783539683024. Current best value is -0.8981643654777429 with parameters: {'max_leaves': 21, 'min_data_in_leaf': 94, 'max_depth': 15, 'learning_rate': 0.024408532198114515, 'bagging_fraction': 0.833797181980702, 'feature_fraction': 0.02508564395144163, 'reg_alpha': 3.51908682867158, 'reg_lambda': 0.4462792664506686, 'colsample_bytree': 0.00033215976455701346, 'min_gain_to_split': 0.004128551748501138, 'min_child_weight': 0.019606606522120096}.\n"
     ]
    },
    {
     "name": "stdout",
     "output_type": "stream",
     "text": [
      "379 "
     ]
    },
    {
     "name": "stderr",
     "output_type": "stream",
     "text": [
      "[I 2019-03-13 05:02:00,462] Finished a trial resulted in value: -0.893779431768758. Current best value is -0.8981643654777429 with parameters: {'max_leaves': 21, 'min_data_in_leaf': 94, 'max_depth': 15, 'learning_rate': 0.024408532198114515, 'bagging_fraction': 0.833797181980702, 'feature_fraction': 0.02508564395144163, 'reg_alpha': 3.51908682867158, 'reg_lambda': 0.4462792664506686, 'colsample_bytree': 0.00033215976455701346, 'min_gain_to_split': 0.004128551748501138, 'min_child_weight': 0.019606606522120096}.\n"
     ]
    },
    {
     "name": "stdout",
     "output_type": "stream",
     "text": [
      "380 "
     ]
    },
    {
     "name": "stderr",
     "output_type": "stream",
     "text": [
      "[I 2019-03-13 05:02:21,556] Finished a trial resulted in value: -0.8392767353343676. Current best value is -0.8981643654777429 with parameters: {'max_leaves': 21, 'min_data_in_leaf': 94, 'max_depth': 15, 'learning_rate': 0.024408532198114515, 'bagging_fraction': 0.833797181980702, 'feature_fraction': 0.02508564395144163, 'reg_alpha': 3.51908682867158, 'reg_lambda': 0.4462792664506686, 'colsample_bytree': 0.00033215976455701346, 'min_gain_to_split': 0.004128551748501138, 'min_child_weight': 0.019606606522120096}.\n"
     ]
    },
    {
     "name": "stdout",
     "output_type": "stream",
     "text": [
      "381 "
     ]
    },
    {
     "name": "stderr",
     "output_type": "stream",
     "text": [
      "[I 2019-03-13 05:02:52,595] Finished a trial resulted in value: -0.8758226929377443. Current best value is -0.8981643654777429 with parameters: {'max_leaves': 21, 'min_data_in_leaf': 94, 'max_depth': 15, 'learning_rate': 0.024408532198114515, 'bagging_fraction': 0.833797181980702, 'feature_fraction': 0.02508564395144163, 'reg_alpha': 3.51908682867158, 'reg_lambda': 0.4462792664506686, 'colsample_bytree': 0.00033215976455701346, 'min_gain_to_split': 0.004128551748501138, 'min_child_weight': 0.019606606522120096}.\n"
     ]
    },
    {
     "name": "stdout",
     "output_type": "stream",
     "text": [
      "382 "
     ]
    },
    {
     "name": "stderr",
     "output_type": "stream",
     "text": [
      "[I 2019-03-13 05:03:16,746] Finished a trial resulted in value: -0.8443911160645519. Current best value is -0.8981643654777429 with parameters: {'max_leaves': 21, 'min_data_in_leaf': 94, 'max_depth': 15, 'learning_rate': 0.024408532198114515, 'bagging_fraction': 0.833797181980702, 'feature_fraction': 0.02508564395144163, 'reg_alpha': 3.51908682867158, 'reg_lambda': 0.4462792664506686, 'colsample_bytree': 0.00033215976455701346, 'min_gain_to_split': 0.004128551748501138, 'min_child_weight': 0.019606606522120096}.\n"
     ]
    },
    {
     "name": "stdout",
     "output_type": "stream",
     "text": [
      "383 "
     ]
    },
    {
     "name": "stderr",
     "output_type": "stream",
     "text": [
      "[I 2019-03-13 05:03:42,780] Finished a trial resulted in value: -0.8356632815155531. Current best value is -0.8981643654777429 with parameters: {'max_leaves': 21, 'min_data_in_leaf': 94, 'max_depth': 15, 'learning_rate': 0.024408532198114515, 'bagging_fraction': 0.833797181980702, 'feature_fraction': 0.02508564395144163, 'reg_alpha': 3.51908682867158, 'reg_lambda': 0.4462792664506686, 'colsample_bytree': 0.00033215976455701346, 'min_gain_to_split': 0.004128551748501138, 'min_child_weight': 0.019606606522120096}.\n"
     ]
    },
    {
     "name": "stdout",
     "output_type": "stream",
     "text": [
      "384 "
     ]
    },
    {
     "name": "stderr",
     "output_type": "stream",
     "text": [
      "[I 2019-03-13 05:04:14,155] Finished a trial resulted in value: -0.7990250383984393. Current best value is -0.8981643654777429 with parameters: {'max_leaves': 21, 'min_data_in_leaf': 94, 'max_depth': 15, 'learning_rate': 0.024408532198114515, 'bagging_fraction': 0.833797181980702, 'feature_fraction': 0.02508564395144163, 'reg_alpha': 3.51908682867158, 'reg_lambda': 0.4462792664506686, 'colsample_bytree': 0.00033215976455701346, 'min_gain_to_split': 0.004128551748501138, 'min_child_weight': 0.019606606522120096}.\n"
     ]
    },
    {
     "name": "stdout",
     "output_type": "stream",
     "text": [
      "385 "
     ]
    },
    {
     "name": "stderr",
     "output_type": "stream",
     "text": [
      "[I 2019-03-13 05:04:38,130] Finished a trial resulted in value: -0.8472707305923357. Current best value is -0.8981643654777429 with parameters: {'max_leaves': 21, 'min_data_in_leaf': 94, 'max_depth': 15, 'learning_rate': 0.024408532198114515, 'bagging_fraction': 0.833797181980702, 'feature_fraction': 0.02508564395144163, 'reg_alpha': 3.51908682867158, 'reg_lambda': 0.4462792664506686, 'colsample_bytree': 0.00033215976455701346, 'min_gain_to_split': 0.004128551748501138, 'min_child_weight': 0.019606606522120096}.\n"
     ]
    },
    {
     "name": "stdout",
     "output_type": "stream",
     "text": [
      "386 "
     ]
    },
    {
     "name": "stderr",
     "output_type": "stream",
     "text": [
      "[I 2019-03-13 05:05:36,631] Finished a trial resulted in value: -0.8929915189647722. Current best value is -0.8981643654777429 with parameters: {'max_leaves': 21, 'min_data_in_leaf': 94, 'max_depth': 15, 'learning_rate': 0.024408532198114515, 'bagging_fraction': 0.833797181980702, 'feature_fraction': 0.02508564395144163, 'reg_alpha': 3.51908682867158, 'reg_lambda': 0.4462792664506686, 'colsample_bytree': 0.00033215976455701346, 'min_gain_to_split': 0.004128551748501138, 'min_child_weight': 0.019606606522120096}.\n"
     ]
    },
    {
     "name": "stdout",
     "output_type": "stream",
     "text": [
      "387 "
     ]
    },
    {
     "name": "stderr",
     "output_type": "stream",
     "text": [
      "[I 2019-03-13 05:06:16,712] Finished a trial resulted in value: -0.8907009102828631. Current best value is -0.8981643654777429 with parameters: {'max_leaves': 21, 'min_data_in_leaf': 94, 'max_depth': 15, 'learning_rate': 0.024408532198114515, 'bagging_fraction': 0.833797181980702, 'feature_fraction': 0.02508564395144163, 'reg_alpha': 3.51908682867158, 'reg_lambda': 0.4462792664506686, 'colsample_bytree': 0.00033215976455701346, 'min_gain_to_split': 0.004128551748501138, 'min_child_weight': 0.019606606522120096}.\n"
     ]
    },
    {
     "name": "stdout",
     "output_type": "stream",
     "text": [
      "388 "
     ]
    },
    {
     "name": "stderr",
     "output_type": "stream",
     "text": [
      "[I 2019-03-13 05:06:53,059] Finished a trial resulted in value: -0.8822149827398149. Current best value is -0.8981643654777429 with parameters: {'max_leaves': 21, 'min_data_in_leaf': 94, 'max_depth': 15, 'learning_rate': 0.024408532198114515, 'bagging_fraction': 0.833797181980702, 'feature_fraction': 0.02508564395144163, 'reg_alpha': 3.51908682867158, 'reg_lambda': 0.4462792664506686, 'colsample_bytree': 0.00033215976455701346, 'min_gain_to_split': 0.004128551748501138, 'min_child_weight': 0.019606606522120096}.\n"
     ]
    },
    {
     "name": "stdout",
     "output_type": "stream",
     "text": [
      "389 "
     ]
    },
    {
     "name": "stderr",
     "output_type": "stream",
     "text": [
      "[I 2019-03-13 05:07:30,700] Finished a trial resulted in value: -0.8875500544934073. Current best value is -0.8981643654777429 with parameters: {'max_leaves': 21, 'min_data_in_leaf': 94, 'max_depth': 15, 'learning_rate': 0.024408532198114515, 'bagging_fraction': 0.833797181980702, 'feature_fraction': 0.02508564395144163, 'reg_alpha': 3.51908682867158, 'reg_lambda': 0.4462792664506686, 'colsample_bytree': 0.00033215976455701346, 'min_gain_to_split': 0.004128551748501138, 'min_child_weight': 0.019606606522120096}.\n"
     ]
    },
    {
     "name": "stdout",
     "output_type": "stream",
     "text": [
      "390 "
     ]
    },
    {
     "name": "stderr",
     "output_type": "stream",
     "text": [
      "[I 2019-03-13 05:11:44,345] Finished a trial resulted in value: -0.8972671191458902. Current best value is -0.8981643654777429 with parameters: {'max_leaves': 21, 'min_data_in_leaf': 94, 'max_depth': 15, 'learning_rate': 0.024408532198114515, 'bagging_fraction': 0.833797181980702, 'feature_fraction': 0.02508564395144163, 'reg_alpha': 3.51908682867158, 'reg_lambda': 0.4462792664506686, 'colsample_bytree': 0.00033215976455701346, 'min_gain_to_split': 0.004128551748501138, 'min_child_weight': 0.019606606522120096}.\n"
     ]
    },
    {
     "name": "stdout",
     "output_type": "stream",
     "text": [
      "391 "
     ]
    },
    {
     "name": "stderr",
     "output_type": "stream",
     "text": [
      "[I 2019-03-13 05:12:52,336] Finished a trial resulted in value: -0.8933866426468371. Current best value is -0.8981643654777429 with parameters: {'max_leaves': 21, 'min_data_in_leaf': 94, 'max_depth': 15, 'learning_rate': 0.024408532198114515, 'bagging_fraction': 0.833797181980702, 'feature_fraction': 0.02508564395144163, 'reg_alpha': 3.51908682867158, 'reg_lambda': 0.4462792664506686, 'colsample_bytree': 0.00033215976455701346, 'min_gain_to_split': 0.004128551748501138, 'min_child_weight': 0.019606606522120096}.\n"
     ]
    },
    {
     "name": "stdout",
     "output_type": "stream",
     "text": [
      "392 "
     ]
    },
    {
     "name": "stderr",
     "output_type": "stream",
     "text": [
      "[I 2019-03-13 05:14:34,715] Finished a trial resulted in value: -0.8967797033123148. Current best value is -0.8981643654777429 with parameters: {'max_leaves': 21, 'min_data_in_leaf': 94, 'max_depth': 15, 'learning_rate': 0.024408532198114515, 'bagging_fraction': 0.833797181980702, 'feature_fraction': 0.02508564395144163, 'reg_alpha': 3.51908682867158, 'reg_lambda': 0.4462792664506686, 'colsample_bytree': 0.00033215976455701346, 'min_gain_to_split': 0.004128551748501138, 'min_child_weight': 0.019606606522120096}.\n"
     ]
    },
    {
     "name": "stdout",
     "output_type": "stream",
     "text": [
      "393 "
     ]
    },
    {
     "name": "stderr",
     "output_type": "stream",
     "text": [
      "[I 2019-03-13 05:15:49,346] Finished a trial resulted in value: -0.8952025421290641. Current best value is -0.8981643654777429 with parameters: {'max_leaves': 21, 'min_data_in_leaf': 94, 'max_depth': 15, 'learning_rate': 0.024408532198114515, 'bagging_fraction': 0.833797181980702, 'feature_fraction': 0.02508564395144163, 'reg_alpha': 3.51908682867158, 'reg_lambda': 0.4462792664506686, 'colsample_bytree': 0.00033215976455701346, 'min_gain_to_split': 0.004128551748501138, 'min_child_weight': 0.019606606522120096}.\n"
     ]
    },
    {
     "name": "stdout",
     "output_type": "stream",
     "text": [
      "394 "
     ]
    },
    {
     "name": "stderr",
     "output_type": "stream",
     "text": [
      "[I 2019-03-13 05:16:28,473] Finished a trial resulted in value: -0.8857774957980433. Current best value is -0.8981643654777429 with parameters: {'max_leaves': 21, 'min_data_in_leaf': 94, 'max_depth': 15, 'learning_rate': 0.024408532198114515, 'bagging_fraction': 0.833797181980702, 'feature_fraction': 0.02508564395144163, 'reg_alpha': 3.51908682867158, 'reg_lambda': 0.4462792664506686, 'colsample_bytree': 0.00033215976455701346, 'min_gain_to_split': 0.004128551748501138, 'min_child_weight': 0.019606606522120096}.\n"
     ]
    },
    {
     "name": "stdout",
     "output_type": "stream",
     "text": [
      "395 "
     ]
    },
    {
     "name": "stderr",
     "output_type": "stream",
     "text": [
      "[I 2019-03-13 05:17:11,666] Finished a trial resulted in value: -0.8851460220324796. Current best value is -0.8981643654777429 with parameters: {'max_leaves': 21, 'min_data_in_leaf': 94, 'max_depth': 15, 'learning_rate': 0.024408532198114515, 'bagging_fraction': 0.833797181980702, 'feature_fraction': 0.02508564395144163, 'reg_alpha': 3.51908682867158, 'reg_lambda': 0.4462792664506686, 'colsample_bytree': 0.00033215976455701346, 'min_gain_to_split': 0.004128551748501138, 'min_child_weight': 0.019606606522120096}.\n"
     ]
    },
    {
     "name": "stdout",
     "output_type": "stream",
     "text": [
      "396 "
     ]
    },
    {
     "name": "stderr",
     "output_type": "stream",
     "text": [
      "[I 2019-03-13 05:17:36,405] Finished a trial resulted in value: -0.8051474355130903. Current best value is -0.8981643654777429 with parameters: {'max_leaves': 21, 'min_data_in_leaf': 94, 'max_depth': 15, 'learning_rate': 0.024408532198114515, 'bagging_fraction': 0.833797181980702, 'feature_fraction': 0.02508564395144163, 'reg_alpha': 3.51908682867158, 'reg_lambda': 0.4462792664506686, 'colsample_bytree': 0.00033215976455701346, 'min_gain_to_split': 0.004128551748501138, 'min_child_weight': 0.019606606522120096}.\n"
     ]
    },
    {
     "name": "stdout",
     "output_type": "stream",
     "text": [
      "397 "
     ]
    },
    {
     "name": "stderr",
     "output_type": "stream",
     "text": [
      "[I 2019-03-13 05:19:08,940] Finished a trial resulted in value: -0.8670039831252361. Current best value is -0.8981643654777429 with parameters: {'max_leaves': 21, 'min_data_in_leaf': 94, 'max_depth': 15, 'learning_rate': 0.024408532198114515, 'bagging_fraction': 0.833797181980702, 'feature_fraction': 0.02508564395144163, 'reg_alpha': 3.51908682867158, 'reg_lambda': 0.4462792664506686, 'colsample_bytree': 0.00033215976455701346, 'min_gain_to_split': 0.004128551748501138, 'min_child_weight': 0.019606606522120096}.\n"
     ]
    },
    {
     "name": "stdout",
     "output_type": "stream",
     "text": [
      "398 "
     ]
    },
    {
     "name": "stderr",
     "output_type": "stream",
     "text": [
      "[I 2019-03-13 05:25:40,622] Finished a trial resulted in value: -0.8833661108970178. Current best value is -0.8981643654777429 with parameters: {'max_leaves': 21, 'min_data_in_leaf': 94, 'max_depth': 15, 'learning_rate': 0.024408532198114515, 'bagging_fraction': 0.833797181980702, 'feature_fraction': 0.02508564395144163, 'reg_alpha': 3.51908682867158, 'reg_lambda': 0.4462792664506686, 'colsample_bytree': 0.00033215976455701346, 'min_gain_to_split': 0.004128551748501138, 'min_child_weight': 0.019606606522120096}.\n"
     ]
    },
    {
     "name": "stdout",
     "output_type": "stream",
     "text": [
      "399 "
     ]
    },
    {
     "name": "stderr",
     "output_type": "stream",
     "text": [
      "[I 2019-03-13 05:26:14,741] Finished a trial resulted in value: -0.8842509628468911. Current best value is -0.8981643654777429 with parameters: {'max_leaves': 21, 'min_data_in_leaf': 94, 'max_depth': 15, 'learning_rate': 0.024408532198114515, 'bagging_fraction': 0.833797181980702, 'feature_fraction': 0.02508564395144163, 'reg_alpha': 3.51908682867158, 'reg_lambda': 0.4462792664506686, 'colsample_bytree': 0.00033215976455701346, 'min_gain_to_split': 0.004128551748501138, 'min_child_weight': 0.019606606522120096}.\n"
     ]
    },
    {
     "name": "stdout",
     "output_type": "stream",
     "text": [
      "400 "
     ]
    },
    {
     "name": "stderr",
     "output_type": "stream",
     "text": [
      "[I 2019-03-13 05:26:46,638] Finished a trial resulted in value: -0.8854731533443682. Current best value is -0.8981643654777429 with parameters: {'max_leaves': 21, 'min_data_in_leaf': 94, 'max_depth': 15, 'learning_rate': 0.024408532198114515, 'bagging_fraction': 0.833797181980702, 'feature_fraction': 0.02508564395144163, 'reg_alpha': 3.51908682867158, 'reg_lambda': 0.4462792664506686, 'colsample_bytree': 0.00033215976455701346, 'min_gain_to_split': 0.004128551748501138, 'min_child_weight': 0.019606606522120096}.\n"
     ]
    },
    {
     "name": "stdout",
     "output_type": "stream",
     "text": [
      "401 "
     ]
    },
    {
     "name": "stderr",
     "output_type": "stream",
     "text": [
      "[I 2019-03-13 05:29:56,303] Finished a trial resulted in value: -0.8973455956022381. Current best value is -0.8981643654777429 with parameters: {'max_leaves': 21, 'min_data_in_leaf': 94, 'max_depth': 15, 'learning_rate': 0.024408532198114515, 'bagging_fraction': 0.833797181980702, 'feature_fraction': 0.02508564395144163, 'reg_alpha': 3.51908682867158, 'reg_lambda': 0.4462792664506686, 'colsample_bytree': 0.00033215976455701346, 'min_gain_to_split': 0.004128551748501138, 'min_child_weight': 0.019606606522120096}.\n"
     ]
    },
    {
     "name": "stdout",
     "output_type": "stream",
     "text": [
      "402 "
     ]
    },
    {
     "name": "stderr",
     "output_type": "stream",
     "text": [
      "[I 2019-03-13 05:31:51,203] Finished a trial resulted in value: -0.8970570435812479. Current best value is -0.8981643654777429 with parameters: {'max_leaves': 21, 'min_data_in_leaf': 94, 'max_depth': 15, 'learning_rate': 0.024408532198114515, 'bagging_fraction': 0.833797181980702, 'feature_fraction': 0.02508564395144163, 'reg_alpha': 3.51908682867158, 'reg_lambda': 0.4462792664506686, 'colsample_bytree': 0.00033215976455701346, 'min_gain_to_split': 0.004128551748501138, 'min_child_weight': 0.019606606522120096}.\n"
     ]
    },
    {
     "name": "stdout",
     "output_type": "stream",
     "text": [
      "403 "
     ]
    },
    {
     "name": "stderr",
     "output_type": "stream",
     "text": [
      "[I 2019-03-13 05:36:58,593] Finished a trial resulted in value: -0.8638008684240697. Current best value is -0.8981643654777429 with parameters: {'max_leaves': 21, 'min_data_in_leaf': 94, 'max_depth': 15, 'learning_rate': 0.024408532198114515, 'bagging_fraction': 0.833797181980702, 'feature_fraction': 0.02508564395144163, 'reg_alpha': 3.51908682867158, 'reg_lambda': 0.4462792664506686, 'colsample_bytree': 0.00033215976455701346, 'min_gain_to_split': 0.004128551748501138, 'min_child_weight': 0.019606606522120096}.\n"
     ]
    },
    {
     "name": "stdout",
     "output_type": "stream",
     "text": [
      "404 "
     ]
    },
    {
     "name": "stderr",
     "output_type": "stream",
     "text": [
      "[I 2019-03-13 05:38:20,000] Finished a trial resulted in value: -0.8946417271824796. Current best value is -0.8981643654777429 with parameters: {'max_leaves': 21, 'min_data_in_leaf': 94, 'max_depth': 15, 'learning_rate': 0.024408532198114515, 'bagging_fraction': 0.833797181980702, 'feature_fraction': 0.02508564395144163, 'reg_alpha': 3.51908682867158, 'reg_lambda': 0.4462792664506686, 'colsample_bytree': 0.00033215976455701346, 'min_gain_to_split': 0.004128551748501138, 'min_child_weight': 0.019606606522120096}.\n"
     ]
    },
    {
     "name": "stdout",
     "output_type": "stream",
     "text": [
      "405 "
     ]
    },
    {
     "name": "stderr",
     "output_type": "stream",
     "text": [
      "[I 2019-03-13 05:40:54,500] Finished a trial resulted in value: -0.8981774205947283. Current best value is -0.8981774205947283 with parameters: {'max_leaves': 68, 'min_data_in_leaf': 132, 'max_depth': 11, 'learning_rate': 0.01994937680864578, 'bagging_fraction': 0.7989799769044628, 'feature_fraction': 0.04394960415711974, 'reg_alpha': 4.554854535038391, 'reg_lambda': 0.5697522179330992, 'colsample_bytree': 0.32405638196528846, 'min_gain_to_split': 0.009489537124791505, 'min_child_weight': 0.05603278399827837}.\n"
     ]
    },
    {
     "name": "stdout",
     "output_type": "stream",
     "text": [
      "406 "
     ]
    },
    {
     "name": "stderr",
     "output_type": "stream",
     "text": [
      "[I 2019-03-13 05:41:50,807] Finished a trial resulted in value: -0.8942901077424427. Current best value is -0.8981774205947283 with parameters: {'max_leaves': 68, 'min_data_in_leaf': 132, 'max_depth': 11, 'learning_rate': 0.01994937680864578, 'bagging_fraction': 0.7989799769044628, 'feature_fraction': 0.04394960415711974, 'reg_alpha': 4.554854535038391, 'reg_lambda': 0.5697522179330992, 'colsample_bytree': 0.32405638196528846, 'min_gain_to_split': 0.009489537124791505, 'min_child_weight': 0.05603278399827837}.\n"
     ]
    },
    {
     "name": "stdout",
     "output_type": "stream",
     "text": [
      "407 "
     ]
    },
    {
     "name": "stderr",
     "output_type": "stream",
     "text": [
      "[I 2019-03-13 05:43:02,779] Finished a trial resulted in value: -0.8952712903756617. Current best value is -0.8981774205947283 with parameters: {'max_leaves': 68, 'min_data_in_leaf': 132, 'max_depth': 11, 'learning_rate': 0.01994937680864578, 'bagging_fraction': 0.7989799769044628, 'feature_fraction': 0.04394960415711974, 'reg_alpha': 4.554854535038391, 'reg_lambda': 0.5697522179330992, 'colsample_bytree': 0.32405638196528846, 'min_gain_to_split': 0.009489537124791505, 'min_child_weight': 0.05603278399827837}.\n"
     ]
    },
    {
     "name": "stdout",
     "output_type": "stream",
     "text": [
      "408 "
     ]
    },
    {
     "name": "stderr",
     "output_type": "stream",
     "text": [
      "[I 2019-03-13 05:44:44,867] Finished a trial resulted in value: -0.8967994119671963. Current best value is -0.8981774205947283 with parameters: {'max_leaves': 68, 'min_data_in_leaf': 132, 'max_depth': 11, 'learning_rate': 0.01994937680864578, 'bagging_fraction': 0.7989799769044628, 'feature_fraction': 0.04394960415711974, 'reg_alpha': 4.554854535038391, 'reg_lambda': 0.5697522179330992, 'colsample_bytree': 0.32405638196528846, 'min_gain_to_split': 0.009489537124791505, 'min_child_weight': 0.05603278399827837}.\n"
     ]
    },
    {
     "name": "stdout",
     "output_type": "stream",
     "text": [
      "409 "
     ]
    },
    {
     "name": "stderr",
     "output_type": "stream",
     "text": [
      "[I 2019-03-13 05:45:32,121] Finished a trial resulted in value: -0.8931111673155953. Current best value is -0.8981774205947283 with parameters: {'max_leaves': 68, 'min_data_in_leaf': 132, 'max_depth': 11, 'learning_rate': 0.01994937680864578, 'bagging_fraction': 0.7989799769044628, 'feature_fraction': 0.04394960415711974, 'reg_alpha': 4.554854535038391, 'reg_lambda': 0.5697522179330992, 'colsample_bytree': 0.32405638196528846, 'min_gain_to_split': 0.009489537124791505, 'min_child_weight': 0.05603278399827837}.\n"
     ]
    },
    {
     "name": "stdout",
     "output_type": "stream",
     "text": [
      "410 "
     ]
    },
    {
     "name": "stderr",
     "output_type": "stream",
     "text": [
      "[I 2019-03-13 05:47:59,835] Finished a trial resulted in value: -0.8770329241039592. Current best value is -0.8981774205947283 with parameters: {'max_leaves': 68, 'min_data_in_leaf': 132, 'max_depth': 11, 'learning_rate': 0.01994937680864578, 'bagging_fraction': 0.7989799769044628, 'feature_fraction': 0.04394960415711974, 'reg_alpha': 4.554854535038391, 'reg_lambda': 0.5697522179330992, 'colsample_bytree': 0.32405638196528846, 'min_gain_to_split': 0.009489537124791505, 'min_child_weight': 0.05603278399827837}.\n"
     ]
    },
    {
     "name": "stdout",
     "output_type": "stream",
     "text": [
      "411 "
     ]
    },
    {
     "name": "stderr",
     "output_type": "stream",
     "text": [
      "[I 2019-03-13 05:50:22,975] Finished a trial resulted in value: -0.8797790225898677. Current best value is -0.8981774205947283 with parameters: {'max_leaves': 68, 'min_data_in_leaf': 132, 'max_depth': 11, 'learning_rate': 0.01994937680864578, 'bagging_fraction': 0.7989799769044628, 'feature_fraction': 0.04394960415711974, 'reg_alpha': 4.554854535038391, 'reg_lambda': 0.5697522179330992, 'colsample_bytree': 0.32405638196528846, 'min_gain_to_split': 0.009489537124791505, 'min_child_weight': 0.05603278399827837}.\n"
     ]
    },
    {
     "name": "stdout",
     "output_type": "stream",
     "text": [
      "412 "
     ]
    },
    {
     "name": "stderr",
     "output_type": "stream",
     "text": [
      "[I 2019-03-13 05:51:22,551] Finished a trial resulted in value: -0.8927046781063944. Current best value is -0.8981774205947283 with parameters: {'max_leaves': 68, 'min_data_in_leaf': 132, 'max_depth': 11, 'learning_rate': 0.01994937680864578, 'bagging_fraction': 0.7989799769044628, 'feature_fraction': 0.04394960415711974, 'reg_alpha': 4.554854535038391, 'reg_lambda': 0.5697522179330992, 'colsample_bytree': 0.32405638196528846, 'min_gain_to_split': 0.009489537124791505, 'min_child_weight': 0.05603278399827837}.\n"
     ]
    },
    {
     "name": "stdout",
     "output_type": "stream",
     "text": [
      "413 "
     ]
    },
    {
     "name": "stderr",
     "output_type": "stream",
     "text": [
      "[I 2019-03-13 05:52:05,719] Finished a trial resulted in value: -0.8910965627741916. Current best value is -0.8981774205947283 with parameters: {'max_leaves': 68, 'min_data_in_leaf': 132, 'max_depth': 11, 'learning_rate': 0.01994937680864578, 'bagging_fraction': 0.7989799769044628, 'feature_fraction': 0.04394960415711974, 'reg_alpha': 4.554854535038391, 'reg_lambda': 0.5697522179330992, 'colsample_bytree': 0.32405638196528846, 'min_gain_to_split': 0.009489537124791505, 'min_child_weight': 0.05603278399827837}.\n"
     ]
    },
    {
     "name": "stdout",
     "output_type": "stream",
     "text": [
      "414 "
     ]
    },
    {
     "name": "stderr",
     "output_type": "stream",
     "text": [
      "[I 2019-03-13 05:56:49,894] Finished a trial resulted in value: -0.8843557605630821. Current best value is -0.8981774205947283 with parameters: {'max_leaves': 68, 'min_data_in_leaf': 132, 'max_depth': 11, 'learning_rate': 0.01994937680864578, 'bagging_fraction': 0.7989799769044628, 'feature_fraction': 0.04394960415711974, 'reg_alpha': 4.554854535038391, 'reg_lambda': 0.5697522179330992, 'colsample_bytree': 0.32405638196528846, 'min_gain_to_split': 0.009489537124791505, 'min_child_weight': 0.05603278399827837}.\n"
     ]
    },
    {
     "name": "stdout",
     "output_type": "stream",
     "text": [
      "415 "
     ]
    },
    {
     "name": "stderr",
     "output_type": "stream",
     "text": [
      "[I 2019-03-13 05:59:19,775] Finished a trial resulted in value: -0.8981448855494626. Current best value is -0.8981774205947283 with parameters: {'max_leaves': 68, 'min_data_in_leaf': 132, 'max_depth': 11, 'learning_rate': 0.01994937680864578, 'bagging_fraction': 0.7989799769044628, 'feature_fraction': 0.04394960415711974, 'reg_alpha': 4.554854535038391, 'reg_lambda': 0.5697522179330992, 'colsample_bytree': 0.32405638196528846, 'min_gain_to_split': 0.009489537124791505, 'min_child_weight': 0.05603278399827837}.\n"
     ]
    },
    {
     "name": "stdout",
     "output_type": "stream",
     "text": [
      "416 "
     ]
    },
    {
     "name": "stderr",
     "output_type": "stream",
     "text": [
      "[I 2019-03-13 06:00:24,152] Finished a trial resulted in value: -0.8958175182625249. Current best value is -0.8981774205947283 with parameters: {'max_leaves': 68, 'min_data_in_leaf': 132, 'max_depth': 11, 'learning_rate': 0.01994937680864578, 'bagging_fraction': 0.7989799769044628, 'feature_fraction': 0.04394960415711974, 'reg_alpha': 4.554854535038391, 'reg_lambda': 0.5697522179330992, 'colsample_bytree': 0.32405638196528846, 'min_gain_to_split': 0.009489537124791505, 'min_child_weight': 0.05603278399827837}.\n"
     ]
    },
    {
     "name": "stdout",
     "output_type": "stream",
     "text": [
      "417 "
     ]
    },
    {
     "name": "stderr",
     "output_type": "stream",
     "text": [
      "[I 2019-03-13 06:01:21,970] Finished a trial resulted in value: -0.88577536286026. Current best value is -0.8981774205947283 with parameters: {'max_leaves': 68, 'min_data_in_leaf': 132, 'max_depth': 11, 'learning_rate': 0.01994937680864578, 'bagging_fraction': 0.7989799769044628, 'feature_fraction': 0.04394960415711974, 'reg_alpha': 4.554854535038391, 'reg_lambda': 0.5697522179330992, 'colsample_bytree': 0.32405638196528846, 'min_gain_to_split': 0.009489537124791505, 'min_child_weight': 0.05603278399827837}.\n"
     ]
    },
    {
     "name": "stdout",
     "output_type": "stream",
     "text": [
      "418 "
     ]
    },
    {
     "name": "stderr",
     "output_type": "stream",
     "text": [
      "[I 2019-03-13 06:02:34,882] Finished a trial resulted in value: -0.8950764025892142. Current best value is -0.8981774205947283 with parameters: {'max_leaves': 68, 'min_data_in_leaf': 132, 'max_depth': 11, 'learning_rate': 0.01994937680864578, 'bagging_fraction': 0.7989799769044628, 'feature_fraction': 0.04394960415711974, 'reg_alpha': 4.554854535038391, 'reg_lambda': 0.5697522179330992, 'colsample_bytree': 0.32405638196528846, 'min_gain_to_split': 0.009489537124791505, 'min_child_weight': 0.05603278399827837}.\n"
     ]
    },
    {
     "name": "stdout",
     "output_type": "stream",
     "text": [
      "419 "
     ]
    },
    {
     "name": "stderr",
     "output_type": "stream",
     "text": [
      "[I 2019-03-13 06:03:21,323] Finished a trial resulted in value: -0.8929584899585522. Current best value is -0.8981774205947283 with parameters: {'max_leaves': 68, 'min_data_in_leaf': 132, 'max_depth': 11, 'learning_rate': 0.01994937680864578, 'bagging_fraction': 0.7989799769044628, 'feature_fraction': 0.04394960415711974, 'reg_alpha': 4.554854535038391, 'reg_lambda': 0.5697522179330992, 'colsample_bytree': 0.32405638196528846, 'min_gain_to_split': 0.009489537124791505, 'min_child_weight': 0.05603278399827837}.\n"
     ]
    },
    {
     "name": "stdout",
     "output_type": "stream",
     "text": [
      "420 "
     ]
    },
    {
     "name": "stderr",
     "output_type": "stream",
     "text": [
      "[I 2019-03-13 06:05:10,894] Finished a trial resulted in value: -0.8971222525118687. Current best value is -0.8981774205947283 with parameters: {'max_leaves': 68, 'min_data_in_leaf': 132, 'max_depth': 11, 'learning_rate': 0.01994937680864578, 'bagging_fraction': 0.7989799769044628, 'feature_fraction': 0.04394960415711974, 'reg_alpha': 4.554854535038391, 'reg_lambda': 0.5697522179330992, 'colsample_bytree': 0.32405638196528846, 'min_gain_to_split': 0.009489537124791505, 'min_child_weight': 0.05603278399827837}.\n"
     ]
    },
    {
     "name": "stdout",
     "output_type": "stream",
     "text": [
      "421 "
     ]
    },
    {
     "name": "stderr",
     "output_type": "stream",
     "text": [
      "[I 2019-03-13 06:05:55,373] Finished a trial resulted in value: -0.8902584053460829. Current best value is -0.8981774205947283 with parameters: {'max_leaves': 68, 'min_data_in_leaf': 132, 'max_depth': 11, 'learning_rate': 0.01994937680864578, 'bagging_fraction': 0.7989799769044628, 'feature_fraction': 0.04394960415711974, 'reg_alpha': 4.554854535038391, 'reg_lambda': 0.5697522179330992, 'colsample_bytree': 0.32405638196528846, 'min_gain_to_split': 0.009489537124791505, 'min_child_weight': 0.05603278399827837}.\n"
     ]
    },
    {
     "name": "stdout",
     "output_type": "stream",
     "text": [
      "422 "
     ]
    },
    {
     "name": "stderr",
     "output_type": "stream",
     "text": [
      "[I 2019-03-13 06:07:37,896] Finished a trial resulted in value: -0.8747331984405804. Current best value is -0.8981774205947283 with parameters: {'max_leaves': 68, 'min_data_in_leaf': 132, 'max_depth': 11, 'learning_rate': 0.01994937680864578, 'bagging_fraction': 0.7989799769044628, 'feature_fraction': 0.04394960415711974, 'reg_alpha': 4.554854535038391, 'reg_lambda': 0.5697522179330992, 'colsample_bytree': 0.32405638196528846, 'min_gain_to_split': 0.009489537124791505, 'min_child_weight': 0.05603278399827837}.\n"
     ]
    },
    {
     "name": "stdout",
     "output_type": "stream",
     "text": [
      "423 "
     ]
    },
    {
     "name": "stderr",
     "output_type": "stream",
     "text": [
      "[I 2019-03-13 06:11:06,583] Finished a trial resulted in value: -0.8959466901584244. Current best value is -0.8981774205947283 with parameters: {'max_leaves': 68, 'min_data_in_leaf': 132, 'max_depth': 11, 'learning_rate': 0.01994937680864578, 'bagging_fraction': 0.7989799769044628, 'feature_fraction': 0.04394960415711974, 'reg_alpha': 4.554854535038391, 'reg_lambda': 0.5697522179330992, 'colsample_bytree': 0.32405638196528846, 'min_gain_to_split': 0.009489537124791505, 'min_child_weight': 0.05603278399827837}.\n"
     ]
    },
    {
     "name": "stdout",
     "output_type": "stream",
     "text": [
      "424 "
     ]
    },
    {
     "name": "stderr",
     "output_type": "stream",
     "text": [
      "[I 2019-03-13 06:12:28,421] Finished a trial resulted in value: -0.8962955764953526. Current best value is -0.8981774205947283 with parameters: {'max_leaves': 68, 'min_data_in_leaf': 132, 'max_depth': 11, 'learning_rate': 0.01994937680864578, 'bagging_fraction': 0.7989799769044628, 'feature_fraction': 0.04394960415711974, 'reg_alpha': 4.554854535038391, 'reg_lambda': 0.5697522179330992, 'colsample_bytree': 0.32405638196528846, 'min_gain_to_split': 0.009489537124791505, 'min_child_weight': 0.05603278399827837}.\n"
     ]
    },
    {
     "name": "stdout",
     "output_type": "stream",
     "text": [
      "425 "
     ]
    },
    {
     "name": "stderr",
     "output_type": "stream",
     "text": [
      "[I 2019-03-13 06:13:06,647] Finished a trial resulted in value: -0.8880670258418103. Current best value is -0.8981774205947283 with parameters: {'max_leaves': 68, 'min_data_in_leaf': 132, 'max_depth': 11, 'learning_rate': 0.01994937680864578, 'bagging_fraction': 0.7989799769044628, 'feature_fraction': 0.04394960415711974, 'reg_alpha': 4.554854535038391, 'reg_lambda': 0.5697522179330992, 'colsample_bytree': 0.32405638196528846, 'min_gain_to_split': 0.009489537124791505, 'min_child_weight': 0.05603278399827837}.\n"
     ]
    },
    {
     "name": "stdout",
     "output_type": "stream",
     "text": [
      "426 "
     ]
    },
    {
     "name": "stderr",
     "output_type": "stream",
     "text": [
      "[I 2019-03-13 06:13:52,615] Finished a trial resulted in value: -0.8926207866099972. Current best value is -0.8981774205947283 with parameters: {'max_leaves': 68, 'min_data_in_leaf': 132, 'max_depth': 11, 'learning_rate': 0.01994937680864578, 'bagging_fraction': 0.7989799769044628, 'feature_fraction': 0.04394960415711974, 'reg_alpha': 4.554854535038391, 'reg_lambda': 0.5697522179330992, 'colsample_bytree': 0.32405638196528846, 'min_gain_to_split': 0.009489537124791505, 'min_child_weight': 0.05603278399827837}.\n"
     ]
    },
    {
     "name": "stdout",
     "output_type": "stream",
     "text": [
      "427 "
     ]
    },
    {
     "name": "stderr",
     "output_type": "stream",
     "text": [
      "[I 2019-03-13 06:16:19,000] Finished a trial resulted in value: -0.8792616640380293. Current best value is -0.8981774205947283 with parameters: {'max_leaves': 68, 'min_data_in_leaf': 132, 'max_depth': 11, 'learning_rate': 0.01994937680864578, 'bagging_fraction': 0.7989799769044628, 'feature_fraction': 0.04394960415711974, 'reg_alpha': 4.554854535038391, 'reg_lambda': 0.5697522179330992, 'colsample_bytree': 0.32405638196528846, 'min_gain_to_split': 0.009489537124791505, 'min_child_weight': 0.05603278399827837}.\n"
     ]
    },
    {
     "name": "stdout",
     "output_type": "stream",
     "text": [
      "428 "
     ]
    },
    {
     "name": "stderr",
     "output_type": "stream",
     "text": [
      "[I 2019-03-13 06:16:44,742] Finished a trial resulted in value: -0.8667893003928558. Current best value is -0.8981774205947283 with parameters: {'max_leaves': 68, 'min_data_in_leaf': 132, 'max_depth': 11, 'learning_rate': 0.01994937680864578, 'bagging_fraction': 0.7989799769044628, 'feature_fraction': 0.04394960415711974, 'reg_alpha': 4.554854535038391, 'reg_lambda': 0.5697522179330992, 'colsample_bytree': 0.32405638196528846, 'min_gain_to_split': 0.009489537124791505, 'min_child_weight': 0.05603278399827837}.\n"
     ]
    },
    {
     "name": "stdout",
     "output_type": "stream",
     "text": [
      "429 "
     ]
    },
    {
     "name": "stderr",
     "output_type": "stream",
     "text": [
      "[I 2019-03-13 06:20:05,792] Finished a trial resulted in value: -0.8661418237858648. Current best value is -0.8981774205947283 with parameters: {'max_leaves': 68, 'min_data_in_leaf': 132, 'max_depth': 11, 'learning_rate': 0.01994937680864578, 'bagging_fraction': 0.7989799769044628, 'feature_fraction': 0.04394960415711974, 'reg_alpha': 4.554854535038391, 'reg_lambda': 0.5697522179330992, 'colsample_bytree': 0.32405638196528846, 'min_gain_to_split': 0.009489537124791505, 'min_child_weight': 0.05603278399827837}.\n"
     ]
    },
    {
     "name": "stdout",
     "output_type": "stream",
     "text": [
      "430 "
     ]
    },
    {
     "name": "stderr",
     "output_type": "stream",
     "text": [
      "[I 2019-03-13 06:21:21,412] Finished a trial resulted in value: -0.8937102445994085. Current best value is -0.8981774205947283 with parameters: {'max_leaves': 68, 'min_data_in_leaf': 132, 'max_depth': 11, 'learning_rate': 0.01994937680864578, 'bagging_fraction': 0.7989799769044628, 'feature_fraction': 0.04394960415711974, 'reg_alpha': 4.554854535038391, 'reg_lambda': 0.5697522179330992, 'colsample_bytree': 0.32405638196528846, 'min_gain_to_split': 0.009489537124791505, 'min_child_weight': 0.05603278399827837}.\n"
     ]
    },
    {
     "name": "stdout",
     "output_type": "stream",
     "text": [
      "431 "
     ]
    },
    {
     "name": "stderr",
     "output_type": "stream",
     "text": [
      "[I 2019-03-13 06:22:42,172] Finished a trial resulted in value: -0.8857176388486271. Current best value is -0.8981774205947283 with parameters: {'max_leaves': 68, 'min_data_in_leaf': 132, 'max_depth': 11, 'learning_rate': 0.01994937680864578, 'bagging_fraction': 0.7989799769044628, 'feature_fraction': 0.04394960415711974, 'reg_alpha': 4.554854535038391, 'reg_lambda': 0.5697522179330992, 'colsample_bytree': 0.32405638196528846, 'min_gain_to_split': 0.009489537124791505, 'min_child_weight': 0.05603278399827837}.\n"
     ]
    },
    {
     "name": "stdout",
     "output_type": "stream",
     "text": [
      "432 "
     ]
    },
    {
     "name": "stderr",
     "output_type": "stream",
     "text": [
      "[I 2019-03-13 06:23:41,515] Finished a trial resulted in value: -0.8943412078095848. Current best value is -0.8981774205947283 with parameters: {'max_leaves': 68, 'min_data_in_leaf': 132, 'max_depth': 11, 'learning_rate': 0.01994937680864578, 'bagging_fraction': 0.7989799769044628, 'feature_fraction': 0.04394960415711974, 'reg_alpha': 4.554854535038391, 'reg_lambda': 0.5697522179330992, 'colsample_bytree': 0.32405638196528846, 'min_gain_to_split': 0.009489537124791505, 'min_child_weight': 0.05603278399827837}.\n"
     ]
    },
    {
     "name": "stdout",
     "output_type": "stream",
     "text": [
      "433 "
     ]
    },
    {
     "name": "stderr",
     "output_type": "stream",
     "text": [
      "[I 2019-03-13 06:24:36,786] Finished a trial resulted in value: -0.8914035194042063. Current best value is -0.8981774205947283 with parameters: {'max_leaves': 68, 'min_data_in_leaf': 132, 'max_depth': 11, 'learning_rate': 0.01994937680864578, 'bagging_fraction': 0.7989799769044628, 'feature_fraction': 0.04394960415711974, 'reg_alpha': 4.554854535038391, 'reg_lambda': 0.5697522179330992, 'colsample_bytree': 0.32405638196528846, 'min_gain_to_split': 0.009489537124791505, 'min_child_weight': 0.05603278399827837}.\n"
     ]
    },
    {
     "name": "stdout",
     "output_type": "stream",
     "text": [
      "434 "
     ]
    },
    {
     "name": "stderr",
     "output_type": "stream",
     "text": [
      "[I 2019-03-13 06:28:39,954] Finished a trial resulted in value: -0.8877644689491215. Current best value is -0.8981774205947283 with parameters: {'max_leaves': 68, 'min_data_in_leaf': 132, 'max_depth': 11, 'learning_rate': 0.01994937680864578, 'bagging_fraction': 0.7989799769044628, 'feature_fraction': 0.04394960415711974, 'reg_alpha': 4.554854535038391, 'reg_lambda': 0.5697522179330992, 'colsample_bytree': 0.32405638196528846, 'min_gain_to_split': 0.009489537124791505, 'min_child_weight': 0.05603278399827837}.\n"
     ]
    },
    {
     "name": "stdout",
     "output_type": "stream",
     "text": [
      "435 "
     ]
    },
    {
     "name": "stderr",
     "output_type": "stream",
     "text": [
      "[I 2019-03-13 06:30:28,138] Finished a trial resulted in value: -0.8960673579605789. Current best value is -0.8981774205947283 with parameters: {'max_leaves': 68, 'min_data_in_leaf': 132, 'max_depth': 11, 'learning_rate': 0.01994937680864578, 'bagging_fraction': 0.7989799769044628, 'feature_fraction': 0.04394960415711974, 'reg_alpha': 4.554854535038391, 'reg_lambda': 0.5697522179330992, 'colsample_bytree': 0.32405638196528846, 'min_gain_to_split': 0.009489537124791505, 'min_child_weight': 0.05603278399827837}.\n"
     ]
    },
    {
     "name": "stdout",
     "output_type": "stream",
     "text": [
      "436 "
     ]
    },
    {
     "name": "stderr",
     "output_type": "stream",
     "text": [
      "[I 2019-03-13 06:32:24,031] Finished a trial resulted in value: -0.8672879465089383. Current best value is -0.8981774205947283 with parameters: {'max_leaves': 68, 'min_data_in_leaf': 132, 'max_depth': 11, 'learning_rate': 0.01994937680864578, 'bagging_fraction': 0.7989799769044628, 'feature_fraction': 0.04394960415711974, 'reg_alpha': 4.554854535038391, 'reg_lambda': 0.5697522179330992, 'colsample_bytree': 0.32405638196528846, 'min_gain_to_split': 0.009489537124791505, 'min_child_weight': 0.05603278399827837}.\n"
     ]
    },
    {
     "name": "stdout",
     "output_type": "stream",
     "text": [
      "437 "
     ]
    },
    {
     "name": "stderr",
     "output_type": "stream",
     "text": [
      "[I 2019-03-13 06:34:18,845] Finished a trial resulted in value: -0.8736135385831779. Current best value is -0.8981774205947283 with parameters: {'max_leaves': 68, 'min_data_in_leaf': 132, 'max_depth': 11, 'learning_rate': 0.01994937680864578, 'bagging_fraction': 0.7989799769044628, 'feature_fraction': 0.04394960415711974, 'reg_alpha': 4.554854535038391, 'reg_lambda': 0.5697522179330992, 'colsample_bytree': 0.32405638196528846, 'min_gain_to_split': 0.009489537124791505, 'min_child_weight': 0.05603278399827837}.\n"
     ]
    },
    {
     "name": "stdout",
     "output_type": "stream",
     "text": [
      "438 "
     ]
    },
    {
     "name": "stderr",
     "output_type": "stream",
     "text": [
      "[I 2019-03-13 06:35:57,948] Finished a trial resulted in value: -0.8907039263210539. Current best value is -0.8981774205947283 with parameters: {'max_leaves': 68, 'min_data_in_leaf': 132, 'max_depth': 11, 'learning_rate': 0.01994937680864578, 'bagging_fraction': 0.7989799769044628, 'feature_fraction': 0.04394960415711974, 'reg_alpha': 4.554854535038391, 'reg_lambda': 0.5697522179330992, 'colsample_bytree': 0.32405638196528846, 'min_gain_to_split': 0.009489537124791505, 'min_child_weight': 0.05603278399827837}.\n"
     ]
    },
    {
     "name": "stdout",
     "output_type": "stream",
     "text": [
      "439 "
     ]
    },
    {
     "name": "stderr",
     "output_type": "stream",
     "text": [
      "[I 2019-03-13 06:36:36,227] Finished a trial resulted in value: -0.8838891862310118. Current best value is -0.8981774205947283 with parameters: {'max_leaves': 68, 'min_data_in_leaf': 132, 'max_depth': 11, 'learning_rate': 0.01994937680864578, 'bagging_fraction': 0.7989799769044628, 'feature_fraction': 0.04394960415711974, 'reg_alpha': 4.554854535038391, 'reg_lambda': 0.5697522179330992, 'colsample_bytree': 0.32405638196528846, 'min_gain_to_split': 0.009489537124791505, 'min_child_weight': 0.05603278399827837}.\n"
     ]
    },
    {
     "name": "stdout",
     "output_type": "stream",
     "text": [
      "440 "
     ]
    },
    {
     "name": "stderr",
     "output_type": "stream",
     "text": [
      "[I 2019-03-13 06:38:17,507] Finished a trial resulted in value: -0.8943502274370476. Current best value is -0.8981774205947283 with parameters: {'max_leaves': 68, 'min_data_in_leaf': 132, 'max_depth': 11, 'learning_rate': 0.01994937680864578, 'bagging_fraction': 0.7989799769044628, 'feature_fraction': 0.04394960415711974, 'reg_alpha': 4.554854535038391, 'reg_lambda': 0.5697522179330992, 'colsample_bytree': 0.32405638196528846, 'min_gain_to_split': 0.009489537124791505, 'min_child_weight': 0.05603278399827837}.\n"
     ]
    },
    {
     "name": "stdout",
     "output_type": "stream",
     "text": [
      "441 "
     ]
    },
    {
     "name": "stderr",
     "output_type": "stream",
     "text": [
      "[I 2019-03-13 06:39:00,070] Finished a trial resulted in value: -0.8879492888930907. Current best value is -0.8981774205947283 with parameters: {'max_leaves': 68, 'min_data_in_leaf': 132, 'max_depth': 11, 'learning_rate': 0.01994937680864578, 'bagging_fraction': 0.7989799769044628, 'feature_fraction': 0.04394960415711974, 'reg_alpha': 4.554854535038391, 'reg_lambda': 0.5697522179330992, 'colsample_bytree': 0.32405638196528846, 'min_gain_to_split': 0.009489537124791505, 'min_child_weight': 0.05603278399827837}.\n"
     ]
    },
    {
     "name": "stdout",
     "output_type": "stream",
     "text": [
      "442 "
     ]
    },
    {
     "name": "stderr",
     "output_type": "stream",
     "text": [
      "[I 2019-03-13 06:42:15,656] Finished a trial resulted in value: -0.8976067994445586. Current best value is -0.8981774205947283 with parameters: {'max_leaves': 68, 'min_data_in_leaf': 132, 'max_depth': 11, 'learning_rate': 0.01994937680864578, 'bagging_fraction': 0.7989799769044628, 'feature_fraction': 0.04394960415711974, 'reg_alpha': 4.554854535038391, 'reg_lambda': 0.5697522179330992, 'colsample_bytree': 0.32405638196528846, 'min_gain_to_split': 0.009489537124791505, 'min_child_weight': 0.05603278399827837}.\n"
     ]
    },
    {
     "name": "stdout",
     "output_type": "stream",
     "text": [
      "443 "
     ]
    },
    {
     "name": "stderr",
     "output_type": "stream",
     "text": [
      "[I 2019-03-13 06:46:16,457] Finished a trial resulted in value: -0.896426095859209. Current best value is -0.8981774205947283 with parameters: {'max_leaves': 68, 'min_data_in_leaf': 132, 'max_depth': 11, 'learning_rate': 0.01994937680864578, 'bagging_fraction': 0.7989799769044628, 'feature_fraction': 0.04394960415711974, 'reg_alpha': 4.554854535038391, 'reg_lambda': 0.5697522179330992, 'colsample_bytree': 0.32405638196528846, 'min_gain_to_split': 0.009489537124791505, 'min_child_weight': 0.05603278399827837}.\n"
     ]
    },
    {
     "name": "stdout",
     "output_type": "stream",
     "text": [
      "444 "
     ]
    },
    {
     "name": "stderr",
     "output_type": "stream",
     "text": [
      "[I 2019-03-13 06:47:39,872] Finished a trial resulted in value: -0.8886234504545806. Current best value is -0.8981774205947283 with parameters: {'max_leaves': 68, 'min_data_in_leaf': 132, 'max_depth': 11, 'learning_rate': 0.01994937680864578, 'bagging_fraction': 0.7989799769044628, 'feature_fraction': 0.04394960415711974, 'reg_alpha': 4.554854535038391, 'reg_lambda': 0.5697522179330992, 'colsample_bytree': 0.32405638196528846, 'min_gain_to_split': 0.009489537124791505, 'min_child_weight': 0.05603278399827837}.\n"
     ]
    },
    {
     "name": "stdout",
     "output_type": "stream",
     "text": [
      "445 "
     ]
    },
    {
     "name": "stderr",
     "output_type": "stream",
     "text": [
      "[I 2019-03-13 06:48:16,457] Finished a trial resulted in value: -0.8884864600915906. Current best value is -0.8981774205947283 with parameters: {'max_leaves': 68, 'min_data_in_leaf': 132, 'max_depth': 11, 'learning_rate': 0.01994937680864578, 'bagging_fraction': 0.7989799769044628, 'feature_fraction': 0.04394960415711974, 'reg_alpha': 4.554854535038391, 'reg_lambda': 0.5697522179330992, 'colsample_bytree': 0.32405638196528846, 'min_gain_to_split': 0.009489537124791505, 'min_child_weight': 0.05603278399827837}.\n"
     ]
    },
    {
     "name": "stdout",
     "output_type": "stream",
     "text": [
      "446 "
     ]
    },
    {
     "name": "stderr",
     "output_type": "stream",
     "text": [
      "[I 2019-03-13 06:51:54,238] Finished a trial resulted in value: -0.8576907052785461. Current best value is -0.8981774205947283 with parameters: {'max_leaves': 68, 'min_data_in_leaf': 132, 'max_depth': 11, 'learning_rate': 0.01994937680864578, 'bagging_fraction': 0.7989799769044628, 'feature_fraction': 0.04394960415711974, 'reg_alpha': 4.554854535038391, 'reg_lambda': 0.5697522179330992, 'colsample_bytree': 0.32405638196528846, 'min_gain_to_split': 0.009489537124791505, 'min_child_weight': 0.05603278399827837}.\n"
     ]
    },
    {
     "name": "stdout",
     "output_type": "stream",
     "text": [
      "447 "
     ]
    },
    {
     "name": "stderr",
     "output_type": "stream",
     "text": [
      "[I 2019-03-13 06:52:55,076] Finished a trial resulted in value: -0.8925721983868575. Current best value is -0.8981774205947283 with parameters: {'max_leaves': 68, 'min_data_in_leaf': 132, 'max_depth': 11, 'learning_rate': 0.01994937680864578, 'bagging_fraction': 0.7989799769044628, 'feature_fraction': 0.04394960415711974, 'reg_alpha': 4.554854535038391, 'reg_lambda': 0.5697522179330992, 'colsample_bytree': 0.32405638196528846, 'min_gain_to_split': 0.009489537124791505, 'min_child_weight': 0.05603278399827837}.\n"
     ]
    },
    {
     "name": "stdout",
     "output_type": "stream",
     "text": [
      "448 "
     ]
    },
    {
     "name": "stderr",
     "output_type": "stream",
     "text": [
      "[I 2019-03-13 06:53:33,052] Finished a trial resulted in value: -0.8840319190975283. Current best value is -0.8981774205947283 with parameters: {'max_leaves': 68, 'min_data_in_leaf': 132, 'max_depth': 11, 'learning_rate': 0.01994937680864578, 'bagging_fraction': 0.7989799769044628, 'feature_fraction': 0.04394960415711974, 'reg_alpha': 4.554854535038391, 'reg_lambda': 0.5697522179330992, 'colsample_bytree': 0.32405638196528846, 'min_gain_to_split': 0.009489537124791505, 'min_child_weight': 0.05603278399827837}.\n"
     ]
    },
    {
     "name": "stdout",
     "output_type": "stream",
     "text": [
      "449 "
     ]
    },
    {
     "name": "stderr",
     "output_type": "stream",
     "text": [
      "[I 2019-03-13 06:55:15,386] Finished a trial resulted in value: -0.8953081651417213. Current best value is -0.8981774205947283 with parameters: {'max_leaves': 68, 'min_data_in_leaf': 132, 'max_depth': 11, 'learning_rate': 0.01994937680864578, 'bagging_fraction': 0.7989799769044628, 'feature_fraction': 0.04394960415711974, 'reg_alpha': 4.554854535038391, 'reg_lambda': 0.5697522179330992, 'colsample_bytree': 0.32405638196528846, 'min_gain_to_split': 0.009489537124791505, 'min_child_weight': 0.05603278399827837}.\n"
     ]
    },
    {
     "name": "stdout",
     "output_type": "stream",
     "text": [
      "450 "
     ]
    },
    {
     "name": "stderr",
     "output_type": "stream",
     "text": [
      "[I 2019-03-13 06:56:27,783] Finished a trial resulted in value: -0.8935260325648333. Current best value is -0.8981774205947283 with parameters: {'max_leaves': 68, 'min_data_in_leaf': 132, 'max_depth': 11, 'learning_rate': 0.01994937680864578, 'bagging_fraction': 0.7989799769044628, 'feature_fraction': 0.04394960415711974, 'reg_alpha': 4.554854535038391, 'reg_lambda': 0.5697522179330992, 'colsample_bytree': 0.32405638196528846, 'min_gain_to_split': 0.009489537124791505, 'min_child_weight': 0.05603278399827837}.\n"
     ]
    },
    {
     "name": "stdout",
     "output_type": "stream",
     "text": [
      "451 "
     ]
    },
    {
     "name": "stderr",
     "output_type": "stream",
     "text": [
      "[I 2019-03-13 06:58:35,340] Finished a trial resulted in value: -0.8973048673322711. Current best value is -0.8981774205947283 with parameters: {'max_leaves': 68, 'min_data_in_leaf': 132, 'max_depth': 11, 'learning_rate': 0.01994937680864578, 'bagging_fraction': 0.7989799769044628, 'feature_fraction': 0.04394960415711974, 'reg_alpha': 4.554854535038391, 'reg_lambda': 0.5697522179330992, 'colsample_bytree': 0.32405638196528846, 'min_gain_to_split': 0.009489537124791505, 'min_child_weight': 0.05603278399827837}.\n"
     ]
    },
    {
     "name": "stdout",
     "output_type": "stream",
     "text": [
      "452 "
     ]
    },
    {
     "name": "stderr",
     "output_type": "stream",
     "text": [
      "[I 2019-03-13 06:59:17,512] Finished a trial resulted in value: -0.8888902460676618. Current best value is -0.8981774205947283 with parameters: {'max_leaves': 68, 'min_data_in_leaf': 132, 'max_depth': 11, 'learning_rate': 0.01994937680864578, 'bagging_fraction': 0.7989799769044628, 'feature_fraction': 0.04394960415711974, 'reg_alpha': 4.554854535038391, 'reg_lambda': 0.5697522179330992, 'colsample_bytree': 0.32405638196528846, 'min_gain_to_split': 0.009489537124791505, 'min_child_weight': 0.05603278399827837}.\n"
     ]
    },
    {
     "name": "stdout",
     "output_type": "stream",
     "text": [
      "453 "
     ]
    },
    {
     "name": "stderr",
     "output_type": "stream",
     "text": [
      "[I 2019-03-13 07:00:08,971] Finished a trial resulted in value: -0.8938723199369857. Current best value is -0.8981774205947283 with parameters: {'max_leaves': 68, 'min_data_in_leaf': 132, 'max_depth': 11, 'learning_rate': 0.01994937680864578, 'bagging_fraction': 0.7989799769044628, 'feature_fraction': 0.04394960415711974, 'reg_alpha': 4.554854535038391, 'reg_lambda': 0.5697522179330992, 'colsample_bytree': 0.32405638196528846, 'min_gain_to_split': 0.009489537124791505, 'min_child_weight': 0.05603278399827837}.\n"
     ]
    },
    {
     "name": "stdout",
     "output_type": "stream",
     "text": [
      "454 "
     ]
    },
    {
     "name": "stderr",
     "output_type": "stream",
     "text": [
      "[I 2019-03-13 07:00:54,332] Finished a trial resulted in value: -0.8908205749515449. Current best value is -0.8981774205947283 with parameters: {'max_leaves': 68, 'min_data_in_leaf': 132, 'max_depth': 11, 'learning_rate': 0.01994937680864578, 'bagging_fraction': 0.7989799769044628, 'feature_fraction': 0.04394960415711974, 'reg_alpha': 4.554854535038391, 'reg_lambda': 0.5697522179330992, 'colsample_bytree': 0.32405638196528846, 'min_gain_to_split': 0.009489537124791505, 'min_child_weight': 0.05603278399827837}.\n"
     ]
    },
    {
     "name": "stdout",
     "output_type": "stream",
     "text": [
      "455 "
     ]
    },
    {
     "name": "stderr",
     "output_type": "stream",
     "text": [
      "[I 2019-03-13 07:02:30,324] Finished a trial resulted in value: -0.8937745997464532. Current best value is -0.8981774205947283 with parameters: {'max_leaves': 68, 'min_data_in_leaf': 132, 'max_depth': 11, 'learning_rate': 0.01994937680864578, 'bagging_fraction': 0.7989799769044628, 'feature_fraction': 0.04394960415711974, 'reg_alpha': 4.554854535038391, 'reg_lambda': 0.5697522179330992, 'colsample_bytree': 0.32405638196528846, 'min_gain_to_split': 0.009489537124791505, 'min_child_weight': 0.05603278399827837}.\n"
     ]
    },
    {
     "name": "stdout",
     "output_type": "stream",
     "text": [
      "456 "
     ]
    },
    {
     "name": "stderr",
     "output_type": "stream",
     "text": [
      "[I 2019-03-13 07:09:12,476] Finished a trial resulted in value: -0.8948957365083896. Current best value is -0.8981774205947283 with parameters: {'max_leaves': 68, 'min_data_in_leaf': 132, 'max_depth': 11, 'learning_rate': 0.01994937680864578, 'bagging_fraction': 0.7989799769044628, 'feature_fraction': 0.04394960415711974, 'reg_alpha': 4.554854535038391, 'reg_lambda': 0.5697522179330992, 'colsample_bytree': 0.32405638196528846, 'min_gain_to_split': 0.009489537124791505, 'min_child_weight': 0.05603278399827837}.\n"
     ]
    },
    {
     "name": "stdout",
     "output_type": "stream",
     "text": [
      "457 "
     ]
    },
    {
     "name": "stderr",
     "output_type": "stream",
     "text": [
      "[I 2019-03-13 07:09:52,927] Finished a trial resulted in value: -0.8458784117555387. Current best value is -0.8981774205947283 with parameters: {'max_leaves': 68, 'min_data_in_leaf': 132, 'max_depth': 11, 'learning_rate': 0.01994937680864578, 'bagging_fraction': 0.7989799769044628, 'feature_fraction': 0.04394960415711974, 'reg_alpha': 4.554854535038391, 'reg_lambda': 0.5697522179330992, 'colsample_bytree': 0.32405638196528846, 'min_gain_to_split': 0.009489537124791505, 'min_child_weight': 0.05603278399827837}.\n"
     ]
    },
    {
     "name": "stdout",
     "output_type": "stream",
     "text": [
      "458 "
     ]
    },
    {
     "name": "stderr",
     "output_type": "stream",
     "text": [
      "[I 2019-03-13 07:10:24,048] Finished a trial resulted in value: -0.8827816853912145. Current best value is -0.8981774205947283 with parameters: {'max_leaves': 68, 'min_data_in_leaf': 132, 'max_depth': 11, 'learning_rate': 0.01994937680864578, 'bagging_fraction': 0.7989799769044628, 'feature_fraction': 0.04394960415711974, 'reg_alpha': 4.554854535038391, 'reg_lambda': 0.5697522179330992, 'colsample_bytree': 0.32405638196528846, 'min_gain_to_split': 0.009489537124791505, 'min_child_weight': 0.05603278399827837}.\n"
     ]
    },
    {
     "name": "stdout",
     "output_type": "stream",
     "text": [
      "459 "
     ]
    },
    {
     "name": "stderr",
     "output_type": "stream",
     "text": [
      "[I 2019-03-13 07:10:48,761] Finished a trial resulted in value: -0.8472305350036669. Current best value is -0.8981774205947283 with parameters: {'max_leaves': 68, 'min_data_in_leaf': 132, 'max_depth': 11, 'learning_rate': 0.01994937680864578, 'bagging_fraction': 0.7989799769044628, 'feature_fraction': 0.04394960415711974, 'reg_alpha': 4.554854535038391, 'reg_lambda': 0.5697522179330992, 'colsample_bytree': 0.32405638196528846, 'min_gain_to_split': 0.009489537124791505, 'min_child_weight': 0.05603278399827837}.\n"
     ]
    },
    {
     "name": "stdout",
     "output_type": "stream",
     "text": [
      "460 "
     ]
    },
    {
     "name": "stderr",
     "output_type": "stream",
     "text": [
      "[I 2019-03-13 07:12:02,115] Finished a trial resulted in value: -0.8658584912671891. Current best value is -0.8981774205947283 with parameters: {'max_leaves': 68, 'min_data_in_leaf': 132, 'max_depth': 11, 'learning_rate': 0.01994937680864578, 'bagging_fraction': 0.7989799769044628, 'feature_fraction': 0.04394960415711974, 'reg_alpha': 4.554854535038391, 'reg_lambda': 0.5697522179330992, 'colsample_bytree': 0.32405638196528846, 'min_gain_to_split': 0.009489537124791505, 'min_child_weight': 0.05603278399827837}.\n"
     ]
    },
    {
     "name": "stdout",
     "output_type": "stream",
     "text": [
      "461 "
     ]
    },
    {
     "name": "stderr",
     "output_type": "stream",
     "text": [
      "[I 2019-03-13 07:16:30,817] Finished a trial resulted in value: -0.8828527145426229. Current best value is -0.8981774205947283 with parameters: {'max_leaves': 68, 'min_data_in_leaf': 132, 'max_depth': 11, 'learning_rate': 0.01994937680864578, 'bagging_fraction': 0.7989799769044628, 'feature_fraction': 0.04394960415711974, 'reg_alpha': 4.554854535038391, 'reg_lambda': 0.5697522179330992, 'colsample_bytree': 0.32405638196528846, 'min_gain_to_split': 0.009489537124791505, 'min_child_weight': 0.05603278399827837}.\n"
     ]
    },
    {
     "name": "stdout",
     "output_type": "stream",
     "text": [
      "462 "
     ]
    },
    {
     "name": "stderr",
     "output_type": "stream",
     "text": [
      "[I 2019-03-13 07:17:57,368] Finished a trial resulted in value: -0.8970288767438857. Current best value is -0.8981774205947283 with parameters: {'max_leaves': 68, 'min_data_in_leaf': 132, 'max_depth': 11, 'learning_rate': 0.01994937680864578, 'bagging_fraction': 0.7989799769044628, 'feature_fraction': 0.04394960415711974, 'reg_alpha': 4.554854535038391, 'reg_lambda': 0.5697522179330992, 'colsample_bytree': 0.32405638196528846, 'min_gain_to_split': 0.009489537124791505, 'min_child_weight': 0.05603278399827837}.\n"
     ]
    },
    {
     "name": "stdout",
     "output_type": "stream",
     "text": [
      "463 "
     ]
    },
    {
     "name": "stderr",
     "output_type": "stream",
     "text": [
      "[I 2019-03-13 07:18:35,054] Finished a trial resulted in value: -0.8505912152286792. Current best value is -0.8981774205947283 with parameters: {'max_leaves': 68, 'min_data_in_leaf': 132, 'max_depth': 11, 'learning_rate': 0.01994937680864578, 'bagging_fraction': 0.7989799769044628, 'feature_fraction': 0.04394960415711974, 'reg_alpha': 4.554854535038391, 'reg_lambda': 0.5697522179330992, 'colsample_bytree': 0.32405638196528846, 'min_gain_to_split': 0.009489537124791505, 'min_child_weight': 0.05603278399827837}.\n"
     ]
    },
    {
     "name": "stdout",
     "output_type": "stream",
     "text": [
      "464 "
     ]
    },
    {
     "name": "stderr",
     "output_type": "stream",
     "text": [
      "[I 2019-03-13 07:19:32,984] Finished a trial resulted in value: -0.8926675981225143. Current best value is -0.8981774205947283 with parameters: {'max_leaves': 68, 'min_data_in_leaf': 132, 'max_depth': 11, 'learning_rate': 0.01994937680864578, 'bagging_fraction': 0.7989799769044628, 'feature_fraction': 0.04394960415711974, 'reg_alpha': 4.554854535038391, 'reg_lambda': 0.5697522179330992, 'colsample_bytree': 0.32405638196528846, 'min_gain_to_split': 0.009489537124791505, 'min_child_weight': 0.05603278399827837}.\n"
     ]
    },
    {
     "name": "stdout",
     "output_type": "stream",
     "text": [
      "465 "
     ]
    },
    {
     "name": "stderr",
     "output_type": "stream",
     "text": [
      "[I 2019-03-13 07:20:00,419] Finished a trial resulted in value: -0.8519563189188444. Current best value is -0.8981774205947283 with parameters: {'max_leaves': 68, 'min_data_in_leaf': 132, 'max_depth': 11, 'learning_rate': 0.01994937680864578, 'bagging_fraction': 0.7989799769044628, 'feature_fraction': 0.04394960415711974, 'reg_alpha': 4.554854535038391, 'reg_lambda': 0.5697522179330992, 'colsample_bytree': 0.32405638196528846, 'min_gain_to_split': 0.009489537124791505, 'min_child_weight': 0.05603278399827837}.\n"
     ]
    },
    {
     "name": "stdout",
     "output_type": "stream",
     "text": [
      "466 "
     ]
    },
    {
     "name": "stderr",
     "output_type": "stream",
     "text": [
      "[I 2019-03-13 07:20:45,363] Finished a trial resulted in value: -0.8901924087330442. Current best value is -0.8981774205947283 with parameters: {'max_leaves': 68, 'min_data_in_leaf': 132, 'max_depth': 11, 'learning_rate': 0.01994937680864578, 'bagging_fraction': 0.7989799769044628, 'feature_fraction': 0.04394960415711974, 'reg_alpha': 4.554854535038391, 'reg_lambda': 0.5697522179330992, 'colsample_bytree': 0.32405638196528846, 'min_gain_to_split': 0.009489537124791505, 'min_child_weight': 0.05603278399827837}.\n"
     ]
    },
    {
     "name": "stdout",
     "output_type": "stream",
     "text": [
      "467 "
     ]
    },
    {
     "name": "stderr",
     "output_type": "stream",
     "text": [
      "[I 2019-03-13 07:21:21,578] Finished a trial resulted in value: -0.8881679376949492. Current best value is -0.8981774205947283 with parameters: {'max_leaves': 68, 'min_data_in_leaf': 132, 'max_depth': 11, 'learning_rate': 0.01994937680864578, 'bagging_fraction': 0.7989799769044628, 'feature_fraction': 0.04394960415711974, 'reg_alpha': 4.554854535038391, 'reg_lambda': 0.5697522179330992, 'colsample_bytree': 0.32405638196528846, 'min_gain_to_split': 0.009489537124791505, 'min_child_weight': 0.05603278399827837}.\n"
     ]
    },
    {
     "name": "stdout",
     "output_type": "stream",
     "text": [
      "468 "
     ]
    },
    {
     "name": "stderr",
     "output_type": "stream",
     "text": [
      "[I 2019-03-13 07:21:54,286] Finished a trial resulted in value: -0.8862750472346983. Current best value is -0.8981774205947283 with parameters: {'max_leaves': 68, 'min_data_in_leaf': 132, 'max_depth': 11, 'learning_rate': 0.01994937680864578, 'bagging_fraction': 0.7989799769044628, 'feature_fraction': 0.04394960415711974, 'reg_alpha': 4.554854535038391, 'reg_lambda': 0.5697522179330992, 'colsample_bytree': 0.32405638196528846, 'min_gain_to_split': 0.009489537124791505, 'min_child_weight': 0.05603278399827837}.\n"
     ]
    },
    {
     "name": "stdout",
     "output_type": "stream",
     "text": [
      "469 "
     ]
    },
    {
     "name": "stderr",
     "output_type": "stream",
     "text": [
      "[I 2019-03-13 07:22:28,724] Finished a trial resulted in value: -0.8806323694556144. Current best value is -0.8981774205947283 with parameters: {'max_leaves': 68, 'min_data_in_leaf': 132, 'max_depth': 11, 'learning_rate': 0.01994937680864578, 'bagging_fraction': 0.7989799769044628, 'feature_fraction': 0.04394960415711974, 'reg_alpha': 4.554854535038391, 'reg_lambda': 0.5697522179330992, 'colsample_bytree': 0.32405638196528846, 'min_gain_to_split': 0.009489537124791505, 'min_child_weight': 0.05603278399827837}.\n"
     ]
    },
    {
     "name": "stdout",
     "output_type": "stream",
     "text": [
      "470 "
     ]
    },
    {
     "name": "stderr",
     "output_type": "stream",
     "text": [
      "[I 2019-03-13 07:23:20,413] Finished a trial resulted in value: -0.8927984432904044. Current best value is -0.8981774205947283 with parameters: {'max_leaves': 68, 'min_data_in_leaf': 132, 'max_depth': 11, 'learning_rate': 0.01994937680864578, 'bagging_fraction': 0.7989799769044628, 'feature_fraction': 0.04394960415711974, 'reg_alpha': 4.554854535038391, 'reg_lambda': 0.5697522179330992, 'colsample_bytree': 0.32405638196528846, 'min_gain_to_split': 0.009489537124791505, 'min_child_weight': 0.05603278399827837}.\n"
     ]
    },
    {
     "name": "stdout",
     "output_type": "stream",
     "text": [
      "471 "
     ]
    },
    {
     "name": "stderr",
     "output_type": "stream",
     "text": [
      "[I 2019-03-13 07:24:36,941] Finished a trial resulted in value: -0.8942866771200015. Current best value is -0.8981774205947283 with parameters: {'max_leaves': 68, 'min_data_in_leaf': 132, 'max_depth': 11, 'learning_rate': 0.01994937680864578, 'bagging_fraction': 0.7989799769044628, 'feature_fraction': 0.04394960415711974, 'reg_alpha': 4.554854535038391, 'reg_lambda': 0.5697522179330992, 'colsample_bytree': 0.32405638196528846, 'min_gain_to_split': 0.009489537124791505, 'min_child_weight': 0.05603278399827837}.\n"
     ]
    },
    {
     "name": "stdout",
     "output_type": "stream",
     "text": [
      "472 "
     ]
    },
    {
     "name": "stderr",
     "output_type": "stream",
     "text": [
      "[I 2019-03-13 07:27:51,511] Finished a trial resulted in value: -0.897584009203476. Current best value is -0.8981774205947283 with parameters: {'max_leaves': 68, 'min_data_in_leaf': 132, 'max_depth': 11, 'learning_rate': 0.01994937680864578, 'bagging_fraction': 0.7989799769044628, 'feature_fraction': 0.04394960415711974, 'reg_alpha': 4.554854535038391, 'reg_lambda': 0.5697522179330992, 'colsample_bytree': 0.32405638196528846, 'min_gain_to_split': 0.009489537124791505, 'min_child_weight': 0.05603278399827837}.\n"
     ]
    },
    {
     "name": "stdout",
     "output_type": "stream",
     "text": [
      "473 "
     ]
    },
    {
     "name": "stderr",
     "output_type": "stream",
     "text": [
      "[I 2019-03-13 07:29:13,579] Finished a trial resulted in value: -0.8672699722488753. Current best value is -0.8981774205947283 with parameters: {'max_leaves': 68, 'min_data_in_leaf': 132, 'max_depth': 11, 'learning_rate': 0.01994937680864578, 'bagging_fraction': 0.7989799769044628, 'feature_fraction': 0.04394960415711974, 'reg_alpha': 4.554854535038391, 'reg_lambda': 0.5697522179330992, 'colsample_bytree': 0.32405638196528846, 'min_gain_to_split': 0.009489537124791505, 'min_child_weight': 0.05603278399827837}.\n"
     ]
    },
    {
     "name": "stdout",
     "output_type": "stream",
     "text": [
      "474 "
     ]
    },
    {
     "name": "stderr",
     "output_type": "stream",
     "text": [
      "[I 2019-03-13 07:30:42,076] Finished a trial resulted in value: -0.8971942737337941. Current best value is -0.8981774205947283 with parameters: {'max_leaves': 68, 'min_data_in_leaf': 132, 'max_depth': 11, 'learning_rate': 0.01994937680864578, 'bagging_fraction': 0.7989799769044628, 'feature_fraction': 0.04394960415711974, 'reg_alpha': 4.554854535038391, 'reg_lambda': 0.5697522179330992, 'colsample_bytree': 0.32405638196528846, 'min_gain_to_split': 0.009489537124791505, 'min_child_weight': 0.05603278399827837}.\n"
     ]
    },
    {
     "name": "stdout",
     "output_type": "stream",
     "text": [
      "475 "
     ]
    },
    {
     "name": "stderr",
     "output_type": "stream",
     "text": [
      "[I 2019-03-13 07:31:10,840] Finished a trial resulted in value: -0.8592875018245993. Current best value is -0.8981774205947283 with parameters: {'max_leaves': 68, 'min_data_in_leaf': 132, 'max_depth': 11, 'learning_rate': 0.01994937680864578, 'bagging_fraction': 0.7989799769044628, 'feature_fraction': 0.04394960415711974, 'reg_alpha': 4.554854535038391, 'reg_lambda': 0.5697522179330992, 'colsample_bytree': 0.32405638196528846, 'min_gain_to_split': 0.009489537124791505, 'min_child_weight': 0.05603278399827837}.\n"
     ]
    },
    {
     "name": "stdout",
     "output_type": "stream",
     "text": [
      "476 "
     ]
    },
    {
     "name": "stderr",
     "output_type": "stream",
     "text": [
      "[I 2019-03-13 07:32:01,533] Finished a trial resulted in value: -0.8905504142640329. Current best value is -0.8981774205947283 with parameters: {'max_leaves': 68, 'min_data_in_leaf': 132, 'max_depth': 11, 'learning_rate': 0.01994937680864578, 'bagging_fraction': 0.7989799769044628, 'feature_fraction': 0.04394960415711974, 'reg_alpha': 4.554854535038391, 'reg_lambda': 0.5697522179330992, 'colsample_bytree': 0.32405638196528846, 'min_gain_to_split': 0.009489537124791505, 'min_child_weight': 0.05603278399827837}.\n"
     ]
    },
    {
     "name": "stdout",
     "output_type": "stream",
     "text": [
      "477 "
     ]
    },
    {
     "name": "stderr",
     "output_type": "stream",
     "text": [
      "[I 2019-03-13 07:33:02,304] Finished a trial resulted in value: -0.8926023183889797. Current best value is -0.8981774205947283 with parameters: {'max_leaves': 68, 'min_data_in_leaf': 132, 'max_depth': 11, 'learning_rate': 0.01994937680864578, 'bagging_fraction': 0.7989799769044628, 'feature_fraction': 0.04394960415711974, 'reg_alpha': 4.554854535038391, 'reg_lambda': 0.5697522179330992, 'colsample_bytree': 0.32405638196528846, 'min_gain_to_split': 0.009489537124791505, 'min_child_weight': 0.05603278399827837}.\n"
     ]
    },
    {
     "name": "stdout",
     "output_type": "stream",
     "text": [
      "478 "
     ]
    },
    {
     "name": "stderr",
     "output_type": "stream",
     "text": [
      "[I 2019-03-13 07:34:29,310] Finished a trial resulted in value: -0.8948731036378461. Current best value is -0.8981774205947283 with parameters: {'max_leaves': 68, 'min_data_in_leaf': 132, 'max_depth': 11, 'learning_rate': 0.01994937680864578, 'bagging_fraction': 0.7989799769044628, 'feature_fraction': 0.04394960415711974, 'reg_alpha': 4.554854535038391, 'reg_lambda': 0.5697522179330992, 'colsample_bytree': 0.32405638196528846, 'min_gain_to_split': 0.009489537124791505, 'min_child_weight': 0.05603278399827837}.\n"
     ]
    },
    {
     "name": "stdout",
     "output_type": "stream",
     "text": [
      "479 "
     ]
    },
    {
     "name": "stderr",
     "output_type": "stream",
     "text": [
      "[I 2019-03-13 07:46:50,087] Finished a trial resulted in value: -0.784586882459847. Current best value is -0.8981774205947283 with parameters: {'max_leaves': 68, 'min_data_in_leaf': 132, 'max_depth': 11, 'learning_rate': 0.01994937680864578, 'bagging_fraction': 0.7989799769044628, 'feature_fraction': 0.04394960415711974, 'reg_alpha': 4.554854535038391, 'reg_lambda': 0.5697522179330992, 'colsample_bytree': 0.32405638196528846, 'min_gain_to_split': 0.009489537124791505, 'min_child_weight': 0.05603278399827837}.\n"
     ]
    },
    {
     "name": "stdout",
     "output_type": "stream",
     "text": [
      "480 "
     ]
    },
    {
     "name": "stderr",
     "output_type": "stream",
     "text": [
      "[I 2019-03-13 07:48:43,954] Finished a trial resulted in value: -0.8975164908809349. Current best value is -0.8981774205947283 with parameters: {'max_leaves': 68, 'min_data_in_leaf': 132, 'max_depth': 11, 'learning_rate': 0.01994937680864578, 'bagging_fraction': 0.7989799769044628, 'feature_fraction': 0.04394960415711974, 'reg_alpha': 4.554854535038391, 'reg_lambda': 0.5697522179330992, 'colsample_bytree': 0.32405638196528846, 'min_gain_to_split': 0.009489537124791505, 'min_child_weight': 0.05603278399827837}.\n"
     ]
    },
    {
     "name": "stdout",
     "output_type": "stream",
     "text": [
      "481 "
     ]
    },
    {
     "name": "stderr",
     "output_type": "stream",
     "text": [
      "[I 2019-03-13 07:49:10,195] Finished a trial resulted in value: -0.8415963878694213. Current best value is -0.8981774205947283 with parameters: {'max_leaves': 68, 'min_data_in_leaf': 132, 'max_depth': 11, 'learning_rate': 0.01994937680864578, 'bagging_fraction': 0.7989799769044628, 'feature_fraction': 0.04394960415711974, 'reg_alpha': 4.554854535038391, 'reg_lambda': 0.5697522179330992, 'colsample_bytree': 0.32405638196528846, 'min_gain_to_split': 0.009489537124791505, 'min_child_weight': 0.05603278399827837}.\n"
     ]
    },
    {
     "name": "stdout",
     "output_type": "stream",
     "text": [
      "482 "
     ]
    },
    {
     "name": "stderr",
     "output_type": "stream",
     "text": [
      "[I 2019-03-13 07:49:50,961] Finished a trial resulted in value: -0.8907622087353563. Current best value is -0.8981774205947283 with parameters: {'max_leaves': 68, 'min_data_in_leaf': 132, 'max_depth': 11, 'learning_rate': 0.01994937680864578, 'bagging_fraction': 0.7989799769044628, 'feature_fraction': 0.04394960415711974, 'reg_alpha': 4.554854535038391, 'reg_lambda': 0.5697522179330992, 'colsample_bytree': 0.32405638196528846, 'min_gain_to_split': 0.009489537124791505, 'min_child_weight': 0.05603278399827837}.\n"
     ]
    },
    {
     "name": "stdout",
     "output_type": "stream",
     "text": [
      "483 "
     ]
    },
    {
     "name": "stderr",
     "output_type": "stream",
     "text": [
      "[I 2019-03-13 07:50:26,533] Finished a trial resulted in value: -0.8851284673349965. Current best value is -0.8981774205947283 with parameters: {'max_leaves': 68, 'min_data_in_leaf': 132, 'max_depth': 11, 'learning_rate': 0.01994937680864578, 'bagging_fraction': 0.7989799769044628, 'feature_fraction': 0.04394960415711974, 'reg_alpha': 4.554854535038391, 'reg_lambda': 0.5697522179330992, 'colsample_bytree': 0.32405638196528846, 'min_gain_to_split': 0.009489537124791505, 'min_child_weight': 0.05603278399827837}.\n"
     ]
    },
    {
     "name": "stdout",
     "output_type": "stream",
     "text": [
      "484 "
     ]
    },
    {
     "name": "stderr",
     "output_type": "stream",
     "text": [
      "[I 2019-03-13 07:50:51,648] Finished a trial resulted in value: -0.8739824300621899. Current best value is -0.8981774205947283 with parameters: {'max_leaves': 68, 'min_data_in_leaf': 132, 'max_depth': 11, 'learning_rate': 0.01994937680864578, 'bagging_fraction': 0.7989799769044628, 'feature_fraction': 0.04394960415711974, 'reg_alpha': 4.554854535038391, 'reg_lambda': 0.5697522179330992, 'colsample_bytree': 0.32405638196528846, 'min_gain_to_split': 0.009489537124791505, 'min_child_weight': 0.05603278399827837}.\n"
     ]
    },
    {
     "name": "stdout",
     "output_type": "stream",
     "text": [
      "485 "
     ]
    },
    {
     "name": "stderr",
     "output_type": "stream",
     "text": [
      "[I 2019-03-13 07:51:23,269] Finished a trial resulted in value: -0.8738308526394782. Current best value is -0.8981774205947283 with parameters: {'max_leaves': 68, 'min_data_in_leaf': 132, 'max_depth': 11, 'learning_rate': 0.01994937680864578, 'bagging_fraction': 0.7989799769044628, 'feature_fraction': 0.04394960415711974, 'reg_alpha': 4.554854535038391, 'reg_lambda': 0.5697522179330992, 'colsample_bytree': 0.32405638196528846, 'min_gain_to_split': 0.009489537124791505, 'min_child_weight': 0.05603278399827837}.\n"
     ]
    },
    {
     "name": "stdout",
     "output_type": "stream",
     "text": [
      "486 "
     ]
    },
    {
     "name": "stderr",
     "output_type": "stream",
     "text": [
      "[I 2019-03-13 07:52:29,784] Finished a trial resulted in value: -0.8914062502947241. Current best value is -0.8981774205947283 with parameters: {'max_leaves': 68, 'min_data_in_leaf': 132, 'max_depth': 11, 'learning_rate': 0.01994937680864578, 'bagging_fraction': 0.7989799769044628, 'feature_fraction': 0.04394960415711974, 'reg_alpha': 4.554854535038391, 'reg_lambda': 0.5697522179330992, 'colsample_bytree': 0.32405638196528846, 'min_gain_to_split': 0.009489537124791505, 'min_child_weight': 0.05603278399827837}.\n"
     ]
    },
    {
     "name": "stdout",
     "output_type": "stream",
     "text": [
      "487 "
     ]
    },
    {
     "name": "stderr",
     "output_type": "stream",
     "text": [
      "[I 2019-03-13 07:53:47,658] Finished a trial resulted in value: -0.8796828249385595. Current best value is -0.8981774205947283 with parameters: {'max_leaves': 68, 'min_data_in_leaf': 132, 'max_depth': 11, 'learning_rate': 0.01994937680864578, 'bagging_fraction': 0.7989799769044628, 'feature_fraction': 0.04394960415711974, 'reg_alpha': 4.554854535038391, 'reg_lambda': 0.5697522179330992, 'colsample_bytree': 0.32405638196528846, 'min_gain_to_split': 0.009489537124791505, 'min_child_weight': 0.05603278399827837}.\n"
     ]
    },
    {
     "name": "stdout",
     "output_type": "stream",
     "text": [
      "488 "
     ]
    },
    {
     "name": "stderr",
     "output_type": "stream",
     "text": [
      "[I 2019-03-13 07:55:17,765] Finished a trial resulted in value: -0.8954444577088049. Current best value is -0.8981774205947283 with parameters: {'max_leaves': 68, 'min_data_in_leaf': 132, 'max_depth': 11, 'learning_rate': 0.01994937680864578, 'bagging_fraction': 0.7989799769044628, 'feature_fraction': 0.04394960415711974, 'reg_alpha': 4.554854535038391, 'reg_lambda': 0.5697522179330992, 'colsample_bytree': 0.32405638196528846, 'min_gain_to_split': 0.009489537124791505, 'min_child_weight': 0.05603278399827837}.\n"
     ]
    },
    {
     "name": "stdout",
     "output_type": "stream",
     "text": [
      "489 "
     ]
    },
    {
     "name": "stderr",
     "output_type": "stream",
     "text": [
      "[I 2019-03-13 07:55:48,363] Finished a trial resulted in value: -0.8043570357567515. Current best value is -0.8981774205947283 with parameters: {'max_leaves': 68, 'min_data_in_leaf': 132, 'max_depth': 11, 'learning_rate': 0.01994937680864578, 'bagging_fraction': 0.7989799769044628, 'feature_fraction': 0.04394960415711974, 'reg_alpha': 4.554854535038391, 'reg_lambda': 0.5697522179330992, 'colsample_bytree': 0.32405638196528846, 'min_gain_to_split': 0.009489537124791505, 'min_child_weight': 0.05603278399827837}.\n"
     ]
    },
    {
     "name": "stdout",
     "output_type": "stream",
     "text": [
      "490 "
     ]
    },
    {
     "name": "stderr",
     "output_type": "stream",
     "text": [
      "[I 2019-03-13 07:56:35,660] Finished a trial resulted in value: -0.88939566962674. Current best value is -0.8981774205947283 with parameters: {'max_leaves': 68, 'min_data_in_leaf': 132, 'max_depth': 11, 'learning_rate': 0.01994937680864578, 'bagging_fraction': 0.7989799769044628, 'feature_fraction': 0.04394960415711974, 'reg_alpha': 4.554854535038391, 'reg_lambda': 0.5697522179330992, 'colsample_bytree': 0.32405638196528846, 'min_gain_to_split': 0.009489537124791505, 'min_child_weight': 0.05603278399827837}.\n"
     ]
    },
    {
     "name": "stdout",
     "output_type": "stream",
     "text": [
      "491 "
     ]
    },
    {
     "name": "stderr",
     "output_type": "stream",
     "text": [
      "[I 2019-03-13 07:59:17,266] Finished a trial resulted in value: -0.8970744168462638. Current best value is -0.8981774205947283 with parameters: {'max_leaves': 68, 'min_data_in_leaf': 132, 'max_depth': 11, 'learning_rate': 0.01994937680864578, 'bagging_fraction': 0.7989799769044628, 'feature_fraction': 0.04394960415711974, 'reg_alpha': 4.554854535038391, 'reg_lambda': 0.5697522179330992, 'colsample_bytree': 0.32405638196528846, 'min_gain_to_split': 0.009489537124791505, 'min_child_weight': 0.05603278399827837}.\n"
     ]
    },
    {
     "name": "stdout",
     "output_type": "stream",
     "text": [
      "492 "
     ]
    },
    {
     "name": "stderr",
     "output_type": "stream",
     "text": [
      "[I 2019-03-13 07:59:43,301] Finished a trial resulted in value: -0.860383589566553. Current best value is -0.8981774205947283 with parameters: {'max_leaves': 68, 'min_data_in_leaf': 132, 'max_depth': 11, 'learning_rate': 0.01994937680864578, 'bagging_fraction': 0.7989799769044628, 'feature_fraction': 0.04394960415711974, 'reg_alpha': 4.554854535038391, 'reg_lambda': 0.5697522179330992, 'colsample_bytree': 0.32405638196528846, 'min_gain_to_split': 0.009489537124791505, 'min_child_weight': 0.05603278399827837}.\n"
     ]
    },
    {
     "name": "stdout",
     "output_type": "stream",
     "text": [
      "493 "
     ]
    },
    {
     "name": "stderr",
     "output_type": "stream",
     "text": [
      "[I 2019-03-13 08:00:13,440] Finished a trial resulted in value: -0.8858610341095926. Current best value is -0.8981774205947283 with parameters: {'max_leaves': 68, 'min_data_in_leaf': 132, 'max_depth': 11, 'learning_rate': 0.01994937680864578, 'bagging_fraction': 0.7989799769044628, 'feature_fraction': 0.04394960415711974, 'reg_alpha': 4.554854535038391, 'reg_lambda': 0.5697522179330992, 'colsample_bytree': 0.32405638196528846, 'min_gain_to_split': 0.009489537124791505, 'min_child_weight': 0.05603278399827837}.\n"
     ]
    },
    {
     "name": "stdout",
     "output_type": "stream",
     "text": [
      "494 "
     ]
    },
    {
     "name": "stderr",
     "output_type": "stream",
     "text": [
      "[I 2019-03-13 08:01:36,076] Finished a trial resulted in value: -0.8696933953047197. Current best value is -0.8981774205947283 with parameters: {'max_leaves': 68, 'min_data_in_leaf': 132, 'max_depth': 11, 'learning_rate': 0.01994937680864578, 'bagging_fraction': 0.7989799769044628, 'feature_fraction': 0.04394960415711974, 'reg_alpha': 4.554854535038391, 'reg_lambda': 0.5697522179330992, 'colsample_bytree': 0.32405638196528846, 'min_gain_to_split': 0.009489537124791505, 'min_child_weight': 0.05603278399827837}.\n"
     ]
    },
    {
     "name": "stdout",
     "output_type": "stream",
     "text": [
      "495 "
     ]
    },
    {
     "name": "stderr",
     "output_type": "stream",
     "text": [
      "[I 2019-03-13 08:02:46,037] Finished a trial resulted in value: -0.8893661774473317. Current best value is -0.8981774205947283 with parameters: {'max_leaves': 68, 'min_data_in_leaf': 132, 'max_depth': 11, 'learning_rate': 0.01994937680864578, 'bagging_fraction': 0.7989799769044628, 'feature_fraction': 0.04394960415711974, 'reg_alpha': 4.554854535038391, 'reg_lambda': 0.5697522179330992, 'colsample_bytree': 0.32405638196528846, 'min_gain_to_split': 0.009489537124791505, 'min_child_weight': 0.05603278399827837}.\n"
     ]
    },
    {
     "name": "stdout",
     "output_type": "stream",
     "text": [
      "496 "
     ]
    },
    {
     "name": "stderr",
     "output_type": "stream",
     "text": [
      "[I 2019-03-13 08:03:14,189] Finished a trial resulted in value: -0.8788049788817088. Current best value is -0.8981774205947283 with parameters: {'max_leaves': 68, 'min_data_in_leaf': 132, 'max_depth': 11, 'learning_rate': 0.01994937680864578, 'bagging_fraction': 0.7989799769044628, 'feature_fraction': 0.04394960415711974, 'reg_alpha': 4.554854535038391, 'reg_lambda': 0.5697522179330992, 'colsample_bytree': 0.32405638196528846, 'min_gain_to_split': 0.009489537124791505, 'min_child_weight': 0.05603278399827837}.\n"
     ]
    },
    {
     "name": "stdout",
     "output_type": "stream",
     "text": [
      "497 "
     ]
    },
    {
     "name": "stderr",
     "output_type": "stream",
     "text": [
      "[I 2019-03-13 08:03:49,103] Finished a trial resulted in value: -0.8857216342349364. Current best value is -0.8981774205947283 with parameters: {'max_leaves': 68, 'min_data_in_leaf': 132, 'max_depth': 11, 'learning_rate': 0.01994937680864578, 'bagging_fraction': 0.7989799769044628, 'feature_fraction': 0.04394960415711974, 'reg_alpha': 4.554854535038391, 'reg_lambda': 0.5697522179330992, 'colsample_bytree': 0.32405638196528846, 'min_gain_to_split': 0.009489537124791505, 'min_child_weight': 0.05603278399827837}.\n"
     ]
    },
    {
     "name": "stdout",
     "output_type": "stream",
     "text": [
      "498 "
     ]
    },
    {
     "name": "stderr",
     "output_type": "stream",
     "text": [
      "[I 2019-03-13 08:04:50,381] Finished a trial resulted in value: -0.8935019565317701. Current best value is -0.8981774205947283 with parameters: {'max_leaves': 68, 'min_data_in_leaf': 132, 'max_depth': 11, 'learning_rate': 0.01994937680864578, 'bagging_fraction': 0.7989799769044628, 'feature_fraction': 0.04394960415711974, 'reg_alpha': 4.554854535038391, 'reg_lambda': 0.5697522179330992, 'colsample_bytree': 0.32405638196528846, 'min_gain_to_split': 0.009489537124791505, 'min_child_weight': 0.05603278399827837}.\n"
     ]
    },
    {
     "name": "stdout",
     "output_type": "stream",
     "text": [
      "499 "
     ]
    },
    {
     "name": "stderr",
     "output_type": "stream",
     "text": [
      "[I 2019-03-13 08:05:31,436] Finished a trial resulted in value: -0.8864528811989643. Current best value is -0.8981774205947283 with parameters: {'max_leaves': 68, 'min_data_in_leaf': 132, 'max_depth': 11, 'learning_rate': 0.01994937680864578, 'bagging_fraction': 0.7989799769044628, 'feature_fraction': 0.04394960415711974, 'reg_alpha': 4.554854535038391, 'reg_lambda': 0.5697522179330992, 'colsample_bytree': 0.32405638196528846, 'min_gain_to_split': 0.009489537124791505, 'min_child_weight': 0.05603278399827837}.\n"
     ]
    },
    {
     "name": "stdout",
     "output_type": "stream",
     "text": [
      "500 "
     ]
    },
    {
     "name": "stderr",
     "output_type": "stream",
     "text": [
      "[I 2019-03-13 08:09:47,303] Finished a trial resulted in value: -0.8967066230889924. Current best value is -0.8981774205947283 with parameters: {'max_leaves': 68, 'min_data_in_leaf': 132, 'max_depth': 11, 'learning_rate': 0.01994937680864578, 'bagging_fraction': 0.7989799769044628, 'feature_fraction': 0.04394960415711974, 'reg_alpha': 4.554854535038391, 'reg_lambda': 0.5697522179330992, 'colsample_bytree': 0.32405638196528846, 'min_gain_to_split': 0.009489537124791505, 'min_child_weight': 0.05603278399827837}.\n"
     ]
    },
    {
     "name": "stdout",
     "output_type": "stream",
     "text": [
      "501 "
     ]
    },
    {
     "name": "stderr",
     "output_type": "stream",
     "text": [
      "[I 2019-03-13 08:11:02,170] Finished a trial resulted in value: -0.8958555850620185. Current best value is -0.8981774205947283 with parameters: {'max_leaves': 68, 'min_data_in_leaf': 132, 'max_depth': 11, 'learning_rate': 0.01994937680864578, 'bagging_fraction': 0.7989799769044628, 'feature_fraction': 0.04394960415711974, 'reg_alpha': 4.554854535038391, 'reg_lambda': 0.5697522179330992, 'colsample_bytree': 0.32405638196528846, 'min_gain_to_split': 0.009489537124791505, 'min_child_weight': 0.05603278399827837}.\n"
     ]
    },
    {
     "name": "stdout",
     "output_type": "stream",
     "text": [
      "502 "
     ]
    },
    {
     "name": "stderr",
     "output_type": "stream",
     "text": [
      "[I 2019-03-13 08:13:31,815] Finished a trial resulted in value: -0.8752757951889374. Current best value is -0.8981774205947283 with parameters: {'max_leaves': 68, 'min_data_in_leaf': 132, 'max_depth': 11, 'learning_rate': 0.01994937680864578, 'bagging_fraction': 0.7989799769044628, 'feature_fraction': 0.04394960415711974, 'reg_alpha': 4.554854535038391, 'reg_lambda': 0.5697522179330992, 'colsample_bytree': 0.32405638196528846, 'min_gain_to_split': 0.009489537124791505, 'min_child_weight': 0.05603278399827837}.\n"
     ]
    },
    {
     "name": "stdout",
     "output_type": "stream",
     "text": [
      "503 "
     ]
    },
    {
     "name": "stderr",
     "output_type": "stream",
     "text": [
      "[I 2019-03-13 08:13:55,520] Finished a trial resulted in value: -0.8525190983697176. Current best value is -0.8981774205947283 with parameters: {'max_leaves': 68, 'min_data_in_leaf': 132, 'max_depth': 11, 'learning_rate': 0.01994937680864578, 'bagging_fraction': 0.7989799769044628, 'feature_fraction': 0.04394960415711974, 'reg_alpha': 4.554854535038391, 'reg_lambda': 0.5697522179330992, 'colsample_bytree': 0.32405638196528846, 'min_gain_to_split': 0.009489537124791505, 'min_child_weight': 0.05603278399827837}.\n"
     ]
    },
    {
     "name": "stdout",
     "output_type": "stream",
     "text": [
      "504 "
     ]
    },
    {
     "name": "stderr",
     "output_type": "stream",
     "text": [
      "[I 2019-03-13 08:14:52,859] Finished a trial resulted in value: -0.8942796369318173. Current best value is -0.8981774205947283 with parameters: {'max_leaves': 68, 'min_data_in_leaf': 132, 'max_depth': 11, 'learning_rate': 0.01994937680864578, 'bagging_fraction': 0.7989799769044628, 'feature_fraction': 0.04394960415711974, 'reg_alpha': 4.554854535038391, 'reg_lambda': 0.5697522179330992, 'colsample_bytree': 0.32405638196528846, 'min_gain_to_split': 0.009489537124791505, 'min_child_weight': 0.05603278399827837}.\n"
     ]
    },
    {
     "name": "stdout",
     "output_type": "stream",
     "text": [
      "505 "
     ]
    },
    {
     "name": "stderr",
     "output_type": "stream",
     "text": [
      "[I 2019-03-13 08:22:37,524] Finished a trial resulted in value: -0.8460721738862836. Current best value is -0.8981774205947283 with parameters: {'max_leaves': 68, 'min_data_in_leaf': 132, 'max_depth': 11, 'learning_rate': 0.01994937680864578, 'bagging_fraction': 0.7989799769044628, 'feature_fraction': 0.04394960415711974, 'reg_alpha': 4.554854535038391, 'reg_lambda': 0.5697522179330992, 'colsample_bytree': 0.32405638196528846, 'min_gain_to_split': 0.009489537124791505, 'min_child_weight': 0.05603278399827837}.\n"
     ]
    },
    {
     "name": "stdout",
     "output_type": "stream",
     "text": [
      "506 "
     ]
    },
    {
     "name": "stderr",
     "output_type": "stream",
     "text": [
      "[I 2019-03-13 08:23:23,212] Finished a trial resulted in value: -0.8923095779331098. Current best value is -0.8981774205947283 with parameters: {'max_leaves': 68, 'min_data_in_leaf': 132, 'max_depth': 11, 'learning_rate': 0.01994937680864578, 'bagging_fraction': 0.7989799769044628, 'feature_fraction': 0.04394960415711974, 'reg_alpha': 4.554854535038391, 'reg_lambda': 0.5697522179330992, 'colsample_bytree': 0.32405638196528846, 'min_gain_to_split': 0.009489537124791505, 'min_child_weight': 0.05603278399827837}.\n"
     ]
    },
    {
     "name": "stdout",
     "output_type": "stream",
     "text": [
      "507 "
     ]
    },
    {
     "name": "stderr",
     "output_type": "stream",
     "text": [
      "[I 2019-03-13 08:23:55,973] Finished a trial resulted in value: -0.8803455432556526. Current best value is -0.8981774205947283 with parameters: {'max_leaves': 68, 'min_data_in_leaf': 132, 'max_depth': 11, 'learning_rate': 0.01994937680864578, 'bagging_fraction': 0.7989799769044628, 'feature_fraction': 0.04394960415711974, 'reg_alpha': 4.554854535038391, 'reg_lambda': 0.5697522179330992, 'colsample_bytree': 0.32405638196528846, 'min_gain_to_split': 0.009489537124791505, 'min_child_weight': 0.05603278399827837}.\n"
     ]
    },
    {
     "name": "stdout",
     "output_type": "stream",
     "text": [
      "508 "
     ]
    },
    {
     "name": "stderr",
     "output_type": "stream",
     "text": [
      "[I 2019-03-13 08:24:52,178] Finished a trial resulted in value: -0.8835881372191317. Current best value is -0.8981774205947283 with parameters: {'max_leaves': 68, 'min_data_in_leaf': 132, 'max_depth': 11, 'learning_rate': 0.01994937680864578, 'bagging_fraction': 0.7989799769044628, 'feature_fraction': 0.04394960415711974, 'reg_alpha': 4.554854535038391, 'reg_lambda': 0.5697522179330992, 'colsample_bytree': 0.32405638196528846, 'min_gain_to_split': 0.009489537124791505, 'min_child_weight': 0.05603278399827837}.\n"
     ]
    },
    {
     "name": "stdout",
     "output_type": "stream",
     "text": [
      "509 "
     ]
    },
    {
     "name": "stderr",
     "output_type": "stream",
     "text": [
      "[I 2019-03-13 08:26:00,716] Finished a trial resulted in value: -0.8938382640119389. Current best value is -0.8981774205947283 with parameters: {'max_leaves': 68, 'min_data_in_leaf': 132, 'max_depth': 11, 'learning_rate': 0.01994937680864578, 'bagging_fraction': 0.7989799769044628, 'feature_fraction': 0.04394960415711974, 'reg_alpha': 4.554854535038391, 'reg_lambda': 0.5697522179330992, 'colsample_bytree': 0.32405638196528846, 'min_gain_to_split': 0.009489537124791505, 'min_child_weight': 0.05603278399827837}.\n"
     ]
    },
    {
     "name": "stdout",
     "output_type": "stream",
     "text": [
      "510 "
     ]
    },
    {
     "name": "stderr",
     "output_type": "stream",
     "text": [
      "[I 2019-03-13 08:28:23,289] Finished a trial resulted in value: -0.897146038142355. Current best value is -0.8981774205947283 with parameters: {'max_leaves': 68, 'min_data_in_leaf': 132, 'max_depth': 11, 'learning_rate': 0.01994937680864578, 'bagging_fraction': 0.7989799769044628, 'feature_fraction': 0.04394960415711974, 'reg_alpha': 4.554854535038391, 'reg_lambda': 0.5697522179330992, 'colsample_bytree': 0.32405638196528846, 'min_gain_to_split': 0.009489537124791505, 'min_child_weight': 0.05603278399827837}.\n"
     ]
    },
    {
     "name": "stdout",
     "output_type": "stream",
     "text": [
      "511 "
     ]
    },
    {
     "name": "stderr",
     "output_type": "stream",
     "text": [
      "[I 2019-03-13 08:29:12,660] Finished a trial resulted in value: -0.8918304476999126. Current best value is -0.8981774205947283 with parameters: {'max_leaves': 68, 'min_data_in_leaf': 132, 'max_depth': 11, 'learning_rate': 0.01994937680864578, 'bagging_fraction': 0.7989799769044628, 'feature_fraction': 0.04394960415711974, 'reg_alpha': 4.554854535038391, 'reg_lambda': 0.5697522179330992, 'colsample_bytree': 0.32405638196528846, 'min_gain_to_split': 0.009489537124791505, 'min_child_weight': 0.05603278399827837}.\n"
     ]
    },
    {
     "name": "stdout",
     "output_type": "stream",
     "text": [
      "512 "
     ]
    },
    {
     "name": "stderr",
     "output_type": "stream",
     "text": [
      "[I 2019-03-13 08:30:18,614] Finished a trial resulted in value: -0.8836617412733878. Current best value is -0.8981774205947283 with parameters: {'max_leaves': 68, 'min_data_in_leaf': 132, 'max_depth': 11, 'learning_rate': 0.01994937680864578, 'bagging_fraction': 0.7989799769044628, 'feature_fraction': 0.04394960415711974, 'reg_alpha': 4.554854535038391, 'reg_lambda': 0.5697522179330992, 'colsample_bytree': 0.32405638196528846, 'min_gain_to_split': 0.009489537124791505, 'min_child_weight': 0.05603278399827837}.\n"
     ]
    },
    {
     "name": "stdout",
     "output_type": "stream",
     "text": [
      "513 "
     ]
    },
    {
     "name": "stderr",
     "output_type": "stream",
     "text": [
      "[I 2019-03-13 08:30:58,015] Finished a trial resulted in value: -0.8839729607366567. Current best value is -0.8981774205947283 with parameters: {'max_leaves': 68, 'min_data_in_leaf': 132, 'max_depth': 11, 'learning_rate': 0.01994937680864578, 'bagging_fraction': 0.7989799769044628, 'feature_fraction': 0.04394960415711974, 'reg_alpha': 4.554854535038391, 'reg_lambda': 0.5697522179330992, 'colsample_bytree': 0.32405638196528846, 'min_gain_to_split': 0.009489537124791505, 'min_child_weight': 0.05603278399827837}.\n"
     ]
    },
    {
     "name": "stdout",
     "output_type": "stream",
     "text": [
      "514 "
     ]
    },
    {
     "name": "stderr",
     "output_type": "stream",
     "text": [
      "[I 2019-03-13 08:31:48,853] Finished a trial resulted in value: -0.8840852411592441. Current best value is -0.8981774205947283 with parameters: {'max_leaves': 68, 'min_data_in_leaf': 132, 'max_depth': 11, 'learning_rate': 0.01994937680864578, 'bagging_fraction': 0.7989799769044628, 'feature_fraction': 0.04394960415711974, 'reg_alpha': 4.554854535038391, 'reg_lambda': 0.5697522179330992, 'colsample_bytree': 0.32405638196528846, 'min_gain_to_split': 0.009489537124791505, 'min_child_weight': 0.05603278399827837}.\n"
     ]
    },
    {
     "name": "stdout",
     "output_type": "stream",
     "text": [
      "515 "
     ]
    },
    {
     "name": "stderr",
     "output_type": "stream",
     "text": [
      "[I 2019-03-13 08:34:16,363] Finished a trial resulted in value: -0.8728938501948562. Current best value is -0.8981774205947283 with parameters: {'max_leaves': 68, 'min_data_in_leaf': 132, 'max_depth': 11, 'learning_rate': 0.01994937680864578, 'bagging_fraction': 0.7989799769044628, 'feature_fraction': 0.04394960415711974, 'reg_alpha': 4.554854535038391, 'reg_lambda': 0.5697522179330992, 'colsample_bytree': 0.32405638196528846, 'min_gain_to_split': 0.009489537124791505, 'min_child_weight': 0.05603278399827837}.\n"
     ]
    },
    {
     "name": "stdout",
     "output_type": "stream",
     "text": [
      "516 "
     ]
    },
    {
     "name": "stderr",
     "output_type": "stream",
     "text": [
      "[I 2019-03-13 08:34:46,740] Finished a trial resulted in value: -0.8765302693260207. Current best value is -0.8981774205947283 with parameters: {'max_leaves': 68, 'min_data_in_leaf': 132, 'max_depth': 11, 'learning_rate': 0.01994937680864578, 'bagging_fraction': 0.7989799769044628, 'feature_fraction': 0.04394960415711974, 'reg_alpha': 4.554854535038391, 'reg_lambda': 0.5697522179330992, 'colsample_bytree': 0.32405638196528846, 'min_gain_to_split': 0.009489537124791505, 'min_child_weight': 0.05603278399827837}.\n"
     ]
    },
    {
     "name": "stdout",
     "output_type": "stream",
     "text": [
      "517 "
     ]
    },
    {
     "name": "stderr",
     "output_type": "stream",
     "text": [
      "[I 2019-03-13 08:35:32,433] Finished a trial resulted in value: -0.8797253893825338. Current best value is -0.8981774205947283 with parameters: {'max_leaves': 68, 'min_data_in_leaf': 132, 'max_depth': 11, 'learning_rate': 0.01994937680864578, 'bagging_fraction': 0.7989799769044628, 'feature_fraction': 0.04394960415711974, 'reg_alpha': 4.554854535038391, 'reg_lambda': 0.5697522179330992, 'colsample_bytree': 0.32405638196528846, 'min_gain_to_split': 0.009489537124791505, 'min_child_weight': 0.05603278399827837}.\n"
     ]
    },
    {
     "name": "stdout",
     "output_type": "stream",
     "text": [
      "518 "
     ]
    },
    {
     "name": "stderr",
     "output_type": "stream",
     "text": [
      "[I 2019-03-13 08:36:36,234] Finished a trial resulted in value: -0.8950243414278296. Current best value is -0.8981774205947283 with parameters: {'max_leaves': 68, 'min_data_in_leaf': 132, 'max_depth': 11, 'learning_rate': 0.01994937680864578, 'bagging_fraction': 0.7989799769044628, 'feature_fraction': 0.04394960415711974, 'reg_alpha': 4.554854535038391, 'reg_lambda': 0.5697522179330992, 'colsample_bytree': 0.32405638196528846, 'min_gain_to_split': 0.009489537124791505, 'min_child_weight': 0.05603278399827837}.\n"
     ]
    },
    {
     "name": "stdout",
     "output_type": "stream",
     "text": [
      "519 "
     ]
    },
    {
     "name": "stderr",
     "output_type": "stream",
     "text": [
      "[I 2019-03-13 08:37:05,979] Finished a trial resulted in value: -0.8773354765714658. Current best value is -0.8981774205947283 with parameters: {'max_leaves': 68, 'min_data_in_leaf': 132, 'max_depth': 11, 'learning_rate': 0.01994937680864578, 'bagging_fraction': 0.7989799769044628, 'feature_fraction': 0.04394960415711974, 'reg_alpha': 4.554854535038391, 'reg_lambda': 0.5697522179330992, 'colsample_bytree': 0.32405638196528846, 'min_gain_to_split': 0.009489537124791505, 'min_child_weight': 0.05603278399827837}.\n"
     ]
    },
    {
     "name": "stdout",
     "output_type": "stream",
     "text": [
      "520 "
     ]
    },
    {
     "name": "stderr",
     "output_type": "stream",
     "text": [
      "[I 2019-03-13 08:41:50,997] Finished a trial resulted in value: -0.8963153703349901. Current best value is -0.8981774205947283 with parameters: {'max_leaves': 68, 'min_data_in_leaf': 132, 'max_depth': 11, 'learning_rate': 0.01994937680864578, 'bagging_fraction': 0.7989799769044628, 'feature_fraction': 0.04394960415711974, 'reg_alpha': 4.554854535038391, 'reg_lambda': 0.5697522179330992, 'colsample_bytree': 0.32405638196528846, 'min_gain_to_split': 0.009489537124791505, 'min_child_weight': 0.05603278399827837}.\n"
     ]
    },
    {
     "name": "stdout",
     "output_type": "stream",
     "text": [
      "521 "
     ]
    },
    {
     "name": "stderr",
     "output_type": "stream",
     "text": [
      "[I 2019-03-13 08:42:40,973] Finished a trial resulted in value: -0.8925617610416722. Current best value is -0.8981774205947283 with parameters: {'max_leaves': 68, 'min_data_in_leaf': 132, 'max_depth': 11, 'learning_rate': 0.01994937680864578, 'bagging_fraction': 0.7989799769044628, 'feature_fraction': 0.04394960415711974, 'reg_alpha': 4.554854535038391, 'reg_lambda': 0.5697522179330992, 'colsample_bytree': 0.32405638196528846, 'min_gain_to_split': 0.009489537124791505, 'min_child_weight': 0.05603278399827837}.\n"
     ]
    },
    {
     "name": "stdout",
     "output_type": "stream",
     "text": [
      "522 "
     ]
    },
    {
     "name": "stderr",
     "output_type": "stream",
     "text": [
      "[I 2019-03-13 08:43:29,056] Finished a trial resulted in value: -0.89063958832159. Current best value is -0.8981774205947283 with parameters: {'max_leaves': 68, 'min_data_in_leaf': 132, 'max_depth': 11, 'learning_rate': 0.01994937680864578, 'bagging_fraction': 0.7989799769044628, 'feature_fraction': 0.04394960415711974, 'reg_alpha': 4.554854535038391, 'reg_lambda': 0.5697522179330992, 'colsample_bytree': 0.32405638196528846, 'min_gain_to_split': 0.009489537124791505, 'min_child_weight': 0.05603278399827837}.\n"
     ]
    },
    {
     "name": "stdout",
     "output_type": "stream",
     "text": [
      "523 "
     ]
    },
    {
     "name": "stderr",
     "output_type": "stream",
     "text": [
      "[I 2019-03-13 08:45:38,341] Finished a trial resulted in value: -0.8968499270805768. Current best value is -0.8981774205947283 with parameters: {'max_leaves': 68, 'min_data_in_leaf': 132, 'max_depth': 11, 'learning_rate': 0.01994937680864578, 'bagging_fraction': 0.7989799769044628, 'feature_fraction': 0.04394960415711974, 'reg_alpha': 4.554854535038391, 'reg_lambda': 0.5697522179330992, 'colsample_bytree': 0.32405638196528846, 'min_gain_to_split': 0.009489537124791505, 'min_child_weight': 0.05603278399827837}.\n"
     ]
    },
    {
     "name": "stdout",
     "output_type": "stream",
     "text": [
      "524 "
     ]
    },
    {
     "name": "stderr",
     "output_type": "stream",
     "text": [
      "[I 2019-03-13 08:46:50,401] Finished a trial resulted in value: -0.8923436075836378. Current best value is -0.8981774205947283 with parameters: {'max_leaves': 68, 'min_data_in_leaf': 132, 'max_depth': 11, 'learning_rate': 0.01994937680864578, 'bagging_fraction': 0.7989799769044628, 'feature_fraction': 0.04394960415711974, 'reg_alpha': 4.554854535038391, 'reg_lambda': 0.5697522179330992, 'colsample_bytree': 0.32405638196528846, 'min_gain_to_split': 0.009489537124791505, 'min_child_weight': 0.05603278399827837}.\n"
     ]
    },
    {
     "name": "stdout",
     "output_type": "stream",
     "text": [
      "525 "
     ]
    },
    {
     "name": "stderr",
     "output_type": "stream",
     "text": [
      "[I 2019-03-13 08:49:51,098] Finished a trial resulted in value: -0.8859610686703755. Current best value is -0.8981774205947283 with parameters: {'max_leaves': 68, 'min_data_in_leaf': 132, 'max_depth': 11, 'learning_rate': 0.01994937680864578, 'bagging_fraction': 0.7989799769044628, 'feature_fraction': 0.04394960415711974, 'reg_alpha': 4.554854535038391, 'reg_lambda': 0.5697522179330992, 'colsample_bytree': 0.32405638196528846, 'min_gain_to_split': 0.009489537124791505, 'min_child_weight': 0.05603278399827837}.\n"
     ]
    },
    {
     "name": "stdout",
     "output_type": "stream",
     "text": [
      "526 "
     ]
    },
    {
     "name": "stderr",
     "output_type": "stream",
     "text": [
      "[I 2019-03-13 08:50:27,968] Finished a trial resulted in value: -0.8861680327788374. Current best value is -0.8981774205947283 with parameters: {'max_leaves': 68, 'min_data_in_leaf': 132, 'max_depth': 11, 'learning_rate': 0.01994937680864578, 'bagging_fraction': 0.7989799769044628, 'feature_fraction': 0.04394960415711974, 'reg_alpha': 4.554854535038391, 'reg_lambda': 0.5697522179330992, 'colsample_bytree': 0.32405638196528846, 'min_gain_to_split': 0.009489537124791505, 'min_child_weight': 0.05603278399827837}.\n"
     ]
    },
    {
     "name": "stdout",
     "output_type": "stream",
     "text": [
      "527 "
     ]
    },
    {
     "name": "stderr",
     "output_type": "stream",
     "text": [
      "[I 2019-03-13 08:51:05,709] Finished a trial resulted in value: -0.8859793665218814. Current best value is -0.8981774205947283 with parameters: {'max_leaves': 68, 'min_data_in_leaf': 132, 'max_depth': 11, 'learning_rate': 0.01994937680864578, 'bagging_fraction': 0.7989799769044628, 'feature_fraction': 0.04394960415711974, 'reg_alpha': 4.554854535038391, 'reg_lambda': 0.5697522179330992, 'colsample_bytree': 0.32405638196528846, 'min_gain_to_split': 0.009489537124791505, 'min_child_weight': 0.05603278399827837}.\n"
     ]
    },
    {
     "name": "stdout",
     "output_type": "stream",
     "text": [
      "528 "
     ]
    },
    {
     "name": "stderr",
     "output_type": "stream",
     "text": [
      "[I 2019-03-13 08:52:30,558] Finished a trial resulted in value: -0.897068031031886. Current best value is -0.8981774205947283 with parameters: {'max_leaves': 68, 'min_data_in_leaf': 132, 'max_depth': 11, 'learning_rate': 0.01994937680864578, 'bagging_fraction': 0.7989799769044628, 'feature_fraction': 0.04394960415711974, 'reg_alpha': 4.554854535038391, 'reg_lambda': 0.5697522179330992, 'colsample_bytree': 0.32405638196528846, 'min_gain_to_split': 0.009489537124791505, 'min_child_weight': 0.05603278399827837}.\n"
     ]
    },
    {
     "name": "stdout",
     "output_type": "stream",
     "text": [
      "529 "
     ]
    },
    {
     "name": "stderr",
     "output_type": "stream",
     "text": [
      "[I 2019-03-13 08:55:56,775] Finished a trial resulted in value: -0.8970247259230539. Current best value is -0.8981774205947283 with parameters: {'max_leaves': 68, 'min_data_in_leaf': 132, 'max_depth': 11, 'learning_rate': 0.01994937680864578, 'bagging_fraction': 0.7989799769044628, 'feature_fraction': 0.04394960415711974, 'reg_alpha': 4.554854535038391, 'reg_lambda': 0.5697522179330992, 'colsample_bytree': 0.32405638196528846, 'min_gain_to_split': 0.009489537124791505, 'min_child_weight': 0.05603278399827837}.\n"
     ]
    },
    {
     "name": "stdout",
     "output_type": "stream",
     "text": [
      "530 "
     ]
    },
    {
     "name": "stderr",
     "output_type": "stream",
     "text": [
      "[I 2019-03-13 08:56:43,474] Finished a trial resulted in value: -0.8923691892849185. Current best value is -0.8981774205947283 with parameters: {'max_leaves': 68, 'min_data_in_leaf': 132, 'max_depth': 11, 'learning_rate': 0.01994937680864578, 'bagging_fraction': 0.7989799769044628, 'feature_fraction': 0.04394960415711974, 'reg_alpha': 4.554854535038391, 'reg_lambda': 0.5697522179330992, 'colsample_bytree': 0.32405638196528846, 'min_gain_to_split': 0.009489537124791505, 'min_child_weight': 0.05603278399827837}.\n"
     ]
    },
    {
     "name": "stdout",
     "output_type": "stream",
     "text": [
      "531 "
     ]
    },
    {
     "name": "stderr",
     "output_type": "stream",
     "text": [
      "[I 2019-03-13 08:57:49,726] Finished a trial resulted in value: -0.8932238089436735. Current best value is -0.8981774205947283 with parameters: {'max_leaves': 68, 'min_data_in_leaf': 132, 'max_depth': 11, 'learning_rate': 0.01994937680864578, 'bagging_fraction': 0.7989799769044628, 'feature_fraction': 0.04394960415711974, 'reg_alpha': 4.554854535038391, 'reg_lambda': 0.5697522179330992, 'colsample_bytree': 0.32405638196528846, 'min_gain_to_split': 0.009489537124791505, 'min_child_weight': 0.05603278399827837}.\n"
     ]
    },
    {
     "name": "stdout",
     "output_type": "stream",
     "text": [
      "532 "
     ]
    },
    {
     "name": "stderr",
     "output_type": "stream",
     "text": [
      "[I 2019-03-13 08:58:27,988] Finished a trial resulted in value: -0.8869153312612956. Current best value is -0.8981774205947283 with parameters: {'max_leaves': 68, 'min_data_in_leaf': 132, 'max_depth': 11, 'learning_rate': 0.01994937680864578, 'bagging_fraction': 0.7989799769044628, 'feature_fraction': 0.04394960415711974, 'reg_alpha': 4.554854535038391, 'reg_lambda': 0.5697522179330992, 'colsample_bytree': 0.32405638196528846, 'min_gain_to_split': 0.009489537124791505, 'min_child_weight': 0.05603278399827837}.\n"
     ]
    },
    {
     "name": "stdout",
     "output_type": "stream",
     "text": [
      "533 "
     ]
    },
    {
     "name": "stderr",
     "output_type": "stream",
     "text": [
      "[I 2019-03-13 09:00:48,907] Finished a trial resulted in value: -0.8935835643576179. Current best value is -0.8981774205947283 with parameters: {'max_leaves': 68, 'min_data_in_leaf': 132, 'max_depth': 11, 'learning_rate': 0.01994937680864578, 'bagging_fraction': 0.7989799769044628, 'feature_fraction': 0.04394960415711974, 'reg_alpha': 4.554854535038391, 'reg_lambda': 0.5697522179330992, 'colsample_bytree': 0.32405638196528846, 'min_gain_to_split': 0.009489537124791505, 'min_child_weight': 0.05603278399827837}.\n"
     ]
    },
    {
     "name": "stdout",
     "output_type": "stream",
     "text": [
      "534 "
     ]
    },
    {
     "name": "stderr",
     "output_type": "stream",
     "text": [
      "[I 2019-03-13 09:06:25,582] Finished a trial resulted in value: -0.8533579737836259. Current best value is -0.8981774205947283 with parameters: {'max_leaves': 68, 'min_data_in_leaf': 132, 'max_depth': 11, 'learning_rate': 0.01994937680864578, 'bagging_fraction': 0.7989799769044628, 'feature_fraction': 0.04394960415711974, 'reg_alpha': 4.554854535038391, 'reg_lambda': 0.5697522179330992, 'colsample_bytree': 0.32405638196528846, 'min_gain_to_split': 0.009489537124791505, 'min_child_weight': 0.05603278399827837}.\n"
     ]
    },
    {
     "name": "stdout",
     "output_type": "stream",
     "text": [
      "535 "
     ]
    },
    {
     "name": "stderr",
     "output_type": "stream",
     "text": [
      "[I 2019-03-13 09:06:52,524] Finished a trial resulted in value: -0.873907516154025. Current best value is -0.8981774205947283 with parameters: {'max_leaves': 68, 'min_data_in_leaf': 132, 'max_depth': 11, 'learning_rate': 0.01994937680864578, 'bagging_fraction': 0.7989799769044628, 'feature_fraction': 0.04394960415711974, 'reg_alpha': 4.554854535038391, 'reg_lambda': 0.5697522179330992, 'colsample_bytree': 0.32405638196528846, 'min_gain_to_split': 0.009489537124791505, 'min_child_weight': 0.05603278399827837}.\n"
     ]
    },
    {
     "name": "stdout",
     "output_type": "stream",
     "text": [
      "536 "
     ]
    },
    {
     "name": "stderr",
     "output_type": "stream",
     "text": [
      "[I 2019-03-13 09:07:35,727] Finished a trial resulted in value: -0.8851376966054624. Current best value is -0.8981774205947283 with parameters: {'max_leaves': 68, 'min_data_in_leaf': 132, 'max_depth': 11, 'learning_rate': 0.01994937680864578, 'bagging_fraction': 0.7989799769044628, 'feature_fraction': 0.04394960415711974, 'reg_alpha': 4.554854535038391, 'reg_lambda': 0.5697522179330992, 'colsample_bytree': 0.32405638196528846, 'min_gain_to_split': 0.009489537124791505, 'min_child_weight': 0.05603278399827837}.\n"
     ]
    },
    {
     "name": "stdout",
     "output_type": "stream",
     "text": [
      "537 "
     ]
    },
    {
     "name": "stderr",
     "output_type": "stream",
     "text": [
      "[I 2019-03-13 09:08:36,318] Finished a trial resulted in value: -0.893528150844201. Current best value is -0.8981774205947283 with parameters: {'max_leaves': 68, 'min_data_in_leaf': 132, 'max_depth': 11, 'learning_rate': 0.01994937680864578, 'bagging_fraction': 0.7989799769044628, 'feature_fraction': 0.04394960415711974, 'reg_alpha': 4.554854535038391, 'reg_lambda': 0.5697522179330992, 'colsample_bytree': 0.32405638196528846, 'min_gain_to_split': 0.009489537124791505, 'min_child_weight': 0.05603278399827837}.\n"
     ]
    },
    {
     "name": "stdout",
     "output_type": "stream",
     "text": [
      "538 "
     ]
    },
    {
     "name": "stderr",
     "output_type": "stream",
     "text": [
      "[I 2019-03-13 09:09:30,605] Finished a trial resulted in value: -0.8821678357431781. Current best value is -0.8981774205947283 with parameters: {'max_leaves': 68, 'min_data_in_leaf': 132, 'max_depth': 11, 'learning_rate': 0.01994937680864578, 'bagging_fraction': 0.7989799769044628, 'feature_fraction': 0.04394960415711974, 'reg_alpha': 4.554854535038391, 'reg_lambda': 0.5697522179330992, 'colsample_bytree': 0.32405638196528846, 'min_gain_to_split': 0.009489537124791505, 'min_child_weight': 0.05603278399827837}.\n"
     ]
    },
    {
     "name": "stdout",
     "output_type": "stream",
     "text": [
      "539 "
     ]
    },
    {
     "name": "stderr",
     "output_type": "stream",
     "text": [
      "[I 2019-03-13 09:10:19,789] Finished a trial resulted in value: -0.888232450489107. Current best value is -0.8981774205947283 with parameters: {'max_leaves': 68, 'min_data_in_leaf': 132, 'max_depth': 11, 'learning_rate': 0.01994937680864578, 'bagging_fraction': 0.7989799769044628, 'feature_fraction': 0.04394960415711974, 'reg_alpha': 4.554854535038391, 'reg_lambda': 0.5697522179330992, 'colsample_bytree': 0.32405638196528846, 'min_gain_to_split': 0.009489537124791505, 'min_child_weight': 0.05603278399827837}.\n"
     ]
    },
    {
     "name": "stdout",
     "output_type": "stream",
     "text": [
      "540 "
     ]
    },
    {
     "name": "stderr",
     "output_type": "stream",
     "text": [
      "[I 2019-03-13 09:11:26,056] Finished a trial resulted in value: -0.8919558645522068. Current best value is -0.8981774205947283 with parameters: {'max_leaves': 68, 'min_data_in_leaf': 132, 'max_depth': 11, 'learning_rate': 0.01994937680864578, 'bagging_fraction': 0.7989799769044628, 'feature_fraction': 0.04394960415711974, 'reg_alpha': 4.554854535038391, 'reg_lambda': 0.5697522179330992, 'colsample_bytree': 0.32405638196528846, 'min_gain_to_split': 0.009489537124791505, 'min_child_weight': 0.05603278399827837}.\n"
     ]
    },
    {
     "name": "stdout",
     "output_type": "stream",
     "text": [
      "541 "
     ]
    },
    {
     "name": "stderr",
     "output_type": "stream",
     "text": [
      "[I 2019-03-13 09:12:13,576] Finished a trial resulted in value: -0.8398198622748576. Current best value is -0.8981774205947283 with parameters: {'max_leaves': 68, 'min_data_in_leaf': 132, 'max_depth': 11, 'learning_rate': 0.01994937680864578, 'bagging_fraction': 0.7989799769044628, 'feature_fraction': 0.04394960415711974, 'reg_alpha': 4.554854535038391, 'reg_lambda': 0.5697522179330992, 'colsample_bytree': 0.32405638196528846, 'min_gain_to_split': 0.009489537124791505, 'min_child_weight': 0.05603278399827837}.\n"
     ]
    },
    {
     "name": "stdout",
     "output_type": "stream",
     "text": [
      "542 "
     ]
    },
    {
     "name": "stderr",
     "output_type": "stream",
     "text": [
      "[I 2019-03-13 09:15:10,751] Finished a trial resulted in value: -0.8982216859680813. Current best value is -0.8982216859680813 with parameters: {'max_leaves': 77, 'min_data_in_leaf': 37, 'max_depth': 8, 'learning_rate': 0.01900369970993314, 'bagging_fraction': 0.7933809295877795, 'feature_fraction': 0.04733588678131268, 'reg_alpha': 4.417033476677683, 'reg_lambda': 1.851033748871877, 'colsample_bytree': 0.15022471344341218, 'min_gain_to_split': 0.0003764084237278487, 'min_child_weight': 2.645217638426049}.\n"
     ]
    },
    {
     "name": "stdout",
     "output_type": "stream",
     "text": [
      "543 "
     ]
    },
    {
     "name": "stderr",
     "output_type": "stream",
     "text": [
      "[I 2019-03-13 09:17:43,234] Finished a trial resulted in value: -0.8770625404650407. Current best value is -0.8982216859680813 with parameters: {'max_leaves': 77, 'min_data_in_leaf': 37, 'max_depth': 8, 'learning_rate': 0.01900369970993314, 'bagging_fraction': 0.7933809295877795, 'feature_fraction': 0.04733588678131268, 'reg_alpha': 4.417033476677683, 'reg_lambda': 1.851033748871877, 'colsample_bytree': 0.15022471344341218, 'min_gain_to_split': 0.0003764084237278487, 'min_child_weight': 2.645217638426049}.\n"
     ]
    },
    {
     "name": "stdout",
     "output_type": "stream",
     "text": [
      "544 "
     ]
    },
    {
     "name": "stderr",
     "output_type": "stream",
     "text": [
      "[I 2019-03-13 09:18:55,427] Finished a trial resulted in value: -0.8916478763016097. Current best value is -0.8982216859680813 with parameters: {'max_leaves': 77, 'min_data_in_leaf': 37, 'max_depth': 8, 'learning_rate': 0.01900369970993314, 'bagging_fraction': 0.7933809295877795, 'feature_fraction': 0.04733588678131268, 'reg_alpha': 4.417033476677683, 'reg_lambda': 1.851033748871877, 'colsample_bytree': 0.15022471344341218, 'min_gain_to_split': 0.0003764084237278487, 'min_child_weight': 2.645217638426049}.\n"
     ]
    },
    {
     "name": "stdout",
     "output_type": "stream",
     "text": [
      "545 "
     ]
    },
    {
     "name": "stderr",
     "output_type": "stream",
     "text": [
      "[I 2019-03-13 09:19:35,326] Finished a trial resulted in value: -0.8844261635512198. Current best value is -0.8982216859680813 with parameters: {'max_leaves': 77, 'min_data_in_leaf': 37, 'max_depth': 8, 'learning_rate': 0.01900369970993314, 'bagging_fraction': 0.7933809295877795, 'feature_fraction': 0.04733588678131268, 'reg_alpha': 4.417033476677683, 'reg_lambda': 1.851033748871877, 'colsample_bytree': 0.15022471344341218, 'min_gain_to_split': 0.0003764084237278487, 'min_child_weight': 2.645217638426049}.\n"
     ]
    },
    {
     "name": "stdout",
     "output_type": "stream",
     "text": [
      "546 "
     ]
    },
    {
     "name": "stderr",
     "output_type": "stream",
     "text": [
      "[I 2019-03-13 09:21:49,825] Finished a trial resulted in value: -0.8844460118759121. Current best value is -0.8982216859680813 with parameters: {'max_leaves': 77, 'min_data_in_leaf': 37, 'max_depth': 8, 'learning_rate': 0.01900369970993314, 'bagging_fraction': 0.7933809295877795, 'feature_fraction': 0.04733588678131268, 'reg_alpha': 4.417033476677683, 'reg_lambda': 1.851033748871877, 'colsample_bytree': 0.15022471344341218, 'min_gain_to_split': 0.0003764084237278487, 'min_child_weight': 2.645217638426049}.\n"
     ]
    },
    {
     "name": "stdout",
     "output_type": "stream",
     "text": [
      "547 "
     ]
    },
    {
     "name": "stderr",
     "output_type": "stream",
     "text": [
      "[I 2019-03-13 09:24:30,076] Finished a trial resulted in value: -0.8928167231646079. Current best value is -0.8982216859680813 with parameters: {'max_leaves': 77, 'min_data_in_leaf': 37, 'max_depth': 8, 'learning_rate': 0.01900369970993314, 'bagging_fraction': 0.7933809295877795, 'feature_fraction': 0.04733588678131268, 'reg_alpha': 4.417033476677683, 'reg_lambda': 1.851033748871877, 'colsample_bytree': 0.15022471344341218, 'min_gain_to_split': 0.0003764084237278487, 'min_child_weight': 2.645217638426049}.\n"
     ]
    },
    {
     "name": "stdout",
     "output_type": "stream",
     "text": [
      "548 "
     ]
    },
    {
     "name": "stderr",
     "output_type": "stream",
     "text": [
      "[I 2019-03-13 09:25:21,097] Finished a trial resulted in value: -0.8752910714707747. Current best value is -0.8982216859680813 with parameters: {'max_leaves': 77, 'min_data_in_leaf': 37, 'max_depth': 8, 'learning_rate': 0.01900369970993314, 'bagging_fraction': 0.7933809295877795, 'feature_fraction': 0.04733588678131268, 'reg_alpha': 4.417033476677683, 'reg_lambda': 1.851033748871877, 'colsample_bytree': 0.15022471344341218, 'min_gain_to_split': 0.0003764084237278487, 'min_child_weight': 2.645217638426049}.\n"
     ]
    },
    {
     "name": "stdout",
     "output_type": "stream",
     "text": [
      "549 "
     ]
    },
    {
     "name": "stderr",
     "output_type": "stream",
     "text": [
      "[I 2019-03-13 09:26:19,453] Finished a trial resulted in value: -0.884644820097147. Current best value is -0.8982216859680813 with parameters: {'max_leaves': 77, 'min_data_in_leaf': 37, 'max_depth': 8, 'learning_rate': 0.01900369970993314, 'bagging_fraction': 0.7933809295877795, 'feature_fraction': 0.04733588678131268, 'reg_alpha': 4.417033476677683, 'reg_lambda': 1.851033748871877, 'colsample_bytree': 0.15022471344341218, 'min_gain_to_split': 0.0003764084237278487, 'min_child_weight': 2.645217638426049}.\n"
     ]
    },
    {
     "name": "stdout",
     "output_type": "stream",
     "text": [
      "550 "
     ]
    },
    {
     "name": "stderr",
     "output_type": "stream",
     "text": [
      "[I 2019-03-13 09:26:53,036] Finished a trial resulted in value: -0.8875334390408303. Current best value is -0.8982216859680813 with parameters: {'max_leaves': 77, 'min_data_in_leaf': 37, 'max_depth': 8, 'learning_rate': 0.01900369970993314, 'bagging_fraction': 0.7933809295877795, 'feature_fraction': 0.04733588678131268, 'reg_alpha': 4.417033476677683, 'reg_lambda': 1.851033748871877, 'colsample_bytree': 0.15022471344341218, 'min_gain_to_split': 0.0003764084237278487, 'min_child_weight': 2.645217638426049}.\n"
     ]
    },
    {
     "name": "stdout",
     "output_type": "stream",
     "text": [
      "551 "
     ]
    },
    {
     "name": "stderr",
     "output_type": "stream",
     "text": [
      "[I 2019-03-13 09:27:17,159] Finished a trial resulted in value: -0.8761580492803305. Current best value is -0.8982216859680813 with parameters: {'max_leaves': 77, 'min_data_in_leaf': 37, 'max_depth': 8, 'learning_rate': 0.01900369970993314, 'bagging_fraction': 0.7933809295877795, 'feature_fraction': 0.04733588678131268, 'reg_alpha': 4.417033476677683, 'reg_lambda': 1.851033748871877, 'colsample_bytree': 0.15022471344341218, 'min_gain_to_split': 0.0003764084237278487, 'min_child_weight': 2.645217638426049}.\n"
     ]
    },
    {
     "name": "stdout",
     "output_type": "stream",
     "text": [
      "552 "
     ]
    },
    {
     "name": "stderr",
     "output_type": "stream",
     "text": [
      "[I 2019-03-13 09:28:31,866] Finished a trial resulted in value: -0.8859027176657503. Current best value is -0.8982216859680813 with parameters: {'max_leaves': 77, 'min_data_in_leaf': 37, 'max_depth': 8, 'learning_rate': 0.01900369970993314, 'bagging_fraction': 0.7933809295877795, 'feature_fraction': 0.04733588678131268, 'reg_alpha': 4.417033476677683, 'reg_lambda': 1.851033748871877, 'colsample_bytree': 0.15022471344341218, 'min_gain_to_split': 0.0003764084237278487, 'min_child_weight': 2.645217638426049}.\n"
     ]
    },
    {
     "name": "stdout",
     "output_type": "stream",
     "text": [
      "553 "
     ]
    },
    {
     "name": "stderr",
     "output_type": "stream",
     "text": [
      "[I 2019-03-13 09:28:56,774] Finished a trial resulted in value: -0.8631505204270284. Current best value is -0.8982216859680813 with parameters: {'max_leaves': 77, 'min_data_in_leaf': 37, 'max_depth': 8, 'learning_rate': 0.01900369970993314, 'bagging_fraction': 0.7933809295877795, 'feature_fraction': 0.04733588678131268, 'reg_alpha': 4.417033476677683, 'reg_lambda': 1.851033748871877, 'colsample_bytree': 0.15022471344341218, 'min_gain_to_split': 0.0003764084237278487, 'min_child_weight': 2.645217638426049}.\n"
     ]
    },
    {
     "name": "stdout",
     "output_type": "stream",
     "text": [
      "554 "
     ]
    },
    {
     "name": "stderr",
     "output_type": "stream",
     "text": [
      "[I 2019-03-13 09:30:02,653] Finished a trial resulted in value: -0.8933356404868492. Current best value is -0.8982216859680813 with parameters: {'max_leaves': 77, 'min_data_in_leaf': 37, 'max_depth': 8, 'learning_rate': 0.01900369970993314, 'bagging_fraction': 0.7933809295877795, 'feature_fraction': 0.04733588678131268, 'reg_alpha': 4.417033476677683, 'reg_lambda': 1.851033748871877, 'colsample_bytree': 0.15022471344341218, 'min_gain_to_split': 0.0003764084237278487, 'min_child_weight': 2.645217638426049}.\n"
     ]
    },
    {
     "name": "stdout",
     "output_type": "stream",
     "text": [
      "555 "
     ]
    },
    {
     "name": "stderr",
     "output_type": "stream",
     "text": [
      "[I 2019-03-13 09:30:51,666] Finished a trial resulted in value: -0.8851630741952178. Current best value is -0.8982216859680813 with parameters: {'max_leaves': 77, 'min_data_in_leaf': 37, 'max_depth': 8, 'learning_rate': 0.01900369970993314, 'bagging_fraction': 0.7933809295877795, 'feature_fraction': 0.04733588678131268, 'reg_alpha': 4.417033476677683, 'reg_lambda': 1.851033748871877, 'colsample_bytree': 0.15022471344341218, 'min_gain_to_split': 0.0003764084237278487, 'min_child_weight': 2.645217638426049}.\n"
     ]
    },
    {
     "name": "stdout",
     "output_type": "stream",
     "text": [
      "556 "
     ]
    },
    {
     "name": "stderr",
     "output_type": "stream",
     "text": [
      "[I 2019-03-13 09:31:25,742] Finished a trial resulted in value: -0.7815047666197723. Current best value is -0.8982216859680813 with parameters: {'max_leaves': 77, 'min_data_in_leaf': 37, 'max_depth': 8, 'learning_rate': 0.01900369970993314, 'bagging_fraction': 0.7933809295877795, 'feature_fraction': 0.04733588678131268, 'reg_alpha': 4.417033476677683, 'reg_lambda': 1.851033748871877, 'colsample_bytree': 0.15022471344341218, 'min_gain_to_split': 0.0003764084237278487, 'min_child_weight': 2.645217638426049}.\n"
     ]
    },
    {
     "name": "stdout",
     "output_type": "stream",
     "text": [
      "557 "
     ]
    },
    {
     "name": "stderr",
     "output_type": "stream",
     "text": [
      "[I 2019-03-13 09:32:37,794] Finished a trial resulted in value: -0.8956559440768229. Current best value is -0.8982216859680813 with parameters: {'max_leaves': 77, 'min_data_in_leaf': 37, 'max_depth': 8, 'learning_rate': 0.01900369970993314, 'bagging_fraction': 0.7933809295877795, 'feature_fraction': 0.04733588678131268, 'reg_alpha': 4.417033476677683, 'reg_lambda': 1.851033748871877, 'colsample_bytree': 0.15022471344341218, 'min_gain_to_split': 0.0003764084237278487, 'min_child_weight': 2.645217638426049}.\n"
     ]
    },
    {
     "name": "stdout",
     "output_type": "stream",
     "text": [
      "558 "
     ]
    },
    {
     "name": "stderr",
     "output_type": "stream",
     "text": [
      "[I 2019-03-13 09:36:34,060] Finished a trial resulted in value: -0.8897703879643126. Current best value is -0.8982216859680813 with parameters: {'max_leaves': 77, 'min_data_in_leaf': 37, 'max_depth': 8, 'learning_rate': 0.01900369970993314, 'bagging_fraction': 0.7933809295877795, 'feature_fraction': 0.04733588678131268, 'reg_alpha': 4.417033476677683, 'reg_lambda': 1.851033748871877, 'colsample_bytree': 0.15022471344341218, 'min_gain_to_split': 0.0003764084237278487, 'min_child_weight': 2.645217638426049}.\n"
     ]
    },
    {
     "name": "stdout",
     "output_type": "stream",
     "text": [
      "559 "
     ]
    },
    {
     "name": "stderr",
     "output_type": "stream",
     "text": [
      "[I 2019-03-13 09:37:26,564] Finished a trial resulted in value: -0.8933104921768427. Current best value is -0.8982216859680813 with parameters: {'max_leaves': 77, 'min_data_in_leaf': 37, 'max_depth': 8, 'learning_rate': 0.01900369970993314, 'bagging_fraction': 0.7933809295877795, 'feature_fraction': 0.04733588678131268, 'reg_alpha': 4.417033476677683, 'reg_lambda': 1.851033748871877, 'colsample_bytree': 0.15022471344341218, 'min_gain_to_split': 0.0003764084237278487, 'min_child_weight': 2.645217638426049}.\n"
     ]
    },
    {
     "name": "stdout",
     "output_type": "stream",
     "text": [
      "560 "
     ]
    },
    {
     "name": "stderr",
     "output_type": "stream",
     "text": [
      "[I 2019-03-13 09:42:11,399] Finished a trial resulted in value: -0.881990962043433. Current best value is -0.8982216859680813 with parameters: {'max_leaves': 77, 'min_data_in_leaf': 37, 'max_depth': 8, 'learning_rate': 0.01900369970993314, 'bagging_fraction': 0.7933809295877795, 'feature_fraction': 0.04733588678131268, 'reg_alpha': 4.417033476677683, 'reg_lambda': 1.851033748871877, 'colsample_bytree': 0.15022471344341218, 'min_gain_to_split': 0.0003764084237278487, 'min_child_weight': 2.645217638426049}.\n"
     ]
    },
    {
     "name": "stdout",
     "output_type": "stream",
     "text": [
      "561 "
     ]
    },
    {
     "name": "stderr",
     "output_type": "stream",
     "text": [
      "[I 2019-03-13 09:44:00,838] Finished a trial resulted in value: -0.8947783519147966. Current best value is -0.8982216859680813 with parameters: {'max_leaves': 77, 'min_data_in_leaf': 37, 'max_depth': 8, 'learning_rate': 0.01900369970993314, 'bagging_fraction': 0.7933809295877795, 'feature_fraction': 0.04733588678131268, 'reg_alpha': 4.417033476677683, 'reg_lambda': 1.851033748871877, 'colsample_bytree': 0.15022471344341218, 'min_gain_to_split': 0.0003764084237278487, 'min_child_weight': 2.645217638426049}.\n"
     ]
    },
    {
     "name": "stdout",
     "output_type": "stream",
     "text": [
      "562 "
     ]
    },
    {
     "name": "stderr",
     "output_type": "stream",
     "text": [
      "[I 2019-03-13 09:44:33,441] Finished a trial resulted in value: -0.8854174419608793. Current best value is -0.8982216859680813 with parameters: {'max_leaves': 77, 'min_data_in_leaf': 37, 'max_depth': 8, 'learning_rate': 0.01900369970993314, 'bagging_fraction': 0.7933809295877795, 'feature_fraction': 0.04733588678131268, 'reg_alpha': 4.417033476677683, 'reg_lambda': 1.851033748871877, 'colsample_bytree': 0.15022471344341218, 'min_gain_to_split': 0.0003764084237278487, 'min_child_weight': 2.645217638426049}.\n"
     ]
    },
    {
     "name": "stdout",
     "output_type": "stream",
     "text": [
      "563 "
     ]
    },
    {
     "name": "stderr",
     "output_type": "stream",
     "text": [
      "[I 2019-03-13 09:45:32,703] Finished a trial resulted in value: -0.8850661259223918. Current best value is -0.8982216859680813 with parameters: {'max_leaves': 77, 'min_data_in_leaf': 37, 'max_depth': 8, 'learning_rate': 0.01900369970993314, 'bagging_fraction': 0.7933809295877795, 'feature_fraction': 0.04733588678131268, 'reg_alpha': 4.417033476677683, 'reg_lambda': 1.851033748871877, 'colsample_bytree': 0.15022471344341218, 'min_gain_to_split': 0.0003764084237278487, 'min_child_weight': 2.645217638426049}.\n"
     ]
    },
    {
     "name": "stdout",
     "output_type": "stream",
     "text": [
      "564 "
     ]
    },
    {
     "name": "stderr",
     "output_type": "stream",
     "text": [
      "[I 2019-03-13 09:46:38,943] Finished a trial resulted in value: -0.8791239916438445. Current best value is -0.8982216859680813 with parameters: {'max_leaves': 77, 'min_data_in_leaf': 37, 'max_depth': 8, 'learning_rate': 0.01900369970993314, 'bagging_fraction': 0.7933809295877795, 'feature_fraction': 0.04733588678131268, 'reg_alpha': 4.417033476677683, 'reg_lambda': 1.851033748871877, 'colsample_bytree': 0.15022471344341218, 'min_gain_to_split': 0.0003764084237278487, 'min_child_weight': 2.645217638426049}.\n"
     ]
    },
    {
     "name": "stdout",
     "output_type": "stream",
     "text": [
      "565 "
     ]
    },
    {
     "name": "stderr",
     "output_type": "stream",
     "text": [
      "[I 2019-03-13 09:47:03,519] Finished a trial resulted in value: -0.8544147459950052. Current best value is -0.8982216859680813 with parameters: {'max_leaves': 77, 'min_data_in_leaf': 37, 'max_depth': 8, 'learning_rate': 0.01900369970993314, 'bagging_fraction': 0.7933809295877795, 'feature_fraction': 0.04733588678131268, 'reg_alpha': 4.417033476677683, 'reg_lambda': 1.851033748871877, 'colsample_bytree': 0.15022471344341218, 'min_gain_to_split': 0.0003764084237278487, 'min_child_weight': 2.645217638426049}.\n"
     ]
    },
    {
     "name": "stdout",
     "output_type": "stream",
     "text": [
      "566 "
     ]
    },
    {
     "name": "stderr",
     "output_type": "stream",
     "text": [
      "[I 2019-03-13 09:48:17,861] Finished a trial resulted in value: -0.8924925608733502. Current best value is -0.8982216859680813 with parameters: {'max_leaves': 77, 'min_data_in_leaf': 37, 'max_depth': 8, 'learning_rate': 0.01900369970993314, 'bagging_fraction': 0.7933809295877795, 'feature_fraction': 0.04733588678131268, 'reg_alpha': 4.417033476677683, 'reg_lambda': 1.851033748871877, 'colsample_bytree': 0.15022471344341218, 'min_gain_to_split': 0.0003764084237278487, 'min_child_weight': 2.645217638426049}.\n"
     ]
    },
    {
     "name": "stdout",
     "output_type": "stream",
     "text": [
      "567 "
     ]
    },
    {
     "name": "stderr",
     "output_type": "stream",
     "text": [
      "[I 2019-03-13 09:50:56,536] Finished a trial resulted in value: -0.897086297907117. Current best value is -0.8982216859680813 with parameters: {'max_leaves': 77, 'min_data_in_leaf': 37, 'max_depth': 8, 'learning_rate': 0.01900369970993314, 'bagging_fraction': 0.7933809295877795, 'feature_fraction': 0.04733588678131268, 'reg_alpha': 4.417033476677683, 'reg_lambda': 1.851033748871877, 'colsample_bytree': 0.15022471344341218, 'min_gain_to_split': 0.0003764084237278487, 'min_child_weight': 2.645217638426049}.\n"
     ]
    },
    {
     "name": "stdout",
     "output_type": "stream",
     "text": [
      "568 "
     ]
    },
    {
     "name": "stderr",
     "output_type": "stream",
     "text": [
      "[I 2019-03-13 09:51:52,026] Finished a trial resulted in value: -0.8884317377363067. Current best value is -0.8982216859680813 with parameters: {'max_leaves': 77, 'min_data_in_leaf': 37, 'max_depth': 8, 'learning_rate': 0.01900369970993314, 'bagging_fraction': 0.7933809295877795, 'feature_fraction': 0.04733588678131268, 'reg_alpha': 4.417033476677683, 'reg_lambda': 1.851033748871877, 'colsample_bytree': 0.15022471344341218, 'min_gain_to_split': 0.0003764084237278487, 'min_child_weight': 2.645217638426049}.\n"
     ]
    },
    {
     "name": "stdout",
     "output_type": "stream",
     "text": [
      "569 "
     ]
    },
    {
     "name": "stderr",
     "output_type": "stream",
     "text": [
      "[I 2019-03-13 09:53:06,398] Finished a trial resulted in value: -0.8945955009002983. Current best value is -0.8982216859680813 with parameters: {'max_leaves': 77, 'min_data_in_leaf': 37, 'max_depth': 8, 'learning_rate': 0.01900369970993314, 'bagging_fraction': 0.7933809295877795, 'feature_fraction': 0.04733588678131268, 'reg_alpha': 4.417033476677683, 'reg_lambda': 1.851033748871877, 'colsample_bytree': 0.15022471344341218, 'min_gain_to_split': 0.0003764084237278487, 'min_child_weight': 2.645217638426049}.\n"
     ]
    },
    {
     "name": "stdout",
     "output_type": "stream",
     "text": [
      "570 "
     ]
    },
    {
     "name": "stderr",
     "output_type": "stream",
     "text": [
      "[I 2019-03-13 09:53:56,015] Finished a trial resulted in value: -0.8937724305774911. Current best value is -0.8982216859680813 with parameters: {'max_leaves': 77, 'min_data_in_leaf': 37, 'max_depth': 8, 'learning_rate': 0.01900369970993314, 'bagging_fraction': 0.7933809295877795, 'feature_fraction': 0.04733588678131268, 'reg_alpha': 4.417033476677683, 'reg_lambda': 1.851033748871877, 'colsample_bytree': 0.15022471344341218, 'min_gain_to_split': 0.0003764084237278487, 'min_child_weight': 2.645217638426049}.\n"
     ]
    },
    {
     "name": "stdout",
     "output_type": "stream",
     "text": [
      "571 "
     ]
    },
    {
     "name": "stderr",
     "output_type": "stream",
     "text": [
      "[I 2019-03-13 09:54:28,316] Finished a trial resulted in value: -0.8604392970780073. Current best value is -0.8982216859680813 with parameters: {'max_leaves': 77, 'min_data_in_leaf': 37, 'max_depth': 8, 'learning_rate': 0.01900369970993314, 'bagging_fraction': 0.7933809295877795, 'feature_fraction': 0.04733588678131268, 'reg_alpha': 4.417033476677683, 'reg_lambda': 1.851033748871877, 'colsample_bytree': 0.15022471344341218, 'min_gain_to_split': 0.0003764084237278487, 'min_child_weight': 2.645217638426049}.\n"
     ]
    },
    {
     "name": "stdout",
     "output_type": "stream",
     "text": [
      "572 "
     ]
    },
    {
     "name": "stderr",
     "output_type": "stream",
     "text": [
      "[I 2019-03-13 09:54:57,359] Finished a trial resulted in value: -0.8813587166367363. Current best value is -0.8982216859680813 with parameters: {'max_leaves': 77, 'min_data_in_leaf': 37, 'max_depth': 8, 'learning_rate': 0.01900369970993314, 'bagging_fraction': 0.7933809295877795, 'feature_fraction': 0.04733588678131268, 'reg_alpha': 4.417033476677683, 'reg_lambda': 1.851033748871877, 'colsample_bytree': 0.15022471344341218, 'min_gain_to_split': 0.0003764084237278487, 'min_child_weight': 2.645217638426049}.\n"
     ]
    },
    {
     "name": "stdout",
     "output_type": "stream",
     "text": [
      "573 "
     ]
    },
    {
     "name": "stderr",
     "output_type": "stream",
     "text": [
      "[I 2019-03-13 09:55:29,421] Finished a trial resulted in value: -0.8787047910989949. Current best value is -0.8982216859680813 with parameters: {'max_leaves': 77, 'min_data_in_leaf': 37, 'max_depth': 8, 'learning_rate': 0.01900369970993314, 'bagging_fraction': 0.7933809295877795, 'feature_fraction': 0.04733588678131268, 'reg_alpha': 4.417033476677683, 'reg_lambda': 1.851033748871877, 'colsample_bytree': 0.15022471344341218, 'min_gain_to_split': 0.0003764084237278487, 'min_child_weight': 2.645217638426049}.\n"
     ]
    },
    {
     "name": "stdout",
     "output_type": "stream",
     "text": [
      "574 "
     ]
    },
    {
     "name": "stderr",
     "output_type": "stream",
     "text": [
      "[I 2019-03-13 09:56:21,716] Finished a trial resulted in value: -0.8877139737490607. Current best value is -0.8982216859680813 with parameters: {'max_leaves': 77, 'min_data_in_leaf': 37, 'max_depth': 8, 'learning_rate': 0.01900369970993314, 'bagging_fraction': 0.7933809295877795, 'feature_fraction': 0.04733588678131268, 'reg_alpha': 4.417033476677683, 'reg_lambda': 1.851033748871877, 'colsample_bytree': 0.15022471344341218, 'min_gain_to_split': 0.0003764084237278487, 'min_child_weight': 2.645217638426049}.\n"
     ]
    },
    {
     "name": "stdout",
     "output_type": "stream",
     "text": [
      "575 "
     ]
    },
    {
     "name": "stderr",
     "output_type": "stream",
     "text": [
      "[I 2019-03-13 09:56:42,665] Finished a trial resulted in value: -0.8343847999357296. Current best value is -0.8982216859680813 with parameters: {'max_leaves': 77, 'min_data_in_leaf': 37, 'max_depth': 8, 'learning_rate': 0.01900369970993314, 'bagging_fraction': 0.7933809295877795, 'feature_fraction': 0.04733588678131268, 'reg_alpha': 4.417033476677683, 'reg_lambda': 1.851033748871877, 'colsample_bytree': 0.15022471344341218, 'min_gain_to_split': 0.0003764084237278487, 'min_child_weight': 2.645217638426049}.\n"
     ]
    },
    {
     "name": "stdout",
     "output_type": "stream",
     "text": [
      "576 "
     ]
    },
    {
     "name": "stderr",
     "output_type": "stream",
     "text": [
      "[I 2019-03-13 09:58:15,084] Finished a trial resulted in value: -0.8685060188213019. Current best value is -0.8982216859680813 with parameters: {'max_leaves': 77, 'min_data_in_leaf': 37, 'max_depth': 8, 'learning_rate': 0.01900369970993314, 'bagging_fraction': 0.7933809295877795, 'feature_fraction': 0.04733588678131268, 'reg_alpha': 4.417033476677683, 'reg_lambda': 1.851033748871877, 'colsample_bytree': 0.15022471344341218, 'min_gain_to_split': 0.0003764084237278487, 'min_child_weight': 2.645217638426049}.\n"
     ]
    },
    {
     "name": "stdout",
     "output_type": "stream",
     "text": [
      "577 "
     ]
    },
    {
     "name": "stderr",
     "output_type": "stream",
     "text": [
      "[I 2019-03-13 10:01:00,272] Finished a trial resulted in value: -0.8977833689130329. Current best value is -0.8982216859680813 with parameters: {'max_leaves': 77, 'min_data_in_leaf': 37, 'max_depth': 8, 'learning_rate': 0.01900369970993314, 'bagging_fraction': 0.7933809295877795, 'feature_fraction': 0.04733588678131268, 'reg_alpha': 4.417033476677683, 'reg_lambda': 1.851033748871877, 'colsample_bytree': 0.15022471344341218, 'min_gain_to_split': 0.0003764084237278487, 'min_child_weight': 2.645217638426049}.\n"
     ]
    },
    {
     "name": "stdout",
     "output_type": "stream",
     "text": [
      "578 "
     ]
    },
    {
     "name": "stderr",
     "output_type": "stream",
     "text": [
      "[I 2019-03-13 10:03:31,654] Finished a trial resulted in value: -0.8755508495747298. Current best value is -0.8982216859680813 with parameters: {'max_leaves': 77, 'min_data_in_leaf': 37, 'max_depth': 8, 'learning_rate': 0.01900369970993314, 'bagging_fraction': 0.7933809295877795, 'feature_fraction': 0.04733588678131268, 'reg_alpha': 4.417033476677683, 'reg_lambda': 1.851033748871877, 'colsample_bytree': 0.15022471344341218, 'min_gain_to_split': 0.0003764084237278487, 'min_child_weight': 2.645217638426049}.\n"
     ]
    },
    {
     "name": "stdout",
     "output_type": "stream",
     "text": [
      "579 "
     ]
    },
    {
     "name": "stderr",
     "output_type": "stream",
     "text": [
      "[I 2019-03-13 10:05:59,003] Finished a trial resulted in value: -0.8792939739521545. Current best value is -0.8982216859680813 with parameters: {'max_leaves': 77, 'min_data_in_leaf': 37, 'max_depth': 8, 'learning_rate': 0.01900369970993314, 'bagging_fraction': 0.7933809295877795, 'feature_fraction': 0.04733588678131268, 'reg_alpha': 4.417033476677683, 'reg_lambda': 1.851033748871877, 'colsample_bytree': 0.15022471344341218, 'min_gain_to_split': 0.0003764084237278487, 'min_child_weight': 2.645217638426049}.\n"
     ]
    },
    {
     "name": "stdout",
     "output_type": "stream",
     "text": [
      "580 "
     ]
    },
    {
     "name": "stderr",
     "output_type": "stream",
     "text": [
      "[I 2019-03-13 10:07:46,182] Finished a trial resulted in value: -0.8958921177061848. Current best value is -0.8982216859680813 with parameters: {'max_leaves': 77, 'min_data_in_leaf': 37, 'max_depth': 8, 'learning_rate': 0.01900369970993314, 'bagging_fraction': 0.7933809295877795, 'feature_fraction': 0.04733588678131268, 'reg_alpha': 4.417033476677683, 'reg_lambda': 1.851033748871877, 'colsample_bytree': 0.15022471344341218, 'min_gain_to_split': 0.0003764084237278487, 'min_child_weight': 2.645217638426049}.\n"
     ]
    },
    {
     "name": "stdout",
     "output_type": "stream",
     "text": [
      "581 "
     ]
    },
    {
     "name": "stderr",
     "output_type": "stream",
     "text": [
      "[I 2019-03-13 10:08:56,956] Finished a trial resulted in value: -0.8953159902465844. Current best value is -0.8982216859680813 with parameters: {'max_leaves': 77, 'min_data_in_leaf': 37, 'max_depth': 8, 'learning_rate': 0.01900369970993314, 'bagging_fraction': 0.7933809295877795, 'feature_fraction': 0.04733588678131268, 'reg_alpha': 4.417033476677683, 'reg_lambda': 1.851033748871877, 'colsample_bytree': 0.15022471344341218, 'min_gain_to_split': 0.0003764084237278487, 'min_child_weight': 2.645217638426049}.\n"
     ]
    },
    {
     "name": "stdout",
     "output_type": "stream",
     "text": [
      "582 "
     ]
    },
    {
     "name": "stderr",
     "output_type": "stream",
     "text": [
      "[I 2019-03-13 10:12:06,108] Finished a trial resulted in value: -0.898575170898957. Current best value is -0.898575170898957 with parameters: {'max_leaves': 100, 'min_data_in_leaf': 89, 'max_depth': 11, 'learning_rate': 0.01519964329847745, 'bagging_fraction': 0.8310261424943991, 'feature_fraction': 0.035769744520573576, 'reg_alpha': 3.739283733911206, 'reg_lambda': 1.97124727896967, 'colsample_bytree': 0.15174322059088163, 'min_gain_to_split': 0.004132432935314933, 'min_child_weight': 2.534409393882509}.\n"
     ]
    },
    {
     "name": "stdout",
     "output_type": "stream",
     "text": [
      "583 "
     ]
    },
    {
     "name": "stderr",
     "output_type": "stream",
     "text": [
      "[I 2019-03-13 10:14:52,677] Finished a trial resulted in value: -0.8982540783012236. Current best value is -0.898575170898957 with parameters: {'max_leaves': 100, 'min_data_in_leaf': 89, 'max_depth': 11, 'learning_rate': 0.01519964329847745, 'bagging_fraction': 0.8310261424943991, 'feature_fraction': 0.035769744520573576, 'reg_alpha': 3.739283733911206, 'reg_lambda': 1.97124727896967, 'colsample_bytree': 0.15174322059088163, 'min_gain_to_split': 0.004132432935314933, 'min_child_weight': 2.534409393882509}.\n"
     ]
    },
    {
     "name": "stdout",
     "output_type": "stream",
     "text": [
      "584 "
     ]
    },
    {
     "name": "stderr",
     "output_type": "stream",
     "text": [
      "[I 2019-03-13 10:16:53,417] Finished a trial resulted in value: -0.8719737082472714. Current best value is -0.898575170898957 with parameters: {'max_leaves': 100, 'min_data_in_leaf': 89, 'max_depth': 11, 'learning_rate': 0.01519964329847745, 'bagging_fraction': 0.8310261424943991, 'feature_fraction': 0.035769744520573576, 'reg_alpha': 3.739283733911206, 'reg_lambda': 1.97124727896967, 'colsample_bytree': 0.15174322059088163, 'min_gain_to_split': 0.004132432935314933, 'min_child_weight': 2.534409393882509}.\n"
     ]
    },
    {
     "name": "stdout",
     "output_type": "stream",
     "text": [
      "585 "
     ]
    },
    {
     "name": "stderr",
     "output_type": "stream",
     "text": [
      "[I 2019-03-13 10:18:03,507] Finished a trial resulted in value: -0.8955116563119376. Current best value is -0.898575170898957 with parameters: {'max_leaves': 100, 'min_data_in_leaf': 89, 'max_depth': 11, 'learning_rate': 0.01519964329847745, 'bagging_fraction': 0.8310261424943991, 'feature_fraction': 0.035769744520573576, 'reg_alpha': 3.739283733911206, 'reg_lambda': 1.97124727896967, 'colsample_bytree': 0.15174322059088163, 'min_gain_to_split': 0.004132432935314933, 'min_child_weight': 2.534409393882509}.\n"
     ]
    },
    {
     "name": "stdout",
     "output_type": "stream",
     "text": [
      "586 "
     ]
    },
    {
     "name": "stderr",
     "output_type": "stream",
     "text": [
      "[I 2019-03-13 10:20:42,457] Finished a trial resulted in value: -0.898114014096101. Current best value is -0.898575170898957 with parameters: {'max_leaves': 100, 'min_data_in_leaf': 89, 'max_depth': 11, 'learning_rate': 0.01519964329847745, 'bagging_fraction': 0.8310261424943991, 'feature_fraction': 0.035769744520573576, 'reg_alpha': 3.739283733911206, 'reg_lambda': 1.97124727896967, 'colsample_bytree': 0.15174322059088163, 'min_gain_to_split': 0.004132432935314933, 'min_child_weight': 2.534409393882509}.\n"
     ]
    },
    {
     "name": "stdout",
     "output_type": "stream",
     "text": [
      "587 "
     ]
    },
    {
     "name": "stderr",
     "output_type": "stream",
     "text": [
      "[I 2019-03-13 10:21:47,333] Finished a trial resulted in value: -0.8907109905711661. Current best value is -0.898575170898957 with parameters: {'max_leaves': 100, 'min_data_in_leaf': 89, 'max_depth': 11, 'learning_rate': 0.01519964329847745, 'bagging_fraction': 0.8310261424943991, 'feature_fraction': 0.035769744520573576, 'reg_alpha': 3.739283733911206, 'reg_lambda': 1.97124727896967, 'colsample_bytree': 0.15174322059088163, 'min_gain_to_split': 0.004132432935314933, 'min_child_weight': 2.534409393882509}.\n"
     ]
    },
    {
     "name": "stdout",
     "output_type": "stream",
     "text": [
      "588 "
     ]
    },
    {
     "name": "stderr",
     "output_type": "stream",
     "text": [
      "[I 2019-03-13 10:23:29,111] Finished a trial resulted in value: -0.8969631525561216. Current best value is -0.898575170898957 with parameters: {'max_leaves': 100, 'min_data_in_leaf': 89, 'max_depth': 11, 'learning_rate': 0.01519964329847745, 'bagging_fraction': 0.8310261424943991, 'feature_fraction': 0.035769744520573576, 'reg_alpha': 3.739283733911206, 'reg_lambda': 1.97124727896967, 'colsample_bytree': 0.15174322059088163, 'min_gain_to_split': 0.004132432935314933, 'min_child_weight': 2.534409393882509}.\n"
     ]
    },
    {
     "name": "stdout",
     "output_type": "stream",
     "text": [
      "589 "
     ]
    },
    {
     "name": "stderr",
     "output_type": "stream",
     "text": [
      "[I 2019-03-13 10:25:48,840] Finished a trial resulted in value: -0.8959762116546643. Current best value is -0.898575170898957 with parameters: {'max_leaves': 100, 'min_data_in_leaf': 89, 'max_depth': 11, 'learning_rate': 0.01519964329847745, 'bagging_fraction': 0.8310261424943991, 'feature_fraction': 0.035769744520573576, 'reg_alpha': 3.739283733911206, 'reg_lambda': 1.97124727896967, 'colsample_bytree': 0.15174322059088163, 'min_gain_to_split': 0.004132432935314933, 'min_child_weight': 2.534409393882509}.\n"
     ]
    },
    {
     "name": "stdout",
     "output_type": "stream",
     "text": [
      "590 "
     ]
    },
    {
     "name": "stderr",
     "output_type": "stream",
     "text": [
      "[I 2019-03-13 10:27:45,277] Finished a trial resulted in value: -0.8726742300655217. Current best value is -0.898575170898957 with parameters: {'max_leaves': 100, 'min_data_in_leaf': 89, 'max_depth': 11, 'learning_rate': 0.01519964329847745, 'bagging_fraction': 0.8310261424943991, 'feature_fraction': 0.035769744520573576, 'reg_alpha': 3.739283733911206, 'reg_lambda': 1.97124727896967, 'colsample_bytree': 0.15174322059088163, 'min_gain_to_split': 0.004132432935314933, 'min_child_weight': 2.534409393882509}.\n"
     ]
    },
    {
     "name": "stdout",
     "output_type": "stream",
     "text": [
      "591 "
     ]
    },
    {
     "name": "stderr",
     "output_type": "stream",
     "text": [
      "[I 2019-03-13 10:31:48,011] Finished a trial resulted in value: -0.8885941181348767. Current best value is -0.898575170898957 with parameters: {'max_leaves': 100, 'min_data_in_leaf': 89, 'max_depth': 11, 'learning_rate': 0.01519964329847745, 'bagging_fraction': 0.8310261424943991, 'feature_fraction': 0.035769744520573576, 'reg_alpha': 3.739283733911206, 'reg_lambda': 1.97124727896967, 'colsample_bytree': 0.15174322059088163, 'min_gain_to_split': 0.004132432935314933, 'min_child_weight': 2.534409393882509}.\n"
     ]
    },
    {
     "name": "stdout",
     "output_type": "stream",
     "text": [
      "592 "
     ]
    },
    {
     "name": "stderr",
     "output_type": "stream",
     "text": [
      "[I 2019-03-13 10:32:40,800] Finished a trial resulted in value: -0.8940127854508119. Current best value is -0.898575170898957 with parameters: {'max_leaves': 100, 'min_data_in_leaf': 89, 'max_depth': 11, 'learning_rate': 0.01519964329847745, 'bagging_fraction': 0.8310261424943991, 'feature_fraction': 0.035769744520573576, 'reg_alpha': 3.739283733911206, 'reg_lambda': 1.97124727896967, 'colsample_bytree': 0.15174322059088163, 'min_gain_to_split': 0.004132432935314933, 'min_child_weight': 2.534409393882509}.\n"
     ]
    },
    {
     "name": "stdout",
     "output_type": "stream",
     "text": [
      "593 "
     ]
    },
    {
     "name": "stderr",
     "output_type": "stream",
     "text": [
      "[I 2019-03-13 10:33:28,171] Finished a trial resulted in value: -0.8908918812299838. Current best value is -0.898575170898957 with parameters: {'max_leaves': 100, 'min_data_in_leaf': 89, 'max_depth': 11, 'learning_rate': 0.01519964329847745, 'bagging_fraction': 0.8310261424943991, 'feature_fraction': 0.035769744520573576, 'reg_alpha': 3.739283733911206, 'reg_lambda': 1.97124727896967, 'colsample_bytree': 0.15174322059088163, 'min_gain_to_split': 0.004132432935314933, 'min_child_weight': 2.534409393882509}.\n"
     ]
    },
    {
     "name": "stdout",
     "output_type": "stream",
     "text": [
      "594 "
     ]
    },
    {
     "name": "stderr",
     "output_type": "stream",
     "text": [
      "[I 2019-03-13 10:35:51,319] Finished a trial resulted in value: -0.8981212608849757. Current best value is -0.898575170898957 with parameters: {'max_leaves': 100, 'min_data_in_leaf': 89, 'max_depth': 11, 'learning_rate': 0.01519964329847745, 'bagging_fraction': 0.8310261424943991, 'feature_fraction': 0.035769744520573576, 'reg_alpha': 3.739283733911206, 'reg_lambda': 1.97124727896967, 'colsample_bytree': 0.15174322059088163, 'min_gain_to_split': 0.004132432935314933, 'min_child_weight': 2.534409393882509}.\n"
     ]
    },
    {
     "name": "stdout",
     "output_type": "stream",
     "text": [
      "595 "
     ]
    },
    {
     "name": "stderr",
     "output_type": "stream",
     "text": [
      "[I 2019-03-13 10:37:29,945] Finished a trial resulted in value: -0.8713138237061806. Current best value is -0.898575170898957 with parameters: {'max_leaves': 100, 'min_data_in_leaf': 89, 'max_depth': 11, 'learning_rate': 0.01519964329847745, 'bagging_fraction': 0.8310261424943991, 'feature_fraction': 0.035769744520573576, 'reg_alpha': 3.739283733911206, 'reg_lambda': 1.97124727896967, 'colsample_bytree': 0.15174322059088163, 'min_gain_to_split': 0.004132432935314933, 'min_child_weight': 2.534409393882509}.\n"
     ]
    },
    {
     "name": "stdout",
     "output_type": "stream",
     "text": [
      "596 "
     ]
    },
    {
     "name": "stderr",
     "output_type": "stream",
     "text": [
      "[I 2019-03-13 10:38:58,510] Finished a trial resulted in value: -0.8959262278397127. Current best value is -0.898575170898957 with parameters: {'max_leaves': 100, 'min_data_in_leaf': 89, 'max_depth': 11, 'learning_rate': 0.01519964329847745, 'bagging_fraction': 0.8310261424943991, 'feature_fraction': 0.035769744520573576, 'reg_alpha': 3.739283733911206, 'reg_lambda': 1.97124727896967, 'colsample_bytree': 0.15174322059088163, 'min_gain_to_split': 0.004132432935314933, 'min_child_weight': 2.534409393882509}.\n"
     ]
    },
    {
     "name": "stdout",
     "output_type": "stream",
     "text": [
      "597 "
     ]
    },
    {
     "name": "stderr",
     "output_type": "stream",
     "text": [
      "[I 2019-03-13 10:40:04,448] Finished a trial resulted in value: -0.8942734513569305. Current best value is -0.898575170898957 with parameters: {'max_leaves': 100, 'min_data_in_leaf': 89, 'max_depth': 11, 'learning_rate': 0.01519964329847745, 'bagging_fraction': 0.8310261424943991, 'feature_fraction': 0.035769744520573576, 'reg_alpha': 3.739283733911206, 'reg_lambda': 1.97124727896967, 'colsample_bytree': 0.15174322059088163, 'min_gain_to_split': 0.004132432935314933, 'min_child_weight': 2.534409393882509}.\n"
     ]
    },
    {
     "name": "stdout",
     "output_type": "stream",
     "text": [
      "598 "
     ]
    },
    {
     "name": "stderr",
     "output_type": "stream",
     "text": [
      "[I 2019-03-13 10:41:31,450] Finished a trial resulted in value: -0.8970456465246894. Current best value is -0.898575170898957 with parameters: {'max_leaves': 100, 'min_data_in_leaf': 89, 'max_depth': 11, 'learning_rate': 0.01519964329847745, 'bagging_fraction': 0.8310261424943991, 'feature_fraction': 0.035769744520573576, 'reg_alpha': 3.739283733911206, 'reg_lambda': 1.97124727896967, 'colsample_bytree': 0.15174322059088163, 'min_gain_to_split': 0.004132432935314933, 'min_child_weight': 2.534409393882509}.\n"
     ]
    },
    {
     "name": "stdout",
     "output_type": "stream",
     "text": [
      "599 "
     ]
    },
    {
     "name": "stderr",
     "output_type": "stream",
     "text": [
      "[I 2019-03-13 10:42:18,512] Finished a trial resulted in value: -0.8922533369106358. Current best value is -0.898575170898957 with parameters: {'max_leaves': 100, 'min_data_in_leaf': 89, 'max_depth': 11, 'learning_rate': 0.01519964329847745, 'bagging_fraction': 0.8310261424943991, 'feature_fraction': 0.035769744520573576, 'reg_alpha': 3.739283733911206, 'reg_lambda': 1.97124727896967, 'colsample_bytree': 0.15174322059088163, 'min_gain_to_split': 0.004132432935314933, 'min_child_weight': 2.534409393882509}.\n"
     ]
    },
    {
     "name": "stdout",
     "output_type": "stream",
     "text": [
      "600 "
     ]
    },
    {
     "name": "stderr",
     "output_type": "stream",
     "text": [
      "[I 2019-03-13 10:43:51,655] Finished a trial resulted in value: -0.8683079750502789. Current best value is -0.898575170898957 with parameters: {'max_leaves': 100, 'min_data_in_leaf': 89, 'max_depth': 11, 'learning_rate': 0.01519964329847745, 'bagging_fraction': 0.8310261424943991, 'feature_fraction': 0.035769744520573576, 'reg_alpha': 3.739283733911206, 'reg_lambda': 1.97124727896967, 'colsample_bytree': 0.15174322059088163, 'min_gain_to_split': 0.004132432935314933, 'min_child_weight': 2.534409393882509}.\n"
     ]
    },
    {
     "name": "stdout",
     "output_type": "stream",
     "text": [
      "601 "
     ]
    },
    {
     "name": "stderr",
     "output_type": "stream",
     "text": [
      "[I 2019-03-13 10:44:53,457] Finished a trial resulted in value: -0.8935700125139394. Current best value is -0.898575170898957 with parameters: {'max_leaves': 100, 'min_data_in_leaf': 89, 'max_depth': 11, 'learning_rate': 0.01519964329847745, 'bagging_fraction': 0.8310261424943991, 'feature_fraction': 0.035769744520573576, 'reg_alpha': 3.739283733911206, 'reg_lambda': 1.97124727896967, 'colsample_bytree': 0.15174322059088163, 'min_gain_to_split': 0.004132432935314933, 'min_child_weight': 2.534409393882509}.\n"
     ]
    },
    {
     "name": "stdout",
     "output_type": "stream",
     "text": [
      "602 "
     ]
    },
    {
     "name": "stderr",
     "output_type": "stream",
     "text": [
      "[I 2019-03-13 10:46:22,216] Finished a trial resulted in value: -0.8949181143778129. Current best value is -0.898575170898957 with parameters: {'max_leaves': 100, 'min_data_in_leaf': 89, 'max_depth': 11, 'learning_rate': 0.01519964329847745, 'bagging_fraction': 0.8310261424943991, 'feature_fraction': 0.035769744520573576, 'reg_alpha': 3.739283733911206, 'reg_lambda': 1.97124727896967, 'colsample_bytree': 0.15174322059088163, 'min_gain_to_split': 0.004132432935314933, 'min_child_weight': 2.534409393882509}.\n"
     ]
    },
    {
     "name": "stdout",
     "output_type": "stream",
     "text": [
      "603 "
     ]
    },
    {
     "name": "stderr",
     "output_type": "stream",
     "text": [
      "[I 2019-03-13 10:49:38,013] Finished a trial resulted in value: -0.8980146117832141. Current best value is -0.898575170898957 with parameters: {'max_leaves': 100, 'min_data_in_leaf': 89, 'max_depth': 11, 'learning_rate': 0.01519964329847745, 'bagging_fraction': 0.8310261424943991, 'feature_fraction': 0.035769744520573576, 'reg_alpha': 3.739283733911206, 'reg_lambda': 1.97124727896967, 'colsample_bytree': 0.15174322059088163, 'min_gain_to_split': 0.004132432935314933, 'min_child_weight': 2.534409393882509}.\n"
     ]
    },
    {
     "name": "stdout",
     "output_type": "stream",
     "text": [
      "604 "
     ]
    },
    {
     "name": "stderr",
     "output_type": "stream",
     "text": [
      "[I 2019-03-13 10:50:39,446] Finished a trial resulted in value: -0.8908704951545037. Current best value is -0.898575170898957 with parameters: {'max_leaves': 100, 'min_data_in_leaf': 89, 'max_depth': 11, 'learning_rate': 0.01519964329847745, 'bagging_fraction': 0.8310261424943991, 'feature_fraction': 0.035769744520573576, 'reg_alpha': 3.739283733911206, 'reg_lambda': 1.97124727896967, 'colsample_bytree': 0.15174322059088163, 'min_gain_to_split': 0.004132432935314933, 'min_child_weight': 2.534409393882509}.\n"
     ]
    },
    {
     "name": "stdout",
     "output_type": "stream",
     "text": [
      "605 "
     ]
    },
    {
     "name": "stderr",
     "output_type": "stream",
     "text": [
      "[I 2019-03-13 10:52:19,562] Finished a trial resulted in value: -0.8719783842819062. Current best value is -0.898575170898957 with parameters: {'max_leaves': 100, 'min_data_in_leaf': 89, 'max_depth': 11, 'learning_rate': 0.01519964329847745, 'bagging_fraction': 0.8310261424943991, 'feature_fraction': 0.035769744520573576, 'reg_alpha': 3.739283733911206, 'reg_lambda': 1.97124727896967, 'colsample_bytree': 0.15174322059088163, 'min_gain_to_split': 0.004132432935314933, 'min_child_weight': 2.534409393882509}.\n"
     ]
    },
    {
     "name": "stdout",
     "output_type": "stream",
     "text": [
      "606 "
     ]
    },
    {
     "name": "stderr",
     "output_type": "stream",
     "text": [
      "[I 2019-03-13 10:54:42,618] Finished a trial resulted in value: -0.876141052155795. Current best value is -0.898575170898957 with parameters: {'max_leaves': 100, 'min_data_in_leaf': 89, 'max_depth': 11, 'learning_rate': 0.01519964329847745, 'bagging_fraction': 0.8310261424943991, 'feature_fraction': 0.035769744520573576, 'reg_alpha': 3.739283733911206, 'reg_lambda': 1.97124727896967, 'colsample_bytree': 0.15174322059088163, 'min_gain_to_split': 0.004132432935314933, 'min_child_weight': 2.534409393882509}.\n"
     ]
    },
    {
     "name": "stdout",
     "output_type": "stream",
     "text": [
      "607 "
     ]
    },
    {
     "name": "stderr",
     "output_type": "stream",
     "text": [
      "[I 2019-03-13 10:55:28,315] Finished a trial resulted in value: -0.8910817132458553. Current best value is -0.898575170898957 with parameters: {'max_leaves': 100, 'min_data_in_leaf': 89, 'max_depth': 11, 'learning_rate': 0.01519964329847745, 'bagging_fraction': 0.8310261424943991, 'feature_fraction': 0.035769744520573576, 'reg_alpha': 3.739283733911206, 'reg_lambda': 1.97124727896967, 'colsample_bytree': 0.15174322059088163, 'min_gain_to_split': 0.004132432935314933, 'min_child_weight': 2.534409393882509}.\n"
     ]
    },
    {
     "name": "stdout",
     "output_type": "stream",
     "text": [
      "608 "
     ]
    },
    {
     "name": "stderr",
     "output_type": "stream",
     "text": [
      "[I 2019-03-13 10:57:36,583] Finished a trial resulted in value: -0.8717376599058781. Current best value is -0.898575170898957 with parameters: {'max_leaves': 100, 'min_data_in_leaf': 89, 'max_depth': 11, 'learning_rate': 0.01519964329847745, 'bagging_fraction': 0.8310261424943991, 'feature_fraction': 0.035769744520573576, 'reg_alpha': 3.739283733911206, 'reg_lambda': 1.97124727896967, 'colsample_bytree': 0.15174322059088163, 'min_gain_to_split': 0.004132432935314933, 'min_child_weight': 2.534409393882509}.\n"
     ]
    },
    {
     "name": "stdout",
     "output_type": "stream",
     "text": [
      "609 "
     ]
    },
    {
     "name": "stderr",
     "output_type": "stream",
     "text": [
      "[I 2019-03-13 11:01:17,458] Finished a trial resulted in value: -0.89723150583331. Current best value is -0.898575170898957 with parameters: {'max_leaves': 100, 'min_data_in_leaf': 89, 'max_depth': 11, 'learning_rate': 0.01519964329847745, 'bagging_fraction': 0.8310261424943991, 'feature_fraction': 0.035769744520573576, 'reg_alpha': 3.739283733911206, 'reg_lambda': 1.97124727896967, 'colsample_bytree': 0.15174322059088163, 'min_gain_to_split': 0.004132432935314933, 'min_child_weight': 2.534409393882509}.\n"
     ]
    },
    {
     "name": "stdout",
     "output_type": "stream",
     "text": [
      "610 "
     ]
    },
    {
     "name": "stderr",
     "output_type": "stream",
     "text": [
      "[I 2019-03-13 11:02:12,478] Finished a trial resulted in value: -0.8945631052482695. Current best value is -0.898575170898957 with parameters: {'max_leaves': 100, 'min_data_in_leaf': 89, 'max_depth': 11, 'learning_rate': 0.01519964329847745, 'bagging_fraction': 0.8310261424943991, 'feature_fraction': 0.035769744520573576, 'reg_alpha': 3.739283733911206, 'reg_lambda': 1.97124727896967, 'colsample_bytree': 0.15174322059088163, 'min_gain_to_split': 0.004132432935314933, 'min_child_weight': 2.534409393882509}.\n"
     ]
    },
    {
     "name": "stdout",
     "output_type": "stream",
     "text": [
      "611 "
     ]
    },
    {
     "name": "stderr",
     "output_type": "stream",
     "text": [
      "[I 2019-03-13 11:03:03,675] Finished a trial resulted in value: -0.8911828767812275. Current best value is -0.898575170898957 with parameters: {'max_leaves': 100, 'min_data_in_leaf': 89, 'max_depth': 11, 'learning_rate': 0.01519964329847745, 'bagging_fraction': 0.8310261424943991, 'feature_fraction': 0.035769744520573576, 'reg_alpha': 3.739283733911206, 'reg_lambda': 1.97124727896967, 'colsample_bytree': 0.15174322059088163, 'min_gain_to_split': 0.004132432935314933, 'min_child_weight': 2.534409393882509}.\n"
     ]
    },
    {
     "name": "stdout",
     "output_type": "stream",
     "text": [
      "612 "
     ]
    },
    {
     "name": "stderr",
     "output_type": "stream",
     "text": [
      "[I 2019-03-13 11:06:48,828] Finished a trial resulted in value: -0.8926654073807894. Current best value is -0.898575170898957 with parameters: {'max_leaves': 100, 'min_data_in_leaf': 89, 'max_depth': 11, 'learning_rate': 0.01519964329847745, 'bagging_fraction': 0.8310261424943991, 'feature_fraction': 0.035769744520573576, 'reg_alpha': 3.739283733911206, 'reg_lambda': 1.97124727896967, 'colsample_bytree': 0.15174322059088163, 'min_gain_to_split': 0.004132432935314933, 'min_child_weight': 2.534409393882509}.\n"
     ]
    },
    {
     "name": "stdout",
     "output_type": "stream",
     "text": [
      "613 "
     ]
    },
    {
     "name": "stderr",
     "output_type": "stream",
     "text": [
      "[I 2019-03-13 11:08:40,501] Finished a trial resulted in value: -0.8962872792788715. Current best value is -0.898575170898957 with parameters: {'max_leaves': 100, 'min_data_in_leaf': 89, 'max_depth': 11, 'learning_rate': 0.01519964329847745, 'bagging_fraction': 0.8310261424943991, 'feature_fraction': 0.035769744520573576, 'reg_alpha': 3.739283733911206, 'reg_lambda': 1.97124727896967, 'colsample_bytree': 0.15174322059088163, 'min_gain_to_split': 0.004132432935314933, 'min_child_weight': 2.534409393882509}.\n"
     ]
    },
    {
     "name": "stdout",
     "output_type": "stream",
     "text": [
      "614 "
     ]
    }
   ],
   "source": [
    "f = partial(objective_optuna, train[original_features], y)\n",
    "study = optuna.create_study()\n",
    "study.optimize(f, n_trials=10000)"
   ]
  },
  {
   "cell_type": "markdown",
   "metadata": {},
   "source": [
    "### keras "
   ]
  },
  {
   "cell_type": "code",
   "execution_count": 81,
   "metadata": {},
   "outputs": [],
   "source": [
    "model = Sequential([\n",
    "    Dense(32, input_dim=train.shape[1],name = \"lay1\"),\n",
    "    Activation('relu'),\n",
    "    Dense(1,name=\"lay2\"),\n",
    "    Activation('softmax'),\n",
    "])\n",
    "\n",
    "model.compile(loss='categorical_crossentropy', optimizer='sgd')#, metrics=['auc'])"
   ]
  },
  {
   "cell_type": "code",
   "execution_count": 82,
   "metadata": {},
   "outputs": [
    {
     "ename": "ValueError",
     "evalue": "You are passing a target array of shape (200000, 1) while using as loss `categorical_crossentropy`. `categorical_crossentropy` expects targets to be binary matrices (1s and 0s) of shape (samples, classes). If your targets are integer classes, you can convert them to the expected format via:\n```\nfrom keras.utils import to_categorical\ny_binary = to_categorical(y_int)\n```\n\nAlternatively, you can use the loss function `sparse_categorical_crossentropy` instead, which does expect integer targets.",
     "output_type": "error",
     "traceback": [
      "\u001b[0;31m---------------------------------------------------------------------------\u001b[0m",
      "\u001b[0;31mValueError\u001b[0m                                Traceback (most recent call last)",
      "\u001b[0;32m<ipython-input-82-106a3f514a36>\u001b[0m in \u001b[0;36m<module>\u001b[0;34m\u001b[0m\n\u001b[1;32m      1\u001b[0m \u001b[0;31m# 学習処理の実行\u001b[0m\u001b[0;34m\u001b[0m\u001b[0;34m\u001b[0m\u001b[0m\n\u001b[0;32m----> 2\u001b[0;31m \u001b[0mmodel\u001b[0m\u001b[0;34m.\u001b[0m\u001b[0mfit\u001b[0m\u001b[0;34m(\u001b[0m\u001b[0mtrain\u001b[0m\u001b[0;34m,\u001b[0m \u001b[0my\u001b[0m\u001b[0;34m,\u001b[0m \u001b[0mbatch_size\u001b[0m\u001b[0;34m=\u001b[0m\u001b[0;36m200\u001b[0m\u001b[0;34m,\u001b[0m \u001b[0mverbose\u001b[0m\u001b[0;34m=\u001b[0m\u001b[0;32mTrue\u001b[0m\u001b[0;34m,\u001b[0m \u001b[0mepochs\u001b[0m\u001b[0;34m=\u001b[0m\u001b[0;36m2\u001b[0m\u001b[0;34m,\u001b[0m \u001b[0mvalidation_split\u001b[0m\u001b[0;34m=\u001b[0m\u001b[0;36m0.1\u001b[0m\u001b[0;34m)\u001b[0m\u001b[0;34m\u001b[0m\u001b[0m\n\u001b[0m",
      "\u001b[0;32m~/.pyenv/versions/anaconda3-5.3.1/envs/kaggle_standard/lib/python3.6/site-packages/keras/engine/training.py\u001b[0m in \u001b[0;36mfit\u001b[0;34m(self, x, y, batch_size, epochs, verbose, callbacks, validation_split, validation_data, shuffle, class_weight, sample_weight, initial_epoch, steps_per_epoch, validation_steps, **kwargs)\u001b[0m\n\u001b[1;32m    950\u001b[0m             \u001b[0msample_weight\u001b[0m\u001b[0;34m=\u001b[0m\u001b[0msample_weight\u001b[0m\u001b[0;34m,\u001b[0m\u001b[0;34m\u001b[0m\u001b[0m\n\u001b[1;32m    951\u001b[0m             \u001b[0mclass_weight\u001b[0m\u001b[0;34m=\u001b[0m\u001b[0mclass_weight\u001b[0m\u001b[0;34m,\u001b[0m\u001b[0;34m\u001b[0m\u001b[0m\n\u001b[0;32m--> 952\u001b[0;31m             batch_size=batch_size)\n\u001b[0m\u001b[1;32m    953\u001b[0m         \u001b[0;31m# Prepare validation data.\u001b[0m\u001b[0;34m\u001b[0m\u001b[0;34m\u001b[0m\u001b[0m\n\u001b[1;32m    954\u001b[0m         \u001b[0mdo_validation\u001b[0m \u001b[0;34m=\u001b[0m \u001b[0;32mFalse\u001b[0m\u001b[0;34m\u001b[0m\u001b[0m\n",
      "\u001b[0;32m~/.pyenv/versions/anaconda3-5.3.1/envs/kaggle_standard/lib/python3.6/site-packages/keras/engine/training.py\u001b[0m in \u001b[0;36m_standardize_user_data\u001b[0;34m(self, x, y, sample_weight, class_weight, check_array_lengths, batch_size)\u001b[0m\n\u001b[1;32m    807\u001b[0m                 \u001b[0;31m# using improper loss fns.\u001b[0m\u001b[0;34m\u001b[0m\u001b[0;34m\u001b[0m\u001b[0m\n\u001b[1;32m    808\u001b[0m                 check_loss_and_target_compatibility(\n\u001b[0;32m--> 809\u001b[0;31m                     y, self._feed_loss_fns, feed_output_shapes)\n\u001b[0m\u001b[1;32m    810\u001b[0m         \u001b[0;32melse\u001b[0m\u001b[0;34m:\u001b[0m\u001b[0;34m\u001b[0m\u001b[0m\n\u001b[1;32m    811\u001b[0m             \u001b[0my\u001b[0m \u001b[0;34m=\u001b[0m \u001b[0;34m[\u001b[0m\u001b[0;34m]\u001b[0m\u001b[0;34m\u001b[0m\u001b[0m\n",
      "\u001b[0;32m~/.pyenv/versions/anaconda3-5.3.1/envs/kaggle_standard/lib/python3.6/site-packages/keras/engine/training_utils.py\u001b[0m in \u001b[0;36mcheck_loss_and_target_compatibility\u001b[0;34m(targets, loss_fns, output_shapes)\u001b[0m\n\u001b[1;32m    271\u001b[0m                 raise ValueError(\n\u001b[1;32m    272\u001b[0m                     \u001b[0;34m'You are passing a target array of shape '\u001b[0m \u001b[0;34m+\u001b[0m \u001b[0mstr\u001b[0m\u001b[0;34m(\u001b[0m\u001b[0my\u001b[0m\u001b[0;34m.\u001b[0m\u001b[0mshape\u001b[0m\u001b[0;34m)\u001b[0m \u001b[0;34m+\u001b[0m\u001b[0;34m\u001b[0m\u001b[0m\n\u001b[0;32m--> 273\u001b[0;31m                     \u001b[0;34m' while using as loss `categorical_crossentropy`. '\u001b[0m\u001b[0;34m\u001b[0m\u001b[0m\n\u001b[0m\u001b[1;32m    274\u001b[0m                     \u001b[0;34m'`categorical_crossentropy` expects '\u001b[0m\u001b[0;34m\u001b[0m\u001b[0m\n\u001b[1;32m    275\u001b[0m                     \u001b[0;34m'targets to be binary matrices (1s and 0s) '\u001b[0m\u001b[0;34m\u001b[0m\u001b[0m\n",
      "\u001b[0;31mValueError\u001b[0m: You are passing a target array of shape (200000, 1) while using as loss `categorical_crossentropy`. `categorical_crossentropy` expects targets to be binary matrices (1s and 0s) of shape (samples, classes). If your targets are integer classes, you can convert them to the expected format via:\n```\nfrom keras.utils import to_categorical\ny_binary = to_categorical(y_int)\n```\n\nAlternatively, you can use the loss function `sparse_categorical_crossentropy` instead, which does expect integer targets."
     ]
    }
   ],
   "source": [
    "# 学習処理の実行\n",
    "model.fit(train, y, batch_size=200, verbose=True, epochs=20, validation_split=0.1)"
   ]
  },
  {
   "cell_type": "code",
   "execution_count": 67,
   "metadata": {},
   "outputs": [
    {
     "name": "stdout",
     "output_type": "stream",
     "text": [
      "200000/200000 [==============================] - ETA: 58 - ETA: 7 - ETA:  - ETA:  - ETA:  - ETA:  - ETA:  - ETA:  - ETA:  - ETA:  - ETA:  - ETA:  - ETA:  - ETA:  - ETA:  - ETA:  - ETA:  - ETA:  - ETA:  - ETA:  - ETA:  - ETA:  - ETA:  - ETA:  - ETA:  - ETA:  - ETA:  - ETA:  - ETA:  - ETA:  - ETA:  - ETA:  - ETA:  - ETA:  - ETA:  - ETA:  - ETA:  - ETA:  - ETA:  - ETA:  - ETA:  - ETA:  - ETA:  - ETA:  - ETA:  - ETA:  - ETA:  - ETA:  - ETA:  - ETA:  - ETA:  - ETA:  - ETA:  - ETA:  - ETA:  - ETA:  - ETA:  - ETA:  - ETA:  - ETA:  - ETA:  - ETA:  - ETA:  - ETA:  - ETA:  - ETA:  - ETA:  - ETA:  - ETA:  - ETA:  - ETA:  - ETA:  - ETA:  - ETA:  - ETA:  - ETA:  - ETA:  - ETA:  - ETA:  - ETA:  - ETA:  - ETA:  - ETA:  - ETA:  - ETA:  - ETA:  - ETA:  - ETA:  - ETA:  - ETA:  - ETA:  - ETA:  - ETA:  - ETA:  - ETA:  - ETA:  - ETA:  - ETA:  - ETA:  - ETA:  - ETA:  - ETA:  - ETA:  - ETA:  - ETA:  - ETA:  - ETA:  - ETA:  - ETA:  - ETA:  - ETA:  - ETA:  - ETA:  - ETA:  - ETA:  - ETA:  - ETA:  - ETA:  - ETA:  - ETA:  - ETA:  - ETA:  - ETA:  - ETA:  - ETA:  - ETA:  - ETA:  - ETA:  - ETA:  - ETA:  - ETA:  - ETA:  - ETA:  - ETA:  - ETA:  - ETA:  - ETA:  - 7s 35us/step\n"
     ]
    }
   ],
   "source": [
    "scr = model.evaluate(train,y)"
   ]
  },
  {
   "cell_type": "code",
   "execution_count": 68,
   "metadata": {},
   "outputs": [
    {
     "data": {
      "text/plain": [
       "14.340334671020507"
      ]
     },
     "execution_count": 68,
     "metadata": {},
     "output_type": "execute_result"
    }
   ],
   "source": [
    "scr\n"
   ]
  },
  {
   "cell_type": "code",
   "execution_count": 84,
   "metadata": {},
   "outputs": [],
   "source": [
    "model = Sequential()\n",
    "\n",
    "model.add(Dense(500, input_shape=(train.shape[1],)))\n",
    "model.add(Activation('sigmoid'))\n",
    "model.add(Dropout(0.2))\n",
    "\n",
    "model.add(Dense(1000))\n",
    "model.add(Activation('sigmoid'))\n",
    "model.add(Dropout(0.2))\n",
    "\n",
    "model.add(Dense(50))\n",
    "model.add(Activation('sigmoid'))\n",
    "model.add(Dropout(0.2))\n",
    "\n",
    "model.add(Dense(2))\n",
    "model.add(Activation('softmax'))\n",
    "\n",
    "model.compile(loss='categorical_crossentropy',\n",
    "              optimizer='adam',\n",
    "              metrics=['accuracy'])\n",
    "\n",
    "early_stopping = EarlyStopping(monitor='val_loss', patience=2)"
   ]
  },
  {
   "cell_type": "code",
   "execution_count": 109,
   "metadata": {
    "scrolled": true
   },
   "outputs": [
    {
     "name": "stdout",
     "output_type": "stream",
     "text": [
      "Train on 180000 samples, validate on 20000 samples\n",
      "Epoch 1/100\n",
      " - 1s - loss: 0.2293 - acc: 0.9160 - val_loss: 0.2337 - val_acc: 0.9137\n",
      "Epoch 2/100\n",
      " - 1s - loss: 0.2298 - acc: 0.9159 - val_loss: 0.2337 - val_acc: 0.9137\n",
      "Epoch 3/100\n",
      " - 1s - loss: 0.2292 - acc: 0.9161 - val_loss: 0.2337 - val_acc: 0.9137\n",
      "Epoch 4/100\n",
      " - 1s - loss: 0.2296 - acc: 0.9162 - val_loss: 0.2337 - val_acc: 0.9136\n",
      "Epoch 5/100\n",
      " - 1s - loss: 0.2296 - acc: 0.9159 - val_loss: 0.2337 - val_acc: 0.9136\n",
      "Epoch 6/100\n",
      " - 1s - loss: 0.2294 - acc: 0.9162 - val_loss: 0.2337 - val_acc: 0.9136\n"
     ]
    }
   ],
   "source": [
    "hist = model.fit(train, keras.utils.np_utils.to_categorical(y),\n",
    "                 batch_size=50000,\n",
    "                 verbose=2,\n",
    "                 epochs=100,\n",
    "                 validation_split=0.1,\n",
    "                 callbacks=[early_stopping])"
   ]
  },
  {
   "cell_type": "code",
   "execution_count": 110,
   "metadata": {},
   "outputs": [],
   "source": [
    "pre = model.predict_proba(train)"
   ]
  },
  {
   "cell_type": "code",
   "execution_count": 111,
   "metadata": {},
   "outputs": [
    {
     "data": {
      "text/plain": [
       "0.8643111086556021"
      ]
     },
     "execution_count": 111,
     "metadata": {},
     "output_type": "execute_result"
    }
   ],
   "source": [
    "roc_auc_score(y,pre[:,1])"
   ]
  },
  {
   "cell_type": "code",
   "execution_count": null,
   "metadata": {},
   "outputs": [],
   "source": []
  }
 ],
 "metadata": {
  "kernelspec": {
   "display_name": "kaggle_standard",
   "language": "python",
   "name": "kaggle_standard"
  },
  "language_info": {
   "codemirror_mode": {
    "name": "ipython",
    "version": 3
   },
   "file_extension": ".py",
   "mimetype": "text/x-python",
   "name": "python",
   "nbconvert_exporter": "python",
   "pygments_lexer": "ipython3",
   "version": "3.6.6"
  }
 },
 "nbformat": 4,
 "nbformat_minor": 1
}
