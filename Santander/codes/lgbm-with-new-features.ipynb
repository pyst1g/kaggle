{
 "cells": [
  {
   "cell_type": "markdown",
   "metadata": {},
   "source": [
    "from https://www.kaggle.com/ruby33421/lgbm-with-new-features"
   ]
  },
  {
   "cell_type": "markdown",
   "metadata": {
    "_uuid": "93d7b4b8f5f6e5289cfc0312d650744e64905bc7"
   },
   "source": []
  },
  {
   "cell_type": "markdown",
   "metadata": {
    "_cell_guid": "b1076dfc-b9ad-4769-8c92-a6c4dae69d19",
    "_uuid": "8f2839f25d086af736a60e9eeb907d3b93b6e0e5"
   },
   "source": [
    "## Intro\n",
    "Please see Alexey Pronin's kernel (https://www.kaggle.com/graf10a/logistic-regression-with-new-features-feather) to read more on feature engineering and the performance benefit of using feather files.\n",
    "Alexey Pronin's kernel also references Youri Matiounine's work here: (https://www.kaggle.com/ymatioun/santander-linear-model-with-additional-features) \n",
    "\n",
    "The featuring engineering process adds 1000 new features, which means a total of 1200 features for the Santander dataset. The original kernel uses a simple logistic regression for training, which achieves a very good score of 0.896 (AUC). This kernel will use Light GBM model, but instead of using incorporating all the 1K additional features in our model, we will use feature importance to select some of the top engineered features only."
   ]
  },
  {
   "cell_type": "code",
   "execution_count": 1,
   "metadata": {
    "_uuid": "319c9748ad2d9b82cc875000f58afa2129aeb9c3"
   },
   "outputs": [
    {
     "name": "stderr",
     "output_type": "stream",
     "text": [
      "Using TensorFlow backend.\n"
     ]
    }
   ],
   "source": [
    "import feather\n",
    "import gc\n",
    "import keras\n",
    "import lightgbm as lgb\n",
    "import matplotlib.pyplot as plt\n",
    "import numpy as np\n",
    "import optuna\n",
    "import os\n",
    "import time\n",
    "# import shutil\n",
    "import sklearn\n",
    "import pandas as pd\n",
    "import xgboost as xgb\n",
    "\n",
    "from functools import partial\n",
    "from keras.callbacks import EarlyStopping\n",
    "from keras.models import Sequential\n",
    "from keras.layers import Dense, Dropout, Activation\n",
    "from numpy import sort\n",
    "from pprint import pprint\n",
    "from pylab import rcParams\n",
    "from scipy.stats import norm, rankdata\n",
    "from sklearn.pipeline import Pipeline\n",
    "from sklearn.linear_model import LogisticRegression\n",
    "from sklearn.model_selection import cross_validate, StratifiedKFold\n",
    "from sklearn.metrics import roc_curve, auc, roc_auc_score\n",
    "from sklearn.decomposition import PCA\n",
    "\n",
    "\n",
    "#csvデータの呼び出し場所\n",
    "loadpath = \"../input/\"\n",
    "#csvデータの保存場所\n",
    "savepath = \"../output/\""
   ]
  },
  {
   "cell_type": "markdown",
   "metadata": {
    "_uuid": "31a0c430046df842333652c410b3181d800f0551"
   },
   "source": [
    "Now, let's read the CSV files containing the training and testing data and measure how long it takes.\n",
    "\n",
    "Train:"
   ]
  },
  {
   "cell_type": "code",
   "execution_count": 56,
   "metadata": {
    "_uuid": "0d080b4a0bf27808a316196c71948a96280ef177"
   },
   "outputs": [
    {
     "name": "stdout",
     "output_type": "stream",
     "text": [
      "Reading train data...\n",
      "It takes 7.53 seconds to read 'train.csv'.\n"
     ]
    }
   ],
   "source": [
    "path_train = '../input/train.feather'\n",
    "path_test = '../input/test.feather'\n",
    "\n",
    "print(\"Reading train data...\")\n",
    "start = time.time()\n",
    "train = pd.read_csv('../input/train.csv')\n",
    "end = time.time()\n",
    "\n",
    "print(\"It takes {0:.2f} seconds to read 'train.csv'.\".format(end - start))"
   ]
  },
  {
   "cell_type": "markdown",
   "metadata": {
    "_uuid": "1e6904f34859901e764adde45ed0bb3bc13e4f58"
   },
   "source": [
    "Test:"
   ]
  },
  {
   "cell_type": "code",
   "execution_count": 57,
   "metadata": {
    "_uuid": "0fca1a0b7f595147cc5c3641b1a45c9d7f8e2340",
    "scrolled": true
   },
   "outputs": [
    {
     "name": "stdout",
     "output_type": "stream",
     "text": [
      "Reading test data...\n"
     ]
    },
    {
     "ename": "KeyboardInterrupt",
     "evalue": "",
     "output_type": "error",
     "traceback": [
      "\u001b[0;31m---------------------------------------------------------------------------\u001b[0m",
      "\u001b[0;31mKeyboardInterrupt\u001b[0m                         Traceback (most recent call last)",
      "\u001b[0;32m<ipython-input-57-55b84167a283>\u001b[0m in \u001b[0;36m<module>\u001b[0;34m\u001b[0m\n\u001b[1;32m      1\u001b[0m \u001b[0mstart\u001b[0m \u001b[0;34m=\u001b[0m \u001b[0mtime\u001b[0m\u001b[0;34m.\u001b[0m\u001b[0mtime\u001b[0m\u001b[0;34m(\u001b[0m\u001b[0;34m)\u001b[0m\u001b[0;34m\u001b[0m\u001b[0m\n\u001b[1;32m      2\u001b[0m \u001b[0mprint\u001b[0m\u001b[0;34m(\u001b[0m\u001b[0;34m\"Reading test data...\"\u001b[0m\u001b[0;34m)\u001b[0m\u001b[0;34m\u001b[0m\u001b[0m\n\u001b[0;32m----> 3\u001b[0;31m \u001b[0mtest\u001b[0m \u001b[0;34m=\u001b[0m \u001b[0mpd\u001b[0m\u001b[0;34m.\u001b[0m\u001b[0mread_csv\u001b[0m\u001b[0;34m(\u001b[0m\u001b[0;34m'../input/test.csv'\u001b[0m\u001b[0;34m)\u001b[0m\u001b[0;34m\u001b[0m\u001b[0m\n\u001b[0m\u001b[1;32m      4\u001b[0m \u001b[0mend\u001b[0m \u001b[0;34m=\u001b[0m \u001b[0mtime\u001b[0m\u001b[0;34m.\u001b[0m\u001b[0mtime\u001b[0m\u001b[0;34m(\u001b[0m\u001b[0;34m)\u001b[0m\u001b[0;34m\u001b[0m\u001b[0m\n\u001b[1;32m      5\u001b[0m \u001b[0;34m\u001b[0m\u001b[0m\n",
      "\u001b[0;32m~/.pyenv/versions/anaconda3-5.3.1/envs/kaggle_standard/lib/python3.6/site-packages/pandas/io/parsers.py\u001b[0m in \u001b[0;36mparser_f\u001b[0;34m(filepath_or_buffer, sep, delimiter, header, names, index_col, usecols, squeeze, prefix, mangle_dupe_cols, dtype, engine, converters, true_values, false_values, skipinitialspace, skiprows, skipfooter, nrows, na_values, keep_default_na, na_filter, verbose, skip_blank_lines, parse_dates, infer_datetime_format, keep_date_col, date_parser, dayfirst, iterator, chunksize, compression, thousands, decimal, lineterminator, quotechar, quoting, doublequote, escapechar, comment, encoding, dialect, tupleize_cols, error_bad_lines, warn_bad_lines, delim_whitespace, low_memory, memory_map, float_precision)\u001b[0m\n\u001b[1;32m    700\u001b[0m                     skip_blank_lines=skip_blank_lines)\n\u001b[1;32m    701\u001b[0m \u001b[0;34m\u001b[0m\u001b[0m\n\u001b[0;32m--> 702\u001b[0;31m         \u001b[0;32mreturn\u001b[0m \u001b[0m_read\u001b[0m\u001b[0;34m(\u001b[0m\u001b[0mfilepath_or_buffer\u001b[0m\u001b[0;34m,\u001b[0m \u001b[0mkwds\u001b[0m\u001b[0;34m)\u001b[0m\u001b[0;34m\u001b[0m\u001b[0m\n\u001b[0m\u001b[1;32m    703\u001b[0m \u001b[0;34m\u001b[0m\u001b[0m\n\u001b[1;32m    704\u001b[0m     \u001b[0mparser_f\u001b[0m\u001b[0;34m.\u001b[0m\u001b[0m__name__\u001b[0m \u001b[0;34m=\u001b[0m \u001b[0mname\u001b[0m\u001b[0;34m\u001b[0m\u001b[0m\n",
      "\u001b[0;32m~/.pyenv/versions/anaconda3-5.3.1/envs/kaggle_standard/lib/python3.6/site-packages/pandas/io/parsers.py\u001b[0m in \u001b[0;36m_read\u001b[0;34m(filepath_or_buffer, kwds)\u001b[0m\n\u001b[1;32m    433\u001b[0m \u001b[0;34m\u001b[0m\u001b[0m\n\u001b[1;32m    434\u001b[0m     \u001b[0;32mtry\u001b[0m\u001b[0;34m:\u001b[0m\u001b[0;34m\u001b[0m\u001b[0m\n\u001b[0;32m--> 435\u001b[0;31m         \u001b[0mdata\u001b[0m \u001b[0;34m=\u001b[0m \u001b[0mparser\u001b[0m\u001b[0;34m.\u001b[0m\u001b[0mread\u001b[0m\u001b[0;34m(\u001b[0m\u001b[0mnrows\u001b[0m\u001b[0;34m)\u001b[0m\u001b[0;34m\u001b[0m\u001b[0m\n\u001b[0m\u001b[1;32m    436\u001b[0m     \u001b[0;32mfinally\u001b[0m\u001b[0;34m:\u001b[0m\u001b[0;34m\u001b[0m\u001b[0m\n\u001b[1;32m    437\u001b[0m         \u001b[0mparser\u001b[0m\u001b[0;34m.\u001b[0m\u001b[0mclose\u001b[0m\u001b[0;34m(\u001b[0m\u001b[0;34m)\u001b[0m\u001b[0;34m\u001b[0m\u001b[0m\n",
      "\u001b[0;32m~/.pyenv/versions/anaconda3-5.3.1/envs/kaggle_standard/lib/python3.6/site-packages/pandas/io/parsers.py\u001b[0m in \u001b[0;36mread\u001b[0;34m(self, nrows)\u001b[0m\n\u001b[1;32m   1137\u001b[0m     \u001b[0;32mdef\u001b[0m \u001b[0mread\u001b[0m\u001b[0;34m(\u001b[0m\u001b[0mself\u001b[0m\u001b[0;34m,\u001b[0m \u001b[0mnrows\u001b[0m\u001b[0;34m=\u001b[0m\u001b[0;32mNone\u001b[0m\u001b[0;34m)\u001b[0m\u001b[0;34m:\u001b[0m\u001b[0;34m\u001b[0m\u001b[0m\n\u001b[1;32m   1138\u001b[0m         \u001b[0mnrows\u001b[0m \u001b[0;34m=\u001b[0m \u001b[0m_validate_integer\u001b[0m\u001b[0;34m(\u001b[0m\u001b[0;34m'nrows'\u001b[0m\u001b[0;34m,\u001b[0m \u001b[0mnrows\u001b[0m\u001b[0;34m)\u001b[0m\u001b[0;34m\u001b[0m\u001b[0m\n\u001b[0;32m-> 1139\u001b[0;31m         \u001b[0mret\u001b[0m \u001b[0;34m=\u001b[0m \u001b[0mself\u001b[0m\u001b[0;34m.\u001b[0m\u001b[0m_engine\u001b[0m\u001b[0;34m.\u001b[0m\u001b[0mread\u001b[0m\u001b[0;34m(\u001b[0m\u001b[0mnrows\u001b[0m\u001b[0;34m)\u001b[0m\u001b[0;34m\u001b[0m\u001b[0m\n\u001b[0m\u001b[1;32m   1140\u001b[0m \u001b[0;34m\u001b[0m\u001b[0m\n\u001b[1;32m   1141\u001b[0m         \u001b[0;31m# May alter columns / col_dict\u001b[0m\u001b[0;34m\u001b[0m\u001b[0;34m\u001b[0m\u001b[0m\n",
      "\u001b[0;32m~/.pyenv/versions/anaconda3-5.3.1/envs/kaggle_standard/lib/python3.6/site-packages/pandas/io/parsers.py\u001b[0m in \u001b[0;36mread\u001b[0;34m(self, nrows)\u001b[0m\n\u001b[1;32m   1993\u001b[0m     \u001b[0;32mdef\u001b[0m \u001b[0mread\u001b[0m\u001b[0;34m(\u001b[0m\u001b[0mself\u001b[0m\u001b[0;34m,\u001b[0m \u001b[0mnrows\u001b[0m\u001b[0;34m=\u001b[0m\u001b[0;32mNone\u001b[0m\u001b[0;34m)\u001b[0m\u001b[0;34m:\u001b[0m\u001b[0;34m\u001b[0m\u001b[0m\n\u001b[1;32m   1994\u001b[0m         \u001b[0;32mtry\u001b[0m\u001b[0;34m:\u001b[0m\u001b[0;34m\u001b[0m\u001b[0m\n\u001b[0;32m-> 1995\u001b[0;31m             \u001b[0mdata\u001b[0m \u001b[0;34m=\u001b[0m \u001b[0mself\u001b[0m\u001b[0;34m.\u001b[0m\u001b[0m_reader\u001b[0m\u001b[0;34m.\u001b[0m\u001b[0mread\u001b[0m\u001b[0;34m(\u001b[0m\u001b[0mnrows\u001b[0m\u001b[0;34m)\u001b[0m\u001b[0;34m\u001b[0m\u001b[0m\n\u001b[0m\u001b[1;32m   1996\u001b[0m         \u001b[0;32mexcept\u001b[0m \u001b[0mStopIteration\u001b[0m\u001b[0;34m:\u001b[0m\u001b[0;34m\u001b[0m\u001b[0m\n\u001b[1;32m   1997\u001b[0m             \u001b[0;32mif\u001b[0m \u001b[0mself\u001b[0m\u001b[0;34m.\u001b[0m\u001b[0m_first_chunk\u001b[0m\u001b[0;34m:\u001b[0m\u001b[0;34m\u001b[0m\u001b[0m\n",
      "\u001b[0;32mpandas/_libs/parsers.pyx\u001b[0m in \u001b[0;36mpandas._libs.parsers.TextReader.read\u001b[0;34m()\u001b[0m\n",
      "\u001b[0;32mpandas/_libs/parsers.pyx\u001b[0m in \u001b[0;36mpandas._libs.parsers.TextReader._read_low_memory\u001b[0;34m()\u001b[0m\n",
      "\u001b[0;32mpandas/_libs/parsers.pyx\u001b[0m in \u001b[0;36mpandas._libs.parsers.TextReader._read_rows\u001b[0;34m()\u001b[0m\n",
      "\u001b[0;32mpandas/_libs/parsers.pyx\u001b[0m in \u001b[0;36mpandas._libs.parsers.TextReader._convert_column_data\u001b[0;34m()\u001b[0m\n",
      "\u001b[0;32mpandas/_libs/parsers.pyx\u001b[0m in \u001b[0;36mpandas._libs.parsers.TextReader._convert_tokens\u001b[0;34m()\u001b[0m\n",
      "\u001b[0;32mpandas/_libs/parsers.pyx\u001b[0m in \u001b[0;36mpandas._libs.parsers.TextReader._convert_with_dtype\u001b[0;34m()\u001b[0m\n",
      "\u001b[0;32m~/.pyenv/versions/anaconda3-5.3.1/envs/kaggle_standard/lib/python3.6/site-packages/pandas/core/dtypes/common.py\u001b[0m in \u001b[0;36mis_categorical_dtype\u001b[0;34m(arr_or_dtype)\u001b[0m\n\u001b[1;32m    570\u001b[0m \u001b[0;34m\u001b[0m\u001b[0m\n\u001b[1;32m    571\u001b[0m \u001b[0;34m\u001b[0m\u001b[0m\n\u001b[0;32m--> 572\u001b[0;31m \u001b[0;32mdef\u001b[0m \u001b[0mis_categorical_dtype\u001b[0m\u001b[0;34m(\u001b[0m\u001b[0marr_or_dtype\u001b[0m\u001b[0;34m)\u001b[0m\u001b[0;34m:\u001b[0m\u001b[0;34m\u001b[0m\u001b[0m\n\u001b[0m\u001b[1;32m    573\u001b[0m     \"\"\"\n\u001b[1;32m    574\u001b[0m     \u001b[0mCheck\u001b[0m \u001b[0mwhether\u001b[0m \u001b[0man\u001b[0m \u001b[0marray\u001b[0m\u001b[0;34m-\u001b[0m\u001b[0mlike\u001b[0m \u001b[0;32mor\u001b[0m \u001b[0mdtype\u001b[0m \u001b[0;32mis\u001b[0m \u001b[0mof\u001b[0m \u001b[0mthe\u001b[0m \u001b[0mCategorical\u001b[0m \u001b[0mdtype\u001b[0m\u001b[0;34m.\u001b[0m\u001b[0;34m\u001b[0m\u001b[0m\n",
      "\u001b[0;31mKeyboardInterrupt\u001b[0m: "
     ]
    }
   ],
   "source": [
    "start = time.time()\n",
    "print(\"Reading test data...\")\n",
    "test = pd.read_csv('../input/test.csv')\n",
    "end = time.time()\n",
    "\n",
    "print(\"It takes {0:.2f} seconds to read 'test.csv'.\".format(end - start))"
   ]
  },
  {
   "cell_type": "code",
   "execution_count": 43,
   "metadata": {
    "_uuid": "733bef277c96bbdec20afcbd9c2009865ea863f8"
   },
   "outputs": [
    {
     "name": "stdout",
     "output_type": "stream",
     "text": [
      "Train:  (200000, 202)\n",
      "Test:  (200000, 201)\n"
     ]
    }
   ],
   "source": [
    "print(\"Train: \",train.shape)\n",
    "print(\"Test: \", test.shape)"
   ]
  },
  {
   "cell_type": "markdown",
   "metadata": {
    "_uuid": "9c74d587203855a0a8eb7da6b2f6abb3090bb60d"
   },
   "source": [
    "Saving the 'target' and 'ID_code' data."
   ]
  },
  {
   "cell_type": "code",
   "execution_count": 44,
   "metadata": {
    "_uuid": "74a87959eb66d371c314180f4877d1afdde136b7"
   },
   "outputs": [],
   "source": [
    "target = train.pop('target')\n",
    "train_ids = train.pop('ID_code')\n",
    "test_ids = test.pop('ID_code')"
   ]
  },
  {
   "cell_type": "markdown",
   "metadata": {
    "_uuid": "8c2c537288b4915a1f860065a2046e47cae19459"
   },
   "source": [
    "Saving the number of rows in 'train' for future use."
   ]
  },
  {
   "cell_type": "code",
   "execution_count": 45,
   "metadata": {
    "_uuid": "b1026519541d70d9206f9941fc29d19005fa1dcd"
   },
   "outputs": [],
   "source": [
    "len_train = len(train)"
   ]
  },
  {
   "cell_type": "markdown",
   "metadata": {
    "_uuid": "af2947142503c41f3c26e9c805e14e033fceb955"
   },
   "source": [
    "Merging test and train."
   ]
  },
  {
   "cell_type": "code",
   "execution_count": 46,
   "metadata": {
    "_uuid": "fc7bb057b85c4a8b12b102e7432e261ff6a92954"
   },
   "outputs": [
    {
     "data": {
      "text/plain": [
       "(400000, 200)"
      ]
     },
     "execution_count": 46,
     "metadata": {},
     "output_type": "execute_result"
    }
   ],
   "source": [
    "merged = pd.concat([train, test])\n",
    "merged.shape"
   ]
  },
  {
   "cell_type": "markdown",
   "metadata": {
    "_uuid": "5b29b8bd47b43d76ee650e12e063c34c3c1ad189"
   },
   "source": [
    "Removing data we no longer need."
   ]
  },
  {
   "cell_type": "code",
   "execution_count": 123,
   "metadata": {
    "_uuid": "bca8a00d9d62f3a4479c524b66d6e906ac155b7e"
   },
   "outputs": [
    {
     "data": {
      "text/plain": [
       "55788"
      ]
     },
     "execution_count": 123,
     "metadata": {},
     "output_type": "execute_result"
    }
   ],
   "source": [
    "del test, train\n",
    "gc.collect()"
   ]
  },
  {
   "cell_type": "markdown",
   "metadata": {
    "_uuid": "ef8301089d9bfd8880ad0165e3d1c248a5fb1fde"
   },
   "source": [
    "Saving the list of original features in a new list `original_features`."
   ]
  },
  {
   "cell_type": "code",
   "execution_count": 124,
   "metadata": {
    "_uuid": "134f8d281a4fafdbbbd51fb3429015d271d895ac"
   },
   "outputs": [],
   "source": [
    "original_features = merged.columns"
   ]
  },
  {
   "cell_type": "markdown",
   "metadata": {
    "_uuid": "c759bfea1d90b899118ed5a153a0189ea10d7a6c"
   },
   "source": [
    "## Computing new features"
   ]
  },
  {
   "cell_type": "code",
   "execution_count": 10,
   "metadata": {
    "_uuid": "06df646dee338e944955dd6059df57cd6c73afa0"
   },
   "outputs": [],
   "source": [
    "for col in merged.columns:\n",
    "    # Normalize the data, so that it can be used in norm.cdf(), \n",
    "    # as though it is a standard normal variable\n",
    "    merged[col] = ((merged[col] - merged[col].mean()) \n",
    "    / merged[col].std()).astype('float32')\n",
    "\n",
    "    # Square\n",
    "    merged[col+'^2'] = merged[col] * merged[col]\n",
    "\n",
    "    # Cube\n",
    "    merged[col+'^3'] = merged[col] * merged[col] * merged[col]\n",
    "\n",
    "    # 4th power\n",
    "    merged[col+'^4'] = merged[col] * merged[col] * merged[col] * merged[col]\n",
    "\n",
    "    # Cumulative percentile (not normalized)\n",
    "    merged[col+'_cp'] = rankdata(merged[col]).astype('float32')\n",
    "\n",
    "    # Cumulative normal percentile\n",
    "    merged[col+'_cnp'] = norm.cdf(merged[col]).astype('float32')"
   ]
  },
  {
   "cell_type": "markdown",
   "metadata": {
    "_uuid": "d5fd487e4440606deb9e936346e982513f0718c9"
   },
   "source": [
    "Getting the list of names of the added features."
   ]
  },
  {
   "cell_type": "code",
   "execution_count": 11,
   "metadata": {
    "_uuid": "456a64b4d2c1ada1b6db546a1d004537df4bd238"
   },
   "outputs": [],
   "source": [
    "new_features = set(merged.columns) - set(original_features)"
   ]
  },
  {
   "cell_type": "markdown",
   "metadata": {
    "_uuid": "8188eb856e421905972cc6f34ab4b43e87dd41f8"
   },
   "source": [
    "Normalize the data. Again."
   ]
  },
  {
   "cell_type": "code",
   "execution_count": 12,
   "metadata": {
    "_uuid": "7180731459fe9ce60f95b94b77f3d7f9a565823d"
   },
   "outputs": [],
   "source": [
    "for col in new_features:\n",
    "    merged[col] = ((merged[col] - merged[col].mean()) \n",
    "    / merged[col].std()).astype('float32')"
   ]
  },
  {
   "cell_type": "markdown",
   "metadata": {
    "_uuid": "3f1039a0b002c1db092a9b3d590759531facc3e6"
   },
   "source": [
    "Saving the data to feather files."
   ]
  },
  {
   "cell_type": "code",
   "execution_count": 22,
   "metadata": {
    "_uuid": "9f04f23ad704daa0207a03c9c6e5d680ac0caed8",
    "scrolled": false
   },
   "outputs": [
    {
     "name": "stdout",
     "output_type": "stream",
     "text": [
      "Writing target to a feather files...\n",
      "Writing train_ids to a feather files...\n",
      "Writing test_ids to a feather files...\n",
      "Writing train to a feather files...\n",
      "Writing test to a feather files...\n"
     ]
    }
   ],
   "source": [
    "path_target = loadpath + 'target.feather'\n",
    "\n",
    "path_train_ids =loadpath + 'train_ids_extra_features.feather'\n",
    "path_test_ids = loadpath + 'test_ids_extra_features.feather'\n",
    "\n",
    "path_train = loadpath + 'train_extra_features.feather'\n",
    "path_test = loadpath + 'test_extra_features.feather'\n",
    "\n",
    "print(\"Writing target to a feather files...\")\n",
    "pd.DataFrame({'target' : target.values}).to_feather(path_target)\n",
    "\n",
    "print(\"Writing train_ids to a feather files...\")\n",
    "pd.DataFrame({'ID_code' : train_ids.values}).to_feather(path_train_ids)\n",
    "\n",
    "print(\"Writing test_ids to a feather files...\")\n",
    "pd.DataFrame({'ID_code' : test_ids.values}).to_feather(path_test_ids)\n",
    "\n",
    "print(\"Writing train to a feather files...\")\n",
    "feather.write_dataframe(merged.iloc[:len_train], path_train)\n",
    "\n",
    "print(\"Writing test to a feather files...\")\n",
    "feather.write_dataframe(merged.iloc[len_train:], path_test)"
   ]
  },
  {
   "cell_type": "markdown",
   "metadata": {
    "_uuid": "640948a1a36e2d3d73f18ceb9cfb816be6d11d7b"
   },
   "source": [
    "Removing data we no longer need."
   ]
  },
  {
   "cell_type": "code",
   "execution_count": 23,
   "metadata": {
    "_cell_guid": "79c7e3d0-c299-4dcb-8224-4455121ee9b0",
    "_uuid": "d629ff2d2480ee46fbb7e2d37f6b5fab8052498a"
   },
   "outputs": [
    {
     "data": {
      "text/plain": [
       "27"
      ]
     },
     "execution_count": 23,
     "metadata": {},
     "output_type": "execute_result"
    }
   ],
   "source": [
    "del target, train_ids, test_ids, merged\n",
    "gc.collect()"
   ]
  },
  {
   "cell_type": "markdown",
   "metadata": {
    "_uuid": "837f988316528d5c3d4530043448fe5849be3fa5"
   },
   "source": [
    "## Loading the data from feather files\n",
    "\n",
    "Now let's load of these data back into memory. This will help us to illustrate the advantage of using the feather file format."
   ]
  },
  {
   "cell_type": "code",
   "execution_count": 2,
   "metadata": {
    "_uuid": "60b26db1cf85167b14f9223af995a8656bdaa316"
   },
   "outputs": [
    {
     "name": "stdout",
     "output_type": "stream",
     "text": [
      "Reading target\n",
      "0.004292 sec\n"
     ]
    }
   ],
   "source": [
    "path_target = loadpath + 'target.feather'\n",
    "\n",
    "path_train_ids = loadpath + 'train_ids_extra_features.feather'\n",
    "path_test_ids = loadpath + 'test_ids_extra_features.feather'\n",
    "\n",
    "path_train = loadpath + 'train_extra_features.feather'\n",
    "path_test = loadpath + 'test_extra_features.feather'\n",
    "\n",
    "print(\"Reading target\")\n",
    "start = time.time()\n",
    "y = feather.read_dataframe(path_target).values.ravel()\n",
    "end = time.time()\n",
    "\n",
    "print(\"{0:5f} sec\".format(end - start))"
   ]
  },
  {
   "cell_type": "code",
   "execution_count": 4,
   "metadata": {
    "_uuid": "2f60516cb907e9e62f97eb99ebb00db079edc6e3"
   },
   "outputs": [
    {
     "name": "stdout",
     "output_type": "stream",
     "text": [
      "Reading train_ids\n",
      "0.047401 sec\n"
     ]
    }
   ],
   "source": [
    "print(\"Reading train_ids\")\n",
    "start = time.time()\n",
    "train_ids = feather.read_dataframe(path_train_ids).values.ravel()\n",
    "end = time.time()\n",
    "\n",
    "print(\"{0:5f} sec\".format(end - start))"
   ]
  },
  {
   "cell_type": "code",
   "execution_count": 5,
   "metadata": {
    "_uuid": "4c8ad8191f0a4cd976645e7d7b59f7c16c48311f"
   },
   "outputs": [
    {
     "name": "stdout",
     "output_type": "stream",
     "text": [
      "Reading test_ids\n",
      "0.044686 sec\n"
     ]
    }
   ],
   "source": [
    "print(\"Reading test_ids\")\n",
    "start = time.time()\n",
    "test_ids = feather.read_dataframe(path_test_ids).values.ravel()\n",
    "end = time.time()\n",
    "\n",
    "print(\"{0:5f} sec\".format(end - start))"
   ]
  },
  {
   "cell_type": "code",
   "execution_count": 6,
   "metadata": {
    "_uuid": "afe5ba0c48d46a05e09c2de00b094a5a479fded6"
   },
   "outputs": [
    {
     "name": "stdout",
     "output_type": "stream",
     "text": [
      "Reading training data\n",
      "0.130712 sec\n"
     ]
    }
   ],
   "source": [
    "print(\"Reading training data\")\n",
    "\n",
    "start = time.time()\n",
    "train_logistic = feather.read_dataframe(path_train)\n",
    "train = train_logistic.iloc[:,:200]\n",
    "end = time.time()\n",
    "\n",
    "print(\"{0:5f} sec\".format(end - start))"
   ]
  },
  {
   "cell_type": "code",
   "execution_count": 7,
   "metadata": {
    "_uuid": "4764997b330eb79e2962c6ea207b2bf43d75b7a0"
   },
   "outputs": [
    {
     "name": "stdout",
     "output_type": "stream",
     "text": [
      "Reading testing data\n",
      "0.127493 sec\n"
     ]
    }
   ],
   "source": [
    "print(\"Reading testing data\")\n",
    "\n",
    "start = time.time()\n",
    "test_logistic = feather.read_dataframe(path_test)\n",
    "test = test_logistic.iloc[:,:200]\n",
    "end = time.time()\n",
    "\n",
    "print(\"{0:5f} sec\".format(end - start))"
   ]
  },
  {
   "cell_type": "code",
   "execution_count": 8,
   "metadata": {
    "_uuid": "8c278ce260046cb0adfa633f557cf97fa63f2e58"
   },
   "outputs": [
    {
     "name": "stdout",
     "output_type": "stream",
     "text": [
      "Total number of features:  200\n"
     ]
    }
   ],
   "source": [
    "print(\"Total number of features: \",train.shape[1])"
   ]
  },
  {
   "cell_type": "code",
   "execution_count": 9,
   "metadata": {},
   "outputs": [],
   "source": [
    "original_features = train.columns"
   ]
  },
  {
   "cell_type": "markdown",
   "metadata": {
    "_uuid": "d3d1c00f01bdcc40525a6d59cf3bc463bdbcef11"
   },
   "source": [
    "Hopefully now you can see the great advantage of using the feather files: it is blazing fast. Just compare the timings shown above with those measured for the original CSV files: the processed data sets (stored in the feather file format) that we have just loaded are much bigger in size that the original ones (stored in the CSV files) but we can load them in almost no time!\n",
    "\n",
    "# Logistic regession with the added features.\n",
    "\n",
    "Now let's finally do some modeling! More specifically, we will build a straighforward logistic regression model to see whether or not we can improve on linear regression result (LB 0.894). "
   ]
  },
  {
   "cell_type": "code",
   "execution_count": 14,
   "metadata": {
    "_uuid": "72ddd6eee811099caba7f2cc610e7f099d8fa84f"
   },
   "outputs": [],
   "source": [
    "NFOLDS = 10\n",
    "RANDOM_STATE = 823\n",
    "\n",
    "feature_list = train_logistic.columns\n",
    "\n",
    "# test = test[feature_list]\n",
    "\n",
    "# X = train.values.astype(float)\n",
    "# X_test = test.values.astype(float)\n",
    "\n",
    "folds = StratifiedKFold(n_splits=NFOLDS, shuffle=True, \n",
    "                        random_state=RANDOM_STATE)\n"
   ]
  },
  {
   "cell_type": "code",
   "execution_count": 13,
   "metadata": {},
   "outputs": [
    {
     "name": "stdout",
     "output_type": "stream",
     "text": [
      "Current Fold: 0\n"
     ]
    },
    {
     "ename": "KeyboardInterrupt",
     "evalue": "",
     "output_type": "error",
     "traceback": [
      "\u001b[0;31m---------------------------------------------------------------------------\u001b[0m",
      "\u001b[0;31mKeyboardInterrupt\u001b[0m                         Traceback (most recent call last)",
      "\u001b[0;32m<ipython-input-13-db1d18f87e16>\u001b[0m in \u001b[0;36m<module>\u001b[0;34m\u001b[0m\n\u001b[1;32m     10\u001b[0m     \u001b[0mclf\u001b[0m \u001b[0;34m=\u001b[0m  \u001b[0mLogisticRegression\u001b[0m\u001b[0;34m(\u001b[0m\u001b[0msolver\u001b[0m\u001b[0;34m=\u001b[0m\u001b[0;34m'lbfgs'\u001b[0m\u001b[0;34m,\u001b[0m \u001b[0mmax_iter\u001b[0m\u001b[0;34m=\u001b[0m\u001b[0;36m1500\u001b[0m\u001b[0;34m,\u001b[0m \u001b[0mC\u001b[0m\u001b[0;34m=\u001b[0m\u001b[0;36m10\u001b[0m\u001b[0;34m)\u001b[0m\u001b[0;34m\u001b[0m\u001b[0m\n\u001b[1;32m     11\u001b[0m \u001b[0;34m\u001b[0m\u001b[0m\n\u001b[0;32m---> 12\u001b[0;31m     \u001b[0mclf\u001b[0m\u001b[0;34m.\u001b[0m\u001b[0mfit\u001b[0m\u001b[0;34m(\u001b[0m\u001b[0mtrn_x\u001b[0m\u001b[0;34m,\u001b[0m \u001b[0mtrn_y\u001b[0m\u001b[0;34m)\u001b[0m\u001b[0;34m\u001b[0m\u001b[0m\n\u001b[0m\u001b[1;32m     13\u001b[0m \u001b[0;34m\u001b[0m\u001b[0m\n\u001b[1;32m     14\u001b[0m     \u001b[0mval_pred\u001b[0m \u001b[0;34m=\u001b[0m \u001b[0mclf\u001b[0m\u001b[0;34m.\u001b[0m\u001b[0mpredict_proba\u001b[0m\u001b[0;34m(\u001b[0m\u001b[0mval_x\u001b[0m\u001b[0;34m)\u001b[0m\u001b[0;34m[\u001b[0m\u001b[0;34m:\u001b[0m\u001b[0;34m,\u001b[0m\u001b[0;36m1\u001b[0m\u001b[0;34m]\u001b[0m\u001b[0;34m\u001b[0m\u001b[0m\n",
      "\u001b[0;32m~/.pyenv/versions/anaconda3-5.3.1/envs/kaggle_standard/lib/python3.6/site-packages/sklearn/linear_model/logistic.py\u001b[0m in \u001b[0;36mfit\u001b[0;34m(self, X, y, sample_weight)\u001b[0m\n\u001b[1;32m   1361\u001b[0m                       \u001b[0mmax_squared_sum\u001b[0m\u001b[0;34m=\u001b[0m\u001b[0mmax_squared_sum\u001b[0m\u001b[0;34m,\u001b[0m\u001b[0;34m\u001b[0m\u001b[0m\n\u001b[1;32m   1362\u001b[0m                       sample_weight=sample_weight)\n\u001b[0;32m-> 1363\u001b[0;31m             for class_, warm_start_coef_ in zip(classes_, warm_start_coef))\n\u001b[0m\u001b[1;32m   1364\u001b[0m \u001b[0;34m\u001b[0m\u001b[0m\n\u001b[1;32m   1365\u001b[0m         \u001b[0mfold_coefs_\u001b[0m\u001b[0;34m,\u001b[0m \u001b[0m_\u001b[0m\u001b[0;34m,\u001b[0m \u001b[0mn_iter_\u001b[0m \u001b[0;34m=\u001b[0m \u001b[0mzip\u001b[0m\u001b[0;34m(\u001b[0m\u001b[0;34m*\u001b[0m\u001b[0mfold_coefs_\u001b[0m\u001b[0;34m)\u001b[0m\u001b[0;34m\u001b[0m\u001b[0m\n",
      "\u001b[0;32m~/.pyenv/versions/anaconda3-5.3.1/envs/kaggle_standard/lib/python3.6/site-packages/sklearn/externals/joblib/parallel.py\u001b[0m in \u001b[0;36m__call__\u001b[0;34m(self, iterable)\u001b[0m\n\u001b[1;32m    915\u001b[0m             \u001b[0;31m# remaining jobs.\u001b[0m\u001b[0;34m\u001b[0m\u001b[0;34m\u001b[0m\u001b[0m\n\u001b[1;32m    916\u001b[0m             \u001b[0mself\u001b[0m\u001b[0;34m.\u001b[0m\u001b[0m_iterating\u001b[0m \u001b[0;34m=\u001b[0m \u001b[0;32mFalse\u001b[0m\u001b[0;34m\u001b[0m\u001b[0m\n\u001b[0;32m--> 917\u001b[0;31m             \u001b[0;32mif\u001b[0m \u001b[0mself\u001b[0m\u001b[0;34m.\u001b[0m\u001b[0mdispatch_one_batch\u001b[0m\u001b[0;34m(\u001b[0m\u001b[0miterator\u001b[0m\u001b[0;34m)\u001b[0m\u001b[0;34m:\u001b[0m\u001b[0;34m\u001b[0m\u001b[0m\n\u001b[0m\u001b[1;32m    918\u001b[0m                 \u001b[0mself\u001b[0m\u001b[0;34m.\u001b[0m\u001b[0m_iterating\u001b[0m \u001b[0;34m=\u001b[0m \u001b[0mself\u001b[0m\u001b[0;34m.\u001b[0m\u001b[0m_original_iterator\u001b[0m \u001b[0;32mis\u001b[0m \u001b[0;32mnot\u001b[0m \u001b[0;32mNone\u001b[0m\u001b[0;34m\u001b[0m\u001b[0m\n\u001b[1;32m    919\u001b[0m \u001b[0;34m\u001b[0m\u001b[0m\n",
      "\u001b[0;32m~/.pyenv/versions/anaconda3-5.3.1/envs/kaggle_standard/lib/python3.6/site-packages/sklearn/externals/joblib/parallel.py\u001b[0m in \u001b[0;36mdispatch_one_batch\u001b[0;34m(self, iterator)\u001b[0m\n\u001b[1;32m    757\u001b[0m                 \u001b[0;32mreturn\u001b[0m \u001b[0;32mFalse\u001b[0m\u001b[0;34m\u001b[0m\u001b[0m\n\u001b[1;32m    758\u001b[0m             \u001b[0;32melse\u001b[0m\u001b[0;34m:\u001b[0m\u001b[0;34m\u001b[0m\u001b[0m\n\u001b[0;32m--> 759\u001b[0;31m                 \u001b[0mself\u001b[0m\u001b[0;34m.\u001b[0m\u001b[0m_dispatch\u001b[0m\u001b[0;34m(\u001b[0m\u001b[0mtasks\u001b[0m\u001b[0;34m)\u001b[0m\u001b[0;34m\u001b[0m\u001b[0m\n\u001b[0m\u001b[1;32m    760\u001b[0m                 \u001b[0;32mreturn\u001b[0m \u001b[0;32mTrue\u001b[0m\u001b[0;34m\u001b[0m\u001b[0m\n\u001b[1;32m    761\u001b[0m \u001b[0;34m\u001b[0m\u001b[0m\n",
      "\u001b[0;32m~/.pyenv/versions/anaconda3-5.3.1/envs/kaggle_standard/lib/python3.6/site-packages/sklearn/externals/joblib/parallel.py\u001b[0m in \u001b[0;36m_dispatch\u001b[0;34m(self, batch)\u001b[0m\n\u001b[1;32m    714\u001b[0m         \u001b[0;32mwith\u001b[0m \u001b[0mself\u001b[0m\u001b[0;34m.\u001b[0m\u001b[0m_lock\u001b[0m\u001b[0;34m:\u001b[0m\u001b[0;34m\u001b[0m\u001b[0m\n\u001b[1;32m    715\u001b[0m             \u001b[0mjob_idx\u001b[0m \u001b[0;34m=\u001b[0m \u001b[0mlen\u001b[0m\u001b[0;34m(\u001b[0m\u001b[0mself\u001b[0m\u001b[0;34m.\u001b[0m\u001b[0m_jobs\u001b[0m\u001b[0;34m)\u001b[0m\u001b[0;34m\u001b[0m\u001b[0m\n\u001b[0;32m--> 716\u001b[0;31m             \u001b[0mjob\u001b[0m \u001b[0;34m=\u001b[0m \u001b[0mself\u001b[0m\u001b[0;34m.\u001b[0m\u001b[0m_backend\u001b[0m\u001b[0;34m.\u001b[0m\u001b[0mapply_async\u001b[0m\u001b[0;34m(\u001b[0m\u001b[0mbatch\u001b[0m\u001b[0;34m,\u001b[0m \u001b[0mcallback\u001b[0m\u001b[0;34m=\u001b[0m\u001b[0mcb\u001b[0m\u001b[0;34m)\u001b[0m\u001b[0;34m\u001b[0m\u001b[0m\n\u001b[0m\u001b[1;32m    717\u001b[0m             \u001b[0;31m# A job can complete so quickly than its callback is\u001b[0m\u001b[0;34m\u001b[0m\u001b[0;34m\u001b[0m\u001b[0m\n\u001b[1;32m    718\u001b[0m             \u001b[0;31m# called before we get here, causing self._jobs to\u001b[0m\u001b[0;34m\u001b[0m\u001b[0;34m\u001b[0m\u001b[0m\n",
      "\u001b[0;32m~/.pyenv/versions/anaconda3-5.3.1/envs/kaggle_standard/lib/python3.6/site-packages/sklearn/externals/joblib/_parallel_backends.py\u001b[0m in \u001b[0;36mapply_async\u001b[0;34m(self, func, callback)\u001b[0m\n\u001b[1;32m    180\u001b[0m     \u001b[0;32mdef\u001b[0m \u001b[0mapply_async\u001b[0m\u001b[0;34m(\u001b[0m\u001b[0mself\u001b[0m\u001b[0;34m,\u001b[0m \u001b[0mfunc\u001b[0m\u001b[0;34m,\u001b[0m \u001b[0mcallback\u001b[0m\u001b[0;34m=\u001b[0m\u001b[0;32mNone\u001b[0m\u001b[0;34m)\u001b[0m\u001b[0;34m:\u001b[0m\u001b[0;34m\u001b[0m\u001b[0m\n\u001b[1;32m    181\u001b[0m         \u001b[0;34m\"\"\"Schedule a func to be run\"\"\"\u001b[0m\u001b[0;34m\u001b[0m\u001b[0m\n\u001b[0;32m--> 182\u001b[0;31m         \u001b[0mresult\u001b[0m \u001b[0;34m=\u001b[0m \u001b[0mImmediateResult\u001b[0m\u001b[0;34m(\u001b[0m\u001b[0mfunc\u001b[0m\u001b[0;34m)\u001b[0m\u001b[0;34m\u001b[0m\u001b[0m\n\u001b[0m\u001b[1;32m    183\u001b[0m         \u001b[0;32mif\u001b[0m \u001b[0mcallback\u001b[0m\u001b[0;34m:\u001b[0m\u001b[0;34m\u001b[0m\u001b[0m\n\u001b[1;32m    184\u001b[0m             \u001b[0mcallback\u001b[0m\u001b[0;34m(\u001b[0m\u001b[0mresult\u001b[0m\u001b[0;34m)\u001b[0m\u001b[0;34m\u001b[0m\u001b[0m\n",
      "\u001b[0;32m~/.pyenv/versions/anaconda3-5.3.1/envs/kaggle_standard/lib/python3.6/site-packages/sklearn/externals/joblib/_parallel_backends.py\u001b[0m in \u001b[0;36m__init__\u001b[0;34m(self, batch)\u001b[0m\n\u001b[1;32m    547\u001b[0m         \u001b[0;31m# Don't delay the application, to avoid keeping the input\u001b[0m\u001b[0;34m\u001b[0m\u001b[0;34m\u001b[0m\u001b[0m\n\u001b[1;32m    548\u001b[0m         \u001b[0;31m# arguments in memory\u001b[0m\u001b[0;34m\u001b[0m\u001b[0;34m\u001b[0m\u001b[0m\n\u001b[0;32m--> 549\u001b[0;31m         \u001b[0mself\u001b[0m\u001b[0;34m.\u001b[0m\u001b[0mresults\u001b[0m \u001b[0;34m=\u001b[0m \u001b[0mbatch\u001b[0m\u001b[0;34m(\u001b[0m\u001b[0;34m)\u001b[0m\u001b[0;34m\u001b[0m\u001b[0m\n\u001b[0m\u001b[1;32m    550\u001b[0m \u001b[0;34m\u001b[0m\u001b[0m\n\u001b[1;32m    551\u001b[0m     \u001b[0;32mdef\u001b[0m \u001b[0mget\u001b[0m\u001b[0;34m(\u001b[0m\u001b[0mself\u001b[0m\u001b[0;34m)\u001b[0m\u001b[0;34m:\u001b[0m\u001b[0;34m\u001b[0m\u001b[0m\n",
      "\u001b[0;32m~/.pyenv/versions/anaconda3-5.3.1/envs/kaggle_standard/lib/python3.6/site-packages/sklearn/externals/joblib/parallel.py\u001b[0m in \u001b[0;36m__call__\u001b[0;34m(self)\u001b[0m\n\u001b[1;32m    223\u001b[0m         \u001b[0;32mwith\u001b[0m \u001b[0mparallel_backend\u001b[0m\u001b[0;34m(\u001b[0m\u001b[0mself\u001b[0m\u001b[0;34m.\u001b[0m\u001b[0m_backend\u001b[0m\u001b[0;34m,\u001b[0m \u001b[0mn_jobs\u001b[0m\u001b[0;34m=\u001b[0m\u001b[0mself\u001b[0m\u001b[0;34m.\u001b[0m\u001b[0m_n_jobs\u001b[0m\u001b[0;34m)\u001b[0m\u001b[0;34m:\u001b[0m\u001b[0;34m\u001b[0m\u001b[0m\n\u001b[1;32m    224\u001b[0m             return [func(*args, **kwargs)\n\u001b[0;32m--> 225\u001b[0;31m                     for func, args, kwargs in self.items]\n\u001b[0m\u001b[1;32m    226\u001b[0m \u001b[0;34m\u001b[0m\u001b[0m\n\u001b[1;32m    227\u001b[0m     \u001b[0;32mdef\u001b[0m \u001b[0m__len__\u001b[0m\u001b[0;34m(\u001b[0m\u001b[0mself\u001b[0m\u001b[0;34m)\u001b[0m\u001b[0;34m:\u001b[0m\u001b[0;34m\u001b[0m\u001b[0m\n",
      "\u001b[0;32m~/.pyenv/versions/anaconda3-5.3.1/envs/kaggle_standard/lib/python3.6/site-packages/sklearn/externals/joblib/parallel.py\u001b[0m in \u001b[0;36m<listcomp>\u001b[0;34m(.0)\u001b[0m\n\u001b[1;32m    223\u001b[0m         \u001b[0;32mwith\u001b[0m \u001b[0mparallel_backend\u001b[0m\u001b[0;34m(\u001b[0m\u001b[0mself\u001b[0m\u001b[0;34m.\u001b[0m\u001b[0m_backend\u001b[0m\u001b[0;34m,\u001b[0m \u001b[0mn_jobs\u001b[0m\u001b[0;34m=\u001b[0m\u001b[0mself\u001b[0m\u001b[0;34m.\u001b[0m\u001b[0m_n_jobs\u001b[0m\u001b[0;34m)\u001b[0m\u001b[0;34m:\u001b[0m\u001b[0;34m\u001b[0m\u001b[0m\n\u001b[1;32m    224\u001b[0m             return [func(*args, **kwargs)\n\u001b[0;32m--> 225\u001b[0;31m                     for func, args, kwargs in self.items]\n\u001b[0m\u001b[1;32m    226\u001b[0m \u001b[0;34m\u001b[0m\u001b[0m\n\u001b[1;32m    227\u001b[0m     \u001b[0;32mdef\u001b[0m \u001b[0m__len__\u001b[0m\u001b[0;34m(\u001b[0m\u001b[0mself\u001b[0m\u001b[0;34m)\u001b[0m\u001b[0;34m:\u001b[0m\u001b[0;34m\u001b[0m\u001b[0m\n",
      "\u001b[0;32m~/.pyenv/versions/anaconda3-5.3.1/envs/kaggle_standard/lib/python3.6/site-packages/sklearn/linear_model/logistic.py\u001b[0m in \u001b[0;36mlogistic_regression_path\u001b[0;34m(X, y, pos_class, Cs, fit_intercept, max_iter, tol, verbose, solver, coef, class_weight, dual, penalty, intercept_scaling, multi_class, random_state, check_input, max_squared_sum, sample_weight)\u001b[0m\n\u001b[1;32m    753\u001b[0m                 \u001b[0mfunc\u001b[0m\u001b[0;34m,\u001b[0m \u001b[0mw0\u001b[0m\u001b[0;34m,\u001b[0m \u001b[0mfprime\u001b[0m\u001b[0;34m=\u001b[0m\u001b[0;32mNone\u001b[0m\u001b[0;34m,\u001b[0m\u001b[0;34m\u001b[0m\u001b[0m\n\u001b[1;32m    754\u001b[0m                 \u001b[0margs\u001b[0m\u001b[0;34m=\u001b[0m\u001b[0;34m(\u001b[0m\u001b[0mX\u001b[0m\u001b[0;34m,\u001b[0m \u001b[0mtarget\u001b[0m\u001b[0;34m,\u001b[0m \u001b[0;36m1.\u001b[0m \u001b[0;34m/\u001b[0m \u001b[0mC\u001b[0m\u001b[0;34m,\u001b[0m \u001b[0msample_weight\u001b[0m\u001b[0;34m)\u001b[0m\u001b[0;34m,\u001b[0m\u001b[0;34m\u001b[0m\u001b[0m\n\u001b[0;32m--> 755\u001b[0;31m                 iprint=iprint, pgtol=tol, maxiter=max_iter)\n\u001b[0m\u001b[1;32m    756\u001b[0m             \u001b[0;32mif\u001b[0m \u001b[0minfo\u001b[0m\u001b[0;34m[\u001b[0m\u001b[0;34m\"warnflag\"\u001b[0m\u001b[0;34m]\u001b[0m \u001b[0;34m==\u001b[0m \u001b[0;36m1\u001b[0m\u001b[0;34m:\u001b[0m\u001b[0;34m\u001b[0m\u001b[0m\n\u001b[1;32m    757\u001b[0m                 warnings.warn(\"lbfgs failed to converge. Increase the number \"\n",
      "\u001b[0;32m~/.pyenv/versions/anaconda3-5.3.1/envs/kaggle_standard/lib/python3.6/site-packages/scipy/optimize/lbfgsb.py\u001b[0m in \u001b[0;36mfmin_l_bfgs_b\u001b[0;34m(func, x0, fprime, args, approx_grad, bounds, m, factr, pgtol, epsilon, iprint, maxfun, maxiter, disp, callback, maxls)\u001b[0m\n\u001b[1;32m    197\u001b[0m \u001b[0;34m\u001b[0m\u001b[0m\n\u001b[1;32m    198\u001b[0m     res = _minimize_lbfgsb(fun, x0, args=args, jac=jac, bounds=bounds,\n\u001b[0;32m--> 199\u001b[0;31m                            **opts)\n\u001b[0m\u001b[1;32m    200\u001b[0m     d = {'grad': res['jac'],\n\u001b[1;32m    201\u001b[0m          \u001b[0;34m'task'\u001b[0m\u001b[0;34m:\u001b[0m \u001b[0mres\u001b[0m\u001b[0;34m[\u001b[0m\u001b[0;34m'message'\u001b[0m\u001b[0;34m]\u001b[0m\u001b[0;34m,\u001b[0m\u001b[0;34m\u001b[0m\u001b[0m\n",
      "\u001b[0;32m~/.pyenv/versions/anaconda3-5.3.1/envs/kaggle_standard/lib/python3.6/site-packages/scipy/optimize/lbfgsb.py\u001b[0m in \u001b[0;36m_minimize_lbfgsb\u001b[0;34m(fun, x0, args, jac, bounds, disp, maxcor, ftol, gtol, eps, maxfun, maxiter, iprint, callback, maxls, **unknown_options)\u001b[0m\n\u001b[1;32m    333\u001b[0m             \u001b[0;31m# until the completion of the current minimization iteration.\u001b[0m\u001b[0;34m\u001b[0m\u001b[0;34m\u001b[0m\u001b[0m\n\u001b[1;32m    334\u001b[0m             \u001b[0;31m# Overwrite f and g:\u001b[0m\u001b[0;34m\u001b[0m\u001b[0;34m\u001b[0m\u001b[0m\n\u001b[0;32m--> 335\u001b[0;31m             \u001b[0mf\u001b[0m\u001b[0;34m,\u001b[0m \u001b[0mg\u001b[0m \u001b[0;34m=\u001b[0m \u001b[0mfunc_and_grad\u001b[0m\u001b[0;34m(\u001b[0m\u001b[0mx\u001b[0m\u001b[0;34m)\u001b[0m\u001b[0;34m\u001b[0m\u001b[0m\n\u001b[0m\u001b[1;32m    336\u001b[0m         \u001b[0;32melif\u001b[0m \u001b[0mtask_str\u001b[0m\u001b[0;34m.\u001b[0m\u001b[0mstartswith\u001b[0m\u001b[0;34m(\u001b[0m\u001b[0;34mb'NEW_X'\u001b[0m\u001b[0;34m)\u001b[0m\u001b[0;34m:\u001b[0m\u001b[0;34m\u001b[0m\u001b[0m\n\u001b[1;32m    337\u001b[0m             \u001b[0;31m# new iteration\u001b[0m\u001b[0;34m\u001b[0m\u001b[0;34m\u001b[0m\u001b[0m\n",
      "\u001b[0;32m~/.pyenv/versions/anaconda3-5.3.1/envs/kaggle_standard/lib/python3.6/site-packages/scipy/optimize/lbfgsb.py\u001b[0m in \u001b[0;36mfunc_and_grad\u001b[0;34m(x)\u001b[0m\n\u001b[1;32m    283\u001b[0m     \u001b[0;32melse\u001b[0m\u001b[0;34m:\u001b[0m\u001b[0;34m\u001b[0m\u001b[0m\n\u001b[1;32m    284\u001b[0m         \u001b[0;32mdef\u001b[0m \u001b[0mfunc_and_grad\u001b[0m\u001b[0;34m(\u001b[0m\u001b[0mx\u001b[0m\u001b[0;34m)\u001b[0m\u001b[0;34m:\u001b[0m\u001b[0;34m\u001b[0m\u001b[0m\n\u001b[0;32m--> 285\u001b[0;31m             \u001b[0mf\u001b[0m \u001b[0;34m=\u001b[0m \u001b[0mfun\u001b[0m\u001b[0;34m(\u001b[0m\u001b[0mx\u001b[0m\u001b[0;34m,\u001b[0m \u001b[0;34m*\u001b[0m\u001b[0margs\u001b[0m\u001b[0;34m)\u001b[0m\u001b[0;34m\u001b[0m\u001b[0m\n\u001b[0m\u001b[1;32m    286\u001b[0m             \u001b[0mg\u001b[0m \u001b[0;34m=\u001b[0m \u001b[0mjac\u001b[0m\u001b[0;34m(\u001b[0m\u001b[0mx\u001b[0m\u001b[0;34m,\u001b[0m \u001b[0;34m*\u001b[0m\u001b[0margs\u001b[0m\u001b[0;34m)\u001b[0m\u001b[0;34m\u001b[0m\u001b[0m\n\u001b[1;32m    287\u001b[0m             \u001b[0;32mreturn\u001b[0m \u001b[0mf\u001b[0m\u001b[0;34m,\u001b[0m \u001b[0mg\u001b[0m\u001b[0;34m\u001b[0m\u001b[0m\n",
      "\u001b[0;32m~/.pyenv/versions/anaconda3-5.3.1/envs/kaggle_standard/lib/python3.6/site-packages/scipy/optimize/optimize.py\u001b[0m in \u001b[0;36mfunction_wrapper\u001b[0;34m(*wrapper_args)\u001b[0m\n\u001b[1;32m    298\u001b[0m     \u001b[0;32mdef\u001b[0m \u001b[0mfunction_wrapper\u001b[0m\u001b[0;34m(\u001b[0m\u001b[0;34m*\u001b[0m\u001b[0mwrapper_args\u001b[0m\u001b[0;34m)\u001b[0m\u001b[0;34m:\u001b[0m\u001b[0;34m\u001b[0m\u001b[0m\n\u001b[1;32m    299\u001b[0m         \u001b[0mncalls\u001b[0m\u001b[0;34m[\u001b[0m\u001b[0;36m0\u001b[0m\u001b[0;34m]\u001b[0m \u001b[0;34m+=\u001b[0m \u001b[0;36m1\u001b[0m\u001b[0;34m\u001b[0m\u001b[0m\n\u001b[0;32m--> 300\u001b[0;31m         \u001b[0;32mreturn\u001b[0m \u001b[0mfunction\u001b[0m\u001b[0;34m(\u001b[0m\u001b[0;34m*\u001b[0m\u001b[0;34m(\u001b[0m\u001b[0mwrapper_args\u001b[0m \u001b[0;34m+\u001b[0m \u001b[0margs\u001b[0m\u001b[0;34m)\u001b[0m\u001b[0;34m)\u001b[0m\u001b[0;34m\u001b[0m\u001b[0m\n\u001b[0m\u001b[1;32m    301\u001b[0m \u001b[0;34m\u001b[0m\u001b[0m\n\u001b[1;32m    302\u001b[0m     \u001b[0;32mreturn\u001b[0m \u001b[0mncalls\u001b[0m\u001b[0;34m,\u001b[0m \u001b[0mfunction_wrapper\u001b[0m\u001b[0;34m\u001b[0m\u001b[0m\n",
      "\u001b[0;32m~/.pyenv/versions/anaconda3-5.3.1/envs/kaggle_standard/lib/python3.6/site-packages/scipy/optimize/optimize.py\u001b[0m in \u001b[0;36m__call__\u001b[0;34m(self, x, *args)\u001b[0m\n\u001b[1;32m     61\u001b[0m     \u001b[0;32mdef\u001b[0m \u001b[0m__call__\u001b[0m\u001b[0;34m(\u001b[0m\u001b[0mself\u001b[0m\u001b[0;34m,\u001b[0m \u001b[0mx\u001b[0m\u001b[0;34m,\u001b[0m \u001b[0;34m*\u001b[0m\u001b[0margs\u001b[0m\u001b[0;34m)\u001b[0m\u001b[0;34m:\u001b[0m\u001b[0;34m\u001b[0m\u001b[0m\n\u001b[1;32m     62\u001b[0m         \u001b[0mself\u001b[0m\u001b[0;34m.\u001b[0m\u001b[0mx\u001b[0m \u001b[0;34m=\u001b[0m \u001b[0mnumpy\u001b[0m\u001b[0;34m.\u001b[0m\u001b[0masarray\u001b[0m\u001b[0;34m(\u001b[0m\u001b[0mx\u001b[0m\u001b[0;34m)\u001b[0m\u001b[0;34m.\u001b[0m\u001b[0mcopy\u001b[0m\u001b[0;34m(\u001b[0m\u001b[0;34m)\u001b[0m\u001b[0;34m\u001b[0m\u001b[0m\n\u001b[0;32m---> 63\u001b[0;31m         \u001b[0mfg\u001b[0m \u001b[0;34m=\u001b[0m \u001b[0mself\u001b[0m\u001b[0;34m.\u001b[0m\u001b[0mfun\u001b[0m\u001b[0;34m(\u001b[0m\u001b[0mx\u001b[0m\u001b[0;34m,\u001b[0m \u001b[0;34m*\u001b[0m\u001b[0margs\u001b[0m\u001b[0;34m)\u001b[0m\u001b[0;34m\u001b[0m\u001b[0m\n\u001b[0m\u001b[1;32m     64\u001b[0m         \u001b[0mself\u001b[0m\u001b[0;34m.\u001b[0m\u001b[0mjac\u001b[0m \u001b[0;34m=\u001b[0m \u001b[0mfg\u001b[0m\u001b[0;34m[\u001b[0m\u001b[0;36m1\u001b[0m\u001b[0;34m]\u001b[0m\u001b[0;34m\u001b[0m\u001b[0m\n\u001b[1;32m     65\u001b[0m         \u001b[0;32mreturn\u001b[0m \u001b[0mfg\u001b[0m\u001b[0;34m[\u001b[0m\u001b[0;36m0\u001b[0m\u001b[0;34m]\u001b[0m\u001b[0;34m\u001b[0m\u001b[0m\n",
      "\u001b[0;32m~/.pyenv/versions/anaconda3-5.3.1/envs/kaggle_standard/lib/python3.6/site-packages/sklearn/linear_model/logistic.py\u001b[0m in \u001b[0;36m_logistic_loss_and_grad\u001b[0;34m(w, X, y, alpha, sample_weight)\u001b[0m\n\u001b[1;32m    122\u001b[0m     \u001b[0mz0\u001b[0m \u001b[0;34m=\u001b[0m \u001b[0msample_weight\u001b[0m \u001b[0;34m*\u001b[0m \u001b[0;34m(\u001b[0m\u001b[0mz\u001b[0m \u001b[0;34m-\u001b[0m \u001b[0;36m1\u001b[0m\u001b[0;34m)\u001b[0m \u001b[0;34m*\u001b[0m \u001b[0my\u001b[0m\u001b[0;34m\u001b[0m\u001b[0m\n\u001b[1;32m    123\u001b[0m \u001b[0;34m\u001b[0m\u001b[0m\n\u001b[0;32m--> 124\u001b[0;31m     \u001b[0mgrad\u001b[0m\u001b[0;34m[\u001b[0m\u001b[0;34m:\u001b[0m\u001b[0mn_features\u001b[0m\u001b[0;34m]\u001b[0m \u001b[0;34m=\u001b[0m \u001b[0msafe_sparse_dot\u001b[0m\u001b[0;34m(\u001b[0m\u001b[0mX\u001b[0m\u001b[0;34m.\u001b[0m\u001b[0mT\u001b[0m\u001b[0;34m,\u001b[0m \u001b[0mz0\u001b[0m\u001b[0;34m)\u001b[0m \u001b[0;34m+\u001b[0m \u001b[0malpha\u001b[0m \u001b[0;34m*\u001b[0m \u001b[0mw\u001b[0m\u001b[0;34m\u001b[0m\u001b[0m\n\u001b[0m\u001b[1;32m    125\u001b[0m \u001b[0;34m\u001b[0m\u001b[0m\n\u001b[1;32m    126\u001b[0m     \u001b[0;31m# Case where we fit the intercept.\u001b[0m\u001b[0;34m\u001b[0m\u001b[0;34m\u001b[0m\u001b[0m\n",
      "\u001b[0;32m~/.pyenv/versions/anaconda3-5.3.1/envs/kaggle_standard/lib/python3.6/site-packages/sklearn/utils/extmath.py\u001b[0m in \u001b[0;36msafe_sparse_dot\u001b[0;34m(a, b, dense_output)\u001b[0m\n\u001b[1;32m    171\u001b[0m         \u001b[0;32mreturn\u001b[0m \u001b[0mret\u001b[0m\u001b[0;34m\u001b[0m\u001b[0m\n\u001b[1;32m    172\u001b[0m     \u001b[0;32melse\u001b[0m\u001b[0;34m:\u001b[0m\u001b[0;34m\u001b[0m\u001b[0m\n\u001b[0;32m--> 173\u001b[0;31m         \u001b[0;32mreturn\u001b[0m \u001b[0mnp\u001b[0m\u001b[0;34m.\u001b[0m\u001b[0mdot\u001b[0m\u001b[0;34m(\u001b[0m\u001b[0ma\u001b[0m\u001b[0;34m,\u001b[0m \u001b[0mb\u001b[0m\u001b[0;34m)\u001b[0m\u001b[0;34m\u001b[0m\u001b[0m\n\u001b[0m\u001b[1;32m    174\u001b[0m \u001b[0;34m\u001b[0m\u001b[0m\n\u001b[1;32m    175\u001b[0m \u001b[0;34m\u001b[0m\u001b[0m\n",
      "\u001b[0;31mKeyboardInterrupt\u001b[0m: "
     ]
    }
   ],
   "source": [
    "oof_preds = np.zeros((len(train_logistic), 1))\n",
    "test_preds = np.zeros((len(test_logistic), 1))\n",
    "roc_cv =[]\n",
    "\n",
    "for fold_, (trn_, val_) in enumerate(folds.split(y, y)):\n",
    "    print(\"Current Fold: {}\".format(fold_))\n",
    "    trn_x, trn_y = train_logistic.iloc[trn_, :], y[trn_]\n",
    "    val_x, val_y = train_logistic.iloc[val_, :], y[val_]\n",
    "    \n",
    "    clf =  LogisticRegression(solver='lbfgs', max_iter=1500, C=10)\n",
    "\n",
    "    clf.fit(trn_x, trn_y)\n",
    "\n",
    "    val_pred = clf.predict_proba(val_x)[:,1]\n",
    "    test_fold_pred = clf.predict_proba(test_logistic)[:,1]\n",
    "    \n",
    "    roc_cv.append(roc_auc_score(val_y, val_pred))\n",
    "    \n",
    "    print(\"AUC = {}\".format(roc_auc_score(val_y, val_pred)))\n",
    "    oof_preds[val_, :] = val_pred.reshape((-1, 1))\n",
    "    test_preds += test_fold_pred.reshape((-1, 1))\n",
    "test_preds/=NFOLDS\n",
    "test_preds = test_preds.reshape(-1)"
   ]
  },
  {
   "cell_type": "code",
   "execution_count": 71,
   "metadata": {},
   "outputs": [
    {
     "data": {
      "text/plain": [
       "(200000, 1200)"
      ]
     },
     "execution_count": 71,
     "metadata": {},
     "output_type": "execute_result"
    }
   ],
   "source": [
    "train_logistic.shape"
   ]
  },
  {
   "cell_type": "code",
   "execution_count": 72,
   "metadata": {},
   "outputs": [
    {
     "data": {
      "text/plain": [
       "LogisticRegression(C=10, class_weight=None, dual=False, fit_intercept=True,\n",
       "          intercept_scaling=1, max_iter=1500, multi_class='warn',\n",
       "          n_jobs=None, penalty='l2', random_state=None, solver='lbfgs',\n",
       "          tol=0.0001, verbose=0, warm_start=False)"
      ]
     },
     "execution_count": 72,
     "metadata": {},
     "output_type": "execute_result"
    }
   ],
   "source": [
    "clf =  LogisticRegression(solver='lbfgs', max_iter=1500, C=10)\n",
    "clf.fit(train_logistic,y)"
   ]
  },
  {
   "cell_type": "markdown",
   "metadata": {},
   "source": [
    "foldしないでテスト予測"
   ]
  },
  {
   "cell_type": "code",
   "execution_count": 75,
   "metadata": {},
   "outputs": [],
   "source": [
    "test_preds_single = clf.predict_proba(test_logistic)[:,1]"
   ]
  },
  {
   "cell_type": "markdown",
   "metadata": {},
   "source": [
    "foldでやったやつとの差"
   ]
  },
  {
   "cell_type": "code",
   "execution_count": 94,
   "metadata": {},
   "outputs": [
    {
     "data": {
      "text/plain": [
       "38.932710383915044"
      ]
     },
     "execution_count": 94,
     "metadata": {},
     "output_type": "execute_result"
    }
   ],
   "source": [
    "np.abs(test_preds_single - test_preds).sum()"
   ]
  },
  {
   "cell_type": "markdown",
   "metadata": {
    "_uuid": "de1e4b00f84f8299f1eeff9f09e63e6299add289"
   },
   "source": [
    "### Feature Importance & Feature Selection"
   ]
  },
  {
   "cell_type": "code",
   "execution_count": 15,
   "metadata": {
    "_uuid": "6df10f59e9448863064fddd4312961ddbe243f20"
   },
   "outputs": [
    {
     "ename": "IndexError",
     "evalue": "list index out of range",
     "output_type": "error",
     "traceback": [
      "\u001b[0;31m---------------------------------------------------------------------------\u001b[0m",
      "\u001b[0;31mIndexError\u001b[0m                                Traceback (most recent call last)",
      "\u001b[0;32m<ipython-input-15-e1234f5ced05>\u001b[0m in \u001b[0;36m<module>\u001b[0;34m\u001b[0m\n\u001b[0;32m----> 1\u001b[0;31m \u001b[0mfeature_importance\u001b[0m \u001b[0;34m=\u001b[0m \u001b[0mabs\u001b[0m\u001b[0;34m(\u001b[0m\u001b[0mclf\u001b[0m\u001b[0;34m.\u001b[0m\u001b[0mcoef_\u001b[0m\u001b[0;34m[\u001b[0m\u001b[0;36m0\u001b[0m\u001b[0;34m]\u001b[0m\u001b[0;34m)\u001b[0m\u001b[0;34m\u001b[0m\u001b[0m\n\u001b[0m\u001b[1;32m      2\u001b[0m \u001b[0msorted_idx\u001b[0m \u001b[0;34m=\u001b[0m \u001b[0mnp\u001b[0m\u001b[0;34m.\u001b[0m\u001b[0margsort\u001b[0m\u001b[0;34m(\u001b[0m\u001b[0mfeature_importance\u001b[0m\u001b[0;34m)\u001b[0m\u001b[0;34m[\u001b[0m\u001b[0;34m:\u001b[0m\u001b[0;34m:\u001b[0m\u001b[0;34m-\u001b[0m\u001b[0;36m1\u001b[0m\u001b[0;34m]\u001b[0m\u001b[0;34m\u001b[0m\u001b[0m\n",
      "\u001b[0;31mIndexError\u001b[0m: list index out of range"
     ]
    }
   ],
   "source": [
    "feature_importance = abs(clf.coef_[0])\n",
    "sorted_idx = np.argsort(feature_importance)[::-1]"
   ]
  },
  {
   "cell_type": "code",
   "execution_count": 16,
   "metadata": {
    "_uuid": "bca957e6843f437ec776670c613e0da3280f28ed"
   },
   "outputs": [
    {
     "ename": "NameError",
     "evalue": "name 'sorted_idx' is not defined",
     "output_type": "error",
     "traceback": [
      "\u001b[0;31m---------------------------------------------------------------------------\u001b[0m",
      "\u001b[0;31mNameError\u001b[0m                                 Traceback (most recent call last)",
      "\u001b[0;32m<ipython-input-16-42febd6c6cdc>\u001b[0m in \u001b[0;36m<module>\u001b[0;34m\u001b[0m\n\u001b[0;32m----> 1\u001b[0;31m \u001b[0mtop_new_features\u001b[0m \u001b[0;34m=\u001b[0m \u001b[0mfeature_list\u001b[0m\u001b[0;34m[\u001b[0m\u001b[0msorted_idx\u001b[0m\u001b[0;34m[\u001b[0m\u001b[0;36m0\u001b[0m\u001b[0;34m:\u001b[0m\u001b[0;36m500\u001b[0m\u001b[0;34m]\u001b[0m\u001b[0;34m]\u001b[0m\u001b[0;34m\u001b[0m\u001b[0m\n\u001b[0m",
      "\u001b[0;31mNameError\u001b[0m: name 'sorted_idx' is not defined"
     ]
    }
   ],
   "source": [
    "top_new_features = feature_list[sorted_idx[0:500]]"
   ]
  },
  {
   "cell_type": "code",
   "execution_count": null,
   "metadata": {
    "_uuid": "ec76bf256250c72a45ad81a6c28134e47088ed2f"
   },
   "outputs": [],
   "source": [
    "train_newf = train_logistic[top_new_features]\n",
    "Orig_feature_list = list(original_features)"
   ]
  },
  {
   "cell_type": "code",
   "execution_count": 18,
   "metadata": {
    "_uuid": "229583d56728e9a1a98ce539f4ff9bcc6b549f72"
   },
   "outputs": [
    {
     "data": {
      "text/plain": [
       "348"
      ]
     },
     "execution_count": 18,
     "metadata": {},
     "output_type": "execute_result"
    }
   ],
   "source": [
    "cols = [col for col in train_newf.columns if col not in Orig_feature_list]\n",
    "len(cols)"
   ]
  },
  {
   "cell_type": "code",
   "execution_count": 17,
   "metadata": {
    "_uuid": "132fd0efaf0adf943b038720f8f1062c319aafd3"
   },
   "outputs": [],
   "source": [
    "# train2 = pd.concat([train[original_features], train[cols]], axis=1)\n",
    "# test2 = test[train2.columns]"
   ]
  },
  {
   "cell_type": "markdown",
   "metadata": {
    "_uuid": "bb198e54be7b7da392a35c0db059741e0db49149"
   },
   "source": [
    "## LGBM model with additional features"
   ]
  },
  {
   "cell_type": "code",
   "execution_count": 18,
   "metadata": {
    "_uuid": "d176ad7c3da9dc712e3abf6f57ce7271ea7e7a94"
   },
   "outputs": [],
   "source": [
    "params_tuned ={\n",
    "    'max_leaves': 100,\n",
    "    'min_data_in_leaf': 89,\n",
    "    'max_depth': 11,\n",
    "    'learning_rate': 0.01519964329847745,\n",
    "    'bagging_fraction': 0.8310261424943991,\n",
    "    'feature_fraction': 0.035769744520573576,\n",
    "    'reg_alpha': 3.739283733911206,\n",
    "    'reg_lambda': 1.97124727896967, \n",
    "    'colsample_bytree': 0.15174322059088163,\n",
    "    'min_gain_to_split': 0.004132432935314933,\n",
    "    'min_child_weight': 2.534409393882509,\n",
    "    'boosting': 'gbdt',\n",
    "    'bagging_freq': 5, \n",
    "    'num_threads': 4,\n",
    "    'objective': 'binary',\n",
    "    'random_state': 823,\n",
    "    'metric': 'auc',\n",
    "    'verbosity': -1,\n",
    "} \n",
    "\n",
    "\n",
    "\n",
    "# {'num_leaves': 9,\n",
    "#          'min_data_in_leaf': 42,\n",
    "#          'objective': 'binary',\n",
    "#          'max_depth': 11,\n",
    "#          'learning_rate': 0.03,\n",
    "#          'boosting': 'gbdt',\n",
    "# #          'bagging_freq': 5,\n",
    "#          'bagging_fraction': 0.8,\n",
    "#          'feature_fraction': 0.8201,\n",
    "#          'bagging_seed': 11,\n",
    "#          'reg_alpha': 3,\n",
    "#          'reg_lambda': 5,\n",
    "#          'random_state': 42,\n",
    "#          'metric': 'auc',\n",
    "#          'verbosity': -1,\n",
    "#          'colsample_bytree': 0.7,\n",
    "# #         'subsample': 0.81,\n",
    "#          'min_gain_to_split': 0.02,\n",
    "# #         'min_child_weight': 19.428902804238373,\n",
    "#          'num_threads': 4,\n",
    "# #          'tree_learner': 'data'\n",
    "#         }\n"
   ]
  },
  {
   "cell_type": "code",
   "execution_count": 21,
   "metadata": {
    "scrolled": true
   },
   "outputs": [
    {
     "name": "stdout",
     "output_type": "stream",
     "text": [
      "Fold 0 started at Sat Mar 16 14:19:52 2019\n",
      "Training until validation scores don't improve for 200 rounds.\n",
      "[300]\ttraining's auc: 0.916156\tvalid_1's auc: 0.887591\n",
      "[600]\ttraining's auc: 0.925188\tvalid_1's auc: 0.895186\n",
      "[900]\ttraining's auc: 0.930676\tvalid_1's auc: 0.897251\n",
      "[1200]\ttraining's auc: 0.934268\tvalid_1's auc: 0.89805\n",
      "[1500]\ttraining's auc: 0.937751\tvalid_1's auc: 0.898925\n",
      "[1800]\ttraining's auc: 0.940898\tvalid_1's auc: 0.899511\n",
      "[2100]\ttraining's auc: 0.943894\tvalid_1's auc: 0.899907\n",
      "[2400]\ttraining's auc: 0.946714\tvalid_1's auc: 0.899983\n",
      "[2700]\ttraining's auc: 0.949357\tvalid_1's auc: 0.90025\n",
      "Early stopping, best iteration is:\n",
      "[2723]\ttraining's auc: 0.949552\tvalid_1's auc: 0.900322\n",
      "AUC = 0.9003217473855778\n",
      "Fold 1 started at Sat Mar 16 14:22:36 2019\n",
      "Training until validation scores don't improve for 200 rounds.\n",
      "[300]\ttraining's auc: 0.916242\tvalid_1's auc: 0.884208\n",
      "[600]\ttraining's auc: 0.925112\tvalid_1's auc: 0.891383\n",
      "[900]\ttraining's auc: 0.93039\tvalid_1's auc: 0.895097\n",
      "[1200]\ttraining's auc: 0.934097\tvalid_1's auc: 0.897034\n",
      "[1500]\ttraining's auc: 0.937715\tvalid_1's auc: 0.898279\n",
      "[1800]\ttraining's auc: 0.940767\tvalid_1's auc: 0.899238\n",
      "[2100]\ttraining's auc: 0.943732\tvalid_1's auc: 0.899898\n",
      "[2400]\ttraining's auc: 0.946632\tvalid_1's auc: 0.900241\n",
      "[2700]\ttraining's auc: 0.949347\tvalid_1's auc: 0.900586\n",
      "[3000]\ttraining's auc: 0.951871\tvalid_1's auc: 0.900875\n",
      "[3300]\ttraining's auc: 0.954407\tvalid_1's auc: 0.900965\n",
      "[3600]\ttraining's auc: 0.956891\tvalid_1's auc: 0.901131\n",
      "[3900]\ttraining's auc: 0.959193\tvalid_1's auc: 0.901163\n",
      "Early stopping, best iteration is:\n",
      "[3703]\ttraining's auc: 0.957695\tvalid_1's auc: 0.901242\n",
      "AUC = 0.9012423016372755\n",
      "Fold 2 started at Sat Mar 16 14:27:20 2019\n",
      "Training until validation scores don't improve for 200 rounds.\n",
      "[300]\ttraining's auc: 0.916224\tvalid_1's auc: 0.888743\n",
      "[600]\ttraining's auc: 0.925181\tvalid_1's auc: 0.894425\n",
      "[900]\ttraining's auc: 0.930457\tvalid_1's auc: 0.897884\n",
      "[1200]\ttraining's auc: 0.934155\tvalid_1's auc: 0.899552\n",
      "[1500]\ttraining's auc: 0.937758\tvalid_1's auc: 0.900826\n",
      "[1800]\ttraining's auc: 0.940904\tvalid_1's auc: 0.901233\n",
      "[2100]\ttraining's auc: 0.943886\tvalid_1's auc: 0.901711\n",
      "[2400]\ttraining's auc: 0.946762\tvalid_1's auc: 0.902063\n",
      "Early stopping, best iteration is:\n",
      "[2297]\ttraining's auc: 0.945791\tvalid_1's auc: 0.90216\n",
      "AUC = 0.9021601276552202\n",
      "Fold 3 started at Sat Mar 16 14:29:20 2019\n",
      "Training until validation scores don't improve for 200 rounds.\n",
      "[300]\ttraining's auc: 0.916753\tvalid_1's auc: 0.882231\n",
      "[600]\ttraining's auc: 0.925617\tvalid_1's auc: 0.889842\n",
      "[900]\ttraining's auc: 0.930871\tvalid_1's auc: 0.893041\n",
      "[1200]\ttraining's auc: 0.934523\tvalid_1's auc: 0.894775\n",
      "[1500]\ttraining's auc: 0.938167\tvalid_1's auc: 0.89591\n",
      "[1800]\ttraining's auc: 0.941263\tvalid_1's auc: 0.896395\n",
      "[2100]\ttraining's auc: 0.944231\tvalid_1's auc: 0.897087\n",
      "[2400]\ttraining's auc: 0.947062\tvalid_1's auc: 0.89755\n",
      "[2700]\ttraining's auc: 0.949761\tvalid_1's auc: 0.89778\n",
      "[3000]\ttraining's auc: 0.95235\tvalid_1's auc: 0.898005\n",
      "[3300]\ttraining's auc: 0.954802\tvalid_1's auc: 0.898222\n",
      "[3600]\ttraining's auc: 0.957223\tvalid_1's auc: 0.898228\n",
      "Early stopping, best iteration is:\n",
      "[3457]\ttraining's auc: 0.956091\tvalid_1's auc: 0.898359\n",
      "AUC = 0.8983590939134234\n",
      "Fold 4 started at Sat Mar 16 14:34:16 2019\n",
      "Training until validation scores don't improve for 200 rounds.\n",
      "[300]\ttraining's auc: 0.916952\tvalid_1's auc: 0.88351\n",
      "[600]\ttraining's auc: 0.925727\tvalid_1's auc: 0.889944\n",
      "[900]\ttraining's auc: 0.931056\tvalid_1's auc: 0.893311\n",
      "[1200]\ttraining's auc: 0.934607\tvalid_1's auc: 0.894634\n",
      "[1500]\ttraining's auc: 0.938215\tvalid_1's auc: 0.89608\n",
      "[1800]\ttraining's auc: 0.941266\tvalid_1's auc: 0.896452\n",
      "[2100]\ttraining's auc: 0.944208\tvalid_1's auc: 0.897132\n",
      "[2400]\ttraining's auc: 0.947056\tvalid_1's auc: 0.89744\n",
      "[2700]\ttraining's auc: 0.949749\tvalid_1's auc: 0.897788\n",
      "[3000]\ttraining's auc: 0.952267\tvalid_1's auc: 0.89798\n",
      "[3300]\ttraining's auc: 0.954782\tvalid_1's auc: 0.898297\n",
      "[3600]\ttraining's auc: 0.957187\tvalid_1's auc: 0.898413\n",
      "Early stopping, best iteration is:\n",
      "[3530]\ttraining's auc: 0.956628\tvalid_1's auc: 0.89845\n",
      "AUC = 0.8984496915091027\n",
      "Fold 5 started at Sat Mar 16 14:38:36 2019\n",
      "Training until validation scores don't improve for 200 rounds.\n",
      "[300]\ttraining's auc: 0.916517\tvalid_1's auc: 0.882739\n",
      "[600]\ttraining's auc: 0.925389\tvalid_1's auc: 0.889459\n",
      "[900]\ttraining's auc: 0.930748\tvalid_1's auc: 0.892902\n",
      "[1200]\ttraining's auc: 0.934533\tvalid_1's auc: 0.894373\n",
      "[1500]\ttraining's auc: 0.938205\tvalid_1's auc: 0.895718\n",
      "[1800]\ttraining's auc: 0.941264\tvalid_1's auc: 0.895983\n",
      "[2100]\ttraining's auc: 0.944266\tvalid_1's auc: 0.896544\n",
      "[2400]\ttraining's auc: 0.947128\tvalid_1's auc: 0.896981\n",
      "[2700]\ttraining's auc: 0.949796\tvalid_1's auc: 0.897117\n",
      "[3000]\ttraining's auc: 0.952342\tvalid_1's auc: 0.897113\n",
      "Early stopping, best iteration is:\n",
      "[2939]\ttraining's auc: 0.951837\tvalid_1's auc: 0.897274\n",
      "AUC = 0.8972741904706595\n",
      "Fold 6 started at Sat Mar 16 14:40:00 2019\n",
      "Training until validation scores don't improve for 200 rounds.\n",
      "[300]\ttraining's auc: 0.916437\tvalid_1's auc: 0.887566\n",
      "[600]\ttraining's auc: 0.925306\tvalid_1's auc: 0.894597\n",
      "[900]\ttraining's auc: 0.930497\tvalid_1's auc: 0.897067\n",
      "[1200]\ttraining's auc: 0.934159\tvalid_1's auc: 0.898866\n",
      "[1500]\ttraining's auc: 0.937672\tvalid_1's auc: 0.900461\n",
      "[1800]\ttraining's auc: 0.940731\tvalid_1's auc: 0.901249\n",
      "[2100]\ttraining's auc: 0.943661\tvalid_1's auc: 0.901865\n",
      "[2400]\ttraining's auc: 0.946521\tvalid_1's auc: 0.902203\n",
      "[2700]\ttraining's auc: 0.949248\tvalid_1's auc: 0.90238\n",
      "[3000]\ttraining's auc: 0.951794\tvalid_1's auc: 0.902583\n",
      "[3300]\ttraining's auc: 0.954336\tvalid_1's auc: 0.902762\n",
      "[3600]\ttraining's auc: 0.956765\tvalid_1's auc: 0.902997\n",
      "[3900]\ttraining's auc: 0.959095\tvalid_1's auc: 0.902892\n",
      "Early stopping, best iteration is:\n",
      "[3737]\ttraining's auc: 0.957825\tvalid_1's auc: 0.903083\n",
      "AUC = 0.9030828348529725\n",
      "Fold 7 started at Sat Mar 16 14:41:16 2019\n",
      "Training until validation scores don't improve for 200 rounds.\n",
      "[300]\ttraining's auc: 0.916856\tvalid_1's auc: 0.881368\n",
      "[600]\ttraining's auc: 0.925762\tvalid_1's auc: 0.889331\n",
      "[900]\ttraining's auc: 0.931012\tvalid_1's auc: 0.893089\n",
      "[1200]\ttraining's auc: 0.934537\tvalid_1's auc: 0.894781\n",
      "[1500]\ttraining's auc: 0.938037\tvalid_1's auc: 0.895915\n",
      "[1800]\ttraining's auc: 0.94102\tvalid_1's auc: 0.896619\n",
      "[2100]\ttraining's auc: 0.943964\tvalid_1's auc: 0.897164\n",
      "[2400]\ttraining's auc: 0.946832\tvalid_1's auc: 0.897668\n",
      "[2700]\ttraining's auc: 0.949507\tvalid_1's auc: 0.898076\n",
      "Early stopping, best iteration is:\n",
      "[2715]\ttraining's auc: 0.949628\tvalid_1's auc: 0.89814\n",
      "AUC = 0.898140287998584\n",
      "Fold 8 started at Sat Mar 16 14:42:13 2019\n",
      "Training until validation scores don't improve for 200 rounds.\n",
      "[300]\ttraining's auc: 0.916722\tvalid_1's auc: 0.881894\n",
      "[600]\ttraining's auc: 0.925576\tvalid_1's auc: 0.888633\n",
      "[900]\ttraining's auc: 0.93063\tvalid_1's auc: 0.891748\n",
      "[1200]\ttraining's auc: 0.934293\tvalid_1's auc: 0.893408\n",
      "[1500]\ttraining's auc: 0.938039\tvalid_1's auc: 0.894059\n",
      "[1800]\ttraining's auc: 0.94106\tvalid_1's auc: 0.894498\n",
      "[2100]\ttraining's auc: 0.94412\tvalid_1's auc: 0.895143\n",
      "[2400]\ttraining's auc: 0.946977\tvalid_1's auc: 0.895736\n",
      "[2700]\ttraining's auc: 0.949726\tvalid_1's auc: 0.896094\n",
      "[3000]\ttraining's auc: 0.952249\tvalid_1's auc: 0.896177\n",
      "[3300]\ttraining's auc: 0.954744\tvalid_1's auc: 0.896243\n",
      "[3600]\ttraining's auc: 0.957174\tvalid_1's auc: 0.896478\n",
      "[3900]\ttraining's auc: 0.959509\tvalid_1's auc: 0.896578\n",
      "Early stopping, best iteration is:\n",
      "[3890]\ttraining's auc: 0.959438\tvalid_1's auc: 0.896631\n",
      "AUC = 0.8966312793098095\n",
      "Fold 9 started at Sat Mar 16 14:43:32 2019\n",
      "Training until validation scores don't improve for 200 rounds.\n",
      "[300]\ttraining's auc: 0.916414\tvalid_1's auc: 0.887152\n",
      "[600]\ttraining's auc: 0.925181\tvalid_1's auc: 0.893154\n",
      "[900]\ttraining's auc: 0.930412\tvalid_1's auc: 0.896039\n",
      "[1200]\ttraining's auc: 0.934072\tvalid_1's auc: 0.897759\n",
      "[1500]\ttraining's auc: 0.937754\tvalid_1's auc: 0.899006\n",
      "[1800]\ttraining's auc: 0.940882\tvalid_1's auc: 0.899669\n",
      "[2100]\ttraining's auc: 0.943906\tvalid_1's auc: 0.900696\n",
      "[2400]\ttraining's auc: 0.946743\tvalid_1's auc: 0.901266\n",
      "[2700]\ttraining's auc: 0.949444\tvalid_1's auc: 0.901457\n",
      "[3000]\ttraining's auc: 0.952005\tvalid_1's auc: 0.901815\n",
      "[3300]\ttraining's auc: 0.954524\tvalid_1's auc: 0.901756\n",
      "Early stopping, best iteration is:\n",
      "[3117]\ttraining's auc: 0.95303\tvalid_1's auc: 0.901891\n",
      "AUC = 0.9018906305726508\n",
      "CPU times: user 1h 18min 23s, sys: 7.27 s, total: 1h 18min 31s\n",
      "Wall time: 24min 44s\n"
     ]
    }
   ],
   "source": [
    "%%time\n",
    "\n",
    "oof_preds_lgb = np.zeros((len(train), 1))\n",
    "y_pred_lgb = np.zeros(len(test))\n",
    "roc_cv_lgb =[]\n",
    "for fold_n, (train_index, valid_index) in enumerate(folds.split(train,y)):\n",
    "    print('Fold', fold_n, 'started at', time.ctime())\n",
    "    X_train, X_valid = train[original_features].iloc[train_index, :], train[original_features].iloc[valid_index, :]\n",
    "    y_train, y_valid = y[train_index], y[valid_index]\n",
    "    \n",
    "    lgb_model = lgb.LGBMClassifier(n_estimators=5000,**params_tuned)\n",
    "    lgb_model.fit(X_train,y_train,\n",
    "                    eval_set = [(X_train,y_train), (X_valid,y_valid)],verbose=300,early_stopping_rounds = 200)\n",
    "\n",
    "    val_pred = lgb_model.predict_proba(X_valid)[:,1]\n",
    "    print(\"AUC = {}\".format(roc_auc_score(y_valid, val_pred)))\n",
    "    oof_preds_lgb[valid_index] = val_pred.reshape((-1, 1))\n",
    "    \n",
    "    roc_cv_lgb.append(roc_auc_score(y_valid, val_pred))\n",
    "    \n",
    "    y_pred_lgb += lgb_model.predict_proba(test[original_features])[:,1]/NFOLDS #, num_iteration=lgb_model.best_iteration)/5\n",
    "y_pred_lgb = y_pred_lgb.reshape(-1)"
   ]
  },
  {
   "cell_type": "code",
   "execution_count": null,
   "metadata": {},
   "outputs": [],
   "source": [
    "difcor = X.corr()['difdf']\n",
    "difcor.drop('diff',inplace=Tru)"
   ]
  },
  {
   "cell_type": "code",
   "execution_count": null,
   "metadata": {},
   "outputs": [],
   "source": [
    "exit()"
   ]
  },
  {
   "cell_type": "code",
   "execution_count": 107,
   "metadata": {
    "scrolled": false
   },
   "outputs": [
    {
     "ename": "SyntaxError",
     "evalue": "invalid syntax (<ipython-input-107-96431c389273>, line 7)",
     "output_type": "error",
     "traceback": [
      "\u001b[0;36m  File \u001b[0;32m\"<ipython-input-107-96431c389273>\"\u001b[0;36m, line \u001b[0;32m7\u001b[0m\n\u001b[0;31m    plt.show()d\u001b[0m\n\u001b[0m              ^\u001b[0m\n\u001b[0;31mSyntaxError\u001b[0m\u001b[0;31m:\u001b[0m invalid syntax\n"
     ]
    }
   ],
   "source": [
    "rcParams[\"figure.figsize\"] = 10,5\n",
    "i = 0\n",
    "for i in range(i,i+200):\n",
    "    print(i)\n",
    "    si = np.argsort(X.iloc[:,i])[:1000]\n",
    "    plt.scatter(X['diff'][si],(X.iloc[si,i]),s=1)\n",
    "    plt.show()"
   ]
  },
  {
   "cell_type": "markdown",
   "metadata": {},
   "source": [
    "foldしないでテストデータ予測"
   ]
  },
  {
   "cell_type": "code",
   "execution_count": 22,
   "metadata": {},
   "outputs": [
    {
     "data": {
      "text/plain": [
       "LGBMClassifier(bagging_fraction=0.8310261424943991, bagging_freq=5,\n",
       "        boosting='gbdt', boosting_type='gbdt', class_weight=None,\n",
       "        colsample_bytree=0.15174322059088163,\n",
       "        feature_fraction=0.035769744520573576, importance_type='split',\n",
       "        learning_rate=0.01519964329847745, max_depth=11, max_leaves=100,\n",
       "        metric='auc', min_child_samples=20,\n",
       "        min_child_weight=2.534409393882509, min_data_in_leaf=89,\n",
       "        min_gain_to_split=0.004132432935314933, min_split_gain=0.0,\n",
       "        n_estimators=3000, n_jobs=-1, num_leaves=31, num_threads=4,\n",
       "        objective='binary', random_state=823, reg_alpha=3.739283733911206,\n",
       "        reg_lambda=1.97124727896967, silent=True, subsample=1.0,\n",
       "        subsample_for_bin=200000, subsample_freq=0, verbosity=-1)"
      ]
     },
     "execution_count": 22,
     "metadata": {},
     "output_type": "execute_result"
    }
   ],
   "source": [
    "lgb_model = lgb.LGBMClassifier(n_estimators=3000,**params_tuned)\n",
    "lgb_model.fit(train,y)"
   ]
  },
  {
   "cell_type": "code",
   "execution_count": 23,
   "metadata": {},
   "outputs": [],
   "source": [
    "y_pred_lgb_single = lgb_model.predict_proba(test)[:,1]"
   ]
  },
  {
   "cell_type": "markdown",
   "metadata": {},
   "source": [
    "foldでやったときとの差"
   ]
  },
  {
   "cell_type": "code",
   "execution_count": 24,
   "metadata": {},
   "outputs": [
    {
     "data": {
      "text/plain": [
       "1046.177332565492"
      ]
     },
     "execution_count": 24,
     "metadata": {},
     "output_type": "execute_result"
    }
   ],
   "source": [
    "np.abs(y_pred_lgb - y_pred_lgb_single).sum()"
   ]
  },
  {
   "cell_type": "markdown",
   "metadata": {},
   "source": [
    "### 自分の考えるスタッキング(うまく行ってない)"
   ]
  },
  {
   "cell_type": "code",
   "execution_count": 22,
   "metadata": {
    "scrolled": true
   },
   "outputs": [
    {
     "name": "stdout",
     "output_type": "stream",
     "text": [
      "Current Fold: 0\n",
      "0.5572748947620956\n",
      "AUC = 0.8950171466311798\n",
      "rev= 0.8974241341239989\n",
      "ave= 0.8989273784454206\n",
      "log= 0.897495248691385\n",
      "lgb= 0.8960491099022705\n",
      "max= 0.9340548734973438\n",
      "min= 0.8448987007742826\n",
      "Current Fold: 1\n",
      "0.5472144196245284\n",
      "AUC = 0.9026414519950692\n",
      "rev= 0.9044106294805135\n",
      "ave= 0.9058489231959866\n",
      "log= 0.9039580188086572\n",
      "lgb= 0.9043702353118201\n",
      "max= 0.9391073694424535\n",
      "min= 0.8565930795969816\n",
      "Current Fold: 2\n",
      "0.5601017788509441\n",
      "AUC = 0.8914782433279254\n",
      "rev= 0.8953573390675834\n",
      "ave= 0.8962100727082314\n",
      "log= 0.8924111319993476\n",
      "lgb= 0.895980230571794\n",
      "max= 0.9335953662451821\n",
      "min= 0.8380586172559723\n",
      "Current Fold: 3\n",
      "0.5583245178701275\n",
      "AUC = 0.894916060452756\n",
      "rev= 0.8986766219493049\n",
      "ave= 0.8995895771912379\n",
      "log= 0.8967359233350197\n",
      "lgb= 0.8980766300903069\n",
      "max= 0.9357177165651949\n",
      "min= 0.8418489378899685\n",
      "Current Fold: 4\n",
      "0.5518683835443744\n",
      "AUC = 0.8969727038213299\n",
      "rev= 0.9001740394361888\n",
      "ave= 0.9014584662254367\n",
      "log= 0.8992596292633755\n",
      "lgb= 0.8991212527239366\n",
      "max= 0.936406642523898\n",
      "min= 0.8459420236050126\n",
      "Current Fold: 5\n",
      "0.5551442732701729\n",
      "AUC = 0.8929485500090688\n",
      "rev= 0.8979485851065684\n",
      "ave= 0.8982139674915637\n",
      "log= 0.8948259265909753\n",
      "lgb= 0.8970655999442063\n",
      "max= 0.934811489064638\n",
      "min= 0.841044895589467\n",
      "Current Fold: 6\n",
      "0.5544522987560961\n",
      "AUC = 0.897223\n",
      "rev= 0.8995933333333334\n",
      "ave= 0.9011343333333333\n",
      "log= 0.8996445555555556\n",
      "lgb= 0.8985047777777777\n",
      "max= 0.9359132222222223\n",
      "min= 0.8480233333333332\n",
      "Current Fold: 7\n",
      "0.5558826908765659\n",
      "AUC = 0.901856012041794\n",
      "rev= 0.9056294906725437\n",
      "ave= 0.9068155359568059\n",
      "log= 0.903740976868568\n",
      "lgb= 0.9054933702243789\n",
      "max= 0.9409299075857785\n",
      "min= 0.8536459043486533\n",
      "Current Fold: 8\n",
      "0.5516369434295118\n",
      "AUC = 0.891442047535815\n",
      "rev= 0.8987878001320954\n",
      "ave= 0.8980500331461336\n",
      "log= 0.8933992319171744\n",
      "lgb= 0.8980344637493843\n",
      "max= 0.9349848682145094\n",
      "min= 0.8408935543698348\n",
      "Current Fold: 9\n",
      "0.5497114291724337\n",
      "AUC = 0.8955164580573339\n",
      "rev= 0.8989189637772672\n",
      "ave= 0.8997942070974901\n",
      "log= 0.8977270333013851\n",
      "lgb= 0.8982171136620946\n",
      "max= 0.9351688933665114\n",
      "min= 0.8456538181549242\n",
      "Current Fold: 10\n",
      "0.5603303053282638\n",
      "AUC = 0.87775049889169\n",
      "rev= 0.8826196388166201\n",
      "ave= 0.883314906259448\n",
      "log= 0.880183397825108\n",
      "lgb= 0.8817477197316661\n",
      "max= 0.9250228364023174\n",
      "min= 0.8200841219894175\n",
      "Current Fold: 11\n",
      "0.5535400083787181\n",
      "AUC = 0.8982133234828501\n",
      "rev= 0.9011569146112092\n",
      "ave= 0.9022799489297777\n",
      "log= 0.9001150873597678\n",
      "lgb= 0.9006728632720572\n",
      "max= 0.936891215210942\n",
      "min= 0.8489858854854911\n",
      "Current Fold: 12\n",
      "0.5633217197937492\n",
      "AUC = 0.8981573799292824\n",
      "rev= 0.9015404475828156\n",
      "ave= 0.902648804364873\n",
      "log= 0.9007025276833963\n",
      "lgb= 0.8999018607360835\n",
      "max= 0.9371199492925413\n",
      "min= 0.8497005210200055\n",
      "Current Fold: 13\n",
      "0.5501855161307999\n",
      "AUC = 0.9002907849745199\n",
      "rev= 0.9045877280283992\n",
      "ave= 0.9050039693787385\n",
      "log= 0.9025893586044137\n",
      "lgb= 0.9036174714954701\n",
      "max= 0.9383583220531461\n",
      "min= 0.8527375087311733\n",
      "Current Fold: 14\n",
      "0.5659380663830051\n",
      "AUC = 0.8968053264316267\n",
      "rev= 0.896687663748149\n",
      "ave= 0.8992398024759655\n",
      "log= 0.8986402935420529\n",
      "lgb= 0.8962460994052107\n",
      "max= 0.9352645599338805\n",
      "min= 0.8461516509545275\n",
      "Current Fold: 15\n",
      "0.5495484493259799\n",
      "AUC = 0.8967042844677737\n",
      "rev= 0.9007972624610393\n",
      "ave= 0.9017638857171659\n",
      "log= 0.8990822108381625\n",
      "lgb= 0.8994116033256703\n",
      "max= 0.9366728573295023\n",
      "min= 0.8458419946240493\n",
      "Current Fold: 16\n",
      "0.5590205123019362\n",
      "AUC = 0.8934024352505175\n",
      "rev= 0.8957331613048632\n",
      "ave= 0.8970797198770797\n",
      "log= 0.8944108134948148\n",
      "lgb= 0.8960881791173813\n",
      "max= 0.9337660676924107\n",
      "min= 0.8398659472108542\n",
      "Current Fold: 17\n",
      "0.5558794931431195\n",
      "AUC = 0.8921996659243486\n",
      "rev= 0.8931042640592342\n",
      "ave= 0.8950532559341443\n",
      "log= 0.8935518924110429\n",
      "lgb= 0.8929287320484304\n",
      "max= 0.9325870181477939\n",
      "min= 0.8385356415792754\n",
      "Current Fold: 18\n",
      "0.5481587933757011\n",
      "AUC = 0.9014874014874014\n",
      "rev= 0.9043008618766195\n",
      "ave= 0.905322287140469\n",
      "log= 0.9030649485194938\n",
      "lgb= 0.9041158616916192\n",
      "max= 0.938652705319372\n",
      "min= 0.8554308766429979\n",
      "Current Fold: 19\n",
      "0.5530185054100517\n",
      "AUC = 0.8966689716401955\n",
      "rev= 0.8994544656255089\n",
      "ave= 0.9004940770091296\n",
      "log= 0.8985534762848428\n",
      "lgb= 0.8986698756500942\n",
      "max= 0.9362402249884302\n",
      "min= 0.8452611218568665\n"
     ]
    }
   ],
   "source": [
    "target2 = np.argmin(np.vstack((np.abs(oof_preds.reshape(-1)-y),np.abs(oof_preds_lgb.reshape(-1)-y))),axis=0)\n",
    "oof_preds2 = np.zeros((len(train_logistic), 1))\n",
    "test_preds2 = np.zeros((len(test_logistic), 1))\n",
    "roc_cv2 =[]\n",
    "for fold_, (trn_, val_) in enumerate(folds.split(train_logistic, target2)):\n",
    "    print(\"Current Fold: {}\".format(fold_))\n",
    "    trn_x, trn_y = train_logistic.iloc[trn_, :], target2[trn_]\n",
    "    val_x, val_y, target_val, pred1_val, pred2_val = train_logistic.iloc[val_], target2[val_], y[val_], oof_preds[val_], oof_preds_lgb[val_]\n",
    "    target_val = target_val.reshape(-1)\n",
    "    pred1_val = pred1_val.reshape(-1)\n",
    "    pred2_val = pred2_val.reshape(-1)\n",
    "    \n",
    "    clf =  LogisticRegression(solver='lbfgs', max_iter=1500, C=10)\n",
    "\n",
    "    clf.fit(trn_x, trn_y)\n",
    "\n",
    "    val_pred = clf.predict(val_x).reshape(-1)\n",
    "    test_fold_pred = clf.predict_proba(test_logistic)[:,1].reshape(-1)\n",
    "    \n",
    "    val_pred_class = (1-val_pred)*pred1_val + val_pred*pred2_val\n",
    "    test_fold_pred_class = (1-test_fold_pred)*test_preds + test_fold_pred*y_pred_lgb\n",
    "    \n",
    "    fold_score = roc_auc_score(target_val, val_pred_class)\n",
    "    roc_cv2.append(fold_score)\n",
    "    \n",
    "    print(roc_auc_score(val_y,val_pred))\n",
    "    print(\"AUC = {}\".format(fold_score))\n",
    "    print(\"rev=\",roc_auc_score(target_val,(1-val_pred)*pred2_val + val_pred*pred1_val))\n",
    "    print(\"ave=\",roc_auc_score(target_val,(pred1_val+pred2_val)/2))\n",
    "    print(\"log=\",roc_auc_score(target_val,pred1_val))\n",
    "    print(\"lgb=\",roc_auc_score(target_val,pred2_val))\n",
    "    print(\"max=\",roc_auc_score(target_val,(1-val_y)*pred1_val + val_y*pred2_val))\n",
    "    print(\"min=\",roc_auc_score(target_val,(1-val_y)*pred2_val + val_y*pred1_val))\n",
    "    oof_preds2[val_] = val_pred_class.reshape((-1, 1))\n",
    "    test_preds2 += test_fold_pred_class.reshape((-1, 1))\n",
    "\n",
    "test_preds2/=NFOLDS\n"
   ]
  },
  {
   "cell_type": "markdown",
   "metadata": {},
   "source": [
    "##### 確認用"
   ]
  },
  {
   "cell_type": "code",
   "execution_count": 23,
   "metadata": {},
   "outputs": [
    {
     "name": "stdout",
     "output_type": "stream",
     "text": [
      "rev= 0.8979429999104619\n",
      "rev= 0.8991064541775937\n",
      "rev= 0.8985534762848428\n",
      "rev= 0.8986698756500942\n",
      "ave= 0.9004940770091296\n"
     ]
    }
   ],
   "source": [
    "a  = np.random.rand(val_pred.shape[0])\n",
    "print(\"rev=\",roc_auc_score(target_val,(1-a)*pred1_val + a*pred2_val))\n",
    "print(\"rev=\",roc_auc_score(target_val,(1-a)*pred2_val + a*pred1_val))\n",
    "print(\"rev=\",roc_auc_score(target_val,(1-a)*pred1_val + a*pred1_val))\n",
    "print(\"rev=\",roc_auc_score(target_val,(1-a)*pred2_val + a*pred2_val))\n",
    "print(\"ave=\",roc_auc_score(target_val,(pred1_val+pred2_val)/2))"
   ]
  },
  {
   "cell_type": "code",
   "execution_count": 24,
   "metadata": {},
   "outputs": [
    {
     "name": "stdout",
     "output_type": "stream",
     "text": [
      "rev= 0.9004940770091296\n",
      "rev= 0.9004940770091296\n",
      "rev= 0.8985534762848428\n",
      "rev= 0.8986698756500942\n",
      "ave= 0.9004940770091296\n"
     ]
    }
   ],
   "source": [
    "a  = np.ones(val_pred.shape[0])/2\n",
    "print(\"rev=\",roc_auc_score(target_val,(1-a)*pred1_val + a*pred2_val))\n",
    "print(\"rev=\",roc_auc_score(target_val,(1-a)*pred2_val + a*pred1_val))\n",
    "print(\"rev=\",roc_auc_score(target_val,(1-a)*pred1_val + a*pred1_val))\n",
    "print(\"rev=\",roc_auc_score(target_val,(1-a)*pred2_val + a*pred2_val))\n",
    "print(\"ave=\",roc_auc_score(target_val,(pred1_val+pred2_val)/2))"
   ]
  },
  {
   "cell_type": "code",
   "execution_count": 54,
   "metadata": {},
   "outputs": [
    {
     "name": "stdout",
     "output_type": "stream",
     "text": [
      "0.8975665283512196\n",
      "0.8982480202268966\n",
      "0.8956609102374608\n",
      "0.8999414605379313\n"
     ]
    }
   ],
   "source": [
    "print(roc_auc_score(y,oof_preds))\n",
    "print(roc_auc_score(y,oof_preds_lgb))\n",
    "print(roc_auc_score(y,oof_preds2))\n",
    "print(roc_auc_score(y,(oof_preds+oof_preds_lgb)/2))"
   ]
  },
  {
   "cell_type": "markdown",
   "metadata": {
    "_uuid": "f33577270febfac2d7c58b2fffef3eded8219629"
   },
   "source": [
    "## Submission File"
   ]
  },
  {
   "cell_type": "code",
   "execution_count": 96,
   "metadata": {
    "_uuid": "7ff36e1f3762c21af0ea048aea944a9e5e5b76d6"
   },
   "outputs": [],
   "source": [
    "submission_lgb = pd.DataFrame({\n",
    "        \"ID_code\": test_ids,\n",
    "        \"target\":\n",
    "    })\n",
    "submission_lgb.to_csv(savepath + 'csv', index=False)"
   ]
  },
  {
   "cell_type": "code",
   "execution_count": 27,
   "metadata": {
    "scrolled": true
   },
   "outputs": [
    {
     "ename": "NameError",
     "evalue": "name 'target' is not defined",
     "output_type": "error",
     "traceback": [
      "\u001b[0;31m---------------------------------------------------------------------------\u001b[0m",
      "\u001b[0;31mNameError\u001b[0m                                 Traceback (most recent call last)",
      "\u001b[0;32m<ipython-input-27-f56b57e800c6>\u001b[0m in \u001b[0;36m<module>\u001b[0;34m\u001b[0m\n\u001b[0;32m----> 1\u001b[0;31m \u001b[0mtarget2\u001b[0m \u001b[0;34m=\u001b[0m \u001b[0mnp\u001b[0m\u001b[0;34m.\u001b[0m\u001b[0margmin\u001b[0m\u001b[0;34m(\u001b[0m\u001b[0mnp\u001b[0m\u001b[0;34m.\u001b[0m\u001b[0mvstack\u001b[0m\u001b[0;34m(\u001b[0m\u001b[0;34m(\u001b[0m\u001b[0mnp\u001b[0m\u001b[0;34m.\u001b[0m\u001b[0mabs\u001b[0m\u001b[0;34m(\u001b[0m\u001b[0moof_preds\u001b[0m\u001b[0;34m.\u001b[0m\u001b[0mreshape\u001b[0m\u001b[0;34m(\u001b[0m\u001b[0;34m-\u001b[0m\u001b[0;36m1\u001b[0m\u001b[0;34m)\u001b[0m\u001b[0;34m-\u001b[0m\u001b[0mtarget\u001b[0m\u001b[0;34m)\u001b[0m\u001b[0;34m,\u001b[0m\u001b[0mnp\u001b[0m\u001b[0;34m.\u001b[0m\u001b[0mabs\u001b[0m\u001b[0;34m(\u001b[0m\u001b[0moof_preds_lgb\u001b[0m\u001b[0;34m.\u001b[0m\u001b[0mreshape\u001b[0m\u001b[0;34m(\u001b[0m\u001b[0;34m-\u001b[0m\u001b[0;36m1\u001b[0m\u001b[0;34m)\u001b[0m\u001b[0;34m-\u001b[0m\u001b[0mtarget\u001b[0m\u001b[0;34m)\u001b[0m\u001b[0;34m)\u001b[0m\u001b[0;34m)\u001b[0m\u001b[0;34m,\u001b[0m\u001b[0maxis\u001b[0m\u001b[0;34m=\u001b[0m\u001b[0;36m0\u001b[0m\u001b[0;34m)\u001b[0m\u001b[0;34m\u001b[0m\u001b[0m\n\u001b[0m",
      "\u001b[0;31mNameError\u001b[0m: name 'target' is not defined"
     ]
    }
   ],
   "source": [
    "target2 = np.argmin(np.vstack((np.abs(oof_preds.reshape(-1)-target),np.abs(oof_preds_lgb.reshape(-1)-target))),axis=0)"
   ]
  },
  {
   "cell_type": "markdown",
   "metadata": {},
   "source": [
    "## lightgbmのハイパーパラメーター調整 "
   ]
  },
  {
   "cell_type": "code",
   "execution_count": 106,
   "metadata": {},
   "outputs": [],
   "source": [
    "count_itr=0\n",
    "def objective_optuna(X, y, trial):\n",
    "    NFOLDS = 10\n",
    "    RANDOM_STATE = 823\n",
    "    folds = StratifiedKFold(n_splits=NFOLDS, shuffle=True, \n",
    "                        random_state=RANDOM_STATE)\n",
    "\n",
    "    global count_itr\n",
    "    print(count_itr, end=' ')\n",
    "    count_itr += 1\n",
    "    #最適化するパラメータを指定\n",
    "    params = {\n",
    "        'max_leaves': trial.suggest_int('max_leaves', 5, 1000),\n",
    "        'min_data_in_leaf':  trial.suggest_int('min_data_in_leaf', 10, 1000),\n",
    "#         'max_depth': trial.suggest_int('max_depth', 5, 30),\n",
    "        'learning_rate': trial.suggest_uniform('learning_rate',0,1),\n",
    "        'bagging_fraction': trial.suggest_uniform('bagging_fraction',0,1),\n",
    "        'feature_fraction': trial.suggest_uniform('feature_fraction',0.2,1),\n",
    "        'reg_alpha': trial.suggest_uniform('reg_alpha',0,5),\n",
    "        'reg_lambda': trial.suggest_uniform('reg_lambda',0,5),\n",
    "        'colsample_bytree': trial.suggest_uniform('colsample_bytree',0,1),\n",
    "        'min_gain_to_split': trial.suggest_loguniform('min_gain_to_split',1e-4,1),\n",
    "        'min_child_weight': trial.suggest_loguniform('min_child_weight',1e-3,1000),\n",
    "        'boosting': 'gbdt',\n",
    "        'bagging_freq': 5, \n",
    "        'num_threads': 4,\n",
    "        'objective': 'binary',\n",
    "        'random_state': 823,\n",
    "        'metric': 'auc',\n",
    "        'verbosity': -1,\n",
    "#         'tree_learner': 'data'\n",
    "    }\n",
    "    \n",
    "    \n",
    "    oof_preds_lgb = np.zeros(len(X))\n",
    "    for fold_n, (train_index, valid_index) in enumerate(folds.split(X,y)):\n",
    "#         print('Fold', fold_n, 'started at', time.ctime())\n",
    "        X_train, X_valid = X.iloc[train_index, :], X.iloc[valid_index, :]\n",
    "        y_train, y_valid = y[train_index], y[valid_index]\n",
    "\n",
    "        lgb_model = lgb.LGBMClassifier(n_estimators=5000,**params)\n",
    "        lgb_model.fit(X_train,y_train,\n",
    "                        eval_set = [(X_train,y_train), (X_valid,y_valid)],verbose=False,early_stopping_rounds = 200)\n",
    "\n",
    "        val_pred = lgb_model.predict_proba(X_valid)[:,1]\n",
    "#         print(\"AUC = {}\".format(roc_auc_score(y_valid, val_pred)))\n",
    "        oof_preds_lgb[valid_index] = val_pred.reshape(-1)\n",
    "      \n",
    "    return -roc_auc_score(y,oof_preds_lgb)"
   ]
  },
  {
   "cell_type": "code",
   "execution_count": null,
   "metadata": {
    "scrolled": true
   },
   "outputs": [
    {
     "name": "stdout",
     "output_type": "stream",
     "text": [
      "0 "
     ]
    },
    {
     "name": "stderr",
     "output_type": "stream",
     "text": [
      "[I 2019-03-15 23:09:04,528] Finished a trial resulted in value: -0.8843041563017515. Current best value is -0.8843041563017515 with parameters: {'max_leaves': 339, 'min_data_in_leaf': 137, 'learning_rate': 0.20681495830941043, 'bagging_fraction': 0.5387982116090597, 'feature_fraction': 0.384599072990624, 'reg_alpha': 1.753466149677096, 'reg_lambda': 3.450134169547008, 'colsample_bytree': 0.09249007836365719, 'min_gain_to_split': 0.00990645041218137, 'min_child_weight': 35.906922569647485}.\n"
     ]
    },
    {
     "name": "stdout",
     "output_type": "stream",
     "text": [
      "1 "
     ]
    },
    {
     "name": "stderr",
     "output_type": "stream",
     "text": [
      "[I 2019-03-15 23:10:18,236] Finished a trial resulted in value: -0.822313273159316. Current best value is -0.8843041563017515 with parameters: {'max_leaves': 339, 'min_data_in_leaf': 137, 'learning_rate': 0.20681495830941043, 'bagging_fraction': 0.5387982116090597, 'feature_fraction': 0.384599072990624, 'reg_alpha': 1.753466149677096, 'reg_lambda': 3.450134169547008, 'colsample_bytree': 0.09249007836365719, 'min_gain_to_split': 0.00990645041218137, 'min_child_weight': 35.906922569647485}.\n"
     ]
    },
    {
     "name": "stdout",
     "output_type": "stream",
     "text": [
      "2 "
     ]
    },
    {
     "name": "stderr",
     "output_type": "stream",
     "text": [
      "[I 2019-03-15 23:12:00,790] Finished a trial resulted in value: -0.8616059518164111. Current best value is -0.8843041563017515 with parameters: {'max_leaves': 339, 'min_data_in_leaf': 137, 'learning_rate': 0.20681495830941043, 'bagging_fraction': 0.5387982116090597, 'feature_fraction': 0.384599072990624, 'reg_alpha': 1.753466149677096, 'reg_lambda': 3.450134169547008, 'colsample_bytree': 0.09249007836365719, 'min_gain_to_split': 0.00990645041218137, 'min_child_weight': 35.906922569647485}.\n"
     ]
    },
    {
     "name": "stdout",
     "output_type": "stream",
     "text": [
      "3 "
     ]
    },
    {
     "name": "stderr",
     "output_type": "stream",
     "text": [
      "[I 2019-03-15 23:14:22,761] Finished a trial resulted in value: -0.8752665714499492. Current best value is -0.8843041563017515 with parameters: {'max_leaves': 339, 'min_data_in_leaf': 137, 'learning_rate': 0.20681495830941043, 'bagging_fraction': 0.5387982116090597, 'feature_fraction': 0.384599072990624, 'reg_alpha': 1.753466149677096, 'reg_lambda': 3.450134169547008, 'colsample_bytree': 0.09249007836365719, 'min_gain_to_split': 0.00990645041218137, 'min_child_weight': 35.906922569647485}.\n"
     ]
    },
    {
     "name": "stdout",
     "output_type": "stream",
     "text": [
      "4 "
     ]
    },
    {
     "name": "stderr",
     "output_type": "stream",
     "text": [
      "[I 2019-03-15 23:16:00,393] Finished a trial resulted in value: -0.8452799412748241. Current best value is -0.8843041563017515 with parameters: {'max_leaves': 339, 'min_data_in_leaf': 137, 'learning_rate': 0.20681495830941043, 'bagging_fraction': 0.5387982116090597, 'feature_fraction': 0.384599072990624, 'reg_alpha': 1.753466149677096, 'reg_lambda': 3.450134169547008, 'colsample_bytree': 0.09249007836365719, 'min_gain_to_split': 0.00990645041218137, 'min_child_weight': 35.906922569647485}.\n"
     ]
    },
    {
     "name": "stdout",
     "output_type": "stream",
     "text": [
      "5 "
     ]
    },
    {
     "name": "stderr",
     "output_type": "stream",
     "text": [
      "[I 2019-03-15 23:17:28,880] Finished a trial resulted in value: -0.8354222979897972. Current best value is -0.8843041563017515 with parameters: {'max_leaves': 339, 'min_data_in_leaf': 137, 'learning_rate': 0.20681495830941043, 'bagging_fraction': 0.5387982116090597, 'feature_fraction': 0.384599072990624, 'reg_alpha': 1.753466149677096, 'reg_lambda': 3.450134169547008, 'colsample_bytree': 0.09249007836365719, 'min_gain_to_split': 0.00990645041218137, 'min_child_weight': 35.906922569647485}.\n"
     ]
    },
    {
     "name": "stdout",
     "output_type": "stream",
     "text": [
      "6 "
     ]
    },
    {
     "name": "stderr",
     "output_type": "stream",
     "text": [
      "[I 2019-03-15 23:18:37,625] Finished a trial resulted in value: -0.7951341278730872. Current best value is -0.8843041563017515 with parameters: {'max_leaves': 339, 'min_data_in_leaf': 137, 'learning_rate': 0.20681495830941043, 'bagging_fraction': 0.5387982116090597, 'feature_fraction': 0.384599072990624, 'reg_alpha': 1.753466149677096, 'reg_lambda': 3.450134169547008, 'colsample_bytree': 0.09249007836365719, 'min_gain_to_split': 0.00990645041218137, 'min_child_weight': 35.906922569647485}.\n"
     ]
    },
    {
     "name": "stdout",
     "output_type": "stream",
     "text": [
      "7 "
     ]
    },
    {
     "name": "stderr",
     "output_type": "stream",
     "text": [
      "[I 2019-03-15 23:23:27,878] Finished a trial resulted in value: -0.8878680165513626. Current best value is -0.8878680165513626 with parameters: {'max_leaves': 264, 'min_data_in_leaf': 301, 'learning_rate': 0.17317429298555842, 'bagging_fraction': 0.7748296428555734, 'feature_fraction': 0.9747117716611746, 'reg_alpha': 3.54930653023952, 'reg_lambda': 2.0707008586312425, 'colsample_bytree': 0.0244047874075084, 'min_gain_to_split': 0.00019865717251319885, 'min_child_weight': 44.187835568962136}.\n"
     ]
    },
    {
     "name": "stdout",
     "output_type": "stream",
     "text": [
      "8 "
     ]
    },
    {
     "name": "stderr",
     "output_type": "stream",
     "text": [
      "[I 2019-03-15 23:25:18,049] Finished a trial resulted in value: -0.8501431547523173. Current best value is -0.8878680165513626 with parameters: {'max_leaves': 264, 'min_data_in_leaf': 301, 'learning_rate': 0.17317429298555842, 'bagging_fraction': 0.7748296428555734, 'feature_fraction': 0.9747117716611746, 'reg_alpha': 3.54930653023952, 'reg_lambda': 2.0707008586312425, 'colsample_bytree': 0.0244047874075084, 'min_gain_to_split': 0.00019865717251319885, 'min_child_weight': 44.187835568962136}.\n"
     ]
    },
    {
     "name": "stdout",
     "output_type": "stream",
     "text": [
      "9 "
     ]
    },
    {
     "name": "stderr",
     "output_type": "stream",
     "text": [
      "[I 2019-03-15 23:27:57,900] Finished a trial resulted in value: -0.8584686655713625. Current best value is -0.8878680165513626 with parameters: {'max_leaves': 264, 'min_data_in_leaf': 301, 'learning_rate': 0.17317429298555842, 'bagging_fraction': 0.7748296428555734, 'feature_fraction': 0.9747117716611746, 'reg_alpha': 3.54930653023952, 'reg_lambda': 2.0707008586312425, 'colsample_bytree': 0.0244047874075084, 'min_gain_to_split': 0.00019865717251319885, 'min_child_weight': 44.187835568962136}.\n"
     ]
    },
    {
     "name": "stdout",
     "output_type": "stream",
     "text": [
      "10 "
     ]
    },
    {
     "name": "stderr",
     "output_type": "stream",
     "text": [
      "[I 2019-03-15 23:41:25,078] Finished a trial resulted in value: -0.8801189117018176. Current best value is -0.8878680165513626 with parameters: {'max_leaves': 264, 'min_data_in_leaf': 301, 'learning_rate': 0.17317429298555842, 'bagging_fraction': 0.7748296428555734, 'feature_fraction': 0.9747117716611746, 'reg_alpha': 3.54930653023952, 'reg_lambda': 2.0707008586312425, 'colsample_bytree': 0.0244047874075084, 'min_gain_to_split': 0.00019865717251319885, 'min_child_weight': 44.187835568962136}.\n"
     ]
    },
    {
     "name": "stdout",
     "output_type": "stream",
     "text": [
      "11 "
     ]
    },
    {
     "name": "stderr",
     "output_type": "stream",
     "text": [
      "[I 2019-03-15 23:45:30,707] Finished a trial resulted in value: -0.8869868502250502. Current best value is -0.8878680165513626 with parameters: {'max_leaves': 264, 'min_data_in_leaf': 301, 'learning_rate': 0.17317429298555842, 'bagging_fraction': 0.7748296428555734, 'feature_fraction': 0.9747117716611746, 'reg_alpha': 3.54930653023952, 'reg_lambda': 2.0707008586312425, 'colsample_bytree': 0.0244047874075084, 'min_gain_to_split': 0.00019865717251319885, 'min_child_weight': 44.187835568962136}.\n"
     ]
    },
    {
     "name": "stdout",
     "output_type": "stream",
     "text": [
      "12 "
     ]
    },
    {
     "name": "stderr",
     "output_type": "stream",
     "text": [
      "[I 2019-03-15 23:50:16,839] Finished a trial resulted in value: -0.8838898787720141. Current best value is -0.8878680165513626 with parameters: {'max_leaves': 264, 'min_data_in_leaf': 301, 'learning_rate': 0.17317429298555842, 'bagging_fraction': 0.7748296428555734, 'feature_fraction': 0.9747117716611746, 'reg_alpha': 3.54930653023952, 'reg_lambda': 2.0707008586312425, 'colsample_bytree': 0.0244047874075084, 'min_gain_to_split': 0.00019865717251319885, 'min_child_weight': 44.187835568962136}.\n"
     ]
    },
    {
     "name": "stdout",
     "output_type": "stream",
     "text": [
      "13 "
     ]
    },
    {
     "name": "stderr",
     "output_type": "stream",
     "text": [
      "[I 2019-03-15 23:51:58,915] Finished a trial resulted in value: -0.8784024872714089. Current best value is -0.8878680165513626 with parameters: {'max_leaves': 264, 'min_data_in_leaf': 301, 'learning_rate': 0.17317429298555842, 'bagging_fraction': 0.7748296428555734, 'feature_fraction': 0.9747117716611746, 'reg_alpha': 3.54930653023952, 'reg_lambda': 2.0707008586312425, 'colsample_bytree': 0.0244047874075084, 'min_gain_to_split': 0.00019865717251319885, 'min_child_weight': 44.187835568962136}.\n"
     ]
    },
    {
     "name": "stdout",
     "output_type": "stream",
     "text": [
      "14 "
     ]
    },
    {
     "name": "stderr",
     "output_type": "stream",
     "text": [
      "[I 2019-03-15 23:55:59,674] Finished a trial resulted in value: -0.891590832385154. Current best value is -0.891590832385154 with parameters: {'max_leaves': 497, 'min_data_in_leaf': 689, 'learning_rate': 0.1034471691023621, 'bagging_fraction': 0.6032090176514161, 'feature_fraction': 0.6122050709970063, 'reg_alpha': 0.8251072358604552, 'reg_lambda': 2.3007025225155524, 'colsample_bytree': 0.26578750226635195, 'min_gain_to_split': 0.04997954157649928, 'min_child_weight': 0.16962830589078892}.\n"
     ]
    },
    {
     "name": "stdout",
     "output_type": "stream",
     "text": [
      "15 "
     ]
    },
    {
     "name": "stderr",
     "output_type": "stream",
     "text": [
      "[I 2019-03-16 00:07:05,071] Finished a trial resulted in value: -0.8971193407420314. Current best value is -0.8971193407420314 with parameters: {'max_leaves': 817, 'min_data_in_leaf': 805, 'learning_rate': 0.01083530949654228, 'bagging_fraction': 0.21196951127318636, 'feature_fraction': 0.595251032010972, 'reg_alpha': 0.4449932052020505, 'reg_lambda': 1.1222358841293039, 'colsample_bytree': 0.3187726205445582, 'min_gain_to_split': 0.13144499046872393, 'min_child_weight': 0.09784567355174777}.\n"
     ]
    },
    {
     "name": "stdout",
     "output_type": "stream",
     "text": [
      "16 "
     ]
    },
    {
     "name": "stderr",
     "output_type": "stream",
     "text": [
      "[I 2019-03-16 00:24:59,068] Finished a trial resulted in value: -0.8974482554023158. Current best value is -0.8974482554023158 with parameters: {'max_leaves': 846, 'min_data_in_leaf': 873, 'learning_rate': 0.0058318202621834, 'bagging_fraction': 0.22424070639485444, 'feature_fraction': 0.654575975993382, 'reg_alpha': 0.649396392916999, 'reg_lambda': 0.02204406313605034, 'colsample_bytree': 0.40694804183563826, 'min_gain_to_split': 0.17181109527480465, 'min_child_weight': 0.016075828966529645}.\n"
     ]
    },
    {
     "name": "stdout",
     "output_type": "stream",
     "text": [
      "17 "
     ]
    },
    {
     "name": "stderr",
     "output_type": "stream",
     "text": [
      "[I 2019-03-16 00:25:35,850] Finished a trial resulted in value: -0.4999579712796365. Current best value is -0.8974482554023158 with parameters: {'max_leaves': 846, 'min_data_in_leaf': 873, 'learning_rate': 0.0058318202621834, 'bagging_fraction': 0.22424070639485444, 'feature_fraction': 0.654575975993382, 'reg_alpha': 0.649396392916999, 'reg_lambda': 0.02204406313605034, 'colsample_bytree': 0.40694804183563826, 'min_gain_to_split': 0.17181109527480465, 'min_child_weight': 0.016075828966529645}.\n"
     ]
    },
    {
     "name": "stdout",
     "output_type": "stream",
     "text": [
      "18 "
     ]
    },
    {
     "name": "stderr",
     "output_type": "stream",
     "text": [
      "[I 2019-03-16 00:27:01,252] Finished a trial resulted in value: -0.8586970110535485. Current best value is -0.8974482554023158 with parameters: {'max_leaves': 846, 'min_data_in_leaf': 873, 'learning_rate': 0.0058318202621834, 'bagging_fraction': 0.22424070639485444, 'feature_fraction': 0.654575975993382, 'reg_alpha': 0.649396392916999, 'reg_lambda': 0.02204406313605034, 'colsample_bytree': 0.40694804183563826, 'min_gain_to_split': 0.17181109527480465, 'min_child_weight': 0.016075828966529645}.\n"
     ]
    },
    {
     "name": "stdout",
     "output_type": "stream",
     "text": [
      "19 "
     ]
    },
    {
     "name": "stderr",
     "output_type": "stream",
     "text": [
      "[I 2019-03-16 00:28:42,518] Finished a trial resulted in value: -0.8717331713883358. Current best value is -0.8974482554023158 with parameters: {'max_leaves': 846, 'min_data_in_leaf': 873, 'learning_rate': 0.0058318202621834, 'bagging_fraction': 0.22424070639485444, 'feature_fraction': 0.654575975993382, 'reg_alpha': 0.649396392916999, 'reg_lambda': 0.02204406313605034, 'colsample_bytree': 0.40694804183563826, 'min_gain_to_split': 0.17181109527480465, 'min_child_weight': 0.016075828966529645}.\n"
     ]
    },
    {
     "name": "stdout",
     "output_type": "stream",
     "text": [
      "20 "
     ]
    },
    {
     "name": "stderr",
     "output_type": "stream",
     "text": [
      "[I 2019-03-16 00:29:52,244] Finished a trial resulted in value: -0.8401027755075273. Current best value is -0.8974482554023158 with parameters: {'max_leaves': 846, 'min_data_in_leaf': 873, 'learning_rate': 0.0058318202621834, 'bagging_fraction': 0.22424070639485444, 'feature_fraction': 0.654575975993382, 'reg_alpha': 0.649396392916999, 'reg_lambda': 0.02204406313605034, 'colsample_bytree': 0.40694804183563826, 'min_gain_to_split': 0.17181109527480465, 'min_child_weight': 0.016075828966529645}.\n"
     ]
    },
    {
     "name": "stdout",
     "output_type": "stream",
     "text": [
      "21 "
     ]
    },
    {
     "name": "stderr",
     "output_type": "stream",
     "text": [
      "[I 2019-03-16 00:40:55,397] Finished a trial resulted in value: -0.849120093025205. Current best value is -0.8974482554023158 with parameters: {'max_leaves': 846, 'min_data_in_leaf': 873, 'learning_rate': 0.0058318202621834, 'bagging_fraction': 0.22424070639485444, 'feature_fraction': 0.654575975993382, 'reg_alpha': 0.649396392916999, 'reg_lambda': 0.02204406313605034, 'colsample_bytree': 0.40694804183563826, 'min_gain_to_split': 0.17181109527480465, 'min_child_weight': 0.016075828966529645}.\n"
     ]
    },
    {
     "name": "stdout",
     "output_type": "stream",
     "text": [
      "22 "
     ]
    },
    {
     "name": "stderr",
     "output_type": "stream",
     "text": [
      "[I 2019-03-16 00:43:33,509] Finished a trial resulted in value: -0.8889036034799008. Current best value is -0.8974482554023158 with parameters: {'max_leaves': 846, 'min_data_in_leaf': 873, 'learning_rate': 0.0058318202621834, 'bagging_fraction': 0.22424070639485444, 'feature_fraction': 0.654575975993382, 'reg_alpha': 0.649396392916999, 'reg_lambda': 0.02204406313605034, 'colsample_bytree': 0.40694804183563826, 'min_gain_to_split': 0.17181109527480465, 'min_child_weight': 0.016075828966529645}.\n"
     ]
    },
    {
     "name": "stdout",
     "output_type": "stream",
     "text": [
      "23 "
     ]
    },
    {
     "name": "stderr",
     "output_type": "stream",
     "text": [
      "[I 2019-03-16 00:44:50,967] Finished a trial resulted in value: -0.8483624990799632. Current best value is -0.8974482554023158 with parameters: {'max_leaves': 846, 'min_data_in_leaf': 873, 'learning_rate': 0.0058318202621834, 'bagging_fraction': 0.22424070639485444, 'feature_fraction': 0.654575975993382, 'reg_alpha': 0.649396392916999, 'reg_lambda': 0.02204406313605034, 'colsample_bytree': 0.40694804183563826, 'min_gain_to_split': 0.17181109527480465, 'min_child_weight': 0.016075828966529645}.\n"
     ]
    },
    {
     "name": "stdout",
     "output_type": "stream",
     "text": [
      "24 "
     ]
    },
    {
     "name": "stderr",
     "output_type": "stream",
     "text": [
      "[I 2019-03-16 00:46:05,205] Finished a trial resulted in value: -0.8550959192575693. Current best value is -0.8974482554023158 with parameters: {'max_leaves': 846, 'min_data_in_leaf': 873, 'learning_rate': 0.0058318202621834, 'bagging_fraction': 0.22424070639485444, 'feature_fraction': 0.654575975993382, 'reg_alpha': 0.649396392916999, 'reg_lambda': 0.02204406313605034, 'colsample_bytree': 0.40694804183563826, 'min_gain_to_split': 0.17181109527480465, 'min_child_weight': 0.016075828966529645}.\n"
     ]
    },
    {
     "name": "stdout",
     "output_type": "stream",
     "text": [
      "25 "
     ]
    },
    {
     "name": "stderr",
     "output_type": "stream",
     "text": [
      "[I 2019-03-16 00:47:42,657] Finished a trial resulted in value: -0.8362842927677083. Current best value is -0.8974482554023158 with parameters: {'max_leaves': 846, 'min_data_in_leaf': 873, 'learning_rate': 0.0058318202621834, 'bagging_fraction': 0.22424070639485444, 'feature_fraction': 0.654575975993382, 'reg_alpha': 0.649396392916999, 'reg_lambda': 0.02204406313605034, 'colsample_bytree': 0.40694804183563826, 'min_gain_to_split': 0.17181109527480465, 'min_child_weight': 0.016075828966529645}.\n"
     ]
    },
    {
     "name": "stdout",
     "output_type": "stream",
     "text": [
      "26 "
     ]
    },
    {
     "name": "stderr",
     "output_type": "stream",
     "text": [
      "[I 2019-03-16 00:49:31,154] Finished a trial resulted in value: -0.7800910702812857. Current best value is -0.8974482554023158 with parameters: {'max_leaves': 846, 'min_data_in_leaf': 873, 'learning_rate': 0.0058318202621834, 'bagging_fraction': 0.22424070639485444, 'feature_fraction': 0.654575975993382, 'reg_alpha': 0.649396392916999, 'reg_lambda': 0.02204406313605034, 'colsample_bytree': 0.40694804183563826, 'min_gain_to_split': 0.17181109527480465, 'min_child_weight': 0.016075828966529645}.\n"
     ]
    },
    {
     "name": "stdout",
     "output_type": "stream",
     "text": [
      "27 "
     ]
    },
    {
     "name": "stderr",
     "output_type": "stream",
     "text": [
      "[I 2019-03-16 00:50:57,436] Finished a trial resulted in value: -0.8554769487345715. Current best value is -0.8974482554023158 with parameters: {'max_leaves': 846, 'min_data_in_leaf': 873, 'learning_rate': 0.0058318202621834, 'bagging_fraction': 0.22424070639485444, 'feature_fraction': 0.654575975993382, 'reg_alpha': 0.649396392916999, 'reg_lambda': 0.02204406313605034, 'colsample_bytree': 0.40694804183563826, 'min_gain_to_split': 0.17181109527480465, 'min_child_weight': 0.016075828966529645}.\n"
     ]
    },
    {
     "name": "stdout",
     "output_type": "stream",
     "text": [
      "28 "
     ]
    },
    {
     "name": "stderr",
     "output_type": "stream",
     "text": [
      "[I 2019-03-16 00:52:56,937] Finished a trial resulted in value: -0.8809073665906134. Current best value is -0.8974482554023158 with parameters: {'max_leaves': 846, 'min_data_in_leaf': 873, 'learning_rate': 0.0058318202621834, 'bagging_fraction': 0.22424070639485444, 'feature_fraction': 0.654575975993382, 'reg_alpha': 0.649396392916999, 'reg_lambda': 0.02204406313605034, 'colsample_bytree': 0.40694804183563826, 'min_gain_to_split': 0.17181109527480465, 'min_child_weight': 0.016075828966529645}.\n"
     ]
    },
    {
     "name": "stdout",
     "output_type": "stream",
     "text": [
      "29 "
     ]
    },
    {
     "name": "stderr",
     "output_type": "stream",
     "text": [
      "[I 2019-03-16 00:55:15,115] Finished a trial resulted in value: -0.8898079071475186. Current best value is -0.8974482554023158 with parameters: {'max_leaves': 846, 'min_data_in_leaf': 873, 'learning_rate': 0.0058318202621834, 'bagging_fraction': 0.22424070639485444, 'feature_fraction': 0.654575975993382, 'reg_alpha': 0.649396392916999, 'reg_lambda': 0.02204406313605034, 'colsample_bytree': 0.40694804183563826, 'min_gain_to_split': 0.17181109527480465, 'min_child_weight': 0.016075828966529645}.\n"
     ]
    },
    {
     "name": "stdout",
     "output_type": "stream",
     "text": [
      "30 "
     ]
    },
    {
     "name": "stderr",
     "output_type": "stream",
     "text": [
      "[I 2019-03-16 00:55:52,023] Finished a trial resulted in value: -0.4999579712796365. Current best value is -0.8974482554023158 with parameters: {'max_leaves': 846, 'min_data_in_leaf': 873, 'learning_rate': 0.0058318202621834, 'bagging_fraction': 0.22424070639485444, 'feature_fraction': 0.654575975993382, 'reg_alpha': 0.649396392916999, 'reg_lambda': 0.02204406313605034, 'colsample_bytree': 0.40694804183563826, 'min_gain_to_split': 0.17181109527480465, 'min_child_weight': 0.016075828966529645}.\n"
     ]
    },
    {
     "name": "stdout",
     "output_type": "stream",
     "text": [
      "31 "
     ]
    },
    {
     "name": "stderr",
     "output_type": "stream",
     "text": [
      "[I 2019-03-16 00:57:10,355] Finished a trial resulted in value: -0.8323637174808453. Current best value is -0.8974482554023158 with parameters: {'max_leaves': 846, 'min_data_in_leaf': 873, 'learning_rate': 0.0058318202621834, 'bagging_fraction': 0.22424070639485444, 'feature_fraction': 0.654575975993382, 'reg_alpha': 0.649396392916999, 'reg_lambda': 0.02204406313605034, 'colsample_bytree': 0.40694804183563826, 'min_gain_to_split': 0.17181109527480465, 'min_child_weight': 0.016075828966529645}.\n"
     ]
    },
    {
     "name": "stdout",
     "output_type": "stream",
     "text": [
      "32 "
     ]
    },
    {
     "name": "stderr",
     "output_type": "stream",
     "text": [
      "[I 2019-03-16 00:58:19,617] Finished a trial resulted in value: -0.8110372508633943. Current best value is -0.8974482554023158 with parameters: {'max_leaves': 846, 'min_data_in_leaf': 873, 'learning_rate': 0.0058318202621834, 'bagging_fraction': 0.22424070639485444, 'feature_fraction': 0.654575975993382, 'reg_alpha': 0.649396392916999, 'reg_lambda': 0.02204406313605034, 'colsample_bytree': 0.40694804183563826, 'min_gain_to_split': 0.17181109527480465, 'min_child_weight': 0.016075828966529645}.\n"
     ]
    },
    {
     "name": "stdout",
     "output_type": "stream",
     "text": [
      "33 "
     ]
    },
    {
     "name": "stderr",
     "output_type": "stream",
     "text": [
      "[I 2019-03-16 01:01:56,062] Finished a trial resulted in value: -0.8945347838061066. Current best value is -0.8974482554023158 with parameters: {'max_leaves': 846, 'min_data_in_leaf': 873, 'learning_rate': 0.0058318202621834, 'bagging_fraction': 0.22424070639485444, 'feature_fraction': 0.654575975993382, 'reg_alpha': 0.649396392916999, 'reg_lambda': 0.02204406313605034, 'colsample_bytree': 0.40694804183563826, 'min_gain_to_split': 0.17181109527480465, 'min_child_weight': 0.016075828966529645}.\n"
     ]
    },
    {
     "name": "stdout",
     "output_type": "stream",
     "text": [
      "34 "
     ]
    },
    {
     "name": "stderr",
     "output_type": "stream",
     "text": [
      "[I 2019-03-16 01:04:02,048] Finished a trial resulted in value: -0.8800895260033543. Current best value is -0.8974482554023158 with parameters: {'max_leaves': 846, 'min_data_in_leaf': 873, 'learning_rate': 0.0058318202621834, 'bagging_fraction': 0.22424070639485444, 'feature_fraction': 0.654575975993382, 'reg_alpha': 0.649396392916999, 'reg_lambda': 0.02204406313605034, 'colsample_bytree': 0.40694804183563826, 'min_gain_to_split': 0.17181109527480465, 'min_child_weight': 0.016075828966529645}.\n"
     ]
    },
    {
     "name": "stdout",
     "output_type": "stream",
     "text": [
      "35 "
     ]
    },
    {
     "name": "stderr",
     "output_type": "stream",
     "text": [
      "[I 2019-03-16 01:05:57,112] Finished a trial resulted in value: -0.8381763833762905. Current best value is -0.8974482554023158 with parameters: {'max_leaves': 846, 'min_data_in_leaf': 873, 'learning_rate': 0.0058318202621834, 'bagging_fraction': 0.22424070639485444, 'feature_fraction': 0.654575975993382, 'reg_alpha': 0.649396392916999, 'reg_lambda': 0.02204406313605034, 'colsample_bytree': 0.40694804183563826, 'min_gain_to_split': 0.17181109527480465, 'min_child_weight': 0.016075828966529645}.\n"
     ]
    },
    {
     "name": "stdout",
     "output_type": "stream",
     "text": [
      "36 "
     ]
    },
    {
     "name": "stderr",
     "output_type": "stream",
     "text": [
      "[I 2019-03-16 01:07:28,520] Finished a trial resulted in value: -0.8685914795979097. Current best value is -0.8974482554023158 with parameters: {'max_leaves': 846, 'min_data_in_leaf': 873, 'learning_rate': 0.0058318202621834, 'bagging_fraction': 0.22424070639485444, 'feature_fraction': 0.654575975993382, 'reg_alpha': 0.649396392916999, 'reg_lambda': 0.02204406313605034, 'colsample_bytree': 0.40694804183563826, 'min_gain_to_split': 0.17181109527480465, 'min_child_weight': 0.016075828966529645}.\n"
     ]
    },
    {
     "name": "stdout",
     "output_type": "stream",
     "text": [
      "37 "
     ]
    },
    {
     "name": "stderr",
     "output_type": "stream",
     "text": [
      "[I 2019-03-16 01:08:27,502] Finished a trial resulted in value: -0.7993657497645423. Current best value is -0.8974482554023158 with parameters: {'max_leaves': 846, 'min_data_in_leaf': 873, 'learning_rate': 0.0058318202621834, 'bagging_fraction': 0.22424070639485444, 'feature_fraction': 0.654575975993382, 'reg_alpha': 0.649396392916999, 'reg_lambda': 0.02204406313605034, 'colsample_bytree': 0.40694804183563826, 'min_gain_to_split': 0.17181109527480465, 'min_child_weight': 0.016075828966529645}.\n"
     ]
    },
    {
     "name": "stdout",
     "output_type": "stream",
     "text": [
      "38 "
     ]
    },
    {
     "name": "stderr",
     "output_type": "stream",
     "text": [
      "[I 2019-03-16 01:10:17,439] Finished a trial resulted in value: -0.8597718623464925. Current best value is -0.8974482554023158 with parameters: {'max_leaves': 846, 'min_data_in_leaf': 873, 'learning_rate': 0.0058318202621834, 'bagging_fraction': 0.22424070639485444, 'feature_fraction': 0.654575975993382, 'reg_alpha': 0.649396392916999, 'reg_lambda': 0.02204406313605034, 'colsample_bytree': 0.40694804183563826, 'min_gain_to_split': 0.17181109527480465, 'min_child_weight': 0.016075828966529645}.\n"
     ]
    },
    {
     "name": "stdout",
     "output_type": "stream",
     "text": [
      "39 "
     ]
    },
    {
     "name": "stderr",
     "output_type": "stream",
     "text": [
      "[I 2019-03-16 01:11:25,489] Finished a trial resulted in value: -0.8336958109718141. Current best value is -0.8974482554023158 with parameters: {'max_leaves': 846, 'min_data_in_leaf': 873, 'learning_rate': 0.0058318202621834, 'bagging_fraction': 0.22424070639485444, 'feature_fraction': 0.654575975993382, 'reg_alpha': 0.649396392916999, 'reg_lambda': 0.02204406313605034, 'colsample_bytree': 0.40694804183563826, 'min_gain_to_split': 0.17181109527480465, 'min_child_weight': 0.016075828966529645}.\n"
     ]
    },
    {
     "name": "stdout",
     "output_type": "stream",
     "text": [
      "40 "
     ]
    },
    {
     "name": "stderr",
     "output_type": "stream",
     "text": [
      "[I 2019-03-16 01:14:26,123] Finished a trial resulted in value: -0.8895576987764787. Current best value is -0.8974482554023158 with parameters: {'max_leaves': 846, 'min_data_in_leaf': 873, 'learning_rate': 0.0058318202621834, 'bagging_fraction': 0.22424070639485444, 'feature_fraction': 0.654575975993382, 'reg_alpha': 0.649396392916999, 'reg_lambda': 0.02204406313605034, 'colsample_bytree': 0.40694804183563826, 'min_gain_to_split': 0.17181109527480465, 'min_child_weight': 0.016075828966529645}.\n"
     ]
    },
    {
     "name": "stdout",
     "output_type": "stream",
     "text": [
      "41 "
     ]
    },
    {
     "name": "stderr",
     "output_type": "stream",
     "text": [
      "[I 2019-03-16 01:16:36,680] Finished a trial resulted in value: -0.8738096117652866. Current best value is -0.8974482554023158 with parameters: {'max_leaves': 846, 'min_data_in_leaf': 873, 'learning_rate': 0.0058318202621834, 'bagging_fraction': 0.22424070639485444, 'feature_fraction': 0.654575975993382, 'reg_alpha': 0.649396392916999, 'reg_lambda': 0.02204406313605034, 'colsample_bytree': 0.40694804183563826, 'min_gain_to_split': 0.17181109527480465, 'min_child_weight': 0.016075828966529645}.\n"
     ]
    },
    {
     "name": "stdout",
     "output_type": "stream",
     "text": [
      "42 "
     ]
    },
    {
     "name": "stderr",
     "output_type": "stream",
     "text": [
      "[I 2019-03-16 01:20:29,516] Finished a trial resulted in value: -0.8881767451902438. Current best value is -0.8974482554023158 with parameters: {'max_leaves': 846, 'min_data_in_leaf': 873, 'learning_rate': 0.0058318202621834, 'bagging_fraction': 0.22424070639485444, 'feature_fraction': 0.654575975993382, 'reg_alpha': 0.649396392916999, 'reg_lambda': 0.02204406313605034, 'colsample_bytree': 0.40694804183563826, 'min_gain_to_split': 0.17181109527480465, 'min_child_weight': 0.016075828966529645}.\n"
     ]
    },
    {
     "name": "stdout",
     "output_type": "stream",
     "text": [
      "43 "
     ]
    },
    {
     "name": "stderr",
     "output_type": "stream",
     "text": [
      "[I 2019-03-16 01:21:35,332] Finished a trial resulted in value: -0.8341584383180043. Current best value is -0.8974482554023158 with parameters: {'max_leaves': 846, 'min_data_in_leaf': 873, 'learning_rate': 0.0058318202621834, 'bagging_fraction': 0.22424070639485444, 'feature_fraction': 0.654575975993382, 'reg_alpha': 0.649396392916999, 'reg_lambda': 0.02204406313605034, 'colsample_bytree': 0.40694804183563826, 'min_gain_to_split': 0.17181109527480465, 'min_child_weight': 0.016075828966529645}.\n"
     ]
    },
    {
     "name": "stdout",
     "output_type": "stream",
     "text": [
      "44 "
     ]
    },
    {
     "name": "stderr",
     "output_type": "stream",
     "text": [
      "[I 2019-03-16 01:22:51,465] Finished a trial resulted in value: -0.8484639792924311. Current best value is -0.8974482554023158 with parameters: {'max_leaves': 846, 'min_data_in_leaf': 873, 'learning_rate': 0.0058318202621834, 'bagging_fraction': 0.22424070639485444, 'feature_fraction': 0.654575975993382, 'reg_alpha': 0.649396392916999, 'reg_lambda': 0.02204406313605034, 'colsample_bytree': 0.40694804183563826, 'min_gain_to_split': 0.17181109527480465, 'min_child_weight': 0.016075828966529645}.\n"
     ]
    },
    {
     "name": "stdout",
     "output_type": "stream",
     "text": [
      "45 "
     ]
    },
    {
     "name": "stderr",
     "output_type": "stream",
     "text": [
      "[I 2019-03-16 01:23:53,971] Finished a trial resulted in value: -0.8291427999954231. Current best value is -0.8974482554023158 with parameters: {'max_leaves': 846, 'min_data_in_leaf': 873, 'learning_rate': 0.0058318202621834, 'bagging_fraction': 0.22424070639485444, 'feature_fraction': 0.654575975993382, 'reg_alpha': 0.649396392916999, 'reg_lambda': 0.02204406313605034, 'colsample_bytree': 0.40694804183563826, 'min_gain_to_split': 0.17181109527480465, 'min_child_weight': 0.016075828966529645}.\n"
     ]
    },
    {
     "name": "stdout",
     "output_type": "stream",
     "text": [
      "46 "
     ]
    },
    {
     "name": "stderr",
     "output_type": "stream",
     "text": [
      "[I 2019-03-16 01:26:36,447] Finished a trial resulted in value: -0.8723013390515919. Current best value is -0.8974482554023158 with parameters: {'max_leaves': 846, 'min_data_in_leaf': 873, 'learning_rate': 0.0058318202621834, 'bagging_fraction': 0.22424070639485444, 'feature_fraction': 0.654575975993382, 'reg_alpha': 0.649396392916999, 'reg_lambda': 0.02204406313605034, 'colsample_bytree': 0.40694804183563826, 'min_gain_to_split': 0.17181109527480465, 'min_child_weight': 0.016075828966529645}.\n"
     ]
    },
    {
     "name": "stdout",
     "output_type": "stream",
     "text": [
      "47 "
     ]
    },
    {
     "name": "stderr",
     "output_type": "stream",
     "text": [
      "[I 2019-03-16 01:27:53,535] Finished a trial resulted in value: -0.8500843825256686. Current best value is -0.8974482554023158 with parameters: {'max_leaves': 846, 'min_data_in_leaf': 873, 'learning_rate': 0.0058318202621834, 'bagging_fraction': 0.22424070639485444, 'feature_fraction': 0.654575975993382, 'reg_alpha': 0.649396392916999, 'reg_lambda': 0.02204406313605034, 'colsample_bytree': 0.40694804183563826, 'min_gain_to_split': 0.17181109527480465, 'min_child_weight': 0.016075828966529645}.\n"
     ]
    },
    {
     "name": "stdout",
     "output_type": "stream",
     "text": [
      "48 "
     ]
    },
    {
     "name": "stderr",
     "output_type": "stream",
     "text": [
      "[I 2019-03-16 01:51:45,255] Finished a trial resulted in value: -0.896530676464902. Current best value is -0.8974482554023158 with parameters: {'max_leaves': 846, 'min_data_in_leaf': 873, 'learning_rate': 0.0058318202621834, 'bagging_fraction': 0.22424070639485444, 'feature_fraction': 0.654575975993382, 'reg_alpha': 0.649396392916999, 'reg_lambda': 0.02204406313605034, 'colsample_bytree': 0.40694804183563826, 'min_gain_to_split': 0.17181109527480465, 'min_child_weight': 0.016075828966529645}.\n"
     ]
    },
    {
     "name": "stdout",
     "output_type": "stream",
     "text": [
      "49 "
     ]
    },
    {
     "name": "stderr",
     "output_type": "stream",
     "text": [
      "[I 2019-03-16 01:54:18,782] Finished a trial resulted in value: -0.8721451544611425. Current best value is -0.8974482554023158 with parameters: {'max_leaves': 846, 'min_data_in_leaf': 873, 'learning_rate': 0.0058318202621834, 'bagging_fraction': 0.22424070639485444, 'feature_fraction': 0.654575975993382, 'reg_alpha': 0.649396392916999, 'reg_lambda': 0.02204406313605034, 'colsample_bytree': 0.40694804183563826, 'min_gain_to_split': 0.17181109527480465, 'min_child_weight': 0.016075828966529645}.\n"
     ]
    },
    {
     "name": "stdout",
     "output_type": "stream",
     "text": [
      "50 "
     ]
    },
    {
     "name": "stderr",
     "output_type": "stream",
     "text": [
      "[I 2019-03-16 01:55:36,593] Finished a trial resulted in value: -0.8560116553832027. Current best value is -0.8974482554023158 with parameters: {'max_leaves': 846, 'min_data_in_leaf': 873, 'learning_rate': 0.0058318202621834, 'bagging_fraction': 0.22424070639485444, 'feature_fraction': 0.654575975993382, 'reg_alpha': 0.649396392916999, 'reg_lambda': 0.02204406313605034, 'colsample_bytree': 0.40694804183563826, 'min_gain_to_split': 0.17181109527480465, 'min_child_weight': 0.016075828966529645}.\n"
     ]
    },
    {
     "name": "stdout",
     "output_type": "stream",
     "text": [
      "51 "
     ]
    },
    {
     "name": "stderr",
     "output_type": "stream",
     "text": [
      "[I 2019-03-16 02:01:44,985] Finished a trial resulted in value: -0.8904139510508634. Current best value is -0.8974482554023158 with parameters: {'max_leaves': 846, 'min_data_in_leaf': 873, 'learning_rate': 0.0058318202621834, 'bagging_fraction': 0.22424070639485444, 'feature_fraction': 0.654575975993382, 'reg_alpha': 0.649396392916999, 'reg_lambda': 0.02204406313605034, 'colsample_bytree': 0.40694804183563826, 'min_gain_to_split': 0.17181109527480465, 'min_child_weight': 0.016075828966529645}.\n"
     ]
    },
    {
     "name": "stdout",
     "output_type": "stream",
     "text": [
      "52 "
     ]
    },
    {
     "name": "stderr",
     "output_type": "stream",
     "text": [
      "[I 2019-03-16 02:04:50,755] Finished a trial resulted in value: -0.8926589831226419. Current best value is -0.8974482554023158 with parameters: {'max_leaves': 846, 'min_data_in_leaf': 873, 'learning_rate': 0.0058318202621834, 'bagging_fraction': 0.22424070639485444, 'feature_fraction': 0.654575975993382, 'reg_alpha': 0.649396392916999, 'reg_lambda': 0.02204406313605034, 'colsample_bytree': 0.40694804183563826, 'min_gain_to_split': 0.17181109527480465, 'min_child_weight': 0.016075828966529645}.\n"
     ]
    },
    {
     "name": "stdout",
     "output_type": "stream",
     "text": [
      "53 "
     ]
    },
    {
     "name": "stderr",
     "output_type": "stream",
     "text": [
      "[I 2019-03-16 02:06:58,994] Finished a trial resulted in value: -0.8799054008129783. Current best value is -0.8974482554023158 with parameters: {'max_leaves': 846, 'min_data_in_leaf': 873, 'learning_rate': 0.0058318202621834, 'bagging_fraction': 0.22424070639485444, 'feature_fraction': 0.654575975993382, 'reg_alpha': 0.649396392916999, 'reg_lambda': 0.02204406313605034, 'colsample_bytree': 0.40694804183563826, 'min_gain_to_split': 0.17181109527480465, 'min_child_weight': 0.016075828966529645}.\n"
     ]
    },
    {
     "name": "stdout",
     "output_type": "stream",
     "text": [
      "54 "
     ]
    },
    {
     "name": "stderr",
     "output_type": "stream",
     "text": [
      "[I 2019-03-16 02:08:56,530] Finished a trial resulted in value: -0.8830792938239937. Current best value is -0.8974482554023158 with parameters: {'max_leaves': 846, 'min_data_in_leaf': 873, 'learning_rate': 0.0058318202621834, 'bagging_fraction': 0.22424070639485444, 'feature_fraction': 0.654575975993382, 'reg_alpha': 0.649396392916999, 'reg_lambda': 0.02204406313605034, 'colsample_bytree': 0.40694804183563826, 'min_gain_to_split': 0.17181109527480465, 'min_child_weight': 0.016075828966529645}.\n"
     ]
    },
    {
     "name": "stdout",
     "output_type": "stream",
     "text": [
      "55 "
     ]
    },
    {
     "name": "stderr",
     "output_type": "stream",
     "text": [
      "[I 2019-03-16 02:10:23,046] Finished a trial resulted in value: -0.8603989728824828. Current best value is -0.8974482554023158 with parameters: {'max_leaves': 846, 'min_data_in_leaf': 873, 'learning_rate': 0.0058318202621834, 'bagging_fraction': 0.22424070639485444, 'feature_fraction': 0.654575975993382, 'reg_alpha': 0.649396392916999, 'reg_lambda': 0.02204406313605034, 'colsample_bytree': 0.40694804183563826, 'min_gain_to_split': 0.17181109527480465, 'min_child_weight': 0.016075828966529645}.\n"
     ]
    },
    {
     "name": "stdout",
     "output_type": "stream",
     "text": [
      "56 "
     ]
    },
    {
     "name": "stderr",
     "output_type": "stream",
     "text": [
      "[I 2019-03-16 02:11:52,041] Finished a trial resulted in value: -0.8637728183008859. Current best value is -0.8974482554023158 with parameters: {'max_leaves': 846, 'min_data_in_leaf': 873, 'learning_rate': 0.0058318202621834, 'bagging_fraction': 0.22424070639485444, 'feature_fraction': 0.654575975993382, 'reg_alpha': 0.649396392916999, 'reg_lambda': 0.02204406313605034, 'colsample_bytree': 0.40694804183563826, 'min_gain_to_split': 0.17181109527480465, 'min_child_weight': 0.016075828966529645}.\n"
     ]
    },
    {
     "name": "stdout",
     "output_type": "stream",
     "text": [
      "57 "
     ]
    },
    {
     "name": "stderr",
     "output_type": "stream",
     "text": [
      "[I 2019-03-16 02:12:52,856] Finished a trial resulted in value: -0.8123865154438706. Current best value is -0.8974482554023158 with parameters: {'max_leaves': 846, 'min_data_in_leaf': 873, 'learning_rate': 0.0058318202621834, 'bagging_fraction': 0.22424070639485444, 'feature_fraction': 0.654575975993382, 'reg_alpha': 0.649396392916999, 'reg_lambda': 0.02204406313605034, 'colsample_bytree': 0.40694804183563826, 'min_gain_to_split': 0.17181109527480465, 'min_child_weight': 0.016075828966529645}.\n"
     ]
    },
    {
     "name": "stdout",
     "output_type": "stream",
     "text": [
      "58 "
     ]
    },
    {
     "name": "stderr",
     "output_type": "stream",
     "text": [
      "[I 2019-03-16 02:13:55,841] Finished a trial resulted in value: -0.8339993073859822. Current best value is -0.8974482554023158 with parameters: {'max_leaves': 846, 'min_data_in_leaf': 873, 'learning_rate': 0.0058318202621834, 'bagging_fraction': 0.22424070639485444, 'feature_fraction': 0.654575975993382, 'reg_alpha': 0.649396392916999, 'reg_lambda': 0.02204406313605034, 'colsample_bytree': 0.40694804183563826, 'min_gain_to_split': 0.17181109527480465, 'min_child_weight': 0.016075828966529645}.\n"
     ]
    },
    {
     "name": "stdout",
     "output_type": "stream",
     "text": [
      "59 "
     ]
    },
    {
     "name": "stderr",
     "output_type": "stream",
     "text": [
      "[I 2019-03-16 02:16:22,492] Finished a trial resulted in value: -0.8817285224690043. Current best value is -0.8974482554023158 with parameters: {'max_leaves': 846, 'min_data_in_leaf': 873, 'learning_rate': 0.0058318202621834, 'bagging_fraction': 0.22424070639485444, 'feature_fraction': 0.654575975993382, 'reg_alpha': 0.649396392916999, 'reg_lambda': 0.02204406313605034, 'colsample_bytree': 0.40694804183563826, 'min_gain_to_split': 0.17181109527480465, 'min_child_weight': 0.016075828966529645}.\n"
     ]
    },
    {
     "name": "stdout",
     "output_type": "stream",
     "text": [
      "60 "
     ]
    },
    {
     "name": "stderr",
     "output_type": "stream",
     "text": [
      "[I 2019-03-16 02:17:59,587] Finished a trial resulted in value: -0.879406933640198. Current best value is -0.8974482554023158 with parameters: {'max_leaves': 846, 'min_data_in_leaf': 873, 'learning_rate': 0.0058318202621834, 'bagging_fraction': 0.22424070639485444, 'feature_fraction': 0.654575975993382, 'reg_alpha': 0.649396392916999, 'reg_lambda': 0.02204406313605034, 'colsample_bytree': 0.40694804183563826, 'min_gain_to_split': 0.17181109527480465, 'min_child_weight': 0.016075828966529645}.\n"
     ]
    },
    {
     "name": "stdout",
     "output_type": "stream",
     "text": [
      "61 "
     ]
    },
    {
     "name": "stderr",
     "output_type": "stream",
     "text": [
      "[I 2019-03-16 02:22:19,501] Finished a trial resulted in value: -0.8938316917867644. Current best value is -0.8974482554023158 with parameters: {'max_leaves': 846, 'min_data_in_leaf': 873, 'learning_rate': 0.0058318202621834, 'bagging_fraction': 0.22424070639485444, 'feature_fraction': 0.654575975993382, 'reg_alpha': 0.649396392916999, 'reg_lambda': 0.02204406313605034, 'colsample_bytree': 0.40694804183563826, 'min_gain_to_split': 0.17181109527480465, 'min_child_weight': 0.016075828966529645}.\n"
     ]
    },
    {
     "name": "stdout",
     "output_type": "stream",
     "text": [
      "62 "
     ]
    },
    {
     "name": "stderr",
     "output_type": "stream",
     "text": [
      "[I 2019-03-16 02:24:02,475] Finished a trial resulted in value: -0.8516097242731082. Current best value is -0.8974482554023158 with parameters: {'max_leaves': 846, 'min_data_in_leaf': 873, 'learning_rate': 0.0058318202621834, 'bagging_fraction': 0.22424070639485444, 'feature_fraction': 0.654575975993382, 'reg_alpha': 0.649396392916999, 'reg_lambda': 0.02204406313605034, 'colsample_bytree': 0.40694804183563826, 'min_gain_to_split': 0.17181109527480465, 'min_child_weight': 0.016075828966529645}.\n"
     ]
    },
    {
     "name": "stdout",
     "output_type": "stream",
     "text": [
      "63 "
     ]
    },
    {
     "name": "stderr",
     "output_type": "stream",
     "text": [
      "[I 2019-03-16 02:26:47,450] Finished a trial resulted in value: -0.8742262786167969. Current best value is -0.8974482554023158 with parameters: {'max_leaves': 846, 'min_data_in_leaf': 873, 'learning_rate': 0.0058318202621834, 'bagging_fraction': 0.22424070639485444, 'feature_fraction': 0.654575975993382, 'reg_alpha': 0.649396392916999, 'reg_lambda': 0.02204406313605034, 'colsample_bytree': 0.40694804183563826, 'min_gain_to_split': 0.17181109527480465, 'min_child_weight': 0.016075828966529645}.\n"
     ]
    },
    {
     "name": "stdout",
     "output_type": "stream",
     "text": [
      "64 "
     ]
    },
    {
     "name": "stderr",
     "output_type": "stream",
     "text": [
      "[I 2019-03-16 02:30:12,744] Finished a trial resulted in value: -0.8735093103326115. Current best value is -0.8974482554023158 with parameters: {'max_leaves': 846, 'min_data_in_leaf': 873, 'learning_rate': 0.0058318202621834, 'bagging_fraction': 0.22424070639485444, 'feature_fraction': 0.654575975993382, 'reg_alpha': 0.649396392916999, 'reg_lambda': 0.02204406313605034, 'colsample_bytree': 0.40694804183563826, 'min_gain_to_split': 0.17181109527480465, 'min_child_weight': 0.016075828966529645}.\n"
     ]
    },
    {
     "name": "stdout",
     "output_type": "stream",
     "text": [
      "65 "
     ]
    },
    {
     "name": "stderr",
     "output_type": "stream",
     "text": [
      "[I 2019-03-16 02:39:38,080] Finished a trial resulted in value: -0.8969170283297029. Current best value is -0.8974482554023158 with parameters: {'max_leaves': 846, 'min_data_in_leaf': 873, 'learning_rate': 0.0058318202621834, 'bagging_fraction': 0.22424070639485444, 'feature_fraction': 0.654575975993382, 'reg_alpha': 0.649396392916999, 'reg_lambda': 0.02204406313605034, 'colsample_bytree': 0.40694804183563826, 'min_gain_to_split': 0.17181109527480465, 'min_child_weight': 0.016075828966529645}.\n"
     ]
    },
    {
     "name": "stdout",
     "output_type": "stream",
     "text": [
      "66 "
     ]
    },
    {
     "name": "stderr",
     "output_type": "stream",
     "text": [
      "[I 2019-03-16 03:05:04,242] Finished a trial resulted in value: -0.8983780865627333. Current best value is -0.8983780865627333 with parameters: {'max_leaves': 962, 'min_data_in_leaf': 101, 'learning_rate': 0.008467089868304085, 'bagging_fraction': 0.39421465183790383, 'feature_fraction': 0.742029399864705, 'reg_alpha': 0.1659749229798302, 'reg_lambda': 1.4223979160695897, 'colsample_bytree': 0.7931590791796129, 'min_gain_to_split': 0.06117879704656666, 'min_child_weight': 0.016977338542881623}.\n"
     ]
    },
    {
     "name": "stdout",
     "output_type": "stream",
     "text": [
      "67 "
     ]
    },
    {
     "name": "stderr",
     "output_type": "stream",
     "text": [
      "[I 2019-03-16 03:28:12,932] Finished a trial resulted in value: -0.8931607075060388. Current best value is -0.8983780865627333 with parameters: {'max_leaves': 962, 'min_data_in_leaf': 101, 'learning_rate': 0.008467089868304085, 'bagging_fraction': 0.39421465183790383, 'feature_fraction': 0.742029399864705, 'reg_alpha': 0.1659749229798302, 'reg_lambda': 1.4223979160695897, 'colsample_bytree': 0.7931590791796129, 'min_gain_to_split': 0.06117879704656666, 'min_child_weight': 0.016977338542881623}.\n"
     ]
    },
    {
     "name": "stdout",
     "output_type": "stream",
     "text": [
      "68 "
     ]
    },
    {
     "name": "stderr",
     "output_type": "stream",
     "text": [
      "[I 2019-03-16 03:30:52,251] Finished a trial resulted in value: -0.883661369004942. Current best value is -0.8983780865627333 with parameters: {'max_leaves': 962, 'min_data_in_leaf': 101, 'learning_rate': 0.008467089868304085, 'bagging_fraction': 0.39421465183790383, 'feature_fraction': 0.742029399864705, 'reg_alpha': 0.1659749229798302, 'reg_lambda': 1.4223979160695897, 'colsample_bytree': 0.7931590791796129, 'min_gain_to_split': 0.06117879704656666, 'min_child_weight': 0.016977338542881623}.\n"
     ]
    },
    {
     "name": "stdout",
     "output_type": "stream",
     "text": [
      "69 "
     ]
    },
    {
     "name": "stderr",
     "output_type": "stream",
     "text": [
      "[I 2019-03-16 03:33:47,923] Finished a trial resulted in value: -0.8833781675822865. Current best value is -0.8983780865627333 with parameters: {'max_leaves': 962, 'min_data_in_leaf': 101, 'learning_rate': 0.008467089868304085, 'bagging_fraction': 0.39421465183790383, 'feature_fraction': 0.742029399864705, 'reg_alpha': 0.1659749229798302, 'reg_lambda': 1.4223979160695897, 'colsample_bytree': 0.7931590791796129, 'min_gain_to_split': 0.06117879704656666, 'min_child_weight': 0.016977338542881623}.\n"
     ]
    },
    {
     "name": "stdout",
     "output_type": "stream",
     "text": [
      "70 "
     ]
    },
    {
     "name": "stderr",
     "output_type": "stream",
     "text": [
      "[I 2019-03-16 03:36:55,197] Finished a trial resulted in value: -0.8864997568766222. Current best value is -0.8983780865627333 with parameters: {'max_leaves': 962, 'min_data_in_leaf': 101, 'learning_rate': 0.008467089868304085, 'bagging_fraction': 0.39421465183790383, 'feature_fraction': 0.742029399864705, 'reg_alpha': 0.1659749229798302, 'reg_lambda': 1.4223979160695897, 'colsample_bytree': 0.7931590791796129, 'min_gain_to_split': 0.06117879704656666, 'min_child_weight': 0.016977338542881623}.\n"
     ]
    },
    {
     "name": "stdout",
     "output_type": "stream",
     "text": [
      "71 "
     ]
    },
    {
     "name": "stderr",
     "output_type": "stream",
     "text": [
      "[I 2019-03-16 03:38:34,037] Finished a trial resulted in value: -0.8607999098709881. Current best value is -0.8983780865627333 with parameters: {'max_leaves': 962, 'min_data_in_leaf': 101, 'learning_rate': 0.008467089868304085, 'bagging_fraction': 0.39421465183790383, 'feature_fraction': 0.742029399864705, 'reg_alpha': 0.1659749229798302, 'reg_lambda': 1.4223979160695897, 'colsample_bytree': 0.7931590791796129, 'min_gain_to_split': 0.06117879704656666, 'min_child_weight': 0.016977338542881623}.\n"
     ]
    },
    {
     "name": "stdout",
     "output_type": "stream",
     "text": [
      "72 "
     ]
    },
    {
     "name": "stderr",
     "output_type": "stream",
     "text": [
      "[I 2019-03-16 03:43:00,204] Finished a trial resulted in value: -0.8929066790965312. Current best value is -0.8983780865627333 with parameters: {'max_leaves': 962, 'min_data_in_leaf': 101, 'learning_rate': 0.008467089868304085, 'bagging_fraction': 0.39421465183790383, 'feature_fraction': 0.742029399864705, 'reg_alpha': 0.1659749229798302, 'reg_lambda': 1.4223979160695897, 'colsample_bytree': 0.7931590791796129, 'min_gain_to_split': 0.06117879704656666, 'min_child_weight': 0.016977338542881623}.\n"
     ]
    },
    {
     "name": "stdout",
     "output_type": "stream",
     "text": [
      "73 "
     ]
    },
    {
     "name": "stderr",
     "output_type": "stream",
     "text": [
      "[I 2019-03-16 03:44:51,660] Finished a trial resulted in value: -0.8757748426137237. Current best value is -0.8983780865627333 with parameters: {'max_leaves': 962, 'min_data_in_leaf': 101, 'learning_rate': 0.008467089868304085, 'bagging_fraction': 0.39421465183790383, 'feature_fraction': 0.742029399864705, 'reg_alpha': 0.1659749229798302, 'reg_lambda': 1.4223979160695897, 'colsample_bytree': 0.7931590791796129, 'min_gain_to_split': 0.06117879704656666, 'min_child_weight': 0.016977338542881623}.\n"
     ]
    },
    {
     "name": "stdout",
     "output_type": "stream",
     "text": [
      "74 "
     ]
    },
    {
     "name": "stderr",
     "output_type": "stream",
     "text": [
      "[I 2019-03-16 03:47:27,205] Finished a trial resulted in value: -0.8837721952020541. Current best value is -0.8983780865627333 with parameters: {'max_leaves': 962, 'min_data_in_leaf': 101, 'learning_rate': 0.008467089868304085, 'bagging_fraction': 0.39421465183790383, 'feature_fraction': 0.742029399864705, 'reg_alpha': 0.1659749229798302, 'reg_lambda': 1.4223979160695897, 'colsample_bytree': 0.7931590791796129, 'min_gain_to_split': 0.06117879704656666, 'min_child_weight': 0.016977338542881623}.\n"
     ]
    },
    {
     "name": "stdout",
     "output_type": "stream",
     "text": [
      "75 "
     ]
    },
    {
     "name": "stderr",
     "output_type": "stream",
     "text": [
      "[I 2019-03-16 03:50:15,873] Finished a trial resulted in value: -0.8852513217302675. Current best value is -0.8983780865627333 with parameters: {'max_leaves': 962, 'min_data_in_leaf': 101, 'learning_rate': 0.008467089868304085, 'bagging_fraction': 0.39421465183790383, 'feature_fraction': 0.742029399864705, 'reg_alpha': 0.1659749229798302, 'reg_lambda': 1.4223979160695897, 'colsample_bytree': 0.7931590791796129, 'min_gain_to_split': 0.06117879704656666, 'min_child_weight': 0.016977338542881623}.\n"
     ]
    },
    {
     "name": "stdout",
     "output_type": "stream",
     "text": [
      "76 "
     ]
    },
    {
     "name": "stderr",
     "output_type": "stream",
     "text": [
      "[I 2019-03-16 03:54:32,947] Finished a trial resulted in value: -0.8913372694494911. Current best value is -0.8983780865627333 with parameters: {'max_leaves': 962, 'min_data_in_leaf': 101, 'learning_rate': 0.008467089868304085, 'bagging_fraction': 0.39421465183790383, 'feature_fraction': 0.742029399864705, 'reg_alpha': 0.1659749229798302, 'reg_lambda': 1.4223979160695897, 'colsample_bytree': 0.7931590791796129, 'min_gain_to_split': 0.06117879704656666, 'min_child_weight': 0.016977338542881623}.\n"
     ]
    },
    {
     "name": "stdout",
     "output_type": "stream",
     "text": [
      "77 "
     ]
    },
    {
     "name": "stderr",
     "output_type": "stream",
     "text": [
      "[I 2019-03-16 03:56:02,809] Finished a trial resulted in value: -0.8731083000520272. Current best value is -0.8983780865627333 with parameters: {'max_leaves': 962, 'min_data_in_leaf': 101, 'learning_rate': 0.008467089868304085, 'bagging_fraction': 0.39421465183790383, 'feature_fraction': 0.742029399864705, 'reg_alpha': 0.1659749229798302, 'reg_lambda': 1.4223979160695897, 'colsample_bytree': 0.7931590791796129, 'min_gain_to_split': 0.06117879704656666, 'min_child_weight': 0.016977338542881623}.\n"
     ]
    },
    {
     "name": "stdout",
     "output_type": "stream",
     "text": [
      "78 "
     ]
    },
    {
     "name": "stderr",
     "output_type": "stream",
     "text": [
      "[I 2019-03-16 04:03:59,034] Finished a trial resulted in value: -0.8206908572979339. Current best value is -0.8983780865627333 with parameters: {'max_leaves': 962, 'min_data_in_leaf': 101, 'learning_rate': 0.008467089868304085, 'bagging_fraction': 0.39421465183790383, 'feature_fraction': 0.742029399864705, 'reg_alpha': 0.1659749229798302, 'reg_lambda': 1.4223979160695897, 'colsample_bytree': 0.7931590791796129, 'min_gain_to_split': 0.06117879704656666, 'min_child_weight': 0.016977338542881623}.\n"
     ]
    },
    {
     "name": "stdout",
     "output_type": "stream",
     "text": [
      "79 "
     ]
    },
    {
     "name": "stderr",
     "output_type": "stream",
     "text": [
      "[I 2019-03-16 04:06:07,138] Finished a trial resulted in value: -0.8699158511460734. Current best value is -0.8983780865627333 with parameters: {'max_leaves': 962, 'min_data_in_leaf': 101, 'learning_rate': 0.008467089868304085, 'bagging_fraction': 0.39421465183790383, 'feature_fraction': 0.742029399864705, 'reg_alpha': 0.1659749229798302, 'reg_lambda': 1.4223979160695897, 'colsample_bytree': 0.7931590791796129, 'min_gain_to_split': 0.06117879704656666, 'min_child_weight': 0.016977338542881623}.\n"
     ]
    },
    {
     "name": "stdout",
     "output_type": "stream",
     "text": [
      "80 "
     ]
    },
    {
     "name": "stderr",
     "output_type": "stream",
     "text": [
      "[I 2019-03-16 04:07:54,270] Finished a trial resulted in value: -0.8624917770297776. Current best value is -0.8983780865627333 with parameters: {'max_leaves': 962, 'min_data_in_leaf': 101, 'learning_rate': 0.008467089868304085, 'bagging_fraction': 0.39421465183790383, 'feature_fraction': 0.742029399864705, 'reg_alpha': 0.1659749229798302, 'reg_lambda': 1.4223979160695897, 'colsample_bytree': 0.7931590791796129, 'min_gain_to_split': 0.06117879704656666, 'min_child_weight': 0.016977338542881623}.\n"
     ]
    },
    {
     "name": "stdout",
     "output_type": "stream",
     "text": [
      "81 "
     ]
    },
    {
     "name": "stderr",
     "output_type": "stream",
     "text": [
      "[I 2019-03-16 04:10:13,991] Finished a trial resulted in value: -0.8796607994242626. Current best value is -0.8983780865627333 with parameters: {'max_leaves': 962, 'min_data_in_leaf': 101, 'learning_rate': 0.008467089868304085, 'bagging_fraction': 0.39421465183790383, 'feature_fraction': 0.742029399864705, 'reg_alpha': 0.1659749229798302, 'reg_lambda': 1.4223979160695897, 'colsample_bytree': 0.7931590791796129, 'min_gain_to_split': 0.06117879704656666, 'min_child_weight': 0.016977338542881623}.\n"
     ]
    },
    {
     "name": "stdout",
     "output_type": "stream",
     "text": [
      "82 "
     ]
    },
    {
     "name": "stderr",
     "output_type": "stream",
     "text": [
      "[I 2019-03-16 04:11:30,863] Finished a trial resulted in value: -0.8122062105685366. Current best value is -0.8983780865627333 with parameters: {'max_leaves': 962, 'min_data_in_leaf': 101, 'learning_rate': 0.008467089868304085, 'bagging_fraction': 0.39421465183790383, 'feature_fraction': 0.742029399864705, 'reg_alpha': 0.1659749229798302, 'reg_lambda': 1.4223979160695897, 'colsample_bytree': 0.7931590791796129, 'min_gain_to_split': 0.06117879704656666, 'min_child_weight': 0.016977338542881623}.\n"
     ]
    },
    {
     "name": "stdout",
     "output_type": "stream",
     "text": [
      "83 "
     ]
    },
    {
     "name": "stderr",
     "output_type": "stream",
     "text": [
      "[I 2019-03-16 04:16:58,709] Finished a trial resulted in value: -0.8852315085304584. Current best value is -0.8983780865627333 with parameters: {'max_leaves': 962, 'min_data_in_leaf': 101, 'learning_rate': 0.008467089868304085, 'bagging_fraction': 0.39421465183790383, 'feature_fraction': 0.742029399864705, 'reg_alpha': 0.1659749229798302, 'reg_lambda': 1.4223979160695897, 'colsample_bytree': 0.7931590791796129, 'min_gain_to_split': 0.06117879704656666, 'min_child_weight': 0.016977338542881623}.\n"
     ]
    },
    {
     "name": "stdout",
     "output_type": "stream",
     "text": [
      "84 "
     ]
    },
    {
     "name": "stderr",
     "output_type": "stream",
     "text": [
      "[I 2019-03-16 04:19:43,024] Finished a trial resulted in value: -0.8906583635396174. Current best value is -0.8983780865627333 with parameters: {'max_leaves': 962, 'min_data_in_leaf': 101, 'learning_rate': 0.008467089868304085, 'bagging_fraction': 0.39421465183790383, 'feature_fraction': 0.742029399864705, 'reg_alpha': 0.1659749229798302, 'reg_lambda': 1.4223979160695897, 'colsample_bytree': 0.7931590791796129, 'min_gain_to_split': 0.06117879704656666, 'min_child_weight': 0.016977338542881623}.\n"
     ]
    },
    {
     "name": "stdout",
     "output_type": "stream",
     "text": [
      "85 "
     ]
    },
    {
     "name": "stderr",
     "output_type": "stream",
     "text": [
      "[I 2019-03-16 04:23:53,859] Finished a trial resulted in value: -0.8886402633809103. Current best value is -0.8983780865627333 with parameters: {'max_leaves': 962, 'min_data_in_leaf': 101, 'learning_rate': 0.008467089868304085, 'bagging_fraction': 0.39421465183790383, 'feature_fraction': 0.742029399864705, 'reg_alpha': 0.1659749229798302, 'reg_lambda': 1.4223979160695897, 'colsample_bytree': 0.7931590791796129, 'min_gain_to_split': 0.06117879704656666, 'min_child_weight': 0.016977338542881623}.\n"
     ]
    },
    {
     "name": "stdout",
     "output_type": "stream",
     "text": [
      "86 "
     ]
    },
    {
     "name": "stderr",
     "output_type": "stream",
     "text": [
      "[I 2019-03-16 04:25:24,264] Finished a trial resulted in value: -0.8441913251763119. Current best value is -0.8983780865627333 with parameters: {'max_leaves': 962, 'min_data_in_leaf': 101, 'learning_rate': 0.008467089868304085, 'bagging_fraction': 0.39421465183790383, 'feature_fraction': 0.742029399864705, 'reg_alpha': 0.1659749229798302, 'reg_lambda': 1.4223979160695897, 'colsample_bytree': 0.7931590791796129, 'min_gain_to_split': 0.06117879704656666, 'min_child_weight': 0.016977338542881623}.\n"
     ]
    },
    {
     "name": "stdout",
     "output_type": "stream",
     "text": [
      "87 "
     ]
    },
    {
     "name": "stderr",
     "output_type": "stream",
     "text": [
      "[I 2019-03-16 04:28:58,944] Finished a trial resulted in value: -0.8903511466535791. Current best value is -0.8983780865627333 with parameters: {'max_leaves': 962, 'min_data_in_leaf': 101, 'learning_rate': 0.008467089868304085, 'bagging_fraction': 0.39421465183790383, 'feature_fraction': 0.742029399864705, 'reg_alpha': 0.1659749229798302, 'reg_lambda': 1.4223979160695897, 'colsample_bytree': 0.7931590791796129, 'min_gain_to_split': 0.06117879704656666, 'min_child_weight': 0.016977338542881623}.\n"
     ]
    },
    {
     "name": "stdout",
     "output_type": "stream",
     "text": [
      "88 "
     ]
    },
    {
     "name": "stderr",
     "output_type": "stream",
     "text": [
      "[I 2019-03-16 04:31:15,049] Finished a trial resulted in value: -0.8842433484913264. Current best value is -0.8983780865627333 with parameters: {'max_leaves': 962, 'min_data_in_leaf': 101, 'learning_rate': 0.008467089868304085, 'bagging_fraction': 0.39421465183790383, 'feature_fraction': 0.742029399864705, 'reg_alpha': 0.1659749229798302, 'reg_lambda': 1.4223979160695897, 'colsample_bytree': 0.7931590791796129, 'min_gain_to_split': 0.06117879704656666, 'min_child_weight': 0.016977338542881623}.\n"
     ]
    },
    {
     "name": "stdout",
     "output_type": "stream",
     "text": [
      "89 "
     ]
    },
    {
     "name": "stderr",
     "output_type": "stream",
     "text": [
      "[I 2019-03-16 04:33:03,054] Finished a trial resulted in value: -0.8746697084166407. Current best value is -0.8983780865627333 with parameters: {'max_leaves': 962, 'min_data_in_leaf': 101, 'learning_rate': 0.008467089868304085, 'bagging_fraction': 0.39421465183790383, 'feature_fraction': 0.742029399864705, 'reg_alpha': 0.1659749229798302, 'reg_lambda': 1.4223979160695897, 'colsample_bytree': 0.7931590791796129, 'min_gain_to_split': 0.06117879704656666, 'min_child_weight': 0.016977338542881623}.\n"
     ]
    },
    {
     "name": "stdout",
     "output_type": "stream",
     "text": [
      "90 "
     ]
    },
    {
     "name": "stderr",
     "output_type": "stream",
     "text": [
      "[I 2019-03-16 04:35:27,807] Finished a trial resulted in value: -0.8733662757239888. Current best value is -0.8983780865627333 with parameters: {'max_leaves': 962, 'min_data_in_leaf': 101, 'learning_rate': 0.008467089868304085, 'bagging_fraction': 0.39421465183790383, 'feature_fraction': 0.742029399864705, 'reg_alpha': 0.1659749229798302, 'reg_lambda': 1.4223979160695897, 'colsample_bytree': 0.7931590791796129, 'min_gain_to_split': 0.06117879704656666, 'min_child_weight': 0.016977338542881623}.\n"
     ]
    },
    {
     "name": "stdout",
     "output_type": "stream",
     "text": [
      "91 "
     ]
    },
    {
     "name": "stderr",
     "output_type": "stream",
     "text": [
      "[I 2019-03-16 04:39:01,613] Finished a trial resulted in value: -0.8944153744151185. Current best value is -0.8983780865627333 with parameters: {'max_leaves': 962, 'min_data_in_leaf': 101, 'learning_rate': 0.008467089868304085, 'bagging_fraction': 0.39421465183790383, 'feature_fraction': 0.742029399864705, 'reg_alpha': 0.1659749229798302, 'reg_lambda': 1.4223979160695897, 'colsample_bytree': 0.7931590791796129, 'min_gain_to_split': 0.06117879704656666, 'min_child_weight': 0.016977338542881623}.\n"
     ]
    },
    {
     "name": "stdout",
     "output_type": "stream",
     "text": [
      "92 "
     ]
    },
    {
     "name": "stderr",
     "output_type": "stream",
     "text": [
      "[I 2019-03-16 04:40:42,516] Finished a trial resulted in value: -0.8756981611218745. Current best value is -0.8983780865627333 with parameters: {'max_leaves': 962, 'min_data_in_leaf': 101, 'learning_rate': 0.008467089868304085, 'bagging_fraction': 0.39421465183790383, 'feature_fraction': 0.742029399864705, 'reg_alpha': 0.1659749229798302, 'reg_lambda': 1.4223979160695897, 'colsample_bytree': 0.7931590791796129, 'min_gain_to_split': 0.06117879704656666, 'min_child_weight': 0.016977338542881623}.\n"
     ]
    },
    {
     "name": "stdout",
     "output_type": "stream",
     "text": [
      "93 "
     ]
    },
    {
     "name": "stderr",
     "output_type": "stream",
     "text": [
      "[I 2019-03-16 04:42:35,027] Finished a trial resulted in value: -0.8469901784709029. Current best value is -0.8983780865627333 with parameters: {'max_leaves': 962, 'min_data_in_leaf': 101, 'learning_rate': 0.008467089868304085, 'bagging_fraction': 0.39421465183790383, 'feature_fraction': 0.742029399864705, 'reg_alpha': 0.1659749229798302, 'reg_lambda': 1.4223979160695897, 'colsample_bytree': 0.7931590791796129, 'min_gain_to_split': 0.06117879704656666, 'min_child_weight': 0.016977338542881623}.\n"
     ]
    },
    {
     "name": "stdout",
     "output_type": "stream",
     "text": [
      "94 "
     ]
    },
    {
     "name": "stderr",
     "output_type": "stream",
     "text": [
      "[I 2019-03-16 04:44:24,577] Finished a trial resulted in value: -0.8675270606718213. Current best value is -0.8983780865627333 with parameters: {'max_leaves': 962, 'min_data_in_leaf': 101, 'learning_rate': 0.008467089868304085, 'bagging_fraction': 0.39421465183790383, 'feature_fraction': 0.742029399864705, 'reg_alpha': 0.1659749229798302, 'reg_lambda': 1.4223979160695897, 'colsample_bytree': 0.7931590791796129, 'min_gain_to_split': 0.06117879704656666, 'min_child_weight': 0.016977338542881623}.\n"
     ]
    },
    {
     "name": "stdout",
     "output_type": "stream",
     "text": [
      "95 "
     ]
    },
    {
     "name": "stderr",
     "output_type": "stream",
     "text": [
      "[I 2019-03-16 04:50:53,848] Finished a trial resulted in value: -0.8966283919536786. Current best value is -0.8983780865627333 with parameters: {'max_leaves': 962, 'min_data_in_leaf': 101, 'learning_rate': 0.008467089868304085, 'bagging_fraction': 0.39421465183790383, 'feature_fraction': 0.742029399864705, 'reg_alpha': 0.1659749229798302, 'reg_lambda': 1.4223979160695897, 'colsample_bytree': 0.7931590791796129, 'min_gain_to_split': 0.06117879704656666, 'min_child_weight': 0.016977338542881623}.\n"
     ]
    },
    {
     "name": "stdout",
     "output_type": "stream",
     "text": [
      "96 "
     ]
    },
    {
     "name": "stderr",
     "output_type": "stream",
     "text": [
      "[I 2019-03-16 04:53:15,612] Finished a trial resulted in value: -0.7631917099116023. Current best value is -0.8983780865627333 with parameters: {'max_leaves': 962, 'min_data_in_leaf': 101, 'learning_rate': 0.008467089868304085, 'bagging_fraction': 0.39421465183790383, 'feature_fraction': 0.742029399864705, 'reg_alpha': 0.1659749229798302, 'reg_lambda': 1.4223979160695897, 'colsample_bytree': 0.7931590791796129, 'min_gain_to_split': 0.06117879704656666, 'min_child_weight': 0.016977338542881623}.\n"
     ]
    },
    {
     "name": "stdout",
     "output_type": "stream",
     "text": [
      "97 "
     ]
    },
    {
     "name": "stderr",
     "output_type": "stream",
     "text": [
      "[I 2019-03-16 04:54:18,534] Finished a trial resulted in value: -0.829259328316275. Current best value is -0.8983780865627333 with parameters: {'max_leaves': 962, 'min_data_in_leaf': 101, 'learning_rate': 0.008467089868304085, 'bagging_fraction': 0.39421465183790383, 'feature_fraction': 0.742029399864705, 'reg_alpha': 0.1659749229798302, 'reg_lambda': 1.4223979160695897, 'colsample_bytree': 0.7931590791796129, 'min_gain_to_split': 0.06117879704656666, 'min_child_weight': 0.016977338542881623}.\n"
     ]
    },
    {
     "name": "stdout",
     "output_type": "stream",
     "text": [
      "98 "
     ]
    },
    {
     "name": "stderr",
     "output_type": "stream",
     "text": [
      "[I 2019-03-16 04:55:27,407] Finished a trial resulted in value: -0.8185592667059025. Current best value is -0.8983780865627333 with parameters: {'max_leaves': 962, 'min_data_in_leaf': 101, 'learning_rate': 0.008467089868304085, 'bagging_fraction': 0.39421465183790383, 'feature_fraction': 0.742029399864705, 'reg_alpha': 0.1659749229798302, 'reg_lambda': 1.4223979160695897, 'colsample_bytree': 0.7931590791796129, 'min_gain_to_split': 0.06117879704656666, 'min_child_weight': 0.016977338542881623}.\n"
     ]
    },
    {
     "name": "stdout",
     "output_type": "stream",
     "text": [
      "99 "
     ]
    },
    {
     "name": "stderr",
     "output_type": "stream",
     "text": [
      "[I 2019-03-16 04:57:02,009] Finished a trial resulted in value: -0.860536217140297. Current best value is -0.8983780865627333 with parameters: {'max_leaves': 962, 'min_data_in_leaf': 101, 'learning_rate': 0.008467089868304085, 'bagging_fraction': 0.39421465183790383, 'feature_fraction': 0.742029399864705, 'reg_alpha': 0.1659749229798302, 'reg_lambda': 1.4223979160695897, 'colsample_bytree': 0.7931590791796129, 'min_gain_to_split': 0.06117879704656666, 'min_child_weight': 0.016977338542881623}.\n"
     ]
    },
    {
     "name": "stdout",
     "output_type": "stream",
     "text": [
      "100 "
     ]
    },
    {
     "name": "stderr",
     "output_type": "stream",
     "text": [
      "[I 2019-03-16 04:58:34,903] Finished a trial resulted in value: -0.8394543989291219. Current best value is -0.8983780865627333 with parameters: {'max_leaves': 962, 'min_data_in_leaf': 101, 'learning_rate': 0.008467089868304085, 'bagging_fraction': 0.39421465183790383, 'feature_fraction': 0.742029399864705, 'reg_alpha': 0.1659749229798302, 'reg_lambda': 1.4223979160695897, 'colsample_bytree': 0.7931590791796129, 'min_gain_to_split': 0.06117879704656666, 'min_child_weight': 0.016977338542881623}.\n"
     ]
    },
    {
     "name": "stdout",
     "output_type": "stream",
     "text": [
      "101 "
     ]
    },
    {
     "name": "stderr",
     "output_type": "stream",
     "text": [
      "[I 2019-03-16 04:59:37,328] Finished a trial resulted in value: -0.8234044190791334. Current best value is -0.8983780865627333 with parameters: {'max_leaves': 962, 'min_data_in_leaf': 101, 'learning_rate': 0.008467089868304085, 'bagging_fraction': 0.39421465183790383, 'feature_fraction': 0.742029399864705, 'reg_alpha': 0.1659749229798302, 'reg_lambda': 1.4223979160695897, 'colsample_bytree': 0.7931590791796129, 'min_gain_to_split': 0.06117879704656666, 'min_child_weight': 0.016977338542881623}.\n"
     ]
    },
    {
     "name": "stdout",
     "output_type": "stream",
     "text": [
      "102 "
     ]
    },
    {
     "name": "stderr",
     "output_type": "stream",
     "text": [
      "[I 2019-03-16 05:02:39,940] Finished a trial resulted in value: -0.8880568747505934. Current best value is -0.8983780865627333 with parameters: {'max_leaves': 962, 'min_data_in_leaf': 101, 'learning_rate': 0.008467089868304085, 'bagging_fraction': 0.39421465183790383, 'feature_fraction': 0.742029399864705, 'reg_alpha': 0.1659749229798302, 'reg_lambda': 1.4223979160695897, 'colsample_bytree': 0.7931590791796129, 'min_gain_to_split': 0.06117879704656666, 'min_child_weight': 0.016977338542881623}.\n"
     ]
    },
    {
     "name": "stdout",
     "output_type": "stream",
     "text": [
      "103 "
     ]
    },
    {
     "name": "stderr",
     "output_type": "stream",
     "text": [
      "[I 2019-03-16 05:04:21,528] Finished a trial resulted in value: -0.8652158571923103. Current best value is -0.8983780865627333 with parameters: {'max_leaves': 962, 'min_data_in_leaf': 101, 'learning_rate': 0.008467089868304085, 'bagging_fraction': 0.39421465183790383, 'feature_fraction': 0.742029399864705, 'reg_alpha': 0.1659749229798302, 'reg_lambda': 1.4223979160695897, 'colsample_bytree': 0.7931590791796129, 'min_gain_to_split': 0.06117879704656666, 'min_child_weight': 0.016977338542881623}.\n"
     ]
    },
    {
     "name": "stdout",
     "output_type": "stream",
     "text": [
      "104 "
     ]
    },
    {
     "name": "stderr",
     "output_type": "stream",
     "text": [
      "[I 2019-03-16 05:10:12,138] Finished a trial resulted in value: -0.8927825051672658. Current best value is -0.8983780865627333 with parameters: {'max_leaves': 962, 'min_data_in_leaf': 101, 'learning_rate': 0.008467089868304085, 'bagging_fraction': 0.39421465183790383, 'feature_fraction': 0.742029399864705, 'reg_alpha': 0.1659749229798302, 'reg_lambda': 1.4223979160695897, 'colsample_bytree': 0.7931590791796129, 'min_gain_to_split': 0.06117879704656666, 'min_child_weight': 0.016977338542881623}.\n"
     ]
    },
    {
     "name": "stdout",
     "output_type": "stream",
     "text": [
      "105 "
     ]
    },
    {
     "name": "stderr",
     "output_type": "stream",
     "text": [
      "[I 2019-03-16 05:12:08,126] Finished a trial resulted in value: -0.8661530084336814. Current best value is -0.8983780865627333 with parameters: {'max_leaves': 962, 'min_data_in_leaf': 101, 'learning_rate': 0.008467089868304085, 'bagging_fraction': 0.39421465183790383, 'feature_fraction': 0.742029399864705, 'reg_alpha': 0.1659749229798302, 'reg_lambda': 1.4223979160695897, 'colsample_bytree': 0.7931590791796129, 'min_gain_to_split': 0.06117879704656666, 'min_child_weight': 0.016977338542881623}.\n"
     ]
    },
    {
     "name": "stdout",
     "output_type": "stream",
     "text": [
      "106 "
     ]
    },
    {
     "name": "stderr",
     "output_type": "stream",
     "text": [
      "[I 2019-03-16 05:17:56,718] Finished a trial resulted in value: -0.8952593708710389. Current best value is -0.8983780865627333 with parameters: {'max_leaves': 962, 'min_data_in_leaf': 101, 'learning_rate': 0.008467089868304085, 'bagging_fraction': 0.39421465183790383, 'feature_fraction': 0.742029399864705, 'reg_alpha': 0.1659749229798302, 'reg_lambda': 1.4223979160695897, 'colsample_bytree': 0.7931590791796129, 'min_gain_to_split': 0.06117879704656666, 'min_child_weight': 0.016977338542881623}.\n"
     ]
    },
    {
     "name": "stdout",
     "output_type": "stream",
     "text": [
      "107 "
     ]
    },
    {
     "name": "stderr",
     "output_type": "stream",
     "text": [
      "[I 2019-03-16 05:20:06,196] Finished a trial resulted in value: -0.8749068611175475. Current best value is -0.8983780865627333 with parameters: {'max_leaves': 962, 'min_data_in_leaf': 101, 'learning_rate': 0.008467089868304085, 'bagging_fraction': 0.39421465183790383, 'feature_fraction': 0.742029399864705, 'reg_alpha': 0.1659749229798302, 'reg_lambda': 1.4223979160695897, 'colsample_bytree': 0.7931590791796129, 'min_gain_to_split': 0.06117879704656666, 'min_child_weight': 0.016977338542881623}.\n"
     ]
    },
    {
     "name": "stdout",
     "output_type": "stream",
     "text": [
      "108 "
     ]
    },
    {
     "name": "stderr",
     "output_type": "stream",
     "text": [
      "[I 2019-03-16 05:21:38,088] Finished a trial resulted in value: -0.8525143921885295. Current best value is -0.8983780865627333 with parameters: {'max_leaves': 962, 'min_data_in_leaf': 101, 'learning_rate': 0.008467089868304085, 'bagging_fraction': 0.39421465183790383, 'feature_fraction': 0.742029399864705, 'reg_alpha': 0.1659749229798302, 'reg_lambda': 1.4223979160695897, 'colsample_bytree': 0.7931590791796129, 'min_gain_to_split': 0.06117879704656666, 'min_child_weight': 0.016977338542881623}.\n"
     ]
    },
    {
     "name": "stdout",
     "output_type": "stream",
     "text": [
      "109 "
     ]
    },
    {
     "name": "stderr",
     "output_type": "stream",
     "text": [
      "[I 2019-03-16 05:23:39,322] Finished a trial resulted in value: -0.8879063364159592. Current best value is -0.8983780865627333 with parameters: {'max_leaves': 962, 'min_data_in_leaf': 101, 'learning_rate': 0.008467089868304085, 'bagging_fraction': 0.39421465183790383, 'feature_fraction': 0.742029399864705, 'reg_alpha': 0.1659749229798302, 'reg_lambda': 1.4223979160695897, 'colsample_bytree': 0.7931590791796129, 'min_gain_to_split': 0.06117879704656666, 'min_child_weight': 0.016977338542881623}.\n"
     ]
    },
    {
     "name": "stdout",
     "output_type": "stream",
     "text": [
      "110 "
     ]
    },
    {
     "name": "stderr",
     "output_type": "stream",
     "text": [
      "[I 2019-03-16 05:32:49,121] Finished a trial resulted in value: -0.8978203523726282. Current best value is -0.8983780865627333 with parameters: {'max_leaves': 962, 'min_data_in_leaf': 101, 'learning_rate': 0.008467089868304085, 'bagging_fraction': 0.39421465183790383, 'feature_fraction': 0.742029399864705, 'reg_alpha': 0.1659749229798302, 'reg_lambda': 1.4223979160695897, 'colsample_bytree': 0.7931590791796129, 'min_gain_to_split': 0.06117879704656666, 'min_child_weight': 0.016977338542881623}.\n"
     ]
    },
    {
     "name": "stdout",
     "output_type": "stream",
     "text": [
      "111 "
     ]
    },
    {
     "name": "stderr",
     "output_type": "stream",
     "text": [
      "[I 2019-03-16 05:35:10,736] Finished a trial resulted in value: -0.884431461600517. Current best value is -0.8983780865627333 with parameters: {'max_leaves': 962, 'min_data_in_leaf': 101, 'learning_rate': 0.008467089868304085, 'bagging_fraction': 0.39421465183790383, 'feature_fraction': 0.742029399864705, 'reg_alpha': 0.1659749229798302, 'reg_lambda': 1.4223979160695897, 'colsample_bytree': 0.7931590791796129, 'min_gain_to_split': 0.06117879704656666, 'min_child_weight': 0.016977338542881623}.\n"
     ]
    },
    {
     "name": "stdout",
     "output_type": "stream",
     "text": [
      "112 "
     ]
    },
    {
     "name": "stderr",
     "output_type": "stream",
     "text": [
      "[I 2019-03-16 05:42:35,881] Finished a trial resulted in value: -0.8976452620212785. Current best value is -0.8983780865627333 with parameters: {'max_leaves': 962, 'min_data_in_leaf': 101, 'learning_rate': 0.008467089868304085, 'bagging_fraction': 0.39421465183790383, 'feature_fraction': 0.742029399864705, 'reg_alpha': 0.1659749229798302, 'reg_lambda': 1.4223979160695897, 'colsample_bytree': 0.7931590791796129, 'min_gain_to_split': 0.06117879704656666, 'min_child_weight': 0.016977338542881623}.\n"
     ]
    },
    {
     "name": "stdout",
     "output_type": "stream",
     "text": [
      "113 "
     ]
    },
    {
     "name": "stderr",
     "output_type": "stream",
     "text": [
      "[I 2019-03-16 05:44:19,709] Finished a trial resulted in value: -0.8813840361459762. Current best value is -0.8983780865627333 with parameters: {'max_leaves': 962, 'min_data_in_leaf': 101, 'learning_rate': 0.008467089868304085, 'bagging_fraction': 0.39421465183790383, 'feature_fraction': 0.742029399864705, 'reg_alpha': 0.1659749229798302, 'reg_lambda': 1.4223979160695897, 'colsample_bytree': 0.7931590791796129, 'min_gain_to_split': 0.06117879704656666, 'min_child_weight': 0.016977338542881623}.\n"
     ]
    },
    {
     "name": "stdout",
     "output_type": "stream",
     "text": [
      "114 "
     ]
    },
    {
     "name": "stderr",
     "output_type": "stream",
     "text": [
      "[I 2019-03-16 05:45:52,926] Finished a trial resulted in value: -0.8653171745027612. Current best value is -0.8983780865627333 with parameters: {'max_leaves': 962, 'min_data_in_leaf': 101, 'learning_rate': 0.008467089868304085, 'bagging_fraction': 0.39421465183790383, 'feature_fraction': 0.742029399864705, 'reg_alpha': 0.1659749229798302, 'reg_lambda': 1.4223979160695897, 'colsample_bytree': 0.7931590791796129, 'min_gain_to_split': 0.06117879704656666, 'min_child_weight': 0.016977338542881623}.\n"
     ]
    },
    {
     "name": "stdout",
     "output_type": "stream",
     "text": [
      "115 "
     ]
    },
    {
     "name": "stderr",
     "output_type": "stream",
     "text": [
      "[I 2019-03-16 05:48:04,121] Finished a trial resulted in value: -0.8878323700499164. Current best value is -0.8983780865627333 with parameters: {'max_leaves': 962, 'min_data_in_leaf': 101, 'learning_rate': 0.008467089868304085, 'bagging_fraction': 0.39421465183790383, 'feature_fraction': 0.742029399864705, 'reg_alpha': 0.1659749229798302, 'reg_lambda': 1.4223979160695897, 'colsample_bytree': 0.7931590791796129, 'min_gain_to_split': 0.06117879704656666, 'min_child_weight': 0.016977338542881623}.\n"
     ]
    },
    {
     "name": "stdout",
     "output_type": "stream",
     "text": [
      "116 "
     ]
    },
    {
     "name": "stderr",
     "output_type": "stream",
     "text": [
      "[I 2019-03-16 05:51:31,594] Finished a trial resulted in value: -0.8941119089772254. Current best value is -0.8983780865627333 with parameters: {'max_leaves': 962, 'min_data_in_leaf': 101, 'learning_rate': 0.008467089868304085, 'bagging_fraction': 0.39421465183790383, 'feature_fraction': 0.742029399864705, 'reg_alpha': 0.1659749229798302, 'reg_lambda': 1.4223979160695897, 'colsample_bytree': 0.7931590791796129, 'min_gain_to_split': 0.06117879704656666, 'min_child_weight': 0.016977338542881623}.\n"
     ]
    },
    {
     "name": "stdout",
     "output_type": "stream",
     "text": [
      "117 "
     ]
    },
    {
     "name": "stderr",
     "output_type": "stream",
     "text": [
      "[I 2019-03-16 05:55:22,563] Finished a trial resulted in value: -0.895646274224162. Current best value is -0.8983780865627333 with parameters: {'max_leaves': 962, 'min_data_in_leaf': 101, 'learning_rate': 0.008467089868304085, 'bagging_fraction': 0.39421465183790383, 'feature_fraction': 0.742029399864705, 'reg_alpha': 0.1659749229798302, 'reg_lambda': 1.4223979160695897, 'colsample_bytree': 0.7931590791796129, 'min_gain_to_split': 0.06117879704656666, 'min_child_weight': 0.016977338542881623}.\n"
     ]
    },
    {
     "name": "stdout",
     "output_type": "stream",
     "text": [
      "118 "
     ]
    },
    {
     "name": "stderr",
     "output_type": "stream",
     "text": [
      "[I 2019-03-16 06:02:31,239] Finished a trial resulted in value: -0.8979360894156018. Current best value is -0.8983780865627333 with parameters: {'max_leaves': 962, 'min_data_in_leaf': 101, 'learning_rate': 0.008467089868304085, 'bagging_fraction': 0.39421465183790383, 'feature_fraction': 0.742029399864705, 'reg_alpha': 0.1659749229798302, 'reg_lambda': 1.4223979160695897, 'colsample_bytree': 0.7931590791796129, 'min_gain_to_split': 0.06117879704656666, 'min_child_weight': 0.016977338542881623}.\n"
     ]
    },
    {
     "name": "stdout",
     "output_type": "stream",
     "text": [
      "119 "
     ]
    },
    {
     "name": "stderr",
     "output_type": "stream",
     "text": [
      "[I 2019-03-16 06:04:24,056] Finished a trial resulted in value: -0.8814425680299206. Current best value is -0.8983780865627333 with parameters: {'max_leaves': 962, 'min_data_in_leaf': 101, 'learning_rate': 0.008467089868304085, 'bagging_fraction': 0.39421465183790383, 'feature_fraction': 0.742029399864705, 'reg_alpha': 0.1659749229798302, 'reg_lambda': 1.4223979160695897, 'colsample_bytree': 0.7931590791796129, 'min_gain_to_split': 0.06117879704656666, 'min_child_weight': 0.016977338542881623}.\n"
     ]
    },
    {
     "name": "stdout",
     "output_type": "stream",
     "text": [
      "120 "
     ]
    },
    {
     "name": "stderr",
     "output_type": "stream",
     "text": [
      "[I 2019-03-16 06:05:38,244] Finished a trial resulted in value: -0.8369500047205077. Current best value is -0.8983780865627333 with parameters: {'max_leaves': 962, 'min_data_in_leaf': 101, 'learning_rate': 0.008467089868304085, 'bagging_fraction': 0.39421465183790383, 'feature_fraction': 0.742029399864705, 'reg_alpha': 0.1659749229798302, 'reg_lambda': 1.4223979160695897, 'colsample_bytree': 0.7931590791796129, 'min_gain_to_split': 0.06117879704656666, 'min_child_weight': 0.016977338542881623}.\n"
     ]
    },
    {
     "name": "stdout",
     "output_type": "stream",
     "text": [
      "121 "
     ]
    },
    {
     "name": "stderr",
     "output_type": "stream",
     "text": [
      "[I 2019-03-16 06:07:17,366] Finished a trial resulted in value: -0.852832528211457. Current best value is -0.8983780865627333 with parameters: {'max_leaves': 962, 'min_data_in_leaf': 101, 'learning_rate': 0.008467089868304085, 'bagging_fraction': 0.39421465183790383, 'feature_fraction': 0.742029399864705, 'reg_alpha': 0.1659749229798302, 'reg_lambda': 1.4223979160695897, 'colsample_bytree': 0.7931590791796129, 'min_gain_to_split': 0.06117879704656666, 'min_child_weight': 0.016977338542881623}.\n"
     ]
    },
    {
     "name": "stdout",
     "output_type": "stream",
     "text": [
      "122 "
     ]
    },
    {
     "name": "stderr",
     "output_type": "stream",
     "text": [
      "[I 2019-03-16 06:08:52,674] Finished a trial resulted in value: -0.8768175673610267. Current best value is -0.8983780865627333 with parameters: {'max_leaves': 962, 'min_data_in_leaf': 101, 'learning_rate': 0.008467089868304085, 'bagging_fraction': 0.39421465183790383, 'feature_fraction': 0.742029399864705, 'reg_alpha': 0.1659749229798302, 'reg_lambda': 1.4223979160695897, 'colsample_bytree': 0.7931590791796129, 'min_gain_to_split': 0.06117879704656666, 'min_child_weight': 0.016977338542881623}.\n"
     ]
    },
    {
     "name": "stdout",
     "output_type": "stream",
     "text": [
      "123 "
     ]
    },
    {
     "name": "stderr",
     "output_type": "stream",
     "text": [
      "[I 2019-03-16 06:10:41,943] Finished a trial resulted in value: -0.8758478843932764. Current best value is -0.8983780865627333 with parameters: {'max_leaves': 962, 'min_data_in_leaf': 101, 'learning_rate': 0.008467089868304085, 'bagging_fraction': 0.39421465183790383, 'feature_fraction': 0.742029399864705, 'reg_alpha': 0.1659749229798302, 'reg_lambda': 1.4223979160695897, 'colsample_bytree': 0.7931590791796129, 'min_gain_to_split': 0.06117879704656666, 'min_child_weight': 0.016977338542881623}.\n"
     ]
    },
    {
     "name": "stdout",
     "output_type": "stream",
     "text": [
      "124 "
     ]
    },
    {
     "name": "stderr",
     "output_type": "stream",
     "text": [
      "[I 2019-03-16 06:12:32,406] Finished a trial resulted in value: -0.8833405557468297. Current best value is -0.8983780865627333 with parameters: {'max_leaves': 962, 'min_data_in_leaf': 101, 'learning_rate': 0.008467089868304085, 'bagging_fraction': 0.39421465183790383, 'feature_fraction': 0.742029399864705, 'reg_alpha': 0.1659749229798302, 'reg_lambda': 1.4223979160695897, 'colsample_bytree': 0.7931590791796129, 'min_gain_to_split': 0.06117879704656666, 'min_child_weight': 0.016977338542881623}.\n"
     ]
    },
    {
     "name": "stdout",
     "output_type": "stream",
     "text": [
      "125 "
     ]
    },
    {
     "name": "stderr",
     "output_type": "stream",
     "text": [
      "[I 2019-03-16 06:13:53,204] Finished a trial resulted in value: -0.8461265090381319. Current best value is -0.8983780865627333 with parameters: {'max_leaves': 962, 'min_data_in_leaf': 101, 'learning_rate': 0.008467089868304085, 'bagging_fraction': 0.39421465183790383, 'feature_fraction': 0.742029399864705, 'reg_alpha': 0.1659749229798302, 'reg_lambda': 1.4223979160695897, 'colsample_bytree': 0.7931590791796129, 'min_gain_to_split': 0.06117879704656666, 'min_child_weight': 0.016977338542881623}.\n"
     ]
    },
    {
     "name": "stdout",
     "output_type": "stream",
     "text": [
      "126 "
     ]
    },
    {
     "name": "stderr",
     "output_type": "stream",
     "text": [
      "[I 2019-03-16 06:16:41,819] Finished a trial resulted in value: -0.8878552590278751. Current best value is -0.8983780865627333 with parameters: {'max_leaves': 962, 'min_data_in_leaf': 101, 'learning_rate': 0.008467089868304085, 'bagging_fraction': 0.39421465183790383, 'feature_fraction': 0.742029399864705, 'reg_alpha': 0.1659749229798302, 'reg_lambda': 1.4223979160695897, 'colsample_bytree': 0.7931590791796129, 'min_gain_to_split': 0.06117879704656666, 'min_child_weight': 0.016977338542881623}.\n"
     ]
    },
    {
     "name": "stdout",
     "output_type": "stream",
     "text": [
      "127 "
     ]
    },
    {
     "name": "stderr",
     "output_type": "stream",
     "text": [
      "[I 2019-03-16 06:18:26,118] Finished a trial resulted in value: -0.8532450024794793. Current best value is -0.8983780865627333 with parameters: {'max_leaves': 962, 'min_data_in_leaf': 101, 'learning_rate': 0.008467089868304085, 'bagging_fraction': 0.39421465183790383, 'feature_fraction': 0.742029399864705, 'reg_alpha': 0.1659749229798302, 'reg_lambda': 1.4223979160695897, 'colsample_bytree': 0.7931590791796129, 'min_gain_to_split': 0.06117879704656666, 'min_child_weight': 0.016977338542881623}.\n"
     ]
    },
    {
     "name": "stdout",
     "output_type": "stream",
     "text": [
      "128 "
     ]
    },
    {
     "name": "stderr",
     "output_type": "stream",
     "text": [
      "[I 2019-03-16 06:21:35,010] Finished a trial resulted in value: -0.8922229577587858. Current best value is -0.8983780865627333 with parameters: {'max_leaves': 962, 'min_data_in_leaf': 101, 'learning_rate': 0.008467089868304085, 'bagging_fraction': 0.39421465183790383, 'feature_fraction': 0.742029399864705, 'reg_alpha': 0.1659749229798302, 'reg_lambda': 1.4223979160695897, 'colsample_bytree': 0.7931590791796129, 'min_gain_to_split': 0.06117879704656666, 'min_child_weight': 0.016977338542881623}.\n"
     ]
    },
    {
     "name": "stdout",
     "output_type": "stream",
     "text": [
      "129 "
     ]
    },
    {
     "name": "stderr",
     "output_type": "stream",
     "text": [
      "[I 2019-03-16 06:23:18,199] Finished a trial resulted in value: -0.8722388834139737. Current best value is -0.8983780865627333 with parameters: {'max_leaves': 962, 'min_data_in_leaf': 101, 'learning_rate': 0.008467089868304085, 'bagging_fraction': 0.39421465183790383, 'feature_fraction': 0.742029399864705, 'reg_alpha': 0.1659749229798302, 'reg_lambda': 1.4223979160695897, 'colsample_bytree': 0.7931590791796129, 'min_gain_to_split': 0.06117879704656666, 'min_child_weight': 0.016977338542881623}.\n"
     ]
    },
    {
     "name": "stdout",
     "output_type": "stream",
     "text": [
      "130 "
     ]
    },
    {
     "name": "stderr",
     "output_type": "stream",
     "text": [
      "[I 2019-03-16 06:24:58,490] Finished a trial resulted in value: -0.8818798858235308. Current best value is -0.8983780865627333 with parameters: {'max_leaves': 962, 'min_data_in_leaf': 101, 'learning_rate': 0.008467089868304085, 'bagging_fraction': 0.39421465183790383, 'feature_fraction': 0.742029399864705, 'reg_alpha': 0.1659749229798302, 'reg_lambda': 1.4223979160695897, 'colsample_bytree': 0.7931590791796129, 'min_gain_to_split': 0.06117879704656666, 'min_child_weight': 0.016977338542881623}.\n"
     ]
    },
    {
     "name": "stdout",
     "output_type": "stream",
     "text": [
      "131 "
     ]
    },
    {
     "name": "stderr",
     "output_type": "stream",
     "text": [
      "[I 2019-03-16 06:41:26,511] Finished a trial resulted in value: -0.8979602356984312. Current best value is -0.8983780865627333 with parameters: {'max_leaves': 962, 'min_data_in_leaf': 101, 'learning_rate': 0.008467089868304085, 'bagging_fraction': 0.39421465183790383, 'feature_fraction': 0.742029399864705, 'reg_alpha': 0.1659749229798302, 'reg_lambda': 1.4223979160695897, 'colsample_bytree': 0.7931590791796129, 'min_gain_to_split': 0.06117879704656666, 'min_child_weight': 0.016977338542881623}.\n"
     ]
    },
    {
     "name": "stdout",
     "output_type": "stream",
     "text": [
      "132 "
     ]
    },
    {
     "name": "stderr",
     "output_type": "stream",
     "text": [
      "[I 2019-03-16 06:45:11,919] Finished a trial resulted in value: -0.8949846132490225. Current best value is -0.8983780865627333 with parameters: {'max_leaves': 962, 'min_data_in_leaf': 101, 'learning_rate': 0.008467089868304085, 'bagging_fraction': 0.39421465183790383, 'feature_fraction': 0.742029399864705, 'reg_alpha': 0.1659749229798302, 'reg_lambda': 1.4223979160695897, 'colsample_bytree': 0.7931590791796129, 'min_gain_to_split': 0.06117879704656666, 'min_child_weight': 0.016977338542881623}.\n"
     ]
    },
    {
     "name": "stdout",
     "output_type": "stream",
     "text": [
      "133 "
     ]
    },
    {
     "name": "stderr",
     "output_type": "stream",
     "text": [
      "[I 2019-03-16 06:46:28,735] Finished a trial resulted in value: -0.8419802345279925. Current best value is -0.8983780865627333 with parameters: {'max_leaves': 962, 'min_data_in_leaf': 101, 'learning_rate': 0.008467089868304085, 'bagging_fraction': 0.39421465183790383, 'feature_fraction': 0.742029399864705, 'reg_alpha': 0.1659749229798302, 'reg_lambda': 1.4223979160695897, 'colsample_bytree': 0.7931590791796129, 'min_gain_to_split': 0.06117879704656666, 'min_child_weight': 0.016977338542881623}.\n"
     ]
    },
    {
     "name": "stdout",
     "output_type": "stream",
     "text": [
      "134 "
     ]
    },
    {
     "name": "stderr",
     "output_type": "stream",
     "text": [
      "[I 2019-03-16 06:48:14,345] Finished a trial resulted in value: -0.8744226870064513. Current best value is -0.8983780865627333 with parameters: {'max_leaves': 962, 'min_data_in_leaf': 101, 'learning_rate': 0.008467089868304085, 'bagging_fraction': 0.39421465183790383, 'feature_fraction': 0.742029399864705, 'reg_alpha': 0.1659749229798302, 'reg_lambda': 1.4223979160695897, 'colsample_bytree': 0.7931590791796129, 'min_gain_to_split': 0.06117879704656666, 'min_child_weight': 0.016977338542881623}.\n"
     ]
    },
    {
     "name": "stdout",
     "output_type": "stream",
     "text": [
      "135 "
     ]
    },
    {
     "name": "stderr",
     "output_type": "stream",
     "text": [
      "[I 2019-03-16 07:19:06,116] Finished a trial resulted in value: -0.8691443098565005. Current best value is -0.8983780865627333 with parameters: {'max_leaves': 962, 'min_data_in_leaf': 101, 'learning_rate': 0.008467089868304085, 'bagging_fraction': 0.39421465183790383, 'feature_fraction': 0.742029399864705, 'reg_alpha': 0.1659749229798302, 'reg_lambda': 1.4223979160695897, 'colsample_bytree': 0.7931590791796129, 'min_gain_to_split': 0.06117879704656666, 'min_child_weight': 0.016977338542881623}.\n"
     ]
    },
    {
     "name": "stdout",
     "output_type": "stream",
     "text": [
      "136 "
     ]
    },
    {
     "name": "stderr",
     "output_type": "stream",
     "text": [
      "[I 2019-03-16 07:22:27,170] Finished a trial resulted in value: -0.8808968672928781. Current best value is -0.8983780865627333 with parameters: {'max_leaves': 962, 'min_data_in_leaf': 101, 'learning_rate': 0.008467089868304085, 'bagging_fraction': 0.39421465183790383, 'feature_fraction': 0.742029399864705, 'reg_alpha': 0.1659749229798302, 'reg_lambda': 1.4223979160695897, 'colsample_bytree': 0.7931590791796129, 'min_gain_to_split': 0.06117879704656666, 'min_child_weight': 0.016977338542881623}.\n"
     ]
    },
    {
     "name": "stdout",
     "output_type": "stream",
     "text": [
      "137 "
     ]
    },
    {
     "name": "stderr",
     "output_type": "stream",
     "text": [
      "[I 2019-03-16 07:24:39,301] Finished a trial resulted in value: -0.8850681025959315. Current best value is -0.8983780865627333 with parameters: {'max_leaves': 962, 'min_data_in_leaf': 101, 'learning_rate': 0.008467089868304085, 'bagging_fraction': 0.39421465183790383, 'feature_fraction': 0.742029399864705, 'reg_alpha': 0.1659749229798302, 'reg_lambda': 1.4223979160695897, 'colsample_bytree': 0.7931590791796129, 'min_gain_to_split': 0.06117879704656666, 'min_child_weight': 0.016977338542881623}.\n"
     ]
    },
    {
     "name": "stdout",
     "output_type": "stream",
     "text": [
      "138 "
     ]
    },
    {
     "name": "stderr",
     "output_type": "stream",
     "text": [
      "[I 2019-03-16 07:28:45,132] Finished a trial resulted in value: -0.8921376720534456. Current best value is -0.8983780865627333 with parameters: {'max_leaves': 962, 'min_data_in_leaf': 101, 'learning_rate': 0.008467089868304085, 'bagging_fraction': 0.39421465183790383, 'feature_fraction': 0.742029399864705, 'reg_alpha': 0.1659749229798302, 'reg_lambda': 1.4223979160695897, 'colsample_bytree': 0.7931590791796129, 'min_gain_to_split': 0.06117879704656666, 'min_child_weight': 0.016977338542881623}.\n"
     ]
    },
    {
     "name": "stdout",
     "output_type": "stream",
     "text": [
      "139 "
     ]
    },
    {
     "name": "stderr",
     "output_type": "stream",
     "text": [
      "[I 2019-03-16 07:31:11,998] Finished a trial resulted in value: -0.8569197129881305. Current best value is -0.8983780865627333 with parameters: {'max_leaves': 962, 'min_data_in_leaf': 101, 'learning_rate': 0.008467089868304085, 'bagging_fraction': 0.39421465183790383, 'feature_fraction': 0.742029399864705, 'reg_alpha': 0.1659749229798302, 'reg_lambda': 1.4223979160695897, 'colsample_bytree': 0.7931590791796129, 'min_gain_to_split': 0.06117879704656666, 'min_child_weight': 0.016977338542881623}.\n"
     ]
    },
    {
     "name": "stdout",
     "output_type": "stream",
     "text": [
      "140 "
     ]
    },
    {
     "name": "stderr",
     "output_type": "stream",
     "text": [
      "[I 2019-03-16 07:32:40,745] Finished a trial resulted in value: -0.7863505509643252. Current best value is -0.8983780865627333 with parameters: {'max_leaves': 962, 'min_data_in_leaf': 101, 'learning_rate': 0.008467089868304085, 'bagging_fraction': 0.39421465183790383, 'feature_fraction': 0.742029399864705, 'reg_alpha': 0.1659749229798302, 'reg_lambda': 1.4223979160695897, 'colsample_bytree': 0.7931590791796129, 'min_gain_to_split': 0.06117879704656666, 'min_child_weight': 0.016977338542881623}.\n"
     ]
    },
    {
     "name": "stdout",
     "output_type": "stream",
     "text": [
      "141 "
     ]
    },
    {
     "name": "stderr",
     "output_type": "stream",
     "text": [
      "[I 2019-03-16 07:35:09,921] Finished a trial resulted in value: -0.886323257934488. Current best value is -0.8983780865627333 with parameters: {'max_leaves': 962, 'min_data_in_leaf': 101, 'learning_rate': 0.008467089868304085, 'bagging_fraction': 0.39421465183790383, 'feature_fraction': 0.742029399864705, 'reg_alpha': 0.1659749229798302, 'reg_lambda': 1.4223979160695897, 'colsample_bytree': 0.7931590791796129, 'min_gain_to_split': 0.06117879704656666, 'min_child_weight': 0.016977338542881623}.\n"
     ]
    },
    {
     "name": "stdout",
     "output_type": "stream",
     "text": [
      "142 "
     ]
    },
    {
     "name": "stderr",
     "output_type": "stream",
     "text": [
      "[I 2019-03-16 07:40:29,865] Finished a trial resulted in value: -0.8940194290320485. Current best value is -0.8983780865627333 with parameters: {'max_leaves': 962, 'min_data_in_leaf': 101, 'learning_rate': 0.008467089868304085, 'bagging_fraction': 0.39421465183790383, 'feature_fraction': 0.742029399864705, 'reg_alpha': 0.1659749229798302, 'reg_lambda': 1.4223979160695897, 'colsample_bytree': 0.7931590791796129, 'min_gain_to_split': 0.06117879704656666, 'min_child_weight': 0.016977338542881623}.\n"
     ]
    },
    {
     "name": "stdout",
     "output_type": "stream",
     "text": [
      "143 "
     ]
    },
    {
     "name": "stderr",
     "output_type": "stream",
     "text": [
      "[I 2019-03-16 07:43:49,345] Finished a trial resulted in value: -0.8934571471375898. Current best value is -0.8983780865627333 with parameters: {'max_leaves': 962, 'min_data_in_leaf': 101, 'learning_rate': 0.008467089868304085, 'bagging_fraction': 0.39421465183790383, 'feature_fraction': 0.742029399864705, 'reg_alpha': 0.1659749229798302, 'reg_lambda': 1.4223979160695897, 'colsample_bytree': 0.7931590791796129, 'min_gain_to_split': 0.06117879704656666, 'min_child_weight': 0.016977338542881623}.\n"
     ]
    },
    {
     "name": "stdout",
     "output_type": "stream",
     "text": [
      "144 "
     ]
    },
    {
     "name": "stderr",
     "output_type": "stream",
     "text": [
      "[I 2019-03-16 07:45:59,374] Finished a trial resulted in value: -0.8734527526330418. Current best value is -0.8983780865627333 with parameters: {'max_leaves': 962, 'min_data_in_leaf': 101, 'learning_rate': 0.008467089868304085, 'bagging_fraction': 0.39421465183790383, 'feature_fraction': 0.742029399864705, 'reg_alpha': 0.1659749229798302, 'reg_lambda': 1.4223979160695897, 'colsample_bytree': 0.7931590791796129, 'min_gain_to_split': 0.06117879704656666, 'min_child_weight': 0.016977338542881623}.\n"
     ]
    },
    {
     "name": "stdout",
     "output_type": "stream",
     "text": [
      "145 "
     ]
    },
    {
     "name": "stderr",
     "output_type": "stream",
     "text": [
      "[I 2019-03-16 07:57:04,271] Finished a trial resulted in value: -0.897768820297081. Current best value is -0.8983780865627333 with parameters: {'max_leaves': 962, 'min_data_in_leaf': 101, 'learning_rate': 0.008467089868304085, 'bagging_fraction': 0.39421465183790383, 'feature_fraction': 0.742029399864705, 'reg_alpha': 0.1659749229798302, 'reg_lambda': 1.4223979160695897, 'colsample_bytree': 0.7931590791796129, 'min_gain_to_split': 0.06117879704656666, 'min_child_weight': 0.016977338542881623}.\n"
     ]
    },
    {
     "name": "stdout",
     "output_type": "stream",
     "text": [
      "146 "
     ]
    },
    {
     "name": "stderr",
     "output_type": "stream",
     "text": [
      "[I 2019-03-16 08:12:23,982] Finished a trial resulted in value: -0.8681725177363208. Current best value is -0.8983780865627333 with parameters: {'max_leaves': 962, 'min_data_in_leaf': 101, 'learning_rate': 0.008467089868304085, 'bagging_fraction': 0.39421465183790383, 'feature_fraction': 0.742029399864705, 'reg_alpha': 0.1659749229798302, 'reg_lambda': 1.4223979160695897, 'colsample_bytree': 0.7931590791796129, 'min_gain_to_split': 0.06117879704656666, 'min_child_weight': 0.016977338542881623}.\n"
     ]
    },
    {
     "name": "stdout",
     "output_type": "stream",
     "text": [
      "147 "
     ]
    },
    {
     "name": "stderr",
     "output_type": "stream",
     "text": [
      "[I 2019-03-16 08:17:22,895] Finished a trial resulted in value: -0.8960351271465841. Current best value is -0.8983780865627333 with parameters: {'max_leaves': 962, 'min_data_in_leaf': 101, 'learning_rate': 0.008467089868304085, 'bagging_fraction': 0.39421465183790383, 'feature_fraction': 0.742029399864705, 'reg_alpha': 0.1659749229798302, 'reg_lambda': 1.4223979160695897, 'colsample_bytree': 0.7931590791796129, 'min_gain_to_split': 0.06117879704656666, 'min_child_weight': 0.016977338542881623}.\n"
     ]
    },
    {
     "name": "stdout",
     "output_type": "stream",
     "text": [
      "148 "
     ]
    },
    {
     "name": "stderr",
     "output_type": "stream",
     "text": [
      "[I 2019-03-16 08:25:12,720] Finished a trial resulted in value: -0.8972231970007257. Current best value is -0.8983780865627333 with parameters: {'max_leaves': 962, 'min_data_in_leaf': 101, 'learning_rate': 0.008467089868304085, 'bagging_fraction': 0.39421465183790383, 'feature_fraction': 0.742029399864705, 'reg_alpha': 0.1659749229798302, 'reg_lambda': 1.4223979160695897, 'colsample_bytree': 0.7931590791796129, 'min_gain_to_split': 0.06117879704656666, 'min_child_weight': 0.016977338542881623}.\n"
     ]
    },
    {
     "name": "stdout",
     "output_type": "stream",
     "text": [
      "149 "
     ]
    },
    {
     "name": "stderr",
     "output_type": "stream",
     "text": [
      "[I 2019-03-16 08:27:58,933] Finished a trial resulted in value: -0.8929270172335697. Current best value is -0.8983780865627333 with parameters: {'max_leaves': 962, 'min_data_in_leaf': 101, 'learning_rate': 0.008467089868304085, 'bagging_fraction': 0.39421465183790383, 'feature_fraction': 0.742029399864705, 'reg_alpha': 0.1659749229798302, 'reg_lambda': 1.4223979160695897, 'colsample_bytree': 0.7931590791796129, 'min_gain_to_split': 0.06117879704656666, 'min_child_weight': 0.016977338542881623}.\n"
     ]
    },
    {
     "name": "stdout",
     "output_type": "stream",
     "text": [
      "150 "
     ]
    },
    {
     "name": "stderr",
     "output_type": "stream",
     "text": [
      "[I 2019-03-16 08:30:11,625] Finished a trial resulted in value: -0.8877334113615372. Current best value is -0.8983780865627333 with parameters: {'max_leaves': 962, 'min_data_in_leaf': 101, 'learning_rate': 0.008467089868304085, 'bagging_fraction': 0.39421465183790383, 'feature_fraction': 0.742029399864705, 'reg_alpha': 0.1659749229798302, 'reg_lambda': 1.4223979160695897, 'colsample_bytree': 0.7931590791796129, 'min_gain_to_split': 0.06117879704656666, 'min_child_weight': 0.016977338542881623}.\n"
     ]
    },
    {
     "name": "stdout",
     "output_type": "stream",
     "text": [
      "151 "
     ]
    },
    {
     "name": "stderr",
     "output_type": "stream",
     "text": [
      "[I 2019-03-16 08:31:46,848] Finished a trial resulted in value: -0.7958626306710509. Current best value is -0.8983780865627333 with parameters: {'max_leaves': 962, 'min_data_in_leaf': 101, 'learning_rate': 0.008467089868304085, 'bagging_fraction': 0.39421465183790383, 'feature_fraction': 0.742029399864705, 'reg_alpha': 0.1659749229798302, 'reg_lambda': 1.4223979160695897, 'colsample_bytree': 0.7931590791796129, 'min_gain_to_split': 0.06117879704656666, 'min_child_weight': 0.016977338542881623}.\n"
     ]
    },
    {
     "name": "stdout",
     "output_type": "stream",
     "text": [
      "152 "
     ]
    },
    {
     "name": "stderr",
     "output_type": "stream",
     "text": [
      "[I 2019-03-16 08:33:39,967] Finished a trial resulted in value: -0.8786652471183934. Current best value is -0.8983780865627333 with parameters: {'max_leaves': 962, 'min_data_in_leaf': 101, 'learning_rate': 0.008467089868304085, 'bagging_fraction': 0.39421465183790383, 'feature_fraction': 0.742029399864705, 'reg_alpha': 0.1659749229798302, 'reg_lambda': 1.4223979160695897, 'colsample_bytree': 0.7931590791796129, 'min_gain_to_split': 0.06117879704656666, 'min_child_weight': 0.016977338542881623}.\n"
     ]
    },
    {
     "name": "stdout",
     "output_type": "stream",
     "text": [
      "153 "
     ]
    },
    {
     "name": "stderr",
     "output_type": "stream",
     "text": [
      "[I 2019-03-16 08:39:08,992] Finished a trial resulted in value: -0.8943986372700329. Current best value is -0.8983780865627333 with parameters: {'max_leaves': 962, 'min_data_in_leaf': 101, 'learning_rate': 0.008467089868304085, 'bagging_fraction': 0.39421465183790383, 'feature_fraction': 0.742029399864705, 'reg_alpha': 0.1659749229798302, 'reg_lambda': 1.4223979160695897, 'colsample_bytree': 0.7931590791796129, 'min_gain_to_split': 0.06117879704656666, 'min_child_weight': 0.016977338542881623}.\n"
     ]
    },
    {
     "name": "stdout",
     "output_type": "stream",
     "text": [
      "154 "
     ]
    },
    {
     "name": "stderr",
     "output_type": "stream",
     "text": [
      "[I 2019-03-16 08:41:12,679] Finished a trial resulted in value: -0.8877722603119711. Current best value is -0.8983780865627333 with parameters: {'max_leaves': 962, 'min_data_in_leaf': 101, 'learning_rate': 0.008467089868304085, 'bagging_fraction': 0.39421465183790383, 'feature_fraction': 0.742029399864705, 'reg_alpha': 0.1659749229798302, 'reg_lambda': 1.4223979160695897, 'colsample_bytree': 0.7931590791796129, 'min_gain_to_split': 0.06117879704656666, 'min_child_weight': 0.016977338542881623}.\n"
     ]
    },
    {
     "name": "stdout",
     "output_type": "stream",
     "text": [
      "155 "
     ]
    },
    {
     "name": "stderr",
     "output_type": "stream",
     "text": [
      "[I 2019-03-16 08:42:58,493] Finished a trial resulted in value: -0.8810889080277771. Current best value is -0.8983780865627333 with parameters: {'max_leaves': 962, 'min_data_in_leaf': 101, 'learning_rate': 0.008467089868304085, 'bagging_fraction': 0.39421465183790383, 'feature_fraction': 0.742029399864705, 'reg_alpha': 0.1659749229798302, 'reg_lambda': 1.4223979160695897, 'colsample_bytree': 0.7931590791796129, 'min_gain_to_split': 0.06117879704656666, 'min_child_weight': 0.016977338542881623}.\n"
     ]
    },
    {
     "name": "stdout",
     "output_type": "stream",
     "text": [
      "156 "
     ]
    },
    {
     "name": "stderr",
     "output_type": "stream",
     "text": [
      "[I 2019-03-16 08:48:27,407] Finished a trial resulted in value: -0.8968905762504131. Current best value is -0.8983780865627333 with parameters: {'max_leaves': 962, 'min_data_in_leaf': 101, 'learning_rate': 0.008467089868304085, 'bagging_fraction': 0.39421465183790383, 'feature_fraction': 0.742029399864705, 'reg_alpha': 0.1659749229798302, 'reg_lambda': 1.4223979160695897, 'colsample_bytree': 0.7931590791796129, 'min_gain_to_split': 0.06117879704656666, 'min_child_weight': 0.016977338542881623}.\n"
     ]
    },
    {
     "name": "stdout",
     "output_type": "stream",
     "text": [
      "157 "
     ]
    },
    {
     "name": "stderr",
     "output_type": "stream",
     "text": [
      "[I 2019-03-16 09:11:23,560] Finished a trial resulted in value: -0.8981068107293263. Current best value is -0.8983780865627333 with parameters: {'max_leaves': 962, 'min_data_in_leaf': 101, 'learning_rate': 0.008467089868304085, 'bagging_fraction': 0.39421465183790383, 'feature_fraction': 0.742029399864705, 'reg_alpha': 0.1659749229798302, 'reg_lambda': 1.4223979160695897, 'colsample_bytree': 0.7931590791796129, 'min_gain_to_split': 0.06117879704656666, 'min_child_weight': 0.016977338542881623}.\n"
     ]
    },
    {
     "name": "stdout",
     "output_type": "stream",
     "text": [
      "158 "
     ]
    },
    {
     "name": "stderr",
     "output_type": "stream",
     "text": [
      "[I 2019-03-16 09:15:58,843] Finished a trial resulted in value: -0.8915426689794985. Current best value is -0.8983780865627333 with parameters: {'max_leaves': 962, 'min_data_in_leaf': 101, 'learning_rate': 0.008467089868304085, 'bagging_fraction': 0.39421465183790383, 'feature_fraction': 0.742029399864705, 'reg_alpha': 0.1659749229798302, 'reg_lambda': 1.4223979160695897, 'colsample_bytree': 0.7931590791796129, 'min_gain_to_split': 0.06117879704656666, 'min_child_weight': 0.016977338542881623}.\n"
     ]
    },
    {
     "name": "stdout",
     "output_type": "stream",
     "text": [
      "159 "
     ]
    },
    {
     "name": "stderr",
     "output_type": "stream",
     "text": [
      "[I 2019-03-16 09:45:32,126] Finished a trial resulted in value: -0.7696033150804933. Current best value is -0.8983780865627333 with parameters: {'max_leaves': 962, 'min_data_in_leaf': 101, 'learning_rate': 0.008467089868304085, 'bagging_fraction': 0.39421465183790383, 'feature_fraction': 0.742029399864705, 'reg_alpha': 0.1659749229798302, 'reg_lambda': 1.4223979160695897, 'colsample_bytree': 0.7931590791796129, 'min_gain_to_split': 0.06117879704656666, 'min_child_weight': 0.016977338542881623}.\n"
     ]
    },
    {
     "name": "stdout",
     "output_type": "stream",
     "text": [
      "160 "
     ]
    },
    {
     "name": "stderr",
     "output_type": "stream",
     "text": [
      "[I 2019-03-16 09:50:02,187] Finished a trial resulted in value: -0.8890715045697435. Current best value is -0.8983780865627333 with parameters: {'max_leaves': 962, 'min_data_in_leaf': 101, 'learning_rate': 0.008467089868304085, 'bagging_fraction': 0.39421465183790383, 'feature_fraction': 0.742029399864705, 'reg_alpha': 0.1659749229798302, 'reg_lambda': 1.4223979160695897, 'colsample_bytree': 0.7931590791796129, 'min_gain_to_split': 0.06117879704656666, 'min_child_weight': 0.016977338542881623}.\n"
     ]
    },
    {
     "name": "stdout",
     "output_type": "stream",
     "text": [
      "161 "
     ]
    },
    {
     "name": "stderr",
     "output_type": "stream",
     "text": [
      "[I 2019-03-16 09:53:44,949] Finished a trial resulted in value: -0.8903982972456761. Current best value is -0.8983780865627333 with parameters: {'max_leaves': 962, 'min_data_in_leaf': 101, 'learning_rate': 0.008467089868304085, 'bagging_fraction': 0.39421465183790383, 'feature_fraction': 0.742029399864705, 'reg_alpha': 0.1659749229798302, 'reg_lambda': 1.4223979160695897, 'colsample_bytree': 0.7931590791796129, 'min_gain_to_split': 0.06117879704656666, 'min_child_weight': 0.016977338542881623}.\n"
     ]
    },
    {
     "name": "stdout",
     "output_type": "stream",
     "text": [
      "162 "
     ]
    },
    {
     "name": "stderr",
     "output_type": "stream",
     "text": [
      "[I 2019-03-16 09:59:24,188] Finished a trial resulted in value: -0.8938242361846083. Current best value is -0.8983780865627333 with parameters: {'max_leaves': 962, 'min_data_in_leaf': 101, 'learning_rate': 0.008467089868304085, 'bagging_fraction': 0.39421465183790383, 'feature_fraction': 0.742029399864705, 'reg_alpha': 0.1659749229798302, 'reg_lambda': 1.4223979160695897, 'colsample_bytree': 0.7931590791796129, 'min_gain_to_split': 0.06117879704656666, 'min_child_weight': 0.016977338542881623}.\n"
     ]
    },
    {
     "name": "stdout",
     "output_type": "stream",
     "text": [
      "163 "
     ]
    },
    {
     "name": "stderr",
     "output_type": "stream",
     "text": [
      "[I 2019-03-16 10:02:52,392] Finished a trial resulted in value: -0.8867974610039647. Current best value is -0.8983780865627333 with parameters: {'max_leaves': 962, 'min_data_in_leaf': 101, 'learning_rate': 0.008467089868304085, 'bagging_fraction': 0.39421465183790383, 'feature_fraction': 0.742029399864705, 'reg_alpha': 0.1659749229798302, 'reg_lambda': 1.4223979160695897, 'colsample_bytree': 0.7931590791796129, 'min_gain_to_split': 0.06117879704656666, 'min_child_weight': 0.016977338542881623}.\n"
     ]
    },
    {
     "name": "stdout",
     "output_type": "stream",
     "text": [
      "164 "
     ]
    },
    {
     "name": "stderr",
     "output_type": "stream",
     "text": [
      "[I 2019-03-16 10:04:59,588] Finished a trial resulted in value: -0.8420484680705946. Current best value is -0.8983780865627333 with parameters: {'max_leaves': 962, 'min_data_in_leaf': 101, 'learning_rate': 0.008467089868304085, 'bagging_fraction': 0.39421465183790383, 'feature_fraction': 0.742029399864705, 'reg_alpha': 0.1659749229798302, 'reg_lambda': 1.4223979160695897, 'colsample_bytree': 0.7931590791796129, 'min_gain_to_split': 0.06117879704656666, 'min_child_weight': 0.016977338542881623}.\n"
     ]
    },
    {
     "name": "stdout",
     "output_type": "stream",
     "text": [
      "165 "
     ]
    },
    {
     "name": "stderr",
     "output_type": "stream",
     "text": [
      "[I 2019-03-16 10:07:47,424] Finished a trial resulted in value: -0.8782812724061145. Current best value is -0.8983780865627333 with parameters: {'max_leaves': 962, 'min_data_in_leaf': 101, 'learning_rate': 0.008467089868304085, 'bagging_fraction': 0.39421465183790383, 'feature_fraction': 0.742029399864705, 'reg_alpha': 0.1659749229798302, 'reg_lambda': 1.4223979160695897, 'colsample_bytree': 0.7931590791796129, 'min_gain_to_split': 0.06117879704656666, 'min_child_weight': 0.016977338542881623}.\n"
     ]
    },
    {
     "name": "stdout",
     "output_type": "stream",
     "text": [
      "166 "
     ]
    },
    {
     "name": "stderr",
     "output_type": "stream",
     "text": [
      "[I 2019-03-16 10:15:01,932] Finished a trial resulted in value: -0.8951432444120385. Current best value is -0.8983780865627333 with parameters: {'max_leaves': 962, 'min_data_in_leaf': 101, 'learning_rate': 0.008467089868304085, 'bagging_fraction': 0.39421465183790383, 'feature_fraction': 0.742029399864705, 'reg_alpha': 0.1659749229798302, 'reg_lambda': 1.4223979160695897, 'colsample_bytree': 0.7931590791796129, 'min_gain_to_split': 0.06117879704656666, 'min_child_weight': 0.016977338542881623}.\n"
     ]
    },
    {
     "name": "stdout",
     "output_type": "stream",
     "text": [
      "167 "
     ]
    },
    {
     "name": "stderr",
     "output_type": "stream",
     "text": [
      "[I 2019-03-16 10:17:18,169] Finished a trial resulted in value: -0.8649746958295477. Current best value is -0.8983780865627333 with parameters: {'max_leaves': 962, 'min_data_in_leaf': 101, 'learning_rate': 0.008467089868304085, 'bagging_fraction': 0.39421465183790383, 'feature_fraction': 0.742029399864705, 'reg_alpha': 0.1659749229798302, 'reg_lambda': 1.4223979160695897, 'colsample_bytree': 0.7931590791796129, 'min_gain_to_split': 0.06117879704656666, 'min_child_weight': 0.016977338542881623}.\n"
     ]
    },
    {
     "name": "stdout",
     "output_type": "stream",
     "text": [
      "168 "
     ]
    },
    {
     "name": "stderr",
     "output_type": "stream",
     "text": [
      "[I 2019-03-16 10:20:35,312] Finished a trial resulted in value: -0.8848819479064043. Current best value is -0.8983780865627333 with parameters: {'max_leaves': 962, 'min_data_in_leaf': 101, 'learning_rate': 0.008467089868304085, 'bagging_fraction': 0.39421465183790383, 'feature_fraction': 0.742029399864705, 'reg_alpha': 0.1659749229798302, 'reg_lambda': 1.4223979160695897, 'colsample_bytree': 0.7931590791796129, 'min_gain_to_split': 0.06117879704656666, 'min_child_weight': 0.016977338542881623}.\n"
     ]
    },
    {
     "name": "stdout",
     "output_type": "stream",
     "text": [
      "169 "
     ]
    },
    {
     "name": "stderr",
     "output_type": "stream",
     "text": [
      "[I 2019-03-16 10:26:15,606] Finished a trial resulted in value: -0.8927259104067959. Current best value is -0.8983780865627333 with parameters: {'max_leaves': 962, 'min_data_in_leaf': 101, 'learning_rate': 0.008467089868304085, 'bagging_fraction': 0.39421465183790383, 'feature_fraction': 0.742029399864705, 'reg_alpha': 0.1659749229798302, 'reg_lambda': 1.4223979160695897, 'colsample_bytree': 0.7931590791796129, 'min_gain_to_split': 0.06117879704656666, 'min_child_weight': 0.016977338542881623}.\n"
     ]
    },
    {
     "name": "stdout",
     "output_type": "stream",
     "text": [
      "170 "
     ]
    },
    {
     "name": "stderr",
     "output_type": "stream",
     "text": [
      "[I 2019-03-16 10:28:17,228] Finished a trial resulted in value: -0.8828686551549263. Current best value is -0.8983780865627333 with parameters: {'max_leaves': 962, 'min_data_in_leaf': 101, 'learning_rate': 0.008467089868304085, 'bagging_fraction': 0.39421465183790383, 'feature_fraction': 0.742029399864705, 'reg_alpha': 0.1659749229798302, 'reg_lambda': 1.4223979160695897, 'colsample_bytree': 0.7931590791796129, 'min_gain_to_split': 0.06117879704656666, 'min_child_weight': 0.016977338542881623}.\n"
     ]
    },
    {
     "name": "stdout",
     "output_type": "stream",
     "text": [
      "171 "
     ]
    },
    {
     "name": "stderr",
     "output_type": "stream",
     "text": [
      "[I 2019-03-16 10:31:06,112] Finished a trial resulted in value: -0.8783193616080929. Current best value is -0.8983780865627333 with parameters: {'max_leaves': 962, 'min_data_in_leaf': 101, 'learning_rate': 0.008467089868304085, 'bagging_fraction': 0.39421465183790383, 'feature_fraction': 0.742029399864705, 'reg_alpha': 0.1659749229798302, 'reg_lambda': 1.4223979160695897, 'colsample_bytree': 0.7931590791796129, 'min_gain_to_split': 0.06117879704656666, 'min_child_weight': 0.016977338542881623}.\n"
     ]
    },
    {
     "name": "stdout",
     "output_type": "stream",
     "text": [
      "172 "
     ]
    },
    {
     "name": "stderr",
     "output_type": "stream",
     "text": [
      "[I 2019-03-16 10:36:59,881] Finished a trial resulted in value: -0.8945389686455258. Current best value is -0.8983780865627333 with parameters: {'max_leaves': 962, 'min_data_in_leaf': 101, 'learning_rate': 0.008467089868304085, 'bagging_fraction': 0.39421465183790383, 'feature_fraction': 0.742029399864705, 'reg_alpha': 0.1659749229798302, 'reg_lambda': 1.4223979160695897, 'colsample_bytree': 0.7931590791796129, 'min_gain_to_split': 0.06117879704656666, 'min_child_weight': 0.016977338542881623}.\n"
     ]
    },
    {
     "name": "stdout",
     "output_type": "stream",
     "text": [
      "173 "
     ]
    },
    {
     "name": "stderr",
     "output_type": "stream",
     "text": [
      "[I 2019-03-16 10:39:57,115] Finished a trial resulted in value: -0.8660957106224015. Current best value is -0.8983780865627333 with parameters: {'max_leaves': 962, 'min_data_in_leaf': 101, 'learning_rate': 0.008467089868304085, 'bagging_fraction': 0.39421465183790383, 'feature_fraction': 0.742029399864705, 'reg_alpha': 0.1659749229798302, 'reg_lambda': 1.4223979160695897, 'colsample_bytree': 0.7931590791796129, 'min_gain_to_split': 0.06117879704656666, 'min_child_weight': 0.016977338542881623}.\n"
     ]
    },
    {
     "name": "stdout",
     "output_type": "stream",
     "text": [
      "174 "
     ]
    },
    {
     "name": "stderr",
     "output_type": "stream",
     "text": [
      "[I 2019-03-16 10:45:21,916] Finished a trial resulted in value: -0.8943956782060617. Current best value is -0.8983780865627333 with parameters: {'max_leaves': 962, 'min_data_in_leaf': 101, 'learning_rate': 0.008467089868304085, 'bagging_fraction': 0.39421465183790383, 'feature_fraction': 0.742029399864705, 'reg_alpha': 0.1659749229798302, 'reg_lambda': 1.4223979160695897, 'colsample_bytree': 0.7931590791796129, 'min_gain_to_split': 0.06117879704656666, 'min_child_weight': 0.016977338542881623}.\n"
     ]
    },
    {
     "name": "stdout",
     "output_type": "stream",
     "text": [
      "175 "
     ]
    },
    {
     "name": "stderr",
     "output_type": "stream",
     "text": [
      "[I 2019-03-16 10:47:41,552] Finished a trial resulted in value: -0.8807291600813272. Current best value is -0.8983780865627333 with parameters: {'max_leaves': 962, 'min_data_in_leaf': 101, 'learning_rate': 0.008467089868304085, 'bagging_fraction': 0.39421465183790383, 'feature_fraction': 0.742029399864705, 'reg_alpha': 0.1659749229798302, 'reg_lambda': 1.4223979160695897, 'colsample_bytree': 0.7931590791796129, 'min_gain_to_split': 0.06117879704656666, 'min_child_weight': 0.016977338542881623}.\n"
     ]
    },
    {
     "name": "stdout",
     "output_type": "stream",
     "text": [
      "176 "
     ]
    },
    {
     "name": "stderr",
     "output_type": "stream",
     "text": [
      "[I 2019-03-16 10:49:43,189] Finished a trial resulted in value: -0.8719599381867993. Current best value is -0.8983780865627333 with parameters: {'max_leaves': 962, 'min_data_in_leaf': 101, 'learning_rate': 0.008467089868304085, 'bagging_fraction': 0.39421465183790383, 'feature_fraction': 0.742029399864705, 'reg_alpha': 0.1659749229798302, 'reg_lambda': 1.4223979160695897, 'colsample_bytree': 0.7931590791796129, 'min_gain_to_split': 0.06117879704656666, 'min_child_weight': 0.016977338542881623}.\n"
     ]
    },
    {
     "name": "stdout",
     "output_type": "stream",
     "text": [
      "177 "
     ]
    },
    {
     "name": "stderr",
     "output_type": "stream",
     "text": [
      "[I 2019-03-16 10:52:05,008] Finished a trial resulted in value: -0.8811104954490437. Current best value is -0.8983780865627333 with parameters: {'max_leaves': 962, 'min_data_in_leaf': 101, 'learning_rate': 0.008467089868304085, 'bagging_fraction': 0.39421465183790383, 'feature_fraction': 0.742029399864705, 'reg_alpha': 0.1659749229798302, 'reg_lambda': 1.4223979160695897, 'colsample_bytree': 0.7931590791796129, 'min_gain_to_split': 0.06117879704656666, 'min_child_weight': 0.016977338542881623}.\n"
     ]
    },
    {
     "name": "stdout",
     "output_type": "stream",
     "text": [
      "178 "
     ]
    },
    {
     "name": "stderr",
     "output_type": "stream",
     "text": [
      "[I 2019-03-16 10:53:33,171] Finished a trial resulted in value: -0.8143926145086593. Current best value is -0.8983780865627333 with parameters: {'max_leaves': 962, 'min_data_in_leaf': 101, 'learning_rate': 0.008467089868304085, 'bagging_fraction': 0.39421465183790383, 'feature_fraction': 0.742029399864705, 'reg_alpha': 0.1659749229798302, 'reg_lambda': 1.4223979160695897, 'colsample_bytree': 0.7931590791796129, 'min_gain_to_split': 0.06117879704656666, 'min_child_weight': 0.016977338542881623}.\n"
     ]
    },
    {
     "name": "stdout",
     "output_type": "stream",
     "text": [
      "179 "
     ]
    },
    {
     "name": "stderr",
     "output_type": "stream",
     "text": [
      "[I 2019-03-16 11:26:09,893] Finished a trial resulted in value: -0.8864730691563846. Current best value is -0.8983780865627333 with parameters: {'max_leaves': 962, 'min_data_in_leaf': 101, 'learning_rate': 0.008467089868304085, 'bagging_fraction': 0.39421465183790383, 'feature_fraction': 0.742029399864705, 'reg_alpha': 0.1659749229798302, 'reg_lambda': 1.4223979160695897, 'colsample_bytree': 0.7931590791796129, 'min_gain_to_split': 0.06117879704656666, 'min_child_weight': 0.016977338542881623}.\n"
     ]
    },
    {
     "name": "stdout",
     "output_type": "stream",
     "text": [
      "180 "
     ]
    },
    {
     "name": "stderr",
     "output_type": "stream",
     "text": [
      "[I 2019-03-16 11:29:14,588] Finished a trial resulted in value: -0.8838245326607475. Current best value is -0.8983780865627333 with parameters: {'max_leaves': 962, 'min_data_in_leaf': 101, 'learning_rate': 0.008467089868304085, 'bagging_fraction': 0.39421465183790383, 'feature_fraction': 0.742029399864705, 'reg_alpha': 0.1659749229798302, 'reg_lambda': 1.4223979160695897, 'colsample_bytree': 0.7931590791796129, 'min_gain_to_split': 0.06117879704656666, 'min_child_weight': 0.016977338542881623}.\n"
     ]
    },
    {
     "name": "stdout",
     "output_type": "stream",
     "text": [
      "181 "
     ]
    },
    {
     "name": "stderr",
     "output_type": "stream",
     "text": [
      "[I 2019-03-16 11:30:57,806] Finished a trial resulted in value: -0.8676069429532149. Current best value is -0.8983780865627333 with parameters: {'max_leaves': 962, 'min_data_in_leaf': 101, 'learning_rate': 0.008467089868304085, 'bagging_fraction': 0.39421465183790383, 'feature_fraction': 0.742029399864705, 'reg_alpha': 0.1659749229798302, 'reg_lambda': 1.4223979160695897, 'colsample_bytree': 0.7931590791796129, 'min_gain_to_split': 0.06117879704656666, 'min_child_weight': 0.016977338542881623}.\n"
     ]
    },
    {
     "name": "stdout",
     "output_type": "stream",
     "text": [
      "182 "
     ]
    },
    {
     "name": "stderr",
     "output_type": "stream",
     "text": [
      "[I 2019-03-16 11:43:59,599] Finished a trial resulted in value: -0.8957699127063904. Current best value is -0.8983780865627333 with parameters: {'max_leaves': 962, 'min_data_in_leaf': 101, 'learning_rate': 0.008467089868304085, 'bagging_fraction': 0.39421465183790383, 'feature_fraction': 0.742029399864705, 'reg_alpha': 0.1659749229798302, 'reg_lambda': 1.4223979160695897, 'colsample_bytree': 0.7931590791796129, 'min_gain_to_split': 0.06117879704656666, 'min_child_weight': 0.016977338542881623}.\n"
     ]
    },
    {
     "name": "stdout",
     "output_type": "stream",
     "text": [
      "183 "
     ]
    },
    {
     "name": "stderr",
     "output_type": "stream",
     "text": [
      "[I 2019-03-16 11:45:51,566] Finished a trial resulted in value: -0.8384425005536373. Current best value is -0.8983780865627333 with parameters: {'max_leaves': 962, 'min_data_in_leaf': 101, 'learning_rate': 0.008467089868304085, 'bagging_fraction': 0.39421465183790383, 'feature_fraction': 0.742029399864705, 'reg_alpha': 0.1659749229798302, 'reg_lambda': 1.4223979160695897, 'colsample_bytree': 0.7931590791796129, 'min_gain_to_split': 0.06117879704656666, 'min_child_weight': 0.016977338542881623}.\n"
     ]
    },
    {
     "name": "stdout",
     "output_type": "stream",
     "text": [
      "184 "
     ]
    },
    {
     "name": "stderr",
     "output_type": "stream",
     "text": [
      "[I 2019-03-16 11:50:47,049] Finished a trial resulted in value: -0.8916273063956576. Current best value is -0.8983780865627333 with parameters: {'max_leaves': 962, 'min_data_in_leaf': 101, 'learning_rate': 0.008467089868304085, 'bagging_fraction': 0.39421465183790383, 'feature_fraction': 0.742029399864705, 'reg_alpha': 0.1659749229798302, 'reg_lambda': 1.4223979160695897, 'colsample_bytree': 0.7931590791796129, 'min_gain_to_split': 0.06117879704656666, 'min_child_weight': 0.016977338542881623}.\n"
     ]
    },
    {
     "name": "stdout",
     "output_type": "stream",
     "text": [
      "185 "
     ]
    },
    {
     "name": "stderr",
     "output_type": "stream",
     "text": [
      "[I 2019-03-16 11:52:04,140] Finished a trial resulted in value: -0.8370234973154893. Current best value is -0.8983780865627333 with parameters: {'max_leaves': 962, 'min_data_in_leaf': 101, 'learning_rate': 0.008467089868304085, 'bagging_fraction': 0.39421465183790383, 'feature_fraction': 0.742029399864705, 'reg_alpha': 0.1659749229798302, 'reg_lambda': 1.4223979160695897, 'colsample_bytree': 0.7931590791796129, 'min_gain_to_split': 0.06117879704656666, 'min_child_weight': 0.016977338542881623}.\n"
     ]
    },
    {
     "name": "stdout",
     "output_type": "stream",
     "text": [
      "186 "
     ]
    },
    {
     "name": "stderr",
     "output_type": "stream",
     "text": [
      "[I 2019-03-16 11:53:29,336] Finished a trial resulted in value: -0.8708119046147701. Current best value is -0.8983780865627333 with parameters: {'max_leaves': 962, 'min_data_in_leaf': 101, 'learning_rate': 0.008467089868304085, 'bagging_fraction': 0.39421465183790383, 'feature_fraction': 0.742029399864705, 'reg_alpha': 0.1659749229798302, 'reg_lambda': 1.4223979160695897, 'colsample_bytree': 0.7931590791796129, 'min_gain_to_split': 0.06117879704656666, 'min_child_weight': 0.016977338542881623}.\n"
     ]
    },
    {
     "name": "stdout",
     "output_type": "stream",
     "text": [
      "187 "
     ]
    },
    {
     "name": "stderr",
     "output_type": "stream",
     "text": [
      "[I 2019-03-16 11:56:05,370] Finished a trial resulted in value: -0.865730534360356. Current best value is -0.8983780865627333 with parameters: {'max_leaves': 962, 'min_data_in_leaf': 101, 'learning_rate': 0.008467089868304085, 'bagging_fraction': 0.39421465183790383, 'feature_fraction': 0.742029399864705, 'reg_alpha': 0.1659749229798302, 'reg_lambda': 1.4223979160695897, 'colsample_bytree': 0.7931590791796129, 'min_gain_to_split': 0.06117879704656666, 'min_child_weight': 0.016977338542881623}.\n"
     ]
    },
    {
     "name": "stdout",
     "output_type": "stream",
     "text": [
      "188 "
     ]
    },
    {
     "name": "stderr",
     "output_type": "stream",
     "text": [
      "[I 2019-03-16 12:04:38,301] Finished a trial resulted in value: -0.8932027019312411. Current best value is -0.8983780865627333 with parameters: {'max_leaves': 962, 'min_data_in_leaf': 101, 'learning_rate': 0.008467089868304085, 'bagging_fraction': 0.39421465183790383, 'feature_fraction': 0.742029399864705, 'reg_alpha': 0.1659749229798302, 'reg_lambda': 1.4223979160695897, 'colsample_bytree': 0.7931590791796129, 'min_gain_to_split': 0.06117879704656666, 'min_child_weight': 0.016977338542881623}.\n"
     ]
    },
    {
     "name": "stdout",
     "output_type": "stream",
     "text": [
      "189 "
     ]
    },
    {
     "name": "stderr",
     "output_type": "stream",
     "text": [
      "[I 2019-03-16 12:07:58,901] Finished a trial resulted in value: -0.8851157291716809. Current best value is -0.8983780865627333 with parameters: {'max_leaves': 962, 'min_data_in_leaf': 101, 'learning_rate': 0.008467089868304085, 'bagging_fraction': 0.39421465183790383, 'feature_fraction': 0.742029399864705, 'reg_alpha': 0.1659749229798302, 'reg_lambda': 1.4223979160695897, 'colsample_bytree': 0.7931590791796129, 'min_gain_to_split': 0.06117879704656666, 'min_child_weight': 0.016977338542881623}.\n"
     ]
    },
    {
     "name": "stdout",
     "output_type": "stream",
     "text": [
      "190 "
     ]
    },
    {
     "name": "stderr",
     "output_type": "stream",
     "text": [
      "[I 2019-03-16 12:41:54,328] Finished a trial resulted in value: -0.8970801186934296. Current best value is -0.8983780865627333 with parameters: {'max_leaves': 962, 'min_data_in_leaf': 101, 'learning_rate': 0.008467089868304085, 'bagging_fraction': 0.39421465183790383, 'feature_fraction': 0.742029399864705, 'reg_alpha': 0.1659749229798302, 'reg_lambda': 1.4223979160695897, 'colsample_bytree': 0.7931590791796129, 'min_gain_to_split': 0.06117879704656666, 'min_child_weight': 0.016977338542881623}.\n"
     ]
    },
    {
     "name": "stdout",
     "output_type": "stream",
     "text": [
      "191 "
     ]
    },
    {
     "name": "stderr",
     "output_type": "stream",
     "text": [
      "[I 2019-03-16 12:44:15,176] Finished a trial resulted in value: -0.8871436532347016. Current best value is -0.8983780865627333 with parameters: {'max_leaves': 962, 'min_data_in_leaf': 101, 'learning_rate': 0.008467089868304085, 'bagging_fraction': 0.39421465183790383, 'feature_fraction': 0.742029399864705, 'reg_alpha': 0.1659749229798302, 'reg_lambda': 1.4223979160695897, 'colsample_bytree': 0.7931590791796129, 'min_gain_to_split': 0.06117879704656666, 'min_child_weight': 0.016977338542881623}.\n"
     ]
    },
    {
     "name": "stdout",
     "output_type": "stream",
     "text": [
      "192 "
     ]
    },
    {
     "name": "stderr",
     "output_type": "stream",
     "text": [
      "[I 2019-03-16 12:45:47,423] Finished a trial resulted in value: -0.8291444099319942. Current best value is -0.8983780865627333 with parameters: {'max_leaves': 962, 'min_data_in_leaf': 101, 'learning_rate': 0.008467089868304085, 'bagging_fraction': 0.39421465183790383, 'feature_fraction': 0.742029399864705, 'reg_alpha': 0.1659749229798302, 'reg_lambda': 1.4223979160695897, 'colsample_bytree': 0.7931590791796129, 'min_gain_to_split': 0.06117879704656666, 'min_child_weight': 0.016977338542881623}.\n"
     ]
    },
    {
     "name": "stdout",
     "output_type": "stream",
     "text": [
      "193 "
     ]
    },
    {
     "name": "stderr",
     "output_type": "stream",
     "text": [
      "[I 2019-03-16 12:49:18,726] Finished a trial resulted in value: -0.8866024990957168. Current best value is -0.8983780865627333 with parameters: {'max_leaves': 962, 'min_data_in_leaf': 101, 'learning_rate': 0.008467089868304085, 'bagging_fraction': 0.39421465183790383, 'feature_fraction': 0.742029399864705, 'reg_alpha': 0.1659749229798302, 'reg_lambda': 1.4223979160695897, 'colsample_bytree': 0.7931590791796129, 'min_gain_to_split': 0.06117879704656666, 'min_child_weight': 0.016977338542881623}.\n"
     ]
    },
    {
     "name": "stdout",
     "output_type": "stream",
     "text": [
      "194 "
     ]
    },
    {
     "name": "stderr",
     "output_type": "stream",
     "text": [
      "[I 2019-03-16 12:50:53,126] Finished a trial resulted in value: -0.8744618495916684. Current best value is -0.8983780865627333 with parameters: {'max_leaves': 962, 'min_data_in_leaf': 101, 'learning_rate': 0.008467089868304085, 'bagging_fraction': 0.39421465183790383, 'feature_fraction': 0.742029399864705, 'reg_alpha': 0.1659749229798302, 'reg_lambda': 1.4223979160695897, 'colsample_bytree': 0.7931590791796129, 'min_gain_to_split': 0.06117879704656666, 'min_child_weight': 0.016977338542881623}.\n"
     ]
    },
    {
     "name": "stdout",
     "output_type": "stream",
     "text": [
      "195 "
     ]
    },
    {
     "name": "stderr",
     "output_type": "stream",
     "text": [
      "[I 2019-03-16 12:54:47,360] Finished a trial resulted in value: -0.8928117268574168. Current best value is -0.8983780865627333 with parameters: {'max_leaves': 962, 'min_data_in_leaf': 101, 'learning_rate': 0.008467089868304085, 'bagging_fraction': 0.39421465183790383, 'feature_fraction': 0.742029399864705, 'reg_alpha': 0.1659749229798302, 'reg_lambda': 1.4223979160695897, 'colsample_bytree': 0.7931590791796129, 'min_gain_to_split': 0.06117879704656666, 'min_child_weight': 0.016977338542881623}.\n"
     ]
    },
    {
     "name": "stdout",
     "output_type": "stream",
     "text": [
      "196 "
     ]
    },
    {
     "name": "stderr",
     "output_type": "stream",
     "text": [
      "[I 2019-03-16 13:04:53,813] Finished a trial resulted in value: -0.8764686951293665. Current best value is -0.8983780865627333 with parameters: {'max_leaves': 962, 'min_data_in_leaf': 101, 'learning_rate': 0.008467089868304085, 'bagging_fraction': 0.39421465183790383, 'feature_fraction': 0.742029399864705, 'reg_alpha': 0.1659749229798302, 'reg_lambda': 1.4223979160695897, 'colsample_bytree': 0.7931590791796129, 'min_gain_to_split': 0.06117879704656666, 'min_child_weight': 0.016977338542881623}.\n"
     ]
    },
    {
     "name": "stdout",
     "output_type": "stream",
     "text": [
      "197 "
     ]
    },
    {
     "name": "stderr",
     "output_type": "stream",
     "text": [
      "[I 2019-03-16 13:06:14,248] Finished a trial resulted in value: -0.831818685776025. Current best value is -0.8983780865627333 with parameters: {'max_leaves': 962, 'min_data_in_leaf': 101, 'learning_rate': 0.008467089868304085, 'bagging_fraction': 0.39421465183790383, 'feature_fraction': 0.742029399864705, 'reg_alpha': 0.1659749229798302, 'reg_lambda': 1.4223979160695897, 'colsample_bytree': 0.7931590791796129, 'min_gain_to_split': 0.06117879704656666, 'min_child_weight': 0.016977338542881623}.\n"
     ]
    },
    {
     "name": "stdout",
     "output_type": "stream",
     "text": [
      "198 "
     ]
    },
    {
     "name": "stderr",
     "output_type": "stream",
     "text": [
      "[I 2019-03-16 13:09:33,691] Finished a trial resulted in value: -0.889324792867541. Current best value is -0.8983780865627333 with parameters: {'max_leaves': 962, 'min_data_in_leaf': 101, 'learning_rate': 0.008467089868304085, 'bagging_fraction': 0.39421465183790383, 'feature_fraction': 0.742029399864705, 'reg_alpha': 0.1659749229798302, 'reg_lambda': 1.4223979160695897, 'colsample_bytree': 0.7931590791796129, 'min_gain_to_split': 0.06117879704656666, 'min_child_weight': 0.016977338542881623}.\n"
     ]
    },
    {
     "name": "stdout",
     "output_type": "stream",
     "text": [
      "199 "
     ]
    },
    {
     "name": "stderr",
     "output_type": "stream",
     "text": [
      "[I 2019-03-16 13:14:33,630] Finished a trial resulted in value: -0.8962706447426962. Current best value is -0.8983780865627333 with parameters: {'max_leaves': 962, 'min_data_in_leaf': 101, 'learning_rate': 0.008467089868304085, 'bagging_fraction': 0.39421465183790383, 'feature_fraction': 0.742029399864705, 'reg_alpha': 0.1659749229798302, 'reg_lambda': 1.4223979160695897, 'colsample_bytree': 0.7931590791796129, 'min_gain_to_split': 0.06117879704656666, 'min_child_weight': 0.016977338542881623}.\n"
     ]
    },
    {
     "name": "stdout",
     "output_type": "stream",
     "text": [
      "200 "
     ]
    },
    {
     "name": "stderr",
     "output_type": "stream",
     "text": [
      "[I 2019-03-16 13:16:52,744] Finished a trial resulted in value: -0.8565362739994622. Current best value is -0.8983780865627333 with parameters: {'max_leaves': 962, 'min_data_in_leaf': 101, 'learning_rate': 0.008467089868304085, 'bagging_fraction': 0.39421465183790383, 'feature_fraction': 0.742029399864705, 'reg_alpha': 0.1659749229798302, 'reg_lambda': 1.4223979160695897, 'colsample_bytree': 0.7931590791796129, 'min_gain_to_split': 0.06117879704656666, 'min_child_weight': 0.016977338542881623}.\n"
     ]
    },
    {
     "name": "stdout",
     "output_type": "stream",
     "text": [
      "201 "
     ]
    }
   ],
   "source": [
    "f = partial(objective_optuna, train, y)\n",
    "study = optuna.create_study()\n",
    "study.optimize(f, n_trials=10000)"
   ]
  },
  {
   "cell_type": "markdown",
   "metadata": {},
   "source": [
    "### keras "
   ]
  },
  {
   "cell_type": "code",
   "execution_count": 81,
   "metadata": {},
   "outputs": [],
   "source": [
    "model = Sequential([\n",
    "    Dense(32, input_dim=train.shape[1],name = \"lay1\"),\n",
    "    Activation('relu'),\n",
    "    Dense(1,name=\"lay2\"),\n",
    "    Activation('softmax'),\n",
    "])\n",
    "\n",
    "model.compile(loss='categorical_crossentropy', optimizer='sgd')#, metrics=['auc'])"
   ]
  },
  {
   "cell_type": "code",
   "execution_count": 82,
   "metadata": {},
   "outputs": [
    {
     "ename": "ValueError",
     "evalue": "You are passing a target array of shape (200000, 1) while using as loss `categorical_crossentropy`. `categorical_crossentropy` expects targets to be binary matrices (1s and 0s) of shape (samples, classes). If your targets are integer classes, you can convert them to the expected format via:\n```\nfrom keras.utils import to_categorical\ny_binary = to_categorical(y_int)\n```\n\nAlternatively, you can use the loss function `sparse_categorical_crossentropy` instead, which does expect integer targets.",
     "output_type": "error",
     "traceback": [
      "\u001b[0;31m---------------------------------------------------------------------------\u001b[0m",
      "\u001b[0;31mValueError\u001b[0m                                Traceback (most recent call last)",
      "\u001b[0;32m<ipython-input-82-106a3f514a36>\u001b[0m in \u001b[0;36m<module>\u001b[0;34m\u001b[0m\n\u001b[1;32m      1\u001b[0m \u001b[0;31m# 学習処理の実行\u001b[0m\u001b[0;34m\u001b[0m\u001b[0;34m\u001b[0m\u001b[0m\n\u001b[0;32m----> 2\u001b[0;31m \u001b[0mmodel\u001b[0m\u001b[0;34m.\u001b[0m\u001b[0mfit\u001b[0m\u001b[0;34m(\u001b[0m\u001b[0mtrain\u001b[0m\u001b[0;34m,\u001b[0m \u001b[0my\u001b[0m\u001b[0;34m,\u001b[0m \u001b[0mbatch_size\u001b[0m\u001b[0;34m=\u001b[0m\u001b[0;36m200\u001b[0m\u001b[0;34m,\u001b[0m \u001b[0mverbose\u001b[0m\u001b[0;34m=\u001b[0m\u001b[0;32mTrue\u001b[0m\u001b[0;34m,\u001b[0m \u001b[0mepochs\u001b[0m\u001b[0;34m=\u001b[0m\u001b[0;36m2\u001b[0m\u001b[0;34m,\u001b[0m \u001b[0mvalidation_split\u001b[0m\u001b[0;34m=\u001b[0m\u001b[0;36m0.1\u001b[0m\u001b[0;34m)\u001b[0m\u001b[0;34m\u001b[0m\u001b[0m\n\u001b[0m",
      "\u001b[0;32m~/.pyenv/versions/anaconda3-5.3.1/envs/kaggle_standard/lib/python3.6/site-packages/keras/engine/training.py\u001b[0m in \u001b[0;36mfit\u001b[0;34m(self, x, y, batch_size, epochs, verbose, callbacks, validation_split, validation_data, shuffle, class_weight, sample_weight, initial_epoch, steps_per_epoch, validation_steps, **kwargs)\u001b[0m\n\u001b[1;32m    950\u001b[0m             \u001b[0msample_weight\u001b[0m\u001b[0;34m=\u001b[0m\u001b[0msample_weight\u001b[0m\u001b[0;34m,\u001b[0m\u001b[0;34m\u001b[0m\u001b[0m\n\u001b[1;32m    951\u001b[0m             \u001b[0mclass_weight\u001b[0m\u001b[0;34m=\u001b[0m\u001b[0mclass_weight\u001b[0m\u001b[0;34m,\u001b[0m\u001b[0;34m\u001b[0m\u001b[0m\n\u001b[0;32m--> 952\u001b[0;31m             batch_size=batch_size)\n\u001b[0m\u001b[1;32m    953\u001b[0m         \u001b[0;31m# Prepare validation data.\u001b[0m\u001b[0;34m\u001b[0m\u001b[0;34m\u001b[0m\u001b[0m\n\u001b[1;32m    954\u001b[0m         \u001b[0mdo_validation\u001b[0m \u001b[0;34m=\u001b[0m \u001b[0;32mFalse\u001b[0m\u001b[0;34m\u001b[0m\u001b[0m\n",
      "\u001b[0;32m~/.pyenv/versions/anaconda3-5.3.1/envs/kaggle_standard/lib/python3.6/site-packages/keras/engine/training.py\u001b[0m in \u001b[0;36m_standardize_user_data\u001b[0;34m(self, x, y, sample_weight, class_weight, check_array_lengths, batch_size)\u001b[0m\n\u001b[1;32m    807\u001b[0m                 \u001b[0;31m# using improper loss fns.\u001b[0m\u001b[0;34m\u001b[0m\u001b[0;34m\u001b[0m\u001b[0m\n\u001b[1;32m    808\u001b[0m                 check_loss_and_target_compatibility(\n\u001b[0;32m--> 809\u001b[0;31m                     y, self._feed_loss_fns, feed_output_shapes)\n\u001b[0m\u001b[1;32m    810\u001b[0m         \u001b[0;32melse\u001b[0m\u001b[0;34m:\u001b[0m\u001b[0;34m\u001b[0m\u001b[0m\n\u001b[1;32m    811\u001b[0m             \u001b[0my\u001b[0m \u001b[0;34m=\u001b[0m \u001b[0;34m[\u001b[0m\u001b[0;34m]\u001b[0m\u001b[0;34m\u001b[0m\u001b[0m\n",
      "\u001b[0;32m~/.pyenv/versions/anaconda3-5.3.1/envs/kaggle_standard/lib/python3.6/site-packages/keras/engine/training_utils.py\u001b[0m in \u001b[0;36mcheck_loss_and_target_compatibility\u001b[0;34m(targets, loss_fns, output_shapes)\u001b[0m\n\u001b[1;32m    271\u001b[0m                 raise ValueError(\n\u001b[1;32m    272\u001b[0m                     \u001b[0;34m'You are passing a target array of shape '\u001b[0m \u001b[0;34m+\u001b[0m \u001b[0mstr\u001b[0m\u001b[0;34m(\u001b[0m\u001b[0my\u001b[0m\u001b[0;34m.\u001b[0m\u001b[0mshape\u001b[0m\u001b[0;34m)\u001b[0m \u001b[0;34m+\u001b[0m\u001b[0;34m\u001b[0m\u001b[0m\n\u001b[0;32m--> 273\u001b[0;31m                     \u001b[0;34m' while using as loss `categorical_crossentropy`. '\u001b[0m\u001b[0;34m\u001b[0m\u001b[0m\n\u001b[0m\u001b[1;32m    274\u001b[0m                     \u001b[0;34m'`categorical_crossentropy` expects '\u001b[0m\u001b[0;34m\u001b[0m\u001b[0m\n\u001b[1;32m    275\u001b[0m                     \u001b[0;34m'targets to be binary matrices (1s and 0s) '\u001b[0m\u001b[0;34m\u001b[0m\u001b[0m\n",
      "\u001b[0;31mValueError\u001b[0m: You are passing a target array of shape (200000, 1) while using as loss `categorical_crossentropy`. `categorical_crossentropy` expects targets to be binary matrices (1s and 0s) of shape (samples, classes). If your targets are integer classes, you can convert them to the expected format via:\n```\nfrom keras.utils import to_categorical\ny_binary = to_categorical(y_int)\n```\n\nAlternatively, you can use the loss function `sparse_categorical_crossentropy` instead, which does expect integer targets."
     ]
    }
   ],
   "source": [
    "# 学習処理の実行\n",
    "model.fit(train, y, batch_size=200, verbose=True, epochs=20, validation_split=0.1)"
   ]
  },
  {
   "cell_type": "code",
   "execution_count": 67,
   "metadata": {},
   "outputs": [
    {
     "name": "stdout",
     "output_type": "stream",
     "text": [
      "200000/200000 [==============================] - ETA: 58 - ETA: 7 - ETA:  - ETA:  - ETA:  - ETA:  - ETA:  - ETA:  - ETA:  - ETA:  - ETA:  - ETA:  - ETA:  - ETA:  - ETA:  - ETA:  - ETA:  - ETA:  - ETA:  - ETA:  - ETA:  - ETA:  - ETA:  - ETA:  - ETA:  - ETA:  - ETA:  - ETA:  - ETA:  - ETA:  - ETA:  - ETA:  - ETA:  - ETA:  - ETA:  - ETA:  - ETA:  - ETA:  - ETA:  - ETA:  - ETA:  - ETA:  - ETA:  - ETA:  - ETA:  - ETA:  - ETA:  - ETA:  - ETA:  - ETA:  - ETA:  - ETA:  - ETA:  - ETA:  - ETA:  - ETA:  - ETA:  - ETA:  - ETA:  - ETA:  - ETA:  - ETA:  - ETA:  - ETA:  - ETA:  - ETA:  - ETA:  - ETA:  - ETA:  - ETA:  - ETA:  - ETA:  - ETA:  - ETA:  - ETA:  - ETA:  - ETA:  - ETA:  - ETA:  - ETA:  - ETA:  - ETA:  - ETA:  - ETA:  - ETA:  - ETA:  - ETA:  - ETA:  - ETA:  - ETA:  - ETA:  - ETA:  - ETA:  - ETA:  - ETA:  - ETA:  - ETA:  - ETA:  - ETA:  - ETA:  - ETA:  - ETA:  - ETA:  - ETA:  - ETA:  - ETA:  - ETA:  - ETA:  - ETA:  - ETA:  - ETA:  - ETA:  - ETA:  - ETA:  - ETA:  - ETA:  - ETA:  - ETA:  - ETA:  - ETA:  - ETA:  - ETA:  - ETA:  - ETA:  - ETA:  - ETA:  - ETA:  - ETA:  - ETA:  - ETA:  - ETA:  - ETA:  - ETA:  - ETA:  - ETA:  - ETA:  - ETA:  - 7s 35us/step\n"
     ]
    }
   ],
   "source": [
    "scr = model.evaluate(train,y)"
   ]
  },
  {
   "cell_type": "code",
   "execution_count": 68,
   "metadata": {},
   "outputs": [
    {
     "data": {
      "text/plain": [
       "14.340334671020507"
      ]
     },
     "execution_count": 68,
     "metadata": {},
     "output_type": "execute_result"
    }
   ],
   "source": [
    "scr\n"
   ]
  },
  {
   "cell_type": "code",
   "execution_count": 84,
   "metadata": {},
   "outputs": [],
   "source": [
    "model = Sequential()\n",
    "\n",
    "model.add(Dense(500, input_shape=(train.shape[1],)))\n",
    "model.add(Activation('sigmoid'))\n",
    "model.add(Dropout(0.2))\n",
    "\n",
    "model.add(Dense(1000))\n",
    "model.add(Activation('sigmoid'))\n",
    "model.add(Dropout(0.2))\n",
    "\n",
    "model.add(Dense(50))\n",
    "model.add(Activation('sigmoid'))\n",
    "model.add(Dropout(0.2))\n",
    "\n",
    "model.add(Dense(2))\n",
    "model.add(Activation('softmax'))\n",
    "\n",
    "model.compile(loss='categorical_crossentropy',\n",
    "              optimizer='adam',\n",
    "              metrics=['accuracy'])\n",
    "\n",
    "early_stopping = EarlyStopping(monitor='val_loss', patience=2)"
   ]
  },
  {
   "cell_type": "code",
   "execution_count": 109,
   "metadata": {
    "scrolled": true
   },
   "outputs": [
    {
     "name": "stdout",
     "output_type": "stream",
     "text": [
      "Train on 180000 samples, validate on 20000 samples\n",
      "Epoch 1/100\n",
      " - 1s - loss: 0.2293 - acc: 0.9160 - val_loss: 0.2337 - val_acc: 0.9137\n",
      "Epoch 2/100\n",
      " - 1s - loss: 0.2298 - acc: 0.9159 - val_loss: 0.2337 - val_acc: 0.9137\n",
      "Epoch 3/100\n",
      " - 1s - loss: 0.2292 - acc: 0.9161 - val_loss: 0.2337 - val_acc: 0.9137\n",
      "Epoch 4/100\n",
      " - 1s - loss: 0.2296 - acc: 0.9162 - val_loss: 0.2337 - val_acc: 0.9136\n",
      "Epoch 5/100\n",
      " - 1s - loss: 0.2296 - acc: 0.9159 - val_loss: 0.2337 - val_acc: 0.9136\n",
      "Epoch 6/100\n",
      " - 1s - loss: 0.2294 - acc: 0.9162 - val_loss: 0.2337 - val_acc: 0.9136\n"
     ]
    }
   ],
   "source": [
    "hist = model.fit(train, keras.utils.np_utils.to_categorical(y),\n",
    "                 batch_size=50000,\n",
    "                 verbose=2,\n",
    "                 epochs=100,\n",
    "                 validation_split=0.1,\n",
    "                 callbacks=[early_stopping])"
   ]
  },
  {
   "cell_type": "code",
   "execution_count": 110,
   "metadata": {},
   "outputs": [],
   "source": [
    "pre = model.predict_proba(train)"
   ]
  },
  {
   "cell_type": "code",
   "execution_count": 111,
   "metadata": {},
   "outputs": [
    {
     "data": {
      "text/plain": [
       "0.8643111086556021"
      ]
     },
     "execution_count": 111,
     "metadata": {},
     "output_type": "execute_result"
    }
   ],
   "source": [
    "roc_auc_score(y,pre[:,1])"
   ]
  },
  {
   "cell_type": "code",
   "execution_count": null,
   "metadata": {},
   "outputs": [],
   "source": []
  }
 ],
 "metadata": {
  "kernelspec": {
   "display_name": "kaggle_standard",
   "language": "python",
   "name": "kaggle_standard"
  },
  "language_info": {
   "codemirror_mode": {
    "name": "ipython",
    "version": 3
   },
   "file_extension": ".py",
   "mimetype": "text/x-python",
   "name": "python",
   "nbconvert_exporter": "python",
   "pygments_lexer": "ipython3",
   "version": "3.6.6"
  }
 },
 "nbformat": 4,
 "nbformat_minor": 1
}
