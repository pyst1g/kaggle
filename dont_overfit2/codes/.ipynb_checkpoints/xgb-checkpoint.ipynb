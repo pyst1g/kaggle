{
 "cells": [
  {
   "cell_type": "markdown",
   "metadata": {},
   "source": [
    "reference https://www.kaggle.com/gaoyuan19930220/xgboost"
   ]
  },
  {
   "cell_type": "code",
   "execution_count": 1,
   "metadata": {},
   "outputs": [
    {
     "name": "stderr",
     "output_type": "stream",
     "text": [
      "/home/sano/.pyenv/versions/anaconda3-5.2.0/lib/python3.6/site-packages/h5py/__init__.py:36: FutureWarning: Conversion of the second argument of issubdtype from `float` to `np.floating` is deprecated. In future, it will be treated as `np.float64 == np.dtype(float).type`.\n",
      "  from ._conv import register_converters as _register_converters\n",
      "Using TensorFlow backend.\n"
     ]
    }
   ],
   "source": [
    "import numpy as np\n",
    "import pandas as pd\n",
    "import os\n",
    "import sklearn\n",
    "import xgboost as xgb\n",
    "import operator\n",
    "import optuna\n",
    "\n",
    "from functools import partial\n",
    "from matplotlib import pylab as plt\n",
    "from sklearn import preprocessing\n",
    "from sklearn.model_selection import cross_validate, train_test_split,StratifiedKFold\n",
    "\n",
    "\n",
    "import warnings\n",
    "warnings.filterwarnings('ignore')\n",
    "def fxn():\n",
    "    warnings.warn(\"deprecated\", DeprecationWarning)\n",
    "\n",
    "with warnings.catch_warnings():\n",
    "    warnings.simplefilter(\"ignore\")\n",
    "    fxn()"
   ]
  },
  {
   "cell_type": "code",
   "execution_count": 2,
   "metadata": {},
   "outputs": [],
   "source": [
    "count_itr = 0"
   ]
  },
  {
   "cell_type": "code",
   "execution_count": 3,
   "metadata": {},
   "outputs": [],
   "source": [
    "def objective_optuna(X, y, trial):\n",
    "    global count_itr\n",
    "    print(count_itr, end=' ')\n",
    "    count_itr += 1\n",
    "    #最適化するパラメータを指定\n",
    "    params = {\n",
    "        'n_estimators': trial.suggest_int('n_estimators',1,1000),\n",
    "        'gamma': trial.suggest_uniform('gamma',0,1),\n",
    "        'reg_lambda': trial.suggest_uniform('lambda',0,2),\n",
    "        'learning_rate': trial.suggest_uniform('learning_rate',0,0.3),\n",
    "        'max_depth': trial.suggest_int('max_depth', 1, 15),\n",
    "        'subsample': trial.suggest_uniform('subsample',0,1),\n",
    "        'colsample_bytree': trial.suggest_uniform('colsample_bytree',0,1),\n",
    "        'min_child_weight': trial.suggest_uniform('min_child_weight',0,10),\n",
    "    }\n",
    "    \n",
    "    #モデルを定義\n",
    "    model = xgb.XGBClassifier(random_state=2,**params)\n",
    "    \n",
    "#     (train_X, test_X ,train_y, test_y) = train_test_split(X, y, test_size = 0.3, random_state = 2)\n",
    "    \n",
    "#     #3-foldクロスバリデーション\n",
    "    kf = StratifiedKFold(n_splits=3, shuffle=True, random_state=2)\n",
    "    scores = cross_validate(model, X=X, y=y, cv=kf, scoring='roc_auc')\n",
    "    \n",
    "    return 1.0 - scores['test_score'].mean()"
   ]
  },
  {
   "cell_type": "code",
   "execution_count": 4,
   "metadata": {},
   "outputs": [],
   "source": [
    "#csvデータの呼び出し場所\n",
    "loadpath = \"../input/\"\n",
    "#csvデータの保存場所\n",
    "savepath = \"../output/\""
   ]
  },
  {
   "cell_type": "code",
   "execution_count": 5,
   "metadata": {},
   "outputs": [],
   "source": [
    "#データ呼び出し\n",
    "train = pd.read_csv(loadpath + \"train.csv\")\n",
    "test = pd.read_csv(loadpath + \"test.csv\")\n",
    "train.set_index('id',inplace=True)\n",
    "test.set_index('id',inplace=True)\n",
    "\n",
    "labels = train.target\n",
    "# labels = pd.get_dummies(labels,prefix='Survived')\n",
    "\n",
    "train.drop('target', axis=1, inplace=True)"
   ]
  },
  {
   "cell_type": "code",
   "execution_count": 6,
   "metadata": {
    "scrolled": true
   },
   "outputs": [
    {
     "name": "stdout",
     "output_type": "stream",
     "text": [
      "0 "
     ]
    },
    {
     "name": "stderr",
     "output_type": "stream",
     "text": [
      "[I 2019-02-10 03:19:03,848] Finished a trial resulted in value: 0.5. Current best value is 0.5 with parameters: {'n_estimators': 46, 'gamma': 0.13705947865963286, 'lambda': 1.6763541547910037, 'learning_rate': 0.1455417279321921, 'max_depth': 13, 'subsample': 0.1952423246581032, 'colsample_bytree': 0.15450585796598393, 'min_child_weight': 8.064906606607856}.\n"
     ]
    },
    {
     "name": "stdout",
     "output_type": "stream",
     "text": [
      "1 "
     ]
    },
    {
     "name": "stderr",
     "output_type": "stream",
     "text": [
      "[I 2019-02-10 03:19:04,234] Finished a trial resulted in value: 0.5. Current best value is 0.5 with parameters: {'n_estimators': 46, 'gamma': 0.13705947865963286, 'lambda': 1.6763541547910037, 'learning_rate': 0.1455417279321921, 'max_depth': 13, 'subsample': 0.1952423246581032, 'colsample_bytree': 0.15450585796598393, 'min_child_weight': 8.064906606607856}.\n"
     ]
    },
    {
     "name": "stdout",
     "output_type": "stream",
     "text": [
      "2 "
     ]
    },
    {
     "name": "stderr",
     "output_type": "stream",
     "text": [
      "[I 2019-02-10 03:19:05,548] Finished a trial resulted in value: 0.48703703703703705. Current best value is 0.48703703703703705 with parameters: {'n_estimators': 939, 'gamma': 0.8894509123231484, 'lambda': 0.991265169016176, 'learning_rate': 0.1906445292507927, 'max_depth': 12, 'subsample': 0.2340111882874124, 'colsample_bytree': 0.7795468623536116, 'min_child_weight': 6.908890765881697}.\n"
     ]
    },
    {
     "name": "stdout",
     "output_type": "stream",
     "text": [
      "3 "
     ]
    },
    {
     "name": "stderr",
     "output_type": "stream",
     "text": [
      "[I 2019-02-10 03:19:05,804] Finished a trial resulted in value: 0.5. Current best value is 0.48703703703703705 with parameters: {'n_estimators': 939, 'gamma': 0.8894509123231484, 'lambda': 0.991265169016176, 'learning_rate': 0.1906445292507927, 'max_depth': 12, 'subsample': 0.2340111882874124, 'colsample_bytree': 0.7795468623536116, 'min_child_weight': 6.908890765881697}.\n"
     ]
    },
    {
     "name": "stdout",
     "output_type": "stream",
     "text": [
      "4 "
     ]
    },
    {
     "name": "stderr",
     "output_type": "stream",
     "text": [
      "[I 2019-02-10 03:19:07,363] Finished a trial resulted in value: 0.2656999767062661. Current best value is 0.2656999767062661 with parameters: {'n_estimators': 987, 'gamma': 0.0837621976850309, 'lambda': 0.7684705947904515, 'learning_rate': 0.23595196075279407, 'max_depth': 5, 'subsample': 0.3266279769136333, 'colsample_bytree': 0.7754772616057679, 'min_child_weight': 6.241952589646828}.\n"
     ]
    },
    {
     "name": "stdout",
     "output_type": "stream",
     "text": [
      "5 "
     ]
    },
    {
     "name": "stderr",
     "output_type": "stream",
     "text": [
      "[I 2019-02-10 03:19:07,480] Finished a trial resulted in value: 0.32564251882910167. Current best value is 0.2656999767062661 with parameters: {'n_estimators': 987, 'gamma': 0.0837621976850309, 'lambda': 0.7684705947904515, 'learning_rate': 0.23595196075279407, 'max_depth': 5, 'subsample': 0.3266279769136333, 'colsample_bytree': 0.7754772616057679, 'min_child_weight': 6.241952589646828}.\n"
     ]
    },
    {
     "name": "stdout",
     "output_type": "stream",
     "text": [
      "6 "
     ]
    },
    {
     "name": "stderr",
     "output_type": "stream",
     "text": [
      "[I 2019-02-10 03:19:08,196] Finished a trial resulted in value: 0.2908183865206926. Current best value is 0.2656999767062661 with parameters: {'n_estimators': 987, 'gamma': 0.0837621976850309, 'lambda': 0.7684705947904515, 'learning_rate': 0.23595196075279407, 'max_depth': 5, 'subsample': 0.3266279769136333, 'colsample_bytree': 0.7754772616057679, 'min_child_weight': 6.241952589646828}.\n"
     ]
    },
    {
     "name": "stdout",
     "output_type": "stream",
     "text": [
      "7 "
     ]
    },
    {
     "name": "stderr",
     "output_type": "stream",
     "text": [
      "[I 2019-02-10 03:19:08,848] Finished a trial resulted in value: 0.5213021197297927. Current best value is 0.2656999767062661 with parameters: {'n_estimators': 987, 'gamma': 0.0837621976850309, 'lambda': 0.7684705947904515, 'learning_rate': 0.23595196075279407, 'max_depth': 5, 'subsample': 0.3266279769136333, 'colsample_bytree': 0.7754772616057679, 'min_child_weight': 6.241952589646828}.\n"
     ]
    },
    {
     "name": "stdout",
     "output_type": "stream",
     "text": [
      "8 "
     ]
    },
    {
     "name": "stderr",
     "output_type": "stream",
     "text": [
      "[I 2019-02-10 03:19:09,173] Finished a trial resulted in value: 0.31266402671014826. Current best value is 0.2656999767062661 with parameters: {'n_estimators': 987, 'gamma': 0.0837621976850309, 'lambda': 0.7684705947904515, 'learning_rate': 0.23595196075279407, 'max_depth': 5, 'subsample': 0.3266279769136333, 'colsample_bytree': 0.7754772616057679, 'min_child_weight': 6.241952589646828}.\n"
     ]
    },
    {
     "name": "stdout",
     "output_type": "stream",
     "text": [
      "9 "
     ]
    },
    {
     "name": "stderr",
     "output_type": "stream",
     "text": [
      "[I 2019-02-10 03:19:10,196] Finished a trial resulted in value: 0.5. Current best value is 0.2656999767062661 with parameters: {'n_estimators': 987, 'gamma': 0.0837621976850309, 'lambda': 0.7684705947904515, 'learning_rate': 0.23595196075279407, 'max_depth': 5, 'subsample': 0.3266279769136333, 'colsample_bytree': 0.7754772616057679, 'min_child_weight': 6.241952589646828}.\n"
     ]
    },
    {
     "name": "stdout",
     "output_type": "stream",
     "text": [
      "10 "
     ]
    },
    {
     "name": "stderr",
     "output_type": "stream",
     "text": [
      "[I 2019-02-10 03:19:12,512] Finished a trial resulted in value: 0.26045500427051793. Current best value is 0.26045500427051793 with parameters: {'n_estimators': 748, 'gamma': 0.012627769690160717, 'lambda': 0.23554939951178389, 'learning_rate': 0.05660588393738279, 'max_depth': 7, 'subsample': 0.5330914768251115, 'colsample_bytree': 0.9871328890054323, 'min_child_weight': 3.3172587544133116}.\n"
     ]
    },
    {
     "name": "stdout",
     "output_type": "stream",
     "text": [
      "11 "
     ]
    },
    {
     "name": "stderr",
     "output_type": "stream",
     "text": [
      "[I 2019-02-10 03:19:14,629] Finished a trial resulted in value: 0.25831198074384654. Current best value is 0.25831198074384654 with parameters: {'n_estimators': 752, 'gamma': 0.029150428122143808, 'lambda': 0.04141913483200299, 'learning_rate': 0.08402540073719096, 'max_depth': 9, 'subsample': 0.6326594394315881, 'colsample_bytree': 0.9878437827917099, 'min_child_weight': 3.193014200957931}.\n"
     ]
    },
    {
     "name": "stdout",
     "output_type": "stream",
     "text": [
      "12 "
     ]
    },
    {
     "name": "stderr",
     "output_type": "stream",
     "text": [
      "[I 2019-02-10 03:19:15,162] Finished a trial resulted in value: 0.4245632424877708. Current best value is 0.25831198074384654 with parameters: {'n_estimators': 752, 'gamma': 0.029150428122143808, 'lambda': 0.04141913483200299, 'learning_rate': 0.08402540073719096, 'max_depth': 9, 'subsample': 0.6326594394315881, 'colsample_bytree': 0.9878437827917099, 'min_child_weight': 3.193014200957931}.\n"
     ]
    },
    {
     "name": "stdout",
     "output_type": "stream",
     "text": [
      "13 "
     ]
    },
    {
     "name": "stderr",
     "output_type": "stream",
     "text": [
      "[I 2019-02-10 03:19:18,162] Finished a trial resulted in value: 0.2773235499650596. Current best value is 0.25831198074384654 with parameters: {'n_estimators': 752, 'gamma': 0.029150428122143808, 'lambda': 0.04141913483200299, 'learning_rate': 0.08402540073719096, 'max_depth': 9, 'subsample': 0.6326594394315881, 'colsample_bytree': 0.9878437827917099, 'min_child_weight': 3.193014200957931}.\n"
     ]
    },
    {
     "name": "stdout",
     "output_type": "stream",
     "text": [
      "14 "
     ]
    },
    {
     "name": "stderr",
     "output_type": "stream",
     "text": [
      "[I 2019-02-10 03:19:20,456] Finished a trial resulted in value: 0.2690038046432176. Current best value is 0.25831198074384654 with parameters: {'n_estimators': 752, 'gamma': 0.029150428122143808, 'lambda': 0.04141913483200299, 'learning_rate': 0.08402540073719096, 'max_depth': 9, 'subsample': 0.6326594394315881, 'colsample_bytree': 0.9878437827917099, 'min_child_weight': 3.193014200957931}.\n"
     ]
    },
    {
     "name": "stdout",
     "output_type": "stream",
     "text": [
      "15 "
     ]
    },
    {
     "name": "stderr",
     "output_type": "stream",
     "text": [
      "[I 2019-02-10 03:19:20,867] Finished a trial resulted in value: 0.30173150089292644. Current best value is 0.25831198074384654 with parameters: {'n_estimators': 752, 'gamma': 0.029150428122143808, 'lambda': 0.04141913483200299, 'learning_rate': 0.08402540073719096, 'max_depth': 9, 'subsample': 0.6326594394315881, 'colsample_bytree': 0.9878437827917099, 'min_child_weight': 3.193014200957931}.\n"
     ]
    },
    {
     "name": "stdout",
     "output_type": "stream",
     "text": [
      "16 "
     ]
    },
    {
     "name": "stderr",
     "output_type": "stream",
     "text": [
      "[I 2019-02-10 03:19:22,246] Finished a trial resulted in value: 0.28109713487071986. Current best value is 0.25831198074384654 with parameters: {'n_estimators': 752, 'gamma': 0.029150428122143808, 'lambda': 0.04141913483200299, 'learning_rate': 0.08402540073719096, 'max_depth': 9, 'subsample': 0.6326594394315881, 'colsample_bytree': 0.9878437827917099, 'min_child_weight': 3.193014200957931}.\n"
     ]
    },
    {
     "name": "stdout",
     "output_type": "stream",
     "text": [
      "17 "
     ]
    },
    {
     "name": "stderr",
     "output_type": "stream",
     "text": [
      "[I 2019-02-10 03:19:24,429] Finished a trial resulted in value: 0.24671170121903874. Current best value is 0.24671170121903874 with parameters: {'n_estimators': 668, 'gamma': 0.12476829885907559, 'lambda': 0.22004884169464428, 'learning_rate': 0.05325414198462782, 'max_depth': 7, 'subsample': 0.5128804629312586, 'colsample_bytree': 0.9869585645809005, 'min_child_weight': 3.3766905407713534}.\n"
     ]
    },
    {
     "name": "stdout",
     "output_type": "stream",
     "text": [
      "18 "
     ]
    },
    {
     "name": "stderr",
     "output_type": "stream",
     "text": [
      "[I 2019-02-10 03:19:26,746] Finished a trial resulted in value: 0.24360587002096434. Current best value is 0.24360587002096434 with parameters: {'n_estimators': 594, 'gamma': 0.17162748620304974, 'lambda': 1.9928412630392847, 'learning_rate': 0.030062949222857932, 'max_depth': 4, 'subsample': 0.4546228214091315, 'colsample_bytree': 0.8996471759292107, 'min_child_weight': 3.8386605512673366}.\n"
     ]
    },
    {
     "name": "stdout",
     "output_type": "stream",
     "text": [
      "19 "
     ]
    },
    {
     "name": "stderr",
     "output_type": "stream",
     "text": [
      "[I 2019-02-10 03:19:28,620] Finished a trial resulted in value: 0.24226648031679476. Current best value is 0.24226648031679476 with parameters: {'n_estimators': 589, 'gamma': 0.17266404015258963, 'lambda': 1.9578401964311458, 'learning_rate': 0.020545031017749155, 'max_depth': 4, 'subsample': 0.3974035375093868, 'colsample_bytree': 0.8874837056073692, 'min_child_weight': 5.346700290110013}.\n"
     ]
    },
    {
     "name": "stdout",
     "output_type": "stream",
     "text": [
      "20 "
     ]
    },
    {
     "name": "stderr",
     "output_type": "stream",
     "text": [
      "[I 2019-02-10 03:19:30,327] Finished a trial resulted in value: 0.2306739653699822. Current best value is 0.2306739653699822 with parameters: {'n_estimators': 565, 'gamma': 0.3641670603984294, 'lambda': 1.9554599458855408, 'learning_rate': 0.022084881334661438, 'max_depth': 4, 'subsample': 0.3896240481977191, 'colsample_bytree': 0.867752612862292, 'min_child_weight': 5.414071095616966}.\n"
     ]
    },
    {
     "name": "stdout",
     "output_type": "stream",
     "text": [
      "21 "
     ]
    },
    {
     "name": "stderr",
     "output_type": "stream",
     "text": [
      "[I 2019-02-10 03:19:31,245] Finished a trial resulted in value: 0.2472746331236898. Current best value is 0.2306739653699822 with parameters: {'n_estimators': 565, 'gamma': 0.3641670603984294, 'lambda': 1.9554599458855408, 'learning_rate': 0.022084881334661438, 'max_depth': 4, 'subsample': 0.3896240481977191, 'colsample_bytree': 0.867752612862292, 'min_child_weight': 5.414071095616966}.\n"
     ]
    },
    {
     "name": "stdout",
     "output_type": "stream",
     "text": [
      "22 "
     ]
    },
    {
     "name": "stderr",
     "output_type": "stream",
     "text": [
      "[I 2019-02-10 03:19:32,118] Finished a trial resulted in value: 0.5. Current best value is 0.2306739653699822 with parameters: {'n_estimators': 565, 'gamma': 0.3641670603984294, 'lambda': 1.9554599458855408, 'learning_rate': 0.022084881334661438, 'max_depth': 4, 'subsample': 0.3896240481977191, 'colsample_bytree': 0.867752612862292, 'min_child_weight': 5.414071095616966}.\n"
     ]
    },
    {
     "name": "stdout",
     "output_type": "stream",
     "text": [
      "23 "
     ]
    },
    {
     "name": "stderr",
     "output_type": "stream",
     "text": [
      "[I 2019-02-10 03:19:32,288] Finished a trial resulted in value: 0.2697608509977484. Current best value is 0.2306739653699822 with parameters: {'n_estimators': 565, 'gamma': 0.3641670603984294, 'lambda': 1.9554599458855408, 'learning_rate': 0.022084881334661438, 'max_depth': 4, 'subsample': 0.3896240481977191, 'colsample_bytree': 0.867752612862292, 'min_child_weight': 5.414071095616966}.\n"
     ]
    },
    {
     "name": "stdout",
     "output_type": "stream",
     "text": [
      "24 "
     ]
    },
    {
     "name": "stderr",
     "output_type": "stream",
     "text": [
      "[I 2019-02-10 03:19:32,516] Finished a trial resulted in value: 0.5. Current best value is 0.2306739653699822 with parameters: {'n_estimators': 565, 'gamma': 0.3641670603984294, 'lambda': 1.9554599458855408, 'learning_rate': 0.022084881334661438, 'max_depth': 4, 'subsample': 0.3896240481977191, 'colsample_bytree': 0.867752612862292, 'min_child_weight': 5.414071095616966}.\n"
     ]
    },
    {
     "name": "stdout",
     "output_type": "stream",
     "text": [
      "25 "
     ]
    },
    {
     "name": "stderr",
     "output_type": "stream",
     "text": [
      "[I 2019-02-10 03:19:33,354] Finished a trial resulted in value: 0.5. Current best value is 0.2306739653699822 with parameters: {'n_estimators': 565, 'gamma': 0.3641670603984294, 'lambda': 1.9554599458855408, 'learning_rate': 0.022084881334661438, 'max_depth': 4, 'subsample': 0.3896240481977191, 'colsample_bytree': 0.867752612862292, 'min_child_weight': 5.414071095616966}.\n"
     ]
    },
    {
     "name": "stdout",
     "output_type": "stream",
     "text": [
      "26 "
     ]
    },
    {
     "name": "stderr",
     "output_type": "stream",
     "text": [
      "[I 2019-02-10 03:19:34,714] Finished a trial resulted in value: 0.24512772730802068. Current best value is 0.2306739653699822 with parameters: {'n_estimators': 565, 'gamma': 0.3641670603984294, 'lambda': 1.9554599458855408, 'learning_rate': 0.022084881334661438, 'max_depth': 4, 'subsample': 0.3896240481977191, 'colsample_bytree': 0.867752612862292, 'min_child_weight': 5.414071095616966}.\n"
     ]
    },
    {
     "name": "stdout",
     "output_type": "stream",
     "text": [
      "27 "
     ]
    },
    {
     "name": "stderr",
     "output_type": "stream",
     "text": [
      "[I 2019-02-10 03:19:35,423] Finished a trial resulted in value: 0.2726298625669695. Current best value is 0.2306739653699822 with parameters: {'n_estimators': 565, 'gamma': 0.3641670603984294, 'lambda': 1.9554599458855408, 'learning_rate': 0.022084881334661438, 'max_depth': 4, 'subsample': 0.3896240481977191, 'colsample_bytree': 0.867752612862292, 'min_child_weight': 5.414071095616966}.\n"
     ]
    },
    {
     "name": "stdout",
     "output_type": "stream",
     "text": [
      "28 "
     ]
    },
    {
     "name": "stderr",
     "output_type": "stream",
     "text": [
      "[I 2019-02-10 03:19:35,821] Finished a trial resulted in value: 0.5. Current best value is 0.2306739653699822 with parameters: {'n_estimators': 565, 'gamma': 0.3641670603984294, 'lambda': 1.9554599458855408, 'learning_rate': 0.022084881334661438, 'max_depth': 4, 'subsample': 0.3896240481977191, 'colsample_bytree': 0.867752612862292, 'min_child_weight': 5.414071095616966}.\n"
     ]
    },
    {
     "name": "stdout",
     "output_type": "stream",
     "text": [
      "29 "
     ]
    },
    {
     "name": "stderr",
     "output_type": "stream",
     "text": [
      "[I 2019-02-10 03:19:36,015] Finished a trial resulted in value: 0.41253979346222536. Current best value is 0.2306739653699822 with parameters: {'n_estimators': 565, 'gamma': 0.3641670603984294, 'lambda': 1.9554599458855408, 'learning_rate': 0.022084881334661438, 'max_depth': 4, 'subsample': 0.3896240481977191, 'colsample_bytree': 0.867752612862292, 'min_child_weight': 5.414071095616966}.\n"
     ]
    },
    {
     "name": "stdout",
     "output_type": "stream",
     "text": [
      "30 "
     ]
    },
    {
     "name": "stderr",
     "output_type": "stream",
     "text": [
      "[I 2019-02-10 03:19:37,241] Finished a trial resulted in value: 0.2682389937106917. Current best value is 0.2306739653699822 with parameters: {'n_estimators': 565, 'gamma': 0.3641670603984294, 'lambda': 1.9554599458855408, 'learning_rate': 0.022084881334661438, 'max_depth': 4, 'subsample': 0.3896240481977191, 'colsample_bytree': 0.867752612862292, 'min_child_weight': 5.414071095616966}.\n"
     ]
    },
    {
     "name": "stdout",
     "output_type": "stream",
     "text": [
      "31 "
     ]
    },
    {
     "name": "stderr",
     "output_type": "stream",
     "text": [
      "[I 2019-02-10 03:19:38,284] Finished a trial resulted in value: 0.2551906203897819. Current best value is 0.2306739653699822 with parameters: {'n_estimators': 565, 'gamma': 0.3641670603984294, 'lambda': 1.9554599458855408, 'learning_rate': 0.022084881334661438, 'max_depth': 4, 'subsample': 0.3896240481977191, 'colsample_bytree': 0.867752612862292, 'min_child_weight': 5.414071095616966}.\n"
     ]
    },
    {
     "name": "stdout",
     "output_type": "stream",
     "text": [
      "32 "
     ]
    },
    {
     "name": "stderr",
     "output_type": "stream",
     "text": [
      "[I 2019-02-10 03:19:39,039] Finished a trial resulted in value: 0.28974299246835944. Current best value is 0.2306739653699822 with parameters: {'n_estimators': 565, 'gamma': 0.3641670603984294, 'lambda': 1.9554599458855408, 'learning_rate': 0.022084881334661438, 'max_depth': 4, 'subsample': 0.3896240481977191, 'colsample_bytree': 0.867752612862292, 'min_child_weight': 5.414071095616966}.\n"
     ]
    },
    {
     "name": "stdout",
     "output_type": "stream",
     "text": [
      "33 "
     ]
    },
    {
     "name": "stderr",
     "output_type": "stream",
     "text": [
      "[I 2019-02-10 03:19:40,109] Finished a trial resulted in value: 0.5. Current best value is 0.2306739653699822 with parameters: {'n_estimators': 565, 'gamma': 0.3641670603984294, 'lambda': 1.9554599458855408, 'learning_rate': 0.022084881334661438, 'max_depth': 4, 'subsample': 0.3896240481977191, 'colsample_bytree': 0.867752612862292, 'min_child_weight': 5.414071095616966}.\n"
     ]
    },
    {
     "name": "stdout",
     "output_type": "stream",
     "text": [
      "34 "
     ]
    },
    {
     "name": "stderr",
     "output_type": "stream",
     "text": [
      "[I 2019-02-10 03:19:40,896] Finished a trial resulted in value: 0.23698268499107078. Current best value is 0.2306739653699822 with parameters: {'n_estimators': 565, 'gamma': 0.3641670603984294, 'lambda': 1.9554599458855408, 'learning_rate': 0.022084881334661438, 'max_depth': 4, 'subsample': 0.3896240481977191, 'colsample_bytree': 0.867752612862292, 'min_child_weight': 5.414071095616966}.\n"
     ]
    },
    {
     "name": "stdout",
     "output_type": "stream",
     "text": [
      "35 "
     ]
    },
    {
     "name": "stderr",
     "output_type": "stream",
     "text": [
      "[I 2019-02-10 03:19:41,672] Finished a trial resulted in value: 0.2690930972901623. Current best value is 0.2306739653699822 with parameters: {'n_estimators': 565, 'gamma': 0.3641670603984294, 'lambda': 1.9554599458855408, 'learning_rate': 0.022084881334661438, 'max_depth': 4, 'subsample': 0.3896240481977191, 'colsample_bytree': 0.867752612862292, 'min_child_weight': 5.414071095616966}.\n"
     ]
    },
    {
     "name": "stdout",
     "output_type": "stream",
     "text": [
      "36 "
     ]
    },
    {
     "name": "stderr",
     "output_type": "stream",
     "text": [
      "[I 2019-02-10 03:19:42,130] Finished a trial resulted in value: 0.5. Current best value is 0.2306739653699822 with parameters: {'n_estimators': 565, 'gamma': 0.3641670603984294, 'lambda': 1.9554599458855408, 'learning_rate': 0.022084881334661438, 'max_depth': 4, 'subsample': 0.3896240481977191, 'colsample_bytree': 0.867752612862292, 'min_child_weight': 5.414071095616966}.\n"
     ]
    },
    {
     "name": "stdout",
     "output_type": "stream",
     "text": [
      "37 "
     ]
    },
    {
     "name": "stderr",
     "output_type": "stream",
     "text": [
      "[I 2019-02-10 03:19:42,751] Finished a trial resulted in value: 0.25856821181768763. Current best value is 0.2306739653699822 with parameters: {'n_estimators': 565, 'gamma': 0.3641670603984294, 'lambda': 1.9554599458855408, 'learning_rate': 0.022084881334661438, 'max_depth': 4, 'subsample': 0.3896240481977191, 'colsample_bytree': 0.867752612862292, 'min_child_weight': 5.414071095616966}.\n"
     ]
    },
    {
     "name": "stdout",
     "output_type": "stream",
     "text": [
      "38 "
     ]
    },
    {
     "name": "stderr",
     "output_type": "stream",
     "text": [
      "[I 2019-02-10 03:19:43,442] Finished a trial resulted in value: 0.5. Current best value is 0.2306739653699822 with parameters: {'n_estimators': 565, 'gamma': 0.3641670603984294, 'lambda': 1.9554599458855408, 'learning_rate': 0.022084881334661438, 'max_depth': 4, 'subsample': 0.3896240481977191, 'colsample_bytree': 0.867752612862292, 'min_child_weight': 5.414071095616966}.\n"
     ]
    },
    {
     "name": "stdout",
     "output_type": "stream",
     "text": [
      "39 "
     ]
    },
    {
     "name": "stderr",
     "output_type": "stream",
     "text": [
      "[I 2019-02-10 03:19:44,223] Finished a trial resulted in value: 0.3161076170510132. Current best value is 0.2306739653699822 with parameters: {'n_estimators': 565, 'gamma': 0.3641670603984294, 'lambda': 1.9554599458855408, 'learning_rate': 0.022084881334661438, 'max_depth': 4, 'subsample': 0.3896240481977191, 'colsample_bytree': 0.867752612862292, 'min_child_weight': 5.414071095616966}.\n"
     ]
    },
    {
     "name": "stdout",
     "output_type": "stream",
     "text": [
      "40 "
     ]
    },
    {
     "name": "stderr",
     "output_type": "stream",
     "text": [
      "[I 2019-02-10 03:19:44,323] Finished a trial resulted in value: 0.41807593757279293. Current best value is 0.2306739653699822 with parameters: {'n_estimators': 565, 'gamma': 0.3641670603984294, 'lambda': 1.9554599458855408, 'learning_rate': 0.022084881334661438, 'max_depth': 4, 'subsample': 0.3896240481977191, 'colsample_bytree': 0.867752612862292, 'min_child_weight': 5.414071095616966}.\n"
     ]
    },
    {
     "name": "stdout",
     "output_type": "stream",
     "text": [
      "41 "
     ]
    },
    {
     "name": "stderr",
     "output_type": "stream",
     "text": [
      "[I 2019-02-10 03:19:44,568] Finished a trial resulted in value: 0.38078655175091247. Current best value is 0.2306739653699822 with parameters: {'n_estimators': 565, 'gamma': 0.3641670603984294, 'lambda': 1.9554599458855408, 'learning_rate': 0.022084881334661438, 'max_depth': 4, 'subsample': 0.3896240481977191, 'colsample_bytree': 0.867752612862292, 'min_child_weight': 5.414071095616966}.\n"
     ]
    },
    {
     "name": "stdout",
     "output_type": "stream",
     "text": [
      "42 "
     ]
    },
    {
     "name": "stderr",
     "output_type": "stream",
     "text": [
      "[I 2019-02-10 03:19:44,866] Finished a trial resulted in value: 0.5. Current best value is 0.2306739653699822 with parameters: {'n_estimators': 565, 'gamma': 0.3641670603984294, 'lambda': 1.9554599458855408, 'learning_rate': 0.022084881334661438, 'max_depth': 4, 'subsample': 0.3896240481977191, 'colsample_bytree': 0.867752612862292, 'min_child_weight': 5.414071095616966}.\n"
     ]
    },
    {
     "name": "stdout",
     "output_type": "stream",
     "text": [
      "43 "
     ]
    },
    {
     "name": "stderr",
     "output_type": "stream",
     "text": [
      "[I 2019-02-10 03:19:45,050] Finished a trial resulted in value: 0.5. Current best value is 0.2306739653699822 with parameters: {'n_estimators': 565, 'gamma': 0.3641670603984294, 'lambda': 1.9554599458855408, 'learning_rate': 0.022084881334661438, 'max_depth': 4, 'subsample': 0.3896240481977191, 'colsample_bytree': 0.867752612862292, 'min_child_weight': 5.414071095616966}.\n"
     ]
    },
    {
     "name": "stdout",
     "output_type": "stream",
     "text": [
      "44 "
     ]
    },
    {
     "name": "stderr",
     "output_type": "stream",
     "text": [
      "[I 2019-02-10 03:19:46,566] Finished a trial resulted in value: 0.23778243652457487. Current best value is 0.2306739653699822 with parameters: {'n_estimators': 565, 'gamma': 0.3641670603984294, 'lambda': 1.9554599458855408, 'learning_rate': 0.022084881334661438, 'max_depth': 4, 'subsample': 0.3896240481977191, 'colsample_bytree': 0.867752612862292, 'min_child_weight': 5.414071095616966}.\n"
     ]
    },
    {
     "name": "stdout",
     "output_type": "stream",
     "text": [
      "45 "
     ]
    },
    {
     "name": "stderr",
     "output_type": "stream",
     "text": [
      "[I 2019-02-10 03:19:47,973] Finished a trial resulted in value: 0.2816561844863732. Current best value is 0.2306739653699822 with parameters: {'n_estimators': 565, 'gamma': 0.3641670603984294, 'lambda': 1.9554599458855408, 'learning_rate': 0.022084881334661438, 'max_depth': 4, 'subsample': 0.3896240481977191, 'colsample_bytree': 0.867752612862292, 'min_child_weight': 5.414071095616966}.\n"
     ]
    },
    {
     "name": "stdout",
     "output_type": "stream",
     "text": [
      "46 "
     ]
    },
    {
     "name": "stderr",
     "output_type": "stream",
     "text": [
      "[I 2019-02-10 03:19:48,622] Finished a trial resulted in value: 0.2814659523254912. Current best value is 0.2306739653699822 with parameters: {'n_estimators': 565, 'gamma': 0.3641670603984294, 'lambda': 1.9554599458855408, 'learning_rate': 0.022084881334661438, 'max_depth': 4, 'subsample': 0.3896240481977191, 'colsample_bytree': 0.867752612862292, 'min_child_weight': 5.414071095616966}.\n"
     ]
    },
    {
     "name": "stdout",
     "output_type": "stream",
     "text": [
      "47 "
     ]
    },
    {
     "name": "stderr",
     "output_type": "stream",
     "text": [
      "[I 2019-02-10 03:19:49,802] Finished a trial resulted in value: 0.250772575510521. Current best value is 0.2306739653699822 with parameters: {'n_estimators': 565, 'gamma': 0.3641670603984294, 'lambda': 1.9554599458855408, 'learning_rate': 0.022084881334661438, 'max_depth': 4, 'subsample': 0.3896240481977191, 'colsample_bytree': 0.867752612862292, 'min_child_weight': 5.414071095616966}.\n"
     ]
    },
    {
     "name": "stdout",
     "output_type": "stream",
     "text": [
      "48 "
     ]
    },
    {
     "name": "stderr",
     "output_type": "stream",
     "text": [
      "[I 2019-02-10 03:19:50,630] Finished a trial resulted in value: 0.2893741750135881. Current best value is 0.2306739653699822 with parameters: {'n_estimators': 565, 'gamma': 0.3641670603984294, 'lambda': 1.9554599458855408, 'learning_rate': 0.022084881334661438, 'max_depth': 4, 'subsample': 0.3896240481977191, 'colsample_bytree': 0.867752612862292, 'min_child_weight': 5.414071095616966}.\n"
     ]
    },
    {
     "name": "stdout",
     "output_type": "stream",
     "text": [
      "49 "
     ]
    },
    {
     "name": "stderr",
     "output_type": "stream",
     "text": [
      "[I 2019-02-10 03:19:51,745] Finished a trial resulted in value: 0.2608975852162434. Current best value is 0.2306739653699822 with parameters: {'n_estimators': 565, 'gamma': 0.3641670603984294, 'lambda': 1.9554599458855408, 'learning_rate': 0.022084881334661438, 'max_depth': 4, 'subsample': 0.3896240481977191, 'colsample_bytree': 0.867752612862292, 'min_child_weight': 5.414071095616966}.\n"
     ]
    },
    {
     "name": "stdout",
     "output_type": "stream",
     "text": [
      "50 "
     ]
    },
    {
     "name": "stderr",
     "output_type": "stream",
     "text": [
      "[I 2019-02-10 03:19:53,051] Finished a trial resulted in value: 0.2683011103346532. Current best value is 0.2306739653699822 with parameters: {'n_estimators': 565, 'gamma': 0.3641670603984294, 'lambda': 1.9554599458855408, 'learning_rate': 0.022084881334661438, 'max_depth': 4, 'subsample': 0.3896240481977191, 'colsample_bytree': 0.867752612862292, 'min_child_weight': 5.414071095616966}.\n"
     ]
    },
    {
     "name": "stdout",
     "output_type": "stream",
     "text": [
      "51 "
     ]
    },
    {
     "name": "stderr",
     "output_type": "stream",
     "text": [
      "[I 2019-02-10 03:19:53,133] Finished a trial resulted in value: 0.5. Current best value is 0.2306739653699822 with parameters: {'n_estimators': 565, 'gamma': 0.3641670603984294, 'lambda': 1.9554599458855408, 'learning_rate': 0.022084881334661438, 'max_depth': 4, 'subsample': 0.3896240481977191, 'colsample_bytree': 0.867752612862292, 'min_child_weight': 5.414071095616966}.\n"
     ]
    },
    {
     "name": "stdout",
     "output_type": "stream",
     "text": [
      "52 "
     ]
    },
    {
     "name": "stderr",
     "output_type": "stream",
     "text": [
      "[I 2019-02-10 03:19:53,815] Finished a trial resulted in value: 0.29736780805963203. Current best value is 0.2306739653699822 with parameters: {'n_estimators': 565, 'gamma': 0.3641670603984294, 'lambda': 1.9554599458855408, 'learning_rate': 0.022084881334661438, 'max_depth': 4, 'subsample': 0.3896240481977191, 'colsample_bytree': 0.867752612862292, 'min_child_weight': 5.414071095616966}.\n"
     ]
    },
    {
     "name": "stdout",
     "output_type": "stream",
     "text": [
      "53 "
     ]
    },
    {
     "name": "stderr",
     "output_type": "stream",
     "text": [
      "[I 2019-02-10 03:19:56,978] Finished a trial resulted in value: 0.2568211817687708. Current best value is 0.2306739653699822 with parameters: {'n_estimators': 565, 'gamma': 0.3641670603984294, 'lambda': 1.9554599458855408, 'learning_rate': 0.022084881334661438, 'max_depth': 4, 'subsample': 0.3896240481977191, 'colsample_bytree': 0.867752612862292, 'min_child_weight': 5.414071095616966}.\n"
     ]
    },
    {
     "name": "stdout",
     "output_type": "stream",
     "text": [
      "54 "
     ]
    },
    {
     "name": "stderr",
     "output_type": "stream",
     "text": [
      "[I 2019-02-10 03:19:57,595] Finished a trial resulted in value: 0.2542705178973522. Current best value is 0.2306739653699822 with parameters: {'n_estimators': 565, 'gamma': 0.3641670603984294, 'lambda': 1.9554599458855408, 'learning_rate': 0.022084881334661438, 'max_depth': 4, 'subsample': 0.3896240481977191, 'colsample_bytree': 0.867752612862292, 'min_child_weight': 5.414071095616966}.\n"
     ]
    },
    {
     "name": "stdout",
     "output_type": "stream",
     "text": [
      "55 "
     ]
    },
    {
     "name": "stderr",
     "output_type": "stream",
     "text": [
      "[I 2019-02-10 03:19:58,983] Finished a trial resulted in value: 0.24131143722338688. Current best value is 0.2306739653699822 with parameters: {'n_estimators': 565, 'gamma': 0.3641670603984294, 'lambda': 1.9554599458855408, 'learning_rate': 0.022084881334661438, 'max_depth': 4, 'subsample': 0.3896240481977191, 'colsample_bytree': 0.867752612862292, 'min_child_weight': 5.414071095616966}.\n"
     ]
    },
    {
     "name": "stdout",
     "output_type": "stream",
     "text": [
      "56 "
     ]
    },
    {
     "name": "stderr",
     "output_type": "stream",
     "text": [
      "[I 2019-02-10 03:19:59,277] Finished a trial resulted in value: 0.2836128581411601. Current best value is 0.2306739653699822 with parameters: {'n_estimators': 565, 'gamma': 0.3641670603984294, 'lambda': 1.9554599458855408, 'learning_rate': 0.022084881334661438, 'max_depth': 4, 'subsample': 0.3896240481977191, 'colsample_bytree': 0.867752612862292, 'min_child_weight': 5.414071095616966}.\n"
     ]
    },
    {
     "name": "stdout",
     "output_type": "stream",
     "text": [
      "57 "
     ]
    },
    {
     "name": "stderr",
     "output_type": "stream",
     "text": [
      "[I 2019-02-10 03:19:59,529] Finished a trial resulted in value: 0.5. Current best value is 0.2306739653699822 with parameters: {'n_estimators': 565, 'gamma': 0.3641670603984294, 'lambda': 1.9554599458855408, 'learning_rate': 0.022084881334661438, 'max_depth': 4, 'subsample': 0.3896240481977191, 'colsample_bytree': 0.867752612862292, 'min_child_weight': 5.414071095616966}.\n"
     ]
    },
    {
     "name": "stdout",
     "output_type": "stream",
     "text": [
      "58 "
     ]
    },
    {
     "name": "stderr",
     "output_type": "stream",
     "text": [
      "[I 2019-02-10 03:19:59,906] Finished a trial resulted in value: 0.5. Current best value is 0.2306739653699822 with parameters: {'n_estimators': 565, 'gamma': 0.3641670603984294, 'lambda': 1.9554599458855408, 'learning_rate': 0.022084881334661438, 'max_depth': 4, 'subsample': 0.3896240481977191, 'colsample_bytree': 0.867752612862292, 'min_child_weight': 5.414071095616966}.\n"
     ]
    },
    {
     "name": "stdout",
     "output_type": "stream",
     "text": [
      "59 "
     ]
    },
    {
     "name": "stderr",
     "output_type": "stream",
     "text": [
      "[I 2019-02-10 03:20:01,903] Finished a trial resulted in value: 0.23718456401894572. Current best value is 0.2306739653699822 with parameters: {'n_estimators': 565, 'gamma': 0.3641670603984294, 'lambda': 1.9554599458855408, 'learning_rate': 0.022084881334661438, 'max_depth': 4, 'subsample': 0.3896240481977191, 'colsample_bytree': 0.867752612862292, 'min_child_weight': 5.414071095616966}.\n"
     ]
    },
    {
     "name": "stdout",
     "output_type": "stream",
     "text": [
      "60 "
     ]
    },
    {
     "name": "stderr",
     "output_type": "stream",
     "text": [
      "[I 2019-02-10 03:20:03,080] Finished a trial resulted in value: 0.2759492196599115. Current best value is 0.2306739653699822 with parameters: {'n_estimators': 565, 'gamma': 0.3641670603984294, 'lambda': 1.9554599458855408, 'learning_rate': 0.022084881334661438, 'max_depth': 4, 'subsample': 0.3896240481977191, 'colsample_bytree': 0.867752612862292, 'min_child_weight': 5.414071095616966}.\n"
     ]
    },
    {
     "name": "stdout",
     "output_type": "stream",
     "text": [
      "61 "
     ]
    },
    {
     "name": "stderr",
     "output_type": "stream",
     "text": [
      "[I 2019-02-10 03:20:03,463] Finished a trial resulted in value: 0.28365944560913114. Current best value is 0.2306739653699822 with parameters: {'n_estimators': 565, 'gamma': 0.3641670603984294, 'lambda': 1.9554599458855408, 'learning_rate': 0.022084881334661438, 'max_depth': 4, 'subsample': 0.3896240481977191, 'colsample_bytree': 0.867752612862292, 'min_child_weight': 5.414071095616966}.\n"
     ]
    },
    {
     "name": "stdout",
     "output_type": "stream",
     "text": [
      "62 "
     ]
    },
    {
     "name": "stderr",
     "output_type": "stream",
     "text": [
      "[I 2019-02-10 03:20:04,944] Finished a trial resulted in value: 0.24591971426352988. Current best value is 0.2306739653699822 with parameters: {'n_estimators': 565, 'gamma': 0.3641670603984294, 'lambda': 1.9554599458855408, 'learning_rate': 0.022084881334661438, 'max_depth': 4, 'subsample': 0.3896240481977191, 'colsample_bytree': 0.867752612862292, 'min_child_weight': 5.414071095616966}.\n"
     ]
    },
    {
     "name": "stdout",
     "output_type": "stream",
     "text": [
      "63 "
     ]
    },
    {
     "name": "stderr",
     "output_type": "stream",
     "text": [
      "[I 2019-02-10 03:20:06,133] Finished a trial resulted in value: 0.23879183166394913. Current best value is 0.2306739653699822 with parameters: {'n_estimators': 565, 'gamma': 0.3641670603984294, 'lambda': 1.9554599458855408, 'learning_rate': 0.022084881334661438, 'max_depth': 4, 'subsample': 0.3896240481977191, 'colsample_bytree': 0.867752612862292, 'min_child_weight': 5.414071095616966}.\n"
     ]
    },
    {
     "name": "stdout",
     "output_type": "stream",
     "text": [
      "64 "
     ]
    },
    {
     "name": "stderr",
     "output_type": "stream",
     "text": [
      "[I 2019-02-10 03:20:07,273] Finished a trial resulted in value: 0.2533271216709373. Current best value is 0.2306739653699822 with parameters: {'n_estimators': 565, 'gamma': 0.3641670603984294, 'lambda': 1.9554599458855408, 'learning_rate': 0.022084881334661438, 'max_depth': 4, 'subsample': 0.3896240481977191, 'colsample_bytree': 0.867752612862292, 'min_child_weight': 5.414071095616966}.\n"
     ]
    },
    {
     "name": "stdout",
     "output_type": "stream",
     "text": [
      "65 "
     ]
    },
    {
     "name": "stderr",
     "output_type": "stream",
     "text": [
      "[I 2019-02-10 03:20:08,967] Finished a trial resulted in value: 0.2569842379066699. Current best value is 0.2306739653699822 with parameters: {'n_estimators': 565, 'gamma': 0.3641670603984294, 'lambda': 1.9554599458855408, 'learning_rate': 0.022084881334661438, 'max_depth': 4, 'subsample': 0.3896240481977191, 'colsample_bytree': 0.867752612862292, 'min_child_weight': 5.414071095616966}.\n"
     ]
    },
    {
     "name": "stdout",
     "output_type": "stream",
     "text": [
      "66 "
     ]
    },
    {
     "name": "stderr",
     "output_type": "stream",
     "text": [
      "[I 2019-02-10 03:20:10,574] Finished a trial resulted in value: 0.2510288065843621. Current best value is 0.2306739653699822 with parameters: {'n_estimators': 565, 'gamma': 0.3641670603984294, 'lambda': 1.9554599458855408, 'learning_rate': 0.022084881334661438, 'max_depth': 4, 'subsample': 0.3896240481977191, 'colsample_bytree': 0.867752612862292, 'min_child_weight': 5.414071095616966}.\n"
     ]
    },
    {
     "name": "stdout",
     "output_type": "stream",
     "text": [
      "67 "
     ]
    },
    {
     "name": "stderr",
     "output_type": "stream",
     "text": [
      "[I 2019-02-10 03:20:12,171] Finished a trial resulted in value: 0.2691280378911406. Current best value is 0.2306739653699822 with parameters: {'n_estimators': 565, 'gamma': 0.3641670603984294, 'lambda': 1.9554599458855408, 'learning_rate': 0.022084881334661438, 'max_depth': 4, 'subsample': 0.3896240481977191, 'colsample_bytree': 0.867752612862292, 'min_child_weight': 5.414071095616966}.\n"
     ]
    },
    {
     "name": "stdout",
     "output_type": "stream",
     "text": [
      "68 "
     ]
    },
    {
     "name": "stderr",
     "output_type": "stream",
     "text": [
      "[I 2019-02-10 03:20:13,435] Finished a trial resulted in value: 0.25411522633744854. Current best value is 0.2306739653699822 with parameters: {'n_estimators': 565, 'gamma': 0.3641670603984294, 'lambda': 1.9554599458855408, 'learning_rate': 0.022084881334661438, 'max_depth': 4, 'subsample': 0.3896240481977191, 'colsample_bytree': 0.867752612862292, 'min_child_weight': 5.414071095616966}.\n"
     ]
    },
    {
     "name": "stdout",
     "output_type": "stream",
     "text": [
      "69 "
     ]
    },
    {
     "name": "stderr",
     "output_type": "stream",
     "text": [
      "[I 2019-02-10 03:20:13,804] Finished a trial resulted in value: 0.5. Current best value is 0.2306739653699822 with parameters: {'n_estimators': 565, 'gamma': 0.3641670603984294, 'lambda': 1.9554599458855408, 'learning_rate': 0.022084881334661438, 'max_depth': 4, 'subsample': 0.3896240481977191, 'colsample_bytree': 0.867752612862292, 'min_child_weight': 5.414071095616966}.\n"
     ]
    },
    {
     "name": "stdout",
     "output_type": "stream",
     "text": [
      "70 "
     ]
    },
    {
     "name": "stderr",
     "output_type": "stream",
     "text": [
      "[I 2019-02-10 03:20:14,077] Finished a trial resulted in value: 0.31871651525739575. Current best value is 0.2306739653699822 with parameters: {'n_estimators': 565, 'gamma': 0.3641670603984294, 'lambda': 1.9554599458855408, 'learning_rate': 0.022084881334661438, 'max_depth': 4, 'subsample': 0.3896240481977191, 'colsample_bytree': 0.867752612862292, 'min_child_weight': 5.414071095616966}.\n"
     ]
    },
    {
     "name": "stdout",
     "output_type": "stream",
     "text": [
      "71 "
     ]
    },
    {
     "name": "stderr",
     "output_type": "stream",
     "text": [
      "[I 2019-02-10 03:20:16,304] Finished a trial resulted in value: 0.30756658125630876. Current best value is 0.2306739653699822 with parameters: {'n_estimators': 565, 'gamma': 0.3641670603984294, 'lambda': 1.9554599458855408, 'learning_rate': 0.022084881334661438, 'max_depth': 4, 'subsample': 0.3896240481977191, 'colsample_bytree': 0.867752612862292, 'min_child_weight': 5.414071095616966}.\n"
     ]
    },
    {
     "name": "stdout",
     "output_type": "stream",
     "text": [
      "72 "
     ]
    },
    {
     "name": "stderr",
     "output_type": "stream",
     "text": [
      "[I 2019-02-10 03:20:18,806] Finished a trial resulted in value: 0.25636307166705485. Current best value is 0.2306739653699822 with parameters: {'n_estimators': 565, 'gamma': 0.3641670603984294, 'lambda': 1.9554599458855408, 'learning_rate': 0.022084881334661438, 'max_depth': 4, 'subsample': 0.3896240481977191, 'colsample_bytree': 0.867752612862292, 'min_child_weight': 5.414071095616966}.\n"
     ]
    },
    {
     "name": "stdout",
     "output_type": "stream",
     "text": [
      "73 "
     ]
    },
    {
     "name": "stderr",
     "output_type": "stream",
     "text": [
      "[I 2019-02-10 03:20:19,231] Finished a trial resulted in value: 0.47870370370370374. Current best value is 0.2306739653699822 with parameters: {'n_estimators': 565, 'gamma': 0.3641670603984294, 'lambda': 1.9554599458855408, 'learning_rate': 0.022084881334661438, 'max_depth': 4, 'subsample': 0.3896240481977191, 'colsample_bytree': 0.867752612862292, 'min_child_weight': 5.414071095616966}.\n"
     ]
    },
    {
     "name": "stdout",
     "output_type": "stream",
     "text": [
      "74 "
     ]
    },
    {
     "name": "stderr",
     "output_type": "stream",
     "text": [
      "[I 2019-02-10 03:20:19,720] Finished a trial resulted in value: 0.47283950617283954. Current best value is 0.2306739653699822 with parameters: {'n_estimators': 565, 'gamma': 0.3641670603984294, 'lambda': 1.9554599458855408, 'learning_rate': 0.022084881334661438, 'max_depth': 4, 'subsample': 0.3896240481977191, 'colsample_bytree': 0.867752612862292, 'min_child_weight': 5.414071095616966}.\n"
     ]
    },
    {
     "name": "stdout",
     "output_type": "stream",
     "text": [
      "75 "
     ]
    },
    {
     "name": "stderr",
     "output_type": "stream",
     "text": [
      "[I 2019-02-10 03:20:20,974] Finished a trial resulted in value: 0.2492934234024381. Current best value is 0.2306739653699822 with parameters: {'n_estimators': 565, 'gamma': 0.3641670603984294, 'lambda': 1.9554599458855408, 'learning_rate': 0.022084881334661438, 'max_depth': 4, 'subsample': 0.3896240481977191, 'colsample_bytree': 0.867752612862292, 'min_child_weight': 5.414071095616966}.\n"
     ]
    },
    {
     "name": "stdout",
     "output_type": "stream",
     "text": [
      "76 "
     ]
    },
    {
     "ename": "KeyboardInterrupt",
     "evalue": "",
     "output_type": "error",
     "traceback": [
      "\u001b[0;31m---------------------------------------------------------------------------\u001b[0m",
      "\u001b[0;31mKeyboardInterrupt\u001b[0m                         Traceback (most recent call last)",
      "\u001b[0;32m<ipython-input-6-31fd0bfbd419>\u001b[0m in \u001b[0;36m<module>\u001b[0;34m()\u001b[0m\n\u001b[1;32m      1\u001b[0m \u001b[0mf\u001b[0m \u001b[0;34m=\u001b[0m \u001b[0mpartial\u001b[0m\u001b[0;34m(\u001b[0m\u001b[0mobjective_optuna\u001b[0m\u001b[0;34m,\u001b[0m \u001b[0mtrain\u001b[0m\u001b[0;34m,\u001b[0m \u001b[0mlabels\u001b[0m\u001b[0;34m)\u001b[0m\u001b[0;34m\u001b[0m\u001b[0m\n\u001b[1;32m      2\u001b[0m \u001b[0mstudy\u001b[0m \u001b[0;34m=\u001b[0m \u001b[0moptuna\u001b[0m\u001b[0;34m.\u001b[0m\u001b[0mcreate_study\u001b[0m\u001b[0;34m(\u001b[0m\u001b[0;34m)\u001b[0m\u001b[0;34m\u001b[0m\u001b[0m\n\u001b[0;32m----> 3\u001b[0;31m \u001b[0mstudy\u001b[0m\u001b[0;34m.\u001b[0m\u001b[0moptimize\u001b[0m\u001b[0;34m(\u001b[0m\u001b[0mf\u001b[0m\u001b[0;34m,\u001b[0m \u001b[0mn_trials\u001b[0m\u001b[0;34m=\u001b[0m\u001b[0;36m10000\u001b[0m\u001b[0;34m)\u001b[0m\u001b[0;34m\u001b[0m\u001b[0m\n\u001b[0m",
      "\u001b[0;32m~/.pyenv/versions/anaconda3-5.2.0/lib/python3.6/site-packages/optuna/study.py\u001b[0m in \u001b[0;36moptimize\u001b[0;34m(self, func, n_trials, timeout, n_jobs, catch)\u001b[0m\n\u001b[1;32m    220\u001b[0m \u001b[0;34m\u001b[0m\u001b[0m\n\u001b[1;32m    221\u001b[0m         \u001b[0;32mif\u001b[0m \u001b[0mn_jobs\u001b[0m \u001b[0;34m==\u001b[0m \u001b[0;36m1\u001b[0m\u001b[0;34m:\u001b[0m\u001b[0;34m\u001b[0m\u001b[0m\n\u001b[0;32m--> 222\u001b[0;31m             \u001b[0mself\u001b[0m\u001b[0;34m.\u001b[0m\u001b[0m_optimize_sequential\u001b[0m\u001b[0;34m(\u001b[0m\u001b[0mfunc\u001b[0m\u001b[0;34m,\u001b[0m \u001b[0mn_trials\u001b[0m\u001b[0;34m,\u001b[0m \u001b[0mtimeout\u001b[0m\u001b[0;34m,\u001b[0m \u001b[0mcatch\u001b[0m\u001b[0;34m)\u001b[0m\u001b[0;34m\u001b[0m\u001b[0m\n\u001b[0m\u001b[1;32m    223\u001b[0m         \u001b[0;32melse\u001b[0m\u001b[0;34m:\u001b[0m\u001b[0;34m\u001b[0m\u001b[0m\n\u001b[1;32m    224\u001b[0m             \u001b[0mself\u001b[0m\u001b[0;34m.\u001b[0m\u001b[0m_optimize_parallel\u001b[0m\u001b[0;34m(\u001b[0m\u001b[0mfunc\u001b[0m\u001b[0;34m,\u001b[0m \u001b[0mn_trials\u001b[0m\u001b[0;34m,\u001b[0m \u001b[0mtimeout\u001b[0m\u001b[0;34m,\u001b[0m \u001b[0mn_jobs\u001b[0m\u001b[0;34m,\u001b[0m \u001b[0mcatch\u001b[0m\u001b[0;34m)\u001b[0m\u001b[0;34m\u001b[0m\u001b[0m\n",
      "\u001b[0;32m~/.pyenv/versions/anaconda3-5.2.0/lib/python3.6/site-packages/optuna/study.py\u001b[0m in \u001b[0;36m_optimize_sequential\u001b[0;34m(self, func, n_trials, timeout, catch)\u001b[0m\n\u001b[1;32m    334\u001b[0m                     \u001b[0;32mbreak\u001b[0m\u001b[0;34m\u001b[0m\u001b[0m\n\u001b[1;32m    335\u001b[0m \u001b[0;34m\u001b[0m\u001b[0m\n\u001b[0;32m--> 336\u001b[0;31m             \u001b[0mself\u001b[0m\u001b[0;34m.\u001b[0m\u001b[0m_run_trial\u001b[0m\u001b[0;34m(\u001b[0m\u001b[0mfunc\u001b[0m\u001b[0;34m,\u001b[0m \u001b[0mcatch\u001b[0m\u001b[0;34m)\u001b[0m\u001b[0;34m\u001b[0m\u001b[0m\n\u001b[0m\u001b[1;32m    337\u001b[0m \u001b[0;34m\u001b[0m\u001b[0m\n\u001b[1;32m    338\u001b[0m     def _optimize_parallel(\n",
      "\u001b[0;32m~/.pyenv/versions/anaconda3-5.2.0/lib/python3.6/site-packages/optuna/study.py\u001b[0m in \u001b[0;36m_run_trial\u001b[0;34m(self, func, catch)\u001b[0m\n\u001b[1;32m    407\u001b[0m \u001b[0;34m\u001b[0m\u001b[0m\n\u001b[1;32m    408\u001b[0m         \u001b[0;32mtry\u001b[0m\u001b[0;34m:\u001b[0m\u001b[0;34m\u001b[0m\u001b[0m\n\u001b[0;32m--> 409\u001b[0;31m             \u001b[0mresult\u001b[0m \u001b[0;34m=\u001b[0m \u001b[0mfunc\u001b[0m\u001b[0;34m(\u001b[0m\u001b[0mtrial\u001b[0m\u001b[0;34m)\u001b[0m\u001b[0;34m\u001b[0m\u001b[0m\n\u001b[0m\u001b[1;32m    410\u001b[0m         \u001b[0;32mexcept\u001b[0m \u001b[0mstructs\u001b[0m\u001b[0;34m.\u001b[0m\u001b[0mTrialPruned\u001b[0m \u001b[0;32mas\u001b[0m \u001b[0me\u001b[0m\u001b[0;34m:\u001b[0m\u001b[0;34m\u001b[0m\u001b[0m\n\u001b[1;32m    411\u001b[0m             message = 'Setting trial status as {}. {}'.format(\n",
      "\u001b[0;32m<ipython-input-3-9fc07c77df0a>\u001b[0m in \u001b[0;36mobjective_optuna\u001b[0;34m(X, y, trial)\u001b[0m\n\u001b[1;32m     22\u001b[0m \u001b[0;31m#     #3-foldクロスバリデーション\u001b[0m\u001b[0;34m\u001b[0m\u001b[0;34m\u001b[0m\u001b[0m\n\u001b[1;32m     23\u001b[0m     \u001b[0mkf\u001b[0m \u001b[0;34m=\u001b[0m \u001b[0mStratifiedKFold\u001b[0m\u001b[0;34m(\u001b[0m\u001b[0mn_splits\u001b[0m\u001b[0;34m=\u001b[0m\u001b[0;36m3\u001b[0m\u001b[0;34m,\u001b[0m \u001b[0mshuffle\u001b[0m\u001b[0;34m=\u001b[0m\u001b[0;32mTrue\u001b[0m\u001b[0;34m,\u001b[0m \u001b[0mrandom_state\u001b[0m\u001b[0;34m=\u001b[0m\u001b[0;36m2\u001b[0m\u001b[0;34m)\u001b[0m\u001b[0;34m\u001b[0m\u001b[0m\n\u001b[0;32m---> 24\u001b[0;31m     \u001b[0mscores\u001b[0m \u001b[0;34m=\u001b[0m \u001b[0mcross_validate\u001b[0m\u001b[0;34m(\u001b[0m\u001b[0mmodel\u001b[0m\u001b[0;34m,\u001b[0m \u001b[0mX\u001b[0m\u001b[0;34m=\u001b[0m\u001b[0mX\u001b[0m\u001b[0;34m,\u001b[0m \u001b[0my\u001b[0m\u001b[0;34m=\u001b[0m\u001b[0my\u001b[0m\u001b[0;34m,\u001b[0m \u001b[0mcv\u001b[0m\u001b[0;34m=\u001b[0m\u001b[0mkf\u001b[0m\u001b[0;34m,\u001b[0m \u001b[0mscoring\u001b[0m\u001b[0;34m=\u001b[0m\u001b[0;34m'roc_auc'\u001b[0m\u001b[0;34m)\u001b[0m\u001b[0;34m\u001b[0m\u001b[0m\n\u001b[0m\u001b[1;32m     25\u001b[0m \u001b[0;34m\u001b[0m\u001b[0m\n\u001b[1;32m     26\u001b[0m     \u001b[0;32mreturn\u001b[0m \u001b[0;36m1.0\u001b[0m \u001b[0;34m-\u001b[0m \u001b[0mscores\u001b[0m\u001b[0;34m[\u001b[0m\u001b[0;34m'test_score'\u001b[0m\u001b[0;34m]\u001b[0m\u001b[0;34m.\u001b[0m\u001b[0mmean\u001b[0m\u001b[0;34m(\u001b[0m\u001b[0;34m)\u001b[0m\u001b[0;34m\u001b[0m\u001b[0m\n",
      "\u001b[0;32m~/.pyenv/versions/anaconda3-5.2.0/lib/python3.6/site-packages/sklearn/model_selection/_validation.py\u001b[0m in \u001b[0;36mcross_validate\u001b[0;34m(estimator, X, y, groups, scoring, cv, n_jobs, verbose, fit_params, pre_dispatch, return_train_score)\u001b[0m\n\u001b[1;32m    204\u001b[0m             \u001b[0mfit_params\u001b[0m\u001b[0;34m,\u001b[0m \u001b[0mreturn_train_score\u001b[0m\u001b[0;34m=\u001b[0m\u001b[0mreturn_train_score\u001b[0m\u001b[0;34m,\u001b[0m\u001b[0;34m\u001b[0m\u001b[0m\n\u001b[1;32m    205\u001b[0m             return_times=True)\n\u001b[0;32m--> 206\u001b[0;31m         for train, test in cv.split(X, y, groups))\n\u001b[0m\u001b[1;32m    207\u001b[0m \u001b[0;34m\u001b[0m\u001b[0m\n\u001b[1;32m    208\u001b[0m     \u001b[0;32mif\u001b[0m \u001b[0mreturn_train_score\u001b[0m\u001b[0;34m:\u001b[0m\u001b[0;34m\u001b[0m\u001b[0m\n",
      "\u001b[0;32m~/.pyenv/versions/anaconda3-5.2.0/lib/python3.6/site-packages/sklearn/externals/joblib/parallel.py\u001b[0m in \u001b[0;36m__call__\u001b[0;34m(self, iterable)\u001b[0m\n\u001b[1;32m    777\u001b[0m             \u001b[0;31m# was dispatched. In particular this covers the edge\u001b[0m\u001b[0;34m\u001b[0m\u001b[0;34m\u001b[0m\u001b[0m\n\u001b[1;32m    778\u001b[0m             \u001b[0;31m# case of Parallel used with an exhausted iterator.\u001b[0m\u001b[0;34m\u001b[0m\u001b[0;34m\u001b[0m\u001b[0m\n\u001b[0;32m--> 779\u001b[0;31m             \u001b[0;32mwhile\u001b[0m \u001b[0mself\u001b[0m\u001b[0;34m.\u001b[0m\u001b[0mdispatch_one_batch\u001b[0m\u001b[0;34m(\u001b[0m\u001b[0miterator\u001b[0m\u001b[0;34m)\u001b[0m\u001b[0;34m:\u001b[0m\u001b[0;34m\u001b[0m\u001b[0m\n\u001b[0m\u001b[1;32m    780\u001b[0m                 \u001b[0mself\u001b[0m\u001b[0;34m.\u001b[0m\u001b[0m_iterating\u001b[0m \u001b[0;34m=\u001b[0m \u001b[0;32mTrue\u001b[0m\u001b[0;34m\u001b[0m\u001b[0m\n\u001b[1;32m    781\u001b[0m             \u001b[0;32melse\u001b[0m\u001b[0;34m:\u001b[0m\u001b[0;34m\u001b[0m\u001b[0m\n",
      "\u001b[0;32m~/.pyenv/versions/anaconda3-5.2.0/lib/python3.6/site-packages/sklearn/externals/joblib/parallel.py\u001b[0m in \u001b[0;36mdispatch_one_batch\u001b[0;34m(self, iterator)\u001b[0m\n\u001b[1;32m    623\u001b[0m                 \u001b[0;32mreturn\u001b[0m \u001b[0;32mFalse\u001b[0m\u001b[0;34m\u001b[0m\u001b[0m\n\u001b[1;32m    624\u001b[0m             \u001b[0;32melse\u001b[0m\u001b[0;34m:\u001b[0m\u001b[0;34m\u001b[0m\u001b[0m\n\u001b[0;32m--> 625\u001b[0;31m                 \u001b[0mself\u001b[0m\u001b[0;34m.\u001b[0m\u001b[0m_dispatch\u001b[0m\u001b[0;34m(\u001b[0m\u001b[0mtasks\u001b[0m\u001b[0;34m)\u001b[0m\u001b[0;34m\u001b[0m\u001b[0m\n\u001b[0m\u001b[1;32m    626\u001b[0m                 \u001b[0;32mreturn\u001b[0m \u001b[0;32mTrue\u001b[0m\u001b[0;34m\u001b[0m\u001b[0m\n\u001b[1;32m    627\u001b[0m \u001b[0;34m\u001b[0m\u001b[0m\n",
      "\u001b[0;32m~/.pyenv/versions/anaconda3-5.2.0/lib/python3.6/site-packages/sklearn/externals/joblib/parallel.py\u001b[0m in \u001b[0;36m_dispatch\u001b[0;34m(self, batch)\u001b[0m\n\u001b[1;32m    586\u001b[0m         \u001b[0mdispatch_timestamp\u001b[0m \u001b[0;34m=\u001b[0m \u001b[0mtime\u001b[0m\u001b[0;34m.\u001b[0m\u001b[0mtime\u001b[0m\u001b[0;34m(\u001b[0m\u001b[0;34m)\u001b[0m\u001b[0;34m\u001b[0m\u001b[0m\n\u001b[1;32m    587\u001b[0m         \u001b[0mcb\u001b[0m \u001b[0;34m=\u001b[0m \u001b[0mBatchCompletionCallBack\u001b[0m\u001b[0;34m(\u001b[0m\u001b[0mdispatch_timestamp\u001b[0m\u001b[0;34m,\u001b[0m \u001b[0mlen\u001b[0m\u001b[0;34m(\u001b[0m\u001b[0mbatch\u001b[0m\u001b[0;34m)\u001b[0m\u001b[0;34m,\u001b[0m \u001b[0mself\u001b[0m\u001b[0;34m)\u001b[0m\u001b[0;34m\u001b[0m\u001b[0m\n\u001b[0;32m--> 588\u001b[0;31m         \u001b[0mjob\u001b[0m \u001b[0;34m=\u001b[0m \u001b[0mself\u001b[0m\u001b[0;34m.\u001b[0m\u001b[0m_backend\u001b[0m\u001b[0;34m.\u001b[0m\u001b[0mapply_async\u001b[0m\u001b[0;34m(\u001b[0m\u001b[0mbatch\u001b[0m\u001b[0;34m,\u001b[0m \u001b[0mcallback\u001b[0m\u001b[0;34m=\u001b[0m\u001b[0mcb\u001b[0m\u001b[0;34m)\u001b[0m\u001b[0;34m\u001b[0m\u001b[0m\n\u001b[0m\u001b[1;32m    589\u001b[0m         \u001b[0mself\u001b[0m\u001b[0;34m.\u001b[0m\u001b[0m_jobs\u001b[0m\u001b[0;34m.\u001b[0m\u001b[0mappend\u001b[0m\u001b[0;34m(\u001b[0m\u001b[0mjob\u001b[0m\u001b[0;34m)\u001b[0m\u001b[0;34m\u001b[0m\u001b[0m\n\u001b[1;32m    590\u001b[0m \u001b[0;34m\u001b[0m\u001b[0m\n",
      "\u001b[0;32m~/.pyenv/versions/anaconda3-5.2.0/lib/python3.6/site-packages/sklearn/externals/joblib/_parallel_backends.py\u001b[0m in \u001b[0;36mapply_async\u001b[0;34m(self, func, callback)\u001b[0m\n\u001b[1;32m    109\u001b[0m     \u001b[0;32mdef\u001b[0m \u001b[0mapply_async\u001b[0m\u001b[0;34m(\u001b[0m\u001b[0mself\u001b[0m\u001b[0;34m,\u001b[0m \u001b[0mfunc\u001b[0m\u001b[0;34m,\u001b[0m \u001b[0mcallback\u001b[0m\u001b[0;34m=\u001b[0m\u001b[0;32mNone\u001b[0m\u001b[0;34m)\u001b[0m\u001b[0;34m:\u001b[0m\u001b[0;34m\u001b[0m\u001b[0m\n\u001b[1;32m    110\u001b[0m         \u001b[0;34m\"\"\"Schedule a func to be run\"\"\"\u001b[0m\u001b[0;34m\u001b[0m\u001b[0m\n\u001b[0;32m--> 111\u001b[0;31m         \u001b[0mresult\u001b[0m \u001b[0;34m=\u001b[0m \u001b[0mImmediateResult\u001b[0m\u001b[0;34m(\u001b[0m\u001b[0mfunc\u001b[0m\u001b[0;34m)\u001b[0m\u001b[0;34m\u001b[0m\u001b[0m\n\u001b[0m\u001b[1;32m    112\u001b[0m         \u001b[0;32mif\u001b[0m \u001b[0mcallback\u001b[0m\u001b[0;34m:\u001b[0m\u001b[0;34m\u001b[0m\u001b[0m\n\u001b[1;32m    113\u001b[0m             \u001b[0mcallback\u001b[0m\u001b[0;34m(\u001b[0m\u001b[0mresult\u001b[0m\u001b[0;34m)\u001b[0m\u001b[0;34m\u001b[0m\u001b[0m\n",
      "\u001b[0;32m~/.pyenv/versions/anaconda3-5.2.0/lib/python3.6/site-packages/sklearn/externals/joblib/_parallel_backends.py\u001b[0m in \u001b[0;36m__init__\u001b[0;34m(self, batch)\u001b[0m\n\u001b[1;32m    330\u001b[0m         \u001b[0;31m# Don't delay the application, to avoid keeping the input\u001b[0m\u001b[0;34m\u001b[0m\u001b[0;34m\u001b[0m\u001b[0m\n\u001b[1;32m    331\u001b[0m         \u001b[0;31m# arguments in memory\u001b[0m\u001b[0;34m\u001b[0m\u001b[0;34m\u001b[0m\u001b[0m\n\u001b[0;32m--> 332\u001b[0;31m         \u001b[0mself\u001b[0m\u001b[0;34m.\u001b[0m\u001b[0mresults\u001b[0m \u001b[0;34m=\u001b[0m \u001b[0mbatch\u001b[0m\u001b[0;34m(\u001b[0m\u001b[0;34m)\u001b[0m\u001b[0;34m\u001b[0m\u001b[0m\n\u001b[0m\u001b[1;32m    333\u001b[0m \u001b[0;34m\u001b[0m\u001b[0m\n\u001b[1;32m    334\u001b[0m     \u001b[0;32mdef\u001b[0m \u001b[0mget\u001b[0m\u001b[0;34m(\u001b[0m\u001b[0mself\u001b[0m\u001b[0;34m)\u001b[0m\u001b[0;34m:\u001b[0m\u001b[0;34m\u001b[0m\u001b[0m\n",
      "\u001b[0;32m~/.pyenv/versions/anaconda3-5.2.0/lib/python3.6/site-packages/sklearn/externals/joblib/parallel.py\u001b[0m in \u001b[0;36m__call__\u001b[0;34m(self)\u001b[0m\n\u001b[1;32m    129\u001b[0m \u001b[0;34m\u001b[0m\u001b[0m\n\u001b[1;32m    130\u001b[0m     \u001b[0;32mdef\u001b[0m \u001b[0m__call__\u001b[0m\u001b[0;34m(\u001b[0m\u001b[0mself\u001b[0m\u001b[0;34m)\u001b[0m\u001b[0;34m:\u001b[0m\u001b[0;34m\u001b[0m\u001b[0m\n\u001b[0;32m--> 131\u001b[0;31m         \u001b[0;32mreturn\u001b[0m \u001b[0;34m[\u001b[0m\u001b[0mfunc\u001b[0m\u001b[0;34m(\u001b[0m\u001b[0;34m*\u001b[0m\u001b[0margs\u001b[0m\u001b[0;34m,\u001b[0m \u001b[0;34m**\u001b[0m\u001b[0mkwargs\u001b[0m\u001b[0;34m)\u001b[0m \u001b[0;32mfor\u001b[0m \u001b[0mfunc\u001b[0m\u001b[0;34m,\u001b[0m \u001b[0margs\u001b[0m\u001b[0;34m,\u001b[0m \u001b[0mkwargs\u001b[0m \u001b[0;32min\u001b[0m \u001b[0mself\u001b[0m\u001b[0;34m.\u001b[0m\u001b[0mitems\u001b[0m\u001b[0;34m]\u001b[0m\u001b[0;34m\u001b[0m\u001b[0m\n\u001b[0m\u001b[1;32m    132\u001b[0m \u001b[0;34m\u001b[0m\u001b[0m\n\u001b[1;32m    133\u001b[0m     \u001b[0;32mdef\u001b[0m \u001b[0m__len__\u001b[0m\u001b[0;34m(\u001b[0m\u001b[0mself\u001b[0m\u001b[0;34m)\u001b[0m\u001b[0;34m:\u001b[0m\u001b[0;34m\u001b[0m\u001b[0m\n",
      "\u001b[0;32m~/.pyenv/versions/anaconda3-5.2.0/lib/python3.6/site-packages/sklearn/externals/joblib/parallel.py\u001b[0m in \u001b[0;36m<listcomp>\u001b[0;34m(.0)\u001b[0m\n\u001b[1;32m    129\u001b[0m \u001b[0;34m\u001b[0m\u001b[0m\n\u001b[1;32m    130\u001b[0m     \u001b[0;32mdef\u001b[0m \u001b[0m__call__\u001b[0m\u001b[0;34m(\u001b[0m\u001b[0mself\u001b[0m\u001b[0;34m)\u001b[0m\u001b[0;34m:\u001b[0m\u001b[0;34m\u001b[0m\u001b[0m\n\u001b[0;32m--> 131\u001b[0;31m         \u001b[0;32mreturn\u001b[0m \u001b[0;34m[\u001b[0m\u001b[0mfunc\u001b[0m\u001b[0;34m(\u001b[0m\u001b[0;34m*\u001b[0m\u001b[0margs\u001b[0m\u001b[0;34m,\u001b[0m \u001b[0;34m**\u001b[0m\u001b[0mkwargs\u001b[0m\u001b[0;34m)\u001b[0m \u001b[0;32mfor\u001b[0m \u001b[0mfunc\u001b[0m\u001b[0;34m,\u001b[0m \u001b[0margs\u001b[0m\u001b[0;34m,\u001b[0m \u001b[0mkwargs\u001b[0m \u001b[0;32min\u001b[0m \u001b[0mself\u001b[0m\u001b[0;34m.\u001b[0m\u001b[0mitems\u001b[0m\u001b[0;34m]\u001b[0m\u001b[0;34m\u001b[0m\u001b[0m\n\u001b[0m\u001b[1;32m    132\u001b[0m \u001b[0;34m\u001b[0m\u001b[0m\n\u001b[1;32m    133\u001b[0m     \u001b[0;32mdef\u001b[0m \u001b[0m__len__\u001b[0m\u001b[0;34m(\u001b[0m\u001b[0mself\u001b[0m\u001b[0;34m)\u001b[0m\u001b[0;34m:\u001b[0m\u001b[0;34m\u001b[0m\u001b[0m\n",
      "\u001b[0;32m~/.pyenv/versions/anaconda3-5.2.0/lib/python3.6/site-packages/sklearn/model_selection/_validation.py\u001b[0m in \u001b[0;36m_fit_and_score\u001b[0;34m(estimator, X, y, scorer, train, test, verbose, parameters, fit_params, return_train_score, return_parameters, return_n_test_samples, return_times, error_score)\u001b[0m\n\u001b[1;32m    456\u001b[0m             \u001b[0mestimator\u001b[0m\u001b[0;34m.\u001b[0m\u001b[0mfit\u001b[0m\u001b[0;34m(\u001b[0m\u001b[0mX_train\u001b[0m\u001b[0;34m,\u001b[0m \u001b[0;34m**\u001b[0m\u001b[0mfit_params\u001b[0m\u001b[0;34m)\u001b[0m\u001b[0;34m\u001b[0m\u001b[0m\n\u001b[1;32m    457\u001b[0m         \u001b[0;32melse\u001b[0m\u001b[0;34m:\u001b[0m\u001b[0;34m\u001b[0m\u001b[0m\n\u001b[0;32m--> 458\u001b[0;31m             \u001b[0mestimator\u001b[0m\u001b[0;34m.\u001b[0m\u001b[0mfit\u001b[0m\u001b[0;34m(\u001b[0m\u001b[0mX_train\u001b[0m\u001b[0;34m,\u001b[0m \u001b[0my_train\u001b[0m\u001b[0;34m,\u001b[0m \u001b[0;34m**\u001b[0m\u001b[0mfit_params\u001b[0m\u001b[0;34m)\u001b[0m\u001b[0;34m\u001b[0m\u001b[0m\n\u001b[0m\u001b[1;32m    459\u001b[0m \u001b[0;34m\u001b[0m\u001b[0m\n\u001b[1;32m    460\u001b[0m     \u001b[0;32mexcept\u001b[0m \u001b[0mException\u001b[0m \u001b[0;32mas\u001b[0m \u001b[0me\u001b[0m\u001b[0;34m:\u001b[0m\u001b[0;34m\u001b[0m\u001b[0m\n",
      "\u001b[0;32m~/.pyenv/versions/anaconda3-5.2.0/lib/python3.6/site-packages/xgboost/sklearn.py\u001b[0m in \u001b[0;36mfit\u001b[0;34m(self, X, y, sample_weight, eval_set, eval_metric, early_stopping_rounds, verbose, xgb_model, sample_weight_eval_set, callbacks)\u001b[0m\n\u001b[1;32m    698\u001b[0m                               \u001b[0mevals_result\u001b[0m\u001b[0;34m=\u001b[0m\u001b[0mevals_result\u001b[0m\u001b[0;34m,\u001b[0m \u001b[0mobj\u001b[0m\u001b[0;34m=\u001b[0m\u001b[0mobj\u001b[0m\u001b[0;34m,\u001b[0m \u001b[0mfeval\u001b[0m\u001b[0;34m=\u001b[0m\u001b[0mfeval\u001b[0m\u001b[0;34m,\u001b[0m\u001b[0;34m\u001b[0m\u001b[0m\n\u001b[1;32m    699\u001b[0m                               \u001b[0mverbose_eval\u001b[0m\u001b[0;34m=\u001b[0m\u001b[0mverbose\u001b[0m\u001b[0;34m,\u001b[0m \u001b[0mxgb_model\u001b[0m\u001b[0;34m=\u001b[0m\u001b[0;32mNone\u001b[0m\u001b[0;34m,\u001b[0m\u001b[0;34m\u001b[0m\u001b[0m\n\u001b[0;32m--> 700\u001b[0;31m                               callbacks=callbacks)\n\u001b[0m\u001b[1;32m    701\u001b[0m \u001b[0;34m\u001b[0m\u001b[0m\n\u001b[1;32m    702\u001b[0m         \u001b[0mself\u001b[0m\u001b[0;34m.\u001b[0m\u001b[0mobjective\u001b[0m \u001b[0;34m=\u001b[0m \u001b[0mxgb_options\u001b[0m\u001b[0;34m[\u001b[0m\u001b[0;34m\"objective\"\u001b[0m\u001b[0;34m]\u001b[0m\u001b[0;34m\u001b[0m\u001b[0m\n",
      "\u001b[0;32m~/.pyenv/versions/anaconda3-5.2.0/lib/python3.6/site-packages/xgboost/training.py\u001b[0m in \u001b[0;36mtrain\u001b[0;34m(params, dtrain, num_boost_round, evals, obj, feval, maximize, early_stopping_rounds, evals_result, verbose_eval, xgb_model, callbacks, learning_rates)\u001b[0m\n\u001b[1;32m    214\u001b[0m                            \u001b[0mevals\u001b[0m\u001b[0;34m=\u001b[0m\u001b[0mevals\u001b[0m\u001b[0;34m,\u001b[0m\u001b[0;34m\u001b[0m\u001b[0m\n\u001b[1;32m    215\u001b[0m                            \u001b[0mobj\u001b[0m\u001b[0;34m=\u001b[0m\u001b[0mobj\u001b[0m\u001b[0;34m,\u001b[0m \u001b[0mfeval\u001b[0m\u001b[0;34m=\u001b[0m\u001b[0mfeval\u001b[0m\u001b[0;34m,\u001b[0m\u001b[0;34m\u001b[0m\u001b[0m\n\u001b[0;32m--> 216\u001b[0;31m                            xgb_model=xgb_model, callbacks=callbacks)\n\u001b[0m\u001b[1;32m    217\u001b[0m \u001b[0;34m\u001b[0m\u001b[0m\n\u001b[1;32m    218\u001b[0m \u001b[0;34m\u001b[0m\u001b[0m\n",
      "\u001b[0;32m~/.pyenv/versions/anaconda3-5.2.0/lib/python3.6/site-packages/xgboost/training.py\u001b[0m in \u001b[0;36m_train_internal\u001b[0;34m(params, dtrain, num_boost_round, evals, obj, feval, xgb_model, callbacks)\u001b[0m\n\u001b[1;32m     72\u001b[0m         \u001b[0;31m# Skip the first update if it is a recovery step.\u001b[0m\u001b[0;34m\u001b[0m\u001b[0;34m\u001b[0m\u001b[0m\n\u001b[1;32m     73\u001b[0m         \u001b[0;32mif\u001b[0m \u001b[0mversion\u001b[0m \u001b[0;34m%\u001b[0m \u001b[0;36m2\u001b[0m \u001b[0;34m==\u001b[0m \u001b[0;36m0\u001b[0m\u001b[0;34m:\u001b[0m\u001b[0;34m\u001b[0m\u001b[0m\n\u001b[0;32m---> 74\u001b[0;31m             \u001b[0mbst\u001b[0m\u001b[0;34m.\u001b[0m\u001b[0mupdate\u001b[0m\u001b[0;34m(\u001b[0m\u001b[0mdtrain\u001b[0m\u001b[0;34m,\u001b[0m \u001b[0mi\u001b[0m\u001b[0;34m,\u001b[0m \u001b[0mobj\u001b[0m\u001b[0;34m)\u001b[0m\u001b[0;34m\u001b[0m\u001b[0m\n\u001b[0m\u001b[1;32m     75\u001b[0m             \u001b[0mbst\u001b[0m\u001b[0;34m.\u001b[0m\u001b[0msave_rabit_checkpoint\u001b[0m\u001b[0;34m(\u001b[0m\u001b[0;34m)\u001b[0m\u001b[0;34m\u001b[0m\u001b[0m\n\u001b[1;32m     76\u001b[0m             \u001b[0mversion\u001b[0m \u001b[0;34m+=\u001b[0m \u001b[0;36m1\u001b[0m\u001b[0;34m\u001b[0m\u001b[0m\n",
      "\u001b[0;32m~/.pyenv/versions/anaconda3-5.2.0/lib/python3.6/site-packages/xgboost/core.py\u001b[0m in \u001b[0;36mupdate\u001b[0;34m(self, dtrain, iteration, fobj)\u001b[0m\n\u001b[1;32m   1043\u001b[0m         \u001b[0;32mif\u001b[0m \u001b[0mfobj\u001b[0m \u001b[0;32mis\u001b[0m \u001b[0;32mNone\u001b[0m\u001b[0;34m:\u001b[0m\u001b[0;34m\u001b[0m\u001b[0m\n\u001b[1;32m   1044\u001b[0m             _check_call(_LIB.XGBoosterUpdateOneIter(self.handle, ctypes.c_int(iteration),\n\u001b[0;32m-> 1045\u001b[0;31m                                                     dtrain.handle))\n\u001b[0m\u001b[1;32m   1046\u001b[0m         \u001b[0;32melse\u001b[0m\u001b[0;34m:\u001b[0m\u001b[0;34m\u001b[0m\u001b[0m\n\u001b[1;32m   1047\u001b[0m             \u001b[0mpred\u001b[0m \u001b[0;34m=\u001b[0m \u001b[0mself\u001b[0m\u001b[0;34m.\u001b[0m\u001b[0mpredict\u001b[0m\u001b[0;34m(\u001b[0m\u001b[0mdtrain\u001b[0m\u001b[0;34m)\u001b[0m\u001b[0;34m\u001b[0m\u001b[0m\n",
      "\u001b[0;31mKeyboardInterrupt\u001b[0m: "
     ]
    }
   ],
   "source": [
    "f = partial(objective_optuna, train, labels)\n",
    "study = optuna.create_study()\n",
    "study.optimize(f, n_trials=10000)"
   ]
  },
  {
   "cell_type": "code",
   "execution_count": null,
   "metadata": {},
   "outputs": [],
   "source": [
    "# train a xgboost classifier\n",
    "# params = {\"num_class\": 2}\n",
    "# train_xgb = xgb.DMatrix(train, labels)\n",
    "# test_xgb  = xgb.DMatrix(test)\n",
    "# trainRound = 100\n",
    "# gbm = xgb.train(params, train_xgb, trainRound)\n",
    "# pred = gbm.predict(test_xgb)\n",
    "# pred = pred.astype('int')"
   ]
  },
  {
   "cell_type": "code",
   "execution_count": 7,
   "metadata": {},
   "outputs": [
    {
     "data": {
      "text/plain": [
       "{'n_estimators': 565,\n",
       " 'gamma': 0.3641670603984294,\n",
       " 'lambda': 1.9554599458855408,\n",
       " 'learning_rate': 0.022084881334661438,\n",
       " 'max_depth': 4,\n",
       " 'subsample': 0.3896240481977191,\n",
       " 'colsample_bytree': 0.867752612862292,\n",
       " 'min_child_weight': 5.414071095616966}"
      ]
     },
     "execution_count": 7,
     "metadata": {},
     "output_type": "execute_result"
    }
   ],
   "source": [
    "study.best_params"
   ]
  },
  {
   "cell_type": "code",
   "execution_count": 10,
   "metadata": {},
   "outputs": [],
   "source": [
    "#最適化するパラメータを設定\n",
    "    \n",
    "#モデルの定義\n",
    "model = xgb.XGBClassifier(random_state=2, **study.best_params)\n",
    "model.fit(train,labels,eval_metric='error')\n",
    "    \n",
    "kf = StratifiedKFold(n_splits=10, shuffle=True,random_state=2)\n",
    "scores = cross_validate(model, X=train, y=labels, cv=kf, scoring='roc_auc')\n",
    "# return 1.0 - scores['test_score'].mean()"
   ]
  },
  {
   "cell_type": "code",
   "execution_count": 11,
   "metadata": {},
   "outputs": [
    {
     "data": {
      "text/plain": [
       "0.7854166666666667"
      ]
     },
     "execution_count": 11,
     "metadata": {},
     "output_type": "execute_result"
    }
   ],
   "source": [
    "scores['test_score'].mean()"
   ]
  },
  {
   "cell_type": "code",
   "execution_count": 12,
   "metadata": {},
   "outputs": [],
   "source": [
    "model.save_model('xgbmodel')"
   ]
  },
  {
   "cell_type": "code",
   "execution_count": 15,
   "metadata": {},
   "outputs": [],
   "source": [
    "pred = model.predict(test)"
   ]
  },
  {
   "cell_type": "code",
   "execution_count": 20,
   "metadata": {},
   "outputs": [],
   "source": [
    "# create submission file\n",
    "submission_result = pd.DataFrame({\"target\":pred},index=test.index)\n",
    "submission_result.to_csv(savepath + 'submission_xgb.csv',index='False')"
   ]
  },
  {
   "cell_type": "markdown",
   "metadata": {},
   "source": [
    "# 以下適当なコード"
   ]
  },
  {
   "cell_type": "code",
   "execution_count": 21,
   "metadata": {},
   "outputs": [
    {
     "data": {
      "text/html": [
       "<div>\n",
       "<style scoped>\n",
       "    .dataframe tbody tr th:only-of-type {\n",
       "        vertical-align: middle;\n",
       "    }\n",
       "\n",
       "    .dataframe tbody tr th {\n",
       "        vertical-align: top;\n",
       "    }\n",
       "\n",
       "    .dataframe thead th {\n",
       "        text-align: right;\n",
       "    }\n",
       "</style>\n",
       "<table border=\"1\" class=\"dataframe\">\n",
       "  <thead>\n",
       "    <tr style=\"text-align: right;\">\n",
       "      <th></th>\n",
       "      <th>target</th>\n",
       "    </tr>\n",
       "    <tr>\n",
       "      <th>id</th>\n",
       "      <th></th>\n",
       "    </tr>\n",
       "  </thead>\n",
       "  <tbody>\n",
       "    <tr>\n",
       "      <th>250</th>\n",
       "      <td>1.0</td>\n",
       "    </tr>\n",
       "    <tr>\n",
       "      <th>251</th>\n",
       "      <td>1.0</td>\n",
       "    </tr>\n",
       "    <tr>\n",
       "      <th>252</th>\n",
       "      <td>0.0</td>\n",
       "    </tr>\n",
       "    <tr>\n",
       "      <th>253</th>\n",
       "      <td>1.0</td>\n",
       "    </tr>\n",
       "    <tr>\n",
       "      <th>254</th>\n",
       "      <td>1.0</td>\n",
       "    </tr>\n",
       "    <tr>\n",
       "      <th>255</th>\n",
       "      <td>0.0</td>\n",
       "    </tr>\n",
       "    <tr>\n",
       "      <th>256</th>\n",
       "      <td>1.0</td>\n",
       "    </tr>\n",
       "    <tr>\n",
       "      <th>257</th>\n",
       "      <td>1.0</td>\n",
       "    </tr>\n",
       "    <tr>\n",
       "      <th>258</th>\n",
       "      <td>1.0</td>\n",
       "    </tr>\n",
       "    <tr>\n",
       "      <th>259</th>\n",
       "      <td>0.0</td>\n",
       "    </tr>\n",
       "    <tr>\n",
       "      <th>260</th>\n",
       "      <td>1.0</td>\n",
       "    </tr>\n",
       "    <tr>\n",
       "      <th>261</th>\n",
       "      <td>1.0</td>\n",
       "    </tr>\n",
       "    <tr>\n",
       "      <th>262</th>\n",
       "      <td>1.0</td>\n",
       "    </tr>\n",
       "    <tr>\n",
       "      <th>263</th>\n",
       "      <td>1.0</td>\n",
       "    </tr>\n",
       "    <tr>\n",
       "      <th>264</th>\n",
       "      <td>0.0</td>\n",
       "    </tr>\n",
       "    <tr>\n",
       "      <th>265</th>\n",
       "      <td>1.0</td>\n",
       "    </tr>\n",
       "    <tr>\n",
       "      <th>266</th>\n",
       "      <td>1.0</td>\n",
       "    </tr>\n",
       "    <tr>\n",
       "      <th>267</th>\n",
       "      <td>1.0</td>\n",
       "    </tr>\n",
       "    <tr>\n",
       "      <th>268</th>\n",
       "      <td>1.0</td>\n",
       "    </tr>\n",
       "    <tr>\n",
       "      <th>269</th>\n",
       "      <td>1.0</td>\n",
       "    </tr>\n",
       "    <tr>\n",
       "      <th>270</th>\n",
       "      <td>0.0</td>\n",
       "    </tr>\n",
       "    <tr>\n",
       "      <th>271</th>\n",
       "      <td>1.0</td>\n",
       "    </tr>\n",
       "    <tr>\n",
       "      <th>272</th>\n",
       "      <td>1.0</td>\n",
       "    </tr>\n",
       "    <tr>\n",
       "      <th>273</th>\n",
       "      <td>0.0</td>\n",
       "    </tr>\n",
       "    <tr>\n",
       "      <th>274</th>\n",
       "      <td>1.0</td>\n",
       "    </tr>\n",
       "    <tr>\n",
       "      <th>275</th>\n",
       "      <td>1.0</td>\n",
       "    </tr>\n",
       "    <tr>\n",
       "      <th>276</th>\n",
       "      <td>0.0</td>\n",
       "    </tr>\n",
       "    <tr>\n",
       "      <th>277</th>\n",
       "      <td>1.0</td>\n",
       "    </tr>\n",
       "    <tr>\n",
       "      <th>278</th>\n",
       "      <td>1.0</td>\n",
       "    </tr>\n",
       "    <tr>\n",
       "      <th>279</th>\n",
       "      <td>1.0</td>\n",
       "    </tr>\n",
       "    <tr>\n",
       "      <th>...</th>\n",
       "      <td>...</td>\n",
       "    </tr>\n",
       "    <tr>\n",
       "      <th>19970</th>\n",
       "      <td>1.0</td>\n",
       "    </tr>\n",
       "    <tr>\n",
       "      <th>19971</th>\n",
       "      <td>1.0</td>\n",
       "    </tr>\n",
       "    <tr>\n",
       "      <th>19972</th>\n",
       "      <td>1.0</td>\n",
       "    </tr>\n",
       "    <tr>\n",
       "      <th>19973</th>\n",
       "      <td>0.0</td>\n",
       "    </tr>\n",
       "    <tr>\n",
       "      <th>19974</th>\n",
       "      <td>1.0</td>\n",
       "    </tr>\n",
       "    <tr>\n",
       "      <th>19975</th>\n",
       "      <td>1.0</td>\n",
       "    </tr>\n",
       "    <tr>\n",
       "      <th>19976</th>\n",
       "      <td>1.0</td>\n",
       "    </tr>\n",
       "    <tr>\n",
       "      <th>19977</th>\n",
       "      <td>1.0</td>\n",
       "    </tr>\n",
       "    <tr>\n",
       "      <th>19978</th>\n",
       "      <td>1.0</td>\n",
       "    </tr>\n",
       "    <tr>\n",
       "      <th>19979</th>\n",
       "      <td>1.0</td>\n",
       "    </tr>\n",
       "    <tr>\n",
       "      <th>19980</th>\n",
       "      <td>0.0</td>\n",
       "    </tr>\n",
       "    <tr>\n",
       "      <th>19981</th>\n",
       "      <td>0.0</td>\n",
       "    </tr>\n",
       "    <tr>\n",
       "      <th>19982</th>\n",
       "      <td>1.0</td>\n",
       "    </tr>\n",
       "    <tr>\n",
       "      <th>19983</th>\n",
       "      <td>1.0</td>\n",
       "    </tr>\n",
       "    <tr>\n",
       "      <th>19984</th>\n",
       "      <td>1.0</td>\n",
       "    </tr>\n",
       "    <tr>\n",
       "      <th>19985</th>\n",
       "      <td>1.0</td>\n",
       "    </tr>\n",
       "    <tr>\n",
       "      <th>19986</th>\n",
       "      <td>1.0</td>\n",
       "    </tr>\n",
       "    <tr>\n",
       "      <th>19987</th>\n",
       "      <td>1.0</td>\n",
       "    </tr>\n",
       "    <tr>\n",
       "      <th>19988</th>\n",
       "      <td>1.0</td>\n",
       "    </tr>\n",
       "    <tr>\n",
       "      <th>19989</th>\n",
       "      <td>1.0</td>\n",
       "    </tr>\n",
       "    <tr>\n",
       "      <th>19990</th>\n",
       "      <td>0.0</td>\n",
       "    </tr>\n",
       "    <tr>\n",
       "      <th>19991</th>\n",
       "      <td>1.0</td>\n",
       "    </tr>\n",
       "    <tr>\n",
       "      <th>19992</th>\n",
       "      <td>1.0</td>\n",
       "    </tr>\n",
       "    <tr>\n",
       "      <th>19993</th>\n",
       "      <td>0.0</td>\n",
       "    </tr>\n",
       "    <tr>\n",
       "      <th>19994</th>\n",
       "      <td>1.0</td>\n",
       "    </tr>\n",
       "    <tr>\n",
       "      <th>19995</th>\n",
       "      <td>1.0</td>\n",
       "    </tr>\n",
       "    <tr>\n",
       "      <th>19996</th>\n",
       "      <td>1.0</td>\n",
       "    </tr>\n",
       "    <tr>\n",
       "      <th>19997</th>\n",
       "      <td>0.0</td>\n",
       "    </tr>\n",
       "    <tr>\n",
       "      <th>19998</th>\n",
       "      <td>1.0</td>\n",
       "    </tr>\n",
       "    <tr>\n",
       "      <th>19999</th>\n",
       "      <td>1.0</td>\n",
       "    </tr>\n",
       "  </tbody>\n",
       "</table>\n",
       "<p>19750 rows × 1 columns</p>\n",
       "</div>"
      ],
      "text/plain": [
       "       target\n",
       "id           \n",
       "250       1.0\n",
       "251       1.0\n",
       "252       0.0\n",
       "253       1.0\n",
       "254       1.0\n",
       "255       0.0\n",
       "256       1.0\n",
       "257       1.0\n",
       "258       1.0\n",
       "259       0.0\n",
       "260       1.0\n",
       "261       1.0\n",
       "262       1.0\n",
       "263       1.0\n",
       "264       0.0\n",
       "265       1.0\n",
       "266       1.0\n",
       "267       1.0\n",
       "268       1.0\n",
       "269       1.0\n",
       "270       0.0\n",
       "271       1.0\n",
       "272       1.0\n",
       "273       0.0\n",
       "274       1.0\n",
       "275       1.0\n",
       "276       0.0\n",
       "277       1.0\n",
       "278       1.0\n",
       "279       1.0\n",
       "...       ...\n",
       "19970     1.0\n",
       "19971     1.0\n",
       "19972     1.0\n",
       "19973     0.0\n",
       "19974     1.0\n",
       "19975     1.0\n",
       "19976     1.0\n",
       "19977     1.0\n",
       "19978     1.0\n",
       "19979     1.0\n",
       "19980     0.0\n",
       "19981     0.0\n",
       "19982     1.0\n",
       "19983     1.0\n",
       "19984     1.0\n",
       "19985     1.0\n",
       "19986     1.0\n",
       "19987     1.0\n",
       "19988     1.0\n",
       "19989     1.0\n",
       "19990     0.0\n",
       "19991     1.0\n",
       "19992     1.0\n",
       "19993     0.0\n",
       "19994     1.0\n",
       "19995     1.0\n",
       "19996     1.0\n",
       "19997     0.0\n",
       "19998     1.0\n",
       "19999     1.0\n",
       "\n",
       "[19750 rows x 1 columns]"
      ]
     },
     "execution_count": 21,
     "metadata": {},
     "output_type": "execute_result"
    }
   ],
   "source": [
    "submission_result"
   ]
  },
  {
   "cell_type": "code",
   "execution_count": null,
   "metadata": {},
   "outputs": [],
   "source": [
    "#重要度のやつ\n",
    "\n",
    "\n",
    "features = train.columns\n",
    "# create a feature map\n",
    "outfile = open('xgb.fmap', 'w')\n",
    "i = 0\n",
    "for feat in features:\n",
    "    outfile.write('{0}\\t{1}\\tq\\n'.format(i, feat))\n",
    "    i = i + 1\n",
    "outfile.close()\n",
    "\n",
    "# plot feature importance\n",
    "importance = gbm.get_fscore(fmap='xgb.fmap')\n",
    "importance = sorted(importance.items(), key=operator.itemgetter(1))\n",
    "df = pd.DataFrame(importance, columns=['feature', 'fscore'])\n",
    "df['fscore'] = df['fscore'] / df['fscore'].sum()\n",
    "plt.figure()\n",
    "df.plot()\n",
    "df.plot(kind='barh', x='feature', y='fscore', legend=False, figsize=(6, 20))\n",
    "plt.title('XGBoost Feature Importance')\n",
    "plt.xlabel('relative importance')\n",
    "plt.gcf().savefig('feature_importance_xgb.png')\n",
    "\n"
   ]
  },
  {
   "cell_type": "code",
   "execution_count": null,
   "metadata": {},
   "outputs": [],
   "source": []
  },
  {
   "cell_type": "code",
   "execution_count": 31,
   "metadata": {},
   "outputs": [
    {
     "data": {
      "text/plain": [
       "XGBClassifier(base_score=0.5, booster='gbtree', colsample_bylevel=1,\n",
       "       colsample_bytree=1, gamma=0, learning_rate=0.1, max_delta_step=0,\n",
       "       max_depth=3, min_child_weight=1, missing=None, n_estimators=100,\n",
       "       n_jobs=1, nthread=None, objective='binary:logistic', random_state=2,\n",
       "       reg_alpha=0, reg_lambda=1, scale_pos_weight=1, seed=None,\n",
       "       silent=True, subsample=1)"
      ]
     },
     "execution_count": 31,
     "metadata": {},
     "output_type": "execute_result"
    }
   ],
   "source": [
    "\n",
    "#使うデータの前処理\n",
    "train_xgb = xgb.DMatrix(df.drop('Survived', axis=1), df.Survived)\n",
    "test_xgb  = xgb.DMatrix(df_test)\n",
    "    \n",
    "#最適化するパラメータを設定\n",
    "params = {\n",
    "     'n_estimators': 100,\n",
    "     'gamma': 0,\n",
    "     'reg_lambda': 1,\n",
    "      #'max_depth': trial.suggest_int('max_depth', 2, 32)\n",
    "}\n",
    "    \n",
    "#モデルの定義\n",
    "model = xgb.XGBClassifier(random_state=2,**params)\n",
    "model.fit(df.drop('Survived', axis=1), df.Survived)\n",
    "    \n",
    "# kf = StratifiedKFold(n_splits=5, shuffle=True, random_state=2)\n",
    "# scores = cross_validate(model, X=X, y=y, cv=kf, scoring='accuracy')\n",
    "    \n",
    "# return 1.0 - scores['test_score'].mean()"
   ]
  }
 ],
 "metadata": {
  "kernelspec": {
   "display_name": "Python 3",
   "language": "python",
   "name": "python3"
  },
  "language_info": {
   "codemirror_mode": {
    "name": "ipython",
    "version": 3
   },
   "file_extension": ".py",
   "mimetype": "text/x-python",
   "name": "python",
   "nbconvert_exporter": "python",
   "pygments_lexer": "ipython3",
   "version": "3.6.5"
  }
 },
 "nbformat": 4,
 "nbformat_minor": 2
}
